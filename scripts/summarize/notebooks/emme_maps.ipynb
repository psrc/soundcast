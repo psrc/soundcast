{
 "cells": [
  {
   "cell_type": "markdown",
   "metadata": {
    "collapsed": true
   },
   "source": [
    "Compare the all-day network results versus a user-defined base case scenario."
   ]
  },
  {
   "cell_type": "code",
   "execution_count": 56,
   "metadata": {
    "collapsed": false
   },
   "outputs": [],
   "source": [
    "# Open a new project and load all day network\n",
    "import os\n",
    "import inro\n",
    "import inro.modeller as _m\n",
    "import inro.emme.desktop.app as app\n",
    "\n",
    "# Open the daily project and bank (using 7to8 for now because daily project isn't available)\n",
    "filepath = os.path.abspath(os.getcwd() + \"/../projects/7to8/7to8.emp\")\n",
    "my_app = app.start_dedicated(True, \"bgn\", filepath)"
   ]
  },
  {
   "cell_type": "markdown",
   "metadata": {},
   "source": [
    "Set path to the base scenario all-day bank"
   ]
  },
  {
   "cell_type": "code",
   "execution_count": 57,
   "metadata": {
    "collapsed": true
   },
   "outputs": [],
   "source": [
    "base_bank = r'R:\\SoundCast\\releases\\soundcast_release_c1\\Banks\\Daily\\emmebank'"
   ]
  },
  {
   "cell_type": "code",
   "execution_count": 58,
   "metadata": {
    "collapsed": false
   },
   "outputs": [],
   "source": [
    "# Set spatial reference to integrate with a web basemap\n",
    "spatial_reference = r'C:\\Users\\Brice\\soundcast\\inputs\\nad1983_fips4601_ft.prj'\n",
    "my_app.project._Project__ref.set_parameter_value(\"SpatialReferenceFile\", spatial_reference)"
   ]
  },
  {
   "cell_type": "code",
   "execution_count": 4,
   "metadata": {
    "collapsed": false
   },
   "outputs": [
    {
     "data": {
      "text/plain": [
       "'C:\\\\Users\\\\Brice\\\\soundcast'"
      ]
     },
     "execution_count": 4,
     "metadata": {},
     "output_type": "execute_result"
    }
   ],
   "source": [
    "import os\n",
    "os.path.abspath(os.getcwd() + \"/..\")"
   ]
  },
  {
   "cell_type": "code",
   "execution_count": 5,
   "metadata": {
    "collapsed": true
   },
   "outputs": [],
   "source": [
    "data_explorer = my_app.data_explorer()"
   ]
  },
  {
   "cell_type": "code",
   "execution_count": 6,
   "metadata": {
    "collapsed": false
   },
   "outputs": [
    {
     "ename": "AddDatabaseError",
     "evalue": "Database \"R:\\SoundCast\\releases\\soundcast_release_c1\\Banks\\Daily\\emmebank\" is already included in the project.",
     "output_type": "error",
     "traceback": [
      "\u001b[1;31m---------------------------------------------------------------------------\u001b[0m",
      "\u001b[1;31mAddDatabaseError\u001b[0m                          Traceback (most recent call last)",
      "\u001b[1;32m<ipython-input-6-610508d9fa5a>\u001b[0m in \u001b[0;36m<module>\u001b[1;34m()\u001b[0m\n\u001b[0;32m      1\u001b[0m \u001b[1;31m# Add base database\u001b[0m\u001b[1;33m\u001b[0m\u001b[1;33m\u001b[0m\u001b[0m\n\u001b[1;32m----> 2\u001b[1;33m \u001b[0mdata_explorer\u001b[0m\u001b[1;33m.\u001b[0m\u001b[0madd_database\u001b[0m\u001b[1;33m(\u001b[0m\u001b[0mbase_bank\u001b[0m\u001b[1;33m)\u001b[0m\u001b[1;33m\u001b[0m\u001b[0m\n\u001b[0m",
      "\u001b[1;32mC:\\Program Files\\INRO\\Emme\\Emme 4\\Emme-4.2.1\\python-lib\\win64\\2.7\\api\\inro\\emme\\desktop\\data.pyc\u001b[0m in \u001b[0;36madd_database\u001b[1;34m(self, path)\u001b[0m\n",
      "\u001b[1;32mC:\\Program Files\\INRO\\Emme\\Emme 4\\Emme-4.2.1\\python-lib\\win64\\2.7\\api\\inro\\emme\\desktop\\core\\emme_object.pyc\u001b[0m in \u001b[0;36mcall\u001b[1;34m(self, return_type, *args)\u001b[0m\n",
      "\u001b[1;32mC:\\Program Files\\INRO\\Emme\\Emme 4\\Emme-4.2.1\\python-lib\\win64\\2.7\\api\\inro\\emme\\desktop\\core\\automation_client.pyc\u001b[0m in \u001b[0;36mcall\u001b[1;34m(self, return_type, *args)\u001b[0m\n",
      "\u001b[1;32mC:\\Program Files\\INRO\\Emme\\Emme 4\\Emme-4.2.1\\python-lib\\win64\\2.7\\api\\inro\\emme\\desktop\\core\\rpc_client.pyc\u001b[0m in \u001b[0;36mcall\u001b[1;34m(self, return_value_type, *args)\u001b[0m\n",
      "\u001b[1;32mC:\\Program Files\\INRO\\Emme\\Emme 4\\Emme-4.2.1\\python-lib\\win64\\2.7\\api\\inro\\emme\\desktop\\core\\rpc_client.pyc\u001b[0m in \u001b[0;36mraw_call\u001b[1;34m(self, argument_stream)\u001b[0m\n",
      "\u001b[1;31mAddDatabaseError\u001b[0m: Database \"R:\\SoundCast\\releases\\soundcast_release_c1\\Banks\\Daily\\emmebank\" is already included in the project."
     ]
    }
   ],
   "source": [
    "# Add base database\n",
    "data_explorer.add_database(base_bank)"
   ]
  },
  {
   "cell_type": "code",
   "execution_count": null,
   "metadata": {
    "collapsed": false
   },
   "outputs": [],
   "source": [
    "# Cycle through databases\n",
    "for db in data_explorer.databases():\n",
    "    if db.name() == '7to8':\n",
    "        scen = db.scenario_by_number(1002)    # Return an instance of Scenario\n",
    "        print scen.title()"
   ]
  },
  {
   "cell_type": "code",
   "execution_count": null,
   "metadata": {
    "collapsed": false
   },
   "outputs": [],
   "source": [
    "# copy scenario from the base db\n",
    "import inro.emme.database.emmebank as _emmebank\n",
    "with _emmebank.Emmebank(base_bank) as emmebank:\n",
    "    pass\n",
    "#     for scenario in emmebank.scenarios():\n",
    "#         print scenario.attributes\n",
    "    emmebank.copy_scenario(1002,9998)"
   ]
  },
  {
   "cell_type": "code",
   "execution_count": null,
   "metadata": {
    "collapsed": false
   },
   "outputs": [],
   "source": [
    "# Desktop stuff\n",
    "print my_app.version"
   ]
  },
  {
   "cell_type": "code",
   "execution_count": null,
   "metadata": {
    "collapsed": false
   },
   "outputs": [],
   "source": [
    "my_app.port"
   ]
  },
  {
   "cell_type": "code",
   "execution_count": null,
   "metadata": {
    "collapsed": true
   },
   "outputs": [],
   "source": [
    "################\n",
    "# need to import a scenario from another db..."
   ]
  },
  {
   "cell_type": "code",
   "execution_count": 39,
   "metadata": {
    "collapsed": true
   },
   "outputs": [],
   "source": [
    "# Start an instance of Modeller\n",
    "m = _m.Modeller(my_app)"
   ]
  },
  {
   "cell_type": "code",
   "execution_count": 40,
   "metadata": {
    "collapsed": false
   },
   "outputs": [
    {
     "ename": "Error",
     "evalue": "Could not open Emme database 'Q:/2040_soundcast_notoll/soundcast/Banks/Daily/emmebank': Lock file 'emlocki' exists",
     "output_type": "error",
     "traceback": [
      "\u001b[1;31m---------------------------------------------------------------------------\u001b[0m",
      "\u001b[1;31mError\u001b[0m                                     Traceback (most recent call last)",
      "\u001b[1;32m<ipython-input-40-74878978a35a>\u001b[0m in \u001b[0;36m<module>\u001b[1;34m()\u001b[0m\n\u001b[0;32m      1\u001b[0m \u001b[1;31m# Define a tool to import the base scenario into the current project\u001b[0m\u001b[1;33m\u001b[0m\u001b[1;33m\u001b[0m\u001b[0m\n\u001b[1;32m----> 2\u001b[1;33m \u001b[0mimport_from_db\u001b[0m \u001b[1;33m=\u001b[0m \u001b[0mm\u001b[0m\u001b[1;33m.\u001b[0m\u001b[0mtool\u001b[0m\u001b[1;33m(\u001b[0m\u001b[1;34m\"inro.emme.data.database.import_from_database\"\u001b[0m\u001b[1;33m)\u001b[0m\u001b[1;33m\u001b[0m\u001b[0m\n\u001b[0m",
      "\u001b[1;32mC:\\Program Files\\INRO\\Emme\\Emme 4\\Emme-4.2.1\\python-lib\\win64\\2.7\\modeller\\inro.director.application\\inro\\director\\application\\session.pyc\u001b[0m in \u001b[0;36mtool\u001b[1;34m(self, namespace, kwargs)\u001b[0m\n",
      "\u001b[1;32mC:\\Program Files\\INRO\\Emme\\Emme 4\\Emme-4.2.1\\python-lib\\win64\\2.7\\modeller\\inro.director.toolbox\\inro\\director\\toolbox\\repository.pyc\u001b[0m in \u001b[0;36mload_tool\u001b[1;34m(self, namespace, **kwargs)\u001b[0m\n",
      "\u001b[1;32mC:\\Program Files\\INRO\\Emme\\Emme 4\\Emme-4.2.1\\python-lib\\win64\\2.7\\modeller\\inro.director.toolbox\\inro\\director\\toolbox\\repository.pyc\u001b[0m in \u001b[0;36mload_tool\u001b[1;34m(self, namespace, kwargs)\u001b[0m\n",
      "\u001b[1;32mC:\\Program Files\\INRO\\Emme\\Emme 4\\Emme-4.2.1\\python-lib\\win64\\2.7\\modeller\\inro.director.toolbox\\inro\\director\\toolbox\\repository.pyc\u001b[0m in \u001b[0;36mload_tool_from_id\u001b[1;34m(self, element_id, namespace, kwargs)\u001b[0m\n",
      "\u001b[1;32mC:/Users/Brice/AppData/Local/Temp/import_from_database-bc0e4fcf2bf311e58ddab8ca3a7c5f2c.pyc\u001b[0m in \u001b[0;36m__init__\u001b[1;34m(self)\u001b[0m\n",
      "\u001b[1;32mC:/Users/Brice/AppData/Local/Temp/snapshot_support-bc1a0f9e2bf311e59ba1b8ca3a7c5f2c.pyc\u001b[0m in \u001b[0;36mcurrent_scenario\u001b[1;34m(self)\u001b[0m\n",
      "\u001b[1;32mC:\\Program Files\\INRO\\Emme\\Emme 4\\Emme-4.2.1\\python-lib\\win64\\2.7\\modeller\\inro.director.emme\\inro\\director\\emme\\proxies.pyc\u001b[0m in \u001b[0;36m__scenario\u001b[1;34m(self)\u001b[0m\n",
      "\u001b[1;32mC:\\Program Files\\INRO\\Emme\\Emme 4\\Emme-4.2.1\\python-lib\\win64\\2.7\\api\\inro\\emme\\database\\emmebank.pyc\u001b[0m in \u001b[0;36m__init__\u001b[1;34m(self, path, **kwargs)\u001b[0m\n",
      "\u001b[1;31mError\u001b[0m: Could not open Emme database 'Q:/2040_soundcast_notoll/soundcast/Banks/Daily/emmebank': Lock file 'emlocki' exists"
     ]
    }
   ],
   "source": [
    "# Define a tool to import the base scenario into the current project\n",
    "import_from_db = m.tool(\"inro.emme.data.database.import_from_database\")"
   ]
  },
  {
   "cell_type": "code",
   "execution_count": 37,
   "metadata": {
    "collapsed": false
   },
   "outputs": [
    {
     "ename": "NameError",
     "evalue": "name 'import_from_db' is not defined",
     "output_type": "error",
     "traceback": [
      "\u001b[1;31m---------------------------------------------------------------------------\u001b[0m",
      "\u001b[1;31mNameError\u001b[0m                                 Traceback (most recent call last)",
      "\u001b[1;32m<ipython-input-37-7efdef6d9f13>\u001b[0m in \u001b[0;36m<module>\u001b[1;34m()\u001b[0m\n\u001b[0;32m      2\u001b[0m \u001b[1;33m\u001b[0m\u001b[0m\n\u001b[0;32m      3\u001b[0m \u001b[1;31m# Import scenario if it hasn't already been imported\u001b[0m\u001b[1;33m\u001b[0m\u001b[1;33m\u001b[0m\u001b[0m\n\u001b[1;32m----> 4\u001b[1;33m import_base_scen = import_from_db(src_database=base_bank,\n\u001b[0m\u001b[0;32m      5\u001b[0m                      \u001b[0msrc_scenario_ids\u001b[0m\u001b[1;33m=\u001b[0m\u001b[1;36m1002\u001b[0m\u001b[1;33m,\u001b[0m\u001b[1;33m\u001b[0m\u001b[0m\n\u001b[0;32m      6\u001b[0m                       increment_scenario_ids=5000)\n",
      "\u001b[1;31mNameError\u001b[0m: name 'import_from_db' is not defined"
     ]
    }
   ],
   "source": [
    "base_scen_id = 1002\n",
    "increment = 8000    # Assuming current scenario is 1xxx, so base scenario will be imported as 9xxx\n",
    "\n",
    "# Import scenario if it hasn't already been imported\n",
    "import_base_scen = import_from_db(src_database=base_bank,\n",
    "                     src_scenario_ids=base_scen_id,\n",
    "                      increment_scenario_ids=increment)\n"
   ]
  },
  {
   "cell_type": "code",
   "execution_count": null,
   "metadata": {
    "collapsed": true
   },
   "outputs": [],
   "source": [
    "# Open the scenario\n",
    "for db in data_explorer.databases():\n",
    "    if db.name() == 'daily':\n",
    "        scen = db.scenario_by_number(4002)    # Return an instance of Scenario\n",
    "        data_explorer.open_scenario(scen)"
   ]
  },
  {
   "cell_type": "code",
   "execution_count": 19,
   "metadata": {
    "collapsed": true
   },
   "outputs": [],
   "source": [
    "# Delete any other scenarios if they exist"
   ]
  },
  {
   "cell_type": "code",
   "execution_count": 44,
   "metadata": {
    "collapsed": false
   },
   "outputs": [
    {
     "name": "stdout",
     "output_type": "stream",
     "text": [
      "General worksheet\n"
     ]
    }
   ],
   "source": [
    "# Try to import the worksheets directly to the ipython notebook\n",
    "my_worksheet = my_app.current_window()\n",
    "print my_worksheet.par(\"Name\").get()"
   ]
  },
  {
   "cell_type": "code",
   "execution_count": 53,
   "metadata": {
    "collapsed": false
   },
   "outputs": [
    {
     "name": "stdout",
     "output_type": "stream",
     "text": [
      "Compare links Worksheet\n",
      "Compare links NetworkTable\n"
     ]
    }
   ],
   "source": [
    "root_worksheet_folder = my_app.root_worksheet_folder()\n",
    "worksheet_path = [\"General\", \"Results Analysis\", \"Scenario comparison\", \"Compare traffic volumes and times\"]\n",
    "worksheet_item = root_worksheet_folder.find_item(worksheet_path)\n",
    "\n",
    "worksheet_path = [\"General\", \"Network\", \"Scenario comparison\", \"Compare links\"]\n",
    "worksheet_item_list = root_worksheet_folder.find_items(worksheet_path)\n",
    "for item in worksheet_item_list :\n",
    "    print item.name(), item.type_name()"
   ]
  },
  {
   "cell_type": "code",
   "execution_count": 49,
   "metadata": {
    "collapsed": false
   },
   "outputs": [
    {
     "ename": "AttributeError",
     "evalue": "'list' object has no attribute 'open'",
     "output_type": "error",
     "traceback": [
      "\u001b[1;31m---------------------------------------------------------------------------\u001b[0m",
      "\u001b[1;31mAttributeError\u001b[0m                            Traceback (most recent call last)",
      "\u001b[1;32m<ipython-input-49-864fb271a0c3>\u001b[0m in \u001b[0;36m<module>\u001b[1;34m()\u001b[0m\n\u001b[0;32m      1\u001b[0m \u001b[1;31m# How much zonal mapping can we show?\u001b[0m\u001b[1;33m\u001b[0m\u001b[1;33m\u001b[0m\u001b[0m\n\u001b[0;32m      2\u001b[0m \u001b[0mbase_network_nodeboxes_i\u001b[0m \u001b[1;33m=\u001b[0m \u001b[0mroot_worksheet_folder\u001b[0m\u001b[1;33m.\u001b[0m\u001b[0mfind_items\u001b[0m\u001b[1;33m(\u001b[0m\u001b[0mworksheet_path\u001b[0m\u001b[1;33m)\u001b[0m\u001b[1;33m\u001b[0m\u001b[0m\n\u001b[1;32m----> 3\u001b[1;33m \u001b[0mbase_network_nodeboxes_ws\u001b[0m \u001b[1;33m=\u001b[0m \u001b[0mbase_network_nodeboxes_i\u001b[0m\u001b[1;33m.\u001b[0m\u001b[0mopen\u001b[0m\u001b[1;33m(\u001b[0m\u001b[1;33m)\u001b[0m\u001b[1;33m\u001b[0m\u001b[0m\n\u001b[0m",
      "\u001b[1;31mAttributeError\u001b[0m: 'list' object has no attribute 'open'"
     ]
    }
   ],
   "source": []
  },
  {
   "cell_type": "code",
   "execution_count": null,
   "metadata": {
    "collapsed": true
   },
   "outputs": [],
   "source": []
  }
 ],
 "metadata": {
  "kernelspec": {
   "display_name": "Python 2",
   "language": "python",
   "name": "python2"
  },
  "language_info": {
   "codemirror_mode": {
    "name": "ipython",
    "version": 2
   },
   "file_extension": ".py",
   "mimetype": "text/x-python",
   "name": "python",
   "nbconvert_exporter": "python",
   "pygments_lexer": "ipython2",
   "version": "2.7.10"
  }
 },
 "nbformat": 4,
 "nbformat_minor": 0
}
