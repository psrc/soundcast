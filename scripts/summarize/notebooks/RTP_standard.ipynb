{
 "cells": [
  {
   "cell_type": "code",
   "execution_count": 1,
   "id": "9abe6ac3",
   "metadata": {
    "execution": {
     "iopub.execute_input": "2024-04-03T17:36:52.082328Z",
     "iopub.status.busy": "2024-04-03T17:36:52.082328Z",
     "iopub.status.idle": "2024-04-03T17:36:53.066465Z",
     "shell.execute_reply": "2024-04-03T17:36:53.066465Z"
    }
   },
   "outputs": [],
   "source": [
    "import os, sys, time, shutil\n",
    "import warnings\n",
    "import numpy as np\n",
    "warnings.simplefilter(action='ignore', category=FutureWarning)\n",
    "import pandas as pd\n",
    "pd.options.mode.chained_assignment = None\n",
    "import h5py\n",
    "\n",
    "%matplotlib inline\n",
    "\n",
    "from IPython.display import display, HTML\n",
    "\n",
    "if (sys.version_info < (3, 0)):\n",
    "    HTML('''<script>\n",
    "    code_show=true; \n",
    "    function code_toggle() {\n",
    "     if (code_show){\n",
    "     $('div.input').hide();\n",
    "     } else {\n",
    "     $('div.input').show();\n",
    "     }\n",
    "     code_show = !code_show\n",
    "    } \n",
    "    $( document ).ready(code_toggle);\n",
    "    </script>\n",
    "    <form action=\"javascript:code_toggle()\"><input type=\"submit\" value=\"Click here to toggle on/off the raw code.\"></form>''')\n"
   ]
  },
  {
   "cell_type": "code",
   "execution_count": 2,
   "id": "c936937e",
   "metadata": {
    "execution": {
     "iopub.execute_input": "2024-04-03T17:36:53.066465Z",
     "iopub.status.busy": "2024-04-03T17:36:53.066465Z",
     "iopub.status.idle": "2024-04-03T17:36:53.081998Z",
     "shell.execute_reply": "2024-04-03T17:36:53.081998Z"
    }
   },
   "outputs": [],
   "source": [
    "CSS = \"\"\"\n",
    ".output {\n",
    "    flex-direction: row;\n",
    "}\n",
    "\"\"\"\n",
    "\n",
    "HTML('<style>{}</style>'.format(CSS))\n",
    "\n",
    "# Relative path between notebooks and goruped output directories\n",
    "relative_path = '../../../outputs'\n",
    "survey_path = '../../../inputs/base_year/survey'"
   ]
  },
  {
   "cell_type": "code",
   "execution_count": 3,
   "id": "48260599",
   "metadata": {
    "execution": {
     "iopub.execute_input": "2024-04-03T17:36:53.081998Z",
     "iopub.status.busy": "2024-04-03T17:36:53.081998Z",
     "iopub.status.idle": "2024-04-03T17:36:53.097709Z",
     "shell.execute_reply": "2024-04-03T17:36:53.097709Z"
    }
   },
   "outputs": [],
   "source": [
    "pd.options.display.float_format = '{:0,.0f}'.format"
   ]
  },
  {
   "cell_type": "code",
   "execution_count": 4,
   "id": "9dcfa537",
   "metadata": {
    "execution": {
     "iopub.execute_input": "2024-04-03T17:36:53.097709Z",
     "iopub.status.busy": "2024-04-03T17:36:53.097709Z",
     "iopub.status.idle": "2024-04-03T17:36:53.175723Z",
     "shell.execute_reply": "2024-04-03T17:36:53.175723Z"
    }
   },
   "outputs": [],
   "source": [
    "def load_network_summary(filepath):\n",
    "    \"\"\"Load network-level results using a standard procedure. \"\"\"\n",
    "    df = pd.read_csv(filepath)\n",
    "\n",
    "    # Congested network components by time of day\n",
    "    df.columns\n",
    "\n",
    "    # Get freeflow from 20to5 period\n",
    "\n",
    "    # Exclude trips taken on non-designated facilities (facility_type == 0)\n",
    "    # These are artificial (weave lanes to connect HOV) or for non-auto uses \n",
    "    df = df[df['data3'] != 0]    # data3 represents facility_type\n",
    "\n",
    "    # calculate total link VMT and VHT\n",
    "    df['VMT'] = df['@tveh']*df['length']\n",
    "    df['VHT'] = df['@tveh']*df['auto_time']/60\n",
    "\n",
    "    # Define facility type\n",
    "    df.loc[df['data3'].isin([1,2]), 'facility_type'] = 'highway'\n",
    "    df.loc[df['data3'].isin([3,4,6]), 'facility_type'] = 'arterial'\n",
    "    df.loc[df['data3'].isin([5]), 'facility_type'] = 'connector'\n",
    "\n",
    "    # Calculate delay\n",
    "    # Select links from overnight time of day\n",
    "    delay_df = df.loc[df['tod'] == '20to5'][['ij','auto_time']]\n",
    "    delay_df.rename(columns={'auto_time':'freeflow_time'}, inplace=True)\n",
    "\n",
    "    # Merge delay field back onto network link df\n",
    "    df = pd.merge(df, delay_df, on='ij', how='left')\n",
    "\n",
    "    # Calcualte hourly delay\n",
    "    df['total_delay'] = ((df['auto_time']-df['freeflow_time'])*df['@tveh'])/60    # sum of (volume)*(travtime diff from freeflow)\n",
    "\n",
    "    df['county'] =df['@countyid'].map({33: 'King',\n",
    "                                      35: 'Kitsap',\n",
    "                                      53: 'Pierce',\n",
    "                                      61: 'Snohomish'})\n",
    "    df['county'].fillna('Outside Region', inplace=True)\n",
    "    \n",
    "    return df"
   ]
  },
  {
   "cell_type": "code",
   "execution_count": 5,
   "id": "730ef5ba",
   "metadata": {
    "execution": {
     "iopub.execute_input": "2024-04-03T17:36:53.175723Z",
     "iopub.status.busy": "2024-04-03T17:36:53.175723Z",
     "iopub.status.idle": "2024-04-03T17:36:53.191345Z",
     "shell.execute_reply": "2024-04-03T17:36:53.191345Z"
    }
   },
   "outputs": [],
   "source": [
    "# Create outputs dir \n",
    "dir = r'..\\..\\..\\outputs\\compare\\RTP\\standard'\n",
    "if os.path.exists(dir):\n",
    "    shutil.rmtree(dir)\n",
    "os.makedirs(dir)"
   ]
  },
  {
   "cell_type": "markdown",
   "id": "88140830",
   "metadata": {},
   "source": [
    "# Households and Population"
   ]
  },
  {
   "cell_type": "code",
   "execution_count": 6,
   "id": "c1cf7a0e",
   "metadata": {
    "execution": {
     "iopub.execute_input": "2024-04-03T17:36:53.191345Z",
     "iopub.status.busy": "2024-04-03T17:36:53.191345Z",
     "iopub.status.idle": "2024-04-03T17:36:53.253831Z",
     "shell.execute_reply": "2024-04-03T17:36:53.253831Z"
    }
   },
   "outputs": [
    {
     "data": {
      "text/html": [
       "<table border=\"1\" class=\"dataframe\">\n",
       "  <thead>\n",
       "    <tr style=\"text-align: right;\">\n",
       "      <th>County</th>\n",
       "      <th>Households</th>\n",
       "      <th>Population</th>\n",
       "    </tr>\n",
       "  </thead>\n",
       "  <tbody>\n",
       "    <tr>\n",
       "      <td>King</td>\n",
       "      <td>866,673</td>\n",
       "      <td>2,303,851</td>\n",
       "    </tr>\n",
       "    <tr>\n",
       "      <td>Kitsap</td>\n",
       "      <td>39,114</td>\n",
       "      <td>275,120</td>\n",
       "    </tr>\n",
       "    <tr>\n",
       "      <td>Pierce</td>\n",
       "      <td>196,913</td>\n",
       "      <td>925,555</td>\n",
       "    </tr>\n",
       "    <tr>\n",
       "      <td>Snohomish</td>\n",
       "      <td>187,282</td>\n",
       "      <td>851,485</td>\n",
       "    </tr>\n",
       "    <tr>\n",
       "      <td>Total</td>\n",
       "      <td>1,289,982</td>\n",
       "      <td>4,356,019</td>\n",
       "    </tr>\n",
       "  </tbody>\n",
       "</table>"
      ],
      "text/plain": [
       "<IPython.core.display.HTML object>"
      ]
     },
     "execution_count": 6,
     "metadata": {},
     "output_type": "execute_result"
    }
   ],
   "source": [
    "# Total Population\n",
    "# Load Network Summary sheet from network_summary_detailed\n",
    "df = pd.read_csv(os.path.join(relative_path,'agg/dash',r'pptyp_county.csv'))\n",
    "df = df.groupby('person_county').sum()[['psexpfac']]\n",
    "df.loc['Total',:] = df.sum()\n",
    "df = df.reset_index()\n",
    "df.rename(columns={'psexpfac': 'Population', 'person_county': 'County'}, inplace=True)\n",
    "df_hh = pd.read_csv(os.path.join(relative_path,'agg/dash',r'hh_geog.csv'))\n",
    "df_hh = df_hh.groupby('hh_county').sum()[['hhexpfac']]\n",
    "df_hh.loc['Total',:] = df_hh.sum()\n",
    "df_hh = df_hh.reset_index()\n",
    "df_hh.rename(columns={'hhexpfac': 'Households', 'hh_county': 'County'}, inplace=True)\n",
    "\n",
    "df = df_hh.merge(df, on='County')\n",
    "df.to_csv(os.path.join(os.getcwd(), r'..\\..\\..\\outputs\\compare\\RTP\\standard','1_total_population.csv'),\n",
    "         index=False)\n",
    "HTML(df.to_html(index=False))"
   ]
  },
  {
   "cell_type": "markdown",
   "id": "21e30c06",
   "metadata": {},
   "source": [
    "# Employment\n",
    "By Workplace Location"
   ]
  },
  {
   "cell_type": "code",
   "execution_count": 7,
   "id": "622a7737",
   "metadata": {
    "execution": {
     "iopub.execute_input": "2024-04-03T17:36:53.253831Z",
     "iopub.status.busy": "2024-04-03T17:36:53.253831Z",
     "iopub.status.idle": "2024-04-03T17:36:53.269454Z",
     "shell.execute_reply": "2024-04-03T17:36:53.269454Z"
    }
   },
   "outputs": [
    {
     "data": {
      "text/html": [
       "<table border=\"1\" class=\"dataframe\">\n",
       "  <thead>\n",
       "    <tr style=\"text-align: right;\">\n",
       "      <th>County</th>\n",
       "      <th>Population</th>\n",
       "    </tr>\n",
       "  </thead>\n",
       "  <tbody>\n",
       "    <tr>\n",
       "      <td>King</td>\n",
       "      <td>1,273,680</td>\n",
       "    </tr>\n",
       "    <tr>\n",
       "      <td>Kitsap</td>\n",
       "      <td>84,057</td>\n",
       "    </tr>\n",
       "    <tr>\n",
       "      <td>Pierce</td>\n",
       "      <td>305,156</td>\n",
       "    </tr>\n",
       "    <tr>\n",
       "      <td>Snohomish</td>\n",
       "      <td>285,123</td>\n",
       "    </tr>\n",
       "    <tr>\n",
       "      <td>Total</td>\n",
       "      <td>1,948,016</td>\n",
       "    </tr>\n",
       "  </tbody>\n",
       "</table>"
      ],
      "text/plain": [
       "<IPython.core.display.HTML object>"
      ]
     },
     "execution_count": 7,
     "metadata": {},
     "output_type": "execute_result"
    }
   ],
   "source": [
    "df = pd.read_csv(os.path.join(relative_path,'agg/dash',r'person_worker_type.csv'))\n",
    "df = df.groupby('person_work_county').sum()[['psexpfac']]\n",
    "df.loc['Total',:] = df.sum()\n",
    "df = df.reset_index()\n",
    "df.rename(columns={'psexpfac': 'Population', 'person_work_county': 'County'}, inplace=True)\n",
    "df.to_csv(os.path.join(os.getcwd(), r'..\\..\\..\\outputs\\compare\\RTP\\standard','2_total_employment.csv'))\n",
    "HTML(df.to_html(index=False))"
   ]
  },
  {
   "cell_type": "markdown",
   "id": "39cd85f2",
   "metadata": {},
   "source": [
    "# Vehicle Miles Traveled\n",
    "Includes truck and external trips"
   ]
  },
  {
   "cell_type": "code",
   "execution_count": 8,
   "id": "275da24b",
   "metadata": {
    "execution": {
     "iopub.execute_input": "2024-04-03T17:36:53.269454Z",
     "iopub.status.busy": "2024-04-03T17:36:53.269454Z",
     "iopub.status.idle": "2024-04-03T17:37:03.345350Z",
     "shell.execute_reply": "2024-04-03T17:37:03.345350Z"
    }
   },
   "outputs": [
    {
     "data": {
      "text/html": [
       "<table border=\"1\" class=\"dataframe\">\n",
       "  <thead>\n",
       "    <tr style=\"text-align: right;\">\n",
       "      <th>County</th>\n",
       "      <th>VMT</th>\n",
       "    </tr>\n",
       "  </thead>\n",
       "  <tbody>\n",
       "    <tr>\n",
       "      <td>King</td>\n",
       "      <td>43,264,848</td>\n",
       "    </tr>\n",
       "    <tr>\n",
       "      <td>Kitsap</td>\n",
       "      <td>4,255,997</td>\n",
       "    </tr>\n",
       "    <tr>\n",
       "      <td>Pierce</td>\n",
       "      <td>18,630,692</td>\n",
       "    </tr>\n",
       "    <tr>\n",
       "      <td>Snohomish</td>\n",
       "      <td>16,499,080</td>\n",
       "    </tr>\n",
       "    <tr>\n",
       "      <td>Outside Region</td>\n",
       "      <td>332,522</td>\n",
       "    </tr>\n",
       "    <tr>\n",
       "      <td>Total</td>\n",
       "      <td>82,983,139</td>\n",
       "    </tr>\n",
       "  </tbody>\n",
       "</table>"
      ],
      "text/plain": [
       "<IPython.core.display.HTML object>"
      ]
     },
     "execution_count": 8,
     "metadata": {},
     "output_type": "execute_result"
    }
   ],
   "source": [
    "df_network = load_network_summary(os.path.join(relative_path,'network',r'network_results.csv'))\n",
    "df = df_network.groupby('county').sum()[['VMT']]\n",
    "df.loc['Total',:] = df.sum()\n",
    "df = df.reset_index()\n",
    "df.rename(columns={'county':'County'}, inplace=True)\n",
    "sort_map = {'King':1,'Kitsap':2,'Pierce':3,'Snohomish':4,'Outside Region':5,'Total':6}\n",
    "df['sort'] = df['County'].map(sort_map)\n",
    "df = df.sort_values('sort')\n",
    "df.drop('sort', axis=1, inplace=True)\n",
    "df.to_csv(os.path.join(os.getcwd(), r'..\\..\\..\\outputs\\compare\\RTP\\standard','3_vmt.csv'))\n",
    "HTML(df.to_html(index=False))"
   ]
  },
  {
   "cell_type": "markdown",
   "id": "a218c8ba",
   "metadata": {},
   "source": [
    "# Vehicle Hours Traveled"
   ]
  },
  {
   "cell_type": "code",
   "execution_count": 9,
   "id": "ede3e8bb",
   "metadata": {
    "execution": {
     "iopub.execute_input": "2024-04-03T17:37:03.348343Z",
     "iopub.status.busy": "2024-04-03T17:37:03.347345Z",
     "iopub.status.idle": "2024-04-03T17:37:04.041724Z",
     "shell.execute_reply": "2024-04-03T17:37:04.040721Z"
    }
   },
   "outputs": [
    {
     "data": {
      "text/html": [
       "<table border=\"1\" class=\"dataframe\">\n",
       "  <thead>\n",
       "    <tr style=\"text-align: right;\">\n",
       "      <th>County</th>\n",
       "      <th>VHT</th>\n",
       "    </tr>\n",
       "  </thead>\n",
       "  <tbody>\n",
       "    <tr>\n",
       "      <td>King</td>\n",
       "      <td>1,363,420</td>\n",
       "    </tr>\n",
       "    <tr>\n",
       "      <td>Kitsap</td>\n",
       "      <td>125,396</td>\n",
       "    </tr>\n",
       "    <tr>\n",
       "      <td>Pierce</td>\n",
       "      <td>567,457</td>\n",
       "    </tr>\n",
       "    <tr>\n",
       "      <td>Snohomish</td>\n",
       "      <td>494,366</td>\n",
       "    </tr>\n",
       "    <tr>\n",
       "      <td>Outside Region</td>\n",
       "      <td>6,411</td>\n",
       "    </tr>\n",
       "    <tr>\n",
       "      <td>Total</td>\n",
       "      <td>2,557,051</td>\n",
       "    </tr>\n",
       "  </tbody>\n",
       "</table>"
      ],
      "text/plain": [
       "<IPython.core.display.HTML object>"
      ]
     },
     "execution_count": 9,
     "metadata": {},
     "output_type": "execute_result"
    }
   ],
   "source": [
    "df = df_network.groupby('county').sum()[['VHT']]\n",
    "df.loc['Total',:] = df.sum()\n",
    "df = df.reset_index()\n",
    "df.rename(columns={'county':'County'}, inplace=True)\n",
    "sort_map = {'King':1,'Kitsap':2,'Pierce':3,'Snohomish':4,'Outside Region':5,'Total':6}\n",
    "df['sort'] = df['County'].map(sort_map)\n",
    "df = df.sort_values('sort')\n",
    "df.drop('sort', axis=1, inplace=True)\n",
    "df.to_csv(os.path.join(os.getcwd(), r'..\\..\\..\\outputs\\compare\\RTP\\standard','4_vht.csv'))\n",
    "HTML(df.to_html(index=False))"
   ]
  },
  {
   "cell_type": "markdown",
   "id": "e2addd50",
   "metadata": {},
   "source": [
    "# Vehicle Hours of Delay"
   ]
  },
  {
   "cell_type": "code",
   "execution_count": 10,
   "id": "579f74ec",
   "metadata": {
    "execution": {
     "iopub.execute_input": "2024-04-03T17:37:04.047707Z",
     "iopub.status.busy": "2024-04-03T17:37:04.047707Z",
     "iopub.status.idle": "2024-04-03T17:37:04.805310Z",
     "shell.execute_reply": "2024-04-03T17:37:04.804312Z"
    }
   },
   "outputs": [
    {
     "data": {
      "text/html": [
       "<table border=\"1\" class=\"dataframe\">\n",
       "  <thead>\n",
       "    <tr style=\"text-align: right;\">\n",
       "      <th>County</th>\n",
       "      <th>Total Delay Hours</th>\n",
       "    </tr>\n",
       "  </thead>\n",
       "  <tbody>\n",
       "    <tr>\n",
       "      <td>King</td>\n",
       "      <td>154,369</td>\n",
       "    </tr>\n",
       "    <tr>\n",
       "      <td>Kitsap</td>\n",
       "      <td>2,356</td>\n",
       "    </tr>\n",
       "    <tr>\n",
       "      <td>Pierce</td>\n",
       "      <td>44,147</td>\n",
       "    </tr>\n",
       "    <tr>\n",
       "      <td>Snohomish</td>\n",
       "      <td>38,543</td>\n",
       "    </tr>\n",
       "    <tr>\n",
       "      <td>Outside Region</td>\n",
       "      <td>2</td>\n",
       "    </tr>\n",
       "    <tr>\n",
       "      <td>Total</td>\n",
       "      <td>239,416</td>\n",
       "    </tr>\n",
       "  </tbody>\n",
       "</table>"
      ],
      "text/plain": [
       "<IPython.core.display.HTML object>"
      ]
     },
     "execution_count": 10,
     "metadata": {},
     "output_type": "execute_result"
    }
   ],
   "source": [
    "df = df_network.groupby('county').sum()[['total_delay']]\n",
    "df.rename(columns={'total_delay': 'Total Delay Hours'}, inplace=True)\n",
    "df.loc['Total',:] = df.sum()\n",
    "df = df.reset_index()\n",
    "df.rename(columns={'county':'County'}, inplace=True)\n",
    "sort_map = {'King':1,'Kitsap':2,'Pierce':3,'Snohomish':4,'Outside Region':5,'Total':6}\n",
    "df['sort'] = df['County'].map(sort_map)\n",
    "df = df.sort_values('sort')\n",
    "df.drop('sort', axis=1, inplace=True)\n",
    "df.to_csv(os.path.join(os.getcwd(), r'..\\..\\..\\outputs\\compare\\RTP\\standard','5_delay.csv'))\n",
    "HTML(df.to_html(index=False))"
   ]
  },
  {
   "cell_type": "markdown",
   "id": "18ecb7a7",
   "metadata": {},
   "source": [
    "# Transit Boardings"
   ]
  },
  {
   "cell_type": "code",
   "execution_count": 11,
   "id": "d5a9fa2e",
   "metadata": {
    "execution": {
     "iopub.execute_input": "2024-04-03T17:37:04.811293Z",
     "iopub.status.busy": "2024-04-03T17:37:04.811293Z",
     "iopub.status.idle": "2024-04-03T17:37:04.837225Z",
     "shell.execute_reply": "2024-04-03T17:37:04.836227Z"
    }
   },
   "outputs": [
    {
     "data": {
      "text/html": [
       "<table border=\"1\" class=\"dataframe\">\n",
       "  <thead>\n",
       "    <tr style=\"text-align: right;\">\n",
       "      <th>Agency</th>\n",
       "      <th>Daily Boardings</th>\n",
       "    </tr>\n",
       "  </thead>\n",
       "  <tbody>\n",
       "    <tr>\n",
       "      <td>King County Metro</td>\n",
       "      <td>276,394</td>\n",
       "    </tr>\n",
       "    <tr>\n",
       "      <td>Sound Transit</td>\n",
       "      <td>140,081</td>\n",
       "    </tr>\n",
       "    <tr>\n",
       "      <td>Community Transit</td>\n",
       "      <td>26,741</td>\n",
       "    </tr>\n",
       "    <tr>\n",
       "      <td>Pierce Transit</td>\n",
       "      <td>21,720</td>\n",
       "    </tr>\n",
       "    <tr>\n",
       "      <td>Kitsap Transit</td>\n",
       "      <td>10,309</td>\n",
       "    </tr>\n",
       "    <tr>\n",
       "      <td>Washington Ferries</td>\n",
       "      <td>5,744</td>\n",
       "    </tr>\n",
       "    <tr>\n",
       "      <td>Everett Transit</td>\n",
       "      <td>4,476</td>\n",
       "    </tr>\n",
       "    <tr>\n",
       "      <td>Total</td>\n",
       "      <td>485,465</td>\n",
       "    </tr>\n",
       "  </tbody>\n",
       "</table>"
      ],
      "text/plain": [
       "<IPython.core.display.HTML object>"
      ]
     },
     "execution_count": 11,
     "metadata": {},
     "output_type": "execute_result"
    }
   ],
   "source": [
    "df = pd.read_csv(os.path.join(relative_path,'transit',r'daily_boardings_by_agency.csv'), index_col='agency_name')\n",
    "df.loc['Total',:] = df['boardings'].sum()\n",
    "df = df.reset_index()\n",
    "df.rename(columns={'agency_name':'Agency', 'boardings': 'Daily Boardings'}, inplace=True)\n",
    "df.to_csv(os.path.join(os.getcwd(), r'..\\..\\..\\outputs\\compare\\RTP\\standard','6_transit_boardings.csv'))\n",
    "HTML(df.to_html(index=False))"
   ]
  },
  {
   "cell_type": "markdown",
   "id": "ce9ee348",
   "metadata": {},
   "source": [
    "# Mode Share\n",
    "All Trips"
   ]
  },
  {
   "cell_type": "code",
   "execution_count": 12,
   "id": "7d17a63f",
   "metadata": {
    "execution": {
     "iopub.execute_input": "2024-04-03T17:37:04.843208Z",
     "iopub.status.busy": "2024-04-03T17:37:04.842211Z",
     "iopub.status.idle": "2024-04-03T17:37:04.884347Z",
     "shell.execute_reply": "2024-04-03T17:37:04.883349Z"
    }
   },
   "outputs": [
    {
     "data": {
      "text/html": [
       "<table border=\"1\" class=\"dataframe\">\n",
       "  <thead>\n",
       "    <tr style=\"text-align: right;\">\n",
       "      <th>Mode</th>\n",
       "      <th>Mode Share</th>\n",
       "    </tr>\n",
       "  </thead>\n",
       "  <tbody>\n",
       "    <tr>\n",
       "      <td>Bike</td>\n",
       "      <td>1.5%</td>\n",
       "    </tr>\n",
       "    <tr>\n",
       "      <td>HOV2</td>\n",
       "      <td>22.4%</td>\n",
       "    </tr>\n",
       "    <tr>\n",
       "      <td>HOV3+</td>\n",
       "      <td>14.6%</td>\n",
       "    </tr>\n",
       "    <tr>\n",
       "      <td>SOV</td>\n",
       "      <td>44.7%</td>\n",
       "    </tr>\n",
       "    <tr>\n",
       "      <td>School Bus</td>\n",
       "      <td>1.5%</td>\n",
       "    </tr>\n",
       "    <tr>\n",
       "      <td>TNC</td>\n",
       "      <td>0.3%</td>\n",
       "    </tr>\n",
       "    <tr>\n",
       "      <td>Transit</td>\n",
       "      <td>2.1%</td>\n",
       "    </tr>\n",
       "    <tr>\n",
       "      <td>Walk</td>\n",
       "      <td>12.8%</td>\n",
       "    </tr>\n",
       "  </tbody>\n",
       "</table>"
      ],
      "text/plain": [
       "<IPython.core.display.HTML object>"
      ]
     },
     "execution_count": 12,
     "metadata": {},
     "output_type": "execute_result"
    }
   ],
   "source": [
    "pd.options.display.float_format = '{:0,.1%}'.format\n",
    "df_trip = pd.read_csv(r'..\\..\\..\\outputs\\agg\\dash\\mode_share_county.csv')\n",
    "df = df_trip.groupby('mode').sum()[['trexpfac']]/df_trip['trexpfac'].sum()\n",
    "df = df.reset_index()\n",
    "df.rename(columns={'mode': 'Mode', 'trexpfac': 'Mode Share'}, inplace=True)\n",
    "df.to_csv(os.path.join(os.getcwd(), r'..\\..\\..\\outputs\\compare\\RTP\\standard','7_mode_share.csv'))\n",
    "HTML(df.to_html(index=False))"
   ]
  },
  {
   "cell_type": "markdown",
   "id": "84500a40",
   "metadata": {},
   "source": [
    "# Emissions\n",
    "Daily Tons for light, medium, and heavy vehicles; bus vehicles are excluded."
   ]
  },
  {
   "cell_type": "code",
   "execution_count": 13,
   "id": "bfa5bcd0",
   "metadata": {
    "execution": {
     "iopub.execute_input": "2024-04-03T17:37:04.890331Z",
     "iopub.status.busy": "2024-04-03T17:37:04.890331Z",
     "iopub.status.idle": "2024-04-03T17:37:04.947180Z",
     "shell.execute_reply": "2024-04-03T17:37:04.946182Z"
    }
   },
   "outputs": [
    {
     "data": {
      "text/html": [
       "<div>\n",
       "<style scoped>\n",
       "    .dataframe tbody tr th:only-of-type {\n",
       "        vertical-align: middle;\n",
       "    }\n",
       "\n",
       "    .dataframe tbody tr th {\n",
       "        vertical-align: top;\n",
       "    }\n",
       "\n",
       "    .dataframe thead th {\n",
       "        text-align: right;\n",
       "    }\n",
       "</style>\n",
       "<table border=\"1\" class=\"dataframe\">\n",
       "  <thead>\n",
       "    <tr style=\"text-align: right;\">\n",
       "      <th></th>\n",
       "      <th>Start</th>\n",
       "      <th>Intrazonal</th>\n",
       "      <th>Interzonal</th>\n",
       "      <th>Total Daily</th>\n",
       "    </tr>\n",
       "    <tr>\n",
       "      <th>pollutant_name</th>\n",
       "      <th></th>\n",
       "      <th></th>\n",
       "      <th></th>\n",
       "      <th></th>\n",
       "    </tr>\n",
       "  </thead>\n",
       "  <tbody>\n",
       "    <tr>\n",
       "      <th>CO</th>\n",
       "      <td>191</td>\n",
       "      <td>2.5</td>\n",
       "      <td>283</td>\n",
       "      <td>476</td>\n",
       "    </tr>\n",
       "    <tr>\n",
       "      <th>CO2 Equivalent</th>\n",
       "      <td>2,728</td>\n",
       "      <td>268</td>\n",
       "      <td>38,742</td>\n",
       "      <td>41,738</td>\n",
       "    </tr>\n",
       "    <tr>\n",
       "      <th>NOx</th>\n",
       "      <td>10.6</td>\n",
       "      <td>0.3</td>\n",
       "      <td>67.7</td>\n",
       "      <td>78.6</td>\n",
       "    </tr>\n",
       "    <tr>\n",
       "      <th>PM10 Total</th>\n",
       "      <td>0.5</td>\n",
       "      <td>0.1</td>\n",
       "      <td>5.4</td>\n",
       "      <td>5.9</td>\n",
       "    </tr>\n",
       "    <tr>\n",
       "      <th>PM25 Total</th>\n",
       "      <td>0.4</td>\n",
       "      <td>0.0</td>\n",
       "      <td>1.8</td>\n",
       "      <td>2.2</td>\n",
       "    </tr>\n",
       "  </tbody>\n",
       "</table>\n",
       "</div>"
      ],
      "text/plain": [
       "               Start Intrazonal Interzonal Total Daily\n",
       "pollutant_name                                        \n",
       "CO               191        2.5        283         476\n",
       "CO2 Equivalent 2,728        268     38,742      41,738\n",
       "NOx             10.6        0.3       67.7        78.6\n",
       "PM10 Total       0.5        0.1        5.4         5.9\n",
       "PM25 Total       0.4        0.0        1.8         2.2"
      ]
     },
     "execution_count": 13,
     "metadata": {},
     "output_type": "execute_result"
    }
   ],
   "source": [
    "pd.options.display.float_format = '{:0,.0f}'.format\n",
    "df = pd.read_csv(os.path.join(relative_path,'emissions',r'emissions_summary.csv'))\n",
    "df = df[df['veh_type'].isin(['light','medium','heavy'])]\n",
    "df = df.groupby('pollutant_name').sum()\n",
    "df.rename(columns={'start_tons': 'Start', 'intrazonal_tons': 'Intrazonal', 'interzonal_tons': 'Interzonal',\n",
    "                  'total_daily_tons': 'Total Daily'}, inplace=True)\n",
    "df = df[df.index.isin(['CO','NOx','PM25 Total','PM10 Total','CO2 Equivalent'])]\n",
    "df = df.applymap(lambda x: x if x > 100 else str(round(x,1)))\n",
    "df.to_csv(os.path.join(os.getcwd(), r'..\\..\\..\\outputs\\compare\\RTP\\standard','8_emissions.csv'))\n",
    "df"
   ]
  },
  {
   "cell_type": "markdown",
   "id": "21dac2e4",
   "metadata": {},
   "source": [
    "# Lane Miles"
   ]
  },
  {
   "cell_type": "code",
   "execution_count": 14,
   "id": "8e85fecd",
   "metadata": {
    "execution": {
     "iopub.execute_input": "2024-04-03T17:37:04.953164Z",
     "iopub.status.busy": "2024-04-03T17:37:04.952166Z",
     "iopub.status.idle": "2024-04-03T17:37:14.474429Z",
     "shell.execute_reply": "2024-04-03T17:37:14.473427Z"
    }
   },
   "outputs": [],
   "source": [
    "pd.options.display.float_format = '{:0,.0f}'.format\n",
    "df_network = load_network_summary(os.path.join(relative_path,'network',r'network_results.csv'))\n",
    "# Select mid-day network\n",
    "gdf = df_network[df_network['tod'] == '10to14']\n",
    "gdf['Lane Miles'] = gdf['length']*gdf['num_lanes']"
   ]
  },
  {
   "cell_type": "code",
   "execution_count": 15,
   "id": "50b0e670",
   "metadata": {
    "execution": {
     "iopub.execute_input": "2024-04-03T17:37:14.480415Z",
     "iopub.status.busy": "2024-04-03T17:37:14.480415Z",
     "iopub.status.idle": "2024-04-03T17:37:14.488534Z",
     "shell.execute_reply": "2024-04-03T17:37:14.488534Z"
    }
   },
   "outputs": [],
   "source": [
    "facility_type_dict = {\n",
    "    1: 'Interstate',\n",
    "    2: 'Other Freeway',\n",
    "    3: 'Expressway',\n",
    "    4: 'Ramp',\n",
    "    5: 'Principal Arterial',\n",
    "    6: 'Minor Arterial',\n",
    "    7: 'Major Collector',\n",
    "    8: 'Minor Collector',\n",
    "    9: 'Local',\n",
    "    10: 'Busway',\n",
    "    11: 'Non-Motor',\n",
    "    12: 'Light Rail',\n",
    "    13: 'Commuter Rail',\n",
    "    15: 'Ferry',\n",
    "    16: 'Passenger-Only Ferry',\n",
    "    17: 'Centroid Connector',\n",
    "    18: 'Facility Connector',\n",
    "    19: 'HOV Only Freeway',\n",
    "    20: 'HOV Only Ramp',\n",
    "    98: 'Weave Links'\n",
    "}\n",
    "\n",
    "ul3_dict = {\n",
    "    0: 'Rail/Walk/Ferry',\n",
    "    1: 'Freeway',\n",
    "    2: 'Expressway',\n",
    "    3: 'Urban Arterial',\n",
    "    4: 'One-way Arterial',\n",
    "    5: 'Centroid Connector',\n",
    "    6: 'Rural Arterial'\n",
    "}\n",
    "\n",
    "county_dict = {\n",
    "    33: 'King',\n",
    "    35: 'Kitsap',\n",
    "    53: 'Pierce',\n",
    "    61: 'Snohomish'\n",
    "}"
   ]
  },
  {
   "cell_type": "code",
   "execution_count": 16,
   "id": "e15fb883",
   "metadata": {
    "execution": {
     "iopub.execute_input": "2024-04-03T17:37:14.496512Z",
     "iopub.status.busy": "2024-04-03T17:37:14.495515Z",
     "iopub.status.idle": "2024-04-03T17:37:14.704960Z",
     "shell.execute_reply": "2024-04-03T17:37:14.703893Z"
    }
   },
   "outputs": [
    {
     "data": {
      "text/html": [
       "<div>\n",
       "<style scoped>\n",
       "    .dataframe tbody tr th:only-of-type {\n",
       "        vertical-align: middle;\n",
       "    }\n",
       "\n",
       "    .dataframe tbody tr th {\n",
       "        vertical-align: top;\n",
       "    }\n",
       "\n",
       "    .dataframe thead th {\n",
       "        text-align: right;\n",
       "    }\n",
       "</style>\n",
       "<table border=\"1\" class=\"dataframe\">\n",
       "  <thead>\n",
       "    <tr style=\"text-align: right;\">\n",
       "      <th></th>\n",
       "      <th>Lane Miles</th>\n",
       "    </tr>\n",
       "    <tr>\n",
       "      <th>Facility Type</th>\n",
       "      <th></th>\n",
       "    </tr>\n",
       "  </thead>\n",
       "  <tbody>\n",
       "    <tr>\n",
       "      <th>Interstate</th>\n",
       "      <td>1,468</td>\n",
       "    </tr>\n",
       "    <tr>\n",
       "      <th>Other Freeway</th>\n",
       "      <td>767</td>\n",
       "    </tr>\n",
       "    <tr>\n",
       "      <th>Expressway</th>\n",
       "      <td>229</td>\n",
       "    </tr>\n",
       "    <tr>\n",
       "      <th>Ramp</th>\n",
       "      <td>537</td>\n",
       "    </tr>\n",
       "    <tr>\n",
       "      <th>Principal Arterial</th>\n",
       "      <td>3,101</td>\n",
       "    </tr>\n",
       "    <tr>\n",
       "      <th>Minor Arterial</th>\n",
       "      <td>4,061</td>\n",
       "    </tr>\n",
       "    <tr>\n",
       "      <th>Major Collector</th>\n",
       "      <td>2,943</td>\n",
       "    </tr>\n",
       "    <tr>\n",
       "      <th>Minor Collector</th>\n",
       "      <td>219</td>\n",
       "    </tr>\n",
       "    <tr>\n",
       "      <th>Local</th>\n",
       "      <td>298</td>\n",
       "    </tr>\n",
       "    <tr>\n",
       "      <th>Non-Motor</th>\n",
       "      <td>12</td>\n",
       "    </tr>\n",
       "    <tr>\n",
       "      <th>Centroid Connector</th>\n",
       "      <td>9,829</td>\n",
       "    </tr>\n",
       "    <tr>\n",
       "      <th>Facility Connector</th>\n",
       "      <td>19</td>\n",
       "    </tr>\n",
       "    <tr>\n",
       "      <th>HOV Only Freeway</th>\n",
       "      <td>3</td>\n",
       "    </tr>\n",
       "    <tr>\n",
       "      <th>HOV Only Ramp</th>\n",
       "      <td>20</td>\n",
       "    </tr>\n",
       "    <tr>\n",
       "      <th>Total</th>\n",
       "      <td>23,506</td>\n",
       "    </tr>\n",
       "  </tbody>\n",
       "</table>\n",
       "</div>"
      ],
      "text/plain": [
       "                    Lane Miles\n",
       "Facility Type                 \n",
       "Interstate               1,468\n",
       "Other Freeway              767\n",
       "Expressway                 229\n",
       "Ramp                       537\n",
       "Principal Arterial       3,101\n",
       "Minor Arterial           4,061\n",
       "Major Collector          2,943\n",
       "Minor Collector            219\n",
       "Local                      298\n",
       "Non-Motor                   12\n",
       "Centroid Connector       9,829\n",
       "Facility Connector          19\n",
       "HOV Only Freeway             3\n",
       "HOV Only Ramp               20\n",
       "Total                   23,506"
      ]
     },
     "execution_count": 16,
     "metadata": {},
     "output_type": "execute_result"
    }
   ],
   "source": [
    "gdf['Facility Type'] = gdf['@facilitytype'].map(facility_type_dict)\n",
    "df = gdf.groupby(['Facility Type','@facilitytype']).sum()[['Lane Miles']].sort_values('@facilitytype').reset_index()\n",
    "df.index = df['Facility Type']\n",
    "df = df.drop(['@facilitytype','Facility Type'], axis=1)\n",
    "df.loc['Total','Lane Miles'] = df['Lane Miles'].sum()\n",
    "df"
   ]
  },
  {
   "cell_type": "code",
   "execution_count": 17,
   "id": "5767acf9",
   "metadata": {
    "execution": {
     "iopub.execute_input": "2024-04-03T17:37:14.710943Z",
     "iopub.status.busy": "2024-04-03T17:37:14.709946Z",
     "iopub.status.idle": "2024-04-03T17:37:14.798643Z",
     "shell.execute_reply": "2024-04-03T17:37:14.797645Z"
    },
    "scrolled": true
   },
   "outputs": [
    {
     "data": {
      "text/html": [
       "<div>\n",
       "<style scoped>\n",
       "    .dataframe tbody tr th:only-of-type {\n",
       "        vertical-align: middle;\n",
       "    }\n",
       "\n",
       "    .dataframe tbody tr th {\n",
       "        vertical-align: top;\n",
       "    }\n",
       "\n",
       "    .dataframe thead th {\n",
       "        text-align: right;\n",
       "    }\n",
       "</style>\n",
       "<table border=\"1\" class=\"dataframe\">\n",
       "  <thead>\n",
       "    <tr style=\"text-align: right;\">\n",
       "      <th></th>\n",
       "      <th>Lane Miles</th>\n",
       "    </tr>\n",
       "    <tr>\n",
       "      <th>Facility Group</th>\n",
       "      <th></th>\n",
       "    </tr>\n",
       "  </thead>\n",
       "  <tbody>\n",
       "    <tr>\n",
       "      <th>Freeway</th>\n",
       "      <td>2,236</td>\n",
       "    </tr>\n",
       "    <tr>\n",
       "      <th>Expressway</th>\n",
       "      <td>681</td>\n",
       "    </tr>\n",
       "    <tr>\n",
       "      <th>Urban Arterial</th>\n",
       "      <td>6,876</td>\n",
       "    </tr>\n",
       "    <tr>\n",
       "      <th>One-way Arterial</th>\n",
       "      <td>440</td>\n",
       "    </tr>\n",
       "    <tr>\n",
       "      <th>Centroid Connector</th>\n",
       "      <td>9,848</td>\n",
       "    </tr>\n",
       "    <tr>\n",
       "      <th>Rural Arterial</th>\n",
       "      <td>3,360</td>\n",
       "    </tr>\n",
       "    <tr>\n",
       "      <th>Total</th>\n",
       "      <td>23,441</td>\n",
       "    </tr>\n",
       "  </tbody>\n",
       "</table>\n",
       "</div>"
      ],
      "text/plain": [
       "                    Lane Miles\n",
       "Facility Group                \n",
       "Freeway                  2,236\n",
       "Expressway                 681\n",
       "Urban Arterial           6,876\n",
       "One-way Arterial           440\n",
       "Centroid Connector       9,848\n",
       "Rural Arterial           3,360\n",
       "Total                   23,441"
      ]
     },
     "execution_count": 17,
     "metadata": {},
     "output_type": "execute_result"
    }
   ],
   "source": [
    "gdf['Facility Group'] = gdf['data3'].map(ul3_dict)\n",
    "df = gdf.groupby(['Facility Group','data3']).sum()[['Lane Miles']].sort_values('data3').reset_index()\n",
    "df.index = df['Facility Group']\n",
    "df = df.drop(['data3','Facility Group'], axis=1)\n",
    "df.loc['Total','Lane Miles'] = df['Lane Miles'].sum()\n",
    "df"
   ]
  },
  {
   "cell_type": "code",
   "execution_count": 18,
   "id": "248a6978",
   "metadata": {
    "execution": {
     "iopub.execute_input": "2024-04-03T17:37:14.804627Z",
     "iopub.status.busy": "2024-04-03T17:37:14.804627Z",
     "iopub.status.idle": "2024-04-03T17:37:14.893569Z",
     "shell.execute_reply": "2024-04-03T17:37:14.892571Z"
    }
   },
   "outputs": [
    {
     "data": {
      "text/html": [
       "<div>\n",
       "<style scoped>\n",
       "    .dataframe tbody tr th:only-of-type {\n",
       "        vertical-align: middle;\n",
       "    }\n",
       "\n",
       "    .dataframe tbody tr th {\n",
       "        vertical-align: top;\n",
       "    }\n",
       "\n",
       "    .dataframe thead th {\n",
       "        text-align: right;\n",
       "    }\n",
       "</style>\n",
       "<table border=\"1\" class=\"dataframe\">\n",
       "  <thead>\n",
       "    <tr style=\"text-align: right;\">\n",
       "      <th></th>\n",
       "      <th>Lane Miles</th>\n",
       "    </tr>\n",
       "    <tr>\n",
       "      <th>county</th>\n",
       "      <th></th>\n",
       "    </tr>\n",
       "  </thead>\n",
       "  <tbody>\n",
       "    <tr>\n",
       "      <th>King</th>\n",
       "      <td>10,805</td>\n",
       "    </tr>\n",
       "    <tr>\n",
       "      <th>Kitsap</th>\n",
       "      <td>2,022</td>\n",
       "    </tr>\n",
       "    <tr>\n",
       "      <th>Pierce</th>\n",
       "      <td>5,849</td>\n",
       "    </tr>\n",
       "    <tr>\n",
       "      <th>Snohomish</th>\n",
       "      <td>4,771</td>\n",
       "    </tr>\n",
       "    <tr>\n",
       "      <th>Outside Region</th>\n",
       "      <td>59</td>\n",
       "    </tr>\n",
       "    <tr>\n",
       "      <th>Total</th>\n",
       "      <td>23,506</td>\n",
       "    </tr>\n",
       "  </tbody>\n",
       "</table>\n",
       "</div>"
      ],
      "text/plain": [
       "                Lane Miles\n",
       "county                    \n",
       "King                10,805\n",
       "Kitsap               2,022\n",
       "Pierce               5,849\n",
       "Snohomish            4,771\n",
       "Outside Region          59\n",
       "Total               23,506"
      ]
     },
     "execution_count": 18,
     "metadata": {},
     "output_type": "execute_result"
    }
   ],
   "source": [
    "# Load link attributes and join\n",
    "gdf['county'].replace(np.NaN,'Outside Region',inplace=True)\n",
    "df = gdf.groupby(['county']).sum()[['Lane Miles']].reset_index()\n",
    "df['order'] = df['county'].map({'King': 1, 'Kitsap': 2, 'Pierce': 3, 'Snohomish': 4, 'Outside Region': 5})\n",
    "df = df.sort_values('order').drop('order', axis=1)\n",
    "df.index = df['county']\n",
    "df = df.drop('county', axis=1)\n",
    "df.loc['Total','Lane Miles'] = df['Lane Miles'].sum()\n",
    "df"
   ]
  },
  {
   "cell_type": "code",
   "execution_count": null,
   "id": "205b241f",
   "metadata": {},
   "outputs": [],
   "source": []
  }
 ],
 "metadata": {
  "kernelspec": {
   "display_name": "Python 3",
   "language": "python",
   "name": "python3"
  },
  "language_info": {
   "codemirror_mode": {
    "name": "ipython",
    "version": 3
   },
   "file_extension": ".py",
   "mimetype": "text/x-python",
   "name": "python",
   "nbconvert_exporter": "python",
   "pygments_lexer": "ipython3",
   "version": "3.7.10"
  }
 },
 "nbformat": 4,
 "nbformat_minor": 5
}
