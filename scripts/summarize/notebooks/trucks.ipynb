{
 "cells": [
  {
   "cell_type": "code",
   "execution_count": 31,
   "metadata": {
    "collapsed": true
   },
   "outputs": [],
   "source": [
    "import os\n",
    "from os.path import basename\n",
    "import pandas as pd\n",
    "from pandas import *\n",
    "import time"
   ]
  },
  {
   "cell_type": "code",
   "execution_count": 32,
   "metadata": {
    "collapsed": false
   },
   "outputs": [],
   "source": [
    "#  Read in the csv files for Parcel ID and Taz and Parcel ID and Use Type for join\n",
    "parcels = pd.read_csv(r'D:\\soundcast\\soundcast\\inputs\\buffered_parcels.dat', sep=' ')"
   ]
  },
  {
   "cell_type": "code",
   "execution_count": 33,
   "metadata": {
    "collapsed": false
   },
   "outputs": [],
   "source": [
    "# Ideally, we attach a land use code to the urbansim input and filter directly from there\n",
    "# For now, we need to join in parcel land use info\n",
    "parcel_lu = pd.read_csv(r'R:\\Craig\\Trucks\\inputs\\TripGen\\Base\\parcels\\parcels_allowable_lu.txt')"
   ]
  },
  {
   "cell_type": "code",
   "execution_count": 34,
   "metadata": {
    "collapsed": false
   },
   "outputs": [],
   "source": [
    "df = parcels.merge(parcel_lu, left_on='parcelid',right_on='parcel_id')"
   ]
  },
  {
   "cell_type": "code",
   "execution_count": 35,
   "metadata": {
    "collapsed": true
   },
   "outputs": [],
   "source": [
    "# List of allowable truck land uses\n",
    "truck_uses = ['Agriculture','Fisheries','Forest, harvestable','Forest, protected','Industrial','Military','Mining','Warehousing']"
   ]
  },
  {
   "cell_type": "code",
   "execution_count": 36,
   "metadata": {
    "collapsed": false
   },
   "outputs": [],
   "source": [
    "# select truck rows only, using the allowable truck land uses\n",
    "truck_df = df[df[\"generic_land_use_1\"].isin(truck_uses)]"
   ]
  },
  {
   "cell_type": "code",
   "execution_count": 37,
   "metadata": {
    "collapsed": false
   },
   "outputs": [],
   "source": [
    "# For future reference, lookup all the use_codes for these generic_land_uses\n",
    "# return list of tuples that includes the generic name and all the use codes\n",
    "truck_use_codes = np.array(truck_df.groupby(['generic_land_use_1','use_code']).count().index)    # returns list of tuples\n",
    "truck_use_codes = [i[1] for i in truck_use_codes]    # extract only the use_code field, drop the generic_land_use_1 data\n",
    "\n",
    "# in future, probably want to use the use_code field to select truck rows like this:\n",
    "# df[df['use_code'].isin(truck_use_codes)]"
   ]
  },
  {
   "cell_type": "code",
   "execution_count": null,
   "metadata": {
    "collapsed": true
   },
   "outputs": [],
   "source": []
  },
  {
   "cell_type": "code",
   "execution_count": 38,
   "metadata": {
    "collapsed": false
   },
   "outputs": [
    {
     "name": "stderr",
     "output_type": "stream",
     "text": [
      "C:\\Users\\Brice\\AppData\\Local\\Continuum\\Anaconda\\lib\\site-packages\\ipykernel\\__main__.py:2: SettingWithCopyWarning: \n",
      "A value is trying to be set on a copy of a slice from a DataFrame.\n",
      "Try using .loc[row_indexer,col_indexer] = value instead\n",
      "\n",
      "See the the caveats in the documentation: http://pandas.pydata.org/pandas-docs/stable/indexing.html#indexing-view-versus-copy\n",
      "  from ipykernel import kernelapp as app\n"
     ]
    }
   ],
   "source": [
    "# Add a flag for truck allowable field\n",
    "truck_df['trucks_allowed_parcel'] = 1"
   ]
  },
  {
   "cell_type": "code",
   "execution_count": null,
   "metadata": {
    "collapsed": true
   },
   "outputs": [],
   "source": []
  },
  {
   "cell_type": "code",
   "execution_count": 39,
   "metadata": {
    "collapsed": false
   },
   "outputs": [],
   "source": [
    "# merge the truck_df back into the main df\n",
    "df = df.merge(truck_df[['parcelid','trucks_allowed_parcel']], how='left')\n",
    "df['trucks_allowed_parcel'].fillna(0,inplace=True)    # Truck restricted parcels get a 0"
   ]
  },
  {
   "cell_type": "code",
   "execution_count": 40,
   "metadata": {
    "collapsed": false
   },
   "outputs": [],
   "source": [
    "# Now, groupby TAZ and create new flag that allows trucks on TAZ with allowable land use\n",
    "df_taz = pd.DataFrame(df.groupby('taz_p').sum()[['trucks_allowed_parcel']])\n",
    "df_taz['trucks_allowed_taz'] = pd.cut(df_taz['trucks_allowed_parcel'], bins=[0,1,df_taz['trucks_allowed_parcel'].max()], labels=[0,1], include_lowest=True)"
   ]
  },
  {
   "cell_type": "code",
   "execution_count": null,
   "metadata": {
    "collapsed": false
   },
   "outputs": [],
   "source": []
  },
  {
   "cell_type": "code",
   "execution_count": 41,
   "metadata": {
    "collapsed": false
   },
   "outputs": [
    {
     "data": {
      "text/plain": [
       "1860"
      ]
     },
     "execution_count": 41,
     "metadata": {},
     "output_type": "execute_result"
    }
   ],
   "source": [
    "df_taz['trucks_allowed_taz'].astype('int').sum()"
   ]
  },
  {
   "cell_type": "code",
   "execution_count": 42,
   "metadata": {
    "collapsed": false
   },
   "outputs": [],
   "source": [
    "import h5py\n",
    "import pandas as pd"
   ]
  },
  {
   "cell_type": "code",
   "execution_count": 43,
   "metadata": {
    "collapsed": true
   },
   "outputs": [],
   "source": [
    "# look at the output for midday\n",
    "\n",
    "newtruck = h5py.File(r'D:\\soundcast\\soundcast\\inputs\\4k\\auto.h5')"
   ]
  },
  {
   "cell_type": "code",
   "execution_count": 44,
   "metadata": {
    "collapsed": true
   },
   "outputs": [],
   "source": [
    "oldtruck = h5py.File(r'R:\\SoundCast\\releases\\TransportationFutures2010\\inputs\\4k\\auto.h5')"
   ]
  },
  {
   "cell_type": "code",
   "execution_count": 45,
   "metadata": {
    "collapsed": true
   },
   "outputs": [],
   "source": [
    "# Get results by regional growth center\n",
    "taz_lookup = pd.read_csv(r'R:\\SoundCast\\releases\\TransportationFutures2010\\scripts\\summarize\\TAZ_TAD_County.csv')"
   ]
  },
  {
   "cell_type": "code",
   "execution_count": 46,
   "metadata": {
    "collapsed": true
   },
   "outputs": [],
   "source": [
    "h5file = newtruck"
   ]
  },
  {
   "cell_type": "code",
   "execution_count": null,
   "metadata": {
    "collapsed": true
   },
   "outputs": [],
   "source": []
  },
  {
   "cell_type": "code",
   "execution_count": 47,
   "metadata": {
    "collapsed": false
   },
   "outputs": [],
   "source": [
    "def prod_results(h5file):    \n",
    "    production_total = {}\n",
    "    for trk in ['lttrk', 'mdtrk','hvtrk']:\n",
    "        df = 0\n",
    "        for tod in ['am','md','pm','ev','ni']:\n",
    "            df += pd.DataFrame(h5file[tod][tod[0]+trk][:])\n",
    "        df = pd.DataFrame([df.sum(axis=0),df.index]).T\n",
    "        df.columns = [trk,'TAZ']\n",
    "        df['TAZ'] = [i+1 for i in df['TAZ']]    # offset TAZ by 1 to get true value\n",
    "\n",
    "        # Join to geographic data\n",
    "        df = df.merge(taz_lookup, on='TAZ', how='left')\n",
    "\n",
    "        production_total[trk] = df\n",
    "    return production_total"
   ]
  },
  {
   "cell_type": "code",
   "execution_count": 48,
   "metadata": {
    "collapsed": false
   },
   "outputs": [],
   "source": [
    "def attr_results(h5file):\n",
    "    attraction_total = {}\n",
    "    for trk in ['lttrk', 'mdtrk','hvtrk']:\n",
    "        df = 0\n",
    "        for tod in ['am','md','pm','ev','ni']:\n",
    "            df += pd.DataFrame(h5file[tod][tod[0]+trk][:])\n",
    "        df = pd.DataFrame([df.sum(axis=1),df.index]).T\n",
    "        df.columns = [trk,'TAZ']\n",
    "        df['TAZ'] = [i+1 for i in df['TAZ']]    # offset TAZ by 1 to get true value\n",
    "\n",
    "        # Join to geographic data\n",
    "        df = df.merge(taz_lookup, on='TAZ', how='left')\n",
    "\n",
    "        attraction_total[trk] = df\n",
    "    return attraction_total"
   ]
  },
  {
   "cell_type": "code",
   "execution_count": null,
   "metadata": {
    "collapsed": false
   },
   "outputs": [],
   "source": []
  },
  {
   "cell_type": "code",
   "execution_count": 49,
   "metadata": {
    "collapsed": false
   },
   "outputs": [],
   "source": [
    "# Format output\n",
    "pd.options.display.float_format = '{:,.0f}'.format"
   ]
  },
  {
   "cell_type": "code",
   "execution_count": 50,
   "metadata": {
    "collapsed": true
   },
   "outputs": [],
   "source": [
    "truck_list = ['lttrk', 'mdtrk','hvtrk']"
   ]
  },
  {
   "cell_type": "code",
   "execution_count": 51,
   "metadata": {
    "collapsed": true
   },
   "outputs": [],
   "source": [
    "def dict_to_df(dict_in, geography):\n",
    "    df = pd.DataFrame([dict_in[trk].groupby(geography).sum()[trk] for trk in truck_list])\n",
    "    df.loc['Total'] = df.sum()\n",
    "    return df"
   ]
  },
  {
   "cell_type": "code",
   "execution_count": 52,
   "metadata": {
    "collapsed": true
   },
   "outputs": [],
   "source": [
    "def compare_df(df1,df1_name,df2,df2_name):\n",
    "    '''Compare 2 identical dataframes'''\n",
    "    df = pd.concat([df1,df2], axis=1)[df1.columns]\n",
    "    df.columns = pd.MultiIndex.from_product([np.array(df1.columns),[df1_name,df2_name]])\n",
    "    return df"
   ]
  },
  {
   "cell_type": "markdown",
   "metadata": {},
   "source": [
    "---"
   ]
  },
  {
   "cell_type": "markdown",
   "metadata": {},
   "source": [
    "Compare results of the old with the new!"
   ]
  },
  {
   "cell_type": "code",
   "execution_count": 53,
   "metadata": {
    "collapsed": false
   },
   "outputs": [],
   "source": [
    "old_prod = prod_results(oldtruck)"
   ]
  },
  {
   "cell_type": "code",
   "execution_count": 54,
   "metadata": {
    "collapsed": true
   },
   "outputs": [],
   "source": [
    "old_attr = attr_results(oldtruck)"
   ]
  },
  {
   "cell_type": "code",
   "execution_count": 55,
   "metadata": {
    "collapsed": false
   },
   "outputs": [],
   "source": [
    "new_prod = prod_results(newtruck)"
   ]
  },
  {
   "cell_type": "code",
   "execution_count": 56,
   "metadata": {
    "collapsed": true
   },
   "outputs": [],
   "source": [
    "new_attr = attr_results(newtruck)"
   ]
  },
  {
   "cell_type": "code",
   "execution_count": null,
   "metadata": {
    "collapsed": false
   },
   "outputs": [],
   "source": []
  },
  {
   "cell_type": "code",
   "execution_count": 57,
   "metadata": {
    "collapsed": false
   },
   "outputs": [],
   "source": [
    "old_pro_sum = dict_to_df(old_prod, 'County')\n",
    "new_pro_sum = dict_to_df(new_prod, 'County')\n",
    "compare_df(old_pro_sum,'Old 2010',new_pro_sum,'New 2010').to_clipboard()"
   ]
  },
  {
   "cell_type": "code",
   "execution_count": 71,
   "metadata": {
    "collapsed": false
   },
   "outputs": [],
   "source": [
    "tod = 'am'\n",
    "trk = 'hvtrk'\n",
    "df = pd.DataFrame(h5file[tod][tod[0]+trk][:])"
   ]
  },
  {
   "cell_type": "code",
   "execution_count": 74,
   "metadata": {
    "collapsed": false
   },
   "outputs": [
    {
     "data": {
      "text/plain": [
       "21927.413814836123"
      ]
     },
     "execution_count": 74,
     "metadata": {},
     "output_type": "execute_result"
    }
   ],
   "source": [
    "df.sum().sum()"
   ]
  },
  {
   "cell_type": "code",
   "execution_count": 67,
   "metadata": {
    "collapsed": false
   },
   "outputs": [
    {
     "data": {
      "text/html": [
       "<div style=\"max-height:1000px;max-width:1500px;overflow:auto;\">\n",
       "<table border=\"1\" class=\"dataframe\">\n",
       "  <thead>\n",
       "    <tr style=\"text-align: right;\">\n",
       "      <th></th>\n",
       "      <th>hvtrk</th>\n",
       "      <th>TAZ</th>\n",
       "      <th>TAD</th>\n",
       "      <th>OldDistric</th>\n",
       "      <th>County</th>\n",
       "      <th>District</th>\n",
       "      <th>New DistrictName</th>\n",
       "    </tr>\n",
       "  </thead>\n",
       "  <tbody>\n",
       "    <tr>\n",
       "      <th>3710</th>\n",
       "      <td>    0</td>\n",
       "      <td>3,711</td>\n",
       "      <td>nan</td>\n",
       "      <td>nan</td>\n",
       "      <td> NaN</td>\n",
       "      <td>nan</td>\n",
       "      <td> NaN</td>\n",
       "    </tr>\n",
       "    <tr>\n",
       "      <th>3711</th>\n",
       "      <td>5,657</td>\n",
       "      <td>3,712</td>\n",
       "      <td>nan</td>\n",
       "      <td>nan</td>\n",
       "      <td> NaN</td>\n",
       "      <td>nan</td>\n",
       "      <td> NaN</td>\n",
       "    </tr>\n",
       "    <tr>\n",
       "      <th>3712</th>\n",
       "      <td>    0</td>\n",
       "      <td>3,713</td>\n",
       "      <td>nan</td>\n",
       "      <td>nan</td>\n",
       "      <td> NaN</td>\n",
       "      <td>nan</td>\n",
       "      <td> NaN</td>\n",
       "    </tr>\n",
       "    <tr>\n",
       "      <th>3713</th>\n",
       "      <td>   64</td>\n",
       "      <td>3,714</td>\n",
       "      <td>nan</td>\n",
       "      <td>nan</td>\n",
       "      <td> NaN</td>\n",
       "      <td>nan</td>\n",
       "      <td> NaN</td>\n",
       "    </tr>\n",
       "    <tr>\n",
       "      <th>3714</th>\n",
       "      <td>    0</td>\n",
       "      <td>3,715</td>\n",
       "      <td>nan</td>\n",
       "      <td>nan</td>\n",
       "      <td> NaN</td>\n",
       "      <td>nan</td>\n",
       "      <td> NaN</td>\n",
       "    </tr>\n",
       "    <tr>\n",
       "      <th>3715</th>\n",
       "      <td>   55</td>\n",
       "      <td>3,716</td>\n",
       "      <td>nan</td>\n",
       "      <td>nan</td>\n",
       "      <td> NaN</td>\n",
       "      <td>nan</td>\n",
       "      <td> NaN</td>\n",
       "    </tr>\n",
       "    <tr>\n",
       "      <th>3716</th>\n",
       "      <td>    0</td>\n",
       "      <td>3,717</td>\n",
       "      <td>nan</td>\n",
       "      <td>nan</td>\n",
       "      <td> NaN</td>\n",
       "      <td>nan</td>\n",
       "      <td> NaN</td>\n",
       "    </tr>\n",
       "    <tr>\n",
       "      <th>3717</th>\n",
       "      <td>  201</td>\n",
       "      <td>3,718</td>\n",
       "      <td>nan</td>\n",
       "      <td>nan</td>\n",
       "      <td> NaN</td>\n",
       "      <td>nan</td>\n",
       "      <td> NaN</td>\n",
       "    </tr>\n",
       "    <tr>\n",
       "      <th>3718</th>\n",
       "      <td>    0</td>\n",
       "      <td>3,719</td>\n",
       "      <td>nan</td>\n",
       "      <td>nan</td>\n",
       "      <td> NaN</td>\n",
       "      <td>nan</td>\n",
       "      <td> NaN</td>\n",
       "    </tr>\n",
       "    <tr>\n",
       "      <th>3719</th>\n",
       "      <td>    0</td>\n",
       "      <td>3,720</td>\n",
       "      <td>nan</td>\n",
       "      <td>nan</td>\n",
       "      <td> NaN</td>\n",
       "      <td>nan</td>\n",
       "      <td> NaN</td>\n",
       "    </tr>\n",
       "    <tr>\n",
       "      <th>3720</th>\n",
       "      <td>    0</td>\n",
       "      <td>3,721</td>\n",
       "      <td>nan</td>\n",
       "      <td>nan</td>\n",
       "      <td> NaN</td>\n",
       "      <td>nan</td>\n",
       "      <td> NaN</td>\n",
       "    </tr>\n",
       "    <tr>\n",
       "      <th>3721</th>\n",
       "      <td>    0</td>\n",
       "      <td>3,722</td>\n",
       "      <td>nan</td>\n",
       "      <td>nan</td>\n",
       "      <td> NaN</td>\n",
       "      <td>nan</td>\n",
       "      <td> NaN</td>\n",
       "    </tr>\n",
       "    <tr>\n",
       "      <th>3722</th>\n",
       "      <td>    0</td>\n",
       "      <td>3,723</td>\n",
       "      <td>nan</td>\n",
       "      <td>nan</td>\n",
       "      <td> NaN</td>\n",
       "      <td>nan</td>\n",
       "      <td> NaN</td>\n",
       "    </tr>\n",
       "    <tr>\n",
       "      <th>3723</th>\n",
       "      <td>    0</td>\n",
       "      <td>3,724</td>\n",
       "      <td>nan</td>\n",
       "      <td>nan</td>\n",
       "      <td> NaN</td>\n",
       "      <td>nan</td>\n",
       "      <td> NaN</td>\n",
       "    </tr>\n",
       "    <tr>\n",
       "      <th>3724</th>\n",
       "      <td>    0</td>\n",
       "      <td>3,725</td>\n",
       "      <td>nan</td>\n",
       "      <td>nan</td>\n",
       "      <td> NaN</td>\n",
       "      <td>nan</td>\n",
       "      <td> NaN</td>\n",
       "    </tr>\n",
       "    <tr>\n",
       "      <th>3725</th>\n",
       "      <td>    0</td>\n",
       "      <td>3,726</td>\n",
       "      <td>nan</td>\n",
       "      <td>nan</td>\n",
       "      <td> NaN</td>\n",
       "      <td>nan</td>\n",
       "      <td> NaN</td>\n",
       "    </tr>\n",
       "    <tr>\n",
       "      <th>3726</th>\n",
       "      <td>    0</td>\n",
       "      <td>3,727</td>\n",
       "      <td>nan</td>\n",
       "      <td>nan</td>\n",
       "      <td> NaN</td>\n",
       "      <td>nan</td>\n",
       "      <td> NaN</td>\n",
       "    </tr>\n",
       "    <tr>\n",
       "      <th>3727</th>\n",
       "      <td>    0</td>\n",
       "      <td>3,728</td>\n",
       "      <td>nan</td>\n",
       "      <td>nan</td>\n",
       "      <td> NaN</td>\n",
       "      <td>nan</td>\n",
       "      <td> NaN</td>\n",
       "    </tr>\n",
       "    <tr>\n",
       "      <th>3728</th>\n",
       "      <td>    0</td>\n",
       "      <td>3,729</td>\n",
       "      <td>nan</td>\n",
       "      <td>nan</td>\n",
       "      <td> NaN</td>\n",
       "      <td>nan</td>\n",
       "      <td> NaN</td>\n",
       "    </tr>\n",
       "    <tr>\n",
       "      <th>3729</th>\n",
       "      <td>    0</td>\n",
       "      <td>3,730</td>\n",
       "      <td>nan</td>\n",
       "      <td>nan</td>\n",
       "      <td> NaN</td>\n",
       "      <td>nan</td>\n",
       "      <td> NaN</td>\n",
       "    </tr>\n",
       "    <tr>\n",
       "      <th>3730</th>\n",
       "      <td>    0</td>\n",
       "      <td>3,731</td>\n",
       "      <td>nan</td>\n",
       "      <td>nan</td>\n",
       "      <td> NaN</td>\n",
       "      <td>nan</td>\n",
       "      <td> NaN</td>\n",
       "    </tr>\n",
       "    <tr>\n",
       "      <th>3731</th>\n",
       "      <td>    0</td>\n",
       "      <td>3,732</td>\n",
       "      <td>nan</td>\n",
       "      <td>nan</td>\n",
       "      <td> NaN</td>\n",
       "      <td>nan</td>\n",
       "      <td> NaN</td>\n",
       "    </tr>\n",
       "    <tr>\n",
       "      <th>3732</th>\n",
       "      <td>    0</td>\n",
       "      <td>3,733</td>\n",
       "      <td>nan</td>\n",
       "      <td>nan</td>\n",
       "      <td> NaN</td>\n",
       "      <td>nan</td>\n",
       "      <td> NaN</td>\n",
       "    </tr>\n",
       "    <tr>\n",
       "      <th>3733</th>\n",
       "      <td>    0</td>\n",
       "      <td>3,734</td>\n",
       "      <td>nan</td>\n",
       "      <td>nan</td>\n",
       "      <td> NaN</td>\n",
       "      <td>nan</td>\n",
       "      <td> NaN</td>\n",
       "    </tr>\n",
       "    <tr>\n",
       "      <th>3734</th>\n",
       "      <td>    0</td>\n",
       "      <td>3,735</td>\n",
       "      <td>nan</td>\n",
       "      <td>nan</td>\n",
       "      <td> NaN</td>\n",
       "      <td>nan</td>\n",
       "      <td> NaN</td>\n",
       "    </tr>\n",
       "    <tr>\n",
       "      <th>3735</th>\n",
       "      <td>    0</td>\n",
       "      <td>3,736</td>\n",
       "      <td>nan</td>\n",
       "      <td>nan</td>\n",
       "      <td> NaN</td>\n",
       "      <td>nan</td>\n",
       "      <td> NaN</td>\n",
       "    </tr>\n",
       "    <tr>\n",
       "      <th>3736</th>\n",
       "      <td>    0</td>\n",
       "      <td>3,737</td>\n",
       "      <td>nan</td>\n",
       "      <td>nan</td>\n",
       "      <td> NaN</td>\n",
       "      <td>nan</td>\n",
       "      <td> NaN</td>\n",
       "    </tr>\n",
       "    <tr>\n",
       "      <th>3737</th>\n",
       "      <td>    0</td>\n",
       "      <td>3,738</td>\n",
       "      <td>nan</td>\n",
       "      <td>nan</td>\n",
       "      <td> NaN</td>\n",
       "      <td>nan</td>\n",
       "      <td> NaN</td>\n",
       "    </tr>\n",
       "    <tr>\n",
       "      <th>3738</th>\n",
       "      <td>    0</td>\n",
       "      <td>3,739</td>\n",
       "      <td>nan</td>\n",
       "      <td>nan</td>\n",
       "      <td> NaN</td>\n",
       "      <td>nan</td>\n",
       "      <td> NaN</td>\n",
       "    </tr>\n",
       "    <tr>\n",
       "      <th>3739</th>\n",
       "      <td>    0</td>\n",
       "      <td>3,740</td>\n",
       "      <td>nan</td>\n",
       "      <td>nan</td>\n",
       "      <td> NaN</td>\n",
       "      <td>nan</td>\n",
       "      <td> NaN</td>\n",
       "    </tr>\n",
       "    <tr>\n",
       "      <th>3740</th>\n",
       "      <td>    0</td>\n",
       "      <td>3,741</td>\n",
       "      <td>nan</td>\n",
       "      <td>nan</td>\n",
       "      <td> NaN</td>\n",
       "      <td>nan</td>\n",
       "      <td> NaN</td>\n",
       "    </tr>\n",
       "    <tr>\n",
       "      <th>3741</th>\n",
       "      <td>    0</td>\n",
       "      <td>3,742</td>\n",
       "      <td>nan</td>\n",
       "      <td>nan</td>\n",
       "      <td> NaN</td>\n",
       "      <td>nan</td>\n",
       "      <td> NaN</td>\n",
       "    </tr>\n",
       "    <tr>\n",
       "      <th>3742</th>\n",
       "      <td>    0</td>\n",
       "      <td>3,743</td>\n",
       "      <td>nan</td>\n",
       "      <td>nan</td>\n",
       "      <td> NaN</td>\n",
       "      <td>nan</td>\n",
       "      <td> NaN</td>\n",
       "    </tr>\n",
       "    <tr>\n",
       "      <th>3743</th>\n",
       "      <td>    0</td>\n",
       "      <td>3,744</td>\n",
       "      <td>nan</td>\n",
       "      <td>nan</td>\n",
       "      <td> NaN</td>\n",
       "      <td>nan</td>\n",
       "      <td> NaN</td>\n",
       "    </tr>\n",
       "    <tr>\n",
       "      <th>3744</th>\n",
       "      <td>    0</td>\n",
       "      <td>3,745</td>\n",
       "      <td>nan</td>\n",
       "      <td>nan</td>\n",
       "      <td> NaN</td>\n",
       "      <td>nan</td>\n",
       "      <td> NaN</td>\n",
       "    </tr>\n",
       "    <tr>\n",
       "      <th>3745</th>\n",
       "      <td>    0</td>\n",
       "      <td>3,746</td>\n",
       "      <td>nan</td>\n",
       "      <td>nan</td>\n",
       "      <td> NaN</td>\n",
       "      <td>nan</td>\n",
       "      <td> NaN</td>\n",
       "    </tr>\n",
       "    <tr>\n",
       "      <th>3746</th>\n",
       "      <td>    0</td>\n",
       "      <td>3,747</td>\n",
       "      <td>nan</td>\n",
       "      <td>nan</td>\n",
       "      <td> NaN</td>\n",
       "      <td>nan</td>\n",
       "      <td> NaN</td>\n",
       "    </tr>\n",
       "    <tr>\n",
       "      <th>3747</th>\n",
       "      <td>    0</td>\n",
       "      <td>3,748</td>\n",
       "      <td>nan</td>\n",
       "      <td>nan</td>\n",
       "      <td> NaN</td>\n",
       "      <td>nan</td>\n",
       "      <td> NaN</td>\n",
       "    </tr>\n",
       "    <tr>\n",
       "      <th>3748</th>\n",
       "      <td>    0</td>\n",
       "      <td>3,749</td>\n",
       "      <td>nan</td>\n",
       "      <td>nan</td>\n",
       "      <td> NaN</td>\n",
       "      <td>nan</td>\n",
       "      <td> NaN</td>\n",
       "    </tr>\n",
       "    <tr>\n",
       "      <th>3749</th>\n",
       "      <td>    0</td>\n",
       "      <td>3,750</td>\n",
       "      <td>nan</td>\n",
       "      <td>nan</td>\n",
       "      <td> NaN</td>\n",
       "      <td>nan</td>\n",
       "      <td> NaN</td>\n",
       "    </tr>\n",
       "  </tbody>\n",
       "</table>\n",
       "</div>"
      ],
      "text/plain": [
       "      hvtrk   TAZ  TAD  OldDistric County  District New DistrictName\n",
       "3710      0 3,711  nan         nan    NaN       nan              NaN\n",
       "3711  5,657 3,712  nan         nan    NaN       nan              NaN\n",
       "3712      0 3,713  nan         nan    NaN       nan              NaN\n",
       "3713     64 3,714  nan         nan    NaN       nan              NaN\n",
       "3714      0 3,715  nan         nan    NaN       nan              NaN\n",
       "3715     55 3,716  nan         nan    NaN       nan              NaN\n",
       "3716      0 3,717  nan         nan    NaN       nan              NaN\n",
       "3717    201 3,718  nan         nan    NaN       nan              NaN\n",
       "3718      0 3,719  nan         nan    NaN       nan              NaN\n",
       "3719      0 3,720  nan         nan    NaN       nan              NaN\n",
       "3720      0 3,721  nan         nan    NaN       nan              NaN\n",
       "3721      0 3,722  nan         nan    NaN       nan              NaN\n",
       "3722      0 3,723  nan         nan    NaN       nan              NaN\n",
       "3723      0 3,724  nan         nan    NaN       nan              NaN\n",
       "3724      0 3,725  nan         nan    NaN       nan              NaN\n",
       "3725      0 3,726  nan         nan    NaN       nan              NaN\n",
       "3726      0 3,727  nan         nan    NaN       nan              NaN\n",
       "3727      0 3,728  nan         nan    NaN       nan              NaN\n",
       "3728      0 3,729  nan         nan    NaN       nan              NaN\n",
       "3729      0 3,730  nan         nan    NaN       nan              NaN\n",
       "3730      0 3,731  nan         nan    NaN       nan              NaN\n",
       "3731      0 3,732  nan         nan    NaN       nan              NaN\n",
       "3732      0 3,733  nan         nan    NaN       nan              NaN\n",
       "3733      0 3,734  nan         nan    NaN       nan              NaN\n",
       "3734      0 3,735  nan         nan    NaN       nan              NaN\n",
       "3735      0 3,736  nan         nan    NaN       nan              NaN\n",
       "3736      0 3,737  nan         nan    NaN       nan              NaN\n",
       "3737      0 3,738  nan         nan    NaN       nan              NaN\n",
       "3738      0 3,739  nan         nan    NaN       nan              NaN\n",
       "3739      0 3,740  nan         nan    NaN       nan              NaN\n",
       "3740      0 3,741  nan         nan    NaN       nan              NaN\n",
       "3741      0 3,742  nan         nan    NaN       nan              NaN\n",
       "3742      0 3,743  nan         nan    NaN       nan              NaN\n",
       "3743      0 3,744  nan         nan    NaN       nan              NaN\n",
       "3744      0 3,745  nan         nan    NaN       nan              NaN\n",
       "3745      0 3,746  nan         nan    NaN       nan              NaN\n",
       "3746      0 3,747  nan         nan    NaN       nan              NaN\n",
       "3747      0 3,748  nan         nan    NaN       nan              NaN\n",
       "3748      0 3,749  nan         nan    NaN       nan              NaN\n",
       "3749      0 3,750  nan         nan    NaN       nan              NaN"
      ]
     },
     "execution_count": 67,
     "metadata": {},
     "output_type": "execute_result"
    }
   ],
   "source": [
    "# Get external totals\n",
    "low_stat = 3733\n",
    "high_stat = 3750\n",
    "\n",
    "new_prod['hvtrk'].iloc[3710:high_stat]"
   ]
  },
  {
   "cell_type": "code",
   "execution_count": null,
   "metadata": {
    "collapsed": true
   },
   "outputs": [],
   "source": []
  }
 ],
 "metadata": {
  "kernelspec": {
   "display_name": "Python 2",
   "language": "python",
   "name": "python2"
  },
  "language_info": {
   "codemirror_mode": {
    "name": "ipython",
    "version": 2
   },
   "file_extension": ".py",
   "mimetype": "text/x-python",
   "name": "python",
   "nbconvert_exporter": "python",
   "pygments_lexer": "ipython2",
   "version": "2.7.9"
  }
 },
 "nbformat": 4,
 "nbformat_minor": 0
}
