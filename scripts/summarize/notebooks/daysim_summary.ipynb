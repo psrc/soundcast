{
 "cells": [
  {
   "cell_type": "code",
   "execution_count": 6,
   "metadata": {
    "collapsed": false
   },
   "outputs": [
    {
     "name": "stdout",
     "output_type": "stream",
     "text": [
      "Populating the interactive namespace from numpy and matplotlib\n"
     ]
    }
   ],
   "source": [
    "import os\n",
    "import numpy as np\n",
    "import pandas as pd\n",
    "import h5py\n",
    "import pylab as P\n",
    "\n",
    "%pylab inline"
   ]
  },
  {
   "cell_type": "code",
   "execution_count": 7,
   "metadata": {
    "collapsed": false
   },
   "outputs": [],
   "source": [
    "# Set main model directory to parent directory\n",
    "model_dir = os.path.dirname(os.getcwd()) "
   ]
  },
  {
   "cell_type": "code",
   "execution_count": 8,
   "metadata": {
    "collapsed": false
   },
   "outputs": [],
   "source": [
    "# Read DaySim Results\n",
    "ds = h5py.File(model_dir + r'/outputs/daysim_outputs.h5','r+')\n",
    "ds_name = 'Model: 2040'"
   ]
  },
  {
   "cell_type": "code",
   "execution_count": 9,
   "metadata": {
    "collapsed": false
   },
   "outputs": [],
   "source": [
    "# Read Survey Results\n",
    "survey_file = r'/inputs/hh_and_persons.h5'\n",
    "\n",
    "sv = h5py.File(model_dir + survey_file ,'r+')\n",
    "sv_name = '2006 Survey'"
   ]
  },
  {
   "cell_type": "code",
   "execution_count": 10,
   "metadata": {
    "collapsed": false
   },
   "outputs": [],
   "source": [
    "# Summarize Person-level results\n",
    "\n",
    "# Age distribution\n",
    "ages_ds = np.asarray(ds['Person']['pagey'])\n",
    "ages_sv = np.asarray(sv['Person']['pagey'])"
   ]
  },
  {
   "cell_type": "code",
   "execution_count": 11,
   "metadata": {
    "collapsed": false
   },
   "outputs": [
    {
     "data": {
      "text/plain": [
       "<matplotlib.legend.Legend at 0x11888e80>"
      ]
     },
     "execution_count": 11,
     "metadata": {},
     "output_type": "execute_result"
    },
    {
     "data": {
      "image/png": "[encoded data removed]",
      "text/plain": [
       "<matplotlib.figure.Figure at 0xd3f0080>"
      ]
     },
     "metadata": {},
     "output_type": "display_data"
    }
   ],
   "source": [
    "# Age Distribution Histogram\n",
    "bins = 30\n",
    "\n",
    "# Set model results to boldest (alpha default to 1)\n",
    "P.hist(ages_ds, bins=bins, normed=True, histtype='step', color='b', label=ds_name)\n",
    "\n",
    "# Compare with survey estimates (alpha < 0.5); Currently using fake data...\n",
    "P.hist(ages_sv, bins=bins, normed=True, histtype='step', color='grey', alpha=0.3, label=sv_name)\n",
    "P.xlabel('Age')\n",
    "P.ylabel('Distribution')\n",
    "P.legend()"
   ]
  },
  {
   "cell_type": "code",
   "execution_count": 12,
   "metadata": {
    "collapsed": false
   },
   "outputs": [
    {
     "name": "stdout",
     "output_type": "stream",
     "text": [
      "Gender split (1 = female)\n",
      "\n",
      "Model results: 0.504\n",
      "2006 Survey results: 0.504\n"
     ]
    }
   ],
   "source": [
    "print \"Gender split (1 = female)\"\n",
    "print \"\"\n",
    "print \"Model results: \" + str((np.asarray(ds['Person']['pgend']).mean()-1).round(3))\n",
    "print sv_name + \" results: \" + str((np.asarray(sv['Person']['pgend']).mean()-1).round(3))"
   ]
  },
  {
   "cell_type": "code",
   "execution_count": 13,
   "metadata": {
    "collapsed": false
   },
   "outputs": [],
   "source": [
    "# Worker type\n",
    "worker_type_ds = np.asarray(ds['Person']['pptyp'])\n",
    "worker_type_sv = np.asarray(sv['Person']['pptyp'])"
   ]
  },
  {
   "cell_type": "code",
   "execution_count": 14,
   "metadata": {
    "collapsed": false
   },
   "outputs": [
    {
     "data": {
      "text/plain": [
       "(1, 8)"
      ]
     },
     "execution_count": 14,
     "metadata": {},
     "output_type": "execute_result"
    },
    {
     "data": {
      "image/png": "[encoded data removed]",
      "text/plain": [
       "<matplotlib.figure.Figure at 0xc9f1898>"
      ]
     },
     "metadata": {},
     "output_type": "display_data"
    }
   ],
   "source": [
    "# Worker Type Histogram\n",
    "numbins = 8\n",
    "bins = np.arange(numbins)-0.5    # This center the historgram columns and splits by numbins\n",
    "\n",
    "# Set model results to boldest (alpha default to 1)\n",
    "P.hist(worker_type_ds, bins=bins, normed=True, histtype='step', color='b', label=ds_name)\n",
    "\n",
    "# Compare with survey estimates (alpha < 0.5); Currently using fake data...\n",
    "P.hist(worker_type_sv, bins=bins, normed=True, histtype='step', color='grey', alpha=0.3, label=sv_name)\n",
    "\n",
    "#Labels\n",
    "labels = {\n",
    "  1: \"Full time worker\",\n",
    "  2: \"Part time worker\",\n",
    "  3: \"Non working adult age 65+\",\n",
    "  4: \"Non working adult age<65\",\n",
    "  5: \"University student\",\n",
    "  6: \"High school student age 16+\",\n",
    "  7: \"Child age 5-15\",\n",
    "  8: \"Child age 0-4\"\n",
    "}\n",
    "\n",
    "P.xlabel('Worker Type')\n",
    "P.ylabel('Distribution')\n",
    "P.xlim(1, numbins)    # Set min and max for x axis\n",
    "#P.xticks(xrange(len(labels)), [labels[i] for i in xrange(labels.keys()[0], len(labels)+1)], rotation=90)"
   ]
  },
  {
   "cell_type": "code",
   "execution_count": null,
   "metadata": {
    "collapsed": true
   },
   "outputs": [],
   "source": [
    "# Student type"
   ]
  },
  {
   "cell_type": "code",
   "execution_count": null,
   "metadata": {
    "collapsed": true
   },
   "outputs": [],
   "source": [
    "# Transit Pass"
   ]
  },
  {
   "cell_type": "code",
   "execution_count": null,
   "metadata": {
    "collapsed": true
   },
   "outputs": [],
   "source": [
    "# Paid parking"
   ]
  }
 ],
 "metadata": {
  "kernelspec": {
   "display_name": "Python 2",
   "language": "python",
   "name": "python2"
  },
  "language_info": {
   "codemirror_mode": {
    "name": "ipython",
    "version": 2
   },
   "file_extension": ".py",
   "mimetype": "text/x-python",
   "name": "python",
   "nbconvert_exporter": "python",
   "pygments_lexer": "ipython2",
   "version": "2.7.10"
  }
 },
 "nbformat": 4,
 "nbformat_minor": 0
}
