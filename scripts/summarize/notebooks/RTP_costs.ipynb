{
 "cells": [
  {
   "cell_type": "markdown",
   "id": "29583245",
   "metadata": {},
   "source": [
    "# Average Annual Household Transportation Costs\n",
    "Out-of-pocket expenses including tolls, parking, and transit fares\n",
    "\n",
    "These costs do not include other vehicle operating and purchase costs.\n",
    "\n",
    "Costs are annualized using factor of 300, as used in the 2018 RTP.\n"
   ]
  },
  {
   "cell_type": "code",
   "execution_count": 1,
   "id": "20b477a3",
   "metadata": {
    "execution": {
     "iopub.execute_input": "2024-04-03T17:31:10.483251Z",
     "iopub.status.busy": "2024-04-03T17:31:10.483251Z",
     "iopub.status.idle": "2024-04-03T17:31:11.709314Z",
     "shell.execute_reply": "2024-04-03T17:31:11.708127Z"
    }
   },
   "outputs": [],
   "source": [
    "import os, sys, shutil\n",
    "sys.path.append(os.path.join(os.getcwd(),\"inputs\"))\n",
    "sys.path.append(os.path.join(os.getcwd(),r\"../../../scripts/summarize/standard\"))\n",
    "sys.path.append(os.path.join(os.getcwd(),r'../../..'))\n",
    "import numpy as np\n",
    "import pandas as pd\n",
    "from sqlalchemy import create_engine\n",
    "import sqlalchemy\n",
    "from shapely import wkt\n",
    "# from input_configuration import base_year\n",
    "# from emme_configuration import *\n",
    "from standard_summary_configuration import *\n",
    "pd.options.mode.chained_assignment = None\n",
    "import os, sys, time, shutil\n",
    "import warnings\n",
    "warnings.simplefilter(action='ignore', category=FutureWarning)\n",
    "import pandas as pd\n",
    "pd.options.mode.chained_assignment = None\n",
    "import h5py\n",
    "# import toml\n",
    "# config = toml.load(os.path.join(os.getcwd(),r'../../../configuration/input_configuration.toml'))\n",
    "\n",
    "\n",
    "%matplotlib inline\n",
    "\n",
    "from IPython.display import display, HTML\n",
    "\n",
    "if (sys.version_info < (3, 0)):\n",
    "    HTML('''<script>\n",
    "    code_show=true; \n",
    "    function code_toggle() {\n",
    "     if (code_show){\n",
    "     $('div.input').hide();\n",
    "     } else {\n",
    "     $('div.input').show();\n",
    "     }\n",
    "     code_show = !code_show\n",
    "    } \n",
    "    $( document ).ready(code_toggle);\n",
    "    </script>\n",
    "    <form action=\"javascript:code_toggle()\"><input type=\"submit\" value=\"Click here to toggle on/off the raw code.\"></form>''')\n"
   ]
  },
  {
   "cell_type": "code",
   "execution_count": 2,
   "id": "5a7bbb05",
   "metadata": {
    "execution": {
     "iopub.execute_input": "2024-04-03T17:31:11.715305Z",
     "iopub.status.busy": "2024-04-03T17:31:11.715305Z",
     "iopub.status.idle": "2024-04-03T17:31:11.724282Z",
     "shell.execute_reply": "2024-04-03T17:31:11.723284Z"
    }
   },
   "outputs": [],
   "source": [
    "CSS = \"\"\"\n",
    ".output {\n",
    "    flex-direction: row;\n",
    "}\n",
    "\"\"\"\n",
    "\n",
    "HTML('<style>{}</style>'.format(CSS))\n",
    "\n",
    "# Relative path between notebooks and goruped output directories\n",
    "relative_path = '../../../outputs/agg/dash'\n",
    "survey_path = '../../../inputs/base_year/survey'"
   ]
  },
  {
   "cell_type": "code",
   "execution_count": 3,
   "id": "dee19a06",
   "metadata": {
    "execution": {
     "iopub.execute_input": "2024-04-03T17:31:11.730265Z",
     "iopub.status.busy": "2024-04-03T17:31:11.729268Z",
     "iopub.status.idle": "2024-04-03T17:31:11.803096Z",
     "shell.execute_reply": "2024-04-03T17:31:11.802092Z"
    }
   },
   "outputs": [],
   "source": [
    "df = pd.read_csv(r'../../../outputs/agg/dash/person_cost.csv')\n",
    "df_hh = pd.read_csv(r'..\\..\\..\\outputs\\agg\\dash\\hh_geog.csv')\n",
    "\n",
    "annual_factor = 300\n",
    "\n",
    "df['is_rgc'] = 0\n",
    "df.loc[df['hh_rgc'] != 'Not in RGC', 'is_rgc'] = 1\n",
    "df_hh['is_rgc'] = 0\n",
    "df_hh.loc[df_hh['hh_rgc'] != 'Not in RGC', 'is_rgc'] = 1"
   ]
  },
  {
   "cell_type": "code",
   "execution_count": 4,
   "id": "20ff10cb",
   "metadata": {
    "execution": {
     "iopub.execute_input": "2024-04-03T17:31:11.809080Z",
     "iopub.status.busy": "2024-04-03T17:31:11.809080Z",
     "iopub.status.idle": "2024-04-03T17:31:11.848790Z",
     "shell.execute_reply": "2024-04-03T17:31:11.847785Z"
    }
   },
   "outputs": [],
   "source": [
    "df = df[(((df['mode'].isin(['SOV','HOV2','HOV3+']) & (df['dorp'] == 1)) \n",
    "          | (~df['mode'].isin(['SOV','HOV2','HOV3+']))))]"
   ]
  },
  {
   "cell_type": "code",
   "execution_count": 5,
   "id": "693fb40e",
   "metadata": {
    "execution": {
     "iopub.execute_input": "2024-04-03T17:31:11.854772Z",
     "iopub.status.busy": "2024-04-03T17:31:11.854772Z",
     "iopub.status.idle": "2024-04-03T17:31:11.864082Z",
     "shell.execute_reply": "2024-04-03T17:31:11.863079Z"
    }
   },
   "outputs": [],
   "source": [
    "pd.options.display.float_format = '${:0,.0f}'.format"
   ]
  },
  {
   "cell_type": "markdown",
   "id": "9fffaab9",
   "metadata": {},
   "source": [
    "# County"
   ]
  },
  {
   "cell_type": "code",
   "execution_count": 6,
   "id": "a2a024ae",
   "metadata": {
    "execution": {
     "iopub.execute_input": "2024-04-03T17:31:11.870067Z",
     "iopub.status.busy": "2024-04-03T17:31:11.870067Z",
     "iopub.status.idle": "2024-04-03T17:31:11.910277Z",
     "shell.execute_reply": "2024-04-03T17:31:11.909211Z"
    }
   },
   "outputs": [
    {
     "data": {
      "text/html": [
       "<div>\n",
       "<style scoped>\n",
       "    .dataframe tbody tr th:only-of-type {\n",
       "        vertical-align: middle;\n",
       "    }\n",
       "\n",
       "    .dataframe tbody tr th {\n",
       "        vertical-align: top;\n",
       "    }\n",
       "\n",
       "    .dataframe thead th {\n",
       "        text-align: right;\n",
       "    }\n",
       "</style>\n",
       "<table border=\"1\" class=\"dataframe\">\n",
       "  <thead>\n",
       "    <tr style=\"text-align: right;\">\n",
       "      <th></th>\n",
       "      <th>Average Annual Costs</th>\n",
       "    </tr>\n",
       "    <tr>\n",
       "      <th>hh_county</th>\n",
       "      <th></th>\n",
       "    </tr>\n",
       "  </thead>\n",
       "  <tbody>\n",
       "    <tr>\n",
       "      <th>King</th>\n",
       "      <td>$2,152</td>\n",
       "    </tr>\n",
       "    <tr>\n",
       "      <th>Kitsap</th>\n",
       "      <td>$2,129</td>\n",
       "    </tr>\n",
       "    <tr>\n",
       "      <th>Pierce</th>\n",
       "      <td>$2,088</td>\n",
       "    </tr>\n",
       "    <tr>\n",
       "      <th>Snohomish</th>\n",
       "      <td>$2,369</td>\n",
       "    </tr>\n",
       "    <tr>\n",
       "      <th>Region</th>\n",
       "      <td>$2,173</td>\n",
       "    </tr>\n",
       "  </tbody>\n",
       "</table>\n",
       "</div>"
      ],
      "text/plain": [
       "           Average Annual Costs\n",
       "hh_county                      \n",
       "King                     $2,152\n",
       "Kitsap                   $2,129\n",
       "Pierce                   $2,088\n",
       "Snohomish                $2,369\n",
       "Region                   $2,173"
      ]
     },
     "execution_count": 6,
     "metadata": {},
     "output_type": "execute_result"
    }
   ],
   "source": [
    "_df = pd.DataFrame(df.groupby('hh_county').sum()['travcost_wt']/df_hh.groupby('hh_county').sum()['hhexpfac'])*annual_factor\n",
    "_df.columns = ['Average Annual Costs']\n",
    "_df.loc['Region'] = df['travcost_wt'].sum()/df_hh['hhexpfac'].sum()*annual_factor\n",
    "_df"
   ]
  },
  {
   "cell_type": "markdown",
   "id": "22d701e5",
   "metadata": {},
   "source": [
    "# Regional Growth Center"
   ]
  },
  {
   "cell_type": "code",
   "execution_count": 7,
   "id": "a469e394",
   "metadata": {
    "execution": {
     "iopub.execute_input": "2024-04-03T17:31:11.916260Z",
     "iopub.status.busy": "2024-04-03T17:31:11.915263Z",
     "iopub.status.idle": "2024-04-03T17:31:11.940804Z",
     "shell.execute_reply": "2024-04-03T17:31:11.939801Z"
    }
   },
   "outputs": [
    {
     "data": {
      "text/html": [
       "<div>\n",
       "<style scoped>\n",
       "    .dataframe tbody tr th:only-of-type {\n",
       "        vertical-align: middle;\n",
       "    }\n",
       "\n",
       "    .dataframe tbody tr th {\n",
       "        vertical-align: top;\n",
       "    }\n",
       "\n",
       "    .dataframe thead th {\n",
       "        text-align: right;\n",
       "    }\n",
       "</style>\n",
       "<table border=\"1\" class=\"dataframe\">\n",
       "  <thead>\n",
       "    <tr style=\"text-align: right;\">\n",
       "      <th></th>\n",
       "      <th>Average Annual Costs</th>\n",
       "    </tr>\n",
       "    <tr>\n",
       "      <th>is_rgc</th>\n",
       "      <th></th>\n",
       "    </tr>\n",
       "  </thead>\n",
       "  <tbody>\n",
       "    <tr>\n",
       "      <th>0</th>\n",
       "      <td>$2,345</td>\n",
       "    </tr>\n",
       "    <tr>\n",
       "      <th>1</th>\n",
       "      <td>$1,006</td>\n",
       "    </tr>\n",
       "  </tbody>\n",
       "</table>\n",
       "</div>"
      ],
      "text/plain": [
       "        Average Annual Costs\n",
       "is_rgc                      \n",
       "0                     $2,345\n",
       "1                     $1,006"
      ]
     },
     "execution_count": 7,
     "metadata": {},
     "output_type": "execute_result"
    }
   ],
   "source": [
    "_df = pd.DataFrame(df.groupby('is_rgc').sum()['travcost_wt']/df_hh.groupby('is_rgc').sum()['hhexpfac'])*annual_factor\n",
    "_df.columns = ['Average Annual Costs']\n",
    "_df"
   ]
  },
  {
   "cell_type": "code",
   "execution_count": 8,
   "id": "f5553a7d",
   "metadata": {
    "execution": {
     "iopub.execute_input": "2024-04-03T17:31:11.946875Z",
     "iopub.status.busy": "2024-04-03T17:31:11.945792Z",
     "iopub.status.idle": "2024-04-03T17:31:11.989055Z",
     "shell.execute_reply": "2024-04-03T17:31:11.988048Z"
    }
   },
   "outputs": [
    {
     "data": {
      "text/html": [
       "<div>\n",
       "<style scoped>\n",
       "    .dataframe tbody tr th:only-of-type {\n",
       "        vertical-align: middle;\n",
       "    }\n",
       "\n",
       "    .dataframe tbody tr th {\n",
       "        vertical-align: top;\n",
       "    }\n",
       "\n",
       "    .dataframe thead th {\n",
       "        text-align: right;\n",
       "    }\n",
       "</style>\n",
       "<table border=\"1\" class=\"dataframe\">\n",
       "  <thead>\n",
       "    <tr style=\"text-align: right;\">\n",
       "      <th></th>\n",
       "      <th>Average Annual Costs</th>\n",
       "    </tr>\n",
       "    <tr>\n",
       "      <th>hh_rgc</th>\n",
       "      <th></th>\n",
       "    </tr>\n",
       "  </thead>\n",
       "  <tbody>\n",
       "    <tr>\n",
       "      <th>Auburn</th>\n",
       "      <td>$1,880</td>\n",
       "    </tr>\n",
       "    <tr>\n",
       "      <th>Bellevue</th>\n",
       "      <td>$1,218</td>\n",
       "    </tr>\n",
       "    <tr>\n",
       "      <th>Bothell Canyon Park</th>\n",
       "      <td>$2,225</td>\n",
       "    </tr>\n",
       "    <tr>\n",
       "      <th>Bremerton</th>\n",
       "      <td>$1,131</td>\n",
       "    </tr>\n",
       "    <tr>\n",
       "      <th>Burien</th>\n",
       "      <td>$1,839</td>\n",
       "    </tr>\n",
       "    <tr>\n",
       "      <th>Everett</th>\n",
       "      <td>$1,399</td>\n",
       "    </tr>\n",
       "    <tr>\n",
       "      <th>Federal Way</th>\n",
       "      <td>$2,332</td>\n",
       "    </tr>\n",
       "    <tr>\n",
       "      <th>Greater Downtown Kirkland</th>\n",
       "      <td>$2,112</td>\n",
       "    </tr>\n",
       "    <tr>\n",
       "      <th>Kent</th>\n",
       "      <td>$1,672</td>\n",
       "    </tr>\n",
       "    <tr>\n",
       "      <th>Kirkland Totem Lake</th>\n",
       "      <td>$2,037</td>\n",
       "    </tr>\n",
       "    <tr>\n",
       "      <th>Lakewood</th>\n",
       "      <td>$1,411</td>\n",
       "    </tr>\n",
       "    <tr>\n",
       "      <th>Lynnwood</th>\n",
       "      <td>$1,744</td>\n",
       "    </tr>\n",
       "    <tr>\n",
       "      <th>Not in RGC</th>\n",
       "      <td>$2,345</td>\n",
       "    </tr>\n",
       "    <tr>\n",
       "      <th>Puyallup Downtown</th>\n",
       "      <td>$1,221</td>\n",
       "    </tr>\n",
       "    <tr>\n",
       "      <th>Puyallup South Hill</th>\n",
       "      <td>$1,669</td>\n",
       "    </tr>\n",
       "    <tr>\n",
       "      <th>Redmond Downtown</th>\n",
       "      <td>$1,700</td>\n",
       "    </tr>\n",
       "    <tr>\n",
       "      <th>Redmond-Overlake</th>\n",
       "      <td>$1,549</td>\n",
       "    </tr>\n",
       "    <tr>\n",
       "      <th>Renton</th>\n",
       "      <td>$1,501</td>\n",
       "    </tr>\n",
       "    <tr>\n",
       "      <th>SeaTac</th>\n",
       "      <td>$2,137</td>\n",
       "    </tr>\n",
       "    <tr>\n",
       "      <th>Seattle Downtown</th>\n",
       "      <td>$470</td>\n",
       "    </tr>\n",
       "    <tr>\n",
       "      <th>Seattle First Hill/Capitol Hill</th>\n",
       "      <td>$571</td>\n",
       "    </tr>\n",
       "    <tr>\n",
       "      <th>Seattle Northgate</th>\n",
       "      <td>$1,592</td>\n",
       "    </tr>\n",
       "    <tr>\n",
       "      <th>Seattle South Lake Union</th>\n",
       "      <td>$598</td>\n",
       "    </tr>\n",
       "    <tr>\n",
       "      <th>Seattle University Community</th>\n",
       "      <td>$1,051</td>\n",
       "    </tr>\n",
       "    <tr>\n",
       "      <th>Seattle Uptown</th>\n",
       "      <td>$827</td>\n",
       "    </tr>\n",
       "    <tr>\n",
       "      <th>Tacoma Downtown</th>\n",
       "      <td>$964</td>\n",
       "    </tr>\n",
       "    <tr>\n",
       "      <th>Tacoma Mall</th>\n",
       "      <td>$1,255</td>\n",
       "    </tr>\n",
       "    <tr>\n",
       "      <th>Tukwila</th>\n",
       "      <td>$1,451</td>\n",
       "    </tr>\n",
       "    <tr>\n",
       "      <th>University Place</th>\n",
       "      <td>$1,516</td>\n",
       "    </tr>\n",
       "  </tbody>\n",
       "</table>\n",
       "</div>"
      ],
      "text/plain": [
       "                                 Average Annual Costs\n",
       "hh_rgc                                               \n",
       "Auburn                                         $1,880\n",
       "Bellevue                                       $1,218\n",
       "Bothell Canyon Park                            $2,225\n",
       "Bremerton                                      $1,131\n",
       "Burien                                         $1,839\n",
       "Everett                                        $1,399\n",
       "Federal Way                                    $2,332\n",
       "Greater Downtown Kirkland                      $2,112\n",
       "Kent                                           $1,672\n",
       "Kirkland Totem Lake                            $2,037\n",
       "Lakewood                                       $1,411\n",
       "Lynnwood                                       $1,744\n",
       "Not in RGC                                     $2,345\n",
       "Puyallup Downtown                              $1,221\n",
       "Puyallup South Hill                            $1,669\n",
       "Redmond Downtown                               $1,700\n",
       "Redmond-Overlake                               $1,549\n",
       "Renton                                         $1,501\n",
       "SeaTac                                         $2,137\n",
       "Seattle Downtown                                 $470\n",
       "Seattle First Hill/Capitol Hill                  $571\n",
       "Seattle Northgate                              $1,592\n",
       "Seattle South Lake Union                         $598\n",
       "Seattle University Community                   $1,051\n",
       "Seattle Uptown                                   $827\n",
       "Tacoma Downtown                                  $964\n",
       "Tacoma Mall                                    $1,255\n",
       "Tukwila                                        $1,451\n",
       "University Place                               $1,516"
      ]
     },
     "execution_count": 8,
     "metadata": {},
     "output_type": "execute_result"
    }
   ],
   "source": [
    "_df = pd.DataFrame(df.groupby('hh_rgc').sum()['travcost_wt']/df_hh.groupby('hh_rgc').sum()['hhexpfac'])*annual_factor\n",
    "_df.columns = ['Average Annual Costs']\n",
    "_df"
   ]
  },
  {
   "cell_type": "markdown",
   "id": "0bd99560",
   "metadata": {},
   "source": [
    "# Regional Geography"
   ]
  },
  {
   "cell_type": "code",
   "execution_count": 9,
   "id": "ddc6600e",
   "metadata": {
    "execution": {
     "iopub.execute_input": "2024-04-03T17:31:11.995102Z",
     "iopub.status.busy": "2024-04-03T17:31:11.994042Z",
     "iopub.status.idle": "2024-04-03T17:31:12.036997Z",
     "shell.execute_reply": "2024-04-03T17:31:12.036000Z"
    }
   },
   "outputs": [
    {
     "data": {
      "text/html": [
       "<div>\n",
       "<style scoped>\n",
       "    .dataframe tbody tr th:only-of-type {\n",
       "        vertical-align: middle;\n",
       "    }\n",
       "\n",
       "    .dataframe tbody tr th {\n",
       "        vertical-align: top;\n",
       "    }\n",
       "\n",
       "    .dataframe thead th {\n",
       "        text-align: right;\n",
       "    }\n",
       "</style>\n",
       "<table border=\"1\" class=\"dataframe\">\n",
       "  <thead>\n",
       "    <tr style=\"text-align: right;\">\n",
       "      <th></th>\n",
       "      <th>Average Annual Costs</th>\n",
       "    </tr>\n",
       "    <tr>\n",
       "      <th>hh_rg_proposed</th>\n",
       "      <th></th>\n",
       "    </tr>\n",
       "  </thead>\n",
       "  <tbody>\n",
       "    <tr>\n",
       "      <th>CitiesTowns</th>\n",
       "      <td>$3,138</td>\n",
       "    </tr>\n",
       "    <tr>\n",
       "      <th>Core</th>\n",
       "      <td>$2,470</td>\n",
       "    </tr>\n",
       "    <tr>\n",
       "      <th>HCT</th>\n",
       "      <td>$2,462</td>\n",
       "    </tr>\n",
       "    <tr>\n",
       "      <th>Metro</th>\n",
       "      <td>$1,663</td>\n",
       "    </tr>\n",
       "  </tbody>\n",
       "</table>\n",
       "</div>"
      ],
      "text/plain": [
       "                Average Annual Costs\n",
       "hh_rg_proposed                      \n",
       "CitiesTowns                   $3,138\n",
       "Core                          $2,470\n",
       "HCT                           $2,462\n",
       "Metro                         $1,663"
      ]
     },
     "execution_count": 9,
     "metadata": {},
     "output_type": "execute_result"
    }
   ],
   "source": [
    "_df = pd.DataFrame(df.groupby('hh_rg_proposed').sum()['travcost_wt']/df_hh.groupby('hh_rg_proposed').sum()['hhexpfac'])*annual_factor\n",
    "_df.columns = ['Average Annual Costs']\n",
    "_df"
   ]
  },
  {
   "cell_type": "markdown",
   "id": "a2027e5d",
   "metadata": {},
   "source": [
    "# Equity Geography"
   ]
  },
  {
   "cell_type": "code",
   "execution_count": 10,
   "id": "cb043e84",
   "metadata": {
    "execution": {
     "iopub.execute_input": "2024-04-03T17:31:12.044976Z",
     "iopub.status.busy": "2024-04-03T17:31:12.043979Z",
     "iopub.status.idle": "2024-04-03T17:31:13.313854Z",
     "shell.execute_reply": "2024-04-03T17:31:13.313854Z"
    }
   },
   "outputs": [
    {
     "data": {
      "text/html": [
       "<div>\n",
       "<style scoped>\n",
       "    .dataframe tbody tr th:only-of-type {\n",
       "        vertical-align: middle;\n",
       "    }\n",
       "\n",
       "    .dataframe tbody tr th {\n",
       "        vertical-align: top;\n",
       "    }\n",
       "\n",
       "    .dataframe thead th {\n",
       "        text-align: right;\n",
       "    }\n",
       "</style>\n",
       "<table border=\"1\" class=\"dataframe\">\n",
       "  <thead>\n",
       "    <tr style=\"text-align: right;\">\n",
       "      <th></th>\n",
       "      <th>Inside Equity Geog</th>\n",
       "      <th>Outside Equity Geog</th>\n",
       "    </tr>\n",
       "  </thead>\n",
       "  <tbody>\n",
       "    <tr>\n",
       "      <th>hh_youth_reg</th>\n",
       "      <td>$2,632</td>\n",
       "      <td>$1,887</td>\n",
       "    </tr>\n",
       "    <tr>\n",
       "      <th>hh_elderly_reg</th>\n",
       "      <td>$2,195</td>\n",
       "      <td>$2,154</td>\n",
       "    </tr>\n",
       "    <tr>\n",
       "      <th>hh_english_reg</th>\n",
       "      <td>$2,332</td>\n",
       "      <td>$2,066</td>\n",
       "    </tr>\n",
       "    <tr>\n",
       "      <th>hh_racial_reg</th>\n",
       "      <td>$2,144</td>\n",
       "      <td>$2,202</td>\n",
       "    </tr>\n",
       "    <tr>\n",
       "      <th>hh_racial_50</th>\n",
       "      <td>$2,167</td>\n",
       "      <td>$2,176</td>\n",
       "    </tr>\n",
       "    <tr>\n",
       "      <th>hh_poverty_reg</th>\n",
       "      <td>$1,981</td>\n",
       "      <td>$2,307</td>\n",
       "    </tr>\n",
       "    <tr>\n",
       "      <th>hh_poverty_50</th>\n",
       "      <td>$1,511</td>\n",
       "      <td>$2,190</td>\n",
       "    </tr>\n",
       "    <tr>\n",
       "      <th>hh_disability_reg</th>\n",
       "      <td>$2,003</td>\n",
       "      <td>$2,305</td>\n",
       "    </tr>\n",
       "  </tbody>\n",
       "</table>\n",
       "</div>"
      ],
      "text/plain": [
       "                   Inside Equity Geog  Outside Equity Geog\n",
       "hh_youth_reg                   $2,632               $1,887\n",
       "hh_elderly_reg                 $2,195               $2,154\n",
       "hh_english_reg                 $2,332               $2,066\n",
       "hh_racial_reg                  $2,144               $2,202\n",
       "hh_racial_50                   $2,167               $2,176\n",
       "hh_poverty_reg                 $1,981               $2,307\n",
       "hh_poverty_50                  $1,511               $2,190\n",
       "hh_disability_reg              $2,003               $2,305"
      ]
     },
     "execution_count": 10,
     "metadata": {},
     "output_type": "execute_result"
    }
   ],
   "source": [
    "results_df = pd.DataFrame()\n",
    "trip_rate_df = pd.DataFrame()\n",
    "list_50 = ['hh_racial','hh_poverty']\n",
    "\n",
    "# Calculate total work trips per each group\n",
    "work_results_df = pd.DataFrame()\n",
    "equity_geogs = ['hh_youth','hh_elderly','hh_english','hh_racial','hh_poverty','hh_disability']\n",
    "for equity_geog in equity_geogs:\n",
    "    for geog_type in ['_reg','_50']:\n",
    "        if df_hh[df_hh[equity_geog+geog_type] == 1].sum()['hhexpfac'] > 0:\n",
    "            _df = (df[df[equity_geog+geog_type] == 1].sum()['travcost_wt']/df_hh[df_hh[equity_geog+geog_type] == 1].sum()['hhexpfac'])*annual_factor\n",
    "            results_df.loc[equity_geog+geog_type,'costs'] = _df\n",
    "        \n",
    "inv_results_df = pd.DataFrame()\n",
    "trip_rate_df = pd.DataFrame()\n",
    "list_50 = ['hh_racial','hh_poverty']\n",
    "\n",
    "# Calculate total work trips per each group\n",
    "work_results_df = pd.DataFrame()\n",
    "equity_geogs = ['hh_youth','hh_elderly','hh_english','hh_racial','hh_poverty','hh_disability']\n",
    "for equity_geog in equity_geogs:\n",
    "    for geog_type in ['_reg','_50']:\n",
    "        if df_hh[df_hh[equity_geog+geog_type] == 1].sum()['hhexpfac'] > 0:\n",
    "            _df = (df[df[equity_geog+geog_type] == 0].sum()['travcost_wt']/df_hh[df_hh[equity_geog+geog_type] == 0].sum()['hhexpfac'])*annual_factor\n",
    "            inv_results_df.loc[equity_geog+geog_type,'costs'] = _df\n",
    "        \n",
    "# inv_results_df.index = ['NOT in '+i for i in results_df.index] \n",
    "_df = results_df.merge(inv_results_df, left_index=True, right_index=True)\n",
    "_df.columns = ['Inside Equity Geog','Outside Equity Geog']\n",
    "_df[~_df.isnull()]"
   ]
  }
 ],
 "metadata": {
  "kernelspec": {
   "display_name": "Python 3",
   "language": "python",
   "name": "python3"
  },
  "language_info": {
   "codemirror_mode": {
    "name": "ipython",
    "version": 3
   },
   "file_extension": ".py",
   "mimetype": "text/x-python",
   "name": "python",
   "nbconvert_exporter": "python",
   "pygments_lexer": "ipython3",
   "version": "3.7.10"
  }
 },
 "nbformat": 4,
 "nbformat_minor": 5
}
