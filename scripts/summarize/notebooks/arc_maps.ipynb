{
 "cells": [
  {
   "cell_type": "code",
   "execution_count": 1,
   "metadata": {
    "collapsed": false
   },
   "outputs": [],
   "source": [
    "import arcpy\n",
    "from arcpy import env\n",
    "import os\n",
    "import numpy as np\n",
    "import pandas as pd\n",
    "import h5py"
   ]
  },
  {
   "cell_type": "code",
   "execution_count": 2,
   "metadata": {
    "collapsed": false
   },
   "outputs": [],
   "source": [
    "# Set main model directory to parent directory\n",
    "model_dir = os.path.dirname(os.getcwd()) "
   ]
  },
  {
   "cell_type": "code",
   "execution_count": 3,
   "metadata": {
    "collapsed": false
   },
   "outputs": [],
   "source": [
    "# Read Model Scenario Results\n",
    "scen = h5py.File(model_dir + r'/outputs/daysim_outputs.h5','r+')\n",
    "scen_name = 'Model: 2040'"
   ]
  },
  {
   "cell_type": "code",
   "execution_count": 4,
   "metadata": {
    "collapsed": false
   },
   "outputs": [],
   "source": [
    "# Read Base Data\n",
    "base_file = r'/inputs/hh_and_persons.h5'\n",
    "\n",
    "base = h5py.File(model_dir + base_file ,'r+')\n",
    "base_name = '2006 Survey'"
   ]
  },
  {
   "cell_type": "code",
   "execution_count": 5,
   "metadata": {
    "collapsed": false
   },
   "outputs": [],
   "source": [
    "\n",
    "# Results based on Household Location\n",
    "df_hh = pd.DataFrame({'TAZ': np.asarray(scen['Household']['zone_id']), \n",
    "                      'hhsize': np.asarray(scen['Household']['hhsize']),\n",
    "                      'hhincome': np.asarray(scen['Household']['hhincome']),\n",
    "                      'hhvehs': np.asarray(scen['Household']['hhvehs']),\n",
    "                      })\n",
    "\n",
    "# Results based on Work Location\n",
    "df_work = pd.DataFrame({'TAZ': np.asarray(scen['Person']['pwtaz']),\n",
    "                        'transit_pass': np.asarray(scen['Person']['ptpass']),\n",
    "                        'paid_work_parking': np.asarray(scen['Person']['ppaidprk']),\n",
    "                        'auto_time_work': np.asarray(scen['Person']['pwautime']),\n",
    "                        'auto_time_dist': np.asarray(scen['Person']['pwaudist']),\n",
    "                      })\n",
    "\n",
    "\n",
    "# Calculate average household size, income, and number of vehicles\n",
    "df_hh_mean = df_hh.groupby('TAZ').mean()\n",
    "df_work_mean = df_work.groupby('TAZ').mean()\n",
    "df_work_mean = df_work_mean.query('TAZ > 0')    # Filter our -1 zone\n",
    "\n",
    "# Export to csv\n",
    "df_hh_mean.to_csv('hh_souncast_taz.csv', index=True)\n",
    "df_work_mean.to_csv('work_souncast_taz.csv', index=True)"
   ]
  },
  {
   "cell_type": "code",
   "execution_count": null,
   "metadata": {
    "collapsed": true
   },
   "outputs": [],
   "source": [
    "# Create comparison maps, scenario versus some stated base or census/survey data"
   ]
  },
  {
   "cell_type": "code",
   "execution_count": 9,
   "metadata": {
    "collapsed": true
   },
   "outputs": [],
   "source": [
    "# Start ArcMap document and map results\n",
    "\n",
    "RunPath = \".\"\n",
    "env.workspace = RunPath\n",
    "env.qualifiedFieldNames = False"
   ]
  },
  {
   "cell_type": "code",
   "execution_count": 128,
   "metadata": {
    "collapsed": false
   },
   "outputs": [],
   "source": [
    "def createTazMap(data, inputlayer, outputdataset, outputlayer):\n",
    "    ''' Add data to TAZ layer '''\n",
    "    if arcpy.Exists(outputdataset):\n",
    "        arcpy.Delete_management(outputdataset)\n",
    "    if arcpy.Exists(outputlayer):\n",
    "        arcpy.Delete_management(outputlayer)\n",
    "\n",
    "    try:\n",
    "        inputdataset = \"TAZ.shp\"\n",
    "        InField = \"TAZ\"\n",
    "        JoinField = \"TAZ\"\n",
    "        arcpy.MakeFeatureLayer_management(inputdataset, inputlayer)\n",
    "        arcpy.AddJoin_management(inputlayer, InField, data, JoinField)\n",
    "        arcpy.CopyFeatures_management(inputlayer, outputdataset)\n",
    "        arcpy.Delete_management(inputlayer)\n",
    "    except Exception, e:\n",
    "        print \"Unable to join data\"\n",
    "        print e\n",
    "        \n",
    "    # Output the layer as map\n",
    "    try:\n",
    "        arcpy.MakeFeatureLayer_management(outputdataset, inputlayer)\n",
    "        arcpy.SaveToLayerFile_management(inputlayer, outputlayer)\n",
    "        arcpy.Delete_management(inputlayer)  \n",
    "    except Exception, e:\n",
    "        print \"Unable to save layer as map\"\n",
    "        print e\n",
    "        \n",
    "    return None"
   ]
  },
  {
   "cell_type": "code",
   "execution_count": 126,
   "metadata": {
    "collapsed": false
   },
   "outputs": [],
   "source": [
    "# Create a shapefile for household-level results\n",
    "createTazMap(data='hh_souncast_taz.csv', \n",
    "             inputlayer='Household Location', \n",
    "             outputdataset='home_loc.shp', \n",
    "             'home_loc.lyr')"
   ]
  },
  {
   "cell_type": "code",
   "execution_count": 129,
   "metadata": {
    "collapsed": false
   },
   "outputs": [],
   "source": [
    "# Create a shapefile for work-level results\n",
    "createTazMap(data='work_souncast_taz.csv', \n",
    "             inputlayer='Work Location', \n",
    "             outputdataset='work_loc.shp', \n",
    "             outputlayer='work_loc.lyr')"
   ]
  },
  {
   "cell_type": "code",
   "execution_count": null,
   "metadata": {
    "collapsed": true
   },
   "outputs": [],
   "source": []
  },
  {
   "cell_type": "code",
   "execution_count": null,
   "metadata": {
    "collapsed": true
   },
   "outputs": [],
   "source": [
    "###### Try to do all this without writing out to a CSV, reading data in memory ######"
   ]
  },
  {
   "cell_type": "code",
   "execution_count": null,
   "metadata": {
    "collapsed": true
   },
   "outputs": [],
   "source": []
  },
  {
   "cell_type": "code",
   "execution_count": 139,
   "metadata": {
    "collapsed": false
   },
   "outputs": [
    {
     "ename": "TypeError",
     "evalue": "narray.fields require",
     "output_type": "error",
     "traceback": [
      "\u001b[1;31m---------------------------------------------------------------------------\u001b[0m",
      "\u001b[1;31mTypeError\u001b[0m                                 Traceback (most recent call last)",
      "\u001b[1;32m<ipython-input-139-03859ea8a61d>\u001b[0m in \u001b[0;36m<module>\u001b[1;34m()\u001b[0m\n\u001b[0;32m     14\u001b[0m \u001b[1;31m# Export the numpy array to a feature class using the XY field to\u001b[0m\u001b[1;33m\u001b[0m\u001b[1;33m\u001b[0m\u001b[0m\n\u001b[0;32m     15\u001b[0m \u001b[1;31m#  represent the output point feature\u001b[0m\u001b[1;33m\u001b[0m\u001b[1;33m\u001b[0m\u001b[0m\n\u001b[1;32m---> 16\u001b[1;33m \u001b[0marcpy\u001b[0m\u001b[1;33m.\u001b[0m\u001b[0mda\u001b[0m\u001b[1;33m.\u001b[0m\u001b[0mNumPyArrayToFeatureClass\u001b[0m\u001b[1;33m(\u001b[0m\u001b[0marr\u001b[0m\u001b[1;33m,\u001b[0m \u001b[0mout_fc\u001b[0m\u001b[1;33m,\u001b[0m \u001b[1;33m[\u001b[0m\u001b[1;34m'XY'\u001b[0m\u001b[1;33m]\u001b[0m\u001b[1;33m,\u001b[0m \u001b[0mspatial_ref\u001b[0m\u001b[1;33m)\u001b[0m\u001b[1;33m\u001b[0m\u001b[0m\n\u001b[0m",
      "\u001b[1;31mTypeError\u001b[0m: narray.fields require"
     ]
    }
   ],
   "source": [
    "out_fc = 'test.gdb/numpy_hh_out'\n",
    "\n",
    "# Create a numpy array with an id field, and a field with a tuple \n",
    "#  of x,y coordinates\n",
    "# arr = np.array([(1, (471316.3835861763, 5000448.782036674)),\n",
    "#                    (2, (470402.49348005146, 5000049.216449278))],\n",
    "#                   np.dtype([('idfield', np.int32),('XY', '<f8', 2)]))\n",
    "\n",
    "arr = test\n",
    "\n",
    "# Define a spatial reference for the output feature class\n",
    "spatial_ref = arcpy.Describe('TAZ.shp').spatialReference\n",
    "\n",
    "# Export the numpy array to a feature class using the XY field to\n",
    "#  represent the output point feature\n",
    "arcpy.da.NumPyArrayToFeatureClass(arr, out_fc, ['XY'], spatial_ref)"
   ]
  },
  {
   "cell_type": "code",
   "execution_count": null,
   "metadata": {
    "collapsed": true
   },
   "outputs": [],
   "source": []
  },
  {
   "cell_type": "code",
   "execution_count": 47,
   "metadata": {
    "collapsed": false
   },
   "outputs": [
    {
     "data": {
      "text/plain": [
       "array([2972, 2989, 2986, ..., 2364, 2365, 2365])"
      ]
     },
     "execution_count": 47,
     "metadata": {},
     "output_type": "execute_result"
    }
   ],
   "source": [
    "a"
   ]
  },
  {
   "cell_type": "code",
   "execution_count": 138,
   "metadata": {
    "collapsed": false
   },
   "outputs": [],
   "source": [
    "test = np.array([a,np.dtype([('idfield', np.int32),('XY', '<f8', 2)])])"
   ]
  },
  {
   "cell_type": "code",
   "execution_count": 140,
   "metadata": {
    "collapsed": false
   },
   "outputs": [
    {
     "data": {
      "text/plain": [
       "array([array([2972, 2989, 2986, ..., 2364, 2365, 2365]),\n",
       "       dtype([('idfield', '<i4'), ('XY', '<f8', (2,))])], dtype=object)"
      ]
     },
     "execution_count": 140,
     "metadata": {},
     "output_type": "execute_result"
    }
   ],
   "source": [
    "test"
   ]
  },
  {
   "cell_type": "code",
   "execution_count": null,
   "metadata": {
    "collapsed": true
   },
   "outputs": [],
   "source": []
  }
 ],
 "metadata": {
  "kernelspec": {
   "display_name": "Python 2",
   "language": "python",
   "name": "python2"
  },
  "language_info": {
   "codemirror_mode": {
    "name": "ipython",
    "version": 2
   },
   "file_extension": ".py",
   "mimetype": "text/x-python",
   "name": "python",
   "nbconvert_exporter": "python",
   "pygments_lexer": "ipython2",
   "version": "2.7.10"
  }
 },
 "nbformat": 4,
 "nbformat_minor": 0
}
