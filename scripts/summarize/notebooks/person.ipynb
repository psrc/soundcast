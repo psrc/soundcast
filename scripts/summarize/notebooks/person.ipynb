{
 "cells": [
  {
   "cell_type": "code",
   "execution_count": 48,
   "metadata": {
    "collapsed": false
   },
   "outputs": [
    {
     "name": "stdout",
     "output_type": "stream",
     "text": [
      "Populating the interactive namespace from numpy and matplotlib\n"
     ]
    }
   ],
   "source": [
    "import os\n",
    "import numpy as np\n",
    "import pandas as pd\n",
    "import h5py\n",
    "import pylab as P\n",
    "\n",
    "# Show charts in notebook\n",
    "%pylab inline"
   ]
  },
  {
   "cell_type": "code",
   "execution_count": 49,
   "metadata": {
    "collapsed": false
   },
   "outputs": [],
   "source": [
    "# Set main model directory to parent directory\n",
    "model_dir = os.path.dirname(os.getcwd()) "
   ]
  },
  {
   "cell_type": "code",
   "execution_count": 50,
   "metadata": {
    "collapsed": false
   },
   "outputs": [],
   "source": [
    "# Read Model Scenario Results\n",
    "scen = h5py.File(model_dir + r'/outputs/daysim_outputs.h5','r+')\n",
    "scen_name = 'Model: 2040'"
   ]
  },
  {
   "cell_type": "code",
   "execution_count": 51,
   "metadata": {
    "collapsed": false
   },
   "outputs": [],
   "source": [
    "# Read Base Data\n",
    "base_file = r'/inputs/hh_and_persons.h5'\n",
    "\n",
    "base = h5py.File(model_dir + base_file ,'r+')\n",
    "base_name = '2006 Survey'"
   ]
  },
  {
   "cell_type": "code",
   "execution_count": null,
   "metadata": {
    "collapsed": true
   },
   "outputs": [],
   "source": [
    "####################\n",
    "# Age Distribution\n",
    "####################"
   ]
  },
  {
   "cell_type": "code",
   "execution_count": 52,
   "metadata": {
    "collapsed": false
   },
   "outputs": [],
   "source": [
    "# Summarize Person-level results\n",
    "\n",
    "# Age distribution\n",
    "ages_scen = np.asarray(scen['Person']['pagey'])\n",
    "ages_base = np.asarray(base['Person']['pagey'])"
   ]
  },
  {
   "cell_type": "code",
   "execution_count": 53,
   "metadata": {
    "collapsed": false
   },
   "outputs": [
    {
     "data": {
      "text/plain": [
       "<matplotlib.legend.Legend at 0x123fdba8>"
      ]
     },
     "execution_count": 53,
     "metadata": {},
     "output_type": "execute_result"
    },
    {
     "data": {
      "image/png": "[encoded data removed]",
      "text/plain": [
       "<matplotlib.figure.Figure at 0x123bbe10>"
      ]
     },
     "metadata": {},
     "output_type": "display_data"
    }
   ],
   "source": [
    "# Age Distribution Histogram\n",
    "bins = 30\n",
    "\n",
    "# Set model results to boldest (alpha default to 1)\n",
    "P.hist(ages_scen, bins=bins, normed=True, histtype='step', color='b', label=scen_name)\n",
    "\n",
    "# Compare with survey estimates (alpha < 0.5); Currently using fake data...\n",
    "P.hist(ages_base, bins=bins, normed=True, histtype='step', color='grey', alpha=0.3, label=base_name)\n",
    "P.xlabel('Age')\n",
    "P.ylabel('Distribution')\n",
    "P.legend()"
   ]
  },
  {
   "cell_type": "code",
   "execution_count": 54,
   "metadata": {
    "collapsed": false
   },
   "outputs": [
    {
     "name": "stdout",
     "output_type": "stream",
     "text": [
      "Gender split (1 = female)\n",
      "\n",
      "Model results: 0.504\n",
      "2006 Survey results: 0.508\n"
     ]
    }
   ],
   "source": [
    "print \"Gender split (1 = female)\"\n",
    "print \"\"\n",
    "print \"Model results: \" + str((np.asarray(scen['Person']['pgend']).mean()-1).round(3))\n",
    "print base_name + \" results: \" + str((np.asarray(base['Person']['pgend']).mean()-1).round(3))"
   ]
  },
  {
   "cell_type": "code",
   "execution_count": null,
   "metadata": {
    "collapsed": true
   },
   "outputs": [],
   "source": [
    "####################\n",
    "# Worker Type\n",
    "####################"
   ]
  },
  {
   "cell_type": "code",
   "execution_count": 144,
   "metadata": {
    "collapsed": false
   },
   "outputs": [],
   "source": [
    "# Worker type\n",
    "worker_type_var = 'pptyp'    # Assuming this is same as base as in scenario\n",
    "\n",
    "worker_type_scen = np.asarray(scen['Person'][worker_type_var])\n",
    "worker_type_base = np.asarray(base['Person'][worker_type_var])\n",
    "\n",
    "worker_labels = {\n",
    "  1: \"Full time worker\",\n",
    "  2: \"Part time worker\",\n",
    "  3: \"Non working adult age 65+\",\n",
    "  4: \"Non working adult age<65\",\n",
    "  5: \"University student\",\n",
    "  6: \"High school student age 16+\",\n",
    "  7: \"Child age 5-15\",\n",
    "  8: \"Child age 0-4\"\n",
    "}"
   ]
  },
  {
   "cell_type": "code",
   "execution_count": 136,
   "metadata": {
    "collapsed": false
   },
   "outputs": [],
   "source": [
    "# Sum by worker type for scenario results\n",
    "df = pd.DataFrame(worker_type_scen, columns=[worker_type_var])\n",
    "df['Worker Type'] = [worker_labels[x] for x in df[worker_type_var].as_matrix()]\n",
    "worker_types_scen = df.groupby('Worker Type').count()['pptyp']     # Sum by category\n",
    "worker_types_scen = worker_types_scen/worker_types_scen.sum()     # Convert totals to shares"
   ]
  },
  {
   "cell_type": "code",
   "execution_count": 137,
   "metadata": {
    "collapsed": true
   },
   "outputs": [],
   "source": [
    "# Sum by worker type for base\n",
    "df = pd.DataFrame(worker_type_base, columns=[worker_type_var])\n",
    "df['Worker Type'] = [worker_labels[x] for x in df[worker_type_var].as_matrix()]\n",
    "worker_types_base = df.groupby('Worker Type').count()['pptyp']    # Sum by category\n",
    "worker_types_base = worker_types_base/worker_types_base.sum()     # Convert totals to shares"
   ]
  },
  {
   "cell_type": "code",
   "execution_count": 174,
   "metadata": {
    "collapsed": false
   },
   "outputs": [
    {
     "data": {
      "text/plain": [
       "<matplotlib.legend.Legend at 0x39e40630>"
      ]
     },
     "execution_count": 174,
     "metadata": {},
     "output_type": "execute_result"
    },
    {
     "data": {
      "image/png": "[encoded data removed]",
      "text/plain": [
       "<matplotlib.figure.Figure at 0x39ce72b0>"
      ]
     },
     "metadata": {},
     "output_type": "display_data"
    }
   ],
   "source": [
    "# Set bar chart params\n",
    "ind = np.arange(len(worker_types_scen))    # index array to match dataset size\n",
    "width = 0.3    # width of bars\n",
    "\n",
    "fig, ax = P.subplots()    # Initialize bar chart object\n",
    "\n",
    "workers_scen = ax.bar(ind, worker_types_scen.values, width=width, color='b')    # plot scenario data\n",
    "workers_base = ax.bar(ind+width, worker_types_base.values, width=width, color='grey', alpha=0.3)    # plot base data (note the index offset by the bar width)\n",
    "ax.set_xticks(ind+width)   \n",
    "ax.set_xticklabels(worker_types_scen.index, rotation=90)\n",
    "ax.set_title('Worker Types')\n",
    "\n",
    "ax.legend((workers_scen, workers_base), (scen_name, base_name))"
   ]
  },
  {
   "cell_type": "code",
   "execution_count": null,
   "metadata": {
    "collapsed": true
   },
   "outputs": [],
   "source": [
    "####################\n",
    "# Student Status\n",
    "####################"
   ]
  },
  {
   "cell_type": "code",
   "execution_count": 164,
   "metadata": {
    "collapsed": true
   },
   "outputs": [],
   "source": [
    "student_type_var = 'pstyp'    # Assuming this is same as base as in scenario\n",
    "\n",
    "student_type_scen = np.asarray(scen['Person'][student_type_var])\n",
    "student_type_base = np.asarray(base['Person'][student_type_var])\n",
    "\n",
    "student_labels = {\n",
    "  0: \"Not a student\",\n",
    "  1: \"Full-time student\",\n",
    "  2: \"Part-time student\",\n",
    "}"
   ]
  },
  {
   "cell_type": "code",
   "execution_count": 165,
   "metadata": {
    "collapsed": false
   },
   "outputs": [],
   "source": [
    "# Sum by student type for scenario results\n",
    "df = pd.DataFrame(student_type_scen, columns=[student_type_var])\n",
    "df['Student Status'] = [student_labels[x] for x in df[student_type_var].as_matrix()]\n",
    "student_type_scen = df.groupby('Student Status').count()[student_type_var]     # Sum by category\n",
    "student_type_scen = student_type_scen/student_type_scen.sum()     # Convert totals to shares"
   ]
  },
  {
   "cell_type": "code",
   "execution_count": 166,
   "metadata": {
    "collapsed": false
   },
   "outputs": [],
   "source": [
    "# Sum by student type for base\n",
    "df = pd.DataFrame(student_type_base, columns=[student_type_var])\n",
    "df['Student Status'] = [student_labels[x] for x in df[student_type_var].as_matrix()]\n",
    "student_type_base = df.groupby('Student Status').count()[student_type_var]    # Sum by category\n",
    "student_type_base = student_type_base/student_type_base.sum()     # Convert totals to shares"
   ]
  },
  {
   "cell_type": "code",
   "execution_count": 176,
   "metadata": {
    "collapsed": false
   },
   "outputs": [
    {
     "data": {
      "text/plain": [
       "<matplotlib.legend.Legend at 0x3a0736d8>"
      ]
     },
     "execution_count": 176,
     "metadata": {},
     "output_type": "execute_result"
    },
    {
     "data": {
      "image/png": "[encoded data removed]",
      "text/plain": [
       "<matplotlib.figure.Figure at 0x3a0731d0>"
      ]
     },
     "metadata": {},
     "output_type": "display_data"
    }
   ],
   "source": [
    "# Set bar chart params\n",
    "ind = np.arange(len(student_type_scen))    # index array to match dataset size\n",
    "width = 0.3    # width of bars\n",
    "\n",
    "fig, ax = P.subplots()    # Initialize bar chart object\n",
    "\n",
    "students_scen = ax.bar(ind, student_type_scen.values, width=width, color='b')    # plot scenario data\n",
    "students_base = ax.bar(ind+width, student_type_base.values, width=width, color='grey', alpha=0.3)    # plot base data (note the index offset by the bar width)\n",
    "ax.set_xticks(ind+width)   \n",
    "ax.set_xticklabels(student_type_scen.index, rotation=90)\n",
    "ax.set_title('Worker Types')\n",
    "\n",
    "ax.legend((students_scen, students_base), (scen_name, base_name))"
   ]
  }
 ],
 "metadata": {
  "kernelspec": {
   "display_name": "Python 2",
   "language": "python",
   "name": "python2"
  },
  "language_info": {
   "codemirror_mode": {
    "name": "ipython",
    "version": 2
   },
   "file_extension": ".py",
   "mimetype": "text/x-python",
   "name": "python",
   "nbconvert_exporter": "python",
   "pygments_lexer": "ipython2",
   "version": "2.7.10"
  }
 },
 "nbformat": 4,
 "nbformat_minor": 0
}
