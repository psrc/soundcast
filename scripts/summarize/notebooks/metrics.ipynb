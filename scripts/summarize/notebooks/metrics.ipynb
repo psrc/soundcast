{
 "cells": [
  {
   "cell_type": "code",
   "execution_count": 1,
   "metadata": {
    "execution": {
     "iopub.execute_input": "2024-04-03T17:42:41.771795Z",
     "iopub.status.busy": "2024-04-03T17:42:41.770798Z",
     "iopub.status.idle": "2024-04-03T17:42:42.802475Z",
     "shell.execute_reply": "2024-04-03T17:42:42.801535Z"
    }
   },
   "outputs": [],
   "source": [
    "import os, sys, time\n",
    "import warnings\n",
    "warnings.simplefilter(action='ignore', category=FutureWarning)\n",
    "import pandas as pd\n",
    "pd.options.mode.chained_assignment = None\n",
    "import h5py\n",
    "\n",
    "%matplotlib inline\n",
    "\n",
    "from IPython.display import display, HTML\n",
    "\n",
    "if (sys.version_info < (3, 0)):\n",
    "    HTML('''<script>\n",
    "    code_show=true; \n",
    "    function code_toggle() {\n",
    "     if (code_show){\n",
    "     $('div.input').hide();\n",
    "     } else {\n",
    "     $('div.input').show();\n",
    "     }\n",
    "     code_show = !code_show\n",
    "    } \n",
    "    $( document ).ready(code_toggle);\n",
    "    </script>\n",
    "    <form action=\"javascript:code_toggle()\"><input type=\"submit\" value=\"Click here to toggle on/off the raw code.\"></form>''')\n"
   ]
  },
  {
   "cell_type": "code",
   "execution_count": 2,
   "metadata": {
    "execution": {
     "iopub.execute_input": "2024-04-03T17:42:42.809465Z",
     "iopub.status.busy": "2024-04-03T17:42:42.808467Z",
     "iopub.status.idle": "2024-04-03T17:42:42.833586Z",
     "shell.execute_reply": "2024-04-03T17:42:42.832582Z"
    }
   },
   "outputs": [
    {
     "name": "stdout",
     "output_type": "stream",
     "text": [
      "Summary run: Fri, 21 Mar 2025 15:12\n"
     ]
    }
   ],
   "source": [
    "# Create timestamp to show when this summary was run\n",
    "print('Summary run: ' + time.strftime(\"%a, %d %b %Y %H:%M\"))"
   ]
  },
  {
   "cell_type": "code",
   "execution_count": 3,
   "metadata": {
    "execution": {
     "iopub.execute_input": "2024-04-03T17:42:42.839637Z",
     "iopub.status.busy": "2024-04-03T17:42:42.838572Z",
     "iopub.status.idle": "2024-04-03T17:43:24.838866Z",
     "shell.execute_reply": "2024-04-03T17:43:24.837867Z"
    }
   },
   "outputs": [],
   "source": [
    "# Daysim data\n",
    "trip = pd.read_csv(r'../../../outputs/daysim/_trip.tsv', sep='\\t')\n",
    "person = pd.read_csv(r'../../../outputs/daysim/_person.tsv', sep='\\t')\n",
    "hh = pd.read_csv(r'../../../outputs/daysim/_household.tsv', sep='\\t')"
   ]
  },
  {
   "cell_type": "code",
   "execution_count": 4,
   "metadata": {
    "execution": {
     "iopub.execute_input": "2024-04-03T17:43:24.844849Z",
     "iopub.status.busy": "2024-04-03T17:43:24.844849Z",
     "iopub.status.idle": "2024-04-03T17:43:24.854823Z",
     "shell.execute_reply": "2024-04-03T17:43:24.853825Z"
    }
   },
   "outputs": [],
   "source": [
    "pd.options.display.float_format = '{:0,.2f}'.format"
   ]
  },
  {
   "cell_type": "code",
   "execution_count": 5,
   "metadata": {
    "execution": {
     "iopub.execute_input": "2024-04-03T17:43:24.860806Z",
     "iopub.status.busy": "2024-04-03T17:43:24.859809Z",
     "iopub.status.idle": "2024-04-03T17:43:24.869782Z",
     "shell.execute_reply": "2024-04-03T17:43:24.868785Z"
    }
   },
   "outputs": [],
   "source": [
    "# Weekdays in year\n",
    "annual_factor = 300\n",
    "minutes_to_hour =60"
   ]
  },
  {
   "cell_type": "markdown",
   "metadata": {},
   "source": [
    "# Soundcast Metrics\n",
    "----"
   ]
  },
  {
   "cell_type": "markdown",
   "metadata": {},
   "source": [
    "### Average Daily Miles Driven per Person"
   ]
  },
  {
   "cell_type": "code",
   "execution_count": 6,
   "metadata": {
    "execution": {
     "iopub.execute_input": "2024-04-03T17:43:24.875766Z",
     "iopub.status.busy": "2024-04-03T17:43:24.874769Z",
     "iopub.status.idle": "2024-04-03T17:43:26.186794Z",
     "shell.execute_reply": "2024-04-03T17:43:26.185797Z"
    }
   },
   "outputs": [
    {
     "name": "stdout",
     "output_type": "stream",
     "text": [
      "Average Daily VMT per person, not including externals or trucks: 14.430251773680371\n"
     ]
    }
   ],
   "source": [
    "if 'sov_ff_time' in trip.columns:\n",
    "    drive_modes = [3, 4, 5]\n",
    "    drive_trips = trip[['mode', 'dorp', 'travtime', 'sov_ff_time', 'travdist']].loc[trip['mode'].isin(drive_modes)]\n",
    "    only_driver = drive_trips.loc[drive_trips['dorp']==1]\n",
    "    avg_vmt = only_driver['travdist'].sum()/ person['psexpfac'].sum()\n",
    "    print('Average Daily VMT per person, not including externals or trucks: '+ str(avg_vmt))"
   ]
  },
  {
   "cell_type": "markdown",
   "metadata": {},
   "source": [
    "### Hours of Congestion per Person per Year\n",
    "For average Puget Sound resident:"
   ]
  },
  {
   "cell_type": "code",
   "execution_count": 7,
   "metadata": {
    "execution": {
     "iopub.execute_input": "2024-04-03T17:43:26.188790Z",
     "iopub.status.busy": "2024-04-03T17:43:26.188790Z",
     "iopub.status.idle": "2024-04-03T17:43:26.296207Z",
     "shell.execute_reply": "2024-04-03T17:43:26.295204Z"
    }
   },
   "outputs": [
    {
     "name": "stdout",
     "output_type": "stream",
     "text": [
      "Annual hours of delay for residents, not including externals or trucks is 15.601036741197253\n"
     ]
    }
   ],
   "source": [
    "if 'sov_ff_time' in trip.columns:\n",
    "    drive_trips['delay'] = drive_trips['travtime']-(drive_trips['sov_ff_time']/100.0)\n",
    "    drive_mode_delay =annual_factor*(drive_trips['delay'].sum()/person['psexpfac'].sum())/minutes_to_hour\n",
    "    print('Annual hours of delay for residents, not including externals or trucks is ' + str(drive_mode_delay))"
   ]
  },
  {
   "cell_type": "code",
   "execution_count": null,
   "metadata": {},
   "outputs": [],
   "source": []
  },
  {
   "cell_type": "markdown",
   "metadata": {},
   "source": [
    "### Annual Hours of Delay by Average Truck\n",
    "Average annual delay (hours) per truck trip in and through the region:"
   ]
  },
  {
   "cell_type": "code",
   "execution_count": 8,
   "metadata": {
    "execution": {
     "iopub.execute_input": "2024-04-03T17:43:26.302259Z",
     "iopub.status.busy": "2024-04-03T17:43:26.302259Z",
     "iopub.status.idle": "2024-04-03T17:43:26.311892Z",
     "shell.execute_reply": "2024-04-03T17:43:26.310889Z"
    }
   },
   "outputs": [],
   "source": [
    "# Total truck trips"
   ]
  },
  {
   "cell_type": "code",
   "execution_count": 9,
   "metadata": {
    "execution": {
     "iopub.execute_input": "2024-04-03T17:43:26.317876Z",
     "iopub.status.busy": "2024-04-03T17:43:26.317876Z",
     "iopub.status.idle": "2024-04-03T17:43:26.718317Z",
     "shell.execute_reply": "2024-04-03T17:43:26.717316Z"
    }
   },
   "outputs": [
    {
     "name": "stdout",
     "output_type": "stream",
     "text": [
      "22.4\n"
     ]
    }
   ],
   "source": [
    "# Load truck trips\n",
    "df = pd.read_csv(r'../../../outputs/trucks/trucks_summary.csv',index_col=0)\n",
    "\n",
    "# Truck delay\n",
    "net_sum = pd.read_excel(r'../../../outputs/network/network_summary.xlsx', 'Delay by UC')\n",
    "\n",
    "# Annual delay hours\n",
    "daily_delay = net_sum[['@mveh','@hveh']].sum().sum()\n",
    "\n",
    "\n",
    "# total truck trips\n",
    "trips = df['prod'].sum()\n",
    "\n",
    "# average annual delay hours per truck\n",
    "x = (daily_delay*annual_factor)/trips\n",
    "print('{:0,.1f}'.format(x))"
   ]
  },
  {
   "cell_type": "markdown",
   "metadata": {},
   "source": [
    "*Medium trucks only:*"
   ]
  },
  {
   "cell_type": "code",
   "execution_count": 10,
   "metadata": {
    "execution": {
     "iopub.execute_input": "2024-04-03T17:43:26.724302Z",
     "iopub.status.busy": "2024-04-03T17:43:26.723304Z",
     "iopub.status.idle": "2024-04-03T17:43:26.734274Z",
     "shell.execute_reply": "2024-04-03T17:43:26.733280Z"
    }
   },
   "outputs": [
    {
     "name": "stdout",
     "output_type": "stream",
     "text": [
      "16.3\n"
     ]
    }
   ],
   "source": [
    "x = (net_sum['@mveh'].sum()*annual_factor)/df.loc['mt','prod']\n",
    "print('{:0,.1f}'.format(x))"
   ]
  },
  {
   "cell_type": "markdown",
   "metadata": {},
   "source": [
    "*Heavy trucks only:*"
   ]
  },
  {
   "cell_type": "code",
   "execution_count": 11,
   "metadata": {
    "execution": {
     "iopub.execute_input": "2024-04-03T17:43:26.740259Z",
     "iopub.status.busy": "2024-04-03T17:43:26.739261Z",
     "iopub.status.idle": "2024-04-03T17:43:26.749236Z",
     "shell.execute_reply": "2024-04-03T17:43:26.748237Z"
    }
   },
   "outputs": [
    {
     "name": "stdout",
     "output_type": "stream",
     "text": [
      "41.8\n"
     ]
    }
   ],
   "source": [
    "x = (net_sum['@hveh'].sum()*annual_factor)/df.loc['ht','prod']\n",
    "print ('{:0,.1f}'.format(x))"
   ]
  },
  {
   "cell_type": "markdown",
   "metadata": {},
   "source": [
    "### % Population Walking or Biking for Transportation"
   ]
  },
  {
   "cell_type": "code",
   "execution_count": 12,
   "metadata": {
    "execution": {
     "iopub.execute_input": "2024-04-03T17:43:26.754221Z",
     "iopub.status.busy": "2024-04-03T17:43:26.754221Z",
     "iopub.status.idle": "2024-04-03T17:43:54.553719Z",
     "shell.execute_reply": "2024-04-03T17:43:54.552640Z"
    }
   },
   "outputs": [
    {
     "name": "stdout",
     "output_type": "stream",
     "text": [
      "22.9%\n"
     ]
    }
   ],
   "source": [
    "trip_person = pd.merge(trip,person,on=['hhno','pno'], how='left')\n",
    "bike_walk_trips = trip_person[trip_person['mode'].isin([1,2])]\n",
    "\n",
    "df = bike_walk_trips.groupby(['hhno','pno']).count()\n",
    "df = df.reset_index()\n",
    "df = df[['hhno','pno']]\n",
    "df['bike_walk'] = True\n",
    "\n",
    "df = pd.merge(person,df,on=['hhno','pno'], how='left')\n",
    "df['bike_walk'] = df['bike_walk'].fillna(False)\n",
    "\n",
    "pd.options.display.float_format = '{:,.1%}'.format\n",
    "df = pd.DataFrame(df.groupby('bike_walk').sum()['psexpfac']/df['psexpfac'].sum())\n",
    "print('{:,.1%}'.format(df.loc[True]['psexpfac']))"
   ]
  },
  {
   "cell_type": "markdown",
   "metadata": {},
   "source": [
    "## Household and Jobs within 1/4 mile transit"
   ]
  },
  {
   "cell_type": "code",
   "execution_count": 13,
   "metadata": {
    "execution": {
     "iopub.execute_input": "2024-04-03T17:43:54.559626Z",
     "iopub.status.busy": "2024-04-03T17:43:54.559626Z",
     "iopub.status.idle": "2024-04-03T17:43:54.569136Z",
     "shell.execute_reply": "2024-04-03T17:43:54.568140Z"
    }
   },
   "outputs": [],
   "source": [
    "# Network data\n",
    "df = pd.read_csv(r'../../../outputs/transit/transit_access.csv',index_col=0)"
   ]
  },
  {
   "cell_type": "markdown",
   "metadata": {},
   "source": [
    "**Households**"
   ]
  },
  {
   "cell_type": "code",
   "execution_count": 14,
   "metadata": {
    "execution": {
     "iopub.execute_input": "2024-04-03T17:43:54.575054Z",
     "iopub.status.busy": "2024-04-03T17:43:54.574057Z",
     "iopub.status.idle": "2024-04-03T17:43:54.584030Z",
     "shell.execute_reply": "2024-04-03T17:43:54.583099Z"
    }
   },
   "outputs": [
    {
     "name": "stdout",
     "output_type": "stream",
     "text": [
      "829,146 households within 1/4 mile of transit\n",
      "47.8% of total households\n"
     ]
    }
   ],
   "source": [
    "x = df.loc['hh_p','quarter_mile_transit']\n",
    "print('{:,.0f}'.format(x) + (\" households within 1/4 mile of transit\"))\n",
    "x = df.loc['hh_p','quarter_mile_transit']/df.loc['hh_p','total']\n",
    "print('{:,.1%}'.format(x) + (\" of total households\"))"
   ]
  },
  {
   "cell_type": "markdown",
   "metadata": {},
   "source": [
    "**Jobs**"
   ]
  },
  {
   "cell_type": "code",
   "execution_count": 15,
   "metadata": {
    "execution": {
     "iopub.execute_input": "2024-04-03T17:43:54.592007Z",
     "iopub.status.busy": "2024-04-03T17:43:54.591010Z",
     "iopub.status.idle": "2024-04-03T17:43:54.615943Z",
     "shell.execute_reply": "2024-04-03T17:43:54.614945Z"
    },
    "scrolled": true
   },
   "outputs": [
    {
     "name": "stdout",
     "output_type": "stream",
     "text": [
      "1,551,924 jobs within 1/4 mile of transit\n",
      "37.8% of total jobs\n"
     ]
    }
   ],
   "source": [
    "x = df.loc['emptot_p','quarter_mile_transit']\n",
    "print('{:,.0f}'.format(x) + (\" jobs within 1/4 mile of transit\"))\n",
    "x = df.loc['hh_p','quarter_mile_transit']/df.loc['emptot_p','total']\n",
    "print('{:,.1%}'.format(x) + (\" of total jobs\"))"
   ]
  },
  {
   "cell_type": "markdown",
   "metadata": {
    "collapsed": true
   },
   "source": [
    "# Commute Times"
   ]
  },
  {
   "cell_type": "code",
   "execution_count": 16,
   "metadata": {
    "execution": {
     "iopub.execute_input": "2024-04-03T17:43:54.618935Z",
     "iopub.status.busy": "2024-04-03T17:43:54.617937Z",
     "iopub.status.idle": "2024-04-03T17:43:54.629905Z",
     "shell.execute_reply": "2024-04-03T17:43:54.629905Z"
    }
   },
   "outputs": [],
   "source": [
    "pd.options.display.float_format = '{:0,.2f}'.format"
   ]
  },
  {
   "cell_type": "code",
   "execution_count": 17,
   "metadata": {
    "execution": {
     "iopub.execute_input": "2024-04-03T17:43:54.631900Z",
     "iopub.status.busy": "2024-04-03T17:43:54.631900Z",
     "iopub.status.idle": "2024-04-03T17:43:54.979262Z",
     "shell.execute_reply": "2024-04-03T17:43:54.978264Z"
    }
   },
   "outputs": [
    {
     "name": "stdout",
     "output_type": "stream",
     "text": [
      "(0, 15]      550727\n",
      "(15, 30]     809565\n",
      "(30, 45]     464241\n",
      "(45, 60]     228214\n",
      "(60, 90]     125809\n",
      "(90, 200]     44470\n",
      "Name: pwautime, dtype: int64\n"
     ]
    }
   ],
   "source": [
    "workers = person.loc[person['pwautime']>0]\n",
    "binned_times = pd.cut(workers['pwautime'], [0, 15, 30, 45, 60, 90, 200])\n",
    "count_times = pd.value_counts(binned_times).sort_index()\n",
    "print(count_times)"
   ]
  },
  {
   "cell_type": "code",
   "execution_count": 18,
   "metadata": {
    "execution": {
     "iopub.execute_input": "2024-04-03T17:43:54.985245Z",
     "iopub.status.busy": "2024-04-03T17:43:54.984247Z",
     "iopub.status.idle": "2024-04-03T17:43:55.152800Z",
     "shell.execute_reply": "2024-04-03T17:43:55.151801Z"
    }
   },
   "outputs": [
    {
     "data": {
      "text/plain": [
       "<AxesSubplot:>"
      ]
     },
     "execution_count": 18,
     "metadata": {},
     "output_type": "execute_result"
    },
    {
     "data": {
      "image/png": "[encoded data removed]",
      "text/plain": [
       "<Figure size 432x288 with 1 Axes>"
      ]
     },
     "metadata": {
      "needs_background": "light"
     },
     "output_type": "display_data"
    }
   ],
   "source": [
    "(count_times*1.0/len(workers)).plot.bar()"
   ]
  },
  {
   "cell_type": "code",
   "execution_count": null,
   "metadata": {},
   "outputs": [],
   "source": []
  },
  {
   "cell_type": "code",
   "execution_count": null,
   "metadata": {},
   "outputs": [],
   "source": []
  }
 ],
 "metadata": {
  "anaconda-cloud": {},
  "kernelspec": {
   "display_name": "Python 3",
   "language": "python",
   "name": "python3"
  },
  "language_info": {
   "codemirror_mode": {
    "name": "ipython",
    "version": 3
   },
   "file_extension": ".py",
   "mimetype": "text/x-python",
   "name": "python",
   "nbconvert_exporter": "python",
   "pygments_lexer": "ipython3",
   "version": "3.7.10"
  }
 },
 "nbformat": 4,
 "nbformat_minor": 2
}
