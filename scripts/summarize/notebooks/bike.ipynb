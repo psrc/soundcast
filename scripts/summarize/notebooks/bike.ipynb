{
 "cells": [
  {
   "cell_type": "markdown",
   "metadata": {},
   "source": [
    "# bike model results"
   ]
  },
  {
   "cell_type": "code",
   "execution_count": 216,
   "metadata": {
    "collapsed": false
   },
   "outputs": [
    {
     "name": "stdout",
     "output_type": "stream",
     "text": [
      "Populating the interactive namespace from numpy and matplotlib\n"
     ]
    }
   ],
   "source": [
    "import h5py\n",
    "import pandas as pd\n",
    "import pylab as P\n",
    "from IPython.display import display, display_pretty, Javascript, HTML\n",
    "import matplotlib\n",
    "import matplotlib.pyplot as plt\n",
    "matplotlib.style.use('ggplot')\n",
    "# Show charts in notebook\n",
    "%pylab inline"
   ]
  },
  {
   "cell_type": "markdown",
   "metadata": {},
   "source": [
    "## destination"
   ]
  },
  {
   "cell_type": "code",
   "execution_count": 217,
   "metadata": {
    "collapsed": false
   },
   "outputs": [],
   "source": [
    "# Load daysim outputs results\n",
    "model = h5py.File(r'D:\\soundcast\\soundcast\\outputs\\daysim_outputs.h5')"
   ]
  },
  {
   "cell_type": "code",
   "execution_count": 218,
   "metadata": {
    "collapsed": false
   },
   "outputs": [],
   "source": [
    "# Load survey data\n",
    "survey = h5py.File(r'D:\\soundcast\\soundcast\\scripts\\summarize\\inputs\\calibration\\survey.h5')"
   ]
  },
  {
   "cell_type": "code",
   "execution_count": 219,
   "metadata": {
    "collapsed": false
   },
   "outputs": [],
   "source": [
    "def get_df(h5file, table, fields, nested=False):\n",
    "    '''return all fields from h5 table'''\n",
    "    data = {}\n",
    "    for field in fields:\n",
    "        if nested:\n",
    "            data[field] = [i[0] for i in h5file[table][field][:]]\n",
    "        else:   \n",
    "            data[field] = [i for i in h5file[table][field][:]]\n",
    "        \n",
    "    return pd.DataFrame(data)"
   ]
  },
  {
   "cell_type": "code",
   "execution_count": 220,
   "metadata": {
    "collapsed": true
   },
   "outputs": [],
   "source": [
    "# List of columns we want to import\n",
    "trip_fields = ['dorp','dtaz','otaz','opurp','mode','dpcl','opcl','arrtm','deptm']"
   ]
  },
  {
   "cell_type": "code",
   "execution_count": 221,
   "metadata": {
    "collapsed": false
   },
   "outputs": [],
   "source": [
    "survey_trip = get_df(h5file=survey, table='Trip', fields=trip_fields + ['trexpfac'], nested=True)\n",
    "survey_bike_trips = survey_trip[survey_trip['mode'] == 2]"
   ]
  },
  {
   "cell_type": "code",
   "execution_count": 222,
   "metadata": {
    "collapsed": false
   },
   "outputs": [],
   "source": [
    "model_trip = get_df(h5file=model, table='Trip', fields=trip_fields, nested=False)\n",
    "model_bike_trips = model_trip[model_trip['mode'] == 2]"
   ]
  },
  {
   "cell_type": "code",
   "execution_count": 223,
   "metadata": {
    "collapsed": true
   },
   "outputs": [],
   "source": [
    "# join parcel data to geography\n",
    "taz_lookup = pd.read_csv(r'D:\\soundcast\\soundcast\\scripts\\summarize\\inputs\\parcels_in_urbcens.csv')"
   ]
  },
  {
   "cell_type": "code",
   "execution_count": 224,
   "metadata": {
    "collapsed": true
   },
   "outputs": [],
   "source": [
    "district_lookup = pd.read_csv(r'D:\\soundcast\\soundcast\\scripts\\summarize\\inputs\\calibration\\TAZ_TAD_County.csv')"
   ]
  },
  {
   "cell_type": "code",
   "execution_count": 225,
   "metadata": {
    "collapsed": false
   },
   "outputs": [],
   "source": [
    "def join_od_rgc(df,taz_lookup):\n",
    "    '''Join RGC name based on trip destination and origin parcels'''\n",
    "    \n",
    "    # By trip destination parcel\n",
    "    df = df.merge(taz_lookup, left_on='dpcl', right_on='hhparcel')\n",
    "    df['d_rgc'] = df['NAME']\n",
    "    \n",
    "    # By trip origin parcel\n",
    "    df.drop('NAME', 1, inplace=True)\n",
    "    df = df.merge(taz_lookup, left_on='opcl', right_on='hhparcel')\n",
    "    df['o_rgc'] = df['NAME']\n",
    "    \n",
    "    return df"
   ]
  },
  {
   "cell_type": "code",
   "execution_count": 226,
   "metadata": {
    "collapsed": false
   },
   "outputs": [],
   "source": [
    "# survey_bike_trips = join_od_rgc(df=survey_bike_trips, taz_lookup=taz_lookup)\n",
    "# model_bike_trips = join_od_rgc(df=model_bike_trips, taz_lookup=taz_lookup)"
   ]
  },
  {
   "cell_type": "code",
   "execution_count": 227,
   "metadata": {
    "collapsed": false
   },
   "outputs": [],
   "source": [
    "dest_survey_bike_trips = survey_bike_trips.merge(district_lookup,left_on='dtaz',right_on='TAZ')\n",
    "orig_survey_bike_trips = survey_bike_trips.merge(district_lookup,left_on='otaz',right_on='TAZ')\n",
    "\n",
    "dest_model_bike_trips = model_bike_trips.merge(district_lookup,left_on='dtaz',right_on='TAZ')\n",
    "orig_model_bike_trips = model_bike_trips.merge(district_lookup,left_on='otaz',right_on='TAZ')"
   ]
  },
  {
   "cell_type": "code",
   "execution_count": 228,
   "metadata": {
    "collapsed": true
   },
   "outputs": [],
   "source": [
    "# Set some formatting options\n",
    "pd.options.display.float_format = '{:.1f}%'.format    # set float format as percent, until further notic"
   ]
  },
  {
   "cell_type": "markdown",
   "metadata": {},
   "source": [
    "## Bike Trip Destinations (County)"
   ]
  },
  {
   "cell_type": "code",
   "execution_count": 229,
   "metadata": {
    "collapsed": false
   },
   "outputs": [
    {
     "data": {
      "text/html": [
       "<div style=\"max-height:1000px;max-width:1500px;overflow:auto;\">\n",
       "<table border=\"1\" class=\"dataframe\">\n",
       "  <thead>\n",
       "    <tr style=\"text-align: right;\">\n",
       "      <th></th>\n",
       "      <th>2006 Survey</th>\n",
       "      <th>2010 Model</th>\n",
       "    </tr>\n",
       "    <tr>\n",
       "      <th>County</th>\n",
       "      <th></th>\n",
       "      <th></th>\n",
       "    </tr>\n",
       "  </thead>\n",
       "  <tbody>\n",
       "    <tr>\n",
       "      <th>King</th>\n",
       "      <td>68.1%</td>\n",
       "      <td>57.4%</td>\n",
       "    </tr>\n",
       "    <tr>\n",
       "      <th>Kitsap</th>\n",
       "      <td>10.0%</td>\n",
       "      <td> 5.6%</td>\n",
       "    </tr>\n",
       "    <tr>\n",
       "      <th>Pierce</th>\n",
       "      <td> 8.5%</td>\n",
       "      <td>20.3%</td>\n",
       "    </tr>\n",
       "    <tr>\n",
       "      <th>Snohomish</th>\n",
       "      <td>13.3%</td>\n",
       "      <td>16.8%</td>\n",
       "    </tr>\n",
       "  </tbody>\n",
       "</table>\n",
       "</div>"
      ],
      "text/plain": [
       "           2006 Survey  2010 Model\n",
       "County                            \n",
       "King             68.1%       57.4%\n",
       "Kitsap           10.0%        5.6%\n",
       "Pierce            8.5%       20.3%\n",
       "Snohomish        13.3%       16.8%"
      ]
     },
     "execution_count": 229,
     "metadata": {},
     "output_type": "execute_result"
    }
   ],
   "source": [
    "srv = dest_survey_bike_trips\n",
    "mdl = dest_model_bike_trips\n",
    "srv_name = '2006 Survey'\n",
    "mdl_name = '2010 Model'\n",
    "\n",
    "df = pd.DataFrame({srv_name: (srv.groupby('County').sum()['trexpfac']/srv.groupby('County').sum()['trexpfac'].sum())*100,\n",
    "              mdl_name: (mdl.groupby('County').count()['TAZ']/mdl.groupby('County').count()['TAZ'].sum())*100})\n",
    "df"
   ]
  },
  {
   "cell_type": "code",
   "execution_count": 230,
   "metadata": {
    "collapsed": false
   },
   "outputs": [
    {
     "data": {
      "text/plain": [
       "<matplotlib.axes._subplots.AxesSubplot at 0xd74a908>"
      ]
     },
     "execution_count": 230,
     "metadata": {},
     "output_type": "execute_result"
    },
    {
     "data": {
      "image/png": "[encoded data removed]",
      "text/plain": [
       "<matplotlib.figure.Figure at 0xd7751d0>"
      ]
     },
     "metadata": {},
     "output_type": "display_data"
    }
   ],
   "source": [
    "df[[srv_name,mdl_name]].plot(kind='bar', alpha=0.8, title='Bike Trip Destinations')"
   ]
  },
  {
   "cell_type": "markdown",
   "metadata": {},
   "source": [
    "# Bike Trips Destinations (Districts)"
   ]
  },
  {
   "cell_type": "code",
   "execution_count": 231,
   "metadata": {
    "collapsed": false
   },
   "outputs": [
    {
     "data": {
      "text/html": [
       "<div style=\"max-height:1000px;max-width:1500px;overflow:auto;\">\n",
       "<table border=\"1\" class=\"dataframe\">\n",
       "  <thead>\n",
       "    <tr style=\"text-align: right;\">\n",
       "      <th></th>\n",
       "      <th>2006 Survey</th>\n",
       "      <th>2010 Model</th>\n",
       "    </tr>\n",
       "  </thead>\n",
       "  <tbody>\n",
       "    <tr>\n",
       "      <th>East Side</th>\n",
       "      <td>16.0%</td>\n",
       "      <td>17.5%</td>\n",
       "    </tr>\n",
       "    <tr>\n",
       "      <th>Everett-Lynwood-Edmonds</th>\n",
       "      <td> 5.6%</td>\n",
       "      <td> 9.3%</td>\n",
       "    </tr>\n",
       "    <tr>\n",
       "      <th>Kitsap</th>\n",
       "      <td>10.0%</td>\n",
       "      <td> 5.6%</td>\n",
       "    </tr>\n",
       "    <tr>\n",
       "      <th>North Seattle-Shoreline</th>\n",
       "      <td>25.7%</td>\n",
       "      <td> 9.9%</td>\n",
       "    </tr>\n",
       "    <tr>\n",
       "      <th>Renton-FedWay-Kent</th>\n",
       "      <td> 8.6%</td>\n",
       "      <td>15.0%</td>\n",
       "    </tr>\n",
       "    <tr>\n",
       "      <th>S.Kitsap</th>\n",
       "      <td> nan%</td>\n",
       "      <td> 0.6%</td>\n",
       "    </tr>\n",
       "    <tr>\n",
       "      <th>Seattle CBD</th>\n",
       "      <td>11.8%</td>\n",
       "      <td> 9.6%</td>\n",
       "    </tr>\n",
       "    <tr>\n",
       "      <th>South Pierce</th>\n",
       "      <td> 4.9%</td>\n",
       "      <td>10.3%</td>\n",
       "    </tr>\n",
       "    <tr>\n",
       "      <th>Suburban Snohomish</th>\n",
       "      <td> 7.8%</td>\n",
       "      <td> 7.5%</td>\n",
       "    </tr>\n",
       "    <tr>\n",
       "      <th>Tacoma</th>\n",
       "      <td> 3.6%</td>\n",
       "      <td> 9.4%</td>\n",
       "    </tr>\n",
       "    <tr>\n",
       "      <th>West-South Seattle</th>\n",
       "      <td> 6.1%</td>\n",
       "      <td> 5.5%</td>\n",
       "    </tr>\n",
       "  </tbody>\n",
       "</table>\n",
       "</div>"
      ],
      "text/plain": [
       "                         2006 Survey  2010 Model\n",
       "East Side                      16.0%       17.5%\n",
       "Everett-Lynwood-Edmonds         5.6%        9.3%\n",
       "Kitsap                         10.0%        5.6%\n",
       "North Seattle-Shoreline        25.7%        9.9%\n",
       "Renton-FedWay-Kent              8.6%       15.0%\n",
       "S.Kitsap                        nan%        0.6%\n",
       "Seattle CBD                    11.8%        9.6%\n",
       "South Pierce                    4.9%       10.3%\n",
       "Suburban Snohomish              7.8%        7.5%\n",
       "Tacoma                          3.6%        9.4%\n",
       "West-South Seattle              6.1%        5.5%"
      ]
     },
     "execution_count": 231,
     "metadata": {},
     "output_type": "execute_result"
    }
   ],
   "source": [
    "df = pd.DataFrame({srv_name: (srv.groupby('New DistrictName').sum()['trexpfac']/srv.groupby('New DistrictName').sum()['trexpfac'].sum())*100,\n",
    "              mdl_name: (mdl.groupby('New DistrictName').count()['TAZ']/mdl.groupby('New DistrictName').count()['TAZ'].sum())*100})\n",
    "df"
   ]
  },
  {
   "cell_type": "code",
   "execution_count": 232,
   "metadata": {
    "collapsed": false
   },
   "outputs": [
    {
     "data": {
      "text/plain": [
       "<matplotlib.axes._subplots.AxesSubplot at 0xd767eb8>"
      ]
     },
     "execution_count": 232,
     "metadata": {},
     "output_type": "execute_result"
    },
    {
     "data": {
      "image/png": "[encoded data removed]",
      "text/plain": [
       "<matplotlib.figure.Figure at 0xd76ec50>"
      ]
     },
     "metadata": {},
     "output_type": "display_data"
    }
   ],
   "source": [
    "df[[srv_name,mdl_name]].plot(kind='bar', alpha=0.8, title='Bike Trip Destinations')"
   ]
  },
  {
   "cell_type": "markdown",
   "metadata": {},
   "source": [
    "# Screenlines"
   ]
  },
  {
   "cell_type": "code",
   "execution_count": 274,
   "metadata": {
    "collapsed": false
   },
   "outputs": [],
   "source": [
    "pd.reset_option('float_format')"
   ]
  },
  {
   "cell_type": "code",
   "execution_count": 275,
   "metadata": {
    "collapsed": false
   },
   "outputs": [],
   "source": [
    "df = pd.read_csv(r'D:\\soundcast\\soundcast\\outputs\\bike_volumes.csv')"
   ]
  },
  {
   "cell_type": "code",
   "execution_count": 276,
   "metadata": {
    "collapsed": false
   },
   "outputs": [],
   "source": [
    "df = df.groupby(['EmmeINode','EmmeJNode']).mean()"
   ]
  },
  {
   "cell_type": "code",
   "execution_count": 277,
   "metadata": {
    "collapsed": false
   },
   "outputs": [],
   "source": [
    "# AM counts correspond to 7 to 9 AM for WSDOT data\n",
    "df['AM'] = df['bvol7to8']+df['bvol8to9']"
   ]
  },
  {
   "cell_type": "code",
   "execution_count": 278,
   "metadata": {
    "collapsed": false
   },
   "outputs": [],
   "source": [
    "# Associate each link with a counter location\n",
    "counts_intersect = pd.read_csv(r'R:\\Bike\\Counts\\counts_intersect.csv')"
   ]
  },
  {
   "cell_type": "code",
   "execution_count": 279,
   "metadata": {
    "collapsed": false
   },
   "outputs": [],
   "source": [
    "am_counts = counts_intersect[counts_intersect['CountTime'] == 'AM']\n",
    "total_am_bike_counts = am_counts.groupby('OBJECTID').sum()['Bike_Total']"
   ]
  },
  {
   "cell_type": "code",
   "execution_count": null,
   "metadata": {
    "collapsed": false
   },
   "outputs": [],
   "source": []
  },
  {
   "cell_type": "code",
   "execution_count": 280,
   "metadata": {
    "collapsed": false
   },
   "outputs": [],
   "source": [
    "df = am_counts.merge(df,left_on=['INode','JNode'],right_on=['gdbINode','gdbeJNode'])"
   ]
  },
  {
   "cell_type": "code",
   "execution_count": 281,
   "metadata": {
    "collapsed": false
   },
   "outputs": [],
   "source": [
    "am_total = pd.DataFrame(df.groupby('OBJECTID').sum()['AM'])\n",
    "am_total['OBJECTID'] = am_total.index"
   ]
  },
  {
   "cell_type": "code",
   "execution_count": 282,
   "metadata": {
    "collapsed": false
   },
   "outputs": [],
   "source": [
    "# Seattle only\n",
    "# Cmment this out for regional results\n",
    "am_counts = am_counts[am_counts['CityName'] == 'Seattle']"
   ]
  },
  {
   "cell_type": "code",
   "execution_count": 283,
   "metadata": {
    "collapsed": false
   },
   "outputs": [],
   "source": [
    "am_total = am_total.merge(am_counts[['OBJECTID','LocationDe','CountDate','Latitude','Longitude','Bike_Total']],on='OBJECTID')\n",
    "df = am_total.groupby('LocationDe').mean()[['AM','Bike_Total']]\n",
    "df.columns = ['Model','Observed']"
   ]
  },
  {
   "cell_type": "code",
   "execution_count": 284,
   "metadata": {
    "collapsed": false
   },
   "outputs": [
    {
     "data": {
      "text/plain": [
       "<matplotlib.axes._subplots.AxesSubplot at 0xe71dfdd8>"
      ]
     },
     "execution_count": 284,
     "metadata": {},
     "output_type": "execute_result"
    },
    {
     "data": {
      "image/png": "[encoded data removed]",
      "text/plain": [
       "<matplotlib.figure.Figure at 0x7c59b860>"
      ]
     },
     "metadata": {},
     "output_type": "display_data"
    }
   ],
   "source": [
    "df.plot(kind='barh',figsize=(12,12))"
   ]
  },
  {
   "cell_type": "code",
   "execution_count": null,
   "metadata": {
    "collapsed": false
   },
   "outputs": [],
   "source": []
  },
  {
   "cell_type": "code",
   "execution_count": null,
   "metadata": {
    "collapsed": false
   },
   "outputs": [],
   "source": []
  },
  {
   "cell_type": "markdown",
   "metadata": {},
   "source": [
    "# Destinations by Zone"
   ]
  },
  {
   "cell_type": "code",
   "execution_count": 242,
   "metadata": {
    "collapsed": false
   },
   "outputs": [],
   "source": [
    "# Sum all trips by destination zone and fill zones with zero trips\n",
    "# survey trips first\n",
    "\n",
    "#### uncomment to show trips by all modes, otherwise, showing bike trips only\n",
    "# srv = survey_trip\n",
    "# mdl = model_trip\n",
    "\n",
    "df = pd.DataFrame(srv.groupby('dtaz').sum()['trexpfac'])\n",
    "df['taz'] = df.index\n",
    "\n",
    "# empty df to act as base for merging trip totals by destination zone\n",
    "empty = pd.DataFrame(np.zeros(3700),columns=['taz'])\n",
    "empty['taz']=[i+1 for i in empty.index]\n",
    "df = empty.merge(df,on='taz', how='left')\n",
    "df.fillna(0,inplace=True)\n",
    "df[srv_name] = df['trexpfac']\n",
    "df = df[['taz',srv_name]]\n",
    "\n",
    "# Add model trips to this df\n",
    "mdl_df = pd.DataFrame(mdl.groupby('dtaz').count()['mode'])\n",
    "mdl_df[mdl_name] = mdl_df['mode']\n",
    "mdl_df['taz'] = mdl_df.index\n",
    "\n",
    "df = df.merge(mdl_df,on='taz',how='left')[[srv_name,mdl_name,'taz']]\n",
    "df.index= df['taz']\n",
    "df = df[[srv_name,mdl_name]]"
   ]
  },
  {
   "cell_type": "code",
   "execution_count": 243,
   "metadata": {
    "collapsed": false
   },
   "outputs": [
    {
     "data": {
      "text/plain": [
       "2592.5500000000002"
      ]
     },
     "execution_count": 243,
     "metadata": {},
     "output_type": "execute_result"
    }
   ],
   "source": [
    "df.max()[srv_name]"
   ]
  },
  {
   "cell_type": "markdown",
   "metadata": {},
   "source": [
    "**Trip End Totals by Zone**"
   ]
  },
  {
   "cell_type": "code",
   "execution_count": 244,
   "metadata": {
    "collapsed": false
   },
   "outputs": [
    {
     "data": {
      "text/plain": [
       "<matplotlib.axes._subplots.AxesSubplot at 0x10a0d128>"
      ]
     },
     "execution_count": 244,
     "metadata": {},
     "output_type": "execute_result"
    },
    {
     "data": {
      "image/png": "[encoded data removed]",
      "text/plain": [
       "<matplotlib.figure.Figure at 0x10a0db70>"
      ]
     },
     "metadata": {},
     "output_type": "display_data"
    }
   ],
   "source": [
    "df.plot(kind='scatter', x=srv_name, y=mdl_name)\n",
    "# df[df[srv_name]>0].plot(kind='hexbin', x=srv_name, y=mdl_name, gridsize=20)"
   ]
  },
  {
   "cell_type": "markdown",
   "metadata": {},
   "source": [
    "** Distribution of Trip End Totals by Zone **"
   ]
  },
  {
   "cell_type": "code",
   "execution_count": 245,
   "metadata": {
    "collapsed": false
   },
   "outputs": [
    {
     "data": {
      "text/plain": [
       "<matplotlib.axes._subplots.AxesSubplot at 0xd7476a0>"
      ]
     },
     "execution_count": 245,
     "metadata": {},
     "output_type": "execute_result"
    },
    {
     "data": {
      "image/png": "[encoded data removed]",
      "text/plain": [
       "<matplotlib.figure.Figure at 0x1058d7f0>"
      ]
     },
     "metadata": {},
     "output_type": "display_data"
    }
   ],
   "source": [
    "pd.DataFrame({mdl_name:df[mdl_name]/df[mdl_name].sum(),\n",
    "             srv_name:df[srv_name]/df[srv_name].sum()}).plot(kind='scatter', x=srv_name, y=mdl_name,\n",
    "                                                            xlim=[-.0001,0.005],ylim=[-0.0001,0.005])\n"
   ]
  },
  {
   "cell_type": "markdown",
   "metadata": {},
   "source": [
    "## Heatmap"
   ]
  },
  {
   "cell_type": "code",
   "execution_count": 246,
   "metadata": {
    "collapsed": false
   },
   "outputs": [
    {
     "data": {
      "image/png": "[encoded data removed]",
      "text/plain": [
       "<matplotlib.figure.Figure at 0x1ee10f0>"
      ]
     },
     "metadata": {},
     "output_type": "display_data"
    }
   ],
   "source": [
    "df = pd.DataFrame({srv_name: (srv.groupby('County').sum()['trexpfac']/srv.groupby('County').sum()['trexpfac'].sum())*100,\n",
    "              mdl_name: (mdl.groupby('County').count()['TAZ']/mdl.groupby('County').count()['TAZ'].sum())*100})\n",
    "df\n",
    "\n",
    "ax = plt.imshow(df, interpolation='nearest', cmap='Oranges').axes\n",
    "ax.grid('off')\n",
    "ax.xaxis.tick_top()"
   ]
  },
  {
   "cell_type": "code",
   "execution_count": 247,
   "metadata": {
    "collapsed": false
   },
   "outputs": [
    {
     "data": {
      "text/plain": [
       "4"
      ]
     },
     "execution_count": 247,
     "metadata": {},
     "output_type": "execute_result"
    }
   ],
   "source": [
    "len(df)"
   ]
  },
  {
   "cell_type": "code",
   "execution_count": 248,
   "metadata": {
    "collapsed": false
   },
   "outputs": [],
   "source": [
    "df.fillna(0,inplace=True)"
   ]
  },
  {
   "cell_type": "markdown",
   "metadata": {},
   "source": [
    "## Skim Results"
   ]
  },
  {
   "cell_type": "code",
   "execution_count": 249,
   "metadata": {
    "collapsed": true
   },
   "outputs": [],
   "source": [
    "# Load skim data\n",
    "h5data = h5py.File(r'D:\\soundcast\\soundcast\\inputs\\7to8.h5')\n",
    "perceived = pd.DataFrame(h5data['Skims']['mfbkpt'][:])\n",
    "actual = pd.DataFrame(h5data['Skims']['mfbkat'][:])"
   ]
  },
  {
   "cell_type": "code",
   "execution_count": 250,
   "metadata": {
    "collapsed": true
   },
   "outputs": [],
   "source": [
    "# Get the TAZ lookup dict\n",
    "tazlookup = pd.read_csv(r'D:\\soundcast\\soundcast\\scripts\\summarize\\inputs\\calibration\\TAZ_TAD_County.csv')"
   ]
  },
  {
   "cell_type": "code",
   "execution_count": 251,
   "metadata": {
    "collapsed": false
   },
   "outputs": [],
   "source": [
    "tazlookup;"
   ]
  },
  {
   "cell_type": "code",
   "execution_count": null,
   "metadata": {
    "collapsed": true
   },
   "outputs": [],
   "source": []
  },
  {
   "cell_type": "code",
   "execution_count": 252,
   "metadata": {
    "collapsed": true
   },
   "outputs": [],
   "source": [
    "# Extract link values and compare to counts"
   ]
  },
  {
   "cell_type": "code",
   "execution_count": null,
   "metadata": {
    "collapsed": true
   },
   "outputs": [],
   "source": []
  }
 ],
 "metadata": {
  "kernelspec": {
   "display_name": "Python 2",
   "language": "python",
   "name": "python2"
  },
  "language_info": {
   "codemirror_mode": {
    "name": "ipython",
    "version": 2
   },
   "file_extension": ".py",
   "mimetype": "text/x-python",
   "name": "python",
   "nbconvert_exporter": "python",
   "pygments_lexer": "ipython2",
   "version": "2.7.9"
  }
 },
 "nbformat": 4,
 "nbformat_minor": 0
}
