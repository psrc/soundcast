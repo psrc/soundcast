{
 "cells": [
  {
   "cell_type": "raw",
   "id": "35d0934ac2ce2456",
   "metadata": {},
   "source": [
    "---\n",
    "title: \"Traffic Summary\"\n",
    "date: today\n",
    "---"
   ]
  },
  {
   "cell_type": "code",
   "execution_count": 1,
   "id": "3c1a81e12086b602",
   "metadata": {
    "ExecuteTime": {
     "end_time": "2024-06-24T21:13:24.907193Z",
     "start_time": "2024-06-24T21:13:21.750667Z"
    },
    "execution": {
     "iopub.execute_input": "2024-06-24T21:55:40.573343Z",
     "iopub.status.busy": "2024-06-24T21:55:40.573343Z",
     "iopub.status.idle": "2024-06-24T21:55:44.494756Z",
     "shell.execute_reply": "2024-06-24T21:55:44.494756Z"
    }
   },
   "outputs": [],
   "source": [
    "import os\n",
    "import pandas as pd\n",
    "import numpy as np\n",
    "import h5py\n",
    "from sqlalchemy import create_engine\n",
    "from scipy import stats\n",
    "import plotly.express as px\n",
    "import toml\n",
    "import psrc_theme\n",
    "\n",
    "%matplotlib inline\n",
    "from IPython.display import display, HTML\n",
    "\n",
    "# to show plotly figures in quarto HTML file\n",
    "import plotly.io as pio\n",
    "pio.renderers.default = \"plotly_mimetype+notebook_connected\"\n",
    "pio.templates.default = \"simple_white+psrc_color\" # set plotly template\n",
    "\n",
    "input_config = toml.load(os.path.join(os.getcwd(), '..\\\\..\\\\..\\\\..\\\\configuration', 'input_configuration.toml'))\n",
    "valid_config = toml.load(os.path.join(os.getcwd(), '..\\\\..\\\\..\\\\..\\\\configuration', 'validation_configuration.toml'))\n",
    "emme_config = toml.load(os.path.join(os.getcwd(), '..\\\\..\\\\..\\\\..\\\\configuration','emme_configuration.toml'))\n",
    "network_config = toml.load(os.path.join(os.getcwd(), '..\\\\..\\\\..\\\\..\\\\configuration','network_configuration.toml'))\n",
    "\n",
    "# create connection\n",
    "conn = create_engine('sqlite:///../../../../inputs/db/'+input_config['db_name'])\n",
    "\n",
    "# summary data location\n",
    "csv_path = os.path.join(valid_config['model_dir'], 'outputs/validation')\n",
    "\n",
    "# table format\n",
    "pd.options.display.float_format = '{:0,.0f}'.format\n",
    "format_percent = \"{:,.1%}\".format"
   ]
  },
  {
   "cell_type": "markdown",
   "id": "fa9bc0cb",
   "metadata": {},
   "source": [
    "## VMT"
   ]
  },
  {
   "cell_type": "raw",
   "id": "b1e21be6",
   "metadata": {},
   "source": [
    ":::{.panel-tabset}\n",
    "### VMT\n",
    "VMT for model links, including some externals that cross outside region"
   ]
  },
  {
   "cell_type": "code",
   "execution_count": 2,
   "id": "75471d8c",
   "metadata": {},
   "outputs": [
    {
     "data": {
      "text/html": [
       "<div>\n",
       "<style scoped>\n",
       "    .dataframe tbody tr th:only-of-type {\n",
       "        vertical-align: middle;\n",
       "    }\n",
       "\n",
       "    .dataframe tbody tr th {\n",
       "        vertical-align: top;\n",
       "    }\n",
       "\n",
       "    .dataframe thead th {\n",
       "        text-align: right;\n",
       "    }\n",
       "</style>\n",
       "<table border=\"1\" class=\"dataframe\">\n",
       "  <thead>\n",
       "    <tr style=\"text-align: right;\">\n",
       "      <th></th>\n",
       "      <th>VMT</th>\n",
       "      <th>VHT</th>\n",
       "      <th>delay</th>\n",
       "    </tr>\n",
       "    <tr>\n",
       "      <th>county_name</th>\n",
       "      <th></th>\n",
       "      <th></th>\n",
       "      <th></th>\n",
       "    </tr>\n",
       "  </thead>\n",
       "  <tbody>\n",
       "    <tr>\n",
       "      <th>King</th>\n",
       "      <td>43,264,848</td>\n",
       "      <td>1,363,420</td>\n",
       "      <td>154,369</td>\n",
       "    </tr>\n",
       "    <tr>\n",
       "      <th>Kitsap</th>\n",
       "      <td>4,255,997</td>\n",
       "      <td>125,396</td>\n",
       "      <td>2,356</td>\n",
       "    </tr>\n",
       "    <tr>\n",
       "      <th>Outside Region</th>\n",
       "      <td>332,522</td>\n",
       "      <td>6,411</td>\n",
       "      <td>2</td>\n",
       "    </tr>\n",
       "    <tr>\n",
       "      <th>Pierce</th>\n",
       "      <td>18,630,692</td>\n",
       "      <td>567,457</td>\n",
       "      <td>44,147</td>\n",
       "    </tr>\n",
       "    <tr>\n",
       "      <th>Snohomish</th>\n",
       "      <td>16,499,080</td>\n",
       "      <td>494,366</td>\n",
       "      <td>38,543</td>\n",
       "    </tr>\n",
       "    <tr>\n",
       "      <th>Total</th>\n",
       "      <td>82,983,139</td>\n",
       "      <td>2,557,051</td>\n",
       "      <td>239,416</td>\n",
       "    </tr>\n",
       "  </tbody>\n",
       "</table>\n",
       "</div>"
      ],
      "text/plain": [
       "                      VMT       VHT   delay\n",
       "county_name                                \n",
       "King           43,264,848 1,363,420 154,369\n",
       "Kitsap          4,255,997   125,396   2,356\n",
       "Outside Region    332,522     6,411       2\n",
       "Pierce         18,630,692   567,457  44,147\n",
       "Snohomish      16,499,080   494,366  38,543\n",
       "Total          82,983,139 2,557,051 239,416"
      ]
     },
     "execution_count": 2,
     "metadata": {},
     "output_type": "execute_result"
    }
   ],
   "source": [
    "df = pd.read_csv(os.path.join(valid_config['model_dir'], r'outputs/network/county_network.csv'))\n",
    "df.index = df.county_name\n",
    "df.loc['Total',:] = df.sum().values\n",
    "df = df[['VMT','VHT','delay']]\n",
    "df"
   ]
  },
  {
   "cell_type": "raw",
   "id": "3354f05c",
   "metadata": {},
   "source": [
    "Model VMT versus county-level HPMS data"
   ]
  },
  {
   "cell_type": "code",
   "execution_count": 3,
   "id": "f0081206",
   "metadata": {},
   "outputs": [
    {
     "data": {
      "text/html": [
       "<div>\n",
       "<style scoped>\n",
       "    .dataframe tbody tr th:only-of-type {\n",
       "        vertical-align: middle;\n",
       "    }\n",
       "\n",
       "    .dataframe tbody tr th {\n",
       "        vertical-align: top;\n",
       "    }\n",
       "\n",
       "    .dataframe thead th {\n",
       "        text-align: right;\n",
       "    }\n",
       "</style>\n",
       "<table border=\"1\" class=\"dataframe\">\n",
       "  <thead>\n",
       "    <tr style=\"text-align: right;\">\n",
       "      <th></th>\n",
       "      <th>model</th>\n",
       "      <th>observed</th>\n",
       "      <th>% diff</th>\n",
       "    </tr>\n",
       "    <tr>\n",
       "      <th>county</th>\n",
       "      <th></th>\n",
       "      <th></th>\n",
       "      <th></th>\n",
       "    </tr>\n",
       "  </thead>\n",
       "  <tbody>\n",
       "    <tr>\n",
       "      <th>King</th>\n",
       "      <td>43,264,848</td>\n",
       "      <td>43,820,112</td>\n",
       "      <td>-1.3%</td>\n",
       "    </tr>\n",
       "    <tr>\n",
       "      <th>Kitsap</th>\n",
       "      <td>4,255,997</td>\n",
       "      <td>4,840,030</td>\n",
       "      <td>-12.1%</td>\n",
       "    </tr>\n",
       "    <tr>\n",
       "      <th>Pierce</th>\n",
       "      <td>18,630,692</td>\n",
       "      <td>17,994,803</td>\n",
       "      <td>3.5%</td>\n",
       "    </tr>\n",
       "    <tr>\n",
       "      <th>Snohomish</th>\n",
       "      <td>16,499,080</td>\n",
       "      <td>15,825,794</td>\n",
       "      <td>4.3%</td>\n",
       "    </tr>\n",
       "    <tr>\n",
       "      <th>Total</th>\n",
       "      <td>82,650,617</td>\n",
       "      <td>82,480,739</td>\n",
       "      <td>0.2%</td>\n",
       "    </tr>\n",
       "  </tbody>\n",
       "</table>\n",
       "</div>"
      ],
      "text/plain": [
       "               model   observed  % diff\n",
       "county                                 \n",
       "King      43,264,848 43,820,112   -1.3%\n",
       "Kitsap     4,255,997  4,840,030  -12.1%\n",
       "Pierce    18,630,692 17,994,803    3.5%\n",
       "Snohomish 16,499,080 15,825,794    4.3%\n",
       "Total     82,650,617 82,480,739    0.2%"
      ]
     },
     "execution_count": 3,
     "metadata": {},
     "output_type": "execute_result"
    }
   ],
   "source": [
    "df = pd.read_csv(os.path.join(valid_config['model_dir'], r'outputs/network/county_network.csv'))\n",
    "\n",
    "df_obs = pd.read_sql(\"SELECT * FROM observed_vmt WHERE year=\"+str(input_config['base_year']), con=conn)\n",
    "df_obs.rename(columns={'vmt': 'observed'}, inplace=True)\n",
    "\n",
    "df = df[['county_name','VMT']].merge(df_obs, left_on='county_name', right_on='county')\n",
    "df.rename(columns={'VMT': 'model'}, inplace=True)\n",
    "df.index = df['county']\n",
    "df[['observed','model']] = df[['observed','model']].astype('float')\n",
    "\n",
    "df.loc['Total',:] = df.sum().values\n",
    "\n",
    "df['% diff'] = (df['model']-df['observed'])/df['observed']\n",
    "df[['% diff']] = df[['% diff']].applymap(format_percent)\n",
    "df[['model','observed','% diff']]"
   ]
  },
  {
   "cell_type": "raw",
   "id": "12e1740a",
   "metadata": {},
   "source": [
    ":::"
   ]
  },
  {
   "cell_type": "markdown",
   "id": "916da9b1c4cbd6da",
   "metadata": {},
   "source": [
    "## Daily Traffic Counts"
   ]
  },
  {
   "cell_type": "raw",
   "id": "9ab84874b18330bc",
   "metadata": {},
   "source": [
    ":::{.panel-tabset}\n",
    "### traffic by facility type"
   ]
  },
  {
   "cell_type": "code",
   "execution_count": 4,
   "id": "3d0602498872d993",
   "metadata": {
    "ExecuteTime": {
     "end_time": "2024-06-24T21:13:27.250795Z",
     "start_time": "2024-06-24T21:13:26.984996Z"
    },
    "execution": {
     "iopub.execute_input": "2024-06-24T21:55:44.494756Z",
     "iopub.status.busy": "2024-06-24T21:55:44.494756Z",
     "iopub.status.idle": "2024-06-24T21:55:44.713484Z",
     "shell.execute_reply": "2024-06-24T21:55:44.713484Z"
    }
   },
   "outputs": [
    {
     "data": {
      "text/html": [
       "<div>\n",
       "<style scoped>\n",
       "    .dataframe tbody tr th:only-of-type {\n",
       "        vertical-align: middle;\n",
       "    }\n",
       "\n",
       "    .dataframe tbody tr th {\n",
       "        vertical-align: top;\n",
       "    }\n",
       "\n",
       "    .dataframe thead th {\n",
       "        text-align: right;\n",
       "    }\n",
       "</style>\n",
       "<table border=\"1\" class=\"dataframe\">\n",
       "  <thead>\n",
       "    <tr style=\"text-align: right;\">\n",
       "      <th></th>\n",
       "      <th>observed</th>\n",
       "      <th>modeled</th>\n",
       "      <th>diff</th>\n",
       "      <th>percent_diff</th>\n",
       "    </tr>\n",
       "    <tr>\n",
       "      <th>@facilitytype</th>\n",
       "      <th></th>\n",
       "      <th></th>\n",
       "      <th></th>\n",
       "      <th></th>\n",
       "    </tr>\n",
       "  </thead>\n",
       "  <tbody>\n",
       "    <tr>\n",
       "      <th>Arterial</th>\n",
       "      <td>13,095,011</td>\n",
       "      <td>13,532,579</td>\n",
       "      <td>437,568</td>\n",
       "      <td>3.3%</td>\n",
       "    </tr>\n",
       "    <tr>\n",
       "      <th>Collector</th>\n",
       "      <td>72,096</td>\n",
       "      <td>84,566</td>\n",
       "      <td>12,470</td>\n",
       "      <td>17.3%</td>\n",
       "    </tr>\n",
       "    <tr>\n",
       "      <th>Freeway</th>\n",
       "      <td>46,403,290</td>\n",
       "      <td>44,644,378</td>\n",
       "      <td>-1,758,912</td>\n",
       "      <td>-3.8%</td>\n",
       "    </tr>\n",
       "    <tr>\n",
       "      <th>HOV</th>\n",
       "      <td>246,054</td>\n",
       "      <td>272,680</td>\n",
       "      <td>26,626</td>\n",
       "      <td>10.8%</td>\n",
       "    </tr>\n",
       "    <tr>\n",
       "      <th>Ramp</th>\n",
       "      <td>334,132</td>\n",
       "      <td>255,204</td>\n",
       "      <td>-78,928</td>\n",
       "      <td>-23.6%</td>\n",
       "    </tr>\n",
       "    <tr>\n",
       "      <th>Total</th>\n",
       "      <td>60,150,583</td>\n",
       "      <td>58,789,407</td>\n",
       "      <td>-1,361,176</td>\n",
       "      <td>-2.3%</td>\n",
       "    </tr>\n",
       "  </tbody>\n",
       "</table>\n",
       "</div>"
      ],
      "text/plain": [
       "                observed    modeled       diff percent_diff\n",
       "@facilitytype                                              \n",
       "Arterial      13,095,011 13,532,579    437,568         3.3%\n",
       "Collector         72,096     84,566     12,470        17.3%\n",
       "Freeway       46,403,290 44,644,378 -1,758,912        -3.8%\n",
       "HOV              246,054    272,680     26,626        10.8%\n",
       "Ramp             334,132    255,204    -78,928       -23.6%\n",
       "Total         60,150,583 58,789,407 -1,361,176        -2.3%"
      ]
     },
     "execution_count": 4,
     "metadata": {},
     "output_type": "execute_result"
    }
   ],
   "source": [
    "df = pd.read_csv(os.path.join(csv_path, 'daily_volume.csv'))\n",
    "df[['modeled', 'observed']] = df[['modeled', 'observed']].astype('float')\n",
    "_df = df.groupby('@facilitytype').sum()[['observed', 'modeled']]\n",
    "_df.loc['Total', :] = _df.sum().values\n",
    "_df['diff'] = _df['modeled'] - _df['observed']\n",
    "_df['percent_diff'] = _df['diff'] / _df['observed']\n",
    "_df[['percent_diff']] = _df[['percent_diff']].applymap(format_percent)\n",
    "_df"
   ]
  },
  {
   "cell_type": "raw",
   "id": "318ed515b29396d1",
   "metadata": {},
   "source": [
    "### traffic by county"
   ]
  },
  {
   "cell_type": "code",
   "execution_count": 5,
   "id": "a9e08108f2b1ff34",
   "metadata": {
    "ExecuteTime": {
     "end_time": "2024-06-24T21:14:07.016217Z",
     "start_time": "2024-06-24T21:14:06.922235Z"
    },
    "execution": {
     "iopub.execute_input": "2024-06-24T21:55:44.713484Z",
     "iopub.status.busy": "2024-06-24T21:55:44.713484Z",
     "iopub.status.idle": "2024-06-24T21:55:44.776571Z",
     "shell.execute_reply": "2024-06-24T21:55:44.776571Z"
    }
   },
   "outputs": [
    {
     "data": {
      "text/html": [
       "<div>\n",
       "<style scoped>\n",
       "    .dataframe tbody tr th:only-of-type {\n",
       "        vertical-align: middle;\n",
       "    }\n",
       "\n",
       "    .dataframe tbody tr th {\n",
       "        vertical-align: top;\n",
       "    }\n",
       "\n",
       "    .dataframe thead th {\n",
       "        text-align: right;\n",
       "    }\n",
       "</style>\n",
       "<table border=\"1\" class=\"dataframe\">\n",
       "  <thead>\n",
       "    <tr style=\"text-align: right;\">\n",
       "      <th></th>\n",
       "      <th>observed</th>\n",
       "      <th>modeled</th>\n",
       "      <th>diff</th>\n",
       "      <th>percent_diff</th>\n",
       "    </tr>\n",
       "    <tr>\n",
       "      <th>county</th>\n",
       "      <th></th>\n",
       "      <th></th>\n",
       "      <th></th>\n",
       "      <th></th>\n",
       "    </tr>\n",
       "  </thead>\n",
       "  <tbody>\n",
       "    <tr>\n",
       "      <th>King</th>\n",
       "      <td>32,134,196</td>\n",
       "      <td>32,158,726</td>\n",
       "      <td>24,530</td>\n",
       "      <td>0.1%</td>\n",
       "    </tr>\n",
       "    <tr>\n",
       "      <th>Kitsap</th>\n",
       "      <td>3,636,120</td>\n",
       "      <td>2,759,557</td>\n",
       "      <td>-876,563</td>\n",
       "      <td>-24.1%</td>\n",
       "    </tr>\n",
       "    <tr>\n",
       "      <th>Pierce</th>\n",
       "      <td>12,521,561</td>\n",
       "      <td>12,567,605</td>\n",
       "      <td>46,044</td>\n",
       "      <td>0.4%</td>\n",
       "    </tr>\n",
       "    <tr>\n",
       "      <th>Snohomish</th>\n",
       "      <td>11,858,706</td>\n",
       "      <td>11,303,519</td>\n",
       "      <td>-555,187</td>\n",
       "      <td>-4.7%</td>\n",
       "    </tr>\n",
       "    <tr>\n",
       "      <th>Total</th>\n",
       "      <td>60,150,583</td>\n",
       "      <td>58,789,407</td>\n",
       "      <td>-1,361,176</td>\n",
       "      <td>-2.3%</td>\n",
       "    </tr>\n",
       "  </tbody>\n",
       "</table>\n",
       "</div>"
      ],
      "text/plain": [
       "            observed    modeled       diff percent_diff\n",
       "county                                                 \n",
       "King      32,134,196 32,158,726     24,530         0.1%\n",
       "Kitsap     3,636,120  2,759,557   -876,563       -24.1%\n",
       "Pierce    12,521,561 12,567,605     46,044         0.4%\n",
       "Snohomish 11,858,706 11,303,519   -555,187        -4.7%\n",
       "Total     60,150,583 58,789,407 -1,361,176        -2.3%"
      ]
     },
     "execution_count": 5,
     "metadata": {},
     "output_type": "execute_result"
    }
   ],
   "source": [
    "df = pd.read_csv(os.path.join(csv_path,'daily_volume_county_facility.csv'))\n",
    "df[['modeled','observed']] = df[['modeled','observed']].astype('float')\n",
    "\n",
    "_df = df.groupby('county').sum()[['observed','modeled']]\n",
    "_df.loc['Total',:] = _df.sum().values\n",
    "_df['diff'] = _df['modeled']-_df['observed']\n",
    "_df['percent_diff'] = _df['diff']/_df['observed']\n",
    "_df[['percent_diff']] = _df[['percent_diff']].applymap(format_percent)\n",
    "_df"
   ]
  },
  {
   "cell_type": "raw",
   "id": "4cbb7796cba1fac",
   "metadata": {},
   "source": [
    ":::"
   ]
  },
  {
   "cell_type": "markdown",
   "id": "1ed4a57b3001060f",
   "metadata": {},
   "source": [
    "## Daily Traffic Scatterplot"
   ]
  },
  {
   "cell_type": "raw",
   "id": "4769a675e263f0c4",
   "metadata": {},
   "source": [
    ":::{.panel-tabset}\n",
    "\n",
    "### all roads"
   ]
  },
  {
   "cell_type": "code",
   "execution_count": 6,
   "id": "2030adc6c52f8ab9",
   "metadata": {
    "ExecuteTime": {
     "end_time": "2024-06-24T21:40:18.699723Z",
     "start_time": "2024-06-24T21:40:18.277822Z"
    },
    "execution": {
     "iopub.execute_input": "2024-06-24T21:55:44.776571Z",
     "iopub.status.busy": "2024-06-24T21:55:44.776571Z",
     "iopub.status.idle": "2024-06-24T21:55:45.353957Z",
     "shell.execute_reply": "2024-06-24T21:55:45.353957Z"
    }
   },
   "outputs": [
    {
     "data": {
      "text/plain": [
       "[<matplotlib.lines.Line2D at 0x2962a7f2708>]"
      ]
     },
     "execution_count": 6,
     "metadata": {},
     "output_type": "execute_result"
    },
    {
     "data": {
      "image/png": "[encoded data removed]",
      "text/plain": [
       "<Figure size 432x288 with 1 Axes>"
      ]
     },
     "metadata": {
      "needs_background": "light"
     },
     "output_type": "display_data"
    }
   ],
   "source": [
    "df = pd.read_csv(os.path.join(csv_path,'daily_volume.csv'))\n",
    "ax = df.plot(kind='scatter', x='observed', y='modeled')\n",
    "lim = df[['observed','modeled']].max().max()*1.05\n",
    "ax.set_ylim(0,lim)\n",
    "ax.set_xlim(0,lim)\n",
    "x = np.linspace(*ax.get_xlim())\n",
    "ax.plot(x, x)"
   ]
  },
  {
   "cell_type": "code",
   "execution_count": 7,
   "id": "4121d8204203b7a1",
   "metadata": {
    "ExecuteTime": {
     "end_time": "2024-06-24T21:40:35.668359Z",
     "start_time": "2024-06-24T21:40:35.652845Z"
    },
    "execution": {
     "iopub.execute_input": "2024-06-24T21:55:45.370254Z",
     "iopub.status.busy": "2024-06-24T21:55:45.369735Z",
     "iopub.status.idle": "2024-06-24T21:55:45.400891Z",
     "shell.execute_reply": "2024-06-24T21:55:45.400891Z"
    }
   },
   "outputs": [
    {
     "name": "stdout",
     "output_type": "stream",
     "text": [
      "r^2: 0.960992317473561\n"
     ]
    }
   ],
   "source": [
    "slope, intercept, r_value, p_value, std_err = stats.linregress(df['observed'],df['modeled'])\n",
    "print('r^2: ' + str(r_value))"
   ]
  },
  {
   "cell_type": "raw",
   "id": "1cf84d74ba6e5dcb",
   "metadata": {},
   "source": [
    "### by county"
   ]
  },
  {
   "cell_type": "code",
   "execution_count": 8,
   "id": "ed6c7a6a78b76539",
   "metadata": {
    "ExecuteTime": {
     "end_time": "2024-06-24T21:41:13.949480Z",
     "start_time": "2024-06-24T21:41:13.122059Z"
    },
    "execution": {
     "iopub.execute_input": "2024-06-24T21:55:45.400891Z",
     "iopub.status.busy": "2024-06-24T21:55:45.400891Z",
     "iopub.status.idle": "2024-06-24T21:55:46.932020Z",
     "shell.execute_reply": "2024-06-24T21:55:46.932020Z"
    }
   },
   "outputs": [
    {
     "name": "stdout",
     "output_type": "stream",
     "text": [
      "King r^2: 0.9608624661775435\n",
      "Kitsap r^2: 0.9640698863486841\n",
      "Pierce r^2: 0.9644691137948261\n",
      "Snohomish r^2: 0.9539105977577421\n"
     ]
    },
    {
     "data": {
      "image/png": "[encoded data removed]",
      "text/plain": [
       "<Figure size 432x288 with 1 Axes>"
      ]
     },
     "metadata": {
      "needs_background": "light"
     },
     "output_type": "display_data"
    },
    {
     "data": {
      "image/png": "[encoded data removed]",
      "text/plain": [
       "<Figure size 432x288 with 1 Axes>"
      ]
     },
     "metadata": {
      "needs_background": "light"
     },
     "output_type": "display_data"
    },
    {
     "data": {
      "image/png": "[encoded data removed]",
      "text/plain": [
       "<Figure size 432x288 with 1 Axes>"
      ]
     },
     "metadata": {
      "needs_background": "light"
     },
     "output_type": "display_data"
    },
    {
     "data": {
      "image/png": "[encoded data removed]",
      "text/plain": [
       "<Figure size 432x288 with 1 Axes>"
      ]
     },
     "metadata": {
      "needs_background": "light"
     },
     "output_type": "display_data"
    }
   ],
   "source": [
    "for county in np.unique(df['county']):\n",
    "    _df = df[df['county'] == county]\n",
    "    ax = _df.plot(kind='scatter', x='observed', y='modeled', label=county)\n",
    "    lim = _df[['observed','modeled']].max().max()*1.05\n",
    "    ax.set_ylim(0,lim)\n",
    "    ax.set_xlim(0,lim)\n",
    "    slope, intercept, r_value, p_value, std_err = stats.linregress(_df['observed'],_df['modeled'])\n",
    "    x = np.linspace(*ax.get_xlim())\n",
    "    ax.plot(x, x)\n",
    "    print(str(county) + ' r^2: ' + str(r_value))"
   ]
  },
  {
   "cell_type": "raw",
   "id": "33fd1eaf4a4116cd",
   "metadata": {},
   "source": [
    "### by facility type"
   ]
  },
  {
   "cell_type": "code",
   "execution_count": 9,
   "id": "d56f85ef",
   "metadata": {},
   "outputs": [
    {
     "data": {
      "text/plain": [
       "array(['Freeway', 'Ramp', 'HOV', 'Arterial', 'Collector'], dtype=object)"
      ]
     },
     "execution_count": 9,
     "metadata": {},
     "output_type": "execute_result"
    }
   ],
   "source": [
    "df['@facilitytype'].unique()"
   ]
  },
  {
   "cell_type": "code",
   "execution_count": 10,
   "id": "4439d4607f364b6d",
   "metadata": {
    "ExecuteTime": {
     "end_time": "2024-06-24T21:41:37.621816Z",
     "start_time": "2024-06-24T21:41:37.152840Z"
    },
    "execution": {
     "iopub.execute_input": "2024-06-24T21:55:46.947599Z",
     "iopub.status.busy": "2024-06-24T21:55:46.947599Z",
     "iopub.status.idle": "2024-06-24T21:55:47.776595Z",
     "shell.execute_reply": "2024-06-24T21:55:47.776595Z"
    }
   },
   "outputs": [
    {
     "name": "stdout",
     "output_type": "stream",
     "text": [
      "r^2 Freeway: 0.9510788228110197\n"
     ]
    },
    {
     "data": {
      "image/png": "[encoded data removed]",
      "text/plain": [
       "<Figure size 432x288 with 1 Axes>"
      ]
     },
     "metadata": {
      "needs_background": "light"
     },
     "output_type": "display_data"
    }
   ],
   "source": [
    "# for factype in ['Freeway','Arterial']:\n",
    "for factype in ['Freeway']:\n",
    "    _df = df[df['@facilitytype'] == factype]\n",
    "    ax = _df.plot(kind='scatter', x='observed', y='modeled', label=factype)\n",
    "    lim = _df[['observed','modeled']].max().max()*1.05\n",
    "    ax.set_ylim(0,lim)\n",
    "    ax.set_xlim(0,lim)\n",
    "    x = np.linspace(*ax.get_xlim())\n",
    "    ax.plot(x, x)\n",
    "    slope, intercept, r_value, p_value, std_err = stats.linregress(_df['observed'],_df['modeled'])\n",
    "    print('r^2 ' + str(factype) + ': ' + str(r_value))"
   ]
  },
  {
   "cell_type": "raw",
   "id": "95fc70f3fe7ad579",
   "metadata": {},
   "source": [
    ":::"
   ]
  },
  {
   "cell_type": "code",
   "execution_count": 11,
   "id": "25272c3f",
   "metadata": {},
   "outputs": [],
   "source": [
    "## hourly volumnes"
   ]
  },
  {
   "cell_type": "code",
   "execution_count": 12,
   "id": "2c7cb227ac728135",
   "metadata": {
    "ExecuteTime": {
     "end_time": "2024-06-24T21:42:50.230565Z",
     "start_time": "2024-06-24T21:42:49.902592Z"
    },
    "execution": {
     "iopub.execute_input": "2024-06-24T21:55:47.791669Z",
     "iopub.status.busy": "2024-06-24T21:55:47.791669Z",
     "iopub.status.idle": "2024-06-24T21:55:48.385801Z",
     "shell.execute_reply": "2024-06-24T21:55:48.385801Z"
    }
   },
   "outputs": [],
   "source": [
    "# df = pd.read_csv(os.path.join(csv_path,'hourly_volume.csv'))\n",
    "# ax = df.plot(kind='scatter', x='observed', y='modeled')\n",
    "# lim = df[['observed','modeled']].max().max()*1.05\n",
    "# ax.set_ylim(0,lim)\n",
    "# ax.set_xlim(0,lim)\n",
    "# x = np.linspace(*ax.get_xlim())\n",
    "# ax.plot(x, x)\n",
    "# slope, intercept, r_value, p_value, std_err = stats.linregress(df['observed'],df['modeled'])\n",
    "# print('r^2: ' + str(r_value))"
   ]
  },
  {
   "cell_type": "markdown",
   "id": "570811475e66e98d",
   "metadata": {},
   "source": [
    "## Screenlines"
   ]
  },
  {
   "cell_type": "code",
   "execution_count": 13,
   "id": "6ee15d11aa23ee15",
   "metadata": {
    "ExecuteTime": {
     "end_time": "2024-06-24T21:43:33.293169Z",
     "start_time": "2024-06-24T21:43:33.194667Z"
    },
    "execution": {
     "iopub.execute_input": "2024-06-24T21:55:48.402354Z",
     "iopub.status.busy": "2024-06-24T21:55:48.402044Z",
     "iopub.status.idle": "2024-06-24T21:55:48.510823Z",
     "shell.execute_reply": "2024-06-24T21:55:48.510203Z"
    }
   },
   "outputs": [
    {
     "data": {
      "text/html": [
       "<div>\n",
       "<style scoped>\n",
       "    .dataframe tbody tr th:only-of-type {\n",
       "        vertical-align: middle;\n",
       "    }\n",
       "\n",
       "    .dataframe tbody tr th {\n",
       "        vertical-align: top;\n",
       "    }\n",
       "\n",
       "    .dataframe thead th {\n",
       "        text-align: right;\n",
       "    }\n",
       "</style>\n",
       "<table border=\"1\" class=\"dataframe\">\n",
       "  <thead>\n",
       "    <tr style=\"text-align: right;\">\n",
       "      <th></th>\n",
       "      <th>name</th>\n",
       "      <th>observed</th>\n",
       "      <th>modeled</th>\n",
       "      <th>county</th>\n",
       "      <th>diff</th>\n",
       "      <th>percent_diff</th>\n",
       "    </tr>\n",
       "  </thead>\n",
       "  <tbody>\n",
       "    <tr>\n",
       "      <th>0</th>\n",
       "      <td>AUBURN - SOUTH KING</td>\n",
       "      <td>592,476</td>\n",
       "      <td>505,932</td>\n",
       "      <td>King</td>\n",
       "      <td>-86,544</td>\n",
       "      <td>-14.6%</td>\n",
       "    </tr>\n",
       "    <tr>\n",
       "      <th>1</th>\n",
       "      <td>KENT</td>\n",
       "      <td>559,335</td>\n",
       "      <td>464,609</td>\n",
       "      <td>King</td>\n",
       "      <td>-94,726</td>\n",
       "      <td>-16.9%</td>\n",
       "    </tr>\n",
       "    <tr>\n",
       "      <th>2</th>\n",
       "      <td>SHIP CANAL</td>\n",
       "      <td>483,370</td>\n",
       "      <td>486,818</td>\n",
       "      <td>King</td>\n",
       "      <td>3,448</td>\n",
       "      <td>0.7%</td>\n",
       "    </tr>\n",
       "    <tr>\n",
       "      <th>3</th>\n",
       "      <td>SEATTLE - SOUTH OF CBD</td>\n",
       "      <td>473,322</td>\n",
       "      <td>461,447</td>\n",
       "      <td>King</td>\n",
       "      <td>-11,875</td>\n",
       "      <td>-2.5%</td>\n",
       "    </tr>\n",
       "    <tr>\n",
       "      <th>4</th>\n",
       "      <td>MILL CREEK</td>\n",
       "      <td>391,447</td>\n",
       "      <td>369,770</td>\n",
       "      <td>King</td>\n",
       "      <td>-21,677</td>\n",
       "      <td>-5.5%</td>\n",
       "    </tr>\n",
       "    <tr>\n",
       "      <th>5</th>\n",
       "      <td>SOUTH BELLEVUE</td>\n",
       "      <td>389,700</td>\n",
       "      <td>360,355</td>\n",
       "      <td>King</td>\n",
       "      <td>-29,345</td>\n",
       "      <td>-7.5%</td>\n",
       "    </tr>\n",
       "    <tr>\n",
       "      <th>6</th>\n",
       "      <td>KIRKLAND-REDMOND</td>\n",
       "      <td>380,783</td>\n",
       "      <td>367,958</td>\n",
       "      <td>King</td>\n",
       "      <td>-12,825</td>\n",
       "      <td>-3.4%</td>\n",
       "    </tr>\n",
       "    <tr>\n",
       "      <th>7</th>\n",
       "      <td>SEATTLE - NORTH</td>\n",
       "      <td>356,051</td>\n",
       "      <td>343,625</td>\n",
       "      <td>King</td>\n",
       "      <td>-12,426</td>\n",
       "      <td>-3.5%</td>\n",
       "    </tr>\n",
       "    <tr>\n",
       "      <th>8</th>\n",
       "      <td>TACOMA - EAST OF CBD</td>\n",
       "      <td>324,463</td>\n",
       "      <td>336,299</td>\n",
       "      <td>Pierce</td>\n",
       "      <td>11,836</td>\n",
       "      <td>3.6%</td>\n",
       "    </tr>\n",
       "    <tr>\n",
       "      <th>9</th>\n",
       "      <td>PARKLAND</td>\n",
       "      <td>299,722</td>\n",
       "      <td>263,665</td>\n",
       "      <td>Pierce</td>\n",
       "      <td>-36,057</td>\n",
       "      <td>-12.0%</td>\n",
       "    </tr>\n",
       "    <tr>\n",
       "      <th>10</th>\n",
       "      <td>BOTHELL</td>\n",
       "      <td>291,573</td>\n",
       "      <td>338,945</td>\n",
       "      <td>King</td>\n",
       "      <td>47,372</td>\n",
       "      <td>16.2%</td>\n",
       "    </tr>\n",
       "    <tr>\n",
       "      <th>11</th>\n",
       "      <td>LYNNWOOD-BOTHELL</td>\n",
       "      <td>260,099</td>\n",
       "      <td>307,877</td>\n",
       "      <td>King</td>\n",
       "      <td>47,778</td>\n",
       "      <td>18.4%</td>\n",
       "    </tr>\n",
       "    <tr>\n",
       "      <th>12</th>\n",
       "      <td>TUKWILA</td>\n",
       "      <td>257,776</td>\n",
       "      <td>227,408</td>\n",
       "      <td>King</td>\n",
       "      <td>-30,368</td>\n",
       "      <td>-11.8%</td>\n",
       "    </tr>\n",
       "    <tr>\n",
       "      <th>13</th>\n",
       "      <td>TRANSLAKE</td>\n",
       "      <td>222,188</td>\n",
       "      <td>247,740</td>\n",
       "      <td>King</td>\n",
       "      <td>25,552</td>\n",
       "      <td>11.5%</td>\n",
       "    </tr>\n",
       "    <tr>\n",
       "      <th>14</th>\n",
       "      <td>PUYALLUP</td>\n",
       "      <td>128,700</td>\n",
       "      <td>122,870</td>\n",
       "      <td>Pierce</td>\n",
       "      <td>-5,830</td>\n",
       "      <td>-4.5%</td>\n",
       "    </tr>\n",
       "    <tr>\n",
       "      <th>15</th>\n",
       "      <td>WOODINVILLE</td>\n",
       "      <td>116,355</td>\n",
       "      <td>159,604</td>\n",
       "      <td>King</td>\n",
       "      <td>43,249</td>\n",
       "      <td>37.2%</td>\n",
       "    </tr>\n",
       "    <tr>\n",
       "      <th>16</th>\n",
       "      <td>NORTH KITSAP</td>\n",
       "      <td>104,890</td>\n",
       "      <td>71,613</td>\n",
       "      <td>Kitsap</td>\n",
       "      <td>-33,277</td>\n",
       "      <td>-31.7%</td>\n",
       "    </tr>\n",
       "    <tr>\n",
       "      <th>17</th>\n",
       "      <td>TACOMA NARROWS</td>\n",
       "      <td>97,300</td>\n",
       "      <td>106,679</td>\n",
       "      <td>Pierce</td>\n",
       "      <td>9,379</td>\n",
       "      <td>9.6%</td>\n",
       "    </tr>\n",
       "    <tr>\n",
       "      <th>18</th>\n",
       "      <td>PRESTON-ISSAQUAH</td>\n",
       "      <td>86,462</td>\n",
       "      <td>87,543</td>\n",
       "      <td>King</td>\n",
       "      <td>1,081</td>\n",
       "      <td>1.3%</td>\n",
       "    </tr>\n",
       "    <tr>\n",
       "      <th>19</th>\n",
       "      <td>GIG HARBOR</td>\n",
       "      <td>84,875</td>\n",
       "      <td>82,965</td>\n",
       "      <td>Pierce</td>\n",
       "      <td>-1,910</td>\n",
       "      <td>-2.3%</td>\n",
       "    </tr>\n",
       "    <tr>\n",
       "      <th>20</th>\n",
       "      <td>SEATAC</td>\n",
       "      <td>72,402</td>\n",
       "      <td>84,496</td>\n",
       "      <td>King</td>\n",
       "      <td>12,094</td>\n",
       "      <td>16.7%</td>\n",
       "    </tr>\n",
       "    <tr>\n",
       "      <th>21</th>\n",
       "      <td>MAPLE VALLEY</td>\n",
       "      <td>70,813</td>\n",
       "      <td>58,686</td>\n",
       "      <td>King</td>\n",
       "      <td>-12,127</td>\n",
       "      <td>-17.1%</td>\n",
       "    </tr>\n",
       "    <tr>\n",
       "      <th>22</th>\n",
       "      <td>RENTON</td>\n",
       "      <td>68,127</td>\n",
       "      <td>65,550</td>\n",
       "      <td>King</td>\n",
       "      <td>-2,577</td>\n",
       "      <td>-3.8%</td>\n",
       "    </tr>\n",
       "    <tr>\n",
       "      <th>23</th>\n",
       "      <td>AGATE PASS BRIDGE</td>\n",
       "      <td>21,000</td>\n",
       "      <td>20,387</td>\n",
       "      <td>Kitsap</td>\n",
       "      <td>-613</td>\n",
       "      <td>-2.9%</td>\n",
       "    </tr>\n",
       "    <tr>\n",
       "      <th>24</th>\n",
       "      <td>CROSS SOUND</td>\n",
       "      <td>14,302</td>\n",
       "      <td>14,960</td>\n",
       "      <td>Kitsap</td>\n",
       "      <td>658</td>\n",
       "      <td>4.6%</td>\n",
       "    </tr>\n",
       "    <tr>\n",
       "      <th>25</th>\n",
       "      <td>TOTAL</td>\n",
       "      <td>6,147,531</td>\n",
       "      <td>5,957,803</td>\n",
       "      <td>NaN</td>\n",
       "      <td>-189,728</td>\n",
       "      <td>-3.1%</td>\n",
       "    </tr>\n",
       "  </tbody>\n",
       "</table>\n",
       "</div>"
      ],
      "text/plain": [
       "                      name  observed   modeled  county     diff percent_diff\n",
       "0      AUBURN - SOUTH KING   592,476   505,932    King  -86,544       -14.6%\n",
       "1                     KENT   559,335   464,609    King  -94,726       -16.9%\n",
       "2               SHIP CANAL   483,370   486,818    King    3,448         0.7%\n",
       "3   SEATTLE - SOUTH OF CBD   473,322   461,447    King  -11,875        -2.5%\n",
       "4               MILL CREEK   391,447   369,770    King  -21,677        -5.5%\n",
       "5           SOUTH BELLEVUE   389,700   360,355    King  -29,345        -7.5%\n",
       "6         KIRKLAND-REDMOND   380,783   367,958    King  -12,825        -3.4%\n",
       "7          SEATTLE - NORTH   356,051   343,625    King  -12,426        -3.5%\n",
       "8     TACOMA - EAST OF CBD   324,463   336,299  Pierce   11,836         3.6%\n",
       "9                 PARKLAND   299,722   263,665  Pierce  -36,057       -12.0%\n",
       "10                 BOTHELL   291,573   338,945    King   47,372        16.2%\n",
       "11        LYNNWOOD-BOTHELL   260,099   307,877    King   47,778        18.4%\n",
       "12                 TUKWILA   257,776   227,408    King  -30,368       -11.8%\n",
       "13               TRANSLAKE   222,188   247,740    King   25,552        11.5%\n",
       "14                PUYALLUP   128,700   122,870  Pierce   -5,830        -4.5%\n",
       "15             WOODINVILLE   116,355   159,604    King   43,249        37.2%\n",
       "16            NORTH KITSAP   104,890    71,613  Kitsap  -33,277       -31.7%\n",
       "17          TACOMA NARROWS    97,300   106,679  Pierce    9,379         9.6%\n",
       "18        PRESTON-ISSAQUAH    86,462    87,543    King    1,081         1.3%\n",
       "19              GIG HARBOR    84,875    82,965  Pierce   -1,910        -2.3%\n",
       "20                  SEATAC    72,402    84,496    King   12,094        16.7%\n",
       "21            MAPLE VALLEY    70,813    58,686    King  -12,127       -17.1%\n",
       "22                  RENTON    68,127    65,550    King   -2,577        -3.8%\n",
       "23       AGATE PASS BRIDGE    21,000    20,387  Kitsap     -613        -2.9%\n",
       "24             CROSS SOUND    14,302    14,960  Kitsap      658         4.6%\n",
       "25                   TOTAL 6,147,531 5,957,803     NaN -189,728        -3.1%"
      ]
     },
     "execution_count": 13,
     "metadata": {},
     "output_type": "execute_result"
    }
   ],
   "source": [
    "df = pd.read_csv(os.path.join(csv_path,'screenlines.csv'))\n",
    "df = df.append(df.sum(numeric_only=True), ignore_index=True)\n",
    "df.at[df.index[-1], 'name'] = 'TOTAL'\n",
    "#df.at['C', 'name'] = 10\n",
    "df['percent_diff'] = df['diff']/df['observed']\n",
    "df[['percent_diff']] = df[['percent_diff']].applymap(format_percent)\n",
    "df"
   ]
  },
  {
   "cell_type": "code",
   "execution_count": 14,
   "id": "85e33c82ecdece63",
   "metadata": {
    "ExecuteTime": {
     "end_time": "2024-06-24T21:43:47.402427Z",
     "start_time": "2024-06-24T21:43:47.214746Z"
    },
    "execution": {
     "iopub.execute_input": "2024-06-24T21:55:48.526454Z",
     "iopub.status.busy": "2024-06-24T21:55:48.510823Z",
     "iopub.status.idle": "2024-06-24T21:55:48.917265Z",
     "shell.execute_reply": "2024-06-24T21:55:48.917265Z"
    }
   },
   "outputs": [
    {
     "name": "stdout",
     "output_type": "stream",
     "text": [
      "r^2 : 0.9830588326887028\n"
     ]
    },
    {
     "data": {
      "image/png": "[encoded data removed]",
      "text/plain": [
       "<Figure size 432x288 with 1 Axes>"
      ]
     },
     "metadata": {
      "needs_background": "light"
     },
     "output_type": "display_data"
    }
   ],
   "source": [
    "df = df.head(-1)\n",
    "ax = df.plot(kind='scatter', x='observed', y='modeled')\n",
    "lim = df[['observed','modeled']].max().max()*1.05\n",
    "ax.set_ylim(0,lim)\n",
    "ax.set_xlim(0,lim)\n",
    "x = np.linspace(*ax.get_xlim())\n",
    "ax.plot(x, x)\n",
    "slope, intercept, r_value, p_value, std_err = stats.linregress(df['observed'],df['modeled'])\n",
    "print('r^2 : ' + str(r_value))"
   ]
  },
  {
   "cell_type": "markdown",
   "id": "6e3acde1",
   "metadata": {},
   "source": [
    "# External Stations"
   ]
  },
  {
   "cell_type": "raw",
   "id": "bf56b611",
   "metadata": {},
   "source": [
    ":::{.panel-tabset}\n",
    "### Observed vs Model Counts"
   ]
  },
  {
   "cell_type": "code",
   "execution_count": 15,
   "id": "3995fd29",
   "metadata": {},
   "outputs": [
    {
     "data": {
      "text/html": [
       "<div>\n",
       "<style scoped>\n",
       "    .dataframe tbody tr th:only-of-type {\n",
       "        vertical-align: middle;\n",
       "    }\n",
       "\n",
       "    .dataframe tbody tr th {\n",
       "        vertical-align: top;\n",
       "    }\n",
       "\n",
       "    .dataframe thead th {\n",
       "        text-align: right;\n",
       "    }\n",
       "</style>\n",
       "<table border=\"1\" class=\"dataframe\">\n",
       "  <thead>\n",
       "    <tr style=\"text-align: right;\">\n",
       "      <th></th>\n",
       "      <th>external_station</th>\n",
       "      <th>location</th>\n",
       "      <th>county</th>\n",
       "      <th>observed</th>\n",
       "      <th>modeled</th>\n",
       "      <th>diff</th>\n",
       "      <th>percent_diff</th>\n",
       "    </tr>\n",
       "  </thead>\n",
       "  <tbody>\n",
       "    <tr>\n",
       "      <th>0</th>\n",
       "      <td>3733</td>\n",
       "      <td>I-5 to Olympia</td>\n",
       "      <td>Pierce</td>\n",
       "      <td>129,250</td>\n",
       "      <td>130,962</td>\n",
       "      <td>1,712</td>\n",
       "      <td>1.3%</td>\n",
       "    </tr>\n",
       "    <tr>\n",
       "      <th>1</th>\n",
       "      <td>3744</td>\n",
       "      <td>I-5 to Mount Vernon</td>\n",
       "      <td>Snohomish</td>\n",
       "      <td>65,880</td>\n",
       "      <td>64,074</td>\n",
       "      <td>-1,806</td>\n",
       "      <td>-2.7%</td>\n",
       "    </tr>\n",
       "    <tr>\n",
       "      <th>2</th>\n",
       "      <td>3739</td>\n",
       "      <td>I-90 @ Snoqualmie Pass</td>\n",
       "      <td>King</td>\n",
       "      <td>30,500</td>\n",
       "      <td>33,235</td>\n",
       "      <td>2,735</td>\n",
       "      <td>9.0%</td>\n",
       "    </tr>\n",
       "    <tr>\n",
       "      <th>3</th>\n",
       "      <td>3734</td>\n",
       "      <td>SR-507 to Yelm</td>\n",
       "      <td>Pierce</td>\n",
       "      <td>22,700</td>\n",
       "      <td>22,741</td>\n",
       "      <td>41</td>\n",
       "      <td>0.2%</td>\n",
       "    </tr>\n",
       "    <tr>\n",
       "      <th>4</th>\n",
       "      <td>3746</td>\n",
       "      <td>SR-532 to Camano Island</td>\n",
       "      <td>Snohomish</td>\n",
       "      <td>21,250</td>\n",
       "      <td>20,758</td>\n",
       "      <td>-492</td>\n",
       "      <td>-2.3%</td>\n",
       "    </tr>\n",
       "    <tr>\n",
       "      <th>5</th>\n",
       "      <td>3749</td>\n",
       "      <td>SR-3 to Belfair</td>\n",
       "      <td>Kitsap</td>\n",
       "      <td>20,329</td>\n",
       "      <td>18,134</td>\n",
       "      <td>-2,195</td>\n",
       "      <td>-10.8%</td>\n",
       "    </tr>\n",
       "    <tr>\n",
       "      <th>6</th>\n",
       "      <td>3748</td>\n",
       "      <td>Hood Canal Bridge</td>\n",
       "      <td>Kitsap</td>\n",
       "      <td>18,200</td>\n",
       "      <td>17,821</td>\n",
       "      <td>-379</td>\n",
       "      <td>-2.1%</td>\n",
       "    </tr>\n",
       "    <tr>\n",
       "      <th>7</th>\n",
       "      <td>3747</td>\n",
       "      <td>Mukilteo-Clinton Ferry</td>\n",
       "      <td>Snohomish</td>\n",
       "      <td>9,800</td>\n",
       "      <td>5,977</td>\n",
       "      <td>-3,823</td>\n",
       "      <td>-39.0%</td>\n",
       "    </tr>\n",
       "    <tr>\n",
       "      <th>8</th>\n",
       "      <td>3745</td>\n",
       "      <td>SR-530 N/O Stanwood</td>\n",
       "      <td>Snohomish</td>\n",
       "      <td>9,100</td>\n",
       "      <td>9,167</td>\n",
       "      <td>67</td>\n",
       "      <td>0.7%</td>\n",
       "    </tr>\n",
       "    <tr>\n",
       "      <th>9</th>\n",
       "      <td>3750</td>\n",
       "      <td>SR-302 to Shelton</td>\n",
       "      <td>Pierce</td>\n",
       "      <td>4,550</td>\n",
       "      <td>4,562</td>\n",
       "      <td>12</td>\n",
       "      <td>0.3%</td>\n",
       "    </tr>\n",
       "    <tr>\n",
       "      <th>10</th>\n",
       "      <td>3740</td>\n",
       "      <td>SR-2 @ Stevens Pass</td>\n",
       "      <td>King</td>\n",
       "      <td>3,050</td>\n",
       "      <td>4,573</td>\n",
       "      <td>1,523</td>\n",
       "      <td>49.9%</td>\n",
       "    </tr>\n",
       "    <tr>\n",
       "      <th>11</th>\n",
       "      <td>3735</td>\n",
       "      <td>SR-7 to Morton</td>\n",
       "      <td>Pierce</td>\n",
       "      <td>2,900</td>\n",
       "      <td>2,739</td>\n",
       "      <td>-161</td>\n",
       "      <td>-5.5%</td>\n",
       "    </tr>\n",
       "    <tr>\n",
       "      <th>12</th>\n",
       "      <td>3742</td>\n",
       "      <td>SR-530 N/O Darrington</td>\n",
       "      <td>Snohomish</td>\n",
       "      <td>2,100</td>\n",
       "      <td>2,107</td>\n",
       "      <td>7</td>\n",
       "      <td>0.4%</td>\n",
       "    </tr>\n",
       "    <tr>\n",
       "      <th>13</th>\n",
       "      <td>3736</td>\n",
       "      <td>SR-706 to Longmire</td>\n",
       "      <td>Pierce</td>\n",
       "      <td>1,800</td>\n",
       "      <td>1,802</td>\n",
       "      <td>2</td>\n",
       "      <td>0.1%</td>\n",
       "    </tr>\n",
       "    <tr>\n",
       "      <th>14</th>\n",
       "      <td>3743</td>\n",
       "      <td>SR-9 N/O Arlington</td>\n",
       "      <td>Snohomish</td>\n",
       "      <td>1,450</td>\n",
       "      <td>1,527</td>\n",
       "      <td>77</td>\n",
       "      <td>5.3%</td>\n",
       "    </tr>\n",
       "    <tr>\n",
       "      <th>15</th>\n",
       "      <td>3738</td>\n",
       "      <td>SR 410 E/O Cayuse Pass</td>\n",
       "      <td>Pierce</td>\n",
       "      <td>1,200</td>\n",
       "      <td>999</td>\n",
       "      <td>-201</td>\n",
       "      <td>-16.7%</td>\n",
       "    </tr>\n",
       "    <tr>\n",
       "      <th>16</th>\n",
       "      <td>3737</td>\n",
       "      <td>SR-123 S/O Cayuse Pass</td>\n",
       "      <td>Pierce</td>\n",
       "      <td>920</td>\n",
       "      <td>1,054</td>\n",
       "      <td>134</td>\n",
       "      <td>14.6%</td>\n",
       "    </tr>\n",
       "    <tr>\n",
       "      <th>17</th>\n",
       "      <td>3741</td>\n",
       "      <td>SR-92 to Monte Carlo</td>\n",
       "      <td>Snohomish</td>\n",
       "      <td>90</td>\n",
       "      <td>91</td>\n",
       "      <td>1</td>\n",
       "      <td>0.9%</td>\n",
       "    </tr>\n",
       "  </tbody>\n",
       "</table>\n",
       "</div>"
      ],
      "text/plain": [
       "    external_station                 location     county  observed  modeled  \\\n",
       "0               3733           I-5 to Olympia     Pierce   129,250  130,962   \n",
       "1               3744      I-5 to Mount Vernon  Snohomish    65,880   64,074   \n",
       "2               3739   I-90 @ Snoqualmie Pass       King    30,500   33,235   \n",
       "3               3734           SR-507 to Yelm     Pierce    22,700   22,741   \n",
       "4               3746  SR-532 to Camano Island  Snohomish    21,250   20,758   \n",
       "5               3749          SR-3 to Belfair     Kitsap    20,329   18,134   \n",
       "6               3748        Hood Canal Bridge     Kitsap    18,200   17,821   \n",
       "7               3747   Mukilteo-Clinton Ferry  Snohomish     9,800    5,977   \n",
       "8               3745      SR-530 N/O Stanwood  Snohomish     9,100    9,167   \n",
       "9               3750        SR-302 to Shelton     Pierce     4,550    4,562   \n",
       "10              3740      SR-2 @ Stevens Pass       King     3,050    4,573   \n",
       "11              3735           SR-7 to Morton     Pierce     2,900    2,739   \n",
       "12              3742    SR-530 N/O Darrington  Snohomish     2,100    2,107   \n",
       "13              3736       SR-706 to Longmire     Pierce     1,800    1,802   \n",
       "14              3743       SR-9 N/O Arlington  Snohomish     1,450    1,527   \n",
       "15              3738   SR 410 E/O Cayuse Pass     Pierce     1,200      999   \n",
       "16              3737   SR-123 S/O Cayuse Pass     Pierce       920    1,054   \n",
       "17              3741     SR-92 to Monte Carlo  Snohomish        90       91   \n",
       "\n",
       "     diff percent_diff  \n",
       "0   1,712         1.3%  \n",
       "1  -1,806        -2.7%  \n",
       "2   2,735         9.0%  \n",
       "3      41         0.2%  \n",
       "4    -492        -2.3%  \n",
       "5  -2,195       -10.8%  \n",
       "6    -379        -2.1%  \n",
       "7  -3,823       -39.0%  \n",
       "8      67         0.7%  \n",
       "9      12         0.3%  \n",
       "10  1,523        49.9%  \n",
       "11   -161        -5.5%  \n",
       "12      7         0.4%  \n",
       "13      2         0.1%  \n",
       "14     77         5.3%  \n",
       "15   -201       -16.7%  \n",
       "16    134        14.6%  \n",
       "17      1         0.9%  "
      ]
     },
     "execution_count": 15,
     "metadata": {},
     "output_type": "execute_result"
    }
   ],
   "source": [
    "df = pd.read_csv(os.path.join(csv_path,'external_volumes.csv'))\n",
    "df['percent_diff'] = df['diff']/df['observed']\n",
    "df[['percent_diff']] = df[['percent_diff']].applymap(format_percent)\n",
    "df"
   ]
  },
  {
   "cell_type": "code",
   "execution_count": 16,
   "id": "9006a5e5",
   "metadata": {},
   "outputs": [
    {
     "name": "stdout",
     "output_type": "stream",
     "text": [
      "r^2 : 0.999008681886976\n"
     ]
    },
    {
     "data": {
      "image/png": "[encoded data removed]",
      "text/plain": [
       "<Figure size 432x288 with 1 Axes>"
      ]
     },
     "metadata": {
      "needs_background": "light"
     },
     "output_type": "display_data"
    }
   ],
   "source": [
    "df = df.head(-1)\n",
    "ax = df.plot(kind='scatter', x='observed', y='modeled')\n",
    "lim = df[['observed','modeled']].max().max()*1.05\n",
    "ax.set_ylim(0,lim)\n",
    "ax.set_xlim(0,lim)\n",
    "x = np.linspace(*ax.get_xlim())\n",
    "ax.plot(x, x)\n",
    "slope, intercept, r_value, p_value, std_err = stats.linregress(df['observed'],df['modeled'])\n",
    "print('r^2 : ' + str(r_value))"
   ]
  },
  {
   "cell_type": "raw",
   "id": "7cd73d93",
   "metadata": {},
   "source": [
    "### Model VMT/Trips by Mode"
   ]
  },
  {
   "cell_type": "code",
   "execution_count": 17,
   "id": "4632dadd",
   "metadata": {},
   "outputs": [],
   "source": [
    "## External trips/VMT\n",
    "df_23 = h5py.File(r'..\\..\\..\\..\\inputs\\model\\roster\\7to8.h5')\n",
    "df_23_skims_sov = df_23['Skims']['sov_inc2d'][:]/100\n",
    "df_23_skims_hov2 = df_23['Skims']['hov2_inc2d'][:]/100\n",
    "df_23_skims_hov3 = df_23['Skims']['hov3_inc2d'][:]/100\n",
    "\n",
    "df_results_new = pd.DataFrame()\n",
    "\n",
    "tod_list = ['5to6', '6to7', '7to8', '8to9', '9to10', '10to14', '14to15', '15to16', '16to17', '17to18', '18to20', '20to5']\n",
    "for tod in tod_list:\n",
    "#     print(tod)\n",
    "    df_temp = pd.DataFrame()\n",
    "    for mode in ['sov','hov2','hov3']:\n",
    "#         print(mode)\n",
    "        od_new = h5py.File(r'..\\..\\..\\..\\outputs\\supplemental\\external_work_'+tod+'.h5', 'r')[mode][:]\n",
    "        df_temp.loc[tod,mode+'_vmt'] = (df_23_skims_sov*od_new).sum()\n",
    "        df_temp.loc[tod,mode+'_trips'] = od_new.sum()\n",
    "        df_temp.loc[tod,mode+'_avg_dist'] = df_temp.loc[tod,mode+'_vmt']/df_temp.loc[tod,mode+'_trips']\n",
    "    df_results_new = pd.concat([df_results_new, df_temp ])"
   ]
  },
  {
   "cell_type": "code",
   "execution_count": 18,
   "id": "b8c74662",
   "metadata": {},
   "outputs": [
    {
     "data": {
      "text/html": [
       "<div>\n",
       "<style scoped>\n",
       "    .dataframe tbody tr th:only-of-type {\n",
       "        vertical-align: middle;\n",
       "    }\n",
       "\n",
       "    .dataframe tbody tr th {\n",
       "        vertical-align: top;\n",
       "    }\n",
       "\n",
       "    .dataframe thead th {\n",
       "        text-align: right;\n",
       "    }\n",
       "</style>\n",
       "<table border=\"1\" class=\"dataframe\">\n",
       "  <thead>\n",
       "    <tr style=\"text-align: right;\">\n",
       "      <th></th>\n",
       "      <th>VMT</th>\n",
       "      <th>Trips</th>\n",
       "      <th>Avg Distance</th>\n",
       "    </tr>\n",
       "  </thead>\n",
       "  <tbody>\n",
       "    <tr>\n",
       "      <th>SOV</th>\n",
       "      <td>7,530,948</td>\n",
       "      <td>237,683</td>\n",
       "      <td>32</td>\n",
       "    </tr>\n",
       "    <tr>\n",
       "      <th>HOV2</th>\n",
       "      <td>572,156</td>\n",
       "      <td>18,264</td>\n",
       "      <td>31</td>\n",
       "    </tr>\n",
       "    <tr>\n",
       "      <th>HOV3</th>\n",
       "      <td>210,968</td>\n",
       "      <td>6,382</td>\n",
       "      <td>33</td>\n",
       "    </tr>\n",
       "    <tr>\n",
       "      <th>Total</th>\n",
       "      <td>8,314,072</td>\n",
       "      <td>262,329</td>\n",
       "      <td>32</td>\n",
       "    </tr>\n",
       "  </tbody>\n",
       "</table>\n",
       "</div>"
      ],
      "text/plain": [
       "            VMT   Trips  Avg Distance\n",
       "SOV   7,530,948 237,683            32\n",
       "HOV2    572,156  18,264            31\n",
       "HOV3    210,968   6,382            33\n",
       "Total 8,314,072 262,329            32"
      ]
     },
     "execution_count": 18,
     "metadata": {},
     "output_type": "execute_result"
    }
   ],
   "source": [
    "df_vmt = pd.DataFrame(df_results_new[['sov_vmt','hov2_vmt','hov3_vmt']].sum(),\n",
    "            columns=['VMT'])\n",
    "df_vmt.index = [i.split('_')[0].upper() for i in df_vmt.index]\n",
    "\n",
    "df_trips = pd.DataFrame(df_results_new[['sov_trips','hov2_trips','hov3_trips']].sum(),\n",
    "            columns=['Trips'])\n",
    "df_trips.index = [i.split('_')[0].upper() for i in df_trips.index]\n",
    "\n",
    "df = df_vmt.merge(df_trips, left_index=True, right_index=True)\n",
    "\n",
    "df.loc['Total',:] = df.sum(axis=0)\n",
    "df['Avg Distance'] = df['VMT']/df['Trips']\n",
    "df"
   ]
  },
  {
   "cell_type": "raw",
   "id": "ab13d57a",
   "metadata": {
    "vscode": {
     "languageId": "raw"
    }
   },
   "source": [
    ":::"
   ]
  },
  {
   "cell_type": "markdown",
   "id": "f49c3f61",
   "metadata": {},
   "source": [
    "# Trucks"
   ]
  },
  {
   "cell_type": "code",
   "execution_count": 19,
   "id": "aa5ec0de",
   "metadata": {},
   "outputs": [],
   "source": [
    "daily_counts = pd.read_sql(\"SELECT * FROM daily_counts WHERE year=\"+str(input_config['base_year']), con=conn)\n",
    "\n",
    "daily_counts['htrk_vehicles'] = daily_counts['htrk_vehicles'].astype('float').fillna(-1)\n",
    "\n",
    "facility_type_lookup = {\n",
    "    1: \"Freeway\",  # Interstate\n",
    "    2: \"Freeway\",  # Ohter Freeway\n",
    "    3: \"Freeway\",  # Expressway\n",
    "    4: \"Ramp\",\n",
    "    5: \"Arterial\",  # Principal arterial\n",
    "    6: \"Arterial\",  # Minor Arterial\n",
    "    7: \"Collector\",  # Major Collector\n",
    "    8: \"Collector\",  # Minor Collector\n",
    "    9: \"Collector\",  # Local\n",
    "    10: \"Busway\",\n",
    "    11: \"Non-Motor\",\n",
    "    12: \"Light Rail\",\n",
    "    13: \"Commuter Rail\",\n",
    "    15: \"Ferry\",\n",
    "    16: \"Passenger Only Ferry\",\n",
    "    17: \"Connector\",  # centroid connector\n",
    "    18: \"Connector\",  # facility connector\n",
    "    19: \"HOV\",  # HOV Only Freeway\n",
    "    20: \"HOV\",  # HOV Flag\n",
    "}"
   ]
  },
  {
   "cell_type": "code",
   "execution_count": 20,
   "id": "c61e0773",
   "metadata": {},
   "outputs": [],
   "source": [
    "# FIXME: move to validation.py\n",
    "df_network = pd.read_csv(r\"..\\..\\..\\..\\outputs\\network\\network_results.csv\")\n",
    "model_vol_df = df_network.copy()\n",
    "model_vol_df[\"@facilitytype\"] = model_vol_df[\"@facilitytype\"].map(\n",
    "    facility_type_lookup\n",
    ")\n",
    "\n",
    "# Get daily and model volumes\n",
    "df_daily = (\n",
    "    model_vol_df.groupby([\"@countid\"])\n",
    "    .agg({\"@tveh\": \"sum\", \"@facilitytype\": \"first\", '@mveh': 'sum', '@hveh': 'sum'})\n",
    "    .reset_index()\n",
    ")\n",
    "\n",
    "# Merge observed with model\n",
    "df_daily = df_daily.merge(daily_counts, left_on=\"@countid\", right_on=\"flag\")"
   ]
  },
  {
   "cell_type": "code",
   "execution_count": 21,
   "id": "13d5e93b",
   "metadata": {},
   "outputs": [],
   "source": [
    "county_lookup = {\n",
    "    33: 'King',\n",
    "    35: 'Kitsap',\n",
    "    53: 'Pierce',\n",
    "    61: 'Snohomish'\n",
    "}\n",
    "\n",
    "df_daily['County'] = df_daily['countyid'].map(county_lookup)"
   ]
  },
  {
   "cell_type": "code",
   "execution_count": 22,
   "id": "7087ce17",
   "metadata": {},
   "outputs": [],
   "source": [
    "df_daily_med = df_daily.copy()\n",
    "df_daily_med.rename(columns={'@mveh': 'Model', 'mtrk_vehicles': 'Observed'}, inplace=True)\n",
    "df_daily_med = df_daily_med[~df_daily_med['Observed'].isnull()]\n",
    "for col in ['Model','Observed']:\n",
    "    df_daily_med[col] = df_daily_med[col].astype('int')\n",
    "df_daily_med = df_daily_med[df_daily_med['Observed'] > 0]\n",
    "\n",
    "df_daily_heavy = df_daily.copy()\n",
    "df_daily_heavy.rename(columns={'@hveh': 'Model', 'htrk_vehicles': 'Observed'}, inplace=True)\n",
    "df_daily_heavy = df_daily_heavy[~df_daily_heavy['Observed'].isnull()]\n",
    "for col in ['Model','Observed']:\n",
    "    df_daily_heavy[col] = df_daily_heavy[col].astype('int')\n",
    "df_daily_heavy = df_daily_heavy[df_daily_heavy['Observed'] > 0]"
   ]
  },
  {
   "cell_type": "code",
   "execution_count": 23,
   "id": "77254978",
   "metadata": {},
   "outputs": [],
   "source": [
    "def create_truck_chart(df_daily, truck_type, county=None):\n",
    "\n",
    "    if county:\n",
    "        df_daily = df_daily[df_daily['County'] == county]\n",
    "        title = truck_type + ' Trucks: '+county\n",
    "    else:\n",
    "        title = truck_type + ' Trucks: Region'\n",
    "\n",
    "    slope, intercept, r_value, p_value, std_err = stats.linregress(df_daily['Observed'], df_daily['Model'])\n",
    "\n",
    "    fig = px.scatter(df_daily, y='Model', x='Observed', title=title, hover_data=['location','County'])\n",
    "    fig.update_layout(height=600, width=800, margin=dict(l=100, r=100, t=100, b=100))\n",
    "\n",
    "    # Get max value, either observed or modeled\n",
    "    max_val = df_daily[['Observed','Model']].max().max()\n",
    "\n",
    "    # Add 45-degree line\n",
    "    fig.add_shape(\n",
    "        type=\"line\",\n",
    "        x0=0, y0=0,\n",
    "        x1=max_val, y1=max_val,\n",
    "        line=dict(color=\"Red\", width=2, dash=\"dash\")\n",
    "    )\n",
    "\n",
    "    # Add best fit line\n",
    "    x_fit = np.linspace(0, max(df_daily['Observed']), 100)\n",
    "    y_fit = slope * x_fit + intercept\n",
    "    fig.add_trace(px.line(x=x_fit, y=y_fit, labels={'x':'Observed', 'y':'Model'}).data[0])\n",
    "    fig.update_traces(line=dict(color=\"Grey\", width=2))\n",
    "\n",
    "    # Add label for 45-degree line\n",
    "\n",
    "    fig.add_annotation(\n",
    "        x=max_val*1.05,\n",
    "        y=max_val*1.05,\n",
    "        text='y = x',\n",
    "        showarrow=False,\n",
    "        font=dict(size=12, color=\"pink\"),\n",
    "        align=\"right\"\n",
    "    )\n",
    "\n",
    "    # Add R-squared value as annotation\n",
    "    fig.add_annotation(\n",
    "        x=max(x_fit)*1.05,\n",
    "        y=max(y_fit)*1.05,\n",
    "        text=f'r^2 = {r_value**2:.2f}',\n",
    "        showarrow=False,\n",
    "        font=dict(size=12, color=\"black\"),\n",
    "        align=\"right\"\n",
    "    )\n",
    "\n",
    "    return fig\n"
   ]
  },
  {
   "cell_type": "markdown",
   "id": "1b416bfb",
   "metadata": {},
   "source": [
    "### Heavy Truck Counts"
   ]
  },
  {
   "cell_type": "raw",
   "id": "60e42113",
   "metadata": {
    "vscode": {
     "languageId": "raw"
    }
   },
   "source": [
    ":::{.panel-tabset}\n",
    "\n",
    "#### Region"
   ]
  },
  {
   "cell_type": "code",
   "execution_count": 24,
   "id": "27e84bb1",
   "metadata": {},
   "outputs": [
    {
     "data": {
      "text/html": [
       "        <script type=\"text/javascript\">\n",
       "        window.PlotlyConfig = {MathJaxConfig: 'local'};\n",
       "        if (window.MathJax && window.MathJax.Hub && window.MathJax.Hub.Config) {window.MathJax.Hub.Config({SVG: {font: \"STIX-Web\"}});}\n",
       "        if (typeof require !== 'undefined') {\n",
       "        require.undef(\"plotly\");\n",
       "        requirejs.config({\n",
       "            paths: {\n",
       "                'plotly': ['https://cdn.plot.ly/plotly-2.27.0.min']\n",
       "            }\n",
       "        });\n",
       "        require(['plotly'], function(Plotly) {\n",
       "            window._Plotly = Plotly;\n",
       "        });\n",
       "        }\n",
       "        </script>\n",
       "        "
      ]
     },
     "metadata": {},
     "output_type": "display_data"
    },
    {
     "data": {
      "application/vnd.plotly.v1+json": {
       "config": {
        "plotlyServerURL": "https://plot.ly"
       },
       "data": [
        {
         "customdata": [
          [
           "I-5 S/O Mounts NB",
           "Pierce"
          ],
          [
           "I-5 S/O Mounts SB",
           "Pierce"
          ],
          [
           "I-5 S/O Division NB",
           "Pierce"
          ],
          [
           "I-5 S/O Division SB",
           "Pierce"
          ],
          [
           "I-5 @ N/O Division NB",
           "Pierce"
          ],
          [
           "I-5 @ N/O Division SB",
           "Pierce"
          ],
          [
           "I-5 S/O SR-512 NB",
           "Pierce"
          ],
          [
           "I-5 S/O SR-512 SB",
           "Pierce"
          ],
          [
           "I-5 N/O SR-512 NB",
           "Pierce"
          ],
          [
           "I-5 N/O SR-512 SB",
           "Pierce"
          ],
          [
           "I-5 N/O 56th NB",
           "Pierce"
          ],
          [
           "I-5 N/O 56th SB",
           "Pierce"
          ],
          [
           "I-5 E/O SR-16 NB",
           "Pierce"
          ],
          [
           "I-5 E/O SR-16 SB",
           "Pierce"
          ],
          [
           "I-5 E/O Port of Tacoma NB",
           "Pierce"
          ],
          [
           "I-5 E/O Port of Tacoma SB (HOV from 56)",
           "Pierce"
          ],
          [
           "I-5 S/O 205th NB",
           "King"
          ],
          [
           "I-5 S/O 205th SB",
           "King"
          ],
          [
           "I-5 @ 44th NB",
           "Snohomish"
          ],
          [
           "I-5 @ 44th SB",
           "Snohomish"
          ],
          [
           "I-5 N/O 164th NB",
           "Snohomish"
          ],
          [
           "I-5 N/O 164th SB",
           "Snohomish"
          ],
          [
           "I-5 N/O SR-526 NB",
           "Snohomish"
          ],
          [
           "I-5 N/O SR-526 SB",
           "Snohomish"
          ],
          [
           "I-5 N/O 41st NB",
           "Snohomish"
          ],
          [
           "I-5 N/O 41st SB",
           "Snohomish"
          ],
          [
           "I-5 @ SR-528 NB",
           "Snohomish"
          ],
          [
           "I-5 @ SR-528 SB",
           "Snohomish"
          ],
          [
           "I-5 N/O SR-531 NB",
           "Snohomish"
          ],
          [
           "I-5 N/O SR-531 SB",
           "Snohomish"
          ],
          [
           "I-5 Rev N/O I-5 GP NB/SB",
           "King"
          ],
          [
           "I-90 E/O I-5 WB",
           "King"
          ],
          [
           "I-90 E/O I-5 EB",
           "King"
          ],
          [
           "I-90 E/O W Lk Sam WB",
           "King"
          ],
          [
           "I-90 E/O W Lk Sam EB",
           "King"
          ],
          [
           "I-90 E/O SR-900 WB",
           "King"
          ],
          [
           "I-405 @ I-5 Southcenter NB",
           "King"
          ],
          [
           "I-405 @ I-5 Southcenter SB",
           "King"
          ],
          [
           "I-405 @ Lake Wash Blvd NB",
           "King"
          ],
          [
           "I-405 @ I-90 NB",
           "King"
          ],
          [
           "I-405 @ I-90 SB",
           "King"
          ],
          [
           "I-405 N/O SR-527 NB",
           "Snohomish"
          ],
          [
           "I-405 N/O SR-527 SB",
           "Snohomish"
          ],
          [
           "SR-525 N/O I-5 NB",
           "Snohomish"
          ],
          [
           "SR-525 N/O I-5 SB",
           "Snohomish"
          ],
          [
           "SR-520 @ x-lake bridge WB",
           "King"
          ],
          [
           "SR-520 @ x-lake bridge EB",
           "King"
          ],
          [
           "SR-167 S/O 43rd NB",
           "King"
          ],
          [
           "SR-167 S/O 43rd SB",
           "King"
          ],
          [
           "SR-167 N/O SR-18 NB",
           "King"
          ],
          [
           "SR-167 N/O SR-18 SB",
           "King"
          ],
          [
           "SR-167 S/O 15th SW NB",
           "King"
          ],
          [
           "SR-167 S/O 15th SW SB",
           "King"
          ],
          [
           "SR-512 W/O Meridian WB",
           "Pierce"
          ],
          [
           "SR-512 W/O Meridian EB",
           "Pierce"
          ],
          [
           "SR-509 @ Holden NB",
           "King"
          ],
          [
           "SR-509 @ Holden SB",
           "King"
          ],
          [
           "SR-99 N/O 14th NB",
           "King"
          ],
          [
           "SR-99 N/O 14th SB",
           "King"
          ],
          [
           "SR-99 N/O WSF NB",
           "King"
          ],
          [
           "SR-99 N/O WSF SB",
           "King"
          ],
          [
           "SR-99 tunnel NB",
           "King"
          ],
          [
           "SR-99 tunnel SB",
           "King"
          ],
          [
           "SR-599 S/O Pacific NB",
           "King"
          ],
          [
           "SR-599 S/O Pacific SB",
           "King"
          ],
          [
           "SR-599 @ Pacific NB",
           "King"
          ],
          [
           "SR-599 @ Pacific SB",
           "King"
          ],
          [
           "SR-18 @ I-5 WB",
           "King"
          ],
          [
           "SR-18 @ I-5 EB",
           "King"
          ],
          [
           "SR-18 W/O Auburn-Black Diamond WB",
           "King"
          ],
          [
           "SR-18 W/O Auburn-Black Diamond EB",
           "King"
          ],
          [
           "SR-18 E/O SR-516 WB",
           "King"
          ],
          [
           "SR-18 E/O SR-516 EB",
           "King"
          ],
          [
           "SR-18 E/O 256th WB",
           "King"
          ],
          [
           "SR-18 E/O 256th EB",
           "King"
          ],
          [
           "SR-522 N/O 195th WB",
           "King"
          ],
          [
           "SR-522 N/O 195th EB",
           "King"
          ],
          [
           "I-5 N/O I-5 Rev CBD NB/SB",
           "King"
          ],
          [
           "I-5 @ SR-532 NB/SB",
           "Snohomish"
          ],
          [
           "I-5 @ Skagit border NB/SB",
           "Snohomish"
          ],
          [
           "I-90 W/O SR-18 WB/EB",
           "King"
          ],
          [
           "I-90 E/O SR-18 WB/EB",
           "King"
          ],
          [
           "I-90 E/O 436th WB/EB",
           "King"
          ],
          [
           "I-90 @ Kittitas County WB/EB",
           "King"
          ],
          [
           "I-405 N/O SR-522 NB/SB",
           "King"
          ],
          [
           "SR-525 N/O SR-526 NB/SB",
           "Snohomish"
          ],
          [
           "SR-525 N/O 5th NB/SB",
           "Snohomish"
          ],
          [
           "SR-167 N/O Grady NB/SB",
           "King"
          ],
          [
           "SR-167 W/O SR-410 NB/SB",
           "Pierce"
          ],
          [
           "SR-167 E/O SR-161 NB/SB",
           "Pierce"
          ],
          [
           "SR-410 E/O S Prairie WB/EB",
           "Pierce"
          ],
          [
           "SR-410 E/O 244th WB/EB",
           "King"
          ],
          [
           "SR-410 E/O Farman WB/EB",
           "King"
          ],
          [
           "SR-410 @ Greenwater River WB/EB",
           "King"
          ],
          [
           "SR-410 E/O Chinook WB/EB",
           "Pierce"
          ],
          [
           "SR-410 W/O SR-123 WB/EB",
           "Pierce"
          ],
          [
           "SR-410 E/O SR-123 WB/EB",
           "Pierce"
          ],
          [
           "SR-512 @ I-5 WB/EB",
           "Pierce"
          ],
          [
           "SR-512 W/O SR-7 WB/EB",
           "Pierce"
          ],
          [
           "SR-512 S/O SR-167 WB/EB",
           "Pierce"
          ],
          [
           "SR-509 E/O I-705 NB/SB",
           "Pierce"
          ],
          [
           "SR-509 W/O Alexander NB/SB",
           "Pierce"
          ],
          [
           "SR-509 S/O 11th NB/SB",
           "Pierce"
          ],
          [
           "SR-509 N/O Hyada NB/SB",
           "Pierce"
          ],
          [
           "SR-509 E/O Soundview NB/SB",
           "Pierce"
          ],
          [
           "SR-509 E/O 47th NB/SB",
           "King"
          ],
          [
           "SR-509 E/O 21st NB/SB",
           "King"
          ],
          [
           "SR-509 W/O SR-516 NB/SB",
           "King"
          ],
          [
           "SR-509 W/O Des Moines Mem NB/SB",
           "King"
          ],
          [
           "SR-509 E/O 1st Ave NB/SB",
           "King"
          ],
          [
           "SR-509 E/O Des Moines Mem NB/SB",
           "King"
          ],
          [
           "SR-509 @ SR-509 ramp overpass NB/SB",
           "King"
          ],
          [
           "SR-509 N/O Des Moines Mem NB/SB",
           "King"
          ],
          [
           "SR-509 N/O SR-518 NB/SB",
           "King"
          ],
          [
           "SR-99 @ I-5 NB/SB",
           "Pierce"
          ],
          [
           "SR-99 E/O 54th NB/SB",
           "Pierce"
          ],
          [
           "SR-99 S/O Porter NB/SB",
           "Pierce"
          ],
          [
           "SR-99 S/O SR-18 NB/SB",
           "King"
          ],
          [
           "SR-99 N/O SR-18 NB/SB",
           "King"
          ],
          [
           "SR-99 N/O 320th NB/SB",
           "King"
          ],
          [
           "SR-99 N/O 188th NB/SB",
           "King"
          ],
          [
           "SR-99 @ WSF NB/SB",
           "King"
          ],
          [
           "SR-99 @ Aurora Bridge NB/SB",
           "King"
          ],
          [
           "SR-99 N/O 38th NB/SB",
           "King"
          ],
          [
           "SR-99 S/O Roosevelt NB/SB",
           "King"
          ],
          [
           "SR-99 E/O Evergreen NB/SB",
           "Snohomish"
          ],
          [
           "SR-599 N/O I-5 NB/SB",
           "King"
          ],
          [
           "SR-518 @ SR-509 WB/EB",
           "King"
          ],
          [
           "SR-518 E/O SR-509 WB/EB",
           "King"
          ],
          [
           "SR-18 E/O SR-99 WB/EB",
           "King"
          ],
          [
           "SR-18 N/O 304th WB/EB",
           "King"
          ],
          [
           "SR-18 S/O I-90 WB/EB",
           "King"
          ],
          [
           "SR-16 @ TNB NB/SB",
           "Pierce"
          ],
          [
           "SR-16 @ Purdy Dr NB/SB",
           "Pierce"
          ],
          [
           "SR-16  N/O SR-302 NB/SB",
           "Kitsap"
          ],
          [
           "SR-16 N/O SR-160 NB/SB",
           "Kitsap"
          ],
          [
           "SR-16 N/O Tremont NB/SB",
           "Kitsap"
          ],
          [
           "SR-16 S/O SR-3 NB",
           "Kitsap"
          ],
          [
           "SR-202 @ SR-522 NB/SB",
           "King"
          ],
          [
           "SR-202 N/O 145th NB/SB",
           "King"
          ],
          [
           "SR-202 @ Sammamish River Br NB/SB",
           "King"
          ],
          [
           "SR-202 S/O 144th NB/SB",
           "King"
          ],
          [
           "SR-202 N/O Redmond Way NB/SB",
           "King"
          ],
          [
           "SR-202 E/O 164th NB/SB",
           "King"
          ],
          [
           "SR-202 E/O SR-520 NB/SB",
           "King"
          ],
          [
           "SR-202 E/O E Lk Samm NB/SB",
           "King"
          ],
          [
           "SR-202 E/O Sahalee NB/SB",
           "King"
          ],
          [
           "SR-202 E/O 236th NB/SB",
           "King"
          ],
          [
           "SR-202 S/O Ames Lake NB/SB",
           "King"
          ],
          [
           "SR-202 S/O Duthie Hill NB/SB",
           "King"
          ],
          [
           "SR-202 E/O SR-203 NB/SB",
           "King"
          ],
          [
           "SR-202 N/O I-90 NB/SB",
           "King"
          ],
          [
           "SR-526 W/O Paine Field Blvd WB/EB",
           "Snohomish"
          ],
          [
           "SR-526 E/O Paine Field Blvd WB/EB",
           "Snohomish"
          ],
          [
           "SR-9 @ SR-522 NB/SB",
           "Snohomish"
          ],
          [
           "SR-9 N/O SR-2 NB/SB",
           "Snohomish"
          ],
          [
           "SR-9 N/O SR-204 NB/SB",
           "Snohomish"
          ],
          [
           "SR-9 N/O SR-92 NB/SB",
           "Snohomish"
          ],
          [
           "SR-9 N/O 132nd NB/SB",
           "Snohomish"
          ],
          [
           "SR-9 N/O SR-531 NB/SB",
           "Snohomish"
          ],
          [
           "SR-9 S/O 67th NB/SB",
           "Snohomish"
          ],
          [
           "SR-9 N/O Kackman NB/SB",
           "Snohomish"
          ],
          [
           "SR-9 N/O Stanwood-Bryant NB/SB",
           "Snohomish"
          ],
          [
           "SR-532 @ Island County WB/EB",
           "Snohomish"
          ],
          [
           "SR-532 W/O 28th WB/EB",
           "Snohomish"
          ],
          [
           "SR-522 N/O 145th NB/SB",
           "King"
          ],
          [
           "SR-104 @ Hood Canal Bridge WB/EB",
           "Kitsap"
          ],
          [
           "SR-104 E/O Hood Canal Bridge WB/EB",
           "Kitsap"
          ],
          [
           "SR-104 N/O Pt Gamble Rd WB/EB",
           "Kitsap"
          ],
          [
           "SR-104 E/O SR-307 WB/EB",
           "Kitsap"
          ],
          [
           "SR-104 E/O Hansville WB/EB",
           "Kitsap"
          ],
          [
           "SR-104 @ Ferry Loading Edm WB/EB",
           "Snohomish"
          ],
          [
           "SR-104 N/O Pine WB/EB",
           "Snohomish"
          ],
          [
           "SR-104 E/O 5th WB/EB",
           "Snohomish"
          ],
          [
           "SR-104 W/O 19th WB/EB",
           "King"
          ],
          [
           "SR-160 @ SR-16 WB/EB",
           "Kitsap"
          ],
          [
           "SR-160 E/O Long Lake Rd WB/EB",
           "Kitsap"
          ],
          [
           "SR-160 W/O Banner WB/EB",
           "Kitsap"
          ],
          [
           "SR-160 E/O Peterson WB/EB",
           "Kitsap"
          ],
          [
           "SR-160 S/O Southworth Dr WB/EB",
           "Kitsap"
          ],
          [
           "SR-166 E/O SR-16 WB/EB",
           "Kitsap"
          ],
          [
           "SR-3 E/O Sunset Way NB/SB",
           "Kitsap"
          ],
          [
           "SR-3 N/O SR-305 NB/SB",
           "Kitsap"
          ],
          [
           "SR-3 S/O Newberry Hill Rd NB/SB",
           "Kitsap"
          ],
          [
           "SR-3 @ SR-304 NB/SB",
           "Kitsap"
          ],
          [
           "SR-3 NE of SR-16 NB/SB",
           "Kitsap"
          ],
          [
           "SR-3 W/O Lake Flora Rd NB/SB",
           "Kitsap"
          ],
          [
           "SR-302 N/O 144th WB/EB",
           "Pierce"
          ],
          [
           "SR-302 S/O 144th WB/EB",
           "Pierce"
          ],
          [
           "SR-302 W/O Key Peninsula Hwy WB/EB",
           "Pierce"
          ],
          [
           "SR-302 W/O Wright-Bliss WB/EB (E/O?)",
           "Pierce"
          ],
          [
           "SR-303 E/O SR-3 NB/SB",
           "Kitsap"
          ],
          [
           "SR-303 N/O 11th St NB/SB",
           "Kitsap"
          ],
          [
           "SR-303 N/O SR-304 NB/SB",
           "Kitsap"
          ],
          [
           "SR-304 E/O SR-3 WB/EB",
           "Kitsap"
          ],
          [
           "SR-304 W/O Naval WB/EB",
           "Kitsap"
          ],
          [
           "SR-305 W/O SR-307 WB/EB",
           "Kitsap"
          ],
          [
           "SR-305 W/O Suquamish Way WB/EB",
           "Kitsap"
          ],
          [
           "SR-305 N/O Day Rd WB/EB",
           "Kitsap"
          ],
          [
           "SR-305 N/O High School Rd WB/EB",
           "Kitsap"
          ],
          [
           "SR-305 S/O Winslow Way WB/EB",
           "Kitsap"
          ],
          [
           "SR-305 @ Ferry Ramp WB/EB",
           "Kitsap"
          ],
          [
           "SR-307 W/O SR-104 NB/SB",
           "Kitsap"
          ],
          [
           "SR-307 N/O Gunderson NB/SB",
           "Kitsap"
          ],
          [
           "SR-307 S/O Gunderson NB/SB",
           "Kitsap"
          ],
          [
           "SR-307 N/O SR-305 NB/SB",
           "Kitsap"
          ],
          [
           "SR-308 @ SR-3 WB/EB",
           "Kitsap"
          ],
          [
           "SR-308 E/O SR-3 WB/EB",
           "Kitsap"
          ],
          [
           "SR-308 E/O Silverdale Way WB/EB",
           "Kitsap"
          ],
          [
           "SR-308 W/O Brownsville Hwy WB/EB",
           "Kitsap"
          ],
          [
           "SR-310 @ SR-3 WB/EB",
           "Kitsap"
          ],
          [
           "SR-310 W/O Callow WB/EB",
           "Kitsap"
          ],
          [
           "SR-516 E/O SR-509 WB/EB",
           "King"
          ],
          [
           "SR-516 W/O I-5 WB/EB",
           "King"
          ],
          [
           "SR-516 E/O Meeker WB/EB",
           "King"
          ],
          [
           "SR-516 W/O SR-167 WB/EB",
           "King"
          ],
          [
           "SR-516 E/O SR-167 WB/EB",
           "King"
          ],
          [
           "SR-516 E/O SR-18 WB/EB",
           "King"
          ],
          [
           "SR-161 E/O SR-7 NB/SB",
           "Pierce"
          ],
          [
           "SR-161 N/O Center NB/SB",
           "Pierce"
          ],
          [
           "SR-161 N/O Eatonville Cutoff NB/SB",
           "Pierce"
          ],
          [
           "SR-161 N/O 304th NB/SB",
           "Pierce"
          ],
          [
           "SR-161 N/O 264th NB/SB",
           "Pierce"
          ],
          [
           "SR-161 S/O 224th NB/SB",
           "Pierce"
          ],
          [
           "SR-161 N/O 224th NB/SB",
           "Pierce"
          ],
          [
           "SR-161 N/O 204th NB/SB",
           "Pierce"
          ],
          [
           "SR-161 S/O SR-167 SB off-ramp NB/SB",
           "Pierce"
          ],
          [
           "SR-161 S/O Valley NB/SB",
           "Pierce"
          ],
          [
           "SR-161 N/O Valley NB/SB",
           "Pierce"
          ],
          [
           "SR-161 N/O 8th NB/SB",
           "Pierce"
          ],
          [
           "SR-900 S/O NB I-5 on-ramp @ Boe Acc WB/EB",
           "King"
          ],
          [
           "SR-900 E/O 68th WB/EB",
           "King"
          ],
          [
           "SR-900 @ I-405 WB/EB",
           "King"
          ],
          [
           "SR-900 E/O 148th WB/EB",
           "King"
          ],
          [
           "SR-900 N/O Talus WB/EB",
           "King"
          ],
          [
           "SR-900 N/O Newport WB/EB",
           "King"
          ],
          [
           "SR-524 W/O 3rd WB/EB",
           "Snohomish"
          ],
          [
           "SR-524 S/O Main WB/EB",
           "Snohomish"
          ],
          [
           "SR-524 N/O Main WB/EB",
           "Snohomish"
          ],
          [
           "SR-524 E/O 68th WB/EB",
           "Snohomish"
          ],
          [
           "SR-524 E/O 39th WB/EB",
           "Snohomish"
          ],
          [
           "SR-524 N/O Paradise Lake WB/EB",
           "Snohomish"
          ],
          [
           "SR-7 @ Thurston County NB/SB",
           "Pierce"
          ],
          [
           "SR-7 W/O Alder Cutoff NB/SB",
           "Pierce"
          ],
          [
           "SR-7 N/O Eatonville Hwy NB/SB",
           "Pierce"
          ],
          [
           "SR-7 N/O Silver Lake NB/SB",
           "Pierce"
          ],
          [
           "SR-7 S/O SR-702 NB/SB",
           "Pierce"
          ],
          [
           "SR-7 N/O 304th NB/SB",
           "Pierce"
          ],
          [
           "SR-7 N/O 260th NB/SB",
           "Pierce"
          ],
          [
           "SR-7 S/O 224th NB/SB",
           "Pierce"
          ],
          [
           "SR-7 N/O 224th NB/SB",
           "Pierce"
          ],
          [
           "SR-7 N/O 38th NB/SB",
           "Pierce"
          ],
          [
           "SR-2 E/O I-5 WB/EB",
           "Snohomish"
          ],
          [
           "SR-2 S/O SR-204 WB/EB",
           "Snohomish"
          ],
          [
           "SR-2 E/O Main WB/EB",
           "Snohomish"
          ],
          [
           "SR-2 E/O Rice WB/EB",
           "Snohomish"
          ],
          [
           "SR-2 E/O 10th (Gold Bar) WB/EB",
           "Snohomish"
          ],
          [
           "SR-2 W/O Index-Galena WB/EB",
           "Snohomish"
          ],
          [
           "SR-2 E/O Index-Galena WB/EB",
           "Snohomish"
          ],
          [
           "SR-2 E/O Skykomish WB/EB",
           "King"
          ],
          [
           "SR-527 N/O I-405 NB/SB",
           "Snohomish"
          ],
          [
           "SR-527 N/O 196th NB/SB",
           "Snohomish"
          ],
          [
           "SR-527 N/O Dumas NB/SB",
           "Snohomish"
          ],
          [
           "SR-527 N/O 100th NB/SB",
           "Snohomish"
          ],
          [
           "SR-513 S/O 44th NB/SB",
           "King"
          ],
          [
           "SR-169 N/O SR-164 NB/SB",
           "King"
          ],
          [
           "SR-169 S/O Lawson NB/SB",
           "King"
          ],
          [
           "SR-169 S/O 276th NB/SB",
           "King"
          ],
          [
           "SR-169 N/O 280th NB/SB",
           "King"
          ],
          [
           "SR-169 N/O 231st NB/SB",
           "King"
          ],
          [
           "SR-169 N/O 232nd NB/SB",
           "King"
          ],
          [
           "SR-169 W/O 140th NB/SB",
           "King"
          ],
          [
           "SR-515 N/O SR-516 NB/SB",
           "King"
          ],
          [
           "SR-515 N/O 108th NB/SB",
           "King"
          ],
          [
           "SR-515 N/O Puget NB/SB",
           "King"
          ],
          [
           "SR-181 N/O SR-516 NB/SB",
           "King"
          ],
          [
           "SR-181 S/O James NB/SB",
           "King"
          ],
          [
           "SR-181 N/O James NB/SB",
           "King"
          ],
          [
           "SR-181 N/O 228th NB/SB",
           "King"
          ],
          [
           "SR-181 N/O 180th NB/SB",
           "King"
          ],
          [
           "SR-181 S/O Longacres NB/SB",
           "King"
          ],
          [
           "SR-523 E/O Lenora WB/EB",
           "King"
          ],
          [
           "SR-529 @ I-5 (Evt) NB/SB",
           "Snohomish"
          ],
          [
           "SR-529 S/O Everett NB/SB",
           "Snohomish"
          ],
          [
           "SR-529 W/O Maple NB/SB",
           "Snohomish"
          ],
          [
           "SR-529 N/O Everett NB/SB",
           "Snohomish"
          ],
          [
           "SR-529 N/O Broadway NB/SB",
           "Snohomish"
          ],
          [
           "SR-96 @ I-5 WB/EB",
           "Snohomish"
          ],
          [
           "SR-96 N/O 132nd WB/EB",
           "Snohomish"
          ],
          [
           "SR-96 E/O Seattle Hill WB/EB",
           "Snohomish"
          ],
          [
           "SR-164 @ SR-18 WB/EB",
           "King"
          ],
          [
           "SR-164 S/O 400th WB/EB",
           "King"
          ],
          [
           "SR-528 @ I-5 WB/EB",
           "Snohomish"
          ],
          [
           "SR-528 E/O SR-529 WB/EB",
           "Snohomish"
          ],
          [
           "SR-531 N/O Rose WB/EB",
           "Snohomish"
          ],
          [
           "SR-531 E/O Lk Goodwin WB/EB",
           "Snohomish"
          ],
          [
           "SR-531 E/O 27th WB/EB",
           "Snohomish"
          ],
          [
           "SR-531 E/O I-5 WB/EB",
           "Snohomish"
          ],
          [
           "SR-531 E/O 43rd WB/EB",
           "Snohomish"
          ],
          [
           "SR-531 W/O 67th WB/EB",
           "Snohomish"
          ],
          [
           "SR-531 E/O 67th WB/EB",
           "Snohomish"
          ],
          [
           "SR-162 @ SR-410 WB/EB",
           "Pierce"
          ],
          [
           "SR-162 S/O Pioneer WB/EB",
           "Pierce"
          ],
          [
           "SR-162 E/O Orville WB/EB",
           "Pierce"
          ],
          [
           "SR-162 E/O S Prairie WB/EB",
           "Pierce"
          ],
          [
           "SR-162 N/O SR-165 WB/EB",
           "Pierce"
          ],
          [
           "SR-163 @ SR-16 NB/SB",
           "Pierce"
          ],
          [
           "SR-163 N/O 37th NB/SB",
           "Pierce"
          ],
          [
           "SR-163 N/O Park NB/SB",
           "Pierce"
          ],
          [
           "SR-530 @ I-5 WB/EB",
           "Snohomish"
          ],
          [
           "SR-530 E/O Smokey Pt WB/EB",
           "Snohomish"
          ],
          [
           "SR-530 N/O 211th WB/EB",
           "Snohomish"
          ],
          [
           "SR-530 E/O SR-9 WB/EB",
           "Snohomish"
          ],
          [
           "SR-530 W/O Arlington Hts WB/EB",
           "Snohomish"
          ],
          [
           "SR-530 E/O Arlington Hts WB/EB",
           "Snohomish"
          ],
          [
           "SR-530 W/O Jim Creek WB/EB",
           "Snohomish"
          ],
          [
           "SR-530 W/O Ramstad WB/EB",
           "Snohomish"
          ],
          [
           "SR-530 @ Skagit County WB/EB",
           "Snohomish"
          ],
          [
           "SR-203 N/O 203rd NB/SB",
           "Snohomish"
          ],
          [
           "SR-203 N/O Cherry Valley NB/SB",
           "King"
          ],
          [
           "SR-203 N/O 124th NB/SB",
           "King"
          ],
          [
           "SR-203 W/O Stillwater Hill NB/SB",
           "King"
          ],
          [
           "SR-203 N/O Carnation Farm NB/SB",
           "King"
          ],
          [
           "SR-203 N/O Tolt Hill NB/SB",
           "King"
          ],
          [
           "SR-203 N/O SR-202 NB/SB",
           "King"
          ],
          [
           "SR-507 S/O SR-7 NB/SB",
           "Pierce"
          ],
          [
           "SR-507 S/O E Gate NB/SB",
           "Pierce"
          ],
          [
           "SR-507 S/O 288th NB/SB",
           "Pierce"
          ],
          [
           "SR-507 N/O 346th NB/SB",
           "Pierce"
          ],
          [
           "SR-204 @ SR-2 NB/SB",
           "Snohomish"
          ],
          [
           "SR-204 N/O 20th NB/SB",
           "Snohomish"
          ],
          [
           "SR-204 N/O SR-2 NB/SB",
           "Snohomish"
          ],
          [
           "SR-519 W/O 4th NB/SB",
           "King"
          ],
          [
           "SR-92 E/O Lake WB/EB",
           "Snohomish"
          ],
          [
           "SR-92 E/O Callow WB/EB",
           "Snohomish"
          ],
          [
           "SR-92 E/O Quarry WB/EB",
           "Snohomish"
          ],
          [
           "SR-92 W/O Mountain Loop WB/EB",
           "Snohomish"
          ],
          [
           "SR-702 E/O SR-507 WB/EB",
           "Pierce"
          ],
          [
           "SR-702 E/O Harts Lake WB/EB",
           "Pierce"
          ],
          [
           "SR-702 E/O 40th WB/EB",
           "Pierce"
          ],
          [
           "SR-702 W/O 8th WB/EB",
           "Pierce"
          ],
          [
           "SR-702 E/O 8th WB/EB",
           "Pierce"
          ],
          [
           "SR-165 W/O SR-162 NB/SB",
           "Pierce"
          ],
          [
           "SR-165 N/O Davis NB/SB",
           "Pierce"
          ],
          [
           "SR-165 N/O Wilkeson-Carbonado NB/SB",
           "Pierce"
          ],
          [
           "SR-704 E/O Spanaway Loop WB/EB",
           "Pierce"
          ],
          [
           "SR-706 E/O SR-7 WB/EB",
           "Pierce"
          ],
          [
           "SR-706 E/O Kernahan WB/EB",
           "Pierce"
          ]
         ],
         "hovertemplate": "Observed=%{x}<br>Model=%{y}<br>location=%{customdata[0]}<br>County=%{customdata[1]}<extra></extra>",
         "legendgroup": "",
         "line": {
          "color": "Grey",
          "width": 2
         },
         "marker": {
          "color": "#91268F",
          "symbol": "circle"
         },
         "mode": "markers",
         "name": "",
         "orientation": "v",
         "showlegend": false,
         "type": "scatter",
         "x": [
          5573,
          5542,
          5922,
          6132,
          4944,
          4825,
          5532,
          5301,
          5029,
          5099,
          5967,
          6014,
          2704,
          5893,
          3834,
          4831,
          2322,
          2482,
          2931,
          2951,
          3252,
          3274,
          3206,
          3377,
          2734,
          3167,
          3043,
          3126,
          2304,
          2316,
          764,
          901,
          830,
          1933,
          1905,
          2505,
          855,
          1392,
          2142,
          321,
          258,
          1355,
          1425,
          403,
          274,
          137,
          138,
          2142,
          2289,
          2264,
          2273,
          3621,
          3308,
          2397,
          2397,
          938,
          942,
          1170,
          868,
          173,
          157,
          144,
          131,
          1302,
          1091,
          1389,
          920,
          945,
          1721,
          2401,
          2292,
          2108,
          2077,
          2714,
          2654,
          764,
          823,
          2893,
          4052,
          4113,
          3334,
          10502,
          6332,
          6539,
          2933,
          173,
          48,
          308,
          7266,
          3486,
          614,
          508,
          797,
          31,
          21,
          17,
          14,
          3402,
          3992,
          4756,
          962,
          2112,
          103,
          11,
          14,
          19,
          68,
          60,
          10,
          32,
          86,
          120,
          210,
          372,
          1392,
          2775,
          1196,
          1242,
          280,
          288,
          174,
          222,
          146,
          108,
          141,
          123,
          2754,
          246,
          336,
          1417,
          5817,
          3461,
          1762,
          1426,
          1558,
          1210,
          1364,
          1155,
          265,
          83,
          76,
          321,
          54,
          146,
          477,
          307,
          420,
          378,
          300,
          318,
          284,
          110,
          99,
          92,
          699,
          285,
          653,
          317,
          372,
          169,
          229,
          167,
          82,
          309,
          328,
          167,
          612,
          75,
          70,
          144,
          84,
          59,
          55,
          72,
          76,
          114,
          34,
          30,
          19,
          12,
          140,
          1020,
          1012,
          1159,
          988,
          1360,
          288,
          79,
          104,
          57,
          52,
          180,
          216,
          98,
          210,
          126,
          266,
          420,
          420,
          234,
          11,
          9,
          196,
          168,
          126,
          120,
          39,
          36,
          66,
          22,
          138,
          26,
          80,
          540,
          375,
          960,
          288,
          351,
          25,
          201,
          112,
          418,
          338,
          324,
          324,
          532,
          850,
          1739,
          180,
          175,
          396,
          84,
          208,
          76,
          242,
          84,
          8,
          6,
          6,
          76,
          176,
          507,
          142,
          110,
          67,
          90,
          98,
          400,
          377,
          432,
          374,
          168,
          891,
          874,
          506,
          420,
          444,
          243,
          192,
          126,
          265,
          279,
          44,
          156,
          56,
          224,
          440,
          304,
          231,
          850,
          1035,
          1248,
          100,
          96,
          141,
          957,
          897,
          899,
          1050,
          999,
          918,
          84,
          88,
          49,
          65,
          84,
          825,
          220,
          42,
          62,
          297,
          198,
          260,
          330,
          18,
          99,
          429,
          697,
          696,
          340,
          182,
          420,
          1034,
          209,
          136,
          135,
          40,
          36,
          90,
          705,
          609,
          464,
          400,
          403,
          383,
          380,
          299,
          47,
          408,
          340,
          364,
          315,
          284,
          330,
          332,
          464,
          352,
          520,
          351,
          58,
          55,
          400,
          638,
          494,
          448,
          60,
          718,
          252,
          220,
          266,
          166,
          254,
          166,
          50,
          18,
          648,
          38,
          13
         ],
         "xaxis": "x",
         "y": [
          5574,
          5572,
          5829,
          5831,
          5806,
          5807,
          5675,
          5616,
          5346,
          5924,
          6036,
          6070,
          5444,
          8221,
          10293,
          10156,
          5259,
          5489,
          5085,
          5275,
          6344,
          6215,
          5969,
          5886,
          5890,
          5793,
          5024,
          4983,
          3900,
          3885,
          3995,
          1132,
          1246,
          1254,
          1292,
          1316,
          215,
          1700,
          4435,
          4331,
          4009,
          2226,
          1857,
          828,
          746,
          62,
          57,
          3655,
          3865,
          4881,
          5103,
          4179,
          4102,
          1319,
          1276,
          210,
          298,
          1361,
          889,
          174,
          206,
          79,
          73,
          1500,
          1039,
          1443,
          1000,
          1529,
          594,
          1746,
          1691,
          1781,
          1730,
          1811,
          1753,
          1826,
          1751,
          8027,
          6859,
          6703,
          2916,
          5923,
          6039,
          5173,
          4125,
          102,
          115,
          691,
          4419,
          1818,
          84,
          34,
          94,
          94,
          94,
          94,
          94,
          1317,
          1647,
          2950,
          820,
          1163,
          1910,
          0,
          0,
          0,
          20,
          37,
          12,
          13,
          13,
          117,
          248,
          443,
          1307,
          990,
          872,
          2463,
          81,
          137,
          227,
          209,
          177,
          21,
          33,
          0,
          2889,
          489,
          509,
          2683,
          3358,
          3898,
          4740,
          3829,
          3839,
          3204,
          3166,
          1580,
          19,
          18,
          5,
          24,
          36,
          39,
          1319,
          11,
          1,
          35,
          35,
          28,
          278,
          313,
          2,
          54,
          372,
          281,
          474,
          534,
          128,
          42,
          43,
          61,
          189,
          115,
          116,
          122,
          956,
          2,
          2,
          154,
          115,
          0,
          34,
          34,
          41,
          199,
          18,
          18,
          21,
          21,
          2,
          954,
          1169,
          2451,
          2898,
          3176,
          9,
          27,
          21,
          253,
          238,
          22,
          168,
          50,
          277,
          151,
          478,
          149,
          127,
          98,
          0,
          0,
          153,
          153,
          154,
          258,
          56,
          109,
          38,
          0,
          10,
          0,
          33,
          405,
          1998,
          2455,
          1731,
          68,
          0,
          41,
          41,
          89,
          89,
          111,
          139,
          176,
          716,
          1155,
          78,
          718,
          1230,
          99,
          185,
          55,
          133,
          127,
          4,
          0,
          4,
          9,
          22,
          184,
          0,
          16,
          16,
          16,
          16,
          68,
          70,
          72,
          59,
          13,
          832,
          612,
          1895,
          2008,
          1987,
          1987,
          1882,
          64,
          65,
          58,
          2,
          9,
          0,
          0,
          56,
          73,
          73,
          102,
          195,
          200,
          6,
          17,
          35,
          1010,
          1007,
          1095,
          2124,
          1492,
          1506,
          38,
          119,
          60,
          12,
          113,
          22,
          74,
          22,
          4,
          252,
          116,
          745,
          222,
          0,
          6,
          175,
          1324,
          1264,
          81,
          85,
          126,
          95,
          5,
          5,
          5,
          95,
          96,
          249,
          125,
          153,
          150,
          132,
          134,
          133,
          133,
          133,
          1,
          531,
          529,
          484,
          493,
          493,
          493,
          493,
          441,
          475,
          468,
          468,
          36,
          58,
          285,
          993,
          214,
          214,
          0,
          60,
          6,
          6,
          19,
          19,
          17,
          5,
          0,
          0,
          395,
          0,
          0
         ],
         "yaxis": "y"
        },
        {
         "hovertemplate": "Observed=%{x}<br>Model=%{y}<extra></extra>",
         "legendgroup": "",
         "line": {
          "color": "Grey",
          "dash": "solid",
          "width": 2
         },
         "marker": {
          "symbol": "circle"
         },
         "mode": "lines",
         "name": "",
         "orientation": "v",
         "showlegend": false,
         "type": "scatter",
         "x": [
          0.0,
          106.08080808080808,
          212.16161616161617,
          318.24242424242425,
          424.32323232323233,
          530.4040404040404,
          636.4848484848485,
          742.5656565656566,
          848.6464646464647,
          954.7272727272727,
          1060.8080808080808,
          1166.888888888889,
          1272.969696969697,
          1379.050505050505,
          1485.1313131313132,
          1591.2121212121212,
          1697.2929292929293,
          1803.3737373737374,
          1909.4545454545455,
          2015.5353535353536,
          2121.6161616161617,
          2227.69696969697,
          2333.777777777778,
          2439.8585858585857,
          2545.939393939394,
          2652.0202020202023,
          2758.10101010101,
          2864.181818181818,
          2970.2626262626263,
          3076.3434343434346,
          3182.4242424242425,
          3288.5050505050503,
          3394.5858585858587,
          3500.666666666667,
          3606.747474747475,
          3712.8282828282827,
          3818.909090909091,
          3924.9898989898993,
          4031.070707070707,
          4137.151515151515,
          4243.232323232323,
          4349.313131313132,
          4455.39393939394,
          4561.474747474747,
          4667.555555555556,
          4773.636363636364,
          4879.717171717171,
          4985.79797979798,
          5091.878787878788,
          5197.959595959596,
          5304.040404040405,
          5410.121212121212,
          5516.20202020202,
          5622.282828282829,
          5728.363636363636,
          5834.444444444444,
          5940.525252525253,
          6046.606060606061,
          6152.686868686869,
          6258.767676767677,
          6364.848484848485,
          6470.929292929293,
          6577.010101010101,
          6683.090909090909,
          6789.171717171717,
          6895.252525252526,
          7001.333333333334,
          7107.414141414141,
          7213.49494949495,
          7319.575757575758,
          7425.656565656565,
          7531.737373737374,
          7637.818181818182,
          7743.89898989899,
          7849.979797979799,
          7956.060606060606,
          8062.141414141414,
          8168.222222222223,
          8274.30303030303,
          8380.38383838384,
          8486.464646464647,
          8592.545454545454,
          8698.626262626263,
          8804.70707070707,
          8910.78787878788,
          9016.868686868687,
          9122.949494949495,
          9229.030303030304,
          9335.111111111111,
          9441.191919191919,
          9547.272727272728,
          9653.353535353535,
          9759.434343434343,
          9865.515151515152,
          9971.59595959596,
          10077.676767676769,
          10183.757575757576,
          10289.838383838383,
          10395.919191919193,
          10502.0
         ],
         "xaxis": "x",
         "y": [
          155.3987430678951,
          268.6551509901572,
          381.9115589124193,
          495.16796683468147,
          608.4243747569435,
          721.6807826792057,
          834.9371906014678,
          948.19359852373,
          1061.4500064459921,
          1174.7064143682542,
          1287.9628222905162,
          1401.2192302127785,
          1514.4756381350405,
          1627.7320460573026,
          1740.9884539795648,
          1854.2448619018269,
          1967.501269824089,
          2080.757677746351,
          2194.014085668613,
          2307.270493590875,
          2420.526901513137,
          2533.7833094354,
          2647.039717357662,
          2760.296125279923,
          2873.552533202186,
          2986.808941124448,
          3100.0653490467103,
          3213.3217569689723,
          3326.5781648912343,
          3439.8345728134964,
          3553.0909807357584,
          3666.3473886580205,
          3779.6037965802825,
          3892.8602045025455,
          4006.1166124248075,
          4119.373020347069,
          4232.629428269332,
          4345.885836191594,
          4459.142244113856,
          4572.398652036118,
          4685.65505995838,
          4798.911467880643,
          4912.167875802905,
          5025.424283725166,
          5138.680691647429,
          5251.937099569691,
          5365.193507491952,
          5478.449915414215,
          5591.706323336477,
          5704.962731258739,
          5818.219139181002,
          5931.475547103263,
          6044.731955025525,
          6157.988362947788,
          6271.244770870049,
          6384.501178792311,
          6497.757586714574,
          6611.013994636836,
          6724.270402559098,
          6837.52681048136,
          6950.783218403622,
          7064.0396263258845,
          7177.2960342481465,
          7290.5524421704085,
          7403.808850092671,
          7517.0652580149335,
          7630.321665937196,
          7743.578073859457,
          7856.83448178172,
          7970.090889703982,
          8083.347297626243,
          8196.603705548505,
          8309.860113470768,
          8423.11652139303,
          8536.372929315292,
          8649.629337237555,
          8762.885745159816,
          8876.142153082079,
          8989.39856100434,
          9102.654968926603,
          9215.911376848864,
          9329.167784771127,
          9442.42419269339,
          9555.680600615651,
          9668.937008537914,
          9782.193416460175,
          9895.449824382436,
          10008.706232304701,
          10121.962640226962,
          10235.219048149223,
          10348.475456071486,
          10461.731863993748,
          10574.988271916009,
          10688.244679838273,
          10801.501087760535,
          10914.757495682798,
          11028.013903605059,
          11141.27031152732,
          11254.526719449583,
          11367.783127371846
         ],
         "yaxis": "y"
        }
       ],
       "layout": {
        "annotations": [
         {
          "align": "right",
          "font": {
           "color": "pink",
           "size": 12
          },
          "showarrow": false,
          "text": "y = x",
          "x": 11027.1,
          "y": 11027.1
         },
         {
          "align": "right",
          "font": {
           "color": "black",
           "size": 12
          },
          "showarrow": false,
          "text": "r^2 = 0.70",
          "x": 11027.1,
          "y": 11936.172283740438
         }
        ],
        "height": 600,
        "legend": {
         "tracegroupgap": 0
        },
        "margin": {
         "b": 100,
         "l": 100,
         "r": 100,
         "t": 100
        },
        "shapes": [
         {
          "line": {
           "color": "Red",
           "dash": "dash",
           "width": 2
          },
          "type": "line",
          "x0": 0,
          "x1": 10502,
          "y0": 0,
          "y1": 10502
         }
        ],
        "template": {
         "data": {
          "bar": [
           {
            "error_x": {
             "color": "rgb(36,36,36)"
            },
            "error_y": {
             "color": "rgb(36,36,36)"
            },
            "marker": {
             "line": {
              "color": "white",
              "width": 0.5
             },
             "pattern": {
              "fillmode": "overlay",
              "size": 10,
              "solidity": 0.2
             }
            },
            "type": "bar"
           }
          ],
          "barpolar": [
           {
            "marker": {
             "line": {
              "color": "white",
              "width": 0.5
             },
             "pattern": {
              "fillmode": "overlay",
              "size": 10,
              "solidity": 0.2
             }
            },
            "type": "barpolar"
           }
          ],
          "carpet": [
           {
            "aaxis": {
             "endlinecolor": "rgb(36,36,36)",
             "gridcolor": "white",
             "linecolor": "white",
             "minorgridcolor": "white",
             "startlinecolor": "rgb(36,36,36)"
            },
            "baxis": {
             "endlinecolor": "rgb(36,36,36)",
             "gridcolor": "white",
             "linecolor": "white",
             "minorgridcolor": "white",
             "startlinecolor": "rgb(36,36,36)"
            },
            "type": "carpet"
           }
          ],
          "choropleth": [
           {
            "colorbar": {
             "outlinewidth": 1,
             "tickcolor": "rgb(36,36,36)",
             "ticks": "outside"
            },
            "type": "choropleth"
           }
          ],
          "contour": [
           {
            "colorbar": {
             "outlinewidth": 1,
             "tickcolor": "rgb(36,36,36)",
             "ticks": "outside"
            },
            "colorscale": [
             [
              0.0,
              "#440154"
             ],
             [
              0.1111111111111111,
              "#482878"
             ],
             [
              0.2222222222222222,
              "#3e4989"
             ],
             [
              0.3333333333333333,
              "#31688e"
             ],
             [
              0.4444444444444444,
              "#26828e"
             ],
             [
              0.5555555555555556,
              "#1f9e89"
             ],
             [
              0.6666666666666666,
              "#35b779"
             ],
             [
              0.7777777777777778,
              "#6ece58"
             ],
             [
              0.8888888888888888,
              "#b5de2b"
             ],
             [
              1.0,
              "#fde725"
             ]
            ],
            "type": "contour"
           }
          ],
          "contourcarpet": [
           {
            "colorbar": {
             "outlinewidth": 1,
             "tickcolor": "rgb(36,36,36)",
             "ticks": "outside"
            },
            "type": "contourcarpet"
           }
          ],
          "heatmap": [
           {
            "colorbar": {
             "outlinewidth": 1,
             "tickcolor": "rgb(36,36,36)",
             "ticks": "outside"
            },
            "colorscale": [
             [
              0.0,
              "#440154"
             ],
             [
              0.1111111111111111,
              "#482878"
             ],
             [
              0.2222222222222222,
              "#3e4989"
             ],
             [
              0.3333333333333333,
              "#31688e"
             ],
             [
              0.4444444444444444,
              "#26828e"
             ],
             [
              0.5555555555555556,
              "#1f9e89"
             ],
             [
              0.6666666666666666,
              "#35b779"
             ],
             [
              0.7777777777777778,
              "#6ece58"
             ],
             [
              0.8888888888888888,
              "#b5de2b"
             ],
             [
              1.0,
              "#fde725"
             ]
            ],
            "type": "heatmap"
           }
          ],
          "heatmapgl": [
           {
            "colorbar": {
             "outlinewidth": 1,
             "tickcolor": "rgb(36,36,36)",
             "ticks": "outside"
            },
            "colorscale": [
             [
              0.0,
              "#440154"
             ],
             [
              0.1111111111111111,
              "#482878"
             ],
             [
              0.2222222222222222,
              "#3e4989"
             ],
             [
              0.3333333333333333,
              "#31688e"
             ],
             [
              0.4444444444444444,
              "#26828e"
             ],
             [
              0.5555555555555556,
              "#1f9e89"
             ],
             [
              0.6666666666666666,
              "#35b779"
             ],
             [
              0.7777777777777778,
              "#6ece58"
             ],
             [
              0.8888888888888888,
              "#b5de2b"
             ],
             [
              1.0,
              "#fde725"
             ]
            ],
            "type": "heatmapgl"
           }
          ],
          "histogram": [
           {
            "marker": {
             "line": {
              "color": "white",
              "width": 0.6
             }
            },
            "type": "histogram"
           }
          ],
          "histogram2d": [
           {
            "colorbar": {
             "outlinewidth": 1,
             "tickcolor": "rgb(36,36,36)",
             "ticks": "outside"
            },
            "colorscale": [
             [
              0.0,
              "#440154"
             ],
             [
              0.1111111111111111,
              "#482878"
             ],
             [
              0.2222222222222222,
              "#3e4989"
             ],
             [
              0.3333333333333333,
              "#31688e"
             ],
             [
              0.4444444444444444,
              "#26828e"
             ],
             [
              0.5555555555555556,
              "#1f9e89"
             ],
             [
              0.6666666666666666,
              "#35b779"
             ],
             [
              0.7777777777777778,
              "#6ece58"
             ],
             [
              0.8888888888888888,
              "#b5de2b"
             ],
             [
              1.0,
              "#fde725"
             ]
            ],
            "type": "histogram2d"
           }
          ],
          "histogram2dcontour": [
           {
            "colorbar": {
             "outlinewidth": 1,
             "tickcolor": "rgb(36,36,36)",
             "ticks": "outside"
            },
            "colorscale": [
             [
              0.0,
              "#440154"
             ],
             [
              0.1111111111111111,
              "#482878"
             ],
             [
              0.2222222222222222,
              "#3e4989"
             ],
             [
              0.3333333333333333,
              "#31688e"
             ],
             [
              0.4444444444444444,
              "#26828e"
             ],
             [
              0.5555555555555556,
              "#1f9e89"
             ],
             [
              0.6666666666666666,
              "#35b779"
             ],
             [
              0.7777777777777778,
              "#6ece58"
             ],
             [
              0.8888888888888888,
              "#b5de2b"
             ],
             [
              1.0,
              "#fde725"
             ]
            ],
            "type": "histogram2dcontour"
           }
          ],
          "mesh3d": [
           {
            "colorbar": {
             "outlinewidth": 1,
             "tickcolor": "rgb(36,36,36)",
             "ticks": "outside"
            },
            "type": "mesh3d"
           }
          ],
          "parcoords": [
           {
            "line": {
             "colorbar": {
              "outlinewidth": 1,
              "tickcolor": "rgb(36,36,36)",
              "ticks": "outside"
             }
            },
            "type": "parcoords"
           }
          ],
          "pie": [
           {
            "automargin": true,
            "type": "pie"
           }
          ],
          "scatter": [
           {
            "fillpattern": {
             "fillmode": "overlay",
             "size": 10,
             "solidity": 0.2
            },
            "type": "scatter"
           }
          ],
          "scatter3d": [
           {
            "line": {
             "colorbar": {
              "outlinewidth": 1,
              "tickcolor": "rgb(36,36,36)",
              "ticks": "outside"
             }
            },
            "marker": {
             "colorbar": {
              "outlinewidth": 1,
              "tickcolor": "rgb(36,36,36)",
              "ticks": "outside"
             }
            },
            "type": "scatter3d"
           }
          ],
          "scattercarpet": [
           {
            "marker": {
             "colorbar": {
              "outlinewidth": 1,
              "tickcolor": "rgb(36,36,36)",
              "ticks": "outside"
             }
            },
            "type": "scattercarpet"
           }
          ],
          "scattergeo": [
           {
            "marker": {
             "colorbar": {
              "outlinewidth": 1,
              "tickcolor": "rgb(36,36,36)",
              "ticks": "outside"
             }
            },
            "type": "scattergeo"
           }
          ],
          "scattergl": [
           {
            "marker": {
             "colorbar": {
              "outlinewidth": 1,
              "tickcolor": "rgb(36,36,36)",
              "ticks": "outside"
             }
            },
            "type": "scattergl"
           }
          ],
          "scattermapbox": [
           {
            "marker": {
             "colorbar": {
              "outlinewidth": 1,
              "tickcolor": "rgb(36,36,36)",
              "ticks": "outside"
             }
            },
            "type": "scattermapbox"
           }
          ],
          "scatterpolar": [
           {
            "marker": {
             "colorbar": {
              "outlinewidth": 1,
              "tickcolor": "rgb(36,36,36)",
              "ticks": "outside"
             }
            },
            "type": "scatterpolar"
           }
          ],
          "scatterpolargl": [
           {
            "marker": {
             "colorbar": {
              "outlinewidth": 1,
              "tickcolor": "rgb(36,36,36)",
              "ticks": "outside"
             }
            },
            "type": "scatterpolargl"
           }
          ],
          "scatterternary": [
           {
            "marker": {
             "colorbar": {
              "outlinewidth": 1,
              "tickcolor": "rgb(36,36,36)",
              "ticks": "outside"
             }
            },
            "type": "scatterternary"
           }
          ],
          "surface": [
           {
            "colorbar": {
             "outlinewidth": 1,
             "tickcolor": "rgb(36,36,36)",
             "ticks": "outside"
            },
            "colorscale": [
             [
              0.0,
              "#440154"
             ],
             [
              0.1111111111111111,
              "#482878"
             ],
             [
              0.2222222222222222,
              "#3e4989"
             ],
             [
              0.3333333333333333,
              "#31688e"
             ],
             [
              0.4444444444444444,
              "#26828e"
             ],
             [
              0.5555555555555556,
              "#1f9e89"
             ],
             [
              0.6666666666666666,
              "#35b779"
             ],
             [
              0.7777777777777778,
              "#6ece58"
             ],
             [
              0.8888888888888888,
              "#b5de2b"
             ],
             [
              1.0,
              "#fde725"
             ]
            ],
            "type": "surface"
           }
          ],
          "table": [
           {
            "cells": {
             "fill": {
              "color": "rgb(237,237,237)"
             },
             "line": {
              "color": "white"
             }
            },
            "header": {
             "fill": {
              "color": "rgb(217,217,217)"
             },
             "line": {
              "color": "white"
             }
            },
            "type": "table"
           }
          ]
         },
         "layout": {
          "annotationdefaults": {
           "arrowhead": 0,
           "arrowwidth": 1
          },
          "autotypenumbers": "strict",
          "coloraxis": {
           "colorbar": {
            "outlinewidth": 1,
            "tickcolor": "rgb(36,36,36)",
            "ticks": "outside"
           }
          },
          "colorscale": {
           "diverging": [
            [
             0.0,
             "rgb(103,0,31)"
            ],
            [
             0.1,
             "rgb(178,24,43)"
            ],
            [
             0.2,
             "rgb(214,96,77)"
            ],
            [
             0.3,
             "rgb(244,165,130)"
            ],
            [
             0.4,
             "rgb(253,219,199)"
            ],
            [
             0.5,
             "rgb(247,247,247)"
            ],
            [
             0.6,
             "rgb(209,229,240)"
            ],
            [
             0.7,
             "rgb(146,197,222)"
            ],
            [
             0.8,
             "rgb(67,147,195)"
            ],
            [
             0.9,
             "rgb(33,102,172)"
            ],
            [
             1.0,
             "rgb(5,48,97)"
            ]
           ],
           "sequential": [
            [
             0.0,
             "#440154"
            ],
            [
             0.1111111111111111,
             "#482878"
            ],
            [
             0.2222222222222222,
             "#3e4989"
            ],
            [
             0.3333333333333333,
             "#31688e"
            ],
            [
             0.4444444444444444,
             "#26828e"
            ],
            [
             0.5555555555555556,
             "#1f9e89"
            ],
            [
             0.6666666666666666,
             "#35b779"
            ],
            [
             0.7777777777777778,
             "#6ece58"
            ],
            [
             0.8888888888888888,
             "#b5de2b"
            ],
            [
             1.0,
             "#fde725"
            ]
           ],
           "sequentialminus": [
            [
             0.0,
             "#440154"
            ],
            [
             0.1111111111111111,
             "#482878"
            ],
            [
             0.2222222222222222,
             "#3e4989"
            ],
            [
             0.3333333333333333,
             "#31688e"
            ],
            [
             0.4444444444444444,
             "#26828e"
            ],
            [
             0.5555555555555556,
             "#1f9e89"
            ],
            [
             0.6666666666666666,
             "#35b779"
            ],
            [
             0.7777777777777778,
             "#6ece58"
            ],
            [
             0.8888888888888888,
             "#b5de2b"
            ],
            [
             1.0,
             "#fde725"
            ]
           ]
          },
          "colorway": [
           "#91268F",
           "#8CC63E",
           "#00A7A0",
           "#F05A28",
           "#4C4C4C",
           "#630460",
           "#9f3913",
           "#588527",
           "#00716c",
           "#3e4040"
          ],
          "font": {
           "color": "rgb(36,36,36)",
           "family": "Poppins",
           "size": 11
          },
          "geo": {
           "bgcolor": "white",
           "lakecolor": "white",
           "landcolor": "white",
           "showlakes": true,
           "showland": true,
           "subunitcolor": "white"
          },
          "hoverlabel": {
           "align": "left"
          },
          "hovermode": "closest",
          "mapbox": {
           "style": "light"
          },
          "paper_bgcolor": "white",
          "plot_bgcolor": "white",
          "polar": {
           "angularaxis": {
            "gridcolor": "rgb(232,232,232)",
            "linecolor": "rgb(36,36,36)",
            "showgrid": false,
            "showline": true,
            "ticks": "outside"
           },
           "bgcolor": "white",
           "radialaxis": {
            "gridcolor": "rgb(232,232,232)",
            "linecolor": "rgb(36,36,36)",
            "showgrid": false,
            "showline": true,
            "ticks": "outside"
           }
          },
          "scene": {
           "xaxis": {
            "backgroundcolor": "white",
            "gridcolor": "rgb(232,232,232)",
            "gridwidth": 2,
            "linecolor": "rgb(36,36,36)",
            "showbackground": true,
            "showgrid": false,
            "showline": true,
            "ticks": "outside",
            "zeroline": false,
            "zerolinecolor": "rgb(36,36,36)"
           },
           "yaxis": {
            "backgroundcolor": "white",
            "gridcolor": "rgb(232,232,232)",
            "gridwidth": 2,
            "linecolor": "rgb(36,36,36)",
            "showbackground": true,
            "showgrid": false,
            "showline": true,
            "ticks": "outside",
            "zeroline": false,
            "zerolinecolor": "rgb(36,36,36)"
           },
           "zaxis": {
            "backgroundcolor": "white",
            "gridcolor": "rgb(232,232,232)",
            "gridwidth": 2,
            "linecolor": "rgb(36,36,36)",
            "showbackground": true,
            "showgrid": false,
            "showline": true,
            "ticks": "outside",
            "zeroline": false,
            "zerolinecolor": "rgb(36,36,36)"
           }
          },
          "shapedefaults": {
           "fillcolor": "black",
           "line": {
            "width": 0
           },
           "opacity": 0.3
          },
          "ternary": {
           "aaxis": {
            "gridcolor": "rgb(232,232,232)",
            "linecolor": "rgb(36,36,36)",
            "showgrid": false,
            "showline": true,
            "ticks": "outside"
           },
           "baxis": {
            "gridcolor": "rgb(232,232,232)",
            "linecolor": "rgb(36,36,36)",
            "showgrid": false,
            "showline": true,
            "ticks": "outside"
           },
           "bgcolor": "white",
           "caxis": {
            "gridcolor": "rgb(232,232,232)",
            "linecolor": "rgb(36,36,36)",
            "showgrid": false,
            "showline": true,
            "ticks": "outside"
           }
          },
          "title": {
           "x": 0.05
          },
          "xaxis": {
           "automargin": true,
           "gridcolor": "rgb(232,232,232)",
           "linecolor": "rgb(36,36,36)",
           "showgrid": false,
           "showline": true,
           "ticks": "outside",
           "title": {
            "standoff": 15
           },
           "zeroline": false,
           "zerolinecolor": "rgb(36,36,36)"
          },
          "yaxis": {
           "automargin": true,
           "gridcolor": "rgb(232,232,232)",
           "linecolor": "rgb(36,36,36)",
           "showgrid": false,
           "showline": true,
           "ticks": "outside",
           "title": {
            "standoff": 15
           },
           "zeroline": false,
           "zerolinecolor": "rgb(36,36,36)"
          }
         }
        },
        "title": {
         "text": "Heavy Trucks: Region"
        },
        "width": 800,
        "xaxis": {
         "anchor": "y",
         "domain": [
          0.0,
          1.0
         ],
         "title": {
          "text": "Observed"
         }
        },
        "yaxis": {
         "anchor": "x",
         "domain": [
          0.0,
          1.0
         ],
         "title": {
          "text": "Model"
         }
        }
       }
      },
      "text/html": [
       "<div>                            <div id=\"e2dbe582-e84f-4127-ad86-d27572ee59e3\" class=\"plotly-graph-div\" style=\"height:600px; width:800px;\"></div>            <script type=\"text/javascript\">                require([\"plotly\"], function(Plotly) {                    window.PLOTLYENV=window.PLOTLYENV || {};                                    if (document.getElementById(\"e2dbe582-e84f-4127-ad86-d27572ee59e3\")) {                    Plotly.newPlot(                        \"e2dbe582-e84f-4127-ad86-d27572ee59e3\",                        [{\"customdata\":[[\"I-5 S\\u002fO Mounts NB\",\"Pierce\"],[\"I-5 S\\u002fO Mounts SB\",\"Pierce\"],[\"I-5 S\\u002fO Division NB\",\"Pierce\"],[\"I-5 S\\u002fO Division SB\",\"Pierce\"],[\"I-5 @ N\\u002fO Division NB\",\"Pierce\"],[\"I-5 @ N\\u002fO Division SB\",\"Pierce\"],[\"I-5 S\\u002fO SR-512 NB\",\"Pierce\"],[\"I-5 S\\u002fO SR-512 SB\",\"Pierce\"],[\"I-5 N\\u002fO SR-512 NB\",\"Pierce\"],[\"I-5 N\\u002fO SR-512 SB\",\"Pierce\"],[\"I-5 N\\u002fO 56th NB\",\"Pierce\"],[\"I-5 N\\u002fO 56th SB\",\"Pierce\"],[\"I-5 E\\u002fO SR-16 NB\",\"Pierce\"],[\"I-5 E\\u002fO SR-16 SB\",\"Pierce\"],[\"I-5 E\\u002fO Port of Tacoma NB\",\"Pierce\"],[\"I-5 E\\u002fO Port of Tacoma SB (HOV from 56)\",\"Pierce\"],[\"I-5 S\\u002fO 205th NB\",\"King\"],[\"I-5 S\\u002fO 205th SB\",\"King\"],[\"I-5 @ 44th NB\",\"Snohomish\"],[\"I-5 @ 44th SB\",\"Snohomish\"],[\"I-5 N\\u002fO 164th NB\",\"Snohomish\"],[\"I-5 N\\u002fO 164th SB\",\"Snohomish\"],[\"I-5 N\\u002fO SR-526 NB\",\"Snohomish\"],[\"I-5 N\\u002fO SR-526 SB\",\"Snohomish\"],[\"I-5 N\\u002fO 41st NB\",\"Snohomish\"],[\"I-5 N\\u002fO 41st SB\",\"Snohomish\"],[\"I-5 @ SR-528 NB\",\"Snohomish\"],[\"I-5 @ SR-528 SB\",\"Snohomish\"],[\"I-5 N\\u002fO SR-531 NB\",\"Snohomish\"],[\"I-5 N\\u002fO SR-531 SB\",\"Snohomish\"],[\"I-5 Rev N\\u002fO I-5 GP NB\\u002fSB\",\"King\"],[\"I-90 E\\u002fO I-5 WB\",\"King\"],[\"I-90 E\\u002fO I-5 EB\",\"King\"],[\"I-90 E\\u002fO W Lk Sam WB\",\"King\"],[\"I-90 E\\u002fO W Lk Sam EB\",\"King\"],[\"I-90 E\\u002fO SR-900 WB\",\"King\"],[\"I-405 @ I-5 Southcenter NB\",\"King\"],[\"I-405 @ I-5 Southcenter SB\",\"King\"],[\"I-405 @ Lake Wash Blvd NB\",\"King\"],[\"I-405 @ I-90 NB\",\"King\"],[\"I-405 @ I-90 SB\",\"King\"],[\"I-405 N\\u002fO SR-527 NB\",\"Snohomish\"],[\"I-405 N\\u002fO SR-527 SB\",\"Snohomish\"],[\"SR-525 N\\u002fO I-5 NB\",\"Snohomish\"],[\"SR-525 N\\u002fO I-5 SB\",\"Snohomish\"],[\"SR-520 @ x-lake bridge WB\",\"King\"],[\"SR-520 @ x-lake bridge EB\",\"King\"],[\"SR-167 S\\u002fO 43rd NB\",\"King\"],[\"SR-167 S\\u002fO 43rd SB\",\"King\"],[\"SR-167 N\\u002fO SR-18 NB\",\"King\"],[\"SR-167 N\\u002fO SR-18 SB\",\"King\"],[\"SR-167 S\\u002fO 15th SW NB\",\"King\"],[\"SR-167 S\\u002fO 15th SW SB\",\"King\"],[\"SR-512 W\\u002fO Meridian WB\",\"Pierce\"],[\"SR-512 W\\u002fO Meridian EB\",\"Pierce\"],[\"SR-509 @ Holden NB\",\"King\"],[\"SR-509 @ Holden SB\",\"King\"],[\"SR-99 N\\u002fO 14th NB\",\"King\"],[\"SR-99 N\\u002fO 14th SB\",\"King\"],[\"SR-99 N\\u002fO WSF NB\",\"King\"],[\"SR-99 N\\u002fO WSF SB\",\"King\"],[\"SR-99 tunnel NB\",\"King\"],[\"SR-99 tunnel SB\",\"King\"],[\"SR-599 S\\u002fO Pacific NB\",\"King\"],[\"SR-599 S\\u002fO Pacific SB\",\"King\"],[\"SR-599 @ Pacific NB\",\"King\"],[\"SR-599 @ Pacific SB\",\"King\"],[\"SR-18 @ I-5 WB\",\"King\"],[\"SR-18 @ I-5 EB\",\"King\"],[\"SR-18 W\\u002fO Auburn-Black Diamond WB\",\"King\"],[\"SR-18 W\\u002fO Auburn-Black Diamond EB\",\"King\"],[\"SR-18 E\\u002fO SR-516 WB\",\"King\"],[\"SR-18 E\\u002fO SR-516 EB\",\"King\"],[\"SR-18 E\\u002fO 256th WB\",\"King\"],[\"SR-18 E\\u002fO 256th EB\",\"King\"],[\"SR-522 N\\u002fO 195th WB\",\"King\"],[\"SR-522 N\\u002fO 195th EB\",\"King\"],[\"I-5 N\\u002fO I-5 Rev CBD NB\\u002fSB\",\"King\"],[\"I-5 @ SR-532 NB\\u002fSB\",\"Snohomish\"],[\"I-5 @ Skagit border NB\\u002fSB\",\"Snohomish\"],[\"I-90 W\\u002fO SR-18 WB\\u002fEB\",\"King\"],[\"I-90 E\\u002fO SR-18 WB\\u002fEB\",\"King\"],[\"I-90 E\\u002fO 436th WB\\u002fEB\",\"King\"],[\"I-90 @ Kittitas County WB\\u002fEB\",\"King\"],[\"I-405 N\\u002fO SR-522 NB\\u002fSB\",\"King\"],[\"SR-525 N\\u002fO SR-526 NB\\u002fSB\",\"Snohomish\"],[\"SR-525 N\\u002fO 5th NB\\u002fSB\",\"Snohomish\"],[\"SR-167 N\\u002fO Grady NB\\u002fSB\",\"King\"],[\"SR-167 W\\u002fO SR-410 NB\\u002fSB\",\"Pierce\"],[\"SR-167 E\\u002fO SR-161 NB\\u002fSB\",\"Pierce\"],[\"SR-410 E\\u002fO S Prairie WB\\u002fEB\",\"Pierce\"],[\"SR-410 E\\u002fO 244th WB\\u002fEB\",\"King\"],[\"SR-410 E\\u002fO Farman WB\\u002fEB\",\"King\"],[\"SR-410 @ Greenwater River WB\\u002fEB\",\"King\"],[\"SR-410 E\\u002fO Chinook WB\\u002fEB\",\"Pierce\"],[\"SR-410 W\\u002fO SR-123 WB\\u002fEB\",\"Pierce\"],[\"SR-410 E\\u002fO SR-123 WB\\u002fEB\",\"Pierce\"],[\"SR-512 @ I-5 WB\\u002fEB\",\"Pierce\"],[\"SR-512 W\\u002fO SR-7 WB\\u002fEB\",\"Pierce\"],[\"SR-512 S\\u002fO SR-167 WB\\u002fEB\",\"Pierce\"],[\"SR-509 E\\u002fO I-705 NB\\u002fSB\",\"Pierce\"],[\"SR-509 W\\u002fO Alexander NB\\u002fSB\",\"Pierce\"],[\"SR-509 S\\u002fO 11th NB\\u002fSB\",\"Pierce\"],[\"SR-509 N\\u002fO Hyada NB\\u002fSB\",\"Pierce\"],[\"SR-509 E\\u002fO Soundview NB\\u002fSB\",\"Pierce\"],[\"SR-509 E\\u002fO 47th NB\\u002fSB\",\"King\"],[\"SR-509 E\\u002fO 21st NB\\u002fSB\",\"King\"],[\"SR-509 W\\u002fO SR-516 NB\\u002fSB\",\"King\"],[\"SR-509 W\\u002fO Des Moines Mem NB\\u002fSB\",\"King\"],[\"SR-509 E\\u002fO 1st Ave NB\\u002fSB\",\"King\"],[\"SR-509 E\\u002fO Des Moines Mem NB\\u002fSB\",\"King\"],[\"SR-509 @ SR-509 ramp overpass NB\\u002fSB\",\"King\"],[\"SR-509 N\\u002fO Des Moines Mem NB\\u002fSB\",\"King\"],[\"SR-509 N\\u002fO SR-518 NB\\u002fSB\",\"King\"],[\"SR-99 @ I-5 NB\\u002fSB\",\"Pierce\"],[\"SR-99 E\\u002fO 54th NB\\u002fSB\",\"Pierce\"],[\"SR-99 S\\u002fO Porter NB\\u002fSB\",\"Pierce\"],[\"SR-99 S\\u002fO SR-18 NB\\u002fSB\",\"King\"],[\"SR-99 N\\u002fO SR-18 NB\\u002fSB\",\"King\"],[\"SR-99 N\\u002fO 320th NB\\u002fSB\",\"King\"],[\"SR-99 N\\u002fO 188th NB\\u002fSB\",\"King\"],[\"SR-99 @ WSF NB\\u002fSB\",\"King\"],[\"SR-99 @ Aurora Bridge NB\\u002fSB\",\"King\"],[\"SR-99 N\\u002fO 38th NB\\u002fSB\",\"King\"],[\"SR-99 S\\u002fO Roosevelt NB\\u002fSB\",\"King\"],[\"SR-99 E\\u002fO Evergreen NB\\u002fSB\",\"Snohomish\"],[\"SR-599 N\\u002fO I-5 NB\\u002fSB\",\"King\"],[\"SR-518 @ SR-509 WB\\u002fEB\",\"King\"],[\"SR-518 E\\u002fO SR-509 WB\\u002fEB\",\"King\"],[\"SR-18 E\\u002fO SR-99 WB\\u002fEB\",\"King\"],[\"SR-18 N\\u002fO 304th WB\\u002fEB\",\"King\"],[\"SR-18 S\\u002fO I-90 WB\\u002fEB\",\"King\"],[\"SR-16 @ TNB NB\\u002fSB\",\"Pierce\"],[\"SR-16 @ Purdy Dr NB\\u002fSB\",\"Pierce\"],[\"SR-16  N\\u002fO SR-302 NB\\u002fSB\",\"Kitsap\"],[\"SR-16 N\\u002fO SR-160 NB\\u002fSB\",\"Kitsap\"],[\"SR-16 N\\u002fO Tremont NB\\u002fSB\",\"Kitsap\"],[\"SR-16 S\\u002fO SR-3 NB\",\"Kitsap\"],[\"SR-202 @ SR-522 NB\\u002fSB\",\"King\"],[\"SR-202 N\\u002fO 145th NB\\u002fSB\",\"King\"],[\"SR-202 @ Sammamish River Br NB\\u002fSB\",\"King\"],[\"SR-202 S\\u002fO 144th NB\\u002fSB\",\"King\"],[\"SR-202 N\\u002fO Redmond Way NB\\u002fSB\",\"King\"],[\"SR-202 E\\u002fO 164th NB\\u002fSB\",\"King\"],[\"SR-202 E\\u002fO SR-520 NB\\u002fSB\",\"King\"],[\"SR-202 E\\u002fO E Lk Samm NB\\u002fSB\",\"King\"],[\"SR-202 E\\u002fO Sahalee NB\\u002fSB\",\"King\"],[\"SR-202 E\\u002fO 236th NB\\u002fSB\",\"King\"],[\"SR-202 S\\u002fO Ames Lake NB\\u002fSB\",\"King\"],[\"SR-202 S\\u002fO Duthie Hill NB\\u002fSB\",\"King\"],[\"SR-202 E\\u002fO SR-203 NB\\u002fSB\",\"King\"],[\"SR-202 N\\u002fO I-90 NB\\u002fSB\",\"King\"],[\"SR-526 W\\u002fO Paine Field Blvd WB\\u002fEB\",\"Snohomish\"],[\"SR-526 E\\u002fO Paine Field Blvd WB\\u002fEB\",\"Snohomish\"],[\"SR-9 @ SR-522 NB\\u002fSB\",\"Snohomish\"],[\"SR-9 N\\u002fO SR-2 NB\\u002fSB\",\"Snohomish\"],[\"SR-9 N\\u002fO SR-204 NB\\u002fSB\",\"Snohomish\"],[\"SR-9 N\\u002fO SR-92 NB\\u002fSB\",\"Snohomish\"],[\"SR-9 N\\u002fO 132nd NB\\u002fSB\",\"Snohomish\"],[\"SR-9 N\\u002fO SR-531 NB\\u002fSB\",\"Snohomish\"],[\"SR-9 S\\u002fO 67th NB\\u002fSB\",\"Snohomish\"],[\"SR-9 N\\u002fO Kackman NB\\u002fSB\",\"Snohomish\"],[\"SR-9 N\\u002fO Stanwood-Bryant NB\\u002fSB\",\"Snohomish\"],[\"SR-532 @ Island County WB\\u002fEB\",\"Snohomish\"],[\"SR-532 W\\u002fO 28th WB\\u002fEB\",\"Snohomish\"],[\"SR-522 N\\u002fO 145th NB\\u002fSB\",\"King\"],[\"SR-104 @ Hood Canal Bridge WB\\u002fEB\",\"Kitsap\"],[\"SR-104 E\\u002fO Hood Canal Bridge WB\\u002fEB\",\"Kitsap\"],[\"SR-104 N\\u002fO Pt Gamble Rd WB\\u002fEB\",\"Kitsap\"],[\"SR-104 E\\u002fO SR-307 WB\\u002fEB\",\"Kitsap\"],[\"SR-104 E\\u002fO Hansville WB\\u002fEB\",\"Kitsap\"],[\"SR-104 @ Ferry Loading Edm WB\\u002fEB\",\"Snohomish\"],[\"SR-104 N\\u002fO Pine WB\\u002fEB\",\"Snohomish\"],[\"SR-104 E\\u002fO 5th WB\\u002fEB\",\"Snohomish\"],[\"SR-104 W\\u002fO 19th WB\\u002fEB\",\"King\"],[\"SR-160 @ SR-16 WB\\u002fEB\",\"Kitsap\"],[\"SR-160 E\\u002fO Long Lake Rd WB\\u002fEB\",\"Kitsap\"],[\"SR-160 W\\u002fO Banner WB\\u002fEB\",\"Kitsap\"],[\"SR-160 E\\u002fO Peterson WB\\u002fEB\",\"Kitsap\"],[\"SR-160 S\\u002fO Southworth Dr WB\\u002fEB\",\"Kitsap\"],[\"SR-166 E\\u002fO SR-16 WB\\u002fEB\",\"Kitsap\"],[\"SR-3 E\\u002fO Sunset Way NB\\u002fSB\",\"Kitsap\"],[\"SR-3 N\\u002fO SR-305 NB\\u002fSB\",\"Kitsap\"],[\"SR-3 S\\u002fO Newberry Hill Rd NB\\u002fSB\",\"Kitsap\"],[\"SR-3 @ SR-304 NB\\u002fSB\",\"Kitsap\"],[\"SR-3 NE of SR-16 NB\\u002fSB\",\"Kitsap\"],[\"SR-3 W\\u002fO Lake Flora Rd NB\\u002fSB\",\"Kitsap\"],[\"SR-302 N\\u002fO 144th WB\\u002fEB\",\"Pierce\"],[\"SR-302 S\\u002fO 144th WB\\u002fEB\",\"Pierce\"],[\"SR-302 W\\u002fO Key Peninsula Hwy WB\\u002fEB\",\"Pierce\"],[\"SR-302 W\\u002fO Wright-Bliss WB\\u002fEB (E\\u002fO?)\",\"Pierce\"],[\"SR-303 E\\u002fO SR-3 NB\\u002fSB\",\"Kitsap\"],[\"SR-303 N\\u002fO 11th St NB\\u002fSB\",\"Kitsap\"],[\"SR-303 N\\u002fO SR-304 NB\\u002fSB\",\"Kitsap\"],[\"SR-304 E\\u002fO SR-3 WB\\u002fEB\",\"Kitsap\"],[\"SR-304 W\\u002fO Naval WB\\u002fEB\",\"Kitsap\"],[\"SR-305 W\\u002fO SR-307 WB\\u002fEB\",\"Kitsap\"],[\"SR-305 W\\u002fO Suquamish Way WB\\u002fEB\",\"Kitsap\"],[\"SR-305 N\\u002fO Day Rd WB\\u002fEB\",\"Kitsap\"],[\"SR-305 N\\u002fO High School Rd WB\\u002fEB\",\"Kitsap\"],[\"SR-305 S\\u002fO Winslow Way WB\\u002fEB\",\"Kitsap\"],[\"SR-305 @ Ferry Ramp WB\\u002fEB\",\"Kitsap\"],[\"SR-307 W\\u002fO SR-104 NB\\u002fSB\",\"Kitsap\"],[\"SR-307 N\\u002fO Gunderson NB\\u002fSB\",\"Kitsap\"],[\"SR-307 S\\u002fO Gunderson NB\\u002fSB\",\"Kitsap\"],[\"SR-307 N\\u002fO SR-305 NB\\u002fSB\",\"Kitsap\"],[\"SR-308 @ SR-3 WB\\u002fEB\",\"Kitsap\"],[\"SR-308 E\\u002fO SR-3 WB\\u002fEB\",\"Kitsap\"],[\"SR-308 E\\u002fO Silverdale Way WB\\u002fEB\",\"Kitsap\"],[\"SR-308 W\\u002fO Brownsville Hwy WB\\u002fEB\",\"Kitsap\"],[\"SR-310 @ SR-3 WB\\u002fEB\",\"Kitsap\"],[\"SR-310 W\\u002fO Callow WB\\u002fEB\",\"Kitsap\"],[\"SR-516 E\\u002fO SR-509 WB\\u002fEB\",\"King\"],[\"SR-516 W\\u002fO I-5 WB\\u002fEB\",\"King\"],[\"SR-516 E\\u002fO Meeker WB\\u002fEB\",\"King\"],[\"SR-516 W\\u002fO SR-167 WB\\u002fEB\",\"King\"],[\"SR-516 E\\u002fO SR-167 WB\\u002fEB\",\"King\"],[\"SR-516 E\\u002fO SR-18 WB\\u002fEB\",\"King\"],[\"SR-161 E\\u002fO SR-7 NB\\u002fSB\",\"Pierce\"],[\"SR-161 N\\u002fO Center NB\\u002fSB\",\"Pierce\"],[\"SR-161 N\\u002fO Eatonville Cutoff NB\\u002fSB\",\"Pierce\"],[\"SR-161 N\\u002fO 304th NB\\u002fSB\",\"Pierce\"],[\"SR-161 N\\u002fO 264th NB\\u002fSB\",\"Pierce\"],[\"SR-161 S\\u002fO 224th NB\\u002fSB\",\"Pierce\"],[\"SR-161 N\\u002fO 224th NB\\u002fSB\",\"Pierce\"],[\"SR-161 N\\u002fO 204th NB\\u002fSB\",\"Pierce\"],[\"SR-161 S\\u002fO SR-167 SB off-ramp NB\\u002fSB\",\"Pierce\"],[\"SR-161 S\\u002fO Valley NB\\u002fSB\",\"Pierce\"],[\"SR-161 N\\u002fO Valley NB\\u002fSB\",\"Pierce\"],[\"SR-161 N\\u002fO 8th NB\\u002fSB\",\"Pierce\"],[\"SR-900 S\\u002fO NB I-5 on-ramp @ Boe Acc WB\\u002fEB\",\"King\"],[\"SR-900 E\\u002fO 68th WB\\u002fEB\",\"King\"],[\"SR-900 @ I-405 WB\\u002fEB\",\"King\"],[\"SR-900 E\\u002fO 148th WB\\u002fEB\",\"King\"],[\"SR-900 N\\u002fO Talus WB\\u002fEB\",\"King\"],[\"SR-900 N\\u002fO Newport WB\\u002fEB\",\"King\"],[\"SR-524 W\\u002fO 3rd WB\\u002fEB\",\"Snohomish\"],[\"SR-524 S\\u002fO Main WB\\u002fEB\",\"Snohomish\"],[\"SR-524 N\\u002fO Main WB\\u002fEB\",\"Snohomish\"],[\"SR-524 E\\u002fO 68th WB\\u002fEB\",\"Snohomish\"],[\"SR-524 E\\u002fO 39th WB\\u002fEB\",\"Snohomish\"],[\"SR-524 N\\u002fO Paradise Lake WB\\u002fEB\",\"Snohomish\"],[\"SR-7 @ Thurston County NB\\u002fSB\",\"Pierce\"],[\"SR-7 W\\u002fO Alder Cutoff NB\\u002fSB\",\"Pierce\"],[\"SR-7 N\\u002fO Eatonville Hwy NB\\u002fSB\",\"Pierce\"],[\"SR-7 N\\u002fO Silver Lake NB\\u002fSB\",\"Pierce\"],[\"SR-7 S\\u002fO SR-702 NB\\u002fSB\",\"Pierce\"],[\"SR-7 N\\u002fO 304th NB\\u002fSB\",\"Pierce\"],[\"SR-7 N\\u002fO 260th NB\\u002fSB\",\"Pierce\"],[\"SR-7 S\\u002fO 224th NB\\u002fSB\",\"Pierce\"],[\"SR-7 N\\u002fO 224th NB\\u002fSB\",\"Pierce\"],[\"SR-7 N\\u002fO 38th NB\\u002fSB\",\"Pierce\"],[\"SR-2 E\\u002fO I-5 WB\\u002fEB\",\"Snohomish\"],[\"SR-2 S\\u002fO SR-204 WB\\u002fEB\",\"Snohomish\"],[\"SR-2 E\\u002fO Main WB\\u002fEB\",\"Snohomish\"],[\"SR-2 E\\u002fO Rice WB\\u002fEB\",\"Snohomish\"],[\"SR-2 E\\u002fO 10th (Gold Bar) WB\\u002fEB\",\"Snohomish\"],[\"SR-2 W\\u002fO Index-Galena WB\\u002fEB\",\"Snohomish\"],[\"SR-2 E\\u002fO Index-Galena WB\\u002fEB\",\"Snohomish\"],[\"SR-2 E\\u002fO Skykomish WB\\u002fEB\",\"King\"],[\"SR-527 N\\u002fO I-405 NB\\u002fSB\",\"Snohomish\"],[\"SR-527 N\\u002fO 196th NB\\u002fSB\",\"Snohomish\"],[\"SR-527 N\\u002fO Dumas NB\\u002fSB\",\"Snohomish\"],[\"SR-527 N\\u002fO 100th NB\\u002fSB\",\"Snohomish\"],[\"SR-513 S\\u002fO 44th NB\\u002fSB\",\"King\"],[\"SR-169 N\\u002fO SR-164 NB\\u002fSB\",\"King\"],[\"SR-169 S\\u002fO Lawson NB\\u002fSB\",\"King\"],[\"SR-169 S\\u002fO 276th NB\\u002fSB\",\"King\"],[\"SR-169 N\\u002fO 280th NB\\u002fSB\",\"King\"],[\"SR-169 N\\u002fO 231st NB\\u002fSB\",\"King\"],[\"SR-169 N\\u002fO 232nd NB\\u002fSB\",\"King\"],[\"SR-169 W\\u002fO 140th NB\\u002fSB\",\"King\"],[\"SR-515 N\\u002fO SR-516 NB\\u002fSB\",\"King\"],[\"SR-515 N\\u002fO 108th NB\\u002fSB\",\"King\"],[\"SR-515 N\\u002fO Puget NB\\u002fSB\",\"King\"],[\"SR-181 N\\u002fO SR-516 NB\\u002fSB\",\"King\"],[\"SR-181 S\\u002fO James NB\\u002fSB\",\"King\"],[\"SR-181 N\\u002fO James NB\\u002fSB\",\"King\"],[\"SR-181 N\\u002fO 228th NB\\u002fSB\",\"King\"],[\"SR-181 N\\u002fO 180th NB\\u002fSB\",\"King\"],[\"SR-181 S\\u002fO Longacres NB\\u002fSB\",\"King\"],[\"SR-523 E\\u002fO Lenora WB\\u002fEB\",\"King\"],[\"SR-529 @ I-5 (Evt) NB\\u002fSB\",\"Snohomish\"],[\"SR-529 S\\u002fO Everett NB\\u002fSB\",\"Snohomish\"],[\"SR-529 W\\u002fO Maple NB\\u002fSB\",\"Snohomish\"],[\"SR-529 N\\u002fO Everett NB\\u002fSB\",\"Snohomish\"],[\"SR-529 N\\u002fO Broadway NB\\u002fSB\",\"Snohomish\"],[\"SR-96 @ I-5 WB\\u002fEB\",\"Snohomish\"],[\"SR-96 N\\u002fO 132nd WB\\u002fEB\",\"Snohomish\"],[\"SR-96 E\\u002fO Seattle Hill WB\\u002fEB\",\"Snohomish\"],[\"SR-164 @ SR-18 WB\\u002fEB\",\"King\"],[\"SR-164 S\\u002fO 400th WB\\u002fEB\",\"King\"],[\"SR-528 @ I-5 WB\\u002fEB\",\"Snohomish\"],[\"SR-528 E\\u002fO SR-529 WB\\u002fEB\",\"Snohomish\"],[\"SR-531 N\\u002fO Rose WB\\u002fEB\",\"Snohomish\"],[\"SR-531 E\\u002fO Lk Goodwin WB\\u002fEB\",\"Snohomish\"],[\"SR-531 E\\u002fO 27th WB\\u002fEB\",\"Snohomish\"],[\"SR-531 E\\u002fO I-5 WB\\u002fEB\",\"Snohomish\"],[\"SR-531 E\\u002fO 43rd WB\\u002fEB\",\"Snohomish\"],[\"SR-531 W\\u002fO 67th WB\\u002fEB\",\"Snohomish\"],[\"SR-531 E\\u002fO 67th WB\\u002fEB\",\"Snohomish\"],[\"SR-162 @ SR-410 WB\\u002fEB\",\"Pierce\"],[\"SR-162 S\\u002fO Pioneer WB\\u002fEB\",\"Pierce\"],[\"SR-162 E\\u002fO Orville WB\\u002fEB\",\"Pierce\"],[\"SR-162 E\\u002fO S Prairie WB\\u002fEB\",\"Pierce\"],[\"SR-162 N\\u002fO SR-165 WB\\u002fEB\",\"Pierce\"],[\"SR-163 @ SR-16 NB\\u002fSB\",\"Pierce\"],[\"SR-163 N\\u002fO 37th NB\\u002fSB\",\"Pierce\"],[\"SR-163 N\\u002fO Park NB\\u002fSB\",\"Pierce\"],[\"SR-530 @ I-5 WB\\u002fEB\",\"Snohomish\"],[\"SR-530 E\\u002fO Smokey Pt WB\\u002fEB\",\"Snohomish\"],[\"SR-530 N\\u002fO 211th WB\\u002fEB\",\"Snohomish\"],[\"SR-530 E\\u002fO SR-9 WB\\u002fEB\",\"Snohomish\"],[\"SR-530 W\\u002fO Arlington Hts WB\\u002fEB\",\"Snohomish\"],[\"SR-530 E\\u002fO Arlington Hts WB\\u002fEB\",\"Snohomish\"],[\"SR-530 W\\u002fO Jim Creek WB\\u002fEB\",\"Snohomish\"],[\"SR-530 W\\u002fO Ramstad WB\\u002fEB\",\"Snohomish\"],[\"SR-530 @ Skagit County WB\\u002fEB\",\"Snohomish\"],[\"SR-203 N\\u002fO 203rd NB\\u002fSB\",\"Snohomish\"],[\"SR-203 N\\u002fO Cherry Valley NB\\u002fSB\",\"King\"],[\"SR-203 N\\u002fO 124th NB\\u002fSB\",\"King\"],[\"SR-203 W\\u002fO Stillwater Hill NB\\u002fSB\",\"King\"],[\"SR-203 N\\u002fO Carnation Farm NB\\u002fSB\",\"King\"],[\"SR-203 N\\u002fO Tolt Hill NB\\u002fSB\",\"King\"],[\"SR-203 N\\u002fO SR-202 NB\\u002fSB\",\"King\"],[\"SR-507 S\\u002fO SR-7 NB\\u002fSB\",\"Pierce\"],[\"SR-507 S\\u002fO E Gate NB\\u002fSB\",\"Pierce\"],[\"SR-507 S\\u002fO 288th NB\\u002fSB\",\"Pierce\"],[\"SR-507 N\\u002fO 346th NB\\u002fSB\",\"Pierce\"],[\"SR-204 @ SR-2 NB\\u002fSB\",\"Snohomish\"],[\"SR-204 N\\u002fO 20th NB\\u002fSB\",\"Snohomish\"],[\"SR-204 N\\u002fO SR-2 NB\\u002fSB\",\"Snohomish\"],[\"SR-519 W\\u002fO 4th NB\\u002fSB\",\"King\"],[\"SR-92 E\\u002fO Lake WB\\u002fEB\",\"Snohomish\"],[\"SR-92 E\\u002fO Callow WB\\u002fEB\",\"Snohomish\"],[\"SR-92 E\\u002fO Quarry WB\\u002fEB\",\"Snohomish\"],[\"SR-92 W\\u002fO Mountain Loop WB\\u002fEB\",\"Snohomish\"],[\"SR-702 E\\u002fO SR-507 WB\\u002fEB\",\"Pierce\"],[\"SR-702 E\\u002fO Harts Lake WB\\u002fEB\",\"Pierce\"],[\"SR-702 E\\u002fO 40th WB\\u002fEB\",\"Pierce\"],[\"SR-702 W\\u002fO 8th WB\\u002fEB\",\"Pierce\"],[\"SR-702 E\\u002fO 8th WB\\u002fEB\",\"Pierce\"],[\"SR-165 W\\u002fO SR-162 NB\\u002fSB\",\"Pierce\"],[\"SR-165 N\\u002fO Davis NB\\u002fSB\",\"Pierce\"],[\"SR-165 N\\u002fO Wilkeson-Carbonado NB\\u002fSB\",\"Pierce\"],[\"SR-704 E\\u002fO Spanaway Loop WB\\u002fEB\",\"Pierce\"],[\"SR-706 E\\u002fO SR-7 WB\\u002fEB\",\"Pierce\"],[\"SR-706 E\\u002fO Kernahan WB\\u002fEB\",\"Pierce\"]],\"hovertemplate\":\"Observed=%{x}\\u003cbr\\u003eModel=%{y}\\u003cbr\\u003elocation=%{customdata[0]}\\u003cbr\\u003eCounty=%{customdata[1]}\\u003cextra\\u003e\\u003c\\u002fextra\\u003e\",\"legendgroup\":\"\",\"marker\":{\"color\":\"#91268F\",\"symbol\":\"circle\"},\"mode\":\"markers\",\"name\":\"\",\"orientation\":\"v\",\"showlegend\":false,\"x\":[5573,5542,5922,6132,4944,4825,5532,5301,5029,5099,5967,6014,2704,5893,3834,4831,2322,2482,2931,2951,3252,3274,3206,3377,2734,3167,3043,3126,2304,2316,764,901,830,1933,1905,2505,855,1392,2142,321,258,1355,1425,403,274,137,138,2142,2289,2264,2273,3621,3308,2397,2397,938,942,1170,868,173,157,144,131,1302,1091,1389,920,945,1721,2401,2292,2108,2077,2714,2654,764,823,2893,4052,4113,3334,10502,6332,6539,2933,173,48,308,7266,3486,614,508,797,31,21,17,14,3402,3992,4756,962,2112,103,11,14,19,68,60,10,32,86,120,210,372,1392,2775,1196,1242,280,288,174,222,146,108,141,123,2754,246,336,1417,5817,3461,1762,1426,1558,1210,1364,1155,265,83,76,321,54,146,477,307,420,378,300,318,284,110,99,92,699,285,653,317,372,169,229,167,82,309,328,167,612,75,70,144,84,59,55,72,76,114,34,30,19,12,140,1020,1012,1159,988,1360,288,79,104,57,52,180,216,98,210,126,266,420,420,234,11,9,196,168,126,120,39,36,66,22,138,26,80,540,375,960,288,351,25,201,112,418,338,324,324,532,850,1739,180,175,396,84,208,76,242,84,8,6,6,76,176,507,142,110,67,90,98,400,377,432,374,168,891,874,506,420,444,243,192,126,265,279,44,156,56,224,440,304,231,850,1035,1248,100,96,141,957,897,899,1050,999,918,84,88,49,65,84,825,220,42,62,297,198,260,330,18,99,429,697,696,340,182,420,1034,209,136,135,40,36,90,705,609,464,400,403,383,380,299,47,408,340,364,315,284,330,332,464,352,520,351,58,55,400,638,494,448,60,718,252,220,266,166,254,166,50,18,648,38,13],\"xaxis\":\"x\",\"y\":[5574,5572,5829,5831,5806,5807,5675,5616,5346,5924,6036,6070,5444,8221,10293,10156,5259,5489,5085,5275,6344,6215,5969,5886,5890,5793,5024,4983,3900,3885,3995,1132,1246,1254,1292,1316,215,1700,4435,4331,4009,2226,1857,828,746,62,57,3655,3865,4881,5103,4179,4102,1319,1276,210,298,1361,889,174,206,79,73,1500,1039,1443,1000,1529,594,1746,1691,1781,1730,1811,1753,1826,1751,8027,6859,6703,2916,5923,6039,5173,4125,102,115,691,4419,1818,84,34,94,94,94,94,94,1317,1647,2950,820,1163,1910,0,0,0,20,37,12,13,13,117,248,443,1307,990,872,2463,81,137,227,209,177,21,33,0,2889,489,509,2683,3358,3898,4740,3829,3839,3204,3166,1580,19,18,5,24,36,39,1319,11,1,35,35,28,278,313,2,54,372,281,474,534,128,42,43,61,189,115,116,122,956,2,2,154,115,0,34,34,41,199,18,18,21,21,2,954,1169,2451,2898,3176,9,27,21,253,238,22,168,50,277,151,478,149,127,98,0,0,153,153,154,258,56,109,38,0,10,0,33,405,1998,2455,1731,68,0,41,41,89,89,111,139,176,716,1155,78,718,1230,99,185,55,133,127,4,0,4,9,22,184,0,16,16,16,16,68,70,72,59,13,832,612,1895,2008,1987,1987,1882,64,65,58,2,9,0,0,56,73,73,102,195,200,6,17,35,1010,1007,1095,2124,1492,1506,38,119,60,12,113,22,74,22,4,252,116,745,222,0,6,175,1324,1264,81,85,126,95,5,5,5,95,96,249,125,153,150,132,134,133,133,133,1,531,529,484,493,493,493,493,441,475,468,468,36,58,285,993,214,214,0,60,6,6,19,19,17,5,0,0,395,0,0],\"yaxis\":\"y\",\"type\":\"scatter\",\"line\":{\"color\":\"Grey\",\"width\":2}},{\"hovertemplate\":\"Observed=%{x}\\u003cbr\\u003eModel=%{y}\\u003cextra\\u003e\\u003c\\u002fextra\\u003e\",\"legendgroup\":\"\",\"line\":{\"color\":\"Grey\",\"dash\":\"solid\",\"width\":2},\"marker\":{\"symbol\":\"circle\"},\"mode\":\"lines\",\"name\":\"\",\"orientation\":\"v\",\"showlegend\":false,\"x\":[0.0,106.08080808080808,212.16161616161617,318.24242424242425,424.32323232323233,530.4040404040404,636.4848484848485,742.5656565656566,848.6464646464647,954.7272727272727,1060.8080808080808,1166.888888888889,1272.969696969697,1379.050505050505,1485.1313131313132,1591.2121212121212,1697.2929292929293,1803.3737373737374,1909.4545454545455,2015.5353535353536,2121.6161616161617,2227.69696969697,2333.777777777778,2439.8585858585857,2545.939393939394,2652.0202020202023,2758.10101010101,2864.181818181818,2970.2626262626263,3076.3434343434346,3182.4242424242425,3288.5050505050503,3394.5858585858587,3500.666666666667,3606.747474747475,3712.8282828282827,3818.909090909091,3924.9898989898993,4031.070707070707,4137.151515151515,4243.232323232323,4349.313131313132,4455.39393939394,4561.474747474747,4667.555555555556,4773.636363636364,4879.717171717171,4985.79797979798,5091.878787878788,5197.959595959596,5304.040404040405,5410.121212121212,5516.20202020202,5622.282828282829,5728.363636363636,5834.444444444444,5940.525252525253,6046.606060606061,6152.686868686869,6258.767676767677,6364.848484848485,6470.929292929293,6577.010101010101,6683.090909090909,6789.171717171717,6895.252525252526,7001.333333333334,7107.414141414141,7213.49494949495,7319.575757575758,7425.656565656565,7531.737373737374,7637.818181818182,7743.89898989899,7849.979797979799,7956.060606060606,8062.141414141414,8168.222222222223,8274.30303030303,8380.38383838384,8486.464646464647,8592.545454545454,8698.626262626263,8804.70707070707,8910.78787878788,9016.868686868687,9122.949494949495,9229.030303030304,9335.111111111111,9441.191919191919,9547.272727272728,9653.353535353535,9759.434343434343,9865.515151515152,9971.59595959596,10077.676767676769,10183.757575757576,10289.838383838383,10395.919191919193,10502.0],\"xaxis\":\"x\",\"y\":[155.3987430678951,268.6551509901572,381.9115589124193,495.16796683468147,608.4243747569435,721.6807826792057,834.9371906014678,948.19359852373,1061.4500064459921,1174.7064143682542,1287.9628222905162,1401.2192302127785,1514.4756381350405,1627.7320460573026,1740.9884539795648,1854.2448619018269,1967.501269824089,2080.757677746351,2194.014085668613,2307.270493590875,2420.526901513137,2533.7833094354,2647.039717357662,2760.296125279923,2873.552533202186,2986.808941124448,3100.0653490467103,3213.3217569689723,3326.5781648912343,3439.8345728134964,3553.0909807357584,3666.3473886580205,3779.6037965802825,3892.8602045025455,4006.1166124248075,4119.373020347069,4232.629428269332,4345.885836191594,4459.142244113856,4572.398652036118,4685.65505995838,4798.911467880643,4912.167875802905,5025.424283725166,5138.680691647429,5251.937099569691,5365.193507491952,5478.449915414215,5591.706323336477,5704.962731258739,5818.219139181002,5931.475547103263,6044.731955025525,6157.988362947788,6271.244770870049,6384.501178792311,6497.757586714574,6611.013994636836,6724.270402559098,6837.52681048136,6950.783218403622,7064.0396263258845,7177.2960342481465,7290.5524421704085,7403.808850092671,7517.0652580149335,7630.321665937196,7743.578073859457,7856.83448178172,7970.090889703982,8083.347297626243,8196.603705548505,8309.860113470768,8423.11652139303,8536.372929315292,8649.629337237555,8762.885745159816,8876.142153082079,8989.39856100434,9102.654968926603,9215.911376848864,9329.167784771127,9442.42419269339,9555.680600615651,9668.937008537914,9782.193416460175,9895.449824382436,10008.706232304701,10121.962640226962,10235.219048149223,10348.475456071486,10461.731863993748,10574.988271916009,10688.244679838273,10801.501087760535,10914.757495682798,11028.013903605059,11141.27031152732,11254.526719449583,11367.783127371846],\"yaxis\":\"y\",\"type\":\"scatter\"}],                        {\"template\":{\"data\":{\"barpolar\":[{\"marker\":{\"line\":{\"color\":\"white\",\"width\":0.5},\"pattern\":{\"fillmode\":\"overlay\",\"size\":10,\"solidity\":0.2}},\"type\":\"barpolar\"}],\"bar\":[{\"error_x\":{\"color\":\"rgb(36,36,36)\"},\"error_y\":{\"color\":\"rgb(36,36,36)\"},\"marker\":{\"line\":{\"color\":\"white\",\"width\":0.5},\"pattern\":{\"fillmode\":\"overlay\",\"size\":10,\"solidity\":0.2}},\"type\":\"bar\"}],\"carpet\":[{\"aaxis\":{\"endlinecolor\":\"rgb(36,36,36)\",\"gridcolor\":\"white\",\"linecolor\":\"white\",\"minorgridcolor\":\"white\",\"startlinecolor\":\"rgb(36,36,36)\"},\"baxis\":{\"endlinecolor\":\"rgb(36,36,36)\",\"gridcolor\":\"white\",\"linecolor\":\"white\",\"minorgridcolor\":\"white\",\"startlinecolor\":\"rgb(36,36,36)\"},\"type\":\"carpet\"}],\"choropleth\":[{\"colorbar\":{\"outlinewidth\":1,\"tickcolor\":\"rgb(36,36,36)\",\"ticks\":\"outside\"},\"type\":\"choropleth\"}],\"contourcarpet\":[{\"colorbar\":{\"outlinewidth\":1,\"tickcolor\":\"rgb(36,36,36)\",\"ticks\":\"outside\"},\"type\":\"contourcarpet\"}],\"contour\":[{\"colorbar\":{\"outlinewidth\":1,\"tickcolor\":\"rgb(36,36,36)\",\"ticks\":\"outside\"},\"colorscale\":[[0.0,\"#440154\"],[0.1111111111111111,\"#482878\"],[0.2222222222222222,\"#3e4989\"],[0.3333333333333333,\"#31688e\"],[0.4444444444444444,\"#26828e\"],[0.5555555555555556,\"#1f9e89\"],[0.6666666666666666,\"#35b779\"],[0.7777777777777778,\"#6ece58\"],[0.8888888888888888,\"#b5de2b\"],[1.0,\"#fde725\"]],\"type\":\"contour\"}],\"heatmapgl\":[{\"colorbar\":{\"outlinewidth\":1,\"tickcolor\":\"rgb(36,36,36)\",\"ticks\":\"outside\"},\"colorscale\":[[0.0,\"#440154\"],[0.1111111111111111,\"#482878\"],[0.2222222222222222,\"#3e4989\"],[0.3333333333333333,\"#31688e\"],[0.4444444444444444,\"#26828e\"],[0.5555555555555556,\"#1f9e89\"],[0.6666666666666666,\"#35b779\"],[0.7777777777777778,\"#6ece58\"],[0.8888888888888888,\"#b5de2b\"],[1.0,\"#fde725\"]],\"type\":\"heatmapgl\"}],\"heatmap\":[{\"colorbar\":{\"outlinewidth\":1,\"tickcolor\":\"rgb(36,36,36)\",\"ticks\":\"outside\"},\"colorscale\":[[0.0,\"#440154\"],[0.1111111111111111,\"#482878\"],[0.2222222222222222,\"#3e4989\"],[0.3333333333333333,\"#31688e\"],[0.4444444444444444,\"#26828e\"],[0.5555555555555556,\"#1f9e89\"],[0.6666666666666666,\"#35b779\"],[0.7777777777777778,\"#6ece58\"],[0.8888888888888888,\"#b5de2b\"],[1.0,\"#fde725\"]],\"type\":\"heatmap\"}],\"histogram2dcontour\":[{\"colorbar\":{\"outlinewidth\":1,\"tickcolor\":\"rgb(36,36,36)\",\"ticks\":\"outside\"},\"colorscale\":[[0.0,\"#440154\"],[0.1111111111111111,\"#482878\"],[0.2222222222222222,\"#3e4989\"],[0.3333333333333333,\"#31688e\"],[0.4444444444444444,\"#26828e\"],[0.5555555555555556,\"#1f9e89\"],[0.6666666666666666,\"#35b779\"],[0.7777777777777778,\"#6ece58\"],[0.8888888888888888,\"#b5de2b\"],[1.0,\"#fde725\"]],\"type\":\"histogram2dcontour\"}],\"histogram2d\":[{\"colorbar\":{\"outlinewidth\":1,\"tickcolor\":\"rgb(36,36,36)\",\"ticks\":\"outside\"},\"colorscale\":[[0.0,\"#440154\"],[0.1111111111111111,\"#482878\"],[0.2222222222222222,\"#3e4989\"],[0.3333333333333333,\"#31688e\"],[0.4444444444444444,\"#26828e\"],[0.5555555555555556,\"#1f9e89\"],[0.6666666666666666,\"#35b779\"],[0.7777777777777778,\"#6ece58\"],[0.8888888888888888,\"#b5de2b\"],[1.0,\"#fde725\"]],\"type\":\"histogram2d\"}],\"histogram\":[{\"marker\":{\"line\":{\"color\":\"white\",\"width\":0.6}},\"type\":\"histogram\"}],\"mesh3d\":[{\"colorbar\":{\"outlinewidth\":1,\"tickcolor\":\"rgb(36,36,36)\",\"ticks\":\"outside\"},\"type\":\"mesh3d\"}],\"parcoords\":[{\"line\":{\"colorbar\":{\"outlinewidth\":1,\"tickcolor\":\"rgb(36,36,36)\",\"ticks\":\"outside\"}},\"type\":\"parcoords\"}],\"pie\":[{\"automargin\":true,\"type\":\"pie\"}],\"scatter3d\":[{\"line\":{\"colorbar\":{\"outlinewidth\":1,\"tickcolor\":\"rgb(36,36,36)\",\"ticks\":\"outside\"}},\"marker\":{\"colorbar\":{\"outlinewidth\":1,\"tickcolor\":\"rgb(36,36,36)\",\"ticks\":\"outside\"}},\"type\":\"scatter3d\"}],\"scattercarpet\":[{\"marker\":{\"colorbar\":{\"outlinewidth\":1,\"tickcolor\":\"rgb(36,36,36)\",\"ticks\":\"outside\"}},\"type\":\"scattercarpet\"}],\"scattergeo\":[{\"marker\":{\"colorbar\":{\"outlinewidth\":1,\"tickcolor\":\"rgb(36,36,36)\",\"ticks\":\"outside\"}},\"type\":\"scattergeo\"}],\"scattergl\":[{\"marker\":{\"colorbar\":{\"outlinewidth\":1,\"tickcolor\":\"rgb(36,36,36)\",\"ticks\":\"outside\"}},\"type\":\"scattergl\"}],\"scattermapbox\":[{\"marker\":{\"colorbar\":{\"outlinewidth\":1,\"tickcolor\":\"rgb(36,36,36)\",\"ticks\":\"outside\"}},\"type\":\"scattermapbox\"}],\"scatterpolargl\":[{\"marker\":{\"colorbar\":{\"outlinewidth\":1,\"tickcolor\":\"rgb(36,36,36)\",\"ticks\":\"outside\"}},\"type\":\"scatterpolargl\"}],\"scatterpolar\":[{\"marker\":{\"colorbar\":{\"outlinewidth\":1,\"tickcolor\":\"rgb(36,36,36)\",\"ticks\":\"outside\"}},\"type\":\"scatterpolar\"}],\"scatter\":[{\"fillpattern\":{\"fillmode\":\"overlay\",\"size\":10,\"solidity\":0.2},\"type\":\"scatter\"}],\"scatterternary\":[{\"marker\":{\"colorbar\":{\"outlinewidth\":1,\"tickcolor\":\"rgb(36,36,36)\",\"ticks\":\"outside\"}},\"type\":\"scatterternary\"}],\"surface\":[{\"colorbar\":{\"outlinewidth\":1,\"tickcolor\":\"rgb(36,36,36)\",\"ticks\":\"outside\"},\"colorscale\":[[0.0,\"#440154\"],[0.1111111111111111,\"#482878\"],[0.2222222222222222,\"#3e4989\"],[0.3333333333333333,\"#31688e\"],[0.4444444444444444,\"#26828e\"],[0.5555555555555556,\"#1f9e89\"],[0.6666666666666666,\"#35b779\"],[0.7777777777777778,\"#6ece58\"],[0.8888888888888888,\"#b5de2b\"],[1.0,\"#fde725\"]],\"type\":\"surface\"}],\"table\":[{\"cells\":{\"fill\":{\"color\":\"rgb(237,237,237)\"},\"line\":{\"color\":\"white\"}},\"header\":{\"fill\":{\"color\":\"rgb(217,217,217)\"},\"line\":{\"color\":\"white\"}},\"type\":\"table\"}]},\"layout\":{\"annotationdefaults\":{\"arrowhead\":0,\"arrowwidth\":1},\"autotypenumbers\":\"strict\",\"coloraxis\":{\"colorbar\":{\"outlinewidth\":1,\"tickcolor\":\"rgb(36,36,36)\",\"ticks\":\"outside\"}},\"colorscale\":{\"diverging\":[[0.0,\"rgb(103,0,31)\"],[0.1,\"rgb(178,24,43)\"],[0.2,\"rgb(214,96,77)\"],[0.3,\"rgb(244,165,130)\"],[0.4,\"rgb(253,219,199)\"],[0.5,\"rgb(247,247,247)\"],[0.6,\"rgb(209,229,240)\"],[0.7,\"rgb(146,197,222)\"],[0.8,\"rgb(67,147,195)\"],[0.9,\"rgb(33,102,172)\"],[1.0,\"rgb(5,48,97)\"]],\"sequential\":[[0.0,\"#440154\"],[0.1111111111111111,\"#482878\"],[0.2222222222222222,\"#3e4989\"],[0.3333333333333333,\"#31688e\"],[0.4444444444444444,\"#26828e\"],[0.5555555555555556,\"#1f9e89\"],[0.6666666666666666,\"#35b779\"],[0.7777777777777778,\"#6ece58\"],[0.8888888888888888,\"#b5de2b\"],[1.0,\"#fde725\"]],\"sequentialminus\":[[0.0,\"#440154\"],[0.1111111111111111,\"#482878\"],[0.2222222222222222,\"#3e4989\"],[0.3333333333333333,\"#31688e\"],[0.4444444444444444,\"#26828e\"],[0.5555555555555556,\"#1f9e89\"],[0.6666666666666666,\"#35b779\"],[0.7777777777777778,\"#6ece58\"],[0.8888888888888888,\"#b5de2b\"],[1.0,\"#fde725\"]]},\"colorway\":[\"#91268F\",\"#8CC63E\",\"#00A7A0\",\"#F05A28\",\"#4C4C4C\",\"#630460\",\"#9f3913\",\"#588527\",\"#00716c\",\"#3e4040\"],\"font\":{\"color\":\"rgb(36,36,36)\",\"family\":\"Poppins\",\"size\":11},\"geo\":{\"bgcolor\":\"white\",\"lakecolor\":\"white\",\"landcolor\":\"white\",\"showlakes\":true,\"showland\":true,\"subunitcolor\":\"white\"},\"hoverlabel\":{\"align\":\"left\"},\"hovermode\":\"closest\",\"mapbox\":{\"style\":\"light\"},\"paper_bgcolor\":\"white\",\"plot_bgcolor\":\"white\",\"polar\":{\"angularaxis\":{\"gridcolor\":\"rgb(232,232,232)\",\"linecolor\":\"rgb(36,36,36)\",\"showgrid\":false,\"showline\":true,\"ticks\":\"outside\"},\"bgcolor\":\"white\",\"radialaxis\":{\"gridcolor\":\"rgb(232,232,232)\",\"linecolor\":\"rgb(36,36,36)\",\"showgrid\":false,\"showline\":true,\"ticks\":\"outside\"}},\"scene\":{\"xaxis\":{\"backgroundcolor\":\"white\",\"gridcolor\":\"rgb(232,232,232)\",\"gridwidth\":2,\"linecolor\":\"rgb(36,36,36)\",\"showbackground\":true,\"showgrid\":false,\"showline\":true,\"ticks\":\"outside\",\"zeroline\":false,\"zerolinecolor\":\"rgb(36,36,36)\"},\"yaxis\":{\"backgroundcolor\":\"white\",\"gridcolor\":\"rgb(232,232,232)\",\"gridwidth\":2,\"linecolor\":\"rgb(36,36,36)\",\"showbackground\":true,\"showgrid\":false,\"showline\":true,\"ticks\":\"outside\",\"zeroline\":false,\"zerolinecolor\":\"rgb(36,36,36)\"},\"zaxis\":{\"backgroundcolor\":\"white\",\"gridcolor\":\"rgb(232,232,232)\",\"gridwidth\":2,\"linecolor\":\"rgb(36,36,36)\",\"showbackground\":true,\"showgrid\":false,\"showline\":true,\"ticks\":\"outside\",\"zeroline\":false,\"zerolinecolor\":\"rgb(36,36,36)\"}},\"shapedefaults\":{\"fillcolor\":\"black\",\"line\":{\"width\":0},\"opacity\":0.3},\"ternary\":{\"aaxis\":{\"gridcolor\":\"rgb(232,232,232)\",\"linecolor\":\"rgb(36,36,36)\",\"showgrid\":false,\"showline\":true,\"ticks\":\"outside\"},\"baxis\":{\"gridcolor\":\"rgb(232,232,232)\",\"linecolor\":\"rgb(36,36,36)\",\"showgrid\":false,\"showline\":true,\"ticks\":\"outside\"},\"bgcolor\":\"white\",\"caxis\":{\"gridcolor\":\"rgb(232,232,232)\",\"linecolor\":\"rgb(36,36,36)\",\"showgrid\":false,\"showline\":true,\"ticks\":\"outside\"}},\"title\":{\"x\":0.05},\"xaxis\":{\"automargin\":true,\"gridcolor\":\"rgb(232,232,232)\",\"linecolor\":\"rgb(36,36,36)\",\"showgrid\":false,\"showline\":true,\"ticks\":\"outside\",\"title\":{\"standoff\":15},\"zeroline\":false,\"zerolinecolor\":\"rgb(36,36,36)\"},\"yaxis\":{\"automargin\":true,\"gridcolor\":\"rgb(232,232,232)\",\"linecolor\":\"rgb(36,36,36)\",\"showgrid\":false,\"showline\":true,\"ticks\":\"outside\",\"title\":{\"standoff\":15},\"zeroline\":false,\"zerolinecolor\":\"rgb(36,36,36)\"}}},\"xaxis\":{\"anchor\":\"y\",\"domain\":[0.0,1.0],\"title\":{\"text\":\"Observed\"}},\"yaxis\":{\"anchor\":\"x\",\"domain\":[0.0,1.0],\"title\":{\"text\":\"Model\"}},\"legend\":{\"tracegroupgap\":0},\"title\":{\"text\":\"Heavy Trucks: Region\"},\"margin\":{\"l\":100,\"r\":100,\"t\":100,\"b\":100},\"height\":600,\"width\":800,\"shapes\":[{\"line\":{\"color\":\"Red\",\"dash\":\"dash\",\"width\":2},\"type\":\"line\",\"x0\":0,\"x1\":10502,\"y0\":0,\"y1\":10502}],\"annotations\":[{\"align\":\"right\",\"font\":{\"color\":\"pink\",\"size\":12},\"showarrow\":false,\"text\":\"y = x\",\"x\":11027.1,\"y\":11027.1},{\"align\":\"right\",\"font\":{\"color\":\"black\",\"size\":12},\"showarrow\":false,\"text\":\"r^2 = 0.70\",\"x\":11027.1,\"y\":11936.172283740438}]},                        {\"responsive\": true}                    ).then(function(){\n",
       "                            \n",
       "var gd = document.getElementById('e2dbe582-e84f-4127-ad86-d27572ee59e3');\n",
       "var x = new MutationObserver(function (mutations, observer) {{\n",
       "        var display = window.getComputedStyle(gd).display;\n",
       "        if (!display || display === 'none') {{\n",
       "            console.log([gd, 'removed!']);\n",
       "            Plotly.purge(gd);\n",
       "            observer.disconnect();\n",
       "        }}\n",
       "}});\n",
       "\n",
       "// Listen for the removal of the full notebook cells\n",
       "var notebookContainer = gd.closest('#notebook-container');\n",
       "if (notebookContainer) {{\n",
       "    x.observe(notebookContainer, {childList: true});\n",
       "}}\n",
       "\n",
       "// Listen for the clearing of the current output cell\n",
       "var outputEl = gd.closest('.output');\n",
       "if (outputEl) {{\n",
       "    x.observe(outputEl, {childList: true});\n",
       "}}\n",
       "\n",
       "                        })                };                });            </script>        </div>"
      ]
     },
     "metadata": {},
     "output_type": "display_data"
    }
   ],
   "source": [
    "fig = create_truck_chart(df_daily_heavy, 'Heavy')\n",
    "fig.show()"
   ]
  },
  {
   "cell_type": "raw",
   "id": "3bd56227",
   "metadata": {
    "vscode": {
     "languageId": "raw"
    }
   },
   "source": [
    "#### King"
   ]
  },
  {
   "cell_type": "code",
   "execution_count": 25,
   "id": "c4ff02a8",
   "metadata": {},
   "outputs": [
    {
     "data": {
      "application/vnd.plotly.v1+json": {
       "config": {
        "plotlyServerURL": "https://plot.ly"
       },
       "data": [
        {
         "customdata": [
          [
           "I-5 S/O 205th NB",
           "King"
          ],
          [
           "I-5 S/O 205th SB",
           "King"
          ],
          [
           "I-5 Rev N/O I-5 GP NB/SB",
           "King"
          ],
          [
           "I-90 E/O I-5 WB",
           "King"
          ],
          [
           "I-90 E/O I-5 EB",
           "King"
          ],
          [
           "I-90 E/O W Lk Sam WB",
           "King"
          ],
          [
           "I-90 E/O W Lk Sam EB",
           "King"
          ],
          [
           "I-90 E/O SR-900 WB",
           "King"
          ],
          [
           "I-405 @ I-5 Southcenter NB",
           "King"
          ],
          [
           "I-405 @ I-5 Southcenter SB",
           "King"
          ],
          [
           "I-405 @ Lake Wash Blvd NB",
           "King"
          ],
          [
           "I-405 @ I-90 NB",
           "King"
          ],
          [
           "I-405 @ I-90 SB",
           "King"
          ],
          [
           "SR-520 @ x-lake bridge WB",
           "King"
          ],
          [
           "SR-520 @ x-lake bridge EB",
           "King"
          ],
          [
           "SR-167 S/O 43rd NB",
           "King"
          ],
          [
           "SR-167 S/O 43rd SB",
           "King"
          ],
          [
           "SR-167 N/O SR-18 NB",
           "King"
          ],
          [
           "SR-167 N/O SR-18 SB",
           "King"
          ],
          [
           "SR-167 S/O 15th SW NB",
           "King"
          ],
          [
           "SR-167 S/O 15th SW SB",
           "King"
          ],
          [
           "SR-509 @ Holden NB",
           "King"
          ],
          [
           "SR-509 @ Holden SB",
           "King"
          ],
          [
           "SR-99 N/O 14th NB",
           "King"
          ],
          [
           "SR-99 N/O 14th SB",
           "King"
          ],
          [
           "SR-99 N/O WSF NB",
           "King"
          ],
          [
           "SR-99 N/O WSF SB",
           "King"
          ],
          [
           "SR-99 tunnel NB",
           "King"
          ],
          [
           "SR-99 tunnel SB",
           "King"
          ],
          [
           "SR-599 S/O Pacific NB",
           "King"
          ],
          [
           "SR-599 S/O Pacific SB",
           "King"
          ],
          [
           "SR-599 @ Pacific NB",
           "King"
          ],
          [
           "SR-599 @ Pacific SB",
           "King"
          ],
          [
           "SR-18 @ I-5 WB",
           "King"
          ],
          [
           "SR-18 @ I-5 EB",
           "King"
          ],
          [
           "SR-18 W/O Auburn-Black Diamond WB",
           "King"
          ],
          [
           "SR-18 W/O Auburn-Black Diamond EB",
           "King"
          ],
          [
           "SR-18 E/O SR-516 WB",
           "King"
          ],
          [
           "SR-18 E/O SR-516 EB",
           "King"
          ],
          [
           "SR-18 E/O 256th WB",
           "King"
          ],
          [
           "SR-18 E/O 256th EB",
           "King"
          ],
          [
           "SR-522 N/O 195th WB",
           "King"
          ],
          [
           "SR-522 N/O 195th EB",
           "King"
          ],
          [
           "I-5 N/O I-5 Rev CBD NB/SB",
           "King"
          ],
          [
           "I-90 W/O SR-18 WB/EB",
           "King"
          ],
          [
           "I-90 E/O SR-18 WB/EB",
           "King"
          ],
          [
           "I-90 E/O 436th WB/EB",
           "King"
          ],
          [
           "I-90 @ Kittitas County WB/EB",
           "King"
          ],
          [
           "I-405 N/O SR-522 NB/SB",
           "King"
          ],
          [
           "SR-167 N/O Grady NB/SB",
           "King"
          ],
          [
           "SR-410 E/O 244th WB/EB",
           "King"
          ],
          [
           "SR-410 E/O Farman WB/EB",
           "King"
          ],
          [
           "SR-410 @ Greenwater River WB/EB",
           "King"
          ],
          [
           "SR-509 E/O 47th NB/SB",
           "King"
          ],
          [
           "SR-509 E/O 21st NB/SB",
           "King"
          ],
          [
           "SR-509 W/O SR-516 NB/SB",
           "King"
          ],
          [
           "SR-509 W/O Des Moines Mem NB/SB",
           "King"
          ],
          [
           "SR-509 E/O 1st Ave NB/SB",
           "King"
          ],
          [
           "SR-509 E/O Des Moines Mem NB/SB",
           "King"
          ],
          [
           "SR-509 @ SR-509 ramp overpass NB/SB",
           "King"
          ],
          [
           "SR-509 N/O Des Moines Mem NB/SB",
           "King"
          ],
          [
           "SR-509 N/O SR-518 NB/SB",
           "King"
          ],
          [
           "SR-99 S/O SR-18 NB/SB",
           "King"
          ],
          [
           "SR-99 N/O SR-18 NB/SB",
           "King"
          ],
          [
           "SR-99 N/O 320th NB/SB",
           "King"
          ],
          [
           "SR-99 N/O 188th NB/SB",
           "King"
          ],
          [
           "SR-99 @ WSF NB/SB",
           "King"
          ],
          [
           "SR-99 @ Aurora Bridge NB/SB",
           "King"
          ],
          [
           "SR-99 N/O 38th NB/SB",
           "King"
          ],
          [
           "SR-99 S/O Roosevelt NB/SB",
           "King"
          ],
          [
           "SR-599 N/O I-5 NB/SB",
           "King"
          ],
          [
           "SR-518 @ SR-509 WB/EB",
           "King"
          ],
          [
           "SR-518 E/O SR-509 WB/EB",
           "King"
          ],
          [
           "SR-18 E/O SR-99 WB/EB",
           "King"
          ],
          [
           "SR-18 N/O 304th WB/EB",
           "King"
          ],
          [
           "SR-18 S/O I-90 WB/EB",
           "King"
          ],
          [
           "SR-202 @ SR-522 NB/SB",
           "King"
          ],
          [
           "SR-202 N/O 145th NB/SB",
           "King"
          ],
          [
           "SR-202 @ Sammamish River Br NB/SB",
           "King"
          ],
          [
           "SR-202 S/O 144th NB/SB",
           "King"
          ],
          [
           "SR-202 N/O Redmond Way NB/SB",
           "King"
          ],
          [
           "SR-202 E/O 164th NB/SB",
           "King"
          ],
          [
           "SR-202 E/O SR-520 NB/SB",
           "King"
          ],
          [
           "SR-202 E/O E Lk Samm NB/SB",
           "King"
          ],
          [
           "SR-202 E/O Sahalee NB/SB",
           "King"
          ],
          [
           "SR-202 E/O 236th NB/SB",
           "King"
          ],
          [
           "SR-202 S/O Ames Lake NB/SB",
           "King"
          ],
          [
           "SR-202 S/O Duthie Hill NB/SB",
           "King"
          ],
          [
           "SR-202 E/O SR-203 NB/SB",
           "King"
          ],
          [
           "SR-202 N/O I-90 NB/SB",
           "King"
          ],
          [
           "SR-522 N/O 145th NB/SB",
           "King"
          ],
          [
           "SR-104 W/O 19th WB/EB",
           "King"
          ],
          [
           "SR-516 E/O SR-509 WB/EB",
           "King"
          ],
          [
           "SR-516 W/O I-5 WB/EB",
           "King"
          ],
          [
           "SR-516 E/O Meeker WB/EB",
           "King"
          ],
          [
           "SR-516 W/O SR-167 WB/EB",
           "King"
          ],
          [
           "SR-516 E/O SR-167 WB/EB",
           "King"
          ],
          [
           "SR-516 E/O SR-18 WB/EB",
           "King"
          ],
          [
           "SR-900 S/O NB I-5 on-ramp @ Boe Acc WB/EB",
           "King"
          ],
          [
           "SR-900 E/O 68th WB/EB",
           "King"
          ],
          [
           "SR-900 @ I-405 WB/EB",
           "King"
          ],
          [
           "SR-900 E/O 148th WB/EB",
           "King"
          ],
          [
           "SR-900 N/O Talus WB/EB",
           "King"
          ],
          [
           "SR-900 N/O Newport WB/EB",
           "King"
          ],
          [
           "SR-2 E/O Skykomish WB/EB",
           "King"
          ],
          [
           "SR-513 S/O 44th NB/SB",
           "King"
          ],
          [
           "SR-169 N/O SR-164 NB/SB",
           "King"
          ],
          [
           "SR-169 S/O Lawson NB/SB",
           "King"
          ],
          [
           "SR-169 S/O 276th NB/SB",
           "King"
          ],
          [
           "SR-169 N/O 280th NB/SB",
           "King"
          ],
          [
           "SR-169 N/O 231st NB/SB",
           "King"
          ],
          [
           "SR-169 N/O 232nd NB/SB",
           "King"
          ],
          [
           "SR-169 W/O 140th NB/SB",
           "King"
          ],
          [
           "SR-515 N/O SR-516 NB/SB",
           "King"
          ],
          [
           "SR-515 N/O 108th NB/SB",
           "King"
          ],
          [
           "SR-515 N/O Puget NB/SB",
           "King"
          ],
          [
           "SR-181 N/O SR-516 NB/SB",
           "King"
          ],
          [
           "SR-181 S/O James NB/SB",
           "King"
          ],
          [
           "SR-181 N/O James NB/SB",
           "King"
          ],
          [
           "SR-181 N/O 228th NB/SB",
           "King"
          ],
          [
           "SR-181 N/O 180th NB/SB",
           "King"
          ],
          [
           "SR-181 S/O Longacres NB/SB",
           "King"
          ],
          [
           "SR-523 E/O Lenora WB/EB",
           "King"
          ],
          [
           "SR-164 @ SR-18 WB/EB",
           "King"
          ],
          [
           "SR-164 S/O 400th WB/EB",
           "King"
          ],
          [
           "SR-203 N/O Cherry Valley NB/SB",
           "King"
          ],
          [
           "SR-203 N/O 124th NB/SB",
           "King"
          ],
          [
           "SR-203 W/O Stillwater Hill NB/SB",
           "King"
          ],
          [
           "SR-203 N/O Carnation Farm NB/SB",
           "King"
          ],
          [
           "SR-203 N/O Tolt Hill NB/SB",
           "King"
          ],
          [
           "SR-203 N/O SR-202 NB/SB",
           "King"
          ],
          [
           "SR-519 W/O 4th NB/SB",
           "King"
          ]
         ],
         "hovertemplate": "Observed=%{x}<br>Model=%{y}<br>location=%{customdata[0]}<br>County=%{customdata[1]}<extra></extra>",
         "legendgroup": "",
         "line": {
          "color": "Grey",
          "width": 2
         },
         "marker": {
          "color": "#91268F",
          "symbol": "circle"
         },
         "mode": "markers",
         "name": "",
         "orientation": "v",
         "showlegend": false,
         "type": "scatter",
         "x": [
          2322,
          2482,
          764,
          901,
          830,
          1933,
          1905,
          2505,
          855,
          1392,
          2142,
          321,
          258,
          137,
          138,
          2142,
          2289,
          2264,
          2273,
          3621,
          3308,
          938,
          942,
          1170,
          868,
          173,
          157,
          144,
          131,
          1302,
          1091,
          1389,
          920,
          945,
          1721,
          2401,
          2292,
          2108,
          2077,
          2714,
          2654,
          764,
          823,
          2893,
          3334,
          10502,
          6332,
          6539,
          2933,
          308,
          508,
          797,
          31,
          19,
          68,
          60,
          10,
          32,
          86,
          120,
          210,
          372,
          1242,
          280,
          288,
          174,
          222,
          146,
          108,
          141,
          2754,
          246,
          336,
          1417,
          5817,
          3461,
          265,
          83,
          76,
          321,
          54,
          146,
          477,
          307,
          420,
          378,
          300,
          318,
          284,
          110,
          167,
          76,
          80,
          540,
          375,
          960,
          288,
          351,
          396,
          84,
          208,
          76,
          242,
          84,
          126,
          56,
          224,
          440,
          304,
          231,
          850,
          1035,
          1248,
          100,
          96,
          141,
          957,
          897,
          899,
          1050,
          999,
          918,
          84,
          297,
          198,
          340,
          364,
          315,
          284,
          330,
          332,
          638
         ],
         "xaxis": "x",
         "y": [
          5259,
          5489,
          3995,
          1132,
          1246,
          1254,
          1292,
          1316,
          215,
          1700,
          4435,
          4331,
          4009,
          62,
          57,
          3655,
          3865,
          4881,
          5103,
          4179,
          4102,
          210,
          298,
          1361,
          889,
          174,
          206,
          79,
          73,
          1500,
          1039,
          1443,
          1000,
          1529,
          594,
          1746,
          1691,
          1781,
          1730,
          1811,
          1753,
          1826,
          1751,
          8027,
          2916,
          5923,
          6039,
          5173,
          4125,
          691,
          34,
          94,
          94,
          0,
          20,
          37,
          12,
          13,
          13,
          117,
          248,
          443,
          2463,
          81,
          137,
          227,
          209,
          177,
          21,
          33,
          2889,
          489,
          509,
          2683,
          3358,
          3898,
          19,
          18,
          5,
          24,
          36,
          39,
          1319,
          11,
          1,
          35,
          35,
          28,
          278,
          313,
          122,
          41,
          33,
          405,
          1998,
          2455,
          1731,
          68,
          1230,
          99,
          185,
          55,
          133,
          127,
          64,
          0,
          0,
          56,
          73,
          73,
          102,
          195,
          200,
          6,
          17,
          35,
          1010,
          1007,
          1095,
          2124,
          1492,
          1506,
          38,
          252,
          116,
          529,
          484,
          493,
          493,
          493,
          493,
          993
         ],
         "yaxis": "y"
        },
        {
         "hovertemplate": "Observed=%{x}<br>Model=%{y}<extra></extra>",
         "legendgroup": "",
         "line": {
          "color": "Grey",
          "dash": "solid",
          "width": 2
         },
         "marker": {
          "symbol": "circle"
         },
         "mode": "lines",
         "name": "",
         "orientation": "v",
         "showlegend": false,
         "type": "scatter",
         "x": [
          0.0,
          106.08080808080808,
          212.16161616161617,
          318.24242424242425,
          424.32323232323233,
          530.4040404040404,
          636.4848484848485,
          742.5656565656566,
          848.6464646464647,
          954.7272727272727,
          1060.8080808080808,
          1166.888888888889,
          1272.969696969697,
          1379.050505050505,
          1485.1313131313132,
          1591.2121212121212,
          1697.2929292929293,
          1803.3737373737374,
          1909.4545454545455,
          2015.5353535353536,
          2121.6161616161617,
          2227.69696969697,
          2333.777777777778,
          2439.8585858585857,
          2545.939393939394,
          2652.0202020202023,
          2758.10101010101,
          2864.181818181818,
          2970.2626262626263,
          3076.3434343434346,
          3182.4242424242425,
          3288.5050505050503,
          3394.5858585858587,
          3500.666666666667,
          3606.747474747475,
          3712.8282828282827,
          3818.909090909091,
          3924.9898989898993,
          4031.070707070707,
          4137.151515151515,
          4243.232323232323,
          4349.313131313132,
          4455.39393939394,
          4561.474747474747,
          4667.555555555556,
          4773.636363636364,
          4879.717171717171,
          4985.79797979798,
          5091.878787878788,
          5197.959595959596,
          5304.040404040405,
          5410.121212121212,
          5516.20202020202,
          5622.282828282829,
          5728.363636363636,
          5834.444444444444,
          5940.525252525253,
          6046.606060606061,
          6152.686868686869,
          6258.767676767677,
          6364.848484848485,
          6470.929292929293,
          6577.010101010101,
          6683.090909090909,
          6789.171717171717,
          6895.252525252526,
          7001.333333333334,
          7107.414141414141,
          7213.49494949495,
          7319.575757575758,
          7425.656565656565,
          7531.737373737374,
          7637.818181818182,
          7743.89898989899,
          7849.979797979799,
          7956.060606060606,
          8062.141414141414,
          8168.222222222223,
          8274.30303030303,
          8380.38383838384,
          8486.464646464647,
          8592.545454545454,
          8698.626262626263,
          8804.70707070707,
          8910.78787878788,
          9016.868686868687,
          9122.949494949495,
          9229.030303030304,
          9335.111111111111,
          9441.191919191919,
          9547.272727272728,
          9653.353535353535,
          9759.434343434343,
          9865.515151515152,
          9971.59595959596,
          10077.676767676769,
          10183.757575757576,
          10289.838383838383,
          10395.919191919193,
          10502.0
         ],
         "xaxis": "x",
         "y": [
          354.8542307674172,
          444.64003343619584,
          534.4258361049745,
          624.2116387737531,
          713.9974414425317,
          803.7832441113103,
          893.569046780089,
          983.3548494488676,
          1073.1406521176464,
          1162.926454786425,
          1252.7122574552036,
          1342.4980601239822,
          1432.2838627927608,
          1522.0696654615394,
          1611.855468130318,
          1701.6412707990967,
          1791.4270734678753,
          1881.212876136654,
          1970.9986788054325,
          2060.784481474211,
          2150.5702841429897,
          2240.3560868117684,
          2330.141889480547,
          2419.9276921493256,
          2509.7134948181047,
          2599.499297486883,
          2689.285100155662,
          2779.07090282444,
          2868.856705493219,
          2958.6425081619973,
          3048.4283108307764,
          3138.2141134995545,
          3227.9999161683336,
          3317.7857188371117,
          3407.571521505891,
          3497.357324174669,
          3587.143126843448,
          3676.928929512226,
          3766.7147321810053,
          3856.5005348497834,
          3946.2863375185625,
          4036.0721401873416,
          4125.85794285612,
          4215.643745524898,
          4305.429548193677,
          4395.215350862456,
          4485.001153531233,
          4574.786956200012,
          4664.572758868791,
          4754.35856153757,
          4844.144364206349,
          4933.930166875127,
          5023.715969543906,
          5113.501772212684,
          5203.287574881462,
          5293.073377550241,
          5382.85918021902,
          5472.6449828877985,
          5562.430785556578,
          5652.216588225356,
          5742.002390894135,
          5831.788193562914,
          5921.573996231691,
          6011.35979890047,
          6101.145601569249,
          6190.931404238028,
          6280.7172069068065,
          6370.503009575585,
          6460.288812244364,
          6550.074614913143,
          6639.860417581921,
          6729.646220250699,
          6819.432022919478,
          6909.217825588257,
          6999.003628257035,
          7088.789430925814,
          7178.575233594593,
          7268.361036263372,
          7358.14683893215,
          7447.932641600929,
          7537.718444269707,
          7627.504246938485,
          7717.290049607265,
          7807.0758522760425,
          7896.8616549448225,
          7986.647457613601,
          8076.433260282379,
          8166.219062951158,
          8256.004865619936,
          8345.790668288715,
          8435.576470957494,
          8525.362273626273,
          8615.14807629505,
          8704.93387896383,
          8794.719681632609,
          8884.505484301388,
          8974.291286970167,
          9064.077089638944,
          9153.862892307723,
          9243.648694976502
         ],
         "yaxis": "y"
        }
       ],
       "layout": {
        "annotations": [
         {
          "align": "right",
          "font": {
           "color": "pink",
           "size": 12
          },
          "showarrow": false,
          "text": "y = x",
          "x": 11027.1,
          "y": 11027.1
         },
         {
          "align": "right",
          "font": {
           "color": "black",
           "size": 12
          },
          "showarrow": false,
          "text": "r^2 = 0.56",
          "x": 11027.1,
          "y": 9705.831129725328
         }
        ],
        "height": 600,
        "legend": {
         "tracegroupgap": 0
        },
        "margin": {
         "b": 100,
         "l": 100,
         "r": 100,
         "t": 100
        },
        "shapes": [
         {
          "line": {
           "color": "Red",
           "dash": "dash",
           "width": 2
          },
          "type": "line",
          "x0": 0,
          "x1": 10502,
          "y0": 0,
          "y1": 10502
         }
        ],
        "template": {
         "data": {
          "bar": [
           {
            "error_x": {
             "color": "rgb(36,36,36)"
            },
            "error_y": {
             "color": "rgb(36,36,36)"
            },
            "marker": {
             "line": {
              "color": "white",
              "width": 0.5
             },
             "pattern": {
              "fillmode": "overlay",
              "size": 10,
              "solidity": 0.2
             }
            },
            "type": "bar"
           }
          ],
          "barpolar": [
           {
            "marker": {
             "line": {
              "color": "white",
              "width": 0.5
             },
             "pattern": {
              "fillmode": "overlay",
              "size": 10,
              "solidity": 0.2
             }
            },
            "type": "barpolar"
           }
          ],
          "carpet": [
           {
            "aaxis": {
             "endlinecolor": "rgb(36,36,36)",
             "gridcolor": "white",
             "linecolor": "white",
             "minorgridcolor": "white",
             "startlinecolor": "rgb(36,36,36)"
            },
            "baxis": {
             "endlinecolor": "rgb(36,36,36)",
             "gridcolor": "white",
             "linecolor": "white",
             "minorgridcolor": "white",
             "startlinecolor": "rgb(36,36,36)"
            },
            "type": "carpet"
           }
          ],
          "choropleth": [
           {
            "colorbar": {
             "outlinewidth": 1,
             "tickcolor": "rgb(36,36,36)",
             "ticks": "outside"
            },
            "type": "choropleth"
           }
          ],
          "contour": [
           {
            "colorbar": {
             "outlinewidth": 1,
             "tickcolor": "rgb(36,36,36)",
             "ticks": "outside"
            },
            "colorscale": [
             [
              0.0,
              "#440154"
             ],
             [
              0.1111111111111111,
              "#482878"
             ],
             [
              0.2222222222222222,
              "#3e4989"
             ],
             [
              0.3333333333333333,
              "#31688e"
             ],
             [
              0.4444444444444444,
              "#26828e"
             ],
             [
              0.5555555555555556,
              "#1f9e89"
             ],
             [
              0.6666666666666666,
              "#35b779"
             ],
             [
              0.7777777777777778,
              "#6ece58"
             ],
             [
              0.8888888888888888,
              "#b5de2b"
             ],
             [
              1.0,
              "#fde725"
             ]
            ],
            "type": "contour"
           }
          ],
          "contourcarpet": [
           {
            "colorbar": {
             "outlinewidth": 1,
             "tickcolor": "rgb(36,36,36)",
             "ticks": "outside"
            },
            "type": "contourcarpet"
           }
          ],
          "heatmap": [
           {
            "colorbar": {
             "outlinewidth": 1,
             "tickcolor": "rgb(36,36,36)",
             "ticks": "outside"
            },
            "colorscale": [
             [
              0.0,
              "#440154"
             ],
             [
              0.1111111111111111,
              "#482878"
             ],
             [
              0.2222222222222222,
              "#3e4989"
             ],
             [
              0.3333333333333333,
              "#31688e"
             ],
             [
              0.4444444444444444,
              "#26828e"
             ],
             [
              0.5555555555555556,
              "#1f9e89"
             ],
             [
              0.6666666666666666,
              "#35b779"
             ],
             [
              0.7777777777777778,
              "#6ece58"
             ],
             [
              0.8888888888888888,
              "#b5de2b"
             ],
             [
              1.0,
              "#fde725"
             ]
            ],
            "type": "heatmap"
           }
          ],
          "heatmapgl": [
           {
            "colorbar": {
             "outlinewidth": 1,
             "tickcolor": "rgb(36,36,36)",
             "ticks": "outside"
            },
            "colorscale": [
             [
              0.0,
              "#440154"
             ],
             [
              0.1111111111111111,
              "#482878"
             ],
             [
              0.2222222222222222,
              "#3e4989"
             ],
             [
              0.3333333333333333,
              "#31688e"
             ],
             [
              0.4444444444444444,
              "#26828e"
             ],
             [
              0.5555555555555556,
              "#1f9e89"
             ],
             [
              0.6666666666666666,
              "#35b779"
             ],
             [
              0.7777777777777778,
              "#6ece58"
             ],
             [
              0.8888888888888888,
              "#b5de2b"
             ],
             [
              1.0,
              "#fde725"
             ]
            ],
            "type": "heatmapgl"
           }
          ],
          "histogram": [
           {
            "marker": {
             "line": {
              "color": "white",
              "width": 0.6
             }
            },
            "type": "histogram"
           }
          ],
          "histogram2d": [
           {
            "colorbar": {
             "outlinewidth": 1,
             "tickcolor": "rgb(36,36,36)",
             "ticks": "outside"
            },
            "colorscale": [
             [
              0.0,
              "#440154"
             ],
             [
              0.1111111111111111,
              "#482878"
             ],
             [
              0.2222222222222222,
              "#3e4989"
             ],
             [
              0.3333333333333333,
              "#31688e"
             ],
             [
              0.4444444444444444,
              "#26828e"
             ],
             [
              0.5555555555555556,
              "#1f9e89"
             ],
             [
              0.6666666666666666,
              "#35b779"
             ],
             [
              0.7777777777777778,
              "#6ece58"
             ],
             [
              0.8888888888888888,
              "#b5de2b"
             ],
             [
              1.0,
              "#fde725"
             ]
            ],
            "type": "histogram2d"
           }
          ],
          "histogram2dcontour": [
           {
            "colorbar": {
             "outlinewidth": 1,
             "tickcolor": "rgb(36,36,36)",
             "ticks": "outside"
            },
            "colorscale": [
             [
              0.0,
              "#440154"
             ],
             [
              0.1111111111111111,
              "#482878"
             ],
             [
              0.2222222222222222,
              "#3e4989"
             ],
             [
              0.3333333333333333,
              "#31688e"
             ],
             [
              0.4444444444444444,
              "#26828e"
             ],
             [
              0.5555555555555556,
              "#1f9e89"
             ],
             [
              0.6666666666666666,
              "#35b779"
             ],
             [
              0.7777777777777778,
              "#6ece58"
             ],
             [
              0.8888888888888888,
              "#b5de2b"
             ],
             [
              1.0,
              "#fde725"
             ]
            ],
            "type": "histogram2dcontour"
           }
          ],
          "mesh3d": [
           {
            "colorbar": {
             "outlinewidth": 1,
             "tickcolor": "rgb(36,36,36)",
             "ticks": "outside"
            },
            "type": "mesh3d"
           }
          ],
          "parcoords": [
           {
            "line": {
             "colorbar": {
              "outlinewidth": 1,
              "tickcolor": "rgb(36,36,36)",
              "ticks": "outside"
             }
            },
            "type": "parcoords"
           }
          ],
          "pie": [
           {
            "automargin": true,
            "type": "pie"
           }
          ],
          "scatter": [
           {
            "fillpattern": {
             "fillmode": "overlay",
             "size": 10,
             "solidity": 0.2
            },
            "type": "scatter"
           }
          ],
          "scatter3d": [
           {
            "line": {
             "colorbar": {
              "outlinewidth": 1,
              "tickcolor": "rgb(36,36,36)",
              "ticks": "outside"
             }
            },
            "marker": {
             "colorbar": {
              "outlinewidth": 1,
              "tickcolor": "rgb(36,36,36)",
              "ticks": "outside"
             }
            },
            "type": "scatter3d"
           }
          ],
          "scattercarpet": [
           {
            "marker": {
             "colorbar": {
              "outlinewidth": 1,
              "tickcolor": "rgb(36,36,36)",
              "ticks": "outside"
             }
            },
            "type": "scattercarpet"
           }
          ],
          "scattergeo": [
           {
            "marker": {
             "colorbar": {
              "outlinewidth": 1,
              "tickcolor": "rgb(36,36,36)",
              "ticks": "outside"
             }
            },
            "type": "scattergeo"
           }
          ],
          "scattergl": [
           {
            "marker": {
             "colorbar": {
              "outlinewidth": 1,
              "tickcolor": "rgb(36,36,36)",
              "ticks": "outside"
             }
            },
            "type": "scattergl"
           }
          ],
          "scattermapbox": [
           {
            "marker": {
             "colorbar": {
              "outlinewidth": 1,
              "tickcolor": "rgb(36,36,36)",
              "ticks": "outside"
             }
            },
            "type": "scattermapbox"
           }
          ],
          "scatterpolar": [
           {
            "marker": {
             "colorbar": {
              "outlinewidth": 1,
              "tickcolor": "rgb(36,36,36)",
              "ticks": "outside"
             }
            },
            "type": "scatterpolar"
           }
          ],
          "scatterpolargl": [
           {
            "marker": {
             "colorbar": {
              "outlinewidth": 1,
              "tickcolor": "rgb(36,36,36)",
              "ticks": "outside"
             }
            },
            "type": "scatterpolargl"
           }
          ],
          "scatterternary": [
           {
            "marker": {
             "colorbar": {
              "outlinewidth": 1,
              "tickcolor": "rgb(36,36,36)",
              "ticks": "outside"
             }
            },
            "type": "scatterternary"
           }
          ],
          "surface": [
           {
            "colorbar": {
             "outlinewidth": 1,
             "tickcolor": "rgb(36,36,36)",
             "ticks": "outside"
            },
            "colorscale": [
             [
              0.0,
              "#440154"
             ],
             [
              0.1111111111111111,
              "#482878"
             ],
             [
              0.2222222222222222,
              "#3e4989"
             ],
             [
              0.3333333333333333,
              "#31688e"
             ],
             [
              0.4444444444444444,
              "#26828e"
             ],
             [
              0.5555555555555556,
              "#1f9e89"
             ],
             [
              0.6666666666666666,
              "#35b779"
             ],
             [
              0.7777777777777778,
              "#6ece58"
             ],
             [
              0.8888888888888888,
              "#b5de2b"
             ],
             [
              1.0,
              "#fde725"
             ]
            ],
            "type": "surface"
           }
          ],
          "table": [
           {
            "cells": {
             "fill": {
              "color": "rgb(237,237,237)"
             },
             "line": {
              "color": "white"
             }
            },
            "header": {
             "fill": {
              "color": "rgb(217,217,217)"
             },
             "line": {
              "color": "white"
             }
            },
            "type": "table"
           }
          ]
         },
         "layout": {
          "annotationdefaults": {
           "arrowhead": 0,
           "arrowwidth": 1
          },
          "autotypenumbers": "strict",
          "coloraxis": {
           "colorbar": {
            "outlinewidth": 1,
            "tickcolor": "rgb(36,36,36)",
            "ticks": "outside"
           }
          },
          "colorscale": {
           "diverging": [
            [
             0.0,
             "rgb(103,0,31)"
            ],
            [
             0.1,
             "rgb(178,24,43)"
            ],
            [
             0.2,
             "rgb(214,96,77)"
            ],
            [
             0.3,
             "rgb(244,165,130)"
            ],
            [
             0.4,
             "rgb(253,219,199)"
            ],
            [
             0.5,
             "rgb(247,247,247)"
            ],
            [
             0.6,
             "rgb(209,229,240)"
            ],
            [
             0.7,
             "rgb(146,197,222)"
            ],
            [
             0.8,
             "rgb(67,147,195)"
            ],
            [
             0.9,
             "rgb(33,102,172)"
            ],
            [
             1.0,
             "rgb(5,48,97)"
            ]
           ],
           "sequential": [
            [
             0.0,
             "#440154"
            ],
            [
             0.1111111111111111,
             "#482878"
            ],
            [
             0.2222222222222222,
             "#3e4989"
            ],
            [
             0.3333333333333333,
             "#31688e"
            ],
            [
             0.4444444444444444,
             "#26828e"
            ],
            [
             0.5555555555555556,
             "#1f9e89"
            ],
            [
             0.6666666666666666,
             "#35b779"
            ],
            [
             0.7777777777777778,
             "#6ece58"
            ],
            [
             0.8888888888888888,
             "#b5de2b"
            ],
            [
             1.0,
             "#fde725"
            ]
           ],
           "sequentialminus": [
            [
             0.0,
             "#440154"
            ],
            [
             0.1111111111111111,
             "#482878"
            ],
            [
             0.2222222222222222,
             "#3e4989"
            ],
            [
             0.3333333333333333,
             "#31688e"
            ],
            [
             0.4444444444444444,
             "#26828e"
            ],
            [
             0.5555555555555556,
             "#1f9e89"
            ],
            [
             0.6666666666666666,
             "#35b779"
            ],
            [
             0.7777777777777778,
             "#6ece58"
            ],
            [
             0.8888888888888888,
             "#b5de2b"
            ],
            [
             1.0,
             "#fde725"
            ]
           ]
          },
          "colorway": [
           "#91268F",
           "#8CC63E",
           "#00A7A0",
           "#F05A28",
           "#4C4C4C",
           "#630460",
           "#9f3913",
           "#588527",
           "#00716c",
           "#3e4040"
          ],
          "font": {
           "color": "rgb(36,36,36)",
           "family": "Poppins",
           "size": 11
          },
          "geo": {
           "bgcolor": "white",
           "lakecolor": "white",
           "landcolor": "white",
           "showlakes": true,
           "showland": true,
           "subunitcolor": "white"
          },
          "hoverlabel": {
           "align": "left"
          },
          "hovermode": "closest",
          "mapbox": {
           "style": "light"
          },
          "paper_bgcolor": "white",
          "plot_bgcolor": "white",
          "polar": {
           "angularaxis": {
            "gridcolor": "rgb(232,232,232)",
            "linecolor": "rgb(36,36,36)",
            "showgrid": false,
            "showline": true,
            "ticks": "outside"
           },
           "bgcolor": "white",
           "radialaxis": {
            "gridcolor": "rgb(232,232,232)",
            "linecolor": "rgb(36,36,36)",
            "showgrid": false,
            "showline": true,
            "ticks": "outside"
           }
          },
          "scene": {
           "xaxis": {
            "backgroundcolor": "white",
            "gridcolor": "rgb(232,232,232)",
            "gridwidth": 2,
            "linecolor": "rgb(36,36,36)",
            "showbackground": true,
            "showgrid": false,
            "showline": true,
            "ticks": "outside",
            "zeroline": false,
            "zerolinecolor": "rgb(36,36,36)"
           },
           "yaxis": {
            "backgroundcolor": "white",
            "gridcolor": "rgb(232,232,232)",
            "gridwidth": 2,
            "linecolor": "rgb(36,36,36)",
            "showbackground": true,
            "showgrid": false,
            "showline": true,
            "ticks": "outside",
            "zeroline": false,
            "zerolinecolor": "rgb(36,36,36)"
           },
           "zaxis": {
            "backgroundcolor": "white",
            "gridcolor": "rgb(232,232,232)",
            "gridwidth": 2,
            "linecolor": "rgb(36,36,36)",
            "showbackground": true,
            "showgrid": false,
            "showline": true,
            "ticks": "outside",
            "zeroline": false,
            "zerolinecolor": "rgb(36,36,36)"
           }
          },
          "shapedefaults": {
           "fillcolor": "black",
           "line": {
            "width": 0
           },
           "opacity": 0.3
          },
          "ternary": {
           "aaxis": {
            "gridcolor": "rgb(232,232,232)",
            "linecolor": "rgb(36,36,36)",
            "showgrid": false,
            "showline": true,
            "ticks": "outside"
           },
           "baxis": {
            "gridcolor": "rgb(232,232,232)",
            "linecolor": "rgb(36,36,36)",
            "showgrid": false,
            "showline": true,
            "ticks": "outside"
           },
           "bgcolor": "white",
           "caxis": {
            "gridcolor": "rgb(232,232,232)",
            "linecolor": "rgb(36,36,36)",
            "showgrid": false,
            "showline": true,
            "ticks": "outside"
           }
          },
          "title": {
           "x": 0.05
          },
          "xaxis": {
           "automargin": true,
           "gridcolor": "rgb(232,232,232)",
           "linecolor": "rgb(36,36,36)",
           "showgrid": false,
           "showline": true,
           "ticks": "outside",
           "title": {
            "standoff": 15
           },
           "zeroline": false,
           "zerolinecolor": "rgb(36,36,36)"
          },
          "yaxis": {
           "automargin": true,
           "gridcolor": "rgb(232,232,232)",
           "linecolor": "rgb(36,36,36)",
           "showgrid": false,
           "showline": true,
           "ticks": "outside",
           "title": {
            "standoff": 15
           },
           "zeroline": false,
           "zerolinecolor": "rgb(36,36,36)"
          }
         }
        },
        "title": {
         "text": "Heavy Trucks: King"
        },
        "width": 800,
        "xaxis": {
         "anchor": "y",
         "domain": [
          0.0,
          1.0
         ],
         "title": {
          "text": "Observed"
         }
        },
        "yaxis": {
         "anchor": "x",
         "domain": [
          0.0,
          1.0
         ],
         "title": {
          "text": "Model"
         }
        }
       }
      },
      "text/html": [
       "<div>                            <div id=\"50df201a-4755-4e71-bfe0-6a4f97266077\" class=\"plotly-graph-div\" style=\"height:600px; width:800px;\"></div>            <script type=\"text/javascript\">                require([\"plotly\"], function(Plotly) {                    window.PLOTLYENV=window.PLOTLYENV || {};                                    if (document.getElementById(\"50df201a-4755-4e71-bfe0-6a4f97266077\")) {                    Plotly.newPlot(                        \"50df201a-4755-4e71-bfe0-6a4f97266077\",                        [{\"customdata\":[[\"I-5 S\\u002fO 205th NB\",\"King\"],[\"I-5 S\\u002fO 205th SB\",\"King\"],[\"I-5 Rev N\\u002fO I-5 GP NB\\u002fSB\",\"King\"],[\"I-90 E\\u002fO I-5 WB\",\"King\"],[\"I-90 E\\u002fO I-5 EB\",\"King\"],[\"I-90 E\\u002fO W Lk Sam WB\",\"King\"],[\"I-90 E\\u002fO W Lk Sam EB\",\"King\"],[\"I-90 E\\u002fO SR-900 WB\",\"King\"],[\"I-405 @ I-5 Southcenter NB\",\"King\"],[\"I-405 @ I-5 Southcenter SB\",\"King\"],[\"I-405 @ Lake Wash Blvd NB\",\"King\"],[\"I-405 @ I-90 NB\",\"King\"],[\"I-405 @ I-90 SB\",\"King\"],[\"SR-520 @ x-lake bridge WB\",\"King\"],[\"SR-520 @ x-lake bridge EB\",\"King\"],[\"SR-167 S\\u002fO 43rd NB\",\"King\"],[\"SR-167 S\\u002fO 43rd SB\",\"King\"],[\"SR-167 N\\u002fO SR-18 NB\",\"King\"],[\"SR-167 N\\u002fO SR-18 SB\",\"King\"],[\"SR-167 S\\u002fO 15th SW NB\",\"King\"],[\"SR-167 S\\u002fO 15th SW SB\",\"King\"],[\"SR-509 @ Holden NB\",\"King\"],[\"SR-509 @ Holden SB\",\"King\"],[\"SR-99 N\\u002fO 14th NB\",\"King\"],[\"SR-99 N\\u002fO 14th SB\",\"King\"],[\"SR-99 N\\u002fO WSF NB\",\"King\"],[\"SR-99 N\\u002fO WSF SB\",\"King\"],[\"SR-99 tunnel NB\",\"King\"],[\"SR-99 tunnel SB\",\"King\"],[\"SR-599 S\\u002fO Pacific NB\",\"King\"],[\"SR-599 S\\u002fO Pacific SB\",\"King\"],[\"SR-599 @ Pacific NB\",\"King\"],[\"SR-599 @ Pacific SB\",\"King\"],[\"SR-18 @ I-5 WB\",\"King\"],[\"SR-18 @ I-5 EB\",\"King\"],[\"SR-18 W\\u002fO Auburn-Black Diamond WB\",\"King\"],[\"SR-18 W\\u002fO Auburn-Black Diamond EB\",\"King\"],[\"SR-18 E\\u002fO SR-516 WB\",\"King\"],[\"SR-18 E\\u002fO SR-516 EB\",\"King\"],[\"SR-18 E\\u002fO 256th WB\",\"King\"],[\"SR-18 E\\u002fO 256th EB\",\"King\"],[\"SR-522 N\\u002fO 195th WB\",\"King\"],[\"SR-522 N\\u002fO 195th EB\",\"King\"],[\"I-5 N\\u002fO I-5 Rev CBD NB\\u002fSB\",\"King\"],[\"I-90 W\\u002fO SR-18 WB\\u002fEB\",\"King\"],[\"I-90 E\\u002fO SR-18 WB\\u002fEB\",\"King\"],[\"I-90 E\\u002fO 436th WB\\u002fEB\",\"King\"],[\"I-90 @ Kittitas County WB\\u002fEB\",\"King\"],[\"I-405 N\\u002fO SR-522 NB\\u002fSB\",\"King\"],[\"SR-167 N\\u002fO Grady NB\\u002fSB\",\"King\"],[\"SR-410 E\\u002fO 244th WB\\u002fEB\",\"King\"],[\"SR-410 E\\u002fO Farman WB\\u002fEB\",\"King\"],[\"SR-410 @ Greenwater River WB\\u002fEB\",\"King\"],[\"SR-509 E\\u002fO 47th NB\\u002fSB\",\"King\"],[\"SR-509 E\\u002fO 21st NB\\u002fSB\",\"King\"],[\"SR-509 W\\u002fO SR-516 NB\\u002fSB\",\"King\"],[\"SR-509 W\\u002fO Des Moines Mem NB\\u002fSB\",\"King\"],[\"SR-509 E\\u002fO 1st Ave NB\\u002fSB\",\"King\"],[\"SR-509 E\\u002fO Des Moines Mem NB\\u002fSB\",\"King\"],[\"SR-509 @ SR-509 ramp overpass NB\\u002fSB\",\"King\"],[\"SR-509 N\\u002fO Des Moines Mem NB\\u002fSB\",\"King\"],[\"SR-509 N\\u002fO SR-518 NB\\u002fSB\",\"King\"],[\"SR-99 S\\u002fO SR-18 NB\\u002fSB\",\"King\"],[\"SR-99 N\\u002fO SR-18 NB\\u002fSB\",\"King\"],[\"SR-99 N\\u002fO 320th NB\\u002fSB\",\"King\"],[\"SR-99 N\\u002fO 188th NB\\u002fSB\",\"King\"],[\"SR-99 @ WSF NB\\u002fSB\",\"King\"],[\"SR-99 @ Aurora Bridge NB\\u002fSB\",\"King\"],[\"SR-99 N\\u002fO 38th NB\\u002fSB\",\"King\"],[\"SR-99 S\\u002fO Roosevelt NB\\u002fSB\",\"King\"],[\"SR-599 N\\u002fO I-5 NB\\u002fSB\",\"King\"],[\"SR-518 @ SR-509 WB\\u002fEB\",\"King\"],[\"SR-518 E\\u002fO SR-509 WB\\u002fEB\",\"King\"],[\"SR-18 E\\u002fO SR-99 WB\\u002fEB\",\"King\"],[\"SR-18 N\\u002fO 304th WB\\u002fEB\",\"King\"],[\"SR-18 S\\u002fO I-90 WB\\u002fEB\",\"King\"],[\"SR-202 @ SR-522 NB\\u002fSB\",\"King\"],[\"SR-202 N\\u002fO 145th NB\\u002fSB\",\"King\"],[\"SR-202 @ Sammamish River Br NB\\u002fSB\",\"King\"],[\"SR-202 S\\u002fO 144th NB\\u002fSB\",\"King\"],[\"SR-202 N\\u002fO Redmond Way NB\\u002fSB\",\"King\"],[\"SR-202 E\\u002fO 164th NB\\u002fSB\",\"King\"],[\"SR-202 E\\u002fO SR-520 NB\\u002fSB\",\"King\"],[\"SR-202 E\\u002fO E Lk Samm NB\\u002fSB\",\"King\"],[\"SR-202 E\\u002fO Sahalee NB\\u002fSB\",\"King\"],[\"SR-202 E\\u002fO 236th NB\\u002fSB\",\"King\"],[\"SR-202 S\\u002fO Ames Lake NB\\u002fSB\",\"King\"],[\"SR-202 S\\u002fO Duthie Hill NB\\u002fSB\",\"King\"],[\"SR-202 E\\u002fO SR-203 NB\\u002fSB\",\"King\"],[\"SR-202 N\\u002fO I-90 NB\\u002fSB\",\"King\"],[\"SR-522 N\\u002fO 145th NB\\u002fSB\",\"King\"],[\"SR-104 W\\u002fO 19th WB\\u002fEB\",\"King\"],[\"SR-516 E\\u002fO SR-509 WB\\u002fEB\",\"King\"],[\"SR-516 W\\u002fO I-5 WB\\u002fEB\",\"King\"],[\"SR-516 E\\u002fO Meeker WB\\u002fEB\",\"King\"],[\"SR-516 W\\u002fO SR-167 WB\\u002fEB\",\"King\"],[\"SR-516 E\\u002fO SR-167 WB\\u002fEB\",\"King\"],[\"SR-516 E\\u002fO SR-18 WB\\u002fEB\",\"King\"],[\"SR-900 S\\u002fO NB I-5 on-ramp @ Boe Acc WB\\u002fEB\",\"King\"],[\"SR-900 E\\u002fO 68th WB\\u002fEB\",\"King\"],[\"SR-900 @ I-405 WB\\u002fEB\",\"King\"],[\"SR-900 E\\u002fO 148th WB\\u002fEB\",\"King\"],[\"SR-900 N\\u002fO Talus WB\\u002fEB\",\"King\"],[\"SR-900 N\\u002fO Newport WB\\u002fEB\",\"King\"],[\"SR-2 E\\u002fO Skykomish WB\\u002fEB\",\"King\"],[\"SR-513 S\\u002fO 44th NB\\u002fSB\",\"King\"],[\"SR-169 N\\u002fO SR-164 NB\\u002fSB\",\"King\"],[\"SR-169 S\\u002fO Lawson NB\\u002fSB\",\"King\"],[\"SR-169 S\\u002fO 276th NB\\u002fSB\",\"King\"],[\"SR-169 N\\u002fO 280th NB\\u002fSB\",\"King\"],[\"SR-169 N\\u002fO 231st NB\\u002fSB\",\"King\"],[\"SR-169 N\\u002fO 232nd NB\\u002fSB\",\"King\"],[\"SR-169 W\\u002fO 140th NB\\u002fSB\",\"King\"],[\"SR-515 N\\u002fO SR-516 NB\\u002fSB\",\"King\"],[\"SR-515 N\\u002fO 108th NB\\u002fSB\",\"King\"],[\"SR-515 N\\u002fO Puget NB\\u002fSB\",\"King\"],[\"SR-181 N\\u002fO SR-516 NB\\u002fSB\",\"King\"],[\"SR-181 S\\u002fO James NB\\u002fSB\",\"King\"],[\"SR-181 N\\u002fO James NB\\u002fSB\",\"King\"],[\"SR-181 N\\u002fO 228th NB\\u002fSB\",\"King\"],[\"SR-181 N\\u002fO 180th NB\\u002fSB\",\"King\"],[\"SR-181 S\\u002fO Longacres NB\\u002fSB\",\"King\"],[\"SR-523 E\\u002fO Lenora WB\\u002fEB\",\"King\"],[\"SR-164 @ SR-18 WB\\u002fEB\",\"King\"],[\"SR-164 S\\u002fO 400th WB\\u002fEB\",\"King\"],[\"SR-203 N\\u002fO Cherry Valley NB\\u002fSB\",\"King\"],[\"SR-203 N\\u002fO 124th NB\\u002fSB\",\"King\"],[\"SR-203 W\\u002fO Stillwater Hill NB\\u002fSB\",\"King\"],[\"SR-203 N\\u002fO Carnation Farm NB\\u002fSB\",\"King\"],[\"SR-203 N\\u002fO Tolt Hill NB\\u002fSB\",\"King\"],[\"SR-203 N\\u002fO SR-202 NB\\u002fSB\",\"King\"],[\"SR-519 W\\u002fO 4th NB\\u002fSB\",\"King\"]],\"hovertemplate\":\"Observed=%{x}\\u003cbr\\u003eModel=%{y}\\u003cbr\\u003elocation=%{customdata[0]}\\u003cbr\\u003eCounty=%{customdata[1]}\\u003cextra\\u003e\\u003c\\u002fextra\\u003e\",\"legendgroup\":\"\",\"marker\":{\"color\":\"#91268F\",\"symbol\":\"circle\"},\"mode\":\"markers\",\"name\":\"\",\"orientation\":\"v\",\"showlegend\":false,\"x\":[2322,2482,764,901,830,1933,1905,2505,855,1392,2142,321,258,137,138,2142,2289,2264,2273,3621,3308,938,942,1170,868,173,157,144,131,1302,1091,1389,920,945,1721,2401,2292,2108,2077,2714,2654,764,823,2893,3334,10502,6332,6539,2933,308,508,797,31,19,68,60,10,32,86,120,210,372,1242,280,288,174,222,146,108,141,2754,246,336,1417,5817,3461,265,83,76,321,54,146,477,307,420,378,300,318,284,110,167,76,80,540,375,960,288,351,396,84,208,76,242,84,126,56,224,440,304,231,850,1035,1248,100,96,141,957,897,899,1050,999,918,84,297,198,340,364,315,284,330,332,638],\"xaxis\":\"x\",\"y\":[5259,5489,3995,1132,1246,1254,1292,1316,215,1700,4435,4331,4009,62,57,3655,3865,4881,5103,4179,4102,210,298,1361,889,174,206,79,73,1500,1039,1443,1000,1529,594,1746,1691,1781,1730,1811,1753,1826,1751,8027,2916,5923,6039,5173,4125,691,34,94,94,0,20,37,12,13,13,117,248,443,2463,81,137,227,209,177,21,33,2889,489,509,2683,3358,3898,19,18,5,24,36,39,1319,11,1,35,35,28,278,313,122,41,33,405,1998,2455,1731,68,1230,99,185,55,133,127,64,0,0,56,73,73,102,195,200,6,17,35,1010,1007,1095,2124,1492,1506,38,252,116,529,484,493,493,493,493,993],\"yaxis\":\"y\",\"type\":\"scatter\",\"line\":{\"color\":\"Grey\",\"width\":2}},{\"hovertemplate\":\"Observed=%{x}\\u003cbr\\u003eModel=%{y}\\u003cextra\\u003e\\u003c\\u002fextra\\u003e\",\"legendgroup\":\"\",\"line\":{\"color\":\"Grey\",\"dash\":\"solid\",\"width\":2},\"marker\":{\"symbol\":\"circle\"},\"mode\":\"lines\",\"name\":\"\",\"orientation\":\"v\",\"showlegend\":false,\"x\":[0.0,106.08080808080808,212.16161616161617,318.24242424242425,424.32323232323233,530.4040404040404,636.4848484848485,742.5656565656566,848.6464646464647,954.7272727272727,1060.8080808080808,1166.888888888889,1272.969696969697,1379.050505050505,1485.1313131313132,1591.2121212121212,1697.2929292929293,1803.3737373737374,1909.4545454545455,2015.5353535353536,2121.6161616161617,2227.69696969697,2333.777777777778,2439.8585858585857,2545.939393939394,2652.0202020202023,2758.10101010101,2864.181818181818,2970.2626262626263,3076.3434343434346,3182.4242424242425,3288.5050505050503,3394.5858585858587,3500.666666666667,3606.747474747475,3712.8282828282827,3818.909090909091,3924.9898989898993,4031.070707070707,4137.151515151515,4243.232323232323,4349.313131313132,4455.39393939394,4561.474747474747,4667.555555555556,4773.636363636364,4879.717171717171,4985.79797979798,5091.878787878788,5197.959595959596,5304.040404040405,5410.121212121212,5516.20202020202,5622.282828282829,5728.363636363636,5834.444444444444,5940.525252525253,6046.606060606061,6152.686868686869,6258.767676767677,6364.848484848485,6470.929292929293,6577.010101010101,6683.090909090909,6789.171717171717,6895.252525252526,7001.333333333334,7107.414141414141,7213.49494949495,7319.575757575758,7425.656565656565,7531.737373737374,7637.818181818182,7743.89898989899,7849.979797979799,7956.060606060606,8062.141414141414,8168.222222222223,8274.30303030303,8380.38383838384,8486.464646464647,8592.545454545454,8698.626262626263,8804.70707070707,8910.78787878788,9016.868686868687,9122.949494949495,9229.030303030304,9335.111111111111,9441.191919191919,9547.272727272728,9653.353535353535,9759.434343434343,9865.515151515152,9971.59595959596,10077.676767676769,10183.757575757576,10289.838383838383,10395.919191919193,10502.0],\"xaxis\":\"x\",\"y\":[354.8542307674172,444.64003343619584,534.4258361049745,624.2116387737531,713.9974414425317,803.7832441113103,893.569046780089,983.3548494488676,1073.1406521176464,1162.926454786425,1252.7122574552036,1342.4980601239822,1432.2838627927608,1522.0696654615394,1611.855468130318,1701.6412707990967,1791.4270734678753,1881.212876136654,1970.9986788054325,2060.784481474211,2150.5702841429897,2240.3560868117684,2330.141889480547,2419.9276921493256,2509.7134948181047,2599.499297486883,2689.285100155662,2779.07090282444,2868.856705493219,2958.6425081619973,3048.4283108307764,3138.2141134995545,3227.9999161683336,3317.7857188371117,3407.571521505891,3497.357324174669,3587.143126843448,3676.928929512226,3766.7147321810053,3856.5005348497834,3946.2863375185625,4036.0721401873416,4125.85794285612,4215.643745524898,4305.429548193677,4395.215350862456,4485.001153531233,4574.786956200012,4664.572758868791,4754.35856153757,4844.144364206349,4933.930166875127,5023.715969543906,5113.501772212684,5203.287574881462,5293.073377550241,5382.85918021902,5472.6449828877985,5562.430785556578,5652.216588225356,5742.002390894135,5831.788193562914,5921.573996231691,6011.35979890047,6101.145601569249,6190.931404238028,6280.7172069068065,6370.503009575585,6460.288812244364,6550.074614913143,6639.860417581921,6729.646220250699,6819.432022919478,6909.217825588257,6999.003628257035,7088.789430925814,7178.575233594593,7268.361036263372,7358.14683893215,7447.932641600929,7537.718444269707,7627.504246938485,7717.290049607265,7807.0758522760425,7896.8616549448225,7986.647457613601,8076.433260282379,8166.219062951158,8256.004865619936,8345.790668288715,8435.576470957494,8525.362273626273,8615.14807629505,8704.93387896383,8794.719681632609,8884.505484301388,8974.291286970167,9064.077089638944,9153.862892307723,9243.648694976502],\"yaxis\":\"y\",\"type\":\"scatter\"}],                        {\"template\":{\"data\":{\"barpolar\":[{\"marker\":{\"line\":{\"color\":\"white\",\"width\":0.5},\"pattern\":{\"fillmode\":\"overlay\",\"size\":10,\"solidity\":0.2}},\"type\":\"barpolar\"}],\"bar\":[{\"error_x\":{\"color\":\"rgb(36,36,36)\"},\"error_y\":{\"color\":\"rgb(36,36,36)\"},\"marker\":{\"line\":{\"color\":\"white\",\"width\":0.5},\"pattern\":{\"fillmode\":\"overlay\",\"size\":10,\"solidity\":0.2}},\"type\":\"bar\"}],\"carpet\":[{\"aaxis\":{\"endlinecolor\":\"rgb(36,36,36)\",\"gridcolor\":\"white\",\"linecolor\":\"white\",\"minorgridcolor\":\"white\",\"startlinecolor\":\"rgb(36,36,36)\"},\"baxis\":{\"endlinecolor\":\"rgb(36,36,36)\",\"gridcolor\":\"white\",\"linecolor\":\"white\",\"minorgridcolor\":\"white\",\"startlinecolor\":\"rgb(36,36,36)\"},\"type\":\"carpet\"}],\"choropleth\":[{\"colorbar\":{\"outlinewidth\":1,\"tickcolor\":\"rgb(36,36,36)\",\"ticks\":\"outside\"},\"type\":\"choropleth\"}],\"contourcarpet\":[{\"colorbar\":{\"outlinewidth\":1,\"tickcolor\":\"rgb(36,36,36)\",\"ticks\":\"outside\"},\"type\":\"contourcarpet\"}],\"contour\":[{\"colorbar\":{\"outlinewidth\":1,\"tickcolor\":\"rgb(36,36,36)\",\"ticks\":\"outside\"},\"colorscale\":[[0.0,\"#440154\"],[0.1111111111111111,\"#482878\"],[0.2222222222222222,\"#3e4989\"],[0.3333333333333333,\"#31688e\"],[0.4444444444444444,\"#26828e\"],[0.5555555555555556,\"#1f9e89\"],[0.6666666666666666,\"#35b779\"],[0.7777777777777778,\"#6ece58\"],[0.8888888888888888,\"#b5de2b\"],[1.0,\"#fde725\"]],\"type\":\"contour\"}],\"heatmapgl\":[{\"colorbar\":{\"outlinewidth\":1,\"tickcolor\":\"rgb(36,36,36)\",\"ticks\":\"outside\"},\"colorscale\":[[0.0,\"#440154\"],[0.1111111111111111,\"#482878\"],[0.2222222222222222,\"#3e4989\"],[0.3333333333333333,\"#31688e\"],[0.4444444444444444,\"#26828e\"],[0.5555555555555556,\"#1f9e89\"],[0.6666666666666666,\"#35b779\"],[0.7777777777777778,\"#6ece58\"],[0.8888888888888888,\"#b5de2b\"],[1.0,\"#fde725\"]],\"type\":\"heatmapgl\"}],\"heatmap\":[{\"colorbar\":{\"outlinewidth\":1,\"tickcolor\":\"rgb(36,36,36)\",\"ticks\":\"outside\"},\"colorscale\":[[0.0,\"#440154\"],[0.1111111111111111,\"#482878\"],[0.2222222222222222,\"#3e4989\"],[0.3333333333333333,\"#31688e\"],[0.4444444444444444,\"#26828e\"],[0.5555555555555556,\"#1f9e89\"],[0.6666666666666666,\"#35b779\"],[0.7777777777777778,\"#6ece58\"],[0.8888888888888888,\"#b5de2b\"],[1.0,\"#fde725\"]],\"type\":\"heatmap\"}],\"histogram2dcontour\":[{\"colorbar\":{\"outlinewidth\":1,\"tickcolor\":\"rgb(36,36,36)\",\"ticks\":\"outside\"},\"colorscale\":[[0.0,\"#440154\"],[0.1111111111111111,\"#482878\"],[0.2222222222222222,\"#3e4989\"],[0.3333333333333333,\"#31688e\"],[0.4444444444444444,\"#26828e\"],[0.5555555555555556,\"#1f9e89\"],[0.6666666666666666,\"#35b779\"],[0.7777777777777778,\"#6ece58\"],[0.8888888888888888,\"#b5de2b\"],[1.0,\"#fde725\"]],\"type\":\"histogram2dcontour\"}],\"histogram2d\":[{\"colorbar\":{\"outlinewidth\":1,\"tickcolor\":\"rgb(36,36,36)\",\"ticks\":\"outside\"},\"colorscale\":[[0.0,\"#440154\"],[0.1111111111111111,\"#482878\"],[0.2222222222222222,\"#3e4989\"],[0.3333333333333333,\"#31688e\"],[0.4444444444444444,\"#26828e\"],[0.5555555555555556,\"#1f9e89\"],[0.6666666666666666,\"#35b779\"],[0.7777777777777778,\"#6ece58\"],[0.8888888888888888,\"#b5de2b\"],[1.0,\"#fde725\"]],\"type\":\"histogram2d\"}],\"histogram\":[{\"marker\":{\"line\":{\"color\":\"white\",\"width\":0.6}},\"type\":\"histogram\"}],\"mesh3d\":[{\"colorbar\":{\"outlinewidth\":1,\"tickcolor\":\"rgb(36,36,36)\",\"ticks\":\"outside\"},\"type\":\"mesh3d\"}],\"parcoords\":[{\"line\":{\"colorbar\":{\"outlinewidth\":1,\"tickcolor\":\"rgb(36,36,36)\",\"ticks\":\"outside\"}},\"type\":\"parcoords\"}],\"pie\":[{\"automargin\":true,\"type\":\"pie\"}],\"scatter3d\":[{\"line\":{\"colorbar\":{\"outlinewidth\":1,\"tickcolor\":\"rgb(36,36,36)\",\"ticks\":\"outside\"}},\"marker\":{\"colorbar\":{\"outlinewidth\":1,\"tickcolor\":\"rgb(36,36,36)\",\"ticks\":\"outside\"}},\"type\":\"scatter3d\"}],\"scattercarpet\":[{\"marker\":{\"colorbar\":{\"outlinewidth\":1,\"tickcolor\":\"rgb(36,36,36)\",\"ticks\":\"outside\"}},\"type\":\"scattercarpet\"}],\"scattergeo\":[{\"marker\":{\"colorbar\":{\"outlinewidth\":1,\"tickcolor\":\"rgb(36,36,36)\",\"ticks\":\"outside\"}},\"type\":\"scattergeo\"}],\"scattergl\":[{\"marker\":{\"colorbar\":{\"outlinewidth\":1,\"tickcolor\":\"rgb(36,36,36)\",\"ticks\":\"outside\"}},\"type\":\"scattergl\"}],\"scattermapbox\":[{\"marker\":{\"colorbar\":{\"outlinewidth\":1,\"tickcolor\":\"rgb(36,36,36)\",\"ticks\":\"outside\"}},\"type\":\"scattermapbox\"}],\"scatterpolargl\":[{\"marker\":{\"colorbar\":{\"outlinewidth\":1,\"tickcolor\":\"rgb(36,36,36)\",\"ticks\":\"outside\"}},\"type\":\"scatterpolargl\"}],\"scatterpolar\":[{\"marker\":{\"colorbar\":{\"outlinewidth\":1,\"tickcolor\":\"rgb(36,36,36)\",\"ticks\":\"outside\"}},\"type\":\"scatterpolar\"}],\"scatter\":[{\"fillpattern\":{\"fillmode\":\"overlay\",\"size\":10,\"solidity\":0.2},\"type\":\"scatter\"}],\"scatterternary\":[{\"marker\":{\"colorbar\":{\"outlinewidth\":1,\"tickcolor\":\"rgb(36,36,36)\",\"ticks\":\"outside\"}},\"type\":\"scatterternary\"}],\"surface\":[{\"colorbar\":{\"outlinewidth\":1,\"tickcolor\":\"rgb(36,36,36)\",\"ticks\":\"outside\"},\"colorscale\":[[0.0,\"#440154\"],[0.1111111111111111,\"#482878\"],[0.2222222222222222,\"#3e4989\"],[0.3333333333333333,\"#31688e\"],[0.4444444444444444,\"#26828e\"],[0.5555555555555556,\"#1f9e89\"],[0.6666666666666666,\"#35b779\"],[0.7777777777777778,\"#6ece58\"],[0.8888888888888888,\"#b5de2b\"],[1.0,\"#fde725\"]],\"type\":\"surface\"}],\"table\":[{\"cells\":{\"fill\":{\"color\":\"rgb(237,237,237)\"},\"line\":{\"color\":\"white\"}},\"header\":{\"fill\":{\"color\":\"rgb(217,217,217)\"},\"line\":{\"color\":\"white\"}},\"type\":\"table\"}]},\"layout\":{\"annotationdefaults\":{\"arrowhead\":0,\"arrowwidth\":1},\"autotypenumbers\":\"strict\",\"coloraxis\":{\"colorbar\":{\"outlinewidth\":1,\"tickcolor\":\"rgb(36,36,36)\",\"ticks\":\"outside\"}},\"colorscale\":{\"diverging\":[[0.0,\"rgb(103,0,31)\"],[0.1,\"rgb(178,24,43)\"],[0.2,\"rgb(214,96,77)\"],[0.3,\"rgb(244,165,130)\"],[0.4,\"rgb(253,219,199)\"],[0.5,\"rgb(247,247,247)\"],[0.6,\"rgb(209,229,240)\"],[0.7,\"rgb(146,197,222)\"],[0.8,\"rgb(67,147,195)\"],[0.9,\"rgb(33,102,172)\"],[1.0,\"rgb(5,48,97)\"]],\"sequential\":[[0.0,\"#440154\"],[0.1111111111111111,\"#482878\"],[0.2222222222222222,\"#3e4989\"],[0.3333333333333333,\"#31688e\"],[0.4444444444444444,\"#26828e\"],[0.5555555555555556,\"#1f9e89\"],[0.6666666666666666,\"#35b779\"],[0.7777777777777778,\"#6ece58\"],[0.8888888888888888,\"#b5de2b\"],[1.0,\"#fde725\"]],\"sequentialminus\":[[0.0,\"#440154\"],[0.1111111111111111,\"#482878\"],[0.2222222222222222,\"#3e4989\"],[0.3333333333333333,\"#31688e\"],[0.4444444444444444,\"#26828e\"],[0.5555555555555556,\"#1f9e89\"],[0.6666666666666666,\"#35b779\"],[0.7777777777777778,\"#6ece58\"],[0.8888888888888888,\"#b5de2b\"],[1.0,\"#fde725\"]]},\"colorway\":[\"#91268F\",\"#8CC63E\",\"#00A7A0\",\"#F05A28\",\"#4C4C4C\",\"#630460\",\"#9f3913\",\"#588527\",\"#00716c\",\"#3e4040\"],\"font\":{\"color\":\"rgb(36,36,36)\",\"family\":\"Poppins\",\"size\":11},\"geo\":{\"bgcolor\":\"white\",\"lakecolor\":\"white\",\"landcolor\":\"white\",\"showlakes\":true,\"showland\":true,\"subunitcolor\":\"white\"},\"hoverlabel\":{\"align\":\"left\"},\"hovermode\":\"closest\",\"mapbox\":{\"style\":\"light\"},\"paper_bgcolor\":\"white\",\"plot_bgcolor\":\"white\",\"polar\":{\"angularaxis\":{\"gridcolor\":\"rgb(232,232,232)\",\"linecolor\":\"rgb(36,36,36)\",\"showgrid\":false,\"showline\":true,\"ticks\":\"outside\"},\"bgcolor\":\"white\",\"radialaxis\":{\"gridcolor\":\"rgb(232,232,232)\",\"linecolor\":\"rgb(36,36,36)\",\"showgrid\":false,\"showline\":true,\"ticks\":\"outside\"}},\"scene\":{\"xaxis\":{\"backgroundcolor\":\"white\",\"gridcolor\":\"rgb(232,232,232)\",\"gridwidth\":2,\"linecolor\":\"rgb(36,36,36)\",\"showbackground\":true,\"showgrid\":false,\"showline\":true,\"ticks\":\"outside\",\"zeroline\":false,\"zerolinecolor\":\"rgb(36,36,36)\"},\"yaxis\":{\"backgroundcolor\":\"white\",\"gridcolor\":\"rgb(232,232,232)\",\"gridwidth\":2,\"linecolor\":\"rgb(36,36,36)\",\"showbackground\":true,\"showgrid\":false,\"showline\":true,\"ticks\":\"outside\",\"zeroline\":false,\"zerolinecolor\":\"rgb(36,36,36)\"},\"zaxis\":{\"backgroundcolor\":\"white\",\"gridcolor\":\"rgb(232,232,232)\",\"gridwidth\":2,\"linecolor\":\"rgb(36,36,36)\",\"showbackground\":true,\"showgrid\":false,\"showline\":true,\"ticks\":\"outside\",\"zeroline\":false,\"zerolinecolor\":\"rgb(36,36,36)\"}},\"shapedefaults\":{\"fillcolor\":\"black\",\"line\":{\"width\":0},\"opacity\":0.3},\"ternary\":{\"aaxis\":{\"gridcolor\":\"rgb(232,232,232)\",\"linecolor\":\"rgb(36,36,36)\",\"showgrid\":false,\"showline\":true,\"ticks\":\"outside\"},\"baxis\":{\"gridcolor\":\"rgb(232,232,232)\",\"linecolor\":\"rgb(36,36,36)\",\"showgrid\":false,\"showline\":true,\"ticks\":\"outside\"},\"bgcolor\":\"white\",\"caxis\":{\"gridcolor\":\"rgb(232,232,232)\",\"linecolor\":\"rgb(36,36,36)\",\"showgrid\":false,\"showline\":true,\"ticks\":\"outside\"}},\"title\":{\"x\":0.05},\"xaxis\":{\"automargin\":true,\"gridcolor\":\"rgb(232,232,232)\",\"linecolor\":\"rgb(36,36,36)\",\"showgrid\":false,\"showline\":true,\"ticks\":\"outside\",\"title\":{\"standoff\":15},\"zeroline\":false,\"zerolinecolor\":\"rgb(36,36,36)\"},\"yaxis\":{\"automargin\":true,\"gridcolor\":\"rgb(232,232,232)\",\"linecolor\":\"rgb(36,36,36)\",\"showgrid\":false,\"showline\":true,\"ticks\":\"outside\",\"title\":{\"standoff\":15},\"zeroline\":false,\"zerolinecolor\":\"rgb(36,36,36)\"}}},\"xaxis\":{\"anchor\":\"y\",\"domain\":[0.0,1.0],\"title\":{\"text\":\"Observed\"}},\"yaxis\":{\"anchor\":\"x\",\"domain\":[0.0,1.0],\"title\":{\"text\":\"Model\"}},\"legend\":{\"tracegroupgap\":0},\"title\":{\"text\":\"Heavy Trucks: King\"},\"margin\":{\"l\":100,\"r\":100,\"t\":100,\"b\":100},\"height\":600,\"width\":800,\"shapes\":[{\"line\":{\"color\":\"Red\",\"dash\":\"dash\",\"width\":2},\"type\":\"line\",\"x0\":0,\"x1\":10502,\"y0\":0,\"y1\":10502}],\"annotations\":[{\"align\":\"right\",\"font\":{\"color\":\"pink\",\"size\":12},\"showarrow\":false,\"text\":\"y = x\",\"x\":11027.1,\"y\":11027.1},{\"align\":\"right\",\"font\":{\"color\":\"black\",\"size\":12},\"showarrow\":false,\"text\":\"r^2 = 0.56\",\"x\":11027.1,\"y\":9705.831129725328}]},                        {\"responsive\": true}                    ).then(function(){\n",
       "                            \n",
       "var gd = document.getElementById('50df201a-4755-4e71-bfe0-6a4f97266077');\n",
       "var x = new MutationObserver(function (mutations, observer) {{\n",
       "        var display = window.getComputedStyle(gd).display;\n",
       "        if (!display || display === 'none') {{\n",
       "            console.log([gd, 'removed!']);\n",
       "            Plotly.purge(gd);\n",
       "            observer.disconnect();\n",
       "        }}\n",
       "}});\n",
       "\n",
       "// Listen for the removal of the full notebook cells\n",
       "var notebookContainer = gd.closest('#notebook-container');\n",
       "if (notebookContainer) {{\n",
       "    x.observe(notebookContainer, {childList: true});\n",
       "}}\n",
       "\n",
       "// Listen for the clearing of the current output cell\n",
       "var outputEl = gd.closest('.output');\n",
       "if (outputEl) {{\n",
       "    x.observe(outputEl, {childList: true});\n",
       "}}\n",
       "\n",
       "                        })                };                });            </script>        </div>"
      ]
     },
     "metadata": {},
     "output_type": "display_data"
    }
   ],
   "source": [
    "fig = create_truck_chart(df_daily_heavy, 'Heavy', 'King')\n",
    "fig.show()"
   ]
  },
  {
   "cell_type": "raw",
   "id": "d8920eeb",
   "metadata": {
    "vscode": {
     "languageId": "raw"
    }
   },
   "source": [
    "#### Kitsap"
   ]
  },
  {
   "cell_type": "code",
   "execution_count": 26,
   "id": "0c8e0f42",
   "metadata": {},
   "outputs": [
    {
     "data": {
      "application/vnd.plotly.v1+json": {
       "config": {
        "plotlyServerURL": "https://plot.ly"
       },
       "data": [
        {
         "customdata": [
          [
           "SR-16  N/O SR-302 NB/SB",
           "Kitsap"
          ],
          [
           "SR-16 N/O SR-160 NB/SB",
           "Kitsap"
          ],
          [
           "SR-16 N/O Tremont NB/SB",
           "Kitsap"
          ],
          [
           "SR-16 S/O SR-3 NB",
           "Kitsap"
          ],
          [
           "SR-104 @ Hood Canal Bridge WB/EB",
           "Kitsap"
          ],
          [
           "SR-104 E/O Hood Canal Bridge WB/EB",
           "Kitsap"
          ],
          [
           "SR-104 N/O Pt Gamble Rd WB/EB",
           "Kitsap"
          ],
          [
           "SR-104 E/O SR-307 WB/EB",
           "Kitsap"
          ],
          [
           "SR-104 E/O Hansville WB/EB",
           "Kitsap"
          ],
          [
           "SR-160 @ SR-16 WB/EB",
           "Kitsap"
          ],
          [
           "SR-160 E/O Long Lake Rd WB/EB",
           "Kitsap"
          ],
          [
           "SR-160 W/O Banner WB/EB",
           "Kitsap"
          ],
          [
           "SR-160 E/O Peterson WB/EB",
           "Kitsap"
          ],
          [
           "SR-160 S/O Southworth Dr WB/EB",
           "Kitsap"
          ],
          [
           "SR-166 E/O SR-16 WB/EB",
           "Kitsap"
          ],
          [
           "SR-3 E/O Sunset Way NB/SB",
           "Kitsap"
          ],
          [
           "SR-3 N/O SR-305 NB/SB",
           "Kitsap"
          ],
          [
           "SR-3 S/O Newberry Hill Rd NB/SB",
           "Kitsap"
          ],
          [
           "SR-3 @ SR-304 NB/SB",
           "Kitsap"
          ],
          [
           "SR-3 NE of SR-16 NB/SB",
           "Kitsap"
          ],
          [
           "SR-3 W/O Lake Flora Rd NB/SB",
           "Kitsap"
          ],
          [
           "SR-303 E/O SR-3 NB/SB",
           "Kitsap"
          ],
          [
           "SR-303 N/O 11th St NB/SB",
           "Kitsap"
          ],
          [
           "SR-303 N/O SR-304 NB/SB",
           "Kitsap"
          ],
          [
           "SR-304 E/O SR-3 WB/EB",
           "Kitsap"
          ],
          [
           "SR-304 W/O Naval WB/EB",
           "Kitsap"
          ],
          [
           "SR-305 W/O SR-307 WB/EB",
           "Kitsap"
          ],
          [
           "SR-305 W/O Suquamish Way WB/EB",
           "Kitsap"
          ],
          [
           "SR-305 N/O Day Rd WB/EB",
           "Kitsap"
          ],
          [
           "SR-305 N/O High School Rd WB/EB",
           "Kitsap"
          ],
          [
           "SR-305 S/O Winslow Way WB/EB",
           "Kitsap"
          ],
          [
           "SR-305 @ Ferry Ramp WB/EB",
           "Kitsap"
          ],
          [
           "SR-307 W/O SR-104 NB/SB",
           "Kitsap"
          ],
          [
           "SR-307 N/O Gunderson NB/SB",
           "Kitsap"
          ],
          [
           "SR-307 S/O Gunderson NB/SB",
           "Kitsap"
          ],
          [
           "SR-307 N/O SR-305 NB/SB",
           "Kitsap"
          ],
          [
           "SR-308 @ SR-3 WB/EB",
           "Kitsap"
          ],
          [
           "SR-308 E/O SR-3 WB/EB",
           "Kitsap"
          ],
          [
           "SR-308 E/O Silverdale Way WB/EB",
           "Kitsap"
          ],
          [
           "SR-308 W/O Brownsville Hwy WB/EB",
           "Kitsap"
          ],
          [
           "SR-310 @ SR-3 WB/EB",
           "Kitsap"
          ],
          [
           "SR-310 W/O Callow WB/EB",
           "Kitsap"
          ]
         ],
         "hovertemplate": "Observed=%{x}<br>Model=%{y}<br>location=%{customdata[0]}<br>County=%{customdata[1]}<extra></extra>",
         "legendgroup": "",
         "line": {
          "color": "Grey",
          "width": 2
         },
         "marker": {
          "color": "#91268F",
          "symbol": "circle"
         },
         "mode": "markers",
         "name": "",
         "orientation": "v",
         "showlegend": false,
         "type": "scatter",
         "x": [
          1558,
          1210,
          1364,
          1155,
          612,
          75,
          70,
          144,
          84,
          114,
          34,
          30,
          19,
          12,
          140,
          1020,
          1012,
          1159,
          988,
          1360,
          288,
          180,
          216,
          98,
          210,
          126,
          266,
          420,
          420,
          234,
          11,
          9,
          196,
          168,
          126,
          120,
          39,
          36,
          66,
          22,
          138,
          26
         ],
         "xaxis": "x",
         "y": [
          3839,
          3204,
          3166,
          1580,
          956,
          2,
          2,
          154,
          115,
          199,
          18,
          18,
          21,
          21,
          2,
          954,
          1169,
          2451,
          2898,
          3176,
          9,
          22,
          168,
          50,
          277,
          151,
          478,
          149,
          127,
          98,
          0,
          0,
          153,
          153,
          154,
          258,
          56,
          109,
          38,
          0,
          10,
          0
         ],
         "yaxis": "y"
        },
        {
         "hovertemplate": "Observed=%{x}<br>Model=%{y}<extra></extra>",
         "legendgroup": "",
         "line": {
          "color": "Grey",
          "dash": "solid",
          "width": 2
         },
         "marker": {
          "symbol": "circle"
         },
         "mode": "lines",
         "name": "",
         "orientation": "v",
         "showlegend": false,
         "type": "scatter",
         "x": [
          0.0,
          15.737373737373737,
          31.474747474747474,
          47.21212121212121,
          62.94949494949495,
          78.68686868686868,
          94.42424242424242,
          110.16161616161617,
          125.8989898989899,
          141.63636363636363,
          157.37373737373736,
          173.11111111111111,
          188.84848484848484,
          204.58585858585857,
          220.32323232323233,
          236.06060606060606,
          251.7979797979798,
          267.5353535353535,
          283.27272727272725,
          299.010101010101,
          314.7474747474747,
          330.4848484848485,
          346.22222222222223,
          361.95959595959596,
          377.6969696969697,
          393.4343434343434,
          409.17171717171715,
          424.9090909090909,
          440.64646464646466,
          456.3838383838384,
          472.1212121212121,
          487.85858585858585,
          503.5959595959596,
          519.3333333333334,
          535.070707070707,
          550.8080808080808,
          566.5454545454545,
          582.2828282828283,
          598.020202020202,
          613.7575757575758,
          629.4949494949494,
          645.2323232323232,
          660.969696969697,
          676.7070707070707,
          692.4444444444445,
          708.1818181818181,
          723.9191919191919,
          739.6565656565656,
          755.3939393939394,
          771.1313131313132,
          786.8686868686868,
          802.6060606060606,
          818.3434343434343,
          834.0808080808081,
          849.8181818181818,
          865.5555555555555,
          881.2929292929293,
          897.030303030303,
          912.7676767676768,
          928.5050505050505,
          944.2424242424242,
          959.9797979797979,
          975.7171717171717,
          991.4545454545454,
          1007.1919191919192,
          1022.929292929293,
          1038.6666666666667,
          1054.4040404040404,
          1070.141414141414,
          1085.8787878787878,
          1101.6161616161617,
          1117.3535353535353,
          1133.090909090909,
          1148.828282828283,
          1164.5656565656566,
          1180.3030303030303,
          1196.040404040404,
          1211.7777777777778,
          1227.5151515151515,
          1243.2525252525252,
          1258.9898989898988,
          1274.7272727272727,
          1290.4646464646464,
          1306.20202020202,
          1321.939393939394,
          1337.6767676767677,
          1353.4141414141413,
          1369.151515151515,
          1384.888888888889,
          1400.6262626262626,
          1416.3636363636363,
          1432.1010101010102,
          1447.8383838383838,
          1463.5757575757575,
          1479.3131313131312,
          1495.050505050505,
          1510.7878787878788,
          1526.5252525252524,
          1542.2626262626263,
          1558.0
         ],
         "xaxis": "x",
         "y": [
          -192.18978167059834,
          -157.353378762936,
          -122.51697585527363,
          -87.68057294761128,
          -52.84417003994892,
          -18.007767132286602,
          16.828635775375773,
          51.66503868303812,
          86.5014415907005,
          121.33784449836281,
          156.17424740602513,
          191.0106503136875,
          225.84705322134988,
          260.6834561290122,
          295.5198590366746,
          330.3562619443369,
          365.1926648519993,
          400.02906775966164,
          434.86547066732396,
          469.7018735749863,
          504.5382764826486,
          539.374679390311,
          574.2110822979733,
          609.0474852056358,
          643.8838881132981,
          678.7202910209604,
          713.5566939286227,
          748.393096836285,
          783.2294997439475,
          818.0659026516099,
          852.9023055592721,
          887.7387084669346,
          922.575111374597,
          957.4115142822594,
          992.2479171899216,
          1027.0843200975842,
          1061.9207230052461,
          1096.7571259129086,
          1131.593528820571,
          1166.4299317282334,
          1201.2663346358954,
          1236.1027375435579,
          1270.9391404512203,
          1305.7755433588827,
          1340.6119462665451,
          1375.4483491742076,
          1410.28475208187,
          1445.121154989532,
          1479.9575578971944,
          1514.7939608048569,
          1549.6303637125193,
          1584.4667666201817,
          1619.3031695278437,
          1654.1395724355061,
          1688.9759753431686,
          1723.812378250831,
          1758.6487811584934,
          1793.4851840661554,
          1828.3215869738183,
          1863.1579898814803,
          1897.9943927891427,
          1932.8307956968051,
          1967.6671986044676,
          2002.5036015121295,
          2037.3400044197924,
          2072.176407327455,
          2107.0128102351173,
          2141.8492131427793,
          2176.6856160504417,
          2211.5220189581037,
          2246.3584218657666,
          2281.1948247734285,
          2316.031227681091,
          2350.8676305887534,
          2385.704033496416,
          2420.540436404078,
          2455.3768393117402,
          2490.213242219403,
          2525.049645127065,
          2559.8860480347275,
          2594.7224509423895,
          2629.5588538500524,
          2664.3952567577144,
          2699.231659665377,
          2734.0680625730392,
          2768.9044654807017,
          2803.7408683883637,
          2838.577271296026,
          2873.4136742036885,
          2908.250077111351,
          2943.0864800190134,
          2977.922882926676,
          3012.7592858343382,
          3047.595688742,
          3082.4320916496627,
          3117.268494557325,
          3152.1048974649875,
          3186.9413003726495,
          3221.7777032803124,
          3256.6141061879744
         ],
         "yaxis": "y"
        }
       ],
       "layout": {
        "annotations": [
         {
          "align": "right",
          "font": {
           "color": "pink",
           "size": 12
          },
          "showarrow": false,
          "text": "y = x",
          "x": 4030.9500000000003,
          "y": 4030.9500000000003
         },
         {
          "align": "right",
          "font": {
           "color": "black",
           "size": 12
          },
          "showarrow": false,
          "text": "r^2 = 0.88",
          "x": 1635.9,
          "y": 3419.4448114973734
         }
        ],
        "height": 600,
        "legend": {
         "tracegroupgap": 0
        },
        "margin": {
         "b": 100,
         "l": 100,
         "r": 100,
         "t": 100
        },
        "shapes": [
         {
          "line": {
           "color": "Red",
           "dash": "dash",
           "width": 2
          },
          "type": "line",
          "x0": 0,
          "x1": 3839,
          "y0": 0,
          "y1": 3839
         }
        ],
        "template": {
         "data": {
          "bar": [
           {
            "error_x": {
             "color": "rgb(36,36,36)"
            },
            "error_y": {
             "color": "rgb(36,36,36)"
            },
            "marker": {
             "line": {
              "color": "white",
              "width": 0.5
             },
             "pattern": {
              "fillmode": "overlay",
              "size": 10,
              "solidity": 0.2
             }
            },
            "type": "bar"
           }
          ],
          "barpolar": [
           {
            "marker": {
             "line": {
              "color": "white",
              "width": 0.5
             },
             "pattern": {
              "fillmode": "overlay",
              "size": 10,
              "solidity": 0.2
             }
            },
            "type": "barpolar"
           }
          ],
          "carpet": [
           {
            "aaxis": {
             "endlinecolor": "rgb(36,36,36)",
             "gridcolor": "white",
             "linecolor": "white",
             "minorgridcolor": "white",
             "startlinecolor": "rgb(36,36,36)"
            },
            "baxis": {
             "endlinecolor": "rgb(36,36,36)",
             "gridcolor": "white",
             "linecolor": "white",
             "minorgridcolor": "white",
             "startlinecolor": "rgb(36,36,36)"
            },
            "type": "carpet"
           }
          ],
          "choropleth": [
           {
            "colorbar": {
             "outlinewidth": 1,
             "tickcolor": "rgb(36,36,36)",
             "ticks": "outside"
            },
            "type": "choropleth"
           }
          ],
          "contour": [
           {
            "colorbar": {
             "outlinewidth": 1,
             "tickcolor": "rgb(36,36,36)",
             "ticks": "outside"
            },
            "colorscale": [
             [
              0.0,
              "#440154"
             ],
             [
              0.1111111111111111,
              "#482878"
             ],
             [
              0.2222222222222222,
              "#3e4989"
             ],
             [
              0.3333333333333333,
              "#31688e"
             ],
             [
              0.4444444444444444,
              "#26828e"
             ],
             [
              0.5555555555555556,
              "#1f9e89"
             ],
             [
              0.6666666666666666,
              "#35b779"
             ],
             [
              0.7777777777777778,
              "#6ece58"
             ],
             [
              0.8888888888888888,
              "#b5de2b"
             ],
             [
              1.0,
              "#fde725"
             ]
            ],
            "type": "contour"
           }
          ],
          "contourcarpet": [
           {
            "colorbar": {
             "outlinewidth": 1,
             "tickcolor": "rgb(36,36,36)",
             "ticks": "outside"
            },
            "type": "contourcarpet"
           }
          ],
          "heatmap": [
           {
            "colorbar": {
             "outlinewidth": 1,
             "tickcolor": "rgb(36,36,36)",
             "ticks": "outside"
            },
            "colorscale": [
             [
              0.0,
              "#440154"
             ],
             [
              0.1111111111111111,
              "#482878"
             ],
             [
              0.2222222222222222,
              "#3e4989"
             ],
             [
              0.3333333333333333,
              "#31688e"
             ],
             [
              0.4444444444444444,
              "#26828e"
             ],
             [
              0.5555555555555556,
              "#1f9e89"
             ],
             [
              0.6666666666666666,
              "#35b779"
             ],
             [
              0.7777777777777778,
              "#6ece58"
             ],
             [
              0.8888888888888888,
              "#b5de2b"
             ],
             [
              1.0,
              "#fde725"
             ]
            ],
            "type": "heatmap"
           }
          ],
          "heatmapgl": [
           {
            "colorbar": {
             "outlinewidth": 1,
             "tickcolor": "rgb(36,36,36)",
             "ticks": "outside"
            },
            "colorscale": [
             [
              0.0,
              "#440154"
             ],
             [
              0.1111111111111111,
              "#482878"
             ],
             [
              0.2222222222222222,
              "#3e4989"
             ],
             [
              0.3333333333333333,
              "#31688e"
             ],
             [
              0.4444444444444444,
              "#26828e"
             ],
             [
              0.5555555555555556,
              "#1f9e89"
             ],
             [
              0.6666666666666666,
              "#35b779"
             ],
             [
              0.7777777777777778,
              "#6ece58"
             ],
             [
              0.8888888888888888,
              "#b5de2b"
             ],
             [
              1.0,
              "#fde725"
             ]
            ],
            "type": "heatmapgl"
           }
          ],
          "histogram": [
           {
            "marker": {
             "line": {
              "color": "white",
              "width": 0.6
             }
            },
            "type": "histogram"
           }
          ],
          "histogram2d": [
           {
            "colorbar": {
             "outlinewidth": 1,
             "tickcolor": "rgb(36,36,36)",
             "ticks": "outside"
            },
            "colorscale": [
             [
              0.0,
              "#440154"
             ],
             [
              0.1111111111111111,
              "#482878"
             ],
             [
              0.2222222222222222,
              "#3e4989"
             ],
             [
              0.3333333333333333,
              "#31688e"
             ],
             [
              0.4444444444444444,
              "#26828e"
             ],
             [
              0.5555555555555556,
              "#1f9e89"
             ],
             [
              0.6666666666666666,
              "#35b779"
             ],
             [
              0.7777777777777778,
              "#6ece58"
             ],
             [
              0.8888888888888888,
              "#b5de2b"
             ],
             [
              1.0,
              "#fde725"
             ]
            ],
            "type": "histogram2d"
           }
          ],
          "histogram2dcontour": [
           {
            "colorbar": {
             "outlinewidth": 1,
             "tickcolor": "rgb(36,36,36)",
             "ticks": "outside"
            },
            "colorscale": [
             [
              0.0,
              "#440154"
             ],
             [
              0.1111111111111111,
              "#482878"
             ],
             [
              0.2222222222222222,
              "#3e4989"
             ],
             [
              0.3333333333333333,
              "#31688e"
             ],
             [
              0.4444444444444444,
              "#26828e"
             ],
             [
              0.5555555555555556,
              "#1f9e89"
             ],
             [
              0.6666666666666666,
              "#35b779"
             ],
             [
              0.7777777777777778,
              "#6ece58"
             ],
             [
              0.8888888888888888,
              "#b5de2b"
             ],
             [
              1.0,
              "#fde725"
             ]
            ],
            "type": "histogram2dcontour"
           }
          ],
          "mesh3d": [
           {
            "colorbar": {
             "outlinewidth": 1,
             "tickcolor": "rgb(36,36,36)",
             "ticks": "outside"
            },
            "type": "mesh3d"
           }
          ],
          "parcoords": [
           {
            "line": {
             "colorbar": {
              "outlinewidth": 1,
              "tickcolor": "rgb(36,36,36)",
              "ticks": "outside"
             }
            },
            "type": "parcoords"
           }
          ],
          "pie": [
           {
            "automargin": true,
            "type": "pie"
           }
          ],
          "scatter": [
           {
            "fillpattern": {
             "fillmode": "overlay",
             "size": 10,
             "solidity": 0.2
            },
            "type": "scatter"
           }
          ],
          "scatter3d": [
           {
            "line": {
             "colorbar": {
              "outlinewidth": 1,
              "tickcolor": "rgb(36,36,36)",
              "ticks": "outside"
             }
            },
            "marker": {
             "colorbar": {
              "outlinewidth": 1,
              "tickcolor": "rgb(36,36,36)",
              "ticks": "outside"
             }
            },
            "type": "scatter3d"
           }
          ],
          "scattercarpet": [
           {
            "marker": {
             "colorbar": {
              "outlinewidth": 1,
              "tickcolor": "rgb(36,36,36)",
              "ticks": "outside"
             }
            },
            "type": "scattercarpet"
           }
          ],
          "scattergeo": [
           {
            "marker": {
             "colorbar": {
              "outlinewidth": 1,
              "tickcolor": "rgb(36,36,36)",
              "ticks": "outside"
             }
            },
            "type": "scattergeo"
           }
          ],
          "scattergl": [
           {
            "marker": {
             "colorbar": {
              "outlinewidth": 1,
              "tickcolor": "rgb(36,36,36)",
              "ticks": "outside"
             }
            },
            "type": "scattergl"
           }
          ],
          "scattermapbox": [
           {
            "marker": {
             "colorbar": {
              "outlinewidth": 1,
              "tickcolor": "rgb(36,36,36)",
              "ticks": "outside"
             }
            },
            "type": "scattermapbox"
           }
          ],
          "scatterpolar": [
           {
            "marker": {
             "colorbar": {
              "outlinewidth": 1,
              "tickcolor": "rgb(36,36,36)",
              "ticks": "outside"
             }
            },
            "type": "scatterpolar"
           }
          ],
          "scatterpolargl": [
           {
            "marker": {
             "colorbar": {
              "outlinewidth": 1,
              "tickcolor": "rgb(36,36,36)",
              "ticks": "outside"
             }
            },
            "type": "scatterpolargl"
           }
          ],
          "scatterternary": [
           {
            "marker": {
             "colorbar": {
              "outlinewidth": 1,
              "tickcolor": "rgb(36,36,36)",
              "ticks": "outside"
             }
            },
            "type": "scatterternary"
           }
          ],
          "surface": [
           {
            "colorbar": {
             "outlinewidth": 1,
             "tickcolor": "rgb(36,36,36)",
             "ticks": "outside"
            },
            "colorscale": [
             [
              0.0,
              "#440154"
             ],
             [
              0.1111111111111111,
              "#482878"
             ],
             [
              0.2222222222222222,
              "#3e4989"
             ],
             [
              0.3333333333333333,
              "#31688e"
             ],
             [
              0.4444444444444444,
              "#26828e"
             ],
             [
              0.5555555555555556,
              "#1f9e89"
             ],
             [
              0.6666666666666666,
              "#35b779"
             ],
             [
              0.7777777777777778,
              "#6ece58"
             ],
             [
              0.8888888888888888,
              "#b5de2b"
             ],
             [
              1.0,
              "#fde725"
             ]
            ],
            "type": "surface"
           }
          ],
          "table": [
           {
            "cells": {
             "fill": {
              "color": "rgb(237,237,237)"
             },
             "line": {
              "color": "white"
             }
            },
            "header": {
             "fill": {
              "color": "rgb(217,217,217)"
             },
             "line": {
              "color": "white"
             }
            },
            "type": "table"
           }
          ]
         },
         "layout": {
          "annotationdefaults": {
           "arrowhead": 0,
           "arrowwidth": 1
          },
          "autotypenumbers": "strict",
          "coloraxis": {
           "colorbar": {
            "outlinewidth": 1,
            "tickcolor": "rgb(36,36,36)",
            "ticks": "outside"
           }
          },
          "colorscale": {
           "diverging": [
            [
             0.0,
             "rgb(103,0,31)"
            ],
            [
             0.1,
             "rgb(178,24,43)"
            ],
            [
             0.2,
             "rgb(214,96,77)"
            ],
            [
             0.3,
             "rgb(244,165,130)"
            ],
            [
             0.4,
             "rgb(253,219,199)"
            ],
            [
             0.5,
             "rgb(247,247,247)"
            ],
            [
             0.6,
             "rgb(209,229,240)"
            ],
            [
             0.7,
             "rgb(146,197,222)"
            ],
            [
             0.8,
             "rgb(67,147,195)"
            ],
            [
             0.9,
             "rgb(33,102,172)"
            ],
            [
             1.0,
             "rgb(5,48,97)"
            ]
           ],
           "sequential": [
            [
             0.0,
             "#440154"
            ],
            [
             0.1111111111111111,
             "#482878"
            ],
            [
             0.2222222222222222,
             "#3e4989"
            ],
            [
             0.3333333333333333,
             "#31688e"
            ],
            [
             0.4444444444444444,
             "#26828e"
            ],
            [
             0.5555555555555556,
             "#1f9e89"
            ],
            [
             0.6666666666666666,
             "#35b779"
            ],
            [
             0.7777777777777778,
             "#6ece58"
            ],
            [
             0.8888888888888888,
             "#b5de2b"
            ],
            [
             1.0,
             "#fde725"
            ]
           ],
           "sequentialminus": [
            [
             0.0,
             "#440154"
            ],
            [
             0.1111111111111111,
             "#482878"
            ],
            [
             0.2222222222222222,
             "#3e4989"
            ],
            [
             0.3333333333333333,
             "#31688e"
            ],
            [
             0.4444444444444444,
             "#26828e"
            ],
            [
             0.5555555555555556,
             "#1f9e89"
            ],
            [
             0.6666666666666666,
             "#35b779"
            ],
            [
             0.7777777777777778,
             "#6ece58"
            ],
            [
             0.8888888888888888,
             "#b5de2b"
            ],
            [
             1.0,
             "#fde725"
            ]
           ]
          },
          "colorway": [
           "#91268F",
           "#8CC63E",
           "#00A7A0",
           "#F05A28",
           "#4C4C4C",
           "#630460",
           "#9f3913",
           "#588527",
           "#00716c",
           "#3e4040"
          ],
          "font": {
           "color": "rgb(36,36,36)",
           "family": "Poppins",
           "size": 11
          },
          "geo": {
           "bgcolor": "white",
           "lakecolor": "white",
           "landcolor": "white",
           "showlakes": true,
           "showland": true,
           "subunitcolor": "white"
          },
          "hoverlabel": {
           "align": "left"
          },
          "hovermode": "closest",
          "mapbox": {
           "style": "light"
          },
          "paper_bgcolor": "white",
          "plot_bgcolor": "white",
          "polar": {
           "angularaxis": {
            "gridcolor": "rgb(232,232,232)",
            "linecolor": "rgb(36,36,36)",
            "showgrid": false,
            "showline": true,
            "ticks": "outside"
           },
           "bgcolor": "white",
           "radialaxis": {
            "gridcolor": "rgb(232,232,232)",
            "linecolor": "rgb(36,36,36)",
            "showgrid": false,
            "showline": true,
            "ticks": "outside"
           }
          },
          "scene": {
           "xaxis": {
            "backgroundcolor": "white",
            "gridcolor": "rgb(232,232,232)",
            "gridwidth": 2,
            "linecolor": "rgb(36,36,36)",
            "showbackground": true,
            "showgrid": false,
            "showline": true,
            "ticks": "outside",
            "zeroline": false,
            "zerolinecolor": "rgb(36,36,36)"
           },
           "yaxis": {
            "backgroundcolor": "white",
            "gridcolor": "rgb(232,232,232)",
            "gridwidth": 2,
            "linecolor": "rgb(36,36,36)",
            "showbackground": true,
            "showgrid": false,
            "showline": true,
            "ticks": "outside",
            "zeroline": false,
            "zerolinecolor": "rgb(36,36,36)"
           },
           "zaxis": {
            "backgroundcolor": "white",
            "gridcolor": "rgb(232,232,232)",
            "gridwidth": 2,
            "linecolor": "rgb(36,36,36)",
            "showbackground": true,
            "showgrid": false,
            "showline": true,
            "ticks": "outside",
            "zeroline": false,
            "zerolinecolor": "rgb(36,36,36)"
           }
          },
          "shapedefaults": {
           "fillcolor": "black",
           "line": {
            "width": 0
           },
           "opacity": 0.3
          },
          "ternary": {
           "aaxis": {
            "gridcolor": "rgb(232,232,232)",
            "linecolor": "rgb(36,36,36)",
            "showgrid": false,
            "showline": true,
            "ticks": "outside"
           },
           "baxis": {
            "gridcolor": "rgb(232,232,232)",
            "linecolor": "rgb(36,36,36)",
            "showgrid": false,
            "showline": true,
            "ticks": "outside"
           },
           "bgcolor": "white",
           "caxis": {
            "gridcolor": "rgb(232,232,232)",
            "linecolor": "rgb(36,36,36)",
            "showgrid": false,
            "showline": true,
            "ticks": "outside"
           }
          },
          "title": {
           "x": 0.05
          },
          "xaxis": {
           "automargin": true,
           "gridcolor": "rgb(232,232,232)",
           "linecolor": "rgb(36,36,36)",
           "showgrid": false,
           "showline": true,
           "ticks": "outside",
           "title": {
            "standoff": 15
           },
           "zeroline": false,
           "zerolinecolor": "rgb(36,36,36)"
          },
          "yaxis": {
           "automargin": true,
           "gridcolor": "rgb(232,232,232)",
           "linecolor": "rgb(36,36,36)",
           "showgrid": false,
           "showline": true,
           "ticks": "outside",
           "title": {
            "standoff": 15
           },
           "zeroline": false,
           "zerolinecolor": "rgb(36,36,36)"
          }
         }
        },
        "title": {
         "text": "Heavy Trucks: Kitsap"
        },
        "width": 800,
        "xaxis": {
         "anchor": "y",
         "domain": [
          0.0,
          1.0
         ],
         "title": {
          "text": "Observed"
         }
        },
        "yaxis": {
         "anchor": "x",
         "domain": [
          0.0,
          1.0
         ],
         "title": {
          "text": "Model"
         }
        }
       }
      },
      "text/html": [
       "<div>                            <div id=\"c0f72345-0d9a-4d1f-a5f2-692f1f0a4495\" class=\"plotly-graph-div\" style=\"height:600px; width:800px;\"></div>            <script type=\"text/javascript\">                require([\"plotly\"], function(Plotly) {                    window.PLOTLYENV=window.PLOTLYENV || {};                                    if (document.getElementById(\"c0f72345-0d9a-4d1f-a5f2-692f1f0a4495\")) {                    Plotly.newPlot(                        \"c0f72345-0d9a-4d1f-a5f2-692f1f0a4495\",                        [{\"customdata\":[[\"SR-16  N\\u002fO SR-302 NB\\u002fSB\",\"Kitsap\"],[\"SR-16 N\\u002fO SR-160 NB\\u002fSB\",\"Kitsap\"],[\"SR-16 N\\u002fO Tremont NB\\u002fSB\",\"Kitsap\"],[\"SR-16 S\\u002fO SR-3 NB\",\"Kitsap\"],[\"SR-104 @ Hood Canal Bridge WB\\u002fEB\",\"Kitsap\"],[\"SR-104 E\\u002fO Hood Canal Bridge WB\\u002fEB\",\"Kitsap\"],[\"SR-104 N\\u002fO Pt Gamble Rd WB\\u002fEB\",\"Kitsap\"],[\"SR-104 E\\u002fO SR-307 WB\\u002fEB\",\"Kitsap\"],[\"SR-104 E\\u002fO Hansville WB\\u002fEB\",\"Kitsap\"],[\"SR-160 @ SR-16 WB\\u002fEB\",\"Kitsap\"],[\"SR-160 E\\u002fO Long Lake Rd WB\\u002fEB\",\"Kitsap\"],[\"SR-160 W\\u002fO Banner WB\\u002fEB\",\"Kitsap\"],[\"SR-160 E\\u002fO Peterson WB\\u002fEB\",\"Kitsap\"],[\"SR-160 S\\u002fO Southworth Dr WB\\u002fEB\",\"Kitsap\"],[\"SR-166 E\\u002fO SR-16 WB\\u002fEB\",\"Kitsap\"],[\"SR-3 E\\u002fO Sunset Way NB\\u002fSB\",\"Kitsap\"],[\"SR-3 N\\u002fO SR-305 NB\\u002fSB\",\"Kitsap\"],[\"SR-3 S\\u002fO Newberry Hill Rd NB\\u002fSB\",\"Kitsap\"],[\"SR-3 @ SR-304 NB\\u002fSB\",\"Kitsap\"],[\"SR-3 NE of SR-16 NB\\u002fSB\",\"Kitsap\"],[\"SR-3 W\\u002fO Lake Flora Rd NB\\u002fSB\",\"Kitsap\"],[\"SR-303 E\\u002fO SR-3 NB\\u002fSB\",\"Kitsap\"],[\"SR-303 N\\u002fO 11th St NB\\u002fSB\",\"Kitsap\"],[\"SR-303 N\\u002fO SR-304 NB\\u002fSB\",\"Kitsap\"],[\"SR-304 E\\u002fO SR-3 WB\\u002fEB\",\"Kitsap\"],[\"SR-304 W\\u002fO Naval WB\\u002fEB\",\"Kitsap\"],[\"SR-305 W\\u002fO SR-307 WB\\u002fEB\",\"Kitsap\"],[\"SR-305 W\\u002fO Suquamish Way WB\\u002fEB\",\"Kitsap\"],[\"SR-305 N\\u002fO Day Rd WB\\u002fEB\",\"Kitsap\"],[\"SR-305 N\\u002fO High School Rd WB\\u002fEB\",\"Kitsap\"],[\"SR-305 S\\u002fO Winslow Way WB\\u002fEB\",\"Kitsap\"],[\"SR-305 @ Ferry Ramp WB\\u002fEB\",\"Kitsap\"],[\"SR-307 W\\u002fO SR-104 NB\\u002fSB\",\"Kitsap\"],[\"SR-307 N\\u002fO Gunderson NB\\u002fSB\",\"Kitsap\"],[\"SR-307 S\\u002fO Gunderson NB\\u002fSB\",\"Kitsap\"],[\"SR-307 N\\u002fO SR-305 NB\\u002fSB\",\"Kitsap\"],[\"SR-308 @ SR-3 WB\\u002fEB\",\"Kitsap\"],[\"SR-308 E\\u002fO SR-3 WB\\u002fEB\",\"Kitsap\"],[\"SR-308 E\\u002fO Silverdale Way WB\\u002fEB\",\"Kitsap\"],[\"SR-308 W\\u002fO Brownsville Hwy WB\\u002fEB\",\"Kitsap\"],[\"SR-310 @ SR-3 WB\\u002fEB\",\"Kitsap\"],[\"SR-310 W\\u002fO Callow WB\\u002fEB\",\"Kitsap\"]],\"hovertemplate\":\"Observed=%{x}\\u003cbr\\u003eModel=%{y}\\u003cbr\\u003elocation=%{customdata[0]}\\u003cbr\\u003eCounty=%{customdata[1]}\\u003cextra\\u003e\\u003c\\u002fextra\\u003e\",\"legendgroup\":\"\",\"marker\":{\"color\":\"#91268F\",\"symbol\":\"circle\"},\"mode\":\"markers\",\"name\":\"\",\"orientation\":\"v\",\"showlegend\":false,\"x\":[1558,1210,1364,1155,612,75,70,144,84,114,34,30,19,12,140,1020,1012,1159,988,1360,288,180,216,98,210,126,266,420,420,234,11,9,196,168,126,120,39,36,66,22,138,26],\"xaxis\":\"x\",\"y\":[3839,3204,3166,1580,956,2,2,154,115,199,18,18,21,21,2,954,1169,2451,2898,3176,9,22,168,50,277,151,478,149,127,98,0,0,153,153,154,258,56,109,38,0,10,0],\"yaxis\":\"y\",\"type\":\"scatter\",\"line\":{\"color\":\"Grey\",\"width\":2}},{\"hovertemplate\":\"Observed=%{x}\\u003cbr\\u003eModel=%{y}\\u003cextra\\u003e\\u003c\\u002fextra\\u003e\",\"legendgroup\":\"\",\"line\":{\"color\":\"Grey\",\"dash\":\"solid\",\"width\":2},\"marker\":{\"symbol\":\"circle\"},\"mode\":\"lines\",\"name\":\"\",\"orientation\":\"v\",\"showlegend\":false,\"x\":[0.0,15.737373737373737,31.474747474747474,47.21212121212121,62.94949494949495,78.68686868686868,94.42424242424242,110.16161616161617,125.8989898989899,141.63636363636363,157.37373737373736,173.11111111111111,188.84848484848484,204.58585858585857,220.32323232323233,236.06060606060606,251.7979797979798,267.5353535353535,283.27272727272725,299.010101010101,314.7474747474747,330.4848484848485,346.22222222222223,361.95959595959596,377.6969696969697,393.4343434343434,409.17171717171715,424.9090909090909,440.64646464646466,456.3838383838384,472.1212121212121,487.85858585858585,503.5959595959596,519.3333333333334,535.070707070707,550.8080808080808,566.5454545454545,582.2828282828283,598.020202020202,613.7575757575758,629.4949494949494,645.2323232323232,660.969696969697,676.7070707070707,692.4444444444445,708.1818181818181,723.9191919191919,739.6565656565656,755.3939393939394,771.1313131313132,786.8686868686868,802.6060606060606,818.3434343434343,834.0808080808081,849.8181818181818,865.5555555555555,881.2929292929293,897.030303030303,912.7676767676768,928.5050505050505,944.2424242424242,959.9797979797979,975.7171717171717,991.4545454545454,1007.1919191919192,1022.929292929293,1038.6666666666667,1054.4040404040404,1070.141414141414,1085.8787878787878,1101.6161616161617,1117.3535353535353,1133.090909090909,1148.828282828283,1164.5656565656566,1180.3030303030303,1196.040404040404,1211.7777777777778,1227.5151515151515,1243.2525252525252,1258.9898989898988,1274.7272727272727,1290.4646464646464,1306.20202020202,1321.939393939394,1337.6767676767677,1353.4141414141413,1369.151515151515,1384.888888888889,1400.6262626262626,1416.3636363636363,1432.1010101010102,1447.8383838383838,1463.5757575757575,1479.3131313131312,1495.050505050505,1510.7878787878788,1526.5252525252524,1542.2626262626263,1558.0],\"xaxis\":\"x\",\"y\":[-192.18978167059834,-157.353378762936,-122.51697585527363,-87.68057294761128,-52.84417003994892,-18.007767132286602,16.828635775375773,51.66503868303812,86.5014415907005,121.33784449836281,156.17424740602513,191.0106503136875,225.84705322134988,260.6834561290122,295.5198590366746,330.3562619443369,365.1926648519993,400.02906775966164,434.86547066732396,469.7018735749863,504.5382764826486,539.374679390311,574.2110822979733,609.0474852056358,643.8838881132981,678.7202910209604,713.5566939286227,748.393096836285,783.2294997439475,818.0659026516099,852.9023055592721,887.7387084669346,922.575111374597,957.4115142822594,992.2479171899216,1027.0843200975842,1061.9207230052461,1096.7571259129086,1131.593528820571,1166.4299317282334,1201.2663346358954,1236.1027375435579,1270.9391404512203,1305.7755433588827,1340.6119462665451,1375.4483491742076,1410.28475208187,1445.121154989532,1479.9575578971944,1514.7939608048569,1549.6303637125193,1584.4667666201817,1619.3031695278437,1654.1395724355061,1688.9759753431686,1723.812378250831,1758.6487811584934,1793.4851840661554,1828.3215869738183,1863.1579898814803,1897.9943927891427,1932.8307956968051,1967.6671986044676,2002.5036015121295,2037.3400044197924,2072.176407327455,2107.0128102351173,2141.8492131427793,2176.6856160504417,2211.5220189581037,2246.3584218657666,2281.1948247734285,2316.031227681091,2350.8676305887534,2385.704033496416,2420.540436404078,2455.3768393117402,2490.213242219403,2525.049645127065,2559.8860480347275,2594.7224509423895,2629.5588538500524,2664.3952567577144,2699.231659665377,2734.0680625730392,2768.9044654807017,2803.7408683883637,2838.577271296026,2873.4136742036885,2908.250077111351,2943.0864800190134,2977.922882926676,3012.7592858343382,3047.595688742,3082.4320916496627,3117.268494557325,3152.1048974649875,3186.9413003726495,3221.7777032803124,3256.6141061879744],\"yaxis\":\"y\",\"type\":\"scatter\"}],                        {\"template\":{\"data\":{\"barpolar\":[{\"marker\":{\"line\":{\"color\":\"white\",\"width\":0.5},\"pattern\":{\"fillmode\":\"overlay\",\"size\":10,\"solidity\":0.2}},\"type\":\"barpolar\"}],\"bar\":[{\"error_x\":{\"color\":\"rgb(36,36,36)\"},\"error_y\":{\"color\":\"rgb(36,36,36)\"},\"marker\":{\"line\":{\"color\":\"white\",\"width\":0.5},\"pattern\":{\"fillmode\":\"overlay\",\"size\":10,\"solidity\":0.2}},\"type\":\"bar\"}],\"carpet\":[{\"aaxis\":{\"endlinecolor\":\"rgb(36,36,36)\",\"gridcolor\":\"white\",\"linecolor\":\"white\",\"minorgridcolor\":\"white\",\"startlinecolor\":\"rgb(36,36,36)\"},\"baxis\":{\"endlinecolor\":\"rgb(36,36,36)\",\"gridcolor\":\"white\",\"linecolor\":\"white\",\"minorgridcolor\":\"white\",\"startlinecolor\":\"rgb(36,36,36)\"},\"type\":\"carpet\"}],\"choropleth\":[{\"colorbar\":{\"outlinewidth\":1,\"tickcolor\":\"rgb(36,36,36)\",\"ticks\":\"outside\"},\"type\":\"choropleth\"}],\"contourcarpet\":[{\"colorbar\":{\"outlinewidth\":1,\"tickcolor\":\"rgb(36,36,36)\",\"ticks\":\"outside\"},\"type\":\"contourcarpet\"}],\"contour\":[{\"colorbar\":{\"outlinewidth\":1,\"tickcolor\":\"rgb(36,36,36)\",\"ticks\":\"outside\"},\"colorscale\":[[0.0,\"#440154\"],[0.1111111111111111,\"#482878\"],[0.2222222222222222,\"#3e4989\"],[0.3333333333333333,\"#31688e\"],[0.4444444444444444,\"#26828e\"],[0.5555555555555556,\"#1f9e89\"],[0.6666666666666666,\"#35b779\"],[0.7777777777777778,\"#6ece58\"],[0.8888888888888888,\"#b5de2b\"],[1.0,\"#fde725\"]],\"type\":\"contour\"}],\"heatmapgl\":[{\"colorbar\":{\"outlinewidth\":1,\"tickcolor\":\"rgb(36,36,36)\",\"ticks\":\"outside\"},\"colorscale\":[[0.0,\"#440154\"],[0.1111111111111111,\"#482878\"],[0.2222222222222222,\"#3e4989\"],[0.3333333333333333,\"#31688e\"],[0.4444444444444444,\"#26828e\"],[0.5555555555555556,\"#1f9e89\"],[0.6666666666666666,\"#35b779\"],[0.7777777777777778,\"#6ece58\"],[0.8888888888888888,\"#b5de2b\"],[1.0,\"#fde725\"]],\"type\":\"heatmapgl\"}],\"heatmap\":[{\"colorbar\":{\"outlinewidth\":1,\"tickcolor\":\"rgb(36,36,36)\",\"ticks\":\"outside\"},\"colorscale\":[[0.0,\"#440154\"],[0.1111111111111111,\"#482878\"],[0.2222222222222222,\"#3e4989\"],[0.3333333333333333,\"#31688e\"],[0.4444444444444444,\"#26828e\"],[0.5555555555555556,\"#1f9e89\"],[0.6666666666666666,\"#35b779\"],[0.7777777777777778,\"#6ece58\"],[0.8888888888888888,\"#b5de2b\"],[1.0,\"#fde725\"]],\"type\":\"heatmap\"}],\"histogram2dcontour\":[{\"colorbar\":{\"outlinewidth\":1,\"tickcolor\":\"rgb(36,36,36)\",\"ticks\":\"outside\"},\"colorscale\":[[0.0,\"#440154\"],[0.1111111111111111,\"#482878\"],[0.2222222222222222,\"#3e4989\"],[0.3333333333333333,\"#31688e\"],[0.4444444444444444,\"#26828e\"],[0.5555555555555556,\"#1f9e89\"],[0.6666666666666666,\"#35b779\"],[0.7777777777777778,\"#6ece58\"],[0.8888888888888888,\"#b5de2b\"],[1.0,\"#fde725\"]],\"type\":\"histogram2dcontour\"}],\"histogram2d\":[{\"colorbar\":{\"outlinewidth\":1,\"tickcolor\":\"rgb(36,36,36)\",\"ticks\":\"outside\"},\"colorscale\":[[0.0,\"#440154\"],[0.1111111111111111,\"#482878\"],[0.2222222222222222,\"#3e4989\"],[0.3333333333333333,\"#31688e\"],[0.4444444444444444,\"#26828e\"],[0.5555555555555556,\"#1f9e89\"],[0.6666666666666666,\"#35b779\"],[0.7777777777777778,\"#6ece58\"],[0.8888888888888888,\"#b5de2b\"],[1.0,\"#fde725\"]],\"type\":\"histogram2d\"}],\"histogram\":[{\"marker\":{\"line\":{\"color\":\"white\",\"width\":0.6}},\"type\":\"histogram\"}],\"mesh3d\":[{\"colorbar\":{\"outlinewidth\":1,\"tickcolor\":\"rgb(36,36,36)\",\"ticks\":\"outside\"},\"type\":\"mesh3d\"}],\"parcoords\":[{\"line\":{\"colorbar\":{\"outlinewidth\":1,\"tickcolor\":\"rgb(36,36,36)\",\"ticks\":\"outside\"}},\"type\":\"parcoords\"}],\"pie\":[{\"automargin\":true,\"type\":\"pie\"}],\"scatter3d\":[{\"line\":{\"colorbar\":{\"outlinewidth\":1,\"tickcolor\":\"rgb(36,36,36)\",\"ticks\":\"outside\"}},\"marker\":{\"colorbar\":{\"outlinewidth\":1,\"tickcolor\":\"rgb(36,36,36)\",\"ticks\":\"outside\"}},\"type\":\"scatter3d\"}],\"scattercarpet\":[{\"marker\":{\"colorbar\":{\"outlinewidth\":1,\"tickcolor\":\"rgb(36,36,36)\",\"ticks\":\"outside\"}},\"type\":\"scattercarpet\"}],\"scattergeo\":[{\"marker\":{\"colorbar\":{\"outlinewidth\":1,\"tickcolor\":\"rgb(36,36,36)\",\"ticks\":\"outside\"}},\"type\":\"scattergeo\"}],\"scattergl\":[{\"marker\":{\"colorbar\":{\"outlinewidth\":1,\"tickcolor\":\"rgb(36,36,36)\",\"ticks\":\"outside\"}},\"type\":\"scattergl\"}],\"scattermapbox\":[{\"marker\":{\"colorbar\":{\"outlinewidth\":1,\"tickcolor\":\"rgb(36,36,36)\",\"ticks\":\"outside\"}},\"type\":\"scattermapbox\"}],\"scatterpolargl\":[{\"marker\":{\"colorbar\":{\"outlinewidth\":1,\"tickcolor\":\"rgb(36,36,36)\",\"ticks\":\"outside\"}},\"type\":\"scatterpolargl\"}],\"scatterpolar\":[{\"marker\":{\"colorbar\":{\"outlinewidth\":1,\"tickcolor\":\"rgb(36,36,36)\",\"ticks\":\"outside\"}},\"type\":\"scatterpolar\"}],\"scatter\":[{\"fillpattern\":{\"fillmode\":\"overlay\",\"size\":10,\"solidity\":0.2},\"type\":\"scatter\"}],\"scatterternary\":[{\"marker\":{\"colorbar\":{\"outlinewidth\":1,\"tickcolor\":\"rgb(36,36,36)\",\"ticks\":\"outside\"}},\"type\":\"scatterternary\"}],\"surface\":[{\"colorbar\":{\"outlinewidth\":1,\"tickcolor\":\"rgb(36,36,36)\",\"ticks\":\"outside\"},\"colorscale\":[[0.0,\"#440154\"],[0.1111111111111111,\"#482878\"],[0.2222222222222222,\"#3e4989\"],[0.3333333333333333,\"#31688e\"],[0.4444444444444444,\"#26828e\"],[0.5555555555555556,\"#1f9e89\"],[0.6666666666666666,\"#35b779\"],[0.7777777777777778,\"#6ece58\"],[0.8888888888888888,\"#b5de2b\"],[1.0,\"#fde725\"]],\"type\":\"surface\"}],\"table\":[{\"cells\":{\"fill\":{\"color\":\"rgb(237,237,237)\"},\"line\":{\"color\":\"white\"}},\"header\":{\"fill\":{\"color\":\"rgb(217,217,217)\"},\"line\":{\"color\":\"white\"}},\"type\":\"table\"}]},\"layout\":{\"annotationdefaults\":{\"arrowhead\":0,\"arrowwidth\":1},\"autotypenumbers\":\"strict\",\"coloraxis\":{\"colorbar\":{\"outlinewidth\":1,\"tickcolor\":\"rgb(36,36,36)\",\"ticks\":\"outside\"}},\"colorscale\":{\"diverging\":[[0.0,\"rgb(103,0,31)\"],[0.1,\"rgb(178,24,43)\"],[0.2,\"rgb(214,96,77)\"],[0.3,\"rgb(244,165,130)\"],[0.4,\"rgb(253,219,199)\"],[0.5,\"rgb(247,247,247)\"],[0.6,\"rgb(209,229,240)\"],[0.7,\"rgb(146,197,222)\"],[0.8,\"rgb(67,147,195)\"],[0.9,\"rgb(33,102,172)\"],[1.0,\"rgb(5,48,97)\"]],\"sequential\":[[0.0,\"#440154\"],[0.1111111111111111,\"#482878\"],[0.2222222222222222,\"#3e4989\"],[0.3333333333333333,\"#31688e\"],[0.4444444444444444,\"#26828e\"],[0.5555555555555556,\"#1f9e89\"],[0.6666666666666666,\"#35b779\"],[0.7777777777777778,\"#6ece58\"],[0.8888888888888888,\"#b5de2b\"],[1.0,\"#fde725\"]],\"sequentialminus\":[[0.0,\"#440154\"],[0.1111111111111111,\"#482878\"],[0.2222222222222222,\"#3e4989\"],[0.3333333333333333,\"#31688e\"],[0.4444444444444444,\"#26828e\"],[0.5555555555555556,\"#1f9e89\"],[0.6666666666666666,\"#35b779\"],[0.7777777777777778,\"#6ece58\"],[0.8888888888888888,\"#b5de2b\"],[1.0,\"#fde725\"]]},\"colorway\":[\"#91268F\",\"#8CC63E\",\"#00A7A0\",\"#F05A28\",\"#4C4C4C\",\"#630460\",\"#9f3913\",\"#588527\",\"#00716c\",\"#3e4040\"],\"font\":{\"color\":\"rgb(36,36,36)\",\"family\":\"Poppins\",\"size\":11},\"geo\":{\"bgcolor\":\"white\",\"lakecolor\":\"white\",\"landcolor\":\"white\",\"showlakes\":true,\"showland\":true,\"subunitcolor\":\"white\"},\"hoverlabel\":{\"align\":\"left\"},\"hovermode\":\"closest\",\"mapbox\":{\"style\":\"light\"},\"paper_bgcolor\":\"white\",\"plot_bgcolor\":\"white\",\"polar\":{\"angularaxis\":{\"gridcolor\":\"rgb(232,232,232)\",\"linecolor\":\"rgb(36,36,36)\",\"showgrid\":false,\"showline\":true,\"ticks\":\"outside\"},\"bgcolor\":\"white\",\"radialaxis\":{\"gridcolor\":\"rgb(232,232,232)\",\"linecolor\":\"rgb(36,36,36)\",\"showgrid\":false,\"showline\":true,\"ticks\":\"outside\"}},\"scene\":{\"xaxis\":{\"backgroundcolor\":\"white\",\"gridcolor\":\"rgb(232,232,232)\",\"gridwidth\":2,\"linecolor\":\"rgb(36,36,36)\",\"showbackground\":true,\"showgrid\":false,\"showline\":true,\"ticks\":\"outside\",\"zeroline\":false,\"zerolinecolor\":\"rgb(36,36,36)\"},\"yaxis\":{\"backgroundcolor\":\"white\",\"gridcolor\":\"rgb(232,232,232)\",\"gridwidth\":2,\"linecolor\":\"rgb(36,36,36)\",\"showbackground\":true,\"showgrid\":false,\"showline\":true,\"ticks\":\"outside\",\"zeroline\":false,\"zerolinecolor\":\"rgb(36,36,36)\"},\"zaxis\":{\"backgroundcolor\":\"white\",\"gridcolor\":\"rgb(232,232,232)\",\"gridwidth\":2,\"linecolor\":\"rgb(36,36,36)\",\"showbackground\":true,\"showgrid\":false,\"showline\":true,\"ticks\":\"outside\",\"zeroline\":false,\"zerolinecolor\":\"rgb(36,36,36)\"}},\"shapedefaults\":{\"fillcolor\":\"black\",\"line\":{\"width\":0},\"opacity\":0.3},\"ternary\":{\"aaxis\":{\"gridcolor\":\"rgb(232,232,232)\",\"linecolor\":\"rgb(36,36,36)\",\"showgrid\":false,\"showline\":true,\"ticks\":\"outside\"},\"baxis\":{\"gridcolor\":\"rgb(232,232,232)\",\"linecolor\":\"rgb(36,36,36)\",\"showgrid\":false,\"showline\":true,\"ticks\":\"outside\"},\"bgcolor\":\"white\",\"caxis\":{\"gridcolor\":\"rgb(232,232,232)\",\"linecolor\":\"rgb(36,36,36)\",\"showgrid\":false,\"showline\":true,\"ticks\":\"outside\"}},\"title\":{\"x\":0.05},\"xaxis\":{\"automargin\":true,\"gridcolor\":\"rgb(232,232,232)\",\"linecolor\":\"rgb(36,36,36)\",\"showgrid\":false,\"showline\":true,\"ticks\":\"outside\",\"title\":{\"standoff\":15},\"zeroline\":false,\"zerolinecolor\":\"rgb(36,36,36)\"},\"yaxis\":{\"automargin\":true,\"gridcolor\":\"rgb(232,232,232)\",\"linecolor\":\"rgb(36,36,36)\",\"showgrid\":false,\"showline\":true,\"ticks\":\"outside\",\"title\":{\"standoff\":15},\"zeroline\":false,\"zerolinecolor\":\"rgb(36,36,36)\"}}},\"xaxis\":{\"anchor\":\"y\",\"domain\":[0.0,1.0],\"title\":{\"text\":\"Observed\"}},\"yaxis\":{\"anchor\":\"x\",\"domain\":[0.0,1.0],\"title\":{\"text\":\"Model\"}},\"legend\":{\"tracegroupgap\":0},\"title\":{\"text\":\"Heavy Trucks: Kitsap\"},\"margin\":{\"l\":100,\"r\":100,\"t\":100,\"b\":100},\"height\":600,\"width\":800,\"shapes\":[{\"line\":{\"color\":\"Red\",\"dash\":\"dash\",\"width\":2},\"type\":\"line\",\"x0\":0,\"x1\":3839,\"y0\":0,\"y1\":3839}],\"annotations\":[{\"align\":\"right\",\"font\":{\"color\":\"pink\",\"size\":12},\"showarrow\":false,\"text\":\"y = x\",\"x\":4030.9500000000003,\"y\":4030.9500000000003},{\"align\":\"right\",\"font\":{\"color\":\"black\",\"size\":12},\"showarrow\":false,\"text\":\"r^2 = 0.88\",\"x\":1635.9,\"y\":3419.4448114973734}]},                        {\"responsive\": true}                    ).then(function(){\n",
       "                            \n",
       "var gd = document.getElementById('c0f72345-0d9a-4d1f-a5f2-692f1f0a4495');\n",
       "var x = new MutationObserver(function (mutations, observer) {{\n",
       "        var display = window.getComputedStyle(gd).display;\n",
       "        if (!display || display === 'none') {{\n",
       "            console.log([gd, 'removed!']);\n",
       "            Plotly.purge(gd);\n",
       "            observer.disconnect();\n",
       "        }}\n",
       "}});\n",
       "\n",
       "// Listen for the removal of the full notebook cells\n",
       "var notebookContainer = gd.closest('#notebook-container');\n",
       "if (notebookContainer) {{\n",
       "    x.observe(notebookContainer, {childList: true});\n",
       "}}\n",
       "\n",
       "// Listen for the clearing of the current output cell\n",
       "var outputEl = gd.closest('.output');\n",
       "if (outputEl) {{\n",
       "    x.observe(outputEl, {childList: true});\n",
       "}}\n",
       "\n",
       "                        })                };                });            </script>        </div>"
      ]
     },
     "metadata": {},
     "output_type": "display_data"
    }
   ],
   "source": [
    "fig = create_truck_chart(df_daily_heavy, 'Heavy', 'Kitsap')\n",
    "fig.show()"
   ]
  },
  {
   "cell_type": "raw",
   "id": "f6c91eb1",
   "metadata": {
    "vscode": {
     "languageId": "raw"
    }
   },
   "source": [
    "#### Pierce"
   ]
  },
  {
   "cell_type": "code",
   "execution_count": 27,
   "id": "4661c354",
   "metadata": {},
   "outputs": [
    {
     "data": {
      "application/vnd.plotly.v1+json": {
       "config": {
        "plotlyServerURL": "https://plot.ly"
       },
       "data": [
        {
         "customdata": [
          [
           "I-5 S/O Mounts NB",
           "Pierce"
          ],
          [
           "I-5 S/O Mounts SB",
           "Pierce"
          ],
          [
           "I-5 S/O Division NB",
           "Pierce"
          ],
          [
           "I-5 S/O Division SB",
           "Pierce"
          ],
          [
           "I-5 @ N/O Division NB",
           "Pierce"
          ],
          [
           "I-5 @ N/O Division SB",
           "Pierce"
          ],
          [
           "I-5 S/O SR-512 NB",
           "Pierce"
          ],
          [
           "I-5 S/O SR-512 SB",
           "Pierce"
          ],
          [
           "I-5 N/O SR-512 NB",
           "Pierce"
          ],
          [
           "I-5 N/O SR-512 SB",
           "Pierce"
          ],
          [
           "I-5 N/O 56th NB",
           "Pierce"
          ],
          [
           "I-5 N/O 56th SB",
           "Pierce"
          ],
          [
           "I-5 E/O SR-16 NB",
           "Pierce"
          ],
          [
           "I-5 E/O SR-16 SB",
           "Pierce"
          ],
          [
           "I-5 E/O Port of Tacoma NB",
           "Pierce"
          ],
          [
           "I-5 E/O Port of Tacoma SB (HOV from 56)",
           "Pierce"
          ],
          [
           "SR-512 W/O Meridian WB",
           "Pierce"
          ],
          [
           "SR-512 W/O Meridian EB",
           "Pierce"
          ],
          [
           "SR-167 W/O SR-410 NB/SB",
           "Pierce"
          ],
          [
           "SR-167 E/O SR-161 NB/SB",
           "Pierce"
          ],
          [
           "SR-410 E/O S Prairie WB/EB",
           "Pierce"
          ],
          [
           "SR-410 E/O Chinook WB/EB",
           "Pierce"
          ],
          [
           "SR-410 W/O SR-123 WB/EB",
           "Pierce"
          ],
          [
           "SR-410 E/O SR-123 WB/EB",
           "Pierce"
          ],
          [
           "SR-512 @ I-5 WB/EB",
           "Pierce"
          ],
          [
           "SR-512 W/O SR-7 WB/EB",
           "Pierce"
          ],
          [
           "SR-512 S/O SR-167 WB/EB",
           "Pierce"
          ],
          [
           "SR-509 E/O I-705 NB/SB",
           "Pierce"
          ],
          [
           "SR-509 W/O Alexander NB/SB",
           "Pierce"
          ],
          [
           "SR-509 S/O 11th NB/SB",
           "Pierce"
          ],
          [
           "SR-509 N/O Hyada NB/SB",
           "Pierce"
          ],
          [
           "SR-509 E/O Soundview NB/SB",
           "Pierce"
          ],
          [
           "SR-99 @ I-5 NB/SB",
           "Pierce"
          ],
          [
           "SR-99 E/O 54th NB/SB",
           "Pierce"
          ],
          [
           "SR-99 S/O Porter NB/SB",
           "Pierce"
          ],
          [
           "SR-16 @ TNB NB/SB",
           "Pierce"
          ],
          [
           "SR-16 @ Purdy Dr NB/SB",
           "Pierce"
          ],
          [
           "SR-302 N/O 144th WB/EB",
           "Pierce"
          ],
          [
           "SR-302 S/O 144th WB/EB",
           "Pierce"
          ],
          [
           "SR-302 W/O Key Peninsula Hwy WB/EB",
           "Pierce"
          ],
          [
           "SR-302 W/O Wright-Bliss WB/EB (E/O?)",
           "Pierce"
          ],
          [
           "SR-161 E/O SR-7 NB/SB",
           "Pierce"
          ],
          [
           "SR-161 N/O Center NB/SB",
           "Pierce"
          ],
          [
           "SR-161 N/O Eatonville Cutoff NB/SB",
           "Pierce"
          ],
          [
           "SR-161 N/O 304th NB/SB",
           "Pierce"
          ],
          [
           "SR-161 N/O 264th NB/SB",
           "Pierce"
          ],
          [
           "SR-161 S/O 224th NB/SB",
           "Pierce"
          ],
          [
           "SR-161 N/O 224th NB/SB",
           "Pierce"
          ],
          [
           "SR-161 N/O 204th NB/SB",
           "Pierce"
          ],
          [
           "SR-161 S/O SR-167 SB off-ramp NB/SB",
           "Pierce"
          ],
          [
           "SR-161 S/O Valley NB/SB",
           "Pierce"
          ],
          [
           "SR-161 N/O Valley NB/SB",
           "Pierce"
          ],
          [
           "SR-161 N/O 8th NB/SB",
           "Pierce"
          ],
          [
           "SR-7 @ Thurston County NB/SB",
           "Pierce"
          ],
          [
           "SR-7 W/O Alder Cutoff NB/SB",
           "Pierce"
          ],
          [
           "SR-7 N/O Eatonville Hwy NB/SB",
           "Pierce"
          ],
          [
           "SR-7 N/O Silver Lake NB/SB",
           "Pierce"
          ],
          [
           "SR-7 S/O SR-702 NB/SB",
           "Pierce"
          ],
          [
           "SR-7 N/O 304th NB/SB",
           "Pierce"
          ],
          [
           "SR-7 N/O 260th NB/SB",
           "Pierce"
          ],
          [
           "SR-7 S/O 224th NB/SB",
           "Pierce"
          ],
          [
           "SR-7 N/O 224th NB/SB",
           "Pierce"
          ],
          [
           "SR-7 N/O 38th NB/SB",
           "Pierce"
          ],
          [
           "SR-162 @ SR-410 WB/EB",
           "Pierce"
          ],
          [
           "SR-162 S/O Pioneer WB/EB",
           "Pierce"
          ],
          [
           "SR-162 E/O Orville WB/EB",
           "Pierce"
          ],
          [
           "SR-162 E/O S Prairie WB/EB",
           "Pierce"
          ],
          [
           "SR-162 N/O SR-165 WB/EB",
           "Pierce"
          ],
          [
           "SR-163 @ SR-16 NB/SB",
           "Pierce"
          ],
          [
           "SR-163 N/O 37th NB/SB",
           "Pierce"
          ],
          [
           "SR-163 N/O Park NB/SB",
           "Pierce"
          ],
          [
           "SR-507 S/O SR-7 NB/SB",
           "Pierce"
          ],
          [
           "SR-507 S/O E Gate NB/SB",
           "Pierce"
          ],
          [
           "SR-507 S/O 288th NB/SB",
           "Pierce"
          ],
          [
           "SR-507 N/O 346th NB/SB",
           "Pierce"
          ],
          [
           "SR-702 E/O SR-507 WB/EB",
           "Pierce"
          ],
          [
           "SR-702 E/O Harts Lake WB/EB",
           "Pierce"
          ],
          [
           "SR-702 E/O 40th WB/EB",
           "Pierce"
          ],
          [
           "SR-702 W/O 8th WB/EB",
           "Pierce"
          ],
          [
           "SR-702 E/O 8th WB/EB",
           "Pierce"
          ],
          [
           "SR-165 W/O SR-162 NB/SB",
           "Pierce"
          ],
          [
           "SR-165 N/O Davis NB/SB",
           "Pierce"
          ],
          [
           "SR-165 N/O Wilkeson-Carbonado NB/SB",
           "Pierce"
          ],
          [
           "SR-704 E/O Spanaway Loop WB/EB",
           "Pierce"
          ],
          [
           "SR-706 E/O SR-7 WB/EB",
           "Pierce"
          ],
          [
           "SR-706 E/O Kernahan WB/EB",
           "Pierce"
          ]
         ],
         "hovertemplate": "Observed=%{x}<br>Model=%{y}<br>location=%{customdata[0]}<br>County=%{customdata[1]}<extra></extra>",
         "legendgroup": "",
         "line": {
          "color": "Grey",
          "width": 2
         },
         "marker": {
          "color": "#91268F",
          "symbol": "circle"
         },
         "mode": "markers",
         "name": "",
         "orientation": "v",
         "showlegend": false,
         "type": "scatter",
         "x": [
          5573,
          5542,
          5922,
          6132,
          4944,
          4825,
          5532,
          5301,
          5029,
          5099,
          5967,
          6014,
          2704,
          5893,
          3834,
          4831,
          2397,
          2397,
          7266,
          3486,
          614,
          21,
          17,
          14,
          3402,
          3992,
          4756,
          962,
          2112,
          103,
          11,
          14,
          1392,
          2775,
          1196,
          1762,
          1426,
          79,
          104,
          57,
          52,
          25,
          201,
          112,
          418,
          338,
          324,
          324,
          532,
          850,
          1739,
          180,
          175,
          142,
          110,
          67,
          90,
          98,
          400,
          377,
          432,
          374,
          168,
          420,
          1034,
          209,
          136,
          135,
          40,
          36,
          90,
          464,
          352,
          520,
          351,
          252,
          220,
          266,
          166,
          254,
          166,
          50,
          18,
          648,
          38,
          13
         ],
         "xaxis": "x",
         "y": [
          5574,
          5572,
          5829,
          5831,
          5806,
          5807,
          5675,
          5616,
          5346,
          5924,
          6036,
          6070,
          5444,
          8221,
          10293,
          10156,
          1319,
          1276,
          4419,
          1818,
          84,
          94,
          94,
          94,
          1317,
          1647,
          2950,
          820,
          1163,
          1910,
          0,
          0,
          1307,
          990,
          872,
          4740,
          3829,
          27,
          21,
          253,
          238,
          0,
          41,
          41,
          89,
          89,
          111,
          139,
          176,
          716,
          1155,
          78,
          718,
          0,
          16,
          16,
          16,
          16,
          68,
          70,
          72,
          59,
          13,
          126,
          95,
          5,
          5,
          5,
          95,
          96,
          249,
          441,
          475,
          468,
          468,
          6,
          6,
          19,
          19,
          17,
          5,
          0,
          0,
          395,
          0,
          0
         ],
         "yaxis": "y"
        },
        {
         "hovertemplate": "Observed=%{x}<br>Model=%{y}<extra></extra>",
         "legendgroup": "",
         "line": {
          "color": "Grey",
          "dash": "solid",
          "width": 2
         },
         "marker": {
          "symbol": "circle"
         },
         "mode": "lines",
         "name": "",
         "orientation": "v",
         "showlegend": false,
         "type": "scatter",
         "x": [
          0.0,
          73.39393939393939,
          146.78787878787878,
          220.1818181818182,
          293.57575757575756,
          366.96969696969694,
          440.3636363636364,
          513.7575757575758,
          587.1515151515151,
          660.5454545454545,
          733.9393939393939,
          807.3333333333333,
          880.7272727272727,
          954.1212121212121,
          1027.5151515151515,
          1100.9090909090908,
          1174.3030303030303,
          1247.6969696969697,
          1321.090909090909,
          1394.4848484848485,
          1467.8787878787878,
          1541.2727272727273,
          1614.6666666666665,
          1688.060606060606,
          1761.4545454545455,
          1834.8484848484848,
          1908.2424242424242,
          1981.6363636363635,
          2055.030303030303,
          2128.4242424242425,
          2201.8181818181815,
          2275.212121212121,
          2348.6060606060605,
          2422.0,
          2495.3939393939395,
          2568.7878787878785,
          2642.181818181818,
          2715.5757575757575,
          2788.969696969697,
          2862.363636363636,
          2935.7575757575755,
          3009.151515151515,
          3082.5454545454545,
          3155.939393939394,
          3229.333333333333,
          3302.7272727272725,
          3376.121212121212,
          3449.5151515151515,
          3522.909090909091,
          3596.30303030303,
          3669.6969696969695,
          3743.090909090909,
          3816.4848484848485,
          3889.8787878787875,
          3963.272727272727,
          4036.6666666666665,
          4110.060606060606,
          4183.454545454545,
          4256.848484848485,
          4330.242424242424,
          4403.636363636363,
          4477.030303030303,
          4550.424242424242,
          4623.818181818182,
          4697.212121212121,
          4770.60606060606,
          4844.0,
          4917.393939393939,
          4990.787878787879,
          5064.181818181818,
          5137.575757575757,
          5210.969696969697,
          5284.363636363636,
          5357.757575757576,
          5431.151515151515,
          5504.545454545454,
          5577.939393939394,
          5651.333333333333,
          5724.727272727272,
          5798.121212121212,
          5871.515151515151,
          5944.909090909091,
          6018.30303030303,
          6091.696969696969,
          6165.090909090909,
          6238.484848484848,
          6311.878787878788,
          6385.272727272727,
          6458.666666666666,
          6532.060606060606,
          6605.454545454545,
          6678.848484848485,
          6752.242424242424,
          6825.636363636363,
          6899.030303030303,
          6972.424242424242,
          7045.818181818182,
          7119.212121212121,
          7192.60606060606,
          7266.0
         ],
         "xaxis": "x",
         "y": [
          -37.38947992051453,
          40.01905497703267,
          117.42758987457987,
          194.83612477212708,
          272.24465966967426,
          349.6531945672214,
          427.0617294647687,
          504.4702643623159,
          581.8787992598631,
          659.2873341574102,
          736.6958690549574,
          814.1044039525045,
          891.5129388500519,
          968.9214737475991,
          1046.3300086451463,
          1123.7385435426934,
          1201.1470784402406,
          1278.555613337788,
          1355.964148235335,
          1433.3726831328822,
          1510.7812180304293,
          1588.1897529279765,
          1665.5982878255236,
          1743.006822723071,
          1820.4153576206184,
          1897.8238925181654,
          1975.2324274157127,
          2052.6409623132595,
          2130.049497210807,
          2207.4580321083545,
          2284.8665670059013,
          2362.2751019034486,
          2439.683636800996,
          2517.092171698543,
          2594.5007065960904,
          2671.909241493637,
          2749.3177763911845,
          2826.7263112887317,
          2904.134846186279,
          2981.543381083826,
          3058.951915981373,
          3136.3604508789203,
          3213.7689857764676,
          3291.177520674015,
          3368.5860555715617,
          3445.994590469109,
          3523.4031253666567,
          3600.811660264204,
          3678.2201951617512,
          3755.628730059298,
          3833.0372649568453,
          3910.4457998543926,
          3987.85433475194,
          4065.2628696494867,
          4142.6714045470335,
          4220.079939444581,
          4297.488474342129,
          4374.897009239676,
          4452.3055441372235,
          4529.71407903477,
          4607.122613932317,
          4684.531148829865,
          4761.939683727412,
          4839.348218624959,
          4916.756753522506,
          4994.165288420053,
          5071.573823317601,
          5148.9823582151475,
          5226.390893112695,
          5303.799428010242,
          5381.207962907789,
          5458.616497805337,
          5536.025032702883,
          5613.433567600431,
          5690.842102497978,
          5768.250637395525,
          5845.6591722930725,
          5923.067707190619,
          6000.476242088166,
          6077.884776985714,
          6155.293311883261,
          6232.701846780808,
          6310.110381678355,
          6387.518916575902,
          6464.92745147345,
          6542.335986370997,
          6619.744521268544,
          6697.153056166091,
          6774.561591063638,
          6851.970125961186,
          6929.3786608587325,
          7006.787195756281,
          7084.195730653828,
          7161.604265551375,
          7239.0128004489225,
          7316.421335346469,
          7393.829870244017,
          7471.238405141564,
          7548.646940039111,
          7626.055474936658
         ],
         "yaxis": "y"
        }
       ],
       "layout": {
        "annotations": [
         {
          "align": "right",
          "font": {
           "color": "pink",
           "size": 12
          },
          "showarrow": false,
          "text": "y = x",
          "x": 10807.65,
          "y": 10807.65
         },
         {
          "align": "right",
          "font": {
           "color": "black",
           "size": 12
          },
          "showarrow": false,
          "text": "r^2 = 0.76",
          "x": 7629.3,
          "y": 8007.358248683491
         }
        ],
        "height": 600,
        "legend": {
         "tracegroupgap": 0
        },
        "margin": {
         "b": 100,
         "l": 100,
         "r": 100,
         "t": 100
        },
        "shapes": [
         {
          "line": {
           "color": "Red",
           "dash": "dash",
           "width": 2
          },
          "type": "line",
          "x0": 0,
          "x1": 10293,
          "y0": 0,
          "y1": 10293
         }
        ],
        "template": {
         "data": {
          "bar": [
           {
            "error_x": {
             "color": "rgb(36,36,36)"
            },
            "error_y": {
             "color": "rgb(36,36,36)"
            },
            "marker": {
             "line": {
              "color": "white",
              "width": 0.5
             },
             "pattern": {
              "fillmode": "overlay",
              "size": 10,
              "solidity": 0.2
             }
            },
            "type": "bar"
           }
          ],
          "barpolar": [
           {
            "marker": {
             "line": {
              "color": "white",
              "width": 0.5
             },
             "pattern": {
              "fillmode": "overlay",
              "size": 10,
              "solidity": 0.2
             }
            },
            "type": "barpolar"
           }
          ],
          "carpet": [
           {
            "aaxis": {
             "endlinecolor": "rgb(36,36,36)",
             "gridcolor": "white",
             "linecolor": "white",
             "minorgridcolor": "white",
             "startlinecolor": "rgb(36,36,36)"
            },
            "baxis": {
             "endlinecolor": "rgb(36,36,36)",
             "gridcolor": "white",
             "linecolor": "white",
             "minorgridcolor": "white",
             "startlinecolor": "rgb(36,36,36)"
            },
            "type": "carpet"
           }
          ],
          "choropleth": [
           {
            "colorbar": {
             "outlinewidth": 1,
             "tickcolor": "rgb(36,36,36)",
             "ticks": "outside"
            },
            "type": "choropleth"
           }
          ],
          "contour": [
           {
            "colorbar": {
             "outlinewidth": 1,
             "tickcolor": "rgb(36,36,36)",
             "ticks": "outside"
            },
            "colorscale": [
             [
              0.0,
              "#440154"
             ],
             [
              0.1111111111111111,
              "#482878"
             ],
             [
              0.2222222222222222,
              "#3e4989"
             ],
             [
              0.3333333333333333,
              "#31688e"
             ],
             [
              0.4444444444444444,
              "#26828e"
             ],
             [
              0.5555555555555556,
              "#1f9e89"
             ],
             [
              0.6666666666666666,
              "#35b779"
             ],
             [
              0.7777777777777778,
              "#6ece58"
             ],
             [
              0.8888888888888888,
              "#b5de2b"
             ],
             [
              1.0,
              "#fde725"
             ]
            ],
            "type": "contour"
           }
          ],
          "contourcarpet": [
           {
            "colorbar": {
             "outlinewidth": 1,
             "tickcolor": "rgb(36,36,36)",
             "ticks": "outside"
            },
            "type": "contourcarpet"
           }
          ],
          "heatmap": [
           {
            "colorbar": {
             "outlinewidth": 1,
             "tickcolor": "rgb(36,36,36)",
             "ticks": "outside"
            },
            "colorscale": [
             [
              0.0,
              "#440154"
             ],
             [
              0.1111111111111111,
              "#482878"
             ],
             [
              0.2222222222222222,
              "#3e4989"
             ],
             [
              0.3333333333333333,
              "#31688e"
             ],
             [
              0.4444444444444444,
              "#26828e"
             ],
             [
              0.5555555555555556,
              "#1f9e89"
             ],
             [
              0.6666666666666666,
              "#35b779"
             ],
             [
              0.7777777777777778,
              "#6ece58"
             ],
             [
              0.8888888888888888,
              "#b5de2b"
             ],
             [
              1.0,
              "#fde725"
             ]
            ],
            "type": "heatmap"
           }
          ],
          "heatmapgl": [
           {
            "colorbar": {
             "outlinewidth": 1,
             "tickcolor": "rgb(36,36,36)",
             "ticks": "outside"
            },
            "colorscale": [
             [
              0.0,
              "#440154"
             ],
             [
              0.1111111111111111,
              "#482878"
             ],
             [
              0.2222222222222222,
              "#3e4989"
             ],
             [
              0.3333333333333333,
              "#31688e"
             ],
             [
              0.4444444444444444,
              "#26828e"
             ],
             [
              0.5555555555555556,
              "#1f9e89"
             ],
             [
              0.6666666666666666,
              "#35b779"
             ],
             [
              0.7777777777777778,
              "#6ece58"
             ],
             [
              0.8888888888888888,
              "#b5de2b"
             ],
             [
              1.0,
              "#fde725"
             ]
            ],
            "type": "heatmapgl"
           }
          ],
          "histogram": [
           {
            "marker": {
             "line": {
              "color": "white",
              "width": 0.6
             }
            },
            "type": "histogram"
           }
          ],
          "histogram2d": [
           {
            "colorbar": {
             "outlinewidth": 1,
             "tickcolor": "rgb(36,36,36)",
             "ticks": "outside"
            },
            "colorscale": [
             [
              0.0,
              "#440154"
             ],
             [
              0.1111111111111111,
              "#482878"
             ],
             [
              0.2222222222222222,
              "#3e4989"
             ],
             [
              0.3333333333333333,
              "#31688e"
             ],
             [
              0.4444444444444444,
              "#26828e"
             ],
             [
              0.5555555555555556,
              "#1f9e89"
             ],
             [
              0.6666666666666666,
              "#35b779"
             ],
             [
              0.7777777777777778,
              "#6ece58"
             ],
             [
              0.8888888888888888,
              "#b5de2b"
             ],
             [
              1.0,
              "#fde725"
             ]
            ],
            "type": "histogram2d"
           }
          ],
          "histogram2dcontour": [
           {
            "colorbar": {
             "outlinewidth": 1,
             "tickcolor": "rgb(36,36,36)",
             "ticks": "outside"
            },
            "colorscale": [
             [
              0.0,
              "#440154"
             ],
             [
              0.1111111111111111,
              "#482878"
             ],
             [
              0.2222222222222222,
              "#3e4989"
             ],
             [
              0.3333333333333333,
              "#31688e"
             ],
             [
              0.4444444444444444,
              "#26828e"
             ],
             [
              0.5555555555555556,
              "#1f9e89"
             ],
             [
              0.6666666666666666,
              "#35b779"
             ],
             [
              0.7777777777777778,
              "#6ece58"
             ],
             [
              0.8888888888888888,
              "#b5de2b"
             ],
             [
              1.0,
              "#fde725"
             ]
            ],
            "type": "histogram2dcontour"
           }
          ],
          "mesh3d": [
           {
            "colorbar": {
             "outlinewidth": 1,
             "tickcolor": "rgb(36,36,36)",
             "ticks": "outside"
            },
            "type": "mesh3d"
           }
          ],
          "parcoords": [
           {
            "line": {
             "colorbar": {
              "outlinewidth": 1,
              "tickcolor": "rgb(36,36,36)",
              "ticks": "outside"
             }
            },
            "type": "parcoords"
           }
          ],
          "pie": [
           {
            "automargin": true,
            "type": "pie"
           }
          ],
          "scatter": [
           {
            "fillpattern": {
             "fillmode": "overlay",
             "size": 10,
             "solidity": 0.2
            },
            "type": "scatter"
           }
          ],
          "scatter3d": [
           {
            "line": {
             "colorbar": {
              "outlinewidth": 1,
              "tickcolor": "rgb(36,36,36)",
              "ticks": "outside"
             }
            },
            "marker": {
             "colorbar": {
              "outlinewidth": 1,
              "tickcolor": "rgb(36,36,36)",
              "ticks": "outside"
             }
            },
            "type": "scatter3d"
           }
          ],
          "scattercarpet": [
           {
            "marker": {
             "colorbar": {
              "outlinewidth": 1,
              "tickcolor": "rgb(36,36,36)",
              "ticks": "outside"
             }
            },
            "type": "scattercarpet"
           }
          ],
          "scattergeo": [
           {
            "marker": {
             "colorbar": {
              "outlinewidth": 1,
              "tickcolor": "rgb(36,36,36)",
              "ticks": "outside"
             }
            },
            "type": "scattergeo"
           }
          ],
          "scattergl": [
           {
            "marker": {
             "colorbar": {
              "outlinewidth": 1,
              "tickcolor": "rgb(36,36,36)",
              "ticks": "outside"
             }
            },
            "type": "scattergl"
           }
          ],
          "scattermapbox": [
           {
            "marker": {
             "colorbar": {
              "outlinewidth": 1,
              "tickcolor": "rgb(36,36,36)",
              "ticks": "outside"
             }
            },
            "type": "scattermapbox"
           }
          ],
          "scatterpolar": [
           {
            "marker": {
             "colorbar": {
              "outlinewidth": 1,
              "tickcolor": "rgb(36,36,36)",
              "ticks": "outside"
             }
            },
            "type": "scatterpolar"
           }
          ],
          "scatterpolargl": [
           {
            "marker": {
             "colorbar": {
              "outlinewidth": 1,
              "tickcolor": "rgb(36,36,36)",
              "ticks": "outside"
             }
            },
            "type": "scatterpolargl"
           }
          ],
          "scatterternary": [
           {
            "marker": {
             "colorbar": {
              "outlinewidth": 1,
              "tickcolor": "rgb(36,36,36)",
              "ticks": "outside"
             }
            },
            "type": "scatterternary"
           }
          ],
          "surface": [
           {
            "colorbar": {
             "outlinewidth": 1,
             "tickcolor": "rgb(36,36,36)",
             "ticks": "outside"
            },
            "colorscale": [
             [
              0.0,
              "#440154"
             ],
             [
              0.1111111111111111,
              "#482878"
             ],
             [
              0.2222222222222222,
              "#3e4989"
             ],
             [
              0.3333333333333333,
              "#31688e"
             ],
             [
              0.4444444444444444,
              "#26828e"
             ],
             [
              0.5555555555555556,
              "#1f9e89"
             ],
             [
              0.6666666666666666,
              "#35b779"
             ],
             [
              0.7777777777777778,
              "#6ece58"
             ],
             [
              0.8888888888888888,
              "#b5de2b"
             ],
             [
              1.0,
              "#fde725"
             ]
            ],
            "type": "surface"
           }
          ],
          "table": [
           {
            "cells": {
             "fill": {
              "color": "rgb(237,237,237)"
             },
             "line": {
              "color": "white"
             }
            },
            "header": {
             "fill": {
              "color": "rgb(217,217,217)"
             },
             "line": {
              "color": "white"
             }
            },
            "type": "table"
           }
          ]
         },
         "layout": {
          "annotationdefaults": {
           "arrowhead": 0,
           "arrowwidth": 1
          },
          "autotypenumbers": "strict",
          "coloraxis": {
           "colorbar": {
            "outlinewidth": 1,
            "tickcolor": "rgb(36,36,36)",
            "ticks": "outside"
           }
          },
          "colorscale": {
           "diverging": [
            [
             0.0,
             "rgb(103,0,31)"
            ],
            [
             0.1,
             "rgb(178,24,43)"
            ],
            [
             0.2,
             "rgb(214,96,77)"
            ],
            [
             0.3,
             "rgb(244,165,130)"
            ],
            [
             0.4,
             "rgb(253,219,199)"
            ],
            [
             0.5,
             "rgb(247,247,247)"
            ],
            [
             0.6,
             "rgb(209,229,240)"
            ],
            [
             0.7,
             "rgb(146,197,222)"
            ],
            [
             0.8,
             "rgb(67,147,195)"
            ],
            [
             0.9,
             "rgb(33,102,172)"
            ],
            [
             1.0,
             "rgb(5,48,97)"
            ]
           ],
           "sequential": [
            [
             0.0,
             "#440154"
            ],
            [
             0.1111111111111111,
             "#482878"
            ],
            [
             0.2222222222222222,
             "#3e4989"
            ],
            [
             0.3333333333333333,
             "#31688e"
            ],
            [
             0.4444444444444444,
             "#26828e"
            ],
            [
             0.5555555555555556,
             "#1f9e89"
            ],
            [
             0.6666666666666666,
             "#35b779"
            ],
            [
             0.7777777777777778,
             "#6ece58"
            ],
            [
             0.8888888888888888,
             "#b5de2b"
            ],
            [
             1.0,
             "#fde725"
            ]
           ],
           "sequentialminus": [
            [
             0.0,
             "#440154"
            ],
            [
             0.1111111111111111,
             "#482878"
            ],
            [
             0.2222222222222222,
             "#3e4989"
            ],
            [
             0.3333333333333333,
             "#31688e"
            ],
            [
             0.4444444444444444,
             "#26828e"
            ],
            [
             0.5555555555555556,
             "#1f9e89"
            ],
            [
             0.6666666666666666,
             "#35b779"
            ],
            [
             0.7777777777777778,
             "#6ece58"
            ],
            [
             0.8888888888888888,
             "#b5de2b"
            ],
            [
             1.0,
             "#fde725"
            ]
           ]
          },
          "colorway": [
           "#91268F",
           "#8CC63E",
           "#00A7A0",
           "#F05A28",
           "#4C4C4C",
           "#630460",
           "#9f3913",
           "#588527",
           "#00716c",
           "#3e4040"
          ],
          "font": {
           "color": "rgb(36,36,36)",
           "family": "Poppins",
           "size": 11
          },
          "geo": {
           "bgcolor": "white",
           "lakecolor": "white",
           "landcolor": "white",
           "showlakes": true,
           "showland": true,
           "subunitcolor": "white"
          },
          "hoverlabel": {
           "align": "left"
          },
          "hovermode": "closest",
          "mapbox": {
           "style": "light"
          },
          "paper_bgcolor": "white",
          "plot_bgcolor": "white",
          "polar": {
           "angularaxis": {
            "gridcolor": "rgb(232,232,232)",
            "linecolor": "rgb(36,36,36)",
            "showgrid": false,
            "showline": true,
            "ticks": "outside"
           },
           "bgcolor": "white",
           "radialaxis": {
            "gridcolor": "rgb(232,232,232)",
            "linecolor": "rgb(36,36,36)",
            "showgrid": false,
            "showline": true,
            "ticks": "outside"
           }
          },
          "scene": {
           "xaxis": {
            "backgroundcolor": "white",
            "gridcolor": "rgb(232,232,232)",
            "gridwidth": 2,
            "linecolor": "rgb(36,36,36)",
            "showbackground": true,
            "showgrid": false,
            "showline": true,
            "ticks": "outside",
            "zeroline": false,
            "zerolinecolor": "rgb(36,36,36)"
           },
           "yaxis": {
            "backgroundcolor": "white",
            "gridcolor": "rgb(232,232,232)",
            "gridwidth": 2,
            "linecolor": "rgb(36,36,36)",
            "showbackground": true,
            "showgrid": false,
            "showline": true,
            "ticks": "outside",
            "zeroline": false,
            "zerolinecolor": "rgb(36,36,36)"
           },
           "zaxis": {
            "backgroundcolor": "white",
            "gridcolor": "rgb(232,232,232)",
            "gridwidth": 2,
            "linecolor": "rgb(36,36,36)",
            "showbackground": true,
            "showgrid": false,
            "showline": true,
            "ticks": "outside",
            "zeroline": false,
            "zerolinecolor": "rgb(36,36,36)"
           }
          },
          "shapedefaults": {
           "fillcolor": "black",
           "line": {
            "width": 0
           },
           "opacity": 0.3
          },
          "ternary": {
           "aaxis": {
            "gridcolor": "rgb(232,232,232)",
            "linecolor": "rgb(36,36,36)",
            "showgrid": false,
            "showline": true,
            "ticks": "outside"
           },
           "baxis": {
            "gridcolor": "rgb(232,232,232)",
            "linecolor": "rgb(36,36,36)",
            "showgrid": false,
            "showline": true,
            "ticks": "outside"
           },
           "bgcolor": "white",
           "caxis": {
            "gridcolor": "rgb(232,232,232)",
            "linecolor": "rgb(36,36,36)",
            "showgrid": false,
            "showline": true,
            "ticks": "outside"
           }
          },
          "title": {
           "x": 0.05
          },
          "xaxis": {
           "automargin": true,
           "gridcolor": "rgb(232,232,232)",
           "linecolor": "rgb(36,36,36)",
           "showgrid": false,
           "showline": true,
           "ticks": "outside",
           "title": {
            "standoff": 15
           },
           "zeroline": false,
           "zerolinecolor": "rgb(36,36,36)"
          },
          "yaxis": {
           "automargin": true,
           "gridcolor": "rgb(232,232,232)",
           "linecolor": "rgb(36,36,36)",
           "showgrid": false,
           "showline": true,
           "ticks": "outside",
           "title": {
            "standoff": 15
           },
           "zeroline": false,
           "zerolinecolor": "rgb(36,36,36)"
          }
         }
        },
        "title": {
         "text": "Heavy Trucks: Pierce"
        },
        "width": 800,
        "xaxis": {
         "anchor": "y",
         "domain": [
          0.0,
          1.0
         ],
         "title": {
          "text": "Observed"
         }
        },
        "yaxis": {
         "anchor": "x",
         "domain": [
          0.0,
          1.0
         ],
         "title": {
          "text": "Model"
         }
        }
       }
      },
      "text/html": [
       "<div>                            <div id=\"53a5e150-7594-4116-bbef-95a1ae6af132\" class=\"plotly-graph-div\" style=\"height:600px; width:800px;\"></div>            <script type=\"text/javascript\">                require([\"plotly\"], function(Plotly) {                    window.PLOTLYENV=window.PLOTLYENV || {};                                    if (document.getElementById(\"53a5e150-7594-4116-bbef-95a1ae6af132\")) {                    Plotly.newPlot(                        \"53a5e150-7594-4116-bbef-95a1ae6af132\",                        [{\"customdata\":[[\"I-5 S\\u002fO Mounts NB\",\"Pierce\"],[\"I-5 S\\u002fO Mounts SB\",\"Pierce\"],[\"I-5 S\\u002fO Division NB\",\"Pierce\"],[\"I-5 S\\u002fO Division SB\",\"Pierce\"],[\"I-5 @ N\\u002fO Division NB\",\"Pierce\"],[\"I-5 @ N\\u002fO Division SB\",\"Pierce\"],[\"I-5 S\\u002fO SR-512 NB\",\"Pierce\"],[\"I-5 S\\u002fO SR-512 SB\",\"Pierce\"],[\"I-5 N\\u002fO SR-512 NB\",\"Pierce\"],[\"I-5 N\\u002fO SR-512 SB\",\"Pierce\"],[\"I-5 N\\u002fO 56th NB\",\"Pierce\"],[\"I-5 N\\u002fO 56th SB\",\"Pierce\"],[\"I-5 E\\u002fO SR-16 NB\",\"Pierce\"],[\"I-5 E\\u002fO SR-16 SB\",\"Pierce\"],[\"I-5 E\\u002fO Port of Tacoma NB\",\"Pierce\"],[\"I-5 E\\u002fO Port of Tacoma SB (HOV from 56)\",\"Pierce\"],[\"SR-512 W\\u002fO Meridian WB\",\"Pierce\"],[\"SR-512 W\\u002fO Meridian EB\",\"Pierce\"],[\"SR-167 W\\u002fO SR-410 NB\\u002fSB\",\"Pierce\"],[\"SR-167 E\\u002fO SR-161 NB\\u002fSB\",\"Pierce\"],[\"SR-410 E\\u002fO S Prairie WB\\u002fEB\",\"Pierce\"],[\"SR-410 E\\u002fO Chinook WB\\u002fEB\",\"Pierce\"],[\"SR-410 W\\u002fO SR-123 WB\\u002fEB\",\"Pierce\"],[\"SR-410 E\\u002fO SR-123 WB\\u002fEB\",\"Pierce\"],[\"SR-512 @ I-5 WB\\u002fEB\",\"Pierce\"],[\"SR-512 W\\u002fO SR-7 WB\\u002fEB\",\"Pierce\"],[\"SR-512 S\\u002fO SR-167 WB\\u002fEB\",\"Pierce\"],[\"SR-509 E\\u002fO I-705 NB\\u002fSB\",\"Pierce\"],[\"SR-509 W\\u002fO Alexander NB\\u002fSB\",\"Pierce\"],[\"SR-509 S\\u002fO 11th NB\\u002fSB\",\"Pierce\"],[\"SR-509 N\\u002fO Hyada NB\\u002fSB\",\"Pierce\"],[\"SR-509 E\\u002fO Soundview NB\\u002fSB\",\"Pierce\"],[\"SR-99 @ I-5 NB\\u002fSB\",\"Pierce\"],[\"SR-99 E\\u002fO 54th NB\\u002fSB\",\"Pierce\"],[\"SR-99 S\\u002fO Porter NB\\u002fSB\",\"Pierce\"],[\"SR-16 @ TNB NB\\u002fSB\",\"Pierce\"],[\"SR-16 @ Purdy Dr NB\\u002fSB\",\"Pierce\"],[\"SR-302 N\\u002fO 144th WB\\u002fEB\",\"Pierce\"],[\"SR-302 S\\u002fO 144th WB\\u002fEB\",\"Pierce\"],[\"SR-302 W\\u002fO Key Peninsula Hwy WB\\u002fEB\",\"Pierce\"],[\"SR-302 W\\u002fO Wright-Bliss WB\\u002fEB (E\\u002fO?)\",\"Pierce\"],[\"SR-161 E\\u002fO SR-7 NB\\u002fSB\",\"Pierce\"],[\"SR-161 N\\u002fO Center NB\\u002fSB\",\"Pierce\"],[\"SR-161 N\\u002fO Eatonville Cutoff NB\\u002fSB\",\"Pierce\"],[\"SR-161 N\\u002fO 304th NB\\u002fSB\",\"Pierce\"],[\"SR-161 N\\u002fO 264th NB\\u002fSB\",\"Pierce\"],[\"SR-161 S\\u002fO 224th NB\\u002fSB\",\"Pierce\"],[\"SR-161 N\\u002fO 224th NB\\u002fSB\",\"Pierce\"],[\"SR-161 N\\u002fO 204th NB\\u002fSB\",\"Pierce\"],[\"SR-161 S\\u002fO SR-167 SB off-ramp NB\\u002fSB\",\"Pierce\"],[\"SR-161 S\\u002fO Valley NB\\u002fSB\",\"Pierce\"],[\"SR-161 N\\u002fO Valley NB\\u002fSB\",\"Pierce\"],[\"SR-161 N\\u002fO 8th NB\\u002fSB\",\"Pierce\"],[\"SR-7 @ Thurston County NB\\u002fSB\",\"Pierce\"],[\"SR-7 W\\u002fO Alder Cutoff NB\\u002fSB\",\"Pierce\"],[\"SR-7 N\\u002fO Eatonville Hwy NB\\u002fSB\",\"Pierce\"],[\"SR-7 N\\u002fO Silver Lake NB\\u002fSB\",\"Pierce\"],[\"SR-7 S\\u002fO SR-702 NB\\u002fSB\",\"Pierce\"],[\"SR-7 N\\u002fO 304th NB\\u002fSB\",\"Pierce\"],[\"SR-7 N\\u002fO 260th NB\\u002fSB\",\"Pierce\"],[\"SR-7 S\\u002fO 224th NB\\u002fSB\",\"Pierce\"],[\"SR-7 N\\u002fO 224th NB\\u002fSB\",\"Pierce\"],[\"SR-7 N\\u002fO 38th NB\\u002fSB\",\"Pierce\"],[\"SR-162 @ SR-410 WB\\u002fEB\",\"Pierce\"],[\"SR-162 S\\u002fO Pioneer WB\\u002fEB\",\"Pierce\"],[\"SR-162 E\\u002fO Orville WB\\u002fEB\",\"Pierce\"],[\"SR-162 E\\u002fO S Prairie WB\\u002fEB\",\"Pierce\"],[\"SR-162 N\\u002fO SR-165 WB\\u002fEB\",\"Pierce\"],[\"SR-163 @ SR-16 NB\\u002fSB\",\"Pierce\"],[\"SR-163 N\\u002fO 37th NB\\u002fSB\",\"Pierce\"],[\"SR-163 N\\u002fO Park NB\\u002fSB\",\"Pierce\"],[\"SR-507 S\\u002fO SR-7 NB\\u002fSB\",\"Pierce\"],[\"SR-507 S\\u002fO E Gate NB\\u002fSB\",\"Pierce\"],[\"SR-507 S\\u002fO 288th NB\\u002fSB\",\"Pierce\"],[\"SR-507 N\\u002fO 346th NB\\u002fSB\",\"Pierce\"],[\"SR-702 E\\u002fO SR-507 WB\\u002fEB\",\"Pierce\"],[\"SR-702 E\\u002fO Harts Lake WB\\u002fEB\",\"Pierce\"],[\"SR-702 E\\u002fO 40th WB\\u002fEB\",\"Pierce\"],[\"SR-702 W\\u002fO 8th WB\\u002fEB\",\"Pierce\"],[\"SR-702 E\\u002fO 8th WB\\u002fEB\",\"Pierce\"],[\"SR-165 W\\u002fO SR-162 NB\\u002fSB\",\"Pierce\"],[\"SR-165 N\\u002fO Davis NB\\u002fSB\",\"Pierce\"],[\"SR-165 N\\u002fO Wilkeson-Carbonado NB\\u002fSB\",\"Pierce\"],[\"SR-704 E\\u002fO Spanaway Loop WB\\u002fEB\",\"Pierce\"],[\"SR-706 E\\u002fO SR-7 WB\\u002fEB\",\"Pierce\"],[\"SR-706 E\\u002fO Kernahan WB\\u002fEB\",\"Pierce\"]],\"hovertemplate\":\"Observed=%{x}\\u003cbr\\u003eModel=%{y}\\u003cbr\\u003elocation=%{customdata[0]}\\u003cbr\\u003eCounty=%{customdata[1]}\\u003cextra\\u003e\\u003c\\u002fextra\\u003e\",\"legendgroup\":\"\",\"marker\":{\"color\":\"#91268F\",\"symbol\":\"circle\"},\"mode\":\"markers\",\"name\":\"\",\"orientation\":\"v\",\"showlegend\":false,\"x\":[5573,5542,5922,6132,4944,4825,5532,5301,5029,5099,5967,6014,2704,5893,3834,4831,2397,2397,7266,3486,614,21,17,14,3402,3992,4756,962,2112,103,11,14,1392,2775,1196,1762,1426,79,104,57,52,25,201,112,418,338,324,324,532,850,1739,180,175,142,110,67,90,98,400,377,432,374,168,420,1034,209,136,135,40,36,90,464,352,520,351,252,220,266,166,254,166,50,18,648,38,13],\"xaxis\":\"x\",\"y\":[5574,5572,5829,5831,5806,5807,5675,5616,5346,5924,6036,6070,5444,8221,10293,10156,1319,1276,4419,1818,84,94,94,94,1317,1647,2950,820,1163,1910,0,0,1307,990,872,4740,3829,27,21,253,238,0,41,41,89,89,111,139,176,716,1155,78,718,0,16,16,16,16,68,70,72,59,13,126,95,5,5,5,95,96,249,441,475,468,468,6,6,19,19,17,5,0,0,395,0,0],\"yaxis\":\"y\",\"type\":\"scatter\",\"line\":{\"color\":\"Grey\",\"width\":2}},{\"hovertemplate\":\"Observed=%{x}\\u003cbr\\u003eModel=%{y}\\u003cextra\\u003e\\u003c\\u002fextra\\u003e\",\"legendgroup\":\"\",\"line\":{\"color\":\"Grey\",\"dash\":\"solid\",\"width\":2},\"marker\":{\"symbol\":\"circle\"},\"mode\":\"lines\",\"name\":\"\",\"orientation\":\"v\",\"showlegend\":false,\"x\":[0.0,73.39393939393939,146.78787878787878,220.1818181818182,293.57575757575756,366.96969696969694,440.3636363636364,513.7575757575758,587.1515151515151,660.5454545454545,733.9393939393939,807.3333333333333,880.7272727272727,954.1212121212121,1027.5151515151515,1100.9090909090908,1174.3030303030303,1247.6969696969697,1321.090909090909,1394.4848484848485,1467.8787878787878,1541.2727272727273,1614.6666666666665,1688.060606060606,1761.4545454545455,1834.8484848484848,1908.2424242424242,1981.6363636363635,2055.030303030303,2128.4242424242425,2201.8181818181815,2275.212121212121,2348.6060606060605,2422.0,2495.3939393939395,2568.7878787878785,2642.181818181818,2715.5757575757575,2788.969696969697,2862.363636363636,2935.7575757575755,3009.151515151515,3082.5454545454545,3155.939393939394,3229.333333333333,3302.7272727272725,3376.121212121212,3449.5151515151515,3522.909090909091,3596.30303030303,3669.6969696969695,3743.090909090909,3816.4848484848485,3889.8787878787875,3963.272727272727,4036.6666666666665,4110.060606060606,4183.454545454545,4256.848484848485,4330.242424242424,4403.636363636363,4477.030303030303,4550.424242424242,4623.818181818182,4697.212121212121,4770.60606060606,4844.0,4917.393939393939,4990.787878787879,5064.181818181818,5137.575757575757,5210.969696969697,5284.363636363636,5357.757575757576,5431.151515151515,5504.545454545454,5577.939393939394,5651.333333333333,5724.727272727272,5798.121212121212,5871.515151515151,5944.909090909091,6018.30303030303,6091.696969696969,6165.090909090909,6238.484848484848,6311.878787878788,6385.272727272727,6458.666666666666,6532.060606060606,6605.454545454545,6678.848484848485,6752.242424242424,6825.636363636363,6899.030303030303,6972.424242424242,7045.818181818182,7119.212121212121,7192.60606060606,7266.0],\"xaxis\":\"x\",\"y\":[-37.38947992051453,40.01905497703267,117.42758987457987,194.83612477212708,272.24465966967426,349.6531945672214,427.0617294647687,504.4702643623159,581.8787992598631,659.2873341574102,736.6958690549574,814.1044039525045,891.5129388500519,968.9214737475991,1046.3300086451463,1123.7385435426934,1201.1470784402406,1278.555613337788,1355.964148235335,1433.3726831328822,1510.7812180304293,1588.1897529279765,1665.5982878255236,1743.006822723071,1820.4153576206184,1897.8238925181654,1975.2324274157127,2052.6409623132595,2130.049497210807,2207.4580321083545,2284.8665670059013,2362.2751019034486,2439.683636800996,2517.092171698543,2594.5007065960904,2671.909241493637,2749.3177763911845,2826.7263112887317,2904.134846186279,2981.543381083826,3058.951915981373,3136.3604508789203,3213.7689857764676,3291.177520674015,3368.5860555715617,3445.994590469109,3523.4031253666567,3600.811660264204,3678.2201951617512,3755.628730059298,3833.0372649568453,3910.4457998543926,3987.85433475194,4065.2628696494867,4142.6714045470335,4220.079939444581,4297.488474342129,4374.897009239676,4452.3055441372235,4529.71407903477,4607.122613932317,4684.531148829865,4761.939683727412,4839.348218624959,4916.756753522506,4994.165288420053,5071.573823317601,5148.9823582151475,5226.390893112695,5303.799428010242,5381.207962907789,5458.616497805337,5536.025032702883,5613.433567600431,5690.842102497978,5768.250637395525,5845.6591722930725,5923.067707190619,6000.476242088166,6077.884776985714,6155.293311883261,6232.701846780808,6310.110381678355,6387.518916575902,6464.92745147345,6542.335986370997,6619.744521268544,6697.153056166091,6774.561591063638,6851.970125961186,6929.3786608587325,7006.787195756281,7084.195730653828,7161.604265551375,7239.0128004489225,7316.421335346469,7393.829870244017,7471.238405141564,7548.646940039111,7626.055474936658],\"yaxis\":\"y\",\"type\":\"scatter\"}],                        {\"template\":{\"data\":{\"barpolar\":[{\"marker\":{\"line\":{\"color\":\"white\",\"width\":0.5},\"pattern\":{\"fillmode\":\"overlay\",\"size\":10,\"solidity\":0.2}},\"type\":\"barpolar\"}],\"bar\":[{\"error_x\":{\"color\":\"rgb(36,36,36)\"},\"error_y\":{\"color\":\"rgb(36,36,36)\"},\"marker\":{\"line\":{\"color\":\"white\",\"width\":0.5},\"pattern\":{\"fillmode\":\"overlay\",\"size\":10,\"solidity\":0.2}},\"type\":\"bar\"}],\"carpet\":[{\"aaxis\":{\"endlinecolor\":\"rgb(36,36,36)\",\"gridcolor\":\"white\",\"linecolor\":\"white\",\"minorgridcolor\":\"white\",\"startlinecolor\":\"rgb(36,36,36)\"},\"baxis\":{\"endlinecolor\":\"rgb(36,36,36)\",\"gridcolor\":\"white\",\"linecolor\":\"white\",\"minorgridcolor\":\"white\",\"startlinecolor\":\"rgb(36,36,36)\"},\"type\":\"carpet\"}],\"choropleth\":[{\"colorbar\":{\"outlinewidth\":1,\"tickcolor\":\"rgb(36,36,36)\",\"ticks\":\"outside\"},\"type\":\"choropleth\"}],\"contourcarpet\":[{\"colorbar\":{\"outlinewidth\":1,\"tickcolor\":\"rgb(36,36,36)\",\"ticks\":\"outside\"},\"type\":\"contourcarpet\"}],\"contour\":[{\"colorbar\":{\"outlinewidth\":1,\"tickcolor\":\"rgb(36,36,36)\",\"ticks\":\"outside\"},\"colorscale\":[[0.0,\"#440154\"],[0.1111111111111111,\"#482878\"],[0.2222222222222222,\"#3e4989\"],[0.3333333333333333,\"#31688e\"],[0.4444444444444444,\"#26828e\"],[0.5555555555555556,\"#1f9e89\"],[0.6666666666666666,\"#35b779\"],[0.7777777777777778,\"#6ece58\"],[0.8888888888888888,\"#b5de2b\"],[1.0,\"#fde725\"]],\"type\":\"contour\"}],\"heatmapgl\":[{\"colorbar\":{\"outlinewidth\":1,\"tickcolor\":\"rgb(36,36,36)\",\"ticks\":\"outside\"},\"colorscale\":[[0.0,\"#440154\"],[0.1111111111111111,\"#482878\"],[0.2222222222222222,\"#3e4989\"],[0.3333333333333333,\"#31688e\"],[0.4444444444444444,\"#26828e\"],[0.5555555555555556,\"#1f9e89\"],[0.6666666666666666,\"#35b779\"],[0.7777777777777778,\"#6ece58\"],[0.8888888888888888,\"#b5de2b\"],[1.0,\"#fde725\"]],\"type\":\"heatmapgl\"}],\"heatmap\":[{\"colorbar\":{\"outlinewidth\":1,\"tickcolor\":\"rgb(36,36,36)\",\"ticks\":\"outside\"},\"colorscale\":[[0.0,\"#440154\"],[0.1111111111111111,\"#482878\"],[0.2222222222222222,\"#3e4989\"],[0.3333333333333333,\"#31688e\"],[0.4444444444444444,\"#26828e\"],[0.5555555555555556,\"#1f9e89\"],[0.6666666666666666,\"#35b779\"],[0.7777777777777778,\"#6ece58\"],[0.8888888888888888,\"#b5de2b\"],[1.0,\"#fde725\"]],\"type\":\"heatmap\"}],\"histogram2dcontour\":[{\"colorbar\":{\"outlinewidth\":1,\"tickcolor\":\"rgb(36,36,36)\",\"ticks\":\"outside\"},\"colorscale\":[[0.0,\"#440154\"],[0.1111111111111111,\"#482878\"],[0.2222222222222222,\"#3e4989\"],[0.3333333333333333,\"#31688e\"],[0.4444444444444444,\"#26828e\"],[0.5555555555555556,\"#1f9e89\"],[0.6666666666666666,\"#35b779\"],[0.7777777777777778,\"#6ece58\"],[0.8888888888888888,\"#b5de2b\"],[1.0,\"#fde725\"]],\"type\":\"histogram2dcontour\"}],\"histogram2d\":[{\"colorbar\":{\"outlinewidth\":1,\"tickcolor\":\"rgb(36,36,36)\",\"ticks\":\"outside\"},\"colorscale\":[[0.0,\"#440154\"],[0.1111111111111111,\"#482878\"],[0.2222222222222222,\"#3e4989\"],[0.3333333333333333,\"#31688e\"],[0.4444444444444444,\"#26828e\"],[0.5555555555555556,\"#1f9e89\"],[0.6666666666666666,\"#35b779\"],[0.7777777777777778,\"#6ece58\"],[0.8888888888888888,\"#b5de2b\"],[1.0,\"#fde725\"]],\"type\":\"histogram2d\"}],\"histogram\":[{\"marker\":{\"line\":{\"color\":\"white\",\"width\":0.6}},\"type\":\"histogram\"}],\"mesh3d\":[{\"colorbar\":{\"outlinewidth\":1,\"tickcolor\":\"rgb(36,36,36)\",\"ticks\":\"outside\"},\"type\":\"mesh3d\"}],\"parcoords\":[{\"line\":{\"colorbar\":{\"outlinewidth\":1,\"tickcolor\":\"rgb(36,36,36)\",\"ticks\":\"outside\"}},\"type\":\"parcoords\"}],\"pie\":[{\"automargin\":true,\"type\":\"pie\"}],\"scatter3d\":[{\"line\":{\"colorbar\":{\"outlinewidth\":1,\"tickcolor\":\"rgb(36,36,36)\",\"ticks\":\"outside\"}},\"marker\":{\"colorbar\":{\"outlinewidth\":1,\"tickcolor\":\"rgb(36,36,36)\",\"ticks\":\"outside\"}},\"type\":\"scatter3d\"}],\"scattercarpet\":[{\"marker\":{\"colorbar\":{\"outlinewidth\":1,\"tickcolor\":\"rgb(36,36,36)\",\"ticks\":\"outside\"}},\"type\":\"scattercarpet\"}],\"scattergeo\":[{\"marker\":{\"colorbar\":{\"outlinewidth\":1,\"tickcolor\":\"rgb(36,36,36)\",\"ticks\":\"outside\"}},\"type\":\"scattergeo\"}],\"scattergl\":[{\"marker\":{\"colorbar\":{\"outlinewidth\":1,\"tickcolor\":\"rgb(36,36,36)\",\"ticks\":\"outside\"}},\"type\":\"scattergl\"}],\"scattermapbox\":[{\"marker\":{\"colorbar\":{\"outlinewidth\":1,\"tickcolor\":\"rgb(36,36,36)\",\"ticks\":\"outside\"}},\"type\":\"scattermapbox\"}],\"scatterpolargl\":[{\"marker\":{\"colorbar\":{\"outlinewidth\":1,\"tickcolor\":\"rgb(36,36,36)\",\"ticks\":\"outside\"}},\"type\":\"scatterpolargl\"}],\"scatterpolar\":[{\"marker\":{\"colorbar\":{\"outlinewidth\":1,\"tickcolor\":\"rgb(36,36,36)\",\"ticks\":\"outside\"}},\"type\":\"scatterpolar\"}],\"scatter\":[{\"fillpattern\":{\"fillmode\":\"overlay\",\"size\":10,\"solidity\":0.2},\"type\":\"scatter\"}],\"scatterternary\":[{\"marker\":{\"colorbar\":{\"outlinewidth\":1,\"tickcolor\":\"rgb(36,36,36)\",\"ticks\":\"outside\"}},\"type\":\"scatterternary\"}],\"surface\":[{\"colorbar\":{\"outlinewidth\":1,\"tickcolor\":\"rgb(36,36,36)\",\"ticks\":\"outside\"},\"colorscale\":[[0.0,\"#440154\"],[0.1111111111111111,\"#482878\"],[0.2222222222222222,\"#3e4989\"],[0.3333333333333333,\"#31688e\"],[0.4444444444444444,\"#26828e\"],[0.5555555555555556,\"#1f9e89\"],[0.6666666666666666,\"#35b779\"],[0.7777777777777778,\"#6ece58\"],[0.8888888888888888,\"#b5de2b\"],[1.0,\"#fde725\"]],\"type\":\"surface\"}],\"table\":[{\"cells\":{\"fill\":{\"color\":\"rgb(237,237,237)\"},\"line\":{\"color\":\"white\"}},\"header\":{\"fill\":{\"color\":\"rgb(217,217,217)\"},\"line\":{\"color\":\"white\"}},\"type\":\"table\"}]},\"layout\":{\"annotationdefaults\":{\"arrowhead\":0,\"arrowwidth\":1},\"autotypenumbers\":\"strict\",\"coloraxis\":{\"colorbar\":{\"outlinewidth\":1,\"tickcolor\":\"rgb(36,36,36)\",\"ticks\":\"outside\"}},\"colorscale\":{\"diverging\":[[0.0,\"rgb(103,0,31)\"],[0.1,\"rgb(178,24,43)\"],[0.2,\"rgb(214,96,77)\"],[0.3,\"rgb(244,165,130)\"],[0.4,\"rgb(253,219,199)\"],[0.5,\"rgb(247,247,247)\"],[0.6,\"rgb(209,229,240)\"],[0.7,\"rgb(146,197,222)\"],[0.8,\"rgb(67,147,195)\"],[0.9,\"rgb(33,102,172)\"],[1.0,\"rgb(5,48,97)\"]],\"sequential\":[[0.0,\"#440154\"],[0.1111111111111111,\"#482878\"],[0.2222222222222222,\"#3e4989\"],[0.3333333333333333,\"#31688e\"],[0.4444444444444444,\"#26828e\"],[0.5555555555555556,\"#1f9e89\"],[0.6666666666666666,\"#35b779\"],[0.7777777777777778,\"#6ece58\"],[0.8888888888888888,\"#b5de2b\"],[1.0,\"#fde725\"]],\"sequentialminus\":[[0.0,\"#440154\"],[0.1111111111111111,\"#482878\"],[0.2222222222222222,\"#3e4989\"],[0.3333333333333333,\"#31688e\"],[0.4444444444444444,\"#26828e\"],[0.5555555555555556,\"#1f9e89\"],[0.6666666666666666,\"#35b779\"],[0.7777777777777778,\"#6ece58\"],[0.8888888888888888,\"#b5de2b\"],[1.0,\"#fde725\"]]},\"colorway\":[\"#91268F\",\"#8CC63E\",\"#00A7A0\",\"#F05A28\",\"#4C4C4C\",\"#630460\",\"#9f3913\",\"#588527\",\"#00716c\",\"#3e4040\"],\"font\":{\"color\":\"rgb(36,36,36)\",\"family\":\"Poppins\",\"size\":11},\"geo\":{\"bgcolor\":\"white\",\"lakecolor\":\"white\",\"landcolor\":\"white\",\"showlakes\":true,\"showland\":true,\"subunitcolor\":\"white\"},\"hoverlabel\":{\"align\":\"left\"},\"hovermode\":\"closest\",\"mapbox\":{\"style\":\"light\"},\"paper_bgcolor\":\"white\",\"plot_bgcolor\":\"white\",\"polar\":{\"angularaxis\":{\"gridcolor\":\"rgb(232,232,232)\",\"linecolor\":\"rgb(36,36,36)\",\"showgrid\":false,\"showline\":true,\"ticks\":\"outside\"},\"bgcolor\":\"white\",\"radialaxis\":{\"gridcolor\":\"rgb(232,232,232)\",\"linecolor\":\"rgb(36,36,36)\",\"showgrid\":false,\"showline\":true,\"ticks\":\"outside\"}},\"scene\":{\"xaxis\":{\"backgroundcolor\":\"white\",\"gridcolor\":\"rgb(232,232,232)\",\"gridwidth\":2,\"linecolor\":\"rgb(36,36,36)\",\"showbackground\":true,\"showgrid\":false,\"showline\":true,\"ticks\":\"outside\",\"zeroline\":false,\"zerolinecolor\":\"rgb(36,36,36)\"},\"yaxis\":{\"backgroundcolor\":\"white\",\"gridcolor\":\"rgb(232,232,232)\",\"gridwidth\":2,\"linecolor\":\"rgb(36,36,36)\",\"showbackground\":true,\"showgrid\":false,\"showline\":true,\"ticks\":\"outside\",\"zeroline\":false,\"zerolinecolor\":\"rgb(36,36,36)\"},\"zaxis\":{\"backgroundcolor\":\"white\",\"gridcolor\":\"rgb(232,232,232)\",\"gridwidth\":2,\"linecolor\":\"rgb(36,36,36)\",\"showbackground\":true,\"showgrid\":false,\"showline\":true,\"ticks\":\"outside\",\"zeroline\":false,\"zerolinecolor\":\"rgb(36,36,36)\"}},\"shapedefaults\":{\"fillcolor\":\"black\",\"line\":{\"width\":0},\"opacity\":0.3},\"ternary\":{\"aaxis\":{\"gridcolor\":\"rgb(232,232,232)\",\"linecolor\":\"rgb(36,36,36)\",\"showgrid\":false,\"showline\":true,\"ticks\":\"outside\"},\"baxis\":{\"gridcolor\":\"rgb(232,232,232)\",\"linecolor\":\"rgb(36,36,36)\",\"showgrid\":false,\"showline\":true,\"ticks\":\"outside\"},\"bgcolor\":\"white\",\"caxis\":{\"gridcolor\":\"rgb(232,232,232)\",\"linecolor\":\"rgb(36,36,36)\",\"showgrid\":false,\"showline\":true,\"ticks\":\"outside\"}},\"title\":{\"x\":0.05},\"xaxis\":{\"automargin\":true,\"gridcolor\":\"rgb(232,232,232)\",\"linecolor\":\"rgb(36,36,36)\",\"showgrid\":false,\"showline\":true,\"ticks\":\"outside\",\"title\":{\"standoff\":15},\"zeroline\":false,\"zerolinecolor\":\"rgb(36,36,36)\"},\"yaxis\":{\"automargin\":true,\"gridcolor\":\"rgb(232,232,232)\",\"linecolor\":\"rgb(36,36,36)\",\"showgrid\":false,\"showline\":true,\"ticks\":\"outside\",\"title\":{\"standoff\":15},\"zeroline\":false,\"zerolinecolor\":\"rgb(36,36,36)\"}}},\"xaxis\":{\"anchor\":\"y\",\"domain\":[0.0,1.0],\"title\":{\"text\":\"Observed\"}},\"yaxis\":{\"anchor\":\"x\",\"domain\":[0.0,1.0],\"title\":{\"text\":\"Model\"}},\"legend\":{\"tracegroupgap\":0},\"title\":{\"text\":\"Heavy Trucks: Pierce\"},\"margin\":{\"l\":100,\"r\":100,\"t\":100,\"b\":100},\"height\":600,\"width\":800,\"shapes\":[{\"line\":{\"color\":\"Red\",\"dash\":\"dash\",\"width\":2},\"type\":\"line\",\"x0\":0,\"x1\":10293,\"y0\":0,\"y1\":10293}],\"annotations\":[{\"align\":\"right\",\"font\":{\"color\":\"pink\",\"size\":12},\"showarrow\":false,\"text\":\"y = x\",\"x\":10807.65,\"y\":10807.65},{\"align\":\"right\",\"font\":{\"color\":\"black\",\"size\":12},\"showarrow\":false,\"text\":\"r^2 = 0.76\",\"x\":7629.3,\"y\":8007.358248683491}]},                        {\"responsive\": true}                    ).then(function(){\n",
       "                            \n",
       "var gd = document.getElementById('53a5e150-7594-4116-bbef-95a1ae6af132');\n",
       "var x = new MutationObserver(function (mutations, observer) {{\n",
       "        var display = window.getComputedStyle(gd).display;\n",
       "        if (!display || display === 'none') {{\n",
       "            console.log([gd, 'removed!']);\n",
       "            Plotly.purge(gd);\n",
       "            observer.disconnect();\n",
       "        }}\n",
       "}});\n",
       "\n",
       "// Listen for the removal of the full notebook cells\n",
       "var notebookContainer = gd.closest('#notebook-container');\n",
       "if (notebookContainer) {{\n",
       "    x.observe(notebookContainer, {childList: true});\n",
       "}}\n",
       "\n",
       "// Listen for the clearing of the current output cell\n",
       "var outputEl = gd.closest('.output');\n",
       "if (outputEl) {{\n",
       "    x.observe(outputEl, {childList: true});\n",
       "}}\n",
       "\n",
       "                        })                };                });            </script>        </div>"
      ]
     },
     "metadata": {},
     "output_type": "display_data"
    }
   ],
   "source": [
    "fig = create_truck_chart(df_daily_heavy, 'Heavy', 'Pierce')\n",
    "fig.show()"
   ]
  },
  {
   "cell_type": "raw",
   "id": "60af6289",
   "metadata": {
    "vscode": {
     "languageId": "raw"
    }
   },
   "source": [
    "#### Snohomish"
   ]
  },
  {
   "cell_type": "code",
   "execution_count": 28,
   "id": "e7a2925c",
   "metadata": {},
   "outputs": [
    {
     "data": {
      "application/vnd.plotly.v1+json": {
       "config": {
        "plotlyServerURL": "https://plot.ly"
       },
       "data": [
        {
         "customdata": [
          [
           "I-5 @ 44th NB",
           "Snohomish"
          ],
          [
           "I-5 @ 44th SB",
           "Snohomish"
          ],
          [
           "I-5 N/O 164th NB",
           "Snohomish"
          ],
          [
           "I-5 N/O 164th SB",
           "Snohomish"
          ],
          [
           "I-5 N/O SR-526 NB",
           "Snohomish"
          ],
          [
           "I-5 N/O SR-526 SB",
           "Snohomish"
          ],
          [
           "I-5 N/O 41st NB",
           "Snohomish"
          ],
          [
           "I-5 N/O 41st SB",
           "Snohomish"
          ],
          [
           "I-5 @ SR-528 NB",
           "Snohomish"
          ],
          [
           "I-5 @ SR-528 SB",
           "Snohomish"
          ],
          [
           "I-5 N/O SR-531 NB",
           "Snohomish"
          ],
          [
           "I-5 N/O SR-531 SB",
           "Snohomish"
          ],
          [
           "I-405 N/O SR-527 NB",
           "Snohomish"
          ],
          [
           "I-405 N/O SR-527 SB",
           "Snohomish"
          ],
          [
           "SR-525 N/O I-5 NB",
           "Snohomish"
          ],
          [
           "SR-525 N/O I-5 SB",
           "Snohomish"
          ],
          [
           "I-5 @ SR-532 NB/SB",
           "Snohomish"
          ],
          [
           "I-5 @ Skagit border NB/SB",
           "Snohomish"
          ],
          [
           "SR-525 N/O SR-526 NB/SB",
           "Snohomish"
          ],
          [
           "SR-525 N/O 5th NB/SB",
           "Snohomish"
          ],
          [
           "SR-99 E/O Evergreen NB/SB",
           "Snohomish"
          ],
          [
           "SR-526 W/O Paine Field Blvd WB/EB",
           "Snohomish"
          ],
          [
           "SR-526 E/O Paine Field Blvd WB/EB",
           "Snohomish"
          ],
          [
           "SR-9 @ SR-522 NB/SB",
           "Snohomish"
          ],
          [
           "SR-9 N/O SR-2 NB/SB",
           "Snohomish"
          ],
          [
           "SR-9 N/O SR-204 NB/SB",
           "Snohomish"
          ],
          [
           "SR-9 N/O SR-92 NB/SB",
           "Snohomish"
          ],
          [
           "SR-9 N/O 132nd NB/SB",
           "Snohomish"
          ],
          [
           "SR-9 N/O SR-531 NB/SB",
           "Snohomish"
          ],
          [
           "SR-9 S/O 67th NB/SB",
           "Snohomish"
          ],
          [
           "SR-9 N/O Kackman NB/SB",
           "Snohomish"
          ],
          [
           "SR-9 N/O Stanwood-Bryant NB/SB",
           "Snohomish"
          ],
          [
           "SR-532 @ Island County WB/EB",
           "Snohomish"
          ],
          [
           "SR-532 W/O 28th WB/EB",
           "Snohomish"
          ],
          [
           "SR-104 @ Ferry Loading Edm WB/EB",
           "Snohomish"
          ],
          [
           "SR-104 N/O Pine WB/EB",
           "Snohomish"
          ],
          [
           "SR-104 E/O 5th WB/EB",
           "Snohomish"
          ],
          [
           "SR-524 W/O 3rd WB/EB",
           "Snohomish"
          ],
          [
           "SR-524 S/O Main WB/EB",
           "Snohomish"
          ],
          [
           "SR-524 N/O Main WB/EB",
           "Snohomish"
          ],
          [
           "SR-524 E/O 68th WB/EB",
           "Snohomish"
          ],
          [
           "SR-524 E/O 39th WB/EB",
           "Snohomish"
          ],
          [
           "SR-524 N/O Paradise Lake WB/EB",
           "Snohomish"
          ],
          [
           "SR-2 E/O I-5 WB/EB",
           "Snohomish"
          ],
          [
           "SR-2 S/O SR-204 WB/EB",
           "Snohomish"
          ],
          [
           "SR-2 E/O Main WB/EB",
           "Snohomish"
          ],
          [
           "SR-2 E/O Rice WB/EB",
           "Snohomish"
          ],
          [
           "SR-2 E/O 10th (Gold Bar) WB/EB",
           "Snohomish"
          ],
          [
           "SR-2 W/O Index-Galena WB/EB",
           "Snohomish"
          ],
          [
           "SR-2 E/O Index-Galena WB/EB",
           "Snohomish"
          ],
          [
           "SR-527 N/O I-405 NB/SB",
           "Snohomish"
          ],
          [
           "SR-527 N/O 196th NB/SB",
           "Snohomish"
          ],
          [
           "SR-527 N/O Dumas NB/SB",
           "Snohomish"
          ],
          [
           "SR-527 N/O 100th NB/SB",
           "Snohomish"
          ],
          [
           "SR-529 @ I-5 (Evt) NB/SB",
           "Snohomish"
          ],
          [
           "SR-529 S/O Everett NB/SB",
           "Snohomish"
          ],
          [
           "SR-529 W/O Maple NB/SB",
           "Snohomish"
          ],
          [
           "SR-529 N/O Everett NB/SB",
           "Snohomish"
          ],
          [
           "SR-529 N/O Broadway NB/SB",
           "Snohomish"
          ],
          [
           "SR-96 @ I-5 WB/EB",
           "Snohomish"
          ],
          [
           "SR-96 N/O 132nd WB/EB",
           "Snohomish"
          ],
          [
           "SR-96 E/O Seattle Hill WB/EB",
           "Snohomish"
          ],
          [
           "SR-528 @ I-5 WB/EB",
           "Snohomish"
          ],
          [
           "SR-528 E/O SR-529 WB/EB",
           "Snohomish"
          ],
          [
           "SR-531 N/O Rose WB/EB",
           "Snohomish"
          ],
          [
           "SR-531 E/O Lk Goodwin WB/EB",
           "Snohomish"
          ],
          [
           "SR-531 E/O 27th WB/EB",
           "Snohomish"
          ],
          [
           "SR-531 E/O I-5 WB/EB",
           "Snohomish"
          ],
          [
           "SR-531 E/O 43rd WB/EB",
           "Snohomish"
          ],
          [
           "SR-531 W/O 67th WB/EB",
           "Snohomish"
          ],
          [
           "SR-531 E/O 67th WB/EB",
           "Snohomish"
          ],
          [
           "SR-530 @ I-5 WB/EB",
           "Snohomish"
          ],
          [
           "SR-530 E/O Smokey Pt WB/EB",
           "Snohomish"
          ],
          [
           "SR-530 N/O 211th WB/EB",
           "Snohomish"
          ],
          [
           "SR-530 E/O SR-9 WB/EB",
           "Snohomish"
          ],
          [
           "SR-530 W/O Arlington Hts WB/EB",
           "Snohomish"
          ],
          [
           "SR-530 E/O Arlington Hts WB/EB",
           "Snohomish"
          ],
          [
           "SR-530 W/O Jim Creek WB/EB",
           "Snohomish"
          ],
          [
           "SR-530 W/O Ramstad WB/EB",
           "Snohomish"
          ],
          [
           "SR-530 @ Skagit County WB/EB",
           "Snohomish"
          ],
          [
           "SR-203 N/O 203rd NB/SB",
           "Snohomish"
          ],
          [
           "SR-204 @ SR-2 NB/SB",
           "Snohomish"
          ],
          [
           "SR-204 N/O 20th NB/SB",
           "Snohomish"
          ],
          [
           "SR-204 N/O SR-2 NB/SB",
           "Snohomish"
          ],
          [
           "SR-92 E/O Lake WB/EB",
           "Snohomish"
          ],
          [
           "SR-92 E/O Callow WB/EB",
           "Snohomish"
          ],
          [
           "SR-92 E/O Quarry WB/EB",
           "Snohomish"
          ],
          [
           "SR-92 W/O Mountain Loop WB/EB",
           "Snohomish"
          ]
         ],
         "hovertemplate": "Observed=%{x}<br>Model=%{y}<br>location=%{customdata[0]}<br>County=%{customdata[1]}<extra></extra>",
         "legendgroup": "",
         "line": {
          "color": "Grey",
          "width": 2
         },
         "marker": {
          "color": "#91268F",
          "symbol": "circle"
         },
         "mode": "markers",
         "name": "",
         "orientation": "v",
         "showlegend": false,
         "type": "scatter",
         "x": [
          2931,
          2951,
          3252,
          3274,
          3206,
          3377,
          2734,
          3167,
          3043,
          3126,
          2304,
          2316,
          1355,
          1425,
          403,
          274,
          4052,
          4113,
          173,
          48,
          123,
          99,
          92,
          699,
          285,
          653,
          317,
          372,
          169,
          229,
          167,
          82,
          309,
          328,
          59,
          55,
          72,
          8,
          6,
          6,
          76,
          176,
          507,
          891,
          874,
          506,
          420,
          444,
          243,
          192,
          265,
          279,
          44,
          156,
          88,
          49,
          65,
          84,
          825,
          220,
          42,
          62,
          260,
          330,
          18,
          99,
          429,
          697,
          696,
          340,
          182,
          705,
          609,
          464,
          400,
          403,
          383,
          380,
          299,
          47,
          408,
          58,
          55,
          400,
          494,
          448,
          60,
          718
         ],
         "xaxis": "x",
         "y": [
          5085,
          5275,
          6344,
          6215,
          5969,
          5886,
          5890,
          5793,
          5024,
          4983,
          3900,
          3885,
          2226,
          1857,
          828,
          746,
          6859,
          6703,
          102,
          115,
          0,
          2,
          54,
          372,
          281,
          474,
          534,
          128,
          42,
          43,
          61,
          189,
          115,
          116,
          0,
          34,
          34,
          4,
          0,
          4,
          9,
          22,
          184,
          832,
          612,
          1895,
          2008,
          1987,
          1987,
          1882,
          65,
          58,
          2,
          9,
          119,
          60,
          12,
          113,
          22,
          74,
          22,
          4,
          745,
          222,
          0,
          6,
          175,
          1324,
          1264,
          81,
          85,
          125,
          153,
          150,
          132,
          134,
          133,
          133,
          133,
          1,
          531,
          36,
          58,
          285,
          214,
          214,
          0,
          60
         ],
         "yaxis": "y"
        },
        {
         "hovertemplate": "Observed=%{x}<br>Model=%{y}<extra></extra>",
         "legendgroup": "",
         "line": {
          "color": "Grey",
          "dash": "solid",
          "width": 2
         },
         "marker": {
          "symbol": "circle"
         },
         "mode": "lines",
         "name": "",
         "orientation": "v",
         "showlegend": false,
         "type": "scatter",
         "x": [
          0.0,
          41.54545454545455,
          83.0909090909091,
          124.63636363636364,
          166.1818181818182,
          207.72727272727275,
          249.27272727272728,
          290.8181818181818,
          332.3636363636364,
          373.90909090909093,
          415.4545454545455,
          457.0,
          498.54545454545456,
          540.0909090909091,
          581.6363636363636,
          623.1818181818182,
          664.7272727272727,
          706.2727272727273,
          747.8181818181819,
          789.3636363636364,
          830.909090909091,
          872.4545454545455,
          914.0,
          955.5454545454546,
          997.0909090909091,
          1038.6363636363637,
          1080.1818181818182,
          1121.7272727272727,
          1163.2727272727273,
          1204.8181818181818,
          1246.3636363636365,
          1287.909090909091,
          1329.4545454545455,
          1371.0,
          1412.5454545454545,
          1454.0909090909092,
          1495.6363636363637,
          1537.1818181818182,
          1578.7272727272727,
          1620.2727272727273,
          1661.818181818182,
          1703.3636363636365,
          1744.909090909091,
          1786.4545454545455,
          1828.0,
          1869.5454545454545,
          1911.0909090909092,
          1952.6363636363637,
          1994.1818181818182,
          2035.7272727272727,
          2077.2727272727275,
          2118.818181818182,
          2160.3636363636365,
          2201.909090909091,
          2243.4545454545455,
          2285.0,
          2326.5454545454545,
          2368.090909090909,
          2409.6363636363635,
          2451.1818181818185,
          2492.727272727273,
          2534.2727272727275,
          2575.818181818182,
          2617.3636363636365,
          2658.909090909091,
          2700.4545454545455,
          2742.0,
          2783.5454545454545,
          2825.090909090909,
          2866.6363636363635,
          2908.1818181818185,
          2949.727272727273,
          2991.2727272727275,
          3032.818181818182,
          3074.3636363636365,
          3115.909090909091,
          3157.4545454545455,
          3199.0,
          3240.5454545454545,
          3282.090909090909,
          3323.636363636364,
          3365.1818181818185,
          3406.727272727273,
          3448.2727272727275,
          3489.818181818182,
          3531.3636363636365,
          3572.909090909091,
          3614.4545454545455,
          3656.0,
          3697.5454545454545,
          3739.090909090909,
          3780.636363636364,
          3822.1818181818185,
          3863.727272727273,
          3905.2727272727275,
          3946.818181818182,
          3988.3636363636365,
          4029.909090909091,
          4071.4545454545455,
          4113.0
         ],
         "xaxis": "x",
         "y": [
          -188.5836592391936,
          -114.07237980388489,
          -39.56110036857618,
          34.950179066732545,
          109.46145850204124,
          183.97273793735002,
          258.4840173726587,
          332.9952968079674,
          407.5065762432761,
          482.01785567858485,
          556.5291351138936,
          631.0404145492023,
          705.551693984511,
          780.0629734198197,
          854.5742528551284,
          929.0855322904372,
          1003.5968117257457,
          1078.1080911610545,
          1152.6193705963633,
          1227.1306500316718,
          1301.6419294669809,
          1376.1532089022894,
          1450.6644883375982,
          1525.175767772907,
          1599.6870472082155,
          1674.1983266435243,
          1748.709606078833,
          1823.2208855141416,
          1897.7321649494504,
          1972.243444384759,
          2046.754723820068,
          2121.2660032553767,
          2195.777282690685,
          2270.288562125994,
          2344.799841561303,
          2419.311120996612,
          2493.82240043192,
          2568.333679867229,
          2642.844959302537,
          2717.356238737846,
          2791.867518173155,
          2866.378797608464,
          2940.890077043772,
          3015.401356479081,
          3089.91263591439,
          3164.4239153496983,
          3238.9351947850073,
          3313.4464742203163,
          3387.9577536556244,
          3462.4690330909334,
          3536.9803125262424,
          3611.4915919615514,
          3686.0028713968595,
          3760.5141508321685,
          3835.0254302674766,
          3909.5367097027856,
          3984.0479891380946,
          4058.5592685734027,
          4133.070548008712,
          4207.581827444021,
          4282.09310687933,
          4356.604386314639,
          4431.115665749947,
          4505.626945185256,
          4580.138224620564,
          4654.649504055873,
          4729.160783491182,
          4803.67206292649,
          4878.183342361799,
          4952.694621797107,
          5027.205901232417,
          5101.717180667726,
          5176.228460103034,
          5250.739739538343,
          5325.251018973651,
          5399.76229840896,
          5474.273577844268,
          5548.784857279577,
          5623.296136714886,
          5697.8074161501945,
          5772.318695585504,
          5846.8299750208125,
          5921.3412544561215,
          5995.8525338914305,
          6070.363813326739,
          6144.875092762048,
          6219.386372197356,
          6293.897651632665,
          6368.408931067974,
          6442.920210503282,
          6517.431489938591,
          6591.9427693739,
          6666.454048809209,
          6740.965328244517,
          6815.476607679826,
          6889.987887115135,
          6964.499166550443,
          7039.010445985752,
          7113.52172542106,
          7188.033004856369
         ],
         "yaxis": "y"
        }
       ],
       "layout": {
        "annotations": [
         {
          "align": "right",
          "font": {
           "color": "pink",
           "size": 12
          },
          "showarrow": false,
          "text": "y = x",
          "x": 7201.950000000001,
          "y": 7201.950000000001
         },
         {
          "align": "right",
          "font": {
           "color": "black",
           "size": 12
          },
          "showarrow": false,
          "text": "r^2 = 0.93",
          "x": 4318.650000000001,
          "y": 7547.434655099188
         }
        ],
        "height": 600,
        "legend": {
         "tracegroupgap": 0
        },
        "margin": {
         "b": 100,
         "l": 100,
         "r": 100,
         "t": 100
        },
        "shapes": [
         {
          "line": {
           "color": "Red",
           "dash": "dash",
           "width": 2
          },
          "type": "line",
          "x0": 0,
          "x1": 6859,
          "y0": 0,
          "y1": 6859
         }
        ],
        "template": {
         "data": {
          "bar": [
           {
            "error_x": {
             "color": "rgb(36,36,36)"
            },
            "error_y": {
             "color": "rgb(36,36,36)"
            },
            "marker": {
             "line": {
              "color": "white",
              "width": 0.5
             },
             "pattern": {
              "fillmode": "overlay",
              "size": 10,
              "solidity": 0.2
             }
            },
            "type": "bar"
           }
          ],
          "barpolar": [
           {
            "marker": {
             "line": {
              "color": "white",
              "width": 0.5
             },
             "pattern": {
              "fillmode": "overlay",
              "size": 10,
              "solidity": 0.2
             }
            },
            "type": "barpolar"
           }
          ],
          "carpet": [
           {
            "aaxis": {
             "endlinecolor": "rgb(36,36,36)",
             "gridcolor": "white",
             "linecolor": "white",
             "minorgridcolor": "white",
             "startlinecolor": "rgb(36,36,36)"
            },
            "baxis": {
             "endlinecolor": "rgb(36,36,36)",
             "gridcolor": "white",
             "linecolor": "white",
             "minorgridcolor": "white",
             "startlinecolor": "rgb(36,36,36)"
            },
            "type": "carpet"
           }
          ],
          "choropleth": [
           {
            "colorbar": {
             "outlinewidth": 1,
             "tickcolor": "rgb(36,36,36)",
             "ticks": "outside"
            },
            "type": "choropleth"
           }
          ],
          "contour": [
           {
            "colorbar": {
             "outlinewidth": 1,
             "tickcolor": "rgb(36,36,36)",
             "ticks": "outside"
            },
            "colorscale": [
             [
              0.0,
              "#440154"
             ],
             [
              0.1111111111111111,
              "#482878"
             ],
             [
              0.2222222222222222,
              "#3e4989"
             ],
             [
              0.3333333333333333,
              "#31688e"
             ],
             [
              0.4444444444444444,
              "#26828e"
             ],
             [
              0.5555555555555556,
              "#1f9e89"
             ],
             [
              0.6666666666666666,
              "#35b779"
             ],
             [
              0.7777777777777778,
              "#6ece58"
             ],
             [
              0.8888888888888888,
              "#b5de2b"
             ],
             [
              1.0,
              "#fde725"
             ]
            ],
            "type": "contour"
           }
          ],
          "contourcarpet": [
           {
            "colorbar": {
             "outlinewidth": 1,
             "tickcolor": "rgb(36,36,36)",
             "ticks": "outside"
            },
            "type": "contourcarpet"
           }
          ],
          "heatmap": [
           {
            "colorbar": {
             "outlinewidth": 1,
             "tickcolor": "rgb(36,36,36)",
             "ticks": "outside"
            },
            "colorscale": [
             [
              0.0,
              "#440154"
             ],
             [
              0.1111111111111111,
              "#482878"
             ],
             [
              0.2222222222222222,
              "#3e4989"
             ],
             [
              0.3333333333333333,
              "#31688e"
             ],
             [
              0.4444444444444444,
              "#26828e"
             ],
             [
              0.5555555555555556,
              "#1f9e89"
             ],
             [
              0.6666666666666666,
              "#35b779"
             ],
             [
              0.7777777777777778,
              "#6ece58"
             ],
             [
              0.8888888888888888,
              "#b5de2b"
             ],
             [
              1.0,
              "#fde725"
             ]
            ],
            "type": "heatmap"
           }
          ],
          "heatmapgl": [
           {
            "colorbar": {
             "outlinewidth": 1,
             "tickcolor": "rgb(36,36,36)",
             "ticks": "outside"
            },
            "colorscale": [
             [
              0.0,
              "#440154"
             ],
             [
              0.1111111111111111,
              "#482878"
             ],
             [
              0.2222222222222222,
              "#3e4989"
             ],
             [
              0.3333333333333333,
              "#31688e"
             ],
             [
              0.4444444444444444,
              "#26828e"
             ],
             [
              0.5555555555555556,
              "#1f9e89"
             ],
             [
              0.6666666666666666,
              "#35b779"
             ],
             [
              0.7777777777777778,
              "#6ece58"
             ],
             [
              0.8888888888888888,
              "#b5de2b"
             ],
             [
              1.0,
              "#fde725"
             ]
            ],
            "type": "heatmapgl"
           }
          ],
          "histogram": [
           {
            "marker": {
             "line": {
              "color": "white",
              "width": 0.6
             }
            },
            "type": "histogram"
           }
          ],
          "histogram2d": [
           {
            "colorbar": {
             "outlinewidth": 1,
             "tickcolor": "rgb(36,36,36)",
             "ticks": "outside"
            },
            "colorscale": [
             [
              0.0,
              "#440154"
             ],
             [
              0.1111111111111111,
              "#482878"
             ],
             [
              0.2222222222222222,
              "#3e4989"
             ],
             [
              0.3333333333333333,
              "#31688e"
             ],
             [
              0.4444444444444444,
              "#26828e"
             ],
             [
              0.5555555555555556,
              "#1f9e89"
             ],
             [
              0.6666666666666666,
              "#35b779"
             ],
             [
              0.7777777777777778,
              "#6ece58"
             ],
             [
              0.8888888888888888,
              "#b5de2b"
             ],
             [
              1.0,
              "#fde725"
             ]
            ],
            "type": "histogram2d"
           }
          ],
          "histogram2dcontour": [
           {
            "colorbar": {
             "outlinewidth": 1,
             "tickcolor": "rgb(36,36,36)",
             "ticks": "outside"
            },
            "colorscale": [
             [
              0.0,
              "#440154"
             ],
             [
              0.1111111111111111,
              "#482878"
             ],
             [
              0.2222222222222222,
              "#3e4989"
             ],
             [
              0.3333333333333333,
              "#31688e"
             ],
             [
              0.4444444444444444,
              "#26828e"
             ],
             [
              0.5555555555555556,
              "#1f9e89"
             ],
             [
              0.6666666666666666,
              "#35b779"
             ],
             [
              0.7777777777777778,
              "#6ece58"
             ],
             [
              0.8888888888888888,
              "#b5de2b"
             ],
             [
              1.0,
              "#fde725"
             ]
            ],
            "type": "histogram2dcontour"
           }
          ],
          "mesh3d": [
           {
            "colorbar": {
             "outlinewidth": 1,
             "tickcolor": "rgb(36,36,36)",
             "ticks": "outside"
            },
            "type": "mesh3d"
           }
          ],
          "parcoords": [
           {
            "line": {
             "colorbar": {
              "outlinewidth": 1,
              "tickcolor": "rgb(36,36,36)",
              "ticks": "outside"
             }
            },
            "type": "parcoords"
           }
          ],
          "pie": [
           {
            "automargin": true,
            "type": "pie"
           }
          ],
          "scatter": [
           {
            "fillpattern": {
             "fillmode": "overlay",
             "size": 10,
             "solidity": 0.2
            },
            "type": "scatter"
           }
          ],
          "scatter3d": [
           {
            "line": {
             "colorbar": {
              "outlinewidth": 1,
              "tickcolor": "rgb(36,36,36)",
              "ticks": "outside"
             }
            },
            "marker": {
             "colorbar": {
              "outlinewidth": 1,
              "tickcolor": "rgb(36,36,36)",
              "ticks": "outside"
             }
            },
            "type": "scatter3d"
           }
          ],
          "scattercarpet": [
           {
            "marker": {
             "colorbar": {
              "outlinewidth": 1,
              "tickcolor": "rgb(36,36,36)",
              "ticks": "outside"
             }
            },
            "type": "scattercarpet"
           }
          ],
          "scattergeo": [
           {
            "marker": {
             "colorbar": {
              "outlinewidth": 1,
              "tickcolor": "rgb(36,36,36)",
              "ticks": "outside"
             }
            },
            "type": "scattergeo"
           }
          ],
          "scattergl": [
           {
            "marker": {
             "colorbar": {
              "outlinewidth": 1,
              "tickcolor": "rgb(36,36,36)",
              "ticks": "outside"
             }
            },
            "type": "scattergl"
           }
          ],
          "scattermapbox": [
           {
            "marker": {
             "colorbar": {
              "outlinewidth": 1,
              "tickcolor": "rgb(36,36,36)",
              "ticks": "outside"
             }
            },
            "type": "scattermapbox"
           }
          ],
          "scatterpolar": [
           {
            "marker": {
             "colorbar": {
              "outlinewidth": 1,
              "tickcolor": "rgb(36,36,36)",
              "ticks": "outside"
             }
            },
            "type": "scatterpolar"
           }
          ],
          "scatterpolargl": [
           {
            "marker": {
             "colorbar": {
              "outlinewidth": 1,
              "tickcolor": "rgb(36,36,36)",
              "ticks": "outside"
             }
            },
            "type": "scatterpolargl"
           }
          ],
          "scatterternary": [
           {
            "marker": {
             "colorbar": {
              "outlinewidth": 1,
              "tickcolor": "rgb(36,36,36)",
              "ticks": "outside"
             }
            },
            "type": "scatterternary"
           }
          ],
          "surface": [
           {
            "colorbar": {
             "outlinewidth": 1,
             "tickcolor": "rgb(36,36,36)",
             "ticks": "outside"
            },
            "colorscale": [
             [
              0.0,
              "#440154"
             ],
             [
              0.1111111111111111,
              "#482878"
             ],
             [
              0.2222222222222222,
              "#3e4989"
             ],
             [
              0.3333333333333333,
              "#31688e"
             ],
             [
              0.4444444444444444,
              "#26828e"
             ],
             [
              0.5555555555555556,
              "#1f9e89"
             ],
             [
              0.6666666666666666,
              "#35b779"
             ],
             [
              0.7777777777777778,
              "#6ece58"
             ],
             [
              0.8888888888888888,
              "#b5de2b"
             ],
             [
              1.0,
              "#fde725"
             ]
            ],
            "type": "surface"
           }
          ],
          "table": [
           {
            "cells": {
             "fill": {
              "color": "rgb(237,237,237)"
             },
             "line": {
              "color": "white"
             }
            },
            "header": {
             "fill": {
              "color": "rgb(217,217,217)"
             },
             "line": {
              "color": "white"
             }
            },
            "type": "table"
           }
          ]
         },
         "layout": {
          "annotationdefaults": {
           "arrowhead": 0,
           "arrowwidth": 1
          },
          "autotypenumbers": "strict",
          "coloraxis": {
           "colorbar": {
            "outlinewidth": 1,
            "tickcolor": "rgb(36,36,36)",
            "ticks": "outside"
           }
          },
          "colorscale": {
           "diverging": [
            [
             0.0,
             "rgb(103,0,31)"
            ],
            [
             0.1,
             "rgb(178,24,43)"
            ],
            [
             0.2,
             "rgb(214,96,77)"
            ],
            [
             0.3,
             "rgb(244,165,130)"
            ],
            [
             0.4,
             "rgb(253,219,199)"
            ],
            [
             0.5,
             "rgb(247,247,247)"
            ],
            [
             0.6,
             "rgb(209,229,240)"
            ],
            [
             0.7,
             "rgb(146,197,222)"
            ],
            [
             0.8,
             "rgb(67,147,195)"
            ],
            [
             0.9,
             "rgb(33,102,172)"
            ],
            [
             1.0,
             "rgb(5,48,97)"
            ]
           ],
           "sequential": [
            [
             0.0,
             "#440154"
            ],
            [
             0.1111111111111111,
             "#482878"
            ],
            [
             0.2222222222222222,
             "#3e4989"
            ],
            [
             0.3333333333333333,
             "#31688e"
            ],
            [
             0.4444444444444444,
             "#26828e"
            ],
            [
             0.5555555555555556,
             "#1f9e89"
            ],
            [
             0.6666666666666666,
             "#35b779"
            ],
            [
             0.7777777777777778,
             "#6ece58"
            ],
            [
             0.8888888888888888,
             "#b5de2b"
            ],
            [
             1.0,
             "#fde725"
            ]
           ],
           "sequentialminus": [
            [
             0.0,
             "#440154"
            ],
            [
             0.1111111111111111,
             "#482878"
            ],
            [
             0.2222222222222222,
             "#3e4989"
            ],
            [
             0.3333333333333333,
             "#31688e"
            ],
            [
             0.4444444444444444,
             "#26828e"
            ],
            [
             0.5555555555555556,
             "#1f9e89"
            ],
            [
             0.6666666666666666,
             "#35b779"
            ],
            [
             0.7777777777777778,
             "#6ece58"
            ],
            [
             0.8888888888888888,
             "#b5de2b"
            ],
            [
             1.0,
             "#fde725"
            ]
           ]
          },
          "colorway": [
           "#91268F",
           "#8CC63E",
           "#00A7A0",
           "#F05A28",
           "#4C4C4C",
           "#630460",
           "#9f3913",
           "#588527",
           "#00716c",
           "#3e4040"
          ],
          "font": {
           "color": "rgb(36,36,36)",
           "family": "Poppins",
           "size": 11
          },
          "geo": {
           "bgcolor": "white",
           "lakecolor": "white",
           "landcolor": "white",
           "showlakes": true,
           "showland": true,
           "subunitcolor": "white"
          },
          "hoverlabel": {
           "align": "left"
          },
          "hovermode": "closest",
          "mapbox": {
           "style": "light"
          },
          "paper_bgcolor": "white",
          "plot_bgcolor": "white",
          "polar": {
           "angularaxis": {
            "gridcolor": "rgb(232,232,232)",
            "linecolor": "rgb(36,36,36)",
            "showgrid": false,
            "showline": true,
            "ticks": "outside"
           },
           "bgcolor": "white",
           "radialaxis": {
            "gridcolor": "rgb(232,232,232)",
            "linecolor": "rgb(36,36,36)",
            "showgrid": false,
            "showline": true,
            "ticks": "outside"
           }
          },
          "scene": {
           "xaxis": {
            "backgroundcolor": "white",
            "gridcolor": "rgb(232,232,232)",
            "gridwidth": 2,
            "linecolor": "rgb(36,36,36)",
            "showbackground": true,
            "showgrid": false,
            "showline": true,
            "ticks": "outside",
            "zeroline": false,
            "zerolinecolor": "rgb(36,36,36)"
           },
           "yaxis": {
            "backgroundcolor": "white",
            "gridcolor": "rgb(232,232,232)",
            "gridwidth": 2,
            "linecolor": "rgb(36,36,36)",
            "showbackground": true,
            "showgrid": false,
            "showline": true,
            "ticks": "outside",
            "zeroline": false,
            "zerolinecolor": "rgb(36,36,36)"
           },
           "zaxis": {
            "backgroundcolor": "white",
            "gridcolor": "rgb(232,232,232)",
            "gridwidth": 2,
            "linecolor": "rgb(36,36,36)",
            "showbackground": true,
            "showgrid": false,
            "showline": true,
            "ticks": "outside",
            "zeroline": false,
            "zerolinecolor": "rgb(36,36,36)"
           }
          },
          "shapedefaults": {
           "fillcolor": "black",
           "line": {
            "width": 0
           },
           "opacity": 0.3
          },
          "ternary": {
           "aaxis": {
            "gridcolor": "rgb(232,232,232)",
            "linecolor": "rgb(36,36,36)",
            "showgrid": false,
            "showline": true,
            "ticks": "outside"
           },
           "baxis": {
            "gridcolor": "rgb(232,232,232)",
            "linecolor": "rgb(36,36,36)",
            "showgrid": false,
            "showline": true,
            "ticks": "outside"
           },
           "bgcolor": "white",
           "caxis": {
            "gridcolor": "rgb(232,232,232)",
            "linecolor": "rgb(36,36,36)",
            "showgrid": false,
            "showline": true,
            "ticks": "outside"
           }
          },
          "title": {
           "x": 0.05
          },
          "xaxis": {
           "automargin": true,
           "gridcolor": "rgb(232,232,232)",
           "linecolor": "rgb(36,36,36)",
           "showgrid": false,
           "showline": true,
           "ticks": "outside",
           "title": {
            "standoff": 15
           },
           "zeroline": false,
           "zerolinecolor": "rgb(36,36,36)"
          },
          "yaxis": {
           "automargin": true,
           "gridcolor": "rgb(232,232,232)",
           "linecolor": "rgb(36,36,36)",
           "showgrid": false,
           "showline": true,
           "ticks": "outside",
           "title": {
            "standoff": 15
           },
           "zeroline": false,
           "zerolinecolor": "rgb(36,36,36)"
          }
         }
        },
        "title": {
         "text": "Heavy Trucks: Snohomish"
        },
        "width": 800,
        "xaxis": {
         "anchor": "y",
         "domain": [
          0.0,
          1.0
         ],
         "title": {
          "text": "Observed"
         }
        },
        "yaxis": {
         "anchor": "x",
         "domain": [
          0.0,
          1.0
         ],
         "title": {
          "text": "Model"
         }
        }
       }
      },
      "text/html": [
       "<div>                            <div id=\"9f9992a1-8892-43dd-83fe-c3cc259ef99b\" class=\"plotly-graph-div\" style=\"height:600px; width:800px;\"></div>            <script type=\"text/javascript\">                require([\"plotly\"], function(Plotly) {                    window.PLOTLYENV=window.PLOTLYENV || {};                                    if (document.getElementById(\"9f9992a1-8892-43dd-83fe-c3cc259ef99b\")) {                    Plotly.newPlot(                        \"9f9992a1-8892-43dd-83fe-c3cc259ef99b\",                        [{\"customdata\":[[\"I-5 @ 44th NB\",\"Snohomish\"],[\"I-5 @ 44th SB\",\"Snohomish\"],[\"I-5 N\\u002fO 164th NB\",\"Snohomish\"],[\"I-5 N\\u002fO 164th SB\",\"Snohomish\"],[\"I-5 N\\u002fO SR-526 NB\",\"Snohomish\"],[\"I-5 N\\u002fO SR-526 SB\",\"Snohomish\"],[\"I-5 N\\u002fO 41st NB\",\"Snohomish\"],[\"I-5 N\\u002fO 41st SB\",\"Snohomish\"],[\"I-5 @ SR-528 NB\",\"Snohomish\"],[\"I-5 @ SR-528 SB\",\"Snohomish\"],[\"I-5 N\\u002fO SR-531 NB\",\"Snohomish\"],[\"I-5 N\\u002fO SR-531 SB\",\"Snohomish\"],[\"I-405 N\\u002fO SR-527 NB\",\"Snohomish\"],[\"I-405 N\\u002fO SR-527 SB\",\"Snohomish\"],[\"SR-525 N\\u002fO I-5 NB\",\"Snohomish\"],[\"SR-525 N\\u002fO I-5 SB\",\"Snohomish\"],[\"I-5 @ SR-532 NB\\u002fSB\",\"Snohomish\"],[\"I-5 @ Skagit border NB\\u002fSB\",\"Snohomish\"],[\"SR-525 N\\u002fO SR-526 NB\\u002fSB\",\"Snohomish\"],[\"SR-525 N\\u002fO 5th NB\\u002fSB\",\"Snohomish\"],[\"SR-99 E\\u002fO Evergreen NB\\u002fSB\",\"Snohomish\"],[\"SR-526 W\\u002fO Paine Field Blvd WB\\u002fEB\",\"Snohomish\"],[\"SR-526 E\\u002fO Paine Field Blvd WB\\u002fEB\",\"Snohomish\"],[\"SR-9 @ SR-522 NB\\u002fSB\",\"Snohomish\"],[\"SR-9 N\\u002fO SR-2 NB\\u002fSB\",\"Snohomish\"],[\"SR-9 N\\u002fO SR-204 NB\\u002fSB\",\"Snohomish\"],[\"SR-9 N\\u002fO SR-92 NB\\u002fSB\",\"Snohomish\"],[\"SR-9 N\\u002fO 132nd NB\\u002fSB\",\"Snohomish\"],[\"SR-9 N\\u002fO SR-531 NB\\u002fSB\",\"Snohomish\"],[\"SR-9 S\\u002fO 67th NB\\u002fSB\",\"Snohomish\"],[\"SR-9 N\\u002fO Kackman NB\\u002fSB\",\"Snohomish\"],[\"SR-9 N\\u002fO Stanwood-Bryant NB\\u002fSB\",\"Snohomish\"],[\"SR-532 @ Island County WB\\u002fEB\",\"Snohomish\"],[\"SR-532 W\\u002fO 28th WB\\u002fEB\",\"Snohomish\"],[\"SR-104 @ Ferry Loading Edm WB\\u002fEB\",\"Snohomish\"],[\"SR-104 N\\u002fO Pine WB\\u002fEB\",\"Snohomish\"],[\"SR-104 E\\u002fO 5th WB\\u002fEB\",\"Snohomish\"],[\"SR-524 W\\u002fO 3rd WB\\u002fEB\",\"Snohomish\"],[\"SR-524 S\\u002fO Main WB\\u002fEB\",\"Snohomish\"],[\"SR-524 N\\u002fO Main WB\\u002fEB\",\"Snohomish\"],[\"SR-524 E\\u002fO 68th WB\\u002fEB\",\"Snohomish\"],[\"SR-524 E\\u002fO 39th WB\\u002fEB\",\"Snohomish\"],[\"SR-524 N\\u002fO Paradise Lake WB\\u002fEB\",\"Snohomish\"],[\"SR-2 E\\u002fO I-5 WB\\u002fEB\",\"Snohomish\"],[\"SR-2 S\\u002fO SR-204 WB\\u002fEB\",\"Snohomish\"],[\"SR-2 E\\u002fO Main WB\\u002fEB\",\"Snohomish\"],[\"SR-2 E\\u002fO Rice WB\\u002fEB\",\"Snohomish\"],[\"SR-2 E\\u002fO 10th (Gold Bar) WB\\u002fEB\",\"Snohomish\"],[\"SR-2 W\\u002fO Index-Galena WB\\u002fEB\",\"Snohomish\"],[\"SR-2 E\\u002fO Index-Galena WB\\u002fEB\",\"Snohomish\"],[\"SR-527 N\\u002fO I-405 NB\\u002fSB\",\"Snohomish\"],[\"SR-527 N\\u002fO 196th NB\\u002fSB\",\"Snohomish\"],[\"SR-527 N\\u002fO Dumas NB\\u002fSB\",\"Snohomish\"],[\"SR-527 N\\u002fO 100th NB\\u002fSB\",\"Snohomish\"],[\"SR-529 @ I-5 (Evt) NB\\u002fSB\",\"Snohomish\"],[\"SR-529 S\\u002fO Everett NB\\u002fSB\",\"Snohomish\"],[\"SR-529 W\\u002fO Maple NB\\u002fSB\",\"Snohomish\"],[\"SR-529 N\\u002fO Everett NB\\u002fSB\",\"Snohomish\"],[\"SR-529 N\\u002fO Broadway NB\\u002fSB\",\"Snohomish\"],[\"SR-96 @ I-5 WB\\u002fEB\",\"Snohomish\"],[\"SR-96 N\\u002fO 132nd WB\\u002fEB\",\"Snohomish\"],[\"SR-96 E\\u002fO Seattle Hill WB\\u002fEB\",\"Snohomish\"],[\"SR-528 @ I-5 WB\\u002fEB\",\"Snohomish\"],[\"SR-528 E\\u002fO SR-529 WB\\u002fEB\",\"Snohomish\"],[\"SR-531 N\\u002fO Rose WB\\u002fEB\",\"Snohomish\"],[\"SR-531 E\\u002fO Lk Goodwin WB\\u002fEB\",\"Snohomish\"],[\"SR-531 E\\u002fO 27th WB\\u002fEB\",\"Snohomish\"],[\"SR-531 E\\u002fO I-5 WB\\u002fEB\",\"Snohomish\"],[\"SR-531 E\\u002fO 43rd WB\\u002fEB\",\"Snohomish\"],[\"SR-531 W\\u002fO 67th WB\\u002fEB\",\"Snohomish\"],[\"SR-531 E\\u002fO 67th WB\\u002fEB\",\"Snohomish\"],[\"SR-530 @ I-5 WB\\u002fEB\",\"Snohomish\"],[\"SR-530 E\\u002fO Smokey Pt WB\\u002fEB\",\"Snohomish\"],[\"SR-530 N\\u002fO 211th WB\\u002fEB\",\"Snohomish\"],[\"SR-530 E\\u002fO SR-9 WB\\u002fEB\",\"Snohomish\"],[\"SR-530 W\\u002fO Arlington Hts WB\\u002fEB\",\"Snohomish\"],[\"SR-530 E\\u002fO Arlington Hts WB\\u002fEB\",\"Snohomish\"],[\"SR-530 W\\u002fO Jim Creek WB\\u002fEB\",\"Snohomish\"],[\"SR-530 W\\u002fO Ramstad WB\\u002fEB\",\"Snohomish\"],[\"SR-530 @ Skagit County WB\\u002fEB\",\"Snohomish\"],[\"SR-203 N\\u002fO 203rd NB\\u002fSB\",\"Snohomish\"],[\"SR-204 @ SR-2 NB\\u002fSB\",\"Snohomish\"],[\"SR-204 N\\u002fO 20th NB\\u002fSB\",\"Snohomish\"],[\"SR-204 N\\u002fO SR-2 NB\\u002fSB\",\"Snohomish\"],[\"SR-92 E\\u002fO Lake WB\\u002fEB\",\"Snohomish\"],[\"SR-92 E\\u002fO Callow WB\\u002fEB\",\"Snohomish\"],[\"SR-92 E\\u002fO Quarry WB\\u002fEB\",\"Snohomish\"],[\"SR-92 W\\u002fO Mountain Loop WB\\u002fEB\",\"Snohomish\"]],\"hovertemplate\":\"Observed=%{x}\\u003cbr\\u003eModel=%{y}\\u003cbr\\u003elocation=%{customdata[0]}\\u003cbr\\u003eCounty=%{customdata[1]}\\u003cextra\\u003e\\u003c\\u002fextra\\u003e\",\"legendgroup\":\"\",\"marker\":{\"color\":\"#91268F\",\"symbol\":\"circle\"},\"mode\":\"markers\",\"name\":\"\",\"orientation\":\"v\",\"showlegend\":false,\"x\":[2931,2951,3252,3274,3206,3377,2734,3167,3043,3126,2304,2316,1355,1425,403,274,4052,4113,173,48,123,99,92,699,285,653,317,372,169,229,167,82,309,328,59,55,72,8,6,6,76,176,507,891,874,506,420,444,243,192,265,279,44,156,88,49,65,84,825,220,42,62,260,330,18,99,429,697,696,340,182,705,609,464,400,403,383,380,299,47,408,58,55,400,494,448,60,718],\"xaxis\":\"x\",\"y\":[5085,5275,6344,6215,5969,5886,5890,5793,5024,4983,3900,3885,2226,1857,828,746,6859,6703,102,115,0,2,54,372,281,474,534,128,42,43,61,189,115,116,0,34,34,4,0,4,9,22,184,832,612,1895,2008,1987,1987,1882,65,58,2,9,119,60,12,113,22,74,22,4,745,222,0,6,175,1324,1264,81,85,125,153,150,132,134,133,133,133,1,531,36,58,285,214,214,0,60],\"yaxis\":\"y\",\"type\":\"scatter\",\"line\":{\"color\":\"Grey\",\"width\":2}},{\"hovertemplate\":\"Observed=%{x}\\u003cbr\\u003eModel=%{y}\\u003cextra\\u003e\\u003c\\u002fextra\\u003e\",\"legendgroup\":\"\",\"line\":{\"color\":\"Grey\",\"dash\":\"solid\",\"width\":2},\"marker\":{\"symbol\":\"circle\"},\"mode\":\"lines\",\"name\":\"\",\"orientation\":\"v\",\"showlegend\":false,\"x\":[0.0,41.54545454545455,83.0909090909091,124.63636363636364,166.1818181818182,207.72727272727275,249.27272727272728,290.8181818181818,332.3636363636364,373.90909090909093,415.4545454545455,457.0,498.54545454545456,540.0909090909091,581.6363636363636,623.1818181818182,664.7272727272727,706.2727272727273,747.8181818181819,789.3636363636364,830.909090909091,872.4545454545455,914.0,955.5454545454546,997.0909090909091,1038.6363636363637,1080.1818181818182,1121.7272727272727,1163.2727272727273,1204.8181818181818,1246.3636363636365,1287.909090909091,1329.4545454545455,1371.0,1412.5454545454545,1454.0909090909092,1495.6363636363637,1537.1818181818182,1578.7272727272727,1620.2727272727273,1661.818181818182,1703.3636363636365,1744.909090909091,1786.4545454545455,1828.0,1869.5454545454545,1911.0909090909092,1952.6363636363637,1994.1818181818182,2035.7272727272727,2077.2727272727275,2118.818181818182,2160.3636363636365,2201.909090909091,2243.4545454545455,2285.0,2326.5454545454545,2368.090909090909,2409.6363636363635,2451.1818181818185,2492.727272727273,2534.2727272727275,2575.818181818182,2617.3636363636365,2658.909090909091,2700.4545454545455,2742.0,2783.5454545454545,2825.090909090909,2866.6363636363635,2908.1818181818185,2949.727272727273,2991.2727272727275,3032.818181818182,3074.3636363636365,3115.909090909091,3157.4545454545455,3199.0,3240.5454545454545,3282.090909090909,3323.636363636364,3365.1818181818185,3406.727272727273,3448.2727272727275,3489.818181818182,3531.3636363636365,3572.909090909091,3614.4545454545455,3656.0,3697.5454545454545,3739.090909090909,3780.636363636364,3822.1818181818185,3863.727272727273,3905.2727272727275,3946.818181818182,3988.3636363636365,4029.909090909091,4071.4545454545455,4113.0],\"xaxis\":\"x\",\"y\":[-188.5836592391936,-114.07237980388489,-39.56110036857618,34.950179066732545,109.46145850204124,183.97273793735002,258.4840173726587,332.9952968079674,407.5065762432761,482.01785567858485,556.5291351138936,631.0404145492023,705.551693984511,780.0629734198197,854.5742528551284,929.0855322904372,1003.5968117257457,1078.1080911610545,1152.6193705963633,1227.1306500316718,1301.6419294669809,1376.1532089022894,1450.6644883375982,1525.175767772907,1599.6870472082155,1674.1983266435243,1748.709606078833,1823.2208855141416,1897.7321649494504,1972.243444384759,2046.754723820068,2121.2660032553767,2195.777282690685,2270.288562125994,2344.799841561303,2419.311120996612,2493.82240043192,2568.333679867229,2642.844959302537,2717.356238737846,2791.867518173155,2866.378797608464,2940.890077043772,3015.401356479081,3089.91263591439,3164.4239153496983,3238.9351947850073,3313.4464742203163,3387.9577536556244,3462.4690330909334,3536.9803125262424,3611.4915919615514,3686.0028713968595,3760.5141508321685,3835.0254302674766,3909.5367097027856,3984.0479891380946,4058.5592685734027,4133.070548008712,4207.581827444021,4282.09310687933,4356.604386314639,4431.115665749947,4505.626945185256,4580.138224620564,4654.649504055873,4729.160783491182,4803.67206292649,4878.183342361799,4952.694621797107,5027.205901232417,5101.717180667726,5176.228460103034,5250.739739538343,5325.251018973651,5399.76229840896,5474.273577844268,5548.784857279577,5623.296136714886,5697.8074161501945,5772.318695585504,5846.8299750208125,5921.3412544561215,5995.8525338914305,6070.363813326739,6144.875092762048,6219.386372197356,6293.897651632665,6368.408931067974,6442.920210503282,6517.431489938591,6591.9427693739,6666.454048809209,6740.965328244517,6815.476607679826,6889.987887115135,6964.499166550443,7039.010445985752,7113.52172542106,7188.033004856369],\"yaxis\":\"y\",\"type\":\"scatter\"}],                        {\"template\":{\"data\":{\"barpolar\":[{\"marker\":{\"line\":{\"color\":\"white\",\"width\":0.5},\"pattern\":{\"fillmode\":\"overlay\",\"size\":10,\"solidity\":0.2}},\"type\":\"barpolar\"}],\"bar\":[{\"error_x\":{\"color\":\"rgb(36,36,36)\"},\"error_y\":{\"color\":\"rgb(36,36,36)\"},\"marker\":{\"line\":{\"color\":\"white\",\"width\":0.5},\"pattern\":{\"fillmode\":\"overlay\",\"size\":10,\"solidity\":0.2}},\"type\":\"bar\"}],\"carpet\":[{\"aaxis\":{\"endlinecolor\":\"rgb(36,36,36)\",\"gridcolor\":\"white\",\"linecolor\":\"white\",\"minorgridcolor\":\"white\",\"startlinecolor\":\"rgb(36,36,36)\"},\"baxis\":{\"endlinecolor\":\"rgb(36,36,36)\",\"gridcolor\":\"white\",\"linecolor\":\"white\",\"minorgridcolor\":\"white\",\"startlinecolor\":\"rgb(36,36,36)\"},\"type\":\"carpet\"}],\"choropleth\":[{\"colorbar\":{\"outlinewidth\":1,\"tickcolor\":\"rgb(36,36,36)\",\"ticks\":\"outside\"},\"type\":\"choropleth\"}],\"contourcarpet\":[{\"colorbar\":{\"outlinewidth\":1,\"tickcolor\":\"rgb(36,36,36)\",\"ticks\":\"outside\"},\"type\":\"contourcarpet\"}],\"contour\":[{\"colorbar\":{\"outlinewidth\":1,\"tickcolor\":\"rgb(36,36,36)\",\"ticks\":\"outside\"},\"colorscale\":[[0.0,\"#440154\"],[0.1111111111111111,\"#482878\"],[0.2222222222222222,\"#3e4989\"],[0.3333333333333333,\"#31688e\"],[0.4444444444444444,\"#26828e\"],[0.5555555555555556,\"#1f9e89\"],[0.6666666666666666,\"#35b779\"],[0.7777777777777778,\"#6ece58\"],[0.8888888888888888,\"#b5de2b\"],[1.0,\"#fde725\"]],\"type\":\"contour\"}],\"heatmapgl\":[{\"colorbar\":{\"outlinewidth\":1,\"tickcolor\":\"rgb(36,36,36)\",\"ticks\":\"outside\"},\"colorscale\":[[0.0,\"#440154\"],[0.1111111111111111,\"#482878\"],[0.2222222222222222,\"#3e4989\"],[0.3333333333333333,\"#31688e\"],[0.4444444444444444,\"#26828e\"],[0.5555555555555556,\"#1f9e89\"],[0.6666666666666666,\"#35b779\"],[0.7777777777777778,\"#6ece58\"],[0.8888888888888888,\"#b5de2b\"],[1.0,\"#fde725\"]],\"type\":\"heatmapgl\"}],\"heatmap\":[{\"colorbar\":{\"outlinewidth\":1,\"tickcolor\":\"rgb(36,36,36)\",\"ticks\":\"outside\"},\"colorscale\":[[0.0,\"#440154\"],[0.1111111111111111,\"#482878\"],[0.2222222222222222,\"#3e4989\"],[0.3333333333333333,\"#31688e\"],[0.4444444444444444,\"#26828e\"],[0.5555555555555556,\"#1f9e89\"],[0.6666666666666666,\"#35b779\"],[0.7777777777777778,\"#6ece58\"],[0.8888888888888888,\"#b5de2b\"],[1.0,\"#fde725\"]],\"type\":\"heatmap\"}],\"histogram2dcontour\":[{\"colorbar\":{\"outlinewidth\":1,\"tickcolor\":\"rgb(36,36,36)\",\"ticks\":\"outside\"},\"colorscale\":[[0.0,\"#440154\"],[0.1111111111111111,\"#482878\"],[0.2222222222222222,\"#3e4989\"],[0.3333333333333333,\"#31688e\"],[0.4444444444444444,\"#26828e\"],[0.5555555555555556,\"#1f9e89\"],[0.6666666666666666,\"#35b779\"],[0.7777777777777778,\"#6ece58\"],[0.8888888888888888,\"#b5de2b\"],[1.0,\"#fde725\"]],\"type\":\"histogram2dcontour\"}],\"histogram2d\":[{\"colorbar\":{\"outlinewidth\":1,\"tickcolor\":\"rgb(36,36,36)\",\"ticks\":\"outside\"},\"colorscale\":[[0.0,\"#440154\"],[0.1111111111111111,\"#482878\"],[0.2222222222222222,\"#3e4989\"],[0.3333333333333333,\"#31688e\"],[0.4444444444444444,\"#26828e\"],[0.5555555555555556,\"#1f9e89\"],[0.6666666666666666,\"#35b779\"],[0.7777777777777778,\"#6ece58\"],[0.8888888888888888,\"#b5de2b\"],[1.0,\"#fde725\"]],\"type\":\"histogram2d\"}],\"histogram\":[{\"marker\":{\"line\":{\"color\":\"white\",\"width\":0.6}},\"type\":\"histogram\"}],\"mesh3d\":[{\"colorbar\":{\"outlinewidth\":1,\"tickcolor\":\"rgb(36,36,36)\",\"ticks\":\"outside\"},\"type\":\"mesh3d\"}],\"parcoords\":[{\"line\":{\"colorbar\":{\"outlinewidth\":1,\"tickcolor\":\"rgb(36,36,36)\",\"ticks\":\"outside\"}},\"type\":\"parcoords\"}],\"pie\":[{\"automargin\":true,\"type\":\"pie\"}],\"scatter3d\":[{\"line\":{\"colorbar\":{\"outlinewidth\":1,\"tickcolor\":\"rgb(36,36,36)\",\"ticks\":\"outside\"}},\"marker\":{\"colorbar\":{\"outlinewidth\":1,\"tickcolor\":\"rgb(36,36,36)\",\"ticks\":\"outside\"}},\"type\":\"scatter3d\"}],\"scattercarpet\":[{\"marker\":{\"colorbar\":{\"outlinewidth\":1,\"tickcolor\":\"rgb(36,36,36)\",\"ticks\":\"outside\"}},\"type\":\"scattercarpet\"}],\"scattergeo\":[{\"marker\":{\"colorbar\":{\"outlinewidth\":1,\"tickcolor\":\"rgb(36,36,36)\",\"ticks\":\"outside\"}},\"type\":\"scattergeo\"}],\"scattergl\":[{\"marker\":{\"colorbar\":{\"outlinewidth\":1,\"tickcolor\":\"rgb(36,36,36)\",\"ticks\":\"outside\"}},\"type\":\"scattergl\"}],\"scattermapbox\":[{\"marker\":{\"colorbar\":{\"outlinewidth\":1,\"tickcolor\":\"rgb(36,36,36)\",\"ticks\":\"outside\"}},\"type\":\"scattermapbox\"}],\"scatterpolargl\":[{\"marker\":{\"colorbar\":{\"outlinewidth\":1,\"tickcolor\":\"rgb(36,36,36)\",\"ticks\":\"outside\"}},\"type\":\"scatterpolargl\"}],\"scatterpolar\":[{\"marker\":{\"colorbar\":{\"outlinewidth\":1,\"tickcolor\":\"rgb(36,36,36)\",\"ticks\":\"outside\"}},\"type\":\"scatterpolar\"}],\"scatter\":[{\"fillpattern\":{\"fillmode\":\"overlay\",\"size\":10,\"solidity\":0.2},\"type\":\"scatter\"}],\"scatterternary\":[{\"marker\":{\"colorbar\":{\"outlinewidth\":1,\"tickcolor\":\"rgb(36,36,36)\",\"ticks\":\"outside\"}},\"type\":\"scatterternary\"}],\"surface\":[{\"colorbar\":{\"outlinewidth\":1,\"tickcolor\":\"rgb(36,36,36)\",\"ticks\":\"outside\"},\"colorscale\":[[0.0,\"#440154\"],[0.1111111111111111,\"#482878\"],[0.2222222222222222,\"#3e4989\"],[0.3333333333333333,\"#31688e\"],[0.4444444444444444,\"#26828e\"],[0.5555555555555556,\"#1f9e89\"],[0.6666666666666666,\"#35b779\"],[0.7777777777777778,\"#6ece58\"],[0.8888888888888888,\"#b5de2b\"],[1.0,\"#fde725\"]],\"type\":\"surface\"}],\"table\":[{\"cells\":{\"fill\":{\"color\":\"rgb(237,237,237)\"},\"line\":{\"color\":\"white\"}},\"header\":{\"fill\":{\"color\":\"rgb(217,217,217)\"},\"line\":{\"color\":\"white\"}},\"type\":\"table\"}]},\"layout\":{\"annotationdefaults\":{\"arrowhead\":0,\"arrowwidth\":1},\"autotypenumbers\":\"strict\",\"coloraxis\":{\"colorbar\":{\"outlinewidth\":1,\"tickcolor\":\"rgb(36,36,36)\",\"ticks\":\"outside\"}},\"colorscale\":{\"diverging\":[[0.0,\"rgb(103,0,31)\"],[0.1,\"rgb(178,24,43)\"],[0.2,\"rgb(214,96,77)\"],[0.3,\"rgb(244,165,130)\"],[0.4,\"rgb(253,219,199)\"],[0.5,\"rgb(247,247,247)\"],[0.6,\"rgb(209,229,240)\"],[0.7,\"rgb(146,197,222)\"],[0.8,\"rgb(67,147,195)\"],[0.9,\"rgb(33,102,172)\"],[1.0,\"rgb(5,48,97)\"]],\"sequential\":[[0.0,\"#440154\"],[0.1111111111111111,\"#482878\"],[0.2222222222222222,\"#3e4989\"],[0.3333333333333333,\"#31688e\"],[0.4444444444444444,\"#26828e\"],[0.5555555555555556,\"#1f9e89\"],[0.6666666666666666,\"#35b779\"],[0.7777777777777778,\"#6ece58\"],[0.8888888888888888,\"#b5de2b\"],[1.0,\"#fde725\"]],\"sequentialminus\":[[0.0,\"#440154\"],[0.1111111111111111,\"#482878\"],[0.2222222222222222,\"#3e4989\"],[0.3333333333333333,\"#31688e\"],[0.4444444444444444,\"#26828e\"],[0.5555555555555556,\"#1f9e89\"],[0.6666666666666666,\"#35b779\"],[0.7777777777777778,\"#6ece58\"],[0.8888888888888888,\"#b5de2b\"],[1.0,\"#fde725\"]]},\"colorway\":[\"#91268F\",\"#8CC63E\",\"#00A7A0\",\"#F05A28\",\"#4C4C4C\",\"#630460\",\"#9f3913\",\"#588527\",\"#00716c\",\"#3e4040\"],\"font\":{\"color\":\"rgb(36,36,36)\",\"family\":\"Poppins\",\"size\":11},\"geo\":{\"bgcolor\":\"white\",\"lakecolor\":\"white\",\"landcolor\":\"white\",\"showlakes\":true,\"showland\":true,\"subunitcolor\":\"white\"},\"hoverlabel\":{\"align\":\"left\"},\"hovermode\":\"closest\",\"mapbox\":{\"style\":\"light\"},\"paper_bgcolor\":\"white\",\"plot_bgcolor\":\"white\",\"polar\":{\"angularaxis\":{\"gridcolor\":\"rgb(232,232,232)\",\"linecolor\":\"rgb(36,36,36)\",\"showgrid\":false,\"showline\":true,\"ticks\":\"outside\"},\"bgcolor\":\"white\",\"radialaxis\":{\"gridcolor\":\"rgb(232,232,232)\",\"linecolor\":\"rgb(36,36,36)\",\"showgrid\":false,\"showline\":true,\"ticks\":\"outside\"}},\"scene\":{\"xaxis\":{\"backgroundcolor\":\"white\",\"gridcolor\":\"rgb(232,232,232)\",\"gridwidth\":2,\"linecolor\":\"rgb(36,36,36)\",\"showbackground\":true,\"showgrid\":false,\"showline\":true,\"ticks\":\"outside\",\"zeroline\":false,\"zerolinecolor\":\"rgb(36,36,36)\"},\"yaxis\":{\"backgroundcolor\":\"white\",\"gridcolor\":\"rgb(232,232,232)\",\"gridwidth\":2,\"linecolor\":\"rgb(36,36,36)\",\"showbackground\":true,\"showgrid\":false,\"showline\":true,\"ticks\":\"outside\",\"zeroline\":false,\"zerolinecolor\":\"rgb(36,36,36)\"},\"zaxis\":{\"backgroundcolor\":\"white\",\"gridcolor\":\"rgb(232,232,232)\",\"gridwidth\":2,\"linecolor\":\"rgb(36,36,36)\",\"showbackground\":true,\"showgrid\":false,\"showline\":true,\"ticks\":\"outside\",\"zeroline\":false,\"zerolinecolor\":\"rgb(36,36,36)\"}},\"shapedefaults\":{\"fillcolor\":\"black\",\"line\":{\"width\":0},\"opacity\":0.3},\"ternary\":{\"aaxis\":{\"gridcolor\":\"rgb(232,232,232)\",\"linecolor\":\"rgb(36,36,36)\",\"showgrid\":false,\"showline\":true,\"ticks\":\"outside\"},\"baxis\":{\"gridcolor\":\"rgb(232,232,232)\",\"linecolor\":\"rgb(36,36,36)\",\"showgrid\":false,\"showline\":true,\"ticks\":\"outside\"},\"bgcolor\":\"white\",\"caxis\":{\"gridcolor\":\"rgb(232,232,232)\",\"linecolor\":\"rgb(36,36,36)\",\"showgrid\":false,\"showline\":true,\"ticks\":\"outside\"}},\"title\":{\"x\":0.05},\"xaxis\":{\"automargin\":true,\"gridcolor\":\"rgb(232,232,232)\",\"linecolor\":\"rgb(36,36,36)\",\"showgrid\":false,\"showline\":true,\"ticks\":\"outside\",\"title\":{\"standoff\":15},\"zeroline\":false,\"zerolinecolor\":\"rgb(36,36,36)\"},\"yaxis\":{\"automargin\":true,\"gridcolor\":\"rgb(232,232,232)\",\"linecolor\":\"rgb(36,36,36)\",\"showgrid\":false,\"showline\":true,\"ticks\":\"outside\",\"title\":{\"standoff\":15},\"zeroline\":false,\"zerolinecolor\":\"rgb(36,36,36)\"}}},\"xaxis\":{\"anchor\":\"y\",\"domain\":[0.0,1.0],\"title\":{\"text\":\"Observed\"}},\"yaxis\":{\"anchor\":\"x\",\"domain\":[0.0,1.0],\"title\":{\"text\":\"Model\"}},\"legend\":{\"tracegroupgap\":0},\"title\":{\"text\":\"Heavy Trucks: Snohomish\"},\"margin\":{\"l\":100,\"r\":100,\"t\":100,\"b\":100},\"height\":600,\"width\":800,\"shapes\":[{\"line\":{\"color\":\"Red\",\"dash\":\"dash\",\"width\":2},\"type\":\"line\",\"x0\":0,\"x1\":6859,\"y0\":0,\"y1\":6859}],\"annotations\":[{\"align\":\"right\",\"font\":{\"color\":\"pink\",\"size\":12},\"showarrow\":false,\"text\":\"y = x\",\"x\":7201.950000000001,\"y\":7201.950000000001},{\"align\":\"right\",\"font\":{\"color\":\"black\",\"size\":12},\"showarrow\":false,\"text\":\"r^2 = 0.93\",\"x\":4318.650000000001,\"y\":7547.434655099188}]},                        {\"responsive\": true}                    ).then(function(){\n",
       "                            \n",
       "var gd = document.getElementById('9f9992a1-8892-43dd-83fe-c3cc259ef99b');\n",
       "var x = new MutationObserver(function (mutations, observer) {{\n",
       "        var display = window.getComputedStyle(gd).display;\n",
       "        if (!display || display === 'none') {{\n",
       "            console.log([gd, 'removed!']);\n",
       "            Plotly.purge(gd);\n",
       "            observer.disconnect();\n",
       "        }}\n",
       "}});\n",
       "\n",
       "// Listen for the removal of the full notebook cells\n",
       "var notebookContainer = gd.closest('#notebook-container');\n",
       "if (notebookContainer) {{\n",
       "    x.observe(notebookContainer, {childList: true});\n",
       "}}\n",
       "\n",
       "// Listen for the clearing of the current output cell\n",
       "var outputEl = gd.closest('.output');\n",
       "if (outputEl) {{\n",
       "    x.observe(outputEl, {childList: true});\n",
       "}}\n",
       "\n",
       "                        })                };                });            </script>        </div>"
      ]
     },
     "metadata": {},
     "output_type": "display_data"
    }
   ],
   "source": [
    "fig = create_truck_chart(df_daily_heavy, 'Heavy', 'Snohomish')\n",
    "fig.show()"
   ]
  },
  {
   "cell_type": "raw",
   "id": "f8527f4f",
   "metadata": {
    "vscode": {
     "languageId": "raw"
    }
   },
   "source": [
    ":::"
   ]
  },
  {
   "cell_type": "markdown",
   "id": "0182397d",
   "metadata": {},
   "source": [
    "### Medium Truck Counts"
   ]
  },
  {
   "cell_type": "raw",
   "id": "076ed585",
   "metadata": {},
   "source": [
    ":::{.panel-tabset}\n",
    "\n",
    "#### Region"
   ]
  },
  {
   "cell_type": "code",
   "execution_count": 29,
   "id": "642f14ef",
   "metadata": {},
   "outputs": [
    {
     "data": {
      "application/vnd.plotly.v1+json": {
       "config": {
        "plotlyServerURL": "https://plot.ly"
       },
       "data": [
        {
         "customdata": [
          [
           "I-5 S/O Mounts NB",
           "Pierce"
          ],
          [
           "I-5 S/O Mounts SB",
           "Pierce"
          ],
          [
           "I-5 S/O Division NB",
           "Pierce"
          ],
          [
           "I-5 S/O Division SB",
           "Pierce"
          ],
          [
           "I-5 @ N/O Division NB",
           "Pierce"
          ],
          [
           "I-5 @ N/O Division SB",
           "Pierce"
          ],
          [
           "I-5 S/O SR-512 NB",
           "Pierce"
          ],
          [
           "I-5 S/O SR-512 SB",
           "Pierce"
          ],
          [
           "I-5 N/O SR-512 NB",
           "Pierce"
          ],
          [
           "I-5 N/O SR-512 SB",
           "Pierce"
          ],
          [
           "I-5 N/O 56th NB",
           "Pierce"
          ],
          [
           "I-5 N/O 56th SB",
           "Pierce"
          ],
          [
           "I-5 E/O SR-16 NB",
           "Pierce"
          ],
          [
           "I-5 E/O SR-16 SB",
           "Pierce"
          ],
          [
           "I-5 E/O Port of Tacoma NB",
           "Pierce"
          ],
          [
           "I-5 E/O Port of Tacoma SB (HOV from 56)",
           "Pierce"
          ],
          [
           "I-5 S/O 205th NB",
           "King"
          ],
          [
           "I-5 S/O 205th SB",
           "King"
          ],
          [
           "I-5 @ 44th NB",
           "Snohomish"
          ],
          [
           "I-5 @ 44th SB",
           "Snohomish"
          ],
          [
           "I-5 N/O 164th NB",
           "Snohomish"
          ],
          [
           "I-5 N/O 164th SB",
           "Snohomish"
          ],
          [
           "I-5 N/O SR-526 NB",
           "Snohomish"
          ],
          [
           "I-5 N/O SR-526 SB",
           "Snohomish"
          ],
          [
           "I-5 N/O 41st NB",
           "Snohomish"
          ],
          [
           "I-5 N/O 41st SB",
           "Snohomish"
          ],
          [
           "I-5 @ SR-528 NB",
           "Snohomish"
          ],
          [
           "I-5 @ SR-528 SB",
           "Snohomish"
          ],
          [
           "I-5 N/O SR-531 NB",
           "Snohomish"
          ],
          [
           "I-5 N/O SR-531 SB",
           "Snohomish"
          ],
          [
           "I-5 Rev N/O I-5 GP NB/SB",
           "King"
          ],
          [
           "I-90 E/O I-5 WB",
           "King"
          ],
          [
           "I-90 E/O I-5 EB",
           "King"
          ],
          [
           "I-90 E/O W Lk Sam WB",
           "King"
          ],
          [
           "I-90 E/O W Lk Sam EB",
           "King"
          ],
          [
           "I-90 E/O SR-900 WB",
           "King"
          ],
          [
           "I-405 @ I-5 Southcenter NB",
           "King"
          ],
          [
           "I-405 @ I-5 Southcenter SB",
           "King"
          ],
          [
           "I-405 @ Lake Wash Blvd NB",
           "King"
          ],
          [
           "I-405 @ I-90 NB",
           "King"
          ],
          [
           "I-405 @ I-90 SB",
           "King"
          ],
          [
           "I-405 N/O SR-527 NB",
           "Snohomish"
          ],
          [
           "I-405 N/O SR-527 SB",
           "Snohomish"
          ],
          [
           "SR-525 N/O I-5 NB",
           "Snohomish"
          ],
          [
           "SR-525 N/O I-5 SB",
           "Snohomish"
          ],
          [
           "SR-520 @ x-lake bridge WB",
           "King"
          ],
          [
           "SR-520 @ x-lake bridge EB",
           "King"
          ],
          [
           "SR-167 S/O 43rd NB",
           "King"
          ],
          [
           "SR-167 S/O 43rd SB",
           "King"
          ],
          [
           "SR-167 N/O SR-18 NB",
           "King"
          ],
          [
           "SR-167 N/O SR-18 SB",
           "King"
          ],
          [
           "SR-167 S/O 15th SW NB",
           "King"
          ],
          [
           "SR-167 S/O 15th SW SB",
           "King"
          ],
          [
           "SR-512 W/O Meridian WB",
           "Pierce"
          ],
          [
           "SR-512 W/O Meridian EB",
           "Pierce"
          ],
          [
           "SR-509 @ Holden NB",
           "King"
          ],
          [
           "SR-509 @ Holden SB",
           "King"
          ],
          [
           "SR-99 N/O 14th NB",
           "King"
          ],
          [
           "SR-99 N/O 14th SB",
           "King"
          ],
          [
           "SR-99 N/O WSF NB",
           "King"
          ],
          [
           "SR-99 N/O WSF SB",
           "King"
          ],
          [
           "SR-99 tunnel NB",
           "King"
          ],
          [
           "SR-99 tunnel SB",
           "King"
          ],
          [
           "SR-599 S/O Pacific NB",
           "King"
          ],
          [
           "SR-599 S/O Pacific SB",
           "King"
          ],
          [
           "SR-599 @ Pacific NB",
           "King"
          ],
          [
           "SR-599 @ Pacific SB",
           "King"
          ],
          [
           "SR-18 @ I-5 WB",
           "King"
          ],
          [
           "SR-18 @ I-5 EB",
           "King"
          ],
          [
           "SR-18 W/O Auburn-Black Diamond WB",
           "King"
          ],
          [
           "SR-18 W/O Auburn-Black Diamond EB",
           "King"
          ],
          [
           "SR-18 E/O SR-516 WB",
           "King"
          ],
          [
           "SR-18 E/O SR-516 EB",
           "King"
          ],
          [
           "SR-18 E/O 256th WB",
           "King"
          ],
          [
           "SR-18 E/O 256th EB",
           "King"
          ],
          [
           "SR-522 N/O 195th WB",
           "King"
          ],
          [
           "SR-522 N/O 195th EB",
           "King"
          ],
          [
           "I-5 N/O I-5 Rev CBD NB/SB",
           "King"
          ],
          [
           "I-5 @ SR-532 NB/SB",
           "Snohomish"
          ],
          [
           "I-5 @ Skagit border NB/SB",
           "Snohomish"
          ],
          [
           "I-90 W/O SR-18 WB/EB",
           "King"
          ],
          [
           "I-90 E/O SR-18 WB/EB",
           "King"
          ],
          [
           "I-90 E/O 436th WB/EB",
           "King"
          ],
          [
           "I-90 @ Kittitas County WB/EB",
           "King"
          ],
          [
           "I-405 N/O SR-522 NB/SB",
           "King"
          ],
          [
           "SR-525 N/O SR-526 NB/SB",
           "Snohomish"
          ],
          [
           "SR-525 N/O 5th NB/SB",
           "Snohomish"
          ],
          [
           "SR-167 N/O Grady NB/SB",
           "King"
          ],
          [
           "SR-167 W/O SR-410 NB/SB",
           "Pierce"
          ],
          [
           "SR-167 E/O SR-161 NB/SB",
           "Pierce"
          ],
          [
           "SR-410 E/O S Prairie WB/EB",
           "Pierce"
          ],
          [
           "SR-410 E/O 244th WB/EB",
           "King"
          ],
          [
           "SR-410 E/O Farman WB/EB",
           "King"
          ],
          [
           "SR-410 @ Greenwater River WB/EB",
           "King"
          ],
          [
           "SR-410 E/O Chinook WB/EB",
           "Pierce"
          ],
          [
           "SR-410 W/O SR-123 WB/EB",
           "Pierce"
          ],
          [
           "SR-410 E/O SR-123 WB/EB",
           "Pierce"
          ],
          [
           "SR-512 @ I-5 WB/EB",
           "Pierce"
          ],
          [
           "SR-512 W/O SR-7 WB/EB",
           "Pierce"
          ],
          [
           "SR-512 S/O SR-167 WB/EB",
           "Pierce"
          ],
          [
           "SR-509 E/O I-705 NB/SB",
           "Pierce"
          ],
          [
           "SR-509 W/O Alexander NB/SB",
           "Pierce"
          ],
          [
           "SR-509 S/O 11th NB/SB",
           "Pierce"
          ],
          [
           "SR-509 N/O Hyada NB/SB",
           "Pierce"
          ],
          [
           "SR-509 E/O Soundview NB/SB",
           "Pierce"
          ],
          [
           "SR-509 E/O 47th NB/SB",
           "King"
          ],
          [
           "SR-509 E/O 21st NB/SB",
           "King"
          ],
          [
           "SR-509 W/O SR-516 NB/SB",
           "King"
          ],
          [
           "SR-509 W/O Des Moines Mem NB/SB",
           "King"
          ],
          [
           "SR-509 E/O 1st Ave NB/SB",
           "King"
          ],
          [
           "SR-509 E/O Des Moines Mem NB/SB",
           "King"
          ],
          [
           "SR-509 @ SR-509 ramp overpass NB/SB",
           "King"
          ],
          [
           "SR-509 N/O Des Moines Mem NB/SB",
           "King"
          ],
          [
           "SR-509 N/O SR-518 NB/SB",
           "King"
          ],
          [
           "SR-99 @ I-5 NB/SB",
           "Pierce"
          ],
          [
           "SR-99 E/O 54th NB/SB",
           "Pierce"
          ],
          [
           "SR-99 S/O Porter NB/SB",
           "Pierce"
          ],
          [
           "SR-99 S/O SR-18 NB/SB",
           "King"
          ],
          [
           "SR-99 N/O SR-18 NB/SB",
           "King"
          ],
          [
           "SR-99 N/O 320th NB/SB",
           "King"
          ],
          [
           "SR-99 N/O 188th NB/SB",
           "King"
          ],
          [
           "SR-99 @ WSF NB/SB",
           "King"
          ],
          [
           "SR-99 @ Aurora Bridge NB/SB",
           "King"
          ],
          [
           "SR-99 N/O 38th NB/SB",
           "King"
          ],
          [
           "SR-99 S/O Roosevelt NB/SB",
           "King"
          ],
          [
           "SR-99 E/O Evergreen NB/SB",
           "Snohomish"
          ],
          [
           "SR-599 N/O I-5 NB/SB",
           "King"
          ],
          [
           "SR-518 @ SR-509 WB/EB",
           "King"
          ],
          [
           "SR-518 E/O SR-509 WB/EB",
           "King"
          ],
          [
           "SR-18 E/O SR-99 WB/EB",
           "King"
          ],
          [
           "SR-18 N/O 304th WB/EB",
           "King"
          ],
          [
           "SR-18 S/O I-90 WB/EB",
           "King"
          ],
          [
           "SR-16 @ TNB NB/SB",
           "Pierce"
          ],
          [
           "SR-16 @ Purdy Dr NB/SB",
           "Pierce"
          ],
          [
           "SR-16  N/O SR-302 NB/SB",
           "Kitsap"
          ],
          [
           "SR-16 N/O SR-160 NB/SB",
           "Kitsap"
          ],
          [
           "SR-16 N/O Tremont NB/SB",
           "Kitsap"
          ],
          [
           "SR-16 S/O SR-3 NB",
           "Kitsap"
          ],
          [
           "SR-202 @ SR-522 NB/SB",
           "King"
          ],
          [
           "SR-202 N/O 145th NB/SB",
           "King"
          ],
          [
           "SR-202 @ Sammamish River Br NB/SB",
           "King"
          ],
          [
           "SR-202 S/O 144th NB/SB",
           "King"
          ],
          [
           "SR-202 N/O Redmond Way NB/SB",
           "King"
          ],
          [
           "SR-202 E/O 164th NB/SB",
           "King"
          ],
          [
           "SR-202 E/O SR-520 NB/SB",
           "King"
          ],
          [
           "SR-202 E/O E Lk Samm NB/SB",
           "King"
          ],
          [
           "SR-202 E/O Sahalee NB/SB",
           "King"
          ],
          [
           "SR-202 E/O 236th NB/SB",
           "King"
          ],
          [
           "SR-202 S/O Ames Lake NB/SB",
           "King"
          ],
          [
           "SR-202 S/O Duthie Hill NB/SB",
           "King"
          ],
          [
           "SR-202 E/O SR-203 NB/SB",
           "King"
          ],
          [
           "SR-202 N/O I-90 NB/SB",
           "King"
          ],
          [
           "SR-526 W/O Paine Field Blvd WB/EB",
           "Snohomish"
          ],
          [
           "SR-526 E/O Paine Field Blvd WB/EB",
           "Snohomish"
          ],
          [
           "SR-9 @ SR-522 NB/SB",
           "Snohomish"
          ],
          [
           "SR-9 N/O SR-2 NB/SB",
           "Snohomish"
          ],
          [
           "SR-9 N/O SR-204 NB/SB",
           "Snohomish"
          ],
          [
           "SR-9 N/O SR-92 NB/SB",
           "Snohomish"
          ],
          [
           "SR-9 N/O 132nd NB/SB",
           "Snohomish"
          ],
          [
           "SR-9 N/O SR-531 NB/SB",
           "Snohomish"
          ],
          [
           "SR-9 S/O 67th NB/SB",
           "Snohomish"
          ],
          [
           "SR-9 N/O Kackman NB/SB",
           "Snohomish"
          ],
          [
           "SR-9 N/O Stanwood-Bryant NB/SB",
           "Snohomish"
          ],
          [
           "SR-532 @ Island County WB/EB",
           "Snohomish"
          ],
          [
           "SR-532 W/O 28th WB/EB",
           "Snohomish"
          ],
          [
           "SR-522 N/O 145th NB/SB",
           "King"
          ],
          [
           "SR-104 @ Hood Canal Bridge WB/EB",
           "Kitsap"
          ],
          [
           "SR-104 E/O Hood Canal Bridge WB/EB",
           "Kitsap"
          ],
          [
           "SR-104 N/O Pt Gamble Rd WB/EB",
           "Kitsap"
          ],
          [
           "SR-104 E/O SR-307 WB/EB",
           "Kitsap"
          ],
          [
           "SR-104 E/O Hansville WB/EB",
           "Kitsap"
          ],
          [
           "SR-104 @ Ferry Loading Edm WB/EB",
           "Snohomish"
          ],
          [
           "SR-104 N/O Pine WB/EB",
           "Snohomish"
          ],
          [
           "SR-104 E/O 5th WB/EB",
           "Snohomish"
          ],
          [
           "SR-104 W/O 19th WB/EB",
           "King"
          ],
          [
           "SR-160 @ SR-16 WB/EB",
           "Kitsap"
          ],
          [
           "SR-160 E/O Long Lake Rd WB/EB",
           "Kitsap"
          ],
          [
           "SR-160 W/O Banner WB/EB",
           "Kitsap"
          ],
          [
           "SR-160 E/O Peterson WB/EB",
           "Kitsap"
          ],
          [
           "SR-160 S/O Southworth Dr WB/EB",
           "Kitsap"
          ],
          [
           "SR-166 E/O SR-16 WB/EB",
           "Kitsap"
          ],
          [
           "SR-3 E/O Sunset Way NB/SB",
           "Kitsap"
          ],
          [
           "SR-3 N/O SR-305 NB/SB",
           "Kitsap"
          ],
          [
           "SR-3 S/O Newberry Hill Rd NB/SB",
           "Kitsap"
          ],
          [
           "SR-3 @ SR-304 NB/SB",
           "Kitsap"
          ],
          [
           "SR-3 NE of SR-16 NB/SB",
           "Kitsap"
          ],
          [
           "SR-3 W/O Lake Flora Rd NB/SB",
           "Kitsap"
          ],
          [
           "SR-302 N/O 144th WB/EB",
           "Pierce"
          ],
          [
           "SR-302 S/O 144th WB/EB",
           "Pierce"
          ],
          [
           "SR-302 W/O Key Peninsula Hwy WB/EB",
           "Pierce"
          ],
          [
           "SR-302 W/O Wright-Bliss WB/EB (E/O?)",
           "Pierce"
          ],
          [
           "SR-303 E/O SR-3 NB/SB",
           "Kitsap"
          ],
          [
           "SR-303 N/O 11th St NB/SB",
           "Kitsap"
          ],
          [
           "SR-303 N/O SR-304 NB/SB",
           "Kitsap"
          ],
          [
           "SR-304 E/O SR-3 WB/EB",
           "Kitsap"
          ],
          [
           "SR-304 W/O Naval WB/EB",
           "Kitsap"
          ],
          [
           "SR-305 W/O SR-307 WB/EB",
           "Kitsap"
          ],
          [
           "SR-305 W/O Suquamish Way WB/EB",
           "Kitsap"
          ],
          [
           "SR-305 N/O Day Rd WB/EB",
           "Kitsap"
          ],
          [
           "SR-305 N/O High School Rd WB/EB",
           "Kitsap"
          ],
          [
           "SR-305 S/O Winslow Way WB/EB",
           "Kitsap"
          ],
          [
           "SR-305 @ Ferry Ramp WB/EB",
           "Kitsap"
          ],
          [
           "SR-307 W/O SR-104 NB/SB",
           "Kitsap"
          ],
          [
           "SR-307 N/O Gunderson NB/SB",
           "Kitsap"
          ],
          [
           "SR-307 S/O Gunderson NB/SB",
           "Kitsap"
          ],
          [
           "SR-307 N/O SR-305 NB/SB",
           "Kitsap"
          ],
          [
           "SR-308 @ SR-3 WB/EB",
           "Kitsap"
          ],
          [
           "SR-308 E/O SR-3 WB/EB",
           "Kitsap"
          ],
          [
           "SR-308 E/O Silverdale Way WB/EB",
           "Kitsap"
          ],
          [
           "SR-308 W/O Brownsville Hwy WB/EB",
           "Kitsap"
          ],
          [
           "SR-310 @ SR-3 WB/EB",
           "Kitsap"
          ],
          [
           "SR-310 W/O Callow WB/EB",
           "Kitsap"
          ],
          [
           "SR-516 E/O SR-509 WB/EB",
           "King"
          ],
          [
           "SR-516 W/O I-5 WB/EB",
           "King"
          ],
          [
           "SR-516 E/O Meeker WB/EB",
           "King"
          ],
          [
           "SR-516 W/O SR-167 WB/EB",
           "King"
          ],
          [
           "SR-516 E/O SR-167 WB/EB",
           "King"
          ],
          [
           "SR-516 E/O SR-18 WB/EB",
           "King"
          ],
          [
           "SR-161 E/O SR-7 NB/SB",
           "Pierce"
          ],
          [
           "SR-161 N/O Center NB/SB",
           "Pierce"
          ],
          [
           "SR-161 N/O Eatonville Cutoff NB/SB",
           "Pierce"
          ],
          [
           "SR-161 N/O 304th NB/SB",
           "Pierce"
          ],
          [
           "SR-161 N/O 264th NB/SB",
           "Pierce"
          ],
          [
           "SR-161 S/O 224th NB/SB",
           "Pierce"
          ],
          [
           "SR-161 N/O 224th NB/SB",
           "Pierce"
          ],
          [
           "SR-161 N/O 204th NB/SB",
           "Pierce"
          ],
          [
           "SR-161 S/O SR-167 SB off-ramp NB/SB",
           "Pierce"
          ],
          [
           "SR-161 S/O Valley NB/SB",
           "Pierce"
          ],
          [
           "SR-161 N/O Valley NB/SB",
           "Pierce"
          ],
          [
           "SR-161 N/O 8th NB/SB",
           "Pierce"
          ],
          [
           "SR-900 S/O NB I-5 on-ramp @ Boe Acc WB/EB",
           "King"
          ],
          [
           "SR-900 E/O 68th WB/EB",
           "King"
          ],
          [
           "SR-900 @ I-405 WB/EB",
           "King"
          ],
          [
           "SR-900 E/O 148th WB/EB",
           "King"
          ],
          [
           "SR-900 N/O Talus WB/EB",
           "King"
          ],
          [
           "SR-900 N/O Newport WB/EB",
           "King"
          ],
          [
           "SR-524 W/O 3rd WB/EB",
           "Snohomish"
          ],
          [
           "SR-524 S/O Main WB/EB",
           "Snohomish"
          ],
          [
           "SR-524 N/O Main WB/EB",
           "Snohomish"
          ],
          [
           "SR-524 E/O 68th WB/EB",
           "Snohomish"
          ],
          [
           "SR-524 E/O 39th WB/EB",
           "Snohomish"
          ],
          [
           "SR-524 N/O Paradise Lake WB/EB",
           "Snohomish"
          ],
          [
           "SR-7 @ Thurston County NB/SB",
           "Pierce"
          ],
          [
           "SR-7 W/O Alder Cutoff NB/SB",
           "Pierce"
          ],
          [
           "SR-7 N/O Eatonville Hwy NB/SB",
           "Pierce"
          ],
          [
           "SR-7 N/O Silver Lake NB/SB",
           "Pierce"
          ],
          [
           "SR-7 S/O SR-702 NB/SB",
           "Pierce"
          ],
          [
           "SR-7 N/O 304th NB/SB",
           "Pierce"
          ],
          [
           "SR-7 N/O 260th NB/SB",
           "Pierce"
          ],
          [
           "SR-7 S/O 224th NB/SB",
           "Pierce"
          ],
          [
           "SR-7 N/O 224th NB/SB",
           "Pierce"
          ],
          [
           "SR-7 N/O 38th NB/SB",
           "Pierce"
          ],
          [
           "SR-2 E/O I-5 WB/EB",
           "Snohomish"
          ],
          [
           "SR-2 S/O SR-204 WB/EB",
           "Snohomish"
          ],
          [
           "SR-2 E/O Main WB/EB",
           "Snohomish"
          ],
          [
           "SR-2 E/O Rice WB/EB",
           "Snohomish"
          ],
          [
           "SR-2 E/O 10th (Gold Bar) WB/EB",
           "Snohomish"
          ],
          [
           "SR-2 W/O Index-Galena WB/EB",
           "Snohomish"
          ],
          [
           "SR-2 E/O Index-Galena WB/EB",
           "Snohomish"
          ],
          [
           "SR-2 E/O Skykomish WB/EB",
           "King"
          ],
          [
           "SR-527 N/O I-405 NB/SB",
           "Snohomish"
          ],
          [
           "SR-527 N/O 196th NB/SB",
           "Snohomish"
          ],
          [
           "SR-527 N/O Dumas NB/SB",
           "Snohomish"
          ],
          [
           "SR-527 N/O 100th NB/SB",
           "Snohomish"
          ],
          [
           "SR-513 S/O 44th NB/SB",
           "King"
          ],
          [
           "SR-169 N/O SR-164 NB/SB",
           "King"
          ],
          [
           "SR-169 S/O Lawson NB/SB",
           "King"
          ],
          [
           "SR-169 S/O 276th NB/SB",
           "King"
          ],
          [
           "SR-169 N/O 280th NB/SB",
           "King"
          ],
          [
           "SR-169 N/O 231st NB/SB",
           "King"
          ],
          [
           "SR-169 N/O 232nd NB/SB",
           "King"
          ],
          [
           "SR-169 W/O 140th NB/SB",
           "King"
          ],
          [
           "SR-515 N/O SR-516 NB/SB",
           "King"
          ],
          [
           "SR-515 N/O 108th NB/SB",
           "King"
          ],
          [
           "SR-515 N/O Puget NB/SB",
           "King"
          ],
          [
           "SR-181 N/O SR-516 NB/SB",
           "King"
          ],
          [
           "SR-181 S/O James NB/SB",
           "King"
          ],
          [
           "SR-181 N/O James NB/SB",
           "King"
          ],
          [
           "SR-181 N/O 228th NB/SB",
           "King"
          ],
          [
           "SR-181 N/O 180th NB/SB",
           "King"
          ],
          [
           "SR-181 S/O Longacres NB/SB",
           "King"
          ],
          [
           "SR-523 E/O Lenora WB/EB",
           "King"
          ],
          [
           "SR-529 @ I-5 (Evt) NB/SB",
           "Snohomish"
          ],
          [
           "SR-529 S/O Everett NB/SB",
           "Snohomish"
          ],
          [
           "SR-529 W/O Maple NB/SB",
           "Snohomish"
          ],
          [
           "SR-529 N/O Everett NB/SB",
           "Snohomish"
          ],
          [
           "SR-529 N/O Broadway NB/SB",
           "Snohomish"
          ],
          [
           "SR-96 @ I-5 WB/EB",
           "Snohomish"
          ],
          [
           "SR-96 N/O 132nd WB/EB",
           "Snohomish"
          ],
          [
           "SR-96 E/O Seattle Hill WB/EB",
           "Snohomish"
          ],
          [
           "SR-164 @ SR-18 WB/EB",
           "King"
          ],
          [
           "SR-164 S/O 400th WB/EB",
           "King"
          ],
          [
           "SR-528 @ I-5 WB/EB",
           "Snohomish"
          ],
          [
           "SR-528 E/O SR-529 WB/EB",
           "Snohomish"
          ],
          [
           "SR-531 N/O Rose WB/EB",
           "Snohomish"
          ],
          [
           "SR-531 E/O Lk Goodwin WB/EB",
           "Snohomish"
          ],
          [
           "SR-531 E/O 27th WB/EB",
           "Snohomish"
          ],
          [
           "SR-531 E/O I-5 WB/EB",
           "Snohomish"
          ],
          [
           "SR-531 E/O 43rd WB/EB",
           "Snohomish"
          ],
          [
           "SR-531 W/O 67th WB/EB",
           "Snohomish"
          ],
          [
           "SR-531 E/O 67th WB/EB",
           "Snohomish"
          ],
          [
           "SR-162 @ SR-410 WB/EB",
           "Pierce"
          ],
          [
           "SR-162 S/O Pioneer WB/EB",
           "Pierce"
          ],
          [
           "SR-162 E/O Orville WB/EB",
           "Pierce"
          ],
          [
           "SR-162 E/O S Prairie WB/EB",
           "Pierce"
          ],
          [
           "SR-162 N/O SR-165 WB/EB",
           "Pierce"
          ],
          [
           "SR-163 @ SR-16 NB/SB",
           "Pierce"
          ],
          [
           "SR-163 N/O 37th NB/SB",
           "Pierce"
          ],
          [
           "SR-163 N/O Park NB/SB",
           "Pierce"
          ],
          [
           "SR-530 @ I-5 WB/EB",
           "Snohomish"
          ],
          [
           "SR-530 E/O Smokey Pt WB/EB",
           "Snohomish"
          ],
          [
           "SR-530 N/O 211th WB/EB",
           "Snohomish"
          ],
          [
           "SR-530 E/O SR-9 WB/EB",
           "Snohomish"
          ],
          [
           "SR-530 W/O Arlington Hts WB/EB",
           "Snohomish"
          ],
          [
           "SR-530 E/O Arlington Hts WB/EB",
           "Snohomish"
          ],
          [
           "SR-530 W/O Jim Creek WB/EB",
           "Snohomish"
          ],
          [
           "SR-530 W/O Ramstad WB/EB",
           "Snohomish"
          ],
          [
           "SR-530 @ Skagit County WB/EB",
           "Snohomish"
          ],
          [
           "SR-203 N/O 203rd NB/SB",
           "Snohomish"
          ],
          [
           "SR-203 N/O Cherry Valley NB/SB",
           "King"
          ],
          [
           "SR-203 N/O 124th NB/SB",
           "King"
          ],
          [
           "SR-203 W/O Stillwater Hill NB/SB",
           "King"
          ],
          [
           "SR-203 N/O Carnation Farm NB/SB",
           "King"
          ],
          [
           "SR-203 N/O Tolt Hill NB/SB",
           "King"
          ],
          [
           "SR-203 N/O SR-202 NB/SB",
           "King"
          ],
          [
           "SR-507 S/O SR-7 NB/SB",
           "Pierce"
          ],
          [
           "SR-507 S/O E Gate NB/SB",
           "Pierce"
          ],
          [
           "SR-507 S/O 288th NB/SB",
           "Pierce"
          ],
          [
           "SR-507 N/O 346th NB/SB",
           "Pierce"
          ],
          [
           "SR-204 @ SR-2 NB/SB",
           "Snohomish"
          ],
          [
           "SR-204 N/O 20th NB/SB",
           "Snohomish"
          ],
          [
           "SR-204 N/O SR-2 NB/SB",
           "Snohomish"
          ],
          [
           "SR-519 W/O 4th NB/SB",
           "King"
          ],
          [
           "SR-92 E/O Lake WB/EB",
           "Snohomish"
          ],
          [
           "SR-92 E/O Callow WB/EB",
           "Snohomish"
          ],
          [
           "SR-92 E/O Quarry WB/EB",
           "Snohomish"
          ],
          [
           "SR-92 W/O Mountain Loop WB/EB",
           "Snohomish"
          ],
          [
           "SR-702 E/O SR-507 WB/EB",
           "Pierce"
          ],
          [
           "SR-702 E/O Harts Lake WB/EB",
           "Pierce"
          ],
          [
           "SR-702 E/O 40th WB/EB",
           "Pierce"
          ],
          [
           "SR-702 W/O 8th WB/EB",
           "Pierce"
          ],
          [
           "SR-702 E/O 8th WB/EB",
           "Pierce"
          ],
          [
           "SR-165 W/O SR-162 NB/SB",
           "Pierce"
          ],
          [
           "SR-165 N/O Davis NB/SB",
           "Pierce"
          ],
          [
           "SR-165 N/O Wilkeson-Carbonado NB/SB",
           "Pierce"
          ],
          [
           "SR-704 E/O Spanaway Loop WB/EB",
           "Pierce"
          ],
          [
           "SR-706 E/O SR-7 WB/EB",
           "Pierce"
          ],
          [
           "SR-706 E/O Kernahan WB/EB",
           "Pierce"
          ]
         ],
         "hovertemplate": "Observed=%{x}<br>Model=%{y}<br>location=%{customdata[0]}<br>County=%{customdata[1]}<extra></extra>",
         "legendgroup": "",
         "line": {
          "color": "Grey",
          "width": 2
         },
         "marker": {
          "color": "#91268F",
          "symbol": "circle"
         },
         "mode": "markers",
         "name": "",
         "orientation": "v",
         "showlegend": false,
         "type": "scatter",
         "x": [
          2398,
          2384,
          2500,
          2589,
          2331,
          2275,
          2608,
          2499,
          4754,
          4821,
          5641,
          5686,
          1764,
          3843,
          2614,
          3294,
          1786,
          1909,
          2586,
          2604,
          2869,
          2888,
          2689,
          2832,
          2293,
          2656,
          2191,
          2251,
          1728,
          1737,
          645,
          1525,
          1405,
          1400,
          1380,
          1329,
          1046,
          1702,
          2618,
          3724,
          2998,
          1539,
          1620,
          1248,
          851,
          1030,
          1032,
          2276,
          2432,
          2405,
          2415,
          2776,
          2536,
          2040,
          2040,
          1806,
          1814,
          850,
          630,
          1279,
          1163,
          1067,
          968,
          859,
          720,
          1271,
          842,
          534,
          973,
          1357,
          1295,
          882,
          869,
          1054,
          1031,
          1556,
          1676,
          2448,
          2444,
          2481,
          1769,
          2644,
          1594,
          1323,
          3333,
          710,
          364,
          1270,
          5571,
          2749,
          1262,
          970,
          554,
          73,
          74,
          48,
          29,
          2835,
          3326,
          4048,
          1036,
          2310,
          171,
          59,
          62,
          128,
          408,
          680,
          240,
          102,
          421,
          720,
          1320,
          1488,
          1276,
          1600,
          1150,
          1053,
          600,
          704,
          2349,
          1643,
          2416,
          1512,
          1056,
          475,
          2808,
          787,
          1075,
          1329,
          2434,
          1344,
          3133,
          2138,
          2336,
          1997,
          2251,
          2041,
          882,
          249,
          217,
          662,
          506,
          815,
          1705,
          1125,
          874,
          457,
          589,
          363,
          431,
          331,
          396,
          915,
          1853,
          1311,
          1387,
          1987,
          829,
          484,
          658,
          443,
          135,
          1056,
          739,
          1170,
          702,
          197,
          215,
          512,
          288,
          294,
          220,
          360,
          475,
          475,
          525,
          408,
          233,
          86,
          280,
          1258,
          1725,
          2074,
          1768,
          3230,
          864,
          426,
          871,
          227,
          157,
          972,
          1008,
          434,
          810,
          609,
          1102,
          660,
          600,
          468,
          265,
          221,
          714,
          476,
          612,
          680,
          156,
          199,
          263,
          230,
          897,
          286,
          260,
          1080,
          875,
          1680,
          984,
          975,
          24,
          456,
          313,
          594,
          598,
          504,
          864,
          1216,
          1000,
          1850,
          720,
          800,
          924,
          392,
          754,
          198,
          682,
          546,
          68,
          160,
          167,
          494,
          330,
          1157,
          241,
          106,
          193,
          228,
          363,
          690,
          897,
          1350,
          858,
          378,
          2430,
          1634,
          858,
          735,
          516,
          346,
          242,
          214,
          1484,
          837,
          704,
          858,
          728,
          398,
          594,
          816,
          546,
          1675,
          1058,
          1014,
          825,
          408,
          893,
          1798,
          1265,
          1450,
          1650,
          1620,
          2108,
          609,
          333,
          271,
          364,
          238,
          1122,
          1408,
          392,
          220,
          810,
          660,
          728,
          616,
          75,
          432,
          693,
          1230,
          1632,
          969,
          560,
          640,
          924,
          618,
          354,
          547,
          420,
          276,
          161,
          690,
          882,
          784,
          420,
          520,
          461,
          410,
          276,
          167,
          636,
          590,
          741,
          486,
          490,
          539,
          502,
          1264,
          462,
          533,
          611,
          259,
          371,
          960,
          1044,
          1349,
          994,
          320,
          324,
          524,
          396,
          389,
          382,
          322,
          390,
          211,
          120,
          720,
          150,
          75
         ],
         "xaxis": "x",
         "y": [
          0,
          0,
          718,
          741,
          712,
          734,
          1041,
          1013,
          1965,
          2381,
          3310,
          3500,
          1849,
          5853,
          6308,
          6328,
          6535,
          6279,
          5683,
          5697,
          5116,
          4804,
          4452,
          4475,
          4338,
          4192,
          1930,
          1941,
          658,
          624,
          3228,
          4575,
          4783,
          2624,
          2631,
          1816,
          1446,
          3106,
          6024,
          5137,
          5053,
          4679,
          4532,
          3083,
          2869,
          3538,
          3450,
          3979,
          4207,
          4687,
          4809,
          4004,
          3942,
          2279,
          2271,
          1667,
          1742,
          1367,
          911,
          2178,
          2368,
          1323,
          1469,
          1804,
          1605,
          1545,
          1214,
          1307,
          869,
          1393,
          1274,
          834,
          771,
          869,
          800,
          1784,
          1615,
          10858,
          117,
          0,
          1573,
          1278,
          58,
          0,
          9022,
          342,
          36,
          2179,
          6932,
          3118,
          1143,
          404,
          54,
          43,
          0,
          0,
          0,
          3280,
          3335,
          5163,
          1664,
          1537,
          97,
          29,
          29,
          69,
          318,
          240,
          136,
          77,
          100,
          840,
          1791,
          2743,
          1289,
          1278,
          1330,
          1307,
          832,
          690,
          1744,
          3384,
          3129,
          1793,
          693,
          141,
          3429,
          1907,
          2006,
          1877,
          2139,
          866,
          6711,
          3998,
          4147,
          3357,
          3561,
          2003,
          724,
          452,
          275,
          832,
          366,
          427,
          2249,
          1424,
          527,
          488,
          373,
          189,
          277,
          674,
          192,
          1771,
          1341,
          1354,
          1810,
          2159,
          703,
          534,
          184,
          46,
          62,
          0,
          596,
          2177,
          0,
          25,
          18,
          222,
          155,
          213,
          165,
          278,
          483,
          562,
          180,
          136,
          185,
          70,
          414,
          55,
          204,
          2552,
          2574,
          4137,
          0,
          318,
          323,
          144,
          41,
          850,
          957,
          331,
          1654,
          829,
          1662,
          1039,
          1098,
          157,
          67,
          67,
          277,
          321,
          588,
          610,
          112,
          118,
          199,
          130,
          373,
          144,
          177,
          2104,
          3124,
          3982,
          1771,
          1015,
          5,
          31,
          191,
          359,
          356,
          540,
          592,
          1047,
          1320,
          1990,
          595,
          1391,
          1706,
          599,
          1506,
          574,
          1088,
          874,
          218,
          70,
          254,
          611,
          442,
          602,
          0,
          16,
          22,
          30,
          28,
          237,
          282,
          317,
          409,
          200,
          3188,
          1683,
          754,
          308,
          106,
          106,
          77,
          0,
          3064,
          943,
          396,
          1065,
          1612,
          105,
          418,
          333,
          591,
          878,
          963,
          1759,
          330,
          599,
          1229,
          2015,
          1804,
          2312,
          3133,
          3360,
          3423,
          656,
          443,
          408,
          341,
          122,
          631,
          1547,
          422,
          52,
          939,
          669,
          1102,
          583,
          82,
          239,
          694,
          1466,
          940,
          241,
          366,
          520,
          728,
          245,
          130,
          240,
          974,
          371,
          196,
          343,
          610,
          404,
          389,
          401,
          333,
          285,
          235,
          0,
          442,
          455,
          457,
          218,
          231,
          323,
          215,
          249,
          155,
          44,
          47,
          158,
          297,
          1358,
          2258,
          779,
          564,
          195,
          158,
          8,
          8,
          105,
          105,
          55,
          162,
          79,
          39,
          766,
          1,
          1
         ],
         "yaxis": "y"
        },
        {
         "hovertemplate": "Observed=%{x}<br>Model=%{y}<extra></extra>",
         "legendgroup": "",
         "line": {
          "color": "Grey",
          "dash": "solid",
          "width": 2
         },
         "marker": {
          "symbol": "circle"
         },
         "mode": "lines",
         "name": "",
         "orientation": "v",
         "showlegend": false,
         "type": "scatter",
         "x": [
          0.0,
          57.43434343434343,
          114.86868686868686,
          172.3030303030303,
          229.73737373737373,
          287.17171717171715,
          344.6060606060606,
          402.04040404040404,
          459.47474747474746,
          516.9090909090909,
          574.3434343434343,
          631.7777777777777,
          689.2121212121212,
          746.6464646464647,
          804.0808080808081,
          861.5151515151515,
          918.9494949494949,
          976.3838383838383,
          1033.8181818181818,
          1091.2525252525252,
          1148.6868686868686,
          1206.121212121212,
          1263.5555555555554,
          1320.9898989898988,
          1378.4242424242425,
          1435.858585858586,
          1493.2929292929293,
          1550.7272727272727,
          1608.1616161616162,
          1665.5959595959596,
          1723.030303030303,
          1780.4646464646464,
          1837.8989898989898,
          1895.3333333333333,
          1952.7676767676767,
          2010.20202020202,
          2067.6363636363635,
          2125.070707070707,
          2182.5050505050503,
          2239.939393939394,
          2297.373737373737,
          2354.808080808081,
          2412.242424242424,
          2469.6767676767677,
          2527.111111111111,
          2584.5454545454545,
          2641.9797979797977,
          2699.4141414141413,
          2756.848484848485,
          2814.282828282828,
          2871.717171717172,
          2929.151515151515,
          2986.5858585858587,
          3044.020202020202,
          3101.4545454545455,
          3158.8888888888887,
          3216.3232323232323,
          3273.7575757575755,
          3331.191919191919,
          3388.6262626262624,
          3446.060606060606,
          3503.494949494949,
          3560.929292929293,
          3618.363636363636,
          3675.7979797979797,
          3733.2323232323233,
          3790.6666666666665,
          3848.10101010101,
          3905.5353535353534,
          3962.969696969697,
          4020.40404040404,
          4077.838383838384,
          4135.272727272727,
          4192.707070707071,
          4250.141414141414,
          4307.575757575757,
          4365.010101010101,
          4422.444444444444,
          4479.878787878788,
          4537.313131313131,
          4594.747474747474,
          4652.181818181818,
          4709.616161616162,
          4767.050505050505,
          4824.484848484848,
          4881.919191919192,
          4939.353535353535,
          4996.787878787879,
          5054.222222222222,
          5111.656565656565,
          5169.090909090909,
          5226.525252525253,
          5283.959595959595,
          5341.393939393939,
          5398.828282828283,
          5456.262626262626,
          5513.69696969697,
          5571.131313131313,
          5628.565656565656,
          5686.0
         ],
         "xaxis": "x",
         "y": [
          -40.65908892271682,
          30.522862621069066,
          101.70481416485495,
          172.88676570864087,
          244.06871725242672,
          315.2506687962126,
          386.43262033999855,
          457.6145718837844,
          528.7965234275703,
          599.9784749713561,
          671.160426515142,
          742.3423780589279,
          813.5243296027139,
          884.7062811464998,
          955.8882326902856,
          1027.0701842340716,
          1098.2521357778573,
          1169.4340873216433,
          1240.6160388654291,
          1311.797990409215,
          1382.979941953001,
          1454.1618934967867,
          1525.3438450405727,
          1596.5257965843584,
          1667.7077481281447,
          1738.8896996719304,
          1810.0716512157164,
          1881.2536027595022,
          1952.435554303288,
          2023.617505847074,
          2094.79945739086,
          2165.9814089346455,
          2237.1633604784315,
          2308.3453120222175,
          2379.5272635660035,
          2450.709215109789,
          2521.891166653575,
          2593.073118197361,
          2664.2550697411466,
          2735.437021284933,
          2806.6189728287186,
          2877.8009243725046,
          2948.98287591629,
          3020.1648274600766,
          3091.346779003862,
          3162.528730547648,
          3233.7106820914337,
          3304.8926336352197,
          3376.074585179006,
          3447.2565367227917,
          3518.4384882665777,
          3589.620439810363,
          3660.8023913541497,
          3731.984342897935,
          3803.166294441721,
          3874.3482459855068,
          3945.5301975292928,
          4016.7121490730788,
          4087.8941006168648,
          4159.07605216065,
          4230.258003704437,
          4301.439955248223,
          4372.621906792008,
          4443.803858335794,
          4514.985809879579,
          4586.167761423367,
          4657.349712967152,
          4728.531664510938,
          4799.713616054723,
          4870.895567598509,
          4942.0775191422945,
          5013.259470686082,
          5084.441422229867,
          5155.623373773653,
          5226.8053253174385,
          5297.987276861224,
          5369.16922840501,
          5440.351179948797,
          5511.5331314925825,
          5582.715083036368,
          5653.897034580154,
          5725.078986123939,
          5796.2609376677265,
          5867.442889211512,
          5938.624840755298,
          6009.806792299083,
          6080.9887438428705,
          6152.170695386656,
          6223.352646930442,
          6294.534598474227,
          6365.716550018013,
          6436.8985015618,
          6508.080453105584,
          6579.262404649371,
          6650.444356193157,
          6721.626307736942,
          6792.8082592807295,
          6863.990210824513,
          6935.172162368301,
          7006.354113912086
         ],
         "yaxis": "y"
        }
       ],
       "layout": {
        "annotations": [
         {
          "align": "right",
          "font": {
           "color": "pink",
           "size": 12
          },
          "showarrow": false,
          "text": "y = x",
          "x": 11400.9,
          "y": 11400.9
         },
         {
          "align": "right",
          "font": {
           "color": "black",
           "size": 12
          },
          "showarrow": false,
          "text": "r^2 = 0.52",
          "x": 5970.3,
          "y": 7356.671819607691
         }
        ],
        "height": 600,
        "legend": {
         "tracegroupgap": 0
        },
        "margin": {
         "b": 100,
         "l": 100,
         "r": 100,
         "t": 100
        },
        "shapes": [
         {
          "line": {
           "color": "Red",
           "dash": "dash",
           "width": 2
          },
          "type": "line",
          "x0": 0,
          "x1": 10858,
          "y0": 0,
          "y1": 10858
         }
        ],
        "template": {
         "data": {
          "bar": [
           {
            "error_x": {
             "color": "rgb(36,36,36)"
            },
            "error_y": {
             "color": "rgb(36,36,36)"
            },
            "marker": {
             "line": {
              "color": "white",
              "width": 0.5
             },
             "pattern": {
              "fillmode": "overlay",
              "size": 10,
              "solidity": 0.2
             }
            },
            "type": "bar"
           }
          ],
          "barpolar": [
           {
            "marker": {
             "line": {
              "color": "white",
              "width": 0.5
             },
             "pattern": {
              "fillmode": "overlay",
              "size": 10,
              "solidity": 0.2
             }
            },
            "type": "barpolar"
           }
          ],
          "carpet": [
           {
            "aaxis": {
             "endlinecolor": "rgb(36,36,36)",
             "gridcolor": "white",
             "linecolor": "white",
             "minorgridcolor": "white",
             "startlinecolor": "rgb(36,36,36)"
            },
            "baxis": {
             "endlinecolor": "rgb(36,36,36)",
             "gridcolor": "white",
             "linecolor": "white",
             "minorgridcolor": "white",
             "startlinecolor": "rgb(36,36,36)"
            },
            "type": "carpet"
           }
          ],
          "choropleth": [
           {
            "colorbar": {
             "outlinewidth": 1,
             "tickcolor": "rgb(36,36,36)",
             "ticks": "outside"
            },
            "type": "choropleth"
           }
          ],
          "contour": [
           {
            "colorbar": {
             "outlinewidth": 1,
             "tickcolor": "rgb(36,36,36)",
             "ticks": "outside"
            },
            "colorscale": [
             [
              0.0,
              "#440154"
             ],
             [
              0.1111111111111111,
              "#482878"
             ],
             [
              0.2222222222222222,
              "#3e4989"
             ],
             [
              0.3333333333333333,
              "#31688e"
             ],
             [
              0.4444444444444444,
              "#26828e"
             ],
             [
              0.5555555555555556,
              "#1f9e89"
             ],
             [
              0.6666666666666666,
              "#35b779"
             ],
             [
              0.7777777777777778,
              "#6ece58"
             ],
             [
              0.8888888888888888,
              "#b5de2b"
             ],
             [
              1.0,
              "#fde725"
             ]
            ],
            "type": "contour"
           }
          ],
          "contourcarpet": [
           {
            "colorbar": {
             "outlinewidth": 1,
             "tickcolor": "rgb(36,36,36)",
             "ticks": "outside"
            },
            "type": "contourcarpet"
           }
          ],
          "heatmap": [
           {
            "colorbar": {
             "outlinewidth": 1,
             "tickcolor": "rgb(36,36,36)",
             "ticks": "outside"
            },
            "colorscale": [
             [
              0.0,
              "#440154"
             ],
             [
              0.1111111111111111,
              "#482878"
             ],
             [
              0.2222222222222222,
              "#3e4989"
             ],
             [
              0.3333333333333333,
              "#31688e"
             ],
             [
              0.4444444444444444,
              "#26828e"
             ],
             [
              0.5555555555555556,
              "#1f9e89"
             ],
             [
              0.6666666666666666,
              "#35b779"
             ],
             [
              0.7777777777777778,
              "#6ece58"
             ],
             [
              0.8888888888888888,
              "#b5de2b"
             ],
             [
              1.0,
              "#fde725"
             ]
            ],
            "type": "heatmap"
           }
          ],
          "heatmapgl": [
           {
            "colorbar": {
             "outlinewidth": 1,
             "tickcolor": "rgb(36,36,36)",
             "ticks": "outside"
            },
            "colorscale": [
             [
              0.0,
              "#440154"
             ],
             [
              0.1111111111111111,
              "#482878"
             ],
             [
              0.2222222222222222,
              "#3e4989"
             ],
             [
              0.3333333333333333,
              "#31688e"
             ],
             [
              0.4444444444444444,
              "#26828e"
             ],
             [
              0.5555555555555556,
              "#1f9e89"
             ],
             [
              0.6666666666666666,
              "#35b779"
             ],
             [
              0.7777777777777778,
              "#6ece58"
             ],
             [
              0.8888888888888888,
              "#b5de2b"
             ],
             [
              1.0,
              "#fde725"
             ]
            ],
            "type": "heatmapgl"
           }
          ],
          "histogram": [
           {
            "marker": {
             "line": {
              "color": "white",
              "width": 0.6
             }
            },
            "type": "histogram"
           }
          ],
          "histogram2d": [
           {
            "colorbar": {
             "outlinewidth": 1,
             "tickcolor": "rgb(36,36,36)",
             "ticks": "outside"
            },
            "colorscale": [
             [
              0.0,
              "#440154"
             ],
             [
              0.1111111111111111,
              "#482878"
             ],
             [
              0.2222222222222222,
              "#3e4989"
             ],
             [
              0.3333333333333333,
              "#31688e"
             ],
             [
              0.4444444444444444,
              "#26828e"
             ],
             [
              0.5555555555555556,
              "#1f9e89"
             ],
             [
              0.6666666666666666,
              "#35b779"
             ],
             [
              0.7777777777777778,
              "#6ece58"
             ],
             [
              0.8888888888888888,
              "#b5de2b"
             ],
             [
              1.0,
              "#fde725"
             ]
            ],
            "type": "histogram2d"
           }
          ],
          "histogram2dcontour": [
           {
            "colorbar": {
             "outlinewidth": 1,
             "tickcolor": "rgb(36,36,36)",
             "ticks": "outside"
            },
            "colorscale": [
             [
              0.0,
              "#440154"
             ],
             [
              0.1111111111111111,
              "#482878"
             ],
             [
              0.2222222222222222,
              "#3e4989"
             ],
             [
              0.3333333333333333,
              "#31688e"
             ],
             [
              0.4444444444444444,
              "#26828e"
             ],
             [
              0.5555555555555556,
              "#1f9e89"
             ],
             [
              0.6666666666666666,
              "#35b779"
             ],
             [
              0.7777777777777778,
              "#6ece58"
             ],
             [
              0.8888888888888888,
              "#b5de2b"
             ],
             [
              1.0,
              "#fde725"
             ]
            ],
            "type": "histogram2dcontour"
           }
          ],
          "mesh3d": [
           {
            "colorbar": {
             "outlinewidth": 1,
             "tickcolor": "rgb(36,36,36)",
             "ticks": "outside"
            },
            "type": "mesh3d"
           }
          ],
          "parcoords": [
           {
            "line": {
             "colorbar": {
              "outlinewidth": 1,
              "tickcolor": "rgb(36,36,36)",
              "ticks": "outside"
             }
            },
            "type": "parcoords"
           }
          ],
          "pie": [
           {
            "automargin": true,
            "type": "pie"
           }
          ],
          "scatter": [
           {
            "fillpattern": {
             "fillmode": "overlay",
             "size": 10,
             "solidity": 0.2
            },
            "type": "scatter"
           }
          ],
          "scatter3d": [
           {
            "line": {
             "colorbar": {
              "outlinewidth": 1,
              "tickcolor": "rgb(36,36,36)",
              "ticks": "outside"
             }
            },
            "marker": {
             "colorbar": {
              "outlinewidth": 1,
              "tickcolor": "rgb(36,36,36)",
              "ticks": "outside"
             }
            },
            "type": "scatter3d"
           }
          ],
          "scattercarpet": [
           {
            "marker": {
             "colorbar": {
              "outlinewidth": 1,
              "tickcolor": "rgb(36,36,36)",
              "ticks": "outside"
             }
            },
            "type": "scattercarpet"
           }
          ],
          "scattergeo": [
           {
            "marker": {
             "colorbar": {
              "outlinewidth": 1,
              "tickcolor": "rgb(36,36,36)",
              "ticks": "outside"
             }
            },
            "type": "scattergeo"
           }
          ],
          "scattergl": [
           {
            "marker": {
             "colorbar": {
              "outlinewidth": 1,
              "tickcolor": "rgb(36,36,36)",
              "ticks": "outside"
             }
            },
            "type": "scattergl"
           }
          ],
          "scattermapbox": [
           {
            "marker": {
             "colorbar": {
              "outlinewidth": 1,
              "tickcolor": "rgb(36,36,36)",
              "ticks": "outside"
             }
            },
            "type": "scattermapbox"
           }
          ],
          "scatterpolar": [
           {
            "marker": {
             "colorbar": {
              "outlinewidth": 1,
              "tickcolor": "rgb(36,36,36)",
              "ticks": "outside"
             }
            },
            "type": "scatterpolar"
           }
          ],
          "scatterpolargl": [
           {
            "marker": {
             "colorbar": {
              "outlinewidth": 1,
              "tickcolor": "rgb(36,36,36)",
              "ticks": "outside"
             }
            },
            "type": "scatterpolargl"
           }
          ],
          "scatterternary": [
           {
            "marker": {
             "colorbar": {
              "outlinewidth": 1,
              "tickcolor": "rgb(36,36,36)",
              "ticks": "outside"
             }
            },
            "type": "scatterternary"
           }
          ],
          "surface": [
           {
            "colorbar": {
             "outlinewidth": 1,
             "tickcolor": "rgb(36,36,36)",
             "ticks": "outside"
            },
            "colorscale": [
             [
              0.0,
              "#440154"
             ],
             [
              0.1111111111111111,
              "#482878"
             ],
             [
              0.2222222222222222,
              "#3e4989"
             ],
             [
              0.3333333333333333,
              "#31688e"
             ],
             [
              0.4444444444444444,
              "#26828e"
             ],
             [
              0.5555555555555556,
              "#1f9e89"
             ],
             [
              0.6666666666666666,
              "#35b779"
             ],
             [
              0.7777777777777778,
              "#6ece58"
             ],
             [
              0.8888888888888888,
              "#b5de2b"
             ],
             [
              1.0,
              "#fde725"
             ]
            ],
            "type": "surface"
           }
          ],
          "table": [
           {
            "cells": {
             "fill": {
              "color": "rgb(237,237,237)"
             },
             "line": {
              "color": "white"
             }
            },
            "header": {
             "fill": {
              "color": "rgb(217,217,217)"
             },
             "line": {
              "color": "white"
             }
            },
            "type": "table"
           }
          ]
         },
         "layout": {
          "annotationdefaults": {
           "arrowhead": 0,
           "arrowwidth": 1
          },
          "autotypenumbers": "strict",
          "coloraxis": {
           "colorbar": {
            "outlinewidth": 1,
            "tickcolor": "rgb(36,36,36)",
            "ticks": "outside"
           }
          },
          "colorscale": {
           "diverging": [
            [
             0.0,
             "rgb(103,0,31)"
            ],
            [
             0.1,
             "rgb(178,24,43)"
            ],
            [
             0.2,
             "rgb(214,96,77)"
            ],
            [
             0.3,
             "rgb(244,165,130)"
            ],
            [
             0.4,
             "rgb(253,219,199)"
            ],
            [
             0.5,
             "rgb(247,247,247)"
            ],
            [
             0.6,
             "rgb(209,229,240)"
            ],
            [
             0.7,
             "rgb(146,197,222)"
            ],
            [
             0.8,
             "rgb(67,147,195)"
            ],
            [
             0.9,
             "rgb(33,102,172)"
            ],
            [
             1.0,
             "rgb(5,48,97)"
            ]
           ],
           "sequential": [
            [
             0.0,
             "#440154"
            ],
            [
             0.1111111111111111,
             "#482878"
            ],
            [
             0.2222222222222222,
             "#3e4989"
            ],
            [
             0.3333333333333333,
             "#31688e"
            ],
            [
             0.4444444444444444,
             "#26828e"
            ],
            [
             0.5555555555555556,
             "#1f9e89"
            ],
            [
             0.6666666666666666,
             "#35b779"
            ],
            [
             0.7777777777777778,
             "#6ece58"
            ],
            [
             0.8888888888888888,
             "#b5de2b"
            ],
            [
             1.0,
             "#fde725"
            ]
           ],
           "sequentialminus": [
            [
             0.0,
             "#440154"
            ],
            [
             0.1111111111111111,
             "#482878"
            ],
            [
             0.2222222222222222,
             "#3e4989"
            ],
            [
             0.3333333333333333,
             "#31688e"
            ],
            [
             0.4444444444444444,
             "#26828e"
            ],
            [
             0.5555555555555556,
             "#1f9e89"
            ],
            [
             0.6666666666666666,
             "#35b779"
            ],
            [
             0.7777777777777778,
             "#6ece58"
            ],
            [
             0.8888888888888888,
             "#b5de2b"
            ],
            [
             1.0,
             "#fde725"
            ]
           ]
          },
          "colorway": [
           "#91268F",
           "#8CC63E",
           "#00A7A0",
           "#F05A28",
           "#4C4C4C",
           "#630460",
           "#9f3913",
           "#588527",
           "#00716c",
           "#3e4040"
          ],
          "font": {
           "color": "rgb(36,36,36)",
           "family": "Poppins",
           "size": 11
          },
          "geo": {
           "bgcolor": "white",
           "lakecolor": "white",
           "landcolor": "white",
           "showlakes": true,
           "showland": true,
           "subunitcolor": "white"
          },
          "hoverlabel": {
           "align": "left"
          },
          "hovermode": "closest",
          "mapbox": {
           "style": "light"
          },
          "paper_bgcolor": "white",
          "plot_bgcolor": "white",
          "polar": {
           "angularaxis": {
            "gridcolor": "rgb(232,232,232)",
            "linecolor": "rgb(36,36,36)",
            "showgrid": false,
            "showline": true,
            "ticks": "outside"
           },
           "bgcolor": "white",
           "radialaxis": {
            "gridcolor": "rgb(232,232,232)",
            "linecolor": "rgb(36,36,36)",
            "showgrid": false,
            "showline": true,
            "ticks": "outside"
           }
          },
          "scene": {
           "xaxis": {
            "backgroundcolor": "white",
            "gridcolor": "rgb(232,232,232)",
            "gridwidth": 2,
            "linecolor": "rgb(36,36,36)",
            "showbackground": true,
            "showgrid": false,
            "showline": true,
            "ticks": "outside",
            "zeroline": false,
            "zerolinecolor": "rgb(36,36,36)"
           },
           "yaxis": {
            "backgroundcolor": "white",
            "gridcolor": "rgb(232,232,232)",
            "gridwidth": 2,
            "linecolor": "rgb(36,36,36)",
            "showbackground": true,
            "showgrid": false,
            "showline": true,
            "ticks": "outside",
            "zeroline": false,
            "zerolinecolor": "rgb(36,36,36)"
           },
           "zaxis": {
            "backgroundcolor": "white",
            "gridcolor": "rgb(232,232,232)",
            "gridwidth": 2,
            "linecolor": "rgb(36,36,36)",
            "showbackground": true,
            "showgrid": false,
            "showline": true,
            "ticks": "outside",
            "zeroline": false,
            "zerolinecolor": "rgb(36,36,36)"
           }
          },
          "shapedefaults": {
           "fillcolor": "black",
           "line": {
            "width": 0
           },
           "opacity": 0.3
          },
          "ternary": {
           "aaxis": {
            "gridcolor": "rgb(232,232,232)",
            "linecolor": "rgb(36,36,36)",
            "showgrid": false,
            "showline": true,
            "ticks": "outside"
           },
           "baxis": {
            "gridcolor": "rgb(232,232,232)",
            "linecolor": "rgb(36,36,36)",
            "showgrid": false,
            "showline": true,
            "ticks": "outside"
           },
           "bgcolor": "white",
           "caxis": {
            "gridcolor": "rgb(232,232,232)",
            "linecolor": "rgb(36,36,36)",
            "showgrid": false,
            "showline": true,
            "ticks": "outside"
           }
          },
          "title": {
           "x": 0.05
          },
          "xaxis": {
           "automargin": true,
           "gridcolor": "rgb(232,232,232)",
           "linecolor": "rgb(36,36,36)",
           "showgrid": false,
           "showline": true,
           "ticks": "outside",
           "title": {
            "standoff": 15
           },
           "zeroline": false,
           "zerolinecolor": "rgb(36,36,36)"
          },
          "yaxis": {
           "automargin": true,
           "gridcolor": "rgb(232,232,232)",
           "linecolor": "rgb(36,36,36)",
           "showgrid": false,
           "showline": true,
           "ticks": "outside",
           "title": {
            "standoff": 15
           },
           "zeroline": false,
           "zerolinecolor": "rgb(36,36,36)"
          }
         }
        },
        "title": {
         "text": "Medium Trucks: Region"
        },
        "width": 800,
        "xaxis": {
         "anchor": "y",
         "domain": [
          0.0,
          1.0
         ],
         "title": {
          "text": "Observed"
         }
        },
        "yaxis": {
         "anchor": "x",
         "domain": [
          0.0,
          1.0
         ],
         "title": {
          "text": "Model"
         }
        }
       }
      },
      "text/html": [
       "<div>                            <div id=\"212a076d-e729-4d61-9d97-b17f3b00ad1a\" class=\"plotly-graph-div\" style=\"height:600px; width:800px;\"></div>            <script type=\"text/javascript\">                require([\"plotly\"], function(Plotly) {                    window.PLOTLYENV=window.PLOTLYENV || {};                                    if (document.getElementById(\"212a076d-e729-4d61-9d97-b17f3b00ad1a\")) {                    Plotly.newPlot(                        \"212a076d-e729-4d61-9d97-b17f3b00ad1a\",                        [{\"customdata\":[[\"I-5 S\\u002fO Mounts NB\",\"Pierce\"],[\"I-5 S\\u002fO Mounts SB\",\"Pierce\"],[\"I-5 S\\u002fO Division NB\",\"Pierce\"],[\"I-5 S\\u002fO Division SB\",\"Pierce\"],[\"I-5 @ N\\u002fO Division NB\",\"Pierce\"],[\"I-5 @ N\\u002fO Division SB\",\"Pierce\"],[\"I-5 S\\u002fO SR-512 NB\",\"Pierce\"],[\"I-5 S\\u002fO SR-512 SB\",\"Pierce\"],[\"I-5 N\\u002fO SR-512 NB\",\"Pierce\"],[\"I-5 N\\u002fO SR-512 SB\",\"Pierce\"],[\"I-5 N\\u002fO 56th NB\",\"Pierce\"],[\"I-5 N\\u002fO 56th SB\",\"Pierce\"],[\"I-5 E\\u002fO SR-16 NB\",\"Pierce\"],[\"I-5 E\\u002fO SR-16 SB\",\"Pierce\"],[\"I-5 E\\u002fO Port of Tacoma NB\",\"Pierce\"],[\"I-5 E\\u002fO Port of Tacoma SB (HOV from 56)\",\"Pierce\"],[\"I-5 S\\u002fO 205th NB\",\"King\"],[\"I-5 S\\u002fO 205th SB\",\"King\"],[\"I-5 @ 44th NB\",\"Snohomish\"],[\"I-5 @ 44th SB\",\"Snohomish\"],[\"I-5 N\\u002fO 164th NB\",\"Snohomish\"],[\"I-5 N\\u002fO 164th SB\",\"Snohomish\"],[\"I-5 N\\u002fO SR-526 NB\",\"Snohomish\"],[\"I-5 N\\u002fO SR-526 SB\",\"Snohomish\"],[\"I-5 N\\u002fO 41st NB\",\"Snohomish\"],[\"I-5 N\\u002fO 41st SB\",\"Snohomish\"],[\"I-5 @ SR-528 NB\",\"Snohomish\"],[\"I-5 @ SR-528 SB\",\"Snohomish\"],[\"I-5 N\\u002fO SR-531 NB\",\"Snohomish\"],[\"I-5 N\\u002fO SR-531 SB\",\"Snohomish\"],[\"I-5 Rev N\\u002fO I-5 GP NB\\u002fSB\",\"King\"],[\"I-90 E\\u002fO I-5 WB\",\"King\"],[\"I-90 E\\u002fO I-5 EB\",\"King\"],[\"I-90 E\\u002fO W Lk Sam WB\",\"King\"],[\"I-90 E\\u002fO W Lk Sam EB\",\"King\"],[\"I-90 E\\u002fO SR-900 WB\",\"King\"],[\"I-405 @ I-5 Southcenter NB\",\"King\"],[\"I-405 @ I-5 Southcenter SB\",\"King\"],[\"I-405 @ Lake Wash Blvd NB\",\"King\"],[\"I-405 @ I-90 NB\",\"King\"],[\"I-405 @ I-90 SB\",\"King\"],[\"I-405 N\\u002fO SR-527 NB\",\"Snohomish\"],[\"I-405 N\\u002fO SR-527 SB\",\"Snohomish\"],[\"SR-525 N\\u002fO I-5 NB\",\"Snohomish\"],[\"SR-525 N\\u002fO I-5 SB\",\"Snohomish\"],[\"SR-520 @ x-lake bridge WB\",\"King\"],[\"SR-520 @ x-lake bridge EB\",\"King\"],[\"SR-167 S\\u002fO 43rd NB\",\"King\"],[\"SR-167 S\\u002fO 43rd SB\",\"King\"],[\"SR-167 N\\u002fO SR-18 NB\",\"King\"],[\"SR-167 N\\u002fO SR-18 SB\",\"King\"],[\"SR-167 S\\u002fO 15th SW NB\",\"King\"],[\"SR-167 S\\u002fO 15th SW SB\",\"King\"],[\"SR-512 W\\u002fO Meridian WB\",\"Pierce\"],[\"SR-512 W\\u002fO Meridian EB\",\"Pierce\"],[\"SR-509 @ Holden NB\",\"King\"],[\"SR-509 @ Holden SB\",\"King\"],[\"SR-99 N\\u002fO 14th NB\",\"King\"],[\"SR-99 N\\u002fO 14th SB\",\"King\"],[\"SR-99 N\\u002fO WSF NB\",\"King\"],[\"SR-99 N\\u002fO WSF SB\",\"King\"],[\"SR-99 tunnel NB\",\"King\"],[\"SR-99 tunnel SB\",\"King\"],[\"SR-599 S\\u002fO Pacific NB\",\"King\"],[\"SR-599 S\\u002fO Pacific SB\",\"King\"],[\"SR-599 @ Pacific NB\",\"King\"],[\"SR-599 @ Pacific SB\",\"King\"],[\"SR-18 @ I-5 WB\",\"King\"],[\"SR-18 @ I-5 EB\",\"King\"],[\"SR-18 W\\u002fO Auburn-Black Diamond WB\",\"King\"],[\"SR-18 W\\u002fO Auburn-Black Diamond EB\",\"King\"],[\"SR-18 E\\u002fO SR-516 WB\",\"King\"],[\"SR-18 E\\u002fO SR-516 EB\",\"King\"],[\"SR-18 E\\u002fO 256th WB\",\"King\"],[\"SR-18 E\\u002fO 256th EB\",\"King\"],[\"SR-522 N\\u002fO 195th WB\",\"King\"],[\"SR-522 N\\u002fO 195th EB\",\"King\"],[\"I-5 N\\u002fO I-5 Rev CBD NB\\u002fSB\",\"King\"],[\"I-5 @ SR-532 NB\\u002fSB\",\"Snohomish\"],[\"I-5 @ Skagit border NB\\u002fSB\",\"Snohomish\"],[\"I-90 W\\u002fO SR-18 WB\\u002fEB\",\"King\"],[\"I-90 E\\u002fO SR-18 WB\\u002fEB\",\"King\"],[\"I-90 E\\u002fO 436th WB\\u002fEB\",\"King\"],[\"I-90 @ Kittitas County WB\\u002fEB\",\"King\"],[\"I-405 N\\u002fO SR-522 NB\\u002fSB\",\"King\"],[\"SR-525 N\\u002fO SR-526 NB\\u002fSB\",\"Snohomish\"],[\"SR-525 N\\u002fO 5th NB\\u002fSB\",\"Snohomish\"],[\"SR-167 N\\u002fO Grady NB\\u002fSB\",\"King\"],[\"SR-167 W\\u002fO SR-410 NB\\u002fSB\",\"Pierce\"],[\"SR-167 E\\u002fO SR-161 NB\\u002fSB\",\"Pierce\"],[\"SR-410 E\\u002fO S Prairie WB\\u002fEB\",\"Pierce\"],[\"SR-410 E\\u002fO 244th WB\\u002fEB\",\"King\"],[\"SR-410 E\\u002fO Farman WB\\u002fEB\",\"King\"],[\"SR-410 @ Greenwater River WB\\u002fEB\",\"King\"],[\"SR-410 E\\u002fO Chinook WB\\u002fEB\",\"Pierce\"],[\"SR-410 W\\u002fO SR-123 WB\\u002fEB\",\"Pierce\"],[\"SR-410 E\\u002fO SR-123 WB\\u002fEB\",\"Pierce\"],[\"SR-512 @ I-5 WB\\u002fEB\",\"Pierce\"],[\"SR-512 W\\u002fO SR-7 WB\\u002fEB\",\"Pierce\"],[\"SR-512 S\\u002fO SR-167 WB\\u002fEB\",\"Pierce\"],[\"SR-509 E\\u002fO I-705 NB\\u002fSB\",\"Pierce\"],[\"SR-509 W\\u002fO Alexander NB\\u002fSB\",\"Pierce\"],[\"SR-509 S\\u002fO 11th NB\\u002fSB\",\"Pierce\"],[\"SR-509 N\\u002fO Hyada NB\\u002fSB\",\"Pierce\"],[\"SR-509 E\\u002fO Soundview NB\\u002fSB\",\"Pierce\"],[\"SR-509 E\\u002fO 47th NB\\u002fSB\",\"King\"],[\"SR-509 E\\u002fO 21st NB\\u002fSB\",\"King\"],[\"SR-509 W\\u002fO SR-516 NB\\u002fSB\",\"King\"],[\"SR-509 W\\u002fO Des Moines Mem NB\\u002fSB\",\"King\"],[\"SR-509 E\\u002fO 1st Ave NB\\u002fSB\",\"King\"],[\"SR-509 E\\u002fO Des Moines Mem NB\\u002fSB\",\"King\"],[\"SR-509 @ SR-509 ramp overpass NB\\u002fSB\",\"King\"],[\"SR-509 N\\u002fO Des Moines Mem NB\\u002fSB\",\"King\"],[\"SR-509 N\\u002fO SR-518 NB\\u002fSB\",\"King\"],[\"SR-99 @ I-5 NB\\u002fSB\",\"Pierce\"],[\"SR-99 E\\u002fO 54th NB\\u002fSB\",\"Pierce\"],[\"SR-99 S\\u002fO Porter NB\\u002fSB\",\"Pierce\"],[\"SR-99 S\\u002fO SR-18 NB\\u002fSB\",\"King\"],[\"SR-99 N\\u002fO SR-18 NB\\u002fSB\",\"King\"],[\"SR-99 N\\u002fO 320th NB\\u002fSB\",\"King\"],[\"SR-99 N\\u002fO 188th NB\\u002fSB\",\"King\"],[\"SR-99 @ WSF NB\\u002fSB\",\"King\"],[\"SR-99 @ Aurora Bridge NB\\u002fSB\",\"King\"],[\"SR-99 N\\u002fO 38th NB\\u002fSB\",\"King\"],[\"SR-99 S\\u002fO Roosevelt NB\\u002fSB\",\"King\"],[\"SR-99 E\\u002fO Evergreen NB\\u002fSB\",\"Snohomish\"],[\"SR-599 N\\u002fO I-5 NB\\u002fSB\",\"King\"],[\"SR-518 @ SR-509 WB\\u002fEB\",\"King\"],[\"SR-518 E\\u002fO SR-509 WB\\u002fEB\",\"King\"],[\"SR-18 E\\u002fO SR-99 WB\\u002fEB\",\"King\"],[\"SR-18 N\\u002fO 304th WB\\u002fEB\",\"King\"],[\"SR-18 S\\u002fO I-90 WB\\u002fEB\",\"King\"],[\"SR-16 @ TNB NB\\u002fSB\",\"Pierce\"],[\"SR-16 @ Purdy Dr NB\\u002fSB\",\"Pierce\"],[\"SR-16  N\\u002fO SR-302 NB\\u002fSB\",\"Kitsap\"],[\"SR-16 N\\u002fO SR-160 NB\\u002fSB\",\"Kitsap\"],[\"SR-16 N\\u002fO Tremont NB\\u002fSB\",\"Kitsap\"],[\"SR-16 S\\u002fO SR-3 NB\",\"Kitsap\"],[\"SR-202 @ SR-522 NB\\u002fSB\",\"King\"],[\"SR-202 N\\u002fO 145th NB\\u002fSB\",\"King\"],[\"SR-202 @ Sammamish River Br NB\\u002fSB\",\"King\"],[\"SR-202 S\\u002fO 144th NB\\u002fSB\",\"King\"],[\"SR-202 N\\u002fO Redmond Way NB\\u002fSB\",\"King\"],[\"SR-202 E\\u002fO 164th NB\\u002fSB\",\"King\"],[\"SR-202 E\\u002fO SR-520 NB\\u002fSB\",\"King\"],[\"SR-202 E\\u002fO E Lk Samm NB\\u002fSB\",\"King\"],[\"SR-202 E\\u002fO Sahalee NB\\u002fSB\",\"King\"],[\"SR-202 E\\u002fO 236th NB\\u002fSB\",\"King\"],[\"SR-202 S\\u002fO Ames Lake NB\\u002fSB\",\"King\"],[\"SR-202 S\\u002fO Duthie Hill NB\\u002fSB\",\"King\"],[\"SR-202 E\\u002fO SR-203 NB\\u002fSB\",\"King\"],[\"SR-202 N\\u002fO I-90 NB\\u002fSB\",\"King\"],[\"SR-526 W\\u002fO Paine Field Blvd WB\\u002fEB\",\"Snohomish\"],[\"SR-526 E\\u002fO Paine Field Blvd WB\\u002fEB\",\"Snohomish\"],[\"SR-9 @ SR-522 NB\\u002fSB\",\"Snohomish\"],[\"SR-9 N\\u002fO SR-2 NB\\u002fSB\",\"Snohomish\"],[\"SR-9 N\\u002fO SR-204 NB\\u002fSB\",\"Snohomish\"],[\"SR-9 N\\u002fO SR-92 NB\\u002fSB\",\"Snohomish\"],[\"SR-9 N\\u002fO 132nd NB\\u002fSB\",\"Snohomish\"],[\"SR-9 N\\u002fO SR-531 NB\\u002fSB\",\"Snohomish\"],[\"SR-9 S\\u002fO 67th NB\\u002fSB\",\"Snohomish\"],[\"SR-9 N\\u002fO Kackman NB\\u002fSB\",\"Snohomish\"],[\"SR-9 N\\u002fO Stanwood-Bryant NB\\u002fSB\",\"Snohomish\"],[\"SR-532 @ Island County WB\\u002fEB\",\"Snohomish\"],[\"SR-532 W\\u002fO 28th WB\\u002fEB\",\"Snohomish\"],[\"SR-522 N\\u002fO 145th NB\\u002fSB\",\"King\"],[\"SR-104 @ Hood Canal Bridge WB\\u002fEB\",\"Kitsap\"],[\"SR-104 E\\u002fO Hood Canal Bridge WB\\u002fEB\",\"Kitsap\"],[\"SR-104 N\\u002fO Pt Gamble Rd WB\\u002fEB\",\"Kitsap\"],[\"SR-104 E\\u002fO SR-307 WB\\u002fEB\",\"Kitsap\"],[\"SR-104 E\\u002fO Hansville WB\\u002fEB\",\"Kitsap\"],[\"SR-104 @ Ferry Loading Edm WB\\u002fEB\",\"Snohomish\"],[\"SR-104 N\\u002fO Pine WB\\u002fEB\",\"Snohomish\"],[\"SR-104 E\\u002fO 5th WB\\u002fEB\",\"Snohomish\"],[\"SR-104 W\\u002fO 19th WB\\u002fEB\",\"King\"],[\"SR-160 @ SR-16 WB\\u002fEB\",\"Kitsap\"],[\"SR-160 E\\u002fO Long Lake Rd WB\\u002fEB\",\"Kitsap\"],[\"SR-160 W\\u002fO Banner WB\\u002fEB\",\"Kitsap\"],[\"SR-160 E\\u002fO Peterson WB\\u002fEB\",\"Kitsap\"],[\"SR-160 S\\u002fO Southworth Dr WB\\u002fEB\",\"Kitsap\"],[\"SR-166 E\\u002fO SR-16 WB\\u002fEB\",\"Kitsap\"],[\"SR-3 E\\u002fO Sunset Way NB\\u002fSB\",\"Kitsap\"],[\"SR-3 N\\u002fO SR-305 NB\\u002fSB\",\"Kitsap\"],[\"SR-3 S\\u002fO Newberry Hill Rd NB\\u002fSB\",\"Kitsap\"],[\"SR-3 @ SR-304 NB\\u002fSB\",\"Kitsap\"],[\"SR-3 NE of SR-16 NB\\u002fSB\",\"Kitsap\"],[\"SR-3 W\\u002fO Lake Flora Rd NB\\u002fSB\",\"Kitsap\"],[\"SR-302 N\\u002fO 144th WB\\u002fEB\",\"Pierce\"],[\"SR-302 S\\u002fO 144th WB\\u002fEB\",\"Pierce\"],[\"SR-302 W\\u002fO Key Peninsula Hwy WB\\u002fEB\",\"Pierce\"],[\"SR-302 W\\u002fO Wright-Bliss WB\\u002fEB (E\\u002fO?)\",\"Pierce\"],[\"SR-303 E\\u002fO SR-3 NB\\u002fSB\",\"Kitsap\"],[\"SR-303 N\\u002fO 11th St NB\\u002fSB\",\"Kitsap\"],[\"SR-303 N\\u002fO SR-304 NB\\u002fSB\",\"Kitsap\"],[\"SR-304 E\\u002fO SR-3 WB\\u002fEB\",\"Kitsap\"],[\"SR-304 W\\u002fO Naval WB\\u002fEB\",\"Kitsap\"],[\"SR-305 W\\u002fO SR-307 WB\\u002fEB\",\"Kitsap\"],[\"SR-305 W\\u002fO Suquamish Way WB\\u002fEB\",\"Kitsap\"],[\"SR-305 N\\u002fO Day Rd WB\\u002fEB\",\"Kitsap\"],[\"SR-305 N\\u002fO High School Rd WB\\u002fEB\",\"Kitsap\"],[\"SR-305 S\\u002fO Winslow Way WB\\u002fEB\",\"Kitsap\"],[\"SR-305 @ Ferry Ramp WB\\u002fEB\",\"Kitsap\"],[\"SR-307 W\\u002fO SR-104 NB\\u002fSB\",\"Kitsap\"],[\"SR-307 N\\u002fO Gunderson NB\\u002fSB\",\"Kitsap\"],[\"SR-307 S\\u002fO Gunderson NB\\u002fSB\",\"Kitsap\"],[\"SR-307 N\\u002fO SR-305 NB\\u002fSB\",\"Kitsap\"],[\"SR-308 @ SR-3 WB\\u002fEB\",\"Kitsap\"],[\"SR-308 E\\u002fO SR-3 WB\\u002fEB\",\"Kitsap\"],[\"SR-308 E\\u002fO Silverdale Way WB\\u002fEB\",\"Kitsap\"],[\"SR-308 W\\u002fO Brownsville Hwy WB\\u002fEB\",\"Kitsap\"],[\"SR-310 @ SR-3 WB\\u002fEB\",\"Kitsap\"],[\"SR-310 W\\u002fO Callow WB\\u002fEB\",\"Kitsap\"],[\"SR-516 E\\u002fO SR-509 WB\\u002fEB\",\"King\"],[\"SR-516 W\\u002fO I-5 WB\\u002fEB\",\"King\"],[\"SR-516 E\\u002fO Meeker WB\\u002fEB\",\"King\"],[\"SR-516 W\\u002fO SR-167 WB\\u002fEB\",\"King\"],[\"SR-516 E\\u002fO SR-167 WB\\u002fEB\",\"King\"],[\"SR-516 E\\u002fO SR-18 WB\\u002fEB\",\"King\"],[\"SR-161 E\\u002fO SR-7 NB\\u002fSB\",\"Pierce\"],[\"SR-161 N\\u002fO Center NB\\u002fSB\",\"Pierce\"],[\"SR-161 N\\u002fO Eatonville Cutoff NB\\u002fSB\",\"Pierce\"],[\"SR-161 N\\u002fO 304th NB\\u002fSB\",\"Pierce\"],[\"SR-161 N\\u002fO 264th NB\\u002fSB\",\"Pierce\"],[\"SR-161 S\\u002fO 224th NB\\u002fSB\",\"Pierce\"],[\"SR-161 N\\u002fO 224th NB\\u002fSB\",\"Pierce\"],[\"SR-161 N\\u002fO 204th NB\\u002fSB\",\"Pierce\"],[\"SR-161 S\\u002fO SR-167 SB off-ramp NB\\u002fSB\",\"Pierce\"],[\"SR-161 S\\u002fO Valley NB\\u002fSB\",\"Pierce\"],[\"SR-161 N\\u002fO Valley NB\\u002fSB\",\"Pierce\"],[\"SR-161 N\\u002fO 8th NB\\u002fSB\",\"Pierce\"],[\"SR-900 S\\u002fO NB I-5 on-ramp @ Boe Acc WB\\u002fEB\",\"King\"],[\"SR-900 E\\u002fO 68th WB\\u002fEB\",\"King\"],[\"SR-900 @ I-405 WB\\u002fEB\",\"King\"],[\"SR-900 E\\u002fO 148th WB\\u002fEB\",\"King\"],[\"SR-900 N\\u002fO Talus WB\\u002fEB\",\"King\"],[\"SR-900 N\\u002fO Newport WB\\u002fEB\",\"King\"],[\"SR-524 W\\u002fO 3rd WB\\u002fEB\",\"Snohomish\"],[\"SR-524 S\\u002fO Main WB\\u002fEB\",\"Snohomish\"],[\"SR-524 N\\u002fO Main WB\\u002fEB\",\"Snohomish\"],[\"SR-524 E\\u002fO 68th WB\\u002fEB\",\"Snohomish\"],[\"SR-524 E\\u002fO 39th WB\\u002fEB\",\"Snohomish\"],[\"SR-524 N\\u002fO Paradise Lake WB\\u002fEB\",\"Snohomish\"],[\"SR-7 @ Thurston County NB\\u002fSB\",\"Pierce\"],[\"SR-7 W\\u002fO Alder Cutoff NB\\u002fSB\",\"Pierce\"],[\"SR-7 N\\u002fO Eatonville Hwy NB\\u002fSB\",\"Pierce\"],[\"SR-7 N\\u002fO Silver Lake NB\\u002fSB\",\"Pierce\"],[\"SR-7 S\\u002fO SR-702 NB\\u002fSB\",\"Pierce\"],[\"SR-7 N\\u002fO 304th NB\\u002fSB\",\"Pierce\"],[\"SR-7 N\\u002fO 260th NB\\u002fSB\",\"Pierce\"],[\"SR-7 S\\u002fO 224th NB\\u002fSB\",\"Pierce\"],[\"SR-7 N\\u002fO 224th NB\\u002fSB\",\"Pierce\"],[\"SR-7 N\\u002fO 38th NB\\u002fSB\",\"Pierce\"],[\"SR-2 E\\u002fO I-5 WB\\u002fEB\",\"Snohomish\"],[\"SR-2 S\\u002fO SR-204 WB\\u002fEB\",\"Snohomish\"],[\"SR-2 E\\u002fO Main WB\\u002fEB\",\"Snohomish\"],[\"SR-2 E\\u002fO Rice WB\\u002fEB\",\"Snohomish\"],[\"SR-2 E\\u002fO 10th (Gold Bar) WB\\u002fEB\",\"Snohomish\"],[\"SR-2 W\\u002fO Index-Galena WB\\u002fEB\",\"Snohomish\"],[\"SR-2 E\\u002fO Index-Galena WB\\u002fEB\",\"Snohomish\"],[\"SR-2 E\\u002fO Skykomish WB\\u002fEB\",\"King\"],[\"SR-527 N\\u002fO I-405 NB\\u002fSB\",\"Snohomish\"],[\"SR-527 N\\u002fO 196th NB\\u002fSB\",\"Snohomish\"],[\"SR-527 N\\u002fO Dumas NB\\u002fSB\",\"Snohomish\"],[\"SR-527 N\\u002fO 100th NB\\u002fSB\",\"Snohomish\"],[\"SR-513 S\\u002fO 44th NB\\u002fSB\",\"King\"],[\"SR-169 N\\u002fO SR-164 NB\\u002fSB\",\"King\"],[\"SR-169 S\\u002fO Lawson NB\\u002fSB\",\"King\"],[\"SR-169 S\\u002fO 276th NB\\u002fSB\",\"King\"],[\"SR-169 N\\u002fO 280th NB\\u002fSB\",\"King\"],[\"SR-169 N\\u002fO 231st NB\\u002fSB\",\"King\"],[\"SR-169 N\\u002fO 232nd NB\\u002fSB\",\"King\"],[\"SR-169 W\\u002fO 140th NB\\u002fSB\",\"King\"],[\"SR-515 N\\u002fO SR-516 NB\\u002fSB\",\"King\"],[\"SR-515 N\\u002fO 108th NB\\u002fSB\",\"King\"],[\"SR-515 N\\u002fO Puget NB\\u002fSB\",\"King\"],[\"SR-181 N\\u002fO SR-516 NB\\u002fSB\",\"King\"],[\"SR-181 S\\u002fO James NB\\u002fSB\",\"King\"],[\"SR-181 N\\u002fO James NB\\u002fSB\",\"King\"],[\"SR-181 N\\u002fO 228th NB\\u002fSB\",\"King\"],[\"SR-181 N\\u002fO 180th NB\\u002fSB\",\"King\"],[\"SR-181 S\\u002fO Longacres NB\\u002fSB\",\"King\"],[\"SR-523 E\\u002fO Lenora WB\\u002fEB\",\"King\"],[\"SR-529 @ I-5 (Evt) NB\\u002fSB\",\"Snohomish\"],[\"SR-529 S\\u002fO Everett NB\\u002fSB\",\"Snohomish\"],[\"SR-529 W\\u002fO Maple NB\\u002fSB\",\"Snohomish\"],[\"SR-529 N\\u002fO Everett NB\\u002fSB\",\"Snohomish\"],[\"SR-529 N\\u002fO Broadway NB\\u002fSB\",\"Snohomish\"],[\"SR-96 @ I-5 WB\\u002fEB\",\"Snohomish\"],[\"SR-96 N\\u002fO 132nd WB\\u002fEB\",\"Snohomish\"],[\"SR-96 E\\u002fO Seattle Hill WB\\u002fEB\",\"Snohomish\"],[\"SR-164 @ SR-18 WB\\u002fEB\",\"King\"],[\"SR-164 S\\u002fO 400th WB\\u002fEB\",\"King\"],[\"SR-528 @ I-5 WB\\u002fEB\",\"Snohomish\"],[\"SR-528 E\\u002fO SR-529 WB\\u002fEB\",\"Snohomish\"],[\"SR-531 N\\u002fO Rose WB\\u002fEB\",\"Snohomish\"],[\"SR-531 E\\u002fO Lk Goodwin WB\\u002fEB\",\"Snohomish\"],[\"SR-531 E\\u002fO 27th WB\\u002fEB\",\"Snohomish\"],[\"SR-531 E\\u002fO I-5 WB\\u002fEB\",\"Snohomish\"],[\"SR-531 E\\u002fO 43rd WB\\u002fEB\",\"Snohomish\"],[\"SR-531 W\\u002fO 67th WB\\u002fEB\",\"Snohomish\"],[\"SR-531 E\\u002fO 67th WB\\u002fEB\",\"Snohomish\"],[\"SR-162 @ SR-410 WB\\u002fEB\",\"Pierce\"],[\"SR-162 S\\u002fO Pioneer WB\\u002fEB\",\"Pierce\"],[\"SR-162 E\\u002fO Orville WB\\u002fEB\",\"Pierce\"],[\"SR-162 E\\u002fO S Prairie WB\\u002fEB\",\"Pierce\"],[\"SR-162 N\\u002fO SR-165 WB\\u002fEB\",\"Pierce\"],[\"SR-163 @ SR-16 NB\\u002fSB\",\"Pierce\"],[\"SR-163 N\\u002fO 37th NB\\u002fSB\",\"Pierce\"],[\"SR-163 N\\u002fO Park NB\\u002fSB\",\"Pierce\"],[\"SR-530 @ I-5 WB\\u002fEB\",\"Snohomish\"],[\"SR-530 E\\u002fO Smokey Pt WB\\u002fEB\",\"Snohomish\"],[\"SR-530 N\\u002fO 211th WB\\u002fEB\",\"Snohomish\"],[\"SR-530 E\\u002fO SR-9 WB\\u002fEB\",\"Snohomish\"],[\"SR-530 W\\u002fO Arlington Hts WB\\u002fEB\",\"Snohomish\"],[\"SR-530 E\\u002fO Arlington Hts WB\\u002fEB\",\"Snohomish\"],[\"SR-530 W\\u002fO Jim Creek WB\\u002fEB\",\"Snohomish\"],[\"SR-530 W\\u002fO Ramstad WB\\u002fEB\",\"Snohomish\"],[\"SR-530 @ Skagit County WB\\u002fEB\",\"Snohomish\"],[\"SR-203 N\\u002fO 203rd NB\\u002fSB\",\"Snohomish\"],[\"SR-203 N\\u002fO Cherry Valley NB\\u002fSB\",\"King\"],[\"SR-203 N\\u002fO 124th NB\\u002fSB\",\"King\"],[\"SR-203 W\\u002fO Stillwater Hill NB\\u002fSB\",\"King\"],[\"SR-203 N\\u002fO Carnation Farm NB\\u002fSB\",\"King\"],[\"SR-203 N\\u002fO Tolt Hill NB\\u002fSB\",\"King\"],[\"SR-203 N\\u002fO SR-202 NB\\u002fSB\",\"King\"],[\"SR-507 S\\u002fO SR-7 NB\\u002fSB\",\"Pierce\"],[\"SR-507 S\\u002fO E Gate NB\\u002fSB\",\"Pierce\"],[\"SR-507 S\\u002fO 288th NB\\u002fSB\",\"Pierce\"],[\"SR-507 N\\u002fO 346th NB\\u002fSB\",\"Pierce\"],[\"SR-204 @ SR-2 NB\\u002fSB\",\"Snohomish\"],[\"SR-204 N\\u002fO 20th NB\\u002fSB\",\"Snohomish\"],[\"SR-204 N\\u002fO SR-2 NB\\u002fSB\",\"Snohomish\"],[\"SR-519 W\\u002fO 4th NB\\u002fSB\",\"King\"],[\"SR-92 E\\u002fO Lake WB\\u002fEB\",\"Snohomish\"],[\"SR-92 E\\u002fO Callow WB\\u002fEB\",\"Snohomish\"],[\"SR-92 E\\u002fO Quarry WB\\u002fEB\",\"Snohomish\"],[\"SR-92 W\\u002fO Mountain Loop WB\\u002fEB\",\"Snohomish\"],[\"SR-702 E\\u002fO SR-507 WB\\u002fEB\",\"Pierce\"],[\"SR-702 E\\u002fO Harts Lake WB\\u002fEB\",\"Pierce\"],[\"SR-702 E\\u002fO 40th WB\\u002fEB\",\"Pierce\"],[\"SR-702 W\\u002fO 8th WB\\u002fEB\",\"Pierce\"],[\"SR-702 E\\u002fO 8th WB\\u002fEB\",\"Pierce\"],[\"SR-165 W\\u002fO SR-162 NB\\u002fSB\",\"Pierce\"],[\"SR-165 N\\u002fO Davis NB\\u002fSB\",\"Pierce\"],[\"SR-165 N\\u002fO Wilkeson-Carbonado NB\\u002fSB\",\"Pierce\"],[\"SR-704 E\\u002fO Spanaway Loop WB\\u002fEB\",\"Pierce\"],[\"SR-706 E\\u002fO SR-7 WB\\u002fEB\",\"Pierce\"],[\"SR-706 E\\u002fO Kernahan WB\\u002fEB\",\"Pierce\"]],\"hovertemplate\":\"Observed=%{x}\\u003cbr\\u003eModel=%{y}\\u003cbr\\u003elocation=%{customdata[0]}\\u003cbr\\u003eCounty=%{customdata[1]}\\u003cextra\\u003e\\u003c\\u002fextra\\u003e\",\"legendgroup\":\"\",\"marker\":{\"color\":\"#91268F\",\"symbol\":\"circle\"},\"mode\":\"markers\",\"name\":\"\",\"orientation\":\"v\",\"showlegend\":false,\"x\":[2398,2384,2500,2589,2331,2275,2608,2499,4754,4821,5641,5686,1764,3843,2614,3294,1786,1909,2586,2604,2869,2888,2689,2832,2293,2656,2191,2251,1728,1737,645,1525,1405,1400,1380,1329,1046,1702,2618,3724,2998,1539,1620,1248,851,1030,1032,2276,2432,2405,2415,2776,2536,2040,2040,1806,1814,850,630,1279,1163,1067,968,859,720,1271,842,534,973,1357,1295,882,869,1054,1031,1556,1676,2448,2444,2481,1769,2644,1594,1323,3333,710,364,1270,5571,2749,1262,970,554,73,74,48,29,2835,3326,4048,1036,2310,171,59,62,128,408,680,240,102,421,720,1320,1488,1276,1600,1150,1053,600,704,2349,1643,2416,1512,1056,475,2808,787,1075,1329,2434,1344,3133,2138,2336,1997,2251,2041,882,249,217,662,506,815,1705,1125,874,457,589,363,431,331,396,915,1853,1311,1387,1987,829,484,658,443,135,1056,739,1170,702,197,215,512,288,294,220,360,475,475,525,408,233,86,280,1258,1725,2074,1768,3230,864,426,871,227,157,972,1008,434,810,609,1102,660,600,468,265,221,714,476,612,680,156,199,263,230,897,286,260,1080,875,1680,984,975,24,456,313,594,598,504,864,1216,1000,1850,720,800,924,392,754,198,682,546,68,160,167,494,330,1157,241,106,193,228,363,690,897,1350,858,378,2430,1634,858,735,516,346,242,214,1484,837,704,858,728,398,594,816,546,1675,1058,1014,825,408,893,1798,1265,1450,1650,1620,2108,609,333,271,364,238,1122,1408,392,220,810,660,728,616,75,432,693,1230,1632,969,560,640,924,618,354,547,420,276,161,690,882,784,420,520,461,410,276,167,636,590,741,486,490,539,502,1264,462,533,611,259,371,960,1044,1349,994,320,324,524,396,389,382,322,390,211,120,720,150,75],\"xaxis\":\"x\",\"y\":[0,0,718,741,712,734,1041,1013,1965,2381,3310,3500,1849,5853,6308,6328,6535,6279,5683,5697,5116,4804,4452,4475,4338,4192,1930,1941,658,624,3228,4575,4783,2624,2631,1816,1446,3106,6024,5137,5053,4679,4532,3083,2869,3538,3450,3979,4207,4687,4809,4004,3942,2279,2271,1667,1742,1367,911,2178,2368,1323,1469,1804,1605,1545,1214,1307,869,1393,1274,834,771,869,800,1784,1615,10858,117,0,1573,1278,58,0,9022,342,36,2179,6932,3118,1143,404,54,43,0,0,0,3280,3335,5163,1664,1537,97,29,29,69,318,240,136,77,100,840,1791,2743,1289,1278,1330,1307,832,690,1744,3384,3129,1793,693,141,3429,1907,2006,1877,2139,866,6711,3998,4147,3357,3561,2003,724,452,275,832,366,427,2249,1424,527,488,373,189,277,674,192,1771,1341,1354,1810,2159,703,534,184,46,62,0,596,2177,0,25,18,222,155,213,165,278,483,562,180,136,185,70,414,55,204,2552,2574,4137,0,318,323,144,41,850,957,331,1654,829,1662,1039,1098,157,67,67,277,321,588,610,112,118,199,130,373,144,177,2104,3124,3982,1771,1015,5,31,191,359,356,540,592,1047,1320,1990,595,1391,1706,599,1506,574,1088,874,218,70,254,611,442,602,0,16,22,30,28,237,282,317,409,200,3188,1683,754,308,106,106,77,0,3064,943,396,1065,1612,105,418,333,591,878,963,1759,330,599,1229,2015,1804,2312,3133,3360,3423,656,443,408,341,122,631,1547,422,52,939,669,1102,583,82,239,694,1466,940,241,366,520,728,245,130,240,974,371,196,343,610,404,389,401,333,285,235,0,442,455,457,218,231,323,215,249,155,44,47,158,297,1358,2258,779,564,195,158,8,8,105,105,55,162,79,39,766,1,1],\"yaxis\":\"y\",\"type\":\"scatter\",\"line\":{\"color\":\"Grey\",\"width\":2}},{\"hovertemplate\":\"Observed=%{x}\\u003cbr\\u003eModel=%{y}\\u003cextra\\u003e\\u003c\\u002fextra\\u003e\",\"legendgroup\":\"\",\"line\":{\"color\":\"Grey\",\"dash\":\"solid\",\"width\":2},\"marker\":{\"symbol\":\"circle\"},\"mode\":\"lines\",\"name\":\"\",\"orientation\":\"v\",\"showlegend\":false,\"x\":[0.0,57.43434343434343,114.86868686868686,172.3030303030303,229.73737373737373,287.17171717171715,344.6060606060606,402.04040404040404,459.47474747474746,516.9090909090909,574.3434343434343,631.7777777777777,689.2121212121212,746.6464646464647,804.0808080808081,861.5151515151515,918.9494949494949,976.3838383838383,1033.8181818181818,1091.2525252525252,1148.6868686868686,1206.121212121212,1263.5555555555554,1320.9898989898988,1378.4242424242425,1435.858585858586,1493.2929292929293,1550.7272727272727,1608.1616161616162,1665.5959595959596,1723.030303030303,1780.4646464646464,1837.8989898989898,1895.3333333333333,1952.7676767676767,2010.20202020202,2067.6363636363635,2125.070707070707,2182.5050505050503,2239.939393939394,2297.373737373737,2354.808080808081,2412.242424242424,2469.6767676767677,2527.111111111111,2584.5454545454545,2641.9797979797977,2699.4141414141413,2756.848484848485,2814.282828282828,2871.717171717172,2929.151515151515,2986.5858585858587,3044.020202020202,3101.4545454545455,3158.8888888888887,3216.3232323232323,3273.7575757575755,3331.191919191919,3388.6262626262624,3446.060606060606,3503.494949494949,3560.929292929293,3618.363636363636,3675.7979797979797,3733.2323232323233,3790.6666666666665,3848.10101010101,3905.5353535353534,3962.969696969697,4020.40404040404,4077.838383838384,4135.272727272727,4192.707070707071,4250.141414141414,4307.575757575757,4365.010101010101,4422.444444444444,4479.878787878788,4537.313131313131,4594.747474747474,4652.181818181818,4709.616161616162,4767.050505050505,4824.484848484848,4881.919191919192,4939.353535353535,4996.787878787879,5054.222222222222,5111.656565656565,5169.090909090909,5226.525252525253,5283.959595959595,5341.393939393939,5398.828282828283,5456.262626262626,5513.69696969697,5571.131313131313,5628.565656565656,5686.0],\"xaxis\":\"x\",\"y\":[-40.65908892271682,30.522862621069066,101.70481416485495,172.88676570864087,244.06871725242672,315.2506687962126,386.43262033999855,457.6145718837844,528.7965234275703,599.9784749713561,671.160426515142,742.3423780589279,813.5243296027139,884.7062811464998,955.8882326902856,1027.0701842340716,1098.2521357778573,1169.4340873216433,1240.6160388654291,1311.797990409215,1382.979941953001,1454.1618934967867,1525.3438450405727,1596.5257965843584,1667.7077481281447,1738.8896996719304,1810.0716512157164,1881.2536027595022,1952.435554303288,2023.617505847074,2094.79945739086,2165.9814089346455,2237.1633604784315,2308.3453120222175,2379.5272635660035,2450.709215109789,2521.891166653575,2593.073118197361,2664.2550697411466,2735.437021284933,2806.6189728287186,2877.8009243725046,2948.98287591629,3020.1648274600766,3091.346779003862,3162.528730547648,3233.7106820914337,3304.8926336352197,3376.074585179006,3447.2565367227917,3518.4384882665777,3589.620439810363,3660.8023913541497,3731.984342897935,3803.166294441721,3874.3482459855068,3945.5301975292928,4016.7121490730788,4087.8941006168648,4159.07605216065,4230.258003704437,4301.439955248223,4372.621906792008,4443.803858335794,4514.985809879579,4586.167761423367,4657.349712967152,4728.531664510938,4799.713616054723,4870.895567598509,4942.0775191422945,5013.259470686082,5084.441422229867,5155.623373773653,5226.8053253174385,5297.987276861224,5369.16922840501,5440.351179948797,5511.5331314925825,5582.715083036368,5653.897034580154,5725.078986123939,5796.2609376677265,5867.442889211512,5938.624840755298,6009.806792299083,6080.9887438428705,6152.170695386656,6223.352646930442,6294.534598474227,6365.716550018013,6436.8985015618,6508.080453105584,6579.262404649371,6650.444356193157,6721.626307736942,6792.8082592807295,6863.990210824513,6935.172162368301,7006.354113912086],\"yaxis\":\"y\",\"type\":\"scatter\"}],                        {\"template\":{\"data\":{\"barpolar\":[{\"marker\":{\"line\":{\"color\":\"white\",\"width\":0.5},\"pattern\":{\"fillmode\":\"overlay\",\"size\":10,\"solidity\":0.2}},\"type\":\"barpolar\"}],\"bar\":[{\"error_x\":{\"color\":\"rgb(36,36,36)\"},\"error_y\":{\"color\":\"rgb(36,36,36)\"},\"marker\":{\"line\":{\"color\":\"white\",\"width\":0.5},\"pattern\":{\"fillmode\":\"overlay\",\"size\":10,\"solidity\":0.2}},\"type\":\"bar\"}],\"carpet\":[{\"aaxis\":{\"endlinecolor\":\"rgb(36,36,36)\",\"gridcolor\":\"white\",\"linecolor\":\"white\",\"minorgridcolor\":\"white\",\"startlinecolor\":\"rgb(36,36,36)\"},\"baxis\":{\"endlinecolor\":\"rgb(36,36,36)\",\"gridcolor\":\"white\",\"linecolor\":\"white\",\"minorgridcolor\":\"white\",\"startlinecolor\":\"rgb(36,36,36)\"},\"type\":\"carpet\"}],\"choropleth\":[{\"colorbar\":{\"outlinewidth\":1,\"tickcolor\":\"rgb(36,36,36)\",\"ticks\":\"outside\"},\"type\":\"choropleth\"}],\"contourcarpet\":[{\"colorbar\":{\"outlinewidth\":1,\"tickcolor\":\"rgb(36,36,36)\",\"ticks\":\"outside\"},\"type\":\"contourcarpet\"}],\"contour\":[{\"colorbar\":{\"outlinewidth\":1,\"tickcolor\":\"rgb(36,36,36)\",\"ticks\":\"outside\"},\"colorscale\":[[0.0,\"#440154\"],[0.1111111111111111,\"#482878\"],[0.2222222222222222,\"#3e4989\"],[0.3333333333333333,\"#31688e\"],[0.4444444444444444,\"#26828e\"],[0.5555555555555556,\"#1f9e89\"],[0.6666666666666666,\"#35b779\"],[0.7777777777777778,\"#6ece58\"],[0.8888888888888888,\"#b5de2b\"],[1.0,\"#fde725\"]],\"type\":\"contour\"}],\"heatmapgl\":[{\"colorbar\":{\"outlinewidth\":1,\"tickcolor\":\"rgb(36,36,36)\",\"ticks\":\"outside\"},\"colorscale\":[[0.0,\"#440154\"],[0.1111111111111111,\"#482878\"],[0.2222222222222222,\"#3e4989\"],[0.3333333333333333,\"#31688e\"],[0.4444444444444444,\"#26828e\"],[0.5555555555555556,\"#1f9e89\"],[0.6666666666666666,\"#35b779\"],[0.7777777777777778,\"#6ece58\"],[0.8888888888888888,\"#b5de2b\"],[1.0,\"#fde725\"]],\"type\":\"heatmapgl\"}],\"heatmap\":[{\"colorbar\":{\"outlinewidth\":1,\"tickcolor\":\"rgb(36,36,36)\",\"ticks\":\"outside\"},\"colorscale\":[[0.0,\"#440154\"],[0.1111111111111111,\"#482878\"],[0.2222222222222222,\"#3e4989\"],[0.3333333333333333,\"#31688e\"],[0.4444444444444444,\"#26828e\"],[0.5555555555555556,\"#1f9e89\"],[0.6666666666666666,\"#35b779\"],[0.7777777777777778,\"#6ece58\"],[0.8888888888888888,\"#b5de2b\"],[1.0,\"#fde725\"]],\"type\":\"heatmap\"}],\"histogram2dcontour\":[{\"colorbar\":{\"outlinewidth\":1,\"tickcolor\":\"rgb(36,36,36)\",\"ticks\":\"outside\"},\"colorscale\":[[0.0,\"#440154\"],[0.1111111111111111,\"#482878\"],[0.2222222222222222,\"#3e4989\"],[0.3333333333333333,\"#31688e\"],[0.4444444444444444,\"#26828e\"],[0.5555555555555556,\"#1f9e89\"],[0.6666666666666666,\"#35b779\"],[0.7777777777777778,\"#6ece58\"],[0.8888888888888888,\"#b5de2b\"],[1.0,\"#fde725\"]],\"type\":\"histogram2dcontour\"}],\"histogram2d\":[{\"colorbar\":{\"outlinewidth\":1,\"tickcolor\":\"rgb(36,36,36)\",\"ticks\":\"outside\"},\"colorscale\":[[0.0,\"#440154\"],[0.1111111111111111,\"#482878\"],[0.2222222222222222,\"#3e4989\"],[0.3333333333333333,\"#31688e\"],[0.4444444444444444,\"#26828e\"],[0.5555555555555556,\"#1f9e89\"],[0.6666666666666666,\"#35b779\"],[0.7777777777777778,\"#6ece58\"],[0.8888888888888888,\"#b5de2b\"],[1.0,\"#fde725\"]],\"type\":\"histogram2d\"}],\"histogram\":[{\"marker\":{\"line\":{\"color\":\"white\",\"width\":0.6}},\"type\":\"histogram\"}],\"mesh3d\":[{\"colorbar\":{\"outlinewidth\":1,\"tickcolor\":\"rgb(36,36,36)\",\"ticks\":\"outside\"},\"type\":\"mesh3d\"}],\"parcoords\":[{\"line\":{\"colorbar\":{\"outlinewidth\":1,\"tickcolor\":\"rgb(36,36,36)\",\"ticks\":\"outside\"}},\"type\":\"parcoords\"}],\"pie\":[{\"automargin\":true,\"type\":\"pie\"}],\"scatter3d\":[{\"line\":{\"colorbar\":{\"outlinewidth\":1,\"tickcolor\":\"rgb(36,36,36)\",\"ticks\":\"outside\"}},\"marker\":{\"colorbar\":{\"outlinewidth\":1,\"tickcolor\":\"rgb(36,36,36)\",\"ticks\":\"outside\"}},\"type\":\"scatter3d\"}],\"scattercarpet\":[{\"marker\":{\"colorbar\":{\"outlinewidth\":1,\"tickcolor\":\"rgb(36,36,36)\",\"ticks\":\"outside\"}},\"type\":\"scattercarpet\"}],\"scattergeo\":[{\"marker\":{\"colorbar\":{\"outlinewidth\":1,\"tickcolor\":\"rgb(36,36,36)\",\"ticks\":\"outside\"}},\"type\":\"scattergeo\"}],\"scattergl\":[{\"marker\":{\"colorbar\":{\"outlinewidth\":1,\"tickcolor\":\"rgb(36,36,36)\",\"ticks\":\"outside\"}},\"type\":\"scattergl\"}],\"scattermapbox\":[{\"marker\":{\"colorbar\":{\"outlinewidth\":1,\"tickcolor\":\"rgb(36,36,36)\",\"ticks\":\"outside\"}},\"type\":\"scattermapbox\"}],\"scatterpolargl\":[{\"marker\":{\"colorbar\":{\"outlinewidth\":1,\"tickcolor\":\"rgb(36,36,36)\",\"ticks\":\"outside\"}},\"type\":\"scatterpolargl\"}],\"scatterpolar\":[{\"marker\":{\"colorbar\":{\"outlinewidth\":1,\"tickcolor\":\"rgb(36,36,36)\",\"ticks\":\"outside\"}},\"type\":\"scatterpolar\"}],\"scatter\":[{\"fillpattern\":{\"fillmode\":\"overlay\",\"size\":10,\"solidity\":0.2},\"type\":\"scatter\"}],\"scatterternary\":[{\"marker\":{\"colorbar\":{\"outlinewidth\":1,\"tickcolor\":\"rgb(36,36,36)\",\"ticks\":\"outside\"}},\"type\":\"scatterternary\"}],\"surface\":[{\"colorbar\":{\"outlinewidth\":1,\"tickcolor\":\"rgb(36,36,36)\",\"ticks\":\"outside\"},\"colorscale\":[[0.0,\"#440154\"],[0.1111111111111111,\"#482878\"],[0.2222222222222222,\"#3e4989\"],[0.3333333333333333,\"#31688e\"],[0.4444444444444444,\"#26828e\"],[0.5555555555555556,\"#1f9e89\"],[0.6666666666666666,\"#35b779\"],[0.7777777777777778,\"#6ece58\"],[0.8888888888888888,\"#b5de2b\"],[1.0,\"#fde725\"]],\"type\":\"surface\"}],\"table\":[{\"cells\":{\"fill\":{\"color\":\"rgb(237,237,237)\"},\"line\":{\"color\":\"white\"}},\"header\":{\"fill\":{\"color\":\"rgb(217,217,217)\"},\"line\":{\"color\":\"white\"}},\"type\":\"table\"}]},\"layout\":{\"annotationdefaults\":{\"arrowhead\":0,\"arrowwidth\":1},\"autotypenumbers\":\"strict\",\"coloraxis\":{\"colorbar\":{\"outlinewidth\":1,\"tickcolor\":\"rgb(36,36,36)\",\"ticks\":\"outside\"}},\"colorscale\":{\"diverging\":[[0.0,\"rgb(103,0,31)\"],[0.1,\"rgb(178,24,43)\"],[0.2,\"rgb(214,96,77)\"],[0.3,\"rgb(244,165,130)\"],[0.4,\"rgb(253,219,199)\"],[0.5,\"rgb(247,247,247)\"],[0.6,\"rgb(209,229,240)\"],[0.7,\"rgb(146,197,222)\"],[0.8,\"rgb(67,147,195)\"],[0.9,\"rgb(33,102,172)\"],[1.0,\"rgb(5,48,97)\"]],\"sequential\":[[0.0,\"#440154\"],[0.1111111111111111,\"#482878\"],[0.2222222222222222,\"#3e4989\"],[0.3333333333333333,\"#31688e\"],[0.4444444444444444,\"#26828e\"],[0.5555555555555556,\"#1f9e89\"],[0.6666666666666666,\"#35b779\"],[0.7777777777777778,\"#6ece58\"],[0.8888888888888888,\"#b5de2b\"],[1.0,\"#fde725\"]],\"sequentialminus\":[[0.0,\"#440154\"],[0.1111111111111111,\"#482878\"],[0.2222222222222222,\"#3e4989\"],[0.3333333333333333,\"#31688e\"],[0.4444444444444444,\"#26828e\"],[0.5555555555555556,\"#1f9e89\"],[0.6666666666666666,\"#35b779\"],[0.7777777777777778,\"#6ece58\"],[0.8888888888888888,\"#b5de2b\"],[1.0,\"#fde725\"]]},\"colorway\":[\"#91268F\",\"#8CC63E\",\"#00A7A0\",\"#F05A28\",\"#4C4C4C\",\"#630460\",\"#9f3913\",\"#588527\",\"#00716c\",\"#3e4040\"],\"font\":{\"color\":\"rgb(36,36,36)\",\"family\":\"Poppins\",\"size\":11},\"geo\":{\"bgcolor\":\"white\",\"lakecolor\":\"white\",\"landcolor\":\"white\",\"showlakes\":true,\"showland\":true,\"subunitcolor\":\"white\"},\"hoverlabel\":{\"align\":\"left\"},\"hovermode\":\"closest\",\"mapbox\":{\"style\":\"light\"},\"paper_bgcolor\":\"white\",\"plot_bgcolor\":\"white\",\"polar\":{\"angularaxis\":{\"gridcolor\":\"rgb(232,232,232)\",\"linecolor\":\"rgb(36,36,36)\",\"showgrid\":false,\"showline\":true,\"ticks\":\"outside\"},\"bgcolor\":\"white\",\"radialaxis\":{\"gridcolor\":\"rgb(232,232,232)\",\"linecolor\":\"rgb(36,36,36)\",\"showgrid\":false,\"showline\":true,\"ticks\":\"outside\"}},\"scene\":{\"xaxis\":{\"backgroundcolor\":\"white\",\"gridcolor\":\"rgb(232,232,232)\",\"gridwidth\":2,\"linecolor\":\"rgb(36,36,36)\",\"showbackground\":true,\"showgrid\":false,\"showline\":true,\"ticks\":\"outside\",\"zeroline\":false,\"zerolinecolor\":\"rgb(36,36,36)\"},\"yaxis\":{\"backgroundcolor\":\"white\",\"gridcolor\":\"rgb(232,232,232)\",\"gridwidth\":2,\"linecolor\":\"rgb(36,36,36)\",\"showbackground\":true,\"showgrid\":false,\"showline\":true,\"ticks\":\"outside\",\"zeroline\":false,\"zerolinecolor\":\"rgb(36,36,36)\"},\"zaxis\":{\"backgroundcolor\":\"white\",\"gridcolor\":\"rgb(232,232,232)\",\"gridwidth\":2,\"linecolor\":\"rgb(36,36,36)\",\"showbackground\":true,\"showgrid\":false,\"showline\":true,\"ticks\":\"outside\",\"zeroline\":false,\"zerolinecolor\":\"rgb(36,36,36)\"}},\"shapedefaults\":{\"fillcolor\":\"black\",\"line\":{\"width\":0},\"opacity\":0.3},\"ternary\":{\"aaxis\":{\"gridcolor\":\"rgb(232,232,232)\",\"linecolor\":\"rgb(36,36,36)\",\"showgrid\":false,\"showline\":true,\"ticks\":\"outside\"},\"baxis\":{\"gridcolor\":\"rgb(232,232,232)\",\"linecolor\":\"rgb(36,36,36)\",\"showgrid\":false,\"showline\":true,\"ticks\":\"outside\"},\"bgcolor\":\"white\",\"caxis\":{\"gridcolor\":\"rgb(232,232,232)\",\"linecolor\":\"rgb(36,36,36)\",\"showgrid\":false,\"showline\":true,\"ticks\":\"outside\"}},\"title\":{\"x\":0.05},\"xaxis\":{\"automargin\":true,\"gridcolor\":\"rgb(232,232,232)\",\"linecolor\":\"rgb(36,36,36)\",\"showgrid\":false,\"showline\":true,\"ticks\":\"outside\",\"title\":{\"standoff\":15},\"zeroline\":false,\"zerolinecolor\":\"rgb(36,36,36)\"},\"yaxis\":{\"automargin\":true,\"gridcolor\":\"rgb(232,232,232)\",\"linecolor\":\"rgb(36,36,36)\",\"showgrid\":false,\"showline\":true,\"ticks\":\"outside\",\"title\":{\"standoff\":15},\"zeroline\":false,\"zerolinecolor\":\"rgb(36,36,36)\"}}},\"xaxis\":{\"anchor\":\"y\",\"domain\":[0.0,1.0],\"title\":{\"text\":\"Observed\"}},\"yaxis\":{\"anchor\":\"x\",\"domain\":[0.0,1.0],\"title\":{\"text\":\"Model\"}},\"legend\":{\"tracegroupgap\":0},\"title\":{\"text\":\"Medium Trucks: Region\"},\"margin\":{\"l\":100,\"r\":100,\"t\":100,\"b\":100},\"height\":600,\"width\":800,\"shapes\":[{\"line\":{\"color\":\"Red\",\"dash\":\"dash\",\"width\":2},\"type\":\"line\",\"x0\":0,\"x1\":10858,\"y0\":0,\"y1\":10858}],\"annotations\":[{\"align\":\"right\",\"font\":{\"color\":\"pink\",\"size\":12},\"showarrow\":false,\"text\":\"y = x\",\"x\":11400.9,\"y\":11400.9},{\"align\":\"right\",\"font\":{\"color\":\"black\",\"size\":12},\"showarrow\":false,\"text\":\"r^2 = 0.52\",\"x\":5970.3,\"y\":7356.671819607691}]},                        {\"responsive\": true}                    ).then(function(){\n",
       "                            \n",
       "var gd = document.getElementById('212a076d-e729-4d61-9d97-b17f3b00ad1a');\n",
       "var x = new MutationObserver(function (mutations, observer) {{\n",
       "        var display = window.getComputedStyle(gd).display;\n",
       "        if (!display || display === 'none') {{\n",
       "            console.log([gd, 'removed!']);\n",
       "            Plotly.purge(gd);\n",
       "            observer.disconnect();\n",
       "        }}\n",
       "}});\n",
       "\n",
       "// Listen for the removal of the full notebook cells\n",
       "var notebookContainer = gd.closest('#notebook-container');\n",
       "if (notebookContainer) {{\n",
       "    x.observe(notebookContainer, {childList: true});\n",
       "}}\n",
       "\n",
       "// Listen for the clearing of the current output cell\n",
       "var outputEl = gd.closest('.output');\n",
       "if (outputEl) {{\n",
       "    x.observe(outputEl, {childList: true});\n",
       "}}\n",
       "\n",
       "                        })                };                });            </script>        </div>"
      ]
     },
     "metadata": {},
     "output_type": "display_data"
    }
   ],
   "source": [
    "fig = create_truck_chart(df_daily_med, 'Medium')\n",
    "fig.show()"
   ]
  },
  {
   "cell_type": "raw",
   "id": "d673c0fb",
   "metadata": {},
   "source": [
    "#### King"
   ]
  },
  {
   "cell_type": "code",
   "execution_count": 30,
   "id": "e5361979",
   "metadata": {},
   "outputs": [
    {
     "data": {
      "application/vnd.plotly.v1+json": {
       "config": {
        "plotlyServerURL": "https://plot.ly"
       },
       "data": [
        {
         "customdata": [
          [
           "I-5 S/O 205th NB",
           "King"
          ],
          [
           "I-5 S/O 205th SB",
           "King"
          ],
          [
           "I-5 Rev N/O I-5 GP NB/SB",
           "King"
          ],
          [
           "I-90 E/O I-5 WB",
           "King"
          ],
          [
           "I-90 E/O I-5 EB",
           "King"
          ],
          [
           "I-90 E/O W Lk Sam WB",
           "King"
          ],
          [
           "I-90 E/O W Lk Sam EB",
           "King"
          ],
          [
           "I-90 E/O SR-900 WB",
           "King"
          ],
          [
           "I-405 @ I-5 Southcenter NB",
           "King"
          ],
          [
           "I-405 @ I-5 Southcenter SB",
           "King"
          ],
          [
           "I-405 @ Lake Wash Blvd NB",
           "King"
          ],
          [
           "I-405 @ I-90 NB",
           "King"
          ],
          [
           "I-405 @ I-90 SB",
           "King"
          ],
          [
           "SR-520 @ x-lake bridge WB",
           "King"
          ],
          [
           "SR-520 @ x-lake bridge EB",
           "King"
          ],
          [
           "SR-167 S/O 43rd NB",
           "King"
          ],
          [
           "SR-167 S/O 43rd SB",
           "King"
          ],
          [
           "SR-167 N/O SR-18 NB",
           "King"
          ],
          [
           "SR-167 N/O SR-18 SB",
           "King"
          ],
          [
           "SR-167 S/O 15th SW NB",
           "King"
          ],
          [
           "SR-167 S/O 15th SW SB",
           "King"
          ],
          [
           "SR-509 @ Holden NB",
           "King"
          ],
          [
           "SR-509 @ Holden SB",
           "King"
          ],
          [
           "SR-99 N/O 14th NB",
           "King"
          ],
          [
           "SR-99 N/O 14th SB",
           "King"
          ],
          [
           "SR-99 N/O WSF NB",
           "King"
          ],
          [
           "SR-99 N/O WSF SB",
           "King"
          ],
          [
           "SR-99 tunnel NB",
           "King"
          ],
          [
           "SR-99 tunnel SB",
           "King"
          ],
          [
           "SR-599 S/O Pacific NB",
           "King"
          ],
          [
           "SR-599 S/O Pacific SB",
           "King"
          ],
          [
           "SR-599 @ Pacific NB",
           "King"
          ],
          [
           "SR-599 @ Pacific SB",
           "King"
          ],
          [
           "SR-18 @ I-5 WB",
           "King"
          ],
          [
           "SR-18 @ I-5 EB",
           "King"
          ],
          [
           "SR-18 W/O Auburn-Black Diamond WB",
           "King"
          ],
          [
           "SR-18 W/O Auburn-Black Diamond EB",
           "King"
          ],
          [
           "SR-18 E/O SR-516 WB",
           "King"
          ],
          [
           "SR-18 E/O SR-516 EB",
           "King"
          ],
          [
           "SR-18 E/O 256th WB",
           "King"
          ],
          [
           "SR-18 E/O 256th EB",
           "King"
          ],
          [
           "SR-522 N/O 195th WB",
           "King"
          ],
          [
           "SR-522 N/O 195th EB",
           "King"
          ],
          [
           "I-5 N/O I-5 Rev CBD NB/SB",
           "King"
          ],
          [
           "I-90 W/O SR-18 WB/EB",
           "King"
          ],
          [
           "I-90 E/O SR-18 WB/EB",
           "King"
          ],
          [
           "I-90 E/O 436th WB/EB",
           "King"
          ],
          [
           "I-90 @ Kittitas County WB/EB",
           "King"
          ],
          [
           "I-405 N/O SR-522 NB/SB",
           "King"
          ],
          [
           "SR-167 N/O Grady NB/SB",
           "King"
          ],
          [
           "SR-410 E/O 244th WB/EB",
           "King"
          ],
          [
           "SR-410 E/O Farman WB/EB",
           "King"
          ],
          [
           "SR-410 @ Greenwater River WB/EB",
           "King"
          ],
          [
           "SR-509 E/O 47th NB/SB",
           "King"
          ],
          [
           "SR-509 E/O 21st NB/SB",
           "King"
          ],
          [
           "SR-509 W/O SR-516 NB/SB",
           "King"
          ],
          [
           "SR-509 W/O Des Moines Mem NB/SB",
           "King"
          ],
          [
           "SR-509 E/O 1st Ave NB/SB",
           "King"
          ],
          [
           "SR-509 E/O Des Moines Mem NB/SB",
           "King"
          ],
          [
           "SR-509 @ SR-509 ramp overpass NB/SB",
           "King"
          ],
          [
           "SR-509 N/O Des Moines Mem NB/SB",
           "King"
          ],
          [
           "SR-509 N/O SR-518 NB/SB",
           "King"
          ],
          [
           "SR-99 S/O SR-18 NB/SB",
           "King"
          ],
          [
           "SR-99 N/O SR-18 NB/SB",
           "King"
          ],
          [
           "SR-99 N/O 320th NB/SB",
           "King"
          ],
          [
           "SR-99 N/O 188th NB/SB",
           "King"
          ],
          [
           "SR-99 @ WSF NB/SB",
           "King"
          ],
          [
           "SR-99 @ Aurora Bridge NB/SB",
           "King"
          ],
          [
           "SR-99 N/O 38th NB/SB",
           "King"
          ],
          [
           "SR-99 S/O Roosevelt NB/SB",
           "King"
          ],
          [
           "SR-599 N/O I-5 NB/SB",
           "King"
          ],
          [
           "SR-518 @ SR-509 WB/EB",
           "King"
          ],
          [
           "SR-518 E/O SR-509 WB/EB",
           "King"
          ],
          [
           "SR-18 E/O SR-99 WB/EB",
           "King"
          ],
          [
           "SR-18 N/O 304th WB/EB",
           "King"
          ],
          [
           "SR-18 S/O I-90 WB/EB",
           "King"
          ],
          [
           "SR-202 @ SR-522 NB/SB",
           "King"
          ],
          [
           "SR-202 N/O 145th NB/SB",
           "King"
          ],
          [
           "SR-202 @ Sammamish River Br NB/SB",
           "King"
          ],
          [
           "SR-202 S/O 144th NB/SB",
           "King"
          ],
          [
           "SR-202 N/O Redmond Way NB/SB",
           "King"
          ],
          [
           "SR-202 E/O 164th NB/SB",
           "King"
          ],
          [
           "SR-202 E/O SR-520 NB/SB",
           "King"
          ],
          [
           "SR-202 E/O E Lk Samm NB/SB",
           "King"
          ],
          [
           "SR-202 E/O Sahalee NB/SB",
           "King"
          ],
          [
           "SR-202 E/O 236th NB/SB",
           "King"
          ],
          [
           "SR-202 S/O Ames Lake NB/SB",
           "King"
          ],
          [
           "SR-202 S/O Duthie Hill NB/SB",
           "King"
          ],
          [
           "SR-202 E/O SR-203 NB/SB",
           "King"
          ],
          [
           "SR-202 N/O I-90 NB/SB",
           "King"
          ],
          [
           "SR-522 N/O 145th NB/SB",
           "King"
          ],
          [
           "SR-104 W/O 19th WB/EB",
           "King"
          ],
          [
           "SR-516 E/O SR-509 WB/EB",
           "King"
          ],
          [
           "SR-516 W/O I-5 WB/EB",
           "King"
          ],
          [
           "SR-516 E/O Meeker WB/EB",
           "King"
          ],
          [
           "SR-516 W/O SR-167 WB/EB",
           "King"
          ],
          [
           "SR-516 E/O SR-167 WB/EB",
           "King"
          ],
          [
           "SR-516 E/O SR-18 WB/EB",
           "King"
          ],
          [
           "SR-900 S/O NB I-5 on-ramp @ Boe Acc WB/EB",
           "King"
          ],
          [
           "SR-900 E/O 68th WB/EB",
           "King"
          ],
          [
           "SR-900 @ I-405 WB/EB",
           "King"
          ],
          [
           "SR-900 E/O 148th WB/EB",
           "King"
          ],
          [
           "SR-900 N/O Talus WB/EB",
           "King"
          ],
          [
           "SR-900 N/O Newport WB/EB",
           "King"
          ],
          [
           "SR-2 E/O Skykomish WB/EB",
           "King"
          ],
          [
           "SR-513 S/O 44th NB/SB",
           "King"
          ],
          [
           "SR-169 N/O SR-164 NB/SB",
           "King"
          ],
          [
           "SR-169 S/O Lawson NB/SB",
           "King"
          ],
          [
           "SR-169 S/O 276th NB/SB",
           "King"
          ],
          [
           "SR-169 N/O 280th NB/SB",
           "King"
          ],
          [
           "SR-169 N/O 231st NB/SB",
           "King"
          ],
          [
           "SR-169 N/O 232nd NB/SB",
           "King"
          ],
          [
           "SR-169 W/O 140th NB/SB",
           "King"
          ],
          [
           "SR-515 N/O SR-516 NB/SB",
           "King"
          ],
          [
           "SR-515 N/O 108th NB/SB",
           "King"
          ],
          [
           "SR-515 N/O Puget NB/SB",
           "King"
          ],
          [
           "SR-181 N/O SR-516 NB/SB",
           "King"
          ],
          [
           "SR-181 S/O James NB/SB",
           "King"
          ],
          [
           "SR-181 N/O James NB/SB",
           "King"
          ],
          [
           "SR-181 N/O 228th NB/SB",
           "King"
          ],
          [
           "SR-181 N/O 180th NB/SB",
           "King"
          ],
          [
           "SR-181 S/O Longacres NB/SB",
           "King"
          ],
          [
           "SR-523 E/O Lenora WB/EB",
           "King"
          ],
          [
           "SR-164 @ SR-18 WB/EB",
           "King"
          ],
          [
           "SR-164 S/O 400th WB/EB",
           "King"
          ],
          [
           "SR-203 N/O Cherry Valley NB/SB",
           "King"
          ],
          [
           "SR-203 N/O 124th NB/SB",
           "King"
          ],
          [
           "SR-203 W/O Stillwater Hill NB/SB",
           "King"
          ],
          [
           "SR-203 N/O Carnation Farm NB/SB",
           "King"
          ],
          [
           "SR-203 N/O Tolt Hill NB/SB",
           "King"
          ],
          [
           "SR-203 N/O SR-202 NB/SB",
           "King"
          ],
          [
           "SR-519 W/O 4th NB/SB",
           "King"
          ]
         ],
         "hovertemplate": "Observed=%{x}<br>Model=%{y}<br>location=%{customdata[0]}<br>County=%{customdata[1]}<extra></extra>",
         "legendgroup": "",
         "line": {
          "color": "Grey",
          "width": 2
         },
         "marker": {
          "color": "#91268F",
          "symbol": "circle"
         },
         "mode": "markers",
         "name": "",
         "orientation": "v",
         "showlegend": false,
         "type": "scatter",
         "x": [
          1786,
          1909,
          645,
          1525,
          1405,
          1400,
          1380,
          1329,
          1046,
          1702,
          2618,
          3724,
          2998,
          1030,
          1032,
          2276,
          2432,
          2405,
          2415,
          2776,
          2536,
          1806,
          1814,
          850,
          630,
          1279,
          1163,
          1067,
          968,
          859,
          720,
          1271,
          842,
          534,
          973,
          1357,
          1295,
          882,
          869,
          1054,
          1031,
          1556,
          1676,
          2448,
          1769,
          2644,
          1594,
          1323,
          3333,
          1270,
          970,
          554,
          73,
          128,
          408,
          680,
          240,
          102,
          421,
          720,
          1320,
          1488,
          1053,
          600,
          704,
          2349,
          1643,
          2416,
          1512,
          1056,
          2808,
          787,
          1075,
          1329,
          2434,
          1344,
          882,
          249,
          217,
          662,
          506,
          815,
          1705,
          1125,
          874,
          457,
          589,
          363,
          431,
          331,
          1170,
          475,
          260,
          1080,
          875,
          1680,
          984,
          975,
          924,
          392,
          754,
          198,
          682,
          546,
          214,
          728,
          398,
          594,
          816,
          546,
          1675,
          1058,
          1014,
          825,
          408,
          893,
          1798,
          1265,
          1450,
          1650,
          1620,
          2108,
          609,
          810,
          660,
          590,
          741,
          486,
          490,
          539,
          502,
          1044
         ],
         "xaxis": "x",
         "y": [
          6535,
          6279,
          3228,
          4575,
          4783,
          2624,
          2631,
          1816,
          1446,
          3106,
          6024,
          5137,
          5053,
          3538,
          3450,
          3979,
          4207,
          4687,
          4809,
          4004,
          3942,
          1667,
          1742,
          1367,
          911,
          2178,
          2368,
          1323,
          1469,
          1804,
          1605,
          1545,
          1214,
          1307,
          869,
          1393,
          1274,
          834,
          771,
          869,
          800,
          1784,
          1615,
          10858,
          1573,
          1278,
          58,
          0,
          9022,
          2179,
          404,
          54,
          43,
          69,
          318,
          240,
          136,
          77,
          100,
          840,
          1791,
          2743,
          1307,
          832,
          690,
          1744,
          3384,
          3129,
          1793,
          693,
          3429,
          1907,
          2006,
          1877,
          2139,
          866,
          724,
          452,
          275,
          832,
          366,
          427,
          2249,
          1424,
          527,
          488,
          373,
          189,
          277,
          674,
          2177,
          483,
          177,
          2104,
          3124,
          3982,
          1771,
          1015,
          1706,
          599,
          1506,
          574,
          1088,
          874,
          0,
          1612,
          105,
          418,
          333,
          591,
          878,
          963,
          1759,
          330,
          599,
          1229,
          2015,
          1804,
          2312,
          3133,
          3360,
          3423,
          656,
          939,
          669,
          455,
          457,
          218,
          231,
          323,
          215,
          2258
         ],
         "yaxis": "y"
        },
        {
         "hovertemplate": "Observed=%{x}<br>Model=%{y}<extra></extra>",
         "legendgroup": "",
         "line": {
          "color": "Grey",
          "dash": "solid",
          "width": 2
         },
         "marker": {
          "symbol": "circle"
         },
         "mode": "lines",
         "name": "",
         "orientation": "v",
         "showlegend": false,
         "type": "scatter",
         "x": [
          0.0,
          37.61616161616162,
          75.23232323232324,
          112.84848484848486,
          150.46464646464648,
          188.08080808080808,
          225.69696969696972,
          263.31313131313135,
          300.92929292929296,
          338.54545454545456,
          376.16161616161617,
          413.7777777777778,
          451.39393939393943,
          489.01010101010104,
          526.6262626262627,
          564.2424242424242,
          601.8585858585859,
          639.4747474747476,
          677.0909090909091,
          714.7070707070708,
          752.3232323232323,
          789.939393939394,
          827.5555555555557,
          865.1717171717172,
          902.7878787878789,
          940.4040404040405,
          978.0202020202021,
          1015.6363636363637,
          1053.2525252525254,
          1090.868686868687,
          1128.4848484848485,
          1166.1010101010102,
          1203.7171717171718,
          1241.3333333333335,
          1278.9494949494951,
          1316.5656565656566,
          1354.1818181818182,
          1391.79797979798,
          1429.4141414141416,
          1467.0303030303032,
          1504.6464646464647,
          1542.2626262626263,
          1579.878787878788,
          1617.4949494949497,
          1655.1111111111113,
          1692.727272727273,
          1730.3434343434344,
          1767.959595959596,
          1805.5757575757577,
          1843.1919191919194,
          1880.808080808081,
          1918.4242424242425,
          1956.0404040404042,
          1993.6565656565658,
          2031.2727272727275,
          2068.888888888889,
          2106.505050505051,
          2144.1212121212125,
          2181.737373737374,
          2219.3535353535353,
          2256.969696969697,
          2294.5858585858587,
          2332.2020202020203,
          2369.818181818182,
          2407.4343434343436,
          2445.0505050505053,
          2482.666666666667,
          2520.2828282828286,
          2557.8989898989903,
          2595.515151515152,
          2633.131313131313,
          2670.747474747475,
          2708.3636363636365,
          2745.979797979798,
          2783.59595959596,
          2821.2121212121215,
          2858.828282828283,
          2896.444444444445,
          2934.0606060606065,
          2971.676767676768,
          3009.2929292929293,
          3046.909090909091,
          3084.5252525252527,
          3122.1414141414143,
          3159.757575757576,
          3197.3737373737376,
          3234.9898989898993,
          3272.606060606061,
          3310.2222222222226,
          3347.8383838383843,
          3385.454545454546,
          3423.070707070707,
          3460.686868686869,
          3498.3030303030305,
          3535.919191919192,
          3573.535353535354,
          3611.1515151515155,
          3648.767676767677,
          3686.383838383839,
          3724.0
         ],
         "xaxis": "x",
         "y": [
          -352.224430631665,
          -282.88709737186804,
          -213.5497641120711,
          -144.21243085227414,
          -74.87509759247723,
          -5.537764332680297,
          63.799568927116695,
          133.13690218691363,
          202.4742354467105,
          271.8115687065075,
          341.1489019663044,
          410.48623522610137,
          479.82356848589836,
          549.1609017456952,
          618.4982350054922,
          687.8355682652891,
          757.172901525086,
          826.5102347848831,
          895.84756804468,
          965.1849013044769,
          1034.5222345642737,
          1103.8595678240708,
          1173.1969010838677,
          1242.5342343436646,
          1311.8715676034617,
          1381.2089008632586,
          1450.5462341230555,
          1519.8835673828526,
          1589.2209006426494,
          1658.5582339024465,
          1727.8955671622432,
          1797.2329004220403,
          1866.570233681837,
          1935.907566941634,
          2005.2449002014312,
          2074.5822334612276,
          2143.919566721025,
          2213.256899980822,
          2282.5942332406185,
          2351.931566500416,
          2421.2688997602127,
          2490.6062330200093,
          2559.943566279807,
          2629.2808995396035,
          2698.6182327994,
          2767.9555660591977,
          2837.2928993189944,
          2906.630232578791,
          2975.9675658385886,
          3045.3048990983852,
          3114.642232358182,
          3183.9795656179786,
          3253.316898877776,
          3322.6542321375728,
          3391.9915653973703,
          3461.328898657167,
          3530.6662319169636,
          3600.003565176761,
          3669.340898436558,
          3738.6782316963545,
          3808.015564956151,
          3877.352898215948,
          3946.6902314757453,
          4016.027564735542,
          4085.3648979953387,
          4154.702231255136,
          4224.039564514933,
          4293.37689777473,
          4362.714231034527,
          4432.051564294324,
          4501.38889755412,
          4570.726230813917,
          4640.063564073715,
          4709.400897333511,
          4778.738230593309,
          4848.075563853105,
          4917.412897112902,
          4986.7502303727,
          5056.087563632496,
          5125.424896892294,
          5194.76223015209,
          5264.099563411886,
          5333.436896671684,
          5402.7742299314805,
          5472.111563191278,
          5541.448896451075,
          5610.786229710872,
          5680.123562970669,
          5749.460896230466,
          5818.798229490263,
          5888.13556275006,
          5957.472896009856,
          6026.810229269653,
          6096.14756252945,
          6165.484895789247,
          6234.822229049044,
          6304.1595623088415,
          6373.496895568638,
          6442.834228828435,
          6512.171562088231
         ],
         "yaxis": "y"
        }
       ],
       "layout": {
        "annotations": [
         {
          "align": "right",
          "font": {
           "color": "pink",
           "size": 12
          },
          "showarrow": false,
          "text": "y = x",
          "x": 11400.9,
          "y": 11400.9
         },
         {
          "align": "right",
          "font": {
           "color": "black",
           "size": 12
          },
          "showarrow": false,
          "text": "r^2 = 0.57",
          "x": 3910.2000000000003,
          "y": 6837.780140192644
         }
        ],
        "height": 600,
        "legend": {
         "tracegroupgap": 0
        },
        "margin": {
         "b": 100,
         "l": 100,
         "r": 100,
         "t": 100
        },
        "shapes": [
         {
          "line": {
           "color": "Red",
           "dash": "dash",
           "width": 2
          },
          "type": "line",
          "x0": 0,
          "x1": 10858,
          "y0": 0,
          "y1": 10858
         }
        ],
        "template": {
         "data": {
          "bar": [
           {
            "error_x": {
             "color": "rgb(36,36,36)"
            },
            "error_y": {
             "color": "rgb(36,36,36)"
            },
            "marker": {
             "line": {
              "color": "white",
              "width": 0.5
             },
             "pattern": {
              "fillmode": "overlay",
              "size": 10,
              "solidity": 0.2
             }
            },
            "type": "bar"
           }
          ],
          "barpolar": [
           {
            "marker": {
             "line": {
              "color": "white",
              "width": 0.5
             },
             "pattern": {
              "fillmode": "overlay",
              "size": 10,
              "solidity": 0.2
             }
            },
            "type": "barpolar"
           }
          ],
          "carpet": [
           {
            "aaxis": {
             "endlinecolor": "rgb(36,36,36)",
             "gridcolor": "white",
             "linecolor": "white",
             "minorgridcolor": "white",
             "startlinecolor": "rgb(36,36,36)"
            },
            "baxis": {
             "endlinecolor": "rgb(36,36,36)",
             "gridcolor": "white",
             "linecolor": "white",
             "minorgridcolor": "white",
             "startlinecolor": "rgb(36,36,36)"
            },
            "type": "carpet"
           }
          ],
          "choropleth": [
           {
            "colorbar": {
             "outlinewidth": 1,
             "tickcolor": "rgb(36,36,36)",
             "ticks": "outside"
            },
            "type": "choropleth"
           }
          ],
          "contour": [
           {
            "colorbar": {
             "outlinewidth": 1,
             "tickcolor": "rgb(36,36,36)",
             "ticks": "outside"
            },
            "colorscale": [
             [
              0.0,
              "#440154"
             ],
             [
              0.1111111111111111,
              "#482878"
             ],
             [
              0.2222222222222222,
              "#3e4989"
             ],
             [
              0.3333333333333333,
              "#31688e"
             ],
             [
              0.4444444444444444,
              "#26828e"
             ],
             [
              0.5555555555555556,
              "#1f9e89"
             ],
             [
              0.6666666666666666,
              "#35b779"
             ],
             [
              0.7777777777777778,
              "#6ece58"
             ],
             [
              0.8888888888888888,
              "#b5de2b"
             ],
             [
              1.0,
              "#fde725"
             ]
            ],
            "type": "contour"
           }
          ],
          "contourcarpet": [
           {
            "colorbar": {
             "outlinewidth": 1,
             "tickcolor": "rgb(36,36,36)",
             "ticks": "outside"
            },
            "type": "contourcarpet"
           }
          ],
          "heatmap": [
           {
            "colorbar": {
             "outlinewidth": 1,
             "tickcolor": "rgb(36,36,36)",
             "ticks": "outside"
            },
            "colorscale": [
             [
              0.0,
              "#440154"
             ],
             [
              0.1111111111111111,
              "#482878"
             ],
             [
              0.2222222222222222,
              "#3e4989"
             ],
             [
              0.3333333333333333,
              "#31688e"
             ],
             [
              0.4444444444444444,
              "#26828e"
             ],
             [
              0.5555555555555556,
              "#1f9e89"
             ],
             [
              0.6666666666666666,
              "#35b779"
             ],
             [
              0.7777777777777778,
              "#6ece58"
             ],
             [
              0.8888888888888888,
              "#b5de2b"
             ],
             [
              1.0,
              "#fde725"
             ]
            ],
            "type": "heatmap"
           }
          ],
          "heatmapgl": [
           {
            "colorbar": {
             "outlinewidth": 1,
             "tickcolor": "rgb(36,36,36)",
             "ticks": "outside"
            },
            "colorscale": [
             [
              0.0,
              "#440154"
             ],
             [
              0.1111111111111111,
              "#482878"
             ],
             [
              0.2222222222222222,
              "#3e4989"
             ],
             [
              0.3333333333333333,
              "#31688e"
             ],
             [
              0.4444444444444444,
              "#26828e"
             ],
             [
              0.5555555555555556,
              "#1f9e89"
             ],
             [
              0.6666666666666666,
              "#35b779"
             ],
             [
              0.7777777777777778,
              "#6ece58"
             ],
             [
              0.8888888888888888,
              "#b5de2b"
             ],
             [
              1.0,
              "#fde725"
             ]
            ],
            "type": "heatmapgl"
           }
          ],
          "histogram": [
           {
            "marker": {
             "line": {
              "color": "white",
              "width": 0.6
             }
            },
            "type": "histogram"
           }
          ],
          "histogram2d": [
           {
            "colorbar": {
             "outlinewidth": 1,
             "tickcolor": "rgb(36,36,36)",
             "ticks": "outside"
            },
            "colorscale": [
             [
              0.0,
              "#440154"
             ],
             [
              0.1111111111111111,
              "#482878"
             ],
             [
              0.2222222222222222,
              "#3e4989"
             ],
             [
              0.3333333333333333,
              "#31688e"
             ],
             [
              0.4444444444444444,
              "#26828e"
             ],
             [
              0.5555555555555556,
              "#1f9e89"
             ],
             [
              0.6666666666666666,
              "#35b779"
             ],
             [
              0.7777777777777778,
              "#6ece58"
             ],
             [
              0.8888888888888888,
              "#b5de2b"
             ],
             [
              1.0,
              "#fde725"
             ]
            ],
            "type": "histogram2d"
           }
          ],
          "histogram2dcontour": [
           {
            "colorbar": {
             "outlinewidth": 1,
             "tickcolor": "rgb(36,36,36)",
             "ticks": "outside"
            },
            "colorscale": [
             [
              0.0,
              "#440154"
             ],
             [
              0.1111111111111111,
              "#482878"
             ],
             [
              0.2222222222222222,
              "#3e4989"
             ],
             [
              0.3333333333333333,
              "#31688e"
             ],
             [
              0.4444444444444444,
              "#26828e"
             ],
             [
              0.5555555555555556,
              "#1f9e89"
             ],
             [
              0.6666666666666666,
              "#35b779"
             ],
             [
              0.7777777777777778,
              "#6ece58"
             ],
             [
              0.8888888888888888,
              "#b5de2b"
             ],
             [
              1.0,
              "#fde725"
             ]
            ],
            "type": "histogram2dcontour"
           }
          ],
          "mesh3d": [
           {
            "colorbar": {
             "outlinewidth": 1,
             "tickcolor": "rgb(36,36,36)",
             "ticks": "outside"
            },
            "type": "mesh3d"
           }
          ],
          "parcoords": [
           {
            "line": {
             "colorbar": {
              "outlinewidth": 1,
              "tickcolor": "rgb(36,36,36)",
              "ticks": "outside"
             }
            },
            "type": "parcoords"
           }
          ],
          "pie": [
           {
            "automargin": true,
            "type": "pie"
           }
          ],
          "scatter": [
           {
            "fillpattern": {
             "fillmode": "overlay",
             "size": 10,
             "solidity": 0.2
            },
            "type": "scatter"
           }
          ],
          "scatter3d": [
           {
            "line": {
             "colorbar": {
              "outlinewidth": 1,
              "tickcolor": "rgb(36,36,36)",
              "ticks": "outside"
             }
            },
            "marker": {
             "colorbar": {
              "outlinewidth": 1,
              "tickcolor": "rgb(36,36,36)",
              "ticks": "outside"
             }
            },
            "type": "scatter3d"
           }
          ],
          "scattercarpet": [
           {
            "marker": {
             "colorbar": {
              "outlinewidth": 1,
              "tickcolor": "rgb(36,36,36)",
              "ticks": "outside"
             }
            },
            "type": "scattercarpet"
           }
          ],
          "scattergeo": [
           {
            "marker": {
             "colorbar": {
              "outlinewidth": 1,
              "tickcolor": "rgb(36,36,36)",
              "ticks": "outside"
             }
            },
            "type": "scattergeo"
           }
          ],
          "scattergl": [
           {
            "marker": {
             "colorbar": {
              "outlinewidth": 1,
              "tickcolor": "rgb(36,36,36)",
              "ticks": "outside"
             }
            },
            "type": "scattergl"
           }
          ],
          "scattermapbox": [
           {
            "marker": {
             "colorbar": {
              "outlinewidth": 1,
              "tickcolor": "rgb(36,36,36)",
              "ticks": "outside"
             }
            },
            "type": "scattermapbox"
           }
          ],
          "scatterpolar": [
           {
            "marker": {
             "colorbar": {
              "outlinewidth": 1,
              "tickcolor": "rgb(36,36,36)",
              "ticks": "outside"
             }
            },
            "type": "scatterpolar"
           }
          ],
          "scatterpolargl": [
           {
            "marker": {
             "colorbar": {
              "outlinewidth": 1,
              "tickcolor": "rgb(36,36,36)",
              "ticks": "outside"
             }
            },
            "type": "scatterpolargl"
           }
          ],
          "scatterternary": [
           {
            "marker": {
             "colorbar": {
              "outlinewidth": 1,
              "tickcolor": "rgb(36,36,36)",
              "ticks": "outside"
             }
            },
            "type": "scatterternary"
           }
          ],
          "surface": [
           {
            "colorbar": {
             "outlinewidth": 1,
             "tickcolor": "rgb(36,36,36)",
             "ticks": "outside"
            },
            "colorscale": [
             [
              0.0,
              "#440154"
             ],
             [
              0.1111111111111111,
              "#482878"
             ],
             [
              0.2222222222222222,
              "#3e4989"
             ],
             [
              0.3333333333333333,
              "#31688e"
             ],
             [
              0.4444444444444444,
              "#26828e"
             ],
             [
              0.5555555555555556,
              "#1f9e89"
             ],
             [
              0.6666666666666666,
              "#35b779"
             ],
             [
              0.7777777777777778,
              "#6ece58"
             ],
             [
              0.8888888888888888,
              "#b5de2b"
             ],
             [
              1.0,
              "#fde725"
             ]
            ],
            "type": "surface"
           }
          ],
          "table": [
           {
            "cells": {
             "fill": {
              "color": "rgb(237,237,237)"
             },
             "line": {
              "color": "white"
             }
            },
            "header": {
             "fill": {
              "color": "rgb(217,217,217)"
             },
             "line": {
              "color": "white"
             }
            },
            "type": "table"
           }
          ]
         },
         "layout": {
          "annotationdefaults": {
           "arrowhead": 0,
           "arrowwidth": 1
          },
          "autotypenumbers": "strict",
          "coloraxis": {
           "colorbar": {
            "outlinewidth": 1,
            "tickcolor": "rgb(36,36,36)",
            "ticks": "outside"
           }
          },
          "colorscale": {
           "diverging": [
            [
             0.0,
             "rgb(103,0,31)"
            ],
            [
             0.1,
             "rgb(178,24,43)"
            ],
            [
             0.2,
             "rgb(214,96,77)"
            ],
            [
             0.3,
             "rgb(244,165,130)"
            ],
            [
             0.4,
             "rgb(253,219,199)"
            ],
            [
             0.5,
             "rgb(247,247,247)"
            ],
            [
             0.6,
             "rgb(209,229,240)"
            ],
            [
             0.7,
             "rgb(146,197,222)"
            ],
            [
             0.8,
             "rgb(67,147,195)"
            ],
            [
             0.9,
             "rgb(33,102,172)"
            ],
            [
             1.0,
             "rgb(5,48,97)"
            ]
           ],
           "sequential": [
            [
             0.0,
             "#440154"
            ],
            [
             0.1111111111111111,
             "#482878"
            ],
            [
             0.2222222222222222,
             "#3e4989"
            ],
            [
             0.3333333333333333,
             "#31688e"
            ],
            [
             0.4444444444444444,
             "#26828e"
            ],
            [
             0.5555555555555556,
             "#1f9e89"
            ],
            [
             0.6666666666666666,
             "#35b779"
            ],
            [
             0.7777777777777778,
             "#6ece58"
            ],
            [
             0.8888888888888888,
             "#b5de2b"
            ],
            [
             1.0,
             "#fde725"
            ]
           ],
           "sequentialminus": [
            [
             0.0,
             "#440154"
            ],
            [
             0.1111111111111111,
             "#482878"
            ],
            [
             0.2222222222222222,
             "#3e4989"
            ],
            [
             0.3333333333333333,
             "#31688e"
            ],
            [
             0.4444444444444444,
             "#26828e"
            ],
            [
             0.5555555555555556,
             "#1f9e89"
            ],
            [
             0.6666666666666666,
             "#35b779"
            ],
            [
             0.7777777777777778,
             "#6ece58"
            ],
            [
             0.8888888888888888,
             "#b5de2b"
            ],
            [
             1.0,
             "#fde725"
            ]
           ]
          },
          "colorway": [
           "#91268F",
           "#8CC63E",
           "#00A7A0",
           "#F05A28",
           "#4C4C4C",
           "#630460",
           "#9f3913",
           "#588527",
           "#00716c",
           "#3e4040"
          ],
          "font": {
           "color": "rgb(36,36,36)",
           "family": "Poppins",
           "size": 11
          },
          "geo": {
           "bgcolor": "white",
           "lakecolor": "white",
           "landcolor": "white",
           "showlakes": true,
           "showland": true,
           "subunitcolor": "white"
          },
          "hoverlabel": {
           "align": "left"
          },
          "hovermode": "closest",
          "mapbox": {
           "style": "light"
          },
          "paper_bgcolor": "white",
          "plot_bgcolor": "white",
          "polar": {
           "angularaxis": {
            "gridcolor": "rgb(232,232,232)",
            "linecolor": "rgb(36,36,36)",
            "showgrid": false,
            "showline": true,
            "ticks": "outside"
           },
           "bgcolor": "white",
           "radialaxis": {
            "gridcolor": "rgb(232,232,232)",
            "linecolor": "rgb(36,36,36)",
            "showgrid": false,
            "showline": true,
            "ticks": "outside"
           }
          },
          "scene": {
           "xaxis": {
            "backgroundcolor": "white",
            "gridcolor": "rgb(232,232,232)",
            "gridwidth": 2,
            "linecolor": "rgb(36,36,36)",
            "showbackground": true,
            "showgrid": false,
            "showline": true,
            "ticks": "outside",
            "zeroline": false,
            "zerolinecolor": "rgb(36,36,36)"
           },
           "yaxis": {
            "backgroundcolor": "white",
            "gridcolor": "rgb(232,232,232)",
            "gridwidth": 2,
            "linecolor": "rgb(36,36,36)",
            "showbackground": true,
            "showgrid": false,
            "showline": true,
            "ticks": "outside",
            "zeroline": false,
            "zerolinecolor": "rgb(36,36,36)"
           },
           "zaxis": {
            "backgroundcolor": "white",
            "gridcolor": "rgb(232,232,232)",
            "gridwidth": 2,
            "linecolor": "rgb(36,36,36)",
            "showbackground": true,
            "showgrid": false,
            "showline": true,
            "ticks": "outside",
            "zeroline": false,
            "zerolinecolor": "rgb(36,36,36)"
           }
          },
          "shapedefaults": {
           "fillcolor": "black",
           "line": {
            "width": 0
           },
           "opacity": 0.3
          },
          "ternary": {
           "aaxis": {
            "gridcolor": "rgb(232,232,232)",
            "linecolor": "rgb(36,36,36)",
            "showgrid": false,
            "showline": true,
            "ticks": "outside"
           },
           "baxis": {
            "gridcolor": "rgb(232,232,232)",
            "linecolor": "rgb(36,36,36)",
            "showgrid": false,
            "showline": true,
            "ticks": "outside"
           },
           "bgcolor": "white",
           "caxis": {
            "gridcolor": "rgb(232,232,232)",
            "linecolor": "rgb(36,36,36)",
            "showgrid": false,
            "showline": true,
            "ticks": "outside"
           }
          },
          "title": {
           "x": 0.05
          },
          "xaxis": {
           "automargin": true,
           "gridcolor": "rgb(232,232,232)",
           "linecolor": "rgb(36,36,36)",
           "showgrid": false,
           "showline": true,
           "ticks": "outside",
           "title": {
            "standoff": 15
           },
           "zeroline": false,
           "zerolinecolor": "rgb(36,36,36)"
          },
          "yaxis": {
           "automargin": true,
           "gridcolor": "rgb(232,232,232)",
           "linecolor": "rgb(36,36,36)",
           "showgrid": false,
           "showline": true,
           "ticks": "outside",
           "title": {
            "standoff": 15
           },
           "zeroline": false,
           "zerolinecolor": "rgb(36,36,36)"
          }
         }
        },
        "title": {
         "text": "Medium Trucks: King"
        },
        "width": 800,
        "xaxis": {
         "anchor": "y",
         "domain": [
          0.0,
          1.0
         ],
         "title": {
          "text": "Observed"
         }
        },
        "yaxis": {
         "anchor": "x",
         "domain": [
          0.0,
          1.0
         ],
         "title": {
          "text": "Model"
         }
        }
       }
      },
      "text/html": [
       "<div>                            <div id=\"8069b974-64e7-4425-aa84-33d4a5a4294f\" class=\"plotly-graph-div\" style=\"height:600px; width:800px;\"></div>            <script type=\"text/javascript\">                require([\"plotly\"], function(Plotly) {                    window.PLOTLYENV=window.PLOTLYENV || {};                                    if (document.getElementById(\"8069b974-64e7-4425-aa84-33d4a5a4294f\")) {                    Plotly.newPlot(                        \"8069b974-64e7-4425-aa84-33d4a5a4294f\",                        [{\"customdata\":[[\"I-5 S\\u002fO 205th NB\",\"King\"],[\"I-5 S\\u002fO 205th SB\",\"King\"],[\"I-5 Rev N\\u002fO I-5 GP NB\\u002fSB\",\"King\"],[\"I-90 E\\u002fO I-5 WB\",\"King\"],[\"I-90 E\\u002fO I-5 EB\",\"King\"],[\"I-90 E\\u002fO W Lk Sam WB\",\"King\"],[\"I-90 E\\u002fO W Lk Sam EB\",\"King\"],[\"I-90 E\\u002fO SR-900 WB\",\"King\"],[\"I-405 @ I-5 Southcenter NB\",\"King\"],[\"I-405 @ I-5 Southcenter SB\",\"King\"],[\"I-405 @ Lake Wash Blvd NB\",\"King\"],[\"I-405 @ I-90 NB\",\"King\"],[\"I-405 @ I-90 SB\",\"King\"],[\"SR-520 @ x-lake bridge WB\",\"King\"],[\"SR-520 @ x-lake bridge EB\",\"King\"],[\"SR-167 S\\u002fO 43rd NB\",\"King\"],[\"SR-167 S\\u002fO 43rd SB\",\"King\"],[\"SR-167 N\\u002fO SR-18 NB\",\"King\"],[\"SR-167 N\\u002fO SR-18 SB\",\"King\"],[\"SR-167 S\\u002fO 15th SW NB\",\"King\"],[\"SR-167 S\\u002fO 15th SW SB\",\"King\"],[\"SR-509 @ Holden NB\",\"King\"],[\"SR-509 @ Holden SB\",\"King\"],[\"SR-99 N\\u002fO 14th NB\",\"King\"],[\"SR-99 N\\u002fO 14th SB\",\"King\"],[\"SR-99 N\\u002fO WSF NB\",\"King\"],[\"SR-99 N\\u002fO WSF SB\",\"King\"],[\"SR-99 tunnel NB\",\"King\"],[\"SR-99 tunnel SB\",\"King\"],[\"SR-599 S\\u002fO Pacific NB\",\"King\"],[\"SR-599 S\\u002fO Pacific SB\",\"King\"],[\"SR-599 @ Pacific NB\",\"King\"],[\"SR-599 @ Pacific SB\",\"King\"],[\"SR-18 @ I-5 WB\",\"King\"],[\"SR-18 @ I-5 EB\",\"King\"],[\"SR-18 W\\u002fO Auburn-Black Diamond WB\",\"King\"],[\"SR-18 W\\u002fO Auburn-Black Diamond EB\",\"King\"],[\"SR-18 E\\u002fO SR-516 WB\",\"King\"],[\"SR-18 E\\u002fO SR-516 EB\",\"King\"],[\"SR-18 E\\u002fO 256th WB\",\"King\"],[\"SR-18 E\\u002fO 256th EB\",\"King\"],[\"SR-522 N\\u002fO 195th WB\",\"King\"],[\"SR-522 N\\u002fO 195th EB\",\"King\"],[\"I-5 N\\u002fO I-5 Rev CBD NB\\u002fSB\",\"King\"],[\"I-90 W\\u002fO SR-18 WB\\u002fEB\",\"King\"],[\"I-90 E\\u002fO SR-18 WB\\u002fEB\",\"King\"],[\"I-90 E\\u002fO 436th WB\\u002fEB\",\"King\"],[\"I-90 @ Kittitas County WB\\u002fEB\",\"King\"],[\"I-405 N\\u002fO SR-522 NB\\u002fSB\",\"King\"],[\"SR-167 N\\u002fO Grady NB\\u002fSB\",\"King\"],[\"SR-410 E\\u002fO 244th WB\\u002fEB\",\"King\"],[\"SR-410 E\\u002fO Farman WB\\u002fEB\",\"King\"],[\"SR-410 @ Greenwater River WB\\u002fEB\",\"King\"],[\"SR-509 E\\u002fO 47th NB\\u002fSB\",\"King\"],[\"SR-509 E\\u002fO 21st NB\\u002fSB\",\"King\"],[\"SR-509 W\\u002fO SR-516 NB\\u002fSB\",\"King\"],[\"SR-509 W\\u002fO Des Moines Mem NB\\u002fSB\",\"King\"],[\"SR-509 E\\u002fO 1st Ave NB\\u002fSB\",\"King\"],[\"SR-509 E\\u002fO Des Moines Mem NB\\u002fSB\",\"King\"],[\"SR-509 @ SR-509 ramp overpass NB\\u002fSB\",\"King\"],[\"SR-509 N\\u002fO Des Moines Mem NB\\u002fSB\",\"King\"],[\"SR-509 N\\u002fO SR-518 NB\\u002fSB\",\"King\"],[\"SR-99 S\\u002fO SR-18 NB\\u002fSB\",\"King\"],[\"SR-99 N\\u002fO SR-18 NB\\u002fSB\",\"King\"],[\"SR-99 N\\u002fO 320th NB\\u002fSB\",\"King\"],[\"SR-99 N\\u002fO 188th NB\\u002fSB\",\"King\"],[\"SR-99 @ WSF NB\\u002fSB\",\"King\"],[\"SR-99 @ Aurora Bridge NB\\u002fSB\",\"King\"],[\"SR-99 N\\u002fO 38th NB\\u002fSB\",\"King\"],[\"SR-99 S\\u002fO Roosevelt NB\\u002fSB\",\"King\"],[\"SR-599 N\\u002fO I-5 NB\\u002fSB\",\"King\"],[\"SR-518 @ SR-509 WB\\u002fEB\",\"King\"],[\"SR-518 E\\u002fO SR-509 WB\\u002fEB\",\"King\"],[\"SR-18 E\\u002fO SR-99 WB\\u002fEB\",\"King\"],[\"SR-18 N\\u002fO 304th WB\\u002fEB\",\"King\"],[\"SR-18 S\\u002fO I-90 WB\\u002fEB\",\"King\"],[\"SR-202 @ SR-522 NB\\u002fSB\",\"King\"],[\"SR-202 N\\u002fO 145th NB\\u002fSB\",\"King\"],[\"SR-202 @ Sammamish River Br NB\\u002fSB\",\"King\"],[\"SR-202 S\\u002fO 144th NB\\u002fSB\",\"King\"],[\"SR-202 N\\u002fO Redmond Way NB\\u002fSB\",\"King\"],[\"SR-202 E\\u002fO 164th NB\\u002fSB\",\"King\"],[\"SR-202 E\\u002fO SR-520 NB\\u002fSB\",\"King\"],[\"SR-202 E\\u002fO E Lk Samm NB\\u002fSB\",\"King\"],[\"SR-202 E\\u002fO Sahalee NB\\u002fSB\",\"King\"],[\"SR-202 E\\u002fO 236th NB\\u002fSB\",\"King\"],[\"SR-202 S\\u002fO Ames Lake NB\\u002fSB\",\"King\"],[\"SR-202 S\\u002fO Duthie Hill NB\\u002fSB\",\"King\"],[\"SR-202 E\\u002fO SR-203 NB\\u002fSB\",\"King\"],[\"SR-202 N\\u002fO I-90 NB\\u002fSB\",\"King\"],[\"SR-522 N\\u002fO 145th NB\\u002fSB\",\"King\"],[\"SR-104 W\\u002fO 19th WB\\u002fEB\",\"King\"],[\"SR-516 E\\u002fO SR-509 WB\\u002fEB\",\"King\"],[\"SR-516 W\\u002fO I-5 WB\\u002fEB\",\"King\"],[\"SR-516 E\\u002fO Meeker WB\\u002fEB\",\"King\"],[\"SR-516 W\\u002fO SR-167 WB\\u002fEB\",\"King\"],[\"SR-516 E\\u002fO SR-167 WB\\u002fEB\",\"King\"],[\"SR-516 E\\u002fO SR-18 WB\\u002fEB\",\"King\"],[\"SR-900 S\\u002fO NB I-5 on-ramp @ Boe Acc WB\\u002fEB\",\"King\"],[\"SR-900 E\\u002fO 68th WB\\u002fEB\",\"King\"],[\"SR-900 @ I-405 WB\\u002fEB\",\"King\"],[\"SR-900 E\\u002fO 148th WB\\u002fEB\",\"King\"],[\"SR-900 N\\u002fO Talus WB\\u002fEB\",\"King\"],[\"SR-900 N\\u002fO Newport WB\\u002fEB\",\"King\"],[\"SR-2 E\\u002fO Skykomish WB\\u002fEB\",\"King\"],[\"SR-513 S\\u002fO 44th NB\\u002fSB\",\"King\"],[\"SR-169 N\\u002fO SR-164 NB\\u002fSB\",\"King\"],[\"SR-169 S\\u002fO Lawson NB\\u002fSB\",\"King\"],[\"SR-169 S\\u002fO 276th NB\\u002fSB\",\"King\"],[\"SR-169 N\\u002fO 280th NB\\u002fSB\",\"King\"],[\"SR-169 N\\u002fO 231st NB\\u002fSB\",\"King\"],[\"SR-169 N\\u002fO 232nd NB\\u002fSB\",\"King\"],[\"SR-169 W\\u002fO 140th NB\\u002fSB\",\"King\"],[\"SR-515 N\\u002fO SR-516 NB\\u002fSB\",\"King\"],[\"SR-515 N\\u002fO 108th NB\\u002fSB\",\"King\"],[\"SR-515 N\\u002fO Puget NB\\u002fSB\",\"King\"],[\"SR-181 N\\u002fO SR-516 NB\\u002fSB\",\"King\"],[\"SR-181 S\\u002fO James NB\\u002fSB\",\"King\"],[\"SR-181 N\\u002fO James NB\\u002fSB\",\"King\"],[\"SR-181 N\\u002fO 228th NB\\u002fSB\",\"King\"],[\"SR-181 N\\u002fO 180th NB\\u002fSB\",\"King\"],[\"SR-181 S\\u002fO Longacres NB\\u002fSB\",\"King\"],[\"SR-523 E\\u002fO Lenora WB\\u002fEB\",\"King\"],[\"SR-164 @ SR-18 WB\\u002fEB\",\"King\"],[\"SR-164 S\\u002fO 400th WB\\u002fEB\",\"King\"],[\"SR-203 N\\u002fO Cherry Valley NB\\u002fSB\",\"King\"],[\"SR-203 N\\u002fO 124th NB\\u002fSB\",\"King\"],[\"SR-203 W\\u002fO Stillwater Hill NB\\u002fSB\",\"King\"],[\"SR-203 N\\u002fO Carnation Farm NB\\u002fSB\",\"King\"],[\"SR-203 N\\u002fO Tolt Hill NB\\u002fSB\",\"King\"],[\"SR-203 N\\u002fO SR-202 NB\\u002fSB\",\"King\"],[\"SR-519 W\\u002fO 4th NB\\u002fSB\",\"King\"]],\"hovertemplate\":\"Observed=%{x}\\u003cbr\\u003eModel=%{y}\\u003cbr\\u003elocation=%{customdata[0]}\\u003cbr\\u003eCounty=%{customdata[1]}\\u003cextra\\u003e\\u003c\\u002fextra\\u003e\",\"legendgroup\":\"\",\"marker\":{\"color\":\"#91268F\",\"symbol\":\"circle\"},\"mode\":\"markers\",\"name\":\"\",\"orientation\":\"v\",\"showlegend\":false,\"x\":[1786,1909,645,1525,1405,1400,1380,1329,1046,1702,2618,3724,2998,1030,1032,2276,2432,2405,2415,2776,2536,1806,1814,850,630,1279,1163,1067,968,859,720,1271,842,534,973,1357,1295,882,869,1054,1031,1556,1676,2448,1769,2644,1594,1323,3333,1270,970,554,73,128,408,680,240,102,421,720,1320,1488,1053,600,704,2349,1643,2416,1512,1056,2808,787,1075,1329,2434,1344,882,249,217,662,506,815,1705,1125,874,457,589,363,431,331,1170,475,260,1080,875,1680,984,975,924,392,754,198,682,546,214,728,398,594,816,546,1675,1058,1014,825,408,893,1798,1265,1450,1650,1620,2108,609,810,660,590,741,486,490,539,502,1044],\"xaxis\":\"x\",\"y\":[6535,6279,3228,4575,4783,2624,2631,1816,1446,3106,6024,5137,5053,3538,3450,3979,4207,4687,4809,4004,3942,1667,1742,1367,911,2178,2368,1323,1469,1804,1605,1545,1214,1307,869,1393,1274,834,771,869,800,1784,1615,10858,1573,1278,58,0,9022,2179,404,54,43,69,318,240,136,77,100,840,1791,2743,1307,832,690,1744,3384,3129,1793,693,3429,1907,2006,1877,2139,866,724,452,275,832,366,427,2249,1424,527,488,373,189,277,674,2177,483,177,2104,3124,3982,1771,1015,1706,599,1506,574,1088,874,0,1612,105,418,333,591,878,963,1759,330,599,1229,2015,1804,2312,3133,3360,3423,656,939,669,455,457,218,231,323,215,2258],\"yaxis\":\"y\",\"type\":\"scatter\",\"line\":{\"color\":\"Grey\",\"width\":2}},{\"hovertemplate\":\"Observed=%{x}\\u003cbr\\u003eModel=%{y}\\u003cextra\\u003e\\u003c\\u002fextra\\u003e\",\"legendgroup\":\"\",\"line\":{\"color\":\"Grey\",\"dash\":\"solid\",\"width\":2},\"marker\":{\"symbol\":\"circle\"},\"mode\":\"lines\",\"name\":\"\",\"orientation\":\"v\",\"showlegend\":false,\"x\":[0.0,37.61616161616162,75.23232323232324,112.84848484848486,150.46464646464648,188.08080808080808,225.69696969696972,263.31313131313135,300.92929292929296,338.54545454545456,376.16161616161617,413.7777777777778,451.39393939393943,489.01010101010104,526.6262626262627,564.2424242424242,601.8585858585859,639.4747474747476,677.0909090909091,714.7070707070708,752.3232323232323,789.939393939394,827.5555555555557,865.1717171717172,902.7878787878789,940.4040404040405,978.0202020202021,1015.6363636363637,1053.2525252525254,1090.868686868687,1128.4848484848485,1166.1010101010102,1203.7171717171718,1241.3333333333335,1278.9494949494951,1316.5656565656566,1354.1818181818182,1391.79797979798,1429.4141414141416,1467.0303030303032,1504.6464646464647,1542.2626262626263,1579.878787878788,1617.4949494949497,1655.1111111111113,1692.727272727273,1730.3434343434344,1767.959595959596,1805.5757575757577,1843.1919191919194,1880.808080808081,1918.4242424242425,1956.0404040404042,1993.6565656565658,2031.2727272727275,2068.888888888889,2106.505050505051,2144.1212121212125,2181.737373737374,2219.3535353535353,2256.969696969697,2294.5858585858587,2332.2020202020203,2369.818181818182,2407.4343434343436,2445.0505050505053,2482.666666666667,2520.2828282828286,2557.8989898989903,2595.515151515152,2633.131313131313,2670.747474747475,2708.3636363636365,2745.979797979798,2783.59595959596,2821.2121212121215,2858.828282828283,2896.444444444445,2934.0606060606065,2971.676767676768,3009.2929292929293,3046.909090909091,3084.5252525252527,3122.1414141414143,3159.757575757576,3197.3737373737376,3234.9898989898993,3272.606060606061,3310.2222222222226,3347.8383838383843,3385.454545454546,3423.070707070707,3460.686868686869,3498.3030303030305,3535.919191919192,3573.535353535354,3611.1515151515155,3648.767676767677,3686.383838383839,3724.0],\"xaxis\":\"x\",\"y\":[-352.224430631665,-282.88709737186804,-213.5497641120711,-144.21243085227414,-74.87509759247723,-5.537764332680297,63.799568927116695,133.13690218691363,202.4742354467105,271.8115687065075,341.1489019663044,410.48623522610137,479.82356848589836,549.1609017456952,618.4982350054922,687.8355682652891,757.172901525086,826.5102347848831,895.84756804468,965.1849013044769,1034.5222345642737,1103.8595678240708,1173.1969010838677,1242.5342343436646,1311.8715676034617,1381.2089008632586,1450.5462341230555,1519.8835673828526,1589.2209006426494,1658.5582339024465,1727.8955671622432,1797.2329004220403,1866.570233681837,1935.907566941634,2005.2449002014312,2074.5822334612276,2143.919566721025,2213.256899980822,2282.5942332406185,2351.931566500416,2421.2688997602127,2490.6062330200093,2559.943566279807,2629.2808995396035,2698.6182327994,2767.9555660591977,2837.2928993189944,2906.630232578791,2975.9675658385886,3045.3048990983852,3114.642232358182,3183.9795656179786,3253.316898877776,3322.6542321375728,3391.9915653973703,3461.328898657167,3530.6662319169636,3600.003565176761,3669.340898436558,3738.6782316963545,3808.015564956151,3877.352898215948,3946.6902314757453,4016.027564735542,4085.3648979953387,4154.702231255136,4224.039564514933,4293.37689777473,4362.714231034527,4432.051564294324,4501.38889755412,4570.726230813917,4640.063564073715,4709.400897333511,4778.738230593309,4848.075563853105,4917.412897112902,4986.7502303727,5056.087563632496,5125.424896892294,5194.76223015209,5264.099563411886,5333.436896671684,5402.7742299314805,5472.111563191278,5541.448896451075,5610.786229710872,5680.123562970669,5749.460896230466,5818.798229490263,5888.13556275006,5957.472896009856,6026.810229269653,6096.14756252945,6165.484895789247,6234.822229049044,6304.1595623088415,6373.496895568638,6442.834228828435,6512.171562088231],\"yaxis\":\"y\",\"type\":\"scatter\"}],                        {\"template\":{\"data\":{\"barpolar\":[{\"marker\":{\"line\":{\"color\":\"white\",\"width\":0.5},\"pattern\":{\"fillmode\":\"overlay\",\"size\":10,\"solidity\":0.2}},\"type\":\"barpolar\"}],\"bar\":[{\"error_x\":{\"color\":\"rgb(36,36,36)\"},\"error_y\":{\"color\":\"rgb(36,36,36)\"},\"marker\":{\"line\":{\"color\":\"white\",\"width\":0.5},\"pattern\":{\"fillmode\":\"overlay\",\"size\":10,\"solidity\":0.2}},\"type\":\"bar\"}],\"carpet\":[{\"aaxis\":{\"endlinecolor\":\"rgb(36,36,36)\",\"gridcolor\":\"white\",\"linecolor\":\"white\",\"minorgridcolor\":\"white\",\"startlinecolor\":\"rgb(36,36,36)\"},\"baxis\":{\"endlinecolor\":\"rgb(36,36,36)\",\"gridcolor\":\"white\",\"linecolor\":\"white\",\"minorgridcolor\":\"white\",\"startlinecolor\":\"rgb(36,36,36)\"},\"type\":\"carpet\"}],\"choropleth\":[{\"colorbar\":{\"outlinewidth\":1,\"tickcolor\":\"rgb(36,36,36)\",\"ticks\":\"outside\"},\"type\":\"choropleth\"}],\"contourcarpet\":[{\"colorbar\":{\"outlinewidth\":1,\"tickcolor\":\"rgb(36,36,36)\",\"ticks\":\"outside\"},\"type\":\"contourcarpet\"}],\"contour\":[{\"colorbar\":{\"outlinewidth\":1,\"tickcolor\":\"rgb(36,36,36)\",\"ticks\":\"outside\"},\"colorscale\":[[0.0,\"#440154\"],[0.1111111111111111,\"#482878\"],[0.2222222222222222,\"#3e4989\"],[0.3333333333333333,\"#31688e\"],[0.4444444444444444,\"#26828e\"],[0.5555555555555556,\"#1f9e89\"],[0.6666666666666666,\"#35b779\"],[0.7777777777777778,\"#6ece58\"],[0.8888888888888888,\"#b5de2b\"],[1.0,\"#fde725\"]],\"type\":\"contour\"}],\"heatmapgl\":[{\"colorbar\":{\"outlinewidth\":1,\"tickcolor\":\"rgb(36,36,36)\",\"ticks\":\"outside\"},\"colorscale\":[[0.0,\"#440154\"],[0.1111111111111111,\"#482878\"],[0.2222222222222222,\"#3e4989\"],[0.3333333333333333,\"#31688e\"],[0.4444444444444444,\"#26828e\"],[0.5555555555555556,\"#1f9e89\"],[0.6666666666666666,\"#35b779\"],[0.7777777777777778,\"#6ece58\"],[0.8888888888888888,\"#b5de2b\"],[1.0,\"#fde725\"]],\"type\":\"heatmapgl\"}],\"heatmap\":[{\"colorbar\":{\"outlinewidth\":1,\"tickcolor\":\"rgb(36,36,36)\",\"ticks\":\"outside\"},\"colorscale\":[[0.0,\"#440154\"],[0.1111111111111111,\"#482878\"],[0.2222222222222222,\"#3e4989\"],[0.3333333333333333,\"#31688e\"],[0.4444444444444444,\"#26828e\"],[0.5555555555555556,\"#1f9e89\"],[0.6666666666666666,\"#35b779\"],[0.7777777777777778,\"#6ece58\"],[0.8888888888888888,\"#b5de2b\"],[1.0,\"#fde725\"]],\"type\":\"heatmap\"}],\"histogram2dcontour\":[{\"colorbar\":{\"outlinewidth\":1,\"tickcolor\":\"rgb(36,36,36)\",\"ticks\":\"outside\"},\"colorscale\":[[0.0,\"#440154\"],[0.1111111111111111,\"#482878\"],[0.2222222222222222,\"#3e4989\"],[0.3333333333333333,\"#31688e\"],[0.4444444444444444,\"#26828e\"],[0.5555555555555556,\"#1f9e89\"],[0.6666666666666666,\"#35b779\"],[0.7777777777777778,\"#6ece58\"],[0.8888888888888888,\"#b5de2b\"],[1.0,\"#fde725\"]],\"type\":\"histogram2dcontour\"}],\"histogram2d\":[{\"colorbar\":{\"outlinewidth\":1,\"tickcolor\":\"rgb(36,36,36)\",\"ticks\":\"outside\"},\"colorscale\":[[0.0,\"#440154\"],[0.1111111111111111,\"#482878\"],[0.2222222222222222,\"#3e4989\"],[0.3333333333333333,\"#31688e\"],[0.4444444444444444,\"#26828e\"],[0.5555555555555556,\"#1f9e89\"],[0.6666666666666666,\"#35b779\"],[0.7777777777777778,\"#6ece58\"],[0.8888888888888888,\"#b5de2b\"],[1.0,\"#fde725\"]],\"type\":\"histogram2d\"}],\"histogram\":[{\"marker\":{\"line\":{\"color\":\"white\",\"width\":0.6}},\"type\":\"histogram\"}],\"mesh3d\":[{\"colorbar\":{\"outlinewidth\":1,\"tickcolor\":\"rgb(36,36,36)\",\"ticks\":\"outside\"},\"type\":\"mesh3d\"}],\"parcoords\":[{\"line\":{\"colorbar\":{\"outlinewidth\":1,\"tickcolor\":\"rgb(36,36,36)\",\"ticks\":\"outside\"}},\"type\":\"parcoords\"}],\"pie\":[{\"automargin\":true,\"type\":\"pie\"}],\"scatter3d\":[{\"line\":{\"colorbar\":{\"outlinewidth\":1,\"tickcolor\":\"rgb(36,36,36)\",\"ticks\":\"outside\"}},\"marker\":{\"colorbar\":{\"outlinewidth\":1,\"tickcolor\":\"rgb(36,36,36)\",\"ticks\":\"outside\"}},\"type\":\"scatter3d\"}],\"scattercarpet\":[{\"marker\":{\"colorbar\":{\"outlinewidth\":1,\"tickcolor\":\"rgb(36,36,36)\",\"ticks\":\"outside\"}},\"type\":\"scattercarpet\"}],\"scattergeo\":[{\"marker\":{\"colorbar\":{\"outlinewidth\":1,\"tickcolor\":\"rgb(36,36,36)\",\"ticks\":\"outside\"}},\"type\":\"scattergeo\"}],\"scattergl\":[{\"marker\":{\"colorbar\":{\"outlinewidth\":1,\"tickcolor\":\"rgb(36,36,36)\",\"ticks\":\"outside\"}},\"type\":\"scattergl\"}],\"scattermapbox\":[{\"marker\":{\"colorbar\":{\"outlinewidth\":1,\"tickcolor\":\"rgb(36,36,36)\",\"ticks\":\"outside\"}},\"type\":\"scattermapbox\"}],\"scatterpolargl\":[{\"marker\":{\"colorbar\":{\"outlinewidth\":1,\"tickcolor\":\"rgb(36,36,36)\",\"ticks\":\"outside\"}},\"type\":\"scatterpolargl\"}],\"scatterpolar\":[{\"marker\":{\"colorbar\":{\"outlinewidth\":1,\"tickcolor\":\"rgb(36,36,36)\",\"ticks\":\"outside\"}},\"type\":\"scatterpolar\"}],\"scatter\":[{\"fillpattern\":{\"fillmode\":\"overlay\",\"size\":10,\"solidity\":0.2},\"type\":\"scatter\"}],\"scatterternary\":[{\"marker\":{\"colorbar\":{\"outlinewidth\":1,\"tickcolor\":\"rgb(36,36,36)\",\"ticks\":\"outside\"}},\"type\":\"scatterternary\"}],\"surface\":[{\"colorbar\":{\"outlinewidth\":1,\"tickcolor\":\"rgb(36,36,36)\",\"ticks\":\"outside\"},\"colorscale\":[[0.0,\"#440154\"],[0.1111111111111111,\"#482878\"],[0.2222222222222222,\"#3e4989\"],[0.3333333333333333,\"#31688e\"],[0.4444444444444444,\"#26828e\"],[0.5555555555555556,\"#1f9e89\"],[0.6666666666666666,\"#35b779\"],[0.7777777777777778,\"#6ece58\"],[0.8888888888888888,\"#b5de2b\"],[1.0,\"#fde725\"]],\"type\":\"surface\"}],\"table\":[{\"cells\":{\"fill\":{\"color\":\"rgb(237,237,237)\"},\"line\":{\"color\":\"white\"}},\"header\":{\"fill\":{\"color\":\"rgb(217,217,217)\"},\"line\":{\"color\":\"white\"}},\"type\":\"table\"}]},\"layout\":{\"annotationdefaults\":{\"arrowhead\":0,\"arrowwidth\":1},\"autotypenumbers\":\"strict\",\"coloraxis\":{\"colorbar\":{\"outlinewidth\":1,\"tickcolor\":\"rgb(36,36,36)\",\"ticks\":\"outside\"}},\"colorscale\":{\"diverging\":[[0.0,\"rgb(103,0,31)\"],[0.1,\"rgb(178,24,43)\"],[0.2,\"rgb(214,96,77)\"],[0.3,\"rgb(244,165,130)\"],[0.4,\"rgb(253,219,199)\"],[0.5,\"rgb(247,247,247)\"],[0.6,\"rgb(209,229,240)\"],[0.7,\"rgb(146,197,222)\"],[0.8,\"rgb(67,147,195)\"],[0.9,\"rgb(33,102,172)\"],[1.0,\"rgb(5,48,97)\"]],\"sequential\":[[0.0,\"#440154\"],[0.1111111111111111,\"#482878\"],[0.2222222222222222,\"#3e4989\"],[0.3333333333333333,\"#31688e\"],[0.4444444444444444,\"#26828e\"],[0.5555555555555556,\"#1f9e89\"],[0.6666666666666666,\"#35b779\"],[0.7777777777777778,\"#6ece58\"],[0.8888888888888888,\"#b5de2b\"],[1.0,\"#fde725\"]],\"sequentialminus\":[[0.0,\"#440154\"],[0.1111111111111111,\"#482878\"],[0.2222222222222222,\"#3e4989\"],[0.3333333333333333,\"#31688e\"],[0.4444444444444444,\"#26828e\"],[0.5555555555555556,\"#1f9e89\"],[0.6666666666666666,\"#35b779\"],[0.7777777777777778,\"#6ece58\"],[0.8888888888888888,\"#b5de2b\"],[1.0,\"#fde725\"]]},\"colorway\":[\"#91268F\",\"#8CC63E\",\"#00A7A0\",\"#F05A28\",\"#4C4C4C\",\"#630460\",\"#9f3913\",\"#588527\",\"#00716c\",\"#3e4040\"],\"font\":{\"color\":\"rgb(36,36,36)\",\"family\":\"Poppins\",\"size\":11},\"geo\":{\"bgcolor\":\"white\",\"lakecolor\":\"white\",\"landcolor\":\"white\",\"showlakes\":true,\"showland\":true,\"subunitcolor\":\"white\"},\"hoverlabel\":{\"align\":\"left\"},\"hovermode\":\"closest\",\"mapbox\":{\"style\":\"light\"},\"paper_bgcolor\":\"white\",\"plot_bgcolor\":\"white\",\"polar\":{\"angularaxis\":{\"gridcolor\":\"rgb(232,232,232)\",\"linecolor\":\"rgb(36,36,36)\",\"showgrid\":false,\"showline\":true,\"ticks\":\"outside\"},\"bgcolor\":\"white\",\"radialaxis\":{\"gridcolor\":\"rgb(232,232,232)\",\"linecolor\":\"rgb(36,36,36)\",\"showgrid\":false,\"showline\":true,\"ticks\":\"outside\"}},\"scene\":{\"xaxis\":{\"backgroundcolor\":\"white\",\"gridcolor\":\"rgb(232,232,232)\",\"gridwidth\":2,\"linecolor\":\"rgb(36,36,36)\",\"showbackground\":true,\"showgrid\":false,\"showline\":true,\"ticks\":\"outside\",\"zeroline\":false,\"zerolinecolor\":\"rgb(36,36,36)\"},\"yaxis\":{\"backgroundcolor\":\"white\",\"gridcolor\":\"rgb(232,232,232)\",\"gridwidth\":2,\"linecolor\":\"rgb(36,36,36)\",\"showbackground\":true,\"showgrid\":false,\"showline\":true,\"ticks\":\"outside\",\"zeroline\":false,\"zerolinecolor\":\"rgb(36,36,36)\"},\"zaxis\":{\"backgroundcolor\":\"white\",\"gridcolor\":\"rgb(232,232,232)\",\"gridwidth\":2,\"linecolor\":\"rgb(36,36,36)\",\"showbackground\":true,\"showgrid\":false,\"showline\":true,\"ticks\":\"outside\",\"zeroline\":false,\"zerolinecolor\":\"rgb(36,36,36)\"}},\"shapedefaults\":{\"fillcolor\":\"black\",\"line\":{\"width\":0},\"opacity\":0.3},\"ternary\":{\"aaxis\":{\"gridcolor\":\"rgb(232,232,232)\",\"linecolor\":\"rgb(36,36,36)\",\"showgrid\":false,\"showline\":true,\"ticks\":\"outside\"},\"baxis\":{\"gridcolor\":\"rgb(232,232,232)\",\"linecolor\":\"rgb(36,36,36)\",\"showgrid\":false,\"showline\":true,\"ticks\":\"outside\"},\"bgcolor\":\"white\",\"caxis\":{\"gridcolor\":\"rgb(232,232,232)\",\"linecolor\":\"rgb(36,36,36)\",\"showgrid\":false,\"showline\":true,\"ticks\":\"outside\"}},\"title\":{\"x\":0.05},\"xaxis\":{\"automargin\":true,\"gridcolor\":\"rgb(232,232,232)\",\"linecolor\":\"rgb(36,36,36)\",\"showgrid\":false,\"showline\":true,\"ticks\":\"outside\",\"title\":{\"standoff\":15},\"zeroline\":false,\"zerolinecolor\":\"rgb(36,36,36)\"},\"yaxis\":{\"automargin\":true,\"gridcolor\":\"rgb(232,232,232)\",\"linecolor\":\"rgb(36,36,36)\",\"showgrid\":false,\"showline\":true,\"ticks\":\"outside\",\"title\":{\"standoff\":15},\"zeroline\":false,\"zerolinecolor\":\"rgb(36,36,36)\"}}},\"xaxis\":{\"anchor\":\"y\",\"domain\":[0.0,1.0],\"title\":{\"text\":\"Observed\"}},\"yaxis\":{\"anchor\":\"x\",\"domain\":[0.0,1.0],\"title\":{\"text\":\"Model\"}},\"legend\":{\"tracegroupgap\":0},\"title\":{\"text\":\"Medium Trucks: King\"},\"margin\":{\"l\":100,\"r\":100,\"t\":100,\"b\":100},\"height\":600,\"width\":800,\"shapes\":[{\"line\":{\"color\":\"Red\",\"dash\":\"dash\",\"width\":2},\"type\":\"line\",\"x0\":0,\"x1\":10858,\"y0\":0,\"y1\":10858}],\"annotations\":[{\"align\":\"right\",\"font\":{\"color\":\"pink\",\"size\":12},\"showarrow\":false,\"text\":\"y = x\",\"x\":11400.9,\"y\":11400.9},{\"align\":\"right\",\"font\":{\"color\":\"black\",\"size\":12},\"showarrow\":false,\"text\":\"r^2 = 0.57\",\"x\":3910.2000000000003,\"y\":6837.780140192644}]},                        {\"responsive\": true}                    ).then(function(){\n",
       "                            \n",
       "var gd = document.getElementById('8069b974-64e7-4425-aa84-33d4a5a4294f');\n",
       "var x = new MutationObserver(function (mutations, observer) {{\n",
       "        var display = window.getComputedStyle(gd).display;\n",
       "        if (!display || display === 'none') {{\n",
       "            console.log([gd, 'removed!']);\n",
       "            Plotly.purge(gd);\n",
       "            observer.disconnect();\n",
       "        }}\n",
       "}});\n",
       "\n",
       "// Listen for the removal of the full notebook cells\n",
       "var notebookContainer = gd.closest('#notebook-container');\n",
       "if (notebookContainer) {{\n",
       "    x.observe(notebookContainer, {childList: true});\n",
       "}}\n",
       "\n",
       "// Listen for the clearing of the current output cell\n",
       "var outputEl = gd.closest('.output');\n",
       "if (outputEl) {{\n",
       "    x.observe(outputEl, {childList: true});\n",
       "}}\n",
       "\n",
       "                        })                };                });            </script>        </div>"
      ]
     },
     "metadata": {},
     "output_type": "display_data"
    }
   ],
   "source": [
    "fig = create_truck_chart(df_daily_med, 'Medium', 'King')\n",
    "fig.show()"
   ]
  },
  {
   "cell_type": "raw",
   "id": "5e3e1423",
   "metadata": {},
   "source": [
    "#### Kitsap"
   ]
  },
  {
   "cell_type": "code",
   "execution_count": 31,
   "id": "adf23089",
   "metadata": {},
   "outputs": [
    {
     "data": {
      "application/vnd.plotly.v1+json": {
       "config": {
        "plotlyServerURL": "https://plot.ly"
       },
       "data": [
        {
         "customdata": [
          [
           "SR-16  N/O SR-302 NB/SB",
           "Kitsap"
          ],
          [
           "SR-16 N/O SR-160 NB/SB",
           "Kitsap"
          ],
          [
           "SR-16 N/O Tremont NB/SB",
           "Kitsap"
          ],
          [
           "SR-16 S/O SR-3 NB",
           "Kitsap"
          ],
          [
           "SR-104 @ Hood Canal Bridge WB/EB",
           "Kitsap"
          ],
          [
           "SR-104 E/O Hood Canal Bridge WB/EB",
           "Kitsap"
          ],
          [
           "SR-104 N/O Pt Gamble Rd WB/EB",
           "Kitsap"
          ],
          [
           "SR-104 E/O SR-307 WB/EB",
           "Kitsap"
          ],
          [
           "SR-104 E/O Hansville WB/EB",
           "Kitsap"
          ],
          [
           "SR-160 @ SR-16 WB/EB",
           "Kitsap"
          ],
          [
           "SR-160 E/O Long Lake Rd WB/EB",
           "Kitsap"
          ],
          [
           "SR-160 W/O Banner WB/EB",
           "Kitsap"
          ],
          [
           "SR-160 E/O Peterson WB/EB",
           "Kitsap"
          ],
          [
           "SR-160 S/O Southworth Dr WB/EB",
           "Kitsap"
          ],
          [
           "SR-166 E/O SR-16 WB/EB",
           "Kitsap"
          ],
          [
           "SR-3 E/O Sunset Way NB/SB",
           "Kitsap"
          ],
          [
           "SR-3 N/O SR-305 NB/SB",
           "Kitsap"
          ],
          [
           "SR-3 S/O Newberry Hill Rd NB/SB",
           "Kitsap"
          ],
          [
           "SR-3 @ SR-304 NB/SB",
           "Kitsap"
          ],
          [
           "SR-3 NE of SR-16 NB/SB",
           "Kitsap"
          ],
          [
           "SR-3 W/O Lake Flora Rd NB/SB",
           "Kitsap"
          ],
          [
           "SR-303 E/O SR-3 NB/SB",
           "Kitsap"
          ],
          [
           "SR-303 N/O 11th St NB/SB",
           "Kitsap"
          ],
          [
           "SR-303 N/O SR-304 NB/SB",
           "Kitsap"
          ],
          [
           "SR-304 E/O SR-3 WB/EB",
           "Kitsap"
          ],
          [
           "SR-304 W/O Naval WB/EB",
           "Kitsap"
          ],
          [
           "SR-305 W/O SR-307 WB/EB",
           "Kitsap"
          ],
          [
           "SR-305 W/O Suquamish Way WB/EB",
           "Kitsap"
          ],
          [
           "SR-305 N/O Day Rd WB/EB",
           "Kitsap"
          ],
          [
           "SR-305 N/O High School Rd WB/EB",
           "Kitsap"
          ],
          [
           "SR-305 S/O Winslow Way WB/EB",
           "Kitsap"
          ],
          [
           "SR-305 @ Ferry Ramp WB/EB",
           "Kitsap"
          ],
          [
           "SR-307 W/O SR-104 NB/SB",
           "Kitsap"
          ],
          [
           "SR-307 N/O Gunderson NB/SB",
           "Kitsap"
          ],
          [
           "SR-307 S/O Gunderson NB/SB",
           "Kitsap"
          ],
          [
           "SR-307 N/O SR-305 NB/SB",
           "Kitsap"
          ],
          [
           "SR-308 @ SR-3 WB/EB",
           "Kitsap"
          ],
          [
           "SR-308 E/O SR-3 WB/EB",
           "Kitsap"
          ],
          [
           "SR-308 E/O Silverdale Way WB/EB",
           "Kitsap"
          ],
          [
           "SR-308 W/O Brownsville Hwy WB/EB",
           "Kitsap"
          ],
          [
           "SR-310 @ SR-3 WB/EB",
           "Kitsap"
          ],
          [
           "SR-310 W/O Callow WB/EB",
           "Kitsap"
          ]
         ],
         "hovertemplate": "Observed=%{x}<br>Model=%{y}<br>location=%{customdata[0]}<br>County=%{customdata[1]}<extra></extra>",
         "legendgroup": "",
         "line": {
          "color": "Grey",
          "width": 2
         },
         "marker": {
          "color": "#91268F",
          "symbol": "circle"
         },
         "mode": "markers",
         "name": "",
         "orientation": "v",
         "showlegend": false,
         "type": "scatter",
         "x": [
          2336,
          1997,
          2251,
          2041,
          702,
          197,
          215,
          512,
          288,
          475,
          525,
          408,
          233,
          86,
          280,
          1258,
          1725,
          2074,
          1768,
          3230,
          864,
          972,
          1008,
          434,
          810,
          609,
          1102,
          660,
          600,
          468,
          265,
          221,
          714,
          476,
          612,
          680,
          156,
          199,
          263,
          230,
          897,
          286
         ],
         "xaxis": "x",
         "y": [
          4147,
          3357,
          3561,
          2003,
          0,
          25,
          18,
          222,
          155,
          562,
          180,
          136,
          185,
          70,
          414,
          55,
          204,
          2552,
          2574,
          4137,
          0,
          850,
          957,
          331,
          1654,
          829,
          1662,
          1039,
          1098,
          157,
          67,
          67,
          277,
          321,
          588,
          610,
          112,
          118,
          199,
          130,
          373,
          144
         ],
         "yaxis": "y"
        },
        {
         "hovertemplate": "Observed=%{x}<br>Model=%{y}<extra></extra>",
         "legendgroup": "",
         "line": {
          "color": "Grey",
          "dash": "solid",
          "width": 2
         },
         "marker": {
          "symbol": "circle"
         },
         "mode": "lines",
         "name": "",
         "orientation": "v",
         "showlegend": false,
         "type": "scatter",
         "x": [
          0.0,
          32.62626262626262,
          65.25252525252525,
          97.87878787878788,
          130.5050505050505,
          163.1313131313131,
          195.75757575757575,
          228.38383838383837,
          261.010101010101,
          293.6363636363636,
          326.2626262626262,
          358.88888888888886,
          391.5151515151515,
          424.1414141414141,
          456.76767676767673,
          489.3939393939393,
          522.020202020202,
          554.6464646464646,
          587.2727272727273,
          619.8989898989898,
          652.5252525252524,
          685.1515151515151,
          717.7777777777777,
          750.4040404040403,
          783.030303030303,
          815.6565656565656,
          848.2828282828282,
          880.9090909090908,
          913.5353535353535,
          946.161616161616,
          978.7878787878786,
          1011.4141414141413,
          1044.040404040404,
          1076.6666666666665,
          1109.292929292929,
          1141.9191919191917,
          1174.5454545454545,
          1207.171717171717,
          1239.7979797979797,
          1272.4242424242423,
          1305.0505050505049,
          1337.6767676767674,
          1370.3030303030303,
          1402.9292929292928,
          1435.5555555555554,
          1468.181818181818,
          1500.8080808080806,
          1533.4343434343432,
          1566.060606060606,
          1598.6868686868686,
          1631.3131313131312,
          1663.9393939393938,
          1696.5656565656564,
          1729.191919191919,
          1761.8181818181815,
          1794.4444444444443,
          1827.070707070707,
          1859.6969696969695,
          1892.323232323232,
          1924.9494949494947,
          1957.5757575757573,
          1990.20202020202,
          2022.8282828282827,
          2055.454545454545,
          2088.080808080808,
          2120.7070707070707,
          2153.333333333333,
          2185.959595959596,
          2218.585858585858,
          2251.212121212121,
          2283.8383838383834,
          2316.464646464646,
          2349.090909090909,
          2381.7171717171714,
          2414.343434343434,
          2446.9696969696965,
          2479.5959595959594,
          2512.222222222222,
          2544.8484848484845,
          2577.4747474747473,
          2610.1010101010097,
          2642.7272727272725,
          2675.353535353535,
          2707.9797979797977,
          2740.6060606060605,
          2773.232323232323,
          2805.8585858585857,
          2838.484848484848,
          2871.111111111111,
          2903.737373737373,
          2936.363636363636,
          2968.989898989899,
          3001.616161616161,
          3034.242424242424,
          3066.8686868686864,
          3099.494949494949,
          3132.121212121212,
          3164.7474747474744,
          3197.373737373737,
          3230.0
         ],
         "xaxis": "x",
         "y": [
          -311.2012471575937,
          -265.49415166616933,
          -219.78705617474495,
          -174.07996068332056,
          -128.3728651918962,
          -82.66576970047183,
          -36.958674209047444,
          8.74842128237691,
          54.455516773801264,
          100.16261226522568,
          145.86970775665003,
          191.57680324807444,
          237.2838987394988,
          282.9909942309231,
          328.6980897223475,
          374.4051852137719,
          420.1122807051962,
          465.8193761966206,
          511.52647168804504,
          557.2335671794693,
          602.9406626708937,
          648.6477581623182,
          694.3548536537426,
          740.0619491451667,
          785.7690446365913,
          831.4761401280156,
          877.1832356194399,
          922.8903311108644,
          968.5974266022887,
          1014.304522093713,
          1060.0116175851376,
          1105.718713076562,
          1151.4258085679862,
          1197.1329040594105,
          1242.8399995508348,
          1288.5470950422591,
          1334.2541905336839,
          1379.9612860251082,
          1425.6683815165325,
          1471.3754770079568,
          1517.082572499381,
          1562.7896679908054,
          1608.49676348223,
          1654.2038589736544,
          1699.9109544650787,
          1745.618049956503,
          1791.3251454479273,
          1837.0322409393516,
          1882.7393364307763,
          1928.4464319222006,
          1974.153527413625,
          2019.8606229050492,
          2065.5677183964735,
          2111.274813887898,
          2156.9819093793226,
          2202.689004870747,
          2248.396100362171,
          2294.1031958535955,
          2339.81029134502,
          2385.517386836444,
          2431.224482327869,
          2476.931577819293,
          2522.6386733107174,
          2568.3457688021417,
          2614.052864293566,
          2659.7599597849908,
          2705.467055276415,
          2751.1741507678394,
          2796.8812462592637,
          2842.588341750688,
          2888.2954372421123,
          2934.002532733537,
          2979.7096282249613,
          3025.4167237163856,
          3071.12381920781,
          3116.830914699234,
          3162.5380101906585,
          3208.2451056820832,
          3253.9522011735075,
          3299.659296664932,
          3345.366392156356,
          3391.0734876477804,
          3436.7805831392047,
          3482.4876786306295,
          3528.194774122054,
          3573.901869613478,
          3619.6089651049024,
          3665.3160605963267,
          3711.0231560877514,
          3756.7302515791753,
          3802.4373470705996,
          3848.144442562025,
          3893.851538053448,
          3939.5586335448734,
          3985.2657290362968,
          4030.972824527722,
          4076.6799200191463,
          4122.387015510571,
          4168.094111001995,
          4213.80120649342
         ],
         "yaxis": "y"
        }
       ],
       "layout": {
        "annotations": [
         {
          "align": "right",
          "font": {
           "color": "pink",
           "size": 12
          },
          "showarrow": false,
          "text": "y = x",
          "x": 4354.35,
          "y": 4354.35
         },
         {
          "align": "right",
          "font": {
           "color": "black",
           "size": 12
          },
          "showarrow": false,
          "text": "r^2 = 0.78",
          "x": 3391.5,
          "y": 4424.491266818091
         }
        ],
        "height": 600,
        "legend": {
         "tracegroupgap": 0
        },
        "margin": {
         "b": 100,
         "l": 100,
         "r": 100,
         "t": 100
        },
        "shapes": [
         {
          "line": {
           "color": "Red",
           "dash": "dash",
           "width": 2
          },
          "type": "line",
          "x0": 0,
          "x1": 4147,
          "y0": 0,
          "y1": 4147
         }
        ],
        "template": {
         "data": {
          "bar": [
           {
            "error_x": {
             "color": "rgb(36,36,36)"
            },
            "error_y": {
             "color": "rgb(36,36,36)"
            },
            "marker": {
             "line": {
              "color": "white",
              "width": 0.5
             },
             "pattern": {
              "fillmode": "overlay",
              "size": 10,
              "solidity": 0.2
             }
            },
            "type": "bar"
           }
          ],
          "barpolar": [
           {
            "marker": {
             "line": {
              "color": "white",
              "width": 0.5
             },
             "pattern": {
              "fillmode": "overlay",
              "size": 10,
              "solidity": 0.2
             }
            },
            "type": "barpolar"
           }
          ],
          "carpet": [
           {
            "aaxis": {
             "endlinecolor": "rgb(36,36,36)",
             "gridcolor": "white",
             "linecolor": "white",
             "minorgridcolor": "white",
             "startlinecolor": "rgb(36,36,36)"
            },
            "baxis": {
             "endlinecolor": "rgb(36,36,36)",
             "gridcolor": "white",
             "linecolor": "white",
             "minorgridcolor": "white",
             "startlinecolor": "rgb(36,36,36)"
            },
            "type": "carpet"
           }
          ],
          "choropleth": [
           {
            "colorbar": {
             "outlinewidth": 1,
             "tickcolor": "rgb(36,36,36)",
             "ticks": "outside"
            },
            "type": "choropleth"
           }
          ],
          "contour": [
           {
            "colorbar": {
             "outlinewidth": 1,
             "tickcolor": "rgb(36,36,36)",
             "ticks": "outside"
            },
            "colorscale": [
             [
              0.0,
              "#440154"
             ],
             [
              0.1111111111111111,
              "#482878"
             ],
             [
              0.2222222222222222,
              "#3e4989"
             ],
             [
              0.3333333333333333,
              "#31688e"
             ],
             [
              0.4444444444444444,
              "#26828e"
             ],
             [
              0.5555555555555556,
              "#1f9e89"
             ],
             [
              0.6666666666666666,
              "#35b779"
             ],
             [
              0.7777777777777778,
              "#6ece58"
             ],
             [
              0.8888888888888888,
              "#b5de2b"
             ],
             [
              1.0,
              "#fde725"
             ]
            ],
            "type": "contour"
           }
          ],
          "contourcarpet": [
           {
            "colorbar": {
             "outlinewidth": 1,
             "tickcolor": "rgb(36,36,36)",
             "ticks": "outside"
            },
            "type": "contourcarpet"
           }
          ],
          "heatmap": [
           {
            "colorbar": {
             "outlinewidth": 1,
             "tickcolor": "rgb(36,36,36)",
             "ticks": "outside"
            },
            "colorscale": [
             [
              0.0,
              "#440154"
             ],
             [
              0.1111111111111111,
              "#482878"
             ],
             [
              0.2222222222222222,
              "#3e4989"
             ],
             [
              0.3333333333333333,
              "#31688e"
             ],
             [
              0.4444444444444444,
              "#26828e"
             ],
             [
              0.5555555555555556,
              "#1f9e89"
             ],
             [
              0.6666666666666666,
              "#35b779"
             ],
             [
              0.7777777777777778,
              "#6ece58"
             ],
             [
              0.8888888888888888,
              "#b5de2b"
             ],
             [
              1.0,
              "#fde725"
             ]
            ],
            "type": "heatmap"
           }
          ],
          "heatmapgl": [
           {
            "colorbar": {
             "outlinewidth": 1,
             "tickcolor": "rgb(36,36,36)",
             "ticks": "outside"
            },
            "colorscale": [
             [
              0.0,
              "#440154"
             ],
             [
              0.1111111111111111,
              "#482878"
             ],
             [
              0.2222222222222222,
              "#3e4989"
             ],
             [
              0.3333333333333333,
              "#31688e"
             ],
             [
              0.4444444444444444,
              "#26828e"
             ],
             [
              0.5555555555555556,
              "#1f9e89"
             ],
             [
              0.6666666666666666,
              "#35b779"
             ],
             [
              0.7777777777777778,
              "#6ece58"
             ],
             [
              0.8888888888888888,
              "#b5de2b"
             ],
             [
              1.0,
              "#fde725"
             ]
            ],
            "type": "heatmapgl"
           }
          ],
          "histogram": [
           {
            "marker": {
             "line": {
              "color": "white",
              "width": 0.6
             }
            },
            "type": "histogram"
           }
          ],
          "histogram2d": [
           {
            "colorbar": {
             "outlinewidth": 1,
             "tickcolor": "rgb(36,36,36)",
             "ticks": "outside"
            },
            "colorscale": [
             [
              0.0,
              "#440154"
             ],
             [
              0.1111111111111111,
              "#482878"
             ],
             [
              0.2222222222222222,
              "#3e4989"
             ],
             [
              0.3333333333333333,
              "#31688e"
             ],
             [
              0.4444444444444444,
              "#26828e"
             ],
             [
              0.5555555555555556,
              "#1f9e89"
             ],
             [
              0.6666666666666666,
              "#35b779"
             ],
             [
              0.7777777777777778,
              "#6ece58"
             ],
             [
              0.8888888888888888,
              "#b5de2b"
             ],
             [
              1.0,
              "#fde725"
             ]
            ],
            "type": "histogram2d"
           }
          ],
          "histogram2dcontour": [
           {
            "colorbar": {
             "outlinewidth": 1,
             "tickcolor": "rgb(36,36,36)",
             "ticks": "outside"
            },
            "colorscale": [
             [
              0.0,
              "#440154"
             ],
             [
              0.1111111111111111,
              "#482878"
             ],
             [
              0.2222222222222222,
              "#3e4989"
             ],
             [
              0.3333333333333333,
              "#31688e"
             ],
             [
              0.4444444444444444,
              "#26828e"
             ],
             [
              0.5555555555555556,
              "#1f9e89"
             ],
             [
              0.6666666666666666,
              "#35b779"
             ],
             [
              0.7777777777777778,
              "#6ece58"
             ],
             [
              0.8888888888888888,
              "#b5de2b"
             ],
             [
              1.0,
              "#fde725"
             ]
            ],
            "type": "histogram2dcontour"
           }
          ],
          "mesh3d": [
           {
            "colorbar": {
             "outlinewidth": 1,
             "tickcolor": "rgb(36,36,36)",
             "ticks": "outside"
            },
            "type": "mesh3d"
           }
          ],
          "parcoords": [
           {
            "line": {
             "colorbar": {
              "outlinewidth": 1,
              "tickcolor": "rgb(36,36,36)",
              "ticks": "outside"
             }
            },
            "type": "parcoords"
           }
          ],
          "pie": [
           {
            "automargin": true,
            "type": "pie"
           }
          ],
          "scatter": [
           {
            "fillpattern": {
             "fillmode": "overlay",
             "size": 10,
             "solidity": 0.2
            },
            "type": "scatter"
           }
          ],
          "scatter3d": [
           {
            "line": {
             "colorbar": {
              "outlinewidth": 1,
              "tickcolor": "rgb(36,36,36)",
              "ticks": "outside"
             }
            },
            "marker": {
             "colorbar": {
              "outlinewidth": 1,
              "tickcolor": "rgb(36,36,36)",
              "ticks": "outside"
             }
            },
            "type": "scatter3d"
           }
          ],
          "scattercarpet": [
           {
            "marker": {
             "colorbar": {
              "outlinewidth": 1,
              "tickcolor": "rgb(36,36,36)",
              "ticks": "outside"
             }
            },
            "type": "scattercarpet"
           }
          ],
          "scattergeo": [
           {
            "marker": {
             "colorbar": {
              "outlinewidth": 1,
              "tickcolor": "rgb(36,36,36)",
              "ticks": "outside"
             }
            },
            "type": "scattergeo"
           }
          ],
          "scattergl": [
           {
            "marker": {
             "colorbar": {
              "outlinewidth": 1,
              "tickcolor": "rgb(36,36,36)",
              "ticks": "outside"
             }
            },
            "type": "scattergl"
           }
          ],
          "scattermapbox": [
           {
            "marker": {
             "colorbar": {
              "outlinewidth": 1,
              "tickcolor": "rgb(36,36,36)",
              "ticks": "outside"
             }
            },
            "type": "scattermapbox"
           }
          ],
          "scatterpolar": [
           {
            "marker": {
             "colorbar": {
              "outlinewidth": 1,
              "tickcolor": "rgb(36,36,36)",
              "ticks": "outside"
             }
            },
            "type": "scatterpolar"
           }
          ],
          "scatterpolargl": [
           {
            "marker": {
             "colorbar": {
              "outlinewidth": 1,
              "tickcolor": "rgb(36,36,36)",
              "ticks": "outside"
             }
            },
            "type": "scatterpolargl"
           }
          ],
          "scatterternary": [
           {
            "marker": {
             "colorbar": {
              "outlinewidth": 1,
              "tickcolor": "rgb(36,36,36)",
              "ticks": "outside"
             }
            },
            "type": "scatterternary"
           }
          ],
          "surface": [
           {
            "colorbar": {
             "outlinewidth": 1,
             "tickcolor": "rgb(36,36,36)",
             "ticks": "outside"
            },
            "colorscale": [
             [
              0.0,
              "#440154"
             ],
             [
              0.1111111111111111,
              "#482878"
             ],
             [
              0.2222222222222222,
              "#3e4989"
             ],
             [
              0.3333333333333333,
              "#31688e"
             ],
             [
              0.4444444444444444,
              "#26828e"
             ],
             [
              0.5555555555555556,
              "#1f9e89"
             ],
             [
              0.6666666666666666,
              "#35b779"
             ],
             [
              0.7777777777777778,
              "#6ece58"
             ],
             [
              0.8888888888888888,
              "#b5de2b"
             ],
             [
              1.0,
              "#fde725"
             ]
            ],
            "type": "surface"
           }
          ],
          "table": [
           {
            "cells": {
             "fill": {
              "color": "rgb(237,237,237)"
             },
             "line": {
              "color": "white"
             }
            },
            "header": {
             "fill": {
              "color": "rgb(217,217,217)"
             },
             "line": {
              "color": "white"
             }
            },
            "type": "table"
           }
          ]
         },
         "layout": {
          "annotationdefaults": {
           "arrowhead": 0,
           "arrowwidth": 1
          },
          "autotypenumbers": "strict",
          "coloraxis": {
           "colorbar": {
            "outlinewidth": 1,
            "tickcolor": "rgb(36,36,36)",
            "ticks": "outside"
           }
          },
          "colorscale": {
           "diverging": [
            [
             0.0,
             "rgb(103,0,31)"
            ],
            [
             0.1,
             "rgb(178,24,43)"
            ],
            [
             0.2,
             "rgb(214,96,77)"
            ],
            [
             0.3,
             "rgb(244,165,130)"
            ],
            [
             0.4,
             "rgb(253,219,199)"
            ],
            [
             0.5,
             "rgb(247,247,247)"
            ],
            [
             0.6,
             "rgb(209,229,240)"
            ],
            [
             0.7,
             "rgb(146,197,222)"
            ],
            [
             0.8,
             "rgb(67,147,195)"
            ],
            [
             0.9,
             "rgb(33,102,172)"
            ],
            [
             1.0,
             "rgb(5,48,97)"
            ]
           ],
           "sequential": [
            [
             0.0,
             "#440154"
            ],
            [
             0.1111111111111111,
             "#482878"
            ],
            [
             0.2222222222222222,
             "#3e4989"
            ],
            [
             0.3333333333333333,
             "#31688e"
            ],
            [
             0.4444444444444444,
             "#26828e"
            ],
            [
             0.5555555555555556,
             "#1f9e89"
            ],
            [
             0.6666666666666666,
             "#35b779"
            ],
            [
             0.7777777777777778,
             "#6ece58"
            ],
            [
             0.8888888888888888,
             "#b5de2b"
            ],
            [
             1.0,
             "#fde725"
            ]
           ],
           "sequentialminus": [
            [
             0.0,
             "#440154"
            ],
            [
             0.1111111111111111,
             "#482878"
            ],
            [
             0.2222222222222222,
             "#3e4989"
            ],
            [
             0.3333333333333333,
             "#31688e"
            ],
            [
             0.4444444444444444,
             "#26828e"
            ],
            [
             0.5555555555555556,
             "#1f9e89"
            ],
            [
             0.6666666666666666,
             "#35b779"
            ],
            [
             0.7777777777777778,
             "#6ece58"
            ],
            [
             0.8888888888888888,
             "#b5de2b"
            ],
            [
             1.0,
             "#fde725"
            ]
           ]
          },
          "colorway": [
           "#91268F",
           "#8CC63E",
           "#00A7A0",
           "#F05A28",
           "#4C4C4C",
           "#630460",
           "#9f3913",
           "#588527",
           "#00716c",
           "#3e4040"
          ],
          "font": {
           "color": "rgb(36,36,36)",
           "family": "Poppins",
           "size": 11
          },
          "geo": {
           "bgcolor": "white",
           "lakecolor": "white",
           "landcolor": "white",
           "showlakes": true,
           "showland": true,
           "subunitcolor": "white"
          },
          "hoverlabel": {
           "align": "left"
          },
          "hovermode": "closest",
          "mapbox": {
           "style": "light"
          },
          "paper_bgcolor": "white",
          "plot_bgcolor": "white",
          "polar": {
           "angularaxis": {
            "gridcolor": "rgb(232,232,232)",
            "linecolor": "rgb(36,36,36)",
            "showgrid": false,
            "showline": true,
            "ticks": "outside"
           },
           "bgcolor": "white",
           "radialaxis": {
            "gridcolor": "rgb(232,232,232)",
            "linecolor": "rgb(36,36,36)",
            "showgrid": false,
            "showline": true,
            "ticks": "outside"
           }
          },
          "scene": {
           "xaxis": {
            "backgroundcolor": "white",
            "gridcolor": "rgb(232,232,232)",
            "gridwidth": 2,
            "linecolor": "rgb(36,36,36)",
            "showbackground": true,
            "showgrid": false,
            "showline": true,
            "ticks": "outside",
            "zeroline": false,
            "zerolinecolor": "rgb(36,36,36)"
           },
           "yaxis": {
            "backgroundcolor": "white",
            "gridcolor": "rgb(232,232,232)",
            "gridwidth": 2,
            "linecolor": "rgb(36,36,36)",
            "showbackground": true,
            "showgrid": false,
            "showline": true,
            "ticks": "outside",
            "zeroline": false,
            "zerolinecolor": "rgb(36,36,36)"
           },
           "zaxis": {
            "backgroundcolor": "white",
            "gridcolor": "rgb(232,232,232)",
            "gridwidth": 2,
            "linecolor": "rgb(36,36,36)",
            "showbackground": true,
            "showgrid": false,
            "showline": true,
            "ticks": "outside",
            "zeroline": false,
            "zerolinecolor": "rgb(36,36,36)"
           }
          },
          "shapedefaults": {
           "fillcolor": "black",
           "line": {
            "width": 0
           },
           "opacity": 0.3
          },
          "ternary": {
           "aaxis": {
            "gridcolor": "rgb(232,232,232)",
            "linecolor": "rgb(36,36,36)",
            "showgrid": false,
            "showline": true,
            "ticks": "outside"
           },
           "baxis": {
            "gridcolor": "rgb(232,232,232)",
            "linecolor": "rgb(36,36,36)",
            "showgrid": false,
            "showline": true,
            "ticks": "outside"
           },
           "bgcolor": "white",
           "caxis": {
            "gridcolor": "rgb(232,232,232)",
            "linecolor": "rgb(36,36,36)",
            "showgrid": false,
            "showline": true,
            "ticks": "outside"
           }
          },
          "title": {
           "x": 0.05
          },
          "xaxis": {
           "automargin": true,
           "gridcolor": "rgb(232,232,232)",
           "linecolor": "rgb(36,36,36)",
           "showgrid": false,
           "showline": true,
           "ticks": "outside",
           "title": {
            "standoff": 15
           },
           "zeroline": false,
           "zerolinecolor": "rgb(36,36,36)"
          },
          "yaxis": {
           "automargin": true,
           "gridcolor": "rgb(232,232,232)",
           "linecolor": "rgb(36,36,36)",
           "showgrid": false,
           "showline": true,
           "ticks": "outside",
           "title": {
            "standoff": 15
           },
           "zeroline": false,
           "zerolinecolor": "rgb(36,36,36)"
          }
         }
        },
        "title": {
         "text": "Medium Trucks: Kitsap"
        },
        "width": 800,
        "xaxis": {
         "anchor": "y",
         "domain": [
          0.0,
          1.0
         ],
         "title": {
          "text": "Observed"
         }
        },
        "yaxis": {
         "anchor": "x",
         "domain": [
          0.0,
          1.0
         ],
         "title": {
          "text": "Model"
         }
        }
       }
      },
      "text/html": [
       "<div>                            <div id=\"dcc5cf02-c879-41f4-874c-c39218efa9ce\" class=\"plotly-graph-div\" style=\"height:600px; width:800px;\"></div>            <script type=\"text/javascript\">                require([\"plotly\"], function(Plotly) {                    window.PLOTLYENV=window.PLOTLYENV || {};                                    if (document.getElementById(\"dcc5cf02-c879-41f4-874c-c39218efa9ce\")) {                    Plotly.newPlot(                        \"dcc5cf02-c879-41f4-874c-c39218efa9ce\",                        [{\"customdata\":[[\"SR-16  N\\u002fO SR-302 NB\\u002fSB\",\"Kitsap\"],[\"SR-16 N\\u002fO SR-160 NB\\u002fSB\",\"Kitsap\"],[\"SR-16 N\\u002fO Tremont NB\\u002fSB\",\"Kitsap\"],[\"SR-16 S\\u002fO SR-3 NB\",\"Kitsap\"],[\"SR-104 @ Hood Canal Bridge WB\\u002fEB\",\"Kitsap\"],[\"SR-104 E\\u002fO Hood Canal Bridge WB\\u002fEB\",\"Kitsap\"],[\"SR-104 N\\u002fO Pt Gamble Rd WB\\u002fEB\",\"Kitsap\"],[\"SR-104 E\\u002fO SR-307 WB\\u002fEB\",\"Kitsap\"],[\"SR-104 E\\u002fO Hansville WB\\u002fEB\",\"Kitsap\"],[\"SR-160 @ SR-16 WB\\u002fEB\",\"Kitsap\"],[\"SR-160 E\\u002fO Long Lake Rd WB\\u002fEB\",\"Kitsap\"],[\"SR-160 W\\u002fO Banner WB\\u002fEB\",\"Kitsap\"],[\"SR-160 E\\u002fO Peterson WB\\u002fEB\",\"Kitsap\"],[\"SR-160 S\\u002fO Southworth Dr WB\\u002fEB\",\"Kitsap\"],[\"SR-166 E\\u002fO SR-16 WB\\u002fEB\",\"Kitsap\"],[\"SR-3 E\\u002fO Sunset Way NB\\u002fSB\",\"Kitsap\"],[\"SR-3 N\\u002fO SR-305 NB\\u002fSB\",\"Kitsap\"],[\"SR-3 S\\u002fO Newberry Hill Rd NB\\u002fSB\",\"Kitsap\"],[\"SR-3 @ SR-304 NB\\u002fSB\",\"Kitsap\"],[\"SR-3 NE of SR-16 NB\\u002fSB\",\"Kitsap\"],[\"SR-3 W\\u002fO Lake Flora Rd NB\\u002fSB\",\"Kitsap\"],[\"SR-303 E\\u002fO SR-3 NB\\u002fSB\",\"Kitsap\"],[\"SR-303 N\\u002fO 11th St NB\\u002fSB\",\"Kitsap\"],[\"SR-303 N\\u002fO SR-304 NB\\u002fSB\",\"Kitsap\"],[\"SR-304 E\\u002fO SR-3 WB\\u002fEB\",\"Kitsap\"],[\"SR-304 W\\u002fO Naval WB\\u002fEB\",\"Kitsap\"],[\"SR-305 W\\u002fO SR-307 WB\\u002fEB\",\"Kitsap\"],[\"SR-305 W\\u002fO Suquamish Way WB\\u002fEB\",\"Kitsap\"],[\"SR-305 N\\u002fO Day Rd WB\\u002fEB\",\"Kitsap\"],[\"SR-305 N\\u002fO High School Rd WB\\u002fEB\",\"Kitsap\"],[\"SR-305 S\\u002fO Winslow Way WB\\u002fEB\",\"Kitsap\"],[\"SR-305 @ Ferry Ramp WB\\u002fEB\",\"Kitsap\"],[\"SR-307 W\\u002fO SR-104 NB\\u002fSB\",\"Kitsap\"],[\"SR-307 N\\u002fO Gunderson NB\\u002fSB\",\"Kitsap\"],[\"SR-307 S\\u002fO Gunderson NB\\u002fSB\",\"Kitsap\"],[\"SR-307 N\\u002fO SR-305 NB\\u002fSB\",\"Kitsap\"],[\"SR-308 @ SR-3 WB\\u002fEB\",\"Kitsap\"],[\"SR-308 E\\u002fO SR-3 WB\\u002fEB\",\"Kitsap\"],[\"SR-308 E\\u002fO Silverdale Way WB\\u002fEB\",\"Kitsap\"],[\"SR-308 W\\u002fO Brownsville Hwy WB\\u002fEB\",\"Kitsap\"],[\"SR-310 @ SR-3 WB\\u002fEB\",\"Kitsap\"],[\"SR-310 W\\u002fO Callow WB\\u002fEB\",\"Kitsap\"]],\"hovertemplate\":\"Observed=%{x}\\u003cbr\\u003eModel=%{y}\\u003cbr\\u003elocation=%{customdata[0]}\\u003cbr\\u003eCounty=%{customdata[1]}\\u003cextra\\u003e\\u003c\\u002fextra\\u003e\",\"legendgroup\":\"\",\"marker\":{\"color\":\"#91268F\",\"symbol\":\"circle\"},\"mode\":\"markers\",\"name\":\"\",\"orientation\":\"v\",\"showlegend\":false,\"x\":[2336,1997,2251,2041,702,197,215,512,288,475,525,408,233,86,280,1258,1725,2074,1768,3230,864,972,1008,434,810,609,1102,660,600,468,265,221,714,476,612,680,156,199,263,230,897,286],\"xaxis\":\"x\",\"y\":[4147,3357,3561,2003,0,25,18,222,155,562,180,136,185,70,414,55,204,2552,2574,4137,0,850,957,331,1654,829,1662,1039,1098,157,67,67,277,321,588,610,112,118,199,130,373,144],\"yaxis\":\"y\",\"type\":\"scatter\",\"line\":{\"color\":\"Grey\",\"width\":2}},{\"hovertemplate\":\"Observed=%{x}\\u003cbr\\u003eModel=%{y}\\u003cextra\\u003e\\u003c\\u002fextra\\u003e\",\"legendgroup\":\"\",\"line\":{\"color\":\"Grey\",\"dash\":\"solid\",\"width\":2},\"marker\":{\"symbol\":\"circle\"},\"mode\":\"lines\",\"name\":\"\",\"orientation\":\"v\",\"showlegend\":false,\"x\":[0.0,32.62626262626262,65.25252525252525,97.87878787878788,130.5050505050505,163.1313131313131,195.75757575757575,228.38383838383837,261.010101010101,293.6363636363636,326.2626262626262,358.88888888888886,391.5151515151515,424.1414141414141,456.76767676767673,489.3939393939393,522.020202020202,554.6464646464646,587.2727272727273,619.8989898989898,652.5252525252524,685.1515151515151,717.7777777777777,750.4040404040403,783.030303030303,815.6565656565656,848.2828282828282,880.9090909090908,913.5353535353535,946.161616161616,978.7878787878786,1011.4141414141413,1044.040404040404,1076.6666666666665,1109.292929292929,1141.9191919191917,1174.5454545454545,1207.171717171717,1239.7979797979797,1272.4242424242423,1305.0505050505049,1337.6767676767674,1370.3030303030303,1402.9292929292928,1435.5555555555554,1468.181818181818,1500.8080808080806,1533.4343434343432,1566.060606060606,1598.6868686868686,1631.3131313131312,1663.9393939393938,1696.5656565656564,1729.191919191919,1761.8181818181815,1794.4444444444443,1827.070707070707,1859.6969696969695,1892.323232323232,1924.9494949494947,1957.5757575757573,1990.20202020202,2022.8282828282827,2055.454545454545,2088.080808080808,2120.7070707070707,2153.333333333333,2185.959595959596,2218.585858585858,2251.212121212121,2283.8383838383834,2316.464646464646,2349.090909090909,2381.7171717171714,2414.343434343434,2446.9696969696965,2479.5959595959594,2512.222222222222,2544.8484848484845,2577.4747474747473,2610.1010101010097,2642.7272727272725,2675.353535353535,2707.9797979797977,2740.6060606060605,2773.232323232323,2805.8585858585857,2838.484848484848,2871.111111111111,2903.737373737373,2936.363636363636,2968.989898989899,3001.616161616161,3034.242424242424,3066.8686868686864,3099.494949494949,3132.121212121212,3164.7474747474744,3197.373737373737,3230.0],\"xaxis\":\"x\",\"y\":[-311.2012471575937,-265.49415166616933,-219.78705617474495,-174.07996068332056,-128.3728651918962,-82.66576970047183,-36.958674209047444,8.74842128237691,54.455516773801264,100.16261226522568,145.86970775665003,191.57680324807444,237.2838987394988,282.9909942309231,328.6980897223475,374.4051852137719,420.1122807051962,465.8193761966206,511.52647168804504,557.2335671794693,602.9406626708937,648.6477581623182,694.3548536537426,740.0619491451667,785.7690446365913,831.4761401280156,877.1832356194399,922.8903311108644,968.5974266022887,1014.304522093713,1060.0116175851376,1105.718713076562,1151.4258085679862,1197.1329040594105,1242.8399995508348,1288.5470950422591,1334.2541905336839,1379.9612860251082,1425.6683815165325,1471.3754770079568,1517.082572499381,1562.7896679908054,1608.49676348223,1654.2038589736544,1699.9109544650787,1745.618049956503,1791.3251454479273,1837.0322409393516,1882.7393364307763,1928.4464319222006,1974.153527413625,2019.8606229050492,2065.5677183964735,2111.274813887898,2156.9819093793226,2202.689004870747,2248.396100362171,2294.1031958535955,2339.81029134502,2385.517386836444,2431.224482327869,2476.931577819293,2522.6386733107174,2568.3457688021417,2614.052864293566,2659.7599597849908,2705.467055276415,2751.1741507678394,2796.8812462592637,2842.588341750688,2888.2954372421123,2934.002532733537,2979.7096282249613,3025.4167237163856,3071.12381920781,3116.830914699234,3162.5380101906585,3208.2451056820832,3253.9522011735075,3299.659296664932,3345.366392156356,3391.0734876477804,3436.7805831392047,3482.4876786306295,3528.194774122054,3573.901869613478,3619.6089651049024,3665.3160605963267,3711.0231560877514,3756.7302515791753,3802.4373470705996,3848.144442562025,3893.851538053448,3939.5586335448734,3985.2657290362968,4030.972824527722,4076.6799200191463,4122.387015510571,4168.094111001995,4213.80120649342],\"yaxis\":\"y\",\"type\":\"scatter\"}],                        {\"template\":{\"data\":{\"barpolar\":[{\"marker\":{\"line\":{\"color\":\"white\",\"width\":0.5},\"pattern\":{\"fillmode\":\"overlay\",\"size\":10,\"solidity\":0.2}},\"type\":\"barpolar\"}],\"bar\":[{\"error_x\":{\"color\":\"rgb(36,36,36)\"},\"error_y\":{\"color\":\"rgb(36,36,36)\"},\"marker\":{\"line\":{\"color\":\"white\",\"width\":0.5},\"pattern\":{\"fillmode\":\"overlay\",\"size\":10,\"solidity\":0.2}},\"type\":\"bar\"}],\"carpet\":[{\"aaxis\":{\"endlinecolor\":\"rgb(36,36,36)\",\"gridcolor\":\"white\",\"linecolor\":\"white\",\"minorgridcolor\":\"white\",\"startlinecolor\":\"rgb(36,36,36)\"},\"baxis\":{\"endlinecolor\":\"rgb(36,36,36)\",\"gridcolor\":\"white\",\"linecolor\":\"white\",\"minorgridcolor\":\"white\",\"startlinecolor\":\"rgb(36,36,36)\"},\"type\":\"carpet\"}],\"choropleth\":[{\"colorbar\":{\"outlinewidth\":1,\"tickcolor\":\"rgb(36,36,36)\",\"ticks\":\"outside\"},\"type\":\"choropleth\"}],\"contourcarpet\":[{\"colorbar\":{\"outlinewidth\":1,\"tickcolor\":\"rgb(36,36,36)\",\"ticks\":\"outside\"},\"type\":\"contourcarpet\"}],\"contour\":[{\"colorbar\":{\"outlinewidth\":1,\"tickcolor\":\"rgb(36,36,36)\",\"ticks\":\"outside\"},\"colorscale\":[[0.0,\"#440154\"],[0.1111111111111111,\"#482878\"],[0.2222222222222222,\"#3e4989\"],[0.3333333333333333,\"#31688e\"],[0.4444444444444444,\"#26828e\"],[0.5555555555555556,\"#1f9e89\"],[0.6666666666666666,\"#35b779\"],[0.7777777777777778,\"#6ece58\"],[0.8888888888888888,\"#b5de2b\"],[1.0,\"#fde725\"]],\"type\":\"contour\"}],\"heatmapgl\":[{\"colorbar\":{\"outlinewidth\":1,\"tickcolor\":\"rgb(36,36,36)\",\"ticks\":\"outside\"},\"colorscale\":[[0.0,\"#440154\"],[0.1111111111111111,\"#482878\"],[0.2222222222222222,\"#3e4989\"],[0.3333333333333333,\"#31688e\"],[0.4444444444444444,\"#26828e\"],[0.5555555555555556,\"#1f9e89\"],[0.6666666666666666,\"#35b779\"],[0.7777777777777778,\"#6ece58\"],[0.8888888888888888,\"#b5de2b\"],[1.0,\"#fde725\"]],\"type\":\"heatmapgl\"}],\"heatmap\":[{\"colorbar\":{\"outlinewidth\":1,\"tickcolor\":\"rgb(36,36,36)\",\"ticks\":\"outside\"},\"colorscale\":[[0.0,\"#440154\"],[0.1111111111111111,\"#482878\"],[0.2222222222222222,\"#3e4989\"],[0.3333333333333333,\"#31688e\"],[0.4444444444444444,\"#26828e\"],[0.5555555555555556,\"#1f9e89\"],[0.6666666666666666,\"#35b779\"],[0.7777777777777778,\"#6ece58\"],[0.8888888888888888,\"#b5de2b\"],[1.0,\"#fde725\"]],\"type\":\"heatmap\"}],\"histogram2dcontour\":[{\"colorbar\":{\"outlinewidth\":1,\"tickcolor\":\"rgb(36,36,36)\",\"ticks\":\"outside\"},\"colorscale\":[[0.0,\"#440154\"],[0.1111111111111111,\"#482878\"],[0.2222222222222222,\"#3e4989\"],[0.3333333333333333,\"#31688e\"],[0.4444444444444444,\"#26828e\"],[0.5555555555555556,\"#1f9e89\"],[0.6666666666666666,\"#35b779\"],[0.7777777777777778,\"#6ece58\"],[0.8888888888888888,\"#b5de2b\"],[1.0,\"#fde725\"]],\"type\":\"histogram2dcontour\"}],\"histogram2d\":[{\"colorbar\":{\"outlinewidth\":1,\"tickcolor\":\"rgb(36,36,36)\",\"ticks\":\"outside\"},\"colorscale\":[[0.0,\"#440154\"],[0.1111111111111111,\"#482878\"],[0.2222222222222222,\"#3e4989\"],[0.3333333333333333,\"#31688e\"],[0.4444444444444444,\"#26828e\"],[0.5555555555555556,\"#1f9e89\"],[0.6666666666666666,\"#35b779\"],[0.7777777777777778,\"#6ece58\"],[0.8888888888888888,\"#b5de2b\"],[1.0,\"#fde725\"]],\"type\":\"histogram2d\"}],\"histogram\":[{\"marker\":{\"line\":{\"color\":\"white\",\"width\":0.6}},\"type\":\"histogram\"}],\"mesh3d\":[{\"colorbar\":{\"outlinewidth\":1,\"tickcolor\":\"rgb(36,36,36)\",\"ticks\":\"outside\"},\"type\":\"mesh3d\"}],\"parcoords\":[{\"line\":{\"colorbar\":{\"outlinewidth\":1,\"tickcolor\":\"rgb(36,36,36)\",\"ticks\":\"outside\"}},\"type\":\"parcoords\"}],\"pie\":[{\"automargin\":true,\"type\":\"pie\"}],\"scatter3d\":[{\"line\":{\"colorbar\":{\"outlinewidth\":1,\"tickcolor\":\"rgb(36,36,36)\",\"ticks\":\"outside\"}},\"marker\":{\"colorbar\":{\"outlinewidth\":1,\"tickcolor\":\"rgb(36,36,36)\",\"ticks\":\"outside\"}},\"type\":\"scatter3d\"}],\"scattercarpet\":[{\"marker\":{\"colorbar\":{\"outlinewidth\":1,\"tickcolor\":\"rgb(36,36,36)\",\"ticks\":\"outside\"}},\"type\":\"scattercarpet\"}],\"scattergeo\":[{\"marker\":{\"colorbar\":{\"outlinewidth\":1,\"tickcolor\":\"rgb(36,36,36)\",\"ticks\":\"outside\"}},\"type\":\"scattergeo\"}],\"scattergl\":[{\"marker\":{\"colorbar\":{\"outlinewidth\":1,\"tickcolor\":\"rgb(36,36,36)\",\"ticks\":\"outside\"}},\"type\":\"scattergl\"}],\"scattermapbox\":[{\"marker\":{\"colorbar\":{\"outlinewidth\":1,\"tickcolor\":\"rgb(36,36,36)\",\"ticks\":\"outside\"}},\"type\":\"scattermapbox\"}],\"scatterpolargl\":[{\"marker\":{\"colorbar\":{\"outlinewidth\":1,\"tickcolor\":\"rgb(36,36,36)\",\"ticks\":\"outside\"}},\"type\":\"scatterpolargl\"}],\"scatterpolar\":[{\"marker\":{\"colorbar\":{\"outlinewidth\":1,\"tickcolor\":\"rgb(36,36,36)\",\"ticks\":\"outside\"}},\"type\":\"scatterpolar\"}],\"scatter\":[{\"fillpattern\":{\"fillmode\":\"overlay\",\"size\":10,\"solidity\":0.2},\"type\":\"scatter\"}],\"scatterternary\":[{\"marker\":{\"colorbar\":{\"outlinewidth\":1,\"tickcolor\":\"rgb(36,36,36)\",\"ticks\":\"outside\"}},\"type\":\"scatterternary\"}],\"surface\":[{\"colorbar\":{\"outlinewidth\":1,\"tickcolor\":\"rgb(36,36,36)\",\"ticks\":\"outside\"},\"colorscale\":[[0.0,\"#440154\"],[0.1111111111111111,\"#482878\"],[0.2222222222222222,\"#3e4989\"],[0.3333333333333333,\"#31688e\"],[0.4444444444444444,\"#26828e\"],[0.5555555555555556,\"#1f9e89\"],[0.6666666666666666,\"#35b779\"],[0.7777777777777778,\"#6ece58\"],[0.8888888888888888,\"#b5de2b\"],[1.0,\"#fde725\"]],\"type\":\"surface\"}],\"table\":[{\"cells\":{\"fill\":{\"color\":\"rgb(237,237,237)\"},\"line\":{\"color\":\"white\"}},\"header\":{\"fill\":{\"color\":\"rgb(217,217,217)\"},\"line\":{\"color\":\"white\"}},\"type\":\"table\"}]},\"layout\":{\"annotationdefaults\":{\"arrowhead\":0,\"arrowwidth\":1},\"autotypenumbers\":\"strict\",\"coloraxis\":{\"colorbar\":{\"outlinewidth\":1,\"tickcolor\":\"rgb(36,36,36)\",\"ticks\":\"outside\"}},\"colorscale\":{\"diverging\":[[0.0,\"rgb(103,0,31)\"],[0.1,\"rgb(178,24,43)\"],[0.2,\"rgb(214,96,77)\"],[0.3,\"rgb(244,165,130)\"],[0.4,\"rgb(253,219,199)\"],[0.5,\"rgb(247,247,247)\"],[0.6,\"rgb(209,229,240)\"],[0.7,\"rgb(146,197,222)\"],[0.8,\"rgb(67,147,195)\"],[0.9,\"rgb(33,102,172)\"],[1.0,\"rgb(5,48,97)\"]],\"sequential\":[[0.0,\"#440154\"],[0.1111111111111111,\"#482878\"],[0.2222222222222222,\"#3e4989\"],[0.3333333333333333,\"#31688e\"],[0.4444444444444444,\"#26828e\"],[0.5555555555555556,\"#1f9e89\"],[0.6666666666666666,\"#35b779\"],[0.7777777777777778,\"#6ece58\"],[0.8888888888888888,\"#b5de2b\"],[1.0,\"#fde725\"]],\"sequentialminus\":[[0.0,\"#440154\"],[0.1111111111111111,\"#482878\"],[0.2222222222222222,\"#3e4989\"],[0.3333333333333333,\"#31688e\"],[0.4444444444444444,\"#26828e\"],[0.5555555555555556,\"#1f9e89\"],[0.6666666666666666,\"#35b779\"],[0.7777777777777778,\"#6ece58\"],[0.8888888888888888,\"#b5de2b\"],[1.0,\"#fde725\"]]},\"colorway\":[\"#91268F\",\"#8CC63E\",\"#00A7A0\",\"#F05A28\",\"#4C4C4C\",\"#630460\",\"#9f3913\",\"#588527\",\"#00716c\",\"#3e4040\"],\"font\":{\"color\":\"rgb(36,36,36)\",\"family\":\"Poppins\",\"size\":11},\"geo\":{\"bgcolor\":\"white\",\"lakecolor\":\"white\",\"landcolor\":\"white\",\"showlakes\":true,\"showland\":true,\"subunitcolor\":\"white\"},\"hoverlabel\":{\"align\":\"left\"},\"hovermode\":\"closest\",\"mapbox\":{\"style\":\"light\"},\"paper_bgcolor\":\"white\",\"plot_bgcolor\":\"white\",\"polar\":{\"angularaxis\":{\"gridcolor\":\"rgb(232,232,232)\",\"linecolor\":\"rgb(36,36,36)\",\"showgrid\":false,\"showline\":true,\"ticks\":\"outside\"},\"bgcolor\":\"white\",\"radialaxis\":{\"gridcolor\":\"rgb(232,232,232)\",\"linecolor\":\"rgb(36,36,36)\",\"showgrid\":false,\"showline\":true,\"ticks\":\"outside\"}},\"scene\":{\"xaxis\":{\"backgroundcolor\":\"white\",\"gridcolor\":\"rgb(232,232,232)\",\"gridwidth\":2,\"linecolor\":\"rgb(36,36,36)\",\"showbackground\":true,\"showgrid\":false,\"showline\":true,\"ticks\":\"outside\",\"zeroline\":false,\"zerolinecolor\":\"rgb(36,36,36)\"},\"yaxis\":{\"backgroundcolor\":\"white\",\"gridcolor\":\"rgb(232,232,232)\",\"gridwidth\":2,\"linecolor\":\"rgb(36,36,36)\",\"showbackground\":true,\"showgrid\":false,\"showline\":true,\"ticks\":\"outside\",\"zeroline\":false,\"zerolinecolor\":\"rgb(36,36,36)\"},\"zaxis\":{\"backgroundcolor\":\"white\",\"gridcolor\":\"rgb(232,232,232)\",\"gridwidth\":2,\"linecolor\":\"rgb(36,36,36)\",\"showbackground\":true,\"showgrid\":false,\"showline\":true,\"ticks\":\"outside\",\"zeroline\":false,\"zerolinecolor\":\"rgb(36,36,36)\"}},\"shapedefaults\":{\"fillcolor\":\"black\",\"line\":{\"width\":0},\"opacity\":0.3},\"ternary\":{\"aaxis\":{\"gridcolor\":\"rgb(232,232,232)\",\"linecolor\":\"rgb(36,36,36)\",\"showgrid\":false,\"showline\":true,\"ticks\":\"outside\"},\"baxis\":{\"gridcolor\":\"rgb(232,232,232)\",\"linecolor\":\"rgb(36,36,36)\",\"showgrid\":false,\"showline\":true,\"ticks\":\"outside\"},\"bgcolor\":\"white\",\"caxis\":{\"gridcolor\":\"rgb(232,232,232)\",\"linecolor\":\"rgb(36,36,36)\",\"showgrid\":false,\"showline\":true,\"ticks\":\"outside\"}},\"title\":{\"x\":0.05},\"xaxis\":{\"automargin\":true,\"gridcolor\":\"rgb(232,232,232)\",\"linecolor\":\"rgb(36,36,36)\",\"showgrid\":false,\"showline\":true,\"ticks\":\"outside\",\"title\":{\"standoff\":15},\"zeroline\":false,\"zerolinecolor\":\"rgb(36,36,36)\"},\"yaxis\":{\"automargin\":true,\"gridcolor\":\"rgb(232,232,232)\",\"linecolor\":\"rgb(36,36,36)\",\"showgrid\":false,\"showline\":true,\"ticks\":\"outside\",\"title\":{\"standoff\":15},\"zeroline\":false,\"zerolinecolor\":\"rgb(36,36,36)\"}}},\"xaxis\":{\"anchor\":\"y\",\"domain\":[0.0,1.0],\"title\":{\"text\":\"Observed\"}},\"yaxis\":{\"anchor\":\"x\",\"domain\":[0.0,1.0],\"title\":{\"text\":\"Model\"}},\"legend\":{\"tracegroupgap\":0},\"title\":{\"text\":\"Medium Trucks: Kitsap\"},\"margin\":{\"l\":100,\"r\":100,\"t\":100,\"b\":100},\"height\":600,\"width\":800,\"shapes\":[{\"line\":{\"color\":\"Red\",\"dash\":\"dash\",\"width\":2},\"type\":\"line\",\"x0\":0,\"x1\":4147,\"y0\":0,\"y1\":4147}],\"annotations\":[{\"align\":\"right\",\"font\":{\"color\":\"pink\",\"size\":12},\"showarrow\":false,\"text\":\"y = x\",\"x\":4354.35,\"y\":4354.35},{\"align\":\"right\",\"font\":{\"color\":\"black\",\"size\":12},\"showarrow\":false,\"text\":\"r^2 = 0.78\",\"x\":3391.5,\"y\":4424.491266818091}]},                        {\"responsive\": true}                    ).then(function(){\n",
       "                            \n",
       "var gd = document.getElementById('dcc5cf02-c879-41f4-874c-c39218efa9ce');\n",
       "var x = new MutationObserver(function (mutations, observer) {{\n",
       "        var display = window.getComputedStyle(gd).display;\n",
       "        if (!display || display === 'none') {{\n",
       "            console.log([gd, 'removed!']);\n",
       "            Plotly.purge(gd);\n",
       "            observer.disconnect();\n",
       "        }}\n",
       "}});\n",
       "\n",
       "// Listen for the removal of the full notebook cells\n",
       "var notebookContainer = gd.closest('#notebook-container');\n",
       "if (notebookContainer) {{\n",
       "    x.observe(notebookContainer, {childList: true});\n",
       "}}\n",
       "\n",
       "// Listen for the clearing of the current output cell\n",
       "var outputEl = gd.closest('.output');\n",
       "if (outputEl) {{\n",
       "    x.observe(outputEl, {childList: true});\n",
       "}}\n",
       "\n",
       "                        })                };                });            </script>        </div>"
      ]
     },
     "metadata": {},
     "output_type": "display_data"
    }
   ],
   "source": [
    "fig = create_truck_chart(df_daily_med, 'Medium', 'Kitsap')\n",
    "fig.show()"
   ]
  },
  {
   "cell_type": "raw",
   "id": "7c56e60a",
   "metadata": {},
   "source": [
    "#### Pierce"
   ]
  },
  {
   "cell_type": "code",
   "execution_count": 32,
   "id": "70397228",
   "metadata": {},
   "outputs": [
    {
     "data": {
      "application/vnd.plotly.v1+json": {
       "config": {
        "plotlyServerURL": "https://plot.ly"
       },
       "data": [
        {
         "customdata": [
          [
           "I-5 S/O Mounts NB",
           "Pierce"
          ],
          [
           "I-5 S/O Mounts SB",
           "Pierce"
          ],
          [
           "I-5 S/O Division NB",
           "Pierce"
          ],
          [
           "I-5 S/O Division SB",
           "Pierce"
          ],
          [
           "I-5 @ N/O Division NB",
           "Pierce"
          ],
          [
           "I-5 @ N/O Division SB",
           "Pierce"
          ],
          [
           "I-5 S/O SR-512 NB",
           "Pierce"
          ],
          [
           "I-5 S/O SR-512 SB",
           "Pierce"
          ],
          [
           "I-5 N/O SR-512 NB",
           "Pierce"
          ],
          [
           "I-5 N/O SR-512 SB",
           "Pierce"
          ],
          [
           "I-5 N/O 56th NB",
           "Pierce"
          ],
          [
           "I-5 N/O 56th SB",
           "Pierce"
          ],
          [
           "I-5 E/O SR-16 NB",
           "Pierce"
          ],
          [
           "I-5 E/O SR-16 SB",
           "Pierce"
          ],
          [
           "I-5 E/O Port of Tacoma NB",
           "Pierce"
          ],
          [
           "I-5 E/O Port of Tacoma SB (HOV from 56)",
           "Pierce"
          ],
          [
           "SR-512 W/O Meridian WB",
           "Pierce"
          ],
          [
           "SR-512 W/O Meridian EB",
           "Pierce"
          ],
          [
           "SR-167 W/O SR-410 NB/SB",
           "Pierce"
          ],
          [
           "SR-167 E/O SR-161 NB/SB",
           "Pierce"
          ],
          [
           "SR-410 E/O S Prairie WB/EB",
           "Pierce"
          ],
          [
           "SR-410 E/O Chinook WB/EB",
           "Pierce"
          ],
          [
           "SR-410 W/O SR-123 WB/EB",
           "Pierce"
          ],
          [
           "SR-410 E/O SR-123 WB/EB",
           "Pierce"
          ],
          [
           "SR-512 @ I-5 WB/EB",
           "Pierce"
          ],
          [
           "SR-512 W/O SR-7 WB/EB",
           "Pierce"
          ],
          [
           "SR-512 S/O SR-167 WB/EB",
           "Pierce"
          ],
          [
           "SR-509 E/O I-705 NB/SB",
           "Pierce"
          ],
          [
           "SR-509 W/O Alexander NB/SB",
           "Pierce"
          ],
          [
           "SR-509 S/O 11th NB/SB",
           "Pierce"
          ],
          [
           "SR-509 N/O Hyada NB/SB",
           "Pierce"
          ],
          [
           "SR-509 E/O Soundview NB/SB",
           "Pierce"
          ],
          [
           "SR-99 @ I-5 NB/SB",
           "Pierce"
          ],
          [
           "SR-99 E/O 54th NB/SB",
           "Pierce"
          ],
          [
           "SR-99 S/O Porter NB/SB",
           "Pierce"
          ],
          [
           "SR-16 @ TNB NB/SB",
           "Pierce"
          ],
          [
           "SR-16 @ Purdy Dr NB/SB",
           "Pierce"
          ],
          [
           "SR-302 N/O 144th WB/EB",
           "Pierce"
          ],
          [
           "SR-302 S/O 144th WB/EB",
           "Pierce"
          ],
          [
           "SR-302 W/O Key Peninsula Hwy WB/EB",
           "Pierce"
          ],
          [
           "SR-302 W/O Wright-Bliss WB/EB (E/O?)",
           "Pierce"
          ],
          [
           "SR-161 E/O SR-7 NB/SB",
           "Pierce"
          ],
          [
           "SR-161 N/O Center NB/SB",
           "Pierce"
          ],
          [
           "SR-161 N/O Eatonville Cutoff NB/SB",
           "Pierce"
          ],
          [
           "SR-161 N/O 304th NB/SB",
           "Pierce"
          ],
          [
           "SR-161 N/O 264th NB/SB",
           "Pierce"
          ],
          [
           "SR-161 S/O 224th NB/SB",
           "Pierce"
          ],
          [
           "SR-161 N/O 224th NB/SB",
           "Pierce"
          ],
          [
           "SR-161 N/O 204th NB/SB",
           "Pierce"
          ],
          [
           "SR-161 S/O SR-167 SB off-ramp NB/SB",
           "Pierce"
          ],
          [
           "SR-161 S/O Valley NB/SB",
           "Pierce"
          ],
          [
           "SR-161 N/O Valley NB/SB",
           "Pierce"
          ],
          [
           "SR-161 N/O 8th NB/SB",
           "Pierce"
          ],
          [
           "SR-7 @ Thurston County NB/SB",
           "Pierce"
          ],
          [
           "SR-7 W/O Alder Cutoff NB/SB",
           "Pierce"
          ],
          [
           "SR-7 N/O Eatonville Hwy NB/SB",
           "Pierce"
          ],
          [
           "SR-7 N/O Silver Lake NB/SB",
           "Pierce"
          ],
          [
           "SR-7 S/O SR-702 NB/SB",
           "Pierce"
          ],
          [
           "SR-7 N/O 304th NB/SB",
           "Pierce"
          ],
          [
           "SR-7 N/O 260th NB/SB",
           "Pierce"
          ],
          [
           "SR-7 S/O 224th NB/SB",
           "Pierce"
          ],
          [
           "SR-7 N/O 224th NB/SB",
           "Pierce"
          ],
          [
           "SR-7 N/O 38th NB/SB",
           "Pierce"
          ],
          [
           "SR-162 @ SR-410 WB/EB",
           "Pierce"
          ],
          [
           "SR-162 S/O Pioneer WB/EB",
           "Pierce"
          ],
          [
           "SR-162 E/O Orville WB/EB",
           "Pierce"
          ],
          [
           "SR-162 E/O S Prairie WB/EB",
           "Pierce"
          ],
          [
           "SR-162 N/O SR-165 WB/EB",
           "Pierce"
          ],
          [
           "SR-163 @ SR-16 NB/SB",
           "Pierce"
          ],
          [
           "SR-163 N/O 37th NB/SB",
           "Pierce"
          ],
          [
           "SR-163 N/O Park NB/SB",
           "Pierce"
          ],
          [
           "SR-507 S/O SR-7 NB/SB",
           "Pierce"
          ],
          [
           "SR-507 S/O E Gate NB/SB",
           "Pierce"
          ],
          [
           "SR-507 S/O 288th NB/SB",
           "Pierce"
          ],
          [
           "SR-507 N/O 346th NB/SB",
           "Pierce"
          ],
          [
           "SR-702 E/O SR-507 WB/EB",
           "Pierce"
          ],
          [
           "SR-702 E/O Harts Lake WB/EB",
           "Pierce"
          ],
          [
           "SR-702 E/O 40th WB/EB",
           "Pierce"
          ],
          [
           "SR-702 W/O 8th WB/EB",
           "Pierce"
          ],
          [
           "SR-702 E/O 8th WB/EB",
           "Pierce"
          ],
          [
           "SR-165 W/O SR-162 NB/SB",
           "Pierce"
          ],
          [
           "SR-165 N/O Davis NB/SB",
           "Pierce"
          ],
          [
           "SR-165 N/O Wilkeson-Carbonado NB/SB",
           "Pierce"
          ],
          [
           "SR-704 E/O Spanaway Loop WB/EB",
           "Pierce"
          ],
          [
           "SR-706 E/O SR-7 WB/EB",
           "Pierce"
          ],
          [
           "SR-706 E/O Kernahan WB/EB",
           "Pierce"
          ]
         ],
         "hovertemplate": "Observed=%{x}<br>Model=%{y}<br>location=%{customdata[0]}<br>County=%{customdata[1]}<extra></extra>",
         "legendgroup": "",
         "line": {
          "color": "Grey",
          "width": 2
         },
         "marker": {
          "color": "#91268F",
          "symbol": "circle"
         },
         "mode": "markers",
         "name": "",
         "orientation": "v",
         "showlegend": false,
         "type": "scatter",
         "x": [
          2398,
          2384,
          2500,
          2589,
          2331,
          2275,
          2608,
          2499,
          4754,
          4821,
          5641,
          5686,
          1764,
          3843,
          2614,
          3294,
          2040,
          2040,
          5571,
          2749,
          1262,
          74,
          48,
          29,
          2835,
          3326,
          4048,
          1036,
          2310,
          171,
          59,
          62,
          1276,
          1600,
          1150,
          3133,
          2138,
          426,
          871,
          227,
          157,
          24,
          456,
          313,
          594,
          598,
          504,
          864,
          1216,
          1000,
          1850,
          720,
          800,
          241,
          106,
          193,
          228,
          363,
          690,
          897,
          1350,
          858,
          378,
          640,
          924,
          618,
          354,
          547,
          420,
          276,
          161,
          1264,
          462,
          533,
          611,
          524,
          396,
          389,
          382,
          322,
          390,
          211,
          120,
          720,
          150,
          75
         ],
         "xaxis": "x",
         "y": [
          0,
          0,
          718,
          741,
          712,
          734,
          1041,
          1013,
          1965,
          2381,
          3310,
          3500,
          1849,
          5853,
          6308,
          6328,
          2279,
          2271,
          6932,
          3118,
          1143,
          0,
          0,
          0,
          3280,
          3335,
          5163,
          1664,
          1537,
          97,
          29,
          29,
          1289,
          1278,
          1330,
          6711,
          3998,
          318,
          323,
          144,
          41,
          5,
          31,
          191,
          359,
          356,
          540,
          592,
          1047,
          1320,
          1990,
          595,
          1391,
          0,
          16,
          22,
          30,
          28,
          237,
          282,
          317,
          409,
          200,
          520,
          728,
          245,
          130,
          240,
          974,
          371,
          196,
          249,
          155,
          44,
          47,
          8,
          8,
          105,
          105,
          55,
          162,
          79,
          39,
          766,
          1,
          1
         ],
         "yaxis": "y"
        },
        {
         "hovertemplate": "Observed=%{x}<br>Model=%{y}<extra></extra>",
         "legendgroup": "",
         "line": {
          "color": "Grey",
          "dash": "solid",
          "width": 2
         },
         "marker": {
          "symbol": "circle"
         },
         "mode": "lines",
         "name": "",
         "orientation": "v",
         "showlegend": false,
         "type": "scatter",
         "x": [
          0.0,
          57.43434343434343,
          114.86868686868686,
          172.3030303030303,
          229.73737373737373,
          287.17171717171715,
          344.6060606060606,
          402.04040404040404,
          459.47474747474746,
          516.9090909090909,
          574.3434343434343,
          631.7777777777777,
          689.2121212121212,
          746.6464646464647,
          804.0808080808081,
          861.5151515151515,
          918.9494949494949,
          976.3838383838383,
          1033.8181818181818,
          1091.2525252525252,
          1148.6868686868686,
          1206.121212121212,
          1263.5555555555554,
          1320.9898989898988,
          1378.4242424242425,
          1435.858585858586,
          1493.2929292929293,
          1550.7272727272727,
          1608.1616161616162,
          1665.5959595959596,
          1723.030303030303,
          1780.4646464646464,
          1837.8989898989898,
          1895.3333333333333,
          1952.7676767676767,
          2010.20202020202,
          2067.6363636363635,
          2125.070707070707,
          2182.5050505050503,
          2239.939393939394,
          2297.373737373737,
          2354.808080808081,
          2412.242424242424,
          2469.6767676767677,
          2527.111111111111,
          2584.5454545454545,
          2641.9797979797977,
          2699.4141414141413,
          2756.848484848485,
          2814.282828282828,
          2871.717171717172,
          2929.151515151515,
          2986.5858585858587,
          3044.020202020202,
          3101.4545454545455,
          3158.8888888888887,
          3216.3232323232323,
          3273.7575757575755,
          3331.191919191919,
          3388.6262626262624,
          3446.060606060606,
          3503.494949494949,
          3560.929292929293,
          3618.363636363636,
          3675.7979797979797,
          3733.2323232323233,
          3790.6666666666665,
          3848.10101010101,
          3905.5353535353534,
          3962.969696969697,
          4020.40404040404,
          4077.838383838384,
          4135.272727272727,
          4192.707070707071,
          4250.141414141414,
          4307.575757575757,
          4365.010101010101,
          4422.444444444444,
          4479.878787878788,
          4537.313131313131,
          4594.747474747474,
          4652.181818181818,
          4709.616161616162,
          4767.050505050505,
          4824.484848484848,
          4881.919191919192,
          4939.353535353535,
          4996.787878787879,
          5054.222222222222,
          5111.656565656565,
          5169.090909090909,
          5226.525252525253,
          5283.959595959595,
          5341.393939393939,
          5398.828282828283,
          5456.262626262626,
          5513.69696969697,
          5571.131313131313,
          5628.565656565656,
          5686.0
         ],
         "xaxis": "x",
         "y": [
          -97.00268208328157,
          -44.08895496473443,
          8.824772153812717,
          61.73849927235986,
          114.652226390907,
          167.56595350945412,
          220.4796806280013,
          273.39340774654846,
          326.3071348650956,
          379.2208619836427,
          432.1345891021898,
          485.048316220737,
          537.9620433392842,
          590.8757704578313,
          643.7894975763785,
          696.7032246949256,
          749.6169518134727,
          802.5306789320199,
          855.444406050567,
          908.3581331691141,
          961.2718602876612,
          1014.1855874062085,
          1067.0993145247555,
          1120.0130416433026,
          1172.9267687618499,
          1225.8404958803972,
          1278.7542229989442,
          1331.6679501174913,
          1384.5816772360386,
          1437.4954043545856,
          1490.4091314731327,
          1543.32285859168,
          1596.236585710227,
          1649.150312828774,
          1702.0640399473214,
          1754.9777670658684,
          1807.8914941844155,
          1860.8052213029628,
          1913.7189484215098,
          1966.632675540057,
          2019.546402658604,
          2072.4601297771515,
          2125.3738568956987,
          2178.287584014246,
          2231.2013111327924,
          2284.1150382513397,
          2337.028765369887,
          2389.9424924884343,
          2442.8562196069815,
          2495.769946725529,
          2548.683673844076,
          2601.5974009626225,
          2654.5111280811698,
          2707.424855199717,
          2760.3385823182643,
          2813.2523094368116,
          2866.166036555359,
          2919.0797636739053,
          2971.9934907924526,
          3024.907217911,
          3077.820945029547,
          3130.7346721480935,
          3183.6483992666417,
          3236.562126385188,
          3289.4758535037354,
          3342.3895806222827,
          3395.30330774083,
          3448.2170348593772,
          3501.1307619779245,
          3554.044489096472,
          3606.958216215018,
          3659.8719433335655,
          3712.7856704521128,
          3765.69939757066,
          3818.6131246892073,
          3871.5268518077537,
          3924.440578926301,
          3977.3543060448483,
          4030.2680331633956,
          4083.181760281942,
          4136.095487400489,
          4189.0092145190365,
          4241.922941637584,
          4294.836668756131,
          4347.750395874678,
          4400.664122993226,
          4453.577850111773,
          4506.49157723032,
          4559.405304348867,
          4612.319031467414,
          4665.232758585961,
          4718.146485704508,
          4771.060212823055,
          4823.973939941602,
          4876.887667060149,
          4929.801394178697,
          4982.715121297244,
          5035.628848415791,
          5088.5425755343385,
          5141.456302652886
         ],
         "yaxis": "y"
        }
       ],
       "layout": {
        "annotations": [
         {
          "align": "right",
          "font": {
           "color": "pink",
           "size": 12
          },
          "showarrow": false,
          "text": "y = x",
          "x": 7278.6,
          "y": 7278.6
         },
         {
          "align": "right",
          "font": {
           "color": "black",
           "size": 12
          },
          "showarrow": false,
          "text": "r^2 = 0.59",
          "x": 5970.3,
          "y": 5398.529117785531
         }
        ],
        "height": 600,
        "legend": {
         "tracegroupgap": 0
        },
        "margin": {
         "b": 100,
         "l": 100,
         "r": 100,
         "t": 100
        },
        "shapes": [
         {
          "line": {
           "color": "Red",
           "dash": "dash",
           "width": 2
          },
          "type": "line",
          "x0": 0,
          "x1": 6932,
          "y0": 0,
          "y1": 6932
         }
        ],
        "template": {
         "data": {
          "bar": [
           {
            "error_x": {
             "color": "rgb(36,36,36)"
            },
            "error_y": {
             "color": "rgb(36,36,36)"
            },
            "marker": {
             "line": {
              "color": "white",
              "width": 0.5
             },
             "pattern": {
              "fillmode": "overlay",
              "size": 10,
              "solidity": 0.2
             }
            },
            "type": "bar"
           }
          ],
          "barpolar": [
           {
            "marker": {
             "line": {
              "color": "white",
              "width": 0.5
             },
             "pattern": {
              "fillmode": "overlay",
              "size": 10,
              "solidity": 0.2
             }
            },
            "type": "barpolar"
           }
          ],
          "carpet": [
           {
            "aaxis": {
             "endlinecolor": "rgb(36,36,36)",
             "gridcolor": "white",
             "linecolor": "white",
             "minorgridcolor": "white",
             "startlinecolor": "rgb(36,36,36)"
            },
            "baxis": {
             "endlinecolor": "rgb(36,36,36)",
             "gridcolor": "white",
             "linecolor": "white",
             "minorgridcolor": "white",
             "startlinecolor": "rgb(36,36,36)"
            },
            "type": "carpet"
           }
          ],
          "choropleth": [
           {
            "colorbar": {
             "outlinewidth": 1,
             "tickcolor": "rgb(36,36,36)",
             "ticks": "outside"
            },
            "type": "choropleth"
           }
          ],
          "contour": [
           {
            "colorbar": {
             "outlinewidth": 1,
             "tickcolor": "rgb(36,36,36)",
             "ticks": "outside"
            },
            "colorscale": [
             [
              0.0,
              "#440154"
             ],
             [
              0.1111111111111111,
              "#482878"
             ],
             [
              0.2222222222222222,
              "#3e4989"
             ],
             [
              0.3333333333333333,
              "#31688e"
             ],
             [
              0.4444444444444444,
              "#26828e"
             ],
             [
              0.5555555555555556,
              "#1f9e89"
             ],
             [
              0.6666666666666666,
              "#35b779"
             ],
             [
              0.7777777777777778,
              "#6ece58"
             ],
             [
              0.8888888888888888,
              "#b5de2b"
             ],
             [
              1.0,
              "#fde725"
             ]
            ],
            "type": "contour"
           }
          ],
          "contourcarpet": [
           {
            "colorbar": {
             "outlinewidth": 1,
             "tickcolor": "rgb(36,36,36)",
             "ticks": "outside"
            },
            "type": "contourcarpet"
           }
          ],
          "heatmap": [
           {
            "colorbar": {
             "outlinewidth": 1,
             "tickcolor": "rgb(36,36,36)",
             "ticks": "outside"
            },
            "colorscale": [
             [
              0.0,
              "#440154"
             ],
             [
              0.1111111111111111,
              "#482878"
             ],
             [
              0.2222222222222222,
              "#3e4989"
             ],
             [
              0.3333333333333333,
              "#31688e"
             ],
             [
              0.4444444444444444,
              "#26828e"
             ],
             [
              0.5555555555555556,
              "#1f9e89"
             ],
             [
              0.6666666666666666,
              "#35b779"
             ],
             [
              0.7777777777777778,
              "#6ece58"
             ],
             [
              0.8888888888888888,
              "#b5de2b"
             ],
             [
              1.0,
              "#fde725"
             ]
            ],
            "type": "heatmap"
           }
          ],
          "heatmapgl": [
           {
            "colorbar": {
             "outlinewidth": 1,
             "tickcolor": "rgb(36,36,36)",
             "ticks": "outside"
            },
            "colorscale": [
             [
              0.0,
              "#440154"
             ],
             [
              0.1111111111111111,
              "#482878"
             ],
             [
              0.2222222222222222,
              "#3e4989"
             ],
             [
              0.3333333333333333,
              "#31688e"
             ],
             [
              0.4444444444444444,
              "#26828e"
             ],
             [
              0.5555555555555556,
              "#1f9e89"
             ],
             [
              0.6666666666666666,
              "#35b779"
             ],
             [
              0.7777777777777778,
              "#6ece58"
             ],
             [
              0.8888888888888888,
              "#b5de2b"
             ],
             [
              1.0,
              "#fde725"
             ]
            ],
            "type": "heatmapgl"
           }
          ],
          "histogram": [
           {
            "marker": {
             "line": {
              "color": "white",
              "width": 0.6
             }
            },
            "type": "histogram"
           }
          ],
          "histogram2d": [
           {
            "colorbar": {
             "outlinewidth": 1,
             "tickcolor": "rgb(36,36,36)",
             "ticks": "outside"
            },
            "colorscale": [
             [
              0.0,
              "#440154"
             ],
             [
              0.1111111111111111,
              "#482878"
             ],
             [
              0.2222222222222222,
              "#3e4989"
             ],
             [
              0.3333333333333333,
              "#31688e"
             ],
             [
              0.4444444444444444,
              "#26828e"
             ],
             [
              0.5555555555555556,
              "#1f9e89"
             ],
             [
              0.6666666666666666,
              "#35b779"
             ],
             [
              0.7777777777777778,
              "#6ece58"
             ],
             [
              0.8888888888888888,
              "#b5de2b"
             ],
             [
              1.0,
              "#fde725"
             ]
            ],
            "type": "histogram2d"
           }
          ],
          "histogram2dcontour": [
           {
            "colorbar": {
             "outlinewidth": 1,
             "tickcolor": "rgb(36,36,36)",
             "ticks": "outside"
            },
            "colorscale": [
             [
              0.0,
              "#440154"
             ],
             [
              0.1111111111111111,
              "#482878"
             ],
             [
              0.2222222222222222,
              "#3e4989"
             ],
             [
              0.3333333333333333,
              "#31688e"
             ],
             [
              0.4444444444444444,
              "#26828e"
             ],
             [
              0.5555555555555556,
              "#1f9e89"
             ],
             [
              0.6666666666666666,
              "#35b779"
             ],
             [
              0.7777777777777778,
              "#6ece58"
             ],
             [
              0.8888888888888888,
              "#b5de2b"
             ],
             [
              1.0,
              "#fde725"
             ]
            ],
            "type": "histogram2dcontour"
           }
          ],
          "mesh3d": [
           {
            "colorbar": {
             "outlinewidth": 1,
             "tickcolor": "rgb(36,36,36)",
             "ticks": "outside"
            },
            "type": "mesh3d"
           }
          ],
          "parcoords": [
           {
            "line": {
             "colorbar": {
              "outlinewidth": 1,
              "tickcolor": "rgb(36,36,36)",
              "ticks": "outside"
             }
            },
            "type": "parcoords"
           }
          ],
          "pie": [
           {
            "automargin": true,
            "type": "pie"
           }
          ],
          "scatter": [
           {
            "fillpattern": {
             "fillmode": "overlay",
             "size": 10,
             "solidity": 0.2
            },
            "type": "scatter"
           }
          ],
          "scatter3d": [
           {
            "line": {
             "colorbar": {
              "outlinewidth": 1,
              "tickcolor": "rgb(36,36,36)",
              "ticks": "outside"
             }
            },
            "marker": {
             "colorbar": {
              "outlinewidth": 1,
              "tickcolor": "rgb(36,36,36)",
              "ticks": "outside"
             }
            },
            "type": "scatter3d"
           }
          ],
          "scattercarpet": [
           {
            "marker": {
             "colorbar": {
              "outlinewidth": 1,
              "tickcolor": "rgb(36,36,36)",
              "ticks": "outside"
             }
            },
            "type": "scattercarpet"
           }
          ],
          "scattergeo": [
           {
            "marker": {
             "colorbar": {
              "outlinewidth": 1,
              "tickcolor": "rgb(36,36,36)",
              "ticks": "outside"
             }
            },
            "type": "scattergeo"
           }
          ],
          "scattergl": [
           {
            "marker": {
             "colorbar": {
              "outlinewidth": 1,
              "tickcolor": "rgb(36,36,36)",
              "ticks": "outside"
             }
            },
            "type": "scattergl"
           }
          ],
          "scattermapbox": [
           {
            "marker": {
             "colorbar": {
              "outlinewidth": 1,
              "tickcolor": "rgb(36,36,36)",
              "ticks": "outside"
             }
            },
            "type": "scattermapbox"
           }
          ],
          "scatterpolar": [
           {
            "marker": {
             "colorbar": {
              "outlinewidth": 1,
              "tickcolor": "rgb(36,36,36)",
              "ticks": "outside"
             }
            },
            "type": "scatterpolar"
           }
          ],
          "scatterpolargl": [
           {
            "marker": {
             "colorbar": {
              "outlinewidth": 1,
              "tickcolor": "rgb(36,36,36)",
              "ticks": "outside"
             }
            },
            "type": "scatterpolargl"
           }
          ],
          "scatterternary": [
           {
            "marker": {
             "colorbar": {
              "outlinewidth": 1,
              "tickcolor": "rgb(36,36,36)",
              "ticks": "outside"
             }
            },
            "type": "scatterternary"
           }
          ],
          "surface": [
           {
            "colorbar": {
             "outlinewidth": 1,
             "tickcolor": "rgb(36,36,36)",
             "ticks": "outside"
            },
            "colorscale": [
             [
              0.0,
              "#440154"
             ],
             [
              0.1111111111111111,
              "#482878"
             ],
             [
              0.2222222222222222,
              "#3e4989"
             ],
             [
              0.3333333333333333,
              "#31688e"
             ],
             [
              0.4444444444444444,
              "#26828e"
             ],
             [
              0.5555555555555556,
              "#1f9e89"
             ],
             [
              0.6666666666666666,
              "#35b779"
             ],
             [
              0.7777777777777778,
              "#6ece58"
             ],
             [
              0.8888888888888888,
              "#b5de2b"
             ],
             [
              1.0,
              "#fde725"
             ]
            ],
            "type": "surface"
           }
          ],
          "table": [
           {
            "cells": {
             "fill": {
              "color": "rgb(237,237,237)"
             },
             "line": {
              "color": "white"
             }
            },
            "header": {
             "fill": {
              "color": "rgb(217,217,217)"
             },
             "line": {
              "color": "white"
             }
            },
            "type": "table"
           }
          ]
         },
         "layout": {
          "annotationdefaults": {
           "arrowhead": 0,
           "arrowwidth": 1
          },
          "autotypenumbers": "strict",
          "coloraxis": {
           "colorbar": {
            "outlinewidth": 1,
            "tickcolor": "rgb(36,36,36)",
            "ticks": "outside"
           }
          },
          "colorscale": {
           "diverging": [
            [
             0.0,
             "rgb(103,0,31)"
            ],
            [
             0.1,
             "rgb(178,24,43)"
            ],
            [
             0.2,
             "rgb(214,96,77)"
            ],
            [
             0.3,
             "rgb(244,165,130)"
            ],
            [
             0.4,
             "rgb(253,219,199)"
            ],
            [
             0.5,
             "rgb(247,247,247)"
            ],
            [
             0.6,
             "rgb(209,229,240)"
            ],
            [
             0.7,
             "rgb(146,197,222)"
            ],
            [
             0.8,
             "rgb(67,147,195)"
            ],
            [
             0.9,
             "rgb(33,102,172)"
            ],
            [
             1.0,
             "rgb(5,48,97)"
            ]
           ],
           "sequential": [
            [
             0.0,
             "#440154"
            ],
            [
             0.1111111111111111,
             "#482878"
            ],
            [
             0.2222222222222222,
             "#3e4989"
            ],
            [
             0.3333333333333333,
             "#31688e"
            ],
            [
             0.4444444444444444,
             "#26828e"
            ],
            [
             0.5555555555555556,
             "#1f9e89"
            ],
            [
             0.6666666666666666,
             "#35b779"
            ],
            [
             0.7777777777777778,
             "#6ece58"
            ],
            [
             0.8888888888888888,
             "#b5de2b"
            ],
            [
             1.0,
             "#fde725"
            ]
           ],
           "sequentialminus": [
            [
             0.0,
             "#440154"
            ],
            [
             0.1111111111111111,
             "#482878"
            ],
            [
             0.2222222222222222,
             "#3e4989"
            ],
            [
             0.3333333333333333,
             "#31688e"
            ],
            [
             0.4444444444444444,
             "#26828e"
            ],
            [
             0.5555555555555556,
             "#1f9e89"
            ],
            [
             0.6666666666666666,
             "#35b779"
            ],
            [
             0.7777777777777778,
             "#6ece58"
            ],
            [
             0.8888888888888888,
             "#b5de2b"
            ],
            [
             1.0,
             "#fde725"
            ]
           ]
          },
          "colorway": [
           "#91268F",
           "#8CC63E",
           "#00A7A0",
           "#F05A28",
           "#4C4C4C",
           "#630460",
           "#9f3913",
           "#588527",
           "#00716c",
           "#3e4040"
          ],
          "font": {
           "color": "rgb(36,36,36)",
           "family": "Poppins",
           "size": 11
          },
          "geo": {
           "bgcolor": "white",
           "lakecolor": "white",
           "landcolor": "white",
           "showlakes": true,
           "showland": true,
           "subunitcolor": "white"
          },
          "hoverlabel": {
           "align": "left"
          },
          "hovermode": "closest",
          "mapbox": {
           "style": "light"
          },
          "paper_bgcolor": "white",
          "plot_bgcolor": "white",
          "polar": {
           "angularaxis": {
            "gridcolor": "rgb(232,232,232)",
            "linecolor": "rgb(36,36,36)",
            "showgrid": false,
            "showline": true,
            "ticks": "outside"
           },
           "bgcolor": "white",
           "radialaxis": {
            "gridcolor": "rgb(232,232,232)",
            "linecolor": "rgb(36,36,36)",
            "showgrid": false,
            "showline": true,
            "ticks": "outside"
           }
          },
          "scene": {
           "xaxis": {
            "backgroundcolor": "white",
            "gridcolor": "rgb(232,232,232)",
            "gridwidth": 2,
            "linecolor": "rgb(36,36,36)",
            "showbackground": true,
            "showgrid": false,
            "showline": true,
            "ticks": "outside",
            "zeroline": false,
            "zerolinecolor": "rgb(36,36,36)"
           },
           "yaxis": {
            "backgroundcolor": "white",
            "gridcolor": "rgb(232,232,232)",
            "gridwidth": 2,
            "linecolor": "rgb(36,36,36)",
            "showbackground": true,
            "showgrid": false,
            "showline": true,
            "ticks": "outside",
            "zeroline": false,
            "zerolinecolor": "rgb(36,36,36)"
           },
           "zaxis": {
            "backgroundcolor": "white",
            "gridcolor": "rgb(232,232,232)",
            "gridwidth": 2,
            "linecolor": "rgb(36,36,36)",
            "showbackground": true,
            "showgrid": false,
            "showline": true,
            "ticks": "outside",
            "zeroline": false,
            "zerolinecolor": "rgb(36,36,36)"
           }
          },
          "shapedefaults": {
           "fillcolor": "black",
           "line": {
            "width": 0
           },
           "opacity": 0.3
          },
          "ternary": {
           "aaxis": {
            "gridcolor": "rgb(232,232,232)",
            "linecolor": "rgb(36,36,36)",
            "showgrid": false,
            "showline": true,
            "ticks": "outside"
           },
           "baxis": {
            "gridcolor": "rgb(232,232,232)",
            "linecolor": "rgb(36,36,36)",
            "showgrid": false,
            "showline": true,
            "ticks": "outside"
           },
           "bgcolor": "white",
           "caxis": {
            "gridcolor": "rgb(232,232,232)",
            "linecolor": "rgb(36,36,36)",
            "showgrid": false,
            "showline": true,
            "ticks": "outside"
           }
          },
          "title": {
           "x": 0.05
          },
          "xaxis": {
           "automargin": true,
           "gridcolor": "rgb(232,232,232)",
           "linecolor": "rgb(36,36,36)",
           "showgrid": false,
           "showline": true,
           "ticks": "outside",
           "title": {
            "standoff": 15
           },
           "zeroline": false,
           "zerolinecolor": "rgb(36,36,36)"
          },
          "yaxis": {
           "automargin": true,
           "gridcolor": "rgb(232,232,232)",
           "linecolor": "rgb(36,36,36)",
           "showgrid": false,
           "showline": true,
           "ticks": "outside",
           "title": {
            "standoff": 15
           },
           "zeroline": false,
           "zerolinecolor": "rgb(36,36,36)"
          }
         }
        },
        "title": {
         "text": "Medium Trucks: Pierce"
        },
        "width": 800,
        "xaxis": {
         "anchor": "y",
         "domain": [
          0.0,
          1.0
         ],
         "title": {
          "text": "Observed"
         }
        },
        "yaxis": {
         "anchor": "x",
         "domain": [
          0.0,
          1.0
         ],
         "title": {
          "text": "Model"
         }
        }
       }
      },
      "text/html": [
       "<div>                            <div id=\"65362609-4b93-4042-9aaf-587915c9aad6\" class=\"plotly-graph-div\" style=\"height:600px; width:800px;\"></div>            <script type=\"text/javascript\">                require([\"plotly\"], function(Plotly) {                    window.PLOTLYENV=window.PLOTLYENV || {};                                    if (document.getElementById(\"65362609-4b93-4042-9aaf-587915c9aad6\")) {                    Plotly.newPlot(                        \"65362609-4b93-4042-9aaf-587915c9aad6\",                        [{\"customdata\":[[\"I-5 S\\u002fO Mounts NB\",\"Pierce\"],[\"I-5 S\\u002fO Mounts SB\",\"Pierce\"],[\"I-5 S\\u002fO Division NB\",\"Pierce\"],[\"I-5 S\\u002fO Division SB\",\"Pierce\"],[\"I-5 @ N\\u002fO Division NB\",\"Pierce\"],[\"I-5 @ N\\u002fO Division SB\",\"Pierce\"],[\"I-5 S\\u002fO SR-512 NB\",\"Pierce\"],[\"I-5 S\\u002fO SR-512 SB\",\"Pierce\"],[\"I-5 N\\u002fO SR-512 NB\",\"Pierce\"],[\"I-5 N\\u002fO SR-512 SB\",\"Pierce\"],[\"I-5 N\\u002fO 56th NB\",\"Pierce\"],[\"I-5 N\\u002fO 56th SB\",\"Pierce\"],[\"I-5 E\\u002fO SR-16 NB\",\"Pierce\"],[\"I-5 E\\u002fO SR-16 SB\",\"Pierce\"],[\"I-5 E\\u002fO Port of Tacoma NB\",\"Pierce\"],[\"I-5 E\\u002fO Port of Tacoma SB (HOV from 56)\",\"Pierce\"],[\"SR-512 W\\u002fO Meridian WB\",\"Pierce\"],[\"SR-512 W\\u002fO Meridian EB\",\"Pierce\"],[\"SR-167 W\\u002fO SR-410 NB\\u002fSB\",\"Pierce\"],[\"SR-167 E\\u002fO SR-161 NB\\u002fSB\",\"Pierce\"],[\"SR-410 E\\u002fO S Prairie WB\\u002fEB\",\"Pierce\"],[\"SR-410 E\\u002fO Chinook WB\\u002fEB\",\"Pierce\"],[\"SR-410 W\\u002fO SR-123 WB\\u002fEB\",\"Pierce\"],[\"SR-410 E\\u002fO SR-123 WB\\u002fEB\",\"Pierce\"],[\"SR-512 @ I-5 WB\\u002fEB\",\"Pierce\"],[\"SR-512 W\\u002fO SR-7 WB\\u002fEB\",\"Pierce\"],[\"SR-512 S\\u002fO SR-167 WB\\u002fEB\",\"Pierce\"],[\"SR-509 E\\u002fO I-705 NB\\u002fSB\",\"Pierce\"],[\"SR-509 W\\u002fO Alexander NB\\u002fSB\",\"Pierce\"],[\"SR-509 S\\u002fO 11th NB\\u002fSB\",\"Pierce\"],[\"SR-509 N\\u002fO Hyada NB\\u002fSB\",\"Pierce\"],[\"SR-509 E\\u002fO Soundview NB\\u002fSB\",\"Pierce\"],[\"SR-99 @ I-5 NB\\u002fSB\",\"Pierce\"],[\"SR-99 E\\u002fO 54th NB\\u002fSB\",\"Pierce\"],[\"SR-99 S\\u002fO Porter NB\\u002fSB\",\"Pierce\"],[\"SR-16 @ TNB NB\\u002fSB\",\"Pierce\"],[\"SR-16 @ Purdy Dr NB\\u002fSB\",\"Pierce\"],[\"SR-302 N\\u002fO 144th WB\\u002fEB\",\"Pierce\"],[\"SR-302 S\\u002fO 144th WB\\u002fEB\",\"Pierce\"],[\"SR-302 W\\u002fO Key Peninsula Hwy WB\\u002fEB\",\"Pierce\"],[\"SR-302 W\\u002fO Wright-Bliss WB\\u002fEB (E\\u002fO?)\",\"Pierce\"],[\"SR-161 E\\u002fO SR-7 NB\\u002fSB\",\"Pierce\"],[\"SR-161 N\\u002fO Center NB\\u002fSB\",\"Pierce\"],[\"SR-161 N\\u002fO Eatonville Cutoff NB\\u002fSB\",\"Pierce\"],[\"SR-161 N\\u002fO 304th NB\\u002fSB\",\"Pierce\"],[\"SR-161 N\\u002fO 264th NB\\u002fSB\",\"Pierce\"],[\"SR-161 S\\u002fO 224th NB\\u002fSB\",\"Pierce\"],[\"SR-161 N\\u002fO 224th NB\\u002fSB\",\"Pierce\"],[\"SR-161 N\\u002fO 204th NB\\u002fSB\",\"Pierce\"],[\"SR-161 S\\u002fO SR-167 SB off-ramp NB\\u002fSB\",\"Pierce\"],[\"SR-161 S\\u002fO Valley NB\\u002fSB\",\"Pierce\"],[\"SR-161 N\\u002fO Valley NB\\u002fSB\",\"Pierce\"],[\"SR-161 N\\u002fO 8th NB\\u002fSB\",\"Pierce\"],[\"SR-7 @ Thurston County NB\\u002fSB\",\"Pierce\"],[\"SR-7 W\\u002fO Alder Cutoff NB\\u002fSB\",\"Pierce\"],[\"SR-7 N\\u002fO Eatonville Hwy NB\\u002fSB\",\"Pierce\"],[\"SR-7 N\\u002fO Silver Lake NB\\u002fSB\",\"Pierce\"],[\"SR-7 S\\u002fO SR-702 NB\\u002fSB\",\"Pierce\"],[\"SR-7 N\\u002fO 304th NB\\u002fSB\",\"Pierce\"],[\"SR-7 N\\u002fO 260th NB\\u002fSB\",\"Pierce\"],[\"SR-7 S\\u002fO 224th NB\\u002fSB\",\"Pierce\"],[\"SR-7 N\\u002fO 224th NB\\u002fSB\",\"Pierce\"],[\"SR-7 N\\u002fO 38th NB\\u002fSB\",\"Pierce\"],[\"SR-162 @ SR-410 WB\\u002fEB\",\"Pierce\"],[\"SR-162 S\\u002fO Pioneer WB\\u002fEB\",\"Pierce\"],[\"SR-162 E\\u002fO Orville WB\\u002fEB\",\"Pierce\"],[\"SR-162 E\\u002fO S Prairie WB\\u002fEB\",\"Pierce\"],[\"SR-162 N\\u002fO SR-165 WB\\u002fEB\",\"Pierce\"],[\"SR-163 @ SR-16 NB\\u002fSB\",\"Pierce\"],[\"SR-163 N\\u002fO 37th NB\\u002fSB\",\"Pierce\"],[\"SR-163 N\\u002fO Park NB\\u002fSB\",\"Pierce\"],[\"SR-507 S\\u002fO SR-7 NB\\u002fSB\",\"Pierce\"],[\"SR-507 S\\u002fO E Gate NB\\u002fSB\",\"Pierce\"],[\"SR-507 S\\u002fO 288th NB\\u002fSB\",\"Pierce\"],[\"SR-507 N\\u002fO 346th NB\\u002fSB\",\"Pierce\"],[\"SR-702 E\\u002fO SR-507 WB\\u002fEB\",\"Pierce\"],[\"SR-702 E\\u002fO Harts Lake WB\\u002fEB\",\"Pierce\"],[\"SR-702 E\\u002fO 40th WB\\u002fEB\",\"Pierce\"],[\"SR-702 W\\u002fO 8th WB\\u002fEB\",\"Pierce\"],[\"SR-702 E\\u002fO 8th WB\\u002fEB\",\"Pierce\"],[\"SR-165 W\\u002fO SR-162 NB\\u002fSB\",\"Pierce\"],[\"SR-165 N\\u002fO Davis NB\\u002fSB\",\"Pierce\"],[\"SR-165 N\\u002fO Wilkeson-Carbonado NB\\u002fSB\",\"Pierce\"],[\"SR-704 E\\u002fO Spanaway Loop WB\\u002fEB\",\"Pierce\"],[\"SR-706 E\\u002fO SR-7 WB\\u002fEB\",\"Pierce\"],[\"SR-706 E\\u002fO Kernahan WB\\u002fEB\",\"Pierce\"]],\"hovertemplate\":\"Observed=%{x}\\u003cbr\\u003eModel=%{y}\\u003cbr\\u003elocation=%{customdata[0]}\\u003cbr\\u003eCounty=%{customdata[1]}\\u003cextra\\u003e\\u003c\\u002fextra\\u003e\",\"legendgroup\":\"\",\"marker\":{\"color\":\"#91268F\",\"symbol\":\"circle\"},\"mode\":\"markers\",\"name\":\"\",\"orientation\":\"v\",\"showlegend\":false,\"x\":[2398,2384,2500,2589,2331,2275,2608,2499,4754,4821,5641,5686,1764,3843,2614,3294,2040,2040,5571,2749,1262,74,48,29,2835,3326,4048,1036,2310,171,59,62,1276,1600,1150,3133,2138,426,871,227,157,24,456,313,594,598,504,864,1216,1000,1850,720,800,241,106,193,228,363,690,897,1350,858,378,640,924,618,354,547,420,276,161,1264,462,533,611,524,396,389,382,322,390,211,120,720,150,75],\"xaxis\":\"x\",\"y\":[0,0,718,741,712,734,1041,1013,1965,2381,3310,3500,1849,5853,6308,6328,2279,2271,6932,3118,1143,0,0,0,3280,3335,5163,1664,1537,97,29,29,1289,1278,1330,6711,3998,318,323,144,41,5,31,191,359,356,540,592,1047,1320,1990,595,1391,0,16,22,30,28,237,282,317,409,200,520,728,245,130,240,974,371,196,249,155,44,47,8,8,105,105,55,162,79,39,766,1,1],\"yaxis\":\"y\",\"type\":\"scatter\",\"line\":{\"color\":\"Grey\",\"width\":2}},{\"hovertemplate\":\"Observed=%{x}\\u003cbr\\u003eModel=%{y}\\u003cextra\\u003e\\u003c\\u002fextra\\u003e\",\"legendgroup\":\"\",\"line\":{\"color\":\"Grey\",\"dash\":\"solid\",\"width\":2},\"marker\":{\"symbol\":\"circle\"},\"mode\":\"lines\",\"name\":\"\",\"orientation\":\"v\",\"showlegend\":false,\"x\":[0.0,57.43434343434343,114.86868686868686,172.3030303030303,229.73737373737373,287.17171717171715,344.6060606060606,402.04040404040404,459.47474747474746,516.9090909090909,574.3434343434343,631.7777777777777,689.2121212121212,746.6464646464647,804.0808080808081,861.5151515151515,918.9494949494949,976.3838383838383,1033.8181818181818,1091.2525252525252,1148.6868686868686,1206.121212121212,1263.5555555555554,1320.9898989898988,1378.4242424242425,1435.858585858586,1493.2929292929293,1550.7272727272727,1608.1616161616162,1665.5959595959596,1723.030303030303,1780.4646464646464,1837.8989898989898,1895.3333333333333,1952.7676767676767,2010.20202020202,2067.6363636363635,2125.070707070707,2182.5050505050503,2239.939393939394,2297.373737373737,2354.808080808081,2412.242424242424,2469.6767676767677,2527.111111111111,2584.5454545454545,2641.9797979797977,2699.4141414141413,2756.848484848485,2814.282828282828,2871.717171717172,2929.151515151515,2986.5858585858587,3044.020202020202,3101.4545454545455,3158.8888888888887,3216.3232323232323,3273.7575757575755,3331.191919191919,3388.6262626262624,3446.060606060606,3503.494949494949,3560.929292929293,3618.363636363636,3675.7979797979797,3733.2323232323233,3790.6666666666665,3848.10101010101,3905.5353535353534,3962.969696969697,4020.40404040404,4077.838383838384,4135.272727272727,4192.707070707071,4250.141414141414,4307.575757575757,4365.010101010101,4422.444444444444,4479.878787878788,4537.313131313131,4594.747474747474,4652.181818181818,4709.616161616162,4767.050505050505,4824.484848484848,4881.919191919192,4939.353535353535,4996.787878787879,5054.222222222222,5111.656565656565,5169.090909090909,5226.525252525253,5283.959595959595,5341.393939393939,5398.828282828283,5456.262626262626,5513.69696969697,5571.131313131313,5628.565656565656,5686.0],\"xaxis\":\"x\",\"y\":[-97.00268208328157,-44.08895496473443,8.824772153812717,61.73849927235986,114.652226390907,167.56595350945412,220.4796806280013,273.39340774654846,326.3071348650956,379.2208619836427,432.1345891021898,485.048316220737,537.9620433392842,590.8757704578313,643.7894975763785,696.7032246949256,749.6169518134727,802.5306789320199,855.444406050567,908.3581331691141,961.2718602876612,1014.1855874062085,1067.0993145247555,1120.0130416433026,1172.9267687618499,1225.8404958803972,1278.7542229989442,1331.6679501174913,1384.5816772360386,1437.4954043545856,1490.4091314731327,1543.32285859168,1596.236585710227,1649.150312828774,1702.0640399473214,1754.9777670658684,1807.8914941844155,1860.8052213029628,1913.7189484215098,1966.632675540057,2019.546402658604,2072.4601297771515,2125.3738568956987,2178.287584014246,2231.2013111327924,2284.1150382513397,2337.028765369887,2389.9424924884343,2442.8562196069815,2495.769946725529,2548.683673844076,2601.5974009626225,2654.5111280811698,2707.424855199717,2760.3385823182643,2813.2523094368116,2866.166036555359,2919.0797636739053,2971.9934907924526,3024.907217911,3077.820945029547,3130.7346721480935,3183.6483992666417,3236.562126385188,3289.4758535037354,3342.3895806222827,3395.30330774083,3448.2170348593772,3501.1307619779245,3554.044489096472,3606.958216215018,3659.8719433335655,3712.7856704521128,3765.69939757066,3818.6131246892073,3871.5268518077537,3924.440578926301,3977.3543060448483,4030.2680331633956,4083.181760281942,4136.095487400489,4189.0092145190365,4241.922941637584,4294.836668756131,4347.750395874678,4400.664122993226,4453.577850111773,4506.49157723032,4559.405304348867,4612.319031467414,4665.232758585961,4718.146485704508,4771.060212823055,4823.973939941602,4876.887667060149,4929.801394178697,4982.715121297244,5035.628848415791,5088.5425755343385,5141.456302652886],\"yaxis\":\"y\",\"type\":\"scatter\"}],                        {\"template\":{\"data\":{\"barpolar\":[{\"marker\":{\"line\":{\"color\":\"white\",\"width\":0.5},\"pattern\":{\"fillmode\":\"overlay\",\"size\":10,\"solidity\":0.2}},\"type\":\"barpolar\"}],\"bar\":[{\"error_x\":{\"color\":\"rgb(36,36,36)\"},\"error_y\":{\"color\":\"rgb(36,36,36)\"},\"marker\":{\"line\":{\"color\":\"white\",\"width\":0.5},\"pattern\":{\"fillmode\":\"overlay\",\"size\":10,\"solidity\":0.2}},\"type\":\"bar\"}],\"carpet\":[{\"aaxis\":{\"endlinecolor\":\"rgb(36,36,36)\",\"gridcolor\":\"white\",\"linecolor\":\"white\",\"minorgridcolor\":\"white\",\"startlinecolor\":\"rgb(36,36,36)\"},\"baxis\":{\"endlinecolor\":\"rgb(36,36,36)\",\"gridcolor\":\"white\",\"linecolor\":\"white\",\"minorgridcolor\":\"white\",\"startlinecolor\":\"rgb(36,36,36)\"},\"type\":\"carpet\"}],\"choropleth\":[{\"colorbar\":{\"outlinewidth\":1,\"tickcolor\":\"rgb(36,36,36)\",\"ticks\":\"outside\"},\"type\":\"choropleth\"}],\"contourcarpet\":[{\"colorbar\":{\"outlinewidth\":1,\"tickcolor\":\"rgb(36,36,36)\",\"ticks\":\"outside\"},\"type\":\"contourcarpet\"}],\"contour\":[{\"colorbar\":{\"outlinewidth\":1,\"tickcolor\":\"rgb(36,36,36)\",\"ticks\":\"outside\"},\"colorscale\":[[0.0,\"#440154\"],[0.1111111111111111,\"#482878\"],[0.2222222222222222,\"#3e4989\"],[0.3333333333333333,\"#31688e\"],[0.4444444444444444,\"#26828e\"],[0.5555555555555556,\"#1f9e89\"],[0.6666666666666666,\"#35b779\"],[0.7777777777777778,\"#6ece58\"],[0.8888888888888888,\"#b5de2b\"],[1.0,\"#fde725\"]],\"type\":\"contour\"}],\"heatmapgl\":[{\"colorbar\":{\"outlinewidth\":1,\"tickcolor\":\"rgb(36,36,36)\",\"ticks\":\"outside\"},\"colorscale\":[[0.0,\"#440154\"],[0.1111111111111111,\"#482878\"],[0.2222222222222222,\"#3e4989\"],[0.3333333333333333,\"#31688e\"],[0.4444444444444444,\"#26828e\"],[0.5555555555555556,\"#1f9e89\"],[0.6666666666666666,\"#35b779\"],[0.7777777777777778,\"#6ece58\"],[0.8888888888888888,\"#b5de2b\"],[1.0,\"#fde725\"]],\"type\":\"heatmapgl\"}],\"heatmap\":[{\"colorbar\":{\"outlinewidth\":1,\"tickcolor\":\"rgb(36,36,36)\",\"ticks\":\"outside\"},\"colorscale\":[[0.0,\"#440154\"],[0.1111111111111111,\"#482878\"],[0.2222222222222222,\"#3e4989\"],[0.3333333333333333,\"#31688e\"],[0.4444444444444444,\"#26828e\"],[0.5555555555555556,\"#1f9e89\"],[0.6666666666666666,\"#35b779\"],[0.7777777777777778,\"#6ece58\"],[0.8888888888888888,\"#b5de2b\"],[1.0,\"#fde725\"]],\"type\":\"heatmap\"}],\"histogram2dcontour\":[{\"colorbar\":{\"outlinewidth\":1,\"tickcolor\":\"rgb(36,36,36)\",\"ticks\":\"outside\"},\"colorscale\":[[0.0,\"#440154\"],[0.1111111111111111,\"#482878\"],[0.2222222222222222,\"#3e4989\"],[0.3333333333333333,\"#31688e\"],[0.4444444444444444,\"#26828e\"],[0.5555555555555556,\"#1f9e89\"],[0.6666666666666666,\"#35b779\"],[0.7777777777777778,\"#6ece58\"],[0.8888888888888888,\"#b5de2b\"],[1.0,\"#fde725\"]],\"type\":\"histogram2dcontour\"}],\"histogram2d\":[{\"colorbar\":{\"outlinewidth\":1,\"tickcolor\":\"rgb(36,36,36)\",\"ticks\":\"outside\"},\"colorscale\":[[0.0,\"#440154\"],[0.1111111111111111,\"#482878\"],[0.2222222222222222,\"#3e4989\"],[0.3333333333333333,\"#31688e\"],[0.4444444444444444,\"#26828e\"],[0.5555555555555556,\"#1f9e89\"],[0.6666666666666666,\"#35b779\"],[0.7777777777777778,\"#6ece58\"],[0.8888888888888888,\"#b5de2b\"],[1.0,\"#fde725\"]],\"type\":\"histogram2d\"}],\"histogram\":[{\"marker\":{\"line\":{\"color\":\"white\",\"width\":0.6}},\"type\":\"histogram\"}],\"mesh3d\":[{\"colorbar\":{\"outlinewidth\":1,\"tickcolor\":\"rgb(36,36,36)\",\"ticks\":\"outside\"},\"type\":\"mesh3d\"}],\"parcoords\":[{\"line\":{\"colorbar\":{\"outlinewidth\":1,\"tickcolor\":\"rgb(36,36,36)\",\"ticks\":\"outside\"}},\"type\":\"parcoords\"}],\"pie\":[{\"automargin\":true,\"type\":\"pie\"}],\"scatter3d\":[{\"line\":{\"colorbar\":{\"outlinewidth\":1,\"tickcolor\":\"rgb(36,36,36)\",\"ticks\":\"outside\"}},\"marker\":{\"colorbar\":{\"outlinewidth\":1,\"tickcolor\":\"rgb(36,36,36)\",\"ticks\":\"outside\"}},\"type\":\"scatter3d\"}],\"scattercarpet\":[{\"marker\":{\"colorbar\":{\"outlinewidth\":1,\"tickcolor\":\"rgb(36,36,36)\",\"ticks\":\"outside\"}},\"type\":\"scattercarpet\"}],\"scattergeo\":[{\"marker\":{\"colorbar\":{\"outlinewidth\":1,\"tickcolor\":\"rgb(36,36,36)\",\"ticks\":\"outside\"}},\"type\":\"scattergeo\"}],\"scattergl\":[{\"marker\":{\"colorbar\":{\"outlinewidth\":1,\"tickcolor\":\"rgb(36,36,36)\",\"ticks\":\"outside\"}},\"type\":\"scattergl\"}],\"scattermapbox\":[{\"marker\":{\"colorbar\":{\"outlinewidth\":1,\"tickcolor\":\"rgb(36,36,36)\",\"ticks\":\"outside\"}},\"type\":\"scattermapbox\"}],\"scatterpolargl\":[{\"marker\":{\"colorbar\":{\"outlinewidth\":1,\"tickcolor\":\"rgb(36,36,36)\",\"ticks\":\"outside\"}},\"type\":\"scatterpolargl\"}],\"scatterpolar\":[{\"marker\":{\"colorbar\":{\"outlinewidth\":1,\"tickcolor\":\"rgb(36,36,36)\",\"ticks\":\"outside\"}},\"type\":\"scatterpolar\"}],\"scatter\":[{\"fillpattern\":{\"fillmode\":\"overlay\",\"size\":10,\"solidity\":0.2},\"type\":\"scatter\"}],\"scatterternary\":[{\"marker\":{\"colorbar\":{\"outlinewidth\":1,\"tickcolor\":\"rgb(36,36,36)\",\"ticks\":\"outside\"}},\"type\":\"scatterternary\"}],\"surface\":[{\"colorbar\":{\"outlinewidth\":1,\"tickcolor\":\"rgb(36,36,36)\",\"ticks\":\"outside\"},\"colorscale\":[[0.0,\"#440154\"],[0.1111111111111111,\"#482878\"],[0.2222222222222222,\"#3e4989\"],[0.3333333333333333,\"#31688e\"],[0.4444444444444444,\"#26828e\"],[0.5555555555555556,\"#1f9e89\"],[0.6666666666666666,\"#35b779\"],[0.7777777777777778,\"#6ece58\"],[0.8888888888888888,\"#b5de2b\"],[1.0,\"#fde725\"]],\"type\":\"surface\"}],\"table\":[{\"cells\":{\"fill\":{\"color\":\"rgb(237,237,237)\"},\"line\":{\"color\":\"white\"}},\"header\":{\"fill\":{\"color\":\"rgb(217,217,217)\"},\"line\":{\"color\":\"white\"}},\"type\":\"table\"}]},\"layout\":{\"annotationdefaults\":{\"arrowhead\":0,\"arrowwidth\":1},\"autotypenumbers\":\"strict\",\"coloraxis\":{\"colorbar\":{\"outlinewidth\":1,\"tickcolor\":\"rgb(36,36,36)\",\"ticks\":\"outside\"}},\"colorscale\":{\"diverging\":[[0.0,\"rgb(103,0,31)\"],[0.1,\"rgb(178,24,43)\"],[0.2,\"rgb(214,96,77)\"],[0.3,\"rgb(244,165,130)\"],[0.4,\"rgb(253,219,199)\"],[0.5,\"rgb(247,247,247)\"],[0.6,\"rgb(209,229,240)\"],[0.7,\"rgb(146,197,222)\"],[0.8,\"rgb(67,147,195)\"],[0.9,\"rgb(33,102,172)\"],[1.0,\"rgb(5,48,97)\"]],\"sequential\":[[0.0,\"#440154\"],[0.1111111111111111,\"#482878\"],[0.2222222222222222,\"#3e4989\"],[0.3333333333333333,\"#31688e\"],[0.4444444444444444,\"#26828e\"],[0.5555555555555556,\"#1f9e89\"],[0.6666666666666666,\"#35b779\"],[0.7777777777777778,\"#6ece58\"],[0.8888888888888888,\"#b5de2b\"],[1.0,\"#fde725\"]],\"sequentialminus\":[[0.0,\"#440154\"],[0.1111111111111111,\"#482878\"],[0.2222222222222222,\"#3e4989\"],[0.3333333333333333,\"#31688e\"],[0.4444444444444444,\"#26828e\"],[0.5555555555555556,\"#1f9e89\"],[0.6666666666666666,\"#35b779\"],[0.7777777777777778,\"#6ece58\"],[0.8888888888888888,\"#b5de2b\"],[1.0,\"#fde725\"]]},\"colorway\":[\"#91268F\",\"#8CC63E\",\"#00A7A0\",\"#F05A28\",\"#4C4C4C\",\"#630460\",\"#9f3913\",\"#588527\",\"#00716c\",\"#3e4040\"],\"font\":{\"color\":\"rgb(36,36,36)\",\"family\":\"Poppins\",\"size\":11},\"geo\":{\"bgcolor\":\"white\",\"lakecolor\":\"white\",\"landcolor\":\"white\",\"showlakes\":true,\"showland\":true,\"subunitcolor\":\"white\"},\"hoverlabel\":{\"align\":\"left\"},\"hovermode\":\"closest\",\"mapbox\":{\"style\":\"light\"},\"paper_bgcolor\":\"white\",\"plot_bgcolor\":\"white\",\"polar\":{\"angularaxis\":{\"gridcolor\":\"rgb(232,232,232)\",\"linecolor\":\"rgb(36,36,36)\",\"showgrid\":false,\"showline\":true,\"ticks\":\"outside\"},\"bgcolor\":\"white\",\"radialaxis\":{\"gridcolor\":\"rgb(232,232,232)\",\"linecolor\":\"rgb(36,36,36)\",\"showgrid\":false,\"showline\":true,\"ticks\":\"outside\"}},\"scene\":{\"xaxis\":{\"backgroundcolor\":\"white\",\"gridcolor\":\"rgb(232,232,232)\",\"gridwidth\":2,\"linecolor\":\"rgb(36,36,36)\",\"showbackground\":true,\"showgrid\":false,\"showline\":true,\"ticks\":\"outside\",\"zeroline\":false,\"zerolinecolor\":\"rgb(36,36,36)\"},\"yaxis\":{\"backgroundcolor\":\"white\",\"gridcolor\":\"rgb(232,232,232)\",\"gridwidth\":2,\"linecolor\":\"rgb(36,36,36)\",\"showbackground\":true,\"showgrid\":false,\"showline\":true,\"ticks\":\"outside\",\"zeroline\":false,\"zerolinecolor\":\"rgb(36,36,36)\"},\"zaxis\":{\"backgroundcolor\":\"white\",\"gridcolor\":\"rgb(232,232,232)\",\"gridwidth\":2,\"linecolor\":\"rgb(36,36,36)\",\"showbackground\":true,\"showgrid\":false,\"showline\":true,\"ticks\":\"outside\",\"zeroline\":false,\"zerolinecolor\":\"rgb(36,36,36)\"}},\"shapedefaults\":{\"fillcolor\":\"black\",\"line\":{\"width\":0},\"opacity\":0.3},\"ternary\":{\"aaxis\":{\"gridcolor\":\"rgb(232,232,232)\",\"linecolor\":\"rgb(36,36,36)\",\"showgrid\":false,\"showline\":true,\"ticks\":\"outside\"},\"baxis\":{\"gridcolor\":\"rgb(232,232,232)\",\"linecolor\":\"rgb(36,36,36)\",\"showgrid\":false,\"showline\":true,\"ticks\":\"outside\"},\"bgcolor\":\"white\",\"caxis\":{\"gridcolor\":\"rgb(232,232,232)\",\"linecolor\":\"rgb(36,36,36)\",\"showgrid\":false,\"showline\":true,\"ticks\":\"outside\"}},\"title\":{\"x\":0.05},\"xaxis\":{\"automargin\":true,\"gridcolor\":\"rgb(232,232,232)\",\"linecolor\":\"rgb(36,36,36)\",\"showgrid\":false,\"showline\":true,\"ticks\":\"outside\",\"title\":{\"standoff\":15},\"zeroline\":false,\"zerolinecolor\":\"rgb(36,36,36)\"},\"yaxis\":{\"automargin\":true,\"gridcolor\":\"rgb(232,232,232)\",\"linecolor\":\"rgb(36,36,36)\",\"showgrid\":false,\"showline\":true,\"ticks\":\"outside\",\"title\":{\"standoff\":15},\"zeroline\":false,\"zerolinecolor\":\"rgb(36,36,36)\"}}},\"xaxis\":{\"anchor\":\"y\",\"domain\":[0.0,1.0],\"title\":{\"text\":\"Observed\"}},\"yaxis\":{\"anchor\":\"x\",\"domain\":[0.0,1.0],\"title\":{\"text\":\"Model\"}},\"legend\":{\"tracegroupgap\":0},\"title\":{\"text\":\"Medium Trucks: Pierce\"},\"margin\":{\"l\":100,\"r\":100,\"t\":100,\"b\":100},\"height\":600,\"width\":800,\"shapes\":[{\"line\":{\"color\":\"Red\",\"dash\":\"dash\",\"width\":2},\"type\":\"line\",\"x0\":0,\"x1\":6932,\"y0\":0,\"y1\":6932}],\"annotations\":[{\"align\":\"right\",\"font\":{\"color\":\"pink\",\"size\":12},\"showarrow\":false,\"text\":\"y = x\",\"x\":7278.6,\"y\":7278.6},{\"align\":\"right\",\"font\":{\"color\":\"black\",\"size\":12},\"showarrow\":false,\"text\":\"r^2 = 0.59\",\"x\":5970.3,\"y\":5398.529117785531}]},                        {\"responsive\": true}                    ).then(function(){\n",
       "                            \n",
       "var gd = document.getElementById('65362609-4b93-4042-9aaf-587915c9aad6');\n",
       "var x = new MutationObserver(function (mutations, observer) {{\n",
       "        var display = window.getComputedStyle(gd).display;\n",
       "        if (!display || display === 'none') {{\n",
       "            console.log([gd, 'removed!']);\n",
       "            Plotly.purge(gd);\n",
       "            observer.disconnect();\n",
       "        }}\n",
       "}});\n",
       "\n",
       "// Listen for the removal of the full notebook cells\n",
       "var notebookContainer = gd.closest('#notebook-container');\n",
       "if (notebookContainer) {{\n",
       "    x.observe(notebookContainer, {childList: true});\n",
       "}}\n",
       "\n",
       "// Listen for the clearing of the current output cell\n",
       "var outputEl = gd.closest('.output');\n",
       "if (outputEl) {{\n",
       "    x.observe(outputEl, {childList: true});\n",
       "}}\n",
       "\n",
       "                        })                };                });            </script>        </div>"
      ]
     },
     "metadata": {},
     "output_type": "display_data"
    }
   ],
   "source": [
    "fig = create_truck_chart(df_daily_med, 'Medium', 'Pierce')\n",
    "fig.show()"
   ]
  },
  {
   "cell_type": "raw",
   "id": "e54ab844",
   "metadata": {},
   "source": [
    "#### Snohomish"
   ]
  },
  {
   "cell_type": "code",
   "execution_count": 33,
   "id": "b4a630bf",
   "metadata": {},
   "outputs": [
    {
     "data": {
      "application/vnd.plotly.v1+json": {
       "config": {
        "plotlyServerURL": "https://plot.ly"
       },
       "data": [
        {
         "customdata": [
          [
           "I-5 @ 44th NB",
           "Snohomish"
          ],
          [
           "I-5 @ 44th SB",
           "Snohomish"
          ],
          [
           "I-5 N/O 164th NB",
           "Snohomish"
          ],
          [
           "I-5 N/O 164th SB",
           "Snohomish"
          ],
          [
           "I-5 N/O SR-526 NB",
           "Snohomish"
          ],
          [
           "I-5 N/O SR-526 SB",
           "Snohomish"
          ],
          [
           "I-5 N/O 41st NB",
           "Snohomish"
          ],
          [
           "I-5 N/O 41st SB",
           "Snohomish"
          ],
          [
           "I-5 @ SR-528 NB",
           "Snohomish"
          ],
          [
           "I-5 @ SR-528 SB",
           "Snohomish"
          ],
          [
           "I-5 N/O SR-531 NB",
           "Snohomish"
          ],
          [
           "I-5 N/O SR-531 SB",
           "Snohomish"
          ],
          [
           "I-405 N/O SR-527 NB",
           "Snohomish"
          ],
          [
           "I-405 N/O SR-527 SB",
           "Snohomish"
          ],
          [
           "SR-525 N/O I-5 NB",
           "Snohomish"
          ],
          [
           "SR-525 N/O I-5 SB",
           "Snohomish"
          ],
          [
           "I-5 @ SR-532 NB/SB",
           "Snohomish"
          ],
          [
           "I-5 @ Skagit border NB/SB",
           "Snohomish"
          ],
          [
           "SR-525 N/O SR-526 NB/SB",
           "Snohomish"
          ],
          [
           "SR-525 N/O 5th NB/SB",
           "Snohomish"
          ],
          [
           "SR-99 E/O Evergreen NB/SB",
           "Snohomish"
          ],
          [
           "SR-526 W/O Paine Field Blvd WB/EB",
           "Snohomish"
          ],
          [
           "SR-526 E/O Paine Field Blvd WB/EB",
           "Snohomish"
          ],
          [
           "SR-9 @ SR-522 NB/SB",
           "Snohomish"
          ],
          [
           "SR-9 N/O SR-2 NB/SB",
           "Snohomish"
          ],
          [
           "SR-9 N/O SR-204 NB/SB",
           "Snohomish"
          ],
          [
           "SR-9 N/O SR-92 NB/SB",
           "Snohomish"
          ],
          [
           "SR-9 N/O 132nd NB/SB",
           "Snohomish"
          ],
          [
           "SR-9 N/O SR-531 NB/SB",
           "Snohomish"
          ],
          [
           "SR-9 S/O 67th NB/SB",
           "Snohomish"
          ],
          [
           "SR-9 N/O Kackman NB/SB",
           "Snohomish"
          ],
          [
           "SR-9 N/O Stanwood-Bryant NB/SB",
           "Snohomish"
          ],
          [
           "SR-532 @ Island County WB/EB",
           "Snohomish"
          ],
          [
           "SR-532 W/O 28th WB/EB",
           "Snohomish"
          ],
          [
           "SR-104 @ Ferry Loading Edm WB/EB",
           "Snohomish"
          ],
          [
           "SR-104 N/O Pine WB/EB",
           "Snohomish"
          ],
          [
           "SR-104 E/O 5th WB/EB",
           "Snohomish"
          ],
          [
           "SR-524 W/O 3rd WB/EB",
           "Snohomish"
          ],
          [
           "SR-524 S/O Main WB/EB",
           "Snohomish"
          ],
          [
           "SR-524 N/O Main WB/EB",
           "Snohomish"
          ],
          [
           "SR-524 E/O 68th WB/EB",
           "Snohomish"
          ],
          [
           "SR-524 E/O 39th WB/EB",
           "Snohomish"
          ],
          [
           "SR-524 N/O Paradise Lake WB/EB",
           "Snohomish"
          ],
          [
           "SR-2 E/O I-5 WB/EB",
           "Snohomish"
          ],
          [
           "SR-2 S/O SR-204 WB/EB",
           "Snohomish"
          ],
          [
           "SR-2 E/O Main WB/EB",
           "Snohomish"
          ],
          [
           "SR-2 E/O Rice WB/EB",
           "Snohomish"
          ],
          [
           "SR-2 E/O 10th (Gold Bar) WB/EB",
           "Snohomish"
          ],
          [
           "SR-2 W/O Index-Galena WB/EB",
           "Snohomish"
          ],
          [
           "SR-2 E/O Index-Galena WB/EB",
           "Snohomish"
          ],
          [
           "SR-527 N/O I-405 NB/SB",
           "Snohomish"
          ],
          [
           "SR-527 N/O 196th NB/SB",
           "Snohomish"
          ],
          [
           "SR-527 N/O Dumas NB/SB",
           "Snohomish"
          ],
          [
           "SR-527 N/O 100th NB/SB",
           "Snohomish"
          ],
          [
           "SR-529 @ I-5 (Evt) NB/SB",
           "Snohomish"
          ],
          [
           "SR-529 S/O Everett NB/SB",
           "Snohomish"
          ],
          [
           "SR-529 W/O Maple NB/SB",
           "Snohomish"
          ],
          [
           "SR-529 N/O Everett NB/SB",
           "Snohomish"
          ],
          [
           "SR-529 N/O Broadway NB/SB",
           "Snohomish"
          ],
          [
           "SR-96 @ I-5 WB/EB",
           "Snohomish"
          ],
          [
           "SR-96 N/O 132nd WB/EB",
           "Snohomish"
          ],
          [
           "SR-96 E/O Seattle Hill WB/EB",
           "Snohomish"
          ],
          [
           "SR-528 @ I-5 WB/EB",
           "Snohomish"
          ],
          [
           "SR-528 E/O SR-529 WB/EB",
           "Snohomish"
          ],
          [
           "SR-531 N/O Rose WB/EB",
           "Snohomish"
          ],
          [
           "SR-531 E/O Lk Goodwin WB/EB",
           "Snohomish"
          ],
          [
           "SR-531 E/O 27th WB/EB",
           "Snohomish"
          ],
          [
           "SR-531 E/O I-5 WB/EB",
           "Snohomish"
          ],
          [
           "SR-531 E/O 43rd WB/EB",
           "Snohomish"
          ],
          [
           "SR-531 W/O 67th WB/EB",
           "Snohomish"
          ],
          [
           "SR-531 E/O 67th WB/EB",
           "Snohomish"
          ],
          [
           "SR-530 @ I-5 WB/EB",
           "Snohomish"
          ],
          [
           "SR-530 E/O Smokey Pt WB/EB",
           "Snohomish"
          ],
          [
           "SR-530 N/O 211th WB/EB",
           "Snohomish"
          ],
          [
           "SR-530 E/O SR-9 WB/EB",
           "Snohomish"
          ],
          [
           "SR-530 W/O Arlington Hts WB/EB",
           "Snohomish"
          ],
          [
           "SR-530 E/O Arlington Hts WB/EB",
           "Snohomish"
          ],
          [
           "SR-530 W/O Jim Creek WB/EB",
           "Snohomish"
          ],
          [
           "SR-530 W/O Ramstad WB/EB",
           "Snohomish"
          ],
          [
           "SR-530 @ Skagit County WB/EB",
           "Snohomish"
          ],
          [
           "SR-203 N/O 203rd NB/SB",
           "Snohomish"
          ],
          [
           "SR-204 @ SR-2 NB/SB",
           "Snohomish"
          ],
          [
           "SR-204 N/O 20th NB/SB",
           "Snohomish"
          ],
          [
           "SR-204 N/O SR-2 NB/SB",
           "Snohomish"
          ],
          [
           "SR-92 E/O Lake WB/EB",
           "Snohomish"
          ],
          [
           "SR-92 E/O Callow WB/EB",
           "Snohomish"
          ],
          [
           "SR-92 E/O Quarry WB/EB",
           "Snohomish"
          ],
          [
           "SR-92 W/O Mountain Loop WB/EB",
           "Snohomish"
          ]
         ],
         "hovertemplate": "Observed=%{x}<br>Model=%{y}<br>location=%{customdata[0]}<br>County=%{customdata[1]}<extra></extra>",
         "legendgroup": "",
         "line": {
          "color": "Grey",
          "width": 2
         },
         "marker": {
          "color": "#91268F",
          "symbol": "circle"
         },
         "mode": "markers",
         "name": "",
         "orientation": "v",
         "showlegend": false,
         "type": "scatter",
         "x": [
          2586,
          2604,
          2869,
          2888,
          2689,
          2832,
          2293,
          2656,
          2191,
          2251,
          1728,
          1737,
          1539,
          1620,
          1248,
          851,
          2444,
          2481,
          710,
          364,
          475,
          396,
          915,
          1853,
          1311,
          1387,
          1987,
          829,
          484,
          658,
          443,
          135,
          1056,
          739,
          294,
          220,
          360,
          68,
          160,
          167,
          494,
          330,
          1157,
          2430,
          1634,
          858,
          735,
          516,
          346,
          242,
          1484,
          837,
          704,
          858,
          333,
          271,
          364,
          238,
          1122,
          1408,
          392,
          220,
          728,
          616,
          75,
          432,
          693,
          1230,
          1632,
          969,
          560,
          690,
          882,
          784,
          420,
          520,
          461,
          410,
          276,
          167,
          636,
          259,
          371,
          960,
          1349,
          994,
          320,
          324
         ],
         "xaxis": "x",
         "y": [
          5683,
          5697,
          5116,
          4804,
          4452,
          4475,
          4338,
          4192,
          1930,
          1941,
          658,
          624,
          4679,
          4532,
          3083,
          2869,
          117,
          0,
          342,
          36,
          141,
          192,
          1771,
          1341,
          1354,
          1810,
          2159,
          703,
          534,
          184,
          46,
          62,
          0,
          596,
          213,
          165,
          278,
          218,
          70,
          254,
          611,
          442,
          602,
          3188,
          1683,
          754,
          308,
          106,
          106,
          77,
          3064,
          943,
          396,
          1065,
          443,
          408,
          341,
          122,
          631,
          1547,
          422,
          52,
          1102,
          583,
          82,
          239,
          694,
          1466,
          940,
          241,
          366,
          343,
          610,
          404,
          389,
          401,
          333,
          285,
          235,
          0,
          442,
          158,
          297,
          1358,
          779,
          564,
          195,
          158
         ],
         "yaxis": "y"
        },
        {
         "hovertemplate": "Observed=%{x}<br>Model=%{y}<extra></extra>",
         "legendgroup": "",
         "line": {
          "color": "Grey",
          "dash": "solid",
          "width": 2
         },
         "marker": {
          "symbol": "circle"
         },
         "mode": "lines",
         "name": "",
         "orientation": "v",
         "showlegend": false,
         "type": "scatter",
         "x": [
          0.0,
          29.171717171717173,
          58.343434343434346,
          87.51515151515152,
          116.68686868686869,
          145.85858585858585,
          175.03030303030303,
          204.2020202020202,
          233.37373737373738,
          262.54545454545456,
          291.7171717171717,
          320.8888888888889,
          350.06060606060606,
          379.23232323232327,
          408.4040404040404,
          437.5757575757576,
          466.74747474747477,
          495.9191919191919,
          525.0909090909091,
          554.2626262626263,
          583.4343434343434,
          612.6060606060606,
          641.7777777777778,
          670.949494949495,
          700.1212121212121,
          729.2929292929293,
          758.4646464646465,
          787.6363636363636,
          816.8080808080808,
          845.979797979798,
          875.1515151515152,
          904.3232323232323,
          933.4949494949495,
          962.6666666666667,
          991.8383838383838,
          1021.010101010101,
          1050.1818181818182,
          1079.3535353535353,
          1108.5252525252527,
          1137.6969696969697,
          1166.8686868686868,
          1196.0404040404042,
          1225.2121212121212,
          1254.3838383838383,
          1283.5555555555557,
          1312.7272727272727,
          1341.89898989899,
          1371.0707070707072,
          1400.2424242424242,
          1429.4141414141416,
          1458.5858585858587,
          1487.7575757575758,
          1516.929292929293,
          1546.1010101010102,
          1575.2727272727273,
          1604.4444444444446,
          1633.6161616161617,
          1662.7878787878788,
          1691.959595959596,
          1721.1313131313132,
          1750.3030303030305,
          1779.4747474747476,
          1808.6464646464647,
          1837.818181818182,
          1866.989898989899,
          1896.1616161616162,
          1925.3333333333335,
          1954.5050505050506,
          1983.6767676767677,
          2012.848484848485,
          2042.020202020202,
          2071.191919191919,
          2100.3636363636365,
          2129.535353535354,
          2158.7070707070707,
          2187.878787878788,
          2217.0505050505053,
          2246.222222222222,
          2275.3939393939395,
          2304.565656565657,
          2333.7373737373737,
          2362.909090909091,
          2392.0808080808083,
          2421.252525252525,
          2450.4242424242425,
          2479.59595959596,
          2508.7676767676767,
          2537.939393939394,
          2567.1111111111113,
          2596.282828282828,
          2625.4545454545455,
          2654.626262626263,
          2683.79797979798,
          2712.969696969697,
          2742.1414141414143,
          2771.3131313131316,
          2800.4848484848485,
          2829.656565656566,
          2858.828282828283,
          2888.0
         ],
         "xaxis": "x",
         "y": [
          -337.59227966593676,
          -294.1756381721401,
          -250.7589966783435,
          -207.34235518454688,
          -163.92571369075023,
          -120.50907219695361,
          -77.09243070315699,
          -33.675789209360346,
          9.7408522844363,
          53.15749377823295,
          96.57413527202954,
          139.99077676582618,
          183.40741825962277,
          226.82405975341953,
          270.24070124721607,
          313.6573427410127,
          357.07398423480936,
          400.4906257286059,
          443.90726722240265,
          487.3239087161993,
          530.7405502099958,
          574.1571917037925,
          617.5738331975891,
          660.9904746913859,
          704.4071161851823,
          747.8237576789791,
          791.2403991727758,
          834.6570406665721,
          878.0736821603689,
          921.4903236541656,
          964.9069651479622,
          1008.3236066417587,
          1051.7402481355555,
          1095.1568896293522,
          1138.5735311231485,
          1181.9901726169453,
          1225.406814110742,
          1268.8234556045386,
          1312.2400970983354,
          1355.656738592132,
          1399.0733800859284,
          1442.4900215797252,
          1485.9066630735217,
          1529.3233045673182,
          1572.739946061115,
          1616.1565875549115,
          1659.5732290487085,
          1702.989870542505,
          1746.4065120363014,
          1789.8231535300981,
          1833.2397950238949,
          1876.6564365176912,
          1920.0730780114884,
          1963.4897195052847,
          2006.906360999081,
          2050.323002492878,
          2093.7396439866743,
          2137.1562854804715,
          2180.572926974268,
          2223.989568468064,
          2267.4062099618614,
          2310.8228514556577,
          2354.239492949454,
          2397.656134443251,
          2441.0727759370475,
          2484.489417430844,
          2527.906058924641,
          2571.3227004184373,
          2614.7393419122336,
          2658.155983406031,
          2701.572624899827,
          2744.9892663936243,
          2788.4059078874207,
          2831.822549381218,
          2875.239190875014,
          2918.6558323688105,
          2962.0724738626077,
          3005.489115356404,
          3048.9057568502003,
          3092.3223983439975,
          3135.739039837794,
          3179.15568133159,
          3222.5723228253873,
          3265.9889643191837,
          3309.40560581298,
          3352.822247306777,
          3396.2388888005735,
          3439.65553029437,
          3483.072171788167,
          3526.4888132819633,
          3569.9054547757596,
          3613.322096269557,
          3656.738737763354,
          3700.1553792571494,
          3743.5720207509466,
          3786.988662244743,
          3830.4053037385393,
          3873.8219452323365,
          3917.238586726133,
          3960.655228219929
         ],
         "yaxis": "y"
        }
       ],
       "layout": {
        "annotations": [
         {
          "align": "right",
          "font": {
           "color": "pink",
           "size": 12
          },
          "showarrow": false,
          "text": "y = x",
          "x": 5981.85,
          "y": 5981.85
         },
         {
          "align": "right",
          "font": {
           "color": "black",
           "size": 12
          },
          "showarrow": false,
          "text": "r^2 = 0.62",
          "x": 3032.4,
          "y": 4158.687989630926
         }
        ],
        "height": 600,
        "legend": {
         "tracegroupgap": 0
        },
        "margin": {
         "b": 100,
         "l": 100,
         "r": 100,
         "t": 100
        },
        "shapes": [
         {
          "line": {
           "color": "Red",
           "dash": "dash",
           "width": 2
          },
          "type": "line",
          "x0": 0,
          "x1": 5697,
          "y0": 0,
          "y1": 5697
         }
        ],
        "template": {
         "data": {
          "bar": [
           {
            "error_x": {
             "color": "rgb(36,36,36)"
            },
            "error_y": {
             "color": "rgb(36,36,36)"
            },
            "marker": {
             "line": {
              "color": "white",
              "width": 0.5
             },
             "pattern": {
              "fillmode": "overlay",
              "size": 10,
              "solidity": 0.2
             }
            },
            "type": "bar"
           }
          ],
          "barpolar": [
           {
            "marker": {
             "line": {
              "color": "white",
              "width": 0.5
             },
             "pattern": {
              "fillmode": "overlay",
              "size": 10,
              "solidity": 0.2
             }
            },
            "type": "barpolar"
           }
          ],
          "carpet": [
           {
            "aaxis": {
             "endlinecolor": "rgb(36,36,36)",
             "gridcolor": "white",
             "linecolor": "white",
             "minorgridcolor": "white",
             "startlinecolor": "rgb(36,36,36)"
            },
            "baxis": {
             "endlinecolor": "rgb(36,36,36)",
             "gridcolor": "white",
             "linecolor": "white",
             "minorgridcolor": "white",
             "startlinecolor": "rgb(36,36,36)"
            },
            "type": "carpet"
           }
          ],
          "choropleth": [
           {
            "colorbar": {
             "outlinewidth": 1,
             "tickcolor": "rgb(36,36,36)",
             "ticks": "outside"
            },
            "type": "choropleth"
           }
          ],
          "contour": [
           {
            "colorbar": {
             "outlinewidth": 1,
             "tickcolor": "rgb(36,36,36)",
             "ticks": "outside"
            },
            "colorscale": [
             [
              0.0,
              "#440154"
             ],
             [
              0.1111111111111111,
              "#482878"
             ],
             [
              0.2222222222222222,
              "#3e4989"
             ],
             [
              0.3333333333333333,
              "#31688e"
             ],
             [
              0.4444444444444444,
              "#26828e"
             ],
             [
              0.5555555555555556,
              "#1f9e89"
             ],
             [
              0.6666666666666666,
              "#35b779"
             ],
             [
              0.7777777777777778,
              "#6ece58"
             ],
             [
              0.8888888888888888,
              "#b5de2b"
             ],
             [
              1.0,
              "#fde725"
             ]
            ],
            "type": "contour"
           }
          ],
          "contourcarpet": [
           {
            "colorbar": {
             "outlinewidth": 1,
             "tickcolor": "rgb(36,36,36)",
             "ticks": "outside"
            },
            "type": "contourcarpet"
           }
          ],
          "heatmap": [
           {
            "colorbar": {
             "outlinewidth": 1,
             "tickcolor": "rgb(36,36,36)",
             "ticks": "outside"
            },
            "colorscale": [
             [
              0.0,
              "#440154"
             ],
             [
              0.1111111111111111,
              "#482878"
             ],
             [
              0.2222222222222222,
              "#3e4989"
             ],
             [
              0.3333333333333333,
              "#31688e"
             ],
             [
              0.4444444444444444,
              "#26828e"
             ],
             [
              0.5555555555555556,
              "#1f9e89"
             ],
             [
              0.6666666666666666,
              "#35b779"
             ],
             [
              0.7777777777777778,
              "#6ece58"
             ],
             [
              0.8888888888888888,
              "#b5de2b"
             ],
             [
              1.0,
              "#fde725"
             ]
            ],
            "type": "heatmap"
           }
          ],
          "heatmapgl": [
           {
            "colorbar": {
             "outlinewidth": 1,
             "tickcolor": "rgb(36,36,36)",
             "ticks": "outside"
            },
            "colorscale": [
             [
              0.0,
              "#440154"
             ],
             [
              0.1111111111111111,
              "#482878"
             ],
             [
              0.2222222222222222,
              "#3e4989"
             ],
             [
              0.3333333333333333,
              "#31688e"
             ],
             [
              0.4444444444444444,
              "#26828e"
             ],
             [
              0.5555555555555556,
              "#1f9e89"
             ],
             [
              0.6666666666666666,
              "#35b779"
             ],
             [
              0.7777777777777778,
              "#6ece58"
             ],
             [
              0.8888888888888888,
              "#b5de2b"
             ],
             [
              1.0,
              "#fde725"
             ]
            ],
            "type": "heatmapgl"
           }
          ],
          "histogram": [
           {
            "marker": {
             "line": {
              "color": "white",
              "width": 0.6
             }
            },
            "type": "histogram"
           }
          ],
          "histogram2d": [
           {
            "colorbar": {
             "outlinewidth": 1,
             "tickcolor": "rgb(36,36,36)",
             "ticks": "outside"
            },
            "colorscale": [
             [
              0.0,
              "#440154"
             ],
             [
              0.1111111111111111,
              "#482878"
             ],
             [
              0.2222222222222222,
              "#3e4989"
             ],
             [
              0.3333333333333333,
              "#31688e"
             ],
             [
              0.4444444444444444,
              "#26828e"
             ],
             [
              0.5555555555555556,
              "#1f9e89"
             ],
             [
              0.6666666666666666,
              "#35b779"
             ],
             [
              0.7777777777777778,
              "#6ece58"
             ],
             [
              0.8888888888888888,
              "#b5de2b"
             ],
             [
              1.0,
              "#fde725"
             ]
            ],
            "type": "histogram2d"
           }
          ],
          "histogram2dcontour": [
           {
            "colorbar": {
             "outlinewidth": 1,
             "tickcolor": "rgb(36,36,36)",
             "ticks": "outside"
            },
            "colorscale": [
             [
              0.0,
              "#440154"
             ],
             [
              0.1111111111111111,
              "#482878"
             ],
             [
              0.2222222222222222,
              "#3e4989"
             ],
             [
              0.3333333333333333,
              "#31688e"
             ],
             [
              0.4444444444444444,
              "#26828e"
             ],
             [
              0.5555555555555556,
              "#1f9e89"
             ],
             [
              0.6666666666666666,
              "#35b779"
             ],
             [
              0.7777777777777778,
              "#6ece58"
             ],
             [
              0.8888888888888888,
              "#b5de2b"
             ],
             [
              1.0,
              "#fde725"
             ]
            ],
            "type": "histogram2dcontour"
           }
          ],
          "mesh3d": [
           {
            "colorbar": {
             "outlinewidth": 1,
             "tickcolor": "rgb(36,36,36)",
             "ticks": "outside"
            },
            "type": "mesh3d"
           }
          ],
          "parcoords": [
           {
            "line": {
             "colorbar": {
              "outlinewidth": 1,
              "tickcolor": "rgb(36,36,36)",
              "ticks": "outside"
             }
            },
            "type": "parcoords"
           }
          ],
          "pie": [
           {
            "automargin": true,
            "type": "pie"
           }
          ],
          "scatter": [
           {
            "fillpattern": {
             "fillmode": "overlay",
             "size": 10,
             "solidity": 0.2
            },
            "type": "scatter"
           }
          ],
          "scatter3d": [
           {
            "line": {
             "colorbar": {
              "outlinewidth": 1,
              "tickcolor": "rgb(36,36,36)",
              "ticks": "outside"
             }
            },
            "marker": {
             "colorbar": {
              "outlinewidth": 1,
              "tickcolor": "rgb(36,36,36)",
              "ticks": "outside"
             }
            },
            "type": "scatter3d"
           }
          ],
          "scattercarpet": [
           {
            "marker": {
             "colorbar": {
              "outlinewidth": 1,
              "tickcolor": "rgb(36,36,36)",
              "ticks": "outside"
             }
            },
            "type": "scattercarpet"
           }
          ],
          "scattergeo": [
           {
            "marker": {
             "colorbar": {
              "outlinewidth": 1,
              "tickcolor": "rgb(36,36,36)",
              "ticks": "outside"
             }
            },
            "type": "scattergeo"
           }
          ],
          "scattergl": [
           {
            "marker": {
             "colorbar": {
              "outlinewidth": 1,
              "tickcolor": "rgb(36,36,36)",
              "ticks": "outside"
             }
            },
            "type": "scattergl"
           }
          ],
          "scattermapbox": [
           {
            "marker": {
             "colorbar": {
              "outlinewidth": 1,
              "tickcolor": "rgb(36,36,36)",
              "ticks": "outside"
             }
            },
            "type": "scattermapbox"
           }
          ],
          "scatterpolar": [
           {
            "marker": {
             "colorbar": {
              "outlinewidth": 1,
              "tickcolor": "rgb(36,36,36)",
              "ticks": "outside"
             }
            },
            "type": "scatterpolar"
           }
          ],
          "scatterpolargl": [
           {
            "marker": {
             "colorbar": {
              "outlinewidth": 1,
              "tickcolor": "rgb(36,36,36)",
              "ticks": "outside"
             }
            },
            "type": "scatterpolargl"
           }
          ],
          "scatterternary": [
           {
            "marker": {
             "colorbar": {
              "outlinewidth": 1,
              "tickcolor": "rgb(36,36,36)",
              "ticks": "outside"
             }
            },
            "type": "scatterternary"
           }
          ],
          "surface": [
           {
            "colorbar": {
             "outlinewidth": 1,
             "tickcolor": "rgb(36,36,36)",
             "ticks": "outside"
            },
            "colorscale": [
             [
              0.0,
              "#440154"
             ],
             [
              0.1111111111111111,
              "#482878"
             ],
             [
              0.2222222222222222,
              "#3e4989"
             ],
             [
              0.3333333333333333,
              "#31688e"
             ],
             [
              0.4444444444444444,
              "#26828e"
             ],
             [
              0.5555555555555556,
              "#1f9e89"
             ],
             [
              0.6666666666666666,
              "#35b779"
             ],
             [
              0.7777777777777778,
              "#6ece58"
             ],
             [
              0.8888888888888888,
              "#b5de2b"
             ],
             [
              1.0,
              "#fde725"
             ]
            ],
            "type": "surface"
           }
          ],
          "table": [
           {
            "cells": {
             "fill": {
              "color": "rgb(237,237,237)"
             },
             "line": {
              "color": "white"
             }
            },
            "header": {
             "fill": {
              "color": "rgb(217,217,217)"
             },
             "line": {
              "color": "white"
             }
            },
            "type": "table"
           }
          ]
         },
         "layout": {
          "annotationdefaults": {
           "arrowhead": 0,
           "arrowwidth": 1
          },
          "autotypenumbers": "strict",
          "coloraxis": {
           "colorbar": {
            "outlinewidth": 1,
            "tickcolor": "rgb(36,36,36)",
            "ticks": "outside"
           }
          },
          "colorscale": {
           "diverging": [
            [
             0.0,
             "rgb(103,0,31)"
            ],
            [
             0.1,
             "rgb(178,24,43)"
            ],
            [
             0.2,
             "rgb(214,96,77)"
            ],
            [
             0.3,
             "rgb(244,165,130)"
            ],
            [
             0.4,
             "rgb(253,219,199)"
            ],
            [
             0.5,
             "rgb(247,247,247)"
            ],
            [
             0.6,
             "rgb(209,229,240)"
            ],
            [
             0.7,
             "rgb(146,197,222)"
            ],
            [
             0.8,
             "rgb(67,147,195)"
            ],
            [
             0.9,
             "rgb(33,102,172)"
            ],
            [
             1.0,
             "rgb(5,48,97)"
            ]
           ],
           "sequential": [
            [
             0.0,
             "#440154"
            ],
            [
             0.1111111111111111,
             "#482878"
            ],
            [
             0.2222222222222222,
             "#3e4989"
            ],
            [
             0.3333333333333333,
             "#31688e"
            ],
            [
             0.4444444444444444,
             "#26828e"
            ],
            [
             0.5555555555555556,
             "#1f9e89"
            ],
            [
             0.6666666666666666,
             "#35b779"
            ],
            [
             0.7777777777777778,
             "#6ece58"
            ],
            [
             0.8888888888888888,
             "#b5de2b"
            ],
            [
             1.0,
             "#fde725"
            ]
           ],
           "sequentialminus": [
            [
             0.0,
             "#440154"
            ],
            [
             0.1111111111111111,
             "#482878"
            ],
            [
             0.2222222222222222,
             "#3e4989"
            ],
            [
             0.3333333333333333,
             "#31688e"
            ],
            [
             0.4444444444444444,
             "#26828e"
            ],
            [
             0.5555555555555556,
             "#1f9e89"
            ],
            [
             0.6666666666666666,
             "#35b779"
            ],
            [
             0.7777777777777778,
             "#6ece58"
            ],
            [
             0.8888888888888888,
             "#b5de2b"
            ],
            [
             1.0,
             "#fde725"
            ]
           ]
          },
          "colorway": [
           "#91268F",
           "#8CC63E",
           "#00A7A0",
           "#F05A28",
           "#4C4C4C",
           "#630460",
           "#9f3913",
           "#588527",
           "#00716c",
           "#3e4040"
          ],
          "font": {
           "color": "rgb(36,36,36)",
           "family": "Poppins",
           "size": 11
          },
          "geo": {
           "bgcolor": "white",
           "lakecolor": "white",
           "landcolor": "white",
           "showlakes": true,
           "showland": true,
           "subunitcolor": "white"
          },
          "hoverlabel": {
           "align": "left"
          },
          "hovermode": "closest",
          "mapbox": {
           "style": "light"
          },
          "paper_bgcolor": "white",
          "plot_bgcolor": "white",
          "polar": {
           "angularaxis": {
            "gridcolor": "rgb(232,232,232)",
            "linecolor": "rgb(36,36,36)",
            "showgrid": false,
            "showline": true,
            "ticks": "outside"
           },
           "bgcolor": "white",
           "radialaxis": {
            "gridcolor": "rgb(232,232,232)",
            "linecolor": "rgb(36,36,36)",
            "showgrid": false,
            "showline": true,
            "ticks": "outside"
           }
          },
          "scene": {
           "xaxis": {
            "backgroundcolor": "white",
            "gridcolor": "rgb(232,232,232)",
            "gridwidth": 2,
            "linecolor": "rgb(36,36,36)",
            "showbackground": true,
            "showgrid": false,
            "showline": true,
            "ticks": "outside",
            "zeroline": false,
            "zerolinecolor": "rgb(36,36,36)"
           },
           "yaxis": {
            "backgroundcolor": "white",
            "gridcolor": "rgb(232,232,232)",
            "gridwidth": 2,
            "linecolor": "rgb(36,36,36)",
            "showbackground": true,
            "showgrid": false,
            "showline": true,
            "ticks": "outside",
            "zeroline": false,
            "zerolinecolor": "rgb(36,36,36)"
           },
           "zaxis": {
            "backgroundcolor": "white",
            "gridcolor": "rgb(232,232,232)",
            "gridwidth": 2,
            "linecolor": "rgb(36,36,36)",
            "showbackground": true,
            "showgrid": false,
            "showline": true,
            "ticks": "outside",
            "zeroline": false,
            "zerolinecolor": "rgb(36,36,36)"
           }
          },
          "shapedefaults": {
           "fillcolor": "black",
           "line": {
            "width": 0
           },
           "opacity": 0.3
          },
          "ternary": {
           "aaxis": {
            "gridcolor": "rgb(232,232,232)",
            "linecolor": "rgb(36,36,36)",
            "showgrid": false,
            "showline": true,
            "ticks": "outside"
           },
           "baxis": {
            "gridcolor": "rgb(232,232,232)",
            "linecolor": "rgb(36,36,36)",
            "showgrid": false,
            "showline": true,
            "ticks": "outside"
           },
           "bgcolor": "white",
           "caxis": {
            "gridcolor": "rgb(232,232,232)",
            "linecolor": "rgb(36,36,36)",
            "showgrid": false,
            "showline": true,
            "ticks": "outside"
           }
          },
          "title": {
           "x": 0.05
          },
          "xaxis": {
           "automargin": true,
           "gridcolor": "rgb(232,232,232)",
           "linecolor": "rgb(36,36,36)",
           "showgrid": false,
           "showline": true,
           "ticks": "outside",
           "title": {
            "standoff": 15
           },
           "zeroline": false,
           "zerolinecolor": "rgb(36,36,36)"
          },
          "yaxis": {
           "automargin": true,
           "gridcolor": "rgb(232,232,232)",
           "linecolor": "rgb(36,36,36)",
           "showgrid": false,
           "showline": true,
           "ticks": "outside",
           "title": {
            "standoff": 15
           },
           "zeroline": false,
           "zerolinecolor": "rgb(36,36,36)"
          }
         }
        },
        "title": {
         "text": "Medium Trucks: Snohomish"
        },
        "width": 800,
        "xaxis": {
         "anchor": "y",
         "domain": [
          0.0,
          1.0
         ],
         "title": {
          "text": "Observed"
         }
        },
        "yaxis": {
         "anchor": "x",
         "domain": [
          0.0,
          1.0
         ],
         "title": {
          "text": "Model"
         }
        }
       }
      },
      "text/html": [
       "<div>                            <div id=\"7745fe0a-4cd7-4bf3-ad3c-b018755c8ea4\" class=\"plotly-graph-div\" style=\"height:600px; width:800px;\"></div>            <script type=\"text/javascript\">                require([\"plotly\"], function(Plotly) {                    window.PLOTLYENV=window.PLOTLYENV || {};                                    if (document.getElementById(\"7745fe0a-4cd7-4bf3-ad3c-b018755c8ea4\")) {                    Plotly.newPlot(                        \"7745fe0a-4cd7-4bf3-ad3c-b018755c8ea4\",                        [{\"customdata\":[[\"I-5 @ 44th NB\",\"Snohomish\"],[\"I-5 @ 44th SB\",\"Snohomish\"],[\"I-5 N\\u002fO 164th NB\",\"Snohomish\"],[\"I-5 N\\u002fO 164th SB\",\"Snohomish\"],[\"I-5 N\\u002fO SR-526 NB\",\"Snohomish\"],[\"I-5 N\\u002fO SR-526 SB\",\"Snohomish\"],[\"I-5 N\\u002fO 41st NB\",\"Snohomish\"],[\"I-5 N\\u002fO 41st SB\",\"Snohomish\"],[\"I-5 @ SR-528 NB\",\"Snohomish\"],[\"I-5 @ SR-528 SB\",\"Snohomish\"],[\"I-5 N\\u002fO SR-531 NB\",\"Snohomish\"],[\"I-5 N\\u002fO SR-531 SB\",\"Snohomish\"],[\"I-405 N\\u002fO SR-527 NB\",\"Snohomish\"],[\"I-405 N\\u002fO SR-527 SB\",\"Snohomish\"],[\"SR-525 N\\u002fO I-5 NB\",\"Snohomish\"],[\"SR-525 N\\u002fO I-5 SB\",\"Snohomish\"],[\"I-5 @ SR-532 NB\\u002fSB\",\"Snohomish\"],[\"I-5 @ Skagit border NB\\u002fSB\",\"Snohomish\"],[\"SR-525 N\\u002fO SR-526 NB\\u002fSB\",\"Snohomish\"],[\"SR-525 N\\u002fO 5th NB\\u002fSB\",\"Snohomish\"],[\"SR-99 E\\u002fO Evergreen NB\\u002fSB\",\"Snohomish\"],[\"SR-526 W\\u002fO Paine Field Blvd WB\\u002fEB\",\"Snohomish\"],[\"SR-526 E\\u002fO Paine Field Blvd WB\\u002fEB\",\"Snohomish\"],[\"SR-9 @ SR-522 NB\\u002fSB\",\"Snohomish\"],[\"SR-9 N\\u002fO SR-2 NB\\u002fSB\",\"Snohomish\"],[\"SR-9 N\\u002fO SR-204 NB\\u002fSB\",\"Snohomish\"],[\"SR-9 N\\u002fO SR-92 NB\\u002fSB\",\"Snohomish\"],[\"SR-9 N\\u002fO 132nd NB\\u002fSB\",\"Snohomish\"],[\"SR-9 N\\u002fO SR-531 NB\\u002fSB\",\"Snohomish\"],[\"SR-9 S\\u002fO 67th NB\\u002fSB\",\"Snohomish\"],[\"SR-9 N\\u002fO Kackman NB\\u002fSB\",\"Snohomish\"],[\"SR-9 N\\u002fO Stanwood-Bryant NB\\u002fSB\",\"Snohomish\"],[\"SR-532 @ Island County WB\\u002fEB\",\"Snohomish\"],[\"SR-532 W\\u002fO 28th WB\\u002fEB\",\"Snohomish\"],[\"SR-104 @ Ferry Loading Edm WB\\u002fEB\",\"Snohomish\"],[\"SR-104 N\\u002fO Pine WB\\u002fEB\",\"Snohomish\"],[\"SR-104 E\\u002fO 5th WB\\u002fEB\",\"Snohomish\"],[\"SR-524 W\\u002fO 3rd WB\\u002fEB\",\"Snohomish\"],[\"SR-524 S\\u002fO Main WB\\u002fEB\",\"Snohomish\"],[\"SR-524 N\\u002fO Main WB\\u002fEB\",\"Snohomish\"],[\"SR-524 E\\u002fO 68th WB\\u002fEB\",\"Snohomish\"],[\"SR-524 E\\u002fO 39th WB\\u002fEB\",\"Snohomish\"],[\"SR-524 N\\u002fO Paradise Lake WB\\u002fEB\",\"Snohomish\"],[\"SR-2 E\\u002fO I-5 WB\\u002fEB\",\"Snohomish\"],[\"SR-2 S\\u002fO SR-204 WB\\u002fEB\",\"Snohomish\"],[\"SR-2 E\\u002fO Main WB\\u002fEB\",\"Snohomish\"],[\"SR-2 E\\u002fO Rice WB\\u002fEB\",\"Snohomish\"],[\"SR-2 E\\u002fO 10th (Gold Bar) WB\\u002fEB\",\"Snohomish\"],[\"SR-2 W\\u002fO Index-Galena WB\\u002fEB\",\"Snohomish\"],[\"SR-2 E\\u002fO Index-Galena WB\\u002fEB\",\"Snohomish\"],[\"SR-527 N\\u002fO I-405 NB\\u002fSB\",\"Snohomish\"],[\"SR-527 N\\u002fO 196th NB\\u002fSB\",\"Snohomish\"],[\"SR-527 N\\u002fO Dumas NB\\u002fSB\",\"Snohomish\"],[\"SR-527 N\\u002fO 100th NB\\u002fSB\",\"Snohomish\"],[\"SR-529 @ I-5 (Evt) NB\\u002fSB\",\"Snohomish\"],[\"SR-529 S\\u002fO Everett NB\\u002fSB\",\"Snohomish\"],[\"SR-529 W\\u002fO Maple NB\\u002fSB\",\"Snohomish\"],[\"SR-529 N\\u002fO Everett NB\\u002fSB\",\"Snohomish\"],[\"SR-529 N\\u002fO Broadway NB\\u002fSB\",\"Snohomish\"],[\"SR-96 @ I-5 WB\\u002fEB\",\"Snohomish\"],[\"SR-96 N\\u002fO 132nd WB\\u002fEB\",\"Snohomish\"],[\"SR-96 E\\u002fO Seattle Hill WB\\u002fEB\",\"Snohomish\"],[\"SR-528 @ I-5 WB\\u002fEB\",\"Snohomish\"],[\"SR-528 E\\u002fO SR-529 WB\\u002fEB\",\"Snohomish\"],[\"SR-531 N\\u002fO Rose WB\\u002fEB\",\"Snohomish\"],[\"SR-531 E\\u002fO Lk Goodwin WB\\u002fEB\",\"Snohomish\"],[\"SR-531 E\\u002fO 27th WB\\u002fEB\",\"Snohomish\"],[\"SR-531 E\\u002fO I-5 WB\\u002fEB\",\"Snohomish\"],[\"SR-531 E\\u002fO 43rd WB\\u002fEB\",\"Snohomish\"],[\"SR-531 W\\u002fO 67th WB\\u002fEB\",\"Snohomish\"],[\"SR-531 E\\u002fO 67th WB\\u002fEB\",\"Snohomish\"],[\"SR-530 @ I-5 WB\\u002fEB\",\"Snohomish\"],[\"SR-530 E\\u002fO Smokey Pt WB\\u002fEB\",\"Snohomish\"],[\"SR-530 N\\u002fO 211th WB\\u002fEB\",\"Snohomish\"],[\"SR-530 E\\u002fO SR-9 WB\\u002fEB\",\"Snohomish\"],[\"SR-530 W\\u002fO Arlington Hts WB\\u002fEB\",\"Snohomish\"],[\"SR-530 E\\u002fO Arlington Hts WB\\u002fEB\",\"Snohomish\"],[\"SR-530 W\\u002fO Jim Creek WB\\u002fEB\",\"Snohomish\"],[\"SR-530 W\\u002fO Ramstad WB\\u002fEB\",\"Snohomish\"],[\"SR-530 @ Skagit County WB\\u002fEB\",\"Snohomish\"],[\"SR-203 N\\u002fO 203rd NB\\u002fSB\",\"Snohomish\"],[\"SR-204 @ SR-2 NB\\u002fSB\",\"Snohomish\"],[\"SR-204 N\\u002fO 20th NB\\u002fSB\",\"Snohomish\"],[\"SR-204 N\\u002fO SR-2 NB\\u002fSB\",\"Snohomish\"],[\"SR-92 E\\u002fO Lake WB\\u002fEB\",\"Snohomish\"],[\"SR-92 E\\u002fO Callow WB\\u002fEB\",\"Snohomish\"],[\"SR-92 E\\u002fO Quarry WB\\u002fEB\",\"Snohomish\"],[\"SR-92 W\\u002fO Mountain Loop WB\\u002fEB\",\"Snohomish\"]],\"hovertemplate\":\"Observed=%{x}\\u003cbr\\u003eModel=%{y}\\u003cbr\\u003elocation=%{customdata[0]}\\u003cbr\\u003eCounty=%{customdata[1]}\\u003cextra\\u003e\\u003c\\u002fextra\\u003e\",\"legendgroup\":\"\",\"marker\":{\"color\":\"#91268F\",\"symbol\":\"circle\"},\"mode\":\"markers\",\"name\":\"\",\"orientation\":\"v\",\"showlegend\":false,\"x\":[2586,2604,2869,2888,2689,2832,2293,2656,2191,2251,1728,1737,1539,1620,1248,851,2444,2481,710,364,475,396,915,1853,1311,1387,1987,829,484,658,443,135,1056,739,294,220,360,68,160,167,494,330,1157,2430,1634,858,735,516,346,242,1484,837,704,858,333,271,364,238,1122,1408,392,220,728,616,75,432,693,1230,1632,969,560,690,882,784,420,520,461,410,276,167,636,259,371,960,1349,994,320,324],\"xaxis\":\"x\",\"y\":[5683,5697,5116,4804,4452,4475,4338,4192,1930,1941,658,624,4679,4532,3083,2869,117,0,342,36,141,192,1771,1341,1354,1810,2159,703,534,184,46,62,0,596,213,165,278,218,70,254,611,442,602,3188,1683,754,308,106,106,77,3064,943,396,1065,443,408,341,122,631,1547,422,52,1102,583,82,239,694,1466,940,241,366,343,610,404,389,401,333,285,235,0,442,158,297,1358,779,564,195,158],\"yaxis\":\"y\",\"type\":\"scatter\",\"line\":{\"color\":\"Grey\",\"width\":2}},{\"hovertemplate\":\"Observed=%{x}\\u003cbr\\u003eModel=%{y}\\u003cextra\\u003e\\u003c\\u002fextra\\u003e\",\"legendgroup\":\"\",\"line\":{\"color\":\"Grey\",\"dash\":\"solid\",\"width\":2},\"marker\":{\"symbol\":\"circle\"},\"mode\":\"lines\",\"name\":\"\",\"orientation\":\"v\",\"showlegend\":false,\"x\":[0.0,29.171717171717173,58.343434343434346,87.51515151515152,116.68686868686869,145.85858585858585,175.03030303030303,204.2020202020202,233.37373737373738,262.54545454545456,291.7171717171717,320.8888888888889,350.06060606060606,379.23232323232327,408.4040404040404,437.5757575757576,466.74747474747477,495.9191919191919,525.0909090909091,554.2626262626263,583.4343434343434,612.6060606060606,641.7777777777778,670.949494949495,700.1212121212121,729.2929292929293,758.4646464646465,787.6363636363636,816.8080808080808,845.979797979798,875.1515151515152,904.3232323232323,933.4949494949495,962.6666666666667,991.8383838383838,1021.010101010101,1050.1818181818182,1079.3535353535353,1108.5252525252527,1137.6969696969697,1166.8686868686868,1196.0404040404042,1225.2121212121212,1254.3838383838383,1283.5555555555557,1312.7272727272727,1341.89898989899,1371.0707070707072,1400.2424242424242,1429.4141414141416,1458.5858585858587,1487.7575757575758,1516.929292929293,1546.1010101010102,1575.2727272727273,1604.4444444444446,1633.6161616161617,1662.7878787878788,1691.959595959596,1721.1313131313132,1750.3030303030305,1779.4747474747476,1808.6464646464647,1837.818181818182,1866.989898989899,1896.1616161616162,1925.3333333333335,1954.5050505050506,1983.6767676767677,2012.848484848485,2042.020202020202,2071.191919191919,2100.3636363636365,2129.535353535354,2158.7070707070707,2187.878787878788,2217.0505050505053,2246.222222222222,2275.3939393939395,2304.565656565657,2333.7373737373737,2362.909090909091,2392.0808080808083,2421.252525252525,2450.4242424242425,2479.59595959596,2508.7676767676767,2537.939393939394,2567.1111111111113,2596.282828282828,2625.4545454545455,2654.626262626263,2683.79797979798,2712.969696969697,2742.1414141414143,2771.3131313131316,2800.4848484848485,2829.656565656566,2858.828282828283,2888.0],\"xaxis\":\"x\",\"y\":[-337.59227966593676,-294.1756381721401,-250.7589966783435,-207.34235518454688,-163.92571369075023,-120.50907219695361,-77.09243070315699,-33.675789209360346,9.7408522844363,53.15749377823295,96.57413527202954,139.99077676582618,183.40741825962277,226.82405975341953,270.24070124721607,313.6573427410127,357.07398423480936,400.4906257286059,443.90726722240265,487.3239087161993,530.7405502099958,574.1571917037925,617.5738331975891,660.9904746913859,704.4071161851823,747.8237576789791,791.2403991727758,834.6570406665721,878.0736821603689,921.4903236541656,964.9069651479622,1008.3236066417587,1051.7402481355555,1095.1568896293522,1138.5735311231485,1181.9901726169453,1225.406814110742,1268.8234556045386,1312.2400970983354,1355.656738592132,1399.0733800859284,1442.4900215797252,1485.9066630735217,1529.3233045673182,1572.739946061115,1616.1565875549115,1659.5732290487085,1702.989870542505,1746.4065120363014,1789.8231535300981,1833.2397950238949,1876.6564365176912,1920.0730780114884,1963.4897195052847,2006.906360999081,2050.323002492878,2093.7396439866743,2137.1562854804715,2180.572926974268,2223.989568468064,2267.4062099618614,2310.8228514556577,2354.239492949454,2397.656134443251,2441.0727759370475,2484.489417430844,2527.906058924641,2571.3227004184373,2614.7393419122336,2658.155983406031,2701.572624899827,2744.9892663936243,2788.4059078874207,2831.822549381218,2875.239190875014,2918.6558323688105,2962.0724738626077,3005.489115356404,3048.9057568502003,3092.3223983439975,3135.739039837794,3179.15568133159,3222.5723228253873,3265.9889643191837,3309.40560581298,3352.822247306777,3396.2388888005735,3439.65553029437,3483.072171788167,3526.4888132819633,3569.9054547757596,3613.322096269557,3656.738737763354,3700.1553792571494,3743.5720207509466,3786.988662244743,3830.4053037385393,3873.8219452323365,3917.238586726133,3960.655228219929],\"yaxis\":\"y\",\"type\":\"scatter\"}],                        {\"template\":{\"data\":{\"barpolar\":[{\"marker\":{\"line\":{\"color\":\"white\",\"width\":0.5},\"pattern\":{\"fillmode\":\"overlay\",\"size\":10,\"solidity\":0.2}},\"type\":\"barpolar\"}],\"bar\":[{\"error_x\":{\"color\":\"rgb(36,36,36)\"},\"error_y\":{\"color\":\"rgb(36,36,36)\"},\"marker\":{\"line\":{\"color\":\"white\",\"width\":0.5},\"pattern\":{\"fillmode\":\"overlay\",\"size\":10,\"solidity\":0.2}},\"type\":\"bar\"}],\"carpet\":[{\"aaxis\":{\"endlinecolor\":\"rgb(36,36,36)\",\"gridcolor\":\"white\",\"linecolor\":\"white\",\"minorgridcolor\":\"white\",\"startlinecolor\":\"rgb(36,36,36)\"},\"baxis\":{\"endlinecolor\":\"rgb(36,36,36)\",\"gridcolor\":\"white\",\"linecolor\":\"white\",\"minorgridcolor\":\"white\",\"startlinecolor\":\"rgb(36,36,36)\"},\"type\":\"carpet\"}],\"choropleth\":[{\"colorbar\":{\"outlinewidth\":1,\"tickcolor\":\"rgb(36,36,36)\",\"ticks\":\"outside\"},\"type\":\"choropleth\"}],\"contourcarpet\":[{\"colorbar\":{\"outlinewidth\":1,\"tickcolor\":\"rgb(36,36,36)\",\"ticks\":\"outside\"},\"type\":\"contourcarpet\"}],\"contour\":[{\"colorbar\":{\"outlinewidth\":1,\"tickcolor\":\"rgb(36,36,36)\",\"ticks\":\"outside\"},\"colorscale\":[[0.0,\"#440154\"],[0.1111111111111111,\"#482878\"],[0.2222222222222222,\"#3e4989\"],[0.3333333333333333,\"#31688e\"],[0.4444444444444444,\"#26828e\"],[0.5555555555555556,\"#1f9e89\"],[0.6666666666666666,\"#35b779\"],[0.7777777777777778,\"#6ece58\"],[0.8888888888888888,\"#b5de2b\"],[1.0,\"#fde725\"]],\"type\":\"contour\"}],\"heatmapgl\":[{\"colorbar\":{\"outlinewidth\":1,\"tickcolor\":\"rgb(36,36,36)\",\"ticks\":\"outside\"},\"colorscale\":[[0.0,\"#440154\"],[0.1111111111111111,\"#482878\"],[0.2222222222222222,\"#3e4989\"],[0.3333333333333333,\"#31688e\"],[0.4444444444444444,\"#26828e\"],[0.5555555555555556,\"#1f9e89\"],[0.6666666666666666,\"#35b779\"],[0.7777777777777778,\"#6ece58\"],[0.8888888888888888,\"#b5de2b\"],[1.0,\"#fde725\"]],\"type\":\"heatmapgl\"}],\"heatmap\":[{\"colorbar\":{\"outlinewidth\":1,\"tickcolor\":\"rgb(36,36,36)\",\"ticks\":\"outside\"},\"colorscale\":[[0.0,\"#440154\"],[0.1111111111111111,\"#482878\"],[0.2222222222222222,\"#3e4989\"],[0.3333333333333333,\"#31688e\"],[0.4444444444444444,\"#26828e\"],[0.5555555555555556,\"#1f9e89\"],[0.6666666666666666,\"#35b779\"],[0.7777777777777778,\"#6ece58\"],[0.8888888888888888,\"#b5de2b\"],[1.0,\"#fde725\"]],\"type\":\"heatmap\"}],\"histogram2dcontour\":[{\"colorbar\":{\"outlinewidth\":1,\"tickcolor\":\"rgb(36,36,36)\",\"ticks\":\"outside\"},\"colorscale\":[[0.0,\"#440154\"],[0.1111111111111111,\"#482878\"],[0.2222222222222222,\"#3e4989\"],[0.3333333333333333,\"#31688e\"],[0.4444444444444444,\"#26828e\"],[0.5555555555555556,\"#1f9e89\"],[0.6666666666666666,\"#35b779\"],[0.7777777777777778,\"#6ece58\"],[0.8888888888888888,\"#b5de2b\"],[1.0,\"#fde725\"]],\"type\":\"histogram2dcontour\"}],\"histogram2d\":[{\"colorbar\":{\"outlinewidth\":1,\"tickcolor\":\"rgb(36,36,36)\",\"ticks\":\"outside\"},\"colorscale\":[[0.0,\"#440154\"],[0.1111111111111111,\"#482878\"],[0.2222222222222222,\"#3e4989\"],[0.3333333333333333,\"#31688e\"],[0.4444444444444444,\"#26828e\"],[0.5555555555555556,\"#1f9e89\"],[0.6666666666666666,\"#35b779\"],[0.7777777777777778,\"#6ece58\"],[0.8888888888888888,\"#b5de2b\"],[1.0,\"#fde725\"]],\"type\":\"histogram2d\"}],\"histogram\":[{\"marker\":{\"line\":{\"color\":\"white\",\"width\":0.6}},\"type\":\"histogram\"}],\"mesh3d\":[{\"colorbar\":{\"outlinewidth\":1,\"tickcolor\":\"rgb(36,36,36)\",\"ticks\":\"outside\"},\"type\":\"mesh3d\"}],\"parcoords\":[{\"line\":{\"colorbar\":{\"outlinewidth\":1,\"tickcolor\":\"rgb(36,36,36)\",\"ticks\":\"outside\"}},\"type\":\"parcoords\"}],\"pie\":[{\"automargin\":true,\"type\":\"pie\"}],\"scatter3d\":[{\"line\":{\"colorbar\":{\"outlinewidth\":1,\"tickcolor\":\"rgb(36,36,36)\",\"ticks\":\"outside\"}},\"marker\":{\"colorbar\":{\"outlinewidth\":1,\"tickcolor\":\"rgb(36,36,36)\",\"ticks\":\"outside\"}},\"type\":\"scatter3d\"}],\"scattercarpet\":[{\"marker\":{\"colorbar\":{\"outlinewidth\":1,\"tickcolor\":\"rgb(36,36,36)\",\"ticks\":\"outside\"}},\"type\":\"scattercarpet\"}],\"scattergeo\":[{\"marker\":{\"colorbar\":{\"outlinewidth\":1,\"tickcolor\":\"rgb(36,36,36)\",\"ticks\":\"outside\"}},\"type\":\"scattergeo\"}],\"scattergl\":[{\"marker\":{\"colorbar\":{\"outlinewidth\":1,\"tickcolor\":\"rgb(36,36,36)\",\"ticks\":\"outside\"}},\"type\":\"scattergl\"}],\"scattermapbox\":[{\"marker\":{\"colorbar\":{\"outlinewidth\":1,\"tickcolor\":\"rgb(36,36,36)\",\"ticks\":\"outside\"}},\"type\":\"scattermapbox\"}],\"scatterpolargl\":[{\"marker\":{\"colorbar\":{\"outlinewidth\":1,\"tickcolor\":\"rgb(36,36,36)\",\"ticks\":\"outside\"}},\"type\":\"scatterpolargl\"}],\"scatterpolar\":[{\"marker\":{\"colorbar\":{\"outlinewidth\":1,\"tickcolor\":\"rgb(36,36,36)\",\"ticks\":\"outside\"}},\"type\":\"scatterpolar\"}],\"scatter\":[{\"fillpattern\":{\"fillmode\":\"overlay\",\"size\":10,\"solidity\":0.2},\"type\":\"scatter\"}],\"scatterternary\":[{\"marker\":{\"colorbar\":{\"outlinewidth\":1,\"tickcolor\":\"rgb(36,36,36)\",\"ticks\":\"outside\"}},\"type\":\"scatterternary\"}],\"surface\":[{\"colorbar\":{\"outlinewidth\":1,\"tickcolor\":\"rgb(36,36,36)\",\"ticks\":\"outside\"},\"colorscale\":[[0.0,\"#440154\"],[0.1111111111111111,\"#482878\"],[0.2222222222222222,\"#3e4989\"],[0.3333333333333333,\"#31688e\"],[0.4444444444444444,\"#26828e\"],[0.5555555555555556,\"#1f9e89\"],[0.6666666666666666,\"#35b779\"],[0.7777777777777778,\"#6ece58\"],[0.8888888888888888,\"#b5de2b\"],[1.0,\"#fde725\"]],\"type\":\"surface\"}],\"table\":[{\"cells\":{\"fill\":{\"color\":\"rgb(237,237,237)\"},\"line\":{\"color\":\"white\"}},\"header\":{\"fill\":{\"color\":\"rgb(217,217,217)\"},\"line\":{\"color\":\"white\"}},\"type\":\"table\"}]},\"layout\":{\"annotationdefaults\":{\"arrowhead\":0,\"arrowwidth\":1},\"autotypenumbers\":\"strict\",\"coloraxis\":{\"colorbar\":{\"outlinewidth\":1,\"tickcolor\":\"rgb(36,36,36)\",\"ticks\":\"outside\"}},\"colorscale\":{\"diverging\":[[0.0,\"rgb(103,0,31)\"],[0.1,\"rgb(178,24,43)\"],[0.2,\"rgb(214,96,77)\"],[0.3,\"rgb(244,165,130)\"],[0.4,\"rgb(253,219,199)\"],[0.5,\"rgb(247,247,247)\"],[0.6,\"rgb(209,229,240)\"],[0.7,\"rgb(146,197,222)\"],[0.8,\"rgb(67,147,195)\"],[0.9,\"rgb(33,102,172)\"],[1.0,\"rgb(5,48,97)\"]],\"sequential\":[[0.0,\"#440154\"],[0.1111111111111111,\"#482878\"],[0.2222222222222222,\"#3e4989\"],[0.3333333333333333,\"#31688e\"],[0.4444444444444444,\"#26828e\"],[0.5555555555555556,\"#1f9e89\"],[0.6666666666666666,\"#35b779\"],[0.7777777777777778,\"#6ece58\"],[0.8888888888888888,\"#b5de2b\"],[1.0,\"#fde725\"]],\"sequentialminus\":[[0.0,\"#440154\"],[0.1111111111111111,\"#482878\"],[0.2222222222222222,\"#3e4989\"],[0.3333333333333333,\"#31688e\"],[0.4444444444444444,\"#26828e\"],[0.5555555555555556,\"#1f9e89\"],[0.6666666666666666,\"#35b779\"],[0.7777777777777778,\"#6ece58\"],[0.8888888888888888,\"#b5de2b\"],[1.0,\"#fde725\"]]},\"colorway\":[\"#91268F\",\"#8CC63E\",\"#00A7A0\",\"#F05A28\",\"#4C4C4C\",\"#630460\",\"#9f3913\",\"#588527\",\"#00716c\",\"#3e4040\"],\"font\":{\"color\":\"rgb(36,36,36)\",\"family\":\"Poppins\",\"size\":11},\"geo\":{\"bgcolor\":\"white\",\"lakecolor\":\"white\",\"landcolor\":\"white\",\"showlakes\":true,\"showland\":true,\"subunitcolor\":\"white\"},\"hoverlabel\":{\"align\":\"left\"},\"hovermode\":\"closest\",\"mapbox\":{\"style\":\"light\"},\"paper_bgcolor\":\"white\",\"plot_bgcolor\":\"white\",\"polar\":{\"angularaxis\":{\"gridcolor\":\"rgb(232,232,232)\",\"linecolor\":\"rgb(36,36,36)\",\"showgrid\":false,\"showline\":true,\"ticks\":\"outside\"},\"bgcolor\":\"white\",\"radialaxis\":{\"gridcolor\":\"rgb(232,232,232)\",\"linecolor\":\"rgb(36,36,36)\",\"showgrid\":false,\"showline\":true,\"ticks\":\"outside\"}},\"scene\":{\"xaxis\":{\"backgroundcolor\":\"white\",\"gridcolor\":\"rgb(232,232,232)\",\"gridwidth\":2,\"linecolor\":\"rgb(36,36,36)\",\"showbackground\":true,\"showgrid\":false,\"showline\":true,\"ticks\":\"outside\",\"zeroline\":false,\"zerolinecolor\":\"rgb(36,36,36)\"},\"yaxis\":{\"backgroundcolor\":\"white\",\"gridcolor\":\"rgb(232,232,232)\",\"gridwidth\":2,\"linecolor\":\"rgb(36,36,36)\",\"showbackground\":true,\"showgrid\":false,\"showline\":true,\"ticks\":\"outside\",\"zeroline\":false,\"zerolinecolor\":\"rgb(36,36,36)\"},\"zaxis\":{\"backgroundcolor\":\"white\",\"gridcolor\":\"rgb(232,232,232)\",\"gridwidth\":2,\"linecolor\":\"rgb(36,36,36)\",\"showbackground\":true,\"showgrid\":false,\"showline\":true,\"ticks\":\"outside\",\"zeroline\":false,\"zerolinecolor\":\"rgb(36,36,36)\"}},\"shapedefaults\":{\"fillcolor\":\"black\",\"line\":{\"width\":0},\"opacity\":0.3},\"ternary\":{\"aaxis\":{\"gridcolor\":\"rgb(232,232,232)\",\"linecolor\":\"rgb(36,36,36)\",\"showgrid\":false,\"showline\":true,\"ticks\":\"outside\"},\"baxis\":{\"gridcolor\":\"rgb(232,232,232)\",\"linecolor\":\"rgb(36,36,36)\",\"showgrid\":false,\"showline\":true,\"ticks\":\"outside\"},\"bgcolor\":\"white\",\"caxis\":{\"gridcolor\":\"rgb(232,232,232)\",\"linecolor\":\"rgb(36,36,36)\",\"showgrid\":false,\"showline\":true,\"ticks\":\"outside\"}},\"title\":{\"x\":0.05},\"xaxis\":{\"automargin\":true,\"gridcolor\":\"rgb(232,232,232)\",\"linecolor\":\"rgb(36,36,36)\",\"showgrid\":false,\"showline\":true,\"ticks\":\"outside\",\"title\":{\"standoff\":15},\"zeroline\":false,\"zerolinecolor\":\"rgb(36,36,36)\"},\"yaxis\":{\"automargin\":true,\"gridcolor\":\"rgb(232,232,232)\",\"linecolor\":\"rgb(36,36,36)\",\"showgrid\":false,\"showline\":true,\"ticks\":\"outside\",\"title\":{\"standoff\":15},\"zeroline\":false,\"zerolinecolor\":\"rgb(36,36,36)\"}}},\"xaxis\":{\"anchor\":\"y\",\"domain\":[0.0,1.0],\"title\":{\"text\":\"Observed\"}},\"yaxis\":{\"anchor\":\"x\",\"domain\":[0.0,1.0],\"title\":{\"text\":\"Model\"}},\"legend\":{\"tracegroupgap\":0},\"title\":{\"text\":\"Medium Trucks: Snohomish\"},\"margin\":{\"l\":100,\"r\":100,\"t\":100,\"b\":100},\"height\":600,\"width\":800,\"shapes\":[{\"line\":{\"color\":\"Red\",\"dash\":\"dash\",\"width\":2},\"type\":\"line\",\"x0\":0,\"x1\":5697,\"y0\":0,\"y1\":5697}],\"annotations\":[{\"align\":\"right\",\"font\":{\"color\":\"pink\",\"size\":12},\"showarrow\":false,\"text\":\"y = x\",\"x\":5981.85,\"y\":5981.85},{\"align\":\"right\",\"font\":{\"color\":\"black\",\"size\":12},\"showarrow\":false,\"text\":\"r^2 = 0.62\",\"x\":3032.4,\"y\":4158.687989630926}]},                        {\"responsive\": true}                    ).then(function(){\n",
       "                            \n",
       "var gd = document.getElementById('7745fe0a-4cd7-4bf3-ad3c-b018755c8ea4');\n",
       "var x = new MutationObserver(function (mutations, observer) {{\n",
       "        var display = window.getComputedStyle(gd).display;\n",
       "        if (!display || display === 'none') {{\n",
       "            console.log([gd, 'removed!']);\n",
       "            Plotly.purge(gd);\n",
       "            observer.disconnect();\n",
       "        }}\n",
       "}});\n",
       "\n",
       "// Listen for the removal of the full notebook cells\n",
       "var notebookContainer = gd.closest('#notebook-container');\n",
       "if (notebookContainer) {{\n",
       "    x.observe(notebookContainer, {childList: true});\n",
       "}}\n",
       "\n",
       "// Listen for the clearing of the current output cell\n",
       "var outputEl = gd.closest('.output');\n",
       "if (outputEl) {{\n",
       "    x.observe(outputEl, {childList: true});\n",
       "}}\n",
       "\n",
       "                        })                };                });            </script>        </div>"
      ]
     },
     "metadata": {},
     "output_type": "display_data"
    }
   ],
   "source": [
    "fig = create_truck_chart(df_daily_med, 'Medium', 'Snohomish')\n",
    "fig.show()"
   ]
  },
  {
   "cell_type": "raw",
   "id": "2e93c7ef",
   "metadata": {},
   "source": [
    ":::"
   ]
  }
 ],
 "metadata": {
  "kernelspec": {
   "display_name": "summary",
   "language": "python",
   "name": "python3"
  },
  "language_info": {
   "codemirror_mode": {
    "name": "ipython",
    "version": 3
   },
   "file_extension": ".py",
   "mimetype": "text/x-python",
   "name": "python",
   "nbconvert_exporter": "python",
   "pygments_lexer": "ipython3",
   "version": "3.7.10"
  }
 },
 "nbformat": 4,
 "nbformat_minor": 5
}
