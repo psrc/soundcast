{
 "cells": [
  {
   "cell_type": "raw",
   "metadata": {
    "vscode": {
     "languageId": "raw"
    }
   },
   "source": [
    "---\n",
    "title: \"Bike Summary\"\n",
    "date: today\n",
    "---"
   ]
  },
  {
   "cell_type": "code",
   "execution_count": 1,
   "metadata": {
    "execution": {
     "iopub.execute_input": "2024-11-26T16:52:09.939421Z",
     "iopub.status.busy": "2024-11-26T16:52:09.937439Z",
     "iopub.status.idle": "2024-11-26T16:52:13.075825Z",
     "shell.execute_reply": "2024-11-26T16:52:13.073829Z"
    }
   },
   "outputs": [],
   "source": [
    "import os\n",
    "from pathlib import Path\n",
    "import pandas as pd\n",
    "# import numpy as np\n",
    "from sqlalchemy import create_engine,text\n",
    "# from scipy import stats\n",
    "import plotly.express as px\n",
    "import toml\n",
    "import psrc_theme\n",
    "\n",
    "# %matplotlib inline\n",
    "# from IPython.display import display, HTML\n",
    "\n",
    "# to show plotly figures in quarto HTML file\n",
    "import plotly.io as pio\n",
    "pio.renderers.default = \"plotly_mimetype+notebook_connected\"\n",
    "pio.templates.default = \"simple_white+psrc_color\" # set plotly template\n",
    "\n",
    "input_config = toml.load(os.path.join(os.getcwd(), '..\\\\..\\\\..\\\\..\\\\configuration', 'input_configuration.toml'))\n",
    "valid_config = toml.load(os.path.join(os.getcwd(), '..\\\\..\\\\..\\\\..\\\\configuration', 'validation_configuration.toml'))\n",
    "# emme_config = toml.load(os.path.join(os.getcwd(), '..\\\\..\\\\..\\\\..\\\\configuration','emme_configuration.toml'))\n",
    "# network_config = toml.load(os.path.join(os.getcwd(), '..\\\\..\\\\..\\\\..\\\\configuration','network_configuration.toml'))\n",
    "\n",
    "# table format\n",
    "pd.options.display.float_format = '{:0,.0f}'.format\n",
    "format_percent = \"{:,.1%}\".format"
   ]
  },
  {
   "cell_type": "code",
   "execution_count": 2,
   "metadata": {
    "execution": {
     "iopub.execute_input": "2024-11-26T16:52:13.084800Z",
     "iopub.status.busy": "2024-11-26T16:52:13.082806Z",
     "iopub.status.idle": "2024-11-26T16:52:19.064165Z",
     "shell.execute_reply": "2024-11-26T16:52:19.062170Z"
    }
   },
   "outputs": [],
   "source": [
    "# summary data location\n",
    "df_result = pd.read_csv(Path(valid_config['model_dir']) / 'outputs/network/network_results.csv')\n",
    "\n",
    "# observed counts location\n",
    "conn = create_engine('sqlite:///../../../../inputs/db/'+input_config['db_name'])\n",
    "df_observed_bike = pd.read_sql(text(\"SELECT * FROM observed_bike_volumes\"), con=conn.connect())"
   ]
  },
  {
   "cell_type": "code",
   "execution_count": 3,
   "metadata": {
    "execution": {
     "iopub.execute_input": "2024-11-26T16:52:19.076133Z",
     "iopub.status.busy": "2024-11-26T16:52:19.075135Z",
     "iopub.status.idle": "2024-11-26T16:52:19.111582Z",
     "shell.execute_reply": "2024-11-26T16:52:19.110075Z"
    }
   },
   "outputs": [
    {
     "data": {
      "text/plain": [
       "Index(['Unnamed: 0', 'CountID', 'Counter ID', 'Jurisdiction', 'County',\n",
       "       'Agency', 'Follow Up Notes', 'Directions', 'OBJECT ID', 'PSRCEdgeID',\n",
       "       'PSRCJunctID', 'CrossStreets', 'Latitude', 'Longitude', 'Year',\n",
       "       'CountDate', 'P_1', 'P_2', 'P_3', 'P_4', 'P_D', 'B_1', 'B_2', 'B_3',\n",
       "       'B_4', 'B_D', 'P_IJ_1', 'P_IJ_2', 'P_IJ_3', 'P_IJ_4', 'P_IJ_D',\n",
       "       'B_IJ_1', 'B_IJ_2', 'B_IJ_3', 'B_IJ_4', 'B_IJ_D', 'P_JI_1', 'P_JI_2',\n",
       "       'P_JI_3', 'P_JI_4', 'P_JI_D', 'B_JI_1', 'B_JI_2', 'B_JI_3', 'B_JI_4',\n",
       "       'B_JI_D'],\n",
       "      dtype='object')"
      ]
     },
     "execution_count": 3,
     "metadata": {},
     "output_type": "execute_result"
    }
   ],
   "source": [
    "df_observed_bike.columns"
   ]
  },
  {
   "cell_type": "code",
   "execution_count": 4,
   "metadata": {
    "execution": {
     "iopub.execute_input": "2024-11-26T16:52:19.168091Z",
     "iopub.status.busy": "2024-11-26T16:52:19.166526Z",
     "iopub.status.idle": "2024-11-26T16:52:19.191062Z",
     "shell.execute_reply": "2024-11-26T16:52:19.189067Z"
    }
   },
   "outputs": [],
   "source": [
    "tod_map = {'B_IJ_1': '6to7',\n",
    "           'B_JI_1': '6to7',\n",
    "           'B_IJ_2': '7to8',\n",
    "           'B_JI_2': '7to8',\n",
    "           'B_IJ_3': '16to17',\n",
    "           'B_JI_3': '16to17',\n",
    "           'B_IJ_4': '17to18',\n",
    "           'B_JI_4': '17to18'}"
   ]
  },
  {
   "cell_type": "markdown",
   "metadata": {},
   "source": [
    "## top bike links"
   ]
  },
  {
   "cell_type": "code",
   "execution_count": 5,
   "metadata": {
    "execution": {
     "iopub.execute_input": "2024-11-26T16:52:19.203030Z",
     "iopub.status.busy": "2024-11-26T16:52:19.202032Z",
     "iopub.status.idle": "2024-11-26T16:52:19.362658Z",
     "shell.execute_reply": "2024-11-26T16:52:19.361659Z"
    }
   },
   "outputs": [
    {
     "data": {
      "text/html": [
       "<div>\n",
       "<style scoped>\n",
       "    .dataframe tbody tr th:only-of-type {\n",
       "        vertical-align: middle;\n",
       "    }\n",
       "\n",
       "    .dataframe tbody tr th {\n",
       "        vertical-align: top;\n",
       "    }\n",
       "\n",
       "    .dataframe thead th {\n",
       "        text-align: right;\n",
       "    }\n",
       "</style>\n",
       "<table border=\"1\" class=\"dataframe\">\n",
       "  <thead>\n",
       "    <tr style=\"text-align: right;\">\n",
       "      <th></th>\n",
       "      <th>tod</th>\n",
       "      <th>@countid</th>\n",
       "      <th>@bvol</th>\n",
       "    </tr>\n",
       "  </thead>\n",
       "  <tbody>\n",
       "    <tr>\n",
       "      <th>7164</th>\n",
       "      <td>17to18</td>\n",
       "      <td>0</td>\n",
       "      <td>435,276</td>\n",
       "    </tr>\n",
       "    <tr>\n",
       "      <th>5373</th>\n",
       "      <td>16to17</td>\n",
       "      <td>0</td>\n",
       "      <td>433,100</td>\n",
       "    </tr>\n",
       "    <tr>\n",
       "      <th>16121</th>\n",
       "      <td>7to8</td>\n",
       "      <td>0</td>\n",
       "      <td>367,441</td>\n",
       "    </tr>\n",
       "    <tr>\n",
       "      <th>14330</th>\n",
       "      <td>6to7</td>\n",
       "      <td>0</td>\n",
       "      <td>271,412</td>\n",
       "    </tr>\n",
       "    <tr>\n",
       "      <th>8601</th>\n",
       "      <td>17to18</td>\n",
       "      <td>2,046</td>\n",
       "      <td>408</td>\n",
       "    </tr>\n",
       "    <tr>\n",
       "      <th>8708</th>\n",
       "      <td>17to18</td>\n",
       "      <td>6,001</td>\n",
       "      <td>408</td>\n",
       "    </tr>\n",
       "    <tr>\n",
       "      <th>6917</th>\n",
       "      <td>16to17</td>\n",
       "      <td>6,001</td>\n",
       "      <td>391</td>\n",
       "    </tr>\n",
       "    <tr>\n",
       "      <th>6810</th>\n",
       "      <td>16to17</td>\n",
       "      <td>2,046</td>\n",
       "      <td>391</td>\n",
       "    </tr>\n",
       "    <tr>\n",
       "      <th>17665</th>\n",
       "      <td>7to8</td>\n",
       "      <td>6,001</td>\n",
       "      <td>379</td>\n",
       "    </tr>\n",
       "  </tbody>\n",
       "</table>\n",
       "</div>"
      ],
      "text/plain": [
       "          tod  @countid   @bvol\n",
       "7164   17to18         0 435,276\n",
       "5373   16to17         0 433,100\n",
       "16121    7to8         0 367,441\n",
       "14330    6to7         0 271,412\n",
       "8601   17to18     2,046     408\n",
       "8708   17to18     6,001     408\n",
       "6917   16to17     6,001     391\n",
       "6810   16to17     2,046     391\n",
       "17665    7to8     6,001     379"
      ]
     },
     "execution_count": 5,
     "metadata": {},
     "output_type": "execute_result"
    }
   ],
   "source": [
    "# Group both directions\n",
    "# _df = df[df['@countid'].isin(df_obs['CountID'])]\n",
    "df = df_result.groupby(['tod','@countid'])['@bvol'].sum()\n",
    "df = df.reset_index()\n",
    "result = df[df['tod'].isin(tod_map.values())].sort_values('@bvol',ascending=False)\n",
    "\n",
    "result.iloc[:9]\n"
   ]
  }
 ],
 "metadata": {
  "kernelspec": {
   "display_name": "build_notebook",
   "language": "python",
   "name": "python3"
  },
  "language_info": {
   "codemirror_mode": {
    "name": "ipython",
    "version": 3
   },
   "file_extension": ".py",
   "mimetype": "text/x-python",
   "name": "python",
   "nbconvert_exporter": "python",
   "pygments_lexer": "ipython3",
   "version": "3.7.10"
  }
 },
 "nbformat": 4,
 "nbformat_minor": 2
}
