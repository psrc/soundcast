{
 "metadata": {
  "name": "",
  "signature": "sha256:af5a3e6b94c45c1fad4a4aff6b15a0909dc3a27c00231b0894060da482fae347"
 },
 "nbformat": 3,
 "nbformat_minor": 0,
 "worksheets": [
  {
   "cells": [
    {
     "cell_type": "code",
     "collapsed": false,
     "input": [
      "import numpy as np\n",
      "import pandas as pd\n",
      "import xlsxwriter\n",
      "import time\n",
      "import h5toDF\n",
      "import xlautofit\n",
      "import math\n",
      "from summary_functions import *"
     ],
     "language": "python",
     "metadata": {},
     "outputs": [],
     "prompt_number": 1
    },
    {
     "cell_type": "code",
     "collapsed": false,
     "input": [
      "#################################### WHERE ARE YOU RUNNING? ####################################\n",
      "model_dir = 'C:/soundcastrepo/'\n",
      "\n",
      "\n",
      "### OTHER PATHS. FOR A TYPICAL RUN, YOU DON'T HAVE TO CHANGE THESE ######################################\n",
      "h5_results_file = 'outputs/daysim_outputs.h5'\n",
      "h5_results_name = 'DaysimOutputs'\n",
      "h5_comparison_file = 'scripts/summarize/survey.h5'\n",
      "h5_comparison_name = 'Survey'\n",
      "guidefile = 'scripts/summarize/inputs/calibration/CatVarDict.xlsx'\n",
      "districtfile = 'scripts/summarize/inputs/calibration/TAZ_TAD_County.csv'\n",
      "report_output_location = 'outputs'\n",
      "\n",
      "parcel_decay_file = 'inputs/buffered_parcels.dat'\n",
      "\n",
      "\n",
      "\n",
      "h5_results_file = model_dir + h5_results_file\n",
      "h5_comparison_file =  model_dir + h5_comparison_file\n",
      "guidefile = model_dir + guidefile\n",
      "districtfile = model_dir + districtfile\n",
      "report_output_location = 'outputs'\n"
     ],
     "language": "python",
     "metadata": {},
     "outputs": [],
     "prompt_number": 2
    },
    {
     "cell_type": "code",
     "collapsed": false,
     "input": [
      "#READ IN YOUR DATA\n",
      "data1 = h5toDF.convert(h5_results_file,guidefile,h5_results_name)\n",
      "data2 = h5toDF.convert(h5_comparison_file,guidefile,h5_comparison_name)\n",
      "zone_district = pd.DataFrame.from_csv(districtfile, index_col = None)"
     ],
     "language": "python",
     "metadata": {},
     "outputs": [
      {
       "output_type": "stream",
       "stream": "stdout",
       "text": [
        "---Begin DaysimOutputs conversion---\n",
        "Guide import complete\n",
        "Guide converted to dictionary in 0.0 seconds\n",
        "Household File import/recode complete in 0.8 seconds"
       ]
      },
      {
       "output_type": "stream",
       "stream": "stdout",
       "text": [
        "\n",
        "HouseholdDay File import/recode complete in 0.3 seconds"
       ]
      },
      {
       "output_type": "stream",
       "stream": "stdout",
       "text": [
        "\n",
        "Person File import/recode complete in 3.2 seconds"
       ]
      },
      {
       "output_type": "stream",
       "stream": "stdout",
       "text": [
        "\n",
        "PersonDay File import/recode complete in 1.6 seconds"
       ]
      },
      {
       "output_type": "stream",
       "stream": "stdout",
       "text": [
        "\n",
        "Tour File import/recode complete in 5.0 seconds"
       ]
      },
      {
       "output_type": "stream",
       "stream": "stdout",
       "text": [
        "\n",
        "Trip File import/recode complete in 12.9 seconds"
       ]
      },
      {
       "output_type": "stream",
       "stream": "stdout",
       "text": [
        "\n",
        "---DaysimOutputs import/recode complete in 23.9 seconds---\n",
        "---Begin Survey conversion---"
       ]
      },
      {
       "output_type": "stream",
       "stream": "stdout",
       "text": [
        "\n",
        "Guide import complete\n",
        "Guide converted to dictionary in 0.0 seconds\n",
        "WARNING: Negative Expansion Factor Present!"
       ]
      },
      {
       "output_type": "stream",
       "stream": "stdout",
       "text": [
        "\n",
        "Household File import/recode complete in 0.8 seconds"
       ]
      },
      {
       "output_type": "stream",
       "stream": "stdout",
       "text": [
        "\n",
        "WARNING: Negative Expansion Factor Present!"
       ]
      },
      {
       "output_type": "stream",
       "stream": "stdout",
       "text": [
        "\n",
        "HouseholdDay File import/recode complete in 0.6 seconds"
       ]
      },
      {
       "output_type": "stream",
       "stream": "stdout",
       "text": [
        "\n",
        "WARNING: Negative Expansion Factor Present!"
       ]
      },
      {
       "output_type": "stream",
       "stream": "stdout",
       "text": [
        "\n",
        "Person File import/recode complete in 2.2 seconds"
       ]
      },
      {
       "output_type": "stream",
       "stream": "stdout",
       "text": [
        "\n",
        "WARNING: Negative Expansion Factor Present!"
       ]
      },
      {
       "output_type": "stream",
       "stream": "stdout",
       "text": [
        "\n",
        "PersonDay File import/recode complete in 5.2 seconds"
       ]
      },
      {
       "output_type": "stream",
       "stream": "stdout",
       "text": [
        "\n",
        "WARNING: Negative Travel Time Present!"
       ]
      },
      {
       "output_type": "stream",
       "stream": "stdout",
       "text": [
        "\n",
        "WARNING: Negative Expansion Factor Present!"
       ]
      },
      {
       "output_type": "stream",
       "stream": "stdout",
       "text": [
        "\n",
        "Tour File import/recode complete in 7.1 seconds"
       ]
      },
      {
       "output_type": "stream",
       "stream": "stdout",
       "text": [
        "\n",
        "WARNING: Negative Travel Distance Present!"
       ]
      },
      {
       "output_type": "stream",
       "stream": "stdout",
       "text": [
        "\n",
        "WARNING: Negative Travel Time Present!"
       ]
      },
      {
       "output_type": "stream",
       "stream": "stdout",
       "text": [
        "\n",
        "WARNING: Negative Expansion Factor Present!"
       ]
      },
      {
       "output_type": "stream",
       "stream": "stdout",
       "text": [
        "\n",
        "Trip File import/recode complete in 16.7 seconds"
       ]
      },
      {
       "output_type": "stream",
       "stream": "stdout",
       "text": [
        "\n",
        "---Survey import/recode complete in 32.6 seconds---\n",
        "Negative expansion factors set to zero for Survey data"
       ]
      },
      {
       "output_type": "stream",
       "stream": "stdout",
       "text": [
        "\n"
       ]
      }
     ],
     "prompt_number": 4
    },
    {
     "cell_type": "code",
     "collapsed": false,
     "input": [
      "trip_variables = ['otaz', 'dtaz', 'travtime', 'travcost', 'travdist', 'pno', 'mode', 'tour_id', 'opcl', 'dpcl', 'dorp']\n",
      "hh_variables = ['hhno', 'hhincome', 'hhvehs', 'hhtaz']\n",
      "person_variables = ['hhno', 'pno', 'pagey', 'pgend', 'id']"
     ],
     "language": "python",
     "metadata": {},
     "outputs": [],
     "prompt_number": 8
    },
    {
     "cell_type": "code",
     "collapsed": false,
     "input": [
      "def get_variables_trips_model(output_df,trip_variables, hh_variables, person_variables):\n",
      "    trip_data = output_df['Trip'][trip_variables]\n",
      "    hh_data = output_df['Household'][hh_variables]\n",
      "    person_data = output_df['Person'][person_variables]\n",
      "    tour_data = output_df['Tour'][['hhno', 'pno', 'id']]\n",
      "    tour_data.rename(columns = {'id': 'tour_id'}, inplace = True)\n",
      "\n",
      "    merge_hh_person = pd.merge(hh_data, person_data, 'inner', on = 'hhno')\n",
      "    merge_hh_person.reset_index()\n",
      "    tour_data.reset_index()\n",
      "    merge_hh_tour = pd.merge(merge_hh_person, tour_data, 'inner', on =('hhno', 'pno'))\n",
      "    merge_trip_hh = pd.merge(merge_hh_tour, trip_data, 'outer', on= 'tour_id')\n",
      "    return merge_trip_hh  "
     ],
     "language": "python",
     "metadata": {},
     "outputs": [],
     "prompt_number": 9
    },
    {
     "cell_type": "code",
     "collapsed": false,
     "input": [
      "trips_model = get_variables_trips_model(data1, trip_variables, hh_variables, person_variables)"
     ],
     "language": "python",
     "metadata": {},
     "outputs": [
      {
       "output_type": "stream",
       "stream": "stderr",
       "text": [
        "C:\\Program Files\\INRO\\Emme\\Emme 4\\Emme-4.2.2\\Python27\\lib\\pandas\\core\\frame.py:2417: SettingWithCopyWarning: \n",
        "A value is trying to be set on a copy of a slice from a DataFrame\n",
        "\n",
        "See the the caveats in the documentation: http://pandas.pydata.org/pandas-docs/stable/indexing.html#indexing-view-versus-copy\n",
        "  **kwargs)\n"
       ]
      }
     ],
     "prompt_number": 10
    },
    {
     "cell_type": "code",
     "collapsed": false,
     "input": [
      "loc_trips_model = pd.merge(trips_model, zone_district, left_on = 'hhtaz', right_on = 'TAZ')"
     ],
     "language": "python",
     "metadata": {},
     "outputs": [],
     "prompt_number": 9
    },
    {
     "cell_type": "code",
     "collapsed": false,
     "input": [
      "v_trips_model = loc_trips_model.loc[(loc_trips_model['dorp']=='Driver')]"
     ],
     "language": "python",
     "metadata": {},
     "outputs": [],
     "prompt_number": 10
    },
    {
     "cell_type": "code",
     "collapsed": false,
     "input": [
      "distances_county = v_trips_model.groupby('County').sum()"
     ],
     "language": "python",
     "metadata": {},
     "outputs": [],
     "prompt_number": 11
    },
    {
     "cell_type": "code",
     "collapsed": false,
     "input": [
      "def get_variables_persons(output_df, hh_variables, person_variables):\n",
      "    \n",
      "    person_variables = ['hhno', 'pno', 'pagey', 'pgend']\n",
      "    hh_variables = ['hhno', 'hhincome', 'hhvehs', 'hhtaz', 'hhexpfac']\n",
      "    hh_data = output_df['Household'][hh_variables]\n",
      "    person_data = output_df['Person'][person_variables]\n",
      "\n",
      "    merge_hh_person = pd.merge(hh_data, person_data, 'inner', on = 'hhno')\n",
      "    merge_hh_person.reset_index()\n",
      "\n",
      "    return merge_hh_person"
     ],
     "language": "python",
     "metadata": {},
     "outputs": [],
     "prompt_number": 24
    },
    {
     "cell_type": "code",
     "collapsed": false,
     "input": [
      "people_model = get_variables_persons(data1, hh_variables, person_variables)"
     ],
     "language": "python",
     "metadata": {},
     "outputs": [],
     "prompt_number": 25
    },
    {
     "cell_type": "code",
     "collapsed": false,
     "input": [
      "loc_peeps_model = pd.merge(people_model, zone_district, left_on = 'hhtaz', right_on = 'TAZ')"
     ],
     "language": "python",
     "metadata": {},
     "outputs": [],
     "prompt_number": 26
    },
    {
     "cell_type": "code",
     "collapsed": false,
     "input": [
      "people_county = loc_peeps_model.groupby('County').count()"
     ],
     "language": "python",
     "metadata": {},
     "outputs": [],
     "prompt_number": 15
    },
    {
     "cell_type": "code",
     "collapsed": false,
     "input": [
      "people_county['hhno'].to_clipboard()"
     ],
     "language": "python",
     "metadata": {},
     "outputs": [],
     "prompt_number": 16
    },
    {
     "cell_type": "code",
     "collapsed": true,
     "input": [
      "people_survey = get_variables_persons(data2, hh_variables, person_variables)"
     ],
     "language": "python",
     "metadata": {},
     "outputs": [],
     "prompt_number": 30
    },
    {
     "cell_type": "code",
     "collapsed": false,
     "input": [
      "people_county = pd.merge(people_survey, zone_district, left_on = 'hhtaz', right_on = 'TAZ')"
     ],
     "language": "python",
     "metadata": {},
     "outputs": [],
     "prompt_number": 31
    },
    {
     "cell_type": "code",
     "collapsed": false,
     "input": [
      "people_county = people_county.groupby('County').sum()"
     ],
     "language": "python",
     "metadata": {},
     "outputs": [],
     "prompt_number": 32
    },
    {
     "cell_type": "code",
     "collapsed": false,
     "input": [
      "people_county['hhexpfac'].to_clipboard()"
     ],
     "language": "python",
     "metadata": {},
     "outputs": [],
     "prompt_number": 34
    },
    {
     "cell_type": "code",
     "collapsed": false,
     "input": [
      "trip_variables = ['otaz', 'dtaz', 'travtime', 'travcost', 'travdist', 'pno', 'mode',  'opcl', 'dpcl', 'dorp', 'hhno', 'trexpfac']\n",
      "hh_variables = ['hhno', 'hhincome', 'hhvehs', 'hhtaz', 'hhexpfac']\n",
      "person_variables = ['hhno', 'pno', 'pagey', 'pgend', 'id']"
     ],
     "language": "python",
     "metadata": {},
     "outputs": [],
     "prompt_number": 5
    },
    {
     "cell_type": "code",
     "collapsed": false,
     "input": [
      "def get_variables_trips_survey(output_df,trip_variables, hh_variables):\n",
      "    trip_data = output_df['Trip'][trip_variables]\n",
      "    hh_data = output_df['Household'][hh_variables]\n",
      "\n",
      "    merge_trip_hh = pd.merge(trip_data, hh_data, on = 'hhno')\n",
      "    return merge_trip_hh"
     ],
     "language": "python",
     "metadata": {},
     "outputs": [],
     "prompt_number": 6
    },
    {
     "cell_type": "code",
     "collapsed": false,
     "input": [
      "trips_survey = get_variables_trips(data2, trip_variables, hh_variables)"
     ],
     "language": "python",
     "metadata": {},
     "outputs": [],
     "prompt_number": 8
    },
    {
     "cell_type": "code",
     "collapsed": false,
     "input": [
      "v_trips_survey =trips_survey.loc[(trips_survey['dorp']== 'Driver')]"
     ],
     "language": "python",
     "metadata": {},
     "outputs": [],
     "prompt_number": 9
    },
    {
     "cell_type": "code",
     "collapsed": false,
     "input": [
      "v_trips_survey_loc= pd.merge(v_trips_survey, zone_district, left_on = 'hhtaz', right_on = 'TAZ')"
     ],
     "language": "python",
     "metadata": {},
     "outputs": [],
     "prompt_number": 10
    },
    {
     "cell_type": "code",
     "collapsed": false,
     "input": [
      "v_trips_survey_loc['weighted_dist'] = v_trips_survey_loc['travdist']*v_trips_survey_loc['trexpfac']"
     ],
     "language": "python",
     "metadata": {},
     "outputs": [],
     "prompt_number": 11
    },
    {
     "cell_type": "code",
     "collapsed": false,
     "input": [
      "v_trips_survey_loc.groupby('County').sum()['weighted_dist'].to_clipboard()"
     ],
     "language": "python",
     "metadata": {},
     "outputs": [],
     "prompt_number": 13
    },
    {
     "cell_type": "code",
     "collapsed": false,
     "input": [],
     "language": "python",
     "metadata": {},
     "outputs": []
    }
   ],
   "metadata": {}
  }
 ]
}