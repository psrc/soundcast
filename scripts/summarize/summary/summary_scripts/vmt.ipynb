{
 "cells": [
  {
   "cell_type": "raw",
   "metadata": {
    "vscode": {
     "languageId": "raw"
    }
   },
   "source": [
    "---\n",
    "title: \"Vehicle Miles Traveled (VMT)\"\n",
    "date: today\n",
    "---"
   ]
  },
  {
   "cell_type": "code",
   "execution_count": 1,
   "metadata": {
    "execution": {
     "iopub.execute_input": "2025-03-01T07:00:15.066334Z",
     "iopub.status.busy": "2025-03-01T07:00:15.064339Z",
     "iopub.status.idle": "2025-03-01T07:00:16.317633Z",
     "shell.execute_reply": "2025-03-01T07:00:16.314910Z"
    }
   },
   "outputs": [],
   "source": [
    "#| include: false\n",
    "\n",
    "import os\n",
    "import pandas as pd\n",
    "import numpy as np\n",
    "# import plotly.express as px\n",
    "import toml\n",
    "# import psrc_theme\n",
    "from pathlib import Path\n",
    "import summary_data\n",
    "\n",
    "# to show plotly figures in quarto HTML file\n",
    "# import plotly.io as pio\n",
    "# pio.renderers.default = \"plotly_mimetype+notebook_connected\"\n",
    "# pio.templates.default = \"simple_white+psrc_color\" # set plotly template\n",
    "\n",
    "config = summary_data.CONFIG\n",
    "all_runs = summary_data.ALL_RUNS"
   ]
  },
  {
   "cell_type": "code",
   "execution_count": 2,
   "metadata": {
    "execution": {
     "iopub.execute_input": "2025-03-01T07:00:16.329700Z",
     "iopub.status.busy": "2025-03-01T07:00:16.327700Z",
     "iopub.status.idle": "2025-03-01T07:00:47.683624Z",
     "shell.execute_reply": "2025-03-01T07:00:47.681994Z"
    }
   },
   "outputs": [],
   "source": [
    "# network summary: 'VMT','VHT','total_delay'\n",
    "df_network = summary_data.load_agg_data('network/network_results.csv')"
   ]
  },
  {
   "cell_type": "markdown",
   "metadata": {},
   "source": [
    "## County"
   ]
  },
  {
   "cell_type": "code",
   "execution_count": 3,
   "metadata": {
    "execution": {
     "iopub.execute_input": "2025-03-01T07:00:47.696589Z",
     "iopub.status.busy": "2025-03-01T07:00:47.694595Z",
     "iopub.status.idle": "2025-03-01T07:00:49.380453Z",
     "shell.execute_reply": "2025-03-01T07:00:49.378515Z"
    }
   },
   "outputs": [
    {
     "data": {
      "text/html": [
       "<style  type=\"text/css\" >\n",
       "</style><table id=\"T_89a33_\" ><thead>    <tr>        <th class=\"index_name level0\" >VMT by county</th>        <th class=\"col_heading level0 col0\" >King</th>        <th class=\"col_heading level0 col1\" >Kitsap</th>        <th class=\"col_heading level0 col2\" >Pierce</th>        <th class=\"col_heading level0 col3\" >Snohomish</th>        <th class=\"col_heading level0 col4\" >Outside Region</th>        <th class=\"col_heading level0 col5\" >Total</th>    </tr>    <tr>        <th class=\"index_name level0\" >source</th>        <th class=\"blank\" ></th>        <th class=\"blank\" ></th>        <th class=\"blank\" ></th>        <th class=\"blank\" ></th>        <th class=\"blank\" ></th>        <th class=\"blank\" ></th>    </tr></thead><tbody>\n",
       "                <tr>\n",
       "                        <th id=\"T_89a33_level0_row0\" class=\"row_heading level0 row0\" >2050 RTP</th>\n",
       "                        <td id=\"T_89a33_row0_col0\" class=\"data row0 col0\" >54,857,255</td>\n",
       "                        <td id=\"T_89a33_row0_col1\" class=\"data row0 col1\" >5,972,019</td>\n",
       "                        <td id=\"T_89a33_row0_col2\" class=\"data row0 col2\" >22,933,575</td>\n",
       "                        <td id=\"T_89a33_row0_col3\" class=\"data row0 col3\" >21,864,543</td>\n",
       "                        <td id=\"T_89a33_row0_col4\" class=\"data row0 col4\" >505,284</td>\n",
       "                        <td id=\"T_89a33_row0_col5\" class=\"data row0 col5\" >106,132,676</td>\n",
       "            </tr>\n",
       "            <tr>\n",
       "                        <th id=\"T_89a33_level0_row1\" class=\"row_heading level0 row1\" >2050 new LU</th>\n",
       "                        <td id=\"T_89a33_row1_col0\" class=\"data row1 col0\" >51,639,502</td>\n",
       "                        <td id=\"T_89a33_row1_col1\" class=\"data row1 col1\" >5,248,283</td>\n",
       "                        <td id=\"T_89a33_row1_col2\" class=\"data row1 col2\" >22,360,786</td>\n",
       "                        <td id=\"T_89a33_row1_col3\" class=\"data row1 col3\" >21,034,095</td>\n",
       "                        <td id=\"T_89a33_row1_col4\" class=\"data row1 col4\" >494,813</td>\n",
       "                        <td id=\"T_89a33_row1_col5\" class=\"data row1 col5\" >100,777,478</td>\n",
       "            </tr>\n",
       "            <tr>\n",
       "                        <th id=\"T_89a33_level0_row2\" class=\"row_heading level0 row2\" >2050 new LU, less WFH, no telecommute</th>\n",
       "                        <td id=\"T_89a33_row2_col0\" class=\"data row2 col0\" >52,373,633</td>\n",
       "                        <td id=\"T_89a33_row2_col1\" class=\"data row2 col1\" >5,568,662</td>\n",
       "                        <td id=\"T_89a33_row2_col2\" class=\"data row2 col2\" >23,012,855</td>\n",
       "                        <td id=\"T_89a33_row2_col3\" class=\"data row2 col3\" >21,064,074</td>\n",
       "                        <td id=\"T_89a33_row2_col4\" class=\"data row2 col4\" >501,873</td>\n",
       "                        <td id=\"T_89a33_row2_col5\" class=\"data row2 col5\" >102,521,097</td>\n",
       "            </tr>\n",
       "            <tr>\n",
       "                        <th id=\"T_89a33_level0_row3\" class=\"row_heading level0 row3\" >2050 old LU</th>\n",
       "                        <td id=\"T_89a33_row3_col0\" class=\"data row3 col0\" >52,019,142</td>\n",
       "                        <td id=\"T_89a33_row3_col1\" class=\"data row3 col1\" >5,533,945</td>\n",
       "                        <td id=\"T_89a33_row3_col2\" class=\"data row3 col2\" >22,965,593</td>\n",
       "                        <td id=\"T_89a33_row3_col3\" class=\"data row3 col3\" >20,924,253</td>\n",
       "                        <td id=\"T_89a33_row3_col4\" class=\"data row3 col4\" >500,408</td>\n",
       "                        <td id=\"T_89a33_row3_col5\" class=\"data row3 col5\" >101,943,341</td>\n",
       "            </tr>\n",
       "            <tr>\n",
       "                        <th id=\"T_89a33_level0_row4\" class=\"row_heading level0 row4\" >current run</th>\n",
       "                        <td id=\"T_89a33_row4_col0\" class=\"data row4 col0\" >43,264,848</td>\n",
       "                        <td id=\"T_89a33_row4_col1\" class=\"data row4 col1\" >4,255,997</td>\n",
       "                        <td id=\"T_89a33_row4_col2\" class=\"data row4 col2\" >18,630,692</td>\n",
       "                        <td id=\"T_89a33_row4_col3\" class=\"data row4 col3\" >16,499,080</td>\n",
       "                        <td id=\"T_89a33_row4_col4\" class=\"data row4 col4\" >332,522</td>\n",
       "                        <td id=\"T_89a33_row4_col5\" class=\"data row4 col5\" >82,983,139</td>\n",
       "            </tr>\n",
       "    </tbody></table>"
      ],
      "text/plain": [
       "<pandas.io.formats.style.Styler at 0x248b790bf88>"
      ]
     },
     "metadata": {},
     "output_type": "display_data"
    }
   ],
   "source": [
    "\n",
    "df = df_network.groupby(['source','county'])['VMT'].sum().\\\n",
    "        unstack('county').\\\n",
    "        rename_axis(columns={'county': 'VMT by county'})\n",
    "tab = df[['King','Kitsap','Pierce','Snohomish','Outside Region']].copy()\n",
    "tab['Total'] = tab.sum(axis=1)\n",
    "\n",
    "display(tab.style.format('{:,.0f}'))"
   ]
  },
  {
   "cell_type": "markdown",
   "metadata": {},
   "source": [
    "## Facility Type"
   ]
  },
  {
   "cell_type": "code",
   "execution_count": 4,
   "metadata": {
    "execution": {
     "iopub.execute_input": "2025-03-01T07:00:49.392421Z",
     "iopub.status.busy": "2025-03-01T07:00:49.391423Z",
     "iopub.status.idle": "2025-03-01T07:00:49.771901Z",
     "shell.execute_reply": "2025-03-01T07:00:49.769392Z"
    }
   },
   "outputs": [
    {
     "data": {
      "text/html": [
       "<style  type=\"text/css\" >\n",
       "</style><table id=\"T_ee253_\" ><thead>    <tr>        <th class=\"index_name level0\" >VMT by facility type</th>        <th class=\"col_heading level0 col0\" >Arterial</th>        <th class=\"col_heading level0 col1\" >Connector</th>        <th class=\"col_heading level0 col2\" >Highway</th>        <th class=\"col_heading level0 col3\" >Total</th>    </tr>    <tr>        <th class=\"index_name level0\" >source</th>        <th class=\"blank\" ></th>        <th class=\"blank\" ></th>        <th class=\"blank\" ></th>        <th class=\"blank\" ></th>    </tr></thead><tbody>\n",
       "                <tr>\n",
       "                        <th id=\"T_ee253_level0_row0\" class=\"row_heading level0 row0\" >2050 RTP</th>\n",
       "                        <td id=\"T_ee253_row0_col0\" class=\"data row0 col0\" >48,278,057</td>\n",
       "                        <td id=\"T_ee253_row0_col1\" class=\"data row0 col1\" >6,931,098</td>\n",
       "                        <td id=\"T_ee253_row0_col2\" class=\"data row0 col2\" >50,923,521</td>\n",
       "                        <td id=\"T_ee253_row0_col3\" class=\"data row0 col3\" >106,132,676</td>\n",
       "            </tr>\n",
       "            <tr>\n",
       "                        <th id=\"T_ee253_level0_row1\" class=\"row_heading level0 row1\" >2050 new LU</th>\n",
       "                        <td id=\"T_ee253_row1_col0\" class=\"data row1 col0\" >46,239,252</td>\n",
       "                        <td id=\"T_ee253_row1_col1\" class=\"data row1 col1\" >7,045,703</td>\n",
       "                        <td id=\"T_ee253_row1_col2\" class=\"data row1 col2\" >47,492,522</td>\n",
       "                        <td id=\"T_ee253_row1_col3\" class=\"data row1 col3\" >100,777,478</td>\n",
       "            </tr>\n",
       "            <tr>\n",
       "                        <th id=\"T_ee253_level0_row2\" class=\"row_heading level0 row2\" >2050 new LU, less WFH, no telecommute</th>\n",
       "                        <td id=\"T_ee253_row2_col0\" class=\"data row2 col0\" >47,019,208</td>\n",
       "                        <td id=\"T_ee253_row2_col1\" class=\"data row2 col1\" >7,203,161</td>\n",
       "                        <td id=\"T_ee253_row2_col2\" class=\"data row2 col2\" >48,298,728</td>\n",
       "                        <td id=\"T_ee253_row2_col3\" class=\"data row2 col3\" >102,521,097</td>\n",
       "            </tr>\n",
       "            <tr>\n",
       "                        <th id=\"T_ee253_level0_row3\" class=\"row_heading level0 row3\" >2050 old LU</th>\n",
       "                        <td id=\"T_ee253_row3_col0\" class=\"data row3 col0\" >46,687,024</td>\n",
       "                        <td id=\"T_ee253_row3_col1\" class=\"data row3 col1\" >7,123,726</td>\n",
       "                        <td id=\"T_ee253_row3_col2\" class=\"data row3 col2\" >48,132,591</td>\n",
       "                        <td id=\"T_ee253_row3_col3\" class=\"data row3 col3\" >101,943,341</td>\n",
       "            </tr>\n",
       "            <tr>\n",
       "                        <th id=\"T_ee253_level0_row4\" class=\"row_heading level0 row4\" >current run</th>\n",
       "                        <td id=\"T_ee253_row4_col0\" class=\"data row4 col0\" >37,014,397</td>\n",
       "                        <td id=\"T_ee253_row4_col1\" class=\"data row4 col1\" >5,953,599</td>\n",
       "                        <td id=\"T_ee253_row4_col2\" class=\"data row4 col2\" >40,010,644</td>\n",
       "                        <td id=\"T_ee253_row4_col3\" class=\"data row4 col3\" >82,978,640</td>\n",
       "            </tr>\n",
       "    </tbody></table>"
      ],
      "text/plain": [
       "<pandas.io.formats.style.Styler at 0x248c9363ec8>"
      ]
     },
     "metadata": {},
     "output_type": "display_data"
    }
   ],
   "source": [
    "df = df_network.groupby(['source','facility_type'])['VMT'].sum().\\\n",
    "        unstack('facility_type').\\\n",
    "        rename_axis(columns={'facility_type': 'VMT by facility type'}).\\\n",
    "        drop(columns='Other')\n",
    "df['Total'] = df.sum(axis=1)\n",
    "\n",
    "display(df.style.format('{:,.0f}'))"
   ]
  },
  {
   "cell_type": "markdown",
   "metadata": {},
   "source": [
    "## Period"
   ]
  },
  {
   "cell_type": "code",
   "execution_count": 5,
   "metadata": {
    "execution": {
     "iopub.execute_input": "2025-03-01T07:00:49.783869Z",
     "iopub.status.busy": "2025-03-01T07:00:49.781874Z",
     "iopub.status.idle": "2025-03-01T07:00:50.159857Z",
     "shell.execute_reply": "2025-03-01T07:00:50.157862Z"
    }
   },
   "outputs": [
    {
     "data": {
      "text/html": [
       "<style  type=\"text/css\" >\n",
       "</style><table id=\"T_4a941_\" ><thead>    <tr>        <th class=\"index_name level0\" >VMT by time of day</th>        <th class=\"col_heading level0 col0\" >AM</th>        <th class=\"col_heading level0 col1\" >Evening</th>        <th class=\"col_heading level0 col2\" >Mid-Day</th>        <th class=\"col_heading level0 col3\" >Night</th>        <th class=\"col_heading level0 col4\" >PM</th>        <th class=\"col_heading level0 col5\" >Total</th>    </tr>    <tr>        <th class=\"index_name level0\" >source</th>        <th class=\"blank\" ></th>        <th class=\"blank\" ></th>        <th class=\"blank\" ></th>        <th class=\"blank\" ></th>        <th class=\"blank\" ></th>        <th class=\"blank\" ></th>    </tr></thead><tbody>\n",
       "                <tr>\n",
       "                        <th id=\"T_4a941_level0_row0\" class=\"row_heading level0 row0\" >2050 RTP</th>\n",
       "                        <td id=\"T_4a941_row0_col0\" class=\"data row0 col0\" >24,129,325</td>\n",
       "                        <td id=\"T_4a941_row0_col1\" class=\"data row0 col1\" >13,779,385</td>\n",
       "                        <td id=\"T_4a941_row0_col2\" class=\"data row0 col2\" >35,683,325</td>\n",
       "                        <td id=\"T_4a941_row0_col3\" class=\"data row0 col3\" >8,071,626</td>\n",
       "                        <td id=\"T_4a941_row0_col4\" class=\"data row0 col4\" >24,469,014</td>\n",
       "                        <td id=\"T_4a941_row0_col5\" class=\"data row0 col5\" >106,132,676</td>\n",
       "            </tr>\n",
       "            <tr>\n",
       "                        <th id=\"T_4a941_level0_row1\" class=\"row_heading level0 row1\" >2050 new LU</th>\n",
       "                        <td id=\"T_4a941_row1_col0\" class=\"data row1 col0\" >22,573,563</td>\n",
       "                        <td id=\"T_4a941_row1_col1\" class=\"data row1 col1\" >10,068,897</td>\n",
       "                        <td id=\"T_4a941_row1_col2\" class=\"data row1 col2\" >35,145,156</td>\n",
       "                        <td id=\"T_4a941_row1_col3\" class=\"data row1 col3\" >9,868,695</td>\n",
       "                        <td id=\"T_4a941_row1_col4\" class=\"data row1 col4\" >23,121,168</td>\n",
       "                        <td id=\"T_4a941_row1_col5\" class=\"data row1 col5\" >100,777,478</td>\n",
       "            </tr>\n",
       "            <tr>\n",
       "                        <th id=\"T_4a941_level0_row2\" class=\"row_heading level0 row2\" >2050 new LU, less WFH, no telecommute</th>\n",
       "                        <td id=\"T_4a941_row2_col0\" class=\"data row2 col0\" >23,196,764</td>\n",
       "                        <td id=\"T_4a941_row2_col1\" class=\"data row2 col1\" >10,266,632</td>\n",
       "                        <td id=\"T_4a941_row2_col2\" class=\"data row2 col2\" >35,527,523</td>\n",
       "                        <td id=\"T_4a941_row2_col3\" class=\"data row2 col3\" >10,035,934</td>\n",
       "                        <td id=\"T_4a941_row2_col4\" class=\"data row2 col4\" >23,494,245</td>\n",
       "                        <td id=\"T_4a941_row2_col5\" class=\"data row2 col5\" >102,521,097</td>\n",
       "            </tr>\n",
       "            <tr>\n",
       "                        <th id=\"T_4a941_level0_row3\" class=\"row_heading level0 row3\" >2050 old LU</th>\n",
       "                        <td id=\"T_4a941_row3_col0\" class=\"data row3 col0\" >23,072,071</td>\n",
       "                        <td id=\"T_4a941_row3_col1\" class=\"data row3 col1\" >10,174,789</td>\n",
       "                        <td id=\"T_4a941_row3_col2\" class=\"data row3 col2\" >35,355,780</td>\n",
       "                        <td id=\"T_4a941_row3_col3\" class=\"data row3 col3\" >9,940,734</td>\n",
       "                        <td id=\"T_4a941_row3_col4\" class=\"data row3 col4\" >23,399,967</td>\n",
       "                        <td id=\"T_4a941_row3_col5\" class=\"data row3 col5\" >101,943,341</td>\n",
       "            </tr>\n",
       "            <tr>\n",
       "                        <th id=\"T_4a941_level0_row4\" class=\"row_heading level0 row4\" >current run</th>\n",
       "                        <td id=\"T_4a941_row4_col0\" class=\"data row4 col0\" >18,830,881</td>\n",
       "                        <td id=\"T_4a941_row4_col1\" class=\"data row4 col1\" >8,121,534</td>\n",
       "                        <td id=\"T_4a941_row4_col2\" class=\"data row4 col2\" >28,806,498</td>\n",
       "                        <td id=\"T_4a941_row4_col3\" class=\"data row4 col3\" >7,851,478</td>\n",
       "                        <td id=\"T_4a941_row4_col4\" class=\"data row4 col4\" >19,372,748</td>\n",
       "                        <td id=\"T_4a941_row4_col5\" class=\"data row4 col5\" >82,983,139</td>\n",
       "            </tr>\n",
       "    </tbody></table>"
      ],
      "text/plain": [
       "<pandas.io.formats.style.Styler at 0x248aa436d08>"
      ]
     },
     "metadata": {},
     "output_type": "display_data"
    }
   ],
   "source": [
    "df = df_network.groupby(['source','tod_period'])['VMT'].sum().\\\n",
    "        unstack('tod_period').\\\n",
    "        rename_axis(columns={'tod_period': 'VMT by time of day'})\n",
    "df['Total'] = df.sum(axis=1)\n",
    "\n",
    "display(df.style.format('{:,.0f}'))"
   ]
  }
 ],
 "metadata": {
  "kernelspec": {
   "display_name": "build_notebook",
   "language": "python",
   "name": "python3"
  },
  "language_info": {
   "codemirror_mode": {
    "name": "ipython",
    "version": 3
   },
   "file_extension": ".py",
   "mimetype": "text/x-python",
   "name": "python",
   "nbconvert_exporter": "python",
   "pygments_lexer": "ipython3",
   "version": "3.7.10"
  }
 },
 "nbformat": 4,
 "nbformat_minor": 2
}
