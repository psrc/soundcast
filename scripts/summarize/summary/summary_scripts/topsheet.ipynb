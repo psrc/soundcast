{
 "cells": [
  {
   "cell_type": "raw",
   "metadata": {
    "vscode": {
     "languageId": "raw"
    }
   },
   "source": [
    "---\n",
    "title: \"Summary\"\n",
    "date: today\n",
    "---"
   ]
  },
  {
   "cell_type": "code",
   "execution_count": 1,
   "metadata": {
    "execution": {
     "iopub.execute_input": "2025-03-01T06:59:35.888830Z",
     "iopub.status.busy": "2025-03-01T06:59:35.886835Z",
     "iopub.status.idle": "2025-03-01T06:59:36.976475Z",
     "shell.execute_reply": "2025-03-01T06:59:36.974481Z"
    }
   },
   "outputs": [],
   "source": [
    "#| include: false\n",
    "\n",
    "import os\n",
    "import pandas as pd\n",
    "import numpy as np\n",
    "# import plotly.express as px\n",
    "import toml\n",
    "# import psrc_theme\n",
    "from pathlib import Path\n",
    "import summary_data\n",
    "\n",
    "# to show plotly figures in quarto HTML file\n",
    "# import plotly.io as pio\n",
    "# pio.renderers.default = \"plotly_mimetype+notebook_connected\"\n",
    "# pio.templates.default = \"simple_white+psrc_color\" # set plotly template\n",
    "\n",
    "config = summary_data.CONFIG\n",
    "all_runs = summary_data.ALL_RUNS"
   ]
  },
  {
   "cell_type": "code",
   "execution_count": 2,
   "metadata": {},
   "outputs": [],
   "source": [
    "# all_runs"
   ]
  },
  {
   "cell_type": "markdown",
   "metadata": {},
   "source": [
    "- run locations"
   ]
  },
  {
   "cell_type": "code",
   "execution_count": 3,
   "metadata": {
    "execution": {
     "iopub.execute_input": "2025-03-01T06:59:36.989440Z",
     "iopub.status.busy": "2025-03-01T06:59:36.988443Z",
     "iopub.status.idle": "2025-03-01T06:59:37.039307Z",
     "shell.execute_reply": "2025-03-01T06:59:37.037313Z"
    }
   },
   "outputs": [
    {
     "data": {
      "text/html": [
       "<div>\n",
       "<style scoped>\n",
       "    .dataframe tbody tr th:only-of-type {\n",
       "        vertical-align: middle;\n",
       "    }\n",
       "\n",
       "    .dataframe tbody tr th {\n",
       "        vertical-align: top;\n",
       "    }\n",
       "\n",
       "    .dataframe thead th {\n",
       "        text-align: right;\n",
       "    }\n",
       "</style>\n",
       "<table border=\"1\" class=\"dataframe\">\n",
       "  <thead>\n",
       "    <tr style=\"text-align: right;\">\n",
       "      <th></th>\n",
       "      <th>run location</th>\n",
       "    </tr>\n",
       "  </thead>\n",
       "  <tbody>\n",
       "    <tr>\n",
       "      <th>current run</th>\n",
       "      <td>..\\..\\..\\..</td>\n",
       "    </tr>\n",
       "    <tr>\n",
       "      <th>2050 new LU</th>\n",
       "      <td>\\\\modelstation1\\c$\\workspace\\sc_2050-with_2023...</td>\n",
       "    </tr>\n",
       "    <tr>\n",
       "      <th>2050 new LU, less WFH, no telecommute</th>\n",
       "      <td>\\\\modelstation1\\c$\\workspace\\sc_2050_base_year...</td>\n",
       "    </tr>\n",
       "    <tr>\n",
       "      <th>2050 old LU</th>\n",
       "      <td>\\\\modelstation1\\c$\\workspace\\sc_2050_23baseyea...</td>\n",
       "    </tr>\n",
       "    <tr>\n",
       "      <th>2050 RTP</th>\n",
       "      <td>L:\\RTP_2022\\final_runs\\sc_rtp_2050_constrained...</td>\n",
       "    </tr>\n",
       "  </tbody>\n",
       "</table>\n",
       "</div>"
      ],
      "text/plain": [
       "                                                                            run location\n",
       "current run                                                                  ..\\..\\..\\..\n",
       "2050 new LU                            \\\\modelstation1\\c$\\workspace\\sc_2050-with_2023...\n",
       "2050 new LU, less WFH, no telecommute  \\\\modelstation1\\c$\\workspace\\sc_2050_base_year...\n",
       "2050 old LU                            \\\\modelstation1\\c$\\workspace\\sc_2050_23baseyea...\n",
       "2050 RTP                               L:\\RTP_2022\\final_runs\\sc_rtp_2050_constrained..."
      ]
     },
     "execution_count": 3,
     "metadata": {},
     "output_type": "execute_result"
    }
   ],
   "source": [
    "pd.DataFrame.from_dict(all_runs, orient='index',\n",
    "                       columns=['run location'])"
   ]
  },
  {
   "cell_type": "markdown",
   "metadata": {},
   "source": [
    "## System Summary"
   ]
  },
  {
   "cell_type": "code",
   "execution_count": 4,
   "metadata": {},
   "outputs": [],
   "source": [
    "# Load VMT, VHT, and delay\n",
    "df_vmt = summary_data.load_agg_data('network/vmt_facility.csv')\n",
    "df_vht = summary_data.load_agg_data('network/vht_facility.csv')\n",
    "df_delay = summary_data.load_agg_data('network/delay_facility.csv')\n",
    "\n",
    "df_vmt = summary_data.load_agg_data('network/vmt_facility.csv')\n",
    "df_vmt = pd.DataFrame(df_vmt.groupby('source').sum()[['arterial','connector','highway']].sum(axis=1), columns=['VMT'])\n",
    "df_vht = summary_data.load_agg_data('network/vht_facility.csv')\n",
    "df_vht = pd.DataFrame(df_vht.groupby('source').sum()[['arterial','connector','highway']].sum(axis=1), columns=['VMT'])\n",
    "df_delay = summary_data.load_agg_data('network/delay_facility.csv')\n",
    "df_delay = pd.DataFrame(df_delay.groupby('source').sum()[['arterial','connector','highway']].sum(axis=1), columns=['VMT'])"
   ]
  },
  {
   "cell_type": "code",
   "execution_count": 5,
   "metadata": {
    "execution": {
     "iopub.execute_input": "2025-03-01T06:59:37.102361Z",
     "iopub.status.busy": "2025-03-01T06:59:37.100367Z",
     "iopub.status.idle": "2025-03-01T07:00:09.646705Z",
     "shell.execute_reply": "2025-03-01T07:00:09.644678Z"
    }
   },
   "outputs": [],
   "source": [
    "# network_summary = df_network.groupby('source')[['VMT','VHT','total_delay']].sum()\n",
    "# network_summary = network_summary.rename(columns={'total_delay': 'Delay'})\n",
    "\n",
    "# Load VMT, VHT, and delay\n",
    "df_vmt = summary_data.load_agg_data('network/vmt_facility.csv')\n",
    "df_vmt = df_vmt.groupby('source').sum()[['arterial','connector','highway']].sum(axis=1)\n",
    "df_vht = summary_data.load_agg_data('network/vht_facility.csv')\n",
    "df_vht = df_vht.groupby('source').sum()[['arterial','connector','highway']].sum(axis=1)\n",
    "df_delay = summary_data.load_agg_data('network/delay_facility.csv')\n",
    "df_delay = df_delay.groupby('source').sum()[['arterial','connector','highway']].sum(axis=1)\n",
    "\n",
    "# transit boardings\n",
    "df_boardings = summary_data.load_agg_data('transit/daily_boardings_by_agency.csv')\n",
    "transit_ridership = df_boardings.groupby('source')['boardings'].sum()\n",
    "#Light rail boardings\n",
    "df_line_boardings = summary_data.load_agg_data('transit/transit_line_results.csv')\n",
    "lr_boardings = df_line_boardings[df_line_boardings['mode']=='r']\n",
    "lr_ridership = lr_boardings.groupby('source')['boardings'].sum()\n",
    "# mode share\n",
    "df_trip = summary_data.load_agg_data('agg/dash/mode_share_county.csv')\n",
    "df = df_trip.groupby('source')['trexpfac'].sum() # total trips\n",
    "transit_share = df_trip.loc[df_trip['mode']==\"Transit\"].groupby('source')['trexpfac'].sum()/df\n",
    "\n",
    "# emission\n",
    "df_emissions = summary_data.load_agg_data('emissions/emissions_summary.csv')\n",
    "df = df_emissions.loc[(df_emissions['veh_type'].isin(['light','medium','heavy'])) & \\\n",
    "                      (df_emissions['pollutant_name']==\"CO2 Equivalent\")].copy()\n",
    "CO2e = df.groupby('source')['total_daily_tons'].sum()"
   ]
  },
  {
   "cell_type": "code",
   "execution_count": 6,
   "metadata": {},
   "outputs": [
    {
     "data": {
      "text/html": [
       "<style  type=\"text/css\" >\n",
       "</style><table id=\"T_da758_\" ><thead>    <tr>        <th class=\"blank level0\" ></th>        <th class=\"col_heading level0 col0\" >VMT</th>        <th class=\"col_heading level0 col1\" >VHT</th>        <th class=\"col_heading level0 col2\" >Delay</th>        <th class=\"col_heading level0 col3\" >Transit Boardings</th>        <th class=\"col_heading level0 col4\" >Light Rail Boardings</th>        <th class=\"col_heading level0 col5\" >% Transit</th>        <th class=\"col_heading level0 col6\" >CO2e</th>    </tr>    <tr>        <th class=\"index_name level0\" >source</th>        <th class=\"blank\" ></th>        <th class=\"blank\" ></th>        <th class=\"blank\" ></th>        <th class=\"blank\" ></th>        <th class=\"blank\" ></th>        <th class=\"blank\" ></th>        <th class=\"blank\" ></th>    </tr></thead><tbody>\n",
       "                <tr>\n",
       "                        <th id=\"T_da758_level0_row0\" class=\"row_heading level0 row0\" >2050 RTP</th>\n",
       "                        <td id=\"T_da758_row0_col0\" class=\"data row0 col0\" >106,132,676</td>\n",
       "                        <td id=\"T_da758_row0_col1\" class=\"data row0 col1\" >3,547,251</td>\n",
       "                        <td id=\"T_da758_row0_col2\" class=\"data row0 col2\" >619,306</td>\n",
       "                        <td id=\"T_da758_row0_col3\" class=\"data row0 col3\" >2,333,391</td>\n",
       "                        <td id=\"T_da758_row0_col4\" class=\"data row0 col4\" >783,454</td>\n",
       "                        <td id=\"T_da758_row0_col5\" class=\"data row0 col5\" >6.2%</td>\n",
       "                        <td id=\"T_da758_row0_col6\" class=\"data row0 col6\" >37,682</td>\n",
       "            </tr>\n",
       "            <tr>\n",
       "                        <th id=\"T_da758_level0_row1\" class=\"row_heading level0 row1\" >2050 new LU</th>\n",
       "                        <td id=\"T_da758_row1_col0\" class=\"data row1 col0\" >100,777,478</td>\n",
       "                        <td id=\"T_da758_row1_col1\" class=\"data row1 col1\" >3,237,461</td>\n",
       "                        <td id=\"T_da758_row1_col2\" class=\"data row1 col2\" >409,904</td>\n",
       "                        <td id=\"T_da758_row1_col3\" class=\"data row1 col3\" >1,469,239</td>\n",
       "                        <td id=\"T_da758_row1_col4\" class=\"data row1 col4\" >426,616</td>\n",
       "                        <td id=\"T_da758_row1_col5\" class=\"data row1 col5\" >4.5%</td>\n",
       "                        <td id=\"T_da758_row1_col6\" class=\"data row1 col6\" >35,579</td>\n",
       "            </tr>\n",
       "            <tr>\n",
       "                        <th id=\"T_da758_level0_row2\" class=\"row_heading level0 row2\" >2050 new LU, less WFH, no telecommute</th>\n",
       "                        <td id=\"T_da758_row2_col0\" class=\"data row2 col0\" >102,521,097</td>\n",
       "                        <td id=\"T_da758_row2_col1\" class=\"data row2 col1\" >3,311,479</td>\n",
       "                        <td id=\"T_da758_row2_col2\" class=\"data row2 col2\" >431,951</td>\n",
       "                        <td id=\"T_da758_row2_col3\" class=\"data row2 col3\" >1,412,193</td>\n",
       "                        <td id=\"T_da758_row2_col4\" class=\"data row2 col4\" >421,104</td>\n",
       "                        <td id=\"T_da758_row2_col5\" class=\"data row2 col5\" >4.2%</td>\n",
       "                        <td id=\"T_da758_row2_col6\" class=\"data row2 col6\" >36,264</td>\n",
       "            </tr>\n",
       "            <tr>\n",
       "                        <th id=\"T_da758_level0_row3\" class=\"row_heading level0 row3\" >2050 old LU</th>\n",
       "                        <td id=\"T_da758_row3_col0\" class=\"data row3 col0\" >101,943,341</td>\n",
       "                        <td id=\"T_da758_row3_col1\" class=\"data row3 col1\" >3,283,812</td>\n",
       "                        <td id=\"T_da758_row3_col2\" class=\"data row3 col2\" >425,883</td>\n",
       "                        <td id=\"T_da758_row3_col3\" class=\"data row3 col3\" >1,447,979</td>\n",
       "                        <td id=\"T_da758_row3_col4\" class=\"data row3 col4\" >436,816</td>\n",
       "                        <td id=\"T_da758_row3_col5\" class=\"data row3 col5\" >4.5%</td>\n",
       "                        <td id=\"T_da758_row3_col6\" class=\"data row3 col6\" >36,078</td>\n",
       "            </tr>\n",
       "            <tr>\n",
       "                        <th id=\"T_da758_level0_row4\" class=\"row_heading level0 row4\" >current run</th>\n",
       "                        <td id=\"T_da758_row4_col0\" class=\"data row4 col0\" >82,978,640</td>\n",
       "                        <td id=\"T_da758_row4_col1\" class=\"data row4 col1\" >2,556,854</td>\n",
       "                        <td id=\"T_da758_row4_col2\" class=\"data row4 col2\" >239,405</td>\n",
       "                        <td id=\"T_da758_row4_col3\" class=\"data row4 col3\" >485,465</td>\n",
       "                        <td id=\"T_da758_row4_col4\" class=\"data row4 col4\" >92,876</td>\n",
       "                        <td id=\"T_da758_row4_col5\" class=\"data row4 col5\" >2.1%</td>\n",
       "                        <td id=\"T_da758_row4_col6\" class=\"data row4 col6\" >41,738</td>\n",
       "            </tr>\n",
       "    </tbody></table>"
      ],
      "text/plain": [
       "<pandas.io.formats.style.Styler at 0x1952f017c88>"
      ]
     },
     "execution_count": 6,
     "metadata": {},
     "output_type": "execute_result"
    }
   ],
   "source": [
    "run_summary2 = pd.DataFrame({\n",
    "    'VMT': df_vmt,\n",
    "    'VHT': df_vht,\n",
    "    'Delay': df_delay,\n",
    "    'Transit Boardings': transit_ridership,\n",
    "    'Light Rail Boardings': lr_ridership,\n",
    "    '% Transit': transit_share,\n",
    "    'CO2e': CO2e\n",
    "})\n",
    "\n",
    "pd.concat([run_summary2], axis=1).style.\\\n",
    "        format('{:,.0f}', subset=['VMT','VHT','Delay','Transit Boardings','Light Rail Boardings','CO2e']).\\\n",
    "        format('{:.1%}', subset=['% Transit'])"
   ]
  },
  {
   "cell_type": "code",
   "execution_count": null,
   "metadata": {},
   "outputs": [],
   "source": []
  }
 ],
 "metadata": {
  "kernelspec": {
   "display_name": "summary",
   "language": "python",
   "name": "python3"
  },
  "language_info": {
   "codemirror_mode": {
    "name": "ipython",
    "version": 3
   },
   "file_extension": ".py",
   "mimetype": "text/x-python",
   "name": "python",
   "nbconvert_exporter": "python",
   "pygments_lexer": "ipython3",
   "version": "3.7.10"
  }
 },
 "nbformat": 4,
 "nbformat_minor": 2
}
