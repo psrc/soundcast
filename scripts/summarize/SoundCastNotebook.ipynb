{
 "metadata": {
  "name": "",
  "signature": "sha256:8353adee949c15f294612a4f5aa5c769e1fed877e2ef3a194a63d1911c2885b2"
 },
 "nbformat": 3,
 "nbformat_minor": 0,
 "worksheets": [
  {
   "cells": [
    {
     "cell_type": "code",
     "collapsed": false,
     "input": [
      "import numpy as np\n",
      "import pandas as pd\n",
      "import xlsxwriter\n",
      "import time\n",
      "import h5toDF\n",
      "import xlautofit\n",
      "import math\n",
      "from summary_functions import *"
     ],
     "language": "python",
     "metadata": {},
     "outputs": [],
     "prompt_number": 2
    },
    {
     "cell_type": "code",
     "collapsed": false,
     "input": [
	 
      "#################################### WHERE ARE YOU RUNNING? ####################################\n",
      "model_dir = 'C:/soundcat11125/soundcat/'\n",
      "\n",
      "\n",
      "### OTHER PATHS. FOR A TYPICAL RUN, YOU DON'T HAVE TO CHANGE THESE ######################################\n",
      "h5_results_file = 'outputs/daysim_outputs.h5'\n",
      "h5_results_name = 'DaysimOutputs'\n",
      "h5_comparison_file = 'scripts/summarize/survey.h5'\n",
      "h5_comparison_name = 'Survey'\n",
      "guidefile = 'scripts/summarize/CatVarDict.xlsx'\n",
      "districtfile = 'scripts/summarize/TAZ_TAD_County.csv'\n",
      "report_output_location = 'outputs'\n",
      "\n",
      "parcel_decay_file = 'inputs/buffered_parcels.dat'\n",
      "travel_time_file = 'inputs/ObservedTravelTimes.xlsx'\n",
      "\n",
      "topsheet = 'outputs/Topsheet.xlsx'\n",
      "\n",
      "\n",
      "\n",
      "h5_results_file = model_dir + h5_results_file\n",
      "h5_comparison_file =  model_dir + h5_comparison_file\n",
      "guidefile = model_dir + guidefile\n",
      "districtfile = model_dir + districtfile\n",
      "report_output_location = 'outputs'\n"
     ],
     "language": "python",
     "metadata": {},
     "outputs": [],
     "prompt_number": 3
    },
    {
     "cell_type": "code",
     "collapsed": false,
     "input": [
      "#READ IN YOUR DATA\n",
      "data1 = h5toDF.convert(h5_results_file,guidefile,h5_results_name)\n",
      "data2 = h5toDF.convert(h5_comparison_file,guidefile,h5_comparison_name)\n",
      "zone_district = pd.DataFrame.from_csv(districtfile, index_col = None)"
     ],
     "language": "python",
     "metadata": {},
     "outputs": [
      {
       "output_type": "stream",
       "stream": "stdout",
       "text": [
        "---Begin DaysimOutputs conversion---\n",
        "Guide import complete"
       ]
      },
      {
       "output_type": "stream",
       "stream": "stdout",
       "text": [
        "\n",
        "Guide converted to dictionary in 0.0 seconds\n",
        "Household File import/recode complete in 1.2 seconds"
       ]
      },
      {
       "output_type": "stream",
       "stream": "stdout",
       "text": [
        "\n",
        "HouseholdDay File import/recode complete in 0.5 seconds"
       ]
      },
      {
       "output_type": "stream",
       "stream": "stdout",
       "text": [
        "\n",
        "Person File import/recode complete in 4.5 seconds"
       ]
      },
      {
       "output_type": "stream",
       "stream": "stdout",
       "text": [
        "\n",
        "PersonDay File import/recode complete in 2.4 seconds"
       ]
      },
      {
       "output_type": "stream",
       "stream": "stdout",
       "text": [
        "\n",
        "Tour File import/recode complete in 5.2 seconds"
       ]
      },
      {
       "output_type": "stream",
       "stream": "stdout",
       "text": [
        "\n",
        "Trip File import/recode complete in 13.7 seconds"
       ]
      },
      {
       "output_type": "stream",
       "stream": "stdout",
       "text": [
        "\n",
        "---DaysimOutputs import/recode complete in 27.7 seconds---\n",
        "---Begin Survey conversion---\n",
        "Guide import complete\n",
        "Guide converted to dictionary in 0.0 seconds\n",
        "WARNING: Negative Expansion Factor Present!"
       ]
      },
      {
       "output_type": "stream",
       "stream": "stdout",
       "text": [
        "\n",
        "Household File import/recode complete in 0.8 seconds"
       ]
      },
      {
       "output_type": "stream",
       "stream": "stdout",
       "text": [
        "\n",
        "WARNING: Negative Expansion Factor Present!"
       ]
      },
      {
       "output_type": "stream",
       "stream": "stdout",
       "text": [
        "\n",
        "HouseholdDay File import/recode complete in 0.6 seconds"
       ]
      },
      {
       "output_type": "stream",
       "stream": "stdout",
       "text": [
        "\n",
        "WARNING: Negative Expansion Factor Present!"
       ]
      },
      {
       "output_type": "stream",
       "stream": "stdout",
       "text": [
        "\n",
        "Person File import/recode complete in 2.1 seconds"
       ]
      },
      {
       "output_type": "stream",
       "stream": "stdout",
       "text": [
        "\n",
        "WARNING: Negative Expansion Factor Present!"
       ]
      },
      {
       "output_type": "stream",
       "stream": "stdout",
       "text": [
        "\n",
        "PersonDay File import/recode complete in 4.9 seconds"
       ]
      },
      {
       "output_type": "stream",
       "stream": "stdout",
       "text": [
        "\n",
        "WARNING: Negative Travel Time Present!"
       ]
      },
      {
       "output_type": "stream",
       "stream": "stdout",
       "text": [
        "\n",
        "WARNING: Negative Expansion Factor Present!"
       ]
      },
      {
       "output_type": "stream",
       "stream": "stdout",
       "text": [
        "\n",
        "Tour File import/recode complete in 6.9 seconds"
       ]
      },
      {
       "output_type": "stream",
       "stream": "stdout",
       "text": [
        "\n",
        "WARNING: Negative Travel Distance Present!"
       ]
      },
      {
       "output_type": "stream",
       "stream": "stdout",
       "text": [
        "\n",
        "WARNING: Negative Travel Time Present!"
       ]
      },
      {
       "output_type": "stream",
       "stream": "stdout",
       "text": [
        "\n",
        "WARNING: Negative Expansion Factor Present!"
       ]
      },
      {
       "output_type": "stream",
       "stream": "stdout",
       "text": [
        "\n",
        "Trip File import/recode complete in 16.0 seconds"
       ]
      },
      {
       "output_type": "stream",
       "stream": "stdout",
       "text": [
        "\n",
        "---Survey import/recode complete in 31.2 seconds---\n",
        "Negative expansion factors set to zero for Survey data"
       ]
      },
      {
       "output_type": "stream",
       "stream": "stdout",
       "text": [
        "\n"
       ]
      }
     ],
     "prompt_number": 4
    },
    {
     "cell_type": "code",
     "collapsed": false,
     "input": [
      "## FORMATTING AND JOINING DATA #####################################################################################################\n",
      "data1=hhmm_to_min(data1)\n",
      "data2=hhmm_to_min(data2)\n",
      "merge_per_hh_1 = pd.merge(data1['Person'][['pwtyp', 'psexpfac', 'pwpcl', 'pwaudist','pstyp', 'pspcl', 'psaudist', 'hhno']],\n",
      "                              data1['Household'][['hhtaz', 'hhparcel', 'hhno']],\n",
      "                              on = 'hhno')\n",
      "merge_per_hh_2 = pd.merge(data2['Person'][['pwtyp', 'psexpfac', 'pwpcl', 'pwaudist','pstyp', 'pspcl', 'psaudist', 'hhno']],\n",
      "                              data2['Household'][['hhtaz', 'hhparcel', 'hhno']],\n",
      "                              on = 'hhno')\n",
      "tour_ok_1 = data1['Tour'].query('tautodist>0 and tautodist<200')[['hhno', 'pno', 'tour', 'day', 'tautodist', 'toexpfac', 'pdpurp', 'tmodetp', 'tdtaz']]\n",
      "tour_ok_2 = data2['Tour'].query('tautodist>0 and tautodist<200')[['hhno', 'pno', 'tour', 'day', 'tautodist', 'toexpfac', 'pdpurp', 'tmodetp', 'tdtaz']] \n",
      "trip_ok_1 = data1['Trip'].query('travdist>0 and travdist<200')[['hhno', 'pno', 'tour', 'day', 'travdist', 'travtime', 'trexpfac', 'dpurp', 'mode', 'dtaz']]\n",
      "trip_ok_2 = data2['Trip'].query('travdist>0 and travdist<200')[['hhno', 'pno', 'tour', 'day', 'travdist', 'travtime', 'trexpfac', 'dpurp', 'mode', 'dtaz']] \n",
      "\n",
      "tourtrip1 = pd.merge(tour_ok_1[['hhno', 'pno', 'tour', 'day', 'tautodist', 'toexpfac', 'pdpurp', 'tmodetp']],\n",
      "                       trip_ok_1[['hhno', 'pno', 'tour', 'day', 'trexpfac']],\n",
      "                       on = ['hhno', 'pno', 'tour', 'day'])\n",
      "tourtrip2 = pd.merge(tour_ok_2[['hhno', 'pno', 'tour', 'day', 'tautodist', 'toexpfac', 'pdpurp', 'tmodetp']],\n",
      "                       trip_ok_2[['hhno', 'pno', 'tour', 'day', 'trexpfac']],\n",
      "                       on = ['hhno', 'pno', 'tour', 'day'])"
     ],
     "language": "python",
     "metadata": {},
     "outputs": [],
     "prompt_number": 4
    },
    {
     "cell_type": "code",
     "collapsed": false,
     "input": [
      "atripdist1m = weighted_average(trip_ok_1, 'travdist', 'trexpfac', 'mode')\n",
      "atripdist2m = weighted_average(trip_ok_2, 'travdist', 'trexpfac', 'mode')"
     ],
     "language": "python",
     "metadata": {},
     "outputs": [],
     "prompt_number": 23
    },
    {
     "cell_type": "code",
     "collapsed": false,
     "input": [
      "atripdist1m"
     ],
     "language": "python",
     "metadata": {},
     "outputs": [
      {
       "metadata": {},
       "output_type": "pyout",
       "prompt_number": 12,
       "text": [
        "mode\n",
        "Bike           5.688406\n",
        "HOV2           5.758588\n",
        "HOV3+          5.252941\n",
        "SOV            7.752203\n",
        "School Bus     4.497901\n",
        "Transit       21.551052\n",
        "Walk           1.358368\n",
        "Name: travdist_wa, dtype: float64"
       ]
      }
     ],
     "prompt_number": 12
    },
    {
     "cell_type": "code",
     "collapsed": false,
     "input": [
      "atriptime1m = weighted_average(trip_ok_1, 'travtime', 'trexpfac', 'mode')\n",
      "atriptime2m = weighted_average(trip_ok_2, 'travtime', 'trexpfac', 'mode')"
     ],
     "language": "python",
     "metadata": {},
     "outputs": [],
     "prompt_number": 24
    },
    {
     "cell_type": "code",
     "collapsed": false,
     "input": [
      "atriptime1m"
     ],
     "language": "python",
     "metadata": {},
     "outputs": [
      {
       "metadata": {},
       "output_type": "pyout",
       "prompt_number": 21,
       "text": [
        "mode\n",
        "Bike          23.027723\n",
        "HOV2          15.882346\n",
        "HOV3+         14.951378\n",
        "SOV           19.859869\n",
        "School Bus    14.076933\n",
        "Transit       46.160268\n",
        "Walk          27.167365\n",
        "Name: travtime_wa, dtype: float64"
       ]
      }
     ],
     "prompt_number": 21
    },
    {
     "cell_type": "code",
     "collapsed": false,
     "input": [
      "atriptime2m"
     ],
     "language": "python",
     "metadata": {},
     "outputs": [
      {
       "metadata": {},
       "output_type": "pyout",
       "prompt_number": 22,
       "text": [
        "mode\n",
        "Bike          17.836116\n",
        "HOV2          19.674171\n",
        "HOV3+         17.331904\n",
        "Other         22.040226\n",
        "SOV           23.503067\n",
        "School Bus    13.112338\n",
        "Transit       27.344462\n",
        "Walk           7.192873\n",
        "Name: travtime_wa, dtype: float64"
       ]
      }
     ],
     "prompt_number": 22
    },
    {
     "cell_type": "code",
     "collapsed": false,
     "input": [
      "trip_ok_1.groupby('mode').describe()"
     ],
     "language": "python",
     "metadata": {},
     "outputs": [
      {
       "ename": "NameError",
       "evalue": "name 'trip_ok_1' is not defined",
       "output_type": "pyerr",
       "traceback": [
        "\u001b[1;31m---------------------------------------------------------------------------\u001b[0m\n\u001b[1;31mNameError\u001b[0m                                 Traceback (most recent call last)",
        "\u001b[1;32m<ipython-input-1-68930a7c3dde>\u001b[0m in \u001b[0;36m<module>\u001b[1;34m()\u001b[0m\n\u001b[1;32m----> 1\u001b[1;33m \u001b[0mtrip_ok_1\u001b[0m\u001b[1;33m.\u001b[0m\u001b[0mgroupby\u001b[0m\u001b[1;33m(\u001b[0m\u001b[1;34m'mode'\u001b[0m\u001b[1;33m)\u001b[0m\u001b[1;33m.\u001b[0m\u001b[0mdescribe\u001b[0m\u001b[1;33m(\u001b[0m\u001b[1;33m)\u001b[0m\u001b[1;33m\u001b[0m\u001b[0m\n\u001b[0m",
        "\u001b[1;31mNameError\u001b[0m: name 'trip_ok_1' is not defined"
       ]
      }
     ],
     "prompt_number": 1
    },
    {
     "cell_type": "code",
     "collapsed": false,
     "input": [],
     "language": "python",
     "metadata": {},
     "outputs": []
    }
   ],
   "metadata": {}
  }
 ]
}