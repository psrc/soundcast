{
 "cells": [
  {
   "cell_type": "code",
   "execution_count": 1,
   "id": "d3920e17",
   "metadata": {
    "execution": {
     "iopub.execute_input": "2025-09-30T20:24:04.941430Z",
     "iopub.status.busy": "2025-09-30T20:24:04.940432Z",
     "iopub.status.idle": "2025-09-30T20:24:06.150670Z",
     "shell.execute_reply": "2025-09-30T20:24:06.150167Z"
    }
   },
   "outputs": [],
   "source": [
    "import pandas as pd\n",
    "from pathlib import Path\n",
    "import util\n",
    "\n",
    "pd.set_option('display.float_format', '{:,.0f}'.format)"
   ]
  },
  {
   "cell_type": "code",
   "execution_count": 2,
   "id": "8c685962",
   "metadata": {
    "execution": {
     "iopub.execute_input": "2025-09-30T20:24:06.156655Z",
     "iopub.status.busy": "2025-09-30T20:24:06.156655Z",
     "iopub.status.idle": "2025-09-30T20:24:14.316950Z",
     "shell.execute_reply": "2025-09-30T20:24:14.315957Z"
    }
   },
   "outputs": [],
   "source": [
    "# network data\n",
    "df_network = util.process_network_summary()"
   ]
  },
  {
   "cell_type": "code",
   "execution_count": 3,
   "id": "4be3cdc7",
   "metadata": {
    "execution": {
     "iopub.execute_input": "2025-09-30T20:24:14.322933Z",
     "iopub.status.busy": "2025-09-30T20:24:14.321936Z",
     "iopub.status.idle": "2025-09-30T20:24:14.373937Z",
     "shell.execute_reply": "2025-09-30T20:24:14.372888Z"
    }
   },
   "outputs": [],
   "source": [
    "county_order = ['King','Kitsap','Pierce','Snohomish','Outside Region','Total']\n",
    "\n",
    "df_network['county'] = pd.Categorical(df_network['county'], ordered=True,\n",
    "                   categories=county_order)"
   ]
  },
  {
   "cell_type": "code",
   "execution_count": 4,
   "id": "cacb2e64",
   "metadata": {
    "execution": {
     "iopub.execute_input": "2025-09-30T20:24:14.380038Z",
     "iopub.status.busy": "2025-09-30T20:24:14.379041Z",
     "iopub.status.idle": "2025-09-30T20:24:15.265112Z",
     "shell.execute_reply": "2025-09-30T20:24:15.265112Z"
    }
   },
   "outputs": [
    {
     "data": {
      "text/html": [
       "<style type=\"text/css\">\n",
       "</style>\n",
       "<table id=\"T_135a6\">\n",
       "  <thead>\n",
       "    <tr>\n",
       "      <th id=\"T_135a6_level0_col0\" class=\"col_heading level0 col0\" >VMT</th>\n",
       "      <th id=\"T_135a6_level0_col1\" class=\"col_heading level0 col1\" >VHT</th>\n",
       "      <th id=\"T_135a6_level0_col2\" class=\"col_heading level0 col2\" >Delay</th>\n",
       "      <th id=\"T_135a6_level0_col3\" class=\"col_heading level0 col3\" >Transit Boardings</th>\n",
       "      <th id=\"T_135a6_level0_col4\" class=\"col_heading level0 col4\" >Light Rail Boardings</th>\n",
       "      <th id=\"T_135a6_level0_col5\" class=\"col_heading level0 col5\" >% Transit</th>\n",
       "      <th id=\"T_135a6_level0_col6\" class=\"col_heading level0 col6\" >CO2e</th>\n",
       "    </tr>\n",
       "  </thead>\n",
       "  <tbody>\n",
       "    <tr>\n",
       "      <td id=\"T_135a6_row0_col0\" class=\"data row0 col0\" >98,739,934</td>\n",
       "      <td id=\"T_135a6_row0_col1\" class=\"data row0 col1\" >3,123,973</td>\n",
       "      <td id=\"T_135a6_row0_col2\" class=\"data row0 col2\" >333,309</td>\n",
       "      <td id=\"T_135a6_row0_col3\" class=\"data row0 col3\" >1,546,156</td>\n",
       "      <td id=\"T_135a6_row0_col4\" class=\"data row0 col4\" >471,632</td>\n",
       "      <td id=\"T_135a6_row0_col5\" class=\"data row0 col5\" >4.7%</td>\n",
       "      <td id=\"T_135a6_row0_col6\" class=\"data row0 col6\" >6,540</td>\n",
       "    </tr>\n",
       "  </tbody>\n",
       "</table>\n"
      ],
      "text/plain": [
       "<pandas.io.formats.style.Styler at 0x1b37063dfd0>"
      ]
     },
     "execution_count": 4,
     "metadata": {},
     "output_type": "execute_result"
    }
   ],
   "source": [
    "#| label: system_summary\n",
    "\n",
    "# network summary: 'VMT','VHT','total_delay'\n",
    "vmt = df_network['VMT'].sum()\n",
    "vht = df_network['VHT'].sum()\n",
    "delay = df_network['total_delay'].sum()\n",
    "\n",
    "# Get light rail boardings\n",
    "df_boardings = pd.read_csv(util.output_path / 'transit/daily_boardings_by_agency.csv')\n",
    "# transit boardings\n",
    "transit_ridership = df_boardings['boardings'].sum()\n",
    "#Light rail boardings\n",
    "df_line_boardings = pd.read_csv(util.output_path / 'transit/transit_line_results.csv')\n",
    "lr_ridership = df_line_boardings[df_line_boardings['mode']=='r']['boardings'].sum()\n",
    "\n",
    "# mode share\n",
    "df_trip = pd.read_csv(util.output_path / 'agg/dash/mode_share_county.csv')\n",
    "df = df_trip['trexpfac'].sum() # total trips\n",
    "transit_share = df_trip.loc[df_trip['mode']==\"Transit\"]['trexpfac'].sum()/df\n",
    "\n",
    "# emission\n",
    "df_emissions = pd.read_csv(util.output_path / 'emissions/emissions_summary.csv')\n",
    "df = df_emissions.loc[(df_emissions['veh_type'].isin(['light','medium','heavy'])) & \\\n",
    "                      (df_emissions['pollutant_name']==\"CO2 Equivalent\")].copy()\n",
    "CO2e = df['total_daily_tons'].sum()\n",
    "\n",
    "run_summary2 = pd.DataFrame({\n",
    "    'VMT': [vmt],\n",
    "    'VHT': [vht],\n",
    "    'Delay': [delay],\n",
    "    'Transit Boardings': [transit_ridership],\n",
    "    'Light Rail Boardings': [lr_ridership],\n",
    "    '% Transit': [transit_share],\n",
    "    'CO2e': [CO2e]\n",
    "})\n",
    "\n",
    "run_summary2.style.\\\n",
    "        format('{:,.0f}', subset=['VMT','VHT','Delay','Transit Boardings','Light Rail Boardings','CO2e']).\\\n",
    "        format('{:.1%}', subset=['% Transit']).\\\n",
    "            hide(axis=\"index\")"
   ]
  },
  {
   "cell_type": "code",
   "execution_count": 5,
   "id": "dde6f65a",
   "metadata": {
    "execution": {
     "iopub.execute_input": "2025-09-30T20:24:15.269104Z",
     "iopub.status.busy": "2025-09-30T20:24:15.268107Z",
     "iopub.status.idle": "2025-09-30T20:24:15.274588Z",
     "shell.execute_reply": "2025-09-30T20:24:15.274588Z"
    }
   },
   "outputs": [],
   "source": [
    "county_order = ['King','Kitsap','Pierce','Snohomish','Outside Region','Total']\n",
    "\n",
    "df_network['county'] = pd.Categorical(df_network['county'], ordered=True,\n",
    "                   categories=county_order)"
   ]
  },
  {
   "cell_type": "code",
   "execution_count": 6,
   "id": "bc4122d1",
   "metadata": {
    "execution": {
     "iopub.execute_input": "2025-09-30T20:24:15.279577Z",
     "iopub.status.busy": "2025-09-30T20:24:15.278580Z",
     "iopub.status.idle": "2025-09-30T20:24:16.917785Z",
     "shell.execute_reply": "2025-09-30T20:24:16.916791Z"
    }
   },
   "outputs": [
    {
     "data": {
      "text/html": [
       "<style type=\"text/css\">\n",
       "</style>\n",
       "<table id=\"T_7a09e\">\n",
       "  <thead>\n",
       "    <tr>\n",
       "      <th class=\"blank level0\" >&nbsp;</th>\n",
       "      <th id=\"T_7a09e_level0_col0\" class=\"col_heading level0 col0\" >VMT</th>\n",
       "      <th id=\"T_7a09e_level0_col1\" class=\"col_heading level0 col1\" >VHT</th>\n",
       "      <th id=\"T_7a09e_level0_col2\" class=\"col_heading level0 col2\" >Total Delay Hours</th>\n",
       "    </tr>\n",
       "    <tr>\n",
       "      <th class=\"index_name level0\" >county</th>\n",
       "      <th class=\"blank col0\" >&nbsp;</th>\n",
       "      <th class=\"blank col1\" >&nbsp;</th>\n",
       "      <th class=\"blank col2\" >&nbsp;</th>\n",
       "    </tr>\n",
       "  </thead>\n",
       "  <tbody>\n",
       "    <tr>\n",
       "      <th id=\"T_7a09e_level0_row0\" class=\"row_heading level0 row0\" >King</th>\n",
       "      <td id=\"T_7a09e_row0_col0\" class=\"data row0 col0\" >50,249,616</td>\n",
       "      <td id=\"T_7a09e_row0_col1\" class=\"data row0 col1\" >1,630,468</td>\n",
       "      <td id=\"T_7a09e_row0_col2\" class=\"data row0 col2\" >209,875</td>\n",
       "    </tr>\n",
       "    <tr>\n",
       "      <th id=\"T_7a09e_level0_row1\" class=\"row_heading level0 row1\" >Kitsap</th>\n",
       "      <td id=\"T_7a09e_row1_col0\" class=\"data row1 col0\" >5,365,382</td>\n",
       "      <td id=\"T_7a09e_row1_col1\" class=\"data row1 col1\" >161,110</td>\n",
       "      <td id=\"T_7a09e_row1_col2\" class=\"data row1 col2\" >6,633</td>\n",
       "    </tr>\n",
       "    <tr>\n",
       "      <th id=\"T_7a09e_level0_row2\" class=\"row_heading level0 row2\" >Pierce</th>\n",
       "      <td id=\"T_7a09e_row2_col0\" class=\"data row2 col0\" >22,405,356</td>\n",
       "      <td id=\"T_7a09e_row2_col1\" class=\"data row2 col1\" >699,704</td>\n",
       "      <td id=\"T_7a09e_row2_col2\" class=\"data row2 col2\" >55,363</td>\n",
       "    </tr>\n",
       "    <tr>\n",
       "      <th id=\"T_7a09e_level0_row3\" class=\"row_heading level0 row3\" >Snohomish</th>\n",
       "      <td id=\"T_7a09e_row3_col0\" class=\"data row3 col0\" >20,288,358</td>\n",
       "      <td id=\"T_7a09e_row3_col1\" class=\"data row3 col1\" >623,847</td>\n",
       "      <td id=\"T_7a09e_row3_col2\" class=\"data row3 col2\" >61,410</td>\n",
       "    </tr>\n",
       "    <tr>\n",
       "      <th id=\"T_7a09e_level0_row4\" class=\"row_heading level0 row4\" >Total</th>\n",
       "      <td id=\"T_7a09e_row4_col0\" class=\"data row4 col0\" >98,308,712</td>\n",
       "      <td id=\"T_7a09e_row4_col1\" class=\"data row4 col1\" >3,115,129</td>\n",
       "      <td id=\"T_7a09e_row4_col2\" class=\"data row4 col2\" >333,281</td>\n",
       "    </tr>\n",
       "  </tbody>\n",
       "</table>\n"
      ],
      "text/plain": [
       "<pandas.io.formats.style.Styler at 0x1b347ec5e90>"
      ]
     },
     "execution_count": 6,
     "metadata": {},
     "output_type": "execute_result"
    }
   ],
   "source": [
    "#| label: total_vmt_vht_delay_by_county\n",
    "\n",
    "df_vmt = df_network.reset_index().groupby('county',observed=True)['VMT'].sum()\n",
    "df_vht = df_network.reset_index().groupby('county',observed=True)['VHT'].sum()\n",
    "df_delay = df_network.reset_index().groupby('county',observed=True)['total_delay'].sum()\n",
    "\n",
    "df = pd.concat([df_vmt,df_vht,df_delay], axis=1)\n",
    "df = df[df.index!='Outside Region']\n",
    "df.rename(columns={'total_delay': 'Total Delay Hours'}, inplace=True)\n",
    "\n",
    "df.loc['Total',] = df.sum()\n",
    "total_vmt = df.loc['Total','VMT']\n",
    "\n",
    "df.style.format('{:,.0f}')"
   ]
  },
  {
   "cell_type": "code",
   "execution_count": 7,
   "id": "af2eb767",
   "metadata": {
    "execution": {
     "iopub.execute_input": "2025-09-30T20:24:16.923769Z",
     "iopub.status.busy": "2025-09-30T20:24:16.922772Z",
     "iopub.status.idle": "2025-09-30T20:24:16.943055Z",
     "shell.execute_reply": "2025-09-30T20:24:16.941980Z"
    }
   },
   "outputs": [
    {
     "data": {
      "text/html": [
       "<style type=\"text/css\">\n",
       "</style>\n",
       "<table id=\"T_a0736\">\n",
       "  <thead>\n",
       "    <tr>\n",
       "      <th class=\"blank level0\" >&nbsp;</th>\n",
       "      <th id=\"T_a0736_level0_col0\" class=\"col_heading level0 col0\" >Daily Boardings</th>\n",
       "    </tr>\n",
       "    <tr>\n",
       "      <th class=\"index_name level0\" >agency_name</th>\n",
       "      <th class=\"blank col0\" >&nbsp;</th>\n",
       "    </tr>\n",
       "  </thead>\n",
       "  <tbody>\n",
       "    <tr>\n",
       "      <th id=\"T_a0736_level0_row0\" class=\"row_heading level0 row0\" >King County Metro</th>\n",
       "      <td id=\"T_a0736_row0_col0\" class=\"data row0 col0\" >778,445</td>\n",
       "    </tr>\n",
       "    <tr>\n",
       "      <th id=\"T_a0736_level0_row1\" class=\"row_heading level0 row1\" >Sound Transit</th>\n",
       "      <td id=\"T_a0736_row1_col0\" class=\"data row1 col0\" >512,202</td>\n",
       "    </tr>\n",
       "    <tr>\n",
       "      <th id=\"T_a0736_level0_row2\" class=\"row_heading level0 row2\" >Community Transit</th>\n",
       "      <td id=\"T_a0736_row2_col0\" class=\"data row2 col0\" >99,474</td>\n",
       "    </tr>\n",
       "    <tr>\n",
       "      <th id=\"T_a0736_level0_row3\" class=\"row_heading level0 row3\" >Pierce Transit</th>\n",
       "      <td id=\"T_a0736_row3_col0\" class=\"data row3 col0\" >71,625</td>\n",
       "    </tr>\n",
       "    <tr>\n",
       "      <th id=\"T_a0736_level0_row4\" class=\"row_heading level0 row4\" >Kitsap Transit</th>\n",
       "      <td id=\"T_a0736_row4_col0\" class=\"data row4 col0\" >43,100</td>\n",
       "    </tr>\n",
       "    <tr>\n",
       "      <th id=\"T_a0736_level0_row5\" class=\"row_heading level0 row5\" >Washington Ferries</th>\n",
       "      <td id=\"T_a0736_row5_col0\" class=\"data row5 col0\" >23,421</td>\n",
       "    </tr>\n",
       "    <tr>\n",
       "      <th id=\"T_a0736_level0_row6\" class=\"row_heading level0 row6\" >Everett Transit</th>\n",
       "      <td id=\"T_a0736_row6_col0\" class=\"data row6 col0\" >17,889</td>\n",
       "    </tr>\n",
       "    <tr>\n",
       "      <th id=\"T_a0736_level0_row7\" class=\"row_heading level0 row7\" >Total</th>\n",
       "      <td id=\"T_a0736_row7_col0\" class=\"data row7 col0\" >1,546,156</td>\n",
       "    </tr>\n",
       "  </tbody>\n",
       "</table>\n"
      ],
      "text/plain": [
       "<pandas.io.formats.style.Styler at 0x1b36ab07450>"
      ]
     },
     "execution_count": 7,
     "metadata": {},
     "output_type": "execute_result"
    }
   ],
   "source": [
    "#| label: transit\n",
    "transit = pd.read_csv(util.output_path / 'transit/daily_boardings_by_agency.csv')\n",
    "\n",
    "df = transit[['agency_name','boardings']].set_index('agency_name').copy()\n",
    "df.loc['Total',:] = df['boardings'].sum()\n",
    "df.rename(columns={'boardings': 'Daily Boardings'}, inplace=True)\n",
    "\n",
    "\n",
    "df.style.format('{:,.0f}')\n"
   ]
  },
  {
   "cell_type": "code",
   "execution_count": 8,
   "id": "8e0478f8",
   "metadata": {
    "execution": {
     "iopub.execute_input": "2025-09-30T20:24:16.948546Z",
     "iopub.status.busy": "2025-09-30T20:24:16.948546Z",
     "iopub.status.idle": "2025-09-30T20:24:16.984260Z",
     "shell.execute_reply": "2025-09-30T20:24:16.983267Z"
    }
   },
   "outputs": [
    {
     "data": {
      "text/html": [
       "<div>\n",
       "<style scoped>\n",
       "    .dataframe tbody tr th:only-of-type {\n",
       "        vertical-align: middle;\n",
       "    }\n",
       "\n",
       "    .dataframe tbody tr th {\n",
       "        vertical-align: top;\n",
       "    }\n",
       "\n",
       "    .dataframe thead th {\n",
       "        text-align: right;\n",
       "    }\n",
       "</style>\n",
       "<table border=\"1\" class=\"dataframe\">\n",
       "  <thead>\n",
       "    <tr style=\"text-align: right;\">\n",
       "      <th></th>\n",
       "      <th>Total Person Trips</th>\n",
       "      <th>Mode Share</th>\n",
       "    </tr>\n",
       "    <tr>\n",
       "      <th>mode</th>\n",
       "      <th></th>\n",
       "      <th></th>\n",
       "    </tr>\n",
       "  </thead>\n",
       "  <tbody>\n",
       "    <tr>\n",
       "      <th>Bike</th>\n",
       "      <td>389,931</td>\n",
       "      <td>1.8%</td>\n",
       "    </tr>\n",
       "    <tr>\n",
       "      <th>HOV2</th>\n",
       "      <td>4,357,089</td>\n",
       "      <td>19.8%</td>\n",
       "    </tr>\n",
       "    <tr>\n",
       "      <th>HOV3+</th>\n",
       "      <td>2,748,191</td>\n",
       "      <td>12.5%</td>\n",
       "    </tr>\n",
       "    <tr>\n",
       "      <th>SOV</th>\n",
       "      <td>8,653,544</td>\n",
       "      <td>39.2%</td>\n",
       "    </tr>\n",
       "    <tr>\n",
       "      <th>School Bus</th>\n",
       "      <td>303,430</td>\n",
       "      <td>1.4%</td>\n",
       "    </tr>\n",
       "    <tr>\n",
       "      <th>TNC</th>\n",
       "      <td>126,251</td>\n",
       "      <td>0.6%</td>\n",
       "    </tr>\n",
       "    <tr>\n",
       "      <th>Transit</th>\n",
       "      <td>1,029,688</td>\n",
       "      <td>4.7%</td>\n",
       "    </tr>\n",
       "    <tr>\n",
       "      <th>Walk</th>\n",
       "      <td>4,448,787</td>\n",
       "      <td>20.2%</td>\n",
       "    </tr>\n",
       "    <tr>\n",
       "      <th>Total</th>\n",
       "      <td>22,056,911</td>\n",
       "      <td>100.0%</td>\n",
       "    </tr>\n",
       "  </tbody>\n",
       "</table>\n",
       "</div>"
      ],
      "text/plain": [
       "           Total Person Trips Mode Share\n",
       "mode                                    \n",
       "Bike                  389,931       1.8%\n",
       "HOV2                4,357,089      19.8%\n",
       "HOV3+               2,748,191      12.5%\n",
       "SOV                 8,653,544      39.2%\n",
       "School Bus            303,430       1.4%\n",
       "TNC                   126,251       0.6%\n",
       "Transit             1,029,688       4.7%\n",
       "Walk                4,448,787      20.2%\n",
       "Total              22,056,911     100.0%"
      ]
     },
     "execution_count": 8,
     "metadata": {},
     "output_type": "execute_result"
    }
   ],
   "source": [
    "#| label: mode_share\n",
    "mode_share = pd.read_csv(util.output_path / 'agg/dash/mode_share_county.csv')\n",
    "\n",
    "df = mode_share.groupby('mode')['trexpfac'].sum().reset_index().set_index('mode')\n",
    "df['Mode Share'] = (df['trexpfac']/ (mode_share['trexpfac'].sum()))\n",
    "df.loc['Total', :] = df.sum(axis=0)\n",
    "df['Mode Share'] = (df['Mode Share'] * 100).round(1)\n",
    "df['Mode Share'] = df['Mode Share'].astype(str) + '%'\n",
    "df['trexpfac'] = df['trexpfac'].apply(lambda x: f\"{int(round(x)):,}\")\n",
    "df.rename(columns={'trexpfac': 'Total Person Trips'}, inplace=True)\n",
    "df"
   ]
  }
 ],
 "metadata": {
  "kernelspec": {
   "display_name": "summary",
   "language": "python",
   "name": "python3"
  },
  "language_info": {
   "codemirror_mode": {
    "name": "ipython",
    "version": 3
   },
   "file_extension": ".py",
   "mimetype": "text/x-python",
   "name": "python",
   "nbconvert_exporter": "python",
   "pygments_lexer": "ipython3",
   "version": "3.11.12"
  }
 },
 "nbformat": 4,
 "nbformat_minor": 5
}
