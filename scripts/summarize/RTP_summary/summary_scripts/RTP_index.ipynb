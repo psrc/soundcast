{
 "cells": [
  {
   "cell_type": "code",
   "execution_count": 1,
   "id": "d3920e17",
   "metadata": {
    "execution": {
     "iopub.execute_input": "2025-08-04T18:28:07.387125Z",
     "iopub.status.busy": "2025-08-04T18:28:07.387125Z",
     "iopub.status.idle": "2025-08-04T18:28:08.185529Z",
     "shell.execute_reply": "2025-08-04T18:28:08.185529Z"
    }
   },
   "outputs": [],
   "source": [
    "import pandas as pd\n",
    "import numpy as np\n",
    "import toml\n",
    "from pathlib import Path\n",
    "import polars as pl\n",
    "\n",
    "config = toml.load(Path.cwd() / '../../../../configuration/input_configuration.toml')\n",
    "summary_config = toml.load(Path.cwd() / '../../../../configuration/summary_configuration.toml')\n",
    "\n",
    "pd.set_option('display.float_format', '{:,.0f}'.format)"
   ]
  },
  {
   "cell_type": "code",
   "execution_count": 2,
   "id": "032f98ac",
   "metadata": {
    "execution": {
     "iopub.execute_input": "2025-08-04T18:28:08.190520Z",
     "iopub.status.busy": "2025-08-04T18:28:08.190520Z",
     "iopub.status.idle": "2025-08-04T18:28:08.195778Z",
     "shell.execute_reply": "2025-08-04T18:28:08.195778Z"
    }
   },
   "outputs": [],
   "source": [
    "# Relative path between notebooks and goruped output directories\n",
    "output_path = Path(summary_config['sc_run_path']) / summary_config[\"output_folder\"]\n",
    "survey_path = Path(summary_config['sc_run_path']) / summary_config[\"survey_folder\"]"
   ]
  },
  {
   "cell_type": "code",
   "execution_count": 3,
   "id": "5b5b3850",
   "metadata": {
    "execution": {
     "iopub.execute_input": "2025-08-04T18:28:08.199765Z",
     "iopub.status.busy": "2025-08-04T18:28:08.199765Z",
     "iopub.status.idle": "2025-08-04T18:28:08.215545Z",
     "shell.execute_reply": "2025-08-04T18:28:08.215545Z"
    }
   },
   "outputs": [],
   "source": [
    "def load_network_summary(filepath):\n",
    "    \"\"\"Load network-level results using a standard procedure. \"\"\"\n",
    "    df = pd.read_csv(filepath)\n",
    "\n",
    "    # Get freeflow from 20to5 period\n",
    "\n",
    "    # Exclude trips taken on non-designated facilities (facility_type == 0)\n",
    "    # These are artificial (weave lanes to connect HOV) or for non-auto uses \n",
    "    df = df[df['data3'] != 0]    # data3 represents facility_type\n",
    "\n",
    "    # calculate total link VMT and VHT\n",
    "    df['VMT'] = df['@tveh']*df['length']\n",
    "    df['VHT'] = df['@tveh']*df['auto_time']/60\n",
    "\n",
    "    # Define facility type\n",
    "    df.loc[df['data3'].isin([1,2]), 'facility_type'] = 'highway'\n",
    "    df.loc[df['data3'].isin([3,4,6]), 'facility_type'] = 'arterial'\n",
    "    df.loc[df['data3'].isin([5]), 'facility_type'] = 'connector'\n",
    "\n",
    "    # Calculate delay\n",
    "    # Select links from overnight time of day\n",
    "    delay_df = df.loc[df['tod'] == '20to5'][['ij','auto_time']]\n",
    "    delay_df.rename(columns={'auto_time':'freeflow_time'}, inplace=True)\n",
    "\n",
    "    # Merge delay field back onto network link df\n",
    "    df = pd.merge(df, delay_df, on='ij', how='left')\n",
    "\n",
    "    # Calcualte hourly delay\n",
    "    df['total_delay'] = ((df['auto_time']-df['freeflow_time'])*df['@tveh'])/60    # sum of (volume)*(travtime diff from freeflow)\n",
    "\n",
    "    df['county'] =df['@countyid'].map({33: 'King',\n",
    "                                      35: 'Kitsap',\n",
    "                                      53: 'Pierce',\n",
    "                                      61: 'Snohomish'})\n",
    "    df['county'] = df['county'].fillna('Outside Region')\n",
    "    \n",
    "    return df"
   ]
  },
  {
   "cell_type": "code",
   "execution_count": 4,
   "id": "8c685962",
   "metadata": {
    "execution": {
     "iopub.execute_input": "2025-08-04T18:28:08.219539Z",
     "iopub.status.busy": "2025-08-04T18:28:08.219539Z",
     "iopub.status.idle": "2025-08-04T18:28:16.088663Z",
     "shell.execute_reply": "2025-08-04T18:28:16.087672Z"
    }
   },
   "outputs": [],
   "source": [
    "# network data\n",
    "df_network = load_network_summary(output_path / 'network/network_results.csv')"
   ]
  },
  {
   "cell_type": "code",
   "execution_count": 5,
   "id": "4be3cdc7",
   "metadata": {
    "execution": {
     "iopub.execute_input": "2025-08-04T18:28:16.092653Z",
     "iopub.status.busy": "2025-08-04T18:28:16.091656Z",
     "iopub.status.idle": "2025-08-04T18:28:16.120912Z",
     "shell.execute_reply": "2025-08-04T18:28:16.119917Z"
    }
   },
   "outputs": [],
   "source": [
    "county_order = ['King','Kitsap','Pierce','Snohomish','Outside Region','Total']\n",
    "\n",
    "df_network['county'] = pd.Categorical(df_network['county'], ordered=True,\n",
    "                   categories=county_order)"
   ]
  },
  {
   "cell_type": "code",
   "execution_count": 6,
   "id": "cacb2e64",
   "metadata": {
    "execution": {
     "iopub.execute_input": "2025-08-04T18:28:16.124903Z",
     "iopub.status.busy": "2025-08-04T18:28:16.124903Z",
     "iopub.status.idle": "2025-08-04T18:28:16.992899Z",
     "shell.execute_reply": "2025-08-04T18:28:16.991908Z"
    }
   },
   "outputs": [
    {
     "data": {
      "text/html": [
       "<style type=\"text/css\">\n",
       "</style>\n",
       "<table id=\"T_f4312\">\n",
       "  <thead>\n",
       "    <tr>\n",
       "      <th id=\"T_f4312_level0_col0\" class=\"col_heading level0 col0\" >VMT</th>\n",
       "      <th id=\"T_f4312_level0_col1\" class=\"col_heading level0 col1\" >VHT</th>\n",
       "      <th id=\"T_f4312_level0_col2\" class=\"col_heading level0 col2\" >Delay</th>\n",
       "      <th id=\"T_f4312_level0_col3\" class=\"col_heading level0 col3\" >Transit Boardings</th>\n",
       "      <th id=\"T_f4312_level0_col4\" class=\"col_heading level0 col4\" >Light Rail Boardings</th>\n",
       "      <th id=\"T_f4312_level0_col5\" class=\"col_heading level0 col5\" >% Transit</th>\n",
       "      <th id=\"T_f4312_level0_col6\" class=\"col_heading level0 col6\" >CO2e</th>\n",
       "    </tr>\n",
       "  </thead>\n",
       "  <tbody>\n",
       "    <tr>\n",
       "      <td id=\"T_f4312_row0_col0\" class=\"data row0 col0\" >99,188,844</td>\n",
       "      <td id=\"T_f4312_row0_col1\" class=\"data row0 col1\" >3,124,644</td>\n",
       "      <td id=\"T_f4312_row0_col2\" class=\"data row0 col2\" >329,176</td>\n",
       "      <td id=\"T_f4312_row0_col3\" class=\"data row0 col3\" >1,580,322</td>\n",
       "      <td id=\"T_f4312_row0_col4\" class=\"data row0 col4\" >499,030</td>\n",
       "      <td id=\"T_f4312_row0_col5\" class=\"data row0 col5\" >4.8%</td>\n",
       "      <td id=\"T_f4312_row0_col6\" class=\"data row0 col6\" >6,539</td>\n",
       "    </tr>\n",
       "  </tbody>\n",
       "</table>\n"
      ],
      "text/plain": [
       "<pandas.io.formats.style.Styler at 0x27812dde8d0>"
      ]
     },
     "execution_count": 6,
     "metadata": {},
     "output_type": "execute_result"
    }
   ],
   "source": [
    "#| label: system_summary\n",
    "\n",
    "# network summary: 'VMT','VHT','total_delay'\n",
    "vmt = df_network['VMT'].sum()\n",
    "vht = df_network['VHT'].sum()\n",
    "delay = df_network['total_delay'].sum()\n",
    "\n",
    "# Get light rail boardings\n",
    "df_boardings = pd.read_csv(output_path / 'transit/daily_boardings_by_agency.csv')\n",
    "# transit boardings\n",
    "transit_ridership = df_boardings['boardings'].sum()\n",
    "#Light rail boardings\n",
    "df_line_boardings = pd.read_csv(output_path / 'transit/transit_line_results.csv')\n",
    "lr_ridership = df_line_boardings[df_line_boardings['mode']=='r']['boardings'].sum()\n",
    "\n",
    "# mode share\n",
    "df_trip = pd.read_csv(output_path / 'agg/dash/mode_share_county.csv')\n",
    "df = df_trip['trexpfac'].sum() # total trips\n",
    "transit_share = df_trip.loc[df_trip['mode']==\"Transit\"]['trexpfac'].sum()/df\n",
    "\n",
    "# emission\n",
    "df_emissions = pd.read_csv(output_path / 'emissions/emissions_summary.csv')\n",
    "df = df_emissions.loc[(df_emissions['veh_type'].isin(['light','medium','heavy'])) & \\\n",
    "                      (df_emissions['pollutant_name']==\"CO2 Equivalent\")].copy()\n",
    "CO2e = df['total_daily_tons'].sum()\n",
    "\n",
    "run_summary2 = pd.DataFrame({\n",
    "    'VMT': [vmt],\n",
    "    'VHT': [vht],\n",
    "    'Delay': [delay],\n",
    "    'Transit Boardings': [transit_ridership],\n",
    "    'Light Rail Boardings': [lr_ridership],\n",
    "    '% Transit': [transit_share],\n",
    "    'CO2e': [CO2e]\n",
    "})\n",
    "\n",
    "run_summary2.style.\\\n",
    "        format('{:,.0f}', subset=['VMT','VHT','Delay','Transit Boardings','Light Rail Boardings','CO2e']).\\\n",
    "        format('{:.1%}', subset=['% Transit']).\\\n",
    "            hide(axis=\"index\")"
   ]
  },
  {
   "cell_type": "code",
   "execution_count": 7,
   "id": "dde6f65a",
   "metadata": {
    "execution": {
     "iopub.execute_input": "2025-08-04T18:28:16.998881Z",
     "iopub.status.busy": "2025-08-04T18:28:16.997880Z",
     "iopub.status.idle": "2025-08-04T18:28:17.008084Z",
     "shell.execute_reply": "2025-08-04T18:28:17.007091Z"
    }
   },
   "outputs": [],
   "source": [
    "county_order = ['King','Kitsap','Pierce','Snohomish','Outside Region','Total']\n",
    "\n",
    "df_network['county'] = pd.Categorical(df_network['county'], ordered=True,\n",
    "                   categories=county_order)"
   ]
  },
  {
   "cell_type": "code",
   "execution_count": 8,
   "id": "bc4122d1",
   "metadata": {
    "execution": {
     "iopub.execute_input": "2025-08-04T18:28:17.012884Z",
     "iopub.status.busy": "2025-08-04T18:28:17.012074Z",
     "iopub.status.idle": "2025-08-04T18:28:18.205285Z",
     "shell.execute_reply": "2025-08-04T18:28:18.204284Z"
    }
   },
   "outputs": [
    {
     "data": {
      "text/html": [
       "<style type=\"text/css\">\n",
       "</style>\n",
       "<table id=\"T_81ff6\">\n",
       "  <thead>\n",
       "    <tr>\n",
       "      <th class=\"blank level0\" >&nbsp;</th>\n",
       "      <th id=\"T_81ff6_level0_col0\" class=\"col_heading level0 col0\" >VMT</th>\n",
       "      <th id=\"T_81ff6_level0_col1\" class=\"col_heading level0 col1\" >VHT</th>\n",
       "      <th id=\"T_81ff6_level0_col2\" class=\"col_heading level0 col2\" >Total Delay Hours</th>\n",
       "    </tr>\n",
       "    <tr>\n",
       "      <th class=\"index_name level0\" >county</th>\n",
       "      <th class=\"blank col0\" >&nbsp;</th>\n",
       "      <th class=\"blank col1\" >&nbsp;</th>\n",
       "      <th class=\"blank col2\" >&nbsp;</th>\n",
       "    </tr>\n",
       "  </thead>\n",
       "  <tbody>\n",
       "    <tr>\n",
       "      <th id=\"T_81ff6_level0_row0\" class=\"row_heading level0 row0\" >King</th>\n",
       "      <td id=\"T_81ff6_row0_col0\" class=\"data row0 col0\" >50,742,960</td>\n",
       "      <td id=\"T_81ff6_row0_col1\" class=\"data row0 col1\" >1,638,365</td>\n",
       "      <td id=\"T_81ff6_row0_col2\" class=\"data row0 col2\" >209,029</td>\n",
       "    </tr>\n",
       "    <tr>\n",
       "      <th id=\"T_81ff6_level0_row1\" class=\"row_heading level0 row1\" >Kitsap</th>\n",
       "      <td id=\"T_81ff6_row1_col0\" class=\"data row1 col0\" >5,458,950</td>\n",
       "      <td id=\"T_81ff6_row1_col1\" class=\"data row1 col1\" >162,080</td>\n",
       "      <td id=\"T_81ff6_row1_col2\" class=\"data row1 col2\" >4,793</td>\n",
       "    </tr>\n",
       "    <tr>\n",
       "      <th id=\"T_81ff6_level0_row2\" class=\"row_heading level0 row2\" >Pierce</th>\n",
       "      <td id=\"T_81ff6_row2_col0\" class=\"data row2 col0\" >22,319,442</td>\n",
       "      <td id=\"T_81ff6_row2_col1\" class=\"data row2 col1\" >695,915</td>\n",
       "      <td id=\"T_81ff6_row2_col2\" class=\"data row2 col2\" >56,903</td>\n",
       "    </tr>\n",
       "    <tr>\n",
       "      <th id=\"T_81ff6_level0_row3\" class=\"row_heading level0 row3\" >Snohomish</th>\n",
       "      <td id=\"T_81ff6_row3_col0\" class=\"data row3 col0\" >20,238,738</td>\n",
       "      <td id=\"T_81ff6_row3_col1\" class=\"data row3 col1\" >619,283</td>\n",
       "      <td id=\"T_81ff6_row3_col2\" class=\"data row3 col2\" >58,225</td>\n",
       "    </tr>\n",
       "    <tr>\n",
       "      <th id=\"T_81ff6_level0_row4\" class=\"row_heading level0 row4\" >Total</th>\n",
       "      <td id=\"T_81ff6_row4_col0\" class=\"data row4 col0\" >98,760,090</td>\n",
       "      <td id=\"T_81ff6_row4_col1\" class=\"data row4 col1\" >3,115,642</td>\n",
       "      <td id=\"T_81ff6_row4_col2\" class=\"data row4 col2\" >328,950</td>\n",
       "    </tr>\n",
       "  </tbody>\n",
       "</table>\n"
      ],
      "text/plain": [
       "<pandas.io.formats.style.Styler at 0x2780c2d2610>"
      ]
     },
     "execution_count": 8,
     "metadata": {},
     "output_type": "execute_result"
    }
   ],
   "source": [
    "#| label: total_vmt_vht_delay_by_county\n",
    "\n",
    "df_vmt = df_network.reset_index().groupby('county',observed=True)['VMT'].sum()\n",
    "df_vht = df_network.reset_index().groupby('county',observed=True)['VHT'].sum()\n",
    "df_delay = df_network.reset_index().groupby('county',observed=True)['total_delay'].sum()\n",
    "\n",
    "df = pd.concat([df_vmt,df_vht,df_delay], axis=1)\n",
    "df = df[df.index!='Outside Region']\n",
    "df.rename(columns={'total_delay': 'Total Delay Hours'}, inplace=True)\n",
    "\n",
    "df.loc['Total',] = df.sum()\n",
    "total_vmt = df.loc['Total','VMT']\n",
    "\n",
    "df.style.format('{:,.0f}')"
   ]
  },
  {
   "cell_type": "code",
   "execution_count": 9,
   "id": "af2eb767",
   "metadata": {
    "execution": {
     "iopub.execute_input": "2025-08-04T18:28:18.210268Z",
     "iopub.status.busy": "2025-08-04T18:28:18.209271Z",
     "iopub.status.idle": "2025-08-04T18:28:18.228291Z",
     "shell.execute_reply": "2025-08-04T18:28:18.227295Z"
    }
   },
   "outputs": [
    {
     "data": {
      "text/html": [
       "<style type=\"text/css\">\n",
       "</style>\n",
       "<table id=\"T_35f04\">\n",
       "  <thead>\n",
       "    <tr>\n",
       "      <th class=\"blank level0\" >&nbsp;</th>\n",
       "      <th id=\"T_35f04_level0_col0\" class=\"col_heading level0 col0\" >Daily Boardings</th>\n",
       "    </tr>\n",
       "    <tr>\n",
       "      <th class=\"index_name level0\" >agency_name</th>\n",
       "      <th class=\"blank col0\" >&nbsp;</th>\n",
       "    </tr>\n",
       "  </thead>\n",
       "  <tbody>\n",
       "    <tr>\n",
       "      <th id=\"T_35f04_level0_row0\" class=\"row_heading level0 row0\" >King County Metro</th>\n",
       "      <td id=\"T_35f04_row0_col0\" class=\"data row0 col0\" >797,537</td>\n",
       "    </tr>\n",
       "    <tr>\n",
       "      <th id=\"T_35f04_level0_row1\" class=\"row_heading level0 row1\" >Sound Transit</th>\n",
       "      <td id=\"T_35f04_row1_col0\" class=\"data row1 col0\" >536,523</td>\n",
       "    </tr>\n",
       "    <tr>\n",
       "      <th id=\"T_35f04_level0_row2\" class=\"row_heading level0 row2\" >Community Transit</th>\n",
       "      <td id=\"T_35f04_row2_col0\" class=\"data row2 col0\" >95,309</td>\n",
       "    </tr>\n",
       "    <tr>\n",
       "      <th id=\"T_35f04_level0_row3\" class=\"row_heading level0 row3\" >Pierce Transit</th>\n",
       "      <td id=\"T_35f04_row3_col0\" class=\"data row3 col0\" >72,714</td>\n",
       "    </tr>\n",
       "    <tr>\n",
       "      <th id=\"T_35f04_level0_row4\" class=\"row_heading level0 row4\" >Kitsap Transit</th>\n",
       "      <td id=\"T_35f04_row4_col0\" class=\"data row4 col0\" >38,861</td>\n",
       "    </tr>\n",
       "    <tr>\n",
       "      <th id=\"T_35f04_level0_row5\" class=\"row_heading level0 row5\" >Washington Ferries</th>\n",
       "      <td id=\"T_35f04_row5_col0\" class=\"data row5 col0\" >21,598</td>\n",
       "    </tr>\n",
       "    <tr>\n",
       "      <th id=\"T_35f04_level0_row6\" class=\"row_heading level0 row6\" >Everett Transit</th>\n",
       "      <td id=\"T_35f04_row6_col0\" class=\"data row6 col0\" >17,779</td>\n",
       "    </tr>\n",
       "    <tr>\n",
       "      <th id=\"T_35f04_level0_row7\" class=\"row_heading level0 row7\" >Total</th>\n",
       "      <td id=\"T_35f04_row7_col0\" class=\"data row7 col0\" >1,580,322</td>\n",
       "    </tr>\n",
       "  </tbody>\n",
       "</table>\n"
      ],
      "text/plain": [
       "<pandas.io.formats.style.Styler at 0x27808c510d0>"
      ]
     },
     "execution_count": 9,
     "metadata": {},
     "output_type": "execute_result"
    }
   ],
   "source": [
    "#| label: transit\n",
    "transit = pd.read_csv(output_path / 'transit/daily_boardings_by_agency.csv')\n",
    "\n",
    "df = transit[['agency_name','boardings']].set_index('agency_name').copy()\n",
    "df.loc['Total',:] = df['boardings'].sum()\n",
    "df.rename(columns={'boardings': 'Daily Boardings'}, inplace=True)\n",
    "\n",
    "\n",
    "df.style.format('{:,.0f}')\n"
   ]
  },
  {
   "cell_type": "code",
   "execution_count": 10,
   "id": "8e0478f8",
   "metadata": {
    "execution": {
     "iopub.execute_input": "2025-08-04T18:28:18.233278Z",
     "iopub.status.busy": "2025-08-04T18:28:18.232281Z",
     "iopub.status.idle": "2025-08-04T18:28:18.265108Z",
     "shell.execute_reply": "2025-08-04T18:28:18.264046Z"
    }
   },
   "outputs": [
    {
     "data": {
      "text/html": [
       "<div>\n",
       "<style scoped>\n",
       "    .dataframe tbody tr th:only-of-type {\n",
       "        vertical-align: middle;\n",
       "    }\n",
       "\n",
       "    .dataframe tbody tr th {\n",
       "        vertical-align: top;\n",
       "    }\n",
       "\n",
       "    .dataframe thead th {\n",
       "        text-align: right;\n",
       "    }\n",
       "</style>\n",
       "<table border=\"1\" class=\"dataframe\">\n",
       "  <thead>\n",
       "    <tr style=\"text-align: right;\">\n",
       "      <th></th>\n",
       "      <th>Total Person Trips</th>\n",
       "      <th>Mode Share</th>\n",
       "    </tr>\n",
       "    <tr>\n",
       "      <th>mode</th>\n",
       "      <th></th>\n",
       "      <th></th>\n",
       "    </tr>\n",
       "  </thead>\n",
       "  <tbody>\n",
       "    <tr>\n",
       "      <th>Bike</th>\n",
       "      <td>390,590</td>\n",
       "      <td>1.8%</td>\n",
       "    </tr>\n",
       "    <tr>\n",
       "      <th>HOV2</th>\n",
       "      <td>4,362,323</td>\n",
       "      <td>19.8%</td>\n",
       "    </tr>\n",
       "    <tr>\n",
       "      <th>HOV3+</th>\n",
       "      <td>2,746,430</td>\n",
       "      <td>12.4%</td>\n",
       "    </tr>\n",
       "    <tr>\n",
       "      <th>SOV</th>\n",
       "      <td>8,652,265</td>\n",
       "      <td>39.2%</td>\n",
       "    </tr>\n",
       "    <tr>\n",
       "      <th>School Bus</th>\n",
       "      <td>303,282</td>\n",
       "      <td>1.4%</td>\n",
       "    </tr>\n",
       "    <tr>\n",
       "      <th>TNC</th>\n",
       "      <td>126,888</td>\n",
       "      <td>0.6%</td>\n",
       "    </tr>\n",
       "    <tr>\n",
       "      <th>Transit</th>\n",
       "      <td>1,052,750</td>\n",
       "      <td>4.8%</td>\n",
       "    </tr>\n",
       "    <tr>\n",
       "      <th>Walk</th>\n",
       "      <td>4,438,448</td>\n",
       "      <td>20.1%</td>\n",
       "    </tr>\n",
       "    <tr>\n",
       "      <th>Total</th>\n",
       "      <td>22,072,976</td>\n",
       "      <td>100.0%</td>\n",
       "    </tr>\n",
       "  </tbody>\n",
       "</table>\n",
       "</div>"
      ],
      "text/plain": [
       "           Total Person Trips Mode Share\n",
       "mode                                    \n",
       "Bike                  390,590       1.8%\n",
       "HOV2                4,362,323      19.8%\n",
       "HOV3+               2,746,430      12.4%\n",
       "SOV                 8,652,265      39.2%\n",
       "School Bus            303,282       1.4%\n",
       "TNC                   126,888       0.6%\n",
       "Transit             1,052,750       4.8%\n",
       "Walk                4,438,448      20.1%\n",
       "Total              22,072,976     100.0%"
      ]
     },
     "execution_count": 10,
     "metadata": {},
     "output_type": "execute_result"
    }
   ],
   "source": [
    "#| label: mode_share\n",
    "mode_share = pd.read_csv(output_path / 'agg/dash/mode_share_county.csv')\n",
    "\n",
    "df = mode_share.groupby('mode')['trexpfac'].sum().reset_index().set_index('mode')\n",
    "df['Mode Share'] = (df['trexpfac']/ (mode_share['trexpfac'].sum()))\n",
    "df.loc['Total', :] = df.sum(axis=0)\n",
    "df['Mode Share'] = (df['Mode Share'] * 100).round(1)\n",
    "df['Mode Share'] = df['Mode Share'].astype(str) + '%'\n",
    "df['trexpfac'] = df['trexpfac'].apply(lambda x: f\"{int(round(x)):,}\")\n",
    "df.rename(columns={'trexpfac': 'Total Person Trips'}, inplace=True)\n",
    "df"
   ]
  }
 ],
 "metadata": {
  "kernelspec": {
   "display_name": "summary",
   "language": "python",
   "name": "python3"
  },
  "language_info": {
   "codemirror_mode": {
    "name": "ipython",
    "version": 3
   },
   "file_extension": ".py",
   "mimetype": "text/x-python",
   "name": "python",
   "nbconvert_exporter": "python",
   "pygments_lexer": "ipython3",
   "version": "3.11.12"
  }
 },
 "nbformat": 4,
 "nbformat_minor": 5
}
