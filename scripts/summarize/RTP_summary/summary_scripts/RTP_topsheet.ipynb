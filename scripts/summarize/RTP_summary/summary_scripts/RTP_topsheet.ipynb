{
 "cells": [
  {
   "cell_type": "raw",
   "id": "daadae17",
   "metadata": {
    "vscode": {
     "languageId": "raw"
    }
   },
   "source": [
    "---\n",
    "title: \"System Performance\"\n",
    "date: today\n",
    "---"
   ]
  },
  {
   "cell_type": "code",
   "execution_count": 1,
   "id": "d3920e17",
   "metadata": {
    "execution": {
     "iopub.execute_input": "2025-08-04T18:28:50.077802Z",
     "iopub.status.busy": "2025-08-04T18:28:50.076805Z",
     "iopub.status.idle": "2025-08-04T18:28:50.886005Z",
     "shell.execute_reply": "2025-08-04T18:28:50.885003Z"
    }
   },
   "outputs": [],
   "source": [
    "import pandas as pd\n",
    "import numpy as np\n",
    "import toml\n",
    "from pathlib import Path\n",
    "import polars as pl\n",
    "\n",
    "config = toml.load(Path.cwd() / '../../../../configuration/input_configuration.toml')\n",
    "summary_config = toml.load(Path.cwd() / '../../../../configuration/summary_configuration.toml')\n",
    "\n",
    "pd.set_option('display.float_format', '{:,.0f}'.format)"
   ]
  },
  {
   "cell_type": "code",
   "execution_count": 2,
   "id": "032f98ac",
   "metadata": {
    "execution": {
     "iopub.execute_input": "2025-08-04T18:28:50.890990Z",
     "iopub.status.busy": "2025-08-04T18:28:50.889993Z",
     "iopub.status.idle": "2025-08-04T18:28:50.896165Z",
     "shell.execute_reply": "2025-08-04T18:28:50.896165Z"
    }
   },
   "outputs": [],
   "source": [
    "# Relative path between notebooks and goruped output directories\n",
    "output_path = Path(summary_config['sc_run_path']) / summary_config[\"output_folder\"]\n",
    "survey_path = Path(summary_config['sc_run_path']) / summary_config[\"survey_folder\"]"
   ]
  },
  {
   "cell_type": "code",
   "execution_count": 3,
   "id": "84419b4d",
   "metadata": {
    "execution": {
     "iopub.execute_input": "2025-08-04T18:28:50.900162Z",
     "iopub.status.busy": "2025-08-04T18:28:50.900162Z",
     "iopub.status.idle": "2025-08-04T18:28:50.916056Z",
     "shell.execute_reply": "2025-08-04T18:28:50.916056Z"
    }
   },
   "outputs": [],
   "source": [
    "def load_network_summary(filepath):\n",
    "    \"\"\"Load network-level results using a standard procedure. \"\"\"\n",
    "    df = pd.read_csv(filepath)\n",
    "\n",
    "    # Get freeflow from 20to5 period\n",
    "\n",
    "    # Exclude trips taken on non-designated facilities (facility_type == 0)\n",
    "    # These are artificial (weave lanes to connect HOV) or for non-auto uses \n",
    "    df = df[df['data3'] != 0]    # data3 represents facility_type\n",
    "\n",
    "    # calculate total link VMT and VHT\n",
    "    df['VMT'] = df['@tveh']*df['length']\n",
    "    df['VHT'] = df['@tveh']*df['auto_time']/60\n",
    "\n",
    "    # Define facility type\n",
    "    df.loc[df['data3'].isin([1,2]), 'facility_type'] = 'highway'\n",
    "    df.loc[df['data3'].isin([3,4,6]), 'facility_type'] = 'arterial'\n",
    "    df.loc[df['data3'].isin([5]), 'facility_type'] = 'connector'\n",
    "\n",
    "    # Calculate delay\n",
    "    # Select links from overnight time of day\n",
    "    delay_df = df.loc[df['tod'] == '20to5'][['ij','auto_time']]\n",
    "    delay_df.rename(columns={'auto_time':'freeflow_time'}, inplace=True)\n",
    "\n",
    "    # Merge delay field back onto network link df\n",
    "    df = pd.merge(df, delay_df, on='ij', how='left')\n",
    "\n",
    "    # Calcualte hourly delay\n",
    "    df['total_delay'] = ((df['auto_time']-df['freeflow_time'])*df['@tveh'])/60    # sum of (volume)*(travtime diff from freeflow)\n",
    "\n",
    "    df['county'] =df['@countyid'].map({33: 'King',\n",
    "                                      35: 'Kitsap',\n",
    "                                      53: 'Pierce',\n",
    "                                      61: 'Snohomish'})\n",
    "    df['county'] = df['county'].fillna('Outside Region')\n",
    "    \n",
    "    return df"
   ]
  },
  {
   "cell_type": "code",
   "execution_count": 4,
   "id": "201d568a",
   "metadata": {
    "execution": {
     "iopub.execute_input": "2025-08-04T18:28:50.920118Z",
     "iopub.status.busy": "2025-08-04T18:28:50.920118Z",
     "iopub.status.idle": "2025-08-04T18:29:15.132074Z",
     "shell.execute_reply": "2025-08-04T18:29:15.131071Z"
    }
   },
   "outputs": [],
   "source": [
    "# trip data\n",
    "hh = pd.read_csv(output_path / 'agg/dash/hh_geog.csv')\n",
    "# person data\n",
    "person = pd.read_csv(output_path / 'agg/dash/pptyp_county.csv')\n",
    "# worker data\n",
    "employment = pd.read_csv(output_path / 'agg/dash/person_worker_type.csv')\n",
    "# network data\n",
    "df_network = load_network_summary(output_path / 'network/network_results.csv')\n",
    "# job data\n",
    "df_lu = pl.read_csv(output_path / 'landuse/parcels_urbansim.txt', separator=' ').to_pandas()\n",
    "\n",
    "# Parcel geography\n",
    "parcel_geog = pd.read_sql_table('parcel_'+config['base_year']+'_geography', 'sqlite:///../../../../inputs/db/'+config['db_name'])\n",
    "df_lu = df_lu.merge(parcel_geog, left_on='parcelid', right_on='ParcelID', how='left')"
   ]
  },
  {
   "cell_type": "code",
   "execution_count": null,
   "id": "cacb2e64",
   "metadata": {},
   "outputs": [],
   "source": []
  },
  {
   "cell_type": "code",
   "execution_count": 5,
   "id": "dde6f65a",
   "metadata": {
    "execution": {
     "iopub.execute_input": "2025-08-04T18:29:15.138059Z",
     "iopub.status.busy": "2025-08-04T18:29:15.137059Z",
     "iopub.status.idle": "2025-08-04T18:29:15.185996Z",
     "shell.execute_reply": "2025-08-04T18:29:15.184995Z"
    }
   },
   "outputs": [],
   "source": [
    "county_order = ['King','Kitsap','Pierce','Snohomish','Outside Region','Total']\n",
    "\n",
    "person['person_county'] = pd.Categorical(person['person_county'], ordered=True,\n",
    "                   categories=county_order)\n",
    "hh['hh_county'] = pd.Categorical(hh['hh_county'], ordered=True,\n",
    "                   categories=county_order)\n",
    "employment['person_work_county'] = pd.Categorical(employment['person_work_county'], ordered=True,\n",
    "                   categories=county_order)\n",
    "\n",
    "df_network['county'] = pd.Categorical(df_network['county'], ordered=True,\n",
    "                   categories=county_order)"
   ]
  },
  {
   "cell_type": "code",
   "execution_count": 6,
   "id": "9c224430",
   "metadata": {
    "execution": {
     "iopub.execute_input": "2025-08-04T18:29:15.188991Z",
     "iopub.status.busy": "2025-08-04T18:29:15.188991Z",
     "iopub.status.idle": "2025-08-04T18:29:16.354417Z",
     "shell.execute_reply": "2025-08-04T18:29:16.353650Z"
    }
   },
   "outputs": [],
   "source": [
    "#| label: total_vmt_vht_delay_by_county\n",
    "\n",
    "df_vmt = df_network.reset_index().groupby('county',observed=True)['VMT'].sum()\n",
    "df_vht = df_network.reset_index().groupby('county',observed=True)['VHT'].sum()\n",
    "df_delay = df_network.reset_index().groupby('county',observed=True)['total_delay'].sum()\n",
    "\n",
    "df = pd.concat([df_vmt,df_vht,df_delay], axis=1)\n",
    "df = df[df.index!='Outside Region']\n",
    "df.rename(columns={'total_delay': 'Total Delay Hours'}, inplace=True)\n",
    "\n",
    "df.loc['Total',] = df.sum()\n",
    "total_vmt = df.loc['Total','VMT']\n",
    "\n",
    "# df.style.format('{:,.0f}')"
   ]
  },
  {
   "cell_type": "markdown",
   "id": "1efd72ff",
   "metadata": {},
   "source": [
    "## Households and Population"
   ]
  },
  {
   "cell_type": "code",
   "execution_count": 7,
   "id": "27a89aea",
   "metadata": {
    "execution": {
     "iopub.execute_input": "2025-08-04T18:29:16.360409Z",
     "iopub.status.busy": "2025-08-04T18:29:16.359411Z",
     "iopub.status.idle": "2025-08-04T18:29:16.377798Z",
     "shell.execute_reply": "2025-08-04T18:29:16.377295Z"
    }
   },
   "outputs": [
    {
     "data": {
      "text/html": [
       "<div>\n",
       "<style scoped>\n",
       "    .dataframe tbody tr th:only-of-type {\n",
       "        vertical-align: middle;\n",
       "    }\n",
       "\n",
       "    .dataframe tbody tr th {\n",
       "        vertical-align: top;\n",
       "    }\n",
       "\n",
       "    .dataframe thead th {\n",
       "        text-align: right;\n",
       "    }\n",
       "</style>\n",
       "<table border=\"1\" class=\"dataframe\">\n",
       "  <thead>\n",
       "    <tr style=\"text-align: right;\">\n",
       "      <th></th>\n",
       "      <th>Persons</th>\n",
       "      <th>Households</th>\n",
       "    </tr>\n",
       "  </thead>\n",
       "  <tbody>\n",
       "    <tr>\n",
       "      <th>King</th>\n",
       "      <td>2,988,967</td>\n",
       "      <td>1,288,264</td>\n",
       "    </tr>\n",
       "    <tr>\n",
       "      <th>Kitsap</th>\n",
       "      <td>354,214</td>\n",
       "      <td>150,088</td>\n",
       "    </tr>\n",
       "    <tr>\n",
       "      <th>Pierce</th>\n",
       "      <td>1,238,006</td>\n",
       "      <td>500,689</td>\n",
       "    </tr>\n",
       "    <tr>\n",
       "      <th>Snohomish</th>\n",
       "      <td>1,207,658</td>\n",
       "      <td>482,012</td>\n",
       "    </tr>\n",
       "    <tr>\n",
       "      <th>Total</th>\n",
       "      <td>5,788,845</td>\n",
       "      <td>2,421,053</td>\n",
       "    </tr>\n",
       "  </tbody>\n",
       "</table>\n",
       "</div>"
      ],
      "text/plain": [
       "            Persons  Households\n",
       "King      2,988,967   1,288,264\n",
       "Kitsap      354,214     150,088\n",
       "Pierce    1,238,006     500,689\n",
       "Snohomish 1,207,658     482,012\n",
       "Total     5,788,845   2,421,053"
      ]
     },
     "execution_count": 7,
     "metadata": {},
     "output_type": "execute_result"
    }
   ],
   "source": [
    "# Total Population\n",
    "df_person = person[['person_county','psexpfac']].groupby('person_county', observed=True)['psexpfac'].sum()\n",
    "df_hh = hh[['hh_county','hhexpfac']].groupby('hh_county', observed=True)['hhexpfac'].sum()\n",
    "\n",
    "df = pd.concat([df_person,df_hh],axis=1)\n",
    "df = df[df.index!='Outside Region']\n",
    "\n",
    "df.loc['Total',] = df.sum()\n",
    "df.rename(columns={'psexpfac': 'Persons',\n",
    "                   'hhexpfac': 'Households'}, inplace=True)\n",
    "\n",
    "df"
   ]
  },
  {
   "cell_type": "markdown",
   "id": "06ccfcc1",
   "metadata": {},
   "source": [
    "## Workers and Jobs\n",
    "By Workplace Location\n",
    "\n",
    "Workers are Daysim outputs and Jobs are Parcel Inputs"
   ]
  },
  {
   "cell_type": "code",
   "execution_count": 8,
   "id": "ae178021",
   "metadata": {
    "execution": {
     "iopub.execute_input": "2025-08-04T18:29:16.379795Z",
     "iopub.status.busy": "2025-08-04T18:29:16.379795Z",
     "iopub.status.idle": "2025-08-04T18:29:16.619909Z",
     "shell.execute_reply": "2025-08-04T18:29:16.618906Z"
    }
   },
   "outputs": [
    {
     "data": {
      "text/html": [
       "<div>\n",
       "<style scoped>\n",
       "    .dataframe tbody tr th:only-of-type {\n",
       "        vertical-align: middle;\n",
       "    }\n",
       "\n",
       "    .dataframe tbody tr th {\n",
       "        vertical-align: top;\n",
       "    }\n",
       "\n",
       "    .dataframe thead th {\n",
       "        text-align: right;\n",
       "    }\n",
       "</style>\n",
       "<table border=\"1\" class=\"dataframe\">\n",
       "  <thead>\n",
       "    <tr style=\"text-align: right;\">\n",
       "      <th></th>\n",
       "      <th>County</th>\n",
       "      <th>Workers</th>\n",
       "      <th>Jobs</th>\n",
       "    </tr>\n",
       "  </thead>\n",
       "  <tbody>\n",
       "    <tr>\n",
       "      <th>0</th>\n",
       "      <td>King</td>\n",
       "      <td>1,845,910</td>\n",
       "      <td>2,047,189</td>\n",
       "    </tr>\n",
       "    <tr>\n",
       "      <th>1</th>\n",
       "      <td>Kitsap</td>\n",
       "      <td>148,237</td>\n",
       "      <td>147,113</td>\n",
       "    </tr>\n",
       "    <tr>\n",
       "      <th>2</th>\n",
       "      <td>Pierce</td>\n",
       "      <td>474,734</td>\n",
       "      <td>473,244</td>\n",
       "    </tr>\n",
       "    <tr>\n",
       "      <th>3</th>\n",
       "      <td>Snohomish</td>\n",
       "      <td>483,685</td>\n",
       "      <td>493,317</td>\n",
       "    </tr>\n",
       "    <tr>\n",
       "      <th>4</th>\n",
       "      <td>Region</td>\n",
       "      <td>2,952,566</td>\n",
       "      <td>3,160,863</td>\n",
       "    </tr>\n",
       "  </tbody>\n",
       "</table>\n",
       "</div>"
      ],
      "text/plain": [
       "      County   Workers      Jobs\n",
       "0       King 1,845,910 2,047,189\n",
       "1     Kitsap   148,237   147,113\n",
       "2     Pierce   474,734   473,244\n",
       "3  Snohomish   483,685   493,317\n",
       "4     Region 2,952,566 3,160,863"
      ]
     },
     "execution_count": 8,
     "metadata": {},
     "output_type": "execute_result"
    }
   ],
   "source": [
    "# Jobs\n",
    "df_jobs = df_lu[['emptot_p','CountyName']].groupby('CountyName').sum()[['emptot_p']]\n",
    "df_jobs = df_jobs.reset_index()\n",
    "df_jobs.rename(columns={'emptot_p': 'Jobs',\n",
    "                   'CountyName':'County'}, inplace=True)\n",
    "df_jobs.set_index('County')\n",
    "df_jobs['Jobs'] = df_jobs['Jobs'].astype('float')\n",
    "\n",
    "# workers\n",
    "df = employment.groupby('person_work_county',observed=True)['psexpfac'].sum()\n",
    "\n",
    "df = df.reset_index()\n",
    "df.rename(columns={'psexpfac': 'Workers',\n",
    "                   'person_work_county':'County'}, inplace=True)\n",
    "df.set_index('County')\n",
    "df['Workers'] = df['Workers'].astype('float')\n",
    "df = df.merge(df_jobs, on='County')\n",
    "\n",
    "df.loc['Total',:] = df.sum(axis=0, numeric_only=True)\n",
    "\n",
    "df.loc['Total','County'] = 'Region'\n",
    "df.reset_index(drop=True)"
   ]
  },
  {
   "cell_type": "markdown",
   "id": "d20d3995",
   "metadata": {},
   "source": [
    "## VMT by Type"
   ]
  },
  {
   "cell_type": "code",
   "execution_count": 9,
   "id": "dd92cd5a",
   "metadata": {
    "execution": {
     "iopub.execute_input": "2025-08-04T18:29:16.625893Z",
     "iopub.status.busy": "2025-08-04T18:29:16.624896Z",
     "iopub.status.idle": "2025-08-04T18:29:16.700521Z",
     "shell.execute_reply": "2025-08-04T18:29:16.699529Z"
    }
   },
   "outputs": [
    {
     "data": {
      "text/html": [
       "<div>\n",
       "<style scoped>\n",
       "    .dataframe tbody tr th:only-of-type {\n",
       "        vertical-align: middle;\n",
       "    }\n",
       "\n",
       "    .dataframe tbody tr th {\n",
       "        vertical-align: top;\n",
       "    }\n",
       "\n",
       "    .dataframe thead th {\n",
       "        text-align: right;\n",
       "    }\n",
       "</style>\n",
       "<table border=\"1\" class=\"dataframe\">\n",
       "  <thead>\n",
       "    <tr style=\"text-align: right;\">\n",
       "      <th></th>\n",
       "      <th>VMT</th>\n",
       "    </tr>\n",
       "  </thead>\n",
       "  <tbody>\n",
       "    <tr>\n",
       "      <th>Resident</th>\n",
       "      <td>73,880,223</td>\n",
       "    </tr>\n",
       "    <tr>\n",
       "      <th>Medium Truck</th>\n",
       "      <td>5,379,857</td>\n",
       "    </tr>\n",
       "    <tr>\n",
       "      <th>Heavy Truck</th>\n",
       "      <td>7,122,480</td>\n",
       "    </tr>\n",
       "    <tr>\n",
       "      <th>External and Other</th>\n",
       "      <td>12,377,530</td>\n",
       "    </tr>\n",
       "    <tr>\n",
       "      <th>Total</th>\n",
       "      <td>98,760,090</td>\n",
       "    </tr>\n",
       "  </tbody>\n",
       "</table>\n",
       "</div>"
      ],
      "text/plain": [
       "                          VMT\n",
       "Resident           73,880,223\n",
       "Medium Truck        5,379,857\n",
       "Heavy Truck         7,122,480\n",
       "External and Other 12,377,530\n",
       "Total              98,760,090"
      ]
     },
     "execution_count": 9,
     "metadata": {},
     "output_type": "execute_result"
    }
   ],
   "source": [
    "vmt_df = pd.DataFrame()\n",
    "\n",
    "# Daysim Resident Demand\n",
    "df = pd.read_csv(output_path / 'agg/dash/person_vmt.csv')\n",
    "df = df[df['mode'].isin(['SOV','HOV2','HOV3+']) & df['dorp']==1]\n",
    "vmt_df.loc['Resident','VMT'] = df['travdist_wt'].sum()\n",
    "\n",
    "# Trucks\n",
    "df_network['medium_truck_vmt'] = df_network['@medium_truck']*df_network['length']\n",
    "df_network['heavy_truck_vmt'] = df_network['@heavy_truck']*df_network['length']\n",
    "\n",
    "vmt_df.loc['Medium Truck','VMT'] = df_network['medium_truck_vmt'].sum()\n",
    "vmt_df.loc['Heavy Truck','VMT'] = df_network['heavy_truck_vmt'].sum()\n",
    "\n",
    "# Externals\n",
    "external_vmt = total_vmt - vmt_df['VMT'].sum()\n",
    "vmt_df.loc['External and Other'] = external_vmt\n",
    "\n",
    "vmt_df.loc['Total'] = total_vmt\n",
    "vmt_df"
   ]
  },
  {
   "cell_type": "markdown",
   "id": "8bffbf51",
   "metadata": {},
   "source": [
    "## Vehicle Trips (Resident + External)"
   ]
  },
  {
   "cell_type": "code",
   "execution_count": 10,
   "id": "d2df4b19",
   "metadata": {
    "execution": {
     "iopub.execute_input": "2025-08-04T18:29:16.705510Z",
     "iopub.status.busy": "2025-08-04T18:29:16.705510Z",
     "iopub.status.idle": "2025-08-04T18:29:16.725171Z",
     "shell.execute_reply": "2025-08-04T18:29:16.724169Z"
    }
   },
   "outputs": [
    {
     "data": {
      "text/html": [
       "<div>\n",
       "<style scoped>\n",
       "    .dataframe tbody tr th:only-of-type {\n",
       "        vertical-align: middle;\n",
       "    }\n",
       "\n",
       "    .dataframe tbody tr th {\n",
       "        vertical-align: top;\n",
       "    }\n",
       "\n",
       "    .dataframe thead th {\n",
       "        text-align: right;\n",
       "    }\n",
       "</style>\n",
       "<table border=\"1\" class=\"dataframe\">\n",
       "  <thead>\n",
       "    <tr style=\"text-align: right;\">\n",
       "      <th></th>\n",
       "      <th>mode</th>\n",
       "      <th>trips</th>\n",
       "    </tr>\n",
       "  </thead>\n",
       "  <tbody>\n",
       "    <tr>\n",
       "      <th>0</th>\n",
       "      <td>Drive Alone</td>\n",
       "      <td>9,196,767</td>\n",
       "    </tr>\n",
       "    <tr>\n",
       "      <th>1</th>\n",
       "      <td>Shared Ride</td>\n",
       "      <td>3,891,304</td>\n",
       "    </tr>\n",
       "  </tbody>\n",
       "</table>\n",
       "</div>"
      ],
      "text/plain": [
       "          mode     trips\n",
       "0  Drive Alone 9,196,767\n",
       "1  Shared Ride 3,891,304"
      ]
     },
     "execution_count": 10,
     "metadata": {},
     "output_type": "execute_result"
    }
   ],
   "source": [
    "# Trips\n",
    "df = pd.read_csv(output_path / 'trips_by_class.csv')\n",
    "df.columns = ['class','trips','tod']\n",
    "df['mode'] = df['class'].map({'sov_inc1': 'Drive Alone',\n",
    "                 'sov_inc2': 'Drive Alone',\n",
    "                 'sov_inc3': 'Drive Alone',\n",
    "                 'hov2_inc1': 'Shared Ride',\n",
    "                 'hov2_inc2': 'Shared Ride',\n",
    "                 'hov2_inc3': 'Shared Ride',\n",
    "                 'hov3_inc1': 'Shared Ride',\n",
    "                 'hov3_inc2': 'Shared Ride',\n",
    "                 'hov3_inc3': 'Shared Ride'})\n",
    "df = df.groupby('mode').sum()[['trips']].reset_index()\n",
    "df"
   ]
  },
  {
   "cell_type": "markdown",
   "id": "5af7856f",
   "metadata": {},
   "source": [
    "## Emissions\n",
    "Daily Tons for light, medium, and heavy vehicles; bus vehicles are excluded."
   ]
  },
  {
   "cell_type": "code",
   "execution_count": 11,
   "id": "5bb9bbd9",
   "metadata": {
    "execution": {
     "iopub.execute_input": "2025-08-04T18:29:16.730160Z",
     "iopub.status.busy": "2025-08-04T18:29:16.729164Z",
     "iopub.status.idle": "2025-08-04T18:29:16.750179Z",
     "shell.execute_reply": "2025-08-04T18:29:16.749177Z"
    }
   },
   "outputs": [
    {
     "data": {
      "text/html": [
       "<div>\n",
       "<style scoped>\n",
       "    .dataframe tbody tr th:only-of-type {\n",
       "        vertical-align: middle;\n",
       "    }\n",
       "\n",
       "    .dataframe tbody tr th {\n",
       "        vertical-align: top;\n",
       "    }\n",
       "\n",
       "    .dataframe thead th {\n",
       "        text-align: right;\n",
       "    }\n",
       "</style>\n",
       "<table border=\"1\" class=\"dataframe\">\n",
       "  <thead>\n",
       "    <tr style=\"text-align: right;\">\n",
       "      <th></th>\n",
       "      <th>Start</th>\n",
       "      <th>Intrazonal</th>\n",
       "      <th>Interzonal</th>\n",
       "      <th>Total Daily</th>\n",
       "    </tr>\n",
       "    <tr>\n",
       "      <th>pollutant_name</th>\n",
       "      <th></th>\n",
       "      <th></th>\n",
       "      <th></th>\n",
       "      <th></th>\n",
       "    </tr>\n",
       "  </thead>\n",
       "  <tbody>\n",
       "    <tr>\n",
       "      <th>CO</th>\n",
       "      <td>7</td>\n",
       "      <td>0</td>\n",
       "      <td>21</td>\n",
       "      <td>28</td>\n",
       "    </tr>\n",
       "    <tr>\n",
       "      <th>CO2 Equivalent</th>\n",
       "      <td>164</td>\n",
       "      <td>23</td>\n",
       "      <td>6,352</td>\n",
       "      <td>6,539</td>\n",
       "    </tr>\n",
       "    <tr>\n",
       "      <th>NOx</th>\n",
       "      <td>1</td>\n",
       "      <td>0</td>\n",
       "      <td>4</td>\n",
       "      <td>4</td>\n",
       "    </tr>\n",
       "    <tr>\n",
       "      <th>PM10 Total</th>\n",
       "      <td>0</td>\n",
       "      <td>0</td>\n",
       "      <td>5</td>\n",
       "      <td>5</td>\n",
       "    </tr>\n",
       "    <tr>\n",
       "      <th>PM25 Total</th>\n",
       "      <td>0</td>\n",
       "      <td>0</td>\n",
       "      <td>1</td>\n",
       "      <td>1</td>\n",
       "    </tr>\n",
       "  </tbody>\n",
       "</table>\n",
       "</div>"
      ],
      "text/plain": [
       "                Start  Intrazonal  Interzonal  Total Daily\n",
       "pollutant_name                                            \n",
       "CO                  7           0          21           28\n",
       "CO2 Equivalent    164          23       6,352        6,539\n",
       "NOx                 1           0           4            4\n",
       "PM10 Total          0           0           5            5\n",
       "PM25 Total          0           0           1            1"
      ]
     },
     "execution_count": 11,
     "metadata": {},
     "output_type": "execute_result"
    }
   ],
   "source": [
    "df = pd.read_csv(output_path / 'emissions/emissions_summary.csv')\n",
    "\n",
    "df = df[df['veh_type'].isin(['light','medium','heavy'])]\n",
    "df = df.groupby('pollutant_name').sum()\n",
    "df.rename(columns={'start_tons': 'Start', 'intrazonal_tons': 'Intrazonal', 'interzonal_tons': 'Interzonal',\n",
    "                  'total_daily_tons': 'Total Daily'},\n",
    "                  inplace=True)\n",
    "df = df.loc[df.index.isin(['CO','NOx','PM25 Total','PM10 Total','CO2 Equivalent']),\n",
    "            ['Start', 'Intrazonal', 'Interzonal', 'Total Daily']]\n",
    "\n",
    "df"
   ]
  },
  {
   "cell_type": "markdown",
   "id": "8a9feb28",
   "metadata": {},
   "source": [
    "## Lane Miles"
   ]
  },
  {
   "cell_type": "code",
   "execution_count": 12,
   "id": "c6efe75c",
   "metadata": {
    "execution": {
     "iopub.execute_input": "2025-08-04T18:29:16.755169Z",
     "iopub.status.busy": "2025-08-04T18:29:16.755169Z",
     "iopub.status.idle": "2025-08-04T18:29:16.766065Z",
     "shell.execute_reply": "2025-08-04T18:29:16.765062Z"
    }
   },
   "outputs": [],
   "source": [
    "facility_type_dict = {\n",
    "    1: 'Interstate',\n",
    "    2: 'Other Freeway',\n",
    "    3: 'Expressway',\n",
    "    4: 'Ramp',\n",
    "    5: 'Principal Arterial',\n",
    "    6: 'Minor Arterial',\n",
    "    7: 'Major Collector',\n",
    "    8: 'Minor Collector',\n",
    "    9: 'Local',\n",
    "    10: 'Busway',\n",
    "    11: 'Non-Motor',\n",
    "    12: 'Light Rail',\n",
    "    13: 'Commuter Rail',\n",
    "    15: 'Ferry',\n",
    "    16: 'Passenger-Only Ferry',\n",
    "    17: 'Centroid Connector',\n",
    "    18: 'Facility Connector',\n",
    "    19: 'HOV Only Freeway',\n",
    "    20: 'HOV Only Ramp',\n",
    "    98: 'Weave Links'\n",
    "}\n",
    "\n",
    "ul3_dict = {\n",
    "    0: 'Rail/Walk/Ferry',\n",
    "    1: 'Freeway',\n",
    "    2: 'Expressway',\n",
    "    3: 'Urban Arterial',\n",
    "    4: 'One-way Arterial',\n",
    "    5: 'Centroid Connector',\n",
    "    6: 'Rural Arterial'\n",
    "}\n",
    "\n",
    "county_dict = {\n",
    "    33: 'King',\n",
    "    35: 'Kitsap',\n",
    "    53: 'Pierce',\n",
    "    61: 'Snohomish'\n",
    "}"
   ]
  },
  {
   "cell_type": "code",
   "execution_count": 13,
   "id": "d54d541c",
   "metadata": {
    "execution": {
     "iopub.execute_input": "2025-08-04T18:29:16.771122Z",
     "iopub.status.busy": "2025-08-04T18:29:16.770059Z",
     "iopub.status.idle": "2025-08-04T18:29:16.928770Z",
     "shell.execute_reply": "2025-08-04T18:29:16.927768Z"
    }
   },
   "outputs": [
    {
     "data": {
      "text/html": [
       "<div>\n",
       "<style scoped>\n",
       "    .dataframe tbody tr th:only-of-type {\n",
       "        vertical-align: middle;\n",
       "    }\n",
       "\n",
       "    .dataframe tbody tr th {\n",
       "        vertical-align: top;\n",
       "    }\n",
       "\n",
       "    .dataframe thead th {\n",
       "        text-align: right;\n",
       "    }\n",
       "</style>\n",
       "<table border=\"1\" class=\"dataframe\">\n",
       "  <thead>\n",
       "    <tr style=\"text-align: right;\">\n",
       "      <th></th>\n",
       "      <th>Lane Miles</th>\n",
       "    </tr>\n",
       "    <tr>\n",
       "      <th>Facility Type</th>\n",
       "      <th></th>\n",
       "    </tr>\n",
       "  </thead>\n",
       "  <tbody>\n",
       "    <tr>\n",
       "      <th>Interstate</th>\n",
       "      <td>1,569</td>\n",
       "    </tr>\n",
       "    <tr>\n",
       "      <th>Other Freeway</th>\n",
       "      <td>841</td>\n",
       "    </tr>\n",
       "    <tr>\n",
       "      <th>Expressway</th>\n",
       "      <td>258</td>\n",
       "    </tr>\n",
       "    <tr>\n",
       "      <th>Ramp</th>\n",
       "      <td>551</td>\n",
       "    </tr>\n",
       "    <tr>\n",
       "      <th>Principal Arterial</th>\n",
       "      <td>3,124</td>\n",
       "    </tr>\n",
       "    <tr>\n",
       "      <th>Minor Arterial</th>\n",
       "      <td>4,104</td>\n",
       "    </tr>\n",
       "    <tr>\n",
       "      <th>Major Collector</th>\n",
       "      <td>2,926</td>\n",
       "    </tr>\n",
       "    <tr>\n",
       "      <th>Minor Collector</th>\n",
       "      <td>221</td>\n",
       "    </tr>\n",
       "    <tr>\n",
       "      <th>Local</th>\n",
       "      <td>303</td>\n",
       "    </tr>\n",
       "    <tr>\n",
       "      <th>Centroid Connector</th>\n",
       "      <td>9,827</td>\n",
       "    </tr>\n",
       "    <tr>\n",
       "      <th>Facility Connector</th>\n",
       "      <td>24</td>\n",
       "    </tr>\n",
       "    <tr>\n",
       "      <th>HOV Only Freeway</th>\n",
       "      <td>3</td>\n",
       "    </tr>\n",
       "    <tr>\n",
       "      <th>HOV Only Ramp</th>\n",
       "      <td>28</td>\n",
       "    </tr>\n",
       "    <tr>\n",
       "      <th>Total</th>\n",
       "      <td>23,779</td>\n",
       "    </tr>\n",
       "  </tbody>\n",
       "</table>\n",
       "</div>"
      ],
      "text/plain": [
       "                    Lane Miles\n",
       "Facility Type                 \n",
       "Interstate               1,569\n",
       "Other Freeway              841\n",
       "Expressway                 258\n",
       "Ramp                       551\n",
       "Principal Arterial       3,124\n",
       "Minor Arterial           4,104\n",
       "Major Collector          2,926\n",
       "Minor Collector            221\n",
       "Local                      303\n",
       "Centroid Connector       9,827\n",
       "Facility Connector          24\n",
       "HOV Only Freeway             3\n",
       "HOV Only Ramp               28\n",
       "Total                   23,779"
      ]
     },
     "execution_count": 13,
     "metadata": {},
     "output_type": "execute_result"
    }
   ],
   "source": [
    "# Select mid-day network\n",
    "gdf = df_network.loc[df_network['tod'] == '10to14'].copy()\n",
    "gdf['Lane Miles'] = gdf['length'] * gdf['num_lanes']\n",
    "\n",
    "gdf['Facility Type'] = pd.Categorical(gdf['@facilitytype'].map(facility_type_dict), \n",
    "                                      ordered=True,\n",
    "                                      categories=facility_type_dict.values())\n",
    "\n",
    "df = gdf.groupby(['Facility Type'], observed=True)['Lane Miles'].sum().reset_index().set_index('Facility Type')\n",
    "\n",
    "# df = df.drop(['@facilitytype','Facility Type'], axis=1)\n",
    "df.loc['Total','Lane Miles'] = df['Lane Miles'].sum()\n",
    "df"
   ]
  },
  {
   "cell_type": "code",
   "execution_count": 14,
   "id": "a435ca2a",
   "metadata": {
    "execution": {
     "iopub.execute_input": "2025-08-04T18:29:16.934757Z",
     "iopub.status.busy": "2025-08-04T18:29:16.932762Z",
     "iopub.status.idle": "2025-08-04T18:29:16.954259Z",
     "shell.execute_reply": "2025-08-04T18:29:16.953258Z"
    }
   },
   "outputs": [
    {
     "data": {
      "text/html": [
       "<div>\n",
       "<style scoped>\n",
       "    .dataframe tbody tr th:only-of-type {\n",
       "        vertical-align: middle;\n",
       "    }\n",
       "\n",
       "    .dataframe tbody tr th {\n",
       "        vertical-align: top;\n",
       "    }\n",
       "\n",
       "    .dataframe thead th {\n",
       "        text-align: right;\n",
       "    }\n",
       "</style>\n",
       "<table border=\"1\" class=\"dataframe\">\n",
       "  <thead>\n",
       "    <tr style=\"text-align: right;\">\n",
       "      <th></th>\n",
       "      <th>Lane Miles</th>\n",
       "    </tr>\n",
       "    <tr>\n",
       "      <th>Facility Group</th>\n",
       "      <th></th>\n",
       "    </tr>\n",
       "  </thead>\n",
       "  <tbody>\n",
       "    <tr>\n",
       "      <th>Freeway</th>\n",
       "      <td>2,410</td>\n",
       "    </tr>\n",
       "    <tr>\n",
       "      <th>Expressway</th>\n",
       "      <td>724</td>\n",
       "    </tr>\n",
       "    <tr>\n",
       "      <th>Urban Arterial</th>\n",
       "      <td>6,941</td>\n",
       "    </tr>\n",
       "    <tr>\n",
       "      <th>One-way Arterial</th>\n",
       "      <td>452</td>\n",
       "    </tr>\n",
       "    <tr>\n",
       "      <th>Centroid Connector</th>\n",
       "      <td>9,848</td>\n",
       "    </tr>\n",
       "    <tr>\n",
       "      <th>Rural Arterial</th>\n",
       "      <td>3,347</td>\n",
       "    </tr>\n",
       "    <tr>\n",
       "      <th>Total</th>\n",
       "      <td>23,722</td>\n",
       "    </tr>\n",
       "  </tbody>\n",
       "</table>\n",
       "</div>"
      ],
      "text/plain": [
       "                    Lane Miles\n",
       "Facility Group                \n",
       "Freeway                  2,410\n",
       "Expressway                 724\n",
       "Urban Arterial           6,941\n",
       "One-way Arterial           452\n",
       "Centroid Connector       9,848\n",
       "Rural Arterial           3,347\n",
       "Total                   23,722"
      ]
     },
     "execution_count": 14,
     "metadata": {},
     "output_type": "execute_result"
    }
   ],
   "source": [
    "gdf['Facility Group'] = pd.Categorical(gdf['data3'].map(ul3_dict), \n",
    "                                      ordered=True,\n",
    "                                      categories=ul3_dict.values())\n",
    "\n",
    "df = gdf.groupby(['Facility Group'], observed=True)['Lane Miles'].sum().reset_index().set_index('Facility Group')\n",
    "\n",
    "df.loc['Total','Lane Miles'] = df['Lane Miles'].sum()\n",
    "df"
   ]
  },
  {
   "cell_type": "code",
   "execution_count": 15,
   "id": "8d870cd2",
   "metadata": {
    "execution": {
     "iopub.execute_input": "2025-08-04T18:29:16.959247Z",
     "iopub.status.busy": "2025-08-04T18:29:16.958250Z",
     "iopub.status.idle": "2025-08-04T18:29:16.977964Z",
     "shell.execute_reply": "2025-08-04T18:29:16.976963Z"
    }
   },
   "outputs": [
    {
     "data": {
      "text/html": [
       "<div>\n",
       "<style scoped>\n",
       "    .dataframe tbody tr th:only-of-type {\n",
       "        vertical-align: middle;\n",
       "    }\n",
       "\n",
       "    .dataframe tbody tr th {\n",
       "        vertical-align: top;\n",
       "    }\n",
       "\n",
       "    .dataframe thead th {\n",
       "        text-align: right;\n",
       "    }\n",
       "</style>\n",
       "<table border=\"1\" class=\"dataframe\">\n",
       "  <thead>\n",
       "    <tr style=\"text-align: right;\">\n",
       "      <th></th>\n",
       "      <th>Lane Miles</th>\n",
       "    </tr>\n",
       "    <tr>\n",
       "      <th>county</th>\n",
       "      <th></th>\n",
       "    </tr>\n",
       "  </thead>\n",
       "  <tbody>\n",
       "    <tr>\n",
       "      <th>King</th>\n",
       "      <td>10,942</td>\n",
       "    </tr>\n",
       "    <tr>\n",
       "      <th>Kitsap</th>\n",
       "      <td>2,046</td>\n",
       "    </tr>\n",
       "    <tr>\n",
       "      <th>Pierce</th>\n",
       "      <td>5,880</td>\n",
       "    </tr>\n",
       "    <tr>\n",
       "      <th>Snohomish</th>\n",
       "      <td>4,849</td>\n",
       "    </tr>\n",
       "    <tr>\n",
       "      <th>Total</th>\n",
       "      <td>23,717</td>\n",
       "    </tr>\n",
       "  </tbody>\n",
       "</table>\n",
       "</div>"
      ],
      "text/plain": [
       "           Lane Miles\n",
       "county               \n",
       "King           10,942\n",
       "Kitsap          2,046\n",
       "Pierce          5,880\n",
       "Snohomish       4,849\n",
       "Total          23,717"
      ]
     },
     "execution_count": 15,
     "metadata": {},
     "output_type": "execute_result"
    }
   ],
   "source": [
    "# Load link attributes and join\n",
    "gdf['county'] = gdf['county'].replace(np.nan,'Outside Region')\n",
    "df = gdf.groupby(['county'], observed=True)['Lane Miles'].sum().reset_index().set_index('county')\n",
    "df = df[df.index!=\"Outside Region\"]\n",
    "\n",
    "df.loc['Total','Lane Miles'] = df['Lane Miles'].sum()\n",
    "df"
   ]
  },
  {
   "cell_type": "markdown",
   "id": "60b37b1d",
   "metadata": {},
   "source": [
    "# Person Metrics"
   ]
  },
  {
   "cell_type": "code",
   "execution_count": 16,
   "id": "2a1c72f4",
   "metadata": {
    "execution": {
     "iopub.execute_input": "2025-08-04T18:29:16.983951Z",
     "iopub.status.busy": "2025-08-04T18:29:16.981955Z",
     "iopub.status.idle": "2025-08-04T18:29:19.673478Z",
     "shell.execute_reply": "2025-08-04T18:29:19.673478Z"
    }
   },
   "outputs": [],
   "source": [
    "# Daysim data\n",
    "import polars as pl\n",
    "trip = pl.read_csv(r'../../../../outputs/daysim/_trip.tsv',separator='\\t')\n",
    "person = pl.read_csv(r'../../../../outputs/daysim/_person.tsv',separator='\\t')\n",
    "hh = pl.read_csv(r'../../../../outputs/daysim/_household.tsv', separator='\\t')"
   ]
  },
  {
   "cell_type": "markdown",
   "id": "7d65b619",
   "metadata": {},
   "source": [
    "### Average Daily Miles Driven per Person"
   ]
  },
  {
   "cell_type": "code",
   "execution_count": 17,
   "id": "ef76380b",
   "metadata": {
    "execution": {
     "iopub.execute_input": "2025-08-04T18:29:19.676425Z",
     "iopub.status.busy": "2025-08-04T18:29:19.675428Z",
     "iopub.status.idle": "2025-08-04T18:29:19.827023Z",
     "shell.execute_reply": "2025-08-04T18:29:19.827023Z"
    }
   },
   "outputs": [
    {
     "name": "stdout",
     "output_type": "stream",
     "text": [
      "Average Daily VMT per person, not including externals or trucks: 12.8\n"
     ]
    }
   ],
   "source": [
    "if 'sov_ff_time' in trip.columns:\n",
    "    drive_modes = [3, 4, 5]\n",
    "    vehicle_trips = trip[['mode', 'dorp', 'travtime', 'sov_ff_time', 'travdist']].filter(pl.col(\"mode\").is_in(drive_modes)).filter(pl.col(\"dorp\") == 1)\n",
    "    avg_vmt = vehicle_trips['travdist'].sum()/ person['psexpfac'].sum()\n",
    "    print(f'Average Daily VMT per person, not including externals or trucks: {avg_vmt:.1f}')"
   ]
  },
  {
   "cell_type": "markdown",
   "id": "04270429",
   "metadata": {},
   "source": [
    "### Hours of Congestion per Person per Year\n",
    "For average Puget Sound resident:"
   ]
  },
  {
   "cell_type": "code",
   "execution_count": 18,
   "id": "13b9c15e",
   "metadata": {
    "execution": {
     "iopub.execute_input": "2025-08-04T18:29:19.830015Z",
     "iopub.status.busy": "2025-08-04T18:29:19.830015Z",
     "iopub.status.idle": "2025-08-04T18:29:19.902022Z",
     "shell.execute_reply": "2025-08-04T18:29:19.902022Z"
    }
   },
   "outputs": [
    {
     "name": "stdout",
     "output_type": "stream",
     "text": [
      "Annual hours of delay for residents, not including externals or trucks is: 17.3\n"
     ]
    }
   ],
   "source": [
    "if 'sov_ff_time' in trip.columns:\n",
    "    drive_trips = trip[['mode', 'dorp', 'travtime', 'sov_ff_time', 'travdist']].filter(pl.col(\"mode\").is_in(drive_modes))\n",
    "    drive_trips = drive_trips.with_columns(\n",
    "        delay=pl.col('travtime')-(pl.col('sov_ff_time')/100.0))\n",
    "    minutes_to_hour = 60\n",
    "    drive_mode_delay = summary_config['weekday_to_annual']*(drive_trips['delay'].sum()/person['psexpfac'].sum())/minutes_to_hour\n",
    "    print(f'Annual hours of delay for residents, not including externals or trucks is: {drive_mode_delay:.1f}')"
   ]
  },
  {
   "cell_type": "markdown",
   "id": "4aff6395",
   "metadata": {},
   "source": [
    "### Annual Hours of Delay by Average Truck\n",
    "Average annual delay (hours) per truck trip in and through the region:"
   ]
  },
  {
   "cell_type": "code",
   "execution_count": 19,
   "id": "ffcb28e6",
   "metadata": {
    "execution": {
     "iopub.execute_input": "2025-08-04T18:29:19.904011Z",
     "iopub.status.busy": "2025-08-04T18:29:19.904011Z",
     "iopub.status.idle": "2025-08-04T18:29:19.906832Z",
     "shell.execute_reply": "2025-08-04T18:29:19.906832Z"
    }
   },
   "outputs": [],
   "source": [
    "# Total truck trips"
   ]
  },
  {
   "cell_type": "code",
   "execution_count": 20,
   "id": "4c80c1d9",
   "metadata": {
    "execution": {
     "iopub.execute_input": "2025-08-04T18:29:19.908823Z",
     "iopub.status.busy": "2025-08-04T18:29:19.908823Z",
     "iopub.status.idle": "2025-08-04T18:29:19.916735Z",
     "shell.execute_reply": "2025-08-04T18:29:19.916735Z"
    }
   },
   "outputs": [
    {
     "name": "stdout",
     "output_type": "stream",
     "text": [
      "21.6\n"
     ]
    }
   ],
   "source": [
    "# Load truck trips\n",
    "df = pd.read_csv(r'../../../../outputs/trucks/trucks_summary.csv',index_col=0)\n",
    "\n",
    "# Truck delay\n",
    "net_sum = pd.read_csv(r'../../../../outputs/network/delay_user_class.csv')\n",
    "\n",
    "# Annual delay hours\n",
    "daily_delay = net_sum[['@mveh','@hveh']].sum().sum()\n",
    "\n",
    "\n",
    "# total truck trips\n",
    "trips = df['prod'].sum()\n",
    "\n",
    "# average annual delay hours per truck\n",
    "x = (daily_delay*summary_config[\"weekday_to_annual\"])/trips\n",
    "print('{:0,.1f}'.format(x))"
   ]
  },
  {
   "cell_type": "markdown",
   "id": "aee2ebd1",
   "metadata": {},
   "source": [
    "*Medium trucks only:*"
   ]
  },
  {
   "cell_type": "code",
   "execution_count": 21,
   "id": "bccd76ac",
   "metadata": {
    "execution": {
     "iopub.execute_input": "2025-08-04T18:29:19.918723Z",
     "iopub.status.busy": "2025-08-04T18:29:19.918723Z",
     "iopub.status.idle": "2025-08-04T18:29:19.922380Z",
     "shell.execute_reply": "2025-08-04T18:29:19.922380Z"
    }
   },
   "outputs": [
    {
     "name": "stdout",
     "output_type": "stream",
     "text": [
      "14.2\n"
     ]
    }
   ],
   "source": [
    "x = (net_sum['@mveh'].sum()*summary_config[\"weekday_to_annual\"])/df.loc['mt','prod']\n",
    "print('{:0,.1f}'.format(x))"
   ]
  },
  {
   "cell_type": "markdown",
   "id": "d3e57620",
   "metadata": {},
   "source": [
    "*Heavy trucks only:*"
   ]
  },
  {
   "cell_type": "code",
   "execution_count": 22,
   "id": "04c4ce06",
   "metadata": {
    "execution": {
     "iopub.execute_input": "2025-08-04T18:29:19.924371Z",
     "iopub.status.busy": "2025-08-04T18:29:19.924371Z",
     "iopub.status.idle": "2025-08-04T18:29:19.927418Z",
     "shell.execute_reply": "2025-08-04T18:29:19.927418Z"
    }
   },
   "outputs": [
    {
     "name": "stdout",
     "output_type": "stream",
     "text": [
      "45.4\n"
     ]
    }
   ],
   "source": [
    "x = (net_sum['@hveh'].sum()*summary_config[\"weekday_to_annual\"])/df.loc['ht','prod']\n",
    "print ('{:0,.1f}'.format(x))"
   ]
  },
  {
   "cell_type": "markdown",
   "id": "718c6944",
   "metadata": {},
   "source": [
    "## % Population Walking or Biking for Transportation"
   ]
  },
  {
   "cell_type": "code",
   "execution_count": 23,
   "id": "ecf93c53",
   "metadata": {
    "execution": {
     "iopub.execute_input": "2025-08-04T18:29:19.929408Z",
     "iopub.status.busy": "2025-08-04T18:29:19.929408Z",
     "iopub.status.idle": "2025-08-04T18:29:22.979221Z",
     "shell.execute_reply": "2025-08-04T18:29:22.979221Z"
    }
   },
   "outputs": [
    {
     "name": "stdout",
     "output_type": "stream",
     "text": [
      "Percent of population with at least one non-exercise walk or bike trip: 32.1%\n"
     ]
    }
   ],
   "source": [
    "trip_person = trip.join(person, on=[\"hhno\", \"pno\"], how=\"left\")\n",
    "bike_walk_trips = trip_person.filter(pl.col(\"mode\").is_in([1, 2]))\n",
    "\n",
    "# Get unique persons with at least one bike/walk trip\n",
    "bike_walk_persons = bike_walk_trips.select([\"hhno\", \"pno\"]).unique()\n",
    "bike_walk_persons = bike_walk_persons.with_columns(bike_walk=pl.lit(True))\n",
    "\n",
    "# Join back to all persons, mark bike_walk as False if not present\n",
    "person_with_bike_walk = person.join(bike_walk_persons, on=[\"hhno\", \"pno\"], how=\"left\")\n",
    "person_with_bike_walk = person_with_bike_walk.with_columns(\n",
    "    pl.col(\"bike_walk\").fill_null(False)\n",
    ")\n",
    "\n",
    "# Calculate share\n",
    "share = (\n",
    "    person_with_bike_walk.group_by(\"bike_walk\")\n",
    "    .agg(pl.col(\"psexpfac\").sum())\n",
    "    .with_columns(\n",
    "        (pl.col(\"psexpfac\") / pl.col(\"psexpfac\").sum()).alias(\"share\")\n",
    "    )\n",
    ")\n",
    "print(\"Percent of population with at least one non-exercise walk or bike trip: {:.1%}\".format(share.filter(pl.col(\"bike_walk\") == True)[\"share\"][0]))"
   ]
  },
  {
   "cell_type": "markdown",
   "id": "62979b5b",
   "metadata": {},
   "source": [
    "## Household and Jobs within 1/4 mile transit"
   ]
  },
  {
   "cell_type": "code",
   "execution_count": 24,
   "id": "2982aa81",
   "metadata": {
    "execution": {
     "iopub.execute_input": "2025-08-04T18:29:22.981289Z",
     "iopub.status.busy": "2025-08-04T18:29:22.981289Z",
     "iopub.status.idle": "2025-08-04T18:29:22.985374Z",
     "shell.execute_reply": "2025-08-04T18:29:22.985374Z"
    }
   },
   "outputs": [],
   "source": [
    "# Network data\n",
    "df = pd.read_csv(r'../../../../outputs/transit/transit_access.csv',index_col=0)"
   ]
  },
  {
   "cell_type": "markdown",
   "id": "35721244",
   "metadata": {},
   "source": [
    "**Households**"
   ]
  },
  {
   "cell_type": "code",
   "execution_count": 25,
   "id": "35af0dff",
   "metadata": {
    "execution": {
     "iopub.execute_input": "2025-08-04T18:29:22.987416Z",
     "iopub.status.busy": "2025-08-04T18:29:22.986901Z",
     "iopub.status.idle": "2025-08-04T18:29:22.990500Z",
     "shell.execute_reply": "2025-08-04T18:29:22.990500Z"
    }
   },
   "outputs": [
    {
     "name": "stdout",
     "output_type": "stream",
     "text": [
      "1,371,859 households within 1/4 mile of transit\n",
      "56.7% of total households\n"
     ]
    }
   ],
   "source": [
    "x = df.loc['hh_p','quarter_mile_transit']\n",
    "print('{:,.0f}'.format(x) + (\" households within 1/4 mile of transit\"))\n",
    "x = df.loc['hh_p','quarter_mile_transit']/df.loc['hh_p','total']\n",
    "print('{:,.1%}'.format(x) + (\" of total households\"))"
   ]
  },
  {
   "cell_type": "markdown",
   "id": "d570c6e5",
   "metadata": {},
   "source": [
    "**Jobs**"
   ]
  },
  {
   "cell_type": "code",
   "execution_count": 26,
   "id": "ce39bf06",
   "metadata": {
    "execution": {
     "iopub.execute_input": "2025-08-04T18:29:22.992033Z",
     "iopub.status.busy": "2025-08-04T18:29:22.992033Z",
     "iopub.status.idle": "2025-08-04T18:29:22.995100Z",
     "shell.execute_reply": "2025-08-04T18:29:22.995100Z"
    }
   },
   "outputs": [
    {
     "name": "stdout",
     "output_type": "stream",
     "text": [
      "2,385,314 jobs within 1/4 mile of transit\n",
      "43.4% of total jobs\n"
     ]
    }
   ],
   "source": [
    "x = df.loc['emptot_p','quarter_mile_transit']\n",
    "print('{:,.0f}'.format(x) + (\" jobs within 1/4 mile of transit\"))\n",
    "x = df.loc['hh_p','quarter_mile_transit']/df.loc['emptot_p','total']\n",
    "print('{:,.1%}'.format(x) + (\" of total jobs\"))"
   ]
  }
 ],
 "metadata": {
  "kernelspec": {
   "display_name": "summary",
   "language": "python",
   "name": "python3"
  },
  "language_info": {
   "codemirror_mode": {
    "name": "ipython",
    "version": 3
   },
   "file_extension": ".py",
   "mimetype": "text/x-python",
   "name": "python",
   "nbconvert_exporter": "python",
   "pygments_lexer": "ipython3",
   "version": "3.11.12"
  }
 },
 "nbformat": 4,
 "nbformat_minor": 5
}
