{
 "cells": [
  {
   "cell_type": "raw",
   "id": "daadae17",
   "metadata": {
    "vscode": {
     "languageId": "raw"
    }
   },
   "source": [
    "---\n",
    "title: \"System Performance\"\n",
    "date: today\n",
    "---"
   ]
  },
  {
   "cell_type": "code",
   "execution_count": 1,
   "id": "d3920e17",
   "metadata": {
    "execution": {
     "iopub.execute_input": "2025-09-30T20:24:49.801256Z",
     "iopub.status.busy": "2025-09-30T20:24:49.800259Z",
     "iopub.status.idle": "2025-09-30T20:24:51.108321Z",
     "shell.execute_reply": "2025-09-30T20:24:51.107321Z"
    }
   },
   "outputs": [],
   "source": [
    "import pandas as pd\n",
    "import numpy as np\n",
    "from pathlib import Path\n",
    "import polars as pl\n",
    "import util\n",
    "\n",
    "pd.set_option('display.float_format', '{:,.0f}'.format)"
   ]
  },
  {
   "cell_type": "code",
   "execution_count": 2,
   "id": "201d568a",
   "metadata": {
    "execution": {
     "iopub.execute_input": "2025-09-30T20:24:51.113307Z",
     "iopub.status.busy": "2025-09-30T20:24:51.113307Z",
     "iopub.status.idle": "2025-09-30T20:25:15.899345Z",
     "shell.execute_reply": "2025-09-30T20:25:15.898352Z"
    }
   },
   "outputs": [],
   "source": [
    "# trip data\n",
    "hh = pd.read_csv(util.output_path / 'agg/dash/hh_geog.csv')\n",
    "# person data\n",
    "person = pd.read_csv(util.output_path / 'agg/dash/pptyp_county.csv')\n",
    "# worker data\n",
    "employment = pd.read_csv(util.output_path / 'agg/dash/person_worker_type.csv')\n",
    "# network data\n",
    "df_network = util.process_network_summary()\n",
    "# job data\n",
    "df_lu = util.get_parcels_urbansim_data(inc_geog=True)\n"
   ]
  },
  {
   "cell_type": "code",
   "execution_count": 3,
   "id": "dde6f65a",
   "metadata": {
    "execution": {
     "iopub.execute_input": "2025-09-30T20:25:15.904331Z",
     "iopub.status.busy": "2025-09-30T20:25:15.904331Z",
     "iopub.status.idle": "2025-09-30T20:25:15.978273Z",
     "shell.execute_reply": "2025-09-30T20:25:15.977281Z"
    }
   },
   "outputs": [],
   "source": [
    "county_order = ['King','Kitsap','Pierce','Snohomish','Outside Region','Total']\n",
    "\n",
    "person['person_county'] = pd.Categorical(person['person_county'], ordered=True,\n",
    "                   categories=county_order)\n",
    "hh['hh_county'] = pd.Categorical(hh['hh_county'], ordered=True,\n",
    "                   categories=county_order)\n",
    "employment['person_work_county'] = pd.Categorical(employment['person_work_county'], ordered=True,\n",
    "                   categories=county_order)\n",
    "\n",
    "df_network['county'] = pd.Categorical(df_network['county'], ordered=True,\n",
    "                   categories=county_order)"
   ]
  },
  {
   "cell_type": "code",
   "execution_count": 4,
   "id": "9c224430",
   "metadata": {
    "execution": {
     "iopub.execute_input": "2025-09-30T20:25:15.982263Z",
     "iopub.status.busy": "2025-09-30T20:25:15.982263Z",
     "iopub.status.idle": "2025-09-30T20:25:17.752288Z",
     "shell.execute_reply": "2025-09-30T20:25:17.751138Z"
    }
   },
   "outputs": [],
   "source": [
    "#| label: total_vmt_vht_delay_by_county\n",
    "\n",
    "df_vmt = df_network.reset_index().groupby('county',observed=True)['VMT'].sum()\n",
    "df_vht = df_network.reset_index().groupby('county',observed=True)['VHT'].sum()\n",
    "df_delay = df_network.reset_index().groupby('county',observed=True)['total_delay'].sum()\n",
    "\n",
    "df = pd.concat([df_vmt,df_vht,df_delay], axis=1)\n",
    "df = df[df.index!='Outside Region']\n",
    "df.rename(columns={'total_delay': 'Total Delay Hours'}, inplace=True)\n",
    "\n",
    "df.loc['Total',] = df.sum()\n",
    "total_vmt = df.loc['Total','VMT']\n",
    "\n",
    "# df.style.format('{:,.0f}')"
   ]
  },
  {
   "cell_type": "markdown",
   "id": "1efd72ff",
   "metadata": {},
   "source": [
    "## Households, Population and Vehicles"
   ]
  },
  {
   "cell_type": "code",
   "execution_count": 5,
   "id": "cd67ae03",
   "metadata": {
    "execution": {
     "iopub.execute_input": "2025-09-30T20:25:17.757596Z",
     "iopub.status.busy": "2025-09-30T20:25:17.757083Z",
     "iopub.status.idle": "2025-09-30T20:25:17.806356Z",
     "shell.execute_reply": "2025-09-30T20:25:17.805357Z"
    }
   },
   "outputs": [],
   "source": [
    "auto_ownership = pd.read_csv(util.output_path / 'agg/dash/auto_ownership.csv')\n",
    "df_vehicle = auto_ownership.groupby('hh_county', observed=True).apply(lambda x: (x['hhvehs'] * x['hhexpfac']).sum(),include_groups=False)\n",
    "df_vehicle.name = 'Vehicles'"
   ]
  },
  {
   "cell_type": "code",
   "execution_count": 6,
   "id": "27a89aea",
   "metadata": {
    "execution": {
     "iopub.execute_input": "2025-09-30T20:25:17.811343Z",
     "iopub.status.busy": "2025-09-30T20:25:17.810346Z",
     "iopub.status.idle": "2025-09-30T20:25:17.853305Z",
     "shell.execute_reply": "2025-09-30T20:25:17.852310Z"
    }
   },
   "outputs": [
    {
     "data": {
      "text/html": [
       "<div>\n",
       "<style scoped>\n",
       "    .dataframe tbody tr th:only-of-type {\n",
       "        vertical-align: middle;\n",
       "    }\n",
       "\n",
       "    .dataframe tbody tr th {\n",
       "        vertical-align: top;\n",
       "    }\n",
       "\n",
       "    .dataframe thead th {\n",
       "        text-align: right;\n",
       "    }\n",
       "</style>\n",
       "<table border=\"1\" class=\"dataframe\">\n",
       "  <thead>\n",
       "    <tr style=\"text-align: right;\">\n",
       "      <th></th>\n",
       "      <th>Persons</th>\n",
       "      <th>Households</th>\n",
       "      <th>Vehicles</th>\n",
       "    </tr>\n",
       "  </thead>\n",
       "  <tbody>\n",
       "    <tr>\n",
       "      <th>King</th>\n",
       "      <td>2,988,576</td>\n",
       "      <td>1,288,286</td>\n",
       "      <td>1,905,840</td>\n",
       "    </tr>\n",
       "    <tr>\n",
       "      <th>Kitsap</th>\n",
       "      <td>354,278</td>\n",
       "      <td>150,087</td>\n",
       "      <td>284,954</td>\n",
       "    </tr>\n",
       "    <tr>\n",
       "      <th>Pierce</th>\n",
       "      <td>1,237,605</td>\n",
       "      <td>500,664</td>\n",
       "      <td>872,066</td>\n",
       "    </tr>\n",
       "    <tr>\n",
       "      <th>Snohomish</th>\n",
       "      <td>1,207,372</td>\n",
       "      <td>482,015</td>\n",
       "      <td>856,924</td>\n",
       "    </tr>\n",
       "    <tr>\n",
       "      <th>Total</th>\n",
       "      <td>5,787,831</td>\n",
       "      <td>2,421,052</td>\n",
       "      <td>3,919,784</td>\n",
       "    </tr>\n",
       "  </tbody>\n",
       "</table>\n",
       "</div>"
      ],
      "text/plain": [
       "            Persons  Households  Vehicles\n",
       "King      2,988,576   1,288,286 1,905,840\n",
       "Kitsap      354,278     150,087   284,954\n",
       "Pierce    1,237,605     500,664   872,066\n",
       "Snohomish 1,207,372     482,015   856,924\n",
       "Total     5,787,831   2,421,052 3,919,784"
      ]
     },
     "execution_count": 6,
     "metadata": {},
     "output_type": "execute_result"
    }
   ],
   "source": [
    "# Total Population\n",
    "df_person = person[['person_county','psexpfac']].groupby('person_county', observed=True)['psexpfac'].sum()\n",
    "df_person.name = 'Persons'\n",
    "df_hh = hh[['hh_county','hhexpfac']].groupby('hh_county', observed=True)['hhexpfac'].sum()\n",
    "df_hh.name = 'Households'\n",
    "\n",
    "df = pd.concat([df_person,df_hh,df_vehicle],axis=1)\n",
    "df = df[df.index!='Outside Region']\n",
    "\n",
    "df.loc['Total',] = df.sum()\n",
    "\n",
    "df"
   ]
  },
  {
   "cell_type": "markdown",
   "id": "06ccfcc1",
   "metadata": {},
   "source": [
    "## Workers and Jobs\n",
    "By Workplace Location\n",
    "\n",
    "Workers are Daysim outputs and Jobs are Parcel Inputs"
   ]
  },
  {
   "cell_type": "code",
   "execution_count": 7,
   "id": "ae178021",
   "metadata": {
    "execution": {
     "iopub.execute_input": "2025-09-30T20:25:17.858292Z",
     "iopub.status.busy": "2025-09-30T20:25:17.858292Z",
     "iopub.status.idle": "2025-09-30T20:25:17.988718Z",
     "shell.execute_reply": "2025-09-30T20:25:17.987719Z"
    }
   },
   "outputs": [
    {
     "data": {
      "text/html": [
       "<div>\n",
       "<style scoped>\n",
       "    .dataframe tbody tr th:only-of-type {\n",
       "        vertical-align: middle;\n",
       "    }\n",
       "\n",
       "    .dataframe tbody tr th {\n",
       "        vertical-align: top;\n",
       "    }\n",
       "\n",
       "    .dataframe thead th {\n",
       "        text-align: right;\n",
       "    }\n",
       "</style>\n",
       "<table border=\"1\" class=\"dataframe\">\n",
       "  <thead>\n",
       "    <tr style=\"text-align: right;\">\n",
       "      <th></th>\n",
       "      <th>County</th>\n",
       "      <th>Workers</th>\n",
       "      <th>Jobs</th>\n",
       "    </tr>\n",
       "  </thead>\n",
       "  <tbody>\n",
       "    <tr>\n",
       "      <th>0</th>\n",
       "      <td>King</td>\n",
       "      <td>1,847,733</td>\n",
       "      <td>2,048,436</td>\n",
       "    </tr>\n",
       "    <tr>\n",
       "      <th>1</th>\n",
       "      <td>Kitsap</td>\n",
       "      <td>144,156</td>\n",
       "      <td>147,104</td>\n",
       "    </tr>\n",
       "    <tr>\n",
       "      <th>2</th>\n",
       "      <td>Pierce</td>\n",
       "      <td>476,045</td>\n",
       "      <td>472,355</td>\n",
       "    </tr>\n",
       "    <tr>\n",
       "      <th>3</th>\n",
       "      <td>Snohomish</td>\n",
       "      <td>484,229</td>\n",
       "      <td>493,145</td>\n",
       "    </tr>\n",
       "    <tr>\n",
       "      <th>4</th>\n",
       "      <td>Outside Region</td>\n",
       "      <td>1</td>\n",
       "      <td>0</td>\n",
       "    </tr>\n",
       "    <tr>\n",
       "      <th>5</th>\n",
       "      <td>Region</td>\n",
       "      <td>2,952,164</td>\n",
       "      <td>3,161,040</td>\n",
       "    </tr>\n",
       "  </tbody>\n",
       "</table>\n",
       "</div>"
      ],
      "text/plain": [
       "           County   Workers      Jobs\n",
       "0            King 1,847,733 2,048,436\n",
       "1          Kitsap   144,156   147,104\n",
       "2          Pierce   476,045   472,355\n",
       "3       Snohomish   484,229   493,145\n",
       "4  Outside Region         1         0\n",
       "5          Region 2,952,164 3,161,040"
      ]
     },
     "execution_count": 7,
     "metadata": {},
     "output_type": "execute_result"
    }
   ],
   "source": [
    "# Jobs\n",
    "df_jobs = df_lu[['emptot_p','CountyName']].groupby('CountyName').sum()[['emptot_p']]\n",
    "df_jobs = df_jobs.reset_index()\n",
    "df_jobs.rename(columns={'emptot_p': 'Jobs',\n",
    "                   'CountyName':'County'}, inplace=True)\n",
    "df_jobs.set_index('County')\n",
    "df_jobs['Jobs'] = df_jobs['Jobs'].astype('float')\n",
    "\n",
    "# workers\n",
    "df = employment.groupby('person_work_county',observed=True)['psexpfac'].sum()\n",
    "\n",
    "df = df.reset_index()\n",
    "df.rename(columns={'psexpfac': 'Workers',\n",
    "                   'person_work_county':'County'}, inplace=True)\n",
    "df.set_index('County')\n",
    "df['Workers'] = df['Workers'].astype('float')\n",
    "df = df.merge(df_jobs, on='County')\n",
    "\n",
    "df.loc['Total',:] = df.sum(axis=0, numeric_only=True)\n",
    "\n",
    "df.loc['Total','County'] = 'Region'\n",
    "df.reset_index(drop=True)"
   ]
  },
  {
   "cell_type": "markdown",
   "id": "d20d3995",
   "metadata": {},
   "source": [
    "## VMT by Type"
   ]
  },
  {
   "cell_type": "code",
   "execution_count": 8,
   "id": "dd92cd5a",
   "metadata": {
    "execution": {
     "iopub.execute_input": "2025-09-30T20:25:17.993705Z",
     "iopub.status.busy": "2025-09-30T20:25:17.992707Z",
     "iopub.status.idle": "2025-09-30T20:25:18.083093Z",
     "shell.execute_reply": "2025-09-30T20:25:18.082094Z"
    }
   },
   "outputs": [
    {
     "data": {
      "text/html": [
       "<div>\n",
       "<style scoped>\n",
       "    .dataframe tbody tr th:only-of-type {\n",
       "        vertical-align: middle;\n",
       "    }\n",
       "\n",
       "    .dataframe tbody tr th {\n",
       "        vertical-align: top;\n",
       "    }\n",
       "\n",
       "    .dataframe thead th {\n",
       "        text-align: right;\n",
       "    }\n",
       "</style>\n",
       "<table border=\"1\" class=\"dataframe\">\n",
       "  <thead>\n",
       "    <tr style=\"text-align: right;\">\n",
       "      <th></th>\n",
       "      <th>VMT</th>\n",
       "    </tr>\n",
       "  </thead>\n",
       "  <tbody>\n",
       "    <tr>\n",
       "      <th>Resident</th>\n",
       "      <td>73,439,316</td>\n",
       "    </tr>\n",
       "    <tr>\n",
       "      <th>Medium Truck</th>\n",
       "      <td>5,362,460</td>\n",
       "    </tr>\n",
       "    <tr>\n",
       "      <th>Heavy Truck</th>\n",
       "      <td>7,101,250</td>\n",
       "    </tr>\n",
       "    <tr>\n",
       "      <th>External and Other</th>\n",
       "      <td>12,405,686</td>\n",
       "    </tr>\n",
       "    <tr>\n",
       "      <th>Total</th>\n",
       "      <td>98,308,712</td>\n",
       "    </tr>\n",
       "  </tbody>\n",
       "</table>\n",
       "</div>"
      ],
      "text/plain": [
       "                          VMT\n",
       "Resident           73,439,316\n",
       "Medium Truck        5,362,460\n",
       "Heavy Truck         7,101,250\n",
       "External and Other 12,405,686\n",
       "Total              98,308,712"
      ]
     },
     "execution_count": 8,
     "metadata": {},
     "output_type": "execute_result"
    }
   ],
   "source": [
    "vmt_df = pd.DataFrame()\n",
    "\n",
    "# Daysim Resident Demand\n",
    "df = pd.read_csv(util.output_path / 'agg/dash/person_vmt.csv')\n",
    "df = df[df['mode'].isin(['SOV','HOV2','HOV3+']) & df['dorp']==1]\n",
    "vmt_df.loc['Resident','VMT'] = df['travdist_wt'].sum()\n",
    "\n",
    "# Trucks\n",
    "df_network['medium_truck_vmt'] = df_network['@medium_truck']*df_network['length']\n",
    "df_network['heavy_truck_vmt'] = df_network['@heavy_truck']*df_network['length']\n",
    "\n",
    "vmt_df.loc['Medium Truck','VMT'] = df_network['medium_truck_vmt'].sum()\n",
    "vmt_df.loc['Heavy Truck','VMT'] = df_network['heavy_truck_vmt'].sum()\n",
    "\n",
    "# Externals\n",
    "external_vmt = total_vmt - vmt_df['VMT'].sum()\n",
    "vmt_df.loc['External and Other'] = external_vmt\n",
    "\n",
    "vmt_df.loc['Total'] = total_vmt\n",
    "vmt_df"
   ]
  },
  {
   "cell_type": "markdown",
   "id": "8bffbf51",
   "metadata": {},
   "source": [
    "## Vehicle Trips (Resident + External)"
   ]
  },
  {
   "cell_type": "code",
   "execution_count": 9,
   "id": "d2df4b19",
   "metadata": {
    "execution": {
     "iopub.execute_input": "2025-09-30T20:25:18.088080Z",
     "iopub.status.busy": "2025-09-30T20:25:18.088080Z",
     "iopub.status.idle": "2025-09-30T20:25:18.125254Z",
     "shell.execute_reply": "2025-09-30T20:25:18.124687Z"
    }
   },
   "outputs": [
    {
     "data": {
      "text/html": [
       "<div>\n",
       "<style scoped>\n",
       "    .dataframe tbody tr th:only-of-type {\n",
       "        vertical-align: middle;\n",
       "    }\n",
       "\n",
       "    .dataframe tbody tr th {\n",
       "        vertical-align: top;\n",
       "    }\n",
       "\n",
       "    .dataframe thead th {\n",
       "        text-align: right;\n",
       "    }\n",
       "</style>\n",
       "<table border=\"1\" class=\"dataframe\">\n",
       "  <thead>\n",
       "    <tr style=\"text-align: right;\">\n",
       "      <th></th>\n",
       "      <th>mode</th>\n",
       "      <th>trips</th>\n",
       "    </tr>\n",
       "  </thead>\n",
       "  <tbody>\n",
       "    <tr>\n",
       "      <th>0</th>\n",
       "      <td>Drive Alone</td>\n",
       "      <td>9,197,109</td>\n",
       "    </tr>\n",
       "    <tr>\n",
       "      <th>1</th>\n",
       "      <td>Shared Ride</td>\n",
       "      <td>3,889,537</td>\n",
       "    </tr>\n",
       "  </tbody>\n",
       "</table>\n",
       "</div>"
      ],
      "text/plain": [
       "          mode     trips\n",
       "0  Drive Alone 9,197,109\n",
       "1  Shared Ride 3,889,537"
      ]
     },
     "execution_count": 9,
     "metadata": {},
     "output_type": "execute_result"
    }
   ],
   "source": [
    "# Trips\n",
    "df = pd.read_csv(util.output_path / 'trips_by_class.csv')\n",
    "df.columns = ['class','trips','tod']\n",
    "df['mode'] = df['class'].map({'sov_inc1': 'Drive Alone',\n",
    "                 'sov_inc2': 'Drive Alone',\n",
    "                 'sov_inc3': 'Drive Alone',\n",
    "                 'hov2_inc1': 'Shared Ride',\n",
    "                 'hov2_inc2': 'Shared Ride',\n",
    "                 'hov2_inc3': 'Shared Ride',\n",
    "                 'hov3_inc1': 'Shared Ride',\n",
    "                 'hov3_inc2': 'Shared Ride',\n",
    "                 'hov3_inc3': 'Shared Ride'})\n",
    "df = df.groupby('mode').sum()[['trips']].reset_index()\n",
    "df"
   ]
  },
  {
   "cell_type": "markdown",
   "id": "5af7856f",
   "metadata": {},
   "source": [
    "## Emissions\n",
    "Daily Tons for light, medium, and heavy vehicles; bus vehicles are excluded."
   ]
  },
  {
   "cell_type": "code",
   "execution_count": 10,
   "id": "5bb9bbd9",
   "metadata": {
    "execution": {
     "iopub.execute_input": "2025-09-30T20:25:18.127854Z",
     "iopub.status.busy": "2025-09-30T20:25:18.127327Z",
     "iopub.status.idle": "2025-09-30T20:25:18.139008Z",
     "shell.execute_reply": "2025-09-30T20:25:18.139008Z"
    }
   },
   "outputs": [
    {
     "data": {
      "text/html": [
       "<div>\n",
       "<style scoped>\n",
       "    .dataframe tbody tr th:only-of-type {\n",
       "        vertical-align: middle;\n",
       "    }\n",
       "\n",
       "    .dataframe tbody tr th {\n",
       "        vertical-align: top;\n",
       "    }\n",
       "\n",
       "    .dataframe thead th {\n",
       "        text-align: right;\n",
       "    }\n",
       "</style>\n",
       "<table border=\"1\" class=\"dataframe\">\n",
       "  <thead>\n",
       "    <tr style=\"text-align: right;\">\n",
       "      <th></th>\n",
       "      <th>Start</th>\n",
       "      <th>Intrazonal</th>\n",
       "      <th>Interzonal</th>\n",
       "      <th>Total Daily</th>\n",
       "    </tr>\n",
       "    <tr>\n",
       "      <th>pollutant_name</th>\n",
       "      <th></th>\n",
       "      <th></th>\n",
       "      <th></th>\n",
       "      <th></th>\n",
       "    </tr>\n",
       "  </thead>\n",
       "  <tbody>\n",
       "    <tr>\n",
       "      <th>CO</th>\n",
       "      <td>7</td>\n",
       "      <td>0</td>\n",
       "      <td>21</td>\n",
       "      <td>28</td>\n",
       "    </tr>\n",
       "    <tr>\n",
       "      <th>CO2 Equivalent</th>\n",
       "      <td>164</td>\n",
       "      <td>23</td>\n",
       "      <td>6,353</td>\n",
       "      <td>6,540</td>\n",
       "    </tr>\n",
       "    <tr>\n",
       "      <th>NOx</th>\n",
       "      <td>1</td>\n",
       "      <td>0</td>\n",
       "      <td>4</td>\n",
       "      <td>4</td>\n",
       "    </tr>\n",
       "    <tr>\n",
       "      <th>PM10 Total</th>\n",
       "      <td>0</td>\n",
       "      <td>0</td>\n",
       "      <td>5</td>\n",
       "      <td>5</td>\n",
       "    </tr>\n",
       "    <tr>\n",
       "      <th>PM25 Total</th>\n",
       "      <td>0</td>\n",
       "      <td>0</td>\n",
       "      <td>1</td>\n",
       "      <td>1</td>\n",
       "    </tr>\n",
       "  </tbody>\n",
       "</table>\n",
       "</div>"
      ],
      "text/plain": [
       "                Start  Intrazonal  Interzonal  Total Daily\n",
       "pollutant_name                                            \n",
       "CO                  7           0          21           28\n",
       "CO2 Equivalent    164          23       6,353        6,540\n",
       "NOx                 1           0           4            4\n",
       "PM10 Total          0           0           5            5\n",
       "PM25 Total          0           0           1            1"
      ]
     },
     "execution_count": 10,
     "metadata": {},
     "output_type": "execute_result"
    }
   ],
   "source": [
    "df = pd.read_csv(util.output_path / 'emissions/emissions_summary.csv')\n",
    "\n",
    "df = df[df['veh_type'].isin(['light','medium','heavy'])]\n",
    "df = df.groupby('pollutant_name').sum()\n",
    "df.rename(columns={'start_tons': 'Start', 'intrazonal_tons': 'Intrazonal', 'interzonal_tons': 'Interzonal',\n",
    "                  'total_daily_tons': 'Total Daily'},\n",
    "                  inplace=True)\n",
    "df = df.loc[df.index.isin(['CO','NOx','PM25 Total','PM10 Total','CO2 Equivalent']),\n",
    "            ['Start', 'Intrazonal', 'Interzonal', 'Total Daily']]\n",
    "\n",
    "df"
   ]
  },
  {
   "cell_type": "markdown",
   "id": "8a9feb28",
   "metadata": {},
   "source": [
    "## Lane Miles"
   ]
  },
  {
   "cell_type": "code",
   "execution_count": 11,
   "id": "c6efe75c",
   "metadata": {
    "execution": {
     "iopub.execute_input": "2025-09-30T20:25:18.142003Z",
     "iopub.status.busy": "2025-09-30T20:25:18.142003Z",
     "iopub.status.idle": "2025-09-30T20:25:18.146129Z",
     "shell.execute_reply": "2025-09-30T20:25:18.146129Z"
    }
   },
   "outputs": [],
   "source": [
    "facility_type_dict = {\n",
    "    1: 'Interstate',\n",
    "    2: 'Other Freeway',\n",
    "    3: 'Expressway',\n",
    "    4: 'Ramp',\n",
    "    5: 'Principal Arterial',\n",
    "    6: 'Minor Arterial',\n",
    "    7: 'Major Collector',\n",
    "    8: 'Minor Collector',\n",
    "    9: 'Local',\n",
    "    10: 'Busway',\n",
    "    11: 'Non-Motor',\n",
    "    12: 'Light Rail',\n",
    "    13: 'Commuter Rail',\n",
    "    15: 'Ferry',\n",
    "    16: 'Passenger-Only Ferry',\n",
    "    17: 'Centroid Connector',\n",
    "    18: 'Facility Connector',\n",
    "    19: 'HOV Only Freeway',\n",
    "    20: 'HOV Only Ramp',\n",
    "    98: 'Weave Links'\n",
    "}\n",
    "\n",
    "ul3_dict = {\n",
    "    0: 'Rail/Walk/Ferry',\n",
    "    1: 'Freeway',\n",
    "    2: 'Expressway',\n",
    "    3: 'Urban Arterial',\n",
    "    4: 'One-way Arterial',\n",
    "    5: 'Centroid Connector',\n",
    "    6: 'Rural Arterial'\n",
    "}\n",
    "\n",
    "county_dict = {\n",
    "    33: 'King',\n",
    "    35: 'Kitsap',\n",
    "    53: 'Pierce',\n",
    "    61: 'Snohomish'\n",
    "}"
   ]
  },
  {
   "cell_type": "code",
   "execution_count": 12,
   "id": "d54d541c",
   "metadata": {
    "execution": {
     "iopub.execute_input": "2025-09-30T20:25:18.149124Z",
     "iopub.status.busy": "2025-09-30T20:25:18.149124Z",
     "iopub.status.idle": "2025-09-30T20:25:18.310386Z",
     "shell.execute_reply": "2025-09-30T20:25:18.309393Z"
    }
   },
   "outputs": [
    {
     "data": {
      "text/html": [
       "<div>\n",
       "<style scoped>\n",
       "    .dataframe tbody tr th:only-of-type {\n",
       "        vertical-align: middle;\n",
       "    }\n",
       "\n",
       "    .dataframe tbody tr th {\n",
       "        vertical-align: top;\n",
       "    }\n",
       "\n",
       "    .dataframe thead th {\n",
       "        text-align: right;\n",
       "    }\n",
       "</style>\n",
       "<table border=\"1\" class=\"dataframe\">\n",
       "  <thead>\n",
       "    <tr style=\"text-align: right;\">\n",
       "      <th></th>\n",
       "      <th>Lane Miles</th>\n",
       "    </tr>\n",
       "    <tr>\n",
       "      <th>Facility Type</th>\n",
       "      <th></th>\n",
       "    </tr>\n",
       "  </thead>\n",
       "  <tbody>\n",
       "    <tr>\n",
       "      <th>Interstate</th>\n",
       "      <td>1,533</td>\n",
       "    </tr>\n",
       "    <tr>\n",
       "      <th>Other Freeway</th>\n",
       "      <td>862</td>\n",
       "    </tr>\n",
       "    <tr>\n",
       "      <th>Expressway</th>\n",
       "      <td>242</td>\n",
       "    </tr>\n",
       "    <tr>\n",
       "      <th>Ramp</th>\n",
       "      <td>550</td>\n",
       "    </tr>\n",
       "    <tr>\n",
       "      <th>Principal Arterial</th>\n",
       "      <td>3,167</td>\n",
       "    </tr>\n",
       "    <tr>\n",
       "      <th>Minor Arterial</th>\n",
       "      <td>4,081</td>\n",
       "    </tr>\n",
       "    <tr>\n",
       "      <th>Major Collector</th>\n",
       "      <td>2,927</td>\n",
       "    </tr>\n",
       "    <tr>\n",
       "      <th>Minor Collector</th>\n",
       "      <td>221</td>\n",
       "    </tr>\n",
       "    <tr>\n",
       "      <th>Local</th>\n",
       "      <td>307</td>\n",
       "    </tr>\n",
       "    <tr>\n",
       "      <th>Centroid Connector</th>\n",
       "      <td>9,831</td>\n",
       "    </tr>\n",
       "    <tr>\n",
       "      <th>Facility Connector</th>\n",
       "      <td>20</td>\n",
       "    </tr>\n",
       "    <tr>\n",
       "      <th>HOV Only Freeway</th>\n",
       "      <td>3</td>\n",
       "    </tr>\n",
       "    <tr>\n",
       "      <th>HOV Only Ramp</th>\n",
       "      <td>25</td>\n",
       "    </tr>\n",
       "    <tr>\n",
       "      <th>Total</th>\n",
       "      <td>23,770</td>\n",
       "    </tr>\n",
       "  </tbody>\n",
       "</table>\n",
       "</div>"
      ],
      "text/plain": [
       "                    Lane Miles\n",
       "Facility Type                 \n",
       "Interstate               1,533\n",
       "Other Freeway              862\n",
       "Expressway                 242\n",
       "Ramp                       550\n",
       "Principal Arterial       3,167\n",
       "Minor Arterial           4,081\n",
       "Major Collector          2,927\n",
       "Minor Collector            221\n",
       "Local                      307\n",
       "Centroid Connector       9,831\n",
       "Facility Connector          20\n",
       "HOV Only Freeway             3\n",
       "HOV Only Ramp               25\n",
       "Total                   23,770"
      ]
     },
     "execution_count": 12,
     "metadata": {},
     "output_type": "execute_result"
    }
   ],
   "source": [
    "# Select mid-day network\n",
    "gdf = df_network.loc[df_network['tod'] == '10to14'].copy()\n",
    "gdf['Lane Miles'] = gdf['length'] * gdf['num_lanes']\n",
    "\n",
    "gdf['Facility Type'] = pd.Categorical(gdf['@facilitytype'].map(facility_type_dict), \n",
    "                                      ordered=True,\n",
    "                                      categories=facility_type_dict.values())\n",
    "\n",
    "df = gdf.groupby(['Facility Type'], observed=True)['Lane Miles'].sum().reset_index().set_index('Facility Type')\n",
    "\n",
    "# df = df.drop(['@facilitytype','Facility Type'], axis=1)\n",
    "df.loc['Total','Lane Miles'] = df['Lane Miles'].sum()\n",
    "df"
   ]
  },
  {
   "cell_type": "code",
   "execution_count": 13,
   "id": "a435ca2a",
   "metadata": {
    "execution": {
     "iopub.execute_input": "2025-09-30T20:25:18.314379Z",
     "iopub.status.busy": "2025-09-30T20:25:18.314379Z",
     "iopub.status.idle": "2025-09-30T20:25:18.347506Z",
     "shell.execute_reply": "2025-09-30T20:25:18.346986Z"
    }
   },
   "outputs": [
    {
     "data": {
      "text/html": [
       "<div>\n",
       "<style scoped>\n",
       "    .dataframe tbody tr th:only-of-type {\n",
       "        vertical-align: middle;\n",
       "    }\n",
       "\n",
       "    .dataframe tbody tr th {\n",
       "        vertical-align: top;\n",
       "    }\n",
       "\n",
       "    .dataframe thead th {\n",
       "        text-align: right;\n",
       "    }\n",
       "</style>\n",
       "<table border=\"1\" class=\"dataframe\">\n",
       "  <thead>\n",
       "    <tr style=\"text-align: right;\">\n",
       "      <th></th>\n",
       "      <th>Lane Miles</th>\n",
       "    </tr>\n",
       "    <tr>\n",
       "      <th>Facility Group</th>\n",
       "      <th></th>\n",
       "    </tr>\n",
       "  </thead>\n",
       "  <tbody>\n",
       "    <tr>\n",
       "      <th>Freeway</th>\n",
       "      <td>2,396</td>\n",
       "    </tr>\n",
       "    <tr>\n",
       "      <th>Expressway</th>\n",
       "      <td>707</td>\n",
       "    </tr>\n",
       "    <tr>\n",
       "      <th>Urban Arterial</th>\n",
       "      <td>6,920</td>\n",
       "    </tr>\n",
       "    <tr>\n",
       "      <th>One-way Arterial</th>\n",
       "      <td>454</td>\n",
       "    </tr>\n",
       "    <tr>\n",
       "      <th>Centroid Connector</th>\n",
       "      <td>9,851</td>\n",
       "    </tr>\n",
       "    <tr>\n",
       "      <th>Rural Arterial</th>\n",
       "      <td>3,384</td>\n",
       "    </tr>\n",
       "    <tr>\n",
       "      <th>Total</th>\n",
       "      <td>23,711</td>\n",
       "    </tr>\n",
       "  </tbody>\n",
       "</table>\n",
       "</div>"
      ],
      "text/plain": [
       "                    Lane Miles\n",
       "Facility Group                \n",
       "Freeway                  2,396\n",
       "Expressway                 707\n",
       "Urban Arterial           6,920\n",
       "One-way Arterial           454\n",
       "Centroid Connector       9,851\n",
       "Rural Arterial           3,384\n",
       "Total                   23,711"
      ]
     },
     "execution_count": 13,
     "metadata": {},
     "output_type": "execute_result"
    }
   ],
   "source": [
    "gdf['Facility Group'] = pd.Categorical(gdf['data3'].map(ul3_dict), \n",
    "                                      ordered=True,\n",
    "                                      categories=ul3_dict.values())\n",
    "\n",
    "df = gdf.groupby(['Facility Group'], observed=True)['Lane Miles'].sum().reset_index().set_index('Facility Group')\n",
    "\n",
    "df.loc['Total','Lane Miles'] = df['Lane Miles'].sum()\n",
    "df"
   ]
  },
  {
   "cell_type": "code",
   "execution_count": 14,
   "id": "8d870cd2",
   "metadata": {
    "execution": {
     "iopub.execute_input": "2025-09-30T20:25:18.350046Z",
     "iopub.status.busy": "2025-09-30T20:25:18.349052Z",
     "iopub.status.idle": "2025-09-30T20:25:18.362174Z",
     "shell.execute_reply": "2025-09-30T20:25:18.362174Z"
    }
   },
   "outputs": [
    {
     "data": {
      "text/html": [
       "<div>\n",
       "<style scoped>\n",
       "    .dataframe tbody tr th:only-of-type {\n",
       "        vertical-align: middle;\n",
       "    }\n",
       "\n",
       "    .dataframe tbody tr th {\n",
       "        vertical-align: top;\n",
       "    }\n",
       "\n",
       "    .dataframe thead th {\n",
       "        text-align: right;\n",
       "    }\n",
       "</style>\n",
       "<table border=\"1\" class=\"dataframe\">\n",
       "  <thead>\n",
       "    <tr style=\"text-align: right;\">\n",
       "      <th></th>\n",
       "      <th>Lane Miles</th>\n",
       "    </tr>\n",
       "    <tr>\n",
       "      <th>county</th>\n",
       "      <th></th>\n",
       "    </tr>\n",
       "  </thead>\n",
       "  <tbody>\n",
       "    <tr>\n",
       "      <th>King</th>\n",
       "      <td>10,903</td>\n",
       "    </tr>\n",
       "    <tr>\n",
       "      <th>Kitsap</th>\n",
       "      <td>2,037</td>\n",
       "    </tr>\n",
       "    <tr>\n",
       "      <th>Pierce</th>\n",
       "      <td>5,946</td>\n",
       "    </tr>\n",
       "    <tr>\n",
       "      <th>Snohomish</th>\n",
       "      <td>4,817</td>\n",
       "    </tr>\n",
       "    <tr>\n",
       "      <th>Total</th>\n",
       "      <td>23,703</td>\n",
       "    </tr>\n",
       "  </tbody>\n",
       "</table>\n",
       "</div>"
      ],
      "text/plain": [
       "           Lane Miles\n",
       "county               \n",
       "King           10,903\n",
       "Kitsap          2,037\n",
       "Pierce          5,946\n",
       "Snohomish       4,817\n",
       "Total          23,703"
      ]
     },
     "execution_count": 14,
     "metadata": {},
     "output_type": "execute_result"
    }
   ],
   "source": [
    "# Load link attributes and join\n",
    "gdf['county'] = gdf['county'].replace(np.nan,'Outside Region')\n",
    "df = gdf.groupby(['county'], observed=True)['Lane Miles'].sum().reset_index().set_index('county')\n",
    "df = df[df.index!=\"Outside Region\"]\n",
    "\n",
    "df.loc['Total','Lane Miles'] = df['Lane Miles'].sum()\n",
    "df"
   ]
  },
  {
   "cell_type": "markdown",
   "id": "60b37b1d",
   "metadata": {},
   "source": [
    "# Person Metrics"
   ]
  },
  {
   "cell_type": "code",
   "execution_count": 15,
   "id": "2a1c72f4",
   "metadata": {
    "execution": {
     "iopub.execute_input": "2025-09-30T20:25:18.365169Z",
     "iopub.status.busy": "2025-09-30T20:25:18.365169Z",
     "iopub.status.idle": "2025-09-30T20:25:21.163075Z",
     "shell.execute_reply": "2025-09-30T20:25:21.163075Z"
    }
   },
   "outputs": [],
   "source": [
    "# Daysim data\n",
    "\n",
    "trip = pl.read_csv(util.output_path / 'daysim/_trip.tsv',separator='\\t')\n",
    "person = pl.read_csv(util.output_path / 'daysim/_person.tsv',separator='\\t')\n",
    "hh = pl.read_csv(util.output_path / 'daysim/_household.tsv', separator='\\t')"
   ]
  },
  {
   "cell_type": "markdown",
   "id": "7d65b619",
   "metadata": {},
   "source": [
    "### Average Daily Miles Driven per Person"
   ]
  },
  {
   "cell_type": "code",
   "execution_count": 16,
   "id": "ef76380b",
   "metadata": {
    "execution": {
     "iopub.execute_input": "2025-09-30T20:25:21.165066Z",
     "iopub.status.busy": "2025-09-30T20:25:21.165066Z",
     "iopub.status.idle": "2025-09-30T20:25:23.605780Z",
     "shell.execute_reply": "2025-09-30T20:25:23.604693Z"
    }
   },
   "outputs": [
    {
     "name": "stdout",
     "output_type": "stream",
     "text": [
      "Average Daily VMT per person, not including externals or trucks: 12.7\n"
     ]
    }
   ],
   "source": [
    "if 'sov_ff_time' in trip.columns:\n",
    "    drive_modes = [3, 4, 5]\n",
    "    vehicle_trips = trip[['mode', 'dorp', 'travtime', 'sov_ff_time', 'travdist']].filter(pl.col(\"mode\").is_in(drive_modes)).filter(pl.col(\"dorp\") == 1)\n",
    "    avg_vmt = vehicle_trips['travdist'].sum()/ person['psexpfac'].sum()\n",
    "    print(f'Average Daily VMT per person, not including externals or trucks: {avg_vmt:.1f}')"
   ]
  },
  {
   "cell_type": "markdown",
   "id": "04270429",
   "metadata": {},
   "source": [
    "### Hours of Congestion per Person per Year\n",
    "For average Puget Sound resident:"
   ]
  },
  {
   "cell_type": "code",
   "execution_count": 17,
   "id": "13b9c15e",
   "metadata": {
    "execution": {
     "iopub.execute_input": "2025-09-30T20:25:23.611806Z",
     "iopub.status.busy": "2025-09-30T20:25:23.611076Z",
     "iopub.status.idle": "2025-09-30T20:25:23.696372Z",
     "shell.execute_reply": "2025-09-30T20:25:23.696372Z"
    }
   },
   "outputs": [
    {
     "name": "stdout",
     "output_type": "stream",
     "text": [
      "Annual hours of delay for residents, not including externals or trucks is: 16.2\n"
     ]
    }
   ],
   "source": [
    "if 'sov_ff_time' in trip.columns:\n",
    "    drive_trips = trip[['mode', 'dorp', 'travtime', 'sov_ff_time', 'travdist']].filter(pl.col(\"mode\").is_in(drive_modes))\n",
    "    drive_trips = drive_trips.with_columns(\n",
    "        delay=pl.col('travtime')-(pl.col('sov_ff_time')/100.0))\n",
    "    minutes_to_hour = 60\n",
    "    drive_mode_delay = util.summary_config['weekday_to_annual']*(drive_trips['delay'].sum()/person['psexpfac'].sum())/minutes_to_hour\n",
    "    print(f'Annual hours of delay for residents, not including externals or trucks is: {drive_mode_delay:.1f}')"
   ]
  },
  {
   "cell_type": "markdown",
   "id": "4aff6395",
   "metadata": {},
   "source": [
    "### Annual Hours of Delay by Average Truck\n",
    "Average annual delay (hours) per truck trip in and through the region:"
   ]
  },
  {
   "cell_type": "code",
   "execution_count": 18,
   "id": "ffcb28e6",
   "metadata": {
    "execution": {
     "iopub.execute_input": "2025-09-30T20:25:23.698364Z",
     "iopub.status.busy": "2025-09-30T20:25:23.698364Z",
     "iopub.status.idle": "2025-09-30T20:25:23.700876Z",
     "shell.execute_reply": "2025-09-30T20:25:23.700876Z"
    }
   },
   "outputs": [],
   "source": [
    "# Total truck trips"
   ]
  },
  {
   "cell_type": "code",
   "execution_count": 19,
   "id": "4c80c1d9",
   "metadata": {
    "execution": {
     "iopub.execute_input": "2025-09-30T20:25:23.702874Z",
     "iopub.status.busy": "2025-09-30T20:25:23.701877Z",
     "iopub.status.idle": "2025-09-30T20:25:23.728693Z",
     "shell.execute_reply": "2025-09-30T20:25:23.728693Z"
    }
   },
   "outputs": [
    {
     "name": "stdout",
     "output_type": "stream",
     "text": [
      "22.5\n"
     ]
    }
   ],
   "source": [
    "# Load truck trips\n",
    "df = pd.read_csv(util.output_path / 'trucks/trucks_summary.csv',index_col=0)\n",
    "\n",
    "# Truck delay\n",
    "net_sum = pd.read_csv(util.output_path / 'network/delay_user_class.csv')\n",
    "\n",
    "# Annual delay hours\n",
    "daily_delay = net_sum[['@mveh','@hveh']].sum().sum()\n",
    "\n",
    "\n",
    "# total truck trips\n",
    "trips = df['prod'].sum()\n",
    "\n",
    "# average annual delay hours per truck\n",
    "x = (daily_delay*util.summary_config[\"weekday_to_annual\"])/trips\n",
    "print('{:0,.1f}'.format(x))"
   ]
  },
  {
   "cell_type": "markdown",
   "id": "aee2ebd1",
   "metadata": {},
   "source": [
    "*Medium trucks only:*"
   ]
  },
  {
   "cell_type": "code",
   "execution_count": 20,
   "id": "bccd76ac",
   "metadata": {
    "execution": {
     "iopub.execute_input": "2025-09-30T20:25:23.730685Z",
     "iopub.status.busy": "2025-09-30T20:25:23.730685Z",
     "iopub.status.idle": "2025-09-30T20:25:23.735485Z",
     "shell.execute_reply": "2025-09-30T20:25:23.735485Z"
    }
   },
   "outputs": [
    {
     "name": "stdout",
     "output_type": "stream",
     "text": [
      "14.6\n"
     ]
    }
   ],
   "source": [
    "x = (net_sum['@mveh'].sum()*util.summary_config[\"weekday_to_annual\"])/df.loc['mt','prod']\n",
    "print('{:0,.1f}'.format(x))"
   ]
  },
  {
   "cell_type": "markdown",
   "id": "d3e57620",
   "metadata": {},
   "source": [
    "*Heavy trucks only:*"
   ]
  },
  {
   "cell_type": "code",
   "execution_count": 21,
   "id": "04c4ce06",
   "metadata": {
    "execution": {
     "iopub.execute_input": "2025-09-30T20:25:23.738480Z",
     "iopub.status.busy": "2025-09-30T20:25:23.738480Z",
     "iopub.status.idle": "2025-09-30T20:25:23.743208Z",
     "shell.execute_reply": "2025-09-30T20:25:23.743208Z"
    }
   },
   "outputs": [
    {
     "name": "stdout",
     "output_type": "stream",
     "text": [
      "47.8\n"
     ]
    }
   ],
   "source": [
    "x = (net_sum['@hveh'].sum()*util.summary_config[\"weekday_to_annual\"])/df.loc['ht','prod']\n",
    "print ('{:0,.1f}'.format(x))"
   ]
  },
  {
   "cell_type": "markdown",
   "id": "718c6944",
   "metadata": {},
   "source": [
    "## % Population Walking or Biking for Transportation"
   ]
  },
  {
   "cell_type": "code",
   "execution_count": 22,
   "id": "ecf93c53",
   "metadata": {
    "execution": {
     "iopub.execute_input": "2025-09-30T20:25:23.747201Z",
     "iopub.status.busy": "2025-09-30T20:25:23.747201Z",
     "iopub.status.idle": "2025-09-30T20:25:26.660624Z",
     "shell.execute_reply": "2025-09-30T20:25:26.660624Z"
    }
   },
   "outputs": [
    {
     "name": "stdout",
     "output_type": "stream",
     "text": [
      "Percent of population with at least one non-exercise walk or bike trip: 32.2%\n"
     ]
    }
   ],
   "source": [
    "trip_person = trip.join(person, on=[\"hhno\", \"pno\"], how=\"left\")\n",
    "bike_walk_trips = trip_person.filter(pl.col(\"mode\").is_in([1, 2]))\n",
    "\n",
    "# Get unique persons with at least one bike/walk trip\n",
    "bike_walk_persons = bike_walk_trips.select([\"hhno\", \"pno\"]).unique()\n",
    "bike_walk_persons = bike_walk_persons.with_columns(bike_walk=pl.lit(True))\n",
    "\n",
    "# Join back to all persons, mark bike_walk as False if not present\n",
    "person_with_bike_walk = person.join(bike_walk_persons, on=[\"hhno\", \"pno\"], how=\"left\")\n",
    "person_with_bike_walk = person_with_bike_walk.with_columns(\n",
    "    pl.col(\"bike_walk\").fill_null(False)\n",
    ")\n",
    "\n",
    "# Calculate share\n",
    "share = (\n",
    "    person_with_bike_walk.group_by(\"bike_walk\")\n",
    "    .agg(pl.col(\"psexpfac\").sum())\n",
    "    .with_columns(\n",
    "        (pl.col(\"psexpfac\") / pl.col(\"psexpfac\").sum()).alias(\"share\")\n",
    "    )\n",
    ")\n",
    "print(\"Percent of population with at least one non-exercise walk or bike trip: {:.1%}\".format(share.filter(pl.col(\"bike_walk\") == True)[\"share\"][0]))"
   ]
  },
  {
   "cell_type": "markdown",
   "id": "62979b5b",
   "metadata": {},
   "source": [
    "## Household and Jobs within 1/4 mile transit"
   ]
  },
  {
   "cell_type": "code",
   "execution_count": 23,
   "id": "2982aa81",
   "metadata": {
    "execution": {
     "iopub.execute_input": "2025-09-30T20:25:26.662616Z",
     "iopub.status.busy": "2025-09-30T20:25:26.662616Z",
     "iopub.status.idle": "2025-09-30T20:25:26.675654Z",
     "shell.execute_reply": "2025-09-30T20:25:26.675654Z"
    }
   },
   "outputs": [],
   "source": [
    "# Network data\n",
    "df = pd.read_csv(util.output_path / 'transit/transit_access.csv',index_col=0)"
   ]
  },
  {
   "cell_type": "markdown",
   "id": "35721244",
   "metadata": {},
   "source": [
    "**Households**"
   ]
  },
  {
   "cell_type": "code",
   "execution_count": 24,
   "id": "35af0dff",
   "metadata": {
    "execution": {
     "iopub.execute_input": "2025-09-30T20:25:26.677650Z",
     "iopub.status.busy": "2025-09-30T20:25:26.677650Z",
     "iopub.status.idle": "2025-09-30T20:25:26.681289Z",
     "shell.execute_reply": "2025-09-30T20:25:26.681289Z"
    }
   },
   "outputs": [
    {
     "name": "stdout",
     "output_type": "stream",
     "text": [
      "1,372,604 households within 1/4 mile of transit\n",
      "56.7% of total households\n"
     ]
    }
   ],
   "source": [
    "x = df.loc['hh_p','quarter_mile_transit']\n",
    "print('{:,.0f}'.format(x) + (\" households within 1/4 mile of transit\"))\n",
    "x = df.loc['hh_p','quarter_mile_transit']/df.loc['hh_p','total']\n",
    "print('{:,.1%}'.format(x) + (\" of total households\"))"
   ]
  },
  {
   "cell_type": "markdown",
   "id": "d570c6e5",
   "metadata": {},
   "source": [
    "**Jobs**"
   ]
  },
  {
   "cell_type": "code",
   "execution_count": 25,
   "id": "ce39bf06",
   "metadata": {
    "execution": {
     "iopub.execute_input": "2025-09-30T20:25:26.683285Z",
     "iopub.status.busy": "2025-09-30T20:25:26.683285Z",
     "iopub.status.idle": "2025-09-30T20:25:26.687603Z",
     "shell.execute_reply": "2025-09-30T20:25:26.687603Z"
    }
   },
   "outputs": [
    {
     "name": "stdout",
     "output_type": "stream",
     "text": [
      "2,384,286 jobs within 1/4 mile of transit\n",
      "43.4% of total jobs\n"
     ]
    }
   ],
   "source": [
    "x = df.loc['emptot_p','quarter_mile_transit']\n",
    "print('{:,.0f}'.format(x) + (\" jobs within 1/4 mile of transit\"))\n",
    "x = df.loc['hh_p','quarter_mile_transit']/df.loc['emptot_p','total']\n",
    "print('{:,.1%}'.format(x) + (\" of total jobs\"))"
   ]
  }
 ],
 "metadata": {
  "kernelspec": {
   "display_name": "summary",
   "language": "python",
   "name": "python3"
  },
  "language_info": {
   "codemirror_mode": {
    "name": "ipython",
    "version": 3
   },
   "file_extension": ".py",
   "mimetype": "text/x-python",
   "name": "python",
   "nbconvert_exporter": "python",
   "pygments_lexer": "ipython3",
   "version": "3.11.12"
  }
 },
 "nbformat": 4,
 "nbformat_minor": 5
}
