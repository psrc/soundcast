{
 "cells": [
  {
   "cell_type": "raw",
   "id": "5288c708",
   "metadata": {
    "vscode": {
     "languageId": "raw"
    }
   },
   "source": [
    "---\n",
    "title: \"Household Transportation Costs\"\n",
    "date: today\n",
    "---"
   ]
  },
  {
   "cell_type": "markdown",
   "id": "29583245",
   "metadata": {},
   "source": [
    "- Average Annual Household Transportation Costs: Out-of-pocket expenses including tolls, parking, and transit fares\n",
    "\n",
    "    - These costs do not include other vehicle operating and purchase costs.\n",
    "\n",
    "    - Costs are annualized using factor of 320\n"
   ]
  },
  {
   "cell_type": "code",
   "execution_count": 1,
   "id": "20b477a3",
   "metadata": {
    "execution": {
     "iopub.execute_input": "2025-07-30T22:57:01.889500Z",
     "iopub.status.busy": "2025-07-30T22:57:01.888498Z",
     "iopub.status.idle": "2025-07-30T22:57:02.952901Z",
     "shell.execute_reply": "2025-07-30T22:57:02.951929Z"
    }
   },
   "outputs": [],
   "source": [
    "import pandas as pd\n",
    "import polars as pl\n",
    "import toml\n",
    "from pathlib import Path\n",
    "from sqlalchemy import create_engine\n",
    "\n",
    "config = toml.load(Path.cwd() / '../../../../configuration/input_configuration.toml')\n",
    "summary_config = toml.load(Path.cwd() / '../../../../configuration/summary_configuration.toml')\n",
    "\n",
    "pd.set_option('display.float_format', '${:0,.0f}'.format)"
   ]
  },
  {
   "cell_type": "code",
   "execution_count": 2,
   "id": "5a7bbb05",
   "metadata": {
    "execution": {
     "iopub.execute_input": "2025-07-30T22:57:02.958883Z",
     "iopub.status.busy": "2025-07-30T22:57:02.957886Z",
     "iopub.status.idle": "2025-07-30T22:57:02.965988Z",
     "shell.execute_reply": "2025-07-30T22:57:02.964992Z"
    }
   },
   "outputs": [],
   "source": [
    "# Relative path between notebooks and goruped output directories\n",
    "output_path = Path(summary_config['sc_run_path']) / summary_config[\"output_folder\"]\n",
    "survey_path = Path(summary_config['sc_run_path']) / summary_config[\"survey_folder\"]"
   ]
  },
  {
   "cell_type": "code",
   "execution_count": 3,
   "id": "dee19a06",
   "metadata": {
    "execution": {
     "iopub.execute_input": "2025-07-30T22:57:02.971127Z",
     "iopub.status.busy": "2025-07-30T22:57:02.970127Z",
     "iopub.status.idle": "2025-07-30T22:57:03.066268Z",
     "shell.execute_reply": "2025-07-30T22:57:03.065279Z"
    }
   },
   "outputs": [],
   "source": [
    "# person data\n",
    "person = pd.read_csv(output_path / 'agg/dash/person_cost.csv')\n",
    "# household data\n",
    "hh = pd.read_csv(output_path / 'agg/dash/hh_geog.csv')\n",
    "\n",
    "annual_factor = summary_config['weekday_to_annual']\n",
    "# list of equity geographies\n",
    "equity_geogs = summary_config['equity_geogs']\n",
    "not_equity_geogs = [\"NOT in \" + item for item in equity_geogs]"
   ]
  },
  {
   "cell_type": "code",
   "execution_count": 4,
   "id": "300357cc",
   "metadata": {
    "execution": {
     "iopub.execute_input": "2025-07-30T22:57:03.072253Z",
     "iopub.status.busy": "2025-07-30T22:57:03.071254Z",
     "iopub.status.idle": "2025-07-30T22:57:03.096685Z",
     "shell.execute_reply": "2025-07-30T22:57:03.095689Z"
    }
   },
   "outputs": [],
   "source": [
    "df_person = person.copy()\n",
    "df_person['is_rgc'] = \"In RGC\"\n",
    "df_person.loc[df_person['hh_rgc'] == 'Not in RGC', 'is_rgc'] = \"Not in RGC\"\n",
    "# included modes\n",
    "# TODO: ask what this means\n",
    "df_person = df_person[(df_person['mode'].isin(['SOV','HOV2','HOV3+']) & (df_person['dorp'] == 1)) \n",
    "                      | (~df_person['mode'].isin(['SOV','HOV2','HOV3+']))]\n",
    "\n",
    "df_hh = hh.copy()\n",
    "df_hh['is_rgc'] = \"In RGC\"\n",
    "df_hh.loc[df_hh['hh_rgc'] == 'Not in RGC', 'is_rgc'] = \"Not in RGC\""
   ]
  },
  {
   "cell_type": "code",
   "execution_count": 5,
   "id": "a2a024ae",
   "metadata": {
    "execution": {
     "iopub.execute_input": "2025-07-30T22:57:03.101675Z",
     "iopub.status.busy": "2025-07-30T22:57:03.100672Z",
     "iopub.status.idle": "2025-07-30T22:57:03.110686Z",
     "shell.execute_reply": "2025-07-30T22:57:03.110166Z"
    }
   },
   "outputs": [],
   "source": [
    "def annual_costs(geog, map=False):\n",
    "    df = df_person.groupby(geog, as_index=False)['travcost_wt'].sum().set_index(geog)\n",
    "    df['hhexpfac'] = df_hh.groupby(geog)['hhexpfac'].sum()\n",
    "\n",
    "    if map:\n",
    "        df.index = df.index.astype('int').map({\n",
    "                                0: 'Below Regional Average', \n",
    "                                1: 'Above Regional Average', \n",
    "                                2: 'Higher Share of Equity Population'}\n",
    "                                )\n",
    "\n",
    "    df.loc['Region'] = [df_person['travcost_wt'].sum(), df_hh['hhexpfac'].sum()]\n",
    "    df['Average Annual Costs'] = (df['travcost_wt'] / df['hhexpfac']) * annual_factor\n",
    "\n",
    "\n",
    "\n",
    "\n",
    "    return df[['Average Annual Costs']]"
   ]
  },
  {
   "cell_type": "raw",
   "id": "9fffaab9",
   "metadata": {
    "vscode": {
     "languageId": "raw"
    }
   },
   "source": [
    ":::{.panel-tabset}\n",
    "### County"
   ]
  },
  {
   "cell_type": "code",
   "execution_count": 6,
   "id": "36f9fab3",
   "metadata": {
    "execution": {
     "iopub.execute_input": "2025-07-30T22:57:03.115665Z",
     "iopub.status.busy": "2025-07-30T22:57:03.114668Z",
     "iopub.status.idle": "2025-07-30T22:57:03.140012Z",
     "shell.execute_reply": "2025-07-30T22:57:03.138955Z"
    }
   },
   "outputs": [
    {
     "data": {
      "text/html": [
       "<div>\n",
       "<style scoped>\n",
       "    .dataframe tbody tr th:only-of-type {\n",
       "        vertical-align: middle;\n",
       "    }\n",
       "\n",
       "    .dataframe tbody tr th {\n",
       "        vertical-align: top;\n",
       "    }\n",
       "\n",
       "    .dataframe thead th {\n",
       "        text-align: right;\n",
       "    }\n",
       "</style>\n",
       "<table border=\"1\" class=\"dataframe\">\n",
       "  <thead>\n",
       "    <tr style=\"text-align: right;\">\n",
       "      <th></th>\n",
       "      <th>Average Annual Costs</th>\n",
       "    </tr>\n",
       "    <tr>\n",
       "      <th>hh_county</th>\n",
       "      <th></th>\n",
       "    </tr>\n",
       "  </thead>\n",
       "  <tbody>\n",
       "    <tr>\n",
       "      <th>King</th>\n",
       "      <td>$2,380</td>\n",
       "    </tr>\n",
       "    <tr>\n",
       "      <th>Kitsap</th>\n",
       "      <td>$2,848</td>\n",
       "    </tr>\n",
       "    <tr>\n",
       "      <th>Pierce</th>\n",
       "      <td>$2,782</td>\n",
       "    </tr>\n",
       "    <tr>\n",
       "      <th>Snohomish</th>\n",
       "      <td>$2,946</td>\n",
       "    </tr>\n",
       "    <tr>\n",
       "      <th>Region</th>\n",
       "      <td>$2,594</td>\n",
       "    </tr>\n",
       "  </tbody>\n",
       "</table>\n",
       "</div>"
      ],
      "text/plain": [
       "           Average Annual Costs\n",
       "hh_county                      \n",
       "King                     $2,380\n",
       "Kitsap                   $2,848\n",
       "Pierce                   $2,782\n",
       "Snohomish                $2,946\n",
       "Region                   $2,594"
      ]
     },
     "execution_count": 6,
     "metadata": {},
     "output_type": "execute_result"
    }
   ],
   "source": [
    "df = annual_costs('hh_county')\n",
    "df = df[df.index!='Outside Region']\n",
    "df"
   ]
  },
  {
   "cell_type": "raw",
   "id": "22d701e5",
   "metadata": {
    "vscode": {
     "languageId": "raw"
    }
   },
   "source": [
    "### Regional Growth Center"
   ]
  },
  {
   "cell_type": "code",
   "execution_count": 7,
   "id": "a469e394",
   "metadata": {
    "execution": {
     "iopub.execute_input": "2025-07-30T22:57:03.143288Z",
     "iopub.status.busy": "2025-07-30T22:57:03.143288Z",
     "iopub.status.idle": "2025-07-30T22:57:03.156091Z",
     "shell.execute_reply": "2025-07-30T22:57:03.156091Z"
    }
   },
   "outputs": [
    {
     "data": {
      "text/html": [
       "<div>\n",
       "<style scoped>\n",
       "    .dataframe tbody tr th:only-of-type {\n",
       "        vertical-align: middle;\n",
       "    }\n",
       "\n",
       "    .dataframe tbody tr th {\n",
       "        vertical-align: top;\n",
       "    }\n",
       "\n",
       "    .dataframe thead th {\n",
       "        text-align: right;\n",
       "    }\n",
       "</style>\n",
       "<table border=\"1\" class=\"dataframe\">\n",
       "  <thead>\n",
       "    <tr style=\"text-align: right;\">\n",
       "      <th></th>\n",
       "      <th>Average Annual Costs</th>\n",
       "    </tr>\n",
       "    <tr>\n",
       "      <th>is_rgc</th>\n",
       "      <th></th>\n",
       "    </tr>\n",
       "  </thead>\n",
       "  <tbody>\n",
       "    <tr>\n",
       "      <th>In RGC</th>\n",
       "      <td>$953</td>\n",
       "    </tr>\n",
       "    <tr>\n",
       "      <th>Not in RGC</th>\n",
       "      <td>$2,769</td>\n",
       "    </tr>\n",
       "    <tr>\n",
       "      <th>Region</th>\n",
       "      <td>$2,594</td>\n",
       "    </tr>\n",
       "  </tbody>\n",
       "</table>\n",
       "</div>"
      ],
      "text/plain": [
       "            Average Annual Costs\n",
       "is_rgc                          \n",
       "In RGC                      $953\n",
       "Not in RGC                $2,769\n",
       "Region                    $2,594"
      ]
     },
     "execution_count": 7,
     "metadata": {},
     "output_type": "execute_result"
    }
   ],
   "source": [
    "annual_costs('is_rgc')"
   ]
  },
  {
   "cell_type": "code",
   "execution_count": 8,
   "id": "f5553a7d",
   "metadata": {
    "execution": {
     "iopub.execute_input": "2025-07-30T22:57:03.159077Z",
     "iopub.status.busy": "2025-07-30T22:57:03.159077Z",
     "iopub.status.idle": "2025-07-30T22:57:03.172805Z",
     "shell.execute_reply": "2025-07-30T22:57:03.171762Z"
    }
   },
   "outputs": [
    {
     "data": {
      "text/html": [
       "<div>\n",
       "<style scoped>\n",
       "    .dataframe tbody tr th:only-of-type {\n",
       "        vertical-align: middle;\n",
       "    }\n",
       "\n",
       "    .dataframe tbody tr th {\n",
       "        vertical-align: top;\n",
       "    }\n",
       "\n",
       "    .dataframe thead th {\n",
       "        text-align: right;\n",
       "    }\n",
       "</style>\n",
       "<table border=\"1\" class=\"dataframe\">\n",
       "  <thead>\n",
       "    <tr style=\"text-align: right;\">\n",
       "      <th></th>\n",
       "      <th>Average Annual Costs</th>\n",
       "    </tr>\n",
       "    <tr>\n",
       "      <th>hh_rgc</th>\n",
       "      <th></th>\n",
       "    </tr>\n",
       "  </thead>\n",
       "  <tbody>\n",
       "    <tr>\n",
       "      <th>Auburn</th>\n",
       "      <td>$1,792</td>\n",
       "    </tr>\n",
       "    <tr>\n",
       "      <th>Bellevue</th>\n",
       "      <td>$991</td>\n",
       "    </tr>\n",
       "    <tr>\n",
       "      <th>Bothell Canyon Park</th>\n",
       "      <td>$2,313</td>\n",
       "    </tr>\n",
       "    <tr>\n",
       "      <th>Bremerton</th>\n",
       "      <td>$1,179</td>\n",
       "    </tr>\n",
       "    <tr>\n",
       "      <th>Burien</th>\n",
       "      <td>$1,789</td>\n",
       "    </tr>\n",
       "    <tr>\n",
       "      <th>Everett</th>\n",
       "      <td>$1,095</td>\n",
       "    </tr>\n",
       "    <tr>\n",
       "      <th>Federal Way</th>\n",
       "      <td>$2,047</td>\n",
       "    </tr>\n",
       "    <tr>\n",
       "      <th>Greater Downtown Kirkland</th>\n",
       "      <td>$1,837</td>\n",
       "    </tr>\n",
       "    <tr>\n",
       "      <th>Kent</th>\n",
       "      <td>$1,683</td>\n",
       "    </tr>\n",
       "    <tr>\n",
       "      <th>Kirkland Totem Lake</th>\n",
       "      <td>$1,776</td>\n",
       "    </tr>\n",
       "    <tr>\n",
       "      <th>Lakewood</th>\n",
       "      <td>$1,554</td>\n",
       "    </tr>\n",
       "    <tr>\n",
       "      <th>Lynnwood</th>\n",
       "      <td>$1,843</td>\n",
       "    </tr>\n",
       "    <tr>\n",
       "      <th>Not in RGC</th>\n",
       "      <td>$2,769</td>\n",
       "    </tr>\n",
       "    <tr>\n",
       "      <th>Puyallup Downtown</th>\n",
       "      <td>$1,383</td>\n",
       "    </tr>\n",
       "    <tr>\n",
       "      <th>Puyallup South Hill</th>\n",
       "      <td>$1,810</td>\n",
       "    </tr>\n",
       "    <tr>\n",
       "      <th>Redmond Downtown</th>\n",
       "      <td>$1,434</td>\n",
       "    </tr>\n",
       "    <tr>\n",
       "      <th>Redmond-Overlake</th>\n",
       "      <td>$1,295</td>\n",
       "    </tr>\n",
       "    <tr>\n",
       "      <th>Renton</th>\n",
       "      <td>$1,540</td>\n",
       "    </tr>\n",
       "    <tr>\n",
       "      <th>SeaTac</th>\n",
       "      <td>$2,019</td>\n",
       "    </tr>\n",
       "    <tr>\n",
       "      <th>Seattle Downtown</th>\n",
       "      <td>$429</td>\n",
       "    </tr>\n",
       "    <tr>\n",
       "      <th>Seattle First Hill/Capitol Hill</th>\n",
       "      <td>$615</td>\n",
       "    </tr>\n",
       "    <tr>\n",
       "      <th>Seattle Northgate</th>\n",
       "      <td>$1,549</td>\n",
       "    </tr>\n",
       "    <tr>\n",
       "      <th>Seattle South Lake Union</th>\n",
       "      <td>$559</td>\n",
       "    </tr>\n",
       "    <tr>\n",
       "      <th>Seattle University Community</th>\n",
       "      <td>$963</td>\n",
       "    </tr>\n",
       "    <tr>\n",
       "      <th>Seattle Uptown</th>\n",
       "      <td>$767</td>\n",
       "    </tr>\n",
       "    <tr>\n",
       "      <th>Silverdale</th>\n",
       "      <td>$1,073</td>\n",
       "    </tr>\n",
       "    <tr>\n",
       "      <th>Tacoma Downtown</th>\n",
       "      <td>$1,011</td>\n",
       "    </tr>\n",
       "    <tr>\n",
       "      <th>Tacoma Mall</th>\n",
       "      <td>$1,212</td>\n",
       "    </tr>\n",
       "    <tr>\n",
       "      <th>Tukwila</th>\n",
       "      <td>$1,382</td>\n",
       "    </tr>\n",
       "    <tr>\n",
       "      <th>University Place</th>\n",
       "      <td>$1,624</td>\n",
       "    </tr>\n",
       "    <tr>\n",
       "      <th>Region</th>\n",
       "      <td>$2,594</td>\n",
       "    </tr>\n",
       "  </tbody>\n",
       "</table>\n",
       "</div>"
      ],
      "text/plain": [
       "                                 Average Annual Costs\n",
       "hh_rgc                                               \n",
       "Auburn                                         $1,792\n",
       "Bellevue                                         $991\n",
       "Bothell Canyon Park                            $2,313\n",
       "Bremerton                                      $1,179\n",
       "Burien                                         $1,789\n",
       "Everett                                        $1,095\n",
       "Federal Way                                    $2,047\n",
       "Greater Downtown Kirkland                      $1,837\n",
       "Kent                                           $1,683\n",
       "Kirkland Totem Lake                            $1,776\n",
       "Lakewood                                       $1,554\n",
       "Lynnwood                                       $1,843\n",
       "Not in RGC                                     $2,769\n",
       "Puyallup Downtown                              $1,383\n",
       "Puyallup South Hill                            $1,810\n",
       "Redmond Downtown                               $1,434\n",
       "Redmond-Overlake                               $1,295\n",
       "Renton                                         $1,540\n",
       "SeaTac                                         $2,019\n",
       "Seattle Downtown                                 $429\n",
       "Seattle First Hill/Capitol Hill                  $615\n",
       "Seattle Northgate                              $1,549\n",
       "Seattle South Lake Union                         $559\n",
       "Seattle University Community                     $963\n",
       "Seattle Uptown                                   $767\n",
       "Silverdale                                     $1,073\n",
       "Tacoma Downtown                                $1,011\n",
       "Tacoma Mall                                    $1,212\n",
       "Tukwila                                        $1,382\n",
       "University Place                               $1,624\n",
       "Region                                         $2,594"
      ]
     },
     "execution_count": 8,
     "metadata": {},
     "output_type": "execute_result"
    }
   ],
   "source": [
    "annual_costs('hh_rgc')"
   ]
  },
  {
   "cell_type": "raw",
   "id": "0bd99560",
   "metadata": {
    "vscode": {
     "languageId": "raw"
    }
   },
   "source": [
    "### Regional Geography"
   ]
  },
  {
   "cell_type": "code",
   "execution_count": 9,
   "id": "ddc6600e",
   "metadata": {
    "execution": {
     "iopub.execute_input": "2025-07-30T22:57:03.175828Z",
     "iopub.status.busy": "2025-07-30T22:57:03.175828Z",
     "iopub.status.idle": "2025-07-30T22:57:03.187539Z",
     "shell.execute_reply": "2025-07-30T22:57:03.187539Z"
    }
   },
   "outputs": [
    {
     "data": {
      "text/html": [
       "<div>\n",
       "<style scoped>\n",
       "    .dataframe tbody tr th:only-of-type {\n",
       "        vertical-align: middle;\n",
       "    }\n",
       "\n",
       "    .dataframe tbody tr th {\n",
       "        vertical-align: top;\n",
       "    }\n",
       "\n",
       "    .dataframe thead th {\n",
       "        text-align: right;\n",
       "    }\n",
       "</style>\n",
       "<table border=\"1\" class=\"dataframe\">\n",
       "  <thead>\n",
       "    <tr style=\"text-align: right;\">\n",
       "      <th></th>\n",
       "      <th>Average Annual Costs</th>\n",
       "    </tr>\n",
       "    <tr>\n",
       "      <th>hh_rg_proposed</th>\n",
       "      <th></th>\n",
       "    </tr>\n",
       "  </thead>\n",
       "  <tbody>\n",
       "    <tr>\n",
       "      <th>Cities and Towns</th>\n",
       "      <td>$3,392</td>\n",
       "    </tr>\n",
       "    <tr>\n",
       "      <th>Core Cities</th>\n",
       "      <td>$2,528</td>\n",
       "    </tr>\n",
       "    <tr>\n",
       "      <th>High Capacity Transit Communities</th>\n",
       "      <td>$2,747</td>\n",
       "    </tr>\n",
       "    <tr>\n",
       "      <th>Metropolitan Cities</th>\n",
       "      <td>$1,685</td>\n",
       "    </tr>\n",
       "    <tr>\n",
       "      <th>Rural Areas</th>\n",
       "      <td>$4,388</td>\n",
       "    </tr>\n",
       "    <tr>\n",
       "      <th>Urban Unincorporated Areas</th>\n",
       "      <td>$3,187</td>\n",
       "    </tr>\n",
       "    <tr>\n",
       "      <th>Region</th>\n",
       "      <td>$2,594</td>\n",
       "    </tr>\n",
       "  </tbody>\n",
       "</table>\n",
       "</div>"
      ],
      "text/plain": [
       "                                   Average Annual Costs\n",
       "hh_rg_proposed                                         \n",
       "Cities and Towns                                 $3,392\n",
       "Core Cities                                      $2,528\n",
       "High Capacity Transit Communities                $2,747\n",
       "Metropolitan Cities                              $1,685\n",
       "Rural Areas                                      $4,388\n",
       "Urban Unincorporated Areas                       $3,187\n",
       "Region                                           $2,594"
      ]
     },
     "execution_count": 9,
     "metadata": {},
     "output_type": "execute_result"
    }
   ],
   "source": [
    "annual_costs('hh_rg_proposed')"
   ]
  },
  {
   "cell_type": "raw",
   "id": "2bd1c3e6",
   "metadata": {
    "vscode": {
     "languageId": "raw"
    }
   },
   "source": [
    "### Equity Focus Areas"
   ]
  },
  {
   "cell_type": "code",
   "execution_count": 10,
   "id": "7621d13f",
   "metadata": {
    "execution": {
     "iopub.execute_input": "2025-07-30T22:57:03.190531Z",
     "iopub.status.busy": "2025-07-30T22:57:03.189534Z",
     "iopub.status.idle": "2025-07-30T22:57:03.249345Z",
     "shell.execute_reply": "2025-07-30T22:57:03.248348Z"
    }
   },
   "outputs": [
    {
     "data": {
      "text/html": [
       "<div>\n",
       "<style scoped>\n",
       "    .dataframe tbody tr th:only-of-type {\n",
       "        vertical-align: middle;\n",
       "    }\n",
       "\n",
       "    .dataframe tbody tr th {\n",
       "        vertical-align: top;\n",
       "    }\n",
       "\n",
       "    .dataframe thead th {\n",
       "        text-align: right;\n",
       "    }\n",
       "</style>\n",
       "<table border=\"1\" class=\"dataframe\">\n",
       "  <thead>\n",
       "    <tr style=\"text-align: right;\">\n",
       "      <th></th>\n",
       "      <th>Group</th>\n",
       "      <th>EFA Type</th>\n",
       "      <th>Average Annual Costs</th>\n",
       "    </tr>\n",
       "  </thead>\n",
       "  <tbody>\n",
       "    <tr>\n",
       "      <th>0</th>\n",
       "      <td>People of Color</td>\n",
       "      <td>Below Regional Average</td>\n",
       "      <td>$2,809</td>\n",
       "    </tr>\n",
       "    <tr>\n",
       "      <th>1</th>\n",
       "      <td>People of Color</td>\n",
       "      <td>Above Regional Average</td>\n",
       "      <td>$2,334</td>\n",
       "    </tr>\n",
       "    <tr>\n",
       "      <th>2</th>\n",
       "      <td>People of Color</td>\n",
       "      <td>Higher Share of Equity Population</td>\n",
       "      <td>$2,351</td>\n",
       "    </tr>\n",
       "    <tr>\n",
       "      <th>3</th>\n",
       "      <td>People of Color</td>\n",
       "      <td>Region</td>\n",
       "      <td>$2,594</td>\n",
       "    </tr>\n",
       "    <tr>\n",
       "      <th>4</th>\n",
       "      <td>Income</td>\n",
       "      <td>Below Regional Average</td>\n",
       "      <td>$2,804</td>\n",
       "    </tr>\n",
       "    <tr>\n",
       "      <th>5</th>\n",
       "      <td>Income</td>\n",
       "      <td>Above Regional Average</td>\n",
       "      <td>$2,407</td>\n",
       "    </tr>\n",
       "    <tr>\n",
       "      <th>6</th>\n",
       "      <td>Income</td>\n",
       "      <td>Higher Share of Equity Population</td>\n",
       "      <td>$2,054</td>\n",
       "    </tr>\n",
       "    <tr>\n",
       "      <th>7</th>\n",
       "      <td>Income</td>\n",
       "      <td>Region</td>\n",
       "      <td>$2,594</td>\n",
       "    </tr>\n",
       "    <tr>\n",
       "      <th>8</th>\n",
       "      <td>LEP</td>\n",
       "      <td>Below Regional Average</td>\n",
       "      <td>$2,649</td>\n",
       "    </tr>\n",
       "    <tr>\n",
       "      <th>9</th>\n",
       "      <td>LEP</td>\n",
       "      <td>Above Regional Average</td>\n",
       "      <td>$2,539</td>\n",
       "    </tr>\n",
       "    <tr>\n",
       "      <th>10</th>\n",
       "      <td>LEP</td>\n",
       "      <td>Higher Share of Equity Population</td>\n",
       "      <td>$2,455</td>\n",
       "    </tr>\n",
       "    <tr>\n",
       "      <th>11</th>\n",
       "      <td>LEP</td>\n",
       "      <td>Region</td>\n",
       "      <td>$2,594</td>\n",
       "    </tr>\n",
       "    <tr>\n",
       "      <th>12</th>\n",
       "      <td>Disability</td>\n",
       "      <td>Below Regional Average</td>\n",
       "      <td>$2,690</td>\n",
       "    </tr>\n",
       "    <tr>\n",
       "      <th>13</th>\n",
       "      <td>Disability</td>\n",
       "      <td>Above Regional Average</td>\n",
       "      <td>$2,601</td>\n",
       "    </tr>\n",
       "    <tr>\n",
       "      <th>14</th>\n",
       "      <td>Disability</td>\n",
       "      <td>Higher Share of Equity Population</td>\n",
       "      <td>$2,244</td>\n",
       "    </tr>\n",
       "    <tr>\n",
       "      <th>15</th>\n",
       "      <td>Disability</td>\n",
       "      <td>Region</td>\n",
       "      <td>$2,594</td>\n",
       "    </tr>\n",
       "    <tr>\n",
       "      <th>16</th>\n",
       "      <td>Older Adults</td>\n",
       "      <td>Below Regional Average</td>\n",
       "      <td>$2,456</td>\n",
       "    </tr>\n",
       "    <tr>\n",
       "      <th>17</th>\n",
       "      <td>Older Adults</td>\n",
       "      <td>Above Regional Average</td>\n",
       "      <td>$2,691</td>\n",
       "    </tr>\n",
       "    <tr>\n",
       "      <th>18</th>\n",
       "      <td>Older Adults</td>\n",
       "      <td>Higher Share of Equity Population</td>\n",
       "      <td>$2,888</td>\n",
       "    </tr>\n",
       "    <tr>\n",
       "      <th>19</th>\n",
       "      <td>Older Adults</td>\n",
       "      <td>Region</td>\n",
       "      <td>$2,594</td>\n",
       "    </tr>\n",
       "    <tr>\n",
       "      <th>20</th>\n",
       "      <td>Youth</td>\n",
       "      <td>Below Regional Average</td>\n",
       "      <td>$2,209</td>\n",
       "    </tr>\n",
       "    <tr>\n",
       "      <th>21</th>\n",
       "      <td>Youth</td>\n",
       "      <td>Above Regional Average</td>\n",
       "      <td>$2,984</td>\n",
       "    </tr>\n",
       "    <tr>\n",
       "      <th>22</th>\n",
       "      <td>Youth</td>\n",
       "      <td>Higher Share of Equity Population</td>\n",
       "      <td>$3,274</td>\n",
       "    </tr>\n",
       "    <tr>\n",
       "      <th>23</th>\n",
       "      <td>Youth</td>\n",
       "      <td>Region</td>\n",
       "      <td>$2,594</td>\n",
       "    </tr>\n",
       "  </tbody>\n",
       "</table>\n",
       "</div>"
      ],
      "text/plain": [
       "              Group                           EFA Type  Average Annual Costs\n",
       "0   People of Color             Below Regional Average                $2,809\n",
       "1   People of Color             Above Regional Average                $2,334\n",
       "2   People of Color  Higher Share of Equity Population                $2,351\n",
       "3   People of Color                             Region                $2,594\n",
       "4            Income             Below Regional Average                $2,804\n",
       "5            Income             Above Regional Average                $2,407\n",
       "6            Income  Higher Share of Equity Population                $2,054\n",
       "7            Income                             Region                $2,594\n",
       "8               LEP             Below Regional Average                $2,649\n",
       "9               LEP             Above Regional Average                $2,539\n",
       "10              LEP  Higher Share of Equity Population                $2,455\n",
       "11              LEP                             Region                $2,594\n",
       "12       Disability             Below Regional Average                $2,690\n",
       "13       Disability             Above Regional Average                $2,601\n",
       "14       Disability  Higher Share of Equity Population                $2,244\n",
       "15       Disability                             Region                $2,594\n",
       "16     Older Adults             Below Regional Average                $2,456\n",
       "17     Older Adults             Above Regional Average                $2,691\n",
       "18     Older Adults  Higher Share of Equity Population                $2,888\n",
       "19     Older Adults                             Region                $2,594\n",
       "20            Youth             Below Regional Average                $2,209\n",
       "21            Youth             Above Regional Average                $2,984\n",
       "22            Youth  Higher Share of Equity Population                $3,274\n",
       "23            Youth                             Region                $2,594"
      ]
     },
     "execution_count": 10,
     "metadata": {},
     "output_type": "execute_result"
    }
   ],
   "source": [
    "df = pd.DataFrame()\n",
    "for name, col in {\n",
    "    \"People of Color\": \"hh_efa_poc\",\n",
    "    \"Income\": \"hh_efa_pov200\",\n",
    "    \"LEP\": \"hh_efa_lep\",\n",
    "    \"Disability\": \"hh_efa_dis\",\n",
    "    \"Older Adults\": \"hh_efa_older\",\n",
    "    \"Youth\": \"hh_efa_youth\"\n",
    "}.items():\n",
    "    _df = annual_costs(col, map=True)\n",
    "    _df['Group'] = name\n",
    "    df = pd.concat([df, _df])\n",
    "\n",
    "df = df.reset_index()\n",
    "df\n",
    "df.rename(columns={'index':'EFA Type'}, inplace=True)\n",
    "\n",
    "df[['Group', 'EFA Type', 'Average Annual Costs']]\n"
   ]
  },
  {
   "cell_type": "raw",
   "id": "33c836e3",
   "metadata": {},
   "source": [
    ":::"
   ]
  }
 ],
 "metadata": {
  "kernelspec": {
   "display_name": "summary",
   "language": "python",
   "name": "python3"
  },
  "language_info": {
   "codemirror_mode": {
    "name": "ipython",
    "version": 3
   },
   "file_extension": ".py",
   "mimetype": "text/x-python",
   "name": "python",
   "nbconvert_exporter": "python",
   "pygments_lexer": "ipython3",
   "version": "3.11.12"
  }
 },
 "nbformat": 4,
 "nbformat_minor": 5
}
