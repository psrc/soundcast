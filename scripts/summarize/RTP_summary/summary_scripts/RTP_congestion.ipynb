{
 "cells": [
  {
   "cell_type": "raw",
   "id": "fe4cb836",
   "metadata": {
    "vscode": {
     "languageId": "raw"
    }
   },
   "source": [
    "---\n",
    "title: \"Congestion\"\n",
    "date: today\n",
    "---"
   ]
  },
  {
   "cell_type": "code",
   "execution_count": 1,
   "id": "91f43bfa",
   "metadata": {
    "execution": {
     "iopub.execute_input": "2025-07-30T22:55:25.714142Z",
     "iopub.status.busy": "2025-07-30T22:55:25.713143Z",
     "iopub.status.idle": "2025-07-30T22:55:30.714881Z",
     "shell.execute_reply": "2025-07-30T22:55:30.714881Z"
    }
   },
   "outputs": [],
   "source": [
    "import pandas as pd\n",
    "import geopandas as gpd\n",
    "import toml\n",
    "from pathlib import Path\n",
    "from sqlalchemy import create_engine\n",
    "from functions import process_network_summary\n",
    "\n",
    "config = toml.load(Path.cwd() / '../../../../configuration/input_configuration.toml')\n",
    "summary_config = toml.load(Path.cwd() / '../../../../configuration/summary_configuration.toml')\n",
    "\n",
    "pd.set_option('display.float_format', '{:,.1f}'.format)"
   ]
  },
  {
   "cell_type": "code",
   "execution_count": 2,
   "id": "4164122c",
   "metadata": {
    "execution": {
     "iopub.execute_input": "2025-07-30T22:55:30.718869Z",
     "iopub.status.busy": "2025-07-30T22:55:30.718869Z",
     "iopub.status.idle": "2025-07-30T22:55:30.723891Z",
     "shell.execute_reply": "2025-07-30T22:55:30.723377Z"
    }
   },
   "outputs": [],
   "source": [
    "# Relative path between notebooks and goruped output directories\n",
    "output_path = Path(summary_config['sc_run_path']) / summary_config[\"output_folder\"]\n",
    "survey_path = Path(summary_config['sc_run_path']) / summary_config[\"survey_folder\"]"
   ]
  },
  {
   "cell_type": "code",
   "execution_count": null,
   "id": "ec6e8ae3",
   "metadata": {},
   "outputs": [],
   "source": []
  },
  {
   "cell_type": "markdown",
   "id": "70f95bfc",
   "metadata": {},
   "source": [
    "## Congestion Levels by County\n",
    "\n",
    "Congestion levels are defined by the ratio of congested speed to posted speed limits:\n",
    "\n",
    "- Minimal: Ratio > 0.70\n",
    "- Moderate: Ratio > 0.50 and <=0.70\n",
    "- Heavy: > 0.25 and <= 0.50\n",
    "- Severe: Ratio <= 0.25\n",
    "\n",
    "AM (7-8)"
   ]
  },
  {
   "cell_type": "code",
   "execution_count": 3,
   "id": "7ef4b11f",
   "metadata": {
    "execution": {
     "iopub.execute_input": "2025-07-30T22:55:30.728877Z",
     "iopub.status.busy": "2025-07-30T22:55:30.727881Z",
     "iopub.status.idle": "2025-07-30T22:55:30.731869Z",
     "shell.execute_reply": "2025-07-30T22:55:30.731869Z"
    }
   },
   "outputs": [],
   "source": [
    "# # gdf = gpd.read_file(r'../../../inputs/scenario/networks/shapefiles/AM/AM_edges.shp')\n",
    "# gdf = gpd.read_file(Path(summary_config['sc_run_path'], 'inputs/scenario/networks/shapefiles/AM/AM_edges.shp'))\n",
    "# gdf.crs = 'EPSG:2285'\n",
    "\n",
    "# df = process_network_summary()\n",
    "# # NOTE: for visualization, do not show connectors\n",
    "# df = df[df['data3'] != 5]\n",
    "# gdf = gdf.merge(df[df['tod'] == '7to8'][['ij','congestion_index','congestion_category']], left_on='link_id', right_on='ij', how='left')\n",
    "# gdf['congestion_category'] = gdf['congestion_category'].fillna('Light')\n",
    "# color_mapping = {'Light': 'grey','Moderate': 'orange','Heavy': 'red','Severe':'black'}\n",
    "# gdf.plot(color=gdf[\"congestion_category\"].map(color_mapping), alpha=0.3, linewidth=gdf['lanes'], figsize=(20,20)) "
   ]
  },
  {
   "cell_type": "code",
   "execution_count": 4,
   "id": "2f49098f",
   "metadata": {
    "execution": {
     "iopub.execute_input": "2025-07-30T22:55:30.734859Z",
     "iopub.status.busy": "2025-07-30T22:55:30.733864Z",
     "iopub.status.idle": "2025-07-30T22:55:38.947186Z",
     "shell.execute_reply": "2025-07-30T22:55:38.946667Z"
    }
   },
   "outputs": [],
   "source": [
    "df = process_network_summary()\n",
    "df = df[df['county']!='Outside Region']"
   ]
  },
  {
   "cell_type": "raw",
   "id": "059f3438",
   "metadata": {
    "vscode": {
     "languageId": "raw"
    }
   },
   "source": [
    "\n",
    ":::{.panel-tabset}\n",
    "### AM Peak (7 to 8 AM)"
   ]
  },
  {
   "cell_type": "markdown",
   "id": "f314d257",
   "metadata": {},
   "source": [
    "VMT"
   ]
  },
  {
   "cell_type": "code",
   "execution_count": 5,
   "id": "5af5287a",
   "metadata": {
    "execution": {
     "iopub.execute_input": "2025-07-30T22:55:38.954159Z",
     "iopub.status.busy": "2025-07-30T22:55:38.953164Z",
     "iopub.status.idle": "2025-07-30T22:55:39.065272Z",
     "shell.execute_reply": "2025-07-30T22:55:39.063911Z"
    }
   },
   "outputs": [
    {
     "data": {
      "text/html": [
       "<div>\n",
       "<style scoped>\n",
       "    .dataframe tbody tr th:only-of-type {\n",
       "        vertical-align: middle;\n",
       "    }\n",
       "\n",
       "    .dataframe tbody tr th {\n",
       "        vertical-align: top;\n",
       "    }\n",
       "\n",
       "    .dataframe thead th {\n",
       "        text-align: right;\n",
       "    }\n",
       "</style>\n",
       "<table border=\"1\" class=\"dataframe\">\n",
       "  <thead>\n",
       "    <tr style=\"text-align: right;\">\n",
       "      <th></th>\n",
       "      <th>King</th>\n",
       "      <th>Kitsap</th>\n",
       "      <th>Pierce</th>\n",
       "      <th>Snohomish</th>\n",
       "      <th>Region</th>\n",
       "    </tr>\n",
       "  </thead>\n",
       "  <tbody>\n",
       "    <tr>\n",
       "      <th>Light</th>\n",
       "      <td>2,104,827</td>\n",
       "      <td>285,786</td>\n",
       "      <td>1,005,472</td>\n",
       "      <td>887,912</td>\n",
       "      <td>4,283,997</td>\n",
       "    </tr>\n",
       "    <tr>\n",
       "      <th>Moderate</th>\n",
       "      <td>536,686</td>\n",
       "      <td>7,067</td>\n",
       "      <td>160,135</td>\n",
       "      <td>154,206</td>\n",
       "      <td>858,094</td>\n",
       "    </tr>\n",
       "    <tr>\n",
       "      <th>Heavy</th>\n",
       "      <td>520,780</td>\n",
       "      <td>9,679</td>\n",
       "      <td>73,711</td>\n",
       "      <td>88,056</td>\n",
       "      <td>692,225</td>\n",
       "    </tr>\n",
       "    <tr>\n",
       "      <th>Severe</th>\n",
       "      <td>56,661</td>\n",
       "      <td>671</td>\n",
       "      <td>4,245</td>\n",
       "      <td>5,663</td>\n",
       "      <td>67,239</td>\n",
       "    </tr>\n",
       "    <tr>\n",
       "      <th>Heavy + Severe</th>\n",
       "      <td>577,440</td>\n",
       "      <td>10,350</td>\n",
       "      <td>77,956</td>\n",
       "      <td>93,718</td>\n",
       "      <td>759,465</td>\n",
       "    </tr>\n",
       "  </tbody>\n",
       "</table>\n",
       "</div>"
      ],
      "text/plain": [
       "                    King  Kitsap    Pierce  Snohomish    Region\n",
       "Light          2,104,827 285,786 1,005,472    887,912 4,283,997\n",
       "Moderate         536,686   7,067   160,135    154,206   858,094\n",
       "Heavy            520,780   9,679    73,711     88,056   692,225\n",
       "Severe            56,661     671     4,245      5,663    67,239\n",
       "Heavy + Severe   577,440  10,350    77,956     93,718   759,465"
      ]
     },
     "execution_count": 5,
     "metadata": {},
     "output_type": "execute_result"
    }
   ],
   "source": [
    "pd.options.display.float_format = '{:0,.0f}'.format\n",
    "df_am = df[df['tod'] == '7to8']\n",
    "_df = df_am.pivot_table(index='congestion_category',columns='county',\n",
    "               aggfunc='sum',values='VMT')\n",
    "_df = _df.reindex(['Light','Moderate','Heavy','Severe'])\n",
    "_df.index.name = None\n",
    "_df.columns.name = None\n",
    "_df['Region'] = _df.sum(axis=1)\n",
    "_df.loc['Heavy + Severe'] = _df.loc[['Heavy','Severe']].sum(axis=0)\n",
    "_df\n",
    "\n",
    "# _df"
   ]
  },
  {
   "cell_type": "markdown",
   "id": "a478aa21",
   "metadata": {},
   "source": [
    "----\n",
    "Share of VMT"
   ]
  },
  {
   "cell_type": "code",
   "execution_count": 6,
   "id": "b36f1139",
   "metadata": {
    "execution": {
     "iopub.execute_input": "2025-07-30T22:55:39.071826Z",
     "iopub.status.busy": "2025-07-30T22:55:39.070671Z",
     "iopub.status.idle": "2025-07-30T22:55:39.084048Z",
     "shell.execute_reply": "2025-07-30T22:55:39.083060Z"
    }
   },
   "outputs": [
    {
     "data": {
      "text/html": [
       "<div>\n",
       "<style scoped>\n",
       "    .dataframe tbody tr th:only-of-type {\n",
       "        vertical-align: middle;\n",
       "    }\n",
       "\n",
       "    .dataframe tbody tr th {\n",
       "        vertical-align: top;\n",
       "    }\n",
       "\n",
       "    .dataframe thead th {\n",
       "        text-align: right;\n",
       "    }\n",
       "</style>\n",
       "<table border=\"1\" class=\"dataframe\">\n",
       "  <thead>\n",
       "    <tr style=\"text-align: right;\">\n",
       "      <th></th>\n",
       "      <th>King</th>\n",
       "      <th>Kitsap</th>\n",
       "      <th>Pierce</th>\n",
       "      <th>Snohomish</th>\n",
       "      <th>Region</th>\n",
       "    </tr>\n",
       "  </thead>\n",
       "  <tbody>\n",
       "    <tr>\n",
       "      <th>Light</th>\n",
       "      <td>55.4%</td>\n",
       "      <td>91.1%</td>\n",
       "      <td>76.1%</td>\n",
       "      <td>72.2%</td>\n",
       "      <td>64.3%</td>\n",
       "    </tr>\n",
       "    <tr>\n",
       "      <th>Moderate</th>\n",
       "      <td>14.1%</td>\n",
       "      <td>2.3%</td>\n",
       "      <td>12.1%</td>\n",
       "      <td>12.5%</td>\n",
       "      <td>12.9%</td>\n",
       "    </tr>\n",
       "    <tr>\n",
       "      <th>Heavy</th>\n",
       "      <td>13.7%</td>\n",
       "      <td>3.1%</td>\n",
       "      <td>5.6%</td>\n",
       "      <td>7.2%</td>\n",
       "      <td>10.4%</td>\n",
       "    </tr>\n",
       "    <tr>\n",
       "      <th>Severe</th>\n",
       "      <td>1.5%</td>\n",
       "      <td>0.2%</td>\n",
       "      <td>0.3%</td>\n",
       "      <td>0.5%</td>\n",
       "      <td>1.0%</td>\n",
       "    </tr>\n",
       "    <tr>\n",
       "      <th>Heavy + Severe</th>\n",
       "      <td>15.2%</td>\n",
       "      <td>3.3%</td>\n",
       "      <td>5.9%</td>\n",
       "      <td>7.6%</td>\n",
       "      <td>11.4%</td>\n",
       "    </tr>\n",
       "  </tbody>\n",
       "</table>\n",
       "</div>"
      ],
      "text/plain": [
       "                King  Kitsap  Pierce  Snohomish  Region\n",
       "Light          55.4%   91.1%   76.1%      72.2%   64.3%\n",
       "Moderate       14.1%    2.3%   12.1%      12.5%   12.9%\n",
       "Heavy          13.7%    3.1%    5.6%       7.2%   10.4%\n",
       "Severe          1.5%    0.2%    0.3%       0.5%    1.0%\n",
       "Heavy + Severe 15.2%    3.3%    5.9%       7.6%   11.4%"
      ]
     },
     "execution_count": 6,
     "metadata": {},
     "output_type": "execute_result"
    }
   ],
   "source": [
    "\n",
    "pd.options.display.float_format = '{:0,.1%}'.format\n",
    "_df = _df/_df.sum(axis=0)\n",
    "_df"
   ]
  },
  {
   "cell_type": "raw",
   "id": "fdeb02ec",
   "metadata": {
    "vscode": {
     "languageId": "raw"
    }
   },
   "source": [
    "### PM Peak (5 to 6 PM)"
   ]
  },
  {
   "cell_type": "markdown",
   "id": "0fb28b90",
   "metadata": {},
   "source": [
    "VMT"
   ]
  },
  {
   "cell_type": "code",
   "execution_count": 7,
   "id": "acacb3cc",
   "metadata": {
    "execution": {
     "iopub.execute_input": "2025-07-30T22:55:39.088037Z",
     "iopub.status.busy": "2025-07-30T22:55:39.088037Z",
     "iopub.status.idle": "2025-07-30T22:55:39.187874Z",
     "shell.execute_reply": "2025-07-30T22:55:39.186878Z"
    }
   },
   "outputs": [
    {
     "data": {
      "text/html": [
       "<div>\n",
       "<style scoped>\n",
       "    .dataframe tbody tr th:only-of-type {\n",
       "        vertical-align: middle;\n",
       "    }\n",
       "\n",
       "    .dataframe tbody tr th {\n",
       "        vertical-align: top;\n",
       "    }\n",
       "\n",
       "    .dataframe thead th {\n",
       "        text-align: right;\n",
       "    }\n",
       "</style>\n",
       "<table border=\"1\" class=\"dataframe\">\n",
       "  <thead>\n",
       "    <tr style=\"text-align: right;\">\n",
       "      <th></th>\n",
       "      <th>King</th>\n",
       "      <th>Kitsap</th>\n",
       "      <th>Pierce</th>\n",
       "      <th>Snohomish</th>\n",
       "      <th>Region</th>\n",
       "    </tr>\n",
       "  </thead>\n",
       "  <tbody>\n",
       "    <tr>\n",
       "      <th>Light</th>\n",
       "      <td>2,447,234</td>\n",
       "      <td>322,023</td>\n",
       "      <td>1,149,676</td>\n",
       "      <td>1,002,870</td>\n",
       "      <td>4,921,803</td>\n",
       "    </tr>\n",
       "    <tr>\n",
       "      <th>Moderate</th>\n",
       "      <td>613,564</td>\n",
       "      <td>6,249</td>\n",
       "      <td>155,523</td>\n",
       "      <td>167,598</td>\n",
       "      <td>942,933</td>\n",
       "    </tr>\n",
       "    <tr>\n",
       "      <th>Heavy</th>\n",
       "      <td>343,148</td>\n",
       "      <td>9,522</td>\n",
       "      <td>61,616</td>\n",
       "      <td>65,861</td>\n",
       "      <td>480,147</td>\n",
       "    </tr>\n",
       "    <tr>\n",
       "      <th>Severe</th>\n",
       "      <td>37,583</td>\n",
       "      <td>853</td>\n",
       "      <td>4,864</td>\n",
       "      <td>5,252</td>\n",
       "      <td>48,552</td>\n",
       "    </tr>\n",
       "    <tr>\n",
       "      <th>Heavy + Severe</th>\n",
       "      <td>380,732</td>\n",
       "      <td>10,375</td>\n",
       "      <td>66,480</td>\n",
       "      <td>71,112</td>\n",
       "      <td>528,699</td>\n",
       "    </tr>\n",
       "  </tbody>\n",
       "</table>\n",
       "</div>"
      ],
      "text/plain": [
       "                    King  Kitsap    Pierce  Snohomish    Region\n",
       "Light          2,447,234 322,023 1,149,676  1,002,870 4,921,803\n",
       "Moderate         613,564   6,249   155,523    167,598   942,933\n",
       "Heavy            343,148   9,522    61,616     65,861   480,147\n",
       "Severe            37,583     853     4,864      5,252    48,552\n",
       "Heavy + Severe   380,732  10,375    66,480     71,112   528,699"
      ]
     },
     "execution_count": 7,
     "metadata": {},
     "output_type": "execute_result"
    }
   ],
   "source": [
    "pd.options.display.float_format = '{:0,.0f}'.format\n",
    "df_pm = df[df['tod'] == '17to18']\n",
    "_df = df_pm.pivot_table(index='congestion_category',columns='county',\n",
    "               aggfunc='sum',values='VMT')\n",
    "_df = _df.reindex(['Light','Moderate','Heavy','Severe'])\n",
    "_df.index.name = None\n",
    "_df.columns.name = None\n",
    "_df['Region'] = _df.sum(axis=1)\n",
    "_df.loc['Heavy + Severe'] = _df.loc[['Heavy','Severe']].sum(axis=0)\n",
    "_df"
   ]
  },
  {
   "cell_type": "markdown",
   "id": "db0d8eea",
   "metadata": {},
   "source": [
    "----\n",
    "Share of VMT"
   ]
  },
  {
   "cell_type": "code",
   "execution_count": 8,
   "id": "e607cf53",
   "metadata": {
    "execution": {
     "iopub.execute_input": "2025-07-30T22:55:39.193450Z",
     "iopub.status.busy": "2025-07-30T22:55:39.192452Z",
     "iopub.status.idle": "2025-07-30T22:55:39.207410Z",
     "shell.execute_reply": "2025-07-30T22:55:39.206432Z"
    }
   },
   "outputs": [
    {
     "data": {
      "text/html": [
       "<div>\n",
       "<style scoped>\n",
       "    .dataframe tbody tr th:only-of-type {\n",
       "        vertical-align: middle;\n",
       "    }\n",
       "\n",
       "    .dataframe tbody tr th {\n",
       "        vertical-align: top;\n",
       "    }\n",
       "\n",
       "    .dataframe thead th {\n",
       "        text-align: right;\n",
       "    }\n",
       "</style>\n",
       "<table border=\"1\" class=\"dataframe\">\n",
       "  <thead>\n",
       "    <tr style=\"text-align: right;\">\n",
       "      <th></th>\n",
       "      <th>King</th>\n",
       "      <th>Kitsap</th>\n",
       "      <th>Pierce</th>\n",
       "      <th>Snohomish</th>\n",
       "      <th>Region</th>\n",
       "    </tr>\n",
       "  </thead>\n",
       "  <tbody>\n",
       "    <tr>\n",
       "      <th>Light</th>\n",
       "      <td>64.0%</td>\n",
       "      <td>92.3%</td>\n",
       "      <td>79.9%</td>\n",
       "      <td>76.4%</td>\n",
       "      <td>71.1%</td>\n",
       "    </tr>\n",
       "    <tr>\n",
       "      <th>Moderate</th>\n",
       "      <td>16.1%</td>\n",
       "      <td>1.8%</td>\n",
       "      <td>10.8%</td>\n",
       "      <td>12.8%</td>\n",
       "      <td>13.6%</td>\n",
       "    </tr>\n",
       "    <tr>\n",
       "      <th>Heavy</th>\n",
       "      <td>9.0%</td>\n",
       "      <td>2.7%</td>\n",
       "      <td>4.3%</td>\n",
       "      <td>5.0%</td>\n",
       "      <td>6.9%</td>\n",
       "    </tr>\n",
       "    <tr>\n",
       "      <th>Severe</th>\n",
       "      <td>1.0%</td>\n",
       "      <td>0.2%</td>\n",
       "      <td>0.3%</td>\n",
       "      <td>0.4%</td>\n",
       "      <td>0.7%</td>\n",
       "    </tr>\n",
       "    <tr>\n",
       "      <th>Heavy + Severe</th>\n",
       "      <td>10.0%</td>\n",
       "      <td>3.0%</td>\n",
       "      <td>4.6%</td>\n",
       "      <td>5.4%</td>\n",
       "      <td>7.6%</td>\n",
       "    </tr>\n",
       "  </tbody>\n",
       "</table>\n",
       "</div>"
      ],
      "text/plain": [
       "                King  Kitsap  Pierce  Snohomish  Region\n",
       "Light          64.0%   92.3%   79.9%      76.4%   71.1%\n",
       "Moderate       16.1%    1.8%   10.8%      12.8%   13.6%\n",
       "Heavy           9.0%    2.7%    4.3%       5.0%    6.9%\n",
       "Severe          1.0%    0.2%    0.3%       0.4%    0.7%\n",
       "Heavy + Severe 10.0%    3.0%    4.6%       5.4%    7.6%"
      ]
     },
     "execution_count": 8,
     "metadata": {},
     "output_type": "execute_result"
    }
   ],
   "source": [
    "pd.options.display.float_format = '{:0,.1%}'.format\n",
    "_df = _df/_df.sum(axis=0)\n",
    "_df"
   ]
  },
  {
   "cell_type": "raw",
   "id": "5ee6a692",
   "metadata": {
    "vscode": {
     "languageId": "raw"
    }
   },
   "source": [
    ":::"
   ]
  },
  {
   "cell_type": "markdown",
   "id": "650d8659",
   "metadata": {},
   "source": [
    "## Congestion by Road Type"
   ]
  },
  {
   "cell_type": "raw",
   "id": "d470131b",
   "metadata": {
    "vscode": {
     "languageId": "raw"
    }
   },
   "source": [
    "\n",
    ":::{.panel-tabset}\n",
    "### AM Peak (7 to 8 AM)"
   ]
  },
  {
   "cell_type": "markdown",
   "id": "258587b2",
   "metadata": {},
   "source": [
    "VMT"
   ]
  },
  {
   "cell_type": "code",
   "execution_count": 9,
   "id": "0b659efa",
   "metadata": {
    "execution": {
     "iopub.execute_input": "2025-07-30T22:55:39.212397Z",
     "iopub.status.busy": "2025-07-30T22:55:39.211400Z",
     "iopub.status.idle": "2025-07-30T22:55:39.305374Z",
     "shell.execute_reply": "2025-07-30T22:55:39.304385Z"
    }
   },
   "outputs": [
    {
     "data": {
      "text/html": [
       "<div>\n",
       "<style scoped>\n",
       "    .dataframe tbody tr th:only-of-type {\n",
       "        vertical-align: middle;\n",
       "    }\n",
       "\n",
       "    .dataframe tbody tr th {\n",
       "        vertical-align: top;\n",
       "    }\n",
       "\n",
       "    .dataframe thead th {\n",
       "        text-align: right;\n",
       "    }\n",
       "</style>\n",
       "<table border=\"1\" class=\"dataframe\">\n",
       "  <thead>\n",
       "    <tr style=\"text-align: right;\">\n",
       "      <th></th>\n",
       "      <th>Arterial</th>\n",
       "      <th>Connector</th>\n",
       "      <th>Highway</th>\n",
       "      <th>Other</th>\n",
       "    </tr>\n",
       "  </thead>\n",
       "  <tbody>\n",
       "    <tr>\n",
       "      <th>Light</th>\n",
       "      <td>2,115,888</td>\n",
       "      <td>325,123</td>\n",
       "      <td>1,842,686</td>\n",
       "      <td>300</td>\n",
       "    </tr>\n",
       "    <tr>\n",
       "      <th>Moderate</th>\n",
       "      <td>322,264</td>\n",
       "      <td>NaN</td>\n",
       "      <td>535,791</td>\n",
       "      <td>39</td>\n",
       "    </tr>\n",
       "    <tr>\n",
       "      <th>Heavy</th>\n",
       "      <td>190,377</td>\n",
       "      <td>NaN</td>\n",
       "      <td>501,848</td>\n",
       "      <td>0</td>\n",
       "    </tr>\n",
       "    <tr>\n",
       "      <th>Severe</th>\n",
       "      <td>32,613</td>\n",
       "      <td>NaN</td>\n",
       "      <td>34,626</td>\n",
       "      <td>0</td>\n",
       "    </tr>\n",
       "    <tr>\n",
       "      <th>Heavy + Severe</th>\n",
       "      <td>222,991</td>\n",
       "      <td>0</td>\n",
       "      <td>536,474</td>\n",
       "      <td>0</td>\n",
       "    </tr>\n",
       "  </tbody>\n",
       "</table>\n",
       "</div>"
      ],
      "text/plain": [
       "                Arterial  Connector   Highway  Other\n",
       "Light          2,115,888    325,123 1,842,686    300\n",
       "Moderate         322,264        NaN   535,791     39\n",
       "Heavy            190,377        NaN   501,848      0\n",
       "Severe            32,613        NaN    34,626      0\n",
       "Heavy + Severe   222,991          0   536,474      0"
      ]
     },
     "execution_count": 9,
     "metadata": {},
     "output_type": "execute_result"
    }
   ],
   "source": [
    "pd.options.display.float_format = '{:0,.0f}'.format\n",
    "df_am = df[df['tod'] == '7to8']\n",
    "_df = df_am.pivot_table(index='congestion_category',columns='facility_type',\n",
    "               aggfunc='sum',values='VMT')\n",
    "_df = _df.reindex(['Light','Moderate','Heavy','Severe'])\n",
    "_df.index.name = None\n",
    "_df.columns.name = None\n",
    "_df.loc['Heavy + Severe'] = _df.loc[['Heavy','Severe']].sum(axis=0)\n",
    "_df"
   ]
  },
  {
   "cell_type": "markdown",
   "id": "1b4a65c8",
   "metadata": {},
   "source": [
    "----\n",
    "Share of VMT"
   ]
  },
  {
   "cell_type": "code",
   "execution_count": 10,
   "id": "3aebb67a",
   "metadata": {
    "execution": {
     "iopub.execute_input": "2025-07-30T22:55:39.311359Z",
     "iopub.status.busy": "2025-07-30T22:55:39.310362Z",
     "iopub.status.idle": "2025-07-30T22:55:39.326080Z",
     "shell.execute_reply": "2025-07-30T22:55:39.324989Z"
    }
   },
   "outputs": [
    {
     "data": {
      "text/html": [
       "<div>\n",
       "<style scoped>\n",
       "    .dataframe tbody tr th:only-of-type {\n",
       "        vertical-align: middle;\n",
       "    }\n",
       "\n",
       "    .dataframe tbody tr th {\n",
       "        vertical-align: top;\n",
       "    }\n",
       "\n",
       "    .dataframe thead th {\n",
       "        text-align: right;\n",
       "    }\n",
       "</style>\n",
       "<table border=\"1\" class=\"dataframe\">\n",
       "  <thead>\n",
       "    <tr style=\"text-align: right;\">\n",
       "      <th></th>\n",
       "      <th>Arterial</th>\n",
       "      <th>Connector</th>\n",
       "      <th>Highway</th>\n",
       "      <th>Other</th>\n",
       "    </tr>\n",
       "  </thead>\n",
       "  <tbody>\n",
       "    <tr>\n",
       "      <th>Light</th>\n",
       "      <td>73.4%</td>\n",
       "      <td>100.0%</td>\n",
       "      <td>53.4%</td>\n",
       "      <td>88.4%</td>\n",
       "    </tr>\n",
       "    <tr>\n",
       "      <th>Moderate</th>\n",
       "      <td>11.2%</td>\n",
       "      <td>NaN</td>\n",
       "      <td>15.5%</td>\n",
       "      <td>11.6%</td>\n",
       "    </tr>\n",
       "    <tr>\n",
       "      <th>Heavy</th>\n",
       "      <td>6.6%</td>\n",
       "      <td>NaN</td>\n",
       "      <td>14.5%</td>\n",
       "      <td>0.0%</td>\n",
       "    </tr>\n",
       "    <tr>\n",
       "      <th>Severe</th>\n",
       "      <td>1.1%</td>\n",
       "      <td>NaN</td>\n",
       "      <td>1.0%</td>\n",
       "      <td>0.0%</td>\n",
       "    </tr>\n",
       "    <tr>\n",
       "      <th>Heavy + Severe</th>\n",
       "      <td>7.7%</td>\n",
       "      <td>0.0%</td>\n",
       "      <td>15.5%</td>\n",
       "      <td>0.0%</td>\n",
       "    </tr>\n",
       "  </tbody>\n",
       "</table>\n",
       "</div>"
      ],
      "text/plain": [
       "                Arterial  Connector  Highway  Other\n",
       "Light              73.4%     100.0%    53.4%  88.4%\n",
       "Moderate           11.2%        NaN    15.5%  11.6%\n",
       "Heavy               6.6%        NaN    14.5%   0.0%\n",
       "Severe              1.1%        NaN     1.0%   0.0%\n",
       "Heavy + Severe      7.7%       0.0%    15.5%   0.0%"
      ]
     },
     "execution_count": 10,
     "metadata": {},
     "output_type": "execute_result"
    }
   ],
   "source": [
    "pd.options.display.float_format = '{:0,.1%}'.format\n",
    "_df = _df/_df.sum(axis=0)\n",
    "_df"
   ]
  },
  {
   "cell_type": "raw",
   "id": "44c77ff3",
   "metadata": {
    "vscode": {
     "languageId": "raw"
    }
   },
   "source": [
    "### PM Peak (5 to 6 PM)"
   ]
  },
  {
   "cell_type": "markdown",
   "id": "910bc476",
   "metadata": {},
   "source": [
    "VMT"
   ]
  },
  {
   "cell_type": "code",
   "execution_count": 11,
   "id": "32fe5fab",
   "metadata": {
    "execution": {
     "iopub.execute_input": "2025-07-30T22:55:39.331264Z",
     "iopub.status.busy": "2025-07-30T22:55:39.330751Z",
     "iopub.status.idle": "2025-07-30T22:55:39.430771Z",
     "shell.execute_reply": "2025-07-30T22:55:39.429782Z"
    }
   },
   "outputs": [
    {
     "data": {
      "text/html": [
       "<div>\n",
       "<style scoped>\n",
       "    .dataframe tbody tr th:only-of-type {\n",
       "        vertical-align: middle;\n",
       "    }\n",
       "\n",
       "    .dataframe tbody tr th {\n",
       "        vertical-align: top;\n",
       "    }\n",
       "\n",
       "    .dataframe thead th {\n",
       "        text-align: right;\n",
       "    }\n",
       "</style>\n",
       "<table border=\"1\" class=\"dataframe\">\n",
       "  <thead>\n",
       "    <tr style=\"text-align: right;\">\n",
       "      <th></th>\n",
       "      <th>Arterial</th>\n",
       "      <th>Connector</th>\n",
       "      <th>Highway</th>\n",
       "      <th>Other</th>\n",
       "    </tr>\n",
       "  </thead>\n",
       "  <tbody>\n",
       "    <tr>\n",
       "      <th>Light</th>\n",
       "      <td>2,435,920</td>\n",
       "      <td>441,743</td>\n",
       "      <td>2,043,736</td>\n",
       "      <td>404</td>\n",
       "    </tr>\n",
       "    <tr>\n",
       "      <th>Moderate</th>\n",
       "      <td>332,625</td>\n",
       "      <td>NaN</td>\n",
       "      <td>610,308</td>\n",
       "      <td>0</td>\n",
       "    </tr>\n",
       "    <tr>\n",
       "      <th>Heavy</th>\n",
       "      <td>186,303</td>\n",
       "      <td>NaN</td>\n",
       "      <td>293,838</td>\n",
       "      <td>5</td>\n",
       "    </tr>\n",
       "    <tr>\n",
       "      <th>Severe</th>\n",
       "      <td>32,369</td>\n",
       "      <td>NaN</td>\n",
       "      <td>16,183</td>\n",
       "      <td>0</td>\n",
       "    </tr>\n",
       "    <tr>\n",
       "      <th>Heavy + Severe</th>\n",
       "      <td>218,672</td>\n",
       "      <td>0</td>\n",
       "      <td>310,021</td>\n",
       "      <td>5</td>\n",
       "    </tr>\n",
       "  </tbody>\n",
       "</table>\n",
       "</div>"
      ],
      "text/plain": [
       "                Arterial  Connector   Highway  Other\n",
       "Light          2,435,920    441,743 2,043,736    404\n",
       "Moderate         332,625        NaN   610,308      0\n",
       "Heavy            186,303        NaN   293,838      5\n",
       "Severe            32,369        NaN    16,183      0\n",
       "Heavy + Severe   218,672          0   310,021      5"
      ]
     },
     "execution_count": 11,
     "metadata": {},
     "output_type": "execute_result"
    }
   ],
   "source": [
    "\n",
    "pd.options.display.float_format = '{:0,.0f}'.format\n",
    "df_pm = df[df['tod'] == '17to18']\n",
    "_df = df_pm.pivot_table(index='congestion_category',columns='facility_type',\n",
    "               aggfunc='sum',values='VMT')\n",
    "_df = _df.reindex(['Light','Moderate','Heavy','Severe'])\n",
    "_df.index.name = None\n",
    "_df.columns.name = None\n",
    "_df.loc['Heavy + Severe'] = _df.loc[['Heavy','Severe']].sum(axis=0)\n",
    "_df"
   ]
  },
  {
   "cell_type": "markdown",
   "id": "2eb899b2",
   "metadata": {},
   "source": [
    "----\n",
    "Share of VMT"
   ]
  },
  {
   "cell_type": "code",
   "execution_count": 12,
   "id": "97607e1a",
   "metadata": {
    "execution": {
     "iopub.execute_input": "2025-07-30T22:55:39.436272Z",
     "iopub.status.busy": "2025-07-30T22:55:39.436272Z",
     "iopub.status.idle": "2025-07-30T22:55:39.450826Z",
     "shell.execute_reply": "2025-07-30T22:55:39.449837Z"
    }
   },
   "outputs": [
    {
     "data": {
      "text/html": [
       "<div>\n",
       "<style scoped>\n",
       "    .dataframe tbody tr th:only-of-type {\n",
       "        vertical-align: middle;\n",
       "    }\n",
       "\n",
       "    .dataframe tbody tr th {\n",
       "        vertical-align: top;\n",
       "    }\n",
       "\n",
       "    .dataframe thead th {\n",
       "        text-align: right;\n",
       "    }\n",
       "</style>\n",
       "<table border=\"1\" class=\"dataframe\">\n",
       "  <thead>\n",
       "    <tr style=\"text-align: right;\">\n",
       "      <th></th>\n",
       "      <th>Arterial</th>\n",
       "      <th>Connector</th>\n",
       "      <th>Highway</th>\n",
       "      <th>Other</th>\n",
       "    </tr>\n",
       "  </thead>\n",
       "  <tbody>\n",
       "    <tr>\n",
       "      <th>Light</th>\n",
       "      <td>76.0%</td>\n",
       "      <td>100.0%</td>\n",
       "      <td>62.4%</td>\n",
       "      <td>97.4%</td>\n",
       "    </tr>\n",
       "    <tr>\n",
       "      <th>Moderate</th>\n",
       "      <td>10.4%</td>\n",
       "      <td>NaN</td>\n",
       "      <td>18.6%</td>\n",
       "      <td>0.0%</td>\n",
       "    </tr>\n",
       "    <tr>\n",
       "      <th>Heavy</th>\n",
       "      <td>5.8%</td>\n",
       "      <td>NaN</td>\n",
       "      <td>9.0%</td>\n",
       "      <td>1.3%</td>\n",
       "    </tr>\n",
       "    <tr>\n",
       "      <th>Severe</th>\n",
       "      <td>1.0%</td>\n",
       "      <td>NaN</td>\n",
       "      <td>0.5%</td>\n",
       "      <td>0.0%</td>\n",
       "    </tr>\n",
       "    <tr>\n",
       "      <th>Heavy + Severe</th>\n",
       "      <td>6.8%</td>\n",
       "      <td>0.0%</td>\n",
       "      <td>9.5%</td>\n",
       "      <td>1.3%</td>\n",
       "    </tr>\n",
       "  </tbody>\n",
       "</table>\n",
       "</div>"
      ],
      "text/plain": [
       "                Arterial  Connector  Highway  Other\n",
       "Light              76.0%     100.0%    62.4%  97.4%\n",
       "Moderate           10.4%        NaN    18.6%   0.0%\n",
       "Heavy               5.8%        NaN     9.0%   1.3%\n",
       "Severe              1.0%        NaN     0.5%   0.0%\n",
       "Heavy + Severe      6.8%       0.0%     9.5%   1.3%"
      ]
     },
     "execution_count": 12,
     "metadata": {},
     "output_type": "execute_result"
    }
   ],
   "source": [
    "pd.options.display.float_format = '{:0,.1%}'.format\n",
    "_df = _df/_df.sum(axis=0)\n",
    "_df"
   ]
  },
  {
   "cell_type": "raw",
   "id": "9668c167",
   "metadata": {
    "vscode": {
     "languageId": "raw"
    }
   },
   "source": [
    ":::"
   ]
  },
  {
   "cell_type": "code",
   "execution_count": 13,
   "id": "fa4b43ec",
   "metadata": {
    "execution": {
     "iopub.execute_input": "2025-07-30T22:55:39.455853Z",
     "iopub.status.busy": "2025-07-30T22:55:39.454815Z",
     "iopub.status.idle": "2025-07-30T22:55:39.464381Z",
     "shell.execute_reply": "2025-07-30T22:55:39.463861Z"
    }
   },
   "outputs": [
    {
     "data": {
      "text/plain": [
       "np.float64(15257.412175647827)"
      ]
     },
     "execution_count": 13,
     "metadata": {},
     "output_type": "execute_result"
    }
   ],
   "source": [
    "# _df = df_am.pivot_table(index='congestion_category',columns='facility_type',\n",
    "#                aggfunc='sum',values='length')\n",
    "pd.options.display.float_format = '{:0,.0f}'.format\n",
    "df_pm['length'].sum()"
   ]
  },
  {
   "cell_type": "markdown",
   "id": "f2113cd4",
   "metadata": {},
   "source": [
    "## Miles of Roadway withy Heavy Congestion"
   ]
  },
  {
   "cell_type": "code",
   "execution_count": 14,
   "id": "a8109b5a",
   "metadata": {
    "execution": {
     "iopub.execute_input": "2025-07-30T22:55:39.468478Z",
     "iopub.status.busy": "2025-07-30T22:55:39.467481Z",
     "iopub.status.idle": "2025-07-30T22:55:39.473039Z",
     "shell.execute_reply": "2025-07-30T22:55:39.472986Z"
    }
   },
   "outputs": [
    {
     "name": "stdout",
     "output_type": "stream",
     "text": [
      "Total Miles of Roadway: 15257\n"
     ]
    }
   ],
   "source": [
    "print(f\"Total Miles of Roadway: {int(df_am['length'].sum())}\")"
   ]
  },
  {
   "cell_type": "code",
   "execution_count": 15,
   "id": "fa5fd144",
   "metadata": {
    "execution": {
     "iopub.execute_input": "2025-07-30T22:55:39.476979Z",
     "iopub.status.busy": "2025-07-30T22:55:39.475988Z",
     "iopub.status.idle": "2025-07-30T22:55:39.491074Z",
     "shell.execute_reply": "2025-07-30T22:55:39.490085Z"
    }
   },
   "outputs": [
    {
     "name": "stdout",
     "output_type": "stream",
     "text": [
      "Total Miles of Roadway: 460\n"
     ]
    }
   ],
   "source": [
    "congested_len = df_am[df_am['congestion_category'].isin(['Heavy','Severe'])]['length'].sum()\n",
    "print(f\"Total Miles of Roadway: {int(congested_len)}\")"
   ]
  },
  {
   "cell_type": "code",
   "execution_count": 16,
   "id": "1def0fef",
   "metadata": {
    "execution": {
     "iopub.execute_input": "2025-07-30T22:55:39.494067Z",
     "iopub.status.busy": "2025-07-30T22:55:39.493155Z",
     "iopub.status.idle": "2025-07-30T22:55:39.497358Z",
     "shell.execute_reply": "2025-07-30T22:55:39.497358Z"
    }
   },
   "outputs": [
    {
     "name": "stdout",
     "output_type": "stream",
     "text": [
      "Share Congested: 3.0%\n"
     ]
    }
   ],
   "source": [
    "print(f\"Share Congested: {congested_len/df_pm['length'].sum():.1%}\")"
   ]
  },
  {
   "cell_type": "markdown",
   "id": "b5fc7e7d",
   "metadata": {},
   "source": [
    "## Corridor Travel Time"
   ]
  },
  {
   "cell_type": "raw",
   "id": "1e283f69",
   "metadata": {
    "vscode": {
     "languageId": "raw"
    }
   },
   "source": [
    ":::{.panel-tabset}\n",
    "### AM Peak (7 to 8 AM)"
   ]
  },
  {
   "cell_type": "code",
   "execution_count": 17,
   "id": "faf85113",
   "metadata": {
    "execution": {
     "iopub.execute_input": "2025-07-30T22:55:39.500343Z",
     "iopub.status.busy": "2025-07-30T22:55:39.500343Z",
     "iopub.status.idle": "2025-07-30T22:55:39.651030Z",
     "shell.execute_reply": "2025-07-30T22:55:39.650514Z"
    }
   },
   "outputs": [
    {
     "data": {
      "text/html": [
       "<div>\n",
       "<style scoped>\n",
       "    .dataframe tbody tr th:only-of-type {\n",
       "        vertical-align: middle;\n",
       "    }\n",
       "\n",
       "    .dataframe tbody tr th {\n",
       "        vertical-align: top;\n",
       "    }\n",
       "\n",
       "    .dataframe thead th {\n",
       "        text-align: right;\n",
       "    }\n",
       "</style>\n",
       "<table border=\"1\" class=\"dataframe\">\n",
       "  <thead>\n",
       "    <tr style=\"text-align: right;\">\n",
       "      <th></th>\n",
       "      <th>Corridor</th>\n",
       "      <th>Auto Travel Time (min.)</th>\n",
       "    </tr>\n",
       "  </thead>\n",
       "  <tbody>\n",
       "    <tr>\n",
       "      <th>15</th>\n",
       "      <td>Everett to Seattle - SB</td>\n",
       "      <td>60.7</td>\n",
       "    </tr>\n",
       "    <tr>\n",
       "      <th>24</th>\n",
       "      <td>Tacoma to Seattle - NB</td>\n",
       "      <td>65.8</td>\n",
       "    </tr>\n",
       "    <tr>\n",
       "      <th>51</th>\n",
       "      <td>Lynnwood to Bellevue - SB</td>\n",
       "      <td>37.0</td>\n",
       "    </tr>\n",
       "    <tr>\n",
       "      <th>60</th>\n",
       "      <td>Tukwila to Bellevue - NB</td>\n",
       "      <td>30.1</td>\n",
       "    </tr>\n",
       "    <tr>\n",
       "      <th>78</th>\n",
       "      <td>Auburn to Renton - NB</td>\n",
       "      <td>25.2</td>\n",
       "    </tr>\n",
       "    <tr>\n",
       "      <th>96</th>\n",
       "      <td>Redmond to Seattle - WB</td>\n",
       "      <td>28.6</td>\n",
       "    </tr>\n",
       "    <tr>\n",
       "      <th>114</th>\n",
       "      <td>Redmond to Bellevue - WB</td>\n",
       "      <td>12.5</td>\n",
       "    </tr>\n",
       "    <tr>\n",
       "      <th>132</th>\n",
       "      <td>Issaquah to Bellevue - WB</td>\n",
       "      <td>13.9</td>\n",
       "    </tr>\n",
       "    <tr>\n",
       "      <th>159</th>\n",
       "      <td>Bellevue to Seattle via 520 - EB</td>\n",
       "      <td>23.1</td>\n",
       "    </tr>\n",
       "    <tr>\n",
       "      <th>168</th>\n",
       "      <td>Bellevue to Seattle via 90 - WB</td>\n",
       "      <td>27.8</td>\n",
       "    </tr>\n",
       "  </tbody>\n",
       "</table>\n",
       "</div>"
      ],
      "text/plain": [
       "                             Corridor  Auto Travel Time (min.)\n",
       "15            Everett to Seattle - SB                     60.7\n",
       "24             Tacoma to Seattle - NB                     65.8\n",
       "51          Lynnwood to Bellevue - SB                     37.0\n",
       "60           Tukwila to Bellevue - NB                     30.1\n",
       "78              Auburn to Renton - NB                     25.2\n",
       "96            Redmond to Seattle - WB                     28.6\n",
       "114          Redmond to Bellevue - WB                     12.5\n",
       "132         Issaquah to Bellevue - WB                     13.9\n",
       "159  Bellevue to Seattle via 520 - EB                     23.1\n",
       "168   Bellevue to Seattle via 90 - WB                     27.8"
      ]
     },
     "execution_count": 17,
     "metadata": {},
     "output_type": "execute_result"
    }
   ],
   "source": [
    "pd.options.display.float_format = '{:0,.1f}'.format\n",
    "\n",
    "df = pd.read_csv(r'..\\..\\..\\..\\outputs\\validation\\corridor_speeds.csv')\n",
    "\n",
    "# For each Corridor_Descrption, define as AM or pm beak by finding which direction has max value\n",
    "df = df[df['tod'].isin(['7to8','17to18']) & (df['Corridor_Number'] <= 20)]\n",
    "\n",
    "# Corridors are grouped so that directions are [1,2], [3,4]\n",
    "for i in range(1,21):\n",
    "# for i in range(7,8):\n",
    "    _df = df[df['Corridor_Number'] == i]\n",
    "#     print(_df)\n",
    "    peak_time = _df.sort_values('auto_time').iloc[-1]['tod']\n",
    "    df.loc[df['Corridor_Number']==i, 'peak'] = peak_time\n",
    "    \n",
    "df.rename(columns={'Corridor_Description': 'Corridor', 'auto_time':'Auto Travel Time (min.)'}, inplace=True)\n",
    "df[(df['peak'] == '7to8') & (df['tod'] == '7to8')][['Corridor','Auto Travel Time (min.)']]"
   ]
  },
  {
   "cell_type": "raw",
   "id": "bfb6c44e",
   "metadata": {
    "vscode": {
     "languageId": "raw"
    }
   },
   "source": [
    "### PM Peak (17 to 18 PM)"
   ]
  },
  {
   "cell_type": "code",
   "execution_count": 18,
   "id": "d74ca313",
   "metadata": {
    "execution": {
     "iopub.execute_input": "2025-07-30T22:55:39.655013Z",
     "iopub.status.busy": "2025-07-30T22:55:39.655013Z",
     "iopub.status.idle": "2025-07-30T22:55:39.667172Z",
     "shell.execute_reply": "2025-07-30T22:55:39.666182Z"
    }
   },
   "outputs": [
    {
     "data": {
      "text/html": [
       "<div>\n",
       "<style scoped>\n",
       "    .dataframe tbody tr th:only-of-type {\n",
       "        vertical-align: middle;\n",
       "    }\n",
       "\n",
       "    .dataframe tbody tr th {\n",
       "        vertical-align: top;\n",
       "    }\n",
       "\n",
       "    .dataframe thead th {\n",
       "        text-align: right;\n",
       "    }\n",
       "</style>\n",
       "<table border=\"1\" class=\"dataframe\">\n",
       "  <thead>\n",
       "    <tr style=\"text-align: right;\">\n",
       "      <th></th>\n",
       "      <th>Corridor</th>\n",
       "      <th>Auto Travel Time (min.)</th>\n",
       "    </tr>\n",
       "  </thead>\n",
       "  <tbody>\n",
       "    <tr>\n",
       "      <th>2</th>\n",
       "      <td>Seattle to Everett - NB</td>\n",
       "      <td>52.8</td>\n",
       "    </tr>\n",
       "    <tr>\n",
       "      <th>29</th>\n",
       "      <td>Seattle to Tacoma - SB</td>\n",
       "      <td>56.0</td>\n",
       "    </tr>\n",
       "    <tr>\n",
       "      <th>38</th>\n",
       "      <td>Bellevue to Lynnwood - NB</td>\n",
       "      <td>31.7</td>\n",
       "    </tr>\n",
       "    <tr>\n",
       "      <th>65</th>\n",
       "      <td>Bellevue to Tukwila - SB</td>\n",
       "      <td>27.5</td>\n",
       "    </tr>\n",
       "    <tr>\n",
       "      <th>83</th>\n",
       "      <td>Renton to Auburn - SB</td>\n",
       "      <td>21.3</td>\n",
       "    </tr>\n",
       "    <tr>\n",
       "      <th>101</th>\n",
       "      <td>Seattle to Redmond - EB</td>\n",
       "      <td>23.0</td>\n",
       "    </tr>\n",
       "    <tr>\n",
       "      <th>119</th>\n",
       "      <td>Bellevue to Redmond - EB</td>\n",
       "      <td>10.8</td>\n",
       "    </tr>\n",
       "    <tr>\n",
       "      <th>137</th>\n",
       "      <td>Bellevue to Issaquah - EB</td>\n",
       "      <td>12.0</td>\n",
       "    </tr>\n",
       "    <tr>\n",
       "      <th>146</th>\n",
       "      <td>Seattle to Bellevue via 520 - WB</td>\n",
       "      <td>17.0</td>\n",
       "    </tr>\n",
       "    <tr>\n",
       "      <th>173</th>\n",
       "      <td>Seattle to Bellevue via 90 - EB</td>\n",
       "      <td>24.5</td>\n",
       "    </tr>\n",
       "  </tbody>\n",
       "</table>\n",
       "</div>"
      ],
      "text/plain": [
       "                             Corridor  Auto Travel Time (min.)\n",
       "2             Seattle to Everett - NB                     52.8\n",
       "29             Seattle to Tacoma - SB                     56.0\n",
       "38          Bellevue to Lynnwood - NB                     31.7\n",
       "65           Bellevue to Tukwila - SB                     27.5\n",
       "83              Renton to Auburn - SB                     21.3\n",
       "101           Seattle to Redmond - EB                     23.0\n",
       "119          Bellevue to Redmond - EB                     10.8\n",
       "137         Bellevue to Issaquah - EB                     12.0\n",
       "146  Seattle to Bellevue via 520 - WB                     17.0\n",
       "173   Seattle to Bellevue via 90 - EB                     24.5"
      ]
     },
     "execution_count": 18,
     "metadata": {},
     "output_type": "execute_result"
    }
   ],
   "source": [
    "df[(df['peak'] == '17to18') & (df['tod'] == '17to18')][['Corridor','Auto Travel Time (min.)']]"
   ]
  },
  {
   "cell_type": "raw",
   "id": "b4b52db4",
   "metadata": {
    "vscode": {
     "languageId": "raw"
    }
   },
   "source": [
    ":::"
   ]
  },
  {
   "cell_type": "markdown",
   "id": "b46a2c0c",
   "metadata": {
    "vscode": {
     "languageId": "raw"
    }
   },
   "source": [
    "## Delay"
   ]
  },
  {
   "cell_type": "raw",
   "id": "42f7fb5a",
   "metadata": {
    "vscode": {
     "languageId": "raw"
    }
   },
   "source": [
    "::: {.panel-tabset}\n",
    "### Network Delay"
   ]
  },
  {
   "cell_type": "code",
   "execution_count": 19,
   "id": "a8d295f2",
   "metadata": {
    "execution": {
     "iopub.execute_input": "2025-07-30T22:55:39.671162Z",
     "iopub.status.busy": "2025-07-30T22:55:39.670166Z",
     "iopub.status.idle": "2025-07-30T22:55:47.857461Z",
     "shell.execute_reply": "2025-07-30T22:55:47.857461Z"
    }
   },
   "outputs": [],
   "source": [
    "df = process_network_summary()\n",
    "df = df[df['county']!='Outside Region']"
   ]
  },
  {
   "cell_type": "code",
   "execution_count": 20,
   "id": "dfca9946",
   "metadata": {
    "execution": {
     "iopub.execute_input": "2025-07-30T22:55:47.864441Z",
     "iopub.status.busy": "2025-07-30T22:55:47.863444Z",
     "iopub.status.idle": "2025-07-30T22:55:47.930417Z",
     "shell.execute_reply": "2025-07-30T22:55:47.929414Z"
    }
   },
   "outputs": [
    {
     "data": {
      "text/html": [
       "<div>\n",
       "<style scoped>\n",
       "    .dataframe tbody tr th:only-of-type {\n",
       "        vertical-align: middle;\n",
       "    }\n",
       "\n",
       "    .dataframe tbody tr th {\n",
       "        vertical-align: top;\n",
       "    }\n",
       "\n",
       "    .dataframe thead th {\n",
       "        text-align: right;\n",
       "    }\n",
       "</style>\n",
       "<table border=\"1\" class=\"dataframe\">\n",
       "  <thead>\n",
       "    <tr style=\"text-align: right;\">\n",
       "      <th></th>\n",
       "      <th>total_delay</th>\n",
       "    </tr>\n",
       "    <tr>\n",
       "      <th>county</th>\n",
       "      <th></th>\n",
       "    </tr>\n",
       "  </thead>\n",
       "  <tbody>\n",
       "    <tr>\n",
       "      <th>King</th>\n",
       "      <td>149,321.8</td>\n",
       "    </tr>\n",
       "    <tr>\n",
       "      <th>Kitsap</th>\n",
       "      <td>2,726.5</td>\n",
       "    </tr>\n",
       "    <tr>\n",
       "      <th>Pierce</th>\n",
       "      <td>29,944.7</td>\n",
       "    </tr>\n",
       "    <tr>\n",
       "      <th>Snohomish</th>\n",
       "      <td>29,737.5</td>\n",
       "    </tr>\n",
       "  </tbody>\n",
       "</table>\n",
       "</div>"
      ],
      "text/plain": [
       "           total_delay\n",
       "county                \n",
       "King         149,321.8\n",
       "Kitsap         2,726.5\n",
       "Pierce        29,944.7\n",
       "Snohomish     29,737.5"
      ]
     },
     "execution_count": 20,
     "metadata": {},
     "output_type": "execute_result"
    }
   ],
   "source": [
    "df[['total_delay','county']].groupby('county').sum()[['total_delay']]"
   ]
  },
  {
   "cell_type": "raw",
   "id": "44df2384",
   "metadata": {
    "vscode": {
     "languageId": "raw"
    }
   },
   "source": [
    "### Transit Delay"
   ]
  },
  {
   "cell_type": "code",
   "execution_count": 21,
   "id": "30a7cd99",
   "metadata": {
    "execution": {
     "iopub.execute_input": "2025-07-30T22:55:47.936401Z",
     "iopub.status.busy": "2025-07-30T22:55:47.935404Z",
     "iopub.status.idle": "2025-07-30T22:55:56.475446Z",
     "shell.execute_reply": "2025-07-30T22:55:56.474450Z"
    }
   },
   "outputs": [],
   "source": [
    "# Congestion on Transit Routes\n",
    "df_network = process_network_summary()\n",
    "# df = df[df['county']!='Outside Region']\n",
    "# Get PM congestion only for now\n",
    "\n",
    "tod = '17to18'\n",
    "df_network_pm = df_network[df_network['tod']==tod]\n",
    "\n",
    "df = pd.read_csv((Path(output_path, 'transit/transit_segment_results.csv')))\n",
    "df = df[df['tod']==tod]\n",
    "\n",
    "df = df[~df['j_node'].isnull()]\n",
    "df = df.merge(df_network_pm, on=['i_node','j_node'], how='left')"
   ]
  },
  {
   "cell_type": "code",
   "execution_count": 22,
   "id": "bfb20f92",
   "metadata": {
    "execution": {
     "iopub.execute_input": "2025-07-30T22:55:56.481430Z",
     "iopub.status.busy": "2025-07-30T22:55:56.480433Z",
     "iopub.status.idle": "2025-07-30T22:55:56.492008Z",
     "shell.execute_reply": "2025-07-30T22:55:56.490975Z"
    }
   },
   "outputs": [],
   "source": [
    "df[\"delay\"] = df[\"auto_time\"] - df[\"freeflow_time\"]\n",
    "df[\"person_delay\"] = df['segment_volume']*df['delay']"
   ]
  },
  {
   "cell_type": "markdown",
   "id": "11cd8b82",
   "metadata": {},
   "source": []
  },
  {
   "cell_type": "code",
   "execution_count": 23,
   "id": "6c88e2d7",
   "metadata": {
    "execution": {
     "iopub.execute_input": "2025-07-30T22:55:56.497729Z",
     "iopub.status.busy": "2025-07-30T22:55:56.497729Z",
     "iopub.status.idle": "2025-07-30T22:55:56.635413Z",
     "shell.execute_reply": "2025-07-30T22:55:56.635413Z"
    }
   },
   "outputs": [],
   "source": [
    "df_sum = df.groupby('line_id').sum()[['auto_time','freeflow_time','person_delay']]\n",
    "df_sum['vehicle_delay'] = df_sum['auto_time']-df_sum['freeflow_time']\n",
    "\n",
    "# Merge the line IDs to transit line results to get agency IDs or some other metric\n",
    "df_line_results = pd.read_csv((Path(output_path, 'transit/transit_line_results.csv')))\n",
    "df_line_results = df_line_results[df_line_results['tod']==tod]\n",
    "df_sum = df_sum.merge(df_line_results, on='line_id', how='left')"
   ]
  },
  {
   "cell_type": "code",
   "execution_count": 24,
   "id": "dee3a429",
   "metadata": {
    "execution": {
     "iopub.execute_input": "2025-07-30T22:55:56.639398Z",
     "iopub.status.busy": "2025-07-30T22:55:56.639398Z",
     "iopub.status.idle": "2025-07-30T22:55:56.646143Z",
     "shell.execute_reply": "2025-07-30T22:55:56.645085Z"
    }
   },
   "outputs": [],
   "source": [
    "# Compare person-delay in transit vs person-delay in vehicles on specific corridors"
   ]
  },
  {
   "cell_type": "code",
   "execution_count": null,
   "id": "e8b179dc",
   "metadata": {},
   "outputs": [],
   "source": []
  },
  {
   "cell_type": "code",
   "execution_count": 25,
   "id": "b94b68aa",
   "metadata": {
    "execution": {
     "iopub.execute_input": "2025-07-30T22:55:56.650127Z",
     "iopub.status.busy": "2025-07-30T22:55:56.650127Z",
     "iopub.status.idle": "2025-07-30T22:55:56.653892Z",
     "shell.execute_reply": "2025-07-30T22:55:56.653892Z"
    }
   },
   "outputs": [],
   "source": [
    "# # Total minutes of delay by agency\n",
    "# df = df_sum.groupby('agency_code').sum()[['delay']]\n",
    "# df.index = df.index.astype('int').astype('str').map(summary_config['agency_lookup'])\n",
    "# df.index.name = 'Agency'\n",
    "# df.rename(columns={'delay': 'Total Route Delay (min) at PM Peak'}, inplace=True)\n",
    "# df"
   ]
  },
  {
   "cell_type": "code",
   "execution_count": 26,
   "id": "080f0d18",
   "metadata": {
    "execution": {
     "iopub.execute_input": "2025-07-30T22:55:56.658873Z",
     "iopub.status.busy": "2025-07-30T22:55:56.658873Z",
     "iopub.status.idle": "2025-07-30T22:55:56.662878Z",
     "shell.execute_reply": "2025-07-30T22:55:56.662878Z"
    }
   },
   "outputs": [],
   "source": [
    "# # Ridership and Delay\n",
    "# df_sum.groupby('agency_code').sum()[['person_delay']]/60"
   ]
  },
  {
   "cell_type": "code",
   "execution_count": 27,
   "id": "06d1d1d2",
   "metadata": {
    "execution": {
     "iopub.execute_input": "2025-07-30T22:55:56.667857Z",
     "iopub.status.busy": "2025-07-30T22:55:56.666859Z",
     "iopub.status.idle": "2025-07-30T22:55:56.671936Z",
     "shell.execute_reply": "2025-07-30T22:55:56.671372Z"
    }
   },
   "outputs": [],
   "source": [
    "# # df = pd.read_csv((Path(output_path, 'transit/transit_segment_results.csv')))\n",
    "# # df = df[df['tod']=='7to8']\n",
    "# df_sum\n"
   ]
  },
  {
   "cell_type": "raw",
   "id": "c880828f",
   "metadata": {},
   "source": [
    ":::"
   ]
  }
 ],
 "metadata": {
  "kernelspec": {
   "display_name": "summary",
   "language": "python",
   "name": "python3"
  },
  "language_info": {
   "codemirror_mode": {
    "name": "ipython",
    "version": 3
   },
   "file_extension": ".py",
   "mimetype": "text/x-python",
   "name": "python",
   "nbconvert_exporter": "python",
   "pygments_lexer": "ipython3",
   "version": "3.11.12"
  }
 },
 "nbformat": 4,
 "nbformat_minor": 5
}
