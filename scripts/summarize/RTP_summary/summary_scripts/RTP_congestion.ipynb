{
 "cells": [
  {
   "cell_type": "raw",
   "id": "fe4cb836",
   "metadata": {
    "vscode": {
     "languageId": "raw"
    }
   },
   "source": [
    "---\n",
    "title: \"Congestion\"\n",
    "date: today\n",
    "---"
   ]
  },
  {
   "cell_type": "code",
   "execution_count": 1,
   "id": "91f43bfa",
   "metadata": {
    "execution": {
     "iopub.execute_input": "2025-09-30T20:24:19.625965Z",
     "iopub.status.busy": "2025-09-30T20:24:19.624966Z",
     "iopub.status.idle": "2025-09-30T20:24:20.977046Z",
     "shell.execute_reply": "2025-09-30T20:24:20.975492Z"
    }
   },
   "outputs": [],
   "source": [
    "import pandas as pd\n",
    "from pathlib import Path\n",
    "import util\n",
    "\n",
    "pd.set_option('display.float_format', '{:,.1f}'.format)"
   ]
  },
  {
   "cell_type": "markdown",
   "id": "70f95bfc",
   "metadata": {},
   "source": [
    "## Congestion Levels by County\n",
    "\n",
    "Congestion levels are defined by the ratio of congested speed to posted speed limits:\n",
    "\n",
    "- Minimal: Ratio > 0.70\n",
    "- Moderate: Ratio > 0.50 and <=0.70\n",
    "- Heavy: > 0.25 and <= 0.50\n",
    "- Severe: Ratio <= 0.25\n",
    "\n",
    "AM (7-8)"
   ]
  },
  {
   "cell_type": "code",
   "execution_count": 2,
   "id": "7ef4b11f",
   "metadata": {
    "execution": {
     "iopub.execute_input": "2025-09-30T20:24:20.983367Z",
     "iopub.status.busy": "2025-09-30T20:24:20.982332Z",
     "iopub.status.idle": "2025-09-30T20:24:20.988678Z",
     "shell.execute_reply": "2025-09-30T20:24:20.987579Z"
    }
   },
   "outputs": [],
   "source": [
    "# # gdf = gpd.read_file(r'../../../inputs/scenario/networks/shapefiles/AM/AM_edges.shp')\n",
    "# gdf = gpd.read_file(Path(summary_config['sc_run_path'], 'inputs/scenario/networks/shapefiles/AM/AM_edges.shp'))\n",
    "# gdf.crs = 'EPSG:2285'\n",
    "\n",
    "# df = process_network_summary()\n",
    "# # NOTE: for visualization, do not show connectors\n",
    "# df = df[df['data3'] != 5]\n",
    "# gdf = gdf.merge(df[df['tod'] == '7to8'][['ij','congestion_index','congestion_category']], left_on='link_id', right_on='ij', how='left')\n",
    "# gdf['congestion_category'] = gdf['congestion_category'].fillna('Light')\n",
    "# color_mapping = {'Light': 'grey','Moderate': 'orange','Heavy': 'red','Severe':'black'}\n",
    "# gdf.plot(color=gdf[\"congestion_category\"].map(color_mapping), alpha=0.3, linewidth=gdf['lanes'], figsize=(20,20)) "
   ]
  },
  {
   "cell_type": "code",
   "execution_count": 3,
   "id": "2f49098f",
   "metadata": {
    "execution": {
     "iopub.execute_input": "2025-09-30T20:24:20.994381Z",
     "iopub.status.busy": "2025-09-30T20:24:20.993352Z",
     "iopub.status.idle": "2025-09-30T20:24:29.461120Z",
     "shell.execute_reply": "2025-09-30T20:24:29.460121Z"
    }
   },
   "outputs": [],
   "source": [
    "df = util.process_network_summary()\n",
    "df = df[df['county']!='Outside Region']"
   ]
  },
  {
   "cell_type": "raw",
   "id": "059f3438",
   "metadata": {
    "vscode": {
     "languageId": "raw"
    }
   },
   "source": [
    "\n",
    ":::{.panel-tabset}\n",
    "### AM Peak (7 to 8 AM)"
   ]
  },
  {
   "cell_type": "markdown",
   "id": "f314d257",
   "metadata": {},
   "source": [
    "VMT"
   ]
  },
  {
   "cell_type": "code",
   "execution_count": 4,
   "id": "5af5287a",
   "metadata": {
    "execution": {
     "iopub.execute_input": "2025-09-30T20:24:29.468101Z",
     "iopub.status.busy": "2025-09-30T20:24:29.467104Z",
     "iopub.status.idle": "2025-09-30T20:24:29.577970Z",
     "shell.execute_reply": "2025-09-30T20:24:29.576971Z"
    }
   },
   "outputs": [
    {
     "data": {
      "text/html": [
       "<div>\n",
       "<style scoped>\n",
       "    .dataframe tbody tr th:only-of-type {\n",
       "        vertical-align: middle;\n",
       "    }\n",
       "\n",
       "    .dataframe tbody tr th {\n",
       "        vertical-align: top;\n",
       "    }\n",
       "\n",
       "    .dataframe thead th {\n",
       "        text-align: right;\n",
       "    }\n",
       "</style>\n",
       "<table border=\"1\" class=\"dataframe\">\n",
       "  <thead>\n",
       "    <tr style=\"text-align: right;\">\n",
       "      <th></th>\n",
       "      <th>King</th>\n",
       "      <th>Kitsap</th>\n",
       "      <th>Pierce</th>\n",
       "      <th>Snohomish</th>\n",
       "      <th>Region</th>\n",
       "    </tr>\n",
       "  </thead>\n",
       "  <tbody>\n",
       "    <tr>\n",
       "      <th>Light</th>\n",
       "      <td>2,260,913</td>\n",
       "      <td>333,618</td>\n",
       "      <td>1,098,917</td>\n",
       "      <td>1,024,714</td>\n",
       "      <td>4,718,161</td>\n",
       "    </tr>\n",
       "    <tr>\n",
       "      <th>Moderate</th>\n",
       "      <td>636,389</td>\n",
       "      <td>19,779</td>\n",
       "      <td>241,290</td>\n",
       "      <td>203,074</td>\n",
       "      <td>1,100,531</td>\n",
       "    </tr>\n",
       "    <tr>\n",
       "      <th>Heavy</th>\n",
       "      <td>677,759</td>\n",
       "      <td>5,924</td>\n",
       "      <td>145,734</td>\n",
       "      <td>173,623</td>\n",
       "      <td>1,003,040</td>\n",
       "    </tr>\n",
       "    <tr>\n",
       "      <th>Severe</th>\n",
       "      <td>92,276</td>\n",
       "      <td>7,548</td>\n",
       "      <td>9,094</td>\n",
       "      <td>12,129</td>\n",
       "      <td>121,047</td>\n",
       "    </tr>\n",
       "    <tr>\n",
       "      <th>Heavy + Severe</th>\n",
       "      <td>770,035</td>\n",
       "      <td>13,473</td>\n",
       "      <td>154,828</td>\n",
       "      <td>185,751</td>\n",
       "      <td>1,124,087</td>\n",
       "    </tr>\n",
       "  </tbody>\n",
       "</table>\n",
       "</div>"
      ],
      "text/plain": [
       "                    King  Kitsap    Pierce  Snohomish    Region\n",
       "Light          2,260,913 333,618 1,098,917  1,024,714 4,718,161\n",
       "Moderate         636,389  19,779   241,290    203,074 1,100,531\n",
       "Heavy            677,759   5,924   145,734    173,623 1,003,040\n",
       "Severe            92,276   7,548     9,094     12,129   121,047\n",
       "Heavy + Severe   770,035  13,473   154,828    185,751 1,124,087"
      ]
     },
     "execution_count": 4,
     "metadata": {},
     "output_type": "execute_result"
    }
   ],
   "source": [
    "pd.options.display.float_format = '{:0,.0f}'.format\n",
    "df_am = df[df['tod'] == '7to8']\n",
    "_df = df_am.pivot_table(index='congestion_category',columns='county',\n",
    "               aggfunc='sum',values='VMT')\n",
    "_df = _df.reindex(['Light','Moderate','Heavy','Severe'])\n",
    "_df.index.name = None\n",
    "_df.columns.name = None\n",
    "_df['Region'] = _df.sum(axis=1)\n",
    "_df.loc['Heavy + Severe'] = _df.loc[['Heavy','Severe']].sum(axis=0)\n",
    "_df\n",
    "\n",
    "# _df"
   ]
  },
  {
   "cell_type": "markdown",
   "id": "a478aa21",
   "metadata": {},
   "source": [
    "----\n",
    "Share of VMT"
   ]
  },
  {
   "cell_type": "code",
   "execution_count": 5,
   "id": "b36f1139",
   "metadata": {
    "execution": {
     "iopub.execute_input": "2025-09-30T20:24:29.583954Z",
     "iopub.status.busy": "2025-09-30T20:24:29.582957Z",
     "iopub.status.idle": "2025-09-30T20:24:29.596575Z",
     "shell.execute_reply": "2025-09-30T20:24:29.595583Z"
    }
   },
   "outputs": [
    {
     "data": {
      "text/html": [
       "<div>\n",
       "<style scoped>\n",
       "    .dataframe tbody tr th:only-of-type {\n",
       "        vertical-align: middle;\n",
       "    }\n",
       "\n",
       "    .dataframe tbody tr th {\n",
       "        vertical-align: top;\n",
       "    }\n",
       "\n",
       "    .dataframe thead th {\n",
       "        text-align: right;\n",
       "    }\n",
       "</style>\n",
       "<table border=\"1\" class=\"dataframe\">\n",
       "  <thead>\n",
       "    <tr style=\"text-align: right;\">\n",
       "      <th></th>\n",
       "      <th>King</th>\n",
       "      <th>Kitsap</th>\n",
       "      <th>Pierce</th>\n",
       "      <th>Snohomish</th>\n",
       "      <th>Region</th>\n",
       "    </tr>\n",
       "  </thead>\n",
       "  <tbody>\n",
       "    <tr>\n",
       "      <th>Light</th>\n",
       "      <td>51.0%</td>\n",
       "      <td>87.7%</td>\n",
       "      <td>66.6%</td>\n",
       "      <td>64.1%</td>\n",
       "      <td>58.5%</td>\n",
       "    </tr>\n",
       "    <tr>\n",
       "      <th>Moderate</th>\n",
       "      <td>14.3%</td>\n",
       "      <td>5.2%</td>\n",
       "      <td>14.6%</td>\n",
       "      <td>12.7%</td>\n",
       "      <td>13.6%</td>\n",
       "    </tr>\n",
       "    <tr>\n",
       "      <th>Heavy</th>\n",
       "      <td>15.3%</td>\n",
       "      <td>1.6%</td>\n",
       "      <td>8.8%</td>\n",
       "      <td>10.9%</td>\n",
       "      <td>12.4%</td>\n",
       "    </tr>\n",
       "    <tr>\n",
       "      <th>Severe</th>\n",
       "      <td>2.1%</td>\n",
       "      <td>2.0%</td>\n",
       "      <td>0.6%</td>\n",
       "      <td>0.8%</td>\n",
       "      <td>1.5%</td>\n",
       "    </tr>\n",
       "    <tr>\n",
       "      <th>Heavy + Severe</th>\n",
       "      <td>17.4%</td>\n",
       "      <td>3.5%</td>\n",
       "      <td>9.4%</td>\n",
       "      <td>11.6%</td>\n",
       "      <td>13.9%</td>\n",
       "    </tr>\n",
       "  </tbody>\n",
       "</table>\n",
       "</div>"
      ],
      "text/plain": [
       "                King  Kitsap  Pierce  Snohomish  Region\n",
       "Light          51.0%   87.7%   66.6%      64.1%   58.5%\n",
       "Moderate       14.3%    5.2%   14.6%      12.7%   13.6%\n",
       "Heavy          15.3%    1.6%    8.8%      10.9%   12.4%\n",
       "Severe          2.1%    2.0%    0.6%       0.8%    1.5%\n",
       "Heavy + Severe 17.4%    3.5%    9.4%      11.6%   13.9%"
      ]
     },
     "execution_count": 5,
     "metadata": {},
     "output_type": "execute_result"
    }
   ],
   "source": [
    "\n",
    "pd.options.display.float_format = '{:0,.1%}'.format\n",
    "_df = _df/_df.sum(axis=0)\n",
    "_df"
   ]
  },
  {
   "cell_type": "raw",
   "id": "fdeb02ec",
   "metadata": {
    "vscode": {
     "languageId": "raw"
    }
   },
   "source": [
    "### PM Peak (5 to 6 PM)"
   ]
  },
  {
   "cell_type": "markdown",
   "id": "0fb28b90",
   "metadata": {},
   "source": [
    "VMT"
   ]
  },
  {
   "cell_type": "code",
   "execution_count": 6,
   "id": "acacb3cc",
   "metadata": {
    "execution": {
     "iopub.execute_input": "2025-09-30T20:24:29.601561Z",
     "iopub.status.busy": "2025-09-30T20:24:29.600564Z",
     "iopub.status.idle": "2025-09-30T20:24:29.693092Z",
     "shell.execute_reply": "2025-09-30T20:24:29.692100Z"
    }
   },
   "outputs": [
    {
     "data": {
      "text/html": [
       "<div>\n",
       "<style scoped>\n",
       "    .dataframe tbody tr th:only-of-type {\n",
       "        vertical-align: middle;\n",
       "    }\n",
       "\n",
       "    .dataframe tbody tr th {\n",
       "        vertical-align: top;\n",
       "    }\n",
       "\n",
       "    .dataframe thead th {\n",
       "        text-align: right;\n",
       "    }\n",
       "</style>\n",
       "<table border=\"1\" class=\"dataframe\">\n",
       "  <thead>\n",
       "    <tr style=\"text-align: right;\">\n",
       "      <th></th>\n",
       "      <th>King</th>\n",
       "      <th>Kitsap</th>\n",
       "      <th>Pierce</th>\n",
       "      <th>Snohomish</th>\n",
       "      <th>Region</th>\n",
       "    </tr>\n",
       "  </thead>\n",
       "  <tbody>\n",
       "    <tr>\n",
       "      <th>Light</th>\n",
       "      <td>2,625,033</td>\n",
       "      <td>381,461</td>\n",
       "      <td>1,288,224</td>\n",
       "      <td>1,166,063</td>\n",
       "      <td>5,460,780</td>\n",
       "    </tr>\n",
       "    <tr>\n",
       "      <th>Moderate</th>\n",
       "      <td>726,287</td>\n",
       "      <td>22,158</td>\n",
       "      <td>252,250</td>\n",
       "      <td>263,013</td>\n",
       "      <td>1,263,709</td>\n",
       "    </tr>\n",
       "    <tr>\n",
       "      <th>Heavy</th>\n",
       "      <td>520,193</td>\n",
       "      <td>6,594</td>\n",
       "      <td>111,327</td>\n",
       "      <td>111,480</td>\n",
       "      <td>749,593</td>\n",
       "    </tr>\n",
       "    <tr>\n",
       "      <th>Severe</th>\n",
       "      <td>58,912</td>\n",
       "      <td>6,931</td>\n",
       "      <td>9,130</td>\n",
       "      <td>11,536</td>\n",
       "      <td>86,508</td>\n",
       "    </tr>\n",
       "    <tr>\n",
       "      <th>Heavy + Severe</th>\n",
       "      <td>579,105</td>\n",
       "      <td>13,525</td>\n",
       "      <td>120,457</td>\n",
       "      <td>123,015</td>\n",
       "      <td>836,101</td>\n",
       "    </tr>\n",
       "  </tbody>\n",
       "</table>\n",
       "</div>"
      ],
      "text/plain": [
       "                    King  Kitsap    Pierce  Snohomish    Region\n",
       "Light          2,625,033 381,461 1,288,224  1,166,063 5,460,780\n",
       "Moderate         726,287  22,158   252,250    263,013 1,263,709\n",
       "Heavy            520,193   6,594   111,327    111,480   749,593\n",
       "Severe            58,912   6,931     9,130     11,536    86,508\n",
       "Heavy + Severe   579,105  13,525   120,457    123,015   836,101"
      ]
     },
     "execution_count": 6,
     "metadata": {},
     "output_type": "execute_result"
    }
   ],
   "source": [
    "pd.options.display.float_format = '{:0,.0f}'.format\n",
    "df_pm = df[df['tod'] == '17to18']\n",
    "_df = df_pm.pivot_table(index='congestion_category',columns='county',\n",
    "               aggfunc='sum',values='VMT')\n",
    "_df = _df.reindex(['Light','Moderate','Heavy','Severe'])\n",
    "_df.index.name = None\n",
    "_df.columns.name = None\n",
    "_df['Region'] = _df.sum(axis=1)\n",
    "_df.loc['Heavy + Severe'] = _df.loc[['Heavy','Severe']].sum(axis=0)\n",
    "_df"
   ]
  },
  {
   "cell_type": "markdown",
   "id": "db0d8eea",
   "metadata": {},
   "source": [
    "----\n",
    "Share of VMT"
   ]
  },
  {
   "cell_type": "code",
   "execution_count": 7,
   "id": "e607cf53",
   "metadata": {
    "execution": {
     "iopub.execute_input": "2025-09-30T20:24:29.699076Z",
     "iopub.status.busy": "2025-09-30T20:24:29.698079Z",
     "iopub.status.idle": "2025-09-30T20:24:29.712006Z",
     "shell.execute_reply": "2025-09-30T20:24:29.711006Z"
    }
   },
   "outputs": [
    {
     "data": {
      "text/html": [
       "<div>\n",
       "<style scoped>\n",
       "    .dataframe tbody tr th:only-of-type {\n",
       "        vertical-align: middle;\n",
       "    }\n",
       "\n",
       "    .dataframe tbody tr th {\n",
       "        vertical-align: top;\n",
       "    }\n",
       "\n",
       "    .dataframe thead th {\n",
       "        text-align: right;\n",
       "    }\n",
       "</style>\n",
       "<table border=\"1\" class=\"dataframe\">\n",
       "  <thead>\n",
       "    <tr style=\"text-align: right;\">\n",
       "      <th></th>\n",
       "      <th>King</th>\n",
       "      <th>Kitsap</th>\n",
       "      <th>Pierce</th>\n",
       "      <th>Snohomish</th>\n",
       "      <th>Region</th>\n",
       "    </tr>\n",
       "  </thead>\n",
       "  <tbody>\n",
       "    <tr>\n",
       "      <th>Light</th>\n",
       "      <td>58.2%</td>\n",
       "      <td>88.6%</td>\n",
       "      <td>72.3%</td>\n",
       "      <td>69.6%</td>\n",
       "      <td>65.0%</td>\n",
       "    </tr>\n",
       "    <tr>\n",
       "      <th>Moderate</th>\n",
       "      <td>16.1%</td>\n",
       "      <td>5.1%</td>\n",
       "      <td>14.2%</td>\n",
       "      <td>15.7%</td>\n",
       "      <td>15.1%</td>\n",
       "    </tr>\n",
       "    <tr>\n",
       "      <th>Heavy</th>\n",
       "      <td>11.5%</td>\n",
       "      <td>1.5%</td>\n",
       "      <td>6.2%</td>\n",
       "      <td>6.7%</td>\n",
       "      <td>8.9%</td>\n",
       "    </tr>\n",
       "    <tr>\n",
       "      <th>Severe</th>\n",
       "      <td>1.3%</td>\n",
       "      <td>1.6%</td>\n",
       "      <td>0.5%</td>\n",
       "      <td>0.7%</td>\n",
       "      <td>1.0%</td>\n",
       "    </tr>\n",
       "    <tr>\n",
       "      <th>Heavy + Severe</th>\n",
       "      <td>12.8%</td>\n",
       "      <td>3.1%</td>\n",
       "      <td>6.8%</td>\n",
       "      <td>7.3%</td>\n",
       "      <td>10.0%</td>\n",
       "    </tr>\n",
       "  </tbody>\n",
       "</table>\n",
       "</div>"
      ],
      "text/plain": [
       "                King  Kitsap  Pierce  Snohomish  Region\n",
       "Light          58.2%   88.6%   72.3%      69.6%   65.0%\n",
       "Moderate       16.1%    5.1%   14.2%      15.7%   15.1%\n",
       "Heavy          11.5%    1.5%    6.2%       6.7%    8.9%\n",
       "Severe          1.3%    1.6%    0.5%       0.7%    1.0%\n",
       "Heavy + Severe 12.8%    3.1%    6.8%       7.3%   10.0%"
      ]
     },
     "execution_count": 7,
     "metadata": {},
     "output_type": "execute_result"
    }
   ],
   "source": [
    "pd.options.display.float_format = '{:0,.1%}'.format\n",
    "_df = _df/_df.sum(axis=0)\n",
    "_df"
   ]
  },
  {
   "cell_type": "raw",
   "id": "5ee6a692",
   "metadata": {
    "vscode": {
     "languageId": "raw"
    }
   },
   "source": [
    ":::"
   ]
  },
  {
   "cell_type": "markdown",
   "id": "650d8659",
   "metadata": {},
   "source": [
    "## Congestion by Road Type"
   ]
  },
  {
   "cell_type": "raw",
   "id": "d470131b",
   "metadata": {
    "vscode": {
     "languageId": "raw"
    }
   },
   "source": [
    "\n",
    ":::{.panel-tabset}\n",
    "### AM Peak (7 to 8 AM)"
   ]
  },
  {
   "cell_type": "markdown",
   "id": "258587b2",
   "metadata": {},
   "source": [
    "VMT"
   ]
  },
  {
   "cell_type": "code",
   "execution_count": 8,
   "id": "0b659efa",
   "metadata": {
    "execution": {
     "iopub.execute_input": "2025-09-30T20:24:29.717990Z",
     "iopub.status.busy": "2025-09-30T20:24:29.716992Z",
     "iopub.status.idle": "2025-09-30T20:24:29.829414Z",
     "shell.execute_reply": "2025-09-30T20:24:29.828375Z"
    }
   },
   "outputs": [
    {
     "data": {
      "text/html": [
       "<div>\n",
       "<style scoped>\n",
       "    .dataframe tbody tr th:only-of-type {\n",
       "        vertical-align: middle;\n",
       "    }\n",
       "\n",
       "    .dataframe tbody tr th {\n",
       "        vertical-align: top;\n",
       "    }\n",
       "\n",
       "    .dataframe thead th {\n",
       "        text-align: right;\n",
       "    }\n",
       "</style>\n",
       "<table border=\"1\" class=\"dataframe\">\n",
       "  <thead>\n",
       "    <tr style=\"text-align: right;\">\n",
       "      <th></th>\n",
       "      <th>Arterial</th>\n",
       "      <th>Connector</th>\n",
       "      <th>Highway</th>\n",
       "      <th>Other</th>\n",
       "    </tr>\n",
       "  </thead>\n",
       "  <tbody>\n",
       "    <tr>\n",
       "      <th>Light</th>\n",
       "      <td>2,392,568</td>\n",
       "      <td>388,064</td>\n",
       "      <td>1,937,110</td>\n",
       "      <td>419</td>\n",
       "    </tr>\n",
       "    <tr>\n",
       "      <th>Moderate</th>\n",
       "      <td>458,068</td>\n",
       "      <td>NaN</td>\n",
       "      <td>642,424</td>\n",
       "      <td>38</td>\n",
       "    </tr>\n",
       "    <tr>\n",
       "      <th>Heavy</th>\n",
       "      <td>287,796</td>\n",
       "      <td>NaN</td>\n",
       "      <td>715,244</td>\n",
       "      <td>0</td>\n",
       "    </tr>\n",
       "    <tr>\n",
       "      <th>Severe</th>\n",
       "      <td>52,648</td>\n",
       "      <td>NaN</td>\n",
       "      <td>68,399</td>\n",
       "      <td>0</td>\n",
       "    </tr>\n",
       "    <tr>\n",
       "      <th>Heavy + Severe</th>\n",
       "      <td>340,443</td>\n",
       "      <td>0</td>\n",
       "      <td>783,643</td>\n",
       "      <td>0</td>\n",
       "    </tr>\n",
       "  </tbody>\n",
       "</table>\n",
       "</div>"
      ],
      "text/plain": [
       "                Arterial  Connector   Highway  Other\n",
       "Light          2,392,568    388,064 1,937,110    419\n",
       "Moderate         458,068        NaN   642,424     38\n",
       "Heavy            287,796        NaN   715,244      0\n",
       "Severe            52,648        NaN    68,399      0\n",
       "Heavy + Severe   340,443          0   783,643      0"
      ]
     },
     "execution_count": 8,
     "metadata": {},
     "output_type": "execute_result"
    }
   ],
   "source": [
    "pd.options.display.float_format = '{:0,.0f}'.format\n",
    "df_am = df[df['tod'] == '7to8']\n",
    "_df = df_am.pivot_table(index='congestion_category',columns='facility_type',\n",
    "               aggfunc='sum',values='VMT')\n",
    "_df = _df.reindex(['Light','Moderate','Heavy','Severe'])\n",
    "_df.index.name = None\n",
    "_df.columns.name = None\n",
    "_df.loc['Heavy + Severe'] = _df.loc[['Heavy','Severe']].sum(axis=0)\n",
    "_df"
   ]
  },
  {
   "cell_type": "markdown",
   "id": "1b4a65c8",
   "metadata": {},
   "source": [
    "----\n",
    "Share of VMT"
   ]
  },
  {
   "cell_type": "code",
   "execution_count": 9,
   "id": "3aebb67a",
   "metadata": {
    "execution": {
     "iopub.execute_input": "2025-09-30T20:24:29.834641Z",
     "iopub.status.busy": "2025-09-30T20:24:29.834641Z",
     "iopub.status.idle": "2025-09-30T20:24:29.848178Z",
     "shell.execute_reply": "2025-09-30T20:24:29.848178Z"
    }
   },
   "outputs": [
    {
     "data": {
      "text/html": [
       "<div>\n",
       "<style scoped>\n",
       "    .dataframe tbody tr th:only-of-type {\n",
       "        vertical-align: middle;\n",
       "    }\n",
       "\n",
       "    .dataframe tbody tr th {\n",
       "        vertical-align: top;\n",
       "    }\n",
       "\n",
       "    .dataframe thead th {\n",
       "        text-align: right;\n",
       "    }\n",
       "</style>\n",
       "<table border=\"1\" class=\"dataframe\">\n",
       "  <thead>\n",
       "    <tr style=\"text-align: right;\">\n",
       "      <th></th>\n",
       "      <th>Arterial</th>\n",
       "      <th>Connector</th>\n",
       "      <th>Highway</th>\n",
       "      <th>Other</th>\n",
       "    </tr>\n",
       "  </thead>\n",
       "  <tbody>\n",
       "    <tr>\n",
       "      <th>Light</th>\n",
       "      <td>67.7%</td>\n",
       "      <td>100.0%</td>\n",
       "      <td>46.7%</td>\n",
       "      <td>91.6%</td>\n",
       "    </tr>\n",
       "    <tr>\n",
       "      <th>Moderate</th>\n",
       "      <td>13.0%</td>\n",
       "      <td>NaN</td>\n",
       "      <td>15.5%</td>\n",
       "      <td>8.4%</td>\n",
       "    </tr>\n",
       "    <tr>\n",
       "      <th>Heavy</th>\n",
       "      <td>8.1%</td>\n",
       "      <td>NaN</td>\n",
       "      <td>17.2%</td>\n",
       "      <td>0.0%</td>\n",
       "    </tr>\n",
       "    <tr>\n",
       "      <th>Severe</th>\n",
       "      <td>1.5%</td>\n",
       "      <td>NaN</td>\n",
       "      <td>1.6%</td>\n",
       "      <td>0.0%</td>\n",
       "    </tr>\n",
       "    <tr>\n",
       "      <th>Heavy + Severe</th>\n",
       "      <td>9.6%</td>\n",
       "      <td>0.0%</td>\n",
       "      <td>18.9%</td>\n",
       "      <td>0.0%</td>\n",
       "    </tr>\n",
       "  </tbody>\n",
       "</table>\n",
       "</div>"
      ],
      "text/plain": [
       "                Arterial  Connector  Highway  Other\n",
       "Light              67.7%     100.0%    46.7%  91.6%\n",
       "Moderate           13.0%        NaN    15.5%   8.4%\n",
       "Heavy               8.1%        NaN    17.2%   0.0%\n",
       "Severe              1.5%        NaN     1.6%   0.0%\n",
       "Heavy + Severe      9.6%       0.0%    18.9%   0.0%"
      ]
     },
     "execution_count": 9,
     "metadata": {},
     "output_type": "execute_result"
    }
   ],
   "source": [
    "pd.options.display.float_format = '{:0,.1%}'.format\n",
    "_df = _df/_df.sum(axis=0)\n",
    "_df"
   ]
  },
  {
   "cell_type": "raw",
   "id": "44c77ff3",
   "metadata": {
    "vscode": {
     "languageId": "raw"
    }
   },
   "source": [
    "### PM Peak (5 to 6 PM)"
   ]
  },
  {
   "cell_type": "markdown",
   "id": "910bc476",
   "metadata": {},
   "source": [
    "VMT"
   ]
  },
  {
   "cell_type": "code",
   "execution_count": 10,
   "id": "32fe5fab",
   "metadata": {
    "execution": {
     "iopub.execute_input": "2025-09-30T20:24:29.854158Z",
     "iopub.status.busy": "2025-09-30T20:24:29.854158Z",
     "iopub.status.idle": "2025-09-30T20:24:29.974468Z",
     "shell.execute_reply": "2025-09-30T20:24:29.973476Z"
    }
   },
   "outputs": [
    {
     "data": {
      "text/html": [
       "<div>\n",
       "<style scoped>\n",
       "    .dataframe tbody tr th:only-of-type {\n",
       "        vertical-align: middle;\n",
       "    }\n",
       "\n",
       "    .dataframe tbody tr th {\n",
       "        vertical-align: top;\n",
       "    }\n",
       "\n",
       "    .dataframe thead th {\n",
       "        text-align: right;\n",
       "    }\n",
       "</style>\n",
       "<table border=\"1\" class=\"dataframe\">\n",
       "  <thead>\n",
       "    <tr style=\"text-align: right;\">\n",
       "      <th></th>\n",
       "      <th>Arterial</th>\n",
       "      <th>Connector</th>\n",
       "      <th>Highway</th>\n",
       "      <th>Other</th>\n",
       "    </tr>\n",
       "  </thead>\n",
       "  <tbody>\n",
       "    <tr>\n",
       "      <th>Light</th>\n",
       "      <td>2,765,224</td>\n",
       "      <td>529,794</td>\n",
       "      <td>2,165,294</td>\n",
       "      <td>468</td>\n",
       "    </tr>\n",
       "    <tr>\n",
       "      <th>Moderate</th>\n",
       "      <td>470,830</td>\n",
       "      <td>NaN</td>\n",
       "      <td>792,767</td>\n",
       "      <td>112</td>\n",
       "    </tr>\n",
       "    <tr>\n",
       "      <th>Heavy</th>\n",
       "      <td>281,955</td>\n",
       "      <td>NaN</td>\n",
       "      <td>467,638</td>\n",
       "      <td>0</td>\n",
       "    </tr>\n",
       "    <tr>\n",
       "      <th>Severe</th>\n",
       "      <td>54,155</td>\n",
       "      <td>NaN</td>\n",
       "      <td>32,347</td>\n",
       "      <td>7</td>\n",
       "    </tr>\n",
       "    <tr>\n",
       "      <th>Heavy + Severe</th>\n",
       "      <td>336,110</td>\n",
       "      <td>0</td>\n",
       "      <td>499,985</td>\n",
       "      <td>7</td>\n",
       "    </tr>\n",
       "  </tbody>\n",
       "</table>\n",
       "</div>"
      ],
      "text/plain": [
       "                Arterial  Connector   Highway  Other\n",
       "Light          2,765,224    529,794 2,165,294    468\n",
       "Moderate         470,830        NaN   792,767    112\n",
       "Heavy            281,955        NaN   467,638      0\n",
       "Severe            54,155        NaN    32,347      7\n",
       "Heavy + Severe   336,110          0   499,985      7"
      ]
     },
     "execution_count": 10,
     "metadata": {},
     "output_type": "execute_result"
    }
   ],
   "source": [
    "\n",
    "pd.options.display.float_format = '{:0,.0f}'.format\n",
    "df_pm = df[df['tod'] == '17to18']\n",
    "_df = df_pm.pivot_table(index='congestion_category',columns='facility_type',\n",
    "               aggfunc='sum',values='VMT')\n",
    "_df = _df.reindex(['Light','Moderate','Heavy','Severe'])\n",
    "_df.index.name = None\n",
    "_df.columns.name = None\n",
    "_df.loc['Heavy + Severe'] = _df.loc[['Heavy','Severe']].sum(axis=0)\n",
    "_df"
   ]
  },
  {
   "cell_type": "markdown",
   "id": "2eb899b2",
   "metadata": {},
   "source": [
    "----\n",
    "Share of VMT"
   ]
  },
  {
   "cell_type": "code",
   "execution_count": 11,
   "id": "97607e1a",
   "metadata": {
    "execution": {
     "iopub.execute_input": "2025-09-30T20:24:29.980452Z",
     "iopub.status.busy": "2025-09-30T20:24:29.979455Z",
     "iopub.status.idle": "2025-09-30T20:24:29.992549Z",
     "shell.execute_reply": "2025-09-30T20:24:29.991558Z"
    }
   },
   "outputs": [
    {
     "data": {
      "text/html": [
       "<div>\n",
       "<style scoped>\n",
       "    .dataframe tbody tr th:only-of-type {\n",
       "        vertical-align: middle;\n",
       "    }\n",
       "\n",
       "    .dataframe tbody tr th {\n",
       "        vertical-align: top;\n",
       "    }\n",
       "\n",
       "    .dataframe thead th {\n",
       "        text-align: right;\n",
       "    }\n",
       "</style>\n",
       "<table border=\"1\" class=\"dataframe\">\n",
       "  <thead>\n",
       "    <tr style=\"text-align: right;\">\n",
       "      <th></th>\n",
       "      <th>Arterial</th>\n",
       "      <th>Connector</th>\n",
       "      <th>Highway</th>\n",
       "      <th>Other</th>\n",
       "    </tr>\n",
       "  </thead>\n",
       "  <tbody>\n",
       "    <tr>\n",
       "      <th>Light</th>\n",
       "      <td>70.8%</td>\n",
       "      <td>100.0%</td>\n",
       "      <td>54.7%</td>\n",
       "      <td>78.9%</td>\n",
       "    </tr>\n",
       "    <tr>\n",
       "      <th>Moderate</th>\n",
       "      <td>12.0%</td>\n",
       "      <td>NaN</td>\n",
       "      <td>20.0%</td>\n",
       "      <td>18.9%</td>\n",
       "    </tr>\n",
       "    <tr>\n",
       "      <th>Heavy</th>\n",
       "      <td>7.2%</td>\n",
       "      <td>NaN</td>\n",
       "      <td>11.8%</td>\n",
       "      <td>0.0%</td>\n",
       "    </tr>\n",
       "    <tr>\n",
       "      <th>Severe</th>\n",
       "      <td>1.4%</td>\n",
       "      <td>NaN</td>\n",
       "      <td>0.8%</td>\n",
       "      <td>1.1%</td>\n",
       "    </tr>\n",
       "    <tr>\n",
       "      <th>Heavy + Severe</th>\n",
       "      <td>8.6%</td>\n",
       "      <td>0.0%</td>\n",
       "      <td>12.6%</td>\n",
       "      <td>1.1%</td>\n",
       "    </tr>\n",
       "  </tbody>\n",
       "</table>\n",
       "</div>"
      ],
      "text/plain": [
       "                Arterial  Connector  Highway  Other\n",
       "Light              70.8%     100.0%    54.7%  78.9%\n",
       "Moderate           12.0%        NaN    20.0%  18.9%\n",
       "Heavy               7.2%        NaN    11.8%   0.0%\n",
       "Severe              1.4%        NaN     0.8%   1.1%\n",
       "Heavy + Severe      8.6%       0.0%    12.6%   1.1%"
      ]
     },
     "execution_count": 11,
     "metadata": {},
     "output_type": "execute_result"
    }
   ],
   "source": [
    "pd.options.display.float_format = '{:0,.1%}'.format\n",
    "_df = _df/_df.sum(axis=0)\n",
    "_df"
   ]
  },
  {
   "cell_type": "raw",
   "id": "9668c167",
   "metadata": {
    "vscode": {
     "languageId": "raw"
    }
   },
   "source": [
    ":::"
   ]
  },
  {
   "cell_type": "code",
   "execution_count": 12,
   "id": "fa4b43ec",
   "metadata": {
    "execution": {
     "iopub.execute_input": "2025-09-30T20:24:29.997536Z",
     "iopub.status.busy": "2025-09-30T20:24:29.997536Z",
     "iopub.status.idle": "2025-09-30T20:24:30.008044Z",
     "shell.execute_reply": "2025-09-30T20:24:30.007046Z"
    }
   },
   "outputs": [
    {
     "data": {
      "text/plain": [
       "np.float64(15379.883533382352)"
      ]
     },
     "execution_count": 12,
     "metadata": {},
     "output_type": "execute_result"
    }
   ],
   "source": [
    "# _df = df_am.pivot_table(index='congestion_category',columns='facility_type',\n",
    "#                aggfunc='sum',values='length')\n",
    "pd.options.display.float_format = '{:0,.0f}'.format\n",
    "df_pm['length'].sum()"
   ]
  },
  {
   "cell_type": "markdown",
   "id": "f2113cd4",
   "metadata": {},
   "source": [
    "## Miles of Roadway withy Heavy Congestion"
   ]
  },
  {
   "cell_type": "code",
   "execution_count": 13,
   "id": "a8109b5a",
   "metadata": {
    "execution": {
     "iopub.execute_input": "2025-09-30T20:24:30.013030Z",
     "iopub.status.busy": "2025-09-30T20:24:30.012033Z",
     "iopub.status.idle": "2025-09-30T20:24:30.023711Z",
     "shell.execute_reply": "2025-09-30T20:24:30.022712Z"
    }
   },
   "outputs": [
    {
     "name": "stdout",
     "output_type": "stream",
     "text": [
      "Total Miles of Roadway: 15381\n"
     ]
    }
   ],
   "source": [
    "print(f\"Total Miles of Roadway: {int(df_am['length'].sum())}\")"
   ]
  },
  {
   "cell_type": "code",
   "execution_count": 14,
   "id": "fa5fd144",
   "metadata": {
    "execution": {
     "iopub.execute_input": "2025-09-30T20:24:30.027700Z",
     "iopub.status.busy": "2025-09-30T20:24:30.026703Z",
     "iopub.status.idle": "2025-09-30T20:24:30.048620Z",
     "shell.execute_reply": "2025-09-30T20:24:30.047622Z"
    }
   },
   "outputs": [
    {
     "name": "stdout",
     "output_type": "stream",
     "text": [
      "Total Miles of Roadway: 602\n"
     ]
    }
   ],
   "source": [
    "congested_len = df_am[df_am['congestion_category'].isin(['Heavy','Severe'])]['length'].sum()\n",
    "print(f\"Total Miles of Roadway: {int(congested_len)}\")"
   ]
  },
  {
   "cell_type": "code",
   "execution_count": 15,
   "id": "1def0fef",
   "metadata": {
    "execution": {
     "iopub.execute_input": "2025-09-30T20:24:30.051613Z",
     "iopub.status.busy": "2025-09-30T20:24:30.050615Z",
     "iopub.status.idle": "2025-09-30T20:24:30.055819Z",
     "shell.execute_reply": "2025-09-30T20:24:30.055819Z"
    }
   },
   "outputs": [
    {
     "name": "stdout",
     "output_type": "stream",
     "text": [
      "Share Congested: 3.9%\n"
     ]
    }
   ],
   "source": [
    "print(f\"Share Congested: {congested_len/df_pm['length'].sum():.1%}\")"
   ]
  },
  {
   "cell_type": "markdown",
   "id": "b5fc7e7d",
   "metadata": {},
   "source": [
    "## Corridor Travel Time"
   ]
  },
  {
   "cell_type": "raw",
   "id": "1e283f69",
   "metadata": {
    "vscode": {
     "languageId": "raw"
    }
   },
   "source": [
    ":::{.panel-tabset}\n",
    "### AM Peak (7 to 8 AM)"
   ]
  },
  {
   "cell_type": "code",
   "execution_count": 16,
   "id": "faf85113",
   "metadata": {
    "execution": {
     "iopub.execute_input": "2025-09-30T20:24:30.059810Z",
     "iopub.status.busy": "2025-09-30T20:24:30.058813Z",
     "iopub.status.idle": "2025-09-30T20:24:30.186937Z",
     "shell.execute_reply": "2025-09-30T20:24:30.185910Z"
    }
   },
   "outputs": [
    {
     "data": {
      "text/html": [
       "<div>\n",
       "<style scoped>\n",
       "    .dataframe tbody tr th:only-of-type {\n",
       "        vertical-align: middle;\n",
       "    }\n",
       "\n",
       "    .dataframe tbody tr th {\n",
       "        vertical-align: top;\n",
       "    }\n",
       "\n",
       "    .dataframe thead th {\n",
       "        text-align: right;\n",
       "    }\n",
       "</style>\n",
       "<table border=\"1\" class=\"dataframe\">\n",
       "  <thead>\n",
       "    <tr style=\"text-align: right;\">\n",
       "      <th></th>\n",
       "      <th>Corridor</th>\n",
       "      <th>Auto Travel Time (min.)</th>\n",
       "    </tr>\n",
       "  </thead>\n",
       "  <tbody>\n",
       "    <tr>\n",
       "      <th>15</th>\n",
       "      <td>Everett to Seattle - SB</td>\n",
       "      <td>65.9</td>\n",
       "    </tr>\n",
       "    <tr>\n",
       "      <th>24</th>\n",
       "      <td>Tacoma to Seattle - NB</td>\n",
       "      <td>74.4</td>\n",
       "    </tr>\n",
       "    <tr>\n",
       "      <th>51</th>\n",
       "      <td>Lynnwood to Bellevue - SB</td>\n",
       "      <td>41.7</td>\n",
       "    </tr>\n",
       "    <tr>\n",
       "      <th>60</th>\n",
       "      <td>Tukwila to Bellevue - NB</td>\n",
       "      <td>29.7</td>\n",
       "    </tr>\n",
       "    <tr>\n",
       "      <th>69</th>\n",
       "      <td>Bellevue to Tukwila - SB</td>\n",
       "      <td>28.0</td>\n",
       "    </tr>\n",
       "    <tr>\n",
       "      <th>78</th>\n",
       "      <td>Auburn to Renton - NB</td>\n",
       "      <td>28.8</td>\n",
       "    </tr>\n",
       "    <tr>\n",
       "      <th>96</th>\n",
       "      <td>Redmond to Seattle - WB</td>\n",
       "      <td>29.7</td>\n",
       "    </tr>\n",
       "    <tr>\n",
       "      <th>114</th>\n",
       "      <td>Redmond to Bellevue - WB</td>\n",
       "      <td>14.0</td>\n",
       "    </tr>\n",
       "    <tr>\n",
       "      <th>132</th>\n",
       "      <td>Issaquah to Bellevue - WB</td>\n",
       "      <td>14.5</td>\n",
       "    </tr>\n",
       "    <tr>\n",
       "      <th>150</th>\n",
       "      <td>Seattle to Bellevue via 520 - WB</td>\n",
       "      <td>17.7</td>\n",
       "    </tr>\n",
       "    <tr>\n",
       "      <th>159</th>\n",
       "      <td>Bellevue to Seattle via 520 - EB</td>\n",
       "      <td>23.3</td>\n",
       "    </tr>\n",
       "    <tr>\n",
       "      <th>168</th>\n",
       "      <td>Bellevue to Seattle via 90 - WB</td>\n",
       "      <td>26.0</td>\n",
       "    </tr>\n",
       "  </tbody>\n",
       "</table>\n",
       "</div>"
      ],
      "text/plain": [
       "                             Corridor  Auto Travel Time (min.)\n",
       "15            Everett to Seattle - SB                     65.9\n",
       "24             Tacoma to Seattle - NB                     74.4\n",
       "51          Lynnwood to Bellevue - SB                     41.7\n",
       "60           Tukwila to Bellevue - NB                     29.7\n",
       "69           Bellevue to Tukwila - SB                     28.0\n",
       "78              Auburn to Renton - NB                     28.8\n",
       "96            Redmond to Seattle - WB                     29.7\n",
       "114          Redmond to Bellevue - WB                     14.0\n",
       "132         Issaquah to Bellevue - WB                     14.5\n",
       "150  Seattle to Bellevue via 520 - WB                     17.7\n",
       "159  Bellevue to Seattle via 520 - EB                     23.3\n",
       "168   Bellevue to Seattle via 90 - WB                     26.0"
      ]
     },
     "execution_count": 16,
     "metadata": {},
     "output_type": "execute_result"
    }
   ],
   "source": [
    "pd.options.display.float_format = '{:0,.1f}'.format\n",
    "\n",
    "df = pd.read_csv(util.output_path / 'validation/corridor_speeds.csv')\n",
    "\n",
    "# For each Corridor_Descrption, define as AM or pm beak by finding which direction has max value\n",
    "df = df[df['tod'].isin(['7to8','17to18']) & (df['Corridor_Number'] <= 20)]\n",
    "\n",
    "# Corridors are grouped so that directions are [1,2], [3,4]\n",
    "for i in range(1,21):\n",
    "# for i in range(7,8):\n",
    "    _df = df[df['Corridor_Number'] == i]\n",
    "#     print(_df)\n",
    "    peak_time = _df.sort_values('auto_time').iloc[-1]['tod']\n",
    "    df.loc[df['Corridor_Number']==i, 'peak'] = peak_time\n",
    "    \n",
    "df.rename(columns={'Corridor_Description': 'Corridor', 'auto_time':'Auto Travel Time (min.)'}, inplace=True)\n",
    "df[(df['peak'] == '7to8') & (df['tod'] == '7to8')][['Corridor','Auto Travel Time (min.)']]"
   ]
  },
  {
   "cell_type": "raw",
   "id": "bfb6c44e",
   "metadata": {
    "vscode": {
     "languageId": "raw"
    }
   },
   "source": [
    "### PM Peak (17 to 18 PM)"
   ]
  },
  {
   "cell_type": "code",
   "execution_count": 17,
   "id": "d74ca313",
   "metadata": {
    "execution": {
     "iopub.execute_input": "2025-09-30T20:24:30.191430Z",
     "iopub.status.busy": "2025-09-30T20:24:30.191430Z",
     "iopub.status.idle": "2025-09-30T20:24:30.205813Z",
     "shell.execute_reply": "2025-09-30T20:24:30.204815Z"
    }
   },
   "outputs": [
    {
     "data": {
      "text/html": [
       "<div>\n",
       "<style scoped>\n",
       "    .dataframe tbody tr th:only-of-type {\n",
       "        vertical-align: middle;\n",
       "    }\n",
       "\n",
       "    .dataframe tbody tr th {\n",
       "        vertical-align: top;\n",
       "    }\n",
       "\n",
       "    .dataframe thead th {\n",
       "        text-align: right;\n",
       "    }\n",
       "</style>\n",
       "<table border=\"1\" class=\"dataframe\">\n",
       "  <thead>\n",
       "    <tr style=\"text-align: right;\">\n",
       "      <th></th>\n",
       "      <th>Corridor</th>\n",
       "      <th>Auto Travel Time (min.)</th>\n",
       "    </tr>\n",
       "  </thead>\n",
       "  <tbody>\n",
       "    <tr>\n",
       "      <th>2</th>\n",
       "      <td>Seattle to Everett - NB</td>\n",
       "      <td>57.5</td>\n",
       "    </tr>\n",
       "    <tr>\n",
       "      <th>29</th>\n",
       "      <td>Seattle to Tacoma - SB</td>\n",
       "      <td>62.7</td>\n",
       "    </tr>\n",
       "    <tr>\n",
       "      <th>38</th>\n",
       "      <td>Bellevue to Lynnwood - NB</td>\n",
       "      <td>35.1</td>\n",
       "    </tr>\n",
       "    <tr>\n",
       "      <th>83</th>\n",
       "      <td>Renton to Auburn - SB</td>\n",
       "      <td>24.3</td>\n",
       "    </tr>\n",
       "    <tr>\n",
       "      <th>101</th>\n",
       "      <td>Seattle to Redmond - EB</td>\n",
       "      <td>23.4</td>\n",
       "    </tr>\n",
       "    <tr>\n",
       "      <th>119</th>\n",
       "      <td>Bellevue to Redmond - EB</td>\n",
       "      <td>11.1</td>\n",
       "    </tr>\n",
       "    <tr>\n",
       "      <th>137</th>\n",
       "      <td>Bellevue to Issaquah - EB</td>\n",
       "      <td>12.8</td>\n",
       "    </tr>\n",
       "    <tr>\n",
       "      <th>173</th>\n",
       "      <td>Seattle to Bellevue via 90 - EB</td>\n",
       "      <td>24.1</td>\n",
       "    </tr>\n",
       "  </tbody>\n",
       "</table>\n",
       "</div>"
      ],
      "text/plain": [
       "                            Corridor  Auto Travel Time (min.)\n",
       "2            Seattle to Everett - NB                     57.5\n",
       "29            Seattle to Tacoma - SB                     62.7\n",
       "38         Bellevue to Lynnwood - NB                     35.1\n",
       "83             Renton to Auburn - SB                     24.3\n",
       "101          Seattle to Redmond - EB                     23.4\n",
       "119         Bellevue to Redmond - EB                     11.1\n",
       "137        Bellevue to Issaquah - EB                     12.8\n",
       "173  Seattle to Bellevue via 90 - EB                     24.1"
      ]
     },
     "execution_count": 17,
     "metadata": {},
     "output_type": "execute_result"
    }
   ],
   "source": [
    "df[(df['peak'] == '17to18') & (df['tod'] == '17to18')][['Corridor','Auto Travel Time (min.)']]"
   ]
  },
  {
   "cell_type": "raw",
   "id": "b4b52db4",
   "metadata": {
    "vscode": {
     "languageId": "raw"
    }
   },
   "source": [
    ":::"
   ]
  },
  {
   "cell_type": "markdown",
   "id": "b46a2c0c",
   "metadata": {
    "vscode": {
     "languageId": "raw"
    }
   },
   "source": [
    "## Delay"
   ]
  },
  {
   "cell_type": "raw",
   "id": "42f7fb5a",
   "metadata": {
    "vscode": {
     "languageId": "raw"
    }
   },
   "source": [
    "::: {.panel-tabset}\n",
    "### Network Delay"
   ]
  },
  {
   "cell_type": "code",
   "execution_count": 18,
   "id": "a8d295f2",
   "metadata": {
    "execution": {
     "iopub.execute_input": "2025-09-30T20:24:30.211797Z",
     "iopub.status.busy": "2025-09-30T20:24:30.210800Z",
     "iopub.status.idle": "2025-09-30T20:24:38.571334Z",
     "shell.execute_reply": "2025-09-30T20:24:38.570230Z"
    }
   },
   "outputs": [],
   "source": [
    "df = util.process_network_summary()\n",
    "df = df[df['county']!='Outside Region']"
   ]
  },
  {
   "cell_type": "code",
   "execution_count": 19,
   "id": "dfca9946",
   "metadata": {
    "execution": {
     "iopub.execute_input": "2025-09-30T20:24:38.576826Z",
     "iopub.status.busy": "2025-09-30T20:24:38.575829Z",
     "iopub.status.idle": "2025-09-30T20:24:38.645184Z",
     "shell.execute_reply": "2025-09-30T20:24:38.644185Z"
    }
   },
   "outputs": [
    {
     "data": {
      "text/html": [
       "<div>\n",
       "<style scoped>\n",
       "    .dataframe tbody tr th:only-of-type {\n",
       "        vertical-align: middle;\n",
       "    }\n",
       "\n",
       "    .dataframe tbody tr th {\n",
       "        vertical-align: top;\n",
       "    }\n",
       "\n",
       "    .dataframe thead th {\n",
       "        text-align: right;\n",
       "    }\n",
       "</style>\n",
       "<table border=\"1\" class=\"dataframe\">\n",
       "  <thead>\n",
       "    <tr style=\"text-align: right;\">\n",
       "      <th></th>\n",
       "      <th>total_delay</th>\n",
       "    </tr>\n",
       "    <tr>\n",
       "      <th>county</th>\n",
       "      <th></th>\n",
       "    </tr>\n",
       "  </thead>\n",
       "  <tbody>\n",
       "    <tr>\n",
       "      <th>King</th>\n",
       "      <td>209,875.2</td>\n",
       "    </tr>\n",
       "    <tr>\n",
       "      <th>Kitsap</th>\n",
       "      <td>6,633.1</td>\n",
       "    </tr>\n",
       "    <tr>\n",
       "      <th>Pierce</th>\n",
       "      <td>55,363.3</td>\n",
       "    </tr>\n",
       "    <tr>\n",
       "      <th>Snohomish</th>\n",
       "      <td>61,409.8</td>\n",
       "    </tr>\n",
       "  </tbody>\n",
       "</table>\n",
       "</div>"
      ],
      "text/plain": [
       "           total_delay\n",
       "county                \n",
       "King         209,875.2\n",
       "Kitsap         6,633.1\n",
       "Pierce        55,363.3\n",
       "Snohomish     61,409.8"
      ]
     },
     "execution_count": 19,
     "metadata": {},
     "output_type": "execute_result"
    }
   ],
   "source": [
    "df[['total_delay','county']].groupby('county').sum()[['total_delay']]"
   ]
  },
  {
   "cell_type": "raw",
   "id": "44df2384",
   "metadata": {
    "vscode": {
     "languageId": "raw"
    }
   },
   "source": [
    "### Transit Delay"
   ]
  },
  {
   "cell_type": "code",
   "execution_count": 20,
   "id": "30a7cd99",
   "metadata": {
    "execution": {
     "iopub.execute_input": "2025-09-30T20:24:38.651168Z",
     "iopub.status.busy": "2025-09-30T20:24:38.650171Z",
     "iopub.status.idle": "2025-09-30T20:24:47.567360Z",
     "shell.execute_reply": "2025-09-30T20:24:47.566367Z"
    }
   },
   "outputs": [],
   "source": [
    "# Congestion on Transit Routes\n",
    "df_network = util.process_network_summary()\n",
    "# df = df[df['county']!='Outside Region']\n",
    "# Get PM congestion only for now\n",
    "\n",
    "tod = '17to18'\n",
    "df_network_pm = df_network[df_network['tod']==tod]\n",
    "\n",
    "df = pd.read_csv(util.output_path / 'transit/transit_segment_results.csv')\n",
    "df = df[df['tod']==tod]\n",
    "\n",
    "df = df[~df['j_node'].isnull()]\n",
    "df = df.merge(df_network_pm, on=['i_node','j_node'], how='left')"
   ]
  },
  {
   "cell_type": "code",
   "execution_count": 21,
   "id": "bfb20f92",
   "metadata": {
    "execution": {
     "iopub.execute_input": "2025-09-30T20:24:47.573344Z",
     "iopub.status.busy": "2025-09-30T20:24:47.572347Z",
     "iopub.status.idle": "2025-09-30T20:24:47.582654Z",
     "shell.execute_reply": "2025-09-30T20:24:47.581612Z"
    }
   },
   "outputs": [],
   "source": [
    "df[\"delay\"] = df[\"auto_time\"] - df[\"freeflow_time\"]\n",
    "df[\"person_delay\"] = df['segment_volume']*df['delay']"
   ]
  },
  {
   "cell_type": "markdown",
   "id": "11cd8b82",
   "metadata": {},
   "source": []
  },
  {
   "cell_type": "code",
   "execution_count": 22,
   "id": "6c88e2d7",
   "metadata": {
    "execution": {
     "iopub.execute_input": "2025-09-30T20:24:47.588454Z",
     "iopub.status.busy": "2025-09-30T20:24:47.587937Z",
     "iopub.status.idle": "2025-09-30T20:24:47.706138Z",
     "shell.execute_reply": "2025-09-30T20:24:47.705145Z"
    }
   },
   "outputs": [],
   "source": [
    "df_sum = df.groupby('line_id').sum()[['auto_time','freeflow_time','person_delay']]\n",
    "df_sum['vehicle_delay'] = df_sum['auto_time']-df_sum['freeflow_time']\n",
    "\n",
    "# Merge the line IDs to transit line results to get agency IDs or some other metric\n",
    "df_line_results = pd.read_csv(util.output_path / 'transit/transit_line_results.csv')\n",
    "df_line_results = df_line_results[df_line_results['tod']==tod]\n",
    "df_sum = df_sum.merge(df_line_results, on='line_id', how='left')"
   ]
  },
  {
   "cell_type": "code",
   "execution_count": 23,
   "id": "dee3a429",
   "metadata": {
    "execution": {
     "iopub.execute_input": "2025-09-30T20:24:47.712123Z",
     "iopub.status.busy": "2025-09-30T20:24:47.711125Z",
     "iopub.status.idle": "2025-09-30T20:24:47.719560Z",
     "shell.execute_reply": "2025-09-30T20:24:47.718568Z"
    }
   },
   "outputs": [],
   "source": [
    "# Compare person-delay in transit vs person-delay in vehicles on specific corridors"
   ]
  },
  {
   "cell_type": "code",
   "execution_count": null,
   "id": "e8b179dc",
   "metadata": {},
   "outputs": [],
   "source": []
  },
  {
   "cell_type": "code",
   "execution_count": 24,
   "id": "b94b68aa",
   "metadata": {
    "execution": {
     "iopub.execute_input": "2025-09-30T20:24:47.725544Z",
     "iopub.status.busy": "2025-09-30T20:24:47.724547Z",
     "iopub.status.idle": "2025-09-30T20:24:47.730673Z",
     "shell.execute_reply": "2025-09-30T20:24:47.729681Z"
    }
   },
   "outputs": [],
   "source": [
    "# # Total minutes of delay by agency\n",
    "# df = df_sum.groupby('agency_code').sum()[['delay']]\n",
    "# df.index = df.index.astype('int').astype('str').map(summary_config['agency_lookup'])\n",
    "# df.index.name = 'Agency'\n",
    "# df.rename(columns={'delay': 'Total Route Delay (min) at PM Peak'}, inplace=True)\n",
    "# df"
   ]
  },
  {
   "cell_type": "code",
   "execution_count": 25,
   "id": "080f0d18",
   "metadata": {
    "execution": {
     "iopub.execute_input": "2025-09-30T20:24:47.736202Z",
     "iopub.status.busy": "2025-09-30T20:24:47.735698Z",
     "iopub.status.idle": "2025-09-30T20:24:47.741430Z",
     "shell.execute_reply": "2025-09-30T20:24:47.740430Z"
    }
   },
   "outputs": [],
   "source": [
    "# # Ridership and Delay\n",
    "# df_sum.groupby('agency_code').sum()[['person_delay']]/60"
   ]
  },
  {
   "cell_type": "code",
   "execution_count": 26,
   "id": "06d1d1d2",
   "metadata": {
    "execution": {
     "iopub.execute_input": "2025-09-30T20:24:47.747414Z",
     "iopub.status.busy": "2025-09-30T20:24:47.746417Z",
     "iopub.status.idle": "2025-09-30T20:24:47.752539Z",
     "shell.execute_reply": "2025-09-30T20:24:47.751547Z"
    }
   },
   "outputs": [],
   "source": [
    "# # df = pd.read_csv((Path(output_path, 'transit/transit_segment_results.csv')))\n",
    "# # df = df[df['tod']=='7to8']\n",
    "# df_sum\n"
   ]
  },
  {
   "cell_type": "raw",
   "id": "c880828f",
   "metadata": {},
   "source": [
    ":::"
   ]
  }
 ],
 "metadata": {
  "kernelspec": {
   "display_name": "summary",
   "language": "python",
   "name": "python3"
  },
  "language_info": {
   "codemirror_mode": {
    "name": "ipython",
    "version": 3
   },
   "file_extension": ".py",
   "mimetype": "text/x-python",
   "name": "python",
   "nbconvert_exporter": "python",
   "pygments_lexer": "ipython3",
   "version": "3.11.12"
  }
 },
 "nbformat": 4,
 "nbformat_minor": 5
}
