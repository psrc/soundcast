{
 "cells": [
  {
   "cell_type": "raw",
   "id": "ccc9e13b",
   "metadata": {
    "vscode": {
     "languageId": "raw"
    }
   },
   "source": [
    "---\n",
    "title: \"Freight\"\n",
    "date: today\n",
    "---"
   ]
  },
  {
   "cell_type": "code",
   "execution_count": 1,
   "id": "a424ffdb",
   "metadata": {
    "execution": {
     "iopub.execute_input": "2025-07-30T22:06:33.817460Z",
     "iopub.status.busy": "2025-07-30T22:06:33.817460Z",
     "iopub.status.idle": "2025-07-30T22:06:36.320926Z",
     "shell.execute_reply": "2025-07-30T22:06:36.320409Z"
    }
   },
   "outputs": [],
   "source": [
    "import os\n",
    "import pandas as pd\n",
    "import numpy as np\n",
    "from sqlalchemy import create_engine,text\n",
    "from scipy import stats\n",
    "import plotly.express as px\n",
    "import toml\n",
    "import geopandas as gpd\n",
    "import plotly.express as px\n",
    "import plotly.graph_objects as go\n",
    "import h5py\n",
    "from functions import process_network_summary\n",
    "\n",
    "%matplotlib inline\n",
    "from IPython.display import display, HTML\n",
    "\n",
    "pd.options.display.float_format = '{:0,.0f}'.format"
   ]
  },
  {
   "cell_type": "code",
   "execution_count": 1,
   "id": "60af24f3",
   "metadata": {
    "execution": {
     "iopub.execute_input": "2025-07-30T22:06:36.326907Z",
     "iopub.status.busy": "2025-07-30T22:06:36.325911Z",
     "iopub.status.idle": "2025-07-30T22:06:44.460462Z",
     "shell.execute_reply": "2025-07-30T22:06:44.459472Z"
    }
   },
   "outputs": [
    {
     "ename": "NameError",
     "evalue": "name 'process_network_summary' is not defined",
     "output_type": "error",
     "traceback": [
      "\u001b[31m---------------------------------------------------------------------------\u001b[39m",
      "\u001b[31mNameError\u001b[39m                                 Traceback (most recent call last)",
      "\u001b[36mCell\u001b[39m\u001b[36m \u001b[39m\u001b[32mIn[1]\u001b[39m\u001b[32m, line 1\u001b[39m\n\u001b[32m----> \u001b[39m\u001b[32m1\u001b[39m df = \u001b[43mprocess_network_summary\u001b[49m()\n\u001b[32m      3\u001b[39m df = df[df[\u001b[33m'\u001b[39m\u001b[33mcounty\u001b[39m\u001b[33m'\u001b[39m]!=\u001b[33m\"\u001b[39m\u001b[33mOutside Region\u001b[39m\u001b[33m\"\u001b[39m]\n",
      "\u001b[31mNameError\u001b[39m: name 'process_network_summary' is not defined"
     ]
    }
   ],
   "source": [
    "df = process_network_summary()\n",
    "\n",
    "df = df[df['county']!=\"Outside Region\"]"
   ]
  },
  {
   "cell_type": "markdown",
   "id": "44ea95af",
   "metadata": {
    "vscode": {
     "languageId": "raw"
    }
   },
   "source": [
    "## Truck VMT by County\n"
   ]
  },
  {
   "cell_type": "code",
   "execution_count": null,
   "id": "a3f736aa",
   "metadata": {
    "execution": {
     "iopub.execute_input": "2025-07-30T22:06:44.466447Z",
     "iopub.status.busy": "2025-07-30T22:06:44.465451Z",
     "iopub.status.idle": "2025-07-30T22:06:44.560137Z",
     "shell.execute_reply": "2025-07-30T22:06:44.559140Z"
    }
   },
   "outputs": [
    {
     "data": {
      "text/html": [
       "<div>\n",
       "<style scoped>\n",
       "    .dataframe tbody tr th:only-of-type {\n",
       "        vertical-align: middle;\n",
       "    }\n",
       "\n",
       "    .dataframe tbody tr th {\n",
       "        vertical-align: top;\n",
       "    }\n",
       "\n",
       "    .dataframe thead th {\n",
       "        text-align: right;\n",
       "    }\n",
       "</style>\n",
       "<table border=\"1\" class=\"dataframe\">\n",
       "  <thead>\n",
       "    <tr style=\"text-align: right;\">\n",
       "      <th></th>\n",
       "      <th>County</th>\n",
       "      <th>Medium Trucks</th>\n",
       "      <th>Heavy Trucks</th>\n",
       "    </tr>\n",
       "  </thead>\n",
       "  <tbody>\n",
       "    <tr>\n",
       "      <th>0</th>\n",
       "      <td>King</td>\n",
       "      <td>1,956,074</td>\n",
       "      <td>1,417,574</td>\n",
       "    </tr>\n",
       "    <tr>\n",
       "      <th>1</th>\n",
       "      <td>Kitsap</td>\n",
       "      <td>145,278</td>\n",
       "      <td>90,379</td>\n",
       "    </tr>\n",
       "    <tr>\n",
       "      <th>2</th>\n",
       "      <td>Outside Region</td>\n",
       "      <td>21</td>\n",
       "      <td>22,281</td>\n",
       "    </tr>\n",
       "    <tr>\n",
       "      <th>3</th>\n",
       "      <td>Pierce</td>\n",
       "      <td>549,796</td>\n",
       "      <td>539,816</td>\n",
       "    </tr>\n",
       "    <tr>\n",
       "      <th>4</th>\n",
       "      <td>Snohomish</td>\n",
       "      <td>551,474</td>\n",
       "      <td>534,242</td>\n",
       "    </tr>\n",
       "    <tr>\n",
       "      <th>5</th>\n",
       "      <td>Total</td>\n",
       "      <td>3,202,642</td>\n",
       "      <td>2,604,291</td>\n",
       "    </tr>\n",
       "  </tbody>\n",
       "</table>\n",
       "</div>"
      ],
      "text/plain": [
       "           County  Medium Trucks  Heavy Trucks\n",
       "0            King      1,956,074     1,417,574\n",
       "1          Kitsap        145,278        90,379\n",
       "2  Outside Region             21        22,281\n",
       "3          Pierce        549,796       539,816\n",
       "4       Snohomish        551,474       534,242\n",
       "5           Total      3,202,642     2,604,291"
      ]
     },
     "execution_count": 3,
     "metadata": {},
     "output_type": "execute_result"
    }
   ],
   "source": [
    "\n",
    "df['medium_truck_vmt'] = df['@mveh']*df['length']\n",
    "df['heavy_truck_vmt'] = df['@hveh']*df['length']\n",
    "_df = df[['medium_truck_vmt','heavy_truck_vmt','county']].groupby('county').sum()[['medium_truck_vmt','heavy_truck_vmt']]\n",
    "_df.loc['Total',:] = _df.sum()\n",
    "_df = _df.reset_index()\n",
    "_df.rename(columns={'county':'County', 'medium_truck_vmt': 'Medium Trucks', 'heavy_truck_vmt': 'Heavy Trucks'}, inplace=True)\n",
    "_df\n"
   ]
  },
  {
   "cell_type": "markdown",
   "id": "f9d760c7",
   "metadata": {
    "vscode": {
     "languageId": "raw"
    }
   },
   "source": [
    "## Congestion by County"
   ]
  },
  {
   "cell_type": "raw",
   "id": "01e77a70",
   "metadata": {
    "vscode": {
     "languageId": "raw"
    }
   },
   "source": [
    ":::{.panel-tabset}\n",
    "### AM Peak (5 - 9 am)"
   ]
  },
  {
   "cell_type": "code",
   "execution_count": 4,
   "id": "affeba4d",
   "metadata": {
    "execution": {
     "iopub.execute_input": "2025-07-30T22:06:44.565952Z",
     "iopub.status.busy": "2025-07-30T22:06:44.564956Z",
     "iopub.status.idle": "2025-07-30T22:06:44.749806Z",
     "shell.execute_reply": "2025-07-30T22:06:44.748843Z"
    }
   },
   "outputs": [
    {
     "data": {
      "text/html": [
       "<div>\n",
       "<style scoped>\n",
       "    .dataframe tbody tr th:only-of-type {\n",
       "        vertical-align: middle;\n",
       "    }\n",
       "\n",
       "    .dataframe tbody tr th {\n",
       "        vertical-align: top;\n",
       "    }\n",
       "\n",
       "    .dataframe thead th {\n",
       "        text-align: right;\n",
       "    }\n",
       "</style>\n",
       "<table border=\"1\" class=\"dataframe\">\n",
       "  <thead>\n",
       "    <tr style=\"text-align: right;\">\n",
       "      <th></th>\n",
       "      <th>King</th>\n",
       "      <th>Kitsap</th>\n",
       "      <th>Outside Region</th>\n",
       "      <th>Pierce</th>\n",
       "      <th>Snohomish</th>\n",
       "    </tr>\n",
       "  </thead>\n",
       "  <tbody>\n",
       "    <tr>\n",
       "      <th>Light</th>\n",
       "      <td>618,027</td>\n",
       "      <td>56,276</td>\n",
       "      <td>5,619</td>\n",
       "      <td>235,218</td>\n",
       "      <td>235,357</td>\n",
       "    </tr>\n",
       "    <tr>\n",
       "      <th>Moderate</th>\n",
       "      <td>131,985</td>\n",
       "      <td>675</td>\n",
       "      <td>NaN</td>\n",
       "      <td>29,502</td>\n",
       "      <td>24,728</td>\n",
       "    </tr>\n",
       "    <tr>\n",
       "      <th>Heavy</th>\n",
       "      <td>91,641</td>\n",
       "      <td>1,210</td>\n",
       "      <td>NaN</td>\n",
       "      <td>8,242</td>\n",
       "      <td>11,592</td>\n",
       "    </tr>\n",
       "    <tr>\n",
       "      <th>Severe</th>\n",
       "      <td>5,753</td>\n",
       "      <td>44</td>\n",
       "      <td>0</td>\n",
       "      <td>454</td>\n",
       "      <td>449</td>\n",
       "    </tr>\n",
       "    <tr>\n",
       "      <th>Total</th>\n",
       "      <td>847,407</td>\n",
       "      <td>58,205</td>\n",
       "      <td>5,619</td>\n",
       "      <td>273,416</td>\n",
       "      <td>272,126</td>\n",
       "    </tr>\n",
       "  </tbody>\n",
       "</table>\n",
       "</div>"
      ],
      "text/plain": [
       "            King  Kitsap  Outside Region  Pierce  Snohomish\n",
       "Light    618,027  56,276           5,619 235,218    235,357\n",
       "Moderate 131,985     675             NaN  29,502     24,728\n",
       "Heavy     91,641   1,210             NaN   8,242     11,592\n",
       "Severe     5,753      44               0     454        449\n",
       "Total    847,407  58,205           5,619 273,416    272,126"
      ]
     },
     "execution_count": 4,
     "metadata": {},
     "output_type": "execute_result"
    }
   ],
   "source": [
    "df['Medium and Heavy Trucks'] = df['heavy_truck_vmt']+df['medium_truck_vmt']\n",
    "\n",
    "_df = df[df['tod'].isin(['5to6','6to7','7to8','8to9'])]\n",
    "_df = _df.pivot_table(index='congestion_category',columns='county',\n",
    "               aggfunc='sum',values='Medium and Heavy Trucks')\n",
    "_df = _df.reindex(['Light','Moderate','Heavy','Severe'])\n",
    "_df.index.name = None\n",
    "_df.columns.name = None\n",
    "_df.loc['Total',:] = _df.sum()\n",
    "_df"
   ]
  },
  {
   "cell_type": "raw",
   "id": "637ce9c7",
   "metadata": {
    "vscode": {
     "languageId": "raw"
    }
   },
   "source": [
    "### PM Peak (3 - 6 pm)"
   ]
  },
  {
   "cell_type": "code",
   "execution_count": 5,
   "id": "576b1dd9",
   "metadata": {
    "execution": {
     "iopub.execute_input": "2025-07-30T22:06:44.755789Z",
     "iopub.status.busy": "2025-07-30T22:06:44.754792Z",
     "iopub.status.idle": "2025-07-30T22:06:44.886216Z",
     "shell.execute_reply": "2025-07-30T22:06:44.885219Z"
    }
   },
   "outputs": [
    {
     "data": {
      "text/html": [
       "<div>\n",
       "<style scoped>\n",
       "    .dataframe tbody tr th:only-of-type {\n",
       "        vertical-align: middle;\n",
       "    }\n",
       "\n",
       "    .dataframe tbody tr th {\n",
       "        vertical-align: top;\n",
       "    }\n",
       "\n",
       "    .dataframe thead th {\n",
       "        text-align: right;\n",
       "    }\n",
       "</style>\n",
       "<table border=\"1\" class=\"dataframe\">\n",
       "  <thead>\n",
       "    <tr style=\"text-align: right;\">\n",
       "      <th></th>\n",
       "      <th>King</th>\n",
       "      <th>Kitsap</th>\n",
       "      <th>Outside Region</th>\n",
       "      <th>Pierce</th>\n",
       "      <th>Snohomish</th>\n",
       "    </tr>\n",
       "  </thead>\n",
       "  <tbody>\n",
       "    <tr>\n",
       "      <th>Light</th>\n",
       "      <td>353,036</td>\n",
       "      <td>32,912</td>\n",
       "      <td>3,302</td>\n",
       "      <td>136,392</td>\n",
       "      <td>135,562</td>\n",
       "    </tr>\n",
       "    <tr>\n",
       "      <th>Moderate</th>\n",
       "      <td>97,723</td>\n",
       "      <td>649</td>\n",
       "      <td>NaN</td>\n",
       "      <td>19,106</td>\n",
       "      <td>18,090</td>\n",
       "    </tr>\n",
       "    <tr>\n",
       "      <th>Heavy</th>\n",
       "      <td>43,819</td>\n",
       "      <td>642</td>\n",
       "      <td>NaN</td>\n",
       "      <td>4,436</td>\n",
       "      <td>5,855</td>\n",
       "    </tr>\n",
       "    <tr>\n",
       "      <th>Severe</th>\n",
       "      <td>2,904</td>\n",
       "      <td>44</td>\n",
       "      <td>0</td>\n",
       "      <td>322</td>\n",
       "      <td>304</td>\n",
       "    </tr>\n",
       "    <tr>\n",
       "      <th>Total</th>\n",
       "      <td>497,483</td>\n",
       "      <td>34,248</td>\n",
       "      <td>3,302</td>\n",
       "      <td>160,256</td>\n",
       "      <td>159,811</td>\n",
       "    </tr>\n",
       "  </tbody>\n",
       "</table>\n",
       "</div>"
      ],
      "text/plain": [
       "            King  Kitsap  Outside Region  Pierce  Snohomish\n",
       "Light    353,036  32,912           3,302 136,392    135,562\n",
       "Moderate  97,723     649             NaN  19,106     18,090\n",
       "Heavy     43,819     642             NaN   4,436      5,855\n",
       "Severe     2,904      44               0     322        304\n",
       "Total    497,483  34,248           3,302 160,256    159,811"
      ]
     },
     "execution_count": 5,
     "metadata": {},
     "output_type": "execute_result"
    }
   ],
   "source": [
    "_df = df[df['tod'].isin(['15to16','16to17','17to18'])]\n",
    "_df = _df.pivot_table(index='congestion_category',columns='county',\n",
    "               aggfunc='sum',values='Medium and Heavy Trucks')\n",
    "_df = _df.reindex(['Light','Moderate','Heavy','Severe'])\n",
    "_df.index.name = None\n",
    "_df.columns.name = None\n",
    "_df.loc['Total',:] = _df.sum()\n",
    "_df"
   ]
  },
  {
   "cell_type": "raw",
   "id": "0ef8bce7",
   "metadata": {
    "vscode": {
     "languageId": "raw"
    }
   },
   "source": [
    ":::"
   ]
  },
  {
   "cell_type": "markdown",
   "id": "92c21801",
   "metadata": {},
   "source": [
    "## Truck Miles on FGTS\n",
    "Freight and Goods Transportation System\n",
    "- T-1: More than 10 million tons per year\n",
    "- T-2: 2 4 million to 10 million tons per year"
   ]
  },
  {
   "cell_type": "raw",
   "id": "a9b60513",
   "metadata": {
    "vscode": {
     "languageId": "raw"
    }
   },
   "source": [
    ":::{.panel-tabset}\n",
    "### Values"
   ]
  },
  {
   "cell_type": "code",
   "execution_count": 6,
   "id": "8f638a40",
   "metadata": {
    "execution": {
     "iopub.execute_input": "2025-07-30T22:06:44.892030Z",
     "iopub.status.busy": "2025-07-30T22:06:44.891032Z",
     "iopub.status.idle": "2025-07-30T22:06:45.305460Z",
     "shell.execute_reply": "2025-07-30T22:06:45.304464Z"
    }
   },
   "outputs": [
    {
     "data": {
      "text/html": [
       "<div>\n",
       "<style scoped>\n",
       "    .dataframe tbody tr th:only-of-type {\n",
       "        vertical-align: middle;\n",
       "    }\n",
       "\n",
       "    .dataframe tbody tr th {\n",
       "        vertical-align: top;\n",
       "    }\n",
       "\n",
       "    .dataframe thead th {\n",
       "        text-align: right;\n",
       "    }\n",
       "</style>\n",
       "<table border=\"1\" class=\"dataframe\">\n",
       "  <thead>\n",
       "    <tr style=\"text-align: right;\">\n",
       "      <th></th>\n",
       "      <th>T-1</th>\n",
       "      <th>T-2</th>\n",
       "      <th>Other Routes</th>\n",
       "    </tr>\n",
       "    <tr>\n",
       "      <th>Vehicle Type</th>\n",
       "      <th></th>\n",
       "      <th></th>\n",
       "      <th></th>\n",
       "    </tr>\n",
       "  </thead>\n",
       "  <tbody>\n",
       "    <tr>\n",
       "      <th>Non-Truck</th>\n",
       "      <td>31,090,920</td>\n",
       "      <td>11,378,013</td>\n",
       "      <td>34,012,862</td>\n",
       "    </tr>\n",
       "    <tr>\n",
       "      <th>Heavy Trucks</th>\n",
       "      <td>2,086,019</td>\n",
       "      <td>172,121</td>\n",
       "      <td>346,151</td>\n",
       "    </tr>\n",
       "    <tr>\n",
       "      <th>Medium Trucks</th>\n",
       "      <td>1,778,551</td>\n",
       "      <td>486,324</td>\n",
       "      <td>937,767</td>\n",
       "    </tr>\n",
       "  </tbody>\n",
       "</table>\n",
       "</div>"
      ],
      "text/plain": [
       "                     T-1        T-2  Other Routes\n",
       "Vehicle Type                                     \n",
       "Non-Truck     31,090,920 11,378,013    34,012,862\n",
       "Heavy Trucks   2,086,019    172,121       346,151\n",
       "Medium Trucks  1,778,551    486,324       937,767"
      ]
     },
     "execution_count": 6,
     "metadata": {},
     "output_type": "execute_result"
    }
   ],
   "source": [
    "pd.options.display.float_format = '{:0,.0f}'.format\n",
    "df['Non-Truck'] = df['VMT']-df['Medium and Heavy Trucks']\n",
    "_df = df[['medium_truck_vmt','heavy_truck_vmt','@fgts','Non-Truck']].melt(\n",
    "    id_vars='@fgts', var_name='Vehicle Type')\n",
    "_df = _df.pivot_table(index='Vehicle Type', columns='@fgts', \n",
    "                values='value', aggfunc='sum')\n",
    "# _df = _df.reset_index()\n",
    "_df = _df.rename_axis(None, axis=1)\n",
    "_df.rename(columns={0:'Other Routes', 1: 'T-1', 2: 'T-2'}, inplace=True)\n",
    "_df.rename(index={'heavy_truck_vmt': 'Heavy Trucks',\n",
    "                 'medium_truck_vmt': 'Medium Trucks'}, inplace=True)\n",
    "_df[['T-1','T-2','Other Routes']]"
   ]
  },
  {
   "cell_type": "raw",
   "id": "d04254ba",
   "metadata": {
    "vscode": {
     "languageId": "raw"
    }
   },
   "source": [
    "### Shares"
   ]
  },
  {
   "cell_type": "code",
   "execution_count": 7,
   "id": "246a1d7c",
   "metadata": {
    "execution": {
     "iopub.execute_input": "2025-07-30T22:06:45.312438Z",
     "iopub.status.busy": "2025-07-30T22:06:45.311441Z",
     "iopub.status.idle": "2025-07-30T22:06:45.328988Z",
     "shell.execute_reply": "2025-07-30T22:06:45.327991Z"
    }
   },
   "outputs": [
    {
     "data": {
      "text/html": [
       "<div>\n",
       "<style scoped>\n",
       "    .dataframe tbody tr th:only-of-type {\n",
       "        vertical-align: middle;\n",
       "    }\n",
       "\n",
       "    .dataframe tbody tr th {\n",
       "        vertical-align: top;\n",
       "    }\n",
       "\n",
       "    .dataframe thead th {\n",
       "        text-align: right;\n",
       "    }\n",
       "</style>\n",
       "<table border=\"1\" class=\"dataframe\">\n",
       "  <thead>\n",
       "    <tr style=\"text-align: right;\">\n",
       "      <th></th>\n",
       "      <th>T-1</th>\n",
       "      <th>T-2</th>\n",
       "      <th>Other Routes</th>\n",
       "    </tr>\n",
       "    <tr>\n",
       "      <th>Vehicle Type</th>\n",
       "      <th></th>\n",
       "      <th></th>\n",
       "      <th></th>\n",
       "    </tr>\n",
       "  </thead>\n",
       "  <tbody>\n",
       "    <tr>\n",
       "      <th>Non-Truck</th>\n",
       "      <td>88.9%</td>\n",
       "      <td>94.5%</td>\n",
       "      <td>96.4%</td>\n",
       "    </tr>\n",
       "    <tr>\n",
       "      <th>Heavy Trucks</th>\n",
       "      <td>6.0%</td>\n",
       "      <td>1.4%</td>\n",
       "      <td>1.0%</td>\n",
       "    </tr>\n",
       "    <tr>\n",
       "      <th>Medium Trucks</th>\n",
       "      <td>5.1%</td>\n",
       "      <td>4.0%</td>\n",
       "      <td>2.7%</td>\n",
       "    </tr>\n",
       "  </tbody>\n",
       "</table>\n",
       "</div>"
      ],
      "text/plain": [
       "                T-1   T-2  Other Routes\n",
       "Vehicle Type                           \n",
       "Non-Truck     88.9% 94.5%         96.4%\n",
       "Heavy Trucks   6.0%  1.4%          1.0%\n",
       "Medium Trucks  5.1%  4.0%          2.7%"
      ]
     },
     "execution_count": 7,
     "metadata": {},
     "output_type": "execute_result"
    }
   ],
   "source": [
    "pd.options.display.float_format = '{:0,.1%}'.format\n",
    "_df[['T-1','T-2','Other Routes']]/_df[['T-1','T-2','Other Routes']].sum()"
   ]
  },
  {
   "cell_type": "raw",
   "id": "9512ffb0",
   "metadata": {
    "vscode": {
     "languageId": "raw"
    }
   },
   "source": [
    ":::"
   ]
  },
  {
   "cell_type": "markdown",
   "id": "7ac9cdaf",
   "metadata": {
    "vscode": {
     "languageId": "raw"
    }
   },
   "source": [
    "## Congestion on FGTS"
   ]
  },
  {
   "cell_type": "raw",
   "id": "38cf1684",
   "metadata": {
    "vscode": {
     "languageId": "raw"
    }
   },
   "source": [
    ":::{.panel-tabset}\n",
    "### AM Peak (5 - 9 am)"
   ]
  },
  {
   "cell_type": "code",
   "execution_count": 8,
   "id": "f206cb2c",
   "metadata": {
    "execution": {
     "iopub.execute_input": "2025-07-30T22:06:45.334974Z",
     "iopub.status.busy": "2025-07-30T22:06:45.333976Z",
     "iopub.status.idle": "2025-07-30T22:06:45.488872Z",
     "shell.execute_reply": "2025-07-30T22:06:45.487783Z"
    }
   },
   "outputs": [
    {
     "data": {
      "text/html": [
       "<div>\n",
       "<style scoped>\n",
       "    .dataframe tbody tr th:only-of-type {\n",
       "        vertical-align: middle;\n",
       "    }\n",
       "\n",
       "    .dataframe tbody tr th {\n",
       "        vertical-align: top;\n",
       "    }\n",
       "\n",
       "    .dataframe thead th {\n",
       "        text-align: right;\n",
       "    }\n",
       "</style>\n",
       "<table border=\"1\" class=\"dataframe\">\n",
       "  <thead>\n",
       "    <tr style=\"text-align: right;\">\n",
       "      <th></th>\n",
       "      <th>T-1</th>\n",
       "      <th>T-2</th>\n",
       "      <th>Other Routes</th>\n",
       "    </tr>\n",
       "  </thead>\n",
       "  <tbody>\n",
       "    <tr>\n",
       "      <th>Light</th>\n",
       "      <td>2,195,091</td>\n",
       "      <td>833,674</td>\n",
       "      <td>1,770,100</td>\n",
       "    </tr>\n",
       "    <tr>\n",
       "      <th>Moderate</th>\n",
       "      <td>438,267</td>\n",
       "      <td>106,769</td>\n",
       "      <td>212,371</td>\n",
       "    </tr>\n",
       "    <tr>\n",
       "      <th>Heavy</th>\n",
       "      <td>269,282</td>\n",
       "      <td>93,074</td>\n",
       "      <td>192,064</td>\n",
       "    </tr>\n",
       "    <tr>\n",
       "      <th>Severe</th>\n",
       "      <td>30,381</td>\n",
       "      <td>35,093</td>\n",
       "      <td>80,674</td>\n",
       "    </tr>\n",
       "    <tr>\n",
       "      <th>Total</th>\n",
       "      <td>2,933,020</td>\n",
       "      <td>1,068,610</td>\n",
       "      <td>2,255,209</td>\n",
       "    </tr>\n",
       "  </tbody>\n",
       "</table>\n",
       "</div>"
      ],
      "text/plain": [
       "               T-1       T-2  Other Routes\n",
       "Light    2,195,091   833,674     1,770,100\n",
       "Moderate   438,267   106,769       212,371\n",
       "Heavy      269,282    93,074       192,064\n",
       "Severe      30,381    35,093        80,674\n",
       "Total    2,933,020 1,068,610     2,255,209"
      ]
     },
     "execution_count": 8,
     "metadata": {},
     "output_type": "execute_result"
    }
   ],
   "source": [
    "pd.options.display.float_format = '{:0,.0f}'.format\n",
    "\n",
    "# Congested Miles on FGTS versus other Routes\n",
    "df['Medium and Heavy Trucks'] = df['@mveh']+df['@hveh']\n",
    "\n",
    "_df = df[df['tod'].isin(['5to6','6to7','7to8','8to9'])]\n",
    "_df = _df.pivot_table(index='congestion_category',columns='@fgts',\n",
    "               aggfunc='sum',values='Medium and Heavy Trucks')\n",
    "_df = _df.reindex(['Light','Moderate','Heavy','Severe'])\n",
    "_df.index.name = None\n",
    "_df.columns.name = None\n",
    "_df.rename(columns={0:'Other Routes', 1: 'T-1', 2: 'T-2'}, inplace=True)\n",
    "_df_ = _df.copy()\n",
    "_df.loc['Total',:] = _df.sum()\n",
    "_df = _df[['T-1','T-2','Other Routes']]\n",
    "_df"
   ]
  },
  {
   "cell_type": "code",
   "execution_count": 9,
   "id": "0cf27b71",
   "metadata": {
    "execution": {
     "iopub.execute_input": "2025-07-30T22:06:45.493442Z",
     "iopub.status.busy": "2025-07-30T22:06:45.493442Z",
     "iopub.status.idle": "2025-07-30T22:06:45.507920Z",
     "shell.execute_reply": "2025-07-30T22:06:45.506924Z"
    }
   },
   "outputs": [
    {
     "data": {
      "text/html": [
       "<div>\n",
       "<style scoped>\n",
       "    .dataframe tbody tr th:only-of-type {\n",
       "        vertical-align: middle;\n",
       "    }\n",
       "\n",
       "    .dataframe tbody tr th {\n",
       "        vertical-align: top;\n",
       "    }\n",
       "\n",
       "    .dataframe thead th {\n",
       "        text-align: right;\n",
       "    }\n",
       "</style>\n",
       "<table border=\"1\" class=\"dataframe\">\n",
       "  <thead>\n",
       "    <tr style=\"text-align: right;\">\n",
       "      <th></th>\n",
       "      <th>Other Routes</th>\n",
       "      <th>T-1</th>\n",
       "      <th>T-2</th>\n",
       "    </tr>\n",
       "  </thead>\n",
       "  <tbody>\n",
       "    <tr>\n",
       "      <th>Light</th>\n",
       "      <td>78.5%</td>\n",
       "      <td>74.8%</td>\n",
       "      <td>78.0%</td>\n",
       "    </tr>\n",
       "    <tr>\n",
       "      <th>Moderate</th>\n",
       "      <td>9.4%</td>\n",
       "      <td>14.9%</td>\n",
       "      <td>10.0%</td>\n",
       "    </tr>\n",
       "    <tr>\n",
       "      <th>Heavy</th>\n",
       "      <td>8.5%</td>\n",
       "      <td>9.2%</td>\n",
       "      <td>8.7%</td>\n",
       "    </tr>\n",
       "    <tr>\n",
       "      <th>Severe</th>\n",
       "      <td>3.6%</td>\n",
       "      <td>1.0%</td>\n",
       "      <td>3.3%</td>\n",
       "    </tr>\n",
       "  </tbody>\n",
       "</table>\n",
       "</div>"
      ],
      "text/plain": [
       "          Other Routes   T-1   T-2\n",
       "Light            78.5% 74.8% 78.0%\n",
       "Moderate          9.4% 14.9% 10.0%\n",
       "Heavy             8.5%  9.2%  8.7%\n",
       "Severe            3.6%  1.0%  3.3%"
      ]
     },
     "execution_count": 9,
     "metadata": {},
     "output_type": "execute_result"
    }
   ],
   "source": [
    "pd.options.display.float_format = '{:0,.1%}'.format\n",
    "_df_/_df_.sum()"
   ]
  },
  {
   "cell_type": "raw",
   "id": "d8b85d7c",
   "metadata": {
    "vscode": {
     "languageId": "raw"
    }
   },
   "source": [
    "### PM Peak (3 - 6 pm)"
   ]
  },
  {
   "cell_type": "code",
   "execution_count": 10,
   "id": "8cf4a517",
   "metadata": {
    "execution": {
     "iopub.execute_input": "2025-07-30T22:06:45.512906Z",
     "iopub.status.busy": "2025-07-30T22:06:45.511909Z",
     "iopub.status.idle": "2025-07-30T22:06:45.637764Z",
     "shell.execute_reply": "2025-07-30T22:06:45.636767Z"
    }
   },
   "outputs": [
    {
     "data": {
      "text/html": [
       "<div>\n",
       "<style scoped>\n",
       "    .dataframe tbody tr th:only-of-type {\n",
       "        vertical-align: middle;\n",
       "    }\n",
       "\n",
       "    .dataframe tbody tr th {\n",
       "        vertical-align: top;\n",
       "    }\n",
       "\n",
       "    .dataframe thead th {\n",
       "        text-align: right;\n",
       "    }\n",
       "</style>\n",
       "<table border=\"1\" class=\"dataframe\">\n",
       "  <thead>\n",
       "    <tr style=\"text-align: right;\">\n",
       "      <th></th>\n",
       "      <th>T-1</th>\n",
       "      <th>T-2</th>\n",
       "      <th>Other Routes</th>\n",
       "    </tr>\n",
       "  </thead>\n",
       "  <tbody>\n",
       "    <tr>\n",
       "      <th>Light</th>\n",
       "      <td>1,249,799</td>\n",
       "      <td>485,045</td>\n",
       "      <td>996,792</td>\n",
       "    </tr>\n",
       "    <tr>\n",
       "      <th>Moderate</th>\n",
       "      <td>303,472</td>\n",
       "      <td>61,004</td>\n",
       "      <td>129,794</td>\n",
       "    </tr>\n",
       "    <tr>\n",
       "      <th>Heavy</th>\n",
       "      <td>142,093</td>\n",
       "      <td>51,899</td>\n",
       "      <td>117,574</td>\n",
       "    </tr>\n",
       "    <tr>\n",
       "      <th>Severe</th>\n",
       "      <td>18,351</td>\n",
       "      <td>23,855</td>\n",
       "      <td>48,575</td>\n",
       "    </tr>\n",
       "    <tr>\n",
       "      <th>Total</th>\n",
       "      <td>1,713,714</td>\n",
       "      <td>621,802</td>\n",
       "      <td>1,292,735</td>\n",
       "    </tr>\n",
       "  </tbody>\n",
       "</table>\n",
       "</div>"
      ],
      "text/plain": [
       "               T-1     T-2  Other Routes\n",
       "Light    1,249,799 485,045       996,792\n",
       "Moderate   303,472  61,004       129,794\n",
       "Heavy      142,093  51,899       117,574\n",
       "Severe      18,351  23,855        48,575\n",
       "Total    1,713,714 621,802     1,292,735"
      ]
     },
     "execution_count": 10,
     "metadata": {},
     "output_type": "execute_result"
    }
   ],
   "source": [
    "pd.options.display.float_format = '{:0,.0f}'.format\n",
    "# Congested Miles on FGTS versus other Routes\n",
    "df['Medium and Heavy Trucks'] = df['@hveh']+df['@mveh']\n",
    "\n",
    "_df = df[df['tod'].isin(['15to16','16to17','17to18'])]\n",
    "_df = _df.pivot_table(index='congestion_category',columns='@fgts',\n",
    "               aggfunc='sum',values='Medium and Heavy Trucks')\n",
    "_df = _df.reindex(['Light','Moderate','Heavy','Severe'])\n",
    "_df.index.name = None\n",
    "_df.columns.name = None\n",
    "_df.rename(columns={0:'Other Routes', 1: 'T-1', 2: 'T-2'}, inplace=True)\n",
    "_df_ = _df.copy()\n",
    "_df.loc['Total',:] = _df.sum()\n",
    "_df = _df[['T-1','T-2','Other Routes']]\n",
    "_df"
   ]
  },
  {
   "cell_type": "code",
   "execution_count": 11,
   "id": "3220e398",
   "metadata": {
    "execution": {
     "iopub.execute_input": "2025-07-30T22:06:45.642750Z",
     "iopub.status.busy": "2025-07-30T22:06:45.642750Z",
     "iopub.status.idle": "2025-07-30T22:06:45.657381Z",
     "shell.execute_reply": "2025-07-30T22:06:45.656387Z"
    }
   },
   "outputs": [
    {
     "data": {
      "text/html": [
       "<div>\n",
       "<style scoped>\n",
       "    .dataframe tbody tr th:only-of-type {\n",
       "        vertical-align: middle;\n",
       "    }\n",
       "\n",
       "    .dataframe tbody tr th {\n",
       "        vertical-align: top;\n",
       "    }\n",
       "\n",
       "    .dataframe thead th {\n",
       "        text-align: right;\n",
       "    }\n",
       "</style>\n",
       "<table border=\"1\" class=\"dataframe\">\n",
       "  <thead>\n",
       "    <tr style=\"text-align: right;\">\n",
       "      <th></th>\n",
       "      <th>Other Routes</th>\n",
       "      <th>T-1</th>\n",
       "      <th>T-2</th>\n",
       "    </tr>\n",
       "  </thead>\n",
       "  <tbody>\n",
       "    <tr>\n",
       "      <th>Light</th>\n",
       "      <td>77.1%</td>\n",
       "      <td>72.9%</td>\n",
       "      <td>78.0%</td>\n",
       "    </tr>\n",
       "    <tr>\n",
       "      <th>Moderate</th>\n",
       "      <td>10.0%</td>\n",
       "      <td>17.7%</td>\n",
       "      <td>9.8%</td>\n",
       "    </tr>\n",
       "    <tr>\n",
       "      <th>Heavy</th>\n",
       "      <td>9.1%</td>\n",
       "      <td>8.3%</td>\n",
       "      <td>8.3%</td>\n",
       "    </tr>\n",
       "    <tr>\n",
       "      <th>Severe</th>\n",
       "      <td>3.8%</td>\n",
       "      <td>1.1%</td>\n",
       "      <td>3.8%</td>\n",
       "    </tr>\n",
       "  </tbody>\n",
       "</table>\n",
       "</div>"
      ],
      "text/plain": [
       "          Other Routes   T-1   T-2\n",
       "Light            77.1% 72.9% 78.0%\n",
       "Moderate         10.0% 17.7%  9.8%\n",
       "Heavy             9.1%  8.3%  8.3%\n",
       "Severe            3.8%  1.1%  3.8%"
      ]
     },
     "execution_count": 11,
     "metadata": {},
     "output_type": "execute_result"
    }
   ],
   "source": [
    "pd.options.display.float_format = '{:0,.1%}'.format\n",
    "_df_/_df_.sum()"
   ]
  },
  {
   "cell_type": "raw",
   "id": "7c6afe36",
   "metadata": {
    "vscode": {
     "languageId": "raw"
    }
   },
   "source": [
    ":::"
   ]
  },
  {
   "cell_type": "markdown",
   "id": "9f8beadf",
   "metadata": {},
   "source": [
    "## Equity\n",
    "\n",
    "### Households Within 500' of Heavy Truck Volumes\n",
    "\n",
    "Total number of households within 500' of T-1 and T-2 routes\n",
    "\n",
    "- T-1: More than 10 million tons per year\n",
    "\n",
    "- T-2: 2 4 million to 10 million tons per year"
   ]
  },
  {
   "cell_type": "code",
   "execution_count": null,
   "id": "6cda92ce",
   "metadata": {},
   "outputs": [],
   "source": []
  },
  {
   "cell_type": "code",
   "execution_count": 12,
   "id": "9f43f2e1",
   "metadata": {
    "execution": {
     "iopub.execute_input": "2025-07-30T22:06:45.663365Z",
     "iopub.status.busy": "2025-07-30T22:06:45.662369Z",
     "iopub.status.idle": "2025-07-30T22:07:06.576140Z",
     "shell.execute_reply": "2025-07-30T22:07:06.576140Z"
    }
   },
   "outputs": [],
   "source": [
    "import polars as pl\n",
    "\n",
    "# Intersect buffer with land use file\n",
    "df_lu = pl.read_csv(r'..\\..\\..\\..\\outputs\\landuse\\parcels_urbansim.txt', separator=' ').to_pandas()\n",
    "\n",
    "# Load as a geodataframe\n",
    "gdf_lu = gpd.GeoDataFrame(\n",
    "    df_lu, geometry=gpd.points_from_xy(df_lu.xcoord_p, df_lu.ycoord_p))\n",
    "# Set the coordinate reference system (CRS) to match the land use data\n",
    "gdf_lu.crs = 'EPSG:2285'\n",
    "\n",
    "# Buffer the parcels at 500ft\n",
    "gdf_lu['geometry'] = gdf_lu.buffer(500)"
   ]
  },
  {
   "cell_type": "code",
   "execution_count": 13,
   "id": "be848493",
   "metadata": {
    "execution": {
     "iopub.execute_input": "2025-07-30T22:07:06.583118Z",
     "iopub.status.busy": "2025-07-30T22:07:06.582126Z",
     "iopub.status.idle": "2025-07-30T22:07:29.526503Z",
     "shell.execute_reply": "2025-07-30T22:07:29.525468Z"
    }
   },
   "outputs": [],
   "source": [
    "\n",
    "# Intersect this geography  with the network shapefile\n",
    "gdf_network = gpd.read_file(r'..\\..\\..\\..\\inputs\\scenario\\networks\\shapefiles\\AM\\AM_edges.shp')\n",
    "# Do not include connectors since these are abstracted ul3==5; also remove weave links ul3==0 \n",
    "gdf_network = gdf_network[~gdf_network.ul3.isin([0,5])]\n",
    "# Truck network links are those that are in FGTS 1 or 2 system\n",
    "gdf_network = gdf_network[gdf_network['FGTS'].isin([1,2])]\n",
    "\n",
    "gdf_intersect = gpd.overlay(gdf_network, gdf_lu, how=\"intersection\", keep_geom_type=False)\n",
    "\n",
    "# Will need to relaculate the lengths since some were split across the regional geographies\n",
    "gdf_intersect['new_length'] = gdf_intersect.geometry.length/5280.0\n",
    "\n",
    "# filter out the polygon results and only keep lines\n",
    "gdf_intersect = gdf_intersect[gdf_intersect.geometry.type.isin(['MultiLineString','LineString'])]"
   ]
  },
  {
   "cell_type": "code",
   "execution_count": 14,
   "id": "64a3ffd0",
   "metadata": {
    "execution": {
     "iopub.execute_input": "2025-07-30T22:07:29.532888Z",
     "iopub.status.busy": "2025-07-30T22:07:29.531836Z",
     "iopub.status.idle": "2025-07-30T22:07:49.138805Z",
     "shell.execute_reply": "2025-07-30T22:07:49.137816Z"
    }
   },
   "outputs": [],
   "source": [
    "truck_parcels = gdf_intersect.groupby('parcelid').first()[['hh_p']].reset_index()\n",
    "\n",
    "\n",
    "# Result should be the network components with some flags for the parcelid\n",
    "# We can take the parcel information, join with parcel info and group\n",
    "# from input_configuration import base_year\n",
    "import toml\n",
    "config = toml.load(os.path.join(os.getcwd(),r'../../../../configuration/input_configuration.toml'))\n",
    "\n",
    "parcel_geog = pd.read_sql_table('parcel_'+config['base_year']+'_geography', 'sqlite:///../../../../inputs/db/'+config['db_name'])\n",
    "df = truck_parcels.merge(parcel_geog,left_on='parcelid', right_on='ParcelID')"
   ]
  },
  {
   "cell_type": "code",
   "execution_count": 15,
   "id": "d835af1a",
   "metadata": {
    "execution": {
     "iopub.execute_input": "2025-07-30T22:07:49.144790Z",
     "iopub.status.busy": "2025-07-30T22:07:49.143790Z",
     "iopub.status.idle": "2025-07-30T22:07:49.188947Z",
     "shell.execute_reply": "2025-07-30T22:07:49.188422Z"
    }
   },
   "outputs": [],
   "source": [
    "# Get the total number of households that in equtiy geograhpies\n",
    "# Comprae the percent of those that are in the buffer versus those that are not\n",
    "# For the 4 equity groups, perform the calc and add as a table\n",
    "results_df = pd.DataFrame()\n",
    "for col, name in {'equity_focus_areas_2023__efa_poc': 'People of Color',\n",
    "                      'equity_focus_areas_2023__efa_pov200': 'Poverty',\n",
    "                        'equity_focus_areas_2023__efa_lep': 'LEP',\n",
    "                        'equity_focus_areas_2023__efa_dis': 'Disability',\n",
    "                      'equity_focus_areas_2023__efa_older': 'Older',\n",
    "                      'equity_focus_areas_2023__efa_youth': 'Youth',\n",
    "                  }.items():\n",
    "    _df = df[[col,'hh_p']].groupby(col).sum()[['hh_p']]\n",
    "    _df['equity_group'] = name\n",
    "    results_df = pd.concat([results_df,_df])\n",
    "results_df = results_df.reset_index()\n",
    "results_df = results_df[results_df['index']>=0]"
   ]
  },
  {
   "cell_type": "markdown",
   "id": "c4e72351",
   "metadata": {
    "vscode": {
     "languageId": "raw"
    }
   },
   "source": [
    "### Total Households Within 500' of T-1/T-2 Routes by Equity Group"
   ]
  },
  {
   "cell_type": "raw",
   "id": "78c87050",
   "metadata": {
    "vscode": {
     "languageId": "raw"
    }
   },
   "source": [
    ":::{.panel-tabset}\n",
    "### Values"
   ]
  },
  {
   "cell_type": "code",
   "execution_count": 16,
   "id": "f248a641",
   "metadata": {
    "execution": {
     "iopub.execute_input": "2025-07-30T22:07:49.192095Z",
     "iopub.status.busy": "2025-07-30T22:07:49.192095Z",
     "iopub.status.idle": "2025-07-30T22:07:49.204193Z",
     "shell.execute_reply": "2025-07-30T22:07:49.204193Z"
    }
   },
   "outputs": [
    {
     "data": {
      "text/html": [
       "<div>\n",
       "<style scoped>\n",
       "    .dataframe tbody tr th:only-of-type {\n",
       "        vertical-align: middle;\n",
       "    }\n",
       "\n",
       "    .dataframe tbody tr th {\n",
       "        vertical-align: top;\n",
       "    }\n",
       "\n",
       "    .dataframe thead th {\n",
       "        text-align: right;\n",
       "    }\n",
       "</style>\n",
       "<table border=\"1\" class=\"dataframe\">\n",
       "  <thead>\n",
       "    <tr style=\"text-align: right;\">\n",
       "      <th>equity_group</th>\n",
       "      <th>Disability</th>\n",
       "      <th>LEP</th>\n",
       "      <th>Older</th>\n",
       "      <th>People of Color</th>\n",
       "      <th>Poverty</th>\n",
       "      <th>Youth</th>\n",
       "    </tr>\n",
       "    <tr>\n",
       "      <th>index</th>\n",
       "      <th></th>\n",
       "      <th></th>\n",
       "      <th></th>\n",
       "      <th></th>\n",
       "      <th></th>\n",
       "      <th></th>\n",
       "    </tr>\n",
       "  </thead>\n",
       "  <tbody>\n",
       "    <tr>\n",
       "      <th>Below Regional Average</th>\n",
       "      <td>96,729</td>\n",
       "      <td>105,618</td>\n",
       "      <td>118,343</td>\n",
       "      <td>75,091</td>\n",
       "      <td>91,169</td>\n",
       "      <td>124,528</td>\n",
       "    </tr>\n",
       "    <tr>\n",
       "      <th>Above Regional Average</th>\n",
       "      <td>56,908</td>\n",
       "      <td>41,623</td>\n",
       "      <td>53,783</td>\n",
       "      <td>65,912</td>\n",
       "      <td>56,922</td>\n",
       "      <td>45,724</td>\n",
       "    </tr>\n",
       "    <tr>\n",
       "      <th>Higher Share of Equity Population</th>\n",
       "      <td>33,259</td>\n",
       "      <td>39,655</td>\n",
       "      <td>14,770</td>\n",
       "      <td>45,893</td>\n",
       "      <td>38,805</td>\n",
       "      <td>16,644</td>\n",
       "    </tr>\n",
       "    <tr>\n",
       "      <th>Region</th>\n",
       "      <td>186,896</td>\n",
       "      <td>186,896</td>\n",
       "      <td>186,896</td>\n",
       "      <td>186,896</td>\n",
       "      <td>186,896</td>\n",
       "      <td>186,896</td>\n",
       "    </tr>\n",
       "  </tbody>\n",
       "</table>\n",
       "</div>"
      ],
      "text/plain": [
       "equity_group                       Disability     LEP   Older  \\\n",
       "index                                                           \n",
       "Below Regional Average                 96,729 105,618 118,343   \n",
       "Above Regional Average                 56,908  41,623  53,783   \n",
       "Higher Share of Equity Population      33,259  39,655  14,770   \n",
       "Region                                186,896 186,896 186,896   \n",
       "\n",
       "equity_group                       People of Color  Poverty   Youth  \n",
       "index                                                                \n",
       "Below Regional Average                      75,091   91,169 124,528  \n",
       "Above Regional Average                      65,912   56,922  45,724  \n",
       "Higher Share of Equity Population           45,893   38,805  16,644  \n",
       "Region                                     186,896  186,896 186,896  "
      ]
     },
     "execution_count": 16,
     "metadata": {},
     "output_type": "execute_result"
    }
   ],
   "source": [
    "_df = results_df.pivot_table(index='index', columns='equity_group', values='hh_p', aggfunc='sum')\n",
    "_df.index = _df.index.astype('int').map({0: 'Below Regional Average', \n",
    "                                1: 'Above Regional Average', \n",
    "                                2: 'Higher Share of Equity Population'}\n",
    "                                )\n",
    "pd.options.display.float_format = '{:0,.0f}'.format\n",
    "_df.loc['Region',:] = _df.sum(axis=0)\n",
    "_df.astype('float')"
   ]
  },
  {
   "cell_type": "raw",
   "id": "04bebd8d",
   "metadata": {
    "vscode": {
     "languageId": "raw"
    }
   },
   "source": [
    "### Shares"
   ]
  },
  {
   "cell_type": "code",
   "execution_count": 17,
   "id": "d9598460",
   "metadata": {
    "execution": {
     "iopub.execute_input": "2025-07-30T22:07:49.207179Z",
     "iopub.status.busy": "2025-07-30T22:07:49.207179Z",
     "iopub.status.idle": "2025-07-30T22:07:49.215228Z",
     "shell.execute_reply": "2025-07-30T22:07:49.215228Z"
    }
   },
   "outputs": [
    {
     "data": {
      "text/html": [
       "<div>\n",
       "<style scoped>\n",
       "    .dataframe tbody tr th:only-of-type {\n",
       "        vertical-align: middle;\n",
       "    }\n",
       "\n",
       "    .dataframe tbody tr th {\n",
       "        vertical-align: top;\n",
       "    }\n",
       "\n",
       "    .dataframe thead th {\n",
       "        text-align: right;\n",
       "    }\n",
       "</style>\n",
       "<table border=\"1\" class=\"dataframe\">\n",
       "  <thead>\n",
       "    <tr style=\"text-align: right;\">\n",
       "      <th>equity_group</th>\n",
       "      <th>Disability</th>\n",
       "      <th>LEP</th>\n",
       "      <th>Older</th>\n",
       "      <th>People of Color</th>\n",
       "      <th>Poverty</th>\n",
       "      <th>Youth</th>\n",
       "    </tr>\n",
       "    <tr>\n",
       "      <th>index</th>\n",
       "      <th></th>\n",
       "      <th></th>\n",
       "      <th></th>\n",
       "      <th></th>\n",
       "      <th></th>\n",
       "      <th></th>\n",
       "    </tr>\n",
       "  </thead>\n",
       "  <tbody>\n",
       "    <tr>\n",
       "      <th>Below Regional Average</th>\n",
       "      <td>51.8%</td>\n",
       "      <td>56.5%</td>\n",
       "      <td>63.3%</td>\n",
       "      <td>40.2%</td>\n",
       "      <td>48.8%</td>\n",
       "      <td>66.6%</td>\n",
       "    </tr>\n",
       "    <tr>\n",
       "      <th>Above Regional Average</th>\n",
       "      <td>30.4%</td>\n",
       "      <td>22.3%</td>\n",
       "      <td>28.8%</td>\n",
       "      <td>35.3%</td>\n",
       "      <td>30.5%</td>\n",
       "      <td>24.5%</td>\n",
       "    </tr>\n",
       "    <tr>\n",
       "      <th>Higher Share of Equity Population</th>\n",
       "      <td>17.8%</td>\n",
       "      <td>21.2%</td>\n",
       "      <td>7.9%</td>\n",
       "      <td>24.6%</td>\n",
       "      <td>20.8%</td>\n",
       "      <td>8.9%</td>\n",
       "    </tr>\n",
       "  </tbody>\n",
       "</table>\n",
       "</div>"
      ],
      "text/plain": [
       "equity_group                       Disability   LEP  Older  People of Color  \\\n",
       "index                                                                         \n",
       "Below Regional Average                  51.8% 56.5%  63.3%            40.2%   \n",
       "Above Regional Average                  30.4% 22.3%  28.8%            35.3%   \n",
       "Higher Share of Equity Population       17.8% 21.2%   7.9%            24.6%   \n",
       "\n",
       "equity_group                       Poverty  Youth  \n",
       "index                                              \n",
       "Below Regional Average               48.8%  66.6%  \n",
       "Above Regional Average               30.5%  24.5%  \n",
       "Higher Share of Equity Population    20.8%   8.9%  "
      ]
     },
     "execution_count": 17,
     "metadata": {},
     "output_type": "execute_result"
    }
   ],
   "source": [
    "pd.options.display.float_format = '{:0,.1%}'.format\n",
    "_df.drop('Region')/_df.drop('Region').sum()"
   ]
  },
  {
   "cell_type": "raw",
   "id": "e7e9425f",
   "metadata": {
    "vscode": {
     "languageId": "raw"
    }
   },
   "source": [
    "### Percent of Total Households "
   ]
  },
  {
   "cell_type": "code",
   "execution_count": 18,
   "id": "6fc76036",
   "metadata": {
    "execution": {
     "iopub.execute_input": "2025-07-30T22:07:49.218217Z",
     "iopub.status.busy": "2025-07-30T22:07:49.217220Z",
     "iopub.status.idle": "2025-07-30T22:07:49.805268Z",
     "shell.execute_reply": "2025-07-30T22:07:49.804272Z"
    }
   },
   "outputs": [
    {
     "data": {
      "text/html": [
       "<div>\n",
       "<style scoped>\n",
       "    .dataframe tbody tr th:only-of-type {\n",
       "        vertical-align: middle;\n",
       "    }\n",
       "\n",
       "    .dataframe tbody tr th {\n",
       "        vertical-align: top;\n",
       "    }\n",
       "\n",
       "    .dataframe thead th {\n",
       "        text-align: right;\n",
       "    }\n",
       "</style>\n",
       "<table border=\"1\" class=\"dataframe\">\n",
       "  <thead>\n",
       "    <tr style=\"text-align: right;\">\n",
       "      <th></th>\n",
       "      <th>Disability</th>\n",
       "      <th>LEP</th>\n",
       "      <th>Older</th>\n",
       "      <th>People of Color</th>\n",
       "      <th>Poverty</th>\n",
       "      <th>Youth</th>\n",
       "    </tr>\n",
       "  </thead>\n",
       "  <tbody>\n",
       "    <tr>\n",
       "      <th>Below Regional Average</th>\n",
       "      <td>10.3%</td>\n",
       "      <td>9.7%</td>\n",
       "      <td>13.0%</td>\n",
       "      <td>8.0%</td>\n",
       "      <td>8.8%</td>\n",
       "      <td>13.1%</td>\n",
       "    </tr>\n",
       "    <tr>\n",
       "      <th>Above Regional Average</th>\n",
       "      <td>10.8%</td>\n",
       "      <td>11.7%</td>\n",
       "      <td>9.1%</td>\n",
       "      <td>13.2%</td>\n",
       "      <td>12.8%</td>\n",
       "      <td>8.1%</td>\n",
       "    </tr>\n",
       "    <tr>\n",
       "      <th>Higher Share of Equity Population</th>\n",
       "      <td>12.5%</td>\n",
       "      <td>13.8%</td>\n",
       "      <td>6.3%</td>\n",
       "      <td>15.7%</td>\n",
       "      <td>15.6%</td>\n",
       "      <td>7.7%</td>\n",
       "    </tr>\n",
       "    <tr>\n",
       "      <th>Total Households</th>\n",
       "      <td>10.8%</td>\n",
       "      <td>10.8%</td>\n",
       "      <td>10.8%</td>\n",
       "      <td>10.8%</td>\n",
       "      <td>10.8%</td>\n",
       "      <td>10.8%</td>\n",
       "    </tr>\n",
       "  </tbody>\n",
       "</table>\n",
       "</div>"
      ],
      "text/plain": [
       "                                   Disability   LEP  Older  People of Color  \\\n",
       "Below Regional Average                  10.3%  9.7%  13.0%             8.0%   \n",
       "Above Regional Average                  10.8% 11.7%   9.1%            13.2%   \n",
       "Higher Share of Equity Population       12.5% 13.8%   6.3%            15.7%   \n",
       "Total Households                        10.8% 10.8%  10.8%            10.8%   \n",
       "\n",
       "                                   Poverty  Youth  \n",
       "Below Regional Average                8.8%  13.1%  \n",
       "Above Regional Average               12.8%   8.1%  \n",
       "Higher Share of Equity Population    15.6%   7.7%  \n",
       "Total Households                     10.8%  10.8%  "
      ]
     },
     "execution_count": 18,
     "metadata": {},
     "output_type": "execute_result"
    }
   ],
   "source": [
    "_df = results_df[[\"equity_group\",\"hh_p\",\"index\"]].pivot_table(index='equity_group',columns='index',values='hh_p')\n",
    "_df.rename(columns={0: 'Below Regional Average', \n",
    "                                1: 'Above Regional Average', \n",
    "                                2: 'Higher Share of Equity Population'}, inplace=True)\n",
    "_df.index.name = None\n",
    "_df.columns.name = None\n",
    "_df['Total Households'] = _df.sum(axis=1)\n",
    "_df_buffer = _df.copy()\n",
    "\n",
    "df_lu_tot = df_lu[['parcelid','hh_p']].merge(parcel_geog,left_on='parcelid', right_on='ParcelID')\n",
    "df_lu_tot['Region'] = 1\n",
    "results_df_tot = pd.DataFrame()\n",
    "for col, name in {'equity_focus_areas_2023__efa_poc': 'People of Color',\n",
    "                      'equity_focus_areas_2023__efa_pov200': 'Poverty',\n",
    "                        'equity_focus_areas_2023__efa_lep': 'LEP',\n",
    "                        'equity_focus_areas_2023__efa_dis': 'Disability',\n",
    "                      'equity_focus_areas_2023__efa_older': 'Older',\n",
    "                      'equity_focus_areas_2023__efa_youth': 'Youth',\n",
    "                  'Region': 'Region'\n",
    "                  }.items():\n",
    "    _df = df_lu_tot[['hh_p',col]].groupby(col).sum()[['hh_p']]\n",
    "    _df['equity_group'] = name\n",
    "    results_df_tot = pd.concat([results_df_tot, _df])\n",
    "results_df_tot = results_df_tot.reset_index()\n",
    "pd.options.display.float_format = '{:0,.0f}'.format\n",
    "\n",
    "_df = results_df_tot.pivot_table(index='equity_group',columns='index',values='hh_p')\n",
    "_df.rename(columns={0: 'Below Regional Average', \n",
    "                                1: 'Above Regional Average', \n",
    "                                2: 'Higher Share of Equity Population'}, inplace=True)\n",
    "_df.index.name = None\n",
    "_df.columns.name = None\n",
    "_df['Total Households'] = _df.sum(axis=1)\n",
    "_df_tot = _df.copy()\n",
    "_df = _df_tot.merge(_df_buffer, left_index=True, right_index=True, suffixes=['_tot','_buffer'])\n",
    "\n",
    "pd.options.display.float_format = '{:0,.1%}'.format\n",
    "efa_list = ['Below Regional Average', 'Above Regional Average','Higher Share of Equity Population', 'Total Households']\n",
    "for efa in efa_list:\n",
    "    _df[efa] = _df[f'{efa}_buffer']/_df[f'{efa}_tot']\n",
    "_df[efa_list].T\n"
   ]
  },
  {
   "cell_type": "raw",
   "id": "486bbd5b",
   "metadata": {
    "vscode": {
     "languageId": "raw"
    }
   },
   "source": [
    ":::"
   ]
  }
 ],
 "metadata": {
  "kernelspec": {
   "display_name": "summary",
   "language": "python",
   "name": "python3"
  },
  "language_info": {
   "codemirror_mode": {
    "name": "ipython",
    "version": 3
   },
   "file_extension": ".py",
   "mimetype": "text/x-python",
   "name": "python",
   "nbconvert_exporter": "python",
   "pygments_lexer": "ipython3",
   "version": "3.11.12"
  }
 },
 "nbformat": 4,
 "nbformat_minor": 5
}
