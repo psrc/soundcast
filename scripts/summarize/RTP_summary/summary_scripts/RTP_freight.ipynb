{
 "cells": [
  {
   "cell_type": "raw",
   "id": "ccc9e13b",
   "metadata": {
    "vscode": {
     "languageId": "raw"
    }
   },
   "source": [
    "---\n",
    "title: \"Freight\"\n",
    "date: today\n",
    "---"
   ]
  },
  {
   "cell_type": "code",
   "execution_count": 1,
   "id": "a424ffdb",
   "metadata": {
    "execution": {
     "iopub.execute_input": "2025-09-30T20:28:54.999265Z",
     "iopub.status.busy": "2025-09-30T20:28:54.998268Z",
     "iopub.status.idle": "2025-09-30T20:28:56.402658Z",
     "shell.execute_reply": "2025-09-30T20:28:56.402658Z"
    }
   },
   "outputs": [],
   "source": [
    "import pandas as pd\n",
    "import h5py\n",
    "from pathlib import Path\n",
    "import geopandas as gpd\n",
    "import util\n",
    "\n",
    "pd.options.display.float_format = '{:0,.0f}'.format"
   ]
  },
  {
   "cell_type": "code",
   "execution_count": 2,
   "id": "60af24f3",
   "metadata": {
    "execution": {
     "iopub.execute_input": "2025-09-30T20:28:56.407641Z",
     "iopub.status.busy": "2025-09-30T20:28:56.407641Z",
     "iopub.status.idle": "2025-09-30T20:29:05.355931Z",
     "shell.execute_reply": "2025-09-30T20:29:05.354943Z"
    }
   },
   "outputs": [],
   "source": [
    "df = util.process_network_summary()\n",
    "\n",
    "df = df[df['county']!=\"Outside Region\"]\n",
    "\n",
    "# network \n",
    "df = df.copy()\n",
    "df['medium_truck_vmt'] = df['@mveh']*df['length']\n",
    "df['heavy_truck_vmt'] = df['@hveh']*df['length']\n",
    "df['truck_vmt'] = df['heavy_truck_vmt']+df['medium_truck_vmt']\n",
    "\n",
    "# add order for county\n",
    "df[\"county\"] = pd.Categorical(df[\"county\"], categories = ['King', 'Snohomish', 'Pierce', 'Kitsap'], ordered=True)\n",
    "\n",
    "df['Road Type'] = df['@fgts'].map({\n",
    "    0: 'Non-Truck Route',\n",
    "    1: 'FGTS 1',\n",
    "    2: 'FGTS 2'\n",
    "})"
   ]
  },
  {
   "cell_type": "markdown",
   "id": "ea0c1cbb",
   "metadata": {},
   "source": [
    "## Truck Miles Traveled by County"
   ]
  },
  {
   "cell_type": "code",
   "execution_count": 3,
   "id": "55456ac2",
   "metadata": {
    "execution": {
     "iopub.execute_input": "2025-09-30T20:29:05.361915Z",
     "iopub.status.busy": "2025-09-30T20:29:05.361915Z",
     "iopub.status.idle": "2025-09-30T20:29:05.422520Z",
     "shell.execute_reply": "2025-09-30T20:29:05.421516Z"
    }
   },
   "outputs": [
    {
     "data": {
      "text/html": [
       "<div>\n",
       "<style scoped>\n",
       "    .dataframe tbody tr th:only-of-type {\n",
       "        vertical-align: middle;\n",
       "    }\n",
       "\n",
       "    .dataframe tbody tr th {\n",
       "        vertical-align: top;\n",
       "    }\n",
       "\n",
       "    .dataframe thead th {\n",
       "        text-align: right;\n",
       "    }\n",
       "</style>\n",
       "<table border=\"1\" class=\"dataframe\">\n",
       "  <thead>\n",
       "    <tr style=\"text-align: right;\">\n",
       "      <th></th>\n",
       "      <th>Medium Trucks</th>\n",
       "      <th>Heavy Trucks</th>\n",
       "      <th>All Trucks</th>\n",
       "    </tr>\n",
       "    <tr>\n",
       "      <th>county</th>\n",
       "      <th></th>\n",
       "      <th></th>\n",
       "      <th></th>\n",
       "    </tr>\n",
       "  </thead>\n",
       "  <tbody>\n",
       "    <tr>\n",
       "      <th>King</th>\n",
       "      <td>2,135,688</td>\n",
       "      <td>1,930,279</td>\n",
       "      <td>4,065,967</td>\n",
       "    </tr>\n",
       "    <tr>\n",
       "      <th>Snohomish</th>\n",
       "      <td>676,527</td>\n",
       "      <td>719,204</td>\n",
       "      <td>1,395,731</td>\n",
       "    </tr>\n",
       "    <tr>\n",
       "      <th>Pierce</th>\n",
       "      <td>608,874</td>\n",
       "      <td>751,833</td>\n",
       "      <td>1,360,707</td>\n",
       "    </tr>\n",
       "    <tr>\n",
       "      <th>Kitsap</th>\n",
       "      <td>152,196</td>\n",
       "      <td>119,448</td>\n",
       "      <td>271,644</td>\n",
       "    </tr>\n",
       "    <tr>\n",
       "      <th>Total</th>\n",
       "      <td>3,573,284</td>\n",
       "      <td>3,520,763</td>\n",
       "      <td>7,094,048</td>\n",
       "    </tr>\n",
       "  </tbody>\n",
       "</table>\n",
       "</div>"
      ],
      "text/plain": [
       "           Medium Trucks  Heavy Trucks  All Trucks\n",
       "county                                            \n",
       "King           2,135,688     1,930,279   4,065,967\n",
       "Snohomish        676,527       719,204   1,395,731\n",
       "Pierce           608,874       751,833   1,360,707\n",
       "Kitsap           152,196       119,448     271,644\n",
       "Total          3,573,284     3,520,763   7,094,048"
      ]
     },
     "execution_count": 3,
     "metadata": {},
     "output_type": "execute_result"
    }
   ],
   "source": [
    "tab = df[['county','truck_vmt','medium_truck_vmt','heavy_truck_vmt']].groupby('county', observed=False).sum()[['medium_truck_vmt','heavy_truck_vmt','truck_vmt']]\n",
    "truck_col_map = {'truck_vmt': 'All Trucks',\n",
    "                 'medium_truck_vmt': 'Medium Trucks',\n",
    "                'heavy_truck_vmt': 'Heavy Trucks'}\n",
    "tab = tab.rename(columns=truck_col_map)\n",
    "tab.loc['Total',:] = tab.sum()\n",
    "tab"
   ]
  },
  {
   "cell_type": "markdown",
   "id": "8b861636",
   "metadata": {},
   "source": [
    "## Miles Traveled on Truck Routes by Vehicle Type\n",
    "\n",
    "Major Truck Routes include two tiers on the Freight and Goods Transportation System (FGTS)\n",
    "\n",
    "- T-1: More than 10 million tons per year\n",
    "\n",
    "- T-2: 4 million to 10 million tons per year"
   ]
  },
  {
   "cell_type": "raw",
   "id": "1edf849d",
   "metadata": {
    "vscode": {
     "languageId": "raw"
    }
   },
   "source": [
    ":::{.panel-tabset}\n",
    "### VMT"
   ]
  },
  {
   "cell_type": "code",
   "execution_count": 4,
   "id": "9f6ce439",
   "metadata": {
    "execution": {
     "iopub.execute_input": "2025-09-30T20:29:05.428505Z",
     "iopub.status.busy": "2025-09-30T20:29:05.427505Z",
     "iopub.status.idle": "2025-09-30T20:29:05.549478Z",
     "shell.execute_reply": "2025-09-30T20:29:05.548476Z"
    }
   },
   "outputs": [
    {
     "data": {
      "text/html": [
       "<div>\n",
       "<style scoped>\n",
       "    .dataframe tbody tr th:only-of-type {\n",
       "        vertical-align: middle;\n",
       "    }\n",
       "\n",
       "    .dataframe tbody tr th {\n",
       "        vertical-align: top;\n",
       "    }\n",
       "\n",
       "    .dataframe thead th {\n",
       "        text-align: right;\n",
       "    }\n",
       "</style>\n",
       "<table border=\"1\" class=\"dataframe\">\n",
       "  <thead>\n",
       "    <tr style=\"text-align: right;\">\n",
       "      <th></th>\n",
       "      <th>Passenger</th>\n",
       "      <th>Medium Truck</th>\n",
       "      <th>Heavy Truck</th>\n",
       "    </tr>\n",
       "    <tr>\n",
       "      <th>Road Type</th>\n",
       "      <th></th>\n",
       "      <th></th>\n",
       "      <th></th>\n",
       "    </tr>\n",
       "  </thead>\n",
       "  <tbody>\n",
       "    <tr>\n",
       "      <th>FGTS 1</th>\n",
       "      <td>36,608,319</td>\n",
       "      <td>1,761,592</td>\n",
       "      <td>2,834,726</td>\n",
       "    </tr>\n",
       "    <tr>\n",
       "      <th>FGTS 2</th>\n",
       "      <td>13,750,394</td>\n",
       "      <td>589,424</td>\n",
       "      <td>231,888</td>\n",
       "    </tr>\n",
       "  </tbody>\n",
       "</table>\n",
       "</div>"
      ],
      "text/plain": [
       "           Passenger  Medium Truck  Heavy Truck\n",
       "Road Type                                      \n",
       "FGTS 1    36,608,319     1,761,592    2,834,726\n",
       "FGTS 2    13,750,394       589,424      231,888"
      ]
     },
     "execution_count": 4,
     "metadata": {},
     "output_type": "execute_result"
    }
   ],
   "source": [
    "# Travel on Truck Routes\n",
    "\n",
    "df_vmt = df[['VMT','heavy_truck_vmt','medium_truck_vmt','Road Type']].groupby('Road Type').sum()\n",
    "df_vmt['Passenger'] = df_vmt['VMT'] - df_vmt['heavy_truck_vmt'] - df_vmt['medium_truck_vmt']\n",
    "df_vmt = df_vmt.rename(columns={'heavy_truck_vmt': 'Heavy Truck',\n",
    "                             'medium_truck_vmt': 'Medium Truck',})\n",
    "df1 = df_vmt.loc[['FGTS 1', 'FGTS 2']]\n",
    "df1 = df1[['Passenger', 'Medium Truck', 'Heavy Truck']]\n",
    "df1"
   ]
  },
  {
   "cell_type": "code",
   "execution_count": 5,
   "id": "0759823d",
   "metadata": {
    "execution": {
     "iopub.execute_input": "2025-09-30T20:29:05.555465Z",
     "iopub.status.busy": "2025-09-30T20:29:05.554467Z",
     "iopub.status.idle": "2025-09-30T20:29:05.571538Z",
     "shell.execute_reply": "2025-09-30T20:29:05.570544Z"
    }
   },
   "outputs": [
    {
     "data": {
      "text/html": [
       "<div>\n",
       "<style scoped>\n",
       "    .dataframe tbody tr th:only-of-type {\n",
       "        vertical-align: middle;\n",
       "    }\n",
       "\n",
       "    .dataframe tbody tr th {\n",
       "        vertical-align: top;\n",
       "    }\n",
       "\n",
       "    .dataframe thead th {\n",
       "        text-align: right;\n",
       "    }\n",
       "</style>\n",
       "<table border=\"1\" class=\"dataframe\">\n",
       "  <thead>\n",
       "    <tr style=\"text-align: right;\">\n",
       "      <th></th>\n",
       "      <th>Passenger</th>\n",
       "      <th>Medium Truck</th>\n",
       "      <th>Heavy Truck</th>\n",
       "    </tr>\n",
       "    <tr>\n",
       "      <th>Road Type</th>\n",
       "      <th></th>\n",
       "      <th></th>\n",
       "      <th></th>\n",
       "    </tr>\n",
       "  </thead>\n",
       "  <tbody>\n",
       "    <tr>\n",
       "      <th>Non-Truck Route</th>\n",
       "      <td>40,855,951</td>\n",
       "      <td>1,222,269</td>\n",
       "      <td>454,150</td>\n",
       "    </tr>\n",
       "    <tr>\n",
       "      <th>Major Truck Routes (FGTS 1 + FGTS 2)</th>\n",
       "      <td>50,358,714</td>\n",
       "      <td>2,351,016</td>\n",
       "      <td>3,066,614</td>\n",
       "    </tr>\n",
       "  </tbody>\n",
       "</table>\n",
       "</div>"
      ],
      "text/plain": [
       "                                      Passenger  Medium Truck  Heavy Truck\n",
       "Road Type                                                                 \n",
       "Non-Truck Route                      40,855,951     1,222,269      454,150\n",
       "Major Truck Routes (FGTS 1 + FGTS 2) 50,358,714     2,351,016    3,066,614"
      ]
     },
     "execution_count": 5,
     "metadata": {},
     "output_type": "execute_result"
    }
   ],
   "source": [
    "df_vmt = df_vmt[['Passenger', 'Medium Truck', 'Heavy Truck']]\n",
    "df_vmt.loc['Major Truck Routes (FGTS 1 + FGTS 2)',:] = df_vmt.loc['FGTS 1',:] + df_vmt.loc['FGTS 2',:]\n",
    "df2 = df_vmt.loc[['Non-Truck Route','Major Truck Routes (FGTS 1 + FGTS 2)']]\n",
    "df2"
   ]
  },
  {
   "cell_type": "raw",
   "id": "8d5f3c45",
   "metadata": {
    "vscode": {
     "languageId": "raw"
    }
   },
   "source": [
    "### Percent"
   ]
  },
  {
   "cell_type": "code",
   "execution_count": 6,
   "id": "764bb658",
   "metadata": {
    "execution": {
     "iopub.execute_input": "2025-09-30T20:29:05.576525Z",
     "iopub.status.busy": "2025-09-30T20:29:05.576525Z",
     "iopub.status.idle": "2025-09-30T20:29:05.593314Z",
     "shell.execute_reply": "2025-09-30T20:29:05.592320Z"
    }
   },
   "outputs": [
    {
     "data": {
      "text/html": [
       "<div>\n",
       "<style scoped>\n",
       "    .dataframe tbody tr th:only-of-type {\n",
       "        vertical-align: middle;\n",
       "    }\n",
       "\n",
       "    .dataframe tbody tr th {\n",
       "        vertical-align: top;\n",
       "    }\n",
       "\n",
       "    .dataframe thead th {\n",
       "        text-align: right;\n",
       "    }\n",
       "</style>\n",
       "<table border=\"1\" class=\"dataframe\">\n",
       "  <thead>\n",
       "    <tr style=\"text-align: right;\">\n",
       "      <th></th>\n",
       "      <th>Passenger</th>\n",
       "      <th>Medium Truck</th>\n",
       "      <th>Heavy Truck</th>\n",
       "    </tr>\n",
       "    <tr>\n",
       "      <th>Road Type</th>\n",
       "      <th></th>\n",
       "      <th></th>\n",
       "      <th></th>\n",
       "    </tr>\n",
       "  </thead>\n",
       "  <tbody>\n",
       "    <tr>\n",
       "      <th>FGTS 1</th>\n",
       "      <td>72.7%</td>\n",
       "      <td>74.9%</td>\n",
       "      <td>92.4%</td>\n",
       "    </tr>\n",
       "    <tr>\n",
       "      <th>FGTS 2</th>\n",
       "      <td>27.3%</td>\n",
       "      <td>25.1%</td>\n",
       "      <td>7.6%</td>\n",
       "    </tr>\n",
       "  </tbody>\n",
       "</table>\n",
       "</div>"
      ],
      "text/plain": [
       "           Passenger  Medium Truck  Heavy Truck\n",
       "Road Type                                      \n",
       "FGTS 1         72.7%         74.9%        92.4%\n",
       "FGTS 2         27.3%         25.1%         7.6%"
      ]
     },
     "execution_count": 6,
     "metadata": {},
     "output_type": "execute_result"
    }
   ],
   "source": [
    "# Show percentage of VMT by vehicle type\n",
    "pd.options.display.float_format = '{:0,.1%}'.format\n",
    "df1_pct = df1.div(df1.sum(axis=0), axis=1)\n",
    "df1_pct"
   ]
  },
  {
   "cell_type": "code",
   "execution_count": 7,
   "id": "be6c8ffd",
   "metadata": {
    "execution": {
     "iopub.execute_input": "2025-09-30T20:29:05.598302Z",
     "iopub.status.busy": "2025-09-30T20:29:05.597302Z",
     "iopub.status.idle": "2025-09-30T20:29:05.609248Z",
     "shell.execute_reply": "2025-09-30T20:29:05.609248Z"
    }
   },
   "outputs": [
    {
     "data": {
      "text/html": [
       "<div>\n",
       "<style scoped>\n",
       "    .dataframe tbody tr th:only-of-type {\n",
       "        vertical-align: middle;\n",
       "    }\n",
       "\n",
       "    .dataframe tbody tr th {\n",
       "        vertical-align: top;\n",
       "    }\n",
       "\n",
       "    .dataframe thead th {\n",
       "        text-align: right;\n",
       "    }\n",
       "</style>\n",
       "<table border=\"1\" class=\"dataframe\">\n",
       "  <thead>\n",
       "    <tr style=\"text-align: right;\">\n",
       "      <th></th>\n",
       "      <th>Passenger</th>\n",
       "      <th>Medium Truck</th>\n",
       "      <th>Heavy Truck</th>\n",
       "    </tr>\n",
       "    <tr>\n",
       "      <th>Road Type</th>\n",
       "      <th></th>\n",
       "      <th></th>\n",
       "      <th></th>\n",
       "    </tr>\n",
       "  </thead>\n",
       "  <tbody>\n",
       "    <tr>\n",
       "      <th>Non-Truck Route</th>\n",
       "      <td>44.8%</td>\n",
       "      <td>34.2%</td>\n",
       "      <td>12.9%</td>\n",
       "    </tr>\n",
       "    <tr>\n",
       "      <th>Major Truck Routes (FGTS 1 + FGTS 2)</th>\n",
       "      <td>55.2%</td>\n",
       "      <td>65.8%</td>\n",
       "      <td>87.1%</td>\n",
       "    </tr>\n",
       "  </tbody>\n",
       "</table>\n",
       "</div>"
      ],
      "text/plain": [
       "                                      Passenger  Medium Truck  Heavy Truck\n",
       "Road Type                                                                 \n",
       "Non-Truck Route                           44.8%         34.2%        12.9%\n",
       "Major Truck Routes (FGTS 1 + FGTS 2)      55.2%         65.8%        87.1%"
      ]
     },
     "execution_count": 7,
     "metadata": {},
     "output_type": "execute_result"
    }
   ],
   "source": [
    "df2_pct = df2.div(df2.sum(axis=0), axis=1)\n",
    "df2_pct"
   ]
  },
  {
   "cell_type": "raw",
   "id": "8bd33bb9",
   "metadata": {
    "vscode": {
     "languageId": "raw"
    }
   },
   "source": [
    ":::"
   ]
  },
  {
   "cell_type": "markdown",
   "id": "880b514a",
   "metadata": {},
   "source": [
    "## Vehicle Trips"
   ]
  },
  {
   "cell_type": "code",
   "execution_count": 8,
   "id": "652f30af",
   "metadata": {
    "execution": {
     "iopub.execute_input": "2025-09-30T20:29:05.613244Z",
     "iopub.status.busy": "2025-09-30T20:29:05.613244Z",
     "iopub.status.idle": "2025-09-30T20:29:10.448501Z",
     "shell.execute_reply": "2025-09-30T20:29:10.448501Z"
    }
   },
   "outputs": [],
   "source": [
    "truck_h5 = h5py.File(util.output_path / 'trucks/truck_trips.h5','r')\n",
    "\n",
    "total_med_trips = 0\n",
    "total_hvy_trips = 0\n",
    "for tod in truck_h5.keys():\n",
    "    total_med_trips += truck_h5[tod]['mf'+tod+'_medtrk_trips'][:].sum()\n",
    "    total_hvy_trips += truck_h5[tod]['mf'+tod+'_hvytrk_trips'][:].sum()\n",
    "\n",
    "_df_trips = pd.DataFrame({'Trips': [total_hvy_trips, total_med_trips]}, index=['Heavy Trucks', 'Medium Trucks'])"
   ]
  },
  {
   "cell_type": "code",
   "execution_count": 9,
   "id": "db780ba6",
   "metadata": {
    "execution": {
     "iopub.execute_input": "2025-09-30T20:29:10.455480Z",
     "iopub.status.busy": "2025-09-30T20:29:10.454483Z",
     "iopub.status.idle": "2025-09-30T20:29:12.157192Z",
     "shell.execute_reply": "2025-09-30T20:29:12.157192Z"
    }
   },
   "outputs": [],
   "source": [
    "skim_h5 = h5py.File(util.input_path / 'model/daysim/roster/7to8.h5', 'r')\n",
    "\n",
    "wt_hvy = (truck_h5['7to8']['mf7to8_hvytrk_trips'][0:3751, 0:3751] * (skim_h5['Skims']['heavy_truckd'][:]/100.0)[0:3751, 0:3751]).sum()\n",
    "hvy_dist = wt_hvy/truck_h5['7to8']['mf7to8_hvytrk_trips'][0:3751, 0:3751].sum()\n",
    "\n",
    "wt_med = (truck_h5['7to8']['mf7to8_medtrk_trips'][0:3751, 0:3751] * (skim_h5['Skims']['medium_truckd'][:]/100.0)[0:3751, 0:3751]).sum()\n",
    "med_dist = wt_med/truck_h5['7to8']['mf7to8_medtrk_trips'][0:3751, 0:3751].sum()\n",
    "\n",
    "tot_dist = (wt_hvy+wt_med)/(truck_h5['7to8']['mf7to8_medtrk_trips'][0:3751, 0:3751].sum()+truck_h5['7to8']['mf7to8_hvytrk_trips'][0:3751, 0:3751].sum())\n",
    "\n",
    "_df_dist = pd.DataFrame({'Average Distance (mi)': [hvy_dist, med_dist]}, index=['Heavy Trucks', 'Medium Trucks'])"
   ]
  },
  {
   "cell_type": "code",
   "execution_count": 10,
   "id": "73378599",
   "metadata": {
    "execution": {
     "iopub.execute_input": "2025-09-30T20:29:12.164172Z",
     "iopub.status.busy": "2025-09-30T20:29:12.163176Z",
     "iopub.status.idle": "2025-09-30T20:29:12.180386Z",
     "shell.execute_reply": "2025-09-30T20:29:12.179383Z"
    }
   },
   "outputs": [
    {
     "data": {
      "text/html": [
       "<div>\n",
       "<style scoped>\n",
       "    .dataframe tbody tr th:only-of-type {\n",
       "        vertical-align: middle;\n",
       "    }\n",
       "\n",
       "    .dataframe tbody tr th {\n",
       "        vertical-align: top;\n",
       "    }\n",
       "\n",
       "    .dataframe thead th {\n",
       "        text-align: right;\n",
       "    }\n",
       "</style>\n",
       "<table border=\"1\" class=\"dataframe\">\n",
       "  <thead>\n",
       "    <tr style=\"text-align: right;\">\n",
       "      <th></th>\n",
       "      <th>Trips</th>\n",
       "      <th>Average Distance (mi)</th>\n",
       "    </tr>\n",
       "  </thead>\n",
       "  <tbody>\n",
       "    <tr>\n",
       "      <th>Heavy Trucks</th>\n",
       "      <td>183,860</td>\n",
       "      <td>38.8</td>\n",
       "    </tr>\n",
       "    <tr>\n",
       "      <th>Medium Trucks</th>\n",
       "      <td>440,708</td>\n",
       "      <td>12.0</td>\n",
       "    </tr>\n",
       "    <tr>\n",
       "      <th>All Trucks</th>\n",
       "      <td>624,568</td>\n",
       "      <td>19.9</td>\n",
       "    </tr>\n",
       "  </tbody>\n",
       "</table>\n",
       "</div>"
      ],
      "text/plain": [
       "                Trips Average Distance (mi)\n",
       "Heavy Trucks  183,860                  38.8\n",
       "Medium Trucks 440,708                  12.0\n",
       "All Trucks    624,568                  19.9"
      ]
     },
     "execution_count": 10,
     "metadata": {},
     "output_type": "execute_result"
    }
   ],
   "source": [
    "pd.options.display.float_format = '{:0,.0f}'.format\n",
    "df_combined = pd.concat([_df_trips, _df_dist], axis=1)\n",
    "df_combined.loc['All Trucks',:] = df_combined.sum()\n",
    "df_combined.loc['All Trucks','Average Distance (mi)'] = tot_dist\n",
    "df_combined['Average Distance (mi)'] = df_combined['Average Distance (mi)'].map('{:.1f}'.format)\n",
    "df_combined"
   ]
  },
  {
   "cell_type": "markdown",
   "id": "15470887",
   "metadata": {},
   "source": [
    "## Truck Delay\n",
    "\n",
    "- Delay Hours is total delay for all trucks on an average weekday\n",
    "\n",
    "- Annual Avg Driver Delay is the total average hourly delay for a driver in a year "
   ]
  },
  {
   "cell_type": "code",
   "execution_count": 11,
   "id": "d227df37",
   "metadata": {
    "execution": {
     "iopub.execute_input": "2025-09-30T20:29:12.186372Z",
     "iopub.status.busy": "2025-09-30T20:29:12.185375Z",
     "iopub.status.idle": "2025-09-30T20:29:12.209104Z",
     "shell.execute_reply": "2025-09-30T20:29:12.208098Z"
    }
   },
   "outputs": [
    {
     "data": {
      "text/html": [
       "<div>\n",
       "<style scoped>\n",
       "    .dataframe tbody tr th:only-of-type {\n",
       "        vertical-align: middle;\n",
       "    }\n",
       "\n",
       "    .dataframe tbody tr th {\n",
       "        vertical-align: top;\n",
       "    }\n",
       "\n",
       "    .dataframe thead th {\n",
       "        text-align: right;\n",
       "    }\n",
       "</style>\n",
       "<table border=\"1\" class=\"dataframe\">\n",
       "  <thead>\n",
       "    <tr style=\"text-align: right;\">\n",
       "      <th></th>\n",
       "      <th>Delay Hours</th>\n",
       "      <th>Annual Avg Driver Delay</th>\n",
       "    </tr>\n",
       "  </thead>\n",
       "  <tbody>\n",
       "    <tr>\n",
       "      <th>Heavy Trucks</th>\n",
       "      <td>13,743</td>\n",
       "      <td>23.9</td>\n",
       "    </tr>\n",
       "    <tr>\n",
       "      <th>Medium Trucks</th>\n",
       "      <td>13,436</td>\n",
       "      <td>9.8</td>\n",
       "    </tr>\n",
       "  </tbody>\n",
       "</table>\n",
       "</div>"
      ],
      "text/plain": [
       "               Delay Hours Annual Avg Driver Delay\n",
       "Heavy Trucks        13,743                    23.9\n",
       "Medium Trucks       13,436                     9.8"
      ]
     },
     "execution_count": 11,
     "metadata": {},
     "output_type": "execute_result"
    }
   ],
   "source": [
    "pd.options.display.float_format = '{:0,.0f}'.format\n",
    "df_delay = pd.read_csv(util.output_path / 'network/delay_user_class.csv')\n",
    "df_delay = pd.DataFrame(df_delay[['@hveh','@mveh']].sum(), columns=['Delay Hours'])\n",
    "df_delay.rename(index={'@mveh': 'Medium Trucks',\n",
    "               '@hveh': 'Heavy Trucks'}, inplace=True)\n",
    "df_delay = df_delay.merge(df_combined.loc[[\"Heavy Trucks\",\"Medium Trucks\"]], left_index=True, right_index=True)[['Delay Hours','Trips']]\n",
    "df_delay['Annual Avg Driver Delay'] = (df_delay['Delay Hours']/df_delay['Trips'])*util.summary_config['weekday_to_annual']\n",
    "df_delay['Annual Avg Driver Delay'] = df_delay['Annual Avg Driver Delay'].map('{:.1f}'.format)\n",
    "df_delay[['Delay Hours','Annual Avg Driver Delay']]\n"
   ]
  },
  {
   "cell_type": "markdown",
   "id": "55321136",
   "metadata": {},
   "source": [
    "## External Trips"
   ]
  },
  {
   "cell_type": "code",
   "execution_count": 12,
   "id": "a8c0294f",
   "metadata": {
    "execution": {
     "iopub.execute_input": "2025-09-30T20:29:12.215087Z",
     "iopub.status.busy": "2025-09-30T20:29:12.214091Z",
     "iopub.status.idle": "2025-09-30T20:29:12.848691Z",
     "shell.execute_reply": "2025-09-30T20:29:12.847697Z"
    }
   },
   "outputs": [
    {
     "data": {
      "text/html": [
       "<div>\n",
       "<style scoped>\n",
       "    .dataframe tbody tr th:only-of-type {\n",
       "        vertical-align: middle;\n",
       "    }\n",
       "\n",
       "    .dataframe tbody tr th {\n",
       "        vertical-align: top;\n",
       "    }\n",
       "\n",
       "    .dataframe thead th {\n",
       "        text-align: right;\n",
       "    }\n",
       "</style>\n",
       "<table border=\"1\" class=\"dataframe\">\n",
       "  <thead>\n",
       "    <tr style=\"text-align: right;\">\n",
       "      <th></th>\n",
       "      <th>Trips</th>\n",
       "    </tr>\n",
       "  </thead>\n",
       "  <tbody>\n",
       "    <tr>\n",
       "      <th>External -&gt; External (Pass Through)</th>\n",
       "      <td>5,857</td>\n",
       "    </tr>\n",
       "    <tr>\n",
       "      <th>Internal -&gt; External</th>\n",
       "      <td>29,636</td>\n",
       "    </tr>\n",
       "    <tr>\n",
       "      <th>External -&gt; Internal</th>\n",
       "      <td>29,636</td>\n",
       "    </tr>\n",
       "    <tr>\n",
       "      <th>Total</th>\n",
       "      <td>65,129</td>\n",
       "    </tr>\n",
       "  </tbody>\n",
       "</table>\n",
       "</div>"
      ],
      "text/plain": [
       "                                     Trips\n",
       "External -> External (Pass Through)  5,857\n",
       "Internal -> External                29,636\n",
       "External -> Internal                29,636\n",
       "Total                               65,129"
      ]
     },
     "execution_count": 12,
     "metadata": {},
     "output_type": "execute_result"
    }
   ],
   "source": [
    "# External-external trips\n",
    "ext_med_trips = 0\n",
    "ext_hvy_trips = 0\n",
    "for tod in truck_h5.keys():\n",
    "    ext_med_trips += truck_h5[tod]['mf'+tod+'_medtrk_trips'][3700:,3700:].sum()\n",
    "    ext_hvy_trips += truck_h5[tod]['mf'+tod+'_hvytrk_trips'][3700:,3700:].sum()\n",
    "\n",
    "df_ext = pd.DataFrame({'External -> External (Pass Through)': [ext_hvy_trips, ext_med_trips]}, index=['Heavy Trucks', 'Medium Trucks'])\n",
    "\n",
    "# Internal ->  external trips\n",
    "ext_med_trips = 0\n",
    "ext_hvy_trips = 0\n",
    "for tod in truck_h5.keys():\n",
    "    ext_med_trips += truck_h5[tod]['mf'+tod+'_medtrk_trips'][:3701,3700:].sum()\n",
    "    ext_hvy_trips += truck_h5[tod]['mf'+tod+'_hvytrk_trips'][:3701,3700:].sum()\n",
    "\n",
    "df_i_e = pd.DataFrame({'Internal -> External': [ext_hvy_trips, ext_med_trips]}, index=['Heavy Trucks', 'Medium Trucks'])\n",
    "df_ext = df_ext.merge(df_i_e, left_index=True, right_index=True)\n",
    "\n",
    "# External ->  internal trips\n",
    "ext_med_trips = 0\n",
    "ext_hvy_trips = 0\n",
    "for tod in truck_h5.keys():\n",
    "    ext_med_trips += truck_h5[tod]['mf'+tod+'_medtrk_trips'][3700:,:3701].sum()\n",
    "    ext_hvy_trips += truck_h5[tod]['mf'+tod+'_hvytrk_trips'][3700:,:3701].sum()\n",
    "\n",
    "df_e_i = pd.DataFrame({'External -> Internal': [ext_hvy_trips, ext_med_trips]}, index=['Heavy Trucks', 'Medium Trucks'])\n",
    "df_ext = df_ext.merge(df_e_i, left_index=True, right_index=True)\n",
    "\n",
    "# # Total Trips\n",
    "# (_df_trips*2) - thru_truck_trips\n",
    "df_ext['Total'] = df_ext.sum(axis=1)\n",
    "df_ext = pd.DataFrame(df_ext.loc['Heavy Trucks'])\n",
    "\n",
    "df_ext.rename(columns={'Heavy Trucks': 'Trips'}, inplace=True)\n",
    "df_ext"
   ]
  },
  {
   "cell_type": "markdown",
   "id": "1337f854",
   "metadata": {
    "vscode": {
     "languageId": "raw"
    }
   },
   "source": [
    "### Miles of Roadway with AM Congestion"
   ]
  },
  {
   "cell_type": "raw",
   "id": "0a271bf1",
   "metadata": {
    "vscode": {
     "languageId": "raw"
    }
   },
   "source": [
    "\n",
    ":::{.panel-tabset}\n",
    "### All Roadways"
   ]
  },
  {
   "cell_type": "code",
   "execution_count": 13,
   "id": "5fc3229e",
   "metadata": {
    "execution": {
     "iopub.execute_input": "2025-09-30T20:29:12.854673Z",
     "iopub.status.busy": "2025-09-30T20:29:12.853676Z",
     "iopub.status.idle": "2025-09-30T20:29:12.960596Z",
     "shell.execute_reply": "2025-09-30T20:29:12.959596Z"
    }
   },
   "outputs": [
    {
     "name": "stderr",
     "output_type": "stream",
     "text": [
      "C:\\Users\\Modeller\\AppData\\Local\\Temp\\ipykernel_13608\\1794173721.py:3: FutureWarning: The default value of observed=False is deprecated and will change to observed=True in a future version of pandas. Specify observed=False to silence this warning and retain the current behavior\n",
      "  _df = _df.pivot_table(index='congestion_category',columns='county',\n"
     ]
    },
    {
     "data": {
      "text/html": [
       "<div>\n",
       "<style scoped>\n",
       "    .dataframe tbody tr th:only-of-type {\n",
       "        vertical-align: middle;\n",
       "    }\n",
       "\n",
       "    .dataframe tbody tr th {\n",
       "        vertical-align: top;\n",
       "    }\n",
       "\n",
       "    .dataframe thead th {\n",
       "        text-align: right;\n",
       "    }\n",
       "</style>\n",
       "<table border=\"1\" class=\"dataframe\">\n",
       "  <thead>\n",
       "    <tr style=\"text-align: right;\">\n",
       "      <th>county</th>\n",
       "      <th>King</th>\n",
       "      <th>Snohomish</th>\n",
       "      <th>Pierce</th>\n",
       "      <th>Kitsap</th>\n",
       "    </tr>\n",
       "    <tr>\n",
       "      <th>congestion_category</th>\n",
       "      <th></th>\n",
       "      <th></th>\n",
       "      <th></th>\n",
       "      <th></th>\n",
       "    </tr>\n",
       "  </thead>\n",
       "  <tbody>\n",
       "    <tr>\n",
       "      <th>Heavy</th>\n",
       "      <td>332</td>\n",
       "      <td>88</td>\n",
       "      <td>100</td>\n",
       "      <td>11</td>\n",
       "    </tr>\n",
       "    <tr>\n",
       "      <th>Light</th>\n",
       "      <td>5,854</td>\n",
       "      <td>2,928</td>\n",
       "      <td>3,589</td>\n",
       "      <td>1,396</td>\n",
       "    </tr>\n",
       "    <tr>\n",
       "      <th>Moderate</th>\n",
       "      <td>490</td>\n",
       "      <td>161</td>\n",
       "      <td>209</td>\n",
       "      <td>28</td>\n",
       "    </tr>\n",
       "    <tr>\n",
       "      <th>Severe</th>\n",
       "      <td>50</td>\n",
       "      <td>10</td>\n",
       "      <td>9</td>\n",
       "      <td>3</td>\n",
       "    </tr>\n",
       "  </tbody>\n",
       "</table>\n",
       "</div>"
      ],
      "text/plain": [
       "county               King  Snohomish  Pierce  Kitsap\n",
       "congestion_category                                 \n",
       "Heavy                 332         88     100      11\n",
       "Light               5,854      2,928   3,589   1,396\n",
       "Moderate              490        161     209      28\n",
       "Severe                 50         10       9       3"
      ]
     },
     "execution_count": 13,
     "metadata": {},
     "output_type": "execute_result"
    }
   ],
   "source": [
    "time_period_list = ['7to8']\n",
    "_df = df[df['tod'].isin(time_period_list)]\n",
    "_df = _df.pivot_table(index='congestion_category',columns='county',\n",
    "               aggfunc='sum',values='length')\n",
    "_df = _df/len(time_period_list)\n",
    "_df.to_clipboard()\n",
    "_df"
   ]
  },
  {
   "cell_type": "raw",
   "id": "a01f6ac1",
   "metadata": {
    "vscode": {
     "languageId": "raw"
    }
   },
   "source": [
    "### FGTS 1 & 2"
   ]
  },
  {
   "cell_type": "code",
   "execution_count": 14,
   "id": "8bad7265",
   "metadata": {
    "execution": {
     "iopub.execute_input": "2025-09-30T20:29:12.964586Z",
     "iopub.status.busy": "2025-09-30T20:29:12.963590Z",
     "iopub.status.idle": "2025-09-30T20:29:13.019576Z",
     "shell.execute_reply": "2025-09-30T20:29:13.019576Z"
    }
   },
   "outputs": [],
   "source": [
    "# Results by Congestion Level\n",
    "df['speed'] = df['length']/df['auto_time']*60\n",
    "df['congestion_index'] = df['speed']/df['data2']\n",
    "df['congestion_index'] = df['congestion_index'].clip(0,1)\n",
    "df['congestion_category'] = pd.cut(df['congestion_index'], bins=[0,.25,.5,.7,0.99,1], labels=['Severe','Heavy','Moderate','Light','None'])"
   ]
  },
  {
   "cell_type": "code",
   "execution_count": 15,
   "id": "c9421859",
   "metadata": {
    "execution": {
     "iopub.execute_input": "2025-09-30T20:29:13.024119Z",
     "iopub.status.busy": "2025-09-30T20:29:13.023122Z",
     "iopub.status.idle": "2025-09-30T20:29:13.124708Z",
     "shell.execute_reply": "2025-09-30T20:29:13.123717Z"
    }
   },
   "outputs": [
    {
     "name": "stderr",
     "output_type": "stream",
     "text": [
      "C:\\Users\\Modeller\\AppData\\Local\\Temp\\ipykernel_13608\\1642555342.py:3: FutureWarning: The default value of observed=False is deprecated and will change to observed=True in a future version of pandas. Specify observed=False to silence this warning and retain the current behavior\n",
      "  _df = _df.pivot_table(index='congestion_category',columns='county',\n"
     ]
    },
    {
     "data": {
      "text/html": [
       "<div>\n",
       "<style scoped>\n",
       "    .dataframe tbody tr th:only-of-type {\n",
       "        vertical-align: middle;\n",
       "    }\n",
       "\n",
       "    .dataframe tbody tr th {\n",
       "        vertical-align: top;\n",
       "    }\n",
       "\n",
       "    .dataframe thead th {\n",
       "        text-align: right;\n",
       "    }\n",
       "</style>\n",
       "<table border=\"1\" class=\"dataframe\">\n",
       "  <thead>\n",
       "    <tr style=\"text-align: right;\">\n",
       "      <th>county</th>\n",
       "      <th>King</th>\n",
       "      <th>Snohomish</th>\n",
       "      <th>Pierce</th>\n",
       "      <th>Kitsap</th>\n",
       "    </tr>\n",
       "    <tr>\n",
       "      <th>congestion_category</th>\n",
       "      <th></th>\n",
       "      <th></th>\n",
       "      <th></th>\n",
       "      <th></th>\n",
       "    </tr>\n",
       "  </thead>\n",
       "  <tbody>\n",
       "    <tr>\n",
       "      <th>Severe</th>\n",
       "      <td>18</td>\n",
       "      <td>2</td>\n",
       "      <td>4</td>\n",
       "      <td>2</td>\n",
       "    </tr>\n",
       "    <tr>\n",
       "      <th>Heavy</th>\n",
       "      <td>154</td>\n",
       "      <td>39</td>\n",
       "      <td>40</td>\n",
       "      <td>2</td>\n",
       "    </tr>\n",
       "    <tr>\n",
       "      <th>Moderate</th>\n",
       "      <td>149</td>\n",
       "      <td>48</td>\n",
       "      <td>72</td>\n",
       "      <td>5</td>\n",
       "    </tr>\n",
       "    <tr>\n",
       "      <th>Light</th>\n",
       "      <td>431</td>\n",
       "      <td>195</td>\n",
       "      <td>278</td>\n",
       "      <td>67</td>\n",
       "    </tr>\n",
       "    <tr>\n",
       "      <th>None</th>\n",
       "      <td>273</td>\n",
       "      <td>87</td>\n",
       "      <td>177</td>\n",
       "      <td>32</td>\n",
       "    </tr>\n",
       "  </tbody>\n",
       "</table>\n",
       "</div>"
      ],
      "text/plain": [
       "county               King  Snohomish  Pierce  Kitsap\n",
       "congestion_category                                 \n",
       "Severe                 18          2       4       2\n",
       "Heavy                 154         39      40       2\n",
       "Moderate              149         48      72       5\n",
       "Light                 431        195     278      67\n",
       "None                  273         87     177      32"
      ]
     },
     "execution_count": 15,
     "metadata": {},
     "output_type": "execute_result"
    }
   ],
   "source": [
    "time_period_list = ['7to8']\n",
    "_df = df[df['tod'].isin(time_period_list) & (df['@fgts'].isin([1,2]))]\n",
    "_df = _df.pivot_table(index='congestion_category',columns='county',\n",
    "               aggfunc='sum',values='length')\n",
    "_df = _df/len(time_period_list)\n",
    "_df.to_clipboard()\n",
    "_df"
   ]
  },
  {
   "cell_type": "raw",
   "id": "e79ffd28",
   "metadata": {
    "vscode": {
     "languageId": "raw"
    }
   },
   "source": [
    ":::"
   ]
  },
  {
   "cell_type": "markdown",
   "id": "e247e67c",
   "metadata": {},
   "source": [
    "## VMT By Congestion Level"
   ]
  },
  {
   "cell_type": "raw",
   "id": "c4026458",
   "metadata": {
    "vscode": {
     "languageId": "raw"
    }
   },
   "source": [
    ":::{.panel-tabset}\n",
    "### AM Peak (5 - 9 am)"
   ]
  },
  {
   "cell_type": "code",
   "execution_count": 16,
   "id": "a63c7a14",
   "metadata": {
    "execution": {
     "iopub.execute_input": "2025-09-30T20:29:13.130693Z",
     "iopub.status.busy": "2025-09-30T20:29:13.130693Z",
     "iopub.status.idle": "2025-09-30T20:29:13.271771Z",
     "shell.execute_reply": "2025-09-30T20:29:13.270768Z"
    }
   },
   "outputs": [
    {
     "name": "stderr",
     "output_type": "stream",
     "text": [
      "C:\\Users\\Modeller\\AppData\\Local\\Temp\\ipykernel_13608\\4017565026.py:4: FutureWarning: The default value of observed=False is deprecated and will change to observed=True in a future version of pandas. Specify observed=False to silence this warning and retain the current behavior\n",
      "  _df = _df.pivot_table(index='congestion_category',columns='county',\n"
     ]
    },
    {
     "data": {
      "text/html": [
       "<div>\n",
       "<style scoped>\n",
       "    .dataframe tbody tr th:only-of-type {\n",
       "        vertical-align: middle;\n",
       "    }\n",
       "\n",
       "    .dataframe tbody tr th {\n",
       "        vertical-align: top;\n",
       "    }\n",
       "\n",
       "    .dataframe thead th {\n",
       "        text-align: right;\n",
       "    }\n",
       "</style>\n",
       "<table border=\"1\" class=\"dataframe\">\n",
       "  <thead>\n",
       "    <tr style=\"text-align: right;\">\n",
       "      <th></th>\n",
       "      <th>King</th>\n",
       "      <th>Snohomish</th>\n",
       "      <th>Pierce</th>\n",
       "      <th>Kitsap</th>\n",
       "    </tr>\n",
       "  </thead>\n",
       "  <tbody>\n",
       "    <tr>\n",
       "      <th>Light</th>\n",
       "      <td>456,922</td>\n",
       "      <td>185,886</td>\n",
       "      <td>186,486</td>\n",
       "      <td>37,553</td>\n",
       "    </tr>\n",
       "    <tr>\n",
       "      <th>Moderate</th>\n",
       "      <td>174,900</td>\n",
       "      <td>42,938</td>\n",
       "      <td>50,773</td>\n",
       "      <td>2,248</td>\n",
       "    </tr>\n",
       "    <tr>\n",
       "      <th>Heavy</th>\n",
       "      <td>140,247</td>\n",
       "      <td>28,859</td>\n",
       "      <td>23,113</td>\n",
       "      <td>1,028</td>\n",
       "    </tr>\n",
       "    <tr>\n",
       "      <th>Severe</th>\n",
       "      <td>11,086</td>\n",
       "      <td>951</td>\n",
       "      <td>829</td>\n",
       "      <td>929</td>\n",
       "    </tr>\n",
       "    <tr>\n",
       "      <th>Total</th>\n",
       "      <td>783,155</td>\n",
       "      <td>258,634</td>\n",
       "      <td>261,201</td>\n",
       "      <td>41,757</td>\n",
       "    </tr>\n",
       "  </tbody>\n",
       "</table>\n",
       "</div>"
      ],
      "text/plain": [
       "            King  Snohomish  Pierce  Kitsap\n",
       "Light    456,922    185,886 186,486  37,553\n",
       "Moderate 174,900     42,938  50,773   2,248\n",
       "Heavy    140,247     28,859  23,113   1,028\n",
       "Severe    11,086        951     829     929\n",
       "Total    783,155    258,634 261,201  41,757"
      ]
     },
     "execution_count": 16,
     "metadata": {},
     "output_type": "execute_result"
    }
   ],
   "source": [
    "df['Medium and Heavy Trucks'] = df['heavy_truck_vmt']+df['medium_truck_vmt']\n",
    "\n",
    "_df = df[df['tod'].isin(['5to6','6to7','7to8','8to9'])]\n",
    "_df = _df.pivot_table(index='congestion_category',columns='county',\n",
    "               aggfunc='sum',values='Medium and Heavy Trucks')\n",
    "_df = _df.reindex(['Light','Moderate','Heavy','Severe'])\n",
    "_df.index.name = None\n",
    "_df.columns.name = None\n",
    "_df.loc['Total',:] = _df.sum()\n",
    "_df"
   ]
  },
  {
   "cell_type": "raw",
   "id": "562c943f",
   "metadata": {
    "vscode": {
     "languageId": "raw"
    }
   },
   "source": [
    "### PM Peak (3 - 6 pm)"
   ]
  },
  {
   "cell_type": "code",
   "execution_count": 17,
   "id": "cb675831",
   "metadata": {
    "execution": {
     "iopub.execute_input": "2025-09-30T20:29:13.277460Z",
     "iopub.status.busy": "2025-09-30T20:29:13.276465Z",
     "iopub.status.idle": "2025-09-30T20:29:13.399751Z",
     "shell.execute_reply": "2025-09-30T20:29:13.398748Z"
    }
   },
   "outputs": [
    {
     "name": "stderr",
     "output_type": "stream",
     "text": [
      "C:\\Users\\Modeller\\AppData\\Local\\Temp\\ipykernel_13608\\321071178.py:2: FutureWarning: The default value of observed=False is deprecated and will change to observed=True in a future version of pandas. Specify observed=False to silence this warning and retain the current behavior\n",
      "  _df = _df.pivot_table(index='congestion_category',columns='county',\n"
     ]
    },
    {
     "data": {
      "text/html": [
       "<div>\n",
       "<style scoped>\n",
       "    .dataframe tbody tr th:only-of-type {\n",
       "        vertical-align: middle;\n",
       "    }\n",
       "\n",
       "    .dataframe tbody tr th {\n",
       "        vertical-align: top;\n",
       "    }\n",
       "\n",
       "    .dataframe thead th {\n",
       "        text-align: right;\n",
       "    }\n",
       "</style>\n",
       "<table border=\"1\" class=\"dataframe\">\n",
       "  <thead>\n",
       "    <tr style=\"text-align: right;\">\n",
       "      <th></th>\n",
       "      <th>King</th>\n",
       "      <th>Snohomish</th>\n",
       "      <th>Pierce</th>\n",
       "      <th>Kitsap</th>\n",
       "    </tr>\n",
       "  </thead>\n",
       "  <tbody>\n",
       "    <tr>\n",
       "      <th>Light</th>\n",
       "      <td>282,143</td>\n",
       "      <td>116,392</td>\n",
       "      <td>120,228</td>\n",
       "      <td>24,831</td>\n",
       "    </tr>\n",
       "    <tr>\n",
       "      <th>Moderate</th>\n",
       "      <td>122,342</td>\n",
       "      <td>39,296</td>\n",
       "      <td>35,965</td>\n",
       "      <td>1,987</td>\n",
       "    </tr>\n",
       "    <tr>\n",
       "      <th>Heavy</th>\n",
       "      <td>83,553</td>\n",
       "      <td>12,079</td>\n",
       "      <td>11,937</td>\n",
       "      <td>995</td>\n",
       "    </tr>\n",
       "    <tr>\n",
       "      <th>Severe</th>\n",
       "      <td>4,851</td>\n",
       "      <td>641</td>\n",
       "      <td>571</td>\n",
       "      <td>228</td>\n",
       "    </tr>\n",
       "    <tr>\n",
       "      <th>Total</th>\n",
       "      <td>492,889</td>\n",
       "      <td>168,409</td>\n",
       "      <td>168,701</td>\n",
       "      <td>28,042</td>\n",
       "    </tr>\n",
       "  </tbody>\n",
       "</table>\n",
       "</div>"
      ],
      "text/plain": [
       "            King  Snohomish  Pierce  Kitsap\n",
       "Light    282,143    116,392 120,228  24,831\n",
       "Moderate 122,342     39,296  35,965   1,987\n",
       "Heavy     83,553     12,079  11,937     995\n",
       "Severe     4,851        641     571     228\n",
       "Total    492,889    168,409 168,701  28,042"
      ]
     },
     "execution_count": 17,
     "metadata": {},
     "output_type": "execute_result"
    }
   ],
   "source": [
    "_df = df[df['tod'].isin(['15to16','16to17','17to18'])]\n",
    "_df = _df.pivot_table(index='congestion_category',columns='county',\n",
    "               aggfunc='sum',values='Medium and Heavy Trucks')\n",
    "_df = _df.reindex(['Light','Moderate','Heavy','Severe'])\n",
    "_df.index.name = None\n",
    "_df.columns.name = None\n",
    "_df.loc['Total',:] = _df.sum()\n",
    "_df"
   ]
  },
  {
   "cell_type": "raw",
   "id": "e97d32ee",
   "metadata": {
    "vscode": {
     "languageId": "raw"
    }
   },
   "source": [
    ":::"
   ]
  },
  {
   "cell_type": "markdown",
   "id": "f9d760c7",
   "metadata": {
    "vscode": {
     "languageId": "raw"
    }
   },
   "source": [
    "## Congestion by County"
   ]
  },
  {
   "cell_type": "raw",
   "id": "01e77a70",
   "metadata": {
    "vscode": {
     "languageId": "raw"
    }
   },
   "source": [
    ":::{.panel-tabset}\n",
    "### AM Peak (5 - 9 am)"
   ]
  },
  {
   "cell_type": "code",
   "execution_count": 18,
   "id": "affeba4d",
   "metadata": {
    "execution": {
     "iopub.execute_input": "2025-09-30T20:29:13.405736Z",
     "iopub.status.busy": "2025-09-30T20:29:13.404740Z",
     "iopub.status.idle": "2025-09-30T20:29:13.547592Z",
     "shell.execute_reply": "2025-09-30T20:29:13.546589Z"
    }
   },
   "outputs": [
    {
     "name": "stderr",
     "output_type": "stream",
     "text": [
      "C:\\Users\\Modeller\\AppData\\Local\\Temp\\ipykernel_13608\\4017565026.py:4: FutureWarning: The default value of observed=False is deprecated and will change to observed=True in a future version of pandas. Specify observed=False to silence this warning and retain the current behavior\n",
      "  _df = _df.pivot_table(index='congestion_category',columns='county',\n"
     ]
    },
    {
     "data": {
      "text/html": [
       "<div>\n",
       "<style scoped>\n",
       "    .dataframe tbody tr th:only-of-type {\n",
       "        vertical-align: middle;\n",
       "    }\n",
       "\n",
       "    .dataframe tbody tr th {\n",
       "        vertical-align: top;\n",
       "    }\n",
       "\n",
       "    .dataframe thead th {\n",
       "        text-align: right;\n",
       "    }\n",
       "</style>\n",
       "<table border=\"1\" class=\"dataframe\">\n",
       "  <thead>\n",
       "    <tr style=\"text-align: right;\">\n",
       "      <th></th>\n",
       "      <th>King</th>\n",
       "      <th>Snohomish</th>\n",
       "      <th>Pierce</th>\n",
       "      <th>Kitsap</th>\n",
       "    </tr>\n",
       "  </thead>\n",
       "  <tbody>\n",
       "    <tr>\n",
       "      <th>Light</th>\n",
       "      <td>456,922</td>\n",
       "      <td>185,886</td>\n",
       "      <td>186,486</td>\n",
       "      <td>37,553</td>\n",
       "    </tr>\n",
       "    <tr>\n",
       "      <th>Moderate</th>\n",
       "      <td>174,900</td>\n",
       "      <td>42,938</td>\n",
       "      <td>50,773</td>\n",
       "      <td>2,248</td>\n",
       "    </tr>\n",
       "    <tr>\n",
       "      <th>Heavy</th>\n",
       "      <td>140,247</td>\n",
       "      <td>28,859</td>\n",
       "      <td>23,113</td>\n",
       "      <td>1,028</td>\n",
       "    </tr>\n",
       "    <tr>\n",
       "      <th>Severe</th>\n",
       "      <td>11,086</td>\n",
       "      <td>951</td>\n",
       "      <td>829</td>\n",
       "      <td>929</td>\n",
       "    </tr>\n",
       "    <tr>\n",
       "      <th>Total</th>\n",
       "      <td>783,155</td>\n",
       "      <td>258,634</td>\n",
       "      <td>261,201</td>\n",
       "      <td>41,757</td>\n",
       "    </tr>\n",
       "  </tbody>\n",
       "</table>\n",
       "</div>"
      ],
      "text/plain": [
       "            King  Snohomish  Pierce  Kitsap\n",
       "Light    456,922    185,886 186,486  37,553\n",
       "Moderate 174,900     42,938  50,773   2,248\n",
       "Heavy    140,247     28,859  23,113   1,028\n",
       "Severe    11,086        951     829     929\n",
       "Total    783,155    258,634 261,201  41,757"
      ]
     },
     "execution_count": 18,
     "metadata": {},
     "output_type": "execute_result"
    }
   ],
   "source": [
    "df['Medium and Heavy Trucks'] = df['heavy_truck_vmt']+df['medium_truck_vmt']\n",
    "\n",
    "_df = df[df['tod'].isin(['5to6','6to7','7to8','8to9'])]\n",
    "_df = _df.pivot_table(index='congestion_category',columns='county',\n",
    "               aggfunc='sum',values='Medium and Heavy Trucks')\n",
    "_df = _df.reindex(['Light','Moderate','Heavy','Severe'])\n",
    "_df.index.name = None\n",
    "_df.columns.name = None\n",
    "_df.loc['Total',:] = _df.sum()\n",
    "_df"
   ]
  },
  {
   "cell_type": "raw",
   "id": "637ce9c7",
   "metadata": {
    "vscode": {
     "languageId": "raw"
    }
   },
   "source": [
    "### PM Peak (3 - 6 pm)"
   ]
  },
  {
   "cell_type": "code",
   "execution_count": 19,
   "id": "576b1dd9",
   "metadata": {
    "execution": {
     "iopub.execute_input": "2025-09-30T20:29:13.553128Z",
     "iopub.status.busy": "2025-09-30T20:29:13.552620Z",
     "iopub.status.idle": "2025-09-30T20:29:13.681378Z",
     "shell.execute_reply": "2025-09-30T20:29:13.680375Z"
    }
   },
   "outputs": [
    {
     "name": "stderr",
     "output_type": "stream",
     "text": [
      "C:\\Users\\Modeller\\AppData\\Local\\Temp\\ipykernel_13608\\321071178.py:2: FutureWarning: The default value of observed=False is deprecated and will change to observed=True in a future version of pandas. Specify observed=False to silence this warning and retain the current behavior\n",
      "  _df = _df.pivot_table(index='congestion_category',columns='county',\n"
     ]
    },
    {
     "data": {
      "text/html": [
       "<div>\n",
       "<style scoped>\n",
       "    .dataframe tbody tr th:only-of-type {\n",
       "        vertical-align: middle;\n",
       "    }\n",
       "\n",
       "    .dataframe tbody tr th {\n",
       "        vertical-align: top;\n",
       "    }\n",
       "\n",
       "    .dataframe thead th {\n",
       "        text-align: right;\n",
       "    }\n",
       "</style>\n",
       "<table border=\"1\" class=\"dataframe\">\n",
       "  <thead>\n",
       "    <tr style=\"text-align: right;\">\n",
       "      <th></th>\n",
       "      <th>King</th>\n",
       "      <th>Snohomish</th>\n",
       "      <th>Pierce</th>\n",
       "      <th>Kitsap</th>\n",
       "    </tr>\n",
       "  </thead>\n",
       "  <tbody>\n",
       "    <tr>\n",
       "      <th>Light</th>\n",
       "      <td>282,143</td>\n",
       "      <td>116,392</td>\n",
       "      <td>120,228</td>\n",
       "      <td>24,831</td>\n",
       "    </tr>\n",
       "    <tr>\n",
       "      <th>Moderate</th>\n",
       "      <td>122,342</td>\n",
       "      <td>39,296</td>\n",
       "      <td>35,965</td>\n",
       "      <td>1,987</td>\n",
       "    </tr>\n",
       "    <tr>\n",
       "      <th>Heavy</th>\n",
       "      <td>83,553</td>\n",
       "      <td>12,079</td>\n",
       "      <td>11,937</td>\n",
       "      <td>995</td>\n",
       "    </tr>\n",
       "    <tr>\n",
       "      <th>Severe</th>\n",
       "      <td>4,851</td>\n",
       "      <td>641</td>\n",
       "      <td>571</td>\n",
       "      <td>228</td>\n",
       "    </tr>\n",
       "    <tr>\n",
       "      <th>Total</th>\n",
       "      <td>492,889</td>\n",
       "      <td>168,409</td>\n",
       "      <td>168,701</td>\n",
       "      <td>28,042</td>\n",
       "    </tr>\n",
       "  </tbody>\n",
       "</table>\n",
       "</div>"
      ],
      "text/plain": [
       "            King  Snohomish  Pierce  Kitsap\n",
       "Light    282,143    116,392 120,228  24,831\n",
       "Moderate 122,342     39,296  35,965   1,987\n",
       "Heavy     83,553     12,079  11,937     995\n",
       "Severe     4,851        641     571     228\n",
       "Total    492,889    168,409 168,701  28,042"
      ]
     },
     "execution_count": 19,
     "metadata": {},
     "output_type": "execute_result"
    }
   ],
   "source": [
    "_df = df[df['tod'].isin(['15to16','16to17','17to18'])]\n",
    "_df = _df.pivot_table(index='congestion_category',columns='county',\n",
    "               aggfunc='sum',values='Medium and Heavy Trucks')\n",
    "_df = _df.reindex(['Light','Moderate','Heavy','Severe'])\n",
    "_df.index.name = None\n",
    "_df.columns.name = None\n",
    "_df.loc['Total',:] = _df.sum()\n",
    "_df"
   ]
  },
  {
   "cell_type": "raw",
   "id": "0ef8bce7",
   "metadata": {
    "vscode": {
     "languageId": "raw"
    }
   },
   "source": [
    ":::"
   ]
  },
  {
   "cell_type": "markdown",
   "id": "7ac9cdaf",
   "metadata": {
    "vscode": {
     "languageId": "raw"
    }
   },
   "source": [
    "## Congestion on FGTS"
   ]
  },
  {
   "cell_type": "raw",
   "id": "38cf1684",
   "metadata": {
    "vscode": {
     "languageId": "raw"
    }
   },
   "source": [
    ":::{.panel-tabset}\n",
    "### AM Peak (5 - 9 am)"
   ]
  },
  {
   "cell_type": "code",
   "execution_count": 20,
   "id": "f206cb2c",
   "metadata": {
    "execution": {
     "iopub.execute_input": "2025-09-30T20:29:13.687363Z",
     "iopub.status.busy": "2025-09-30T20:29:13.686367Z",
     "iopub.status.idle": "2025-09-30T20:29:13.830111Z",
     "shell.execute_reply": "2025-09-30T20:29:13.829108Z"
    }
   },
   "outputs": [
    {
     "name": "stderr",
     "output_type": "stream",
     "text": [
      "C:\\Users\\Modeller\\AppData\\Local\\Temp\\ipykernel_13608\\2204116488.py:7: FutureWarning: The default value of observed=False is deprecated and will change to observed=True in a future version of pandas. Specify observed=False to silence this warning and retain the current behavior\n",
      "  _df = _df.pivot_table(index='congestion_category',columns='@fgts',\n"
     ]
    },
    {
     "data": {
      "text/html": [
       "<div>\n",
       "<style scoped>\n",
       "    .dataframe tbody tr th:only-of-type {\n",
       "        vertical-align: middle;\n",
       "    }\n",
       "\n",
       "    .dataframe tbody tr th {\n",
       "        vertical-align: top;\n",
       "    }\n",
       "\n",
       "    .dataframe thead th {\n",
       "        text-align: right;\n",
       "    }\n",
       "</style>\n",
       "<table border=\"1\" class=\"dataframe\">\n",
       "  <thead>\n",
       "    <tr style=\"text-align: right;\">\n",
       "      <th></th>\n",
       "      <th>T-1</th>\n",
       "      <th>T-2</th>\n",
       "      <th>Other Routes</th>\n",
       "    </tr>\n",
       "  </thead>\n",
       "  <tbody>\n",
       "    <tr>\n",
       "      <th>Light</th>\n",
       "      <td>1,864,341</td>\n",
       "      <td>575,318</td>\n",
       "      <td>993,324</td>\n",
       "    </tr>\n",
       "    <tr>\n",
       "      <th>Moderate</th>\n",
       "      <td>630,471</td>\n",
       "      <td>143,551</td>\n",
       "      <td>324,049</td>\n",
       "    </tr>\n",
       "    <tr>\n",
       "      <th>Heavy</th>\n",
       "      <td>460,617</td>\n",
       "      <td>141,831</td>\n",
       "      <td>280,405</td>\n",
       "    </tr>\n",
       "    <tr>\n",
       "      <th>Severe</th>\n",
       "      <td>50,343</td>\n",
       "      <td>50,183</td>\n",
       "      <td>117,474</td>\n",
       "    </tr>\n",
       "    <tr>\n",
       "      <th>Total</th>\n",
       "      <td>3,005,772</td>\n",
       "      <td>910,884</td>\n",
       "      <td>1,715,253</td>\n",
       "    </tr>\n",
       "  </tbody>\n",
       "</table>\n",
       "</div>"
      ],
      "text/plain": [
       "               T-1     T-2  Other Routes\n",
       "Light    1,864,341 575,318       993,324\n",
       "Moderate   630,471 143,551       324,049\n",
       "Heavy      460,617 141,831       280,405\n",
       "Severe      50,343  50,183       117,474\n",
       "Total    3,005,772 910,884     1,715,253"
      ]
     },
     "execution_count": 20,
     "metadata": {},
     "output_type": "execute_result"
    }
   ],
   "source": [
    "pd.options.display.float_format = '{:0,.0f}'.format\n",
    "\n",
    "# Congested Miles on FGTS versus other Routes\n",
    "df['Medium and Heavy Trucks'] = df['@mveh']+df['@hveh']\n",
    "\n",
    "_df = df[df['tod'].isin(['5to6','6to7','7to8','8to9'])]\n",
    "_df = _df.pivot_table(index='congestion_category',columns='@fgts',\n",
    "               aggfunc='sum',values='Medium and Heavy Trucks')\n",
    "_df = _df.reindex(['Light','Moderate','Heavy','Severe'])\n",
    "_df.index.name = None\n",
    "_df.columns.name = None\n",
    "_df.rename(columns={0:'Other Routes', 1: 'T-1', 2: 'T-2'}, inplace=True)\n",
    "_df_ = _df.copy()\n",
    "_df.loc['Total',:] = _df.sum()\n",
    "_df = _df[['T-1','T-2','Other Routes']]\n",
    "_df"
   ]
  },
  {
   "cell_type": "code",
   "execution_count": 21,
   "id": "0cf27b71",
   "metadata": {
    "execution": {
     "iopub.execute_input": "2025-09-30T20:29:13.835981Z",
     "iopub.status.busy": "2025-09-30T20:29:13.835453Z",
     "iopub.status.idle": "2025-09-30T20:29:13.850040Z",
     "shell.execute_reply": "2025-09-30T20:29:13.849045Z"
    }
   },
   "outputs": [
    {
     "data": {
      "text/html": [
       "<div>\n",
       "<style scoped>\n",
       "    .dataframe tbody tr th:only-of-type {\n",
       "        vertical-align: middle;\n",
       "    }\n",
       "\n",
       "    .dataframe tbody tr th {\n",
       "        vertical-align: top;\n",
       "    }\n",
       "\n",
       "    .dataframe thead th {\n",
       "        text-align: right;\n",
       "    }\n",
       "</style>\n",
       "<table border=\"1\" class=\"dataframe\">\n",
       "  <thead>\n",
       "    <tr style=\"text-align: right;\">\n",
       "      <th></th>\n",
       "      <th>Other Routes</th>\n",
       "      <th>T-1</th>\n",
       "      <th>T-2</th>\n",
       "    </tr>\n",
       "  </thead>\n",
       "  <tbody>\n",
       "    <tr>\n",
       "      <th>Light</th>\n",
       "      <td>57.9%</td>\n",
       "      <td>62.0%</td>\n",
       "      <td>63.2%</td>\n",
       "    </tr>\n",
       "    <tr>\n",
       "      <th>Moderate</th>\n",
       "      <td>18.9%</td>\n",
       "      <td>21.0%</td>\n",
       "      <td>15.8%</td>\n",
       "    </tr>\n",
       "    <tr>\n",
       "      <th>Heavy</th>\n",
       "      <td>16.3%</td>\n",
       "      <td>15.3%</td>\n",
       "      <td>15.6%</td>\n",
       "    </tr>\n",
       "    <tr>\n",
       "      <th>Severe</th>\n",
       "      <td>6.8%</td>\n",
       "      <td>1.7%</td>\n",
       "      <td>5.5%</td>\n",
       "    </tr>\n",
       "  </tbody>\n",
       "</table>\n",
       "</div>"
      ],
      "text/plain": [
       "          Other Routes   T-1   T-2\n",
       "Light            57.9% 62.0% 63.2%\n",
       "Moderate         18.9% 21.0% 15.8%\n",
       "Heavy            16.3% 15.3% 15.6%\n",
       "Severe            6.8%  1.7%  5.5%"
      ]
     },
     "execution_count": 21,
     "metadata": {},
     "output_type": "execute_result"
    }
   ],
   "source": [
    "pd.options.display.float_format = '{:0,.1%}'.format\n",
    "_df_/_df_.sum()"
   ]
  },
  {
   "cell_type": "raw",
   "id": "d8b85d7c",
   "metadata": {
    "vscode": {
     "languageId": "raw"
    }
   },
   "source": [
    "### PM Peak (3 - 6 pm)"
   ]
  },
  {
   "cell_type": "code",
   "execution_count": 22,
   "id": "8cf4a517",
   "metadata": {
    "execution": {
     "iopub.execute_input": "2025-09-30T20:29:13.856022Z",
     "iopub.status.busy": "2025-09-30T20:29:13.855026Z",
     "iopub.status.idle": "2025-09-30T20:29:14.007040Z",
     "shell.execute_reply": "2025-09-30T20:29:14.006002Z"
    }
   },
   "outputs": [
    {
     "name": "stderr",
     "output_type": "stream",
     "text": [
      "C:\\Users\\Modeller\\AppData\\Local\\Temp\\ipykernel_13608\\907623602.py:6: FutureWarning: The default value of observed=False is deprecated and will change to observed=True in a future version of pandas. Specify observed=False to silence this warning and retain the current behavior\n",
      "  _df = _df.pivot_table(index='congestion_category',columns='@fgts',\n"
     ]
    },
    {
     "data": {
      "text/html": [
       "<div>\n",
       "<style scoped>\n",
       "    .dataframe tbody tr th:only-of-type {\n",
       "        vertical-align: middle;\n",
       "    }\n",
       "\n",
       "    .dataframe tbody tr th {\n",
       "        vertical-align: top;\n",
       "    }\n",
       "\n",
       "    .dataframe thead th {\n",
       "        text-align: right;\n",
       "    }\n",
       "</style>\n",
       "<table border=\"1\" class=\"dataframe\">\n",
       "  <thead>\n",
       "    <tr style=\"text-align: right;\">\n",
       "      <th></th>\n",
       "      <th>T-1</th>\n",
       "      <th>T-2</th>\n",
       "      <th>Other Routes</th>\n",
       "    </tr>\n",
       "  </thead>\n",
       "  <tbody>\n",
       "    <tr>\n",
       "      <th>Light</th>\n",
       "      <td>1,133,500</td>\n",
       "      <td>426,733</td>\n",
       "      <td>656,251</td>\n",
       "    </tr>\n",
       "    <tr>\n",
       "      <th>Moderate</th>\n",
       "      <td>474,648</td>\n",
       "      <td>82,275</td>\n",
       "      <td>189,589</td>\n",
       "    </tr>\n",
       "    <tr>\n",
       "      <th>Heavy</th>\n",
       "      <td>263,529</td>\n",
       "      <td>77,220</td>\n",
       "      <td>175,115</td>\n",
       "    </tr>\n",
       "    <tr>\n",
       "      <th>Severe</th>\n",
       "      <td>24,668</td>\n",
       "      <td>35,050</td>\n",
       "      <td>75,650</td>\n",
       "    </tr>\n",
       "    <tr>\n",
       "      <th>Total</th>\n",
       "      <td>1,896,345</td>\n",
       "      <td>621,278</td>\n",
       "      <td>1,096,605</td>\n",
       "    </tr>\n",
       "  </tbody>\n",
       "</table>\n",
       "</div>"
      ],
      "text/plain": [
       "               T-1     T-2  Other Routes\n",
       "Light    1,133,500 426,733       656,251\n",
       "Moderate   474,648  82,275       189,589\n",
       "Heavy      263,529  77,220       175,115\n",
       "Severe      24,668  35,050        75,650\n",
       "Total    1,896,345 621,278     1,096,605"
      ]
     },
     "execution_count": 22,
     "metadata": {},
     "output_type": "execute_result"
    }
   ],
   "source": [
    "pd.options.display.float_format = '{:0,.0f}'.format\n",
    "# Congested Miles on FGTS versus other Routes\n",
    "df['Medium and Heavy Trucks'] = df['@hveh']+df['@mveh']\n",
    "\n",
    "_df = df[df['tod'].isin(['15to16','16to17','17to18'])]\n",
    "_df = _df.pivot_table(index='congestion_category',columns='@fgts',\n",
    "               aggfunc='sum',values='Medium and Heavy Trucks')\n",
    "_df = _df.reindex(['Light','Moderate','Heavy','Severe'])\n",
    "_df.index.name = None\n",
    "_df.columns.name = None\n",
    "_df.rename(columns={0:'Other Routes', 1: 'T-1', 2: 'T-2'}, inplace=True)\n",
    "_df_ = _df.copy()\n",
    "_df.loc['Total',:] = _df.sum()\n",
    "_df = _df[['T-1','T-2','Other Routes']]\n",
    "_df"
   ]
  },
  {
   "cell_type": "code",
   "execution_count": 23,
   "id": "3220e398",
   "metadata": {
    "execution": {
     "iopub.execute_input": "2025-09-30T20:29:14.012775Z",
     "iopub.status.busy": "2025-09-30T20:29:14.012255Z",
     "iopub.status.idle": "2025-09-30T20:29:14.028282Z",
     "shell.execute_reply": "2025-09-30T20:29:14.027283Z"
    }
   },
   "outputs": [
    {
     "data": {
      "text/html": [
       "<div>\n",
       "<style scoped>\n",
       "    .dataframe tbody tr th:only-of-type {\n",
       "        vertical-align: middle;\n",
       "    }\n",
       "\n",
       "    .dataframe tbody tr th {\n",
       "        vertical-align: top;\n",
       "    }\n",
       "\n",
       "    .dataframe thead th {\n",
       "        text-align: right;\n",
       "    }\n",
       "</style>\n",
       "<table border=\"1\" class=\"dataframe\">\n",
       "  <thead>\n",
       "    <tr style=\"text-align: right;\">\n",
       "      <th></th>\n",
       "      <th>Other Routes</th>\n",
       "      <th>T-1</th>\n",
       "      <th>T-2</th>\n",
       "    </tr>\n",
       "  </thead>\n",
       "  <tbody>\n",
       "    <tr>\n",
       "      <th>Light</th>\n",
       "      <td>59.8%</td>\n",
       "      <td>59.8%</td>\n",
       "      <td>68.7%</td>\n",
       "    </tr>\n",
       "    <tr>\n",
       "      <th>Moderate</th>\n",
       "      <td>17.3%</td>\n",
       "      <td>25.0%</td>\n",
       "      <td>13.2%</td>\n",
       "    </tr>\n",
       "    <tr>\n",
       "      <th>Heavy</th>\n",
       "      <td>16.0%</td>\n",
       "      <td>13.9%</td>\n",
       "      <td>12.4%</td>\n",
       "    </tr>\n",
       "    <tr>\n",
       "      <th>Severe</th>\n",
       "      <td>6.9%</td>\n",
       "      <td>1.3%</td>\n",
       "      <td>5.6%</td>\n",
       "    </tr>\n",
       "  </tbody>\n",
       "</table>\n",
       "</div>"
      ],
      "text/plain": [
       "          Other Routes   T-1   T-2\n",
       "Light            59.8% 59.8% 68.7%\n",
       "Moderate         17.3% 25.0% 13.2%\n",
       "Heavy            16.0% 13.9% 12.4%\n",
       "Severe            6.9%  1.3%  5.6%"
      ]
     },
     "execution_count": 23,
     "metadata": {},
     "output_type": "execute_result"
    }
   ],
   "source": [
    "pd.options.display.float_format = '{:0,.1%}'.format\n",
    "_df_/_df_.sum()"
   ]
  },
  {
   "cell_type": "raw",
   "id": "7c6afe36",
   "metadata": {
    "vscode": {
     "languageId": "raw"
    }
   },
   "source": [
    ":::"
   ]
  },
  {
   "cell_type": "markdown",
   "id": "9f8beadf",
   "metadata": {},
   "source": [
    "## Equity\n",
    "\n",
    "### Households Within 500' of Heavy Truck Volumes\n",
    "\n",
    "Total number of households within 500' of T-1 and T-2 routes\n",
    "\n",
    "- T-1: More than 10 million tons per year\n",
    "\n",
    "- T-2: 2 4 million to 10 million tons per year"
   ]
  },
  {
   "cell_type": "code",
   "execution_count": null,
   "id": "6cda92ce",
   "metadata": {},
   "outputs": [],
   "source": []
  },
  {
   "cell_type": "code",
   "execution_count": 24,
   "id": "9f43f2e1",
   "metadata": {
    "execution": {
     "iopub.execute_input": "2025-09-30T20:29:14.034266Z",
     "iopub.status.busy": "2025-09-30T20:29:14.033268Z",
     "iopub.status.idle": "2025-09-30T20:29:33.519644Z",
     "shell.execute_reply": "2025-09-30T20:29:33.519644Z"
    }
   },
   "outputs": [],
   "source": [
    "import polars as pl\n",
    "\n",
    "# Intersect buffer with land use file\n",
    "df_lu = util.get_parcels_urbansim_data()\n",
    "\n",
    "# Load as a geodataframe\n",
    "gdf_lu = gpd.GeoDataFrame(\n",
    "    df_lu, geometry=gpd.points_from_xy(df_lu.xcoord_p, df_lu.ycoord_p))\n",
    "# Set the coordinate reference system (CRS) to match the land use data\n",
    "gdf_lu.crs = 'EPSG:2285'\n",
    "\n",
    "# Buffer the parcels at 500ft\n",
    "gdf_lu['geometry'] = gdf_lu.buffer(500)"
   ]
  },
  {
   "cell_type": "code",
   "execution_count": 25,
   "id": "be848493",
   "metadata": {
    "execution": {
     "iopub.execute_input": "2025-09-30T20:29:33.525635Z",
     "iopub.status.busy": "2025-09-30T20:29:33.525635Z",
     "iopub.status.idle": "2025-09-30T20:29:54.853591Z",
     "shell.execute_reply": "2025-09-30T20:29:54.853591Z"
    }
   },
   "outputs": [],
   "source": [
    "\n",
    "# Intersect this geography  with the network shapefile\n",
    "gdf_network = gpd.read_file(util.input_path / 'scenario/networks/shapefiles/AM/AM_edges.shp')\n",
    "# Do not include connectors since these are abstracted ul3==5; also remove weave links ul3==0 \n",
    "gdf_network = gdf_network[~gdf_network.ul3.isin([0,5])]\n",
    "# Truck network links are those that are in FGTS 1 or 2 system\n",
    "gdf_network = gdf_network[gdf_network['FGTS'].isin([1,2])]\n",
    "\n",
    "gdf_intersect = gpd.overlay(gdf_network, gdf_lu, how=\"intersection\", keep_geom_type=False)\n",
    "\n",
    "# Will need to relaculate the lengths since some were split across the regional geographies\n",
    "gdf_intersect['new_length'] = gdf_intersect.geometry.length/5280.0\n",
    "\n",
    "# filter out the polygon results and only keep lines\n",
    "gdf_intersect = gdf_intersect[gdf_intersect.geometry.type.isin(['MultiLineString','LineString'])]"
   ]
  },
  {
   "cell_type": "code",
   "execution_count": 26,
   "id": "64a3ffd0",
   "metadata": {
    "execution": {
     "iopub.execute_input": "2025-09-30T20:29:54.860564Z",
     "iopub.status.busy": "2025-09-30T20:29:54.859568Z",
     "iopub.status.idle": "2025-09-30T20:30:11.923845Z",
     "shell.execute_reply": "2025-09-30T20:30:11.922845Z"
    }
   },
   "outputs": [],
   "source": [
    "truck_parcels = gdf_intersect.groupby('parcelid').first()[['hh_p']].reset_index()\n",
    "\n",
    "\n",
    "# Result should be the network components with some flags for the parcelid\n",
    "# We can take the parcel information, join with parcel info and group\n",
    "# from input_configuration import base_year\n",
    "\n",
    "parcel_geog = util.get_parcel_geog()\n",
    "df = truck_parcels.merge(parcel_geog,left_on='parcelid', right_on='ParcelID')"
   ]
  },
  {
   "cell_type": "code",
   "execution_count": 27,
   "id": "d835af1a",
   "metadata": {
    "execution": {
     "iopub.execute_input": "2025-09-30T20:30:11.929829Z",
     "iopub.status.busy": "2025-09-30T20:30:11.928831Z",
     "iopub.status.idle": "2025-09-30T20:30:11.964217Z",
     "shell.execute_reply": "2025-09-30T20:30:11.963218Z"
    }
   },
   "outputs": [],
   "source": [
    "# Get the total number of households that in equtiy geograhpies\n",
    "# Comprae the percent of those that are in the buffer versus those that are not\n",
    "# For the 4 equity groups, perform the calc and add as a table\n",
    "results_df = pd.DataFrame()\n",
    "for col, name in {'equity_focus_areas_2023__efa_poc': 'People of Color',\n",
    "                      'equity_focus_areas_2023__efa_pov200': 'Poverty',\n",
    "                        'equity_focus_areas_2023__efa_lep': 'LEP',\n",
    "                        'equity_focus_areas_2023__efa_dis': 'Disability',\n",
    "                      'equity_focus_areas_2023__efa_older': 'Older',\n",
    "                      'equity_focus_areas_2023__efa_youth': 'Youth',\n",
    "                  }.items():\n",
    "    _df = df[[col,'hh_p']].groupby(col).sum()[['hh_p']]\n",
    "    _df['equity_group'] = name\n",
    "    results_df = pd.concat([results_df,_df])\n",
    "results_df = results_df.reset_index()\n",
    "results_df = results_df[results_df['index']>=0]"
   ]
  },
  {
   "cell_type": "markdown",
   "id": "c4e72351",
   "metadata": {
    "vscode": {
     "languageId": "raw"
    }
   },
   "source": [
    "### Total Households Within 500' of T-1/T-2 Routes by Equity Group"
   ]
  },
  {
   "cell_type": "raw",
   "id": "78c87050",
   "metadata": {
    "vscode": {
     "languageId": "raw"
    }
   },
   "source": [
    ":::{.panel-tabset}\n",
    "### Values"
   ]
  },
  {
   "cell_type": "code",
   "execution_count": 28,
   "id": "f248a641",
   "metadata": {
    "execution": {
     "iopub.execute_input": "2025-09-30T20:30:11.971199Z",
     "iopub.status.busy": "2025-09-30T20:30:11.970201Z",
     "iopub.status.idle": "2025-09-30T20:30:11.993644Z",
     "shell.execute_reply": "2025-09-30T20:30:11.992644Z"
    }
   },
   "outputs": [
    {
     "data": {
      "text/html": [
       "<div>\n",
       "<style scoped>\n",
       "    .dataframe tbody tr th:only-of-type {\n",
       "        vertical-align: middle;\n",
       "    }\n",
       "\n",
       "    .dataframe tbody tr th {\n",
       "        vertical-align: top;\n",
       "    }\n",
       "\n",
       "    .dataframe thead th {\n",
       "        text-align: right;\n",
       "    }\n",
       "</style>\n",
       "<table border=\"1\" class=\"dataframe\">\n",
       "  <thead>\n",
       "    <tr style=\"text-align: right;\">\n",
       "      <th>equity_group</th>\n",
       "      <th>Disability</th>\n",
       "      <th>LEP</th>\n",
       "      <th>Older</th>\n",
       "      <th>People of Color</th>\n",
       "      <th>Poverty</th>\n",
       "      <th>Youth</th>\n",
       "    </tr>\n",
       "    <tr>\n",
       "      <th>index</th>\n",
       "      <th></th>\n",
       "      <th></th>\n",
       "      <th></th>\n",
       "      <th></th>\n",
       "      <th></th>\n",
       "      <th></th>\n",
       "    </tr>\n",
       "  </thead>\n",
       "  <tbody>\n",
       "    <tr>\n",
       "      <th>Below Regional Average</th>\n",
       "      <td>169,630</td>\n",
       "      <td>191,219</td>\n",
       "      <td>234,181</td>\n",
       "      <td>132,052</td>\n",
       "      <td>155,649</td>\n",
       "      <td>249,274</td>\n",
       "    </tr>\n",
       "    <tr>\n",
       "      <th>Above Regional Average</th>\n",
       "      <td>113,208</td>\n",
       "      <td>92,844</td>\n",
       "      <td>96,796</td>\n",
       "      <td>140,854</td>\n",
       "      <td>112,887</td>\n",
       "      <td>85,334</td>\n",
       "    </tr>\n",
       "    <tr>\n",
       "      <th>Higher Share of Equity Population</th>\n",
       "      <td>83,379</td>\n",
       "      <td>82,154</td>\n",
       "      <td>35,240</td>\n",
       "      <td>93,311</td>\n",
       "      <td>97,681</td>\n",
       "      <td>31,609</td>\n",
       "    </tr>\n",
       "    <tr>\n",
       "      <th>Region</th>\n",
       "      <td>366,217</td>\n",
       "      <td>366,217</td>\n",
       "      <td>366,217</td>\n",
       "      <td>366,217</td>\n",
       "      <td>366,217</td>\n",
       "      <td>366,217</td>\n",
       "    </tr>\n",
       "  </tbody>\n",
       "</table>\n",
       "</div>"
      ],
      "text/plain": [
       "equity_group                       Disability     LEP   Older  \\\n",
       "index                                                           \n",
       "Below Regional Average                169,630 191,219 234,181   \n",
       "Above Regional Average                113,208  92,844  96,796   \n",
       "Higher Share of Equity Population      83,379  82,154  35,240   \n",
       "Region                                366,217 366,217 366,217   \n",
       "\n",
       "equity_group                       People of Color  Poverty   Youth  \n",
       "index                                                                \n",
       "Below Regional Average                     132,052  155,649 249,274  \n",
       "Above Regional Average                     140,854  112,887  85,334  \n",
       "Higher Share of Equity Population           93,311   97,681  31,609  \n",
       "Region                                     366,217  366,217 366,217  "
      ]
     },
     "execution_count": 28,
     "metadata": {},
     "output_type": "execute_result"
    }
   ],
   "source": [
    "_df = results_df.pivot_table(index='index', columns='equity_group', values='hh_p', aggfunc='sum')\n",
    "_df.index = _df.index.astype('int').map({0: 'Below Regional Average', \n",
    "                                1: 'Above Regional Average', \n",
    "                                2: 'Higher Share of Equity Population'}\n",
    "                                )\n",
    "pd.options.display.float_format = '{:0,.0f}'.format\n",
    "_df.loc['Region',:] = _df.sum(axis=0)\n",
    "_df.astype('float')"
   ]
  },
  {
   "cell_type": "raw",
   "id": "04bebd8d",
   "metadata": {
    "vscode": {
     "languageId": "raw"
    }
   },
   "source": [
    "### Shares"
   ]
  },
  {
   "cell_type": "code",
   "execution_count": 29,
   "id": "d9598460",
   "metadata": {
    "execution": {
     "iopub.execute_input": "2025-09-30T20:30:11.999628Z",
     "iopub.status.busy": "2025-09-30T20:30:11.998631Z",
     "iopub.status.idle": "2025-09-30T20:30:12.006669Z",
     "shell.execute_reply": "2025-09-30T20:30:12.006669Z"
    }
   },
   "outputs": [
    {
     "data": {
      "text/html": [
       "<div>\n",
       "<style scoped>\n",
       "    .dataframe tbody tr th:only-of-type {\n",
       "        vertical-align: middle;\n",
       "    }\n",
       "\n",
       "    .dataframe tbody tr th {\n",
       "        vertical-align: top;\n",
       "    }\n",
       "\n",
       "    .dataframe thead th {\n",
       "        text-align: right;\n",
       "    }\n",
       "</style>\n",
       "<table border=\"1\" class=\"dataframe\">\n",
       "  <thead>\n",
       "    <tr style=\"text-align: right;\">\n",
       "      <th>equity_group</th>\n",
       "      <th>Disability</th>\n",
       "      <th>LEP</th>\n",
       "      <th>Older</th>\n",
       "      <th>People of Color</th>\n",
       "      <th>Poverty</th>\n",
       "      <th>Youth</th>\n",
       "    </tr>\n",
       "    <tr>\n",
       "      <th>index</th>\n",
       "      <th></th>\n",
       "      <th></th>\n",
       "      <th></th>\n",
       "      <th></th>\n",
       "      <th></th>\n",
       "      <th></th>\n",
       "    </tr>\n",
       "  </thead>\n",
       "  <tbody>\n",
       "    <tr>\n",
       "      <th>Below Regional Average</th>\n",
       "      <td>46.3%</td>\n",
       "      <td>52.2%</td>\n",
       "      <td>63.9%</td>\n",
       "      <td>36.1%</td>\n",
       "      <td>42.5%</td>\n",
       "      <td>68.1%</td>\n",
       "    </tr>\n",
       "    <tr>\n",
       "      <th>Above Regional Average</th>\n",
       "      <td>30.9%</td>\n",
       "      <td>25.4%</td>\n",
       "      <td>26.4%</td>\n",
       "      <td>38.5%</td>\n",
       "      <td>30.8%</td>\n",
       "      <td>23.3%</td>\n",
       "    </tr>\n",
       "    <tr>\n",
       "      <th>Higher Share of Equity Population</th>\n",
       "      <td>22.8%</td>\n",
       "      <td>22.4%</td>\n",
       "      <td>9.6%</td>\n",
       "      <td>25.5%</td>\n",
       "      <td>26.7%</td>\n",
       "      <td>8.6%</td>\n",
       "    </tr>\n",
       "  </tbody>\n",
       "</table>\n",
       "</div>"
      ],
      "text/plain": [
       "equity_group                       Disability   LEP  Older  People of Color  \\\n",
       "index                                                                         \n",
       "Below Regional Average                  46.3% 52.2%  63.9%            36.1%   \n",
       "Above Regional Average                  30.9% 25.4%  26.4%            38.5%   \n",
       "Higher Share of Equity Population       22.8% 22.4%   9.6%            25.5%   \n",
       "\n",
       "equity_group                       Poverty  Youth  \n",
       "index                                              \n",
       "Below Regional Average               42.5%  68.1%  \n",
       "Above Regional Average               30.8%  23.3%  \n",
       "Higher Share of Equity Population    26.7%   8.6%  "
      ]
     },
     "execution_count": 29,
     "metadata": {},
     "output_type": "execute_result"
    }
   ],
   "source": [
    "pd.options.display.float_format = '{:0,.1%}'.format\n",
    "_df.drop('Region')/_df.drop('Region').sum()"
   ]
  },
  {
   "cell_type": "raw",
   "id": "e7e9425f",
   "metadata": {
    "vscode": {
     "languageId": "raw"
    }
   },
   "source": [
    "### Percent of Total Households "
   ]
  },
  {
   "cell_type": "code",
   "execution_count": 30,
   "id": "6fc76036",
   "metadata": {
    "execution": {
     "iopub.execute_input": "2025-09-30T20:30:12.009656Z",
     "iopub.status.busy": "2025-09-30T20:30:12.008658Z",
     "iopub.status.idle": "2025-09-30T20:30:12.619168Z",
     "shell.execute_reply": "2025-09-30T20:30:12.618165Z"
    }
   },
   "outputs": [
    {
     "data": {
      "text/html": [
       "<div>\n",
       "<style scoped>\n",
       "    .dataframe tbody tr th:only-of-type {\n",
       "        vertical-align: middle;\n",
       "    }\n",
       "\n",
       "    .dataframe tbody tr th {\n",
       "        vertical-align: top;\n",
       "    }\n",
       "\n",
       "    .dataframe thead th {\n",
       "        text-align: right;\n",
       "    }\n",
       "</style>\n",
       "<table border=\"1\" class=\"dataframe\">\n",
       "  <thead>\n",
       "    <tr style=\"text-align: right;\">\n",
       "      <th></th>\n",
       "      <th>Disability</th>\n",
       "      <th>LEP</th>\n",
       "      <th>Older</th>\n",
       "      <th>People of Color</th>\n",
       "      <th>Poverty</th>\n",
       "      <th>Youth</th>\n",
       "    </tr>\n",
       "  </thead>\n",
       "  <tbody>\n",
       "    <tr>\n",
       "      <th>Below Regional Average</th>\n",
       "      <td>13.8%</td>\n",
       "      <td>13.1%</td>\n",
       "      <td>17.8%</td>\n",
       "      <td>10.7%</td>\n",
       "      <td>11.5%</td>\n",
       "      <td>17.7%</td>\n",
       "    </tr>\n",
       "    <tr>\n",
       "      <th>Above Regional Average</th>\n",
       "      <td>15.5%</td>\n",
       "      <td>17.0%</td>\n",
       "      <td>12.6%</td>\n",
       "      <td>18.7%</td>\n",
       "      <td>17.8%</td>\n",
       "      <td>11.5%</td>\n",
       "    </tr>\n",
       "    <tr>\n",
       "      <th>Higher Share of Equity Population</th>\n",
       "      <td>18.2%</td>\n",
       "      <td>19.7%</td>\n",
       "      <td>10.5%</td>\n",
       "      <td>21.6%</td>\n",
       "      <td>22.4%</td>\n",
       "      <td>11.4%</td>\n",
       "    </tr>\n",
       "    <tr>\n",
       "      <th>Total Households</th>\n",
       "      <td>15.1%</td>\n",
       "      <td>15.1%</td>\n",
       "      <td>15.1%</td>\n",
       "      <td>15.1%</td>\n",
       "      <td>15.1%</td>\n",
       "      <td>15.1%</td>\n",
       "    </tr>\n",
       "  </tbody>\n",
       "</table>\n",
       "</div>"
      ],
      "text/plain": [
       "                                   Disability   LEP  Older  People of Color  \\\n",
       "Below Regional Average                  13.8% 13.1%  17.8%            10.7%   \n",
       "Above Regional Average                  15.5% 17.0%  12.6%            18.7%   \n",
       "Higher Share of Equity Population       18.2% 19.7%  10.5%            21.6%   \n",
       "Total Households                        15.1% 15.1%  15.1%            15.1%   \n",
       "\n",
       "                                   Poverty  Youth  \n",
       "Below Regional Average               11.5%  17.7%  \n",
       "Above Regional Average               17.8%  11.5%  \n",
       "Higher Share of Equity Population    22.4%  11.4%  \n",
       "Total Households                     15.1%  15.1%  "
      ]
     },
     "execution_count": 30,
     "metadata": {},
     "output_type": "execute_result"
    }
   ],
   "source": [
    "_df = results_df[[\"equity_group\",\"hh_p\",\"index\"]].pivot_table(index='equity_group',columns='index',values='hh_p')\n",
    "_df.rename(columns={0: 'Below Regional Average', \n",
    "                                1: 'Above Regional Average', \n",
    "                                2: 'Higher Share of Equity Population'}, inplace=True)\n",
    "_df.index.name = None\n",
    "_df.columns.name = None\n",
    "_df['Total Households'] = _df.sum(axis=1)\n",
    "_df_buffer = _df.copy()\n",
    "\n",
    "df_lu_tot = df_lu[['parcelid','hh_p']].merge(parcel_geog,left_on='parcelid', right_on='ParcelID')\n",
    "df_lu_tot['Region'] = 1\n",
    "results_df_tot = pd.DataFrame()\n",
    "for col, name in {'equity_focus_areas_2023__efa_poc': 'People of Color',\n",
    "                      'equity_focus_areas_2023__efa_pov200': 'Poverty',\n",
    "                        'equity_focus_areas_2023__efa_lep': 'LEP',\n",
    "                        'equity_focus_areas_2023__efa_dis': 'Disability',\n",
    "                      'equity_focus_areas_2023__efa_older': 'Older',\n",
    "                      'equity_focus_areas_2023__efa_youth': 'Youth',\n",
    "                  'Region': 'Region'\n",
    "                  }.items():\n",
    "    _df = df_lu_tot[['hh_p',col]].groupby(col).sum()[['hh_p']]\n",
    "    _df['equity_group'] = name\n",
    "    results_df_tot = pd.concat([results_df_tot, _df])\n",
    "results_df_tot = results_df_tot.reset_index()\n",
    "pd.options.display.float_format = '{:0,.0f}'.format\n",
    "\n",
    "_df = results_df_tot.pivot_table(index='equity_group',columns='index',values='hh_p')\n",
    "_df.rename(columns={0: 'Below Regional Average', \n",
    "                                1: 'Above Regional Average', \n",
    "                                2: 'Higher Share of Equity Population'}, inplace=True)\n",
    "_df.index.name = None\n",
    "_df.columns.name = None\n",
    "_df['Total Households'] = _df.sum(axis=1)\n",
    "_df_tot = _df.copy()\n",
    "_df = _df_tot.merge(_df_buffer, left_index=True, right_index=True, suffixes=['_tot','_buffer'])\n",
    "\n",
    "pd.options.display.float_format = '{:0,.1%}'.format\n",
    "efa_list = ['Below Regional Average', 'Above Regional Average','Higher Share of Equity Population', 'Total Households']\n",
    "for efa in efa_list:\n",
    "    _df[efa] = _df[f'{efa}_buffer']/_df[f'{efa}_tot']\n",
    "_df[efa_list].T\n"
   ]
  },
  {
   "cell_type": "raw",
   "id": "486bbd5b",
   "metadata": {
    "vscode": {
     "languageId": "raw"
    }
   },
   "source": [
    ":::"
   ]
  }
 ],
 "metadata": {
  "kernelspec": {
   "display_name": "summary",
   "language": "python",
   "name": "python3"
  },
  "language_info": {
   "codemirror_mode": {
    "name": "ipython",
    "version": 3
   },
   "file_extension": ".py",
   "mimetype": "text/x-python",
   "name": "python",
   "nbconvert_exporter": "python",
   "pygments_lexer": "ipython3",
   "version": "3.11.12"
  }
 },
 "nbformat": 4,
 "nbformat_minor": 5
}
