{
 "cells": [
  {
   "cell_type": "raw",
   "id": "ccc9e13b",
   "metadata": {
    "vscode": {
     "languageId": "raw"
    }
   },
   "source": [
    "---\n",
    "title: \"Freight\"\n",
    "date: today\n",
    "---"
   ]
  },
  {
   "cell_type": "code",
   "execution_count": 1,
   "id": "a424ffdb",
   "metadata": {
    "execution": {
     "iopub.execute_input": "2025-08-06T20:41:06.624226Z",
     "iopub.status.busy": "2025-08-06T20:41:06.624226Z",
     "iopub.status.idle": "2025-08-06T20:41:07.457945Z",
     "shell.execute_reply": "2025-08-06T20:41:07.456933Z"
    }
   },
   "outputs": [],
   "source": [
    "import pandas as pd\n",
    "import toml\n",
    "import h5py\n",
    "from pathlib import Path\n",
    "import functions\n",
    "import geopandas as gpd\n",
    "import os\n",
    "\n",
    "config = toml.load(Path.cwd() / '../../../../configuration/input_configuration.toml')\n",
    "summary_config = toml.load(Path.cwd() / '../../../../configuration/summary_configuration.toml')\n",
    "\n",
    "pd.options.display.float_format = '{:0,.0f}'.format\n",
    "\n",
    "output_path = Path(summary_config['sc_run_path']) / summary_config[\"output_folder\"]"
   ]
  },
  {
   "cell_type": "code",
   "execution_count": 2,
   "id": "60af24f3",
   "metadata": {
    "execution": {
     "iopub.execute_input": "2025-08-06T20:41:07.461955Z",
     "iopub.status.busy": "2025-08-06T20:41:07.460939Z",
     "iopub.status.idle": "2025-08-06T20:41:19.441279Z",
     "shell.execute_reply": "2025-08-06T20:41:19.441279Z"
    }
   },
   "outputs": [],
   "source": [
    "df = functions.process_network_summary()\n",
    "\n",
    "df = df[df['county']!=\"Outside Region\"]\n",
    "\n",
    "# network \n",
    "df = df.copy()\n",
    "df['medium_truck_vmt'] = df['@mveh']*df['length']\n",
    "df['heavy_truck_vmt'] = df['@hveh']*df['length']\n",
    "df['truck_vmt'] = df['heavy_truck_vmt']+df['medium_truck_vmt']\n",
    "\n",
    "# add order for county\n",
    "df[\"county\"] = pd.Categorical(df[\"county\"], categories = ['King', 'Snohomish', 'Pierce', 'Kitsap'], ordered=True)\n",
    "\n",
    "df['Road Type'] = df['@fgts'].map({\n",
    "    0: 'Non-Truck Route',\n",
    "    1: 'FGTS 1',\n",
    "    2: 'FGTS 2'\n",
    "})"
   ]
  },
  {
   "cell_type": "markdown",
   "id": "ea0c1cbb",
   "metadata": {},
   "source": [
    "## Truck Miles Traveled by County"
   ]
  },
  {
   "cell_type": "code",
   "execution_count": 3,
   "id": "55456ac2",
   "metadata": {
    "execution": {
     "iopub.execute_input": "2025-08-06T20:41:19.445320Z",
     "iopub.status.busy": "2025-08-06T20:41:19.445320Z",
     "iopub.status.idle": "2025-08-06T20:41:19.495781Z",
     "shell.execute_reply": "2025-08-06T20:41:19.495254Z"
    }
   },
   "outputs": [
    {
     "data": {
      "text/html": [
       "<div>\n",
       "<style scoped>\n",
       "    .dataframe tbody tr th:only-of-type {\n",
       "        vertical-align: middle;\n",
       "    }\n",
       "\n",
       "    .dataframe tbody tr th {\n",
       "        vertical-align: top;\n",
       "    }\n",
       "\n",
       "    .dataframe thead th {\n",
       "        text-align: right;\n",
       "    }\n",
       "</style>\n",
       "<table border=\"1\" class=\"dataframe\">\n",
       "  <thead>\n",
       "    <tr style=\"text-align: right;\">\n",
       "      <th></th>\n",
       "      <th>Medium Trucks</th>\n",
       "      <th>Heavy Trucks</th>\n",
       "      <th>All Trucks</th>\n",
       "    </tr>\n",
       "    <tr>\n",
       "      <th>county</th>\n",
       "      <th></th>\n",
       "      <th></th>\n",
       "      <th></th>\n",
       "    </tr>\n",
       "  </thead>\n",
       "  <tbody>\n",
       "    <tr>\n",
       "      <th>King</th>\n",
       "      <td>1,956,074</td>\n",
       "      <td>1,417,574</td>\n",
       "      <td>3,373,647</td>\n",
       "    </tr>\n",
       "    <tr>\n",
       "      <th>Snohomish</th>\n",
       "      <td>551,474</td>\n",
       "      <td>534,242</td>\n",
       "      <td>1,085,716</td>\n",
       "    </tr>\n",
       "    <tr>\n",
       "      <th>Pierce</th>\n",
       "      <td>549,796</td>\n",
       "      <td>539,816</td>\n",
       "      <td>1,089,612</td>\n",
       "    </tr>\n",
       "    <tr>\n",
       "      <th>Kitsap</th>\n",
       "      <td>145,278</td>\n",
       "      <td>90,379</td>\n",
       "      <td>235,657</td>\n",
       "    </tr>\n",
       "    <tr>\n",
       "      <th>Total</th>\n",
       "      <td>3,202,621</td>\n",
       "      <td>2,582,011</td>\n",
       "      <td>5,784,632</td>\n",
       "    </tr>\n",
       "  </tbody>\n",
       "</table>\n",
       "</div>"
      ],
      "text/plain": [
       "           Medium Trucks  Heavy Trucks  All Trucks\n",
       "county                                            \n",
       "King           1,956,074     1,417,574   3,373,647\n",
       "Snohomish        551,474       534,242   1,085,716\n",
       "Pierce           549,796       539,816   1,089,612\n",
       "Kitsap           145,278        90,379     235,657\n",
       "Total          3,202,621     2,582,011   5,784,632"
      ]
     },
     "execution_count": 3,
     "metadata": {},
     "output_type": "execute_result"
    }
   ],
   "source": [
    "tab = df[['county','truck_vmt','medium_truck_vmt','heavy_truck_vmt']].groupby('county', observed=False).sum()[['medium_truck_vmt','heavy_truck_vmt','truck_vmt']]\n",
    "truck_col_map = {'truck_vmt': 'All Trucks',\n",
    "                 'medium_truck_vmt': 'Medium Trucks',\n",
    "                'heavy_truck_vmt': 'Heavy Trucks'}\n",
    "tab = tab.rename(columns=truck_col_map)\n",
    "tab.loc['Total',:] = tab.sum()\n",
    "tab"
   ]
  },
  {
   "cell_type": "markdown",
   "id": "8b861636",
   "metadata": {},
   "source": [
    "## Miles Traveled on Truck Routes by Vehicle Type\n",
    "\n",
    "Major Truck Routes include two tiers on the Freight and Goods Transportation System (FGTS)\n",
    "\n",
    "- T-1: More than 10 million tons per year\n",
    "\n",
    "- T-2: 4 million to 10 million tons per year"
   ]
  },
  {
   "cell_type": "raw",
   "id": "1edf849d",
   "metadata": {
    "vscode": {
     "languageId": "raw"
    }
   },
   "source": [
    ":::{.panel-tabset}\n",
    "### VMT"
   ]
  },
  {
   "cell_type": "code",
   "execution_count": 4,
   "id": "9f6ce439",
   "metadata": {
    "execution": {
     "iopub.execute_input": "2025-08-06T20:41:19.498940Z",
     "iopub.status.busy": "2025-08-06T20:41:19.498940Z",
     "iopub.status.idle": "2025-08-06T20:41:19.623461Z",
     "shell.execute_reply": "2025-08-06T20:41:19.622956Z"
    }
   },
   "outputs": [
    {
     "data": {
      "text/html": [
       "<div>\n",
       "<style scoped>\n",
       "    .dataframe tbody tr th:only-of-type {\n",
       "        vertical-align: middle;\n",
       "    }\n",
       "\n",
       "    .dataframe tbody tr th {\n",
       "        vertical-align: top;\n",
       "    }\n",
       "\n",
       "    .dataframe thead th {\n",
       "        text-align: right;\n",
       "    }\n",
       "</style>\n",
       "<table border=\"1\" class=\"dataframe\">\n",
       "  <thead>\n",
       "    <tr style=\"text-align: right;\">\n",
       "      <th></th>\n",
       "      <th>Passenger</th>\n",
       "      <th>Medium Truck</th>\n",
       "      <th>Heavy Truck</th>\n",
       "    </tr>\n",
       "    <tr>\n",
       "      <th>Road Type</th>\n",
       "      <th></th>\n",
       "      <th></th>\n",
       "      <th></th>\n",
       "    </tr>\n",
       "  </thead>\n",
       "  <tbody>\n",
       "    <tr>\n",
       "      <th>FGTS 1</th>\n",
       "      <td>31,090,920</td>\n",
       "      <td>1,778,551</td>\n",
       "      <td>2,086,019</td>\n",
       "    </tr>\n",
       "    <tr>\n",
       "      <th>FGTS 2</th>\n",
       "      <td>11,378,013</td>\n",
       "      <td>486,324</td>\n",
       "      <td>172,121</td>\n",
       "    </tr>\n",
       "  </tbody>\n",
       "</table>\n",
       "</div>"
      ],
      "text/plain": [
       "           Passenger  Medium Truck  Heavy Truck\n",
       "Road Type                                      \n",
       "FGTS 1    31,090,920     1,778,551    2,086,019\n",
       "FGTS 2    11,378,013       486,324      172,121"
      ]
     },
     "execution_count": 4,
     "metadata": {},
     "output_type": "execute_result"
    }
   ],
   "source": [
    "# Travel on Truck Routes\n",
    "\n",
    "df_vmt = df[['VMT','heavy_truck_vmt','medium_truck_vmt','Road Type']].groupby('Road Type').sum()\n",
    "df_vmt['Passenger'] = df_vmt['VMT'] - df_vmt['heavy_truck_vmt'] - df_vmt['medium_truck_vmt']\n",
    "df_vmt = df_vmt.rename(columns={'heavy_truck_vmt': 'Heavy Truck',\n",
    "                             'medium_truck_vmt': 'Medium Truck',})\n",
    "df1 = df_vmt.loc[['FGTS 1', 'FGTS 2']]\n",
    "df1 = df1[['Passenger', 'Medium Truck', 'Heavy Truck']]\n",
    "df1"
   ]
  },
  {
   "cell_type": "code",
   "execution_count": 5,
   "id": "0759823d",
   "metadata": {
    "execution": {
     "iopub.execute_input": "2025-08-06T20:41:19.627467Z",
     "iopub.status.busy": "2025-08-06T20:41:19.626467Z",
     "iopub.status.idle": "2025-08-06T20:41:19.639418Z",
     "shell.execute_reply": "2025-08-06T20:41:19.639418Z"
    }
   },
   "outputs": [
    {
     "data": {
      "text/html": [
       "<div>\n",
       "<style scoped>\n",
       "    .dataframe tbody tr th:only-of-type {\n",
       "        vertical-align: middle;\n",
       "    }\n",
       "\n",
       "    .dataframe tbody tr th {\n",
       "        vertical-align: top;\n",
       "    }\n",
       "\n",
       "    .dataframe thead th {\n",
       "        text-align: right;\n",
       "    }\n",
       "</style>\n",
       "<table border=\"1\" class=\"dataframe\">\n",
       "  <thead>\n",
       "    <tr style=\"text-align: right;\">\n",
       "      <th></th>\n",
       "      <th>Passenger</th>\n",
       "      <th>Medium Truck</th>\n",
       "      <th>Heavy Truck</th>\n",
       "    </tr>\n",
       "    <tr>\n",
       "      <th>Road Type</th>\n",
       "      <th></th>\n",
       "      <th></th>\n",
       "      <th></th>\n",
       "    </tr>\n",
       "  </thead>\n",
       "  <tbody>\n",
       "    <tr>\n",
       "      <th>Non-Truck Route</th>\n",
       "      <td>33,697,964</td>\n",
       "      <td>937,747</td>\n",
       "      <td>323,871</td>\n",
       "    </tr>\n",
       "    <tr>\n",
       "      <th>Major Truck Routes (FGTS 1 + FGTS 2)</th>\n",
       "      <td>42,468,934</td>\n",
       "      <td>2,264,875</td>\n",
       "      <td>2,258,140</td>\n",
       "    </tr>\n",
       "  </tbody>\n",
       "</table>\n",
       "</div>"
      ],
      "text/plain": [
       "                                      Passenger  Medium Truck  Heavy Truck\n",
       "Road Type                                                                 \n",
       "Non-Truck Route                      33,697,964       937,747      323,871\n",
       "Major Truck Routes (FGTS 1 + FGTS 2) 42,468,934     2,264,875    2,258,140"
      ]
     },
     "execution_count": 5,
     "metadata": {},
     "output_type": "execute_result"
    }
   ],
   "source": [
    "df_vmt = df_vmt[['Passenger', 'Medium Truck', 'Heavy Truck']]\n",
    "df_vmt.loc['Major Truck Routes (FGTS 1 + FGTS 2)',:] = df_vmt.loc['FGTS 1',:] + df_vmt.loc['FGTS 2',:]\n",
    "df2 = df_vmt.loc[['Non-Truck Route','Major Truck Routes (FGTS 1 + FGTS 2)']]\n",
    "df2"
   ]
  },
  {
   "cell_type": "raw",
   "id": "8d5f3c45",
   "metadata": {
    "vscode": {
     "languageId": "raw"
    }
   },
   "source": [
    "### Percent"
   ]
  },
  {
   "cell_type": "code",
   "execution_count": 6,
   "id": "764bb658",
   "metadata": {
    "execution": {
     "iopub.execute_input": "2025-08-06T20:41:19.642424Z",
     "iopub.status.busy": "2025-08-06T20:41:19.642424Z",
     "iopub.status.idle": "2025-08-06T20:41:19.650343Z",
     "shell.execute_reply": "2025-08-06T20:41:19.650343Z"
    }
   },
   "outputs": [
    {
     "data": {
      "text/html": [
       "<div>\n",
       "<style scoped>\n",
       "    .dataframe tbody tr th:only-of-type {\n",
       "        vertical-align: middle;\n",
       "    }\n",
       "\n",
       "    .dataframe tbody tr th {\n",
       "        vertical-align: top;\n",
       "    }\n",
       "\n",
       "    .dataframe thead th {\n",
       "        text-align: right;\n",
       "    }\n",
       "</style>\n",
       "<table border=\"1\" class=\"dataframe\">\n",
       "  <thead>\n",
       "    <tr style=\"text-align: right;\">\n",
       "      <th></th>\n",
       "      <th>Passenger</th>\n",
       "      <th>Medium Truck</th>\n",
       "      <th>Heavy Truck</th>\n",
       "    </tr>\n",
       "    <tr>\n",
       "      <th>Road Type</th>\n",
       "      <th></th>\n",
       "      <th></th>\n",
       "      <th></th>\n",
       "    </tr>\n",
       "  </thead>\n",
       "  <tbody>\n",
       "    <tr>\n",
       "      <th>FGTS 1</th>\n",
       "      <td>73.2%</td>\n",
       "      <td>78.5%</td>\n",
       "      <td>92.4%</td>\n",
       "    </tr>\n",
       "    <tr>\n",
       "      <th>FGTS 2</th>\n",
       "      <td>26.8%</td>\n",
       "      <td>21.5%</td>\n",
       "      <td>7.6%</td>\n",
       "    </tr>\n",
       "  </tbody>\n",
       "</table>\n",
       "</div>"
      ],
      "text/plain": [
       "           Passenger  Medium Truck  Heavy Truck\n",
       "Road Type                                      \n",
       "FGTS 1         73.2%         78.5%        92.4%\n",
       "FGTS 2         26.8%         21.5%         7.6%"
      ]
     },
     "execution_count": 6,
     "metadata": {},
     "output_type": "execute_result"
    }
   ],
   "source": [
    "# Show percentage of VMT by vehicle type\n",
    "pd.options.display.float_format = '{:0,.1%}'.format\n",
    "df1_pct = df1.div(df1.sum(axis=0), axis=1)\n",
    "df1_pct"
   ]
  },
  {
   "cell_type": "code",
   "execution_count": 7,
   "id": "be6c8ffd",
   "metadata": {
    "execution": {
     "iopub.execute_input": "2025-08-06T20:41:19.652350Z",
     "iopub.status.busy": "2025-08-06T20:41:19.652350Z",
     "iopub.status.idle": "2025-08-06T20:41:19.662364Z",
     "shell.execute_reply": "2025-08-06T20:41:19.661860Z"
    }
   },
   "outputs": [
    {
     "data": {
      "text/html": [
       "<div>\n",
       "<style scoped>\n",
       "    .dataframe tbody tr th:only-of-type {\n",
       "        vertical-align: middle;\n",
       "    }\n",
       "\n",
       "    .dataframe tbody tr th {\n",
       "        vertical-align: top;\n",
       "    }\n",
       "\n",
       "    .dataframe thead th {\n",
       "        text-align: right;\n",
       "    }\n",
       "</style>\n",
       "<table border=\"1\" class=\"dataframe\">\n",
       "  <thead>\n",
       "    <tr style=\"text-align: right;\">\n",
       "      <th></th>\n",
       "      <th>Passenger</th>\n",
       "      <th>Medium Truck</th>\n",
       "      <th>Heavy Truck</th>\n",
       "    </tr>\n",
       "    <tr>\n",
       "      <th>Road Type</th>\n",
       "      <th></th>\n",
       "      <th></th>\n",
       "      <th></th>\n",
       "    </tr>\n",
       "  </thead>\n",
       "  <tbody>\n",
       "    <tr>\n",
       "      <th>Non-Truck Route</th>\n",
       "      <td>44.2%</td>\n",
       "      <td>29.3%</td>\n",
       "      <td>12.5%</td>\n",
       "    </tr>\n",
       "    <tr>\n",
       "      <th>Major Truck Routes (FGTS 1 + FGTS 2)</th>\n",
       "      <td>55.8%</td>\n",
       "      <td>70.7%</td>\n",
       "      <td>87.5%</td>\n",
       "    </tr>\n",
       "  </tbody>\n",
       "</table>\n",
       "</div>"
      ],
      "text/plain": [
       "                                      Passenger  Medium Truck  Heavy Truck\n",
       "Road Type                                                                 \n",
       "Non-Truck Route                           44.2%         29.3%        12.5%\n",
       "Major Truck Routes (FGTS 1 + FGTS 2)      55.8%         70.7%        87.5%"
      ]
     },
     "execution_count": 7,
     "metadata": {},
     "output_type": "execute_result"
    }
   ],
   "source": [
    "df2_pct = df2.div(df2.sum(axis=0), axis=1)\n",
    "df2_pct"
   ]
  },
  {
   "cell_type": "raw",
   "id": "8bd33bb9",
   "metadata": {
    "vscode": {
     "languageId": "raw"
    }
   },
   "source": [
    ":::"
   ]
  },
  {
   "cell_type": "markdown",
   "id": "880b514a",
   "metadata": {},
   "source": [
    "## Vehicle Trips"
   ]
  },
  {
   "cell_type": "code",
   "execution_count": 8,
   "id": "652f30af",
   "metadata": {
    "execution": {
     "iopub.execute_input": "2025-08-06T20:41:19.666106Z",
     "iopub.status.busy": "2025-08-06T20:41:19.665583Z",
     "iopub.status.idle": "2025-08-06T20:41:26.235417Z",
     "shell.execute_reply": "2025-08-06T20:41:26.234365Z"
    }
   },
   "outputs": [],
   "source": [
    "truck_h5 = h5py.File(Path(output_path,'trucks','truck_trips.h5'), 'r')\n",
    "\n",
    "total_med_trips = 0\n",
    "total_hvy_trips = 0\n",
    "for tod in truck_h5.keys():\n",
    "    total_med_trips += truck_h5[tod]['mf'+tod+'_medtrk_trips'][:].sum()\n",
    "    total_hvy_trips += truck_h5[tod]['mf'+tod+'_hvytrk_trips'][:].sum()\n",
    "\n",
    "_df_trips = pd.DataFrame({'Trips': [total_hvy_trips, total_med_trips]}, index=['Heavy Trucks', 'Medium Trucks'])"
   ]
  },
  {
   "cell_type": "code",
   "execution_count": 9,
   "id": "db780ba6",
   "metadata": {
    "execution": {
     "iopub.execute_input": "2025-08-06T20:41:26.238600Z",
     "iopub.status.busy": "2025-08-06T20:41:26.238066Z",
     "iopub.status.idle": "2025-08-06T20:41:28.376475Z",
     "shell.execute_reply": "2025-08-06T20:41:28.375470Z"
    }
   },
   "outputs": [],
   "source": [
    "skim_h5 = h5py.File('../../../../inputs/model/daysim/roster/7to8.h5', 'r')\n",
    "\n",
    "wt_hvy = (truck_h5['7to8']['mf7to8_hvytrk_trips'][0:3751, 0:3751] * (skim_h5['Skims']['heavy_truckd'][:]/100.0)[0:3751, 0:3751]).sum()\n",
    "hvy_dist = wt_hvy/truck_h5['7to8']['mf7to8_hvytrk_trips'][0:3751, 0:3751].sum()\n",
    "\n",
    "wt_med = (truck_h5['7to8']['mf7to8_medtrk_trips'][0:3751, 0:3751] * (skim_h5['Skims']['medium_truckd'][:]/100.0)[0:3751, 0:3751]).sum()\n",
    "med_dist = wt_med/truck_h5['7to8']['mf7to8_medtrk_trips'][0:3751, 0:3751].sum()\n",
    "\n",
    "tot_dist = (wt_hvy+wt_med)/(truck_h5['7to8']['mf7to8_medtrk_trips'][0:3751, 0:3751].sum()+truck_h5['7to8']['mf7to8_hvytrk_trips'][0:3751, 0:3751].sum())\n",
    "\n",
    "_df_dist = pd.DataFrame({'Average Distance (mi)': [hvy_dist, med_dist]}, index=['Heavy Trucks', 'Medium Trucks'])"
   ]
  },
  {
   "cell_type": "code",
   "execution_count": 10,
   "id": "73378599",
   "metadata": {
    "execution": {
     "iopub.execute_input": "2025-08-06T20:41:28.379478Z",
     "iopub.status.busy": "2025-08-06T20:41:28.379478Z",
     "iopub.status.idle": "2025-08-06T20:41:28.390729Z",
     "shell.execute_reply": "2025-08-06T20:41:28.390729Z"
    }
   },
   "outputs": [
    {
     "data": {
      "text/html": [
       "<div>\n",
       "<style scoped>\n",
       "    .dataframe tbody tr th:only-of-type {\n",
       "        vertical-align: middle;\n",
       "    }\n",
       "\n",
       "    .dataframe tbody tr th {\n",
       "        vertical-align: top;\n",
       "    }\n",
       "\n",
       "    .dataframe thead th {\n",
       "        text-align: right;\n",
       "    }\n",
       "</style>\n",
       "<table border=\"1\" class=\"dataframe\">\n",
       "  <thead>\n",
       "    <tr style=\"text-align: right;\">\n",
       "      <th></th>\n",
       "      <th>Trips</th>\n",
       "      <th>Average Distance (mi)</th>\n",
       "    </tr>\n",
       "  </thead>\n",
       "  <tbody>\n",
       "    <tr>\n",
       "      <th>Heavy Trucks</th>\n",
       "      <td>134,623</td>\n",
       "      <td>38.8</td>\n",
       "    </tr>\n",
       "    <tr>\n",
       "      <th>Medium Trucks</th>\n",
       "      <td>318,630</td>\n",
       "      <td>14.9</td>\n",
       "    </tr>\n",
       "    <tr>\n",
       "      <th>All Trucks</th>\n",
       "      <td>453,253</td>\n",
       "      <td>22.0</td>\n",
       "    </tr>\n",
       "  </tbody>\n",
       "</table>\n",
       "</div>"
      ],
      "text/plain": [
       "                Trips Average Distance (mi)\n",
       "Heavy Trucks  134,623                  38.8\n",
       "Medium Trucks 318,630                  14.9\n",
       "All Trucks    453,253                  22.0"
      ]
     },
     "execution_count": 10,
     "metadata": {},
     "output_type": "execute_result"
    }
   ],
   "source": [
    "pd.options.display.float_format = '{:0,.0f}'.format\n",
    "df_combined = pd.concat([_df_trips, _df_dist], axis=1)\n",
    "df_combined.loc['All Trucks',:] = df_combined.sum()\n",
    "df_combined.loc['All Trucks','Average Distance (mi)'] = tot_dist\n",
    "df_combined['Average Distance (mi)'] = df_combined['Average Distance (mi)'].map('{:.1f}'.format)\n",
    "df_combined"
   ]
  },
  {
   "cell_type": "markdown",
   "id": "15470887",
   "metadata": {},
   "source": [
    "## Truck Delay\n",
    "\n",
    "- Delay Hours is total delay for all trucks on an average weekday\n",
    "\n",
    "- Annual Avg Driver Delay is the total average hourly delay for a driver in a year "
   ]
  },
  {
   "cell_type": "code",
   "execution_count": 11,
   "id": "d227df37",
   "metadata": {
    "execution": {
     "iopub.execute_input": "2025-08-06T20:41:28.393771Z",
     "iopub.status.busy": "2025-08-06T20:41:28.393246Z",
     "iopub.status.idle": "2025-08-06T20:41:28.408164Z",
     "shell.execute_reply": "2025-08-06T20:41:28.408164Z"
    }
   },
   "outputs": [
    {
     "data": {
      "text/html": [
       "<div>\n",
       "<style scoped>\n",
       "    .dataframe tbody tr th:only-of-type {\n",
       "        vertical-align: middle;\n",
       "    }\n",
       "\n",
       "    .dataframe tbody tr th {\n",
       "        vertical-align: top;\n",
       "    }\n",
       "\n",
       "    .dataframe thead th {\n",
       "        text-align: right;\n",
       "    }\n",
       "</style>\n",
       "<table border=\"1\" class=\"dataframe\">\n",
       "  <thead>\n",
       "    <tr style=\"text-align: right;\">\n",
       "      <th></th>\n",
       "      <th>Delay Hours</th>\n",
       "      <th>Annual Avg Driver Delay</th>\n",
       "    </tr>\n",
       "  </thead>\n",
       "  <tbody>\n",
       "    <tr>\n",
       "      <th>Heavy Trucks</th>\n",
       "      <td>6,743</td>\n",
       "      <td>16.0</td>\n",
       "    </tr>\n",
       "    <tr>\n",
       "      <th>Medium Trucks</th>\n",
       "      <td>9,369</td>\n",
       "      <td>9.4</td>\n",
       "    </tr>\n",
       "  </tbody>\n",
       "</table>\n",
       "</div>"
      ],
      "text/plain": [
       "               Delay Hours Annual Avg Driver Delay\n",
       "Heavy Trucks         6,743                    16.0\n",
       "Medium Trucks        9,369                     9.4"
      ]
     },
     "execution_count": 11,
     "metadata": {},
     "output_type": "execute_result"
    }
   ],
   "source": [
    "pd.options.display.float_format = '{:0,.0f}'.format\n",
    "df_delay = pd.read_csv(Path(output_path, 'network', 'delay_user_class.csv'))\n",
    "df_delay = pd.DataFrame(df_delay[['@hveh','@mveh']].sum(), columns=['Delay Hours'])\n",
    "df_delay.rename(index={'@mveh': 'Medium Trucks',\n",
    "               '@hveh': 'Heavy Trucks'}, inplace=True)\n",
    "df_delay = df_delay.merge(df_combined.loc[[\"Heavy Trucks\",\"Medium Trucks\"]], left_index=True, right_index=True)[['Delay Hours','Trips']]\n",
    "df_delay['Annual Avg Driver Delay'] = (df_delay['Delay Hours']/df_delay['Trips'])*summary_config['weekday_to_annual']\n",
    "df_delay['Annual Avg Driver Delay'] = df_delay['Annual Avg Driver Delay'].map('{:.1f}'.format)\n",
    "df_delay[['Delay Hours','Annual Avg Driver Delay']]\n"
   ]
  },
  {
   "cell_type": "markdown",
   "id": "55321136",
   "metadata": {},
   "source": [
    "## External Trips"
   ]
  },
  {
   "cell_type": "code",
   "execution_count": 12,
   "id": "a8c0294f",
   "metadata": {
    "execution": {
     "iopub.execute_input": "2025-08-06T20:41:28.411184Z",
     "iopub.status.busy": "2025-08-06T20:41:28.411184Z",
     "iopub.status.idle": "2025-08-06T20:41:29.221563Z",
     "shell.execute_reply": "2025-08-06T20:41:29.221563Z"
    }
   },
   "outputs": [
    {
     "data": {
      "text/html": [
       "<div>\n",
       "<style scoped>\n",
       "    .dataframe tbody tr th:only-of-type {\n",
       "        vertical-align: middle;\n",
       "    }\n",
       "\n",
       "    .dataframe tbody tr th {\n",
       "        vertical-align: top;\n",
       "    }\n",
       "\n",
       "    .dataframe thead th {\n",
       "        text-align: right;\n",
       "    }\n",
       "</style>\n",
       "<table border=\"1\" class=\"dataframe\">\n",
       "  <thead>\n",
       "    <tr style=\"text-align: right;\">\n",
       "      <th></th>\n",
       "      <th>Trips</th>\n",
       "    </tr>\n",
       "  </thead>\n",
       "  <tbody>\n",
       "    <tr>\n",
       "      <th>External -&gt; External (Pass Through)</th>\n",
       "      <td>4,531</td>\n",
       "    </tr>\n",
       "    <tr>\n",
       "      <th>Internal -&gt; External</th>\n",
       "      <td>22,236</td>\n",
       "    </tr>\n",
       "    <tr>\n",
       "      <th>External -&gt; Internal</th>\n",
       "      <td>22,236</td>\n",
       "    </tr>\n",
       "    <tr>\n",
       "      <th>Total</th>\n",
       "      <td>49,002</td>\n",
       "    </tr>\n",
       "  </tbody>\n",
       "</table>\n",
       "</div>"
      ],
      "text/plain": [
       "                                     Trips\n",
       "External -> External (Pass Through)  4,531\n",
       "Internal -> External                22,236\n",
       "External -> Internal                22,236\n",
       "Total                               49,002"
      ]
     },
     "execution_count": 12,
     "metadata": {},
     "output_type": "execute_result"
    }
   ],
   "source": [
    "# External-external trips\n",
    "ext_med_trips = 0\n",
    "ext_hvy_trips = 0\n",
    "for tod in truck_h5.keys():\n",
    "    ext_med_trips += truck_h5[tod]['mf'+tod+'_medtrk_trips'][3700:,3700:].sum()\n",
    "    ext_hvy_trips += truck_h5[tod]['mf'+tod+'_hvytrk_trips'][3700:,3700:].sum()\n",
    "\n",
    "df_ext = pd.DataFrame({'External -> External (Pass Through)': [ext_hvy_trips, ext_med_trips]}, index=['Heavy Trucks', 'Medium Trucks'])\n",
    "\n",
    "# Internal ->  external trips\n",
    "ext_med_trips = 0\n",
    "ext_hvy_trips = 0\n",
    "for tod in truck_h5.keys():\n",
    "    ext_med_trips += truck_h5[tod]['mf'+tod+'_medtrk_trips'][:3701,3700:].sum()\n",
    "    ext_hvy_trips += truck_h5[tod]['mf'+tod+'_hvytrk_trips'][:3701,3700:].sum()\n",
    "\n",
    "df_i_e = pd.DataFrame({'Internal -> External': [ext_hvy_trips, ext_med_trips]}, index=['Heavy Trucks', 'Medium Trucks'])\n",
    "df_ext = df_ext.merge(df_i_e, left_index=True, right_index=True)\n",
    "\n",
    "# External ->  internal trips\n",
    "ext_med_trips = 0\n",
    "ext_hvy_trips = 0\n",
    "for tod in truck_h5.keys():\n",
    "    ext_med_trips += truck_h5[tod]['mf'+tod+'_medtrk_trips'][3700:,:3701].sum()\n",
    "    ext_hvy_trips += truck_h5[tod]['mf'+tod+'_hvytrk_trips'][3700:,:3701].sum()\n",
    "\n",
    "df_e_i = pd.DataFrame({'External -> Internal': [ext_hvy_trips, ext_med_trips]}, index=['Heavy Trucks', 'Medium Trucks'])\n",
    "df_ext = df_ext.merge(df_e_i, left_index=True, right_index=True)\n",
    "\n",
    "# # Total Trips\n",
    "# (_df_trips*2) - thru_truck_trips\n",
    "df_ext['Total'] = df_ext.sum(axis=1)\n",
    "df_ext = pd.DataFrame(df_ext.loc['Heavy Trucks'])\n",
    "\n",
    "df_ext.rename(columns={'Heavy Trucks': 'Trips'}, inplace=True)\n",
    "df_ext"
   ]
  },
  {
   "cell_type": "markdown",
   "id": "1337f854",
   "metadata": {
    "vscode": {
     "languageId": "raw"
    }
   },
   "source": [
    "### Miles of Roadway with AM Congestion"
   ]
  },
  {
   "cell_type": "raw",
   "id": "0a271bf1",
   "metadata": {
    "vscode": {
     "languageId": "raw"
    }
   },
   "source": [
    "\n",
    ":::{.panel-tabset}\n",
    "### All Roadways"
   ]
  },
  {
   "cell_type": "code",
   "execution_count": 13,
   "id": "5fc3229e",
   "metadata": {
    "execution": {
     "iopub.execute_input": "2025-08-06T20:41:29.225088Z",
     "iopub.status.busy": "2025-08-06T20:41:29.225088Z",
     "iopub.status.idle": "2025-08-06T20:41:29.329338Z",
     "shell.execute_reply": "2025-08-06T20:41:29.328825Z"
    }
   },
   "outputs": [
    {
     "name": "stderr",
     "output_type": "stream",
     "text": [
      "C:\\Users\\Modeller\\AppData\\Local\\Temp\\ipykernel_23644\\1794173721.py:3: FutureWarning: The default value of observed=False is deprecated and will change to observed=True in a future version of pandas. Specify observed=False to silence this warning and retain the current behavior\n",
      "  _df = _df.pivot_table(index='congestion_category',columns='county',\n"
     ]
    },
    {
     "data": {
      "text/html": [
       "<div>\n",
       "<style scoped>\n",
       "    .dataframe tbody tr th:only-of-type {\n",
       "        vertical-align: middle;\n",
       "    }\n",
       "\n",
       "    .dataframe tbody tr th {\n",
       "        vertical-align: top;\n",
       "    }\n",
       "\n",
       "    .dataframe thead th {\n",
       "        text-align: right;\n",
       "    }\n",
       "</style>\n",
       "<table border=\"1\" class=\"dataframe\">\n",
       "  <thead>\n",
       "    <tr style=\"text-align: right;\">\n",
       "      <th>county</th>\n",
       "      <th>King</th>\n",
       "      <th>Snohomish</th>\n",
       "      <th>Pierce</th>\n",
       "      <th>Kitsap</th>\n",
       "    </tr>\n",
       "    <tr>\n",
       "      <th>congestion_category</th>\n",
       "      <th></th>\n",
       "      <th></th>\n",
       "      <th></th>\n",
       "      <th></th>\n",
       "    </tr>\n",
       "  </thead>\n",
       "  <tbody>\n",
       "    <tr>\n",
       "      <th>Heavy</th>\n",
       "      <td>268</td>\n",
       "      <td>58</td>\n",
       "      <td>72</td>\n",
       "      <td>11</td>\n",
       "    </tr>\n",
       "    <tr>\n",
       "      <th>Light</th>\n",
       "      <td>5,957</td>\n",
       "      <td>2,983</td>\n",
       "      <td>3,583</td>\n",
       "      <td>1,404</td>\n",
       "    </tr>\n",
       "    <tr>\n",
       "      <th>Moderate</th>\n",
       "      <td>433</td>\n",
       "      <td>126</td>\n",
       "      <td>172</td>\n",
       "      <td>22</td>\n",
       "    </tr>\n",
       "    <tr>\n",
       "      <th>Severe</th>\n",
       "      <td>38</td>\n",
       "      <td>6</td>\n",
       "      <td>6</td>\n",
       "      <td>1</td>\n",
       "    </tr>\n",
       "  </tbody>\n",
       "</table>\n",
       "</div>"
      ],
      "text/plain": [
       "county               King  Snohomish  Pierce  Kitsap\n",
       "congestion_category                                 \n",
       "Heavy                 268         58      72      11\n",
       "Light               5,957      2,983   3,583   1,404\n",
       "Moderate              433        126     172      22\n",
       "Severe                 38          6       6       1"
      ]
     },
     "execution_count": 13,
     "metadata": {},
     "output_type": "execute_result"
    }
   ],
   "source": [
    "time_period_list = ['7to8']\n",
    "_df = df[df['tod'].isin(time_period_list)]\n",
    "_df = _df.pivot_table(index='congestion_category',columns='county',\n",
    "               aggfunc='sum',values='length')\n",
    "_df = _df/len(time_period_list)\n",
    "_df.to_clipboard()\n",
    "_df"
   ]
  },
  {
   "cell_type": "raw",
   "id": "a01f6ac1",
   "metadata": {
    "vscode": {
     "languageId": "raw"
    }
   },
   "source": [
    "### FGTS 1 & 2"
   ]
  },
  {
   "cell_type": "code",
   "execution_count": 14,
   "id": "8bad7265",
   "metadata": {
    "execution": {
     "iopub.execute_input": "2025-08-06T20:41:29.331877Z",
     "iopub.status.busy": "2025-08-06T20:41:29.331877Z",
     "iopub.status.idle": "2025-08-06T20:41:29.388560Z",
     "shell.execute_reply": "2025-08-06T20:41:29.388560Z"
    }
   },
   "outputs": [],
   "source": [
    "# Results by Congestion Level\n",
    "df['speed'] = df['length']/df['auto_time']*60\n",
    "df['congestion_index'] = df['speed']/df['data2']\n",
    "df['congestion_index'] = df['congestion_index'].clip(0,1)\n",
    "df['congestion_category'] = pd.cut(df['congestion_index'], bins=[0,.25,.5,.7,0.99,1], labels=['Severe','Heavy','Moderate','Light','None'])"
   ]
  },
  {
   "cell_type": "code",
   "execution_count": 15,
   "id": "c9421859",
   "metadata": {
    "execution": {
     "iopub.execute_input": "2025-08-06T20:41:29.390568Z",
     "iopub.status.busy": "2025-08-06T20:41:29.390568Z",
     "iopub.status.idle": "2025-08-06T20:41:29.474321Z",
     "shell.execute_reply": "2025-08-06T20:41:29.473818Z"
    }
   },
   "outputs": [
    {
     "name": "stderr",
     "output_type": "stream",
     "text": [
      "C:\\Users\\Modeller\\AppData\\Local\\Temp\\ipykernel_23644\\1642555342.py:3: FutureWarning: The default value of observed=False is deprecated and will change to observed=True in a future version of pandas. Specify observed=False to silence this warning and retain the current behavior\n",
      "  _df = _df.pivot_table(index='congestion_category',columns='county',\n"
     ]
    },
    {
     "data": {
      "text/html": [
       "<div>\n",
       "<style scoped>\n",
       "    .dataframe tbody tr th:only-of-type {\n",
       "        vertical-align: middle;\n",
       "    }\n",
       "\n",
       "    .dataframe tbody tr th {\n",
       "        vertical-align: top;\n",
       "    }\n",
       "\n",
       "    .dataframe thead th {\n",
       "        text-align: right;\n",
       "    }\n",
       "</style>\n",
       "<table border=\"1\" class=\"dataframe\">\n",
       "  <thead>\n",
       "    <tr style=\"text-align: right;\">\n",
       "      <th>county</th>\n",
       "      <th>King</th>\n",
       "      <th>Snohomish</th>\n",
       "      <th>Pierce</th>\n",
       "      <th>Kitsap</th>\n",
       "    </tr>\n",
       "    <tr>\n",
       "      <th>congestion_category</th>\n",
       "      <th></th>\n",
       "      <th></th>\n",
       "      <th></th>\n",
       "      <th></th>\n",
       "    </tr>\n",
       "  </thead>\n",
       "  <tbody>\n",
       "    <tr>\n",
       "      <th>Severe</th>\n",
       "      <td>11</td>\n",
       "      <td>1</td>\n",
       "      <td>2</td>\n",
       "      <td>0</td>\n",
       "    </tr>\n",
       "    <tr>\n",
       "      <th>Heavy</th>\n",
       "      <td>121</td>\n",
       "      <td>24</td>\n",
       "      <td>24</td>\n",
       "      <td>3</td>\n",
       "    </tr>\n",
       "    <tr>\n",
       "      <th>Moderate</th>\n",
       "      <td>143</td>\n",
       "      <td>46</td>\n",
       "      <td>55</td>\n",
       "      <td>1</td>\n",
       "    </tr>\n",
       "    <tr>\n",
       "      <th>Light</th>\n",
       "      <td>414</td>\n",
       "      <td>179</td>\n",
       "      <td>274</td>\n",
       "      <td>64</td>\n",
       "    </tr>\n",
       "    <tr>\n",
       "      <th>None</th>\n",
       "      <td>330</td>\n",
       "      <td>116</td>\n",
       "      <td>167</td>\n",
       "      <td>40</td>\n",
       "    </tr>\n",
       "  </tbody>\n",
       "</table>\n",
       "</div>"
      ],
      "text/plain": [
       "county               King  Snohomish  Pierce  Kitsap\n",
       "congestion_category                                 \n",
       "Severe                 11          1       2       0\n",
       "Heavy                 121         24      24       3\n",
       "Moderate              143         46      55       1\n",
       "Light                 414        179     274      64\n",
       "None                  330        116     167      40"
      ]
     },
     "execution_count": 15,
     "metadata": {},
     "output_type": "execute_result"
    }
   ],
   "source": [
    "time_period_list = ['7to8']\n",
    "_df = df[df['tod'].isin(time_period_list) & (df['@fgts'].isin([1,2]))]\n",
    "_df = _df.pivot_table(index='congestion_category',columns='county',\n",
    "               aggfunc='sum',values='length')\n",
    "_df = _df/len(time_period_list)\n",
    "_df.to_clipboard()\n",
    "_df"
   ]
  },
  {
   "cell_type": "raw",
   "id": "e79ffd28",
   "metadata": {
    "vscode": {
     "languageId": "raw"
    }
   },
   "source": [
    ":::"
   ]
  },
  {
   "cell_type": "markdown",
   "id": "e247e67c",
   "metadata": {},
   "source": [
    "## VMT By Congestion Level"
   ]
  },
  {
   "cell_type": "raw",
   "id": "c4026458",
   "metadata": {
    "vscode": {
     "languageId": "raw"
    }
   },
   "source": [
    ":::{.panel-tabset}\n",
    "### AM Peak (5 - 9 am)"
   ]
  },
  {
   "cell_type": "code",
   "execution_count": 16,
   "id": "a63c7a14",
   "metadata": {
    "execution": {
     "iopub.execute_input": "2025-08-06T20:41:29.477838Z",
     "iopub.status.busy": "2025-08-06T20:41:29.476831Z",
     "iopub.status.idle": "2025-08-06T20:41:29.647922Z",
     "shell.execute_reply": "2025-08-06T20:41:29.647378Z"
    }
   },
   "outputs": [
    {
     "name": "stderr",
     "output_type": "stream",
     "text": [
      "C:\\Users\\Modeller\\AppData\\Local\\Temp\\ipykernel_23644\\4017565026.py:4: FutureWarning: The default value of observed=False is deprecated and will change to observed=True in a future version of pandas. Specify observed=False to silence this warning and retain the current behavior\n",
      "  _df = _df.pivot_table(index='congestion_category',columns='county',\n"
     ]
    },
    {
     "data": {
      "text/html": [
       "<div>\n",
       "<style scoped>\n",
       "    .dataframe tbody tr th:only-of-type {\n",
       "        vertical-align: middle;\n",
       "    }\n",
       "\n",
       "    .dataframe tbody tr th {\n",
       "        vertical-align: top;\n",
       "    }\n",
       "\n",
       "    .dataframe thead th {\n",
       "        text-align: right;\n",
       "    }\n",
       "</style>\n",
       "<table border=\"1\" class=\"dataframe\">\n",
       "  <thead>\n",
       "    <tr style=\"text-align: right;\">\n",
       "      <th></th>\n",
       "      <th>King</th>\n",
       "      <th>Snohomish</th>\n",
       "      <th>Pierce</th>\n",
       "      <th>Kitsap</th>\n",
       "    </tr>\n",
       "  </thead>\n",
       "  <tbody>\n",
       "    <tr>\n",
       "      <th>Light</th>\n",
       "      <td>397,091</td>\n",
       "      <td>149,556</td>\n",
       "      <td>161,289</td>\n",
       "      <td>26,677</td>\n",
       "    </tr>\n",
       "    <tr>\n",
       "      <th>Moderate</th>\n",
       "      <td>131,985</td>\n",
       "      <td>24,728</td>\n",
       "      <td>29,502</td>\n",
       "      <td>675</td>\n",
       "    </tr>\n",
       "    <tr>\n",
       "      <th>Heavy</th>\n",
       "      <td>91,641</td>\n",
       "      <td>11,592</td>\n",
       "      <td>8,242</td>\n",
       "      <td>1,210</td>\n",
       "    </tr>\n",
       "    <tr>\n",
       "      <th>Severe</th>\n",
       "      <td>5,753</td>\n",
       "      <td>449</td>\n",
       "      <td>454</td>\n",
       "      <td>44</td>\n",
       "    </tr>\n",
       "    <tr>\n",
       "      <th>Total</th>\n",
       "      <td>626,471</td>\n",
       "      <td>186,326</td>\n",
       "      <td>199,487</td>\n",
       "      <td>28,606</td>\n",
       "    </tr>\n",
       "  </tbody>\n",
       "</table>\n",
       "</div>"
      ],
      "text/plain": [
       "            King  Snohomish  Pierce  Kitsap\n",
       "Light    397,091    149,556 161,289  26,677\n",
       "Moderate 131,985     24,728  29,502     675\n",
       "Heavy     91,641     11,592   8,242   1,210\n",
       "Severe     5,753        449     454      44\n",
       "Total    626,471    186,326 199,487  28,606"
      ]
     },
     "execution_count": 16,
     "metadata": {},
     "output_type": "execute_result"
    }
   ],
   "source": [
    "df['Medium and Heavy Trucks'] = df['heavy_truck_vmt']+df['medium_truck_vmt']\n",
    "\n",
    "_df = df[df['tod'].isin(['5to6','6to7','7to8','8to9'])]\n",
    "_df = _df.pivot_table(index='congestion_category',columns='county',\n",
    "               aggfunc='sum',values='Medium and Heavy Trucks')\n",
    "_df = _df.reindex(['Light','Moderate','Heavy','Severe'])\n",
    "_df.index.name = None\n",
    "_df.columns.name = None\n",
    "_df.loc['Total',:] = _df.sum()\n",
    "_df"
   ]
  },
  {
   "cell_type": "raw",
   "id": "562c943f",
   "metadata": {
    "vscode": {
     "languageId": "raw"
    }
   },
   "source": [
    "### PM Peak (3 - 6 pm)"
   ]
  },
  {
   "cell_type": "code",
   "execution_count": 17,
   "id": "cb675831",
   "metadata": {
    "execution": {
     "iopub.execute_input": "2025-08-06T20:41:29.650508Z",
     "iopub.status.busy": "2025-08-06T20:41:29.650508Z",
     "iopub.status.idle": "2025-08-06T20:41:29.779349Z",
     "shell.execute_reply": "2025-08-06T20:41:29.778845Z"
    }
   },
   "outputs": [
    {
     "name": "stderr",
     "output_type": "stream",
     "text": [
      "C:\\Users\\Modeller\\AppData\\Local\\Temp\\ipykernel_23644\\321071178.py:2: FutureWarning: The default value of observed=False is deprecated and will change to observed=True in a future version of pandas. Specify observed=False to silence this warning and retain the current behavior\n",
      "  _df = _df.pivot_table(index='congestion_category',columns='county',\n"
     ]
    },
    {
     "data": {
      "text/html": [
       "<div>\n",
       "<style scoped>\n",
       "    .dataframe tbody tr th:only-of-type {\n",
       "        vertical-align: middle;\n",
       "    }\n",
       "\n",
       "    .dataframe tbody tr th {\n",
       "        vertical-align: top;\n",
       "    }\n",
       "\n",
       "    .dataframe thead th {\n",
       "        text-align: right;\n",
       "    }\n",
       "</style>\n",
       "<table border=\"1\" class=\"dataframe\">\n",
       "  <thead>\n",
       "    <tr style=\"text-align: right;\">\n",
       "      <th></th>\n",
       "      <th>King</th>\n",
       "      <th>Snohomish</th>\n",
       "      <th>Pierce</th>\n",
       "      <th>Kitsap</th>\n",
       "    </tr>\n",
       "  </thead>\n",
       "  <tbody>\n",
       "    <tr>\n",
       "      <th>Light</th>\n",
       "      <td>254,174</td>\n",
       "      <td>99,429</td>\n",
       "      <td>108,826</td>\n",
       "      <td>18,709</td>\n",
       "    </tr>\n",
       "    <tr>\n",
       "      <th>Moderate</th>\n",
       "      <td>97,723</td>\n",
       "      <td>18,090</td>\n",
       "      <td>19,106</td>\n",
       "      <td>649</td>\n",
       "    </tr>\n",
       "    <tr>\n",
       "      <th>Heavy</th>\n",
       "      <td>43,819</td>\n",
       "      <td>5,855</td>\n",
       "      <td>4,436</td>\n",
       "      <td>642</td>\n",
       "    </tr>\n",
       "    <tr>\n",
       "      <th>Severe</th>\n",
       "      <td>2,904</td>\n",
       "      <td>304</td>\n",
       "      <td>322</td>\n",
       "      <td>44</td>\n",
       "    </tr>\n",
       "    <tr>\n",
       "      <th>Total</th>\n",
       "      <td>398,621</td>\n",
       "      <td>123,678</td>\n",
       "      <td>132,691</td>\n",
       "      <td>20,044</td>\n",
       "    </tr>\n",
       "  </tbody>\n",
       "</table>\n",
       "</div>"
      ],
      "text/plain": [
       "            King  Snohomish  Pierce  Kitsap\n",
       "Light    254,174     99,429 108,826  18,709\n",
       "Moderate  97,723     18,090  19,106     649\n",
       "Heavy     43,819      5,855   4,436     642\n",
       "Severe     2,904        304     322      44\n",
       "Total    398,621    123,678 132,691  20,044"
      ]
     },
     "execution_count": 17,
     "metadata": {},
     "output_type": "execute_result"
    }
   ],
   "source": [
    "_df = df[df['tod'].isin(['15to16','16to17','17to18'])]\n",
    "_df = _df.pivot_table(index='congestion_category',columns='county',\n",
    "               aggfunc='sum',values='Medium and Heavy Trucks')\n",
    "_df = _df.reindex(['Light','Moderate','Heavy','Severe'])\n",
    "_df.index.name = None\n",
    "_df.columns.name = None\n",
    "_df.loc['Total',:] = _df.sum()\n",
    "_df"
   ]
  },
  {
   "cell_type": "raw",
   "id": "e97d32ee",
   "metadata": {
    "vscode": {
     "languageId": "raw"
    }
   },
   "source": [
    ":::"
   ]
  },
  {
   "cell_type": "markdown",
   "id": "f9d760c7",
   "metadata": {
    "vscode": {
     "languageId": "raw"
    }
   },
   "source": [
    "## Congestion by County"
   ]
  },
  {
   "cell_type": "raw",
   "id": "01e77a70",
   "metadata": {
    "vscode": {
     "languageId": "raw"
    }
   },
   "source": [
    ":::{.panel-tabset}\n",
    "### AM Peak (5 - 9 am)"
   ]
  },
  {
   "cell_type": "code",
   "execution_count": 18,
   "id": "affeba4d",
   "metadata": {
    "execution": {
     "iopub.execute_input": "2025-08-06T20:41:29.782857Z",
     "iopub.status.busy": "2025-08-06T20:41:29.781353Z",
     "iopub.status.idle": "2025-08-06T20:41:29.932087Z",
     "shell.execute_reply": "2025-08-06T20:41:29.932087Z"
    }
   },
   "outputs": [
    {
     "name": "stderr",
     "output_type": "stream",
     "text": [
      "C:\\Users\\Modeller\\AppData\\Local\\Temp\\ipykernel_23644\\4017565026.py:4: FutureWarning: The default value of observed=False is deprecated and will change to observed=True in a future version of pandas. Specify observed=False to silence this warning and retain the current behavior\n",
      "  _df = _df.pivot_table(index='congestion_category',columns='county',\n"
     ]
    },
    {
     "data": {
      "text/html": [
       "<div>\n",
       "<style scoped>\n",
       "    .dataframe tbody tr th:only-of-type {\n",
       "        vertical-align: middle;\n",
       "    }\n",
       "\n",
       "    .dataframe tbody tr th {\n",
       "        vertical-align: top;\n",
       "    }\n",
       "\n",
       "    .dataframe thead th {\n",
       "        text-align: right;\n",
       "    }\n",
       "</style>\n",
       "<table border=\"1\" class=\"dataframe\">\n",
       "  <thead>\n",
       "    <tr style=\"text-align: right;\">\n",
       "      <th></th>\n",
       "      <th>King</th>\n",
       "      <th>Snohomish</th>\n",
       "      <th>Pierce</th>\n",
       "      <th>Kitsap</th>\n",
       "    </tr>\n",
       "  </thead>\n",
       "  <tbody>\n",
       "    <tr>\n",
       "      <th>Light</th>\n",
       "      <td>397,091</td>\n",
       "      <td>149,556</td>\n",
       "      <td>161,289</td>\n",
       "      <td>26,677</td>\n",
       "    </tr>\n",
       "    <tr>\n",
       "      <th>Moderate</th>\n",
       "      <td>131,985</td>\n",
       "      <td>24,728</td>\n",
       "      <td>29,502</td>\n",
       "      <td>675</td>\n",
       "    </tr>\n",
       "    <tr>\n",
       "      <th>Heavy</th>\n",
       "      <td>91,641</td>\n",
       "      <td>11,592</td>\n",
       "      <td>8,242</td>\n",
       "      <td>1,210</td>\n",
       "    </tr>\n",
       "    <tr>\n",
       "      <th>Severe</th>\n",
       "      <td>5,753</td>\n",
       "      <td>449</td>\n",
       "      <td>454</td>\n",
       "      <td>44</td>\n",
       "    </tr>\n",
       "    <tr>\n",
       "      <th>Total</th>\n",
       "      <td>626,471</td>\n",
       "      <td>186,326</td>\n",
       "      <td>199,487</td>\n",
       "      <td>28,606</td>\n",
       "    </tr>\n",
       "  </tbody>\n",
       "</table>\n",
       "</div>"
      ],
      "text/plain": [
       "            King  Snohomish  Pierce  Kitsap\n",
       "Light    397,091    149,556 161,289  26,677\n",
       "Moderate 131,985     24,728  29,502     675\n",
       "Heavy     91,641     11,592   8,242   1,210\n",
       "Severe     5,753        449     454      44\n",
       "Total    626,471    186,326 199,487  28,606"
      ]
     },
     "execution_count": 18,
     "metadata": {},
     "output_type": "execute_result"
    }
   ],
   "source": [
    "df['Medium and Heavy Trucks'] = df['heavy_truck_vmt']+df['medium_truck_vmt']\n",
    "\n",
    "_df = df[df['tod'].isin(['5to6','6to7','7to8','8to9'])]\n",
    "_df = _df.pivot_table(index='congestion_category',columns='county',\n",
    "               aggfunc='sum',values='Medium and Heavy Trucks')\n",
    "_df = _df.reindex(['Light','Moderate','Heavy','Severe'])\n",
    "_df.index.name = None\n",
    "_df.columns.name = None\n",
    "_df.loc['Total',:] = _df.sum()\n",
    "_df"
   ]
  },
  {
   "cell_type": "raw",
   "id": "637ce9c7",
   "metadata": {
    "vscode": {
     "languageId": "raw"
    }
   },
   "source": [
    "### PM Peak (3 - 6 pm)"
   ]
  },
  {
   "cell_type": "code",
   "execution_count": 19,
   "id": "576b1dd9",
   "metadata": {
    "execution": {
     "iopub.execute_input": "2025-08-06T20:41:29.934611Z",
     "iopub.status.busy": "2025-08-06T20:41:29.934611Z",
     "iopub.status.idle": "2025-08-06T20:41:30.062888Z",
     "shell.execute_reply": "2025-08-06T20:41:30.062380Z"
    }
   },
   "outputs": [
    {
     "name": "stderr",
     "output_type": "stream",
     "text": [
      "C:\\Users\\Modeller\\AppData\\Local\\Temp\\ipykernel_23644\\321071178.py:2: FutureWarning: The default value of observed=False is deprecated and will change to observed=True in a future version of pandas. Specify observed=False to silence this warning and retain the current behavior\n",
      "  _df = _df.pivot_table(index='congestion_category',columns='county',\n"
     ]
    },
    {
     "data": {
      "text/html": [
       "<div>\n",
       "<style scoped>\n",
       "    .dataframe tbody tr th:only-of-type {\n",
       "        vertical-align: middle;\n",
       "    }\n",
       "\n",
       "    .dataframe tbody tr th {\n",
       "        vertical-align: top;\n",
       "    }\n",
       "\n",
       "    .dataframe thead th {\n",
       "        text-align: right;\n",
       "    }\n",
       "</style>\n",
       "<table border=\"1\" class=\"dataframe\">\n",
       "  <thead>\n",
       "    <tr style=\"text-align: right;\">\n",
       "      <th></th>\n",
       "      <th>King</th>\n",
       "      <th>Snohomish</th>\n",
       "      <th>Pierce</th>\n",
       "      <th>Kitsap</th>\n",
       "    </tr>\n",
       "  </thead>\n",
       "  <tbody>\n",
       "    <tr>\n",
       "      <th>Light</th>\n",
       "      <td>254,174</td>\n",
       "      <td>99,429</td>\n",
       "      <td>108,826</td>\n",
       "      <td>18,709</td>\n",
       "    </tr>\n",
       "    <tr>\n",
       "      <th>Moderate</th>\n",
       "      <td>97,723</td>\n",
       "      <td>18,090</td>\n",
       "      <td>19,106</td>\n",
       "      <td>649</td>\n",
       "    </tr>\n",
       "    <tr>\n",
       "      <th>Heavy</th>\n",
       "      <td>43,819</td>\n",
       "      <td>5,855</td>\n",
       "      <td>4,436</td>\n",
       "      <td>642</td>\n",
       "    </tr>\n",
       "    <tr>\n",
       "      <th>Severe</th>\n",
       "      <td>2,904</td>\n",
       "      <td>304</td>\n",
       "      <td>322</td>\n",
       "      <td>44</td>\n",
       "    </tr>\n",
       "    <tr>\n",
       "      <th>Total</th>\n",
       "      <td>398,621</td>\n",
       "      <td>123,678</td>\n",
       "      <td>132,691</td>\n",
       "      <td>20,044</td>\n",
       "    </tr>\n",
       "  </tbody>\n",
       "</table>\n",
       "</div>"
      ],
      "text/plain": [
       "            King  Snohomish  Pierce  Kitsap\n",
       "Light    254,174     99,429 108,826  18,709\n",
       "Moderate  97,723     18,090  19,106     649\n",
       "Heavy     43,819      5,855   4,436     642\n",
       "Severe     2,904        304     322      44\n",
       "Total    398,621    123,678 132,691  20,044"
      ]
     },
     "execution_count": 19,
     "metadata": {},
     "output_type": "execute_result"
    }
   ],
   "source": [
    "_df = df[df['tod'].isin(['15to16','16to17','17to18'])]\n",
    "_df = _df.pivot_table(index='congestion_category',columns='county',\n",
    "               aggfunc='sum',values='Medium and Heavy Trucks')\n",
    "_df = _df.reindex(['Light','Moderate','Heavy','Severe'])\n",
    "_df.index.name = None\n",
    "_df.columns.name = None\n",
    "_df.loc['Total',:] = _df.sum()\n",
    "_df"
   ]
  },
  {
   "cell_type": "raw",
   "id": "0ef8bce7",
   "metadata": {
    "vscode": {
     "languageId": "raw"
    }
   },
   "source": [
    ":::"
   ]
  },
  {
   "cell_type": "markdown",
   "id": "7ac9cdaf",
   "metadata": {
    "vscode": {
     "languageId": "raw"
    }
   },
   "source": [
    "## Congestion on FGTS"
   ]
  },
  {
   "cell_type": "raw",
   "id": "38cf1684",
   "metadata": {
    "vscode": {
     "languageId": "raw"
    }
   },
   "source": [
    ":::{.panel-tabset}\n",
    "### AM Peak (5 - 9 am)"
   ]
  },
  {
   "cell_type": "code",
   "execution_count": 20,
   "id": "f206cb2c",
   "metadata": {
    "execution": {
     "iopub.execute_input": "2025-08-06T20:41:30.066398Z",
     "iopub.status.busy": "2025-08-06T20:41:30.066398Z",
     "iopub.status.idle": "2025-08-06T20:41:30.221618Z",
     "shell.execute_reply": "2025-08-06T20:41:30.221618Z"
    }
   },
   "outputs": [
    {
     "name": "stderr",
     "output_type": "stream",
     "text": [
      "C:\\Users\\Modeller\\AppData\\Local\\Temp\\ipykernel_23644\\2204116488.py:7: FutureWarning: The default value of observed=False is deprecated and will change to observed=True in a future version of pandas. Specify observed=False to silence this warning and retain the current behavior\n",
      "  _df = _df.pivot_table(index='congestion_category',columns='@fgts',\n"
     ]
    },
    {
     "data": {
      "text/html": [
       "<div>\n",
       "<style scoped>\n",
       "    .dataframe tbody tr th:only-of-type {\n",
       "        vertical-align: middle;\n",
       "    }\n",
       "\n",
       "    .dataframe tbody tr th {\n",
       "        vertical-align: top;\n",
       "    }\n",
       "\n",
       "    .dataframe thead th {\n",
       "        text-align: right;\n",
       "    }\n",
       "</style>\n",
       "<table border=\"1\" class=\"dataframe\">\n",
       "  <thead>\n",
       "    <tr style=\"text-align: right;\">\n",
       "      <th></th>\n",
       "      <th>T-1</th>\n",
       "      <th>T-2</th>\n",
       "      <th>Other Routes</th>\n",
       "    </tr>\n",
       "  </thead>\n",
       "  <tbody>\n",
       "    <tr>\n",
       "      <th>Light</th>\n",
       "      <td>1,659,449</td>\n",
       "      <td>435,103</td>\n",
       "      <td>706,263</td>\n",
       "    </tr>\n",
       "    <tr>\n",
       "      <th>Moderate</th>\n",
       "      <td>438,267</td>\n",
       "      <td>106,769</td>\n",
       "      <td>212,371</td>\n",
       "    </tr>\n",
       "    <tr>\n",
       "      <th>Heavy</th>\n",
       "      <td>269,282</td>\n",
       "      <td>93,074</td>\n",
       "      <td>192,064</td>\n",
       "    </tr>\n",
       "    <tr>\n",
       "      <th>Severe</th>\n",
       "      <td>30,381</td>\n",
       "      <td>35,093</td>\n",
       "      <td>80,672</td>\n",
       "    </tr>\n",
       "    <tr>\n",
       "      <th>Total</th>\n",
       "      <td>2,397,378</td>\n",
       "      <td>670,039</td>\n",
       "      <td>1,191,370</td>\n",
       "    </tr>\n",
       "  </tbody>\n",
       "</table>\n",
       "</div>"
      ],
      "text/plain": [
       "               T-1     T-2  Other Routes\n",
       "Light    1,659,449 435,103       706,263\n",
       "Moderate   438,267 106,769       212,371\n",
       "Heavy      269,282  93,074       192,064\n",
       "Severe      30,381  35,093        80,672\n",
       "Total    2,397,378 670,039     1,191,370"
      ]
     },
     "execution_count": 20,
     "metadata": {},
     "output_type": "execute_result"
    }
   ],
   "source": [
    "pd.options.display.float_format = '{:0,.0f}'.format\n",
    "\n",
    "# Congested Miles on FGTS versus other Routes\n",
    "df['Medium and Heavy Trucks'] = df['@mveh']+df['@hveh']\n",
    "\n",
    "_df = df[df['tod'].isin(['5to6','6to7','7to8','8to9'])]\n",
    "_df = _df.pivot_table(index='congestion_category',columns='@fgts',\n",
    "               aggfunc='sum',values='Medium and Heavy Trucks')\n",
    "_df = _df.reindex(['Light','Moderate','Heavy','Severe'])\n",
    "_df.index.name = None\n",
    "_df.columns.name = None\n",
    "_df.rename(columns={0:'Other Routes', 1: 'T-1', 2: 'T-2'}, inplace=True)\n",
    "_df_ = _df.copy()\n",
    "_df.loc['Total',:] = _df.sum()\n",
    "_df = _df[['T-1','T-2','Other Routes']]\n",
    "_df"
   ]
  },
  {
   "cell_type": "code",
   "execution_count": 21,
   "id": "0cf27b71",
   "metadata": {
    "execution": {
     "iopub.execute_input": "2025-08-06T20:41:30.224664Z",
     "iopub.status.busy": "2025-08-06T20:41:30.224664Z",
     "iopub.status.idle": "2025-08-06T20:41:30.233720Z",
     "shell.execute_reply": "2025-08-06T20:41:30.233720Z"
    }
   },
   "outputs": [
    {
     "data": {
      "text/html": [
       "<div>\n",
       "<style scoped>\n",
       "    .dataframe tbody tr th:only-of-type {\n",
       "        vertical-align: middle;\n",
       "    }\n",
       "\n",
       "    .dataframe tbody tr th {\n",
       "        vertical-align: top;\n",
       "    }\n",
       "\n",
       "    .dataframe thead th {\n",
       "        text-align: right;\n",
       "    }\n",
       "</style>\n",
       "<table border=\"1\" class=\"dataframe\">\n",
       "  <thead>\n",
       "    <tr style=\"text-align: right;\">\n",
       "      <th></th>\n",
       "      <th>Other Routes</th>\n",
       "      <th>T-1</th>\n",
       "      <th>T-2</th>\n",
       "    </tr>\n",
       "  </thead>\n",
       "  <tbody>\n",
       "    <tr>\n",
       "      <th>Light</th>\n",
       "      <td>59.3%</td>\n",
       "      <td>69.2%</td>\n",
       "      <td>64.9%</td>\n",
       "    </tr>\n",
       "    <tr>\n",
       "      <th>Moderate</th>\n",
       "      <td>17.8%</td>\n",
       "      <td>18.3%</td>\n",
       "      <td>15.9%</td>\n",
       "    </tr>\n",
       "    <tr>\n",
       "      <th>Heavy</th>\n",
       "      <td>16.1%</td>\n",
       "      <td>11.2%</td>\n",
       "      <td>13.9%</td>\n",
       "    </tr>\n",
       "    <tr>\n",
       "      <th>Severe</th>\n",
       "      <td>6.8%</td>\n",
       "      <td>1.3%</td>\n",
       "      <td>5.2%</td>\n",
       "    </tr>\n",
       "  </tbody>\n",
       "</table>\n",
       "</div>"
      ],
      "text/plain": [
       "          Other Routes   T-1   T-2\n",
       "Light            59.3% 69.2% 64.9%\n",
       "Moderate         17.8% 18.3% 15.9%\n",
       "Heavy            16.1% 11.2% 13.9%\n",
       "Severe            6.8%  1.3%  5.2%"
      ]
     },
     "execution_count": 21,
     "metadata": {},
     "output_type": "execute_result"
    }
   ],
   "source": [
    "pd.options.display.float_format = '{:0,.1%}'.format\n",
    "_df_/_df_.sum()"
   ]
  },
  {
   "cell_type": "raw",
   "id": "d8b85d7c",
   "metadata": {
    "vscode": {
     "languageId": "raw"
    }
   },
   "source": [
    "### PM Peak (3 - 6 pm)"
   ]
  },
  {
   "cell_type": "code",
   "execution_count": 22,
   "id": "8cf4a517",
   "metadata": {
    "execution": {
     "iopub.execute_input": "2025-08-06T20:41:30.237239Z",
     "iopub.status.busy": "2025-08-06T20:41:30.237239Z",
     "iopub.status.idle": "2025-08-06T20:41:30.367299Z",
     "shell.execute_reply": "2025-08-06T20:41:30.367299Z"
    }
   },
   "outputs": [
    {
     "name": "stderr",
     "output_type": "stream",
     "text": [
      "C:\\Users\\Modeller\\AppData\\Local\\Temp\\ipykernel_23644\\907623602.py:6: FutureWarning: The default value of observed=False is deprecated and will change to observed=True in a future version of pandas. Specify observed=False to silence this warning and retain the current behavior\n",
      "  _df = _df.pivot_table(index='congestion_category',columns='@fgts',\n"
     ]
    },
    {
     "data": {
      "text/html": [
       "<div>\n",
       "<style scoped>\n",
       "    .dataframe tbody tr th:only-of-type {\n",
       "        vertical-align: middle;\n",
       "    }\n",
       "\n",
       "    .dataframe tbody tr th {\n",
       "        vertical-align: top;\n",
       "    }\n",
       "\n",
       "    .dataframe thead th {\n",
       "        text-align: right;\n",
       "    }\n",
       "</style>\n",
       "<table border=\"1\" class=\"dataframe\">\n",
       "  <thead>\n",
       "    <tr style=\"text-align: right;\">\n",
       "      <th></th>\n",
       "      <th>T-1</th>\n",
       "      <th>T-2</th>\n",
       "      <th>Other Routes</th>\n",
       "    </tr>\n",
       "  </thead>\n",
       "  <tbody>\n",
       "    <tr>\n",
       "      <th>Light</th>\n",
       "      <td>1,077,966</td>\n",
       "      <td>304,156</td>\n",
       "      <td>456,953</td>\n",
       "    </tr>\n",
       "    <tr>\n",
       "      <th>Moderate</th>\n",
       "      <td>303,472</td>\n",
       "      <td>61,004</td>\n",
       "      <td>129,794</td>\n",
       "    </tr>\n",
       "    <tr>\n",
       "      <th>Heavy</th>\n",
       "      <td>142,093</td>\n",
       "      <td>51,899</td>\n",
       "      <td>117,574</td>\n",
       "    </tr>\n",
       "    <tr>\n",
       "      <th>Severe</th>\n",
       "      <td>18,351</td>\n",
       "      <td>23,855</td>\n",
       "      <td>48,574</td>\n",
       "    </tr>\n",
       "    <tr>\n",
       "      <th>Total</th>\n",
       "      <td>1,541,882</td>\n",
       "      <td>440,914</td>\n",
       "      <td>752,895</td>\n",
       "    </tr>\n",
       "  </tbody>\n",
       "</table>\n",
       "</div>"
      ],
      "text/plain": [
       "               T-1     T-2  Other Routes\n",
       "Light    1,077,966 304,156       456,953\n",
       "Moderate   303,472  61,004       129,794\n",
       "Heavy      142,093  51,899       117,574\n",
       "Severe      18,351  23,855        48,574\n",
       "Total    1,541,882 440,914       752,895"
      ]
     },
     "execution_count": 22,
     "metadata": {},
     "output_type": "execute_result"
    }
   ],
   "source": [
    "pd.options.display.float_format = '{:0,.0f}'.format\n",
    "# Congested Miles on FGTS versus other Routes\n",
    "df['Medium and Heavy Trucks'] = df['@hveh']+df['@mveh']\n",
    "\n",
    "_df = df[df['tod'].isin(['15to16','16to17','17to18'])]\n",
    "_df = _df.pivot_table(index='congestion_category',columns='@fgts',\n",
    "               aggfunc='sum',values='Medium and Heavy Trucks')\n",
    "_df = _df.reindex(['Light','Moderate','Heavy','Severe'])\n",
    "_df.index.name = None\n",
    "_df.columns.name = None\n",
    "_df.rename(columns={0:'Other Routes', 1: 'T-1', 2: 'T-2'}, inplace=True)\n",
    "_df_ = _df.copy()\n",
    "_df.loc['Total',:] = _df.sum()\n",
    "_df = _df[['T-1','T-2','Other Routes']]\n",
    "_df"
   ]
  },
  {
   "cell_type": "code",
   "execution_count": 23,
   "id": "3220e398",
   "metadata": {
    "execution": {
     "iopub.execute_input": "2025-08-06T20:41:30.370305Z",
     "iopub.status.busy": "2025-08-06T20:41:30.370305Z",
     "iopub.status.idle": "2025-08-06T20:41:30.378319Z",
     "shell.execute_reply": "2025-08-06T20:41:30.378319Z"
    }
   },
   "outputs": [
    {
     "data": {
      "text/html": [
       "<div>\n",
       "<style scoped>\n",
       "    .dataframe tbody tr th:only-of-type {\n",
       "        vertical-align: middle;\n",
       "    }\n",
       "\n",
       "    .dataframe tbody tr th {\n",
       "        vertical-align: top;\n",
       "    }\n",
       "\n",
       "    .dataframe thead th {\n",
       "        text-align: right;\n",
       "    }\n",
       "</style>\n",
       "<table border=\"1\" class=\"dataframe\">\n",
       "  <thead>\n",
       "    <tr style=\"text-align: right;\">\n",
       "      <th></th>\n",
       "      <th>Other Routes</th>\n",
       "      <th>T-1</th>\n",
       "      <th>T-2</th>\n",
       "    </tr>\n",
       "  </thead>\n",
       "  <tbody>\n",
       "    <tr>\n",
       "      <th>Light</th>\n",
       "      <td>60.7%</td>\n",
       "      <td>69.9%</td>\n",
       "      <td>69.0%</td>\n",
       "    </tr>\n",
       "    <tr>\n",
       "      <th>Moderate</th>\n",
       "      <td>17.2%</td>\n",
       "      <td>19.7%</td>\n",
       "      <td>13.8%</td>\n",
       "    </tr>\n",
       "    <tr>\n",
       "      <th>Heavy</th>\n",
       "      <td>15.6%</td>\n",
       "      <td>9.2%</td>\n",
       "      <td>11.8%</td>\n",
       "    </tr>\n",
       "    <tr>\n",
       "      <th>Severe</th>\n",
       "      <td>6.5%</td>\n",
       "      <td>1.2%</td>\n",
       "      <td>5.4%</td>\n",
       "    </tr>\n",
       "  </tbody>\n",
       "</table>\n",
       "</div>"
      ],
      "text/plain": [
       "          Other Routes   T-1   T-2\n",
       "Light            60.7% 69.9% 69.0%\n",
       "Moderate         17.2% 19.7% 13.8%\n",
       "Heavy            15.6%  9.2% 11.8%\n",
       "Severe            6.5%  1.2%  5.4%"
      ]
     },
     "execution_count": 23,
     "metadata": {},
     "output_type": "execute_result"
    }
   ],
   "source": [
    "pd.options.display.float_format = '{:0,.1%}'.format\n",
    "_df_/_df_.sum()"
   ]
  },
  {
   "cell_type": "raw",
   "id": "7c6afe36",
   "metadata": {
    "vscode": {
     "languageId": "raw"
    }
   },
   "source": [
    ":::"
   ]
  },
  {
   "cell_type": "markdown",
   "id": "9f8beadf",
   "metadata": {},
   "source": [
    "## Equity\n",
    "\n",
    "### Households Within 500' of Heavy Truck Volumes\n",
    "\n",
    "Total number of households within 500' of T-1 and T-2 routes\n",
    "\n",
    "- T-1: More than 10 million tons per year\n",
    "\n",
    "- T-2: 2 4 million to 10 million tons per year"
   ]
  },
  {
   "cell_type": "code",
   "execution_count": null,
   "id": "6cda92ce",
   "metadata": {},
   "outputs": [],
   "source": []
  },
  {
   "cell_type": "code",
   "execution_count": 24,
   "id": "9f43f2e1",
   "metadata": {
    "execution": {
     "iopub.execute_input": "2025-08-06T20:41:30.380328Z",
     "iopub.status.busy": "2025-08-06T20:41:30.380328Z",
     "iopub.status.idle": "2025-08-06T20:41:55.742785Z",
     "shell.execute_reply": "2025-08-06T20:41:55.741723Z"
    }
   },
   "outputs": [],
   "source": [
    "import polars as pl\n",
    "\n",
    "# Intersect buffer with land use file\n",
    "df_lu = pl.read_csv(r'..\\..\\..\\..\\outputs\\landuse\\parcels_urbansim.txt', separator=' ').to_pandas()\n",
    "\n",
    "# Load as a geodataframe\n",
    "gdf_lu = gpd.GeoDataFrame(\n",
    "    df_lu, geometry=gpd.points_from_xy(df_lu.xcoord_p, df_lu.ycoord_p))\n",
    "# Set the coordinate reference system (CRS) to match the land use data\n",
    "gdf_lu.crs = 'EPSG:2285'\n",
    "\n",
    "# Buffer the parcels at 500ft\n",
    "gdf_lu['geometry'] = gdf_lu.buffer(500)"
   ]
  },
  {
   "cell_type": "code",
   "execution_count": 25,
   "id": "be848493",
   "metadata": {
    "execution": {
     "iopub.execute_input": "2025-08-06T20:41:55.746523Z",
     "iopub.status.busy": "2025-08-06T20:41:55.745513Z",
     "iopub.status.idle": "2025-08-06T20:42:20.348674Z",
     "shell.execute_reply": "2025-08-06T20:42:20.348674Z"
    }
   },
   "outputs": [],
   "source": [
    "\n",
    "# Intersect this geography  with the network shapefile\n",
    "gdf_network = gpd.read_file(r'..\\..\\..\\..\\inputs\\scenario\\networks\\shapefiles\\AM\\AM_edges.shp')\n",
    "# Do not include connectors since these are abstracted ul3==5; also remove weave links ul3==0 \n",
    "gdf_network = gdf_network[~gdf_network.ul3.isin([0,5])]\n",
    "# Truck network links are those that are in FGTS 1 or 2 system\n",
    "gdf_network = gdf_network[gdf_network['FGTS'].isin([1,2])]\n",
    "\n",
    "gdf_intersect = gpd.overlay(gdf_network, gdf_lu, how=\"intersection\", keep_geom_type=False)\n",
    "\n",
    "# Will need to relaculate the lengths since some were split across the regional geographies\n",
    "gdf_intersect['new_length'] = gdf_intersect.geometry.length/5280.0\n",
    "\n",
    "# filter out the polygon results and only keep lines\n",
    "gdf_intersect = gdf_intersect[gdf_intersect.geometry.type.isin(['MultiLineString','LineString'])]"
   ]
  },
  {
   "cell_type": "code",
   "execution_count": 26,
   "id": "64a3ffd0",
   "metadata": {
    "execution": {
     "iopub.execute_input": "2025-08-06T20:42:20.352188Z",
     "iopub.status.busy": "2025-08-06T20:42:20.352188Z",
     "iopub.status.idle": "2025-08-06T20:42:43.104435Z",
     "shell.execute_reply": "2025-08-06T20:42:43.103916Z"
    }
   },
   "outputs": [],
   "source": [
    "truck_parcels = gdf_intersect.groupby('parcelid').first()[['hh_p']].reset_index()\n",
    "\n",
    "\n",
    "# Result should be the network components with some flags for the parcelid\n",
    "# We can take the parcel information, join with parcel info and group\n",
    "# from input_configuration import base_year\n",
    "import toml\n",
    "config = toml.load(os.path.join(os.getcwd(),r'../../../../configuration/input_configuration.toml'))\n",
    "\n",
    "parcel_geog = pd.read_sql_table('parcel_'+config['base_year']+'_geography', 'sqlite:///../../../../inputs/db/'+config['db_name'])\n",
    "df = truck_parcels.merge(parcel_geog,left_on='parcelid', right_on='ParcelID')"
   ]
  },
  {
   "cell_type": "code",
   "execution_count": 27,
   "id": "d835af1a",
   "metadata": {
    "execution": {
     "iopub.execute_input": "2025-08-06T20:42:43.107562Z",
     "iopub.status.busy": "2025-08-06T20:42:43.107044Z",
     "iopub.status.idle": "2025-08-06T20:42:43.134758Z",
     "shell.execute_reply": "2025-08-06T20:42:43.134253Z"
    }
   },
   "outputs": [],
   "source": [
    "# Get the total number of households that in equtiy geograhpies\n",
    "# Comprae the percent of those that are in the buffer versus those that are not\n",
    "# For the 4 equity groups, perform the calc and add as a table\n",
    "results_df = pd.DataFrame()\n",
    "for col, name in {'equity_focus_areas_2023__efa_poc': 'People of Color',\n",
    "                      'equity_focus_areas_2023__efa_pov200': 'Poverty',\n",
    "                        'equity_focus_areas_2023__efa_lep': 'LEP',\n",
    "                        'equity_focus_areas_2023__efa_dis': 'Disability',\n",
    "                      'equity_focus_areas_2023__efa_older': 'Older',\n",
    "                      'equity_focus_areas_2023__efa_youth': 'Youth',\n",
    "                  }.items():\n",
    "    _df = df[[col,'hh_p']].groupby(col).sum()[['hh_p']]\n",
    "    _df['equity_group'] = name\n",
    "    results_df = pd.concat([results_df,_df])\n",
    "results_df = results_df.reset_index()\n",
    "results_df = results_df[results_df['index']>=0]"
   ]
  },
  {
   "cell_type": "markdown",
   "id": "c4e72351",
   "metadata": {
    "vscode": {
     "languageId": "raw"
    }
   },
   "source": [
    "### Total Households Within 500' of T-1/T-2 Routes by Equity Group"
   ]
  },
  {
   "cell_type": "raw",
   "id": "78c87050",
   "metadata": {
    "vscode": {
     "languageId": "raw"
    }
   },
   "source": [
    ":::{.panel-tabset}\n",
    "### Values"
   ]
  },
  {
   "cell_type": "code",
   "execution_count": 28,
   "id": "f248a641",
   "metadata": {
    "execution": {
     "iopub.execute_input": "2025-08-06T20:42:43.136762Z",
     "iopub.status.busy": "2025-08-06T20:42:43.136762Z",
     "iopub.status.idle": "2025-08-06T20:42:43.151856Z",
     "shell.execute_reply": "2025-08-06T20:42:43.151353Z"
    }
   },
   "outputs": [
    {
     "data": {
      "text/html": [
       "<div>\n",
       "<style scoped>\n",
       "    .dataframe tbody tr th:only-of-type {\n",
       "        vertical-align: middle;\n",
       "    }\n",
       "\n",
       "    .dataframe tbody tr th {\n",
       "        vertical-align: top;\n",
       "    }\n",
       "\n",
       "    .dataframe thead th {\n",
       "        text-align: right;\n",
       "    }\n",
       "</style>\n",
       "<table border=\"1\" class=\"dataframe\">\n",
       "  <thead>\n",
       "    <tr style=\"text-align: right;\">\n",
       "      <th>equity_group</th>\n",
       "      <th>Disability</th>\n",
       "      <th>LEP</th>\n",
       "      <th>Older</th>\n",
       "      <th>People of Color</th>\n",
       "      <th>Poverty</th>\n",
       "      <th>Youth</th>\n",
       "    </tr>\n",
       "    <tr>\n",
       "      <th>index</th>\n",
       "      <th></th>\n",
       "      <th></th>\n",
       "      <th></th>\n",
       "      <th></th>\n",
       "      <th></th>\n",
       "      <th></th>\n",
       "    </tr>\n",
       "  </thead>\n",
       "  <tbody>\n",
       "    <tr>\n",
       "      <th>Below Regional Average</th>\n",
       "      <td>96,729</td>\n",
       "      <td>105,618</td>\n",
       "      <td>118,343</td>\n",
       "      <td>75,091</td>\n",
       "      <td>91,169</td>\n",
       "      <td>124,528</td>\n",
       "    </tr>\n",
       "    <tr>\n",
       "      <th>Above Regional Average</th>\n",
       "      <td>56,908</td>\n",
       "      <td>41,623</td>\n",
       "      <td>53,783</td>\n",
       "      <td>65,912</td>\n",
       "      <td>56,922</td>\n",
       "      <td>45,724</td>\n",
       "    </tr>\n",
       "    <tr>\n",
       "      <th>Higher Share of Equity Population</th>\n",
       "      <td>33,259</td>\n",
       "      <td>39,655</td>\n",
       "      <td>14,770</td>\n",
       "      <td>45,893</td>\n",
       "      <td>38,805</td>\n",
       "      <td>16,644</td>\n",
       "    </tr>\n",
       "    <tr>\n",
       "      <th>Region</th>\n",
       "      <td>186,896</td>\n",
       "      <td>186,896</td>\n",
       "      <td>186,896</td>\n",
       "      <td>186,896</td>\n",
       "      <td>186,896</td>\n",
       "      <td>186,896</td>\n",
       "    </tr>\n",
       "  </tbody>\n",
       "</table>\n",
       "</div>"
      ],
      "text/plain": [
       "equity_group                       Disability     LEP   Older  \\\n",
       "index                                                           \n",
       "Below Regional Average                 96,729 105,618 118,343   \n",
       "Above Regional Average                 56,908  41,623  53,783   \n",
       "Higher Share of Equity Population      33,259  39,655  14,770   \n",
       "Region                                186,896 186,896 186,896   \n",
       "\n",
       "equity_group                       People of Color  Poverty   Youth  \n",
       "index                                                                \n",
       "Below Regional Average                      75,091   91,169 124,528  \n",
       "Above Regional Average                      65,912   56,922  45,724  \n",
       "Higher Share of Equity Population           45,893   38,805  16,644  \n",
       "Region                                     186,896  186,896 186,896  "
      ]
     },
     "execution_count": 28,
     "metadata": {},
     "output_type": "execute_result"
    }
   ],
   "source": [
    "_df = results_df.pivot_table(index='index', columns='equity_group', values='hh_p', aggfunc='sum')\n",
    "_df.index = _df.index.astype('int').map({0: 'Below Regional Average', \n",
    "                                1: 'Above Regional Average', \n",
    "                                2: 'Higher Share of Equity Population'}\n",
    "                                )\n",
    "pd.options.display.float_format = '{:0,.0f}'.format\n",
    "_df.loc['Region',:] = _df.sum(axis=0)\n",
    "_df.astype('float')"
   ]
  },
  {
   "cell_type": "raw",
   "id": "04bebd8d",
   "metadata": {
    "vscode": {
     "languageId": "raw"
    }
   },
   "source": [
    "### Shares"
   ]
  },
  {
   "cell_type": "code",
   "execution_count": 29,
   "id": "d9598460",
   "metadata": {
    "execution": {
     "iopub.execute_input": "2025-08-06T20:42:43.153861Z",
     "iopub.status.busy": "2025-08-06T20:42:43.153861Z",
     "iopub.status.idle": "2025-08-06T20:42:43.162090Z",
     "shell.execute_reply": "2025-08-06T20:42:43.162090Z"
    }
   },
   "outputs": [
    {
     "data": {
      "text/html": [
       "<div>\n",
       "<style scoped>\n",
       "    .dataframe tbody tr th:only-of-type {\n",
       "        vertical-align: middle;\n",
       "    }\n",
       "\n",
       "    .dataframe tbody tr th {\n",
       "        vertical-align: top;\n",
       "    }\n",
       "\n",
       "    .dataframe thead th {\n",
       "        text-align: right;\n",
       "    }\n",
       "</style>\n",
       "<table border=\"1\" class=\"dataframe\">\n",
       "  <thead>\n",
       "    <tr style=\"text-align: right;\">\n",
       "      <th>equity_group</th>\n",
       "      <th>Disability</th>\n",
       "      <th>LEP</th>\n",
       "      <th>Older</th>\n",
       "      <th>People of Color</th>\n",
       "      <th>Poverty</th>\n",
       "      <th>Youth</th>\n",
       "    </tr>\n",
       "    <tr>\n",
       "      <th>index</th>\n",
       "      <th></th>\n",
       "      <th></th>\n",
       "      <th></th>\n",
       "      <th></th>\n",
       "      <th></th>\n",
       "      <th></th>\n",
       "    </tr>\n",
       "  </thead>\n",
       "  <tbody>\n",
       "    <tr>\n",
       "      <th>Below Regional Average</th>\n",
       "      <td>51.8%</td>\n",
       "      <td>56.5%</td>\n",
       "      <td>63.3%</td>\n",
       "      <td>40.2%</td>\n",
       "      <td>48.8%</td>\n",
       "      <td>66.6%</td>\n",
       "    </tr>\n",
       "    <tr>\n",
       "      <th>Above Regional Average</th>\n",
       "      <td>30.4%</td>\n",
       "      <td>22.3%</td>\n",
       "      <td>28.8%</td>\n",
       "      <td>35.3%</td>\n",
       "      <td>30.5%</td>\n",
       "      <td>24.5%</td>\n",
       "    </tr>\n",
       "    <tr>\n",
       "      <th>Higher Share of Equity Population</th>\n",
       "      <td>17.8%</td>\n",
       "      <td>21.2%</td>\n",
       "      <td>7.9%</td>\n",
       "      <td>24.6%</td>\n",
       "      <td>20.8%</td>\n",
       "      <td>8.9%</td>\n",
       "    </tr>\n",
       "  </tbody>\n",
       "</table>\n",
       "</div>"
      ],
      "text/plain": [
       "equity_group                       Disability   LEP  Older  People of Color  \\\n",
       "index                                                                         \n",
       "Below Regional Average                  51.8% 56.5%  63.3%            40.2%   \n",
       "Above Regional Average                  30.4% 22.3%  28.8%            35.3%   \n",
       "Higher Share of Equity Population       17.8% 21.2%   7.9%            24.6%   \n",
       "\n",
       "equity_group                       Poverty  Youth  \n",
       "index                                              \n",
       "Below Regional Average               48.8%  66.6%  \n",
       "Above Regional Average               30.5%  24.5%  \n",
       "Higher Share of Equity Population    20.8%   8.9%  "
      ]
     },
     "execution_count": 29,
     "metadata": {},
     "output_type": "execute_result"
    }
   ],
   "source": [
    "pd.options.display.float_format = '{:0,.1%}'.format\n",
    "_df.drop('Region')/_df.drop('Region').sum()"
   ]
  },
  {
   "cell_type": "raw",
   "id": "e7e9425f",
   "metadata": {
    "vscode": {
     "languageId": "raw"
    }
   },
   "source": [
    "### Percent of Total Households "
   ]
  },
  {
   "cell_type": "code",
   "execution_count": 30,
   "id": "6fc76036",
   "metadata": {
    "execution": {
     "iopub.execute_input": "2025-08-06T20:42:43.165095Z",
     "iopub.status.busy": "2025-08-06T20:42:43.165095Z",
     "iopub.status.idle": "2025-08-06T20:42:43.846362Z",
     "shell.execute_reply": "2025-08-06T20:42:43.845857Z"
    }
   },
   "outputs": [
    {
     "data": {
      "text/html": [
       "<div>\n",
       "<style scoped>\n",
       "    .dataframe tbody tr th:only-of-type {\n",
       "        vertical-align: middle;\n",
       "    }\n",
       "\n",
       "    .dataframe tbody tr th {\n",
       "        vertical-align: top;\n",
       "    }\n",
       "\n",
       "    .dataframe thead th {\n",
       "        text-align: right;\n",
       "    }\n",
       "</style>\n",
       "<table border=\"1\" class=\"dataframe\">\n",
       "  <thead>\n",
       "    <tr style=\"text-align: right;\">\n",
       "      <th></th>\n",
       "      <th>Disability</th>\n",
       "      <th>LEP</th>\n",
       "      <th>Older</th>\n",
       "      <th>People of Color</th>\n",
       "      <th>Poverty</th>\n",
       "      <th>Youth</th>\n",
       "    </tr>\n",
       "  </thead>\n",
       "  <tbody>\n",
       "    <tr>\n",
       "      <th>Below Regional Average</th>\n",
       "      <td>10.3%</td>\n",
       "      <td>9.7%</td>\n",
       "      <td>13.0%</td>\n",
       "      <td>8.0%</td>\n",
       "      <td>8.8%</td>\n",
       "      <td>13.1%</td>\n",
       "    </tr>\n",
       "    <tr>\n",
       "      <th>Above Regional Average</th>\n",
       "      <td>10.8%</td>\n",
       "      <td>11.7%</td>\n",
       "      <td>9.1%</td>\n",
       "      <td>13.2%</td>\n",
       "      <td>12.8%</td>\n",
       "      <td>8.1%</td>\n",
       "    </tr>\n",
       "    <tr>\n",
       "      <th>Higher Share of Equity Population</th>\n",
       "      <td>12.5%</td>\n",
       "      <td>13.8%</td>\n",
       "      <td>6.3%</td>\n",
       "      <td>15.7%</td>\n",
       "      <td>15.6%</td>\n",
       "      <td>7.7%</td>\n",
       "    </tr>\n",
       "    <tr>\n",
       "      <th>Total Households</th>\n",
       "      <td>10.8%</td>\n",
       "      <td>10.8%</td>\n",
       "      <td>10.8%</td>\n",
       "      <td>10.8%</td>\n",
       "      <td>10.8%</td>\n",
       "      <td>10.8%</td>\n",
       "    </tr>\n",
       "  </tbody>\n",
       "</table>\n",
       "</div>"
      ],
      "text/plain": [
       "                                   Disability   LEP  Older  People of Color  \\\n",
       "Below Regional Average                  10.3%  9.7%  13.0%             8.0%   \n",
       "Above Regional Average                  10.8% 11.7%   9.1%            13.2%   \n",
       "Higher Share of Equity Population       12.5% 13.8%   6.3%            15.7%   \n",
       "Total Households                        10.8% 10.8%  10.8%            10.8%   \n",
       "\n",
       "                                   Poverty  Youth  \n",
       "Below Regional Average                8.8%  13.1%  \n",
       "Above Regional Average               12.8%   8.1%  \n",
       "Higher Share of Equity Population    15.6%   7.7%  \n",
       "Total Households                     10.8%  10.8%  "
      ]
     },
     "execution_count": 30,
     "metadata": {},
     "output_type": "execute_result"
    }
   ],
   "source": [
    "_df = results_df[[\"equity_group\",\"hh_p\",\"index\"]].pivot_table(index='equity_group',columns='index',values='hh_p')\n",
    "_df.rename(columns={0: 'Below Regional Average', \n",
    "                                1: 'Above Regional Average', \n",
    "                                2: 'Higher Share of Equity Population'}, inplace=True)\n",
    "_df.index.name = None\n",
    "_df.columns.name = None\n",
    "_df['Total Households'] = _df.sum(axis=1)\n",
    "_df_buffer = _df.copy()\n",
    "\n",
    "df_lu_tot = df_lu[['parcelid','hh_p']].merge(parcel_geog,left_on='parcelid', right_on='ParcelID')\n",
    "df_lu_tot['Region'] = 1\n",
    "results_df_tot = pd.DataFrame()\n",
    "for col, name in {'equity_focus_areas_2023__efa_poc': 'People of Color',\n",
    "                      'equity_focus_areas_2023__efa_pov200': 'Poverty',\n",
    "                        'equity_focus_areas_2023__efa_lep': 'LEP',\n",
    "                        'equity_focus_areas_2023__efa_dis': 'Disability',\n",
    "                      'equity_focus_areas_2023__efa_older': 'Older',\n",
    "                      'equity_focus_areas_2023__efa_youth': 'Youth',\n",
    "                  'Region': 'Region'\n",
    "                  }.items():\n",
    "    _df = df_lu_tot[['hh_p',col]].groupby(col).sum()[['hh_p']]\n",
    "    _df['equity_group'] = name\n",
    "    results_df_tot = pd.concat([results_df_tot, _df])\n",
    "results_df_tot = results_df_tot.reset_index()\n",
    "pd.options.display.float_format = '{:0,.0f}'.format\n",
    "\n",
    "_df = results_df_tot.pivot_table(index='equity_group',columns='index',values='hh_p')\n",
    "_df.rename(columns={0: 'Below Regional Average', \n",
    "                                1: 'Above Regional Average', \n",
    "                                2: 'Higher Share of Equity Population'}, inplace=True)\n",
    "_df.index.name = None\n",
    "_df.columns.name = None\n",
    "_df['Total Households'] = _df.sum(axis=1)\n",
    "_df_tot = _df.copy()\n",
    "_df = _df_tot.merge(_df_buffer, left_index=True, right_index=True, suffixes=['_tot','_buffer'])\n",
    "\n",
    "pd.options.display.float_format = '{:0,.1%}'.format\n",
    "efa_list = ['Below Regional Average', 'Above Regional Average','Higher Share of Equity Population', 'Total Households']\n",
    "for efa in efa_list:\n",
    "    _df[efa] = _df[f'{efa}_buffer']/_df[f'{efa}_tot']\n",
    "_df[efa_list].T\n"
   ]
  },
  {
   "cell_type": "raw",
   "id": "486bbd5b",
   "metadata": {
    "vscode": {
     "languageId": "raw"
    }
   },
   "source": [
    ":::"
   ]
  }
 ],
 "metadata": {
  "kernelspec": {
   "display_name": "summary",
   "language": "python",
   "name": "python3"
  },
  "language_info": {
   "codemirror_mode": {
    "name": "ipython",
    "version": 3
   },
   "file_extension": ".py",
   "mimetype": "text/x-python",
   "name": "python",
   "nbconvert_exporter": "python",
   "pygments_lexer": "ipython3",
   "version": "3.11.12"
  }
 },
 "nbformat": 4,
 "nbformat_minor": 5
}
